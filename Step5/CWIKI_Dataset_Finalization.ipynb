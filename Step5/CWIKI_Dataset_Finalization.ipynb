{
  "nbformat": 4,
  "nbformat_minor": 0,
  "metadata": {
    "colab": {
      "provenance": [],
      "toc_visible": true,
      "mount_file_id": "1aqT68upylA6YXAYC2cSom82Oku9aecxt",
      "authorship_tag": "ABX9TyOCxI4rddiqKBJz2cy/fMDT",
      "include_colab_link": true
    },
    "kernelspec": {
      "name": "python3",
      "display_name": "Python 3"
    },
    "language_info": {
      "name": "python"
    }
  },
  "cells": [
    {
      "cell_type": "markdown",
      "metadata": {
        "id": "view-in-github",
        "colab_type": "text"
      },
      "source": [
        "<a href=\"https://colab.research.google.com/github/gizdatalab/CPU/blob/main/Step5/CWIKI_Dataset_Finalization.ipynb\" target=\"_parent\"><img src=\"https://colab.research.google.com/assets/colab-badge.svg\" alt=\"Open In Colab\"/></a>"
      ]
    },
    {
      "cell_type": "markdown",
      "source": [
        "In this notebook we will normalize the dataset, final cleaning and refinement and give it a  final shape."
      ],
      "metadata": {
        "id": "0tf1tVmP-V0O"
      }
    },
    {
      "cell_type": "markdown",
      "source": [
        "# Helper Functions"
      ],
      "metadata": {
        "id": "TVD8kTMYEqTt"
      }
    },
    {
      "cell_type": "code",
      "source": [
        "# install language models from spacy\n",
        "! python -m spacy download en_core_web_sm\n",
        "! python -m spacy download fr_core_news_sm\n",
        "! python -m spacy download es_core_news_sm"
      ],
      "metadata": {
        "colab": {
          "base_uri": "https://localhost:8080/"
        },
        "id": "cF4jIJ4WHbwr",
        "outputId": "1047d092-5f7a-4987-bcae-fc9eb72ed1cb"
      },
      "execution_count": null,
      "outputs": [
        {
          "output_type": "stream",
          "name": "stdout",
          "text": [
            "2024-01-06 09:11:35.882493: E external/local_xla/xla/stream_executor/cuda/cuda_dnn.cc:9261] Unable to register cuDNN factory: Attempting to register factory for plugin cuDNN when one has already been registered\n",
            "2024-01-06 09:11:35.882548: E external/local_xla/xla/stream_executor/cuda/cuda_fft.cc:607] Unable to register cuFFT factory: Attempting to register factory for plugin cuFFT when one has already been registered\n",
            "2024-01-06 09:11:35.884566: E external/local_xla/xla/stream_executor/cuda/cuda_blas.cc:1515] Unable to register cuBLAS factory: Attempting to register factory for plugin cuBLAS when one has already been registered\n",
            "2024-01-06 09:11:35.896947: I tensorflow/core/platform/cpu_feature_guard.cc:182] This TensorFlow binary is optimized to use available CPU instructions in performance-critical operations.\n",
            "To enable the following instructions: AVX2 FMA, in other operations, rebuild TensorFlow with the appropriate compiler flags.\n",
            "2024-01-06 09:11:37.989918: W tensorflow/compiler/tf2tensorrt/utils/py_utils.cc:38] TF-TRT Warning: Could not find TensorRT\n",
            "2024-01-06 09:11:40.650445: I external/local_xla/xla/stream_executor/cuda/cuda_executor.cc:901] successful NUMA node read from SysFS had negative value (-1), but there must be at least one NUMA node, so returning NUMA node zero. See more at https://github.com/torvalds/linux/blob/v6.0/Documentation/ABI/testing/sysfs-bus-pci#L344-L355\n",
            "2024-01-06 09:11:40.651113: I external/local_xla/xla/stream_executor/cuda/cuda_executor.cc:901] successful NUMA node read from SysFS had negative value (-1), but there must be at least one NUMA node, so returning NUMA node zero. See more at https://github.com/torvalds/linux/blob/v6.0/Documentation/ABI/testing/sysfs-bus-pci#L344-L355\n",
            "2024-01-06 09:11:40.651375: I external/local_xla/xla/stream_executor/cuda/cuda_executor.cc:901] successful NUMA node read from SysFS had negative value (-1), but there must be at least one NUMA node, so returning NUMA node zero. See more at https://github.com/torvalds/linux/blob/v6.0/Documentation/ABI/testing/sysfs-bus-pci#L344-L355\n",
            "Collecting en-core-web-sm==3.6.0\n",
            "  Downloading https://github.com/explosion/spacy-models/releases/download/en_core_web_sm-3.6.0/en_core_web_sm-3.6.0-py3-none-any.whl (12.8 MB)\n",
            "\u001b[2K     \u001b[90m━━━━━━━━━━━━━━━━━━━━━━━━━━━━━━━━━━━━━━━━\u001b[0m \u001b[32m12.8/12.8 MB\u001b[0m \u001b[31m21.3 MB/s\u001b[0m eta \u001b[36m0:00:00\u001b[0m\n",
            "\u001b[?25hRequirement already satisfied: spacy<3.7.0,>=3.6.0 in /usr/local/lib/python3.10/dist-packages (from en-core-web-sm==3.6.0) (3.6.1)\n",
            "Requirement already satisfied: spacy-legacy<3.1.0,>=3.0.11 in /usr/local/lib/python3.10/dist-packages (from spacy<3.7.0,>=3.6.0->en-core-web-sm==3.6.0) (3.0.12)\n",
            "Requirement already satisfied: spacy-loggers<2.0.0,>=1.0.0 in /usr/local/lib/python3.10/dist-packages (from spacy<3.7.0,>=3.6.0->en-core-web-sm==3.6.0) (1.0.5)\n",
            "Requirement already satisfied: murmurhash<1.1.0,>=0.28.0 in /usr/local/lib/python3.10/dist-packages (from spacy<3.7.0,>=3.6.0->en-core-web-sm==3.6.0) (1.0.10)\n",
            "Requirement already satisfied: cymem<2.1.0,>=2.0.2 in /usr/local/lib/python3.10/dist-packages (from spacy<3.7.0,>=3.6.0->en-core-web-sm==3.6.0) (2.0.8)\n",
            "Requirement already satisfied: preshed<3.1.0,>=3.0.2 in /usr/local/lib/python3.10/dist-packages (from spacy<3.7.0,>=3.6.0->en-core-web-sm==3.6.0) (3.0.9)\n",
            "Requirement already satisfied: thinc<8.2.0,>=8.1.8 in /usr/local/lib/python3.10/dist-packages (from spacy<3.7.0,>=3.6.0->en-core-web-sm==3.6.0) (8.1.12)\n",
            "Requirement already satisfied: wasabi<1.2.0,>=0.9.1 in /usr/local/lib/python3.10/dist-packages (from spacy<3.7.0,>=3.6.0->en-core-web-sm==3.6.0) (1.1.2)\n",
            "Requirement already satisfied: srsly<3.0.0,>=2.4.3 in /usr/local/lib/python3.10/dist-packages (from spacy<3.7.0,>=3.6.0->en-core-web-sm==3.6.0) (2.4.8)\n",
            "Requirement already satisfied: catalogue<2.1.0,>=2.0.6 in /usr/local/lib/python3.10/dist-packages (from spacy<3.7.0,>=3.6.0->en-core-web-sm==3.6.0) (2.0.10)\n",
            "Requirement already satisfied: typer<0.10.0,>=0.3.0 in /usr/local/lib/python3.10/dist-packages (from spacy<3.7.0,>=3.6.0->en-core-web-sm==3.6.0) (0.9.0)\n",
            "Requirement already satisfied: pathy>=0.10.0 in /usr/local/lib/python3.10/dist-packages (from spacy<3.7.0,>=3.6.0->en-core-web-sm==3.6.0) (0.10.3)\n",
            "Requirement already satisfied: smart-open<7.0.0,>=5.2.1 in /usr/local/lib/python3.10/dist-packages (from spacy<3.7.0,>=3.6.0->en-core-web-sm==3.6.0) (6.4.0)\n",
            "Requirement already satisfied: tqdm<5.0.0,>=4.38.0 in /usr/local/lib/python3.10/dist-packages (from spacy<3.7.0,>=3.6.0->en-core-web-sm==3.6.0) (4.66.1)\n",
            "Requirement already satisfied: numpy>=1.15.0 in /usr/local/lib/python3.10/dist-packages (from spacy<3.7.0,>=3.6.0->en-core-web-sm==3.6.0) (1.23.5)\n",
            "Requirement already satisfied: requests<3.0.0,>=2.13.0 in /usr/local/lib/python3.10/dist-packages (from spacy<3.7.0,>=3.6.0->en-core-web-sm==3.6.0) (2.31.0)\n",
            "Requirement already satisfied: pydantic!=1.8,!=1.8.1,<3.0.0,>=1.7.4 in /usr/local/lib/python3.10/dist-packages (from spacy<3.7.0,>=3.6.0->en-core-web-sm==3.6.0) (1.10.13)\n",
            "Requirement already satisfied: jinja2 in /usr/local/lib/python3.10/dist-packages (from spacy<3.7.0,>=3.6.0->en-core-web-sm==3.6.0) (3.1.2)\n",
            "Requirement already satisfied: setuptools in /usr/local/lib/python3.10/dist-packages (from spacy<3.7.0,>=3.6.0->en-core-web-sm==3.6.0) (67.7.2)\n",
            "Requirement already satisfied: packaging>=20.0 in /usr/local/lib/python3.10/dist-packages (from spacy<3.7.0,>=3.6.0->en-core-web-sm==3.6.0) (23.2)\n",
            "Requirement already satisfied: langcodes<4.0.0,>=3.2.0 in /usr/local/lib/python3.10/dist-packages (from spacy<3.7.0,>=3.6.0->en-core-web-sm==3.6.0) (3.3.0)\n",
            "Requirement already satisfied: typing-extensions>=4.2.0 in /usr/local/lib/python3.10/dist-packages (from pydantic!=1.8,!=1.8.1,<3.0.0,>=1.7.4->spacy<3.7.0,>=3.6.0->en-core-web-sm==3.6.0) (4.5.0)\n",
            "Requirement already satisfied: charset-normalizer<4,>=2 in /usr/local/lib/python3.10/dist-packages (from requests<3.0.0,>=2.13.0->spacy<3.7.0,>=3.6.0->en-core-web-sm==3.6.0) (3.3.2)\n",
            "Requirement already satisfied: idna<4,>=2.5 in /usr/local/lib/python3.10/dist-packages (from requests<3.0.0,>=2.13.0->spacy<3.7.0,>=3.6.0->en-core-web-sm==3.6.0) (3.6)\n",
            "Requirement already satisfied: urllib3<3,>=1.21.1 in /usr/local/lib/python3.10/dist-packages (from requests<3.0.0,>=2.13.0->spacy<3.7.0,>=3.6.0->en-core-web-sm==3.6.0) (2.0.7)\n",
            "Requirement already satisfied: certifi>=2017.4.17 in /usr/local/lib/python3.10/dist-packages (from requests<3.0.0,>=2.13.0->spacy<3.7.0,>=3.6.0->en-core-web-sm==3.6.0) (2023.11.17)\n",
            "Requirement already satisfied: blis<0.8.0,>=0.7.8 in /usr/local/lib/python3.10/dist-packages (from thinc<8.2.0,>=8.1.8->spacy<3.7.0,>=3.6.0->en-core-web-sm==3.6.0) (0.7.11)\n",
            "Requirement already satisfied: confection<1.0.0,>=0.0.1 in /usr/local/lib/python3.10/dist-packages (from thinc<8.2.0,>=8.1.8->spacy<3.7.0,>=3.6.0->en-core-web-sm==3.6.0) (0.1.4)\n",
            "Requirement already satisfied: click<9.0.0,>=7.1.1 in /usr/local/lib/python3.10/dist-packages (from typer<0.10.0,>=0.3.0->spacy<3.7.0,>=3.6.0->en-core-web-sm==3.6.0) (8.1.7)\n",
            "Requirement already satisfied: MarkupSafe>=2.0 in /usr/local/lib/python3.10/dist-packages (from jinja2->spacy<3.7.0,>=3.6.0->en-core-web-sm==3.6.0) (2.1.3)\n",
            "\u001b[38;5;2m✔ Download and installation successful\u001b[0m\n",
            "You can now load the package via spacy.load('en_core_web_sm')\n",
            "2024-01-06 09:12:02.116922: E external/local_xla/xla/stream_executor/cuda/cuda_dnn.cc:9261] Unable to register cuDNN factory: Attempting to register factory for plugin cuDNN when one has already been registered\n",
            "2024-01-06 09:12:02.116978: E external/local_xla/xla/stream_executor/cuda/cuda_fft.cc:607] Unable to register cuFFT factory: Attempting to register factory for plugin cuFFT when one has already been registered\n",
            "2024-01-06 09:12:02.118789: E external/local_xla/xla/stream_executor/cuda/cuda_blas.cc:1515] Unable to register cuBLAS factory: Attempting to register factory for plugin cuBLAS when one has already been registered\n",
            "2024-01-06 09:12:02.158591: I tensorflow/core/platform/cpu_feature_guard.cc:182] This TensorFlow binary is optimized to use available CPU instructions in performance-critical operations.\n",
            "To enable the following instructions: AVX2 FMA, in other operations, rebuild TensorFlow with the appropriate compiler flags.\n",
            "2024-01-06 09:12:04.706918: W tensorflow/compiler/tf2tensorrt/utils/py_utils.cc:38] TF-TRT Warning: Could not find TensorRT\n",
            "2024-01-06 09:12:06.703036: I external/local_xla/xla/stream_executor/cuda/cuda_executor.cc:901] successful NUMA node read from SysFS had negative value (-1), but there must be at least one NUMA node, so returning NUMA node zero. See more at https://github.com/torvalds/linux/blob/v6.0/Documentation/ABI/testing/sysfs-bus-pci#L344-L355\n",
            "2024-01-06 09:12:06.703509: I external/local_xla/xla/stream_executor/cuda/cuda_executor.cc:901] successful NUMA node read from SysFS had negative value (-1), but there must be at least one NUMA node, so returning NUMA node zero. See more at https://github.com/torvalds/linux/blob/v6.0/Documentation/ABI/testing/sysfs-bus-pci#L344-L355\n",
            "2024-01-06 09:12:06.703695: I external/local_xla/xla/stream_executor/cuda/cuda_executor.cc:901] successful NUMA node read from SysFS had negative value (-1), but there must be at least one NUMA node, so returning NUMA node zero. See more at https://github.com/torvalds/linux/blob/v6.0/Documentation/ABI/testing/sysfs-bus-pci#L344-L355\n",
            "Collecting fr-core-news-sm==3.6.0\n",
            "  Downloading https://github.com/explosion/spacy-models/releases/download/fr_core_news_sm-3.6.0/fr_core_news_sm-3.6.0-py3-none-any.whl (16.3 MB)\n",
            "\u001b[2K     \u001b[90m━━━━━━━━━━━━━━━━━━━━━━━━━━━━━━━━━━━━━━━━\u001b[0m \u001b[32m16.3/16.3 MB\u001b[0m \u001b[31m37.2 MB/s\u001b[0m eta \u001b[36m0:00:00\u001b[0m\n",
            "\u001b[?25hRequirement already satisfied: spacy<3.7.0,>=3.6.0 in /usr/local/lib/python3.10/dist-packages (from fr-core-news-sm==3.6.0) (3.6.1)\n",
            "Requirement already satisfied: spacy-legacy<3.1.0,>=3.0.11 in /usr/local/lib/python3.10/dist-packages (from spacy<3.7.0,>=3.6.0->fr-core-news-sm==3.6.0) (3.0.12)\n",
            "Requirement already satisfied: spacy-loggers<2.0.0,>=1.0.0 in /usr/local/lib/python3.10/dist-packages (from spacy<3.7.0,>=3.6.0->fr-core-news-sm==3.6.0) (1.0.5)\n",
            "Requirement already satisfied: murmurhash<1.1.0,>=0.28.0 in /usr/local/lib/python3.10/dist-packages (from spacy<3.7.0,>=3.6.0->fr-core-news-sm==3.6.0) (1.0.10)\n",
            "Requirement already satisfied: cymem<2.1.0,>=2.0.2 in /usr/local/lib/python3.10/dist-packages (from spacy<3.7.0,>=3.6.0->fr-core-news-sm==3.6.0) (2.0.8)\n",
            "Requirement already satisfied: preshed<3.1.0,>=3.0.2 in /usr/local/lib/python3.10/dist-packages (from spacy<3.7.0,>=3.6.0->fr-core-news-sm==3.6.0) (3.0.9)\n",
            "Requirement already satisfied: thinc<8.2.0,>=8.1.8 in /usr/local/lib/python3.10/dist-packages (from spacy<3.7.0,>=3.6.0->fr-core-news-sm==3.6.0) (8.1.12)\n",
            "Requirement already satisfied: wasabi<1.2.0,>=0.9.1 in /usr/local/lib/python3.10/dist-packages (from spacy<3.7.0,>=3.6.0->fr-core-news-sm==3.6.0) (1.1.2)\n",
            "Requirement already satisfied: srsly<3.0.0,>=2.4.3 in /usr/local/lib/python3.10/dist-packages (from spacy<3.7.0,>=3.6.0->fr-core-news-sm==3.6.0) (2.4.8)\n",
            "Requirement already satisfied: catalogue<2.1.0,>=2.0.6 in /usr/local/lib/python3.10/dist-packages (from spacy<3.7.0,>=3.6.0->fr-core-news-sm==3.6.0) (2.0.10)\n",
            "Requirement already satisfied: typer<0.10.0,>=0.3.0 in /usr/local/lib/python3.10/dist-packages (from spacy<3.7.0,>=3.6.0->fr-core-news-sm==3.6.0) (0.9.0)\n",
            "Requirement already satisfied: pathy>=0.10.0 in /usr/local/lib/python3.10/dist-packages (from spacy<3.7.0,>=3.6.0->fr-core-news-sm==3.6.0) (0.10.3)\n",
            "Requirement already satisfied: smart-open<7.0.0,>=5.2.1 in /usr/local/lib/python3.10/dist-packages (from spacy<3.7.0,>=3.6.0->fr-core-news-sm==3.6.0) (6.4.0)\n",
            "Requirement already satisfied: tqdm<5.0.0,>=4.38.0 in /usr/local/lib/python3.10/dist-packages (from spacy<3.7.0,>=3.6.0->fr-core-news-sm==3.6.0) (4.66.1)\n",
            "Requirement already satisfied: numpy>=1.15.0 in /usr/local/lib/python3.10/dist-packages (from spacy<3.7.0,>=3.6.0->fr-core-news-sm==3.6.0) (1.23.5)\n",
            "Requirement already satisfied: requests<3.0.0,>=2.13.0 in /usr/local/lib/python3.10/dist-packages (from spacy<3.7.0,>=3.6.0->fr-core-news-sm==3.6.0) (2.31.0)\n",
            "Requirement already satisfied: pydantic!=1.8,!=1.8.1,<3.0.0,>=1.7.4 in /usr/local/lib/python3.10/dist-packages (from spacy<3.7.0,>=3.6.0->fr-core-news-sm==3.6.0) (1.10.13)\n",
            "Requirement already satisfied: jinja2 in /usr/local/lib/python3.10/dist-packages (from spacy<3.7.0,>=3.6.0->fr-core-news-sm==3.6.0) (3.1.2)\n",
            "Requirement already satisfied: setuptools in /usr/local/lib/python3.10/dist-packages (from spacy<3.7.0,>=3.6.0->fr-core-news-sm==3.6.0) (67.7.2)\n",
            "Requirement already satisfied: packaging>=20.0 in /usr/local/lib/python3.10/dist-packages (from spacy<3.7.0,>=3.6.0->fr-core-news-sm==3.6.0) (23.2)\n",
            "Requirement already satisfied: langcodes<4.0.0,>=3.2.0 in /usr/local/lib/python3.10/dist-packages (from spacy<3.7.0,>=3.6.0->fr-core-news-sm==3.6.0) (3.3.0)\n",
            "Requirement already satisfied: typing-extensions>=4.2.0 in /usr/local/lib/python3.10/dist-packages (from pydantic!=1.8,!=1.8.1,<3.0.0,>=1.7.4->spacy<3.7.0,>=3.6.0->fr-core-news-sm==3.6.0) (4.5.0)\n",
            "Requirement already satisfied: charset-normalizer<4,>=2 in /usr/local/lib/python3.10/dist-packages (from requests<3.0.0,>=2.13.0->spacy<3.7.0,>=3.6.0->fr-core-news-sm==3.6.0) (3.3.2)\n",
            "Requirement already satisfied: idna<4,>=2.5 in /usr/local/lib/python3.10/dist-packages (from requests<3.0.0,>=2.13.0->spacy<3.7.0,>=3.6.0->fr-core-news-sm==3.6.0) (3.6)\n",
            "Requirement already satisfied: urllib3<3,>=1.21.1 in /usr/local/lib/python3.10/dist-packages (from requests<3.0.0,>=2.13.0->spacy<3.7.0,>=3.6.0->fr-core-news-sm==3.6.0) (2.0.7)\n",
            "Requirement already satisfied: certifi>=2017.4.17 in /usr/local/lib/python3.10/dist-packages (from requests<3.0.0,>=2.13.0->spacy<3.7.0,>=3.6.0->fr-core-news-sm==3.6.0) (2023.11.17)\n",
            "Requirement already satisfied: blis<0.8.0,>=0.7.8 in /usr/local/lib/python3.10/dist-packages (from thinc<8.2.0,>=8.1.8->spacy<3.7.0,>=3.6.0->fr-core-news-sm==3.6.0) (0.7.11)\n",
            "Requirement already satisfied: confection<1.0.0,>=0.0.1 in /usr/local/lib/python3.10/dist-packages (from thinc<8.2.0,>=8.1.8->spacy<3.7.0,>=3.6.0->fr-core-news-sm==3.6.0) (0.1.4)\n",
            "Requirement already satisfied: click<9.0.0,>=7.1.1 in /usr/local/lib/python3.10/dist-packages (from typer<0.10.0,>=0.3.0->spacy<3.7.0,>=3.6.0->fr-core-news-sm==3.6.0) (8.1.7)\n",
            "Requirement already satisfied: MarkupSafe>=2.0 in /usr/local/lib/python3.10/dist-packages (from jinja2->spacy<3.7.0,>=3.6.0->fr-core-news-sm==3.6.0) (2.1.3)\n",
            "\u001b[38;5;2m✔ Download and installation successful\u001b[0m\n",
            "You can now load the package via spacy.load('fr_core_news_sm')\n",
            "2024-01-06 09:12:16.620812: E external/local_xla/xla/stream_executor/cuda/cuda_dnn.cc:9261] Unable to register cuDNN factory: Attempting to register factory for plugin cuDNN when one has already been registered\n",
            "2024-01-06 09:12:16.620870: E external/local_xla/xla/stream_executor/cuda/cuda_fft.cc:607] Unable to register cuFFT factory: Attempting to register factory for plugin cuFFT when one has already been registered\n",
            "2024-01-06 09:12:16.622646: E external/local_xla/xla/stream_executor/cuda/cuda_blas.cc:1515] Unable to register cuBLAS factory: Attempting to register factory for plugin cuBLAS when one has already been registered\n",
            "2024-01-06 09:12:16.632753: I tensorflow/core/platform/cpu_feature_guard.cc:182] This TensorFlow binary is optimized to use available CPU instructions in performance-critical operations.\n",
            "To enable the following instructions: AVX2 FMA, in other operations, rebuild TensorFlow with the appropriate compiler flags.\n",
            "2024-01-06 09:12:18.146445: W tensorflow/compiler/tf2tensorrt/utils/py_utils.cc:38] TF-TRT Warning: Could not find TensorRT\n",
            "2024-01-06 09:12:20.278696: I external/local_xla/xla/stream_executor/cuda/cuda_executor.cc:901] successful NUMA node read from SysFS had negative value (-1), but there must be at least one NUMA node, so returning NUMA node zero. See more at https://github.com/torvalds/linux/blob/v6.0/Documentation/ABI/testing/sysfs-bus-pci#L344-L355\n",
            "2024-01-06 09:12:20.279272: I external/local_xla/xla/stream_executor/cuda/cuda_executor.cc:901] successful NUMA node read from SysFS had negative value (-1), but there must be at least one NUMA node, so returning NUMA node zero. See more at https://github.com/torvalds/linux/blob/v6.0/Documentation/ABI/testing/sysfs-bus-pci#L344-L355\n",
            "2024-01-06 09:12:20.279496: I external/local_xla/xla/stream_executor/cuda/cuda_executor.cc:901] successful NUMA node read from SysFS had negative value (-1), but there must be at least one NUMA node, so returning NUMA node zero. See more at https://github.com/torvalds/linux/blob/v6.0/Documentation/ABI/testing/sysfs-bus-pci#L344-L355\n",
            "Collecting es-core-news-sm==3.6.0\n",
            "  Downloading https://github.com/explosion/spacy-models/releases/download/es_core_news_sm-3.6.0/es_core_news_sm-3.6.0-py3-none-any.whl (12.9 MB)\n",
            "\u001b[2K     \u001b[90m━━━━━━━━━━━━━━━━━━━━━━━━━━━━━━━━━━━━━━━━\u001b[0m \u001b[32m12.9/12.9 MB\u001b[0m \u001b[31m31.7 MB/s\u001b[0m eta \u001b[36m0:00:00\u001b[0m\n",
            "\u001b[?25hRequirement already satisfied: spacy<3.7.0,>=3.6.0 in /usr/local/lib/python3.10/dist-packages (from es-core-news-sm==3.6.0) (3.6.1)\n",
            "Requirement already satisfied: spacy-legacy<3.1.0,>=3.0.11 in /usr/local/lib/python3.10/dist-packages (from spacy<3.7.0,>=3.6.0->es-core-news-sm==3.6.0) (3.0.12)\n",
            "Requirement already satisfied: spacy-loggers<2.0.0,>=1.0.0 in /usr/local/lib/python3.10/dist-packages (from spacy<3.7.0,>=3.6.0->es-core-news-sm==3.6.0) (1.0.5)\n",
            "Requirement already satisfied: murmurhash<1.1.0,>=0.28.0 in /usr/local/lib/python3.10/dist-packages (from spacy<3.7.0,>=3.6.0->es-core-news-sm==3.6.0) (1.0.10)\n",
            "Requirement already satisfied: cymem<2.1.0,>=2.0.2 in /usr/local/lib/python3.10/dist-packages (from spacy<3.7.0,>=3.6.0->es-core-news-sm==3.6.0) (2.0.8)\n",
            "Requirement already satisfied: preshed<3.1.0,>=3.0.2 in /usr/local/lib/python3.10/dist-packages (from spacy<3.7.0,>=3.6.0->es-core-news-sm==3.6.0) (3.0.9)\n",
            "Requirement already satisfied: thinc<8.2.0,>=8.1.8 in /usr/local/lib/python3.10/dist-packages (from spacy<3.7.0,>=3.6.0->es-core-news-sm==3.6.0) (8.1.12)\n",
            "Requirement already satisfied: wasabi<1.2.0,>=0.9.1 in /usr/local/lib/python3.10/dist-packages (from spacy<3.7.0,>=3.6.0->es-core-news-sm==3.6.0) (1.1.2)\n",
            "Requirement already satisfied: srsly<3.0.0,>=2.4.3 in /usr/local/lib/python3.10/dist-packages (from spacy<3.7.0,>=3.6.0->es-core-news-sm==3.6.0) (2.4.8)\n",
            "Requirement already satisfied: catalogue<2.1.0,>=2.0.6 in /usr/local/lib/python3.10/dist-packages (from spacy<3.7.0,>=3.6.0->es-core-news-sm==3.6.0) (2.0.10)\n",
            "Requirement already satisfied: typer<0.10.0,>=0.3.0 in /usr/local/lib/python3.10/dist-packages (from spacy<3.7.0,>=3.6.0->es-core-news-sm==3.6.0) (0.9.0)\n",
            "Requirement already satisfied: pathy>=0.10.0 in /usr/local/lib/python3.10/dist-packages (from spacy<3.7.0,>=3.6.0->es-core-news-sm==3.6.0) (0.10.3)\n",
            "Requirement already satisfied: smart-open<7.0.0,>=5.2.1 in /usr/local/lib/python3.10/dist-packages (from spacy<3.7.0,>=3.6.0->es-core-news-sm==3.6.0) (6.4.0)\n",
            "Requirement already satisfied: tqdm<5.0.0,>=4.38.0 in /usr/local/lib/python3.10/dist-packages (from spacy<3.7.0,>=3.6.0->es-core-news-sm==3.6.0) (4.66.1)\n",
            "Requirement already satisfied: numpy>=1.15.0 in /usr/local/lib/python3.10/dist-packages (from spacy<3.7.0,>=3.6.0->es-core-news-sm==3.6.0) (1.23.5)\n",
            "Requirement already satisfied: requests<3.0.0,>=2.13.0 in /usr/local/lib/python3.10/dist-packages (from spacy<3.7.0,>=3.6.0->es-core-news-sm==3.6.0) (2.31.0)\n",
            "Requirement already satisfied: pydantic!=1.8,!=1.8.1,<3.0.0,>=1.7.4 in /usr/local/lib/python3.10/dist-packages (from spacy<3.7.0,>=3.6.0->es-core-news-sm==3.6.0) (1.10.13)\n",
            "Requirement already satisfied: jinja2 in /usr/local/lib/python3.10/dist-packages (from spacy<3.7.0,>=3.6.0->es-core-news-sm==3.6.0) (3.1.2)\n",
            "Requirement already satisfied: setuptools in /usr/local/lib/python3.10/dist-packages (from spacy<3.7.0,>=3.6.0->es-core-news-sm==3.6.0) (67.7.2)\n",
            "Requirement already satisfied: packaging>=20.0 in /usr/local/lib/python3.10/dist-packages (from spacy<3.7.0,>=3.6.0->es-core-news-sm==3.6.0) (23.2)\n",
            "Requirement already satisfied: langcodes<4.0.0,>=3.2.0 in /usr/local/lib/python3.10/dist-packages (from spacy<3.7.0,>=3.6.0->es-core-news-sm==3.6.0) (3.3.0)\n",
            "Requirement already satisfied: typing-extensions>=4.2.0 in /usr/local/lib/python3.10/dist-packages (from pydantic!=1.8,!=1.8.1,<3.0.0,>=1.7.4->spacy<3.7.0,>=3.6.0->es-core-news-sm==3.6.0) (4.5.0)\n",
            "Requirement already satisfied: charset-normalizer<4,>=2 in /usr/local/lib/python3.10/dist-packages (from requests<3.0.0,>=2.13.0->spacy<3.7.0,>=3.6.0->es-core-news-sm==3.6.0) (3.3.2)\n",
            "Requirement already satisfied: idna<4,>=2.5 in /usr/local/lib/python3.10/dist-packages (from requests<3.0.0,>=2.13.0->spacy<3.7.0,>=3.6.0->es-core-news-sm==3.6.0) (3.6)\n",
            "Requirement already satisfied: urllib3<3,>=1.21.1 in /usr/local/lib/python3.10/dist-packages (from requests<3.0.0,>=2.13.0->spacy<3.7.0,>=3.6.0->es-core-news-sm==3.6.0) (2.0.7)\n",
            "Requirement already satisfied: certifi>=2017.4.17 in /usr/local/lib/python3.10/dist-packages (from requests<3.0.0,>=2.13.0->spacy<3.7.0,>=3.6.0->es-core-news-sm==3.6.0) (2023.11.17)\n",
            "Requirement already satisfied: blis<0.8.0,>=0.7.8 in /usr/local/lib/python3.10/dist-packages (from thinc<8.2.0,>=8.1.8->spacy<3.7.0,>=3.6.0->es-core-news-sm==3.6.0) (0.7.11)\n",
            "Requirement already satisfied: confection<1.0.0,>=0.0.1 in /usr/local/lib/python3.10/dist-packages (from thinc<8.2.0,>=8.1.8->spacy<3.7.0,>=3.6.0->es-core-news-sm==3.6.0) (0.1.4)\n",
            "Requirement already satisfied: click<9.0.0,>=7.1.1 in /usr/local/lib/python3.10/dist-packages (from typer<0.10.0,>=0.3.0->spacy<3.7.0,>=3.6.0->es-core-news-sm==3.6.0) (8.1.7)\n",
            "Requirement already satisfied: MarkupSafe>=2.0 in /usr/local/lib/python3.10/dist-packages (from jinja2->spacy<3.7.0,>=3.6.0->es-core-news-sm==3.6.0) (2.1.3)\n",
            "Installing collected packages: es-core-news-sm\n",
            "Successfully installed es-core-news-sm-3.6.0\n",
            "\u001b[38;5;2m✔ Download and installation successful\u001b[0m\n",
            "You can now load the package via spacy.load('es_core_news_sm')\n"
          ]
        }
      ]
    },
    {
      "cell_type": "code",
      "source": [
        "!pip install transformers sentencepiece"
      ],
      "metadata": {
        "colab": {
          "base_uri": "https://localhost:8080/"
        },
        "id": "gyeKRLiuUsjw",
        "outputId": "e1904246-1559-44ee-f1d2-16925aceef2d"
      },
      "execution_count": null,
      "outputs": [
        {
          "output_type": "stream",
          "name": "stdout",
          "text": [
            "Requirement already satisfied: transformers in /usr/local/lib/python3.10/dist-packages (4.35.2)\n",
            "Collecting sentencepiece\n",
            "  Downloading sentencepiece-0.1.99-cp310-cp310-manylinux_2_17_x86_64.manylinux2014_x86_64.whl (1.3 MB)\n",
            "\u001b[2K     \u001b[90m━━━━━━━━━━━━━━━━━━━━━━━━━━━━━━━━━━━━━━━━\u001b[0m \u001b[32m1.3/1.3 MB\u001b[0m \u001b[31m9.9 MB/s\u001b[0m eta \u001b[36m0:00:00\u001b[0m\n",
            "\u001b[?25hRequirement already satisfied: filelock in /usr/local/lib/python3.10/dist-packages (from transformers) (3.13.1)\n",
            "Requirement already satisfied: huggingface-hub<1.0,>=0.16.4 in /usr/local/lib/python3.10/dist-packages (from transformers) (0.20.1)\n",
            "Requirement already satisfied: numpy>=1.17 in /usr/local/lib/python3.10/dist-packages (from transformers) (1.23.5)\n",
            "Requirement already satisfied: packaging>=20.0 in /usr/local/lib/python3.10/dist-packages (from transformers) (23.2)\n",
            "Requirement already satisfied: pyyaml>=5.1 in /usr/local/lib/python3.10/dist-packages (from transformers) (6.0.1)\n",
            "Requirement already satisfied: regex!=2019.12.17 in /usr/local/lib/python3.10/dist-packages (from transformers) (2023.6.3)\n",
            "Requirement already satisfied: requests in /usr/local/lib/python3.10/dist-packages (from transformers) (2.31.0)\n",
            "Requirement already satisfied: tokenizers<0.19,>=0.14 in /usr/local/lib/python3.10/dist-packages (from transformers) (0.15.0)\n",
            "Requirement already satisfied: safetensors>=0.3.1 in /usr/local/lib/python3.10/dist-packages (from transformers) (0.4.1)\n",
            "Requirement already satisfied: tqdm>=4.27 in /usr/local/lib/python3.10/dist-packages (from transformers) (4.66.1)\n",
            "Requirement already satisfied: fsspec>=2023.5.0 in /usr/local/lib/python3.10/dist-packages (from huggingface-hub<1.0,>=0.16.4->transformers) (2023.6.0)\n",
            "Requirement already satisfied: typing-extensions>=3.7.4.3 in /usr/local/lib/python3.10/dist-packages (from huggingface-hub<1.0,>=0.16.4->transformers) (4.5.0)\n",
            "Requirement already satisfied: charset-normalizer<4,>=2 in /usr/local/lib/python3.10/dist-packages (from requests->transformers) (3.3.2)\n",
            "Requirement already satisfied: idna<4,>=2.5 in /usr/local/lib/python3.10/dist-packages (from requests->transformers) (3.6)\n",
            "Requirement already satisfied: urllib3<3,>=1.21.1 in /usr/local/lib/python3.10/dist-packages (from requests->transformers) (2.0.7)\n",
            "Requirement already satisfied: certifi>=2017.4.17 in /usr/local/lib/python3.10/dist-packages (from requests->transformers) (2023.11.17)\n",
            "Installing collected packages: sentencepiece\n",
            "Successfully installed sentencepiece-0.1.99\n"
          ]
        }
      ]
    },
    {
      "cell_type": "code",
      "source": [
        "import spacy\n",
        "lang_to_spacymodel = {'en':'en_core_web_sm',\n",
        "                      'fr':'fr_core_news_sm',\n",
        "                      'es':'es_core_news_sm'\n",
        "                      }\n",
        "\n",
        "# load language models\n",
        "spacy_model = {'en':spacy.load(lang_to_spacymodel['en']),\n",
        "               'fr':spacy.load(lang_to_spacymodel['fr']),\n",
        "               'es':spacy.load(lang_to_spacymodel['es'])\n",
        "               }\n",
        "\n",
        "\n",
        "import logging\n",
        "import string\n",
        "import nltk\n",
        "nltk.download('stopwords')\n",
        "nltk.download('punkt')\n",
        "from nltk.corpus import stopwords\n",
        "import spacy\n",
        "from nltk.tokenize import word_tokenize\n",
        "from sklearn.feature_extraction import _stop_words\n",
        "import json\n",
        "\n",
        "# mapping the iso language codes to nltk package nomemclature\n",
        "iso639_to_nltk = {\n",
        "    \"ru\": \"russian\",\n",
        "    \"sl\": \"slovene\",\n",
        "    \"es\": \"spanish\",\n",
        "    \"sv\": \"swedish\",\n",
        "    \"tr\": \"turkish\",\n",
        "    \"cs\": \"czech\",\n",
        "    \"da\": \"danish\",\n",
        "    \"nl\": \"dutch\",\n",
        "    \"en\": \"english\",\n",
        "    \"et\": \"estonian\",\n",
        "    \"fi\": \"finnish\",\n",
        "    \"fr\": \"french\",\n",
        "    \"de\": \"german\",\n",
        "    \"el\": \"greek\",\n",
        "    \"it\": \"italian\",\n",
        "    \"no\": \"norwegian\",\n",
        "    \"pl\": \"polish\",\n",
        "    \"pt\": \"portuguese\",\n",
        "    \"ml\": \"malayalam\",\n",
        "}\n",
        "\n",
        "\n",
        "def nltk_tokenize(text, language = 'en', removestopwords=False):\n",
        "    \"\"\"\n",
        "    uses punkt tokenizer from nltk to tokenize based on language.\n",
        "    languages supported by nltk are provided in is069 dictionary\n",
        "\n",
        "    Params\n",
        "    ------------------\n",
        "    text: text to be tokenized\n",
        "    langauge: language of text, used to determine which tokenizer to call for\n",
        "    removestopwords: flag to inform if remove or keep the stopwords\n",
        "\n",
        "\n",
        "    Returns\n",
        "    ---------------\n",
        "    tokenized_doc: Tokenized text\n",
        "\n",
        "    \"\"\"\n",
        "\n",
        "    if language in iso639_to_nltk.keys():\n",
        "        lang = iso639_to_nltk[language]\n",
        "    else:\n",
        "        logging.warning('langauge not found using English tokenizer and stopwords')\n",
        "        lang = 'english'\n",
        "    tokenslist = word_tokenize(text,language = lang)\n",
        "    tokenized_doc = []\n",
        "    # we can select to remove or keep stopwords\n",
        "    if removestopwords == True:\n",
        "        # stop words are fetched for particular language\n",
        "        stop_words = stopwords.words(lang)\n",
        "        for token in tokenslist:\n",
        "            # remove the punctuations from word\n",
        "            token = token.lower().strip(string.punctuation)\n",
        "            if len(token) > 0 and token not in stop_words:\n",
        "                tokenized_doc.append(token)\n",
        "    else:\n",
        "        for token in tokenslist:\n",
        "            # remove the punctuations from word\n",
        "            token = token.lower().strip(string.punctuation)\n",
        "            if len(token) > 0:\n",
        "                tokenized_doc.append(token)\n",
        "\n",
        "    return tokenized_doc\n"
      ],
      "metadata": {
        "colab": {
          "base_uri": "https://localhost:8080/"
        },
        "id": "SopzKNEJFA1O",
        "outputId": "572ef7d1-cebb-4843-d7e2-752bdefd4d52"
      },
      "execution_count": null,
      "outputs": [
        {
          "output_type": "stream",
          "name": "stderr",
          "text": [
            "[nltk_data] Downloading package stopwords to /root/nltk_data...\n",
            "[nltk_data]   Unzipping corpora/stopwords.zip.\n",
            "[nltk_data] Downloading package punkt to /root/nltk_data...\n",
            "[nltk_data]   Unzipping tokenizers/punkt.zip.\n"
          ]
        }
      ]
    },
    {
      "cell_type": "code",
      "source": [
        "# We do some basic checks and add those statistics to datafrme for further actions\n",
        "def get_match_percentage(string1, string2, lang, removestopwords =False):\n",
        "    \"\"\"\n",
        "    Get the matching token between two strings. assumes the string1 is single string,\n",
        "    but string2 is a list_of_strings. Uses the 'lang' to call relevant language\n",
        "    tokenizer\n",
        "\n",
        "    Params\n",
        "    ------------------------\n",
        "    string1: string which need to be searched for\n",
        "    string2: list of strings in which string1 is searched. Remember we look for\n",
        "              matching token between string1 and strings within list of string(string2)\n",
        "    lang: language of the string1\n",
        "    removestopwords: flag to inform if stop words should be considered as match or not\n",
        "\n",
        "\n",
        "    Returns\n",
        "    -------------------\n",
        "    string1_wordcount: Word counts of string1\n",
        "    string2_wordcount: wordcount of each string with the list\n",
        "    matching_wordcount:List of Matching wordcount between string1 and list of strings\n",
        "                      (string2)\n",
        "    \"\"\"\n",
        "    # assumes the string1 is single string, but string2 is a list_of_strings\n",
        "    # For each response we have 3 paragraphs provided by bm25 therefore we pass\n",
        "    # string 2 as list of text.\n",
        "\n",
        "    string1_words = nltk_tokenize(string1, lang, removestopwords=removestopwords)\n",
        "    string2_words = []\n",
        "    for i in string2:\n",
        "        # print(i)\n",
        "        string2_words.append(nltk_tokenize(i,lang, removestopwords=removestopwords))\n",
        "    # collect matching words\n",
        "    matching_words = []\n",
        "    for i in string2_words:\n",
        "        matching_words.append(set(string1_words) & set(i))\n",
        "\n",
        "    string2_wordcount = [len(x) for x in string2_words]\n",
        "    string1_wordcount = len(string1_words)\n",
        "    matching_wordcount = [len(x) for x in matching_words]\n",
        "\n",
        "\n",
        "    return (string1_wordcount, string2_wordcount, matching_wordcount)\n"
      ],
      "metadata": {
        "id": "pkN_o4T9EtCB"
      },
      "execution_count": null,
      "outputs": []
    },
    {
      "cell_type": "code",
      "source": [
        "import string\n",
        "def find_sub(context:str, candidate:str, find_all =False):\n",
        "    \"\"\"\n",
        "    Find the candidate string within context. For the candidate string first strips\n",
        "    any punctuations and then does the search. Further using the flag find_all, you\n",
        "    can try to get index where the candidate string is present within context, this\n",
        "    will provide all the index values, as candidate string can be present at multiple\n",
        "    location.\n",
        "\n",
        "    Params\n",
        "    ---------------\n",
        "    context:  The string in which the canidate string needs to be searched for\n",
        "    candidate: the string which needs to be searched\n",
        "    find_all: if should return the all index values of candidate string, If false\n",
        "              just returns boolean True, False\n",
        "\n",
        "    Returns\n",
        "    -----------------\n",
        "    temp: IF find_all = False, then temp will have boolean values True or False\n",
        "          IF find-all = True, then temp will be list of index values\n",
        "\n",
        "    \"\"\"\n",
        "    start = 0\n",
        "    if find_all == False:\n",
        "        val =  context.lower().find(candidate.strip(string.punctuation).lower(), start)\n",
        "        if val != -1:\n",
        "            temp = True\n",
        "        else: temp = False\n",
        "        return temp\n",
        "    else:\n",
        "\n",
        "        end = len(context)\n",
        "        # print(\"candidate \\n\", candidate)\n",
        "        # print(end)\n",
        "        temp = []\n",
        "        candidate_len = len(candidate.lower())\n",
        "        while start < end -1:\n",
        "            # print(start)\n",
        "            val = context.lower().find(candidate.lower(), start)\n",
        "            if val != -1:\n",
        "                temp.append(val)\n",
        "                start = val + candidate_len\n",
        "            else:\n",
        "                start = end\n",
        "        return temp\n",
        "\n",
        "## STEP1\n",
        "import spacy\n",
        "from spacy.matcher import Matcher, PhraseMatcher\n",
        "\n",
        "def spacy_match(context:str, candidate:str, lang):\n",
        "    \"\"\"\n",
        "    Find the list of tokens in candidate matching the tokens in context.\n",
        "    For this we use the Spacy Pattern matcher especially using the 'Lemma' based\n",
        "    matching.\n",
        "\n",
        "    Params\n",
        "    --------------------\n",
        "    context: the string in which you want to find the matching list of tokens along\n",
        "             with the indexes (string which needs to be searched into)\n",
        "    candidate: the string which needs to searched for\n",
        "    lang: Language of the strings (should be same). This is needed to call the\n",
        "          language specific Spacy Matcher\n",
        "\n",
        "\n",
        "    Returns\n",
        "    -------------------\n",
        "    spacy_doc: Return the context string as spacy doc (its a Spacy special class)\n",
        "    matches(List[List]): indexes[start,end] list of matching tokens in context\n",
        "\n",
        "    \"\"\"\n",
        "    nlp = spacy_model[lang]\n",
        "    query_tokens = [token.lemma_.lower() for token in nlp(candidate)\n",
        "                  if not (token.is_stop or token.is_punct)]\n",
        "    # creating single token patterns to find using token list\n",
        "    # this is requirement imposed by spacy\n",
        "    patterns = [nlp(text) for text in query_tokens]\n",
        "\n",
        "    # by experimentation it is seen that the best\n",
        "    # strategy for now is to use Phrasematcher (and not Matcher)\n",
        "    # and use attribute  = 'LEMMA'.\n",
        "    matcher  = PhraseMatcher(nlp.vocab, attr=\"LEMMA\")\n",
        "    matcher.add(\"Terms\", patterns)\n",
        "\n",
        "    doc = nlp(context.lower())\n",
        "    spacymatches = matcher(doc)\n",
        "\n",
        "    # generating tokens list from spacy returned results\n",
        "    matches = []\n",
        "    for match_id, start, end in spacymatches:\n",
        "        matches = matches + [[start, end]]\n",
        "\n",
        "    spacy_doc = doc\n",
        "\n",
        "    return (spacy_doc, matches)\n",
        "\n",
        "def reduce(list_, response_length):\n",
        "    \"\"\"\n",
        "    takes the list of tokens given from phrasematcher, and uses the stategies\n",
        "    defined below to merge these token to create one continous string.\n",
        "    There could be multiple candidate (answers) within a paragraph too.\n",
        "    \"\"\"\n",
        "    merge_dist = min(7,response_length)\n",
        "    candidates = []\n",
        "\n",
        "    while len(list_)>1:\n",
        "        # if the first two phrase are within the merge_dist, then merge them\n",
        "        if list_[1][0] <list_[0][1]+merge_dist:\n",
        "            start = list_[0][0]\n",
        "            end = list_[1][1]\n",
        "            # delete the first element\n",
        "            list_.pop(0)\n",
        "            # reset the [start, end] for new first element\n",
        "            list_[0]= [start,end]\n",
        "        else:\n",
        "            # if merge fails, then the first element could itself be phrase\n",
        "            # keeping minimum length of min(2,response_length) words for candidate.\n",
        "            if (list_[0][1]-list_[0][0] >= min(2,response_length)):\n",
        "                candidates.append(list_[0])\n",
        "            list_.pop(0)\n",
        "    # checking for last element left in list, if should be discarded or added as\n",
        "    # candidate\n",
        "    if len(list_) > 0:\n",
        "        if list_[0][1] - list_[0][0] >1:\n",
        "            candidates.append(list_[0])\n",
        "\n",
        "    return candidates\n",
        "\n",
        "def extract(index_list, spac_doc):\n",
        "    # while we have answer start and end, we now  extract the actual text, which\n",
        "    # could be used later for verification. This is done as it is not necessary\n",
        "    # we get exact match but a part match (can happen due to annotator rephrasing\n",
        "    # the response or other similar reasons)\n",
        "\n",
        "    answers_list = []\n",
        "    for j in  index_list:\n",
        "        answers_list.append(spac_doc[j[0]:j[1]].text)\n",
        "    return answers_list"
      ],
      "metadata": {
        "id": "CJr23QhW0Nt-"
      },
      "execution_count": null,
      "outputs": []
    },
    {
      "cell_type": "markdown",
      "source": [
        "# Normalize dataframe\n",
        "In this subsection we will normalize the dataframe so that each row has similar flat structure. We need explode for Split_strategy and top_k ( for each strategy we have fetched top_k =3 best matching paragraphs/results)"
      ],
      "metadata": {
        "id": "nUQxWTv2BmuH"
      }
    },
    {
      "cell_type": "code",
      "execution_count": null,
      "metadata": {
        "id": "xcM_pa-w9pG0"
      },
      "outputs": [],
      "source": [
        "import pandas as pd\n",
        "from tqdm import tqdm\n",
        "tqdm.pandas()\n",
        "\n",
        "# setting it to see full output\n",
        "pd.set_option('display.max_rows', 500)\n",
        "pd.set_option('display.max_columns', 500)\n",
        "\n",
        "# we will need responses_context from step4\n",
        "path_to_step4 = \"/content/drive/MyDrive/Colab Notebooks/CPU/Step4/\"\n",
        "responses = pd.read_json(path_to_step4+\"output/responses_context.json\")\n",
        "responses.drop(columns  = ['context_lang'], inplace=True) #'ResponseWordcount'\n",
        "responses.rename(columns = {'language':'Language', 'context':'Context'},inplace=True)"
      ]
    },
    {
      "cell_type": "code",
      "source": [
        "# some last check before we start answer extraction from context\n",
        "print(len(responses))\n",
        "remove = ['\" (conditional)', '\" (unconditional)', 'y, but Not Available',\n",
        "                              '\" (p. 30)','\" (p. 9)','\"ongoing\"','and \" (21)',]\n",
        "responses['_textcheck'] = responses.ResponseText.apply(lambda x: True\n",
        "                                                      if x in remove else False)\n",
        "responses = responses[responses._textcheck == False].reset_index(drop=True)\n",
        "responses.drop(columns = ['_textcheck'], inplace=True)\n",
        "responses =  responses.reset_index(drop=True)\n",
        "print(len(responses))"
      ],
      "metadata": {
        "colab": {
          "base_uri": "https://localhost:8080/"
        },
        "id": "Ojr9Syz5ReWR",
        "outputId": "9b05a964-6079-4831-c4d6-04b84bc22f00"
      },
      "execution_count": null,
      "outputs": [
        {
          "output_type": "stream",
          "name": "stdout",
          "text": [
            "29762\n",
            "29756\n"
          ]
        }
      ]
    },
    {
      "cell_type": "code",
      "source": [
        "# Response Wordcount distribution\n",
        "import matplotlib.pyplot as plt\n",
        "\n",
        "fig, ax = plt.subplots(1,3, figsize = (18,5))\n",
        "counts, bins, patches = ax[0].hist(responses[responses.ResponseWordcount<50]\\\n",
        "                          .ResponseWordcount, facecolor='yellow',edgecolor='gray')\n",
        "ax[0].set_title('wordcount <50')\n",
        "\n",
        "counts, bins, patches = ax[1].hist(responses[responses.ResponseWordcount<11]\\\n",
        "                          .ResponseWordcount, facecolor='yellow',edgecolor='gray')\n",
        "ax[1].set_title('wordcount <11')\n",
        "counts, bins, patches = ax[2].hist(responses[(responses.ResponseWordcount>=4)&\n",
        "                            (responses.ResponseWordcount<50)].ResponseWordcount,\n",
        "                                   facecolor='yellow',edgecolor='gray')\n",
        "ax[2].set_title('4 =< wordcount <50')\n",
        "plt.show()"
      ],
      "metadata": {
        "colab": {
          "base_uri": "https://localhost:8080/",
          "height": 468
        },
        "id": "YE1ZRKSy5Klj",
        "outputId": "bcbaf62f-fe65-4780-de5d-3a5c3b017a61"
      },
      "execution_count": null,
      "outputs": [
        {
          "output_type": "display_data",
          "data": {
            "text/plain": [
              "<Figure size 1800x500 with 3 Axes>"
            ],
            "image/png": "[encoded data removed]"
          },
          "metadata": {}
        }
      ]
    },
    {
      "cell_type": "code",
      "source": [
        "# make the copy for each split type\n",
        "df_small = responses.copy()\n",
        "df_medium =responses.copy()\n",
        "df_large = responses.copy()\n",
        "# keep the relevant Context list. We have 3 pair of keys and values.\n",
        "# small, medium and large\n",
        "df_small['Context']= df_small.Context.apply(lambda x: x['small'])\n",
        "df_medium['Context']= df_medium.Context.apply(lambda x: x['medium'])\n",
        "df_large['Context']= df_large.Context.apply(lambda x: x['large'])\n",
        "\n",
        "\n",
        "# check if each subset has 3 paragraphs for each ResponseText or not\n",
        "print(\"To be inspected row count\",\n",
        "      len(df_small[df_small.Context.apply(lambda x: len(x)) !=3]))\n",
        "print(\"To be inspected row count\",\n",
        "      len(df_medium[df_medium.Context.apply(lambda x: len(x)) !=3]))\n",
        "print(\"To be inspected row count\",\n",
        "    len(df_large[df_large.Context.apply(lambda x: len(x)) !=3]))\n",
        "\n",
        "df_small['Strategy'] = 'small'\n",
        "df_medium['Strategy'] = 'medium'\n",
        "df_large['Strategy'] = 'large'"
      ],
      "metadata": {
        "id": "EJAQTvUcBqzg",
        "colab": {
          "base_uri": "https://localhost:8080/"
        },
        "outputId": "c4c90d13-b8b9-4dfa-c41e-25b32e741ee7"
      },
      "execution_count": null,
      "outputs": [
        {
          "output_type": "stream",
          "name": "stdout",
          "text": [
            "To be inspected row count 0\n",
            "To be inspected row count 0\n",
            "To be inspected row count 0\n"
          ]
        }
      ]
    },
    {
      "cell_type": "code",
      "source": [
        "# mereg back all dataframes, this is First step towards normalizing the dataframe.\n",
        "responses = pd.concat([df_small, df_medium, df_large], ignore_index=True)\n",
        "# we get the wordcount stats, this time we will ignore the stopwords\n",
        "responses['ResponseWordcount'], responses['ContextWordcount'], responses['MatchingWordcount'] = \\\n",
        "                                                    zip(*responses.progress_apply(lambda x:\n",
        "                    get_match_percentage(x['ResponseText'],x['Context'], x['Language'],\n",
        "                                         removestopwords=True), axis =1))"
      ],
      "metadata": {
        "id": "aQeiCJkLWHJN"
      },
      "execution_count": null,
      "outputs": []
    },
    {
      "cell_type": "code",
      "source": [
        "# We now apply second step towards normalization, whereby in each row we now have\n",
        "# 1 context/paragraph only. However we need to be sure that which paragraph is\n",
        "# top_k, therefore we pass that ranking in apply function below.\n",
        "responses = (responses.explode(['Context','ContextWordcount','MatchingWordcount'])\n",
        "       .groupby(level=0)\n",
        "       .apply(lambda x: x.assign(top_k=[1,2,3]))\n",
        "       .reset_index(drop=True))"
      ],
      "metadata": {
        "id": "g3HGLU6dZx8_"
      },
      "execution_count": null,
      "outputs": []
    },
    {
      "cell_type": "code",
      "source": [
        "## save the results if you want\n",
        "import json\n",
        "path_to_step5 = \"/content/drive/MyDrive/Colab Notebooks/CPU/Step5/\"\n",
        "jsonfile = responses.to_json(orient=\"records\")\n",
        "parsed = json.loads(jsonfile)\n",
        "with open(path_to_step5 +'output/responses_normalized.json', 'w') as file:\n",
        "    json.dump(parsed, file, indent=4)"
      ],
      "metadata": {
        "id": "5MGMDmpMbJwq"
      },
      "execution_count": null,
      "outputs": []
    },
    {
      "cell_type": "markdown",
      "source": [
        "# Paragraph Quality Assessment\n",
        "\n",
        "In this sub-section we will revisit each row that is ResponseText and do the quality assessment of how much we are sure that ResponseText really belongs to Paragraph. Once we do this we will revisit the labels and make the necessary changes. Remember the Label right now are attached to ResponseText and not the\n",
        "Paragraphs. The Label Finalization at Context level happens in next section"
      ],
      "metadata": {
        "id": "pkUUORkNc2WC"
      }
    },
    {
      "cell_type": "code",
      "source": [
        "import pandas as pd\n",
        "from tqdm import tqdm\n",
        "tqdm.pandas()\n",
        "path_to_step5 = \"/content/drive/MyDrive/Colab Notebooks/CPU/Step5/\"\n",
        "responses = pd.read_json(path_to_step5 + 'output/responses_normalized.json')"
      ],
      "metadata": {
        "id": "K2bo2xeEFTCk"
      },
      "execution_count": null,
      "outputs": []
    },
    {
      "cell_type": "code",
      "source": [
        "# getting Matching Percentage between Context and ResponseText\n",
        "responses = responses[responses.ResponseWordcount>0].reset_index(drop=True)\n",
        "responses['MatchOnResponse'] = responses.apply(lambda x:\n",
        "                        round(x['MatchingWordcount']/x['ResponseWordcount'],2),\n",
        "                                             axis=1)"
      ],
      "metadata": {
        "id": "RIM3Db77dtcl"
      },
      "execution_count": null,
      "outputs": []
    },
    {
      "cell_type": "code",
      "source": [
        "import matplotlib.pyplot as plt\n",
        "fig, ax = plt.subplots(1,3, figsize = (18,5))\n",
        "counts, bins, patches = ax[0].hist(responses[responses.top_k == 1].MatchOnResponse,\n",
        "                                   facecolor='yellow', edgecolor='gray')\n",
        "ax[0].set_title('top_k=1')\n",
        "counts, bins, patches = ax[1].hist(responses[responses.top_k == 2].MatchOnResponse,\n",
        "                                   facecolor='yellow', edgecolor='gray')\n",
        "ax[1].set_title('top_k=2')\n",
        "counts, bins, patches = ax[2].hist(responses[responses.top_k == 3].MatchOnResponse,\n",
        "                                   facecolor='yellow',edgecolor='gray')\n",
        "ax[2].set_title('top_k=3')\n",
        "plt.show()"
      ],
      "metadata": {
        "colab": {
          "base_uri": "https://localhost:8080/",
          "height": 468
        },
        "id": "mhvhRiJgmtwl",
        "outputId": "84a1e1f5-f039-4264-f895-6d378a86593c"
      },
      "execution_count": null,
      "outputs": [
        {
          "output_type": "display_data",
          "data": {
            "text/plain": [
              "<Figure size 1800x500 with 3 Axes>"
            ],
            "image/png": "[encoded data removed]"
          },
          "metadata": {}
        }
      ]
    },
    {
      "cell_type": "code",
      "source": [
        "# we split the dataframe in two parts as ResponseText has wide Distribution.\n",
        "df_small = responses[responses.ResponseWordcount < 4].reset_index(drop=True)\n",
        "df_large = responses[responses.ResponseWordcount >= 4].reset_index(drop=True)\n",
        "print(df_large.top_k.value_counts())\n",
        "print(df_small.top_k.value_counts())"
      ],
      "metadata": {
        "colab": {
          "base_uri": "https://localhost:8080/"
        },
        "id": "YgSPkXAXtFT3",
        "outputId": "75fd2774-7969-4969-a4f0-6d69591f5d83"
      },
      "execution_count": null,
      "outputs": [
        {
          "output_type": "stream",
          "name": "stdout",
          "text": [
            "1    77865\n",
            "2    77865\n",
            "3    77865\n",
            "Name: top_k, dtype: int64\n",
            "1    11400\n",
            "2    11400\n",
            "3    11400\n",
            "Name: top_k, dtype: int64\n"
          ]
        }
      ]
    },
    {
      "cell_type": "markdown",
      "source": [
        "## Large ResponseText"
      ],
      "metadata": {
        "id": "5ywTx6rTvcFa"
      }
    },
    {
      "cell_type": "code",
      "source": [
        "fig, ax = plt.subplots(1,3, figsize = (18,5))\n",
        "counts, bins, patches = ax[0].hist(df_large[df_large.top_k == 1].MatchOnResponse,\n",
        "                                   facecolor='yellow', edgecolor='gray')\n",
        "ax[0].set_title('top_k=1')\n",
        "counts, bins, patches = ax[1].hist(df_large[df_large.top_k == 2].MatchOnResponse,\n",
        "                                   facecolor='yellow', edgecolor='gray')\n",
        "ax[1].set_title('top_k=2')\n",
        "counts, bins, patches = ax[2].hist(df_large[df_large.top_k == 3].MatchOnResponse,\n",
        "                                   facecolor='yellow',edgecolor='gray')\n",
        "ax[2].set_title('top_k=3')\n",
        "plt.show()"
      ],
      "metadata": {
        "colab": {
          "base_uri": "https://localhost:8080/",
          "height": 468
        },
        "id": "WGtR7cRev8b3",
        "outputId": "48da243b-ce8c-4fea-d7f4-ca7e86b0f5fc"
      },
      "execution_count": null,
      "outputs": [
        {
          "output_type": "display_data",
          "data": {
            "text/plain": [
              "<Figure size 1800x500 with 3 Axes>"
            ],
            "image/png": "[encoded data removed]"
          },
          "metadata": {}
        }
      ]
    },
    {
      "cell_type": "code",
      "source": [
        "# for large strings we perform once the string match, because for string match we\n",
        "# can be sure that paragraph really contains the response Text.\n",
        "df_large['StringMatch'] = df_large.progress_apply(lambda x: find_sub(x['Context'],\n",
        "                                                      x['ResponseText']),axis=1)\n",
        "\n",
        "# checking some stats\n",
        "print('\\n',df_large.StringMatch.value_counts())\n",
        "\n",
        "print('\\n',df_large[df_large.StringMatch == True].top_k.value_counts())"
      ],
      "metadata": {
        "colab": {
          "base_uri": "https://localhost:8080/"
        },
        "id": "KuD06bdyytbW",
        "outputId": "188cd4b0-2413-4bc6-965f-40a4f1727dd0"
      },
      "execution_count": null,
      "outputs": [
        {
          "output_type": "stream",
          "name": "stderr",
          "text": [
            "100%|██████████| 233595/233595 [00:04<00:00, 51852.29it/s]"
          ]
        },
        {
          "output_type": "stream",
          "name": "stdout",
          "text": [
            "\n",
            " False    193766\n",
            "True      39829\n",
            "Name: StringMatch, dtype: int64\n",
            "\n",
            " 1    23603\n",
            "2    14000\n",
            "3     2226\n",
            "Name: top_k, dtype: int64\n"
          ]
        },
        {
          "output_type": "stream",
          "name": "stderr",
          "text": [
            "\n"
          ]
        }
      ]
    },
    {
      "cell_type": "code",
      "source": [
        "# separate out where String Match is possible. In other cases we will apply different\n",
        "# technique.\n",
        "df_large_1 = df_large[df_large.StringMatch == True].reset_index(drop=True)\n",
        "df_large = df_large[df_large.StringMatch ==False].reset_index(drop=True)"
      ],
      "metadata": {
        "colab": {
          "base_uri": "https://localhost:8080/"
        },
        "id": "MhT4wtkd3Anb",
        "outputId": "f8e917e8-b4f1-4598-d175-66204d8d3cc7"
      },
      "execution_count": null,
      "outputs": [
        {
          "output_type": "stream",
          "name": "stdout",
          "text": [
            "63022 64245 66499\n"
          ]
        }
      ]
    },
    {
      "cell_type": "markdown",
      "source": [
        "This part of code is compute intensive therefore you can break the dataset and loop through the parts. It has 3 steps.\n",
        "1. Extract the Response token matching candidates within context (i.e not exact matching but 'Lemma' based and find its position within context.)\n",
        "2. Merge and Reduce: Using the list of tokens extracted we, now merge these tokens list to find the candidate to 'ResponseText' within context ( only tokens indexes are used for this)\n",
        "3. Extract the candidate phrase from context using indexes values from step 2."
      ],
      "metadata": {
        "id": "kUzucarRIXFX"
      }
    },
    {
      "cell_type": "code",
      "source": [
        "##### STEP 1: #####\n",
        "# Getting the Matching token between Context and ResponseText along with\n",
        "# indices[start,end] in context. The match is done on Lemma and not exact string\n",
        "# match.\n",
        "df_large['SpacyDoc'] , df_large['SpacyMatch'] = zip(*df_large.progress_apply(lambda x:\n",
        "                                                    spacy_match(x['Context'],\n",
        "                                      x['ResponseText'], x['Language']),axis=1))\n",
        "\n",
        "##### STEP 2: #####\n",
        "# From the previous step we try now the fuzzy merge of matching tokens to get the\n",
        "# best matching span between Context and ResponseText\n",
        "df_large['Candidate'] = df_large.apply(lambda x:\n",
        "                        reduce(x['SpacyMatch'], x['ResponseWordcount']), axis=1)\n",
        "\n",
        "##### STEP 3: #####\n",
        "# Once the fuzzy matched spans indices[start,end] are doen from step 2, we\n",
        "# get the actuall spans text.\n",
        "df_large['FetchedText'] = df_large.apply(lambda x: extract(x['Candidate'],\n",
        "                                                        x['SpacyDoc']),axis=1)"
      ],
      "metadata": {
        "id": "nt2y4LbOx7K7"
      },
      "execution_count": null,
      "outputs": []
    },
    {
      "cell_type": "code",
      "source": [
        "# df1 = pd.read_json(path_to_step5+'output/Intermediate/df1_extracted.json')\n",
        "# df2 = pd.read_json(path_to_step5+'output/Intermediate/df2_extracted.json')\n",
        "# df3 = pd.read_json(path_to_step5+'output/Intermediate/df3_extracted.json')\n",
        "# df_large_1 = pd.read_json(path_to_step5+'output/Intermediate/df_large_1.json')\n",
        "# df_large = pd.concat([df1,df2,df3,df_large_1],ignore_index=True)"
      ],
      "metadata": {
        "id": "aycbCucKeAlc"
      },
      "execution_count": null,
      "outputs": []
    },
    {
      "cell_type": "code",
      "source": [
        "# finally we label those Context as positive where we get either perfect\n",
        "# String Match or there was text span which resembles the ResponseText\n",
        "df_large['positive'] = df_large.apply(lambda x: True if x['StringMatch'] is True\n",
        "                                    else (True if len(x['FetchedText']) > 0\n",
        "                                          else False), axis=1)\n",
        "# seprate out posiitve and negative\n",
        "positive = df_large[df_large.positive == True].reset_index(drop=True)\n",
        "negative = df_large[df_large.positive == False].reset_index(drop=True)"
      ],
      "metadata": {
        "id": "DI7CHOacn2iz"
      },
      "execution_count": null,
      "outputs": []
    },
    {
      "cell_type": "code",
      "source": [
        "# Performing some stats on the similar matching Text span from Context and ResponseText\n",
        "positive['FetchedText'] = positive.apply(lambda x: x['FetchedText'] if\n",
        "                                         x['StringMatch'] == False else\n",
        "                                         [x['ResponseText']], axis=1)\n",
        "\n",
        "positive['ResponseWord'], positive['CandidateWord'], positive['MatchWords'] = \\\n",
        "                    zip(*positive.progress_apply(lambda x:\n",
        "                                        get_match_percentage(x['ResponseText'],\n",
        "                                      x['FetchedText'], x['Language']),axis=1))\n",
        "\n",
        "positive['CandidateMatchOnResponse'] = positive.apply(lambda x:\n",
        "                                [round(j/x['ResponseWord'],2)\n",
        "                                for j in x['MatchWords']],axis=1 )"
      ],
      "metadata": {
        "colab": {
          "base_uri": "https://localhost:8080/"
        },
        "id": "TC0yolaAr4QA",
        "outputId": "47e1afff-9cb5-4c27-e75e-fd45edd4dfcc"
      },
      "execution_count": null,
      "outputs": [
        {
          "output_type": "stream",
          "name": "stderr",
          "text": [
            "100%|██████████| 201720/201720 [02:21<00:00, 1429.69it/s]\n"
          ]
        }
      ]
    },
    {
      "cell_type": "code",
      "source": [
        "# lets consider the Distribution of match percentage betweem ResponseText and\n",
        "# Text Spans from Context\n",
        "temp  = list(positive.CandidateMatchOnResponse)\n",
        "flat_list = [item for sublist in temp for item in sublist]\n",
        "\n",
        "\n",
        "import matplotlib.pyplot as plt\n",
        "\n",
        "fig, ax = plt.subplots(1,1, figsize = (12,6))\n",
        "counts, bins, patches = ax.hist(flat_list, facecolor='yellow',\n",
        "                                                edgecolor='gray', bins = 15)\n",
        "ax.set_title('CandidateMatch on Response')\n",
        "plt.show()"
      ],
      "metadata": {
        "colab": {
          "base_uri": "https://localhost:8080/",
          "height": 545
        },
        "id": "ucPukqoAyRu3",
        "outputId": "0d87e0f9-dcf4-4bdf-e315-1110fed7487d"
      },
      "execution_count": null,
      "outputs": [
        {
          "output_type": "display_data",
          "data": {
            "text/plain": [
              "<Figure size 1200x600 with 1 Axes>"
            ],
            "image/png": "[encoded data removed]"
          },
          "metadata": {}
        }
      ]
    },
    {
      "cell_type": "code",
      "source": [
        "import numpy as np\n",
        "# perform some checks based on Match Percentage, for ResponseWordcount > 10 words if\n",
        "# more than 60% match is there and for words < 10 it should be 75%\n",
        "positive['check'] = positive.apply(lambda x: any(np.array(x['CandidateMatchOnResponse'])> 0.75)\n",
        "                                    if x['ResponseWordcount'] <10 else\n",
        "                        any(np.array(x['CandidateMatchOnResponse'])> 0.6),axis=1)\n",
        "\n",
        "positive.drop_duplicates(subset = ['ResponseText', 'Alpha3', 'Country', 'Document','Source',\n",
        "                                'Target', 'Netzero', 'Adaptation', 'Mitigation',\n",
        "       'GHG', 'Conditional', 'Unconditional', 'Language','Action',\n",
        "       'Policies_Plans', 'Context', 'Strategy'], inplace=True)\n",
        "\n",
        "# we apply some more check based on ResponseWordcount. In case ResponseText is more than\n",
        "# 30 words and we dont find a match between Conetxt and Text spans from Context as done above\n",
        "# then we can replace the Context with ResponseText\n",
        "positive['check2'] = positive.apply(lambda x: (x['check'] == False)&(x['ResponseWordcount'] > 30),\n",
        "                                                          axis=1)\n",
        "positive['Context'] = positive.apply(lambda x: x['Context'] if x['check'] == True\n",
        "                                     else x['ResponseText'] if x['check2'] == True\n",
        "                                     else None, axis=1)\n",
        "\n",
        "positive['MatchOnResponse'] = positive.apply(lambda x: x['MatchOnResponse'] if x['check'] == True\n",
        "                                     else 1.0 if x['check2'] == True\n",
        "                                     else None, axis=1)\n",
        "positive['FetchedText'] = positive.apply(lambda x: x['FetchedText'] if x['check'] == True\n",
        "                                     else [x['ResponseText']] if x['check2'] == True\n",
        "                                     else None, axis=1)\n",
        "positive['CandidateMatchOnResponse'] = positive.apply(lambda x: x['CandidateMatchOnResponse']\n",
        "                                     if x['check'] == True\n",
        "                                     else [1.0] if x['check2'] == True\n",
        "                                     else None, axis=1)\n",
        "\n",
        "positive.drop(columns = ['ResponseWordcount','ContextWordcount','MatchingWordcount',\n",
        "                         'top_k', 'StringMatch','Candidate','ResponseWord',\n",
        "                         'CandidateWord','MatchWords','check','check2'], inplace=True)\n",
        "# Drop all non-relevant rows. We now have only enteries, where\n",
        "# IF text span from Context match with ResponseText (>60% for wordcount >10, >75%\n",
        "# for wordcount <=10), Further Where the ResponsetExt is moe=re than 30 words long\n",
        "# we hae replaced the Context with ResponseText.\n",
        "positive = positive[positive.Context.notna()]\n",
        "positive = positive.reset_index(drop=True)"
      ],
      "metadata": {
        "id": "MLnnS-QL3KnW"
      },
      "execution_count": null,
      "outputs": []
    },
    {
      "cell_type": "code",
      "source": [
        "# in negative we drop and the results if top_k =2 because for negative results we\n",
        "# really want to be sure Context we are suing as negative exmamples for Text-Classiifcation\n",
        "# doesnt have anything clsoely resembling the ResponseText.\n",
        "negative = negative[negative.top_k == 3].reset_index(drop=True)\n",
        "negative.drop(columns= ['ResponseWordcount','ContextWordcount','MatchingWordcount',\n",
        "                          'top_k','MatchOnResponse', 'StringMatch', 'Candidate',\n",
        "       'FetchedText'],inplace=True)\n",
        "negative = negative.reset_index(drop=True)\n",
        "negative.info()"
      ],
      "metadata": {
        "colab": {
          "base_uri": "https://localhost:8080/"
        },
        "id": "EezW9D0UDqdX",
        "outputId": "f3669026-098b-45cd-a62d-f4c629b4a240"
      },
      "execution_count": null,
      "outputs": [
        {
          "output_type": "stream",
          "name": "stdout",
          "text": [
            "<class 'pandas.core.frame.DataFrame'>\n",
            "RangeIndex: 17115 entries, 0 to 17114\n",
            "Data columns (total 20 columns):\n",
            " #   Column          Non-Null Count  Dtype  \n",
            "---  ------          --------------  -----  \n",
            " 0   ResponseText    17115 non-null  object \n",
            " 1   Alpha3          17115 non-null  object \n",
            " 2   Country         17115 non-null  object \n",
            " 3   Document        17115 non-null  object \n",
            " 4   IkiInfo         1670 non-null   object \n",
            " 5   Source          17115 non-null  object \n",
            " 6   Target          17115 non-null  bool   \n",
            " 7   Netzero         1670 non-null   float64\n",
            " 8   Adaptation      17115 non-null  bool   \n",
            " 9   Mitigation      17115 non-null  bool   \n",
            " 10  GHG             108 non-null    float64\n",
            " 11  Conditional     17115 non-null  bool   \n",
            " 12  Unconditional   17115 non-null  bool   \n",
            " 13  Language        17115 non-null  object \n",
            " 14  CWInfo          15445 non-null  object \n",
            " 15  Action          15445 non-null  float64\n",
            " 16  Policies_Plans  15445 non-null  float64\n",
            " 17  Context         17115 non-null  object \n",
            " 18  Strategy        17115 non-null  object \n",
            " 19  positive        17115 non-null  bool   \n",
            "dtypes: bool(6), float64(4), object(10)\n",
            "memory usage: 1.9+ MB\n"
          ]
        }
      ]
    },
    {
      "cell_type": "code",
      "source": [
        "# merge back psoitive and negative results\n",
        "df_large = pd.concat([positive,negative],ignore_index=True)\n",
        "df_large.info()"
      ],
      "metadata": {
        "colab": {
          "base_uri": "https://localhost:8080/"
        },
        "id": "_TtEuCrCIv4D",
        "outputId": "5917bf51-7efa-4a7a-dbb6-8447e5b33387"
      },
      "execution_count": null,
      "outputs": [
        {
          "output_type": "stream",
          "name": "stdout",
          "text": [
            "<class 'pandas.core.frame.DataFrame'>\n",
            "RangeIndex: 111755 entries, 0 to 111754\n",
            "Data columns (total 23 columns):\n",
            " #   Column                    Non-Null Count   Dtype  \n",
            "---  ------                    --------------   -----  \n",
            " 0   ResponseText              111755 non-null  object \n",
            " 1   Alpha3                    111755 non-null  object \n",
            " 2   Country                   111755 non-null  object \n",
            " 3   Document                  111755 non-null  object \n",
            " 4   IkiInfo                   15657 non-null   object \n",
            " 5   Source                    111755 non-null  object \n",
            " 6   Target                    111755 non-null  bool   \n",
            " 7   Netzero                   15657 non-null   float64\n",
            " 8   Adaptation                111755 non-null  bool   \n",
            " 9   Mitigation                111755 non-null  bool   \n",
            " 10  GHG                       1344 non-null    float64\n",
            " 11  Conditional               111755 non-null  bool   \n",
            " 12  Unconditional             111755 non-null  bool   \n",
            " 13  Language                  111755 non-null  object \n",
            " 14  CWInfo                    96098 non-null   object \n",
            " 15  Action                    96098 non-null   float64\n",
            " 16  Policies_Plans            96098 non-null   float64\n",
            " 17  Context                   111755 non-null  object \n",
            " 18  Strategy                  111755 non-null  object \n",
            " 19  MatchOnResponse           94640 non-null   float64\n",
            " 20  FetchedText               94640 non-null   object \n",
            " 21  positive                  111755 non-null  bool   \n",
            " 22  CandidateMatchOnResponse  94640 non-null   object \n",
            "dtypes: bool(6), float64(5), object(12)\n",
            "memory usage: 15.1+ MB\n"
          ]
        }
      ]
    },
    {
      "cell_type": "code",
      "source": [
        "# #save the results if you want\n",
        "# import json\n",
        "# jsonfile = df_large.to_json(orient=\"records\")\n",
        "# parsed = json.loads(jsonfile)\n",
        "# with open(path_to_step5+ 'output/df_large.json', 'w') as file:\n",
        "#     json.dump(parsed, file, indent=4)"
      ],
      "metadata": {
        "id": "BjFvu28qQ3ur"
      },
      "execution_count": null,
      "outputs": []
    },
    {
      "cell_type": "markdown",
      "source": [
        "## Small Response Text\n",
        "\n",
        "\n",
        "We repeat the similar steps like in subsection Large Response Text."
      ],
      "metadata": {
        "id": "ZzKoW3nzRO8v"
      }
    },
    {
      "cell_type": "code",
      "source": [
        "# perform the simple string search\n",
        "df_small['StringMatch'] = df_small.progress_apply(lambda x: find_sub(x['Context'],\n",
        "                                                      x['ResponseText']),axis=1)\n",
        "\n",
        "# checking some stats\n",
        "print('\\n',df_small.StringMatch.value_counts())\n",
        "print('\\n',df_small[df_small.StringMatch == True].top_k.value_counts())"
      ],
      "metadata": {
        "colab": {
          "base_uri": "https://localhost:8080/"
        },
        "id": "pOGlT-cQRdyv",
        "outputId": "450ef0c2-4fbe-402d-d630-1d5f372d3f0a"
      },
      "execution_count": null,
      "outputs": [
        {
          "output_type": "stream",
          "name": "stderr",
          "text": [
            "100%|██████████| 34200/34200 [00:00<00:00, 62508.45it/s]"
          ]
        },
        {
          "output_type": "stream",
          "name": "stdout",
          "text": [
            "\n",
            " False    24464\n",
            "True      9736\n",
            "Name: StringMatch, dtype: int64\n",
            "\n",
            " 1    4607\n",
            "2    3363\n",
            "3    1766\n",
            "Name: top_k, dtype: int64\n"
          ]
        },
        {
          "output_type": "stream",
          "name": "stderr",
          "text": [
            "\n"
          ]
        }
      ]
    },
    {
      "cell_type": "code",
      "source": [
        "# separate out the two categories\n",
        "df_small_1 = df_small[df_small.StringMatch == True].reset_index(drop=True)\n",
        "df_small = df_small[df_small.StringMatch ==False].reset_index(drop=True)"
      ],
      "metadata": {
        "id": "ywECQypxSBsl"
      },
      "execution_count": null,
      "outputs": []
    },
    {
      "cell_type": "code",
      "source": [
        "##### STEP 1: #####\n",
        "# Getting the Matching token between Context and ResponseText along with\n",
        "# indices[start,end] in context. The match is done on Lemma and not exact string\n",
        "# match.\n",
        "df_small['SpacyDoc'] , df_small['SpacyMatch'] = zip(*df_small.progress_apply(lambda x:\n",
        "                                                    spacy_match(x['Context'],\n",
        "                                      x['ResponseText'], x['Language']),axis=1))\n",
        "\n",
        "##### STEP 2: #####\n",
        "# From the previous step we try now the fuzzy merge of matching tokens to get the\n",
        "# best matching span between Context and ResponseText\n",
        "df_small['Candidate'] = df_small.apply(lambda x:\n",
        "                        reduce(x['SpacyMatch'], x['ResponseWordcount']), axis=1)\n",
        "\n",
        "##### STEP 3: #####\n",
        "# Once the fuzzy matched spans indices[start,end] are doen from step 2, we\n",
        "# get the actuall spans text.\n",
        "df_small['FetchedText'] = df_small.apply(lambda x: extract(x['Candidate'],\n",
        "                                                        x['SpacyDoc']),axis=1)"
      ],
      "metadata": {
        "colab": {
          "base_uri": "https://localhost:8080/"
        },
        "id": "7yGtPH7eSbqZ",
        "outputId": "b604884c-64a0-4edd-b3c4-76e92fd22839"
      },
      "execution_count": null,
      "outputs": [
        {
          "output_type": "stream",
          "name": "stderr",
          "text": [
            "100%|██████████| 24464/24464 [23:35<00:00, 17.29it/s]\n"
          ]
        }
      ]
    },
    {
      "cell_type": "code",
      "source": [
        "df_small.drop(columns = ['SpacyDoc','SpacyMatch'], inplace=True)\n",
        "# merge the String Match results with original dataframe\n",
        "df_small = pd.concat([df_small, df_small_1],ignore_index=True)"
      ],
      "metadata": {
        "id": "MOro2-BiZJSl"
      },
      "execution_count": null,
      "outputs": []
    },
    {
      "cell_type": "code",
      "source": [
        "# df1 = pd.read_json(path_to_step5+'output/Intermediate/df_small_1.json')\n",
        "# df2 = pd.read_json(path_to_step5+'output/Intermediate/df_small.json')\n",
        "# df_small = pd.concat([df1,df2],ignore_index=True)"
      ],
      "metadata": {
        "id": "7EVaRWQihxlo"
      },
      "execution_count": null,
      "outputs": []
    },
    {
      "cell_type": "code",
      "source": [
        "# seprate out positive canidate where we are getitng some Text Span from Context\n",
        "# with ResponseText\n",
        "df_small['positive'] = df_small.apply(lambda x: True if x['StringMatch'] is True\n",
        "                                    else (True if len(x['FetchedText']) > 0\n",
        "                                          else False), axis=1)\n",
        "\n",
        "positive = df_small[df_small.positive == True].reset_index(drop=True)\n",
        "negative = df_small[df_small.positive == False].reset_index(drop=True)"
      ],
      "metadata": {
        "id": "Eh3RpZ3uai1S"
      },
      "execution_count": null,
      "outputs": []
    },
    {
      "cell_type": "code",
      "source": [
        "# performing some stats\n",
        "positive['FetchedText'] = positive.apply(lambda x: x['FetchedText'] if\n",
        "                                         x['StringMatch'] == False else\n",
        "                                         [x['ResponseText']], axis=1)\n",
        "\n",
        "positive['ResponseWord'], positive['CandidateWord'], positive['MatchWords'] = \\\n",
        "                    zip(*positive.progress_apply(lambda x:\n",
        "                                        get_match_percentage(x['ResponseText'],\n",
        "                                      x['FetchedText'], x['Language']),axis=1))\n",
        "\n",
        "\n",
        "positive['CandidateMatchOnResponse'] = positive.apply(lambda x:\n",
        "                                [round(j/x['ResponseWord'],2)\n",
        "                                for j in x['MatchWords']],axis=1 )"
      ],
      "metadata": {
        "colab": {
          "base_uri": "https://localhost:8080/"
        },
        "id": "-kpAOEqxURFR",
        "outputId": "1f20d54e-a033-4264-8c2b-b9fdbc4470b5"
      },
      "execution_count": null,
      "outputs": [
        {
          "output_type": "stream",
          "name": "stderr",
          "text": [
            "100%|██████████| 15357/15357 [00:07<00:00, 2187.56it/s]\n"
          ]
        }
      ]
    },
    {
      "cell_type": "code",
      "source": [
        "# plot the matching percentage\n",
        "temp  = list(positive.CandidateMatchOnResponse)\n",
        "flat_list = [item for sublist in temp for item in sublist]\n",
        "\n",
        "\n",
        "import matplotlib.pyplot as plt\n",
        "\n",
        "fig, ax = plt.subplots(1,1, figsize = (12,6))\n",
        "counts, bins, patches = ax.hist(flat_list, facecolor='yellow',\n",
        "                                                edgecolor='gray', bins = 15)\n",
        "ax.set_title('CandidateMatch on Response')\n",
        "plt.show()"
      ],
      "metadata": {
        "colab": {
          "base_uri": "https://localhost:8080/",
          "height": 545
        },
        "id": "mfOw5CRNbJyL",
        "outputId": "f16fbe8f-5b51-4f9b-d419-250fa0feee1e"
      },
      "execution_count": null,
      "outputs": [
        {
          "output_type": "display_data",
          "data": {
            "text/plain": [
              "<Figure size 1200x600 with 1 Axes>"
            ],
            "image/png": "[encoded data removed]"
          },
          "metadata": {}
        }
      ]
    },
    {
      "cell_type": "code",
      "source": [
        "import numpy as np\n",
        "# We will consider positive example only if match percentage > 90%\n",
        "positive['check'] = positive.apply(lambda x: any(np.array(x['CandidateMatchOnResponse'])> 0.9)\n",
        "                                                                        ,axis=1)\n",
        "\n",
        "positive.drop_duplicates(subset = ['ResponseText', 'Alpha3', 'Country', 'Document','Source',\n",
        "                                'Target', 'Netzero', 'Adaptation', 'Mitigation',\n",
        "       'GHG', 'Conditional', 'Unconditional', 'Language','Action',\n",
        "       'Policies_Plans', 'Context', 'Strategy'], inplace=True)\n",
        "positive = positive[positive.check==True].reset_index(drop=True)\n",
        "positive.drop(columns = ['ResponseWordcount','ContextWordcount','MatchingWordcount',\n",
        "                         'top_k', 'StringMatch','Candidate','ResponseWord',\n",
        "                         'CandidateWord','MatchWords','check'], inplace=True)\n",
        "positive.info()"
      ],
      "metadata": {
        "colab": {
          "base_uri": "https://localhost:8080/"
        },
        "id": "LQatuH1kbYvg",
        "outputId": "5ce625f5-fb58-4046-c91c-37857871af97"
      },
      "execution_count": null,
      "outputs": [
        {
          "output_type": "stream",
          "name": "stdout",
          "text": [
            "<class 'pandas.core.frame.DataFrame'>\n",
            "RangeIndex: 10327 entries, 0 to 10326\n",
            "Data columns (total 23 columns):\n",
            " #   Column                    Non-Null Count  Dtype  \n",
            "---  ------                    --------------  -----  \n",
            " 0   ResponseText              10327 non-null  object \n",
            " 1   Alpha3                    10327 non-null  object \n",
            " 2   Country                   10327 non-null  object \n",
            " 3   Document                  10327 non-null  object \n",
            " 4   IkiInfo                   485 non-null    object \n",
            " 5   Source                    10327 non-null  object \n",
            " 6   Target                    10327 non-null  bool   \n",
            " 7   Netzero                   485 non-null    float64\n",
            " 8   Adaptation                10327 non-null  bool   \n",
            " 9   Mitigation                10327 non-null  bool   \n",
            " 10  GHG                       0 non-null      float64\n",
            " 11  Conditional               10327 non-null  bool   \n",
            " 12  Unconditional             10327 non-null  bool   \n",
            " 13  Language                  10327 non-null  object \n",
            " 14  CWInfo                    9842 non-null   object \n",
            " 15  Action                    9842 non-null   float64\n",
            " 16  Policies_Plans            9842 non-null   float64\n",
            " 17  Context                   10327 non-null  object \n",
            " 18  Strategy                  10327 non-null  object \n",
            " 19  MatchOnResponse           10327 non-null  float64\n",
            " 20  FetchedText               10327 non-null  object \n",
            " 21  positive                  10327 non-null  bool   \n",
            " 22  CandidateMatchOnResponse  10327 non-null  object \n",
            "dtypes: bool(6), float64(5), object(12)\n",
            "memory usage: 1.4+ MB\n"
          ]
        }
      ]
    },
    {
      "cell_type": "code",
      "source": [
        "# in negative we drop and the results if top_k =2 because for negative results we\n",
        "# really want to be sure Context we are suing as negative exmamples for Text-Classiifcation\n",
        "# doesnt have anything clsoely resembling the ResponseText.\n",
        "\n",
        "negative = negative[negative.top_k == 3].reset_index(drop=True)\n",
        "negative.drop(columns= ['ResponseWordcount','ContextWordcount','MatchingWordcount',\n",
        "                          'top_k','MatchOnResponse', 'StringMatch', 'Candidate',\n",
        "       'FetchedText'],inplace=True)\n",
        "negative = negative.reset_index(drop=True)\n",
        "negative.info()"
      ],
      "metadata": {
        "colab": {
          "base_uri": "https://localhost:8080/"
        },
        "id": "A2FSytFmb36j",
        "outputId": "d22af36b-d3f5-430a-9e8c-2ba76685365b"
      },
      "execution_count": null,
      "outputs": [
        {
          "output_type": "stream",
          "name": "stdout",
          "text": [
            "<class 'pandas.core.frame.DataFrame'>\n",
            "RangeIndex: 7974 entries, 0 to 7973\n",
            "Data columns (total 20 columns):\n",
            " #   Column          Non-Null Count  Dtype  \n",
            "---  ------          --------------  -----  \n",
            " 0   ResponseText    7974 non-null   object \n",
            " 1   Alpha3          7974 non-null   object \n",
            " 2   Country         7974 non-null   object \n",
            " 3   Document        7974 non-null   object \n",
            " 4   IkiInfo         346 non-null    object \n",
            " 5   Source          7974 non-null   object \n",
            " 6   Target          7974 non-null   bool   \n",
            " 7   Netzero         346 non-null    float64\n",
            " 8   Adaptation      7974 non-null   bool   \n",
            " 9   Mitigation      7974 non-null   bool   \n",
            " 10  GHG             12 non-null     float64\n",
            " 11  Conditional     7974 non-null   bool   \n",
            " 12  Unconditional   7974 non-null   bool   \n",
            " 13  Language        7974 non-null   object \n",
            " 14  CWInfo          7628 non-null   object \n",
            " 15  Action          7628 non-null   float64\n",
            " 16  Policies_Plans  7628 non-null   float64\n",
            " 17  Context         7974 non-null   object \n",
            " 18  Strategy        7974 non-null   object \n",
            " 19  positive        7974 non-null   bool   \n",
            "dtypes: bool(6), float64(4), object(10)\n",
            "memory usage: 919.0+ KB\n"
          ]
        }
      ]
    },
    {
      "cell_type": "code",
      "source": [
        "df_small = pd.concat([positive,negative],ignore_index=True)\n",
        "df_small.info()"
      ],
      "metadata": {
        "colab": {
          "base_uri": "https://localhost:8080/"
        },
        "id": "ixQBuf7Fijj4",
        "outputId": "ff4a94a7-fb8d-4522-9880-791709049dc5"
      },
      "execution_count": null,
      "outputs": [
        {
          "output_type": "stream",
          "name": "stdout",
          "text": [
            "<class 'pandas.core.frame.DataFrame'>\n",
            "RangeIndex: 18301 entries, 0 to 18300\n",
            "Data columns (total 23 columns):\n",
            " #   Column                    Non-Null Count  Dtype  \n",
            "---  ------                    --------------  -----  \n",
            " 0   ResponseText              18301 non-null  object \n",
            " 1   Alpha3                    18301 non-null  object \n",
            " 2   Country                   18301 non-null  object \n",
            " 3   Document                  18301 non-null  object \n",
            " 4   IkiInfo                   831 non-null    object \n",
            " 5   Source                    18301 non-null  object \n",
            " 6   Target                    18301 non-null  bool   \n",
            " 7   Netzero                   831 non-null    float64\n",
            " 8   Adaptation                18301 non-null  bool   \n",
            " 9   Mitigation                18301 non-null  bool   \n",
            " 10  GHG                       12 non-null     float64\n",
            " 11  Conditional               18301 non-null  bool   \n",
            " 12  Unconditional             18301 non-null  bool   \n",
            " 13  Language                  18301 non-null  object \n",
            " 14  CWInfo                    17470 non-null  object \n",
            " 15  Action                    17470 non-null  float64\n",
            " 16  Policies_Plans            17470 non-null  float64\n",
            " 17  Context                   18301 non-null  object \n",
            " 18  Strategy                  18301 non-null  object \n",
            " 19  MatchOnResponse           10327 non-null  float64\n",
            " 20  FetchedText               10327 non-null  object \n",
            " 21  positive                  18301 non-null  bool   \n",
            " 22  CandidateMatchOnResponse  10327 non-null  object \n",
            "dtypes: bool(6), float64(5), object(12)\n",
            "memory usage: 2.5+ MB\n"
          ]
        }
      ]
    },
    {
      "cell_type": "code",
      "source": [
        "# #save the results if you want\n",
        "# import json\n",
        "# jsonfile = df_small.to_json(orient=\"records\")\n",
        "# parsed = json.loads(jsonfile)\n",
        "# with open(path_to_step5+ 'output/df_small.json', 'w') as file:\n",
        "#     json.dump(parsed, file, indent=4)"
      ],
      "metadata": {
        "id": "lCHNzrtmitRv"
      },
      "execution_count": null,
      "outputs": []
    },
    {
      "cell_type": "markdown",
      "source": [
        "# Labels Finalization\n",
        "\n",
        "In this section we build on Labels using the Question Definition. Analysis reveals that Question definition is better suited for Labelling and its more graular than QuestionText"
      ],
      "metadata": {
        "id": "tMtH3Tuxi6pB"
      }
    },
    {
      "cell_type": "code",
      "source": [
        "import pandas as pd\n",
        "from tqdm import tqdm\n",
        "tqdm.pandas()"
      ],
      "metadata": {
        "id": "-dR4DbSGXm0-"
      },
      "execution_count": null,
      "outputs": []
    },
    {
      "cell_type": "code",
      "source": [
        "import pandas as pd\n",
        "pd.set_option('display.max_rows', 500)\n",
        "pd.set_option('display.max_columns', 500)\n",
        "path_to_step5 = \"/content/drive/MyDrive/Colab Notebooks/CPU/Step5/\"\n",
        "df_large = pd.read_json(path_to_step5+'output/df_large.json')\n",
        "df_small = pd.read_json(path_to_step5+'output/df_small.json')\n",
        "df_small['check'] = 'small'\n",
        "df_large['check'] = 'large'\n",
        "df = pd.concat([df_small,df_large], ignore_index=True)"
      ],
      "metadata": {
        "id": "10HYNQydjBDe"
      },
      "execution_count": null,
      "outputs": []
    },
    {
      "cell_type": "markdown",
      "source": [
        "In the review it is seen that the negative examples are not actually true negative examples becuase for example the paragraph might contain target information but it is not pertaining to the Sector that is being tagged and hence does not serve the purpose of providing with negative examples. For this reason We will drop the negative examples"
      ],
      "metadata": {
        "id": "zbSrAnTNuHui"
      }
    },
    {
      "cell_type": "code",
      "source": [
        "# separate out the dataset\n",
        "# filter out negative examples by the flag, for reason mentioned\n",
        "# above.\n",
        "df = df[df.positive == True]\n",
        "cw_data = df[df.Source == 'CW'].reset_index(drop=True)\n",
        "print(len(cw_data))\n",
        "iki_data = df[df.Source == 'IKITracs'].reset_index(drop=True)\n",
        "print(len(iki_data))"
      ],
      "metadata": {
        "colab": {
          "base_uri": "https://localhost:8080/"
        },
        "id": "rD15z7G-kJnX",
        "outputId": "7add4ee1-9808-4528-87ad-53802b03bfa5"
      },
      "execution_count": null,
      "outputs": [
        {
          "output_type": "stream",
          "name": "stdout",
          "text": [
            "90495\n",
            "14472\n"
          ]
        }
      ]
    },
    {
      "cell_type": "markdown",
      "source": [
        "## CW"
      ],
      "metadata": {
        "id": "5mfbp7v9Qc24"
      }
    },
    {
      "cell_type": "code",
      "source": [
        "def compress_info(response, matchingtext,info):\n",
        "    \"\"\"\n",
        "    We add the ResponseText and Matching Text from Context to CwInfo to keep it\n",
        "    all in one place\n",
        "\n",
        "    \"\"\"\n",
        "    for i in info:\n",
        "            i['ResponseText'] = response\n",
        "            i['MatchingSpanFromContext']= matchingtext\n",
        "    return info"
      ],
      "metadata": {
        "id": "Zmx-TY61joVJ"
      },
      "execution_count": null,
      "outputs": []
    },
    {
      "cell_type": "code",
      "source": [
        "cw_data['CWInfo'] = cw_data.apply(lambda x: compress_info(x['ResponseText'],\n",
        "                                                          x['FetchedText'],\n",
        "                                                          x['CWInfo']),axis=1)"
      ],
      "metadata": {
        "id": "zB3x45WmfzpV"
      },
      "execution_count": null,
      "outputs": []
    },
    {
      "cell_type": "code",
      "source": [
        "# Definining Labels based on 'QuestionDefinition', this build on top of Question Text\n",
        "# and aligns it very close to CW taxonomy and allows to tap into Adaptation OverviewCategory\n",
        "# for finding the subcategories\n",
        "\n",
        "targets_type_question_definition = ['Measurable targets or indicators',\n",
        "                                    'Targets at the sectoral level',\n",
        "    'Conditional part of mitigation target for a given sectoral downstream actions',\n",
        "    'Unconditional part of mitigation target for a given sectoral downstream action',\n",
        "    'Conditional part of mitigation target for a given sectoral upstream policy',\n",
        "    'Unconditional part of the mitigation effort for a given sectoral target',\n",
        "    'Conditional part of the mitigation target for a given sectoral target',\n",
        "    'emission reduction potential for a given sectoral target',\n",
        "    'Adaptation targets/ objectives at the sectoral level',\n",
        "    'Unconditional part of mitigation target for a given sectoral plan',\n",
        "    'Unconditional part of mitigation target for a given upstream sectoral policy',\n",
        "    'Conditional part of mitigation target for a given sectoral plan',]\n",
        "\n",
        "\n",
        "actions_type_question_definition = ['Adaptation action/priority',\n",
        "    'Emission reduction potential for a given sectoral downstream action',\n",
        "    'Conditional part of mitigation target for a given sectoral downstream actions',\n",
        "    'Condition actions of the sectoral level',\n",
        "    'Unconditional part of mitigation target for a given sectoral downstream action',\n",
        "    'Existing sectoral downstream actions that the NDC builds on',\n",
        "    'Sectoral downstream actions to be undertaken as part of the NDC contribution',\n",
        "    'Unconditional sectoral actions',]\n",
        "\n",
        "\n",
        "policies_type_question_definition = ['Sectoral plans and strategies for adaptation.',\n",
        "    'Conditional part of mitigation target for a given sectoral upstream policy',\n",
        "    'Information on the existing upstream sectoral policies that the NDC builds on',\n",
        "    'Information on upstream policies for a given sector',\n",
        "    'Whether the upstream policy in the given sector builds on NAMA',\n",
        "    'Unconditional part of mitigation target for a given upstream sectoral policy',\n",
        "    'Emission reduction potential for a given sectoral upstream',]\n",
        "\n",
        "\n",
        "plans_type_question_definition = ['Sectoral plans and strategies for adaptation.',\n",
        "    'Information on sectoral plans',\n",
        "    'emission reduction potential for a given sectoral plan',\n",
        "    'Unconditional part of mitigation target for a given sectoral plan',\n",
        "    'Conditional part of mitigation target for a given sectoral plan',]\n",
        "\n",
        "\n",
        "conditional_type_question_definition = ['Condition actions of the sectoral level',\n",
        "    'Conditional part of mitigation target for a given sectoral downstream actions',\n",
        "    'Conditional part of mitigation target for a given sectoral upstream policy',\n",
        "    'Conditional part of the mitigation target for a given sectoral target',\n",
        "    'Conditional part of mitigation target for a given sectoral plan',\n",
        "    'The agency responsible for implementing the sectoral conditional action',\n",
        "    'The funders for sectoral unconditional actions',]\n",
        "\n",
        "\n",
        "unconditional_type_question_definition = ['Unconditional sectoral actions',\n",
        "    'Unconditional part of mitigation target for a given sectoral downstream action',\n",
        "    'Unconditional part of the mitigation effort for a given sectoral target',\n",
        "    'Unconditional part of mitigation target for a given sectoral plan',\n",
        "    'Unconditional part of mitigation target for a given upstream sectoral policy',\n",
        "    'The agency responsible for implementing the sectoral unconditional actions',\n",
        "    'The funders for sectoral unconditional actions'   ]\n",
        "\n",
        "adaptation_type_OverviewCategory = ['Adaptation Commitments']\n",
        "\n",
        "mitigation_type_OverviewCategory = ['Sectoral Mitigation Actions',\n",
        "                                    'Sectoral Mitigation Targets',\n",
        "                                    'Sectoral Mitigation Plans',\n",
        "                                    'Sectoral Mitigation Policies']"
      ],
      "metadata": {
        "id": "7_nYwJW5lbEr"
      },
      "execution_count": null,
      "outputs": []
    },
    {
      "cell_type": "code",
      "source": [
        "# cw_data.drop(columns = ['Target', 'Netzero', 'Adaptation', 'Mitigation', 'GHG',\n",
        "#                         'Conditional','Unconditional', 'Action', 'Policies_Plans',\n",
        "#                         'IkiInfo','ResponseText','FetchedText','MatchOnResponse',\n",
        "#                         'CandidateMatchOnResponse','check','positive'],\n",
        "#                          inplace=True)"
      ],
      "metadata": {
        "id": "13bh5LNnRzSK"
      },
      "execution_count": null,
      "outputs": []
    },
    {
      "cell_type": "markdown",
      "source": [
        "### Groupby Context\n",
        "\n",
        "We start the grouping of Context. So far we have each responsetext from CW and\n",
        "attached the Context to this responsetext. The labels are attached with ResponseText, but now we need to apply the labels to the Context.\n",
        "\n",
        "- Step1: Groupby the Context (keep startegy separately)\n",
        "- Step2: Apply labels at Context level now."
      ],
      "metadata": {
        "id": "tm1i63uQUXLM"
      }
    },
    {
      "cell_type": "code",
      "source": [
        "# split dataset by strategy\n",
        "df_small = cw_data[cw_data.Strategy == 'small']\n",
        "df_medium = cw_data[cw_data.Strategy == 'medium']\n",
        "df_large = cw_data[cw_data.Strategy == 'large']\n",
        "\n",
        "# apply the groupby, we collect all information as set or list depending on kind of\n",
        "# variable\n",
        "df_small = df_small.groupby(['Context','Alpha3'], as_index = False)\\\n",
        "                    .agg({'Country':set,'Document':set,'Language':set,\n",
        "                           'CWInfo':list})\n",
        "\n",
        "df_medium = df_medium.groupby(['Context','Alpha3'], as_index = False)\\\n",
        "                    .agg({'Country':set,'Document':set,'Language':set,\n",
        "                       'CWInfo':list})\n",
        "\n",
        "df_large = df_large.groupby(['Context','Alpha3'], as_index = False)\\\n",
        "                    .agg({'Country':set,'Document':set,'Language':set,\n",
        "                           'CWInfo':list})"
      ],
      "metadata": {
        "id": "AVl3Tk0XUVyf"
      },
      "execution_count": null,
      "outputs": []
    },
    {
      "cell_type": "code",
      "source": [
        "# Extract the  CW info, we pass the field name whcih need to be extacted from CWInfo\n",
        "def cw_extract_info(infolist,var):\n",
        "    return list(set([i[var].strip() for i in infolist]))\n",
        "\n",
        "# Helper functions to work with Groupby aggregated values\n",
        "def check_noneandempty(x):\n",
        "    if x is not None:\n",
        "        if (len(x) !=0):\n",
        "          return True\n",
        "    return False\n",
        "\n",
        "def flatten(x):\n",
        "    \"\"\"\n",
        "    check if the empty list, if not then will flatten the list of list\"\"\"\n",
        "    temp = []\n",
        "    if check_noneandempty(x):\n",
        "      for sublist in x:\n",
        "          if check_noneandempty(sublist):\n",
        "            for item in sublist:\n",
        "                temp.append(item)\n",
        "    return temp\n",
        "\n",
        "def df_harmonize(df):\n",
        "    \"\"\"\n",
        "    given the cw dataframe we get all the necessary information as columns\n",
        "    and at same time using the helper functions make the aggregated values\n",
        "\n",
        "    \"\"\"\n",
        "    df['Country'] = df.Country.apply(lambda x: list(x)[0])\n",
        "    df['Language'] = df.Language.apply(lambda x: list(x)[0])\n",
        "    df['Document'] = df.Document.apply(lambda x: list(x))\n",
        "    df['CWInfo'] = df.CWInfo.apply(lambda x: flatten(x))\n",
        "    df['Sector'] = df.apply(lambda x: cw_extract_info(x['CWInfo'],'Sector'),axis=1)\n",
        "    df['SubSector'] = df.apply(lambda x: cw_extract_info(x['CWInfo'],'SubSector'),axis=1)\n",
        "    df['OverviewCategory'] = df.apply(lambda x: cw_extract_info(x['CWInfo'],\n",
        "                                                    'OverviewCategory'),axis=1)\n",
        "    df['QuestionText'] = df.apply(lambda x: cw_extract_info(x['CWInfo'],\n",
        "                                                            'QuestionText'),axis=1)\n",
        "    df['QuestionDefinition'] = df.apply(lambda x: cw_extract_info(x['CWInfo'],\n",
        "                                                      'QuestionDefinition'),axis=1)\n",
        "    return df"
      ],
      "metadata": {
        "id": "WgFUZQMjnENG"
      },
      "execution_count": null,
      "outputs": []
    },
    {
      "cell_type": "code",
      "source": [
        "# Normalize the dataframe by getting all important CW information as columns\n",
        "df_small = df_harmonize(df_small)\n",
        "df_medium = df_harmonize(df_medium)\n",
        "df_large = df_harmonize(df_large)\n",
        "\n",
        "df_small['Strategy'] = 'small'\n",
        "df_medium['Strategy'] = 'medium'\n",
        "df_large['Strategy'] = 'large'\n",
        "\n",
        "cw_data = pd.concat([df_large,df_medium,df_small],ignore_index=True)"
      ],
      "metadata": {
        "id": "8VHO-N-eioa0"
      },
      "execution_count": null,
      "outputs": []
    },
    {
      "cell_type": "code",
      "source": [
        "# method to get the labels value\n",
        "def labels_check(list1,checkin):\n",
        "    return any([True if i in checkin else False for i in list1])\n"
      ],
      "metadata": {
        "id": "jCd0T6lIvVNq"
      },
      "execution_count": null,
      "outputs": []
    },
    {
      "cell_type": "code",
      "source": [
        "# extract the labels information at Context level\n",
        "cw_data['TargetLabel'] = cw_data.apply(lambda x: labels_check(x['QuestionDefinition'],\n",
        "                                          targets_type_question_definition),axis=1)\n",
        "cw_data['ActionLabel'] = cw_data.apply(lambda x: labels_check(x['QuestionDefinition'],\n",
        "                                          actions_type_question_definition),axis=1)\n",
        "cw_data['PolicyLabel'] = cw_data.apply(lambda x: labels_check(x['QuestionDefinition'],\n",
        "                                          policies_type_question_definition),axis=1)\n",
        "cw_data['PlansLabel'] = cw_data.apply(lambda x: labels_check(x['QuestionDefinition'],\n",
        "                                          plans_type_question_definition),axis=1)\n",
        "cw_data['ConditionalLabel'] = cw_data.apply(lambda x: labels_check(x['QuestionDefinition'],\n",
        "                                          conditional_type_question_definition),axis=1)\n",
        "cw_data['UnconditionalLabel'] = cw_data.apply(lambda x: labels_check(x['QuestionDefinition'],\n",
        "                                          unconditional_type_question_definition),axis=1)\n",
        "cw_data['AdaptationLabel'] = cw_data.apply(lambda x: labels_check(x['OverviewCategory'],\n",
        "                                          adaptation_type_OverviewCategory),axis=1)\n",
        "cw_data['MitigationLabel'] = cw_data.apply(lambda x: labels_check(x['OverviewCategory'],\n",
        "                                          mitigation_type_OverviewCategory),axis=1)"
      ],
      "metadata": {
        "id": "Oyl7znPpo8_t"
      },
      "execution_count": null,
      "outputs": []
    },
    {
      "cell_type": "code",
      "source": [
        "temp = list(cw_data.QuestionDefinition)\n",
        "question_definition_list = set([item for sublist in temp for item in sublist])\n",
        "\n",
        "remaining_ques = question_definition_list - (set(targets_type_question_definition).union(\n",
        "                                      actions_type_question_definition,\n",
        "                                      plans_type_question_definition,\n",
        "                                      policies_type_question_definition,\n",
        "                                      conditional_type_question_definition,\n",
        "                                      unconditional_type_question_definition))\n",
        "remaining_ques"
      ],
      "metadata": {
        "colab": {
          "base_uri": "https://localhost:8080/"
        },
        "id": "OtQ_ruH4TP2h",
        "outputId": "3f9e23a6-6b6e-41eb-b501-58dae5ccc2a5"
      },
      "execution_count": null,
      "outputs": [
        {
          "output_type": "execute_result",
          "data": {
            "text/plain": [
              "{'Capacity building needed for a given sectoral downstream action',\n",
              " 'Capacity building needed for a given sectoral plan',\n",
              " 'Capacity building needed for a given sectoral target',\n",
              " 'Capacity building needed for a given sectoral upstream policy',\n",
              " 'Capacity building needs for Sectoral implementation',\n",
              " 'GCA_Sector',\n",
              " 'GCA_Sector_2',\n",
              " 'GCA_Sector_3',\n",
              " 'Information on how progress for sectoral implementation will be tracked',\n",
              " 'Information on progress towards a given sectoral target',\n",
              " 'Technology needed for a given sectoral downstream action',\n",
              " 'Technology needed for a given sectoral plan',\n",
              " 'Technology needed for a given sectoral target',\n",
              " 'Technology needed for a given sectoral upstream policy',\n",
              " 'Technology transfer needs for sectoral implementation',\n",
              " 'The funders for sectoral conditional actions',\n",
              " 'Time frame'}"
            ]
          },
          "metadata": {},
          "execution_count": 97
        }
      ]
    },
    {
      "cell_type": "code",
      "source": [
        "# We have the labels, in some cases the 'False' Label does not represent the ground\n",
        "# truth. If sme question category is not assigned to the text it does not mean\n",
        "# that that category is not present. The way to insure that this does not happen\n",
        "# we will use the 'OVerviewCategory' to in some cases to make entries as\n",
        "# non-applicable to those labels by assigning them None value.\n",
        "\n",
        "# For Target, Action, Policy and Plans, we use 'OverviewCategory' to define None.\n",
        "# Ex: We have TargetLabel == False, because none of the Questiondefinition which identify\n",
        "# 'Target' is present. However in Overviewcategory we still have 'Sectoral Mitigaton Target'.\n",
        "# in this case we will discard this entry and make TargetLabel == None, because this\n",
        "# cannot be ascertained as False example for TargetLabel.\n",
        "\n",
        "cw_data['TargetLabel'] = cw_data.apply(lambda x: True\n",
        "                              if (x['TargetLabel'] == True)\n",
        "                              else False if\n",
        "                             ('Sectoral Mitigation Targets'\n",
        "                              not in x['OverviewCategory']) else None, axis=1)\n",
        "\n",
        "\n",
        "cw_data['ActionLabel'] = cw_data.apply(lambda x: True\n",
        "                              if (x['ActionLabel'] == True)\n",
        "                              else False if\n",
        "                             ('Sectoral Mitigation Actions'\n",
        "                              not in x['OverviewCategory']) else None, axis=1)\n",
        "\n",
        "cw_data['PolicyLabel'] = cw_data.apply(lambda x: True\n",
        "                              if (x['PolicyLabel'] == True)\n",
        "                              else False if\n",
        "                              ('Sectoral Mitigation Policies'\n",
        "                              not in x['OverviewCategory']) else None, axis=1)\n",
        "\n",
        "cw_data['PlansLabel'] = cw_data.apply(lambda x: True\n",
        "                              if (x['PlansLabel'] == True)\n",
        "                              else False if\n",
        "                             ('Sectoral Mitigation Planss'\n",
        "                              not in x['OverviewCategory']) else None, axis=1)\n",
        "\n",
        "cw_data['AdaptationLabel'] = cw_data.apply(lambda x: True\n",
        "                              if (x['AdaptationLabel'] == True)\n",
        "                              else False if\n",
        "                              ('Adaptation Commitments'\n",
        "                              not in x['OverviewCategory']) else None, axis=1)\n",
        "cw_data['MitigationLabel'] = cw_data.apply(lambda x: True\n",
        "                              if (x['MitigationLabel'] == True)\n",
        "                              else False if\n",
        "                             ('Mitigation'\n",
        "                              not in str(x['OverviewCategory'])) else None, axis=1)\n",
        "\n",
        "# for conditionality and Unconditionality are kept as independent and anything which doesnt\n",
        "# belong to Conditonality QuestionDefinition category will go into False. Similar\n",
        "# is case for Unconditionality\n",
        "# cw_data['ConditionalLabel'] = cw_data.apply(lambda x: True\n",
        "#                               if ((x['ConditionalLabel'] == True)&(x['positive'] ==True))\n",
        "#                               else False, axis=1)\n",
        "\n",
        "# cw_data['UnconditionalLabel'] = cw_data.apply(lambda x: True\n",
        "#                               if ((x['UnconditionalLabel'] == True)&(x['positive'] ==True))\n",
        "#                               else False, axis=1)"
      ],
      "metadata": {
        "id": "zzC5e7Tdgt2Y"
      },
      "execution_count": null,
      "outputs": []
    },
    {
      "cell_type": "code",
      "source": [
        "cw_data.info()"
      ],
      "metadata": {
        "colab": {
          "base_uri": "https://localhost:8080/"
        },
        "id": "bIMBuX9My3ew",
        "outputId": "a5f493c4-a82f-4427-efa5-617cd17e5dd8"
      },
      "execution_count": null,
      "outputs": [
        {
          "output_type": "stream",
          "name": "stdout",
          "text": [
            "<class 'pandas.core.frame.DataFrame'>\n",
            "RangeIndex: 33314 entries, 0 to 33313\n",
            "Data columns (total 20 columns):\n",
            " #   Column              Non-Null Count  Dtype \n",
            "---  ------              --------------  ----- \n",
            " 0   Context             33314 non-null  object\n",
            " 1   Alpha3              33314 non-null  object\n",
            " 2   Country             33314 non-null  object\n",
            " 3   Document            33314 non-null  object\n",
            " 4   Language            33314 non-null  object\n",
            " 5   CWInfo              33314 non-null  object\n",
            " 6   Sector              33314 non-null  object\n",
            " 7   SubSector           33314 non-null  object\n",
            " 8   OverviewCategory    33314 non-null  object\n",
            " 9   QuestionText        33314 non-null  object\n",
            " 10  QuestionDefinition  33314 non-null  object\n",
            " 11  Strategy            33314 non-null  object\n",
            " 12  TargetLabel         33195 non-null  object\n",
            " 13  ActionLabel         33229 non-null  object\n",
            " 14  PolicyLabel         33220 non-null  object\n",
            " 15  PlansLabel          33314 non-null  bool  \n",
            " 16  ConditionalLabel    33314 non-null  bool  \n",
            " 17  UnconditionalLabel  33314 non-null  bool  \n",
            " 18  AdaptationLabel     33314 non-null  bool  \n",
            " 19  MitigationLabel     33314 non-null  bool  \n",
            "dtypes: bool(5), object(15)\n",
            "memory usage: 4.0+ MB\n"
          ]
        }
      ]
    },
    {
      "cell_type": "code",
      "source": [
        "# method to get the count of each Label Category, revealing how many\n",
        "# True, False and None category we have\n",
        "def boolvalidate(data, col):\n",
        "    print('Total count', len(data))\n",
        "    print('{} count'.format(col), sum(data[col] == True),\n",
        "          'Non {} count'.format(col), sum(data[col]==False))\n",
        "    print('Missig values', sum(data[col].isna()))"
      ],
      "metadata": {
        "id": "h32oYXen6zTh"
      },
      "execution_count": null,
      "outputs": []
    },
    {
      "cell_type": "code",
      "source": [
        "boolvalidate(cw_data[cw_data.Strategy == 'medium'],'TargetLabel')\n",
        "boolvalidate(cw_data[cw_data.Strategy == 'medium'],'ActionLabel')\n",
        "boolvalidate(cw_data[cw_data.Strategy == 'medium'],'PolicyLabel')\n",
        "boolvalidate(cw_data[cw_data.Strategy == 'medium'],'PlansLabel')\n",
        "boolvalidate(cw_data[cw_data.Strategy == 'medium'],'ConditionalLabel')\n",
        "boolvalidate(cw_data[cw_data.Strategy == 'medium'],'UnconditionalLabel')\n",
        "boolvalidate(cw_data[cw_data.Strategy == 'medium'],'AdaptationLabel')\n",
        "boolvalidate(cw_data[cw_data.Strategy == 'medium'],'MitigationLabel')"
      ],
      "metadata": {
        "colab": {
          "base_uri": "https://localhost:8080/"
        },
        "id": "MIQ8MHIAhVa1",
        "outputId": "c599c0f1-7c04-4703-eded-535af9eec363"
      },
      "execution_count": null,
      "outputs": [
        {
          "output_type": "stream",
          "name": "stdout",
          "text": [
            "Total count 11484\n",
            "TargetLabel count 3298 Non TargetLabel count 8143\n",
            "Missig values 43\n",
            "Total count 11484\n",
            "ActionLabel count 6176 Non ActionLabel count 5278\n",
            "Missig values 30\n",
            "Total count 11484\n",
            "PolicyLabel count 1581 Non PolicyLabel count 9874\n",
            "Missig values 29\n",
            "Total count 11484\n",
            "PlansLabel count 2446 Non PlansLabel count 9038\n",
            "Missig values 0\n",
            "Total count 11484\n",
            "ConditionalLabel count 2071 Non ConditionalLabel count 9413\n",
            "Missig values 0\n",
            "Total count 11484\n",
            "UnconditionalLabel count 974 Non UnconditionalLabel count 10510\n",
            "Missig values 0\n",
            "Total count 11484\n",
            "AdaptationLabel count 5876 Non AdaptationLabel count 5608\n",
            "Missig values 0\n",
            "Total count 11484\n",
            "MitigationLabel count 6006 Non MitigationLabel count 5478\n",
            "Missig values 0\n"
          ]
        }
      ]
    },
    {
      "cell_type": "code",
      "source": [
        "cw_data.rename(columns = {'OverviewCategory':'CW_OverviewCategory',\n",
        "                          'QuestionText':'CW_QuestionText',\n",
        "                          'QuestionDefinition':'CW_QuestionDefinition',\n",
        "                          }, inplace=True)"
      ],
      "metadata": {
        "id": "eOHHNGTsx_5n"
      },
      "execution_count": null,
      "outputs": []
    },
    {
      "cell_type": "markdown",
      "source": [
        "## IKI"
      ],
      "metadata": {
        "id": "k90RtQtldEy0"
      }
    },
    {
      "cell_type": "code",
      "source": [
        "# similar to CW data we apply the ResposneText and Matching text span from Context\n",
        "# transformation to ikidata\n",
        "iki_data['IkiInfo'] = iki_data.apply(lambda x: compress_info(x['ResponseText'],\n",
        "                                                          x['FetchedText'],\n",
        "                                                          x['IkiInfo']),axis=1)"
      ],
      "metadata": {
        "id": "UzoTmU9HjsEp"
      },
      "execution_count": null,
      "outputs": []
    },
    {
      "cell_type": "code",
      "source": [
        "# defining the labelling criterea for categories\n",
        "netzero_ikisheet = ['netzero']\n",
        "target_ikisheet = ['netzero', 'targets']\n",
        "ghg_yes_ikiparameter = ['T_Transport_Unc','T_Transport_C']\n",
        "ghg_no_ikiparameter = ['T_Adaptation_Unc', 'T_Adaptation_C', 'T_Transport_O_Unc',\n",
        "                                      'T_Transport_O_C']\n",
        "\n",
        "# mitigation and adaptation willneed both Sheet info and Paramter info\n",
        "mitigation_ikiparameter = ['T_Transport_O_Unc',\n",
        "                           'T_Transport_Unc',\n",
        "                           'T_Transport_C'\n",
        "                           'T_Transport_O_C']\n",
        "mitigation_ikisheet = ['mitigation']\n",
        "adaptation_ikiparameter = ['T_Adaptation_Unc', 'T_Adaptation_C']\n",
        "adaptation_ikisheet = ['adaptation']\n",
        "\n",
        "conditional_ikiparameter = ['T_Netzero_C',\n",
        "                            'T_Economy_C',\n",
        "                            'T_Transport_O_C',\n",
        "                            'T_Adaptation_C',\n",
        "                            'T_Transport_C',\n",
        "                            'M_Volume_c']\n",
        "unconditional_ikiparameter = ['T_Transport_O_Unc',\n",
        "                              'T_Economy_Unc',\n",
        "                              'T_Transport_Unc',\n",
        "                              'T_Adaptation_Unc',\n",
        "                              'M_Volume_unc']"
      ],
      "metadata": {
        "id": "GSJfVZ8rjzYc"
      },
      "execution_count": null,
      "outputs": []
    },
    {
      "cell_type": "markdown",
      "source": [
        "### Groupby Context"
      ],
      "metadata": {
        "id": "EilClA6A5M5u"
      }
    },
    {
      "cell_type": "code",
      "source": [
        "# split datasrt by Strategy\n",
        "df_small = iki_data[iki_data.Strategy == 'small']\n",
        "df_medium = iki_data[iki_data.Strategy == 'medium']\n",
        "df_large = iki_data[iki_data.Strategy == 'large']\n",
        "\n",
        "# apply groupby\n",
        "df_small = df_small.groupby(['Context','Alpha3'], as_index = False)\\\n",
        "                    .agg({'Country':set,'Document':set,'Language':set,\n",
        "                          'IkiInfo':list})\n",
        "\n",
        "df_medium = df_medium.groupby(['Context','Alpha3'], as_index = False)\\\n",
        "                    .agg({'Country':set,'Document':set,'Language':set,\n",
        "                          'IkiInfo':list})\n",
        "\n",
        "df_large = df_large.groupby(['Context','Alpha3'], as_index = False)\\\n",
        "                    .agg({'Country':set,'Document':set,'Language':set,\n",
        "                          'IkiInfo':list})"
      ],
      "metadata": {
        "id": "2rgrf_i5486E"
      },
      "execution_count": null,
      "outputs": []
    },
    {
      "cell_type": "code",
      "source": [
        "# Extract the  IKI info, we apss the field anme whcih need to be extacted from CWInfo\n",
        "def iki_extract_info(infolist,var):\n",
        "    return list(set([i[var] for i in infolist]))\n",
        "\n",
        "\n",
        "def df_harmonize_iki(df):\n",
        "    \"\"\"\n",
        "    given the cw dataframe we get all the necessary information as columns\n",
        "    and at same time using the helper functions make the aggregated values\n",
        "    readable\n",
        "\n",
        "    \"\"\"\n",
        "    df['Country'] = df.Country.apply(lambda x: list(x)[0])\n",
        "    df['Language'] = df.Language.apply(lambda x: list(x)[0])\n",
        "    df['Document'] = df.Document.apply(lambda x: list(x))\n",
        "    df['IkiInfo'] = df.IkiInfo.apply(lambda x: flatten(x))\n",
        "    df['IkiSheet'] = df.apply(lambda x: iki_extract_info(x['IkiInfo'],'IkiSheet'),axis=1)\n",
        "    df['Parameter'] = df.apply(lambda x: iki_extract_info(x['IkiInfo'],'parameter'),axis=1)\n",
        "    return df"
      ],
      "metadata": {
        "id": "Wz4_AehZdTIU"
      },
      "execution_count": null,
      "outputs": []
    },
    {
      "cell_type": "code",
      "source": [
        "df_small = df_harmonize_iki(df_small)\n",
        "df_medium = df_harmonize_iki(df_medium)\n",
        "df_large = df_harmonize_iki(df_large)\n",
        "\n",
        "df_small['Strategy'] = 'small'\n",
        "df_medium['Strategy'] = 'medium'\n",
        "df_large['Strategy'] = 'large'\n",
        "\n",
        "iki_data = pd.concat([df_large,df_medium,df_small],ignore_index=True)"
      ],
      "metadata": {
        "id": "xeI6GnzM6zJi"
      },
      "execution_count": null,
      "outputs": []
    },
    {
      "cell_type": "code",
      "source": [
        "# Getting Target labels based on Sheet Info\n",
        "iki_data['TargetLabel'] = iki_data.apply(lambda x: labels_check(x['IkiSheet'],\n",
        "                                          target_ikisheet),axis=1)\n",
        "iki_data['NetzeroLabel'] = iki_data.apply(lambda x: labels_check(x['IkiSheet'],\n",
        "                                          netzero_ikisheet),axis=1)\n",
        "iki_data['GHGLabel'] = iki_data.apply(lambda x: labels_check(x['Parameter'],\n",
        "                                          ghg_yes_ikiparameter),axis=1)\n",
        "iki_data['NonGHGLabel'] = iki_data.apply(lambda x: labels_check(x['Parameter'],\n",
        "                                          ghg_no_ikiparameter),axis=1)\n",
        "\n",
        "iki_data['Adaptation_sheet'] = iki_data.apply(lambda x:labels_check(x['IkiSheet'],\n",
        "                                                    adaptation_ikisheet),axis=1)\n",
        "iki_data['Adaptation_param'] = iki_data.apply(lambda x:labels_check(x['Parameter'],\n",
        "                                                adaptation_ikiparameter),axis=1)\n",
        "iki_data['AdaptationLabel'] = iki_data.apply(lambda x: True if\n",
        "              ((x['Adaptation_sheet'] ==True)or(x['Adaptation_param'] == True))\n",
        "              else False,axis=True)\n",
        "iki_data.drop(columns  = ['Adaptation_sheet','Adaptation_param'],inplace=True)\n",
        "\n",
        "\n",
        "iki_data['Mitigation_sheet'] = iki_data.apply(lambda x:labels_check(x['IkiSheet'],\n",
        "                                                    mitigation_ikisheet),axis=1)\n",
        "iki_data['Mitigation_param'] = iki_data.apply(lambda x:labels_check(x['Parameter'],\n",
        "                                                mitigation_ikiparameter),axis=1)\n",
        "iki_data['MitigationLabel'] = iki_data.apply(lambda x: True if\n",
        "              ((x['Mitigation_sheet'] ==True)or(x['Mitigation_param'] == True))\n",
        "              else False,axis=True)\n",
        "iki_data.drop(columns  = ['Mitigation_sheet','Mitigation_param'],inplace=True)\n",
        "\n",
        "\n",
        "iki_data['ConditionalLabel'] = iki_data.apply(lambda x: labels_check(x['Parameter'],\n",
        "                                          conditional_ikiparameter),axis=1)\n",
        "\n",
        "iki_data['UnconditionalLabel'] = iki_data.apply(lambda x: labels_check(x['Parameter'],\n",
        "                                          unconditional_ikiparameter),axis=1)\n",
        "\n",
        "\n",
        "# LAbel Refinement\n",
        "iki_data['TargetLabel'] = iki_data.apply(lambda x: True\n",
        "                              if (x['TargetLabel'] == True)\n",
        "                              else False if ('targets'\n",
        "                              not in x['IkiSheet']) else None, axis=1)\n",
        "\n",
        "iki_data['NetzeroLabel'] = iki_data.apply(lambda x: True\n",
        "                              if (x['NetzeroLabel'] == True)\n",
        "                              else False if\n",
        "                             ('netzero'\n",
        "                              not in x['IkiSheet']) else None, axis=1)"
      ],
      "metadata": {
        "id": "z0674qqikEKs"
      },
      "execution_count": null,
      "outputs": []
    },
    {
      "cell_type": "code",
      "source": [
        "iki_data.info()"
      ],
      "metadata": {
        "colab": {
          "base_uri": "https://localhost:8080/"
        },
        "id": "2iLJIC5r1rsF",
        "outputId": "97975d60-102f-4f22-e0cc-b56d0d158029"
      },
      "execution_count": null,
      "outputs": [
        {
          "output_type": "stream",
          "name": "stdout",
          "text": [
            "<class 'pandas.core.frame.DataFrame'>\n",
            "RangeIndex: 8613 entries, 0 to 8612\n",
            "Data columns (total 17 columns):\n",
            " #   Column              Non-Null Count  Dtype \n",
            "---  ------              --------------  ----- \n",
            " 0   Context             8613 non-null   object\n",
            " 1   Alpha3              8613 non-null   object\n",
            " 2   Country             8613 non-null   object\n",
            " 3   Document            8613 non-null   object\n",
            " 4   Language            8613 non-null   object\n",
            " 5   IkiInfo             8613 non-null   object\n",
            " 6   IkiSheet            8613 non-null   object\n",
            " 7   Parameter           8613 non-null   object\n",
            " 8   Strategy            8613 non-null   object\n",
            " 9   TargetLabel         8613 non-null   bool  \n",
            " 10  NetzeroLabel        8613 non-null   bool  \n",
            " 11  GHGLabel            8613 non-null   bool  \n",
            " 12  NonGHGLabel         8613 non-null   bool  \n",
            " 13  AdaptationLabel     8613 non-null   bool  \n",
            " 14  MitigationLabel     8613 non-null   bool  \n",
            " 15  ConditionalLabel    8613 non-null   bool  \n",
            " 16  UnconditionalLabel  8613 non-null   bool  \n",
            "dtypes: bool(8), object(9)\n",
            "memory usage: 673.0+ KB\n"
          ]
        }
      ]
    },
    {
      "cell_type": "code",
      "source": [
        "boolvalidate(iki_data[iki_data.Strategy == 'medium'],'TargetLabel')\n",
        "boolvalidate(iki_data[iki_data.Strategy == 'medium'],'NetzeroLabel')\n",
        "boolvalidate(iki_data[iki_data.Strategy == 'medium'],'GHGLabel')\n",
        "boolvalidate(iki_data[iki_data.Strategy == 'medium'],'NonGHGLabel')\n",
        "boolvalidate(iki_data[iki_data.Strategy == 'medium'],'ConditionalLabel')\n",
        "boolvalidate(iki_data[iki_data.Strategy == 'medium'],'UnconditionalLabel')\n",
        "boolvalidate(iki_data[iki_data.Strategy == 'medium'],'AdaptationLabel')\n",
        "boolvalidate(iki_data[iki_data.Strategy == 'medium'],'MitigationLabel')"
      ],
      "metadata": {
        "colab": {
          "base_uri": "https://localhost:8080/"
        },
        "id": "Wyvqf4hLxMbS",
        "outputId": "65a7340e-4364-489a-9ebe-9a8e84279ad5"
      },
      "execution_count": null,
      "outputs": [
        {
          "output_type": "stream",
          "name": "stdout",
          "text": [
            "Total count 3009\n",
            "TargetLabel count 854 Non TargetLabel count 2155\n",
            "Missig values 0\n",
            "Total count 3009\n",
            "NetzeroLabel count 88 Non NetzeroLabel count 2921\n",
            "Missig values 0\n",
            "Total count 3009\n",
            "GHGLabel count 57 Non GHGLabel count 2952\n",
            "Missig values 0\n",
            "Total count 3009\n",
            "NonGHGLabel count 247 Non NonGHGLabel count 2762\n",
            "Missig values 0\n",
            "Total count 3009\n",
            "ConditionalLabel count 247 Non ConditionalLabel count 2762\n",
            "Missig values 0\n",
            "Total count 3009\n",
            "UnconditionalLabel count 553 Non UnconditionalLabel count 2456\n",
            "Missig values 0\n",
            "Total count 3009\n",
            "AdaptationLabel count 286 Non AdaptationLabel count 2723\n",
            "Missig values 0\n",
            "Total count 3009\n",
            "MitigationLabel count 1755 Non MitigationLabel count 1254\n",
            "Missig values 0\n"
          ]
        }
      ]
    },
    {
      "cell_type": "code",
      "source": [
        "iki_data.rename(columns = {'IkiSheet':'IKI_DataSheet',\n",
        "                          'Parameter':'IKI_Parameter'}, inplace=True)"
      ],
      "metadata": {
        "id": "h5hRRWeBx2S4"
      },
      "execution_count": null,
      "outputs": []
    },
    {
      "cell_type": "markdown",
      "source": [
        "### Context Tranlsation > 'en'\n",
        "\n",
        "Some ResposneText are in non-english langauges mainly 'fr' and 'es'. We will Tranlsate these context into 'en' so that dataset if need to be used only for english can be utilized fully."
      ],
      "metadata": {
        "id": "WgtwCLH7Is0L"
      }
    },
    {
      "cell_type": "code",
      "source": [
        "from torch import cuda\n",
        "device = 'cuda' if cuda.is_available() else 'cpu'\n",
        "\n",
        "from transformers import MBartForConditionalGeneration, MBart50TokenizerFast\n",
        "from transformers import AutoTokenizer, AutoModelForSequenceClassification, TextClassificationPipeline\n",
        "model = MBartForConditionalGeneration.from_pretrained(\"facebook/mbart-large-50-many-to-one-mmt\").to(device)\n",
        "tokenizer = MBart50TokenizerFast.from_pretrained(\"facebook/mbart-large-50-many-to-one-mmt\")\n",
        "\n",
        "# define the language mapping. Check the language of documents we have and perform\n",
        "# maping as defined at  https://huggingface.co/facebook/mbart-large-50-many-to-one-mmt\n",
        "\n",
        "language_dict = {'fr':'fr_XX',\n",
        "                 'es':'es_XX',\n",
        "                 'zh-cn':'zh_CN',\n",
        "                 'ar':'ar_AR'}\n",
        "\n",
        "def translate(lang, paragraph):\n",
        "    \"\"\"\n",
        "    Takes text and translate it to other langauge, defualt ='english'\n",
        "\n",
        "    Params\n",
        "    -----------------\n",
        "    lang: langauge of the text/paragraph\n",
        "    paragraph: text chunk to be translated\n",
        "\n",
        "\n",
        "    Returns\n",
        "    ----------\n",
        "    Text: Translated text ('english')\n",
        "    \"\"\"\n",
        "    tokenizer.src_lang = language_dict[lang]\n",
        "    encoded_hi = tokenizer(paragraph, return_tensors=\"pt\").to(device)\n",
        "    generated_tokens = model.generate(**encoded_hi)\n",
        "    return(''.join(tokenizer.batch_decode(generated_tokens, skip_special_tokens=True)))"
      ],
      "metadata": {
        "id": "65y1LRyKUmau"
      },
      "execution_count": null,
      "outputs": []
    },
    {
      "cell_type": "code",
      "source": [
        "# adding the Translated Context to dataframe\n",
        "iki_data['TranslatedContext'] = iki_data.progress_apply(lambda x:\n",
        "                                        translate(x['Language'],x['Context'])\n",
        "                                        if x['Language'] != 'en' else None,axis=1)"
      ],
      "metadata": {
        "id": "-Zd9S4tlU89V"
      },
      "execution_count": null,
      "outputs": []
    },
    {
      "cell_type": "code",
      "source": [
        "# translated = pd.read_json(path_to_step5+'output/Intermediate/classification_data_rawfull_grouped.json')\n",
        "# translated = translated[translated.TranslatedContext.notna()]\n",
        "# translated = translated[['Context','TranslatedContext']]\n",
        "# translated.drop_duplicates(subset = ['Context'],inplace=True)\n",
        "# translated = translated.reset_index(drop=True)\n",
        "\n",
        "# dict_ = dict(zip(translated.Context, translated.TranslatedContext))\n",
        "\n",
        "# iki_data['TranslatedContext'] = iki_data.apply(lambda x: dict_[x['Context']]\n",
        "#                                     if x['Language'] != 'en' else None,axis=1)"
      ],
      "metadata": {
        "colab": {
          "base_uri": "https://localhost:8080/"
        },
        "id": "ISGd_maz7pdR",
        "outputId": "d46f8d9e-ce03-440f-c74b-f3a8a2f80601"
      },
      "execution_count": null,
      "outputs": [
        {
          "output_type": "stream",
          "name": "stderr",
          "text": [
            "<ipython-input-114-b52582263f80>:4: SettingWithCopyWarning: \n",
            "A value is trying to be set on a copy of a slice from a DataFrame\n",
            "\n",
            "See the caveats in the documentation: https://pandas.pydata.org/pandas-docs/stable/user_guide/indexing.html#returning-a-view-versus-a-copy\n",
            "  translated.drop_duplicates(subset = ['Context'],inplace=True)\n"
          ]
        }
      ]
    },
    {
      "cell_type": "markdown",
      "source": [
        "## Merge"
      ],
      "metadata": {
        "id": "G1pdwLF7-YXd"
      }
    },
    {
      "cell_type": "code",
      "source": [
        "cw_data['Source'] = 'CW'\n",
        "cw_data['NetzeroLabel'] = None\n",
        "cw_data['GHGLabel'] = None\n",
        "cw_data['NonGHGLabel'] = None\n",
        "cw_data['IKI_Parameter'] = None\n",
        "cw_data['IKI_DataSheet'] = None\n",
        "cw_data['TranslatedContext'] = None"
      ],
      "metadata": {
        "id": "rtw9LSJq-7V-"
      },
      "execution_count": null,
      "outputs": []
    },
    {
      "cell_type": "code",
      "source": [
        "iki_data['Source'] = 'IKITracs'\n",
        "iki_data['ActionLabel'] = None\n",
        "iki_data['PolicyLabel'] = None\n",
        "iki_data['PlansLabel'] = None\n",
        "iki_data['CW_OverviewCategory'] = None\n",
        "iki_data['CW_QuestionText'] = None\n",
        "iki_data['CW_QuestionDefinition'] = None\n",
        "iki_data['Sector'] = None\n",
        "iki_data['SubSector'] = None"
      ],
      "metadata": {
        "id": "_cpa1Axq-6mw"
      },
      "execution_count": null,
      "outputs": []
    },
    {
      "cell_type": "code",
      "source": [
        "# merge both datasets\n",
        "data = pd.concat([cw_data,iki_data], ignore_index=True)\n",
        "data.info()"
      ],
      "metadata": {
        "colab": {
          "base_uri": "https://localhost:8080/"
        },
        "id": "j3983OGHWuYY",
        "outputId": "c46f0f45-45c6-490f-df03-43f37b4a80da"
      },
      "execution_count": null,
      "outputs": [
        {
          "output_type": "stream",
          "name": "stdout",
          "text": [
            "<class 'pandas.core.frame.DataFrame'>\n",
            "RangeIndex: 41927 entries, 0 to 41926\n",
            "Data columns (total 28 columns):\n",
            " #   Column                 Non-Null Count  Dtype \n",
            "---  ------                 --------------  ----- \n",
            " 0   Context                41927 non-null  object\n",
            " 1   Alpha3                 41927 non-null  object\n",
            " 2   Country                41927 non-null  object\n",
            " 3   Document               41927 non-null  object\n",
            " 4   Language               41927 non-null  object\n",
            " 5   CWInfo                 33314 non-null  object\n",
            " 6   Sector                 33314 non-null  object\n",
            " 7   SubSector              33314 non-null  object\n",
            " 8   CW_OverviewCategory    33314 non-null  object\n",
            " 9   CW_QuestionText        33314 non-null  object\n",
            " 10  CW_QuestionDefinition  33314 non-null  object\n",
            " 11  Strategy               41927 non-null  object\n",
            " 12  TargetLabel            41808 non-null  object\n",
            " 13  ActionLabel            33229 non-null  object\n",
            " 14  PolicyLabel            33220 non-null  object\n",
            " 15  PlansLabel             33314 non-null  object\n",
            " 16  ConditionalLabel       41927 non-null  bool  \n",
            " 17  UnconditionalLabel     41927 non-null  bool  \n",
            " 18  AdaptationLabel        41927 non-null  bool  \n",
            " 19  MitigationLabel        41927 non-null  bool  \n",
            " 20  Source                 41927 non-null  object\n",
            " 21  NetzeroLabel           8613 non-null   object\n",
            " 22  GHGLabel               8613 non-null   object\n",
            " 23  NonGHGLabel            8613 non-null   object\n",
            " 24  IKI_Parameter          8613 non-null   object\n",
            " 25  IKI_DataSheet          8613 non-null   object\n",
            " 26  TranslatedContext      1581 non-null   object\n",
            " 27  IkiInfo                8613 non-null   object\n",
            "dtypes: bool(4), object(24)\n",
            "memory usage: 7.8+ MB\n"
          ]
        }
      ]
    },
    {
      "cell_type": "code",
      "source": [
        "data.rename(columns ={'Sector':'SectorLabel','SubSector':'SubSectorLabel'}, inplace=True)"
      ],
      "metadata": {
        "id": "r60ixOWvJzQ0"
      },
      "execution_count": null,
      "outputs": []
    },
    {
      "cell_type": "code",
      "source": [
        "# # save the dataframe as the previous step was compute intensive\n",
        "# import json\n",
        "# jsonfile = data.to_json(orient=\"records\")\n",
        "# parsed = json.loads(jsonfile)\n",
        "# with open(path_to_step5+ 'output/classification_rawfull_grouped.json', 'w') as file:\n",
        "#     json.dump(parsed, file, indent=4)"
      ],
      "metadata": {
        "id": "0I3Y2TB9Yyj9"
      },
      "execution_count": null,
      "outputs": []
    },
    {
      "cell_type": "markdown",
      "source": [
        "# Published Dataset"
      ],
      "metadata": {
        "id": "3B1cEntBWQc5"
      }
    },
    {
      "cell_type": "code",
      "source": [
        "# import pandas as pd\n",
        "# path_to_step5 = \"/content/drive/MyDrive/Colab Notebooks/CPU/Step5/\"\n",
        "# data = pd.read_json(path_to_step5+ 'output/classification_rawfull_grouped.json')"
      ],
      "metadata": {
        "id": "v8Z1LWet6vwS"
      },
      "execution_count": null,
      "outputs": []
    },
    {
      "cell_type": "code",
      "source": [
        "data = data[data.Strategy == 'medium'].reset_index(drop=True)\n",
        "data = data[['Context','Alpha3','Document','Source','Language','TranslatedContext',\n",
        "             'SectorLabel','SubSectorLabel','TargetLabel','ActionLabel','PolicyLabel',\n",
        "             'PlansLabel','ConditionalLabel','UnconditionalLabel','AdaptationLabel',\n",
        "             'MitigationLabel','NetzeroLabel','GHGLabel','NonGHGLabel',\n",
        "             'CW_OverviewCategory','CW_QuestionText','CW_QuestionDefinition',\n",
        "             'IKI_DataSheet', 'IKI_Parameter']]"
      ],
      "metadata": {
        "id": "eisW8zpr2jgz"
      },
      "execution_count": null,
      "outputs": []
    },
    {
      "cell_type": "code",
      "source": [
        "boolvalidate(data,'TargetLabel')\n",
        "boolvalidate(data,'NetzeroLabel')\n",
        "boolvalidate(data,'GHGLabel')\n",
        "boolvalidate(data,'NonGHGLabel')\n",
        "boolvalidate(data,'ConditionalLabel')\n",
        "boolvalidate(data,'UnconditionalLabel')\n",
        "boolvalidate(data,'AdaptationLabel')\n",
        "boolvalidate(data,'MitigationLabel')\n",
        "boolvalidate(data,'ActionLabel')\n",
        "boolvalidate(data,'PolicyLabel')\n",
        "boolvalidate(data,'PlansLabel')"
      ],
      "metadata": {
        "colab": {
          "base_uri": "https://localhost:8080/"
        },
        "id": "dpvn-JnrPh91",
        "outputId": "ef80cf1e-b652-47eb-a86e-425be7e70954"
      },
      "execution_count": null,
      "outputs": [
        {
          "output_type": "stream",
          "name": "stdout",
          "text": [
            "Total count 14493\n",
            "TargetLabel count 4152 Non TargetLabel count 10298\n",
            "Missig values 43\n",
            "Total count 14493\n",
            "NetzeroLabel count 88 Non NetzeroLabel count 2921\n",
            "Missig values 11484\n",
            "Total count 14493\n",
            "GHGLabel count 57 Non GHGLabel count 2952\n",
            "Missig values 11484\n",
            "Total count 14493\n",
            "NonGHGLabel count 247 Non NonGHGLabel count 2762\n",
            "Missig values 11484\n",
            "Total count 14493\n",
            "ConditionalLabel count 2318 Non ConditionalLabel count 12175\n",
            "Missig values 0\n",
            "Total count 14493\n",
            "UnconditionalLabel count 1527 Non UnconditionalLabel count 12966\n",
            "Missig values 0\n",
            "Total count 14493\n",
            "AdaptationLabel count 6162 Non AdaptationLabel count 8331\n",
            "Missig values 0\n",
            "Total count 14493\n",
            "MitigationLabel count 7761 Non MitigationLabel count 6732\n",
            "Missig values 0\n",
            "Total count 14493\n",
            "ActionLabel count 6176 Non ActionLabel count 5278\n",
            "Missig values 3039\n",
            "Total count 14493\n",
            "PolicyLabel count 1581 Non PolicyLabel count 9874\n",
            "Missig values 3038\n",
            "Total count 14493\n",
            "PlansLabel count 2446 Non PlansLabel count 9038\n",
            "Missig values 3009\n"
          ]
        }
      ]
    },
    {
      "cell_type": "code",
      "source": [
        "def check_bool_unique(df):\n",
        "    # sometimes when saving the dataframe as json, since Label can have True, False\n",
        "    # and None, the boolean values get imputed with True >> 1.0 and False >> 0.0\n",
        "    label_col = list(df.columns)\n",
        "    label_col = list(filter(lambda x: 'Label' in x, label_col))\n",
        "    label_col = list(set(label_col) - {'SectorLabel','SubSectorLabel'})\n",
        "    for label in label_col:\n",
        "        print(label,df[label].unique())\n",
        "check_bool_unique(data)"
      ],
      "metadata": {
        "colab": {
          "base_uri": "https://localhost:8080/"
        },
        "id": "vr3uDLt28H_A",
        "outputId": "e547f3eb-1284-4827-c688-22d1a37f6f0f"
      },
      "execution_count": null,
      "outputs": [
        {
          "output_type": "stream",
          "name": "stdout",
          "text": [
            "PolicyLabel [False True None]\n",
            "UnconditionalLabel [False  True]\n",
            "ConditionalLabel [False  True]\n",
            "AdaptationLabel [False  True]\n",
            "TargetLabel [False True None]\n",
            "PlansLabel [True False None]\n",
            "NetzeroLabel [None False True]\n",
            "NonGHGLabel [None True False]\n",
            "MitigationLabel [ True False]\n",
            "GHGLabel [None False True]\n",
            "ActionLabel [False True None]\n"
          ]
        }
      ]
    },
    {
      "cell_type": "code",
      "source": [
        "data = data.groupby(['Context'], as_index = False)\\\n",
        "                .agg({'Alpha3':set,'Document':list,'Language':set,\n",
        "                      'Source':set,'TranslatedContext':set,'SectorLabel':list,\n",
        "                      'SubSectorLabel':list,'TargetLabel':set,'ActionLabel':set,\n",
        "                      'PolicyLabel':set,'PlansLabel':set,'ConditionalLabel':set,\n",
        "                      'UnconditionalLabel':set,'AdaptationLabel':set,\n",
        "                      'MitigationLabel':set,'NetzeroLabel':set,'GHGLabel':set,\n",
        "                      'NonGHGLabel':set,'CW_OverviewCategory':list,\n",
        "                      'CW_QuestionText':list,'CW_QuestionDefinition':list,\n",
        "                      'IKI_DataSheet':list, 'IKI_Parameter':list})\n",
        "\n",
        "data['Alpha3'] = data.Alpha3.apply(lambda x:list(x)[0])\n",
        "data['Document'] = data.Document.apply(lambda x: flatten(x))\n",
        "data['Language'] = data.Language.apply(lambda x: list(x)[0])\n",
        "data['Source'] = data.Source.apply(lambda x: list(x))\n",
        "data['CW_OverviewCategory'] = data.CW_OverviewCategory.apply(lambda x: flatten(x))\n",
        "data['CW_QuestionText'] = data.CW_QuestionText.apply(lambda x: flatten(x))\n",
        "data['CW_QuestionDefinition'] = data.CW_QuestionDefinition.apply(lambda x: flatten(x))\n",
        "data['IKI_DataSheet'] = data.IKI_DataSheet.apply(lambda x: flatten(x))\n",
        "data['IKI_Parameter'] = data.IKI_Parameter.apply(lambda x: flatten(x))\n",
        "data['SectorLabel'] = data.SectorLabel.apply(lambda x: flatten(x))\n",
        "data['SubSectorLabel'] = data.SubSectorLabel.apply(lambda x: flatten(x))\n",
        "\n",
        "data['TranslatedContext'] = data.apply(lambda x: x['TranslatedContext']\n",
        "                                    if x['Language'] !='en' else None, axis=1)\n",
        "data['CW_OverviewCategory'] = data.CW_OverviewCategory.apply(lambda x: x\n",
        "                                                        if len(x)!=0 else None)\n",
        "data['CW_QuestionText'] = data.CW_QuestionText.apply(lambda x: x\n",
        "                                                    if len(x)!=0 else None)\n",
        "data['CW_QuestionDefinition'] = data.CW_QuestionDefinition.apply(lambda x:\n",
        "                                                      x if len(x)!=0 else None)\n",
        "data['IKI_DataSheet'] = data.IKI_DataSheet.apply(lambda x:\n",
        "                                                x if len(x)!=0 else None)\n",
        "data['IKI_Parameter'] = data.IKI_Parameter.apply(lambda x:\n",
        "                                                 x if len(x)!=0 else None)\n",
        "data['SectorLabel'] = data.SectorLabel.apply(lambda x: x if len(x)!=0 else None)\n",
        "data['SubSectorLabel'] = data.SubSectorLabel.apply(lambda x:\n",
        "                                                   x if len(x)!=0 else None)"
      ],
      "metadata": {
        "id": "Y1p-8_ro9QTL"
      },
      "execution_count": null,
      "outputs": []
    },
    {
      "cell_type": "code",
      "source": [
        "def labels_final(df):\n",
        "    label_col = list(df.columns)\n",
        "    label_col = list(filter(lambda x: 'Label' in x, label_col))\n",
        "    label_col = list(set(label_col) - {'SectorLabel','SubSectorLabel'})\n",
        "    for label in label_col:\n",
        "        df[label] = df[label].apply(lambda x: True if True in x\n",
        "                                        else False if False in x else None)\n",
        "        print(label,df[label].unique())\n",
        "\n",
        "    return df"
      ],
      "metadata": {
        "id": "bDNEYv0y6vwt"
      },
      "execution_count": null,
      "outputs": []
    },
    {
      "cell_type": "code",
      "source": [
        "data = labels_final(data)"
      ],
      "metadata": {
        "colab": {
          "base_uri": "https://localhost:8080/"
        },
        "id": "yjS_kN6BvX6R",
        "outputId": "23c2796e-be99-459f-febd-33f72a50d0de"
      },
      "execution_count": null,
      "outputs": [
        {
          "output_type": "stream",
          "name": "stdout",
          "text": [
            "PolicyLabel [False True None]\n",
            "UnconditionalLabel [False  True]\n",
            "ConditionalLabel [False  True]\n",
            "AdaptationLabel [False  True]\n",
            "TargetLabel [False True None]\n",
            "PlansLabel [True False None]\n",
            "NetzeroLabel [None False True]\n",
            "NonGHGLabel [None True False]\n",
            "MitigationLabel [ True False]\n",
            "GHGLabel [None False True]\n",
            "ActionLabel [False True None]\n"
          ]
        }
      ]
    },
    {
      "cell_type": "code",
      "source": [
        "boolvalidate(data,'TargetLabel')\n",
        "boolvalidate(data,'NetzeroLabel')\n",
        "boolvalidate(data,'GHGLabel')\n",
        "boolvalidate(data,'NonGHGLabel')\n",
        "boolvalidate(data,'ConditionalLabel')\n",
        "boolvalidate(data,'UnconditionalLabel')\n",
        "boolvalidate(data,'AdaptationLabel')\n",
        "boolvalidate(data,'MitigationLabel')\n",
        "boolvalidate(data,'ActionLabel')\n",
        "boolvalidate(data,'PolicyLabel')\n",
        "boolvalidate(data,'PlansLabel')"
      ],
      "metadata": {
        "id": "N6QOOLXLI9SA",
        "colab": {
          "base_uri": "https://localhost:8080/"
        },
        "outputId": "e773cde4-7175-48f0-ed6c-f15d6e4cd24f"
      },
      "execution_count": null,
      "outputs": [
        {
          "output_type": "stream",
          "name": "stdout",
          "text": [
            "Total count 14375\n",
            "TargetLabel count 4134 Non TargetLabel count 10198\n",
            "Missig values 43\n",
            "Total count 14375\n",
            "NetzeroLabel count 88 Non NetzeroLabel count 2921\n",
            "Missig values 11366\n",
            "Total count 14375\n",
            "GHGLabel count 57 Non GHGLabel count 2952\n",
            "Missig values 11366\n",
            "Total count 14375\n",
            "NonGHGLabel count 247 Non NonGHGLabel count 2762\n",
            "Missig values 11366\n",
            "Total count 14375\n",
            "ConditionalLabel count 2315 Non ConditionalLabel count 12060\n",
            "Missig values 0\n",
            "Total count 14375\n",
            "UnconditionalLabel count 1527 Non UnconditionalLabel count 12848\n",
            "Missig values 0\n",
            "Total count 14375\n",
            "AdaptationLabel count 6149 Non AdaptationLabel count 8226\n",
            "Missig values 0\n",
            "Total count 14375\n",
            "MitigationLabel count 7680 Non MitigationLabel count 6695\n",
            "Missig values 0\n",
            "Total count 14375\n",
            "ActionLabel count 6176 Non ActionLabel count 5277\n",
            "Missig values 2922\n",
            "Total count 14375\n",
            "PolicyLabel count 1580 Non PolicyLabel count 9874\n",
            "Missig values 2921\n",
            "Total count 14375\n",
            "PlansLabel count 2446 Non PlansLabel count 9037\n",
            "Missig values 2892\n"
          ]
        }
      ]
    },
    {
      "cell_type": "code",
      "source": [
        "# this is to filter out the holdout dataset\n",
        "def filterout(data):\n",
        "    countries = ['SYC','BGD','EGY']\n",
        "    test_placeholder = data[data.Alpha3.isin(countries)]\n",
        "    test_placeholder = test_placeholder[test_placeholder['Document']\\\n",
        "                        .astype(str).str.contains(\"Revised First NDC\",na=False)]\n",
        "    print(len(test_placeholder))\n",
        "    data = data.drop(test_placeholder.index).reset_index(drop=True)\n",
        "    print(len(data))\n",
        "    test_placeholder = test_placeholder.reset_index(drop=True)\n",
        "    return test_placeholder, data"
      ],
      "metadata": {
        "id": "hzLn9gi5S73f"
      },
      "execution_count": null,
      "outputs": []
    },
    {
      "cell_type": "code",
      "source": [
        "holdout, data = filterout(data)"
      ],
      "metadata": {
        "colab": {
          "base_uri": "https://localhost:8080/"
        },
        "id": "CRDxyYRiXdtt",
        "outputId": "dbcfacf5-f0fb-4a94-c05c-5807fcf2da11"
      },
      "execution_count": null,
      "outputs": [
        {
          "output_type": "stream",
          "name": "stdout",
          "text": [
            "279\n",
            "14096\n"
          ]
        }
      ]
    },
    {
      "cell_type": "code",
      "source": [
        "iki_data = data[data.Source.astype(str).str.contains(\"IKITracs\")]\n",
        "cw_data = data.drop(iki_data.index).reset_index(drop=True)"
      ],
      "metadata": {
        "id": "MsTvwtVbZALw"
      },
      "execution_count": null,
      "outputs": []
    },
    {
      "cell_type": "code",
      "source": [
        "# we need this for multilabel stratification for split\n",
        "!pip install scikit-multilearn"
      ],
      "metadata": {
        "colab": {
          "base_uri": "https://localhost:8080/"
        },
        "id": "tgjgy9W2XqCv",
        "outputId": "660e8f51-60ab-40b5-a5b7-3bc0d251b28a"
      },
      "execution_count": null,
      "outputs": [
        {
          "output_type": "stream",
          "name": "stdout",
          "text": [
            "Collecting scikit-multilearn\n",
            "  Downloading scikit_multilearn-0.2.0-py3-none-any.whl (89 kB)\n",
            "\u001b[?25l     \u001b[90m━━━━━━━━━━━━━━━━━━━━━━━━━━━━━━━━━━━━━━━━\u001b[0m \u001b[32m0.0/89.4 kB\u001b[0m \u001b[31m?\u001b[0m eta \u001b[36m-:--:--\u001b[0m\r\u001b[2K     \u001b[91m━━━━━━━━━━━━━━━━━━\u001b[0m\u001b[90m╺\u001b[0m\u001b[90m━━━━━━━━━━━━━━━━━━━━━\u001b[0m \u001b[32m41.0/89.4 kB\u001b[0m \u001b[31m1.1 MB/s\u001b[0m eta \u001b[36m0:00:01\u001b[0m\r\u001b[2K     \u001b[90m━━━━━━━━━━━━━━━━━━━━━━━━━━━━━━━━━━━━━━━━\u001b[0m \u001b[32m89.4/89.4 kB\u001b[0m \u001b[31m1.5 MB/s\u001b[0m eta \u001b[36m0:00:00\u001b[0m\n",
            "\u001b[?25hInstalling collected packages: scikit-multilearn\n",
            "Successfully installed scikit-multilearn-0.2.0\n"
          ]
        }
      ]
    },
    {
      "cell_type": "code",
      "source": [
        "iki_data = iki_data.reset_index(drop=True)\n",
        "label_col = list(iki_data.columns)\n",
        "label_col = list(filter(lambda x: 'Label' in x, label_col))\n",
        "label_col = list(set(label_col) - {'SectorLabel','SubSectorLabel'})\n",
        "\n",
        "iki_data['labels'] = iki_data.apply(lambda x: [x[label] if x[label] is not None\n",
        "                                      else False for label in label_col],axis=1)\n",
        "iki_data = iki_data.sample(frac=1, random_state=42).reset_index(drop=True)\n",
        "\n",
        "cw_data['labels'] = cw_data.apply(lambda x: [x[label] if x[label] is not None\n",
        "                                      else False for label in label_col],axis=1)\n",
        "cw_data = cw_data.sample(frac=1, random_state =42).reset_index(drop=True)"
      ],
      "metadata": {
        "id": "fzDhAuhKa3b4"
      },
      "execution_count": null,
      "outputs": []
    },
    {
      "cell_type": "markdown",
      "source": [
        "## Train-Test Split"
      ],
      "metadata": {
        "id": "xMxDoigtpvsL"
      }
    },
    {
      "cell_type": "code",
      "source": [
        "from skmultilearn.model_selection import iterative_train_test_split\n",
        "import numpy as np\n",
        "# create lists as required by method below\n",
        "# we first work with IKI dataset\n",
        "X = iki_data['Context'].tolist()\n",
        "X = [[x] for x in X]\n",
        "y = iki_data.labels.tolist()\n",
        "y = np.array(y)\n",
        "X = np.array(X)\n",
        "\n",
        "# Create train and test\n",
        "X_train, y_train, X_test, y_test = iterative_train_test_split(X, y, test_size=0.15)\n",
        "X_train = X_train.tolist()\n",
        "X_test = X_test.tolist()\n",
        "X_train = [x[0] for x in X_train]\n",
        "X_test = [x[0] for x in X_test]\n",
        "\n",
        "iki_data['split'] = iki_data.Context.apply(lambda x: 'Train' if x in X_train else 'Test')\n",
        "\n",
        "boolvalidate(iki_data[iki_data.split == 'Train'],'TargetLabel')\n",
        "boolvalidate(iki_data[iki_data.split == 'Train'],'NetzeroLabel')\n",
        "boolvalidate(iki_data[iki_data.split == 'Train'],'GHGLabel')\n",
        "boolvalidate(iki_data[iki_data.split == 'Train'],'NonGHGLabel')\n",
        "boolvalidate(iki_data[iki_data.split == 'Train'],'ConditionalLabel')\n",
        "boolvalidate(iki_data[iki_data.split == 'Train'],'UnconditionalLabel')\n",
        "boolvalidate(iki_data[iki_data.split == 'Train'],'AdaptationLabel')\n",
        "boolvalidate(iki_data[iki_data.split == 'Train'],'MitigationLabel')\n",
        "boolvalidate(iki_data[iki_data.split == 'Train'],'ActionLabel')\n",
        "boolvalidate(iki_data[iki_data.split == 'Train'],'PolicyLabel')\n",
        "boolvalidate(iki_data[iki_data.split == 'Train'],'PlansLabel')"
      ],
      "metadata": {
        "colab": {
          "base_uri": "https://localhost:8080/"
        },
        "id": "3yC4SqjneWKE",
        "outputId": "9cc2a1b4-1201-40c6-ba47-2af1b306666e"
      },
      "execution_count": null,
      "outputs": [
        {
          "output_type": "stream",
          "name": "stdout",
          "text": [
            "Total count 2516\n",
            "TargetLabel count 740 Non TargetLabel count 1776\n",
            "Missig values 0\n",
            "Total count 2516\n",
            "NetzeroLabel count 74 Non NetzeroLabel count 2442\n",
            "Missig values 0\n",
            "Total count 2516\n",
            "GHGLabel count 45 Non GHGLabel count 2471\n",
            "Missig values 0\n",
            "Total count 2516\n",
            "NonGHGLabel count 209 Non NonGHGLabel count 2307\n",
            "Missig values 0\n",
            "Total count 2516\n",
            "ConditionalLabel count 215 Non ConditionalLabel count 2301\n",
            "Missig values 0\n",
            "Total count 2516\n",
            "UnconditionalLabel count 474 Non UnconditionalLabel count 2042\n",
            "Missig values 0\n",
            "Total count 2516\n",
            "AdaptationLabel count 246 Non AdaptationLabel count 2270\n",
            "Missig values 0\n",
            "Total count 2516\n",
            "MitigationLabel count 1483 Non MitigationLabel count 1033\n",
            "Missig values 0\n",
            "Total count 2516\n",
            "ActionLabel count 41 Non ActionLabel count 58\n",
            "Missig values 2417\n",
            "Total count 2516\n",
            "PolicyLabel count 22 Non PolicyLabel count 76\n",
            "Missig values 2418\n",
            "Total count 2516\n",
            "PlansLabel count 42 Non PlansLabel count 58\n",
            "Missig values 2416\n"
          ]
        }
      ]
    },
    {
      "cell_type": "code",
      "source": [
        "# we need the some examples especially of GHG, Netzero target in holdout so\n",
        "# need another stratification of test\n",
        "X = iki_data[iki_data.split == 'Test'].Context.tolist()\n",
        "X = [[x] for x in X]\n",
        "y = iki_data[iki_data.split == 'Test'].labels.tolist()\n",
        "y = np.array(y)\n",
        "X = np.array(X)\n",
        "\n",
        "# Create train and test\n",
        "X_train, y_train, X_test, y_test = iterative_train_test_split(X, y, test_size=0.2)\n",
        "X_train = X_train.tolist()\n",
        "X_test = X_test.tolist()\n",
        "X_train = [x[0] for x in X_train]\n",
        "X_test = [x[0] for x in X_test]\n",
        "\n",
        "iki_data['holdout'] = iki_data.Context.apply(lambda x: True if x in X_test else False)"
      ],
      "metadata": {
        "id": "mh0tYhJnwapb"
      },
      "execution_count": null,
      "outputs": []
    },
    {
      "cell_type": "code",
      "source": [
        "temp = iki_data[iki_data.holdout == True].reset_index(drop=True)\n",
        "iki_data = iki_data[iki_data.holdout == False].reset_index(drop=True)\n",
        "temp.drop(columns = ['labels','holdout','split'], inplace=True)\n",
        "iki_data.drop(columns  = ['labels','holdout'], inplace=True)"
      ],
      "metadata": {
        "id": "YwIVHO62xrYe"
      },
      "execution_count": null,
      "outputs": []
    },
    {
      "cell_type": "code",
      "source": [
        "boolvalidate(iki_data[iki_data.split == 'Test'],'TargetLabel')\n",
        "boolvalidate(iki_data[iki_data.split == 'Test'],'NetzeroLabel')\n",
        "boolvalidate(iki_data[iki_data.split == 'Test'],'GHGLabel')\n",
        "boolvalidate(iki_data[iki_data.split == 'Test'],'NonGHGLabel')\n",
        "boolvalidate(iki_data[iki_data.split == 'Test'],'ConditionalLabel')\n",
        "boolvalidate(iki_data[iki_data.split == 'Test'],'UnconditionalLabel')\n",
        "boolvalidate(iki_data[iki_data.split == 'Test'],'AdaptationLabel')\n",
        "boolvalidate(iki_data[iki_data.split == 'Test'],'MitigationLabel')\n",
        "boolvalidate(iki_data[iki_data.split == 'Test'],'ActionLabel')\n",
        "boolvalidate(iki_data[iki_data.split == 'Test'],'PolicyLabel')\n",
        "boolvalidate(iki_data[iki_data.split == 'Test'],'PlansLabel')"
      ],
      "metadata": {
        "colab": {
          "base_uri": "https://localhost:8080/"
        },
        "id": "usVu8-iJhiEg",
        "outputId": "e38dcbca-5059-43c8-cd7c-b5bfb961aaad"
      },
      "execution_count": null,
      "outputs": [
        {
          "output_type": "stream",
          "name": "stdout",
          "text": [
            "Total count 355\n",
            "TargetLabel count 105 Non TargetLabel count 250\n",
            "Missig values 0\n",
            "Total count 355\n",
            "NetzeroLabel count 9 Non NetzeroLabel count 346\n",
            "Missig values 0\n",
            "Total count 355\n",
            "GHGLabel count 9 Non GHGLabel count 346\n",
            "Missig values 0\n",
            "Total count 355\n",
            "NonGHGLabel count 30 Non NonGHGLabel count 325\n",
            "Missig values 0\n",
            "Total count 355\n",
            "ConditionalLabel count 31 Non ConditionalLabel count 324\n",
            "Missig values 0\n",
            "Total count 355\n",
            "UnconditionalLabel count 68 Non UnconditionalLabel count 287\n",
            "Missig values 0\n",
            "Total count 355\n",
            "AdaptationLabel count 34 Non AdaptationLabel count 321\n",
            "Missig values 0\n",
            "Total count 355\n",
            "MitigationLabel count 210 Non MitigationLabel count 145\n",
            "Missig values 0\n",
            "Total count 355\n",
            "ActionLabel count 4 Non ActionLabel count 8\n",
            "Missig values 343\n",
            "Total count 355\n",
            "PolicyLabel count 3 Non PolicyLabel count 9\n",
            "Missig values 343\n",
            "Total count 355\n",
            "PlansLabel count 5 Non PlansLabel count 7\n",
            "Missig values 343\n"
          ]
        }
      ]
    },
    {
      "cell_type": "code",
      "source": [
        "# we work on stratification of CW dataset\n",
        "X = cw_data['Context'].tolist()\n",
        "X = [[x] for x in X]\n",
        "y = cw_data.labels.tolist()\n",
        "y = np.array(y)\n",
        "X = np.array(X)\n",
        "\n",
        "# Create train and test\n",
        "X_train, y_train, X_test, y_test = iterative_train_test_split(X, y, test_size=0.1)\n",
        "X_train = X_train.tolist()\n",
        "X_test = X_test.tolist()\n",
        "X_train = [x[0] for x in X_train]\n",
        "X_test = [x[0] for x in X_test]\n",
        "\n",
        "cw_data['split'] = cw_data.Context.apply(lambda x: 'Train' if x in X_train else 'Test')\n",
        "\n",
        "boolvalidate(cw_data[cw_data.split == 'Train'],'TargetLabel')\n",
        "boolvalidate(cw_data[cw_data.split == 'Train'],'NetzeroLabel')\n",
        "boolvalidate(cw_data[cw_data.split == 'Train'],'GHGLabel')\n",
        "boolvalidate(cw_data[cw_data.split == 'Train'],'NonGHGLabel')\n",
        "boolvalidate(cw_data[cw_data.split == 'Train'],'ConditionalLabel')\n",
        "boolvalidate(cw_data[cw_data.split == 'Train'],'UnconditionalLabel')\n",
        "boolvalidate(cw_data[cw_data.split == 'Train'],'AdaptationLabel')\n",
        "boolvalidate(cw_data[cw_data.split == 'Train'],'MitigationLabel')\n",
        "boolvalidate(cw_data[cw_data.split == 'Train'],'ActionLabel')\n",
        "boolvalidate(cw_data[cw_data.split == 'Train'],'PolicyLabel')\n",
        "boolvalidate(cw_data[cw_data.split == 'Train'],'PlansLabel')"
      ],
      "metadata": {
        "colab": {
          "base_uri": "https://localhost:8080/"
        },
        "id": "sBMNlBYoqQcx",
        "outputId": "74fbebe9-1f32-424d-af45-2dc1b717fe17"
      },
      "execution_count": null,
      "outputs": [
        {
          "output_type": "stream",
          "name": "stdout",
          "text": [
            "Total count 10023\n",
            "TargetLabel count 2871 Non TargetLabel count 7113\n",
            "Missig values 39\n",
            "Total count 10023\n",
            "NetzeroLabel count 0 Non NetzeroLabel count 0\n",
            "Missig values 10023\n",
            "Total count 10023\n",
            "GHGLabel count 0 Non GHGLabel count 0\n",
            "Missig values 10023\n",
            "Total count 10023\n",
            "NonGHGLabel count 0 Non NonGHGLabel count 0\n",
            "Missig values 10023\n",
            "Total count 10023\n",
            "ConditionalLabel count 1823 Non ConditionalLabel count 8200\n",
            "Missig values 0\n",
            "Total count 10023\n",
            "UnconditionalLabel count 838 Non UnconditionalLabel count 9185\n",
            "Missig values 0\n",
            "Total count 10023\n",
            "AdaptationLabel count 5193 Non AdaptationLabel count 4830\n",
            "Missig values 0\n",
            "Total count 10023\n",
            "MitigationLabel count 5177 Non MitigationLabel count 4846\n",
            "Missig values 0\n",
            "Total count 10023\n",
            "ActionLabel count 5383 Non ActionLabel count 4615\n",
            "Missig values 25\n",
            "Total count 10023\n",
            "PolicyLabel count 1377 Non PolicyLabel count 8621\n",
            "Missig values 25\n",
            "Total count 10023\n",
            "PlansLabel count 2109 Non PlansLabel count 7914\n",
            "Missig values 0\n"
          ]
        }
      ]
    },
    {
      "cell_type": "code",
      "source": [
        "boolvalidate(cw_data[cw_data.split == 'Test'],'TargetLabel')\n",
        "boolvalidate(cw_data[cw_data.split == 'Test'],'NetzeroLabel')\n",
        "boolvalidate(cw_data[cw_data.split == 'Test'],'GHGLabel')\n",
        "boolvalidate(cw_data[cw_data.split == 'Test'],'NonGHGLabel')\n",
        "boolvalidate(cw_data[cw_data.split == 'Test'],'ConditionalLabel')\n",
        "boolvalidate(cw_data[cw_data.split == 'Test'],'UnconditionalLabel')\n",
        "boolvalidate(cw_data[cw_data.split == 'Test'],'AdaptationLabel')\n",
        "boolvalidate(cw_data[cw_data.split == 'Test'],'MitigationLabel')\n",
        "boolvalidate(cw_data[cw_data.split == 'Test'],'ActionLabel')\n",
        "boolvalidate(cw_data[cw_data.split == 'Test'],'PolicyLabel')\n",
        "boolvalidate(cw_data[cw_data.split == 'Test'],'PlansLabel')"
      ],
      "metadata": {
        "colab": {
          "base_uri": "https://localhost:8080/"
        },
        "id": "55f2mWz1q4wg",
        "outputId": "3aa5e605-40c1-4c15-ca39-70c7cf7b8793"
      },
      "execution_count": null,
      "outputs": [
        {
          "output_type": "stream",
          "name": "stdout",
          "text": [
            "Total count 1113\n",
            "TargetLabel count 318 Non TargetLabel count 791\n",
            "Missig values 4\n",
            "Total count 1113\n",
            "NetzeroLabel count 0 Non NetzeroLabel count 0\n",
            "Missig values 1113\n",
            "Total count 1113\n",
            "GHGLabel count 0 Non GHGLabel count 0\n",
            "Missig values 1113\n",
            "Total count 1113\n",
            "NonGHGLabel count 0 Non NonGHGLabel count 0\n",
            "Missig values 1113\n",
            "Total count 1113\n",
            "ConditionalLabel count 202 Non ConditionalLabel count 911\n",
            "Missig values 0\n",
            "Total count 1113\n",
            "UnconditionalLabel count 93 Non UnconditionalLabel count 1020\n",
            "Missig values 0\n",
            "Total count 1113\n",
            "AdaptationLabel count 577 Non AdaptationLabel count 536\n",
            "Missig values 0\n",
            "Total count 1113\n",
            "MitigationLabel count 575 Non MitigationLabel count 538\n",
            "Missig values 0\n",
            "Total count 1113\n",
            "ActionLabel count 599 Non ActionLabel count 510\n",
            "Missig values 4\n",
            "Total count 1113\n",
            "PolicyLabel count 153 Non PolicyLabel count 958\n",
            "Missig values 2\n",
            "Total count 1113\n",
            "PlansLabel count 234 Non PlansLabel count 879\n",
            "Missig values 0\n"
          ]
        }
      ]
    },
    {
      "cell_type": "code",
      "source": [
        "cw_data.drop(columns=['labels'], inplace=True)"
      ],
      "metadata": {
        "id": "oT0Tm_gQy3gM"
      },
      "execution_count": null,
      "outputs": []
    },
    {
      "cell_type": "code",
      "source": [
        "data = pd.concat([cw_data, iki_data], ignore_index=True)\n",
        "data.info()"
      ],
      "metadata": {
        "colab": {
          "base_uri": "https://localhost:8080/"
        },
        "id": "VTZ-sl9wdms6",
        "outputId": "8b3bd39c-c319-41b1-a5d1-b7e418e19aa8"
      },
      "execution_count": null,
      "outputs": [
        {
          "output_type": "stream",
          "name": "stdout",
          "text": [
            "<class 'pandas.core.frame.DataFrame'>\n",
            "RangeIndex: 14007 entries, 0 to 14006\n",
            "Data columns (total 25 columns):\n",
            " #   Column                 Non-Null Count  Dtype \n",
            "---  ------                 --------------  ----- \n",
            " 0   Context                14007 non-null  object\n",
            " 1   Alpha3                 14007 non-null  object\n",
            " 2   Document               14007 non-null  object\n",
            " 3   Language               14007 non-null  object\n",
            " 4   Source                 14007 non-null  object\n",
            " 5   TranslatedContext      550 non-null    object\n",
            " 6   SectorLabel            11248 non-null  object\n",
            " 7   SubSectorLabel         11248 non-null  object\n",
            " 8   TargetLabel            13964 non-null  object\n",
            " 9   ActionLabel            11218 non-null  object\n",
            " 10  PolicyLabel            11219 non-null  object\n",
            " 11  PlansLabel             11248 non-null  object\n",
            " 12  ConditionalLabel       14007 non-null  bool  \n",
            " 13  UnconditionalLabel     14007 non-null  bool  \n",
            " 14  AdaptationLabel        14007 non-null  bool  \n",
            " 15  MitigationLabel        14007 non-null  bool  \n",
            " 16  NetzeroLabel           2871 non-null   object\n",
            " 17  GHGLabel               2871 non-null   object\n",
            " 18  NonGHGLabel            2871 non-null   object\n",
            " 19  CW_OverviewCategory    11248 non-null  object\n",
            " 20  CW_QuestionText        11248 non-null  object\n",
            " 21  CW_QuestionDefinition  11248 non-null  object\n",
            " 22  IKI_DataSheet          2871 non-null   object\n",
            " 23  IKI_Parameter          2871 non-null   object\n",
            " 24  split                  14007 non-null  object\n",
            "dtypes: bool(4), object(21)\n",
            "memory usage: 2.3+ MB\n"
          ]
        }
      ]
    },
    {
      "cell_type": "code",
      "source": [
        "holdout = pd.concat([holdout,temp],ignore_index=True)\n",
        "holdout.info()"
      ],
      "metadata": {
        "colab": {
          "base_uri": "https://localhost:8080/"
        },
        "id": "CsoNDdeD1qZZ",
        "outputId": "51274bff-6342-42ca-f812-a5ce7c297e31"
      },
      "execution_count": null,
      "outputs": [
        {
          "output_type": "stream",
          "name": "stdout",
          "text": [
            "<class 'pandas.core.frame.DataFrame'>\n",
            "RangeIndex: 368 entries, 0 to 367\n",
            "Data columns (total 24 columns):\n",
            " #   Column                 Non-Null Count  Dtype \n",
            "---  ------                 --------------  ----- \n",
            " 0   Context                368 non-null    object\n",
            " 1   Alpha3                 368 non-null    object\n",
            " 2   Document               368 non-null    object\n",
            " 3   Language               368 non-null    object\n",
            " 4   Source                 368 non-null    object\n",
            " 5   TranslatedContext      17 non-null     object\n",
            " 6   SectorLabel            235 non-null    object\n",
            " 7   SubSectorLabel         235 non-null    object\n",
            " 8   TargetLabel            368 non-null    object\n",
            " 9   ActionLabel            235 non-null    object\n",
            " 10  PolicyLabel            235 non-null    object\n",
            " 11  PlansLabel             235 non-null    object\n",
            " 12  ConditionalLabel       368 non-null    bool  \n",
            " 13  UnconditionalLabel     368 non-null    bool  \n",
            " 14  AdaptationLabel        368 non-null    bool  \n",
            " 15  MitigationLabel        368 non-null    bool  \n",
            " 16  NetzeroLabel           138 non-null    object\n",
            " 17  GHGLabel               138 non-null    object\n",
            " 18  NonGHGLabel            138 non-null    object\n",
            " 19  CW_OverviewCategory    235 non-null    object\n",
            " 20  CW_QuestionText        235 non-null    object\n",
            " 21  CW_QuestionDefinition  235 non-null    object\n",
            " 22  IKI_DataSheet          138 non-null    object\n",
            " 23  IKI_Parameter          138 non-null    object\n",
            "dtypes: bool(4), object(20)\n",
            "memory usage: 59.1+ KB\n"
          ]
        }
      ]
    },
    {
      "cell_type": "code",
      "source": [
        "boolvalidate(holdout,'TargetLabel')\n",
        "boolvalidate(holdout,'NetzeroLabel')\n",
        "boolvalidate(holdout,'GHGLabel')\n",
        "boolvalidate(holdout,'NonGHGLabel')\n",
        "boolvalidate(holdout,'ConditionalLabel')\n",
        "boolvalidate(holdout,'UnconditionalLabel')\n",
        "boolvalidate(holdout,'AdaptationLabel')\n",
        "boolvalidate(holdout,'MitigationLabel')\n",
        "boolvalidate(holdout,'ActionLabel')\n",
        "boolvalidate(holdout,'PolicyLabel')\n",
        "boolvalidate(holdout,'PlansLabel')"
      ],
      "metadata": {
        "colab": {
          "base_uri": "https://localhost:8080/"
        },
        "id": "aC9d10ENsu_H",
        "outputId": "ff0bcbde-0b15-4fcf-9a5d-88ffd29b6a78"
      },
      "execution_count": null,
      "outputs": [
        {
          "output_type": "stream",
          "name": "stdout",
          "text": [
            "Total count 368\n",
            "TargetLabel count 100 Non TargetLabel count 268\n",
            "Missig values 0\n",
            "Total count 368\n",
            "NetzeroLabel count 5 Non NetzeroLabel count 133\n",
            "Missig values 230\n",
            "Total count 368\n",
            "GHGLabel count 3 Non GHGLabel count 135\n",
            "Missig values 230\n",
            "Total count 368\n",
            "NonGHGLabel count 8 Non NonGHGLabel count 130\n",
            "Missig values 230\n",
            "Total count 368\n",
            "ConditionalLabel count 44 Non ConditionalLabel count 324\n",
            "Missig values 0\n",
            "Total count 368\n",
            "UnconditionalLabel count 54 Non UnconditionalLabel count 314\n",
            "Missig values 0\n",
            "Total count 368\n",
            "AdaptationLabel count 99 Non AdaptationLabel count 269\n",
            "Missig values 0\n",
            "Total count 368\n",
            "MitigationLabel count 235 Non MitigationLabel count 133\n",
            "Missig values 0\n",
            "Total count 368\n",
            "ActionLabel count 149 Non ActionLabel count 86\n",
            "Missig values 133\n",
            "Total count 368\n",
            "PolicyLabel count 25 Non PolicyLabel count 210\n",
            "Missig values 133\n",
            "Total count 368\n",
            "PlansLabel count 56 Non PlansLabel count 179\n",
            "Missig values 133\n"
          ]
        }
      ]
    },
    {
      "cell_type": "code",
      "source": [
        "# # save the to be published dataset\n",
        "import json\n",
        "jsonfile = data.to_json(orient=\"records\")\n",
        "parsed = json.loads(jsonfile)\n",
        "with open(path_to_step5+ 'output/policy_classification.json', 'w') as file:\n",
        "    json.dump(parsed, file, indent=4)\n",
        "\n",
        "data.to_csv(path_to_step5 + 'output/policy_classification.csv')"
      ],
      "metadata": {
        "id": "2TuTQk2r3SwW"
      },
      "execution_count": null,
      "outputs": []
    },
    {
      "cell_type": "code",
      "source": [
        "# # save the to be holdout dataset\n",
        "import json\n",
        "jsonfile = holdout.to_json(orient=\"records\")\n",
        "parsed = json.loads(jsonfile)\n",
        "with open(path_to_step5+ 'output/policy_classification_holdout.json', 'w') as file:\n",
        "    json.dump(parsed, file, indent=4)\n",
        "\n",
        "holdout.to_csv(path_to_step5 + 'output/policy_classification_holdout.csv')"
      ],
      "metadata": {
        "id": "7O4vUM8M4o6l"
      },
      "execution_count": null,
      "outputs": []
    }
  ]
}