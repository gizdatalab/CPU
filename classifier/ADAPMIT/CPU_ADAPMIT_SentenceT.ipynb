{
  "cells": [
    {
      "cell_type": "markdown",
      "metadata": {
        "id": "view-in-github",
        "colab_type": "text"
      },
      "source": [
        "<a href=\"https://colab.research.google.com/github/gizdatalab/CPU/blob/main/classifier/ADAPMIT/CPU_ADAPMIT_SentenceT.ipynb\" target=\"_parent\"><img src=\"https://colab.research.google.com/assets/colab-badge.svg\" alt=\"Open In Colab\"/></a>"
      ]
    },
    {
      "cell_type": "code",
      "source": [
        "%%capture\n",
        "! pip install datasets transformers sentencepiece huggingface_hub\n",
        "! apt install git-lfs\n",
        "! pip install sentence-transformers\n",
        "! pip install optuna\n",
        "! pip install evaluate\n",
        "! pip install accelerate -U\n",
        "! pip install codecarbon"
      ],
      "outputs": [],
      "execution_count": null,
      "metadata": {
        "id": "M-ytBHREuwyC"
      }
    },
    {
      "cell_type": "code",
      "source": [
        "from huggingface_hub import notebook_login\n",
        "notebook_login()"
      ],
      "outputs": [
        {
          "output_type": "display_data",
          "data": {
            "text/plain": "VBox(children=(HTML(value='<center> <img\\nsrc=https://huggingface.co/front/assets/huggingface_logo-noborder.sv…",
            "application/vnd.jupyter.widget-view+json": {
              "version_major": 2,
              "version_minor": 0,
              "model_id": "c9e4f4693b7e468fa07a9112b3343735"
            }
          },
          "metadata": {}
        },
        {
          "output_type": "stream",
          "name": "stderr",
          "text": "[codecarbon INFO @ 15:43:11] Energy consumed for RAM : 0.000137 kWh. RAM Power : 10.2771635055542 W\n[codecarbon INFO @ 15:43:11] Energy consumed for all GPUs : 0.000123 kWh. Total GPU Power : 9.28099058829887 W\n[codecarbon INFO @ 15:43:11] Energy consumed for all CPUs : 0.000565 kWh. Total CPU Power : 42.5 W\n[codecarbon INFO @ 15:43:11] 0.000825 kWh of electricity used since the beginning.\n[codecarbon INFO @ 15:43:56] Energy consumed for RAM : 0.000265 kWh. RAM Power : 10.2771635055542 W\n[codecarbon INFO @ 15:43:56] Energy consumed for all GPUs : 0.000414 kWh. Total GPU Power : 25.441500917784857 W\n[codecarbon INFO @ 15:43:56] Energy consumed for all CPUs : 0.001096 kWh. Total CPU Power : 42.5 W\n[codecarbon INFO @ 15:43:56] 0.001776 kWh of electricity used since the beginning.\n"
        }
      ],
      "execution_count": null,
      "metadata": {
        "colab": {
          "base_uri": "https://localhost:8080/",
          "height": 145,
          "referenced_widgets": [
            "f9308117bd0f463199286ab1815a01b0",
            "6d566461ab2b4bd3b79945928d6bf873",
            "b1655d946dea4ea59db93f0d2c9fd8b6",
            "eaaa3ff565b34e989146c30b4206aa4a",
            "47f4073f798f428dae8d635146edbe6e",
            "9aced9baa2f44cf79c4b35d6b6880fc8",
            "110d2e93238848a3aeedc46778f29af9",
            "bbc725bf803c4672a8892908ef546a55",
            "1a7d666a65904e4f82cfe17b7fe2f505",
            "eb31d3d6fe404fbeab36f0d86dd7d176",
            "af57957175c84e90bdde778984c0af4f",
            "400a364603c54b5e8e1f9757dca95ec7",
            "fc4fefc3353b421390113ca30dd0eb86",
            "bb8d9843305b41d8a367c2f7d4c02bfd",
            "e10f368c353a4cab95bf834059d2ba0e",
            "689dc977208d439ebf44a80f8013dba5",
            "7cba08c01f3e435a946b27aa2268cc85",
            "e2ecc0c7e9314643b3365a7b0ce2592b",
            "57a42939202a4802b8540efd8cc7c21f",
            "dfd8671a498e4dcbaef9d730624a5119",
            "a7dcda5371504cb18e1feaf846803759",
            "cce68002e6574a9baaffba13b634e21f",
            "50045a301a3d4f779ad628eadc407047",
            "d937720d9b18489cbf210f5a71bbff22",
            "73969a9bdeec45428323556adab1719d",
            "01e84539b7f3437aac86603e53740d65",
            "fdeea74a06934cccb3862eaf7939044b",
            "4529a6dbf15549899bbae8620a52f29d",
            "74b5eb92ff274983a7fcf6032a64c440",
            "c9782ae25a1b40d8a1b97489ae859514",
            "6420b51992644f59bdc147e228d7af99",
            "c60e9a83954b4d3f968aca03ab8da320",
            "c9e4f4693b7e468fa07a9112b3343735"
          ]
        },
        "id": "s503WWbVu3u4",
        "outputId": "e63564ea-b888-4078-b827-ee1f44a399df",
        "gather": {
          "logged": 1705592500583
        }
      }
    },
    {
      "cell_type": "code",
      "source": [
        "from codecarbon import EmissionsTracker\n",
        "\n",
        "tracker = EmissionsTracker()\n",
        "tracker.start()"
      ],
      "outputs": [
        {
          "output_type": "stream",
          "name": "stderr",
          "text": "[codecarbon INFO @ 18:21:42] [setup] RAM Tracking...\n[codecarbon INFO @ 18:21:42] [setup] GPU Tracking...\n[codecarbon INFO @ 18:21:42] Tracking Nvidia GPU via pynvml\n[codecarbon INFO @ 18:21:42] [setup] CPU Tracking...\n[codecarbon WARNING @ 18:21:42] No CPU tracking mode found. Falling back on CPU constant mode.\n[codecarbon WARNING @ 18:21:43] We saw that you have a AMD EPYC 7V12 64-Core Processor but we don't know it. Please contact us.\n[codecarbon INFO @ 18:21:43] CPU Model on constant consumption mode: AMD EPYC 7V12 64-Core Processor\n[codecarbon INFO @ 18:21:43] >>> Tracker's metadata:\n[codecarbon INFO @ 18:21:43]   Platform system: Linux-5.15.0-1040-azure-x86_64-with-glibc2.10\n[codecarbon INFO @ 18:21:43]   Python version: 3.8.5\n[codecarbon INFO @ 18:21:43]   CodeCarbon version: 2.3.2\n[codecarbon INFO @ 18:21:43]   Available RAM : 27.406 GB\n[codecarbon INFO @ 18:21:43]   CPU count: 4\n[codecarbon INFO @ 18:21:43]   CPU model: AMD EPYC 7V12 64-Core Processor\n[codecarbon INFO @ 18:21:43]   GPU count: 1\n[codecarbon INFO @ 18:21:43]   GPU model: 1 x Tesla T4\n[codecarbon WARNING @ 18:21:43] Cloud provider 'azure' do not publish electricity carbon intensity. Using country value instead.\n[codecarbon INFO @ 18:21:58] Energy consumed for RAM : 0.000043 kWh. RAM Power : 10.2771635055542 W\n[codecarbon INFO @ 18:21:58] Energy consumed for all GPUs : 0.000039 kWh. Total GPU Power : 9.295998746740844 W\n[codecarbon INFO @ 18:21:58] Energy consumed for all CPUs : 0.000177 kWh. Total CPU Power : 42.5 W\n[codecarbon INFO @ 18:21:58] 0.000259 kWh of electricity used since the beginning.\n"
        }
      ],
      "execution_count": null,
      "metadata": {
        "jupyter": {
          "source_hidden": false,
          "outputs_hidden": false
        },
        "nteract": {
          "transient": {
            "deleting": false
          }
        },
        "gather": {
          "logged": 1705774903664
        },
        "id": "_Qy-DFwOxrnv",
        "outputId": "e065e5bc-3f27-43cd-95cd-0796d38b2362"
      }
    },
    {
      "cell_type": "code",
      "source": [
        "from datasets import load_dataset\n",
        "import datasets\n",
        "import numpy as np\n",
        "import pandas as pd\n",
        "import evaluate\n",
        "import torch\n",
        "import os\n",
        "import sklearn.metrics as skm\n",
        "from transformers import (AutoTokenizer, AutoConfig, AutoModelForSequenceClassification,\n",
        "                          PreTrainedModel, BertModel, BertForSequenceClassification,\n",
        "                          RobertaForSequenceClassification,\n",
        "                          TrainingArguments, Trainer, TrainerCallback)\n",
        "from torch import cuda\n",
        "device = 'cuda' if cuda.is_available() else 'cpu'"
      ],
      "outputs": [
        {
          "output_type": "stream",
          "name": "stderr",
          "text": "2024-01-20 18:21:09.028332: I tensorflow/core/platform/cpu_feature_guard.cc:193] This TensorFlow binary is optimized with oneAPI Deep Neural Network Library (oneDNN) to use the following CPU instructions in performance-critical operations:  AVX2 FMA\nTo enable them in other operations, rebuild TensorFlow with the appropriate compiler flags.\n2024-01-20 18:21:12.227567: W tensorflow/compiler/xla/stream_executor/platform/default/dso_loader.cc:64] Could not load dynamic library 'libcudart.so.11.0'; dlerror: libcudart.so.11.0: cannot open shared object file: No such file or directory\n2024-01-20 18:21:12.227597: I tensorflow/compiler/xla/stream_executor/cuda/cudart_stub.cc:29] Ignore above cudart dlerror if you do not have a GPU set up on your machine.\n2024-01-20 18:21:18.232984: W tensorflow/compiler/xla/stream_executor/platform/default/dso_loader.cc:64] Could not load dynamic library 'libnvinfer.so.7'; dlerror: libnvinfer.so.7: cannot open shared object file: No such file or directory\n2024-01-20 18:21:18.233066: W tensorflow/compiler/xla/stream_executor/platform/default/dso_loader.cc:64] Could not load dynamic library 'libnvinfer_plugin.so.7'; dlerror: libnvinfer_plugin.so.7: cannot open shared object file: No such file or directory\n2024-01-20 18:21:18.233073: W tensorflow/compiler/tf2tensorrt/utils/py_utils.cc:38] TF-TRT Warning: Cannot dlopen some TensorRT libraries. If you would like to use Nvidia GPU with TensorRT, please make sure the missing libraries mentioned above are installed properly.\n"
        }
      ],
      "execution_count": null,
      "metadata": {
        "id": "DPP0N2zbQ01m",
        "gather": {
          "logged": 1705774887066
        },
        "outputId": "e0f805cb-6a65-4ac3-b626-e60a30d62313"
      }
    },
    {
      "cell_type": "markdown",
      "source": [
        "# Manual Inputs\n"
      ],
      "metadata": {
        "id": "gb5_UfVBVA0u"
      }
    },
    {
      "cell_type": "code",
      "source": [
        "###### Define Path to data ############################\n",
        "repo_id = \"GIZ/policy_classification\"\n",
        "filename=\"policy_classification.json\"\n",
        "\n",
        "\n",
        "### Define labels ##################\n",
        "label_names= ['AdaptationLabel','MitigationLabel']\n",
        "\n",
        "\n",
        "#######  Define Model params ######################\n",
        "\n",
        "# define the model checkpoint\n",
        "model_checkpoint = \"sentence-transformers/all-mpnet-base-v2\"\n",
        "\n",
        "# define the problem type\n",
        "problem_type=\"multi_label_classification\"\n",
        "\n",
        "\n",
        "######## Training Arguments ##################\n",
        "output_dir = \"ADAPMIT-multilabel-mpnet\"\n",
        "\n",
        "# logging and evaluation\n",
        "evaluation_strategy = \"epoch\"\n",
        "logging_strategy=\"epoch\"\n",
        "logging_steps = 1\n",
        "eval_steps = 1\n",
        "\n",
        "# Important params\n",
        "learning_rate=4.08e-5   #4.04e-5\n",
        "batch_size = 8\n",
        "num_train_epochs= 10\n",
        "weight_decay=0.021\n",
        "warmup_steps = 300\n",
        "gradient_accumulation_steps = 2"
      ],
      "outputs": [],
      "execution_count": null,
      "metadata": {
        "id": "l0m9rLEIVTSS",
        "gather": {
          "logged": 1705774887174
        }
      }
    },
    {
      "cell_type": "markdown",
      "source": [
        "# Automated"
      ],
      "metadata": {
        "id": "LcM5ntTcWgJr"
      }
    },
    {
      "cell_type": "markdown",
      "source": [
        "## Dataset"
      ],
      "metadata": {
        "id": "v1V8eE5Lz32w"
      }
    },
    {
      "cell_type": "code",
      "source": [
        "# Load Dataset from Hugging Face\n",
        "# Load Dataset from Hugging Face\n",
        "try:\n",
        "    dataset = load_dataset(repo_id, data_files=filename,\n",
        "                             use_auth_token=True )\n",
        "    data = pd.DataFrame(dataset['train'])\n",
        "except:\n",
        "    from huggingface_hub import hf_hub_download\n",
        "    hf_hub_download(repo_id, filename=filename,\n",
        "                    repo_type=\"dataset\",use_auth_token=True,\n",
        "    local_dir= 'data/')\n",
        "    data = pd.read_json('data/policy_classification.json')\n",
        "\n",
        "# the dataset already contains train_test split flag we use\n",
        "# it to create train-test split.\n",
        "\n",
        "train_df = data[data.split== 'Train'].reset_index(drop=True)\n",
        "test_df = data[data.split=='Test'].reset_index(drop=True)\n",
        "\n",
        "# Sort the labels and create plaecholders for id2label and label2id\n",
        "label_names.sort()\n",
        "\n",
        "num_labels = len(label_names)\n",
        "id2label = {idx:label for idx, label in enumerate(label_names)}\n",
        "label2id = {label:idx for idx, label in enumerate(label_names)}\n",
        "print(id2label)"
      ],
      "outputs": [
        {
          "output_type": "stream",
          "name": "stderr",
          "text": "Using custom data configuration GIZ--policy_classification-cdc4b717b1bd720b\n"
        },
        {
          "output_type": "stream",
          "name": "stdout",
          "text": "Downloading and preparing dataset json/GIZ--policy_classification to /home/azureuser/.cache/huggingface/datasets/GIZ___json/GIZ--policy_classification-cdc4b717b1bd720b/0.0.0/da492aad5680612e4028e7f6ddc04b1dfcec4b64db470ed7cc5f2bb265b9b6b5...\n"
        },
        {
          "output_type": "display_data",
          "data": {
            "text/plain": "Downloading data files:   0%|          | 0/1 [00:00<?, ?it/s]",
            "application/vnd.jupyter.widget-view+json": {
              "version_major": 2,
              "version_minor": 0,
              "model_id": "963c0d282187441891d118ee8ec1e566"
            }
          },
          "metadata": {}
        },
        {
          "output_type": "display_data",
          "data": {
            "text/plain": "Extracting data files:   0%|          | 0/1 [00:00<?, ?it/s]",
            "application/vnd.jupyter.widget-view+json": {
              "version_major": 2,
              "version_minor": 0,
              "model_id": "c2a59171235642d3aa3241c2eae28b14"
            }
          },
          "metadata": {}
        },
        {
          "output_type": "display_data",
          "data": {
            "text/plain": "0 tables [00:00, ? tables/s]",
            "application/vnd.jupyter.widget-view+json": {
              "version_major": 2,
              "version_minor": 0,
              "model_id": "8b5a050ddbc14c5cbf7f846bd7b6a70a"
            }
          },
          "metadata": {}
        },
        {
          "output_type": "stream",
          "name": "stderr",
          "text": "Failed to read file '/home/azureuser/.cache/huggingface/datasets/downloads/dee24a3afc63cd87c4a0a9517165e43822030f22df905fa089a2628e8d786ca4' with error <class 'pyarrow.lib.ArrowInvalid'>: JSON parse error: Column() changed from object to array in row 0\n"
        },
        {
          "output_type": "stream",
          "name": "stdout",
          "text": "{0: 'AdaptationLabel', 1: 'MitigationLabel'}\n"
        }
      ],
      "execution_count": null,
      "metadata": {
        "colab": {
          "base_uri": "https://localhost:8080/",
          "referenced_widgets": [
            "963c0d282187441891d118ee8ec1e566",
            "c2a59171235642d3aa3241c2eae28b14",
            "8b5a050ddbc14c5cbf7f846bd7b6a70a"
          ]
        },
        "id": "jn3cI207wlLN",
        "outputId": "14c21a88-828a-4a67-8cb9-b952f9696c1d",
        "gather": {
          "logged": 1705774890592
        }
      }
    },
    {
      "cell_type": "code",
      "source": [
        "def prepare_multilabel_df(df, cols):\n",
        "    \"\"\"\n",
        "    Takes the dataframe and list of columns which need to combined into\n",
        "    One-hot-encoded labels.\n",
        "\n",
        "    \"\"\"\n",
        "    df.dropna(subset = cols, inplace=True)\n",
        "    df = df.reset_index(drop=True)\n",
        "    df['labels'] = df.apply(lambda x: [int(x[label]) for label in cols],axis=1)\n",
        "    # we have multilingual dataset ('en', 'fr','es'), in case of non-english the\n",
        "    # translated Context is udner the column 'TranslatedContext'. We impute these\n",
        "    # back into 'context' to work with only English dataset.\n",
        "    df['Context'] = df.apply(lambda x: x['Context'] if x['Language'] == 'en'\n",
        "                                    else x['TranslatedContext'][0],axis=1)\n",
        "    df.rename(columns = {'Context':'text'}, inplace=True)\n",
        "\n",
        "    df = df[['text','labels']+cols]\n",
        "    return df\n",
        "\n",
        "# creating multilabel dataset\n",
        "train_df = prepare_multilabel_df(train_df, label_names)\n",
        "test_df = prepare_multilabel_df(test_df, label_names)\n",
        "\n",
        "print('\\n','Classes Representation in Training Dataset:',len(train_df))\n",
        "for i,label in enumerate(label_names):\n",
        "    print(i,\".\",label, \":\", sum( [x[i] for x in list(train_df['labels'])]))\n",
        "\n",
        "print('\\n','Classes Representation in Test Dataset:',len(test_df))\n",
        "for i,label in enumerate(label_names):\n",
        "    print(i,\".\",label, \":\", sum( [x[i] for x in list(test_df['labels'])]))"
      ],
      "outputs": [
        {
          "output_type": "stream",
          "name": "stdout",
          "text": "\n Classes Representation in Training Dataset: 12538\n0 . AdaptationLabel : 5439\n1 . MitigationLabel : 6659\n\n Classes Representation in Test Dataset: 1469\n0 . AdaptationLabel : 611\n1 . MitigationLabel : 786\n"
        }
      ],
      "execution_count": null,
      "metadata": {
        "colab": {
          "base_uri": "https://localhost:8080/"
        },
        "id": "wlUoEAIe0Npm",
        "outputId": "5c9dd87a-e15b-4218-c0d1-92464e7d6df0",
        "gather": {
          "logged": 1705774890863
        }
      }
    },
    {
      "cell_type": "code",
      "source": [
        "for i,label in enumerate(label_names):\n",
        "    # df_train[sector] = df_train.apply(lambda x: x['sector_label'][i], axis =1)\n",
        "    print(i,\".\",label, \":\", sum(train_df[label]))\n",
        "\n",
        "# these are weights which can be used in building weighted loss if class is imbalanced\n",
        "positive_weights = {}\n",
        "negative_weights = {}\n",
        "for label in label_names:\n",
        "    positive_weights[label] = train_df.shape[0]/(2*np.count_nonzero(train_df[label]==True))\n",
        "    negative_weights[label] = train_df.shape[0]/(2*np.count_nonzero(train_df[label]==False))\n",
        "print(\"Positive Weights\",'\\n',positive_weights)\n",
        "print(\"Negative Weights\",'\\n',negative_weights)\n",
        "\n",
        "# as we dont want to miss anything (high recall) we use positive weights calculated above.\n",
        "pos_weights = list(positive_weights.values())\n",
        "\n",
        "# If using GPU we need to place all required data on else there will be error\n",
        "posweights = torch.FloatTensor(pos_weights).to(device)"
      ],
      "outputs": [
        {
          "output_type": "stream",
          "name": "stdout",
          "text": "0 . AdaptationLabel : 5439\n1 . MitigationLabel : 6659\nPositive Weights \n {'AdaptationLabel': 1.1526015811730097, 'MitigationLabel': 0.9414326475446764}\nNegative Weights \n {'AdaptationLabel': 0.8830821242428512, 'MitigationLabel': 1.0663378125531553}\n"
        },
        {
          "output_type": "stream",
          "name": "stderr",
          "text": "[codecarbon INFO @ 18:22:13] Energy consumed for RAM : 0.000086 kWh. RAM Power : 10.2771635055542 W\n[codecarbon INFO @ 18:22:13] Energy consumed for all GPUs : 0.000133 kWh. Total GPU Power : 22.69462440102435 W\n[codecarbon INFO @ 18:22:13] Energy consumed for all CPUs : 0.000354 kWh. Total CPU Power : 42.5 W\n[codecarbon INFO @ 18:22:13] 0.000573 kWh of electricity used since the beginning.\n"
        }
      ],
      "execution_count": null,
      "metadata": {
        "colab": {
          "base_uri": "https://localhost:8080/"
        },
        "id": "nejnhaF1Bd1f",
        "outputId": "50c84304-365e-4daa-e0ee-66ee38cbaea5",
        "gather": {
          "logged": 1705774931033
        }
      }
    },
    {
      "cell_type": "markdown",
      "source": [
        "`pos_weight > 1 will increase the recall while pos_weight < 1 will increase the precision.`"
      ],
      "metadata": {
        "id": "sOZoUQzLDYJj"
      }
    },
    {
      "cell_type": "markdown",
      "source": [
        "## Model"
      ],
      "metadata": {
        "id": "4JFQlLoae4y_"
      }
    },
    {
      "cell_type": "code",
      "source": [
        "# problem_type, is not needed in tokenizer but keeping it for conformity\n",
        "# https://huggingface.co/docs/transformers/main_classes/configuration?highlight=multi_label_classification#transformers.PretrainedConfig\n",
        "tokenizer = AutoTokenizer.from_pretrained(model_checkpoint,problem_type=problem_type)\n",
        "\n",
        "# Set the model config and assign it and device to model\n",
        "config = AutoConfig.from_pretrained(model_checkpoint, num_labels=num_labels, id2label=id2label, label2id=label2id, problem_type=problem_type)\n",
        "model = AutoModelForSequenceClassification.from_pretrained(model_checkpoint,config=config).to(device)"
      ],
      "outputs": [
        {
          "output_type": "stream",
          "name": "stderr",
          "text": "Some weights of MPNetForSequenceClassification were not initialized from the model checkpoint at sentence-transformers/all-mpnet-base-v2 and are newly initialized: ['classifier.dense.bias', 'classifier.out_proj.bias', 'classifier.dense.weight', 'classifier.out_proj.weight']\nYou should probably TRAIN this model on a down-stream task to be able to use it for predictions and inference.\n"
        }
      ],
      "execution_count": null,
      "metadata": {
        "colab": {
          "base_uri": "https://localhost:8080/"
        },
        "id": "ALiTo_R9QhP_",
        "outputId": "dade27df-d8a9-43d5-fccd-e34fda3ea3a0",
        "gather": {
          "logged": 1705774942681
        }
      }
    },
    {
      "cell_type": "code",
      "source": [
        "# we need datasets format to work with\n",
        "train_ds = datasets.Dataset.from_pandas(train_df[['text','labels']])\n",
        "test_ds =  datasets.Dataset.from_pandas(test_df[['text','labels']])\n",
        "train_ds = train_ds.shuffle(seed=7)\n",
        "test_ds = test_ds.shuffle(seed=7)\n",
        "\n",
        "\n",
        "# Need to tokenize the data using the tokenizer of the model\n",
        "def tokenize_and_encode(examples):\n",
        "    return tokenizer(examples[\"text\"], padding=\"max_length\", truncation=True,\n",
        "                        max_length=384)\n",
        "\n",
        "cols = train_ds.column_names\n",
        "cols.remove(\"labels\")\n",
        "print('Training data:',train_ds.num_rows)\n",
        "print('Validation data:',test_ds.num_rows)\n",
        "\n",
        "train_tokenized = train_ds.map(tokenize_and_encode, batched=True, remove_columns= cols)\n",
        "val_tokenized = test_ds.map(tokenize_and_encode, batched=True, remove_columns= cols)\n",
        "\n",
        "# need this to avoid error due to type mismatch\n",
        "# https://discuss.pytorch.org/t/multi-label-binary-classification-result-type-float-cant-be-cast-to-the-desired-output-type-long/117915/3\n",
        "train_tokenized.set_format(\"torch\")\n",
        "train_tokenized = (train_tokenized\n",
        "          .map(lambda x : {\"float_labels\": x[\"labels\"].to(torch.float)}, remove_columns=[\"labels\"])\n",
        "          .rename_column(\"float_labels\", \"labels\"))\n",
        "\n",
        "val_tokenized.set_format(\"torch\")\n",
        "val_tokenized = (val_tokenized\n",
        "          .map(lambda x : {\"float_labels\": x[\"labels\"].to(torch.float)}, remove_columns=[\"labels\"])\n",
        "          .rename_column(\"float_labels\", \"labels\"))"
      ],
      "outputs": [
        {
          "output_type": "stream",
          "name": "stderr",
          "text": "Parameter 'function'=<function tokenize_and_encode at 0x7f529d2359d0> of the transform datasets.arrow_dataset.Dataset._map_single couldn't be hashed properly, a random hash was used instead. Make sure your transforms and parameters are serializable with pickle or dill for the dataset fingerprinting and caching to work. If you reuse this transform, the caching mechanism will consider it to be different from the previous calls and recompute everything. This warning is only showed once. Subsequent hashing failures won't be showed.\n"
        },
        {
          "output_type": "stream",
          "name": "stdout",
          "text": "Training data: 12538\nValidation data: 1469\n"
        },
        {
          "output_type": "display_data",
          "data": {
            "text/plain": "  0%|          | 0/13 [00:00<?, ?ba/s]",
            "application/vnd.jupyter.widget-view+json": {
              "version_major": 2,
              "version_minor": 0,
              "model_id": "cba0dc0981ea4c3287c0a5df7dc2dee3"
            }
          },
          "metadata": {}
        },
        {
          "output_type": "display_data",
          "data": {
            "text/plain": "  0%|          | 0/2 [00:00<?, ?ba/s]",
            "application/vnd.jupyter.widget-view+json": {
              "version_major": 2,
              "version_minor": 0,
              "model_id": "051009b87a7c4001b6044a318924dcc7"
            }
          },
          "metadata": {}
        },
        {
          "output_type": "stream",
          "name": "stderr",
          "text": "[codecarbon INFO @ 18:22:28] Energy consumed for RAM : 0.000128 kWh. RAM Power : 10.2771635055542 W\n[codecarbon INFO @ 18:22:28] Energy consumed for all GPUs : 0.000239 kWh. Total GPU Power : 25.411914055331113 W\n[codecarbon INFO @ 18:22:28] Energy consumed for all CPUs : 0.000532 kWh. Total CPU Power : 42.5 W\n[codecarbon INFO @ 18:22:28] 0.000899 kWh of electricity used since the beginning.\n"
        },
        {
          "output_type": "display_data",
          "data": {
            "text/plain": "  0%|          | 0/12538 [00:00<?, ?ex/s]",
            "application/vnd.jupyter.widget-view+json": {
              "version_major": 2,
              "version_minor": 0,
              "model_id": "eeff2553cf3e477da163e85ab0d74da7"
            }
          },
          "metadata": {}
        },
        {
          "output_type": "display_data",
          "data": {
            "text/plain": "  0%|          | 0/1469 [00:00<?, ?ex/s]",
            "application/vnd.jupyter.widget-view+json": {
              "version_major": 2,
              "version_minor": 0,
              "model_id": "5aa7154e138d4d16b9b596959cba78c1"
            }
          },
          "metadata": {}
        }
      ],
      "execution_count": null,
      "metadata": {
        "colab": {
          "base_uri": "https://localhost:8080/",
          "referenced_widgets": [
            "87118e8cdd28412daaacd92100d30bec",
            "03ad04f4bf554ac1901ecf86713ae23e",
            "47ffbb3c130b4584bb2be484ffa978ed",
            "f3983f65b9ec416b9b4910de7040eba5",
            "ae85376915d34e0fb1dbfc4eacc51766",
            "40909a17ca384b709203c142e72ace8e",
            "6a43f5129f414386a65d648cba8af401",
            "f2a2b0f60a164ddaa6d0de59dc60361c",
            "752bc760da70471883180258a33bf1f7",
            "11fb84c45d364abcaff3ca43b3bdc829",
            "be5f27bd291048389a6a0a2aac3139d0",
            "9b840f388f2f468c94aa5f6a0c0f49a0",
            "dfea763cddba4b7aaa83a45222b2396f",
            "cc7a6341900d4cc8b3d39957cecfb991",
            "e4cb2e538b8947d19cca21cc7060a45d",
            "b800ea5836fa4262b74e9869fa1a1992",
            "4c227138ef5e4033b1f9d80b5af249c5",
            "8508008c97fa49848455ff6ef4cf4097",
            "d0883effcab140cd80e445df482e3ec6",
            "3a9cfc1b0e2e447282a55680daee9e9b",
            "41a20f5b947b43c3948b019b3e46a1fb",
            "0b3077eb1a5b4400bcc79600c28a8f00",
            "bdac5ea8599a463ea9759cbce8a10366",
            "648761016a5647bcbc08e39db68456ab",
            "9fe0e197d2a648d9b3b727b5a39e3361",
            "7e479b2bb1ff45e092670c7d3057c69f",
            "2b7a9a6a51554da19bc7084a83d7ba8c",
            "5bef77c2aa0e4980a278510cc675e3a0",
            "32600bcf8a0b4394bd72750361680960",
            "da23e7ccd548401cb84f76017fc75d59",
            "f6b51939bf7c45b69c0c49a85e5247e4",
            "aceac2336c7c4d478557fa3f8bd3931f",
            "fe1f3d68703a4d4e8289ca5df513281d",
            "2a40670ec2cc412ca4429cc1585a1861",
            "8c63fc82a67f476bb6e4130c71ec8e07",
            "7f599423e2ad42b39cb4decaaf869f91",
            "814b3bb52be24ce5b8de74a51db0b9e5",
            "f360dc39bf7a4fb29f081f61e67c50b0",
            "aef58a45582d4a1490aa0998ed0cc707",
            "a74811fea4584e9780cd18b2b354ebcc",
            "6b38a5ca737f4ce690ddf4cb3509f530",
            "973507d7b3254f31a39e195affce9d16",
            "1ed6c7adaaf04ff6a385175e5fb1552e",
            "8616ed90f86f47a4996b92ea26519c95",
            "cba0dc0981ea4c3287c0a5df7dc2dee3",
            "051009b87a7c4001b6044a318924dcc7",
            "eeff2553cf3e477da163e85ab0d74da7",
            "5aa7154e138d4d16b9b596959cba78c1"
          ]
        },
        "id": "ftiFRaCrVlsc",
        "outputId": "124dbc1f-6460-490a-858c-1135c825c3e9",
        "gather": {
          "logged": 1705774958605
        }
      }
    },
    {
      "cell_type": "markdown",
      "source": [
        "## Metrics"
      ],
      "metadata": {
        "id": "1tJ9O4_EQutV"
      }
    },
    {
      "cell_type": "code",
      "source": [
        "multilabel_f1_metric = evaluate.load(\"f1\", \"multilabel\")\n",
        "multilabel_recall_metric = evaluate.load(\"recall\",\"multilabel\")\n",
        "multilabel_precision_metric = evaluate.load(\"precision\",\"multilabel\")\n",
        "\n",
        "def get_scores(y_pred, y_test, thresh=0.5, sigmoid=True):\n",
        "    \"\"\"\n",
        "    Takes the Predictions and Truth Values, and return multilabel metrics\n",
        "    aggregated on multiple strategies['micro', 'sample', 'weighted']\n",
        "\n",
        "    \"\"\"\n",
        "    # we get raw function value, therefore we apply sigmoid to get to the\n",
        "    # probabilities\n",
        "    if problem_type == \"multi_label_classification\":\n",
        "        y_pred = torch.from_numpy(y_pred)\n",
        "        y_test = torch.from_numpy(y_test)\n",
        "        if sigmoid:\n",
        "          y_pred = y_pred.sigmoid()\n",
        "          y_pred = (y_pred > thresh)\n",
        "\n",
        "        return {\n",
        "            \"precision-micro\": multilabel_precision_metric.compute(predictions=y_pred, references=y_test, average=\"micro\")[\"precision\"],\n",
        "            \"precision-samples\": multilabel_precision_metric.compute(predictions=y_pred, references=y_test, average=\"samples\")[\"precision\"],\n",
        "            \"precision-weighted\": multilabel_precision_metric.compute(predictions=y_pred, references=y_test, average=\"weighted\")[\"precision\"],\n",
        "            \"recall-micro\": multilabel_recall_metric.compute(predictions=y_pred, references=y_test, average=\"micro\")[\"recall\"],\n",
        "            \"recall-samples\": multilabel_recall_metric.compute(predictions=y_pred, references=y_test, average=\"samples\")[\"recall\"],\n",
        "            \"recall-weighted\": multilabel_recall_metric.compute(predictions=y_pred, references=y_test, average=\"weighted\")[\"recall\"],\n",
        "            \"f1-micro\": multilabel_f1_metric.compute(predictions=y_pred, references=y_test, average=\"micro\")[\"f1\"],\n",
        "            \"f1-samples\": multilabel_f1_metric.compute(predictions=y_pred, references=y_test, average=\"samples\")[\"f1\"],\n",
        "            \"f1-weighted\": multilabel_f1_metric.compute(predictions=y_pred, references=y_test, average=\"weighted\")[\"f1\"],\n",
        "            }\n",
        "    else:\n",
        "        y_pred = torch.from_numpy(y_pred).argmax(dim=1)\n",
        "        y_test = torch.from_numpy(y_test)\n",
        "\n",
        "        report = skm.classification_report(y_test, y_pred, output_dict=True)\n",
        "        df_report = pd.DataFrame(report).transpose()\n",
        "        return {\"Precision_macro\": df_report.loc['macro avg']['precision'],\n",
        "                \"Precision_weighted\": df_report.loc['weighted avg']['precision'],\n",
        "                \"Recall_macro\": df_report.loc['macro avg']['recall'],\n",
        "                \"Recall_weighted\": df_report.loc['weighted avg']['recall'],\n",
        "                \"F1-Score\": df_report.loc['macro avg']['f1-score'],\n",
        "                \"Accuracy\": skm.accuracy_score(y_test, y_pred)}\n",
        "\n",
        "\n",
        "def compute_metrics(eval_pred):\n",
        "    predictions, labels = eval_pred\n",
        "    return get_scores(predictions, labels)"
      ],
      "outputs": [],
      "execution_count": null,
      "metadata": {
        "id": "pTLd0UNlQwsE",
        "gather": {
          "logged": 1705774960687
        }
      }
    },
    {
      "cell_type": "markdown",
      "source": [
        "## Training arguments"
      ],
      "metadata": {
        "id": "62dBGn_wkj-V"
      }
    },
    {
      "cell_type": "code",
      "source": [
        "args = TrainingArguments(\n",
        "    output_dir,\n",
        "    logging_strategy=logging_strategy,\n",
        "    evaluation_strategy = evaluation_strategy,\n",
        "    save_strategy = \"epoch\",\n",
        "    logging_steps = logging_steps,\n",
        "    eval_steps= eval_steps,\n",
        "    learning_rate=learning_rate,\n",
        "    per_device_train_batch_size=batch_size,\n",
        "    per_device_eval_batch_size=batch_size,\n",
        "    num_train_epochs=num_train_epochs,\n",
        "    weight_decay=weight_decay,\n",
        "    lr_scheduler_type = \"linear\",\n",
        "    gradient_accumulation_steps = gradient_accumulation_steps,\n",
        "    warmup_steps = warmup_steps,\n",
        ")"
      ],
      "outputs": [],
      "execution_count": null,
      "metadata": {
        "id": "kTAGBdvekp6N",
        "gather": {
          "logged": 1705774960840
        }
      }
    },
    {
      "cell_type": "markdown",
      "source": [
        "## Custom Trainer"
      ],
      "metadata": {
        "id": "bUV61ejhFGXD"
      }
    },
    {
      "cell_type": "code",
      "source": [
        "# for class weights we need to use Custom Multi-Label Trainer\n",
        "# In multi-label problem we will be using Binary Cross Entropy loss with\n",
        "# sigmoid layer on top rather than softmax.\n",
        "class MultilabelTrainer(Trainer):\n",
        "    def compute_loss(self, model, inputs, return_outputs=False):\n",
        "        labels = inputs.pop(\"labels\")\n",
        "        outputs = model(**inputs)\n",
        "        logits = outputs.logits\n",
        "        loss_fct = torch.nn.BCEWithLogitsLoss(pos_weight=posweights)\n",
        "        loss = loss_fct(logits.view(-1, self.model.config.num_labels),\n",
        "                        labels.float().view(-1, self.model.config.num_labels))\n",
        "        return (loss, outputs) if return_outputs else loss\n"
      ],
      "outputs": [],
      "execution_count": null,
      "metadata": {
        "id": "GkjcoTIWFJcz",
        "gather": {
          "logged": 1705592626767
        }
      }
    },
    {
      "cell_type": "markdown",
      "source": [
        "# Training"
      ],
      "metadata": {
        "id": "yJZ0XsOAmMyu"
      }
    },
    {
      "cell_type": "code",
      "source": [
        "multi_trainer =  Trainer(\n",
        "    model,\n",
        "    args,\n",
        "    train_dataset=train_tokenized,\n",
        "    eval_dataset=val_tokenized,\n",
        "    compute_metrics=compute_metrics,\n",
        "    tokenizer=tokenizer)\n"
      ],
      "outputs": [
        {
          "output_type": "stream",
          "name": "stderr",
          "text": "[codecarbon INFO @ 18:22:47] [setup] RAM Tracking...\n[codecarbon INFO @ 18:22:47] [setup] GPU Tracking...\n[codecarbon INFO @ 18:22:47] Tracking Nvidia GPU via pynvml\n[codecarbon INFO @ 18:22:47] [setup] CPU Tracking...\n[codecarbon WARNING @ 18:22:47] No CPU tracking mode found. Falling back on CPU constant mode.\nhuggingface/tokenizers: The current process just got forked, after parallelism has already been used. Disabling parallelism to avoid deadlocks...\nTo disable this warning, you can either:\n\t- Avoid using `tokenizers` before the fork if possible\n\t- Explicitly set the environment variable TOKENIZERS_PARALLELISM=(true | false)\n[codecarbon WARNING @ 18:22:48] We saw that you have a AMD EPYC 7V12 64-Core Processor but we don't know it. Please contact us.\n[codecarbon INFO @ 18:22:48] CPU Model on constant consumption mode: AMD EPYC 7V12 64-Core Processor\n[codecarbon INFO @ 18:22:48] >>> Tracker's metadata:\n[codecarbon INFO @ 18:22:48]   Platform system: Linux-5.15.0-1040-azure-x86_64-with-glibc2.10\n[codecarbon INFO @ 18:22:48]   Python version: 3.8.5\n[codecarbon INFO @ 18:22:48]   CodeCarbon version: 2.3.2\n[codecarbon INFO @ 18:22:48]   Available RAM : 27.406 GB\n[codecarbon INFO @ 18:22:48]   CPU count: 4\n[codecarbon INFO @ 18:22:48]   CPU model: AMD EPYC 7V12 64-Core Processor\n[codecarbon INFO @ 18:22:48]   GPU count: 1\n[codecarbon INFO @ 18:22:48]   GPU model: 1 x Tesla T4\n[codecarbon WARNING @ 18:22:48] Cloud provider 'azure' do not publish electricity carbon intensity. Using country value instead.\n"
        }
      ],
      "execution_count": null,
      "metadata": {
        "id": "0Wcz21O_GVGE",
        "gather": {
          "logged": 1705774968918
        },
        "outputId": "e8dbc9e2-3e78-4aeb-c61c-3b9e5927548c"
      }
    },
    {
      "cell_type": "code",
      "source": [
        "multi_trainer.train()"
      ],
      "outputs": [
        {
          "output_type": "stream",
          "name": "stderr",
          "text": "huggingface/tokenizers: The current process just got forked, after parallelism has already been used. Disabling parallelism to avoid deadlocks...\nTo disable this warning, you can either:\n\t- Avoid using `tokenizers` before the fork if possible\n\t- Explicitly set the environment variable TOKENIZERS_PARALLELISM=(true | false)\nhuggingface/tokenizers: The current process just got forked, after parallelism has already been used. Disabling parallelism to avoid deadlocks...\nTo disable this warning, you can either:\n\t- Avoid using `tokenizers` before the fork if possible\n\t- Explicitly set the environment variable TOKENIZERS_PARALLELISM=(true | false)\nhuggingface/tokenizers: The current process just got forked, after parallelism has already been used. Disabling parallelism to avoid deadlocks...\nTo disable this warning, you can either:\n\t- Avoid using `tokenizers` before the fork if possible\n\t- Explicitly set the environment variable TOKENIZERS_PARALLELISM=(true | false)\nYou're using a MPNetTokenizerFast tokenizer. Please note that with a fast tokenizer, using the `__call__` method is faster than using a method to encode the text followed by a call to the `pad` method to get a padded encoding.\n"
        },
        {
          "output_type": "display_data",
          "data": {
            "text/plain": "<IPython.core.display.HTML object>",
            "text/html": "\n    <div>\n      \n      <progress value='7840' max='7840' style='width:300px; height:20px; vertical-align: middle;'></progress>\n      [7840/7840 2:50:02, Epoch 10/10]\n    </div>\n    <table border=\"1\" class=\"dataframe\">\n  <thead>\n <tr style=\"text-align: left;\">\n      <th>Epoch</th>\n      <th>Training Loss</th>\n      <th>Validation Loss</th>\n      <th>Precision-micro</th>\n      <th>Precision-samples</th>\n      <th>Precision-weighted</th>\n      <th>Recall-micro</th>\n      <th>Recall-samples</th>\n      <th>Recall-weighted</th>\n      <th>F1-micro</th>\n      <th>F1-samples</th>\n      <th>F1-weighted</th>\n    </tr>\n  </thead>\n  <tbody>\n    <tr>\n      <td>1</td>\n      <td>0.377400</td>\n      <td>0.277775</td>\n      <td>0.890063</td>\n      <td>0.848877</td>\n      <td>0.889966</td>\n      <td>0.904080</td>\n      <td>0.845133</td>\n      <td>0.904080</td>\n      <td>0.897017</td>\n      <td>0.843204</td>\n      <td>0.896827</td>\n    </tr>\n    <tr>\n      <td>2</td>\n      <td>0.234900</td>\n      <td>0.260395</td>\n      <td>0.908104</td>\n      <td>0.847856</td>\n      <td>0.913150</td>\n      <td>0.898354</td>\n      <td>0.839687</td>\n      <td>0.898354</td>\n      <td>0.903203</td>\n      <td>0.840481</td>\n      <td>0.902137</td>\n    </tr>\n    <tr>\n      <td>3</td>\n      <td>0.171400</td>\n      <td>0.231205</td>\n      <td>0.917555</td>\n      <td>0.865895</td>\n      <td>0.919103</td>\n      <td>0.924123</td>\n      <td>0.862832</td>\n      <td>0.924123</td>\n      <td>0.920827</td>\n      <td>0.860676</td>\n      <td>0.920571</td>\n    </tr>\n    <tr>\n      <td>4</td>\n      <td>0.125000</td>\n      <td>0.234381</td>\n      <td>0.909534</td>\n      <td>0.870320</td>\n      <td>0.909552</td>\n      <td>0.935576</td>\n      <td>0.873383</td>\n      <td>0.935576</td>\n      <td>0.922371</td>\n      <td>0.867257</td>\n      <td>0.922309</td>\n    </tr>\n    <tr>\n      <td>5</td>\n      <td>0.087700</td>\n      <td>0.257381</td>\n      <td>0.921986</td>\n      <td>0.870320</td>\n      <td>0.922263</td>\n      <td>0.930565</td>\n      <td>0.867597</td>\n      <td>0.930565</td>\n      <td>0.926256</td>\n      <td>0.865668</td>\n      <td>0.926192</td>\n    </tr>\n    <tr>\n      <td>6</td>\n      <td>0.059200</td>\n      <td>0.305635</td>\n      <td>0.918785</td>\n      <td>0.867597</td>\n      <td>0.918845</td>\n      <td>0.931281</td>\n      <td>0.869299</td>\n      <td>0.931281</td>\n      <td>0.924991</td>\n      <td>0.864080</td>\n      <td>0.925011</td>\n    </tr>\n    <tr>\n      <td>7</td>\n      <td>0.041900</td>\n      <td>0.316437</td>\n      <td>0.918613</td>\n      <td>0.858407</td>\n      <td>0.918638</td>\n      <td>0.929134</td>\n      <td>0.865555</td>\n      <td>0.929134</td>\n      <td>0.923843</td>\n      <td>0.857499</td>\n      <td>0.923833</td>\n    </tr>\n    <tr>\n      <td>8</td>\n      <td>0.027000</td>\n      <td>0.357697</td>\n      <td>0.911111</td>\n      <td>0.864874</td>\n      <td>0.911286</td>\n      <td>0.939155</td>\n      <td>0.874404</td>\n      <td>0.939155</td>\n      <td>0.924921</td>\n      <td>0.864988</td>\n      <td>0.924955</td>\n    </tr>\n    <tr>\n      <td>9</td>\n      <td>0.015800</td>\n      <td>0.372125</td>\n      <td>0.903491</td>\n      <td>0.861130</td>\n      <td>0.903499</td>\n      <td>0.944882</td>\n      <td>0.877468</td>\n      <td>0.944882</td>\n      <td>0.923723</td>\n      <td>0.864080</td>\n      <td>0.923727</td>\n    </tr>\n    <tr>\n      <td>10</td>\n      <td>0.009400</td>\n      <td>0.383936</td>\n      <td>0.913889</td>\n      <td>0.867937</td>\n      <td>0.913900</td>\n      <td>0.942019</td>\n      <td>0.876106</td>\n      <td>0.942019</td>\n      <td>0.927741</td>\n      <td>0.867937</td>\n      <td>0.927744</td>\n    </tr>\n  </tbody>\n</table><p>"
          },
          "metadata": {}
        },
        {
          "output_type": "stream",
          "name": "stderr",
          "text": "[codecarbon INFO @ 18:22:58] Energy consumed for RAM : 0.000214 kWh. RAM Power : 10.2771635055542 W\n[codecarbon INFO @ 18:22:58] Energy consumed for all GPUs : 0.000465 kWh. Total GPU Power : 28.75058763256372 W\n[codecarbon INFO @ 18:22:58] Energy consumed for all CPUs : 0.000886 kWh. Total CPU Power : 42.5 W\n[codecarbon INFO @ 18:22:58] 0.001565 kWh of electricity used since the beginning.\n[codecarbon INFO @ 18:23:09] Energy consumed for RAM : 0.000043 kWh. RAM Power : 10.2771635055542 W\n[codecarbon INFO @ 18:23:09] Energy consumed for all GPUs : 0.000254 kWh. Total GPU Power : 61.044040820347426 W\n[codecarbon INFO @ 18:23:09] Energy consumed for all CPUs : 0.000177 kWh. Total CPU Power : 42.5 W\n[codecarbon INFO @ 18:23:09] 0.000474 kWh of electricity used since the beginning.\n[codecarbon INFO @ 18:23:13] Energy consumed for RAM : 0.000257 kWh. RAM Power : 10.2771635055542 W\n[codecarbon INFO @ 18:23:13] Energy consumed for all GPUs : 0.000756 kWh. Total GPU Power : 69.74467086426094 W\n[codecarbon INFO @ 18:23:13] Energy consumed for all CPUs : 0.001063 kWh. Total CPU Power : 42.5 W\n[codecarbon INFO @ 18:23:13] 0.002075 kWh of electricity used since the beginning.\n[codecarbon INFO @ 18:23:24] Energy consumed for RAM : 0.000086 kWh. RAM Power : 10.2771635055542 W\n[codecarbon INFO @ 18:23:24] Energy consumed for all GPUs : 0.000545 kWh. Total GPU Power : 69.68963211212943 W\n[codecarbon INFO @ 18:23:24] Energy consumed for all CPUs : 0.000354 kWh. Total CPU Power : 42.5 W\n[codecarbon INFO @ 18:23:24] 0.000985 kWh of electricity used since the beginning.\n[codecarbon INFO @ 18:23:28] Energy consumed for RAM : 0.000300 kWh. RAM Power : 10.2771635055542 W\n[codecarbon INFO @ 18:23:28] Energy consumed for all GPUs : 0.001045 kWh. Total GPU Power : 69.34497578620753 W\n[codecarbon INFO @ 18:23:28] Energy consumed for all CPUs : 0.001240 kWh. Total CPU Power : 42.5 W\n[codecarbon INFO @ 18:23:28] 0.002584 kWh of electricity used since the beginning.\n[codecarbon INFO @ 18:23:39] Energy consumed for RAM : 0.000128 kWh. RAM Power : 10.2771635055542 W\n[codecarbon INFO @ 18:23:39] Energy consumed for all GPUs : 0.000836 kWh. Total GPU Power : 69.82080866813075 W\n[codecarbon INFO @ 18:23:39] Energy consumed for all CPUs : 0.000531 kWh. Total CPU Power : 42.5 W\n[codecarbon INFO @ 18:23:39] 0.001495 kWh of electricity used since the beginning.\n[codecarbon INFO @ 18:23:43] Energy consumed for RAM : 0.000342 kWh. RAM Power : 10.2771635055542 W\n[codecarbon INFO @ 18:23:43] Energy consumed for all GPUs : 0.001335 kWh. Total GPU Power : 69.755289319903 W\n[codecarbon INFO @ 18:23:43] Energy consumed for all CPUs : 0.001417 kWh. Total CPU Power : 42.5 W\n[codecarbon INFO @ 18:23:43] 0.003095 kWh of electricity used since the beginning.\n[codecarbon INFO @ 18:23:54] Energy consumed for RAM : 0.000171 kWh. RAM Power : 10.2771635055542 W\n[codecarbon INFO @ 18:23:54] Energy consumed for all GPUs : 0.001126 kWh. Total GPU Power : 69.62733989975644 W\n[codecarbon INFO @ 18:23:54] Energy consumed for all CPUs : 0.000708 kWh. Total CPU Power : 42.5 W\n[codecarbon INFO @ 18:23:54] 0.002005 kWh of electricity used since the beginning.\n[codecarbon INFO @ 18:23:58] Energy consumed for RAM : 0.000385 kWh. RAM Power : 10.2771635055542 W\n[codecarbon INFO @ 18:23:58] Energy consumed for all GPUs : 0.001625 kWh. Total GPU Power : 69.53036383382526 W\n[codecarbon INFO @ 18:23:58] Energy consumed for all CPUs : 0.001594 kWh. Total CPU Power : 42.5 W\n[codecarbon INFO @ 18:23:58] 0.003604 kWh of electricity used since the beginning.\n[codecarbon INFO @ 18:24:09] Energy consumed for RAM : 0.000214 kWh. RAM Power : 10.2771635055542 W\n[codecarbon INFO @ 18:24:09] Energy consumed for all GPUs : 0.001415 kWh. Total GPU Power : 69.51148162845753 W\n[codecarbon INFO @ 18:24:09] Energy consumed for all CPUs : 0.000886 kWh. Total CPU Power : 42.5 W\n[codecarbon INFO @ 18:24:09] 0.002515 kWh of electricity used since the beginning.\n[codecarbon INFO @ 18:24:13] Energy consumed for RAM : 0.000428 kWh. RAM Power : 10.2771635055542 W\n[codecarbon INFO @ 18:24:13] Energy consumed for all GPUs : 0.001915 kWh. Total GPU Power : 69.55314731939856 W\n[codecarbon INFO @ 18:24:13] Energy consumed for all CPUs : 0.001771 kWh. Total CPU Power : 42.5 W\n[codecarbon INFO @ 18:24:13] 0.004114 kWh of electricity used since the beginning.\n[codecarbon INFO @ 18:24:24] Energy consumed for RAM : 0.000257 kWh. RAM Power : 10.2771635055542 W\n[codecarbon INFO @ 18:24:24] Energy consumed for all GPUs : 0.001705 kWh. Total GPU Power : 69.61173726019035 W\n[codecarbon INFO @ 18:24:24] Energy consumed for all CPUs : 0.001063 kWh. Total CPU Power : 42.5 W\n[codecarbon INFO @ 18:24:24] 0.003025 kWh of electricity used since the beginning.\n[codecarbon INFO @ 18:24:28] Energy consumed for RAM : 0.000471 kWh. RAM Power : 10.2771635055542 W\n[codecarbon INFO @ 18:24:28] Energy consumed for all GPUs : 0.002205 kWh. Total GPU Power : 69.62271365497529 W\n[codecarbon INFO @ 18:24:28] Energy consumed for all CPUs : 0.001948 kWh. Total CPU Power : 42.5 W\n[codecarbon INFO @ 18:24:28] 0.004624 kWh of electricity used since the beginning.\n[codecarbon INFO @ 18:24:39] Energy consumed for RAM : 0.000300 kWh. RAM Power : 10.2771635055542 W\n[codecarbon INFO @ 18:24:39] Energy consumed for all GPUs : 0.001995 kWh. Total GPU Power : 69.55186631171154 W\n[codecarbon INFO @ 18:24:39] Energy consumed for all CPUs : 0.001240 kWh. Total CPU Power : 42.5 W\n[codecarbon INFO @ 18:24:39] 0.003534 kWh of electricity used since the beginning.\n[codecarbon INFO @ 18:24:43] Energy consumed for RAM : 0.000514 kWh. RAM Power : 10.2771635055542 W\n[codecarbon INFO @ 18:24:43] Energy consumed for all GPUs : 0.002494 kWh. Total GPU Power : 69.45195130307103 W\n[codecarbon INFO @ 18:24:43] Energy consumed for all CPUs : 0.002125 kWh. Total CPU Power : 42.5 W\n[codecarbon INFO @ 18:24:43] 0.005133 kWh of electricity used since the beginning.\n[codecarbon INFO @ 18:24:54] Energy consumed for RAM : 0.000342 kWh. RAM Power : 10.2771635055542 W\n[codecarbon INFO @ 18:24:54] Energy consumed for all GPUs : 0.002284 kWh. Total GPU Power : 69.50464592739493 W\n[codecarbon INFO @ 18:24:54] Energy consumed for all CPUs : 0.001417 kWh. Total CPU Power : 42.5 W\n[codecarbon INFO @ 18:24:54] 0.004043 kWh of electricity used since the beginning.\n[codecarbon INFO @ 18:24:58] Energy consumed for RAM : 0.000556 kWh. RAM Power : 10.2771635055542 W\n[codecarbon INFO @ 18:24:58] Energy consumed for all GPUs : 0.002784 kWh. Total GPU Power : 69.55285790206693 W\n[codecarbon INFO @ 18:24:58] Energy consumed for all CPUs : 0.002302 kWh. Total CPU Power : 42.5 W\n[codecarbon INFO @ 18:24:58] 0.005642 kWh of electricity used since the beginning.\n[codecarbon INFO @ 18:25:09] Energy consumed for RAM : 0.000385 kWh. RAM Power : 10.2771635055542 W\n[codecarbon INFO @ 18:25:09] Energy consumed for all GPUs : 0.002574 kWh. Total GPU Power : 69.58592289378971 W\n[codecarbon INFO @ 18:25:09] Energy consumed for all CPUs : 0.001594 kWh. Total CPU Power : 42.5 W\n[codecarbon INFO @ 18:25:09] 0.004553 kWh of electricity used since the beginning.\n[codecarbon INFO @ 18:25:13] Energy consumed for RAM : 0.000599 kWh. RAM Power : 10.2771635055542 W\n[codecarbon INFO @ 18:25:13] Energy consumed for all GPUs : 0.003073 kWh. Total GPU Power : 69.62681798412254 W\n[codecarbon INFO @ 18:25:13] Energy consumed for all CPUs : 0.002479 kWh. Total CPU Power : 42.5 W\n[codecarbon INFO @ 18:25:13] 0.006152 kWh of electricity used since the beginning.\n[codecarbon INFO @ 18:25:24] Energy consumed for RAM : 0.000428 kWh. RAM Power : 10.2771635055542 W\n[codecarbon INFO @ 18:25:24] Energy consumed for all GPUs : 0.002864 kWh. Total GPU Power : 69.56637443385229 W\n[codecarbon INFO @ 18:25:24] Energy consumed for all CPUs : 0.001771 kWh. Total CPU Power : 42.5 W\n[codecarbon INFO @ 18:25:24] 0.005063 kWh of electricity used since the beginning.\n[codecarbon INFO @ 18:25:28] Energy consumed for RAM : 0.000642 kWh. RAM Power : 10.2771635055542 W\n[codecarbon INFO @ 18:25:28] Energy consumed for all GPUs : 0.003363 kWh. Total GPU Power : 69.63476705223937 W\n[codecarbon INFO @ 18:25:28] Energy consumed for all CPUs : 0.002656 kWh. Total CPU Power : 42.5 W\n[codecarbon INFO @ 18:25:28] 0.006662 kWh of electricity used since the beginning.\n[codecarbon INFO @ 18:25:39] Energy consumed for RAM : 0.000471 kWh. RAM Power : 10.2771635055542 W\n[codecarbon INFO @ 18:25:39] Energy consumed for all GPUs : 0.003153 kWh. Total GPU Power : 69.27319644377418 W\n[codecarbon INFO @ 18:25:39] Energy consumed for all CPUs : 0.001948 kWh. Total CPU Power : 42.5 W\n[codecarbon INFO @ 18:25:39] 0.005571 kWh of electricity used since the beginning.\n[codecarbon INFO @ 18:25:43] Energy consumed for RAM : 0.000685 kWh. RAM Power : 10.2771635055542 W\n[codecarbon INFO @ 18:25:43] Energy consumed for all GPUs : 0.003654 kWh. Total GPU Power : 69.67344803497761 W\n[codecarbon INFO @ 18:25:43] Energy consumed for all CPUs : 0.002833 kWh. Total CPU Power : 42.5 W\n[codecarbon INFO @ 18:25:43] 0.007172 kWh of electricity used since the beginning.\n[codecarbon INFO @ 18:25:54] Energy consumed for RAM : 0.000514 kWh. RAM Power : 10.2771635055542 W\n[codecarbon INFO @ 18:25:54] Energy consumed for all GPUs : 0.003442 kWh. Total GPU Power : 69.48864859978528 W\n[codecarbon INFO @ 18:25:54] Energy consumed for all CPUs : 0.002125 kWh. Total CPU Power : 42.5 W\n[codecarbon INFO @ 18:25:54] 0.006081 kWh of electricity used since the beginning.\n[codecarbon INFO @ 18:25:58] Energy consumed for RAM : 0.000728 kWh. RAM Power : 10.2771635055542 W\n[codecarbon INFO @ 18:25:58] Energy consumed for all GPUs : 0.003943 kWh. Total GPU Power : 69.45389673296971 W\n[codecarbon INFO @ 18:25:58] Energy consumed for all CPUs : 0.003010 kWh. Total CPU Power : 42.5 W\n[codecarbon INFO @ 18:25:58] 0.007681 kWh of electricity used since the beginning.\n[codecarbon INFO @ 18:26:09] Energy consumed for RAM : 0.000557 kWh. RAM Power : 10.2771635055542 W\n[codecarbon INFO @ 18:26:09] Energy consumed for all GPUs : 0.003732 kWh. Total GPU Power : 69.53694941197041 W\n[codecarbon INFO @ 18:26:09] Energy consumed for all CPUs : 0.002302 kWh. Total CPU Power : 42.5 W\n[codecarbon INFO @ 18:26:09] 0.006590 kWh of electricity used since the beginning.\n[codecarbon INFO @ 18:26:13] Energy consumed for RAM : 0.000770 kWh. RAM Power : 10.2771635055542 W\n[codecarbon INFO @ 18:26:13] Energy consumed for all GPUs : 0.004233 kWh. Total GPU Power : 69.59669587118304 W\n[codecarbon INFO @ 18:26:13] Energy consumed for all CPUs : 0.003188 kWh. Total CPU Power : 42.5 W\n[codecarbon INFO @ 18:26:13] 0.008191 kWh of electricity used since the beginning.\n[codecarbon INFO @ 18:26:24] Energy consumed for RAM : 0.000599 kWh. RAM Power : 10.2771635055542 W\n[codecarbon INFO @ 18:26:24] Energy consumed for all GPUs : 0.004022 kWh. Total GPU Power : 69.66112015275237 W\n[codecarbon INFO @ 18:26:24] Energy consumed for all CPUs : 0.002479 kWh. Total CPU Power : 42.5 W\n[codecarbon INFO @ 18:26:24] 0.007100 kWh of electricity used since the beginning.\n[codecarbon INFO @ 18:26:28] Energy consumed for RAM : 0.000813 kWh. RAM Power : 10.2771635055542 W\n[codecarbon INFO @ 18:26:28] Energy consumed for all GPUs : 0.004523 kWh. Total GPU Power : 69.68542013192791 W\n[codecarbon INFO @ 18:26:28] Energy consumed for all CPUs : 0.003365 kWh. Total CPU Power : 42.5 W\n[codecarbon INFO @ 18:26:28] 0.008701 kWh of electricity used since the beginning.\n[codecarbon INFO @ 18:26:39] Energy consumed for RAM : 0.000642 kWh. RAM Power : 10.2771635055542 W\n[codecarbon INFO @ 18:26:39] Energy consumed for all GPUs : 0.004312 kWh. Total GPU Power : 69.56121895718411 W\n[codecarbon INFO @ 18:26:39] Energy consumed for all CPUs : 0.002656 kWh. Total CPU Power : 42.5 W\n[codecarbon INFO @ 18:26:39] 0.007610 kWh of electricity used since the beginning.\n[codecarbon INFO @ 18:26:43] Energy consumed for RAM : 0.000856 kWh. RAM Power : 10.2771635055542 W\n[codecarbon INFO @ 18:26:43] Energy consumed for all GPUs : 0.004813 kWh. Total GPU Power : 69.6169587770702 W\n[codecarbon INFO @ 18:26:43] Energy consumed for all CPUs : 0.003542 kWh. Total CPU Power : 42.5 W\n[codecarbon INFO @ 18:26:43] 0.009211 kWh of electricity used since the beginning.\n[codecarbon INFO @ 18:26:54] Energy consumed for RAM : 0.000685 kWh. RAM Power : 10.2771635055542 W\n[codecarbon INFO @ 18:26:54] Energy consumed for all GPUs : 0.004602 kWh. Total GPU Power : 69.6527304211365 W\n[codecarbon INFO @ 18:26:54] Energy consumed for all CPUs : 0.002833 kWh. Total CPU Power : 42.5 W\n[codecarbon INFO @ 18:26:54] 0.008120 kWh of electricity used since the beginning.\n[codecarbon INFO @ 18:26:58] Energy consumed for RAM : 0.000899 kWh. RAM Power : 10.2771635055542 W\n[codecarbon INFO @ 18:26:58] Energy consumed for all GPUs : 0.005101 kWh. Total GPU Power : 69.15460905659371 W\n[codecarbon INFO @ 18:26:58] Energy consumed for all CPUs : 0.003719 kWh. Total CPU Power : 42.5 W\n[codecarbon INFO @ 18:26:58] 0.009719 kWh of electricity used since the beginning.\n[codecarbon INFO @ 18:27:09] Energy consumed for RAM : 0.000728 kWh. RAM Power : 10.2771635055542 W\n[codecarbon INFO @ 18:27:09] Energy consumed for all GPUs : 0.004892 kWh. Total GPU Power : 69.63015326684346 W\n[codecarbon INFO @ 18:27:09] Energy consumed for all CPUs : 0.003010 kWh. Total CPU Power : 42.5 W\n[codecarbon INFO @ 18:27:09] 0.008630 kWh of electricity used since the beginning.\n[codecarbon INFO @ 18:27:13] Energy consumed for RAM : 0.000942 kWh. RAM Power : 10.2771635055542 W\n[codecarbon INFO @ 18:27:13] Energy consumed for all GPUs : 0.005391 kWh. Total GPU Power : 69.57660164670345 W\n[codecarbon INFO @ 18:27:13] Energy consumed for all CPUs : 0.003896 kWh. Total CPU Power : 42.5 W\n[codecarbon INFO @ 18:27:13] 0.010229 kWh of electricity used since the beginning.\n[codecarbon INFO @ 18:27:24] Energy consumed for RAM : 0.000771 kWh. RAM Power : 10.2771635055542 W\n[codecarbon INFO @ 18:27:24] Energy consumed for all GPUs : 0.005182 kWh. Total GPU Power : 69.58963191774676 W\n[codecarbon INFO @ 18:27:24] Energy consumed for all CPUs : 0.003187 kWh. Total CPU Power : 42.5 W\n[codecarbon INFO @ 18:27:24] 0.009140 kWh of electricity used since the beginning.\n[codecarbon INFO @ 18:27:28] Energy consumed for RAM : 0.000985 kWh. RAM Power : 10.2771635055542 W\n[codecarbon INFO @ 18:27:28] Energy consumed for all GPUs : 0.005681 kWh. Total GPU Power : 69.6191817162131 W\n[codecarbon INFO @ 18:27:28] Energy consumed for all CPUs : 0.004073 kWh. Total CPU Power : 42.5 W\n[codecarbon INFO @ 18:27:28] 0.010738 kWh of electricity used since the beginning.\n[codecarbon INFO @ 18:27:39] Energy consumed for RAM : 0.000813 kWh. RAM Power : 10.2771635055542 W\n[codecarbon INFO @ 18:27:39] Energy consumed for all GPUs : 0.005472 kWh. Total GPU Power : 69.61622635606791 W\n[codecarbon INFO @ 18:27:39] Energy consumed for all CPUs : 0.003365 kWh. Total CPU Power : 42.5 W\n[codecarbon INFO @ 18:27:39] 0.009649 kWh of electricity used since the beginning.\n[codecarbon INFO @ 18:27:43] Energy consumed for RAM : 0.001027 kWh. RAM Power : 10.2771635055542 W\n[codecarbon INFO @ 18:27:43] Energy consumed for all GPUs : 0.005971 kWh. Total GPU Power : 69.58160618220349 W\n[codecarbon INFO @ 18:27:43] Energy consumed for all CPUs : 0.004250 kWh. Total CPU Power : 42.5 W\n[codecarbon INFO @ 18:27:43] 0.011248 kWh of electricity used since the beginning.\n[codecarbon INFO @ 18:27:54] Energy consumed for RAM : 0.000856 kWh. RAM Power : 10.2771635055542 W\n[codecarbon INFO @ 18:27:54] Energy consumed for all GPUs : 0.005762 kWh. Total GPU Power : 69.7579018800167 W\n[codecarbon INFO @ 18:27:54] Energy consumed for all CPUs : 0.003542 kWh. Total CPU Power : 42.5 W\n[codecarbon INFO @ 18:27:54] 0.010160 kWh of electricity used since the beginning.\n[codecarbon INFO @ 18:27:58] Energy consumed for RAM : 0.001070 kWh. RAM Power : 10.2771635055542 W\n[codecarbon INFO @ 18:27:58] Energy consumed for all GPUs : 0.006262 kWh. Total GPU Power : 69.78086113157637 W\n[codecarbon INFO @ 18:27:58] Energy consumed for all CPUs : 0.004427 kWh. Total CPU Power : 42.5 W\n[codecarbon INFO @ 18:27:58] 0.011759 kWh of electricity used since the beginning.\n[codecarbon INFO @ 18:28:09] Energy consumed for RAM : 0.000899 kWh. RAM Power : 10.2771635055542 W\n[codecarbon INFO @ 18:28:09] Energy consumed for all GPUs : 0.006052 kWh. Total GPU Power : 69.59392058286713 W\n[codecarbon INFO @ 18:28:09] Energy consumed for all CPUs : 0.003719 kWh. Total CPU Power : 42.5 W\n[codecarbon INFO @ 18:28:09] 0.010670 kWh of electricity used since the beginning.\n[codecarbon INFO @ 18:28:13] Energy consumed for RAM : 0.001113 kWh. RAM Power : 10.2771635055542 W\n[codecarbon INFO @ 18:28:13] Energy consumed for all GPUs : 0.006551 kWh. Total GPU Power : 69.56090095426093 W\n[codecarbon INFO @ 18:28:13] Energy consumed for all CPUs : 0.004604 kWh. Total CPU Power : 42.5 W\n[codecarbon INFO @ 18:28:13] 0.012268 kWh of electricity used since the beginning.\n[codecarbon INFO @ 18:28:24] Energy consumed for RAM : 0.000942 kWh. RAM Power : 10.2771635055542 W\n[codecarbon INFO @ 18:28:24] Energy consumed for all GPUs : 0.006342 kWh. Total GPU Power : 69.60762824750347 W\n[codecarbon INFO @ 18:28:24] Energy consumed for all CPUs : 0.003896 kWh. Total CPU Power : 42.5 W\n[codecarbon INFO @ 18:28:24] 0.011179 kWh of electricity used since the beginning.\n[codecarbon INFO @ 18:28:28] Energy consumed for RAM : 0.001156 kWh. RAM Power : 10.2771635055542 W\n[codecarbon INFO @ 18:28:28] Energy consumed for all GPUs : 0.006841 kWh. Total GPU Power : 69.5520280146449 W\n[codecarbon INFO @ 18:28:28] Energy consumed for all CPUs : 0.004781 kWh. Total CPU Power : 42.5 W\n[codecarbon INFO @ 18:28:28] 0.012778 kWh of electricity used since the beginning.\n[codecarbon INFO @ 18:28:39] Energy consumed for RAM : 0.000985 kWh. RAM Power : 10.2771635055542 W\n[codecarbon INFO @ 18:28:39] Energy consumed for all GPUs : 0.006632 kWh. Total GPU Power : 69.5794707311266 W\n[codecarbon INFO @ 18:28:39] Energy consumed for all CPUs : 0.004073 kWh. Total CPU Power : 42.5 W\n[codecarbon INFO @ 18:28:39] 0.011689 kWh of electricity used since the beginning.\n[codecarbon INFO @ 18:28:43] Energy consumed for RAM : 0.001199 kWh. RAM Power : 10.2771635055542 W\n[codecarbon INFO @ 18:28:43] Energy consumed for all GPUs : 0.007131 kWh. Total GPU Power : 69.68422006411029 W\n[codecarbon INFO @ 18:28:43] Energy consumed for all CPUs : 0.004958 kWh. Total CPU Power : 42.5 W\n[codecarbon INFO @ 18:28:43] 0.013288 kWh of electricity used since the beginning.\n[codecarbon INFO @ 18:28:54] Energy consumed for RAM : 0.001027 kWh. RAM Power : 10.2771635055542 W\n[codecarbon INFO @ 18:28:54] Energy consumed for all GPUs : 0.006922 kWh. Total GPU Power : 69.62853500832571 W\n[codecarbon INFO @ 18:28:54] Energy consumed for all CPUs : 0.004250 kWh. Total CPU Power : 42.5 W\n[codecarbon INFO @ 18:28:54] 0.012199 kWh of electricity used since the beginning.\n[codecarbon INFO @ 18:28:58] Energy consumed for RAM : 0.001241 kWh. RAM Power : 10.2771635055542 W\n[codecarbon INFO @ 18:28:58] Energy consumed for all GPUs : 0.007421 kWh. Total GPU Power : 69.66360468873161 W\n[codecarbon INFO @ 18:28:58] Energy consumed for all CPUs : 0.005135 kWh. Total CPU Power : 42.5 W\n[codecarbon INFO @ 18:28:58] 0.013798 kWh of electricity used since the beginning.\n[codecarbon INFO @ 18:29:09] Energy consumed for RAM : 0.001070 kWh. RAM Power : 10.2771635055542 W\n[codecarbon INFO @ 18:29:09] Energy consumed for all GPUs : 0.007212 kWh. Total GPU Power : 69.65139964691444 W\n[codecarbon INFO @ 18:29:09] Energy consumed for all CPUs : 0.004427 kWh. Total CPU Power : 42.5 W\n[codecarbon INFO @ 18:29:09] 0.012709 kWh of electricity used since the beginning.\n[codecarbon INFO @ 18:29:13] Energy consumed for RAM : 0.001284 kWh. RAM Power : 10.2771635055542 W\n[codecarbon INFO @ 18:29:13] Energy consumed for all GPUs : 0.007711 kWh. Total GPU Power : 69.57670182663422 W\n[codecarbon INFO @ 18:29:13] Energy consumed for all CPUs : 0.005312 kWh. Total CPU Power : 42.5 W\n[codecarbon INFO @ 18:29:13] 0.014308 kWh of electricity used since the beginning.\n[codecarbon INFO @ 18:29:24] Energy consumed for RAM : 0.001113 kWh. RAM Power : 10.2771635055542 W\n[codecarbon INFO @ 18:29:24] Energy consumed for all GPUs : 0.007502 kWh. Total GPU Power : 69.61975210926838 W\n[codecarbon INFO @ 18:29:24] Energy consumed for all CPUs : 0.004604 kWh. Total CPU Power : 42.5 W\n[codecarbon INFO @ 18:29:24] 0.013219 kWh of electricity used since the beginning.\n[codecarbon INFO @ 18:29:28] Energy consumed for RAM : 0.001327 kWh. RAM Power : 10.2771635055542 W\n[codecarbon INFO @ 18:29:28] Energy consumed for all GPUs : 0.008001 kWh. Total GPU Power : 69.6053811979591 W\n[codecarbon INFO @ 18:29:28] Energy consumed for all CPUs : 0.005490 kWh. Total CPU Power : 42.5 W\n[codecarbon INFO @ 18:29:28] 0.014818 kWh of electricity used since the beginning.\n[codecarbon INFO @ 18:29:39] Energy consumed for RAM : 0.001156 kWh. RAM Power : 10.2771635055542 W\n[codecarbon INFO @ 18:29:39] Energy consumed for all GPUs : 0.007792 kWh. Total GPU Power : 69.5849539359479 W\n[codecarbon INFO @ 18:29:39] Energy consumed for all CPUs : 0.004781 kWh. Total CPU Power : 42.5 W\n[codecarbon INFO @ 18:29:39] 0.013729 kWh of electricity used since the beginning.\n[codecarbon INFO @ 18:29:43] Energy consumed for RAM : 0.001370 kWh. RAM Power : 10.2771635055542 W\n[codecarbon INFO @ 18:29:43] Energy consumed for all GPUs : 0.008291 kWh. Total GPU Power : 69.60894397309099 W\n[codecarbon INFO @ 18:29:43] Energy consumed for all CPUs : 0.005667 kWh. Total CPU Power : 42.5 W\n[codecarbon INFO @ 18:29:43] 0.015327 kWh of electricity used since the beginning.\n[codecarbon INFO @ 18:29:54] Energy consumed for RAM : 0.001199 kWh. RAM Power : 10.2771635055542 W\n[codecarbon INFO @ 18:29:54] Energy consumed for all GPUs : 0.008082 kWh. Total GPU Power : 69.58939065110712 W\n[codecarbon INFO @ 18:29:54] Energy consumed for all CPUs : 0.004958 kWh. Total CPU Power : 42.5 W\n[codecarbon INFO @ 18:29:54] 0.014238 kWh of electricity used since the beginning.\n[codecarbon INFO @ 18:29:58] Energy consumed for RAM : 0.001413 kWh. RAM Power : 10.2771635055542 W\n[codecarbon INFO @ 18:29:58] Energy consumed for all GPUs : 0.008581 kWh. Total GPU Power : 69.62213314204122 W\n[codecarbon INFO @ 18:29:58] Energy consumed for all CPUs : 0.005844 kWh. Total CPU Power : 42.5 W\n[codecarbon INFO @ 18:29:58] 0.015837 kWh of electricity used since the beginning.\n[codecarbon INFO @ 18:30:09] Energy consumed for RAM : 0.001241 kWh. RAM Power : 10.2771635055542 W\n[codecarbon INFO @ 18:30:09] Energy consumed for all GPUs : 0.008372 kWh. Total GPU Power : 69.6511072519288 W\n[codecarbon INFO @ 18:30:09] Energy consumed for all CPUs : 0.005135 kWh. Total CPU Power : 42.5 W\n[codecarbon INFO @ 18:30:09] 0.014748 kWh of electricity used since the beginning.\n[codecarbon INFO @ 18:30:13] Energy consumed for RAM : 0.001455 kWh. RAM Power : 10.2771635055542 W\n[codecarbon INFO @ 18:30:13] Energy consumed for all GPUs : 0.008871 kWh. Total GPU Power : 69.60547667839396 W\n[codecarbon INFO @ 18:30:13] Energy consumed for all CPUs : 0.006021 kWh. Total CPU Power : 42.5 W\n[codecarbon INFO @ 18:30:13] 0.016347 kWh of electricity used since the beginning.\n[codecarbon INFO @ 18:30:24] Energy consumed for RAM : 0.001284 kWh. RAM Power : 10.2771635055542 W\n[codecarbon INFO @ 18:30:24] Energy consumed for all GPUs : 0.008661 kWh. Total GPU Power : 69.5184728306365 W\n[codecarbon INFO @ 18:30:24] Energy consumed for all CPUs : 0.005312 kWh. Total CPU Power : 42.5 W\n[codecarbon INFO @ 18:30:24] 0.015258 kWh of electricity used since the beginning.\n[codecarbon INFO @ 18:30:28] Energy consumed for RAM : 0.001498 kWh. RAM Power : 10.2771635055542 W\n[codecarbon INFO @ 18:30:28] Energy consumed for all GPUs : 0.009161 kWh. Total GPU Power : 69.5073101523281 W\n[codecarbon INFO @ 18:30:28] Energy consumed for all CPUs : 0.006198 kWh. Total CPU Power : 42.5 W\n[codecarbon INFO @ 18:30:28] 0.016857 kWh of electricity used since the beginning.\n[codecarbon INFO @ 18:30:39] Energy consumed for RAM : 0.001327 kWh. RAM Power : 10.2771635055542 W\n[codecarbon INFO @ 18:30:39] Energy consumed for all GPUs : 0.008951 kWh. Total GPU Power : 69.51920745789083 W\n[codecarbon INFO @ 18:30:39] Energy consumed for all CPUs : 0.005490 kWh. Total CPU Power : 42.5 W\n[codecarbon INFO @ 18:30:39] 0.015767 kWh of electricity used since the beginning.\n[codecarbon INFO @ 18:30:43] Energy consumed for RAM : 0.001541 kWh. RAM Power : 10.2771635055542 W\n[codecarbon INFO @ 18:30:43] Energy consumed for all GPUs : 0.009450 kWh. Total GPU Power : 69.50837477263487 W\n[codecarbon INFO @ 18:30:43] Energy consumed for all CPUs : 0.006375 kWh. Total CPU Power : 42.5 W\n[codecarbon INFO @ 18:30:43] 0.017366 kWh of electricity used since the beginning.\n[codecarbon INFO @ 18:30:54] Energy consumed for RAM : 0.001370 kWh. RAM Power : 10.2771635055542 W\n[codecarbon INFO @ 18:30:54] Energy consumed for all GPUs : 0.009241 kWh. Total GPU Power : 69.61832340192734 W\n[codecarbon INFO @ 18:30:54] Energy consumed for all CPUs : 0.005667 kWh. Total CPU Power : 42.5 W\n[codecarbon INFO @ 18:30:54] 0.016277 kWh of electricity used since the beginning.\n[codecarbon INFO @ 18:30:58] Energy consumed for RAM : 0.001584 kWh. RAM Power : 10.2771635055542 W\n[codecarbon INFO @ 18:30:58] Energy consumed for all GPUs : 0.009740 kWh. Total GPU Power : 69.6357543958209 W\n[codecarbon INFO @ 18:30:58] Energy consumed for all CPUs : 0.006552 kWh. Total CPU Power : 42.5 W\n[codecarbon INFO @ 18:30:58] 0.017876 kWh of electricity used since the beginning.\n[codecarbon INFO @ 18:31:09] Energy consumed for RAM : 0.001413 kWh. RAM Power : 10.2771635055542 W\n[codecarbon INFO @ 18:31:09] Energy consumed for all GPUs : 0.009531 kWh. Total GPU Power : 69.56521216979357 W\n[codecarbon INFO @ 18:31:09] Energy consumed for all CPUs : 0.005844 kWh. Total CPU Power : 42.5 W\n[codecarbon INFO @ 18:31:09] 0.016787 kWh of electricity used since the beginning.\n[codecarbon INFO @ 18:31:13] Energy consumed for RAM : 0.001627 kWh. RAM Power : 10.2771635055542 W\n[codecarbon INFO @ 18:31:13] Energy consumed for all GPUs : 0.010030 kWh. Total GPU Power : 69.56459913802107 W\n[codecarbon INFO @ 18:31:13] Energy consumed for all CPUs : 0.006729 kWh. Total CPU Power : 42.5 W\n[codecarbon INFO @ 18:31:13] 0.018386 kWh of electricity used since the beginning.\n[codecarbon INFO @ 18:31:24] Energy consumed for RAM : 0.001455 kWh. RAM Power : 10.2771635055542 W\n[codecarbon INFO @ 18:31:24] Energy consumed for all GPUs : 0.009819 kWh. Total GPU Power : 69.18663565851739 W\n[codecarbon INFO @ 18:31:24] Energy consumed for all CPUs : 0.006021 kWh. Total CPU Power : 42.5 W\n[codecarbon INFO @ 18:31:24] 0.017295 kWh of electricity used since the beginning.\n[codecarbon INFO @ 18:31:28] Energy consumed for RAM : 0.001669 kWh. RAM Power : 10.2771635055542 W\n[codecarbon INFO @ 18:31:28] Energy consumed for all GPUs : 0.010320 kWh. Total GPU Power : 69.65959170227535 W\n[codecarbon INFO @ 18:31:28] Energy consumed for all CPUs : 0.006906 kWh. Total CPU Power : 42.5 W\n[codecarbon INFO @ 18:31:28] 0.018896 kWh of electricity used since the beginning.\n[codecarbon INFO @ 18:31:39] Energy consumed for RAM : 0.001498 kWh. RAM Power : 10.2771635055542 W\n[codecarbon INFO @ 18:31:39] Energy consumed for all GPUs : 0.010109 kWh. Total GPU Power : 69.58578883033043 W\n[codecarbon INFO @ 18:31:39] Energy consumed for all CPUs : 0.006198 kWh. Total CPU Power : 42.5 W\n[codecarbon INFO @ 18:31:39] 0.017805 kWh of electricity used since the beginning.\n[codecarbon INFO @ 18:31:43] Energy consumed for RAM : 0.001712 kWh. RAM Power : 10.2771635055542 W\n[codecarbon INFO @ 18:31:43] Energy consumed for all GPUs : 0.010610 kWh. Total GPU Power : 69.58216745348315 W\n[codecarbon INFO @ 18:31:43] Energy consumed for all CPUs : 0.007083 kWh. Total CPU Power : 42.5 W\n[codecarbon INFO @ 18:31:43] 0.019405 kWh of electricity used since the beginning.\n[codecarbon INFO @ 18:31:54] Energy consumed for RAM : 0.001541 kWh. RAM Power : 10.2771635055542 W\n[codecarbon INFO @ 18:31:54] Energy consumed for all GPUs : 0.010399 kWh. Total GPU Power : 69.58697169323575 W\n[codecarbon INFO @ 18:31:54] Energy consumed for all CPUs : 0.006375 kWh. Total CPU Power : 42.5 W\n[codecarbon INFO @ 18:31:54] 0.018314 kWh of electricity used since the beginning.\n[codecarbon INFO @ 18:31:58] Energy consumed for RAM : 0.001755 kWh. RAM Power : 10.2771635055542 W\n[codecarbon INFO @ 18:31:58] Energy consumed for all GPUs : 0.010900 kWh. Total GPU Power : 69.58228971599243 W\n[codecarbon INFO @ 18:31:58] Energy consumed for all CPUs : 0.007260 kWh. Total CPU Power : 42.5 W\n[codecarbon INFO @ 18:31:58] 0.019915 kWh of electricity used since the beginning.\n[codecarbon INFO @ 18:32:09] Energy consumed for RAM : 0.001584 kWh. RAM Power : 10.2771635055542 W\n[codecarbon INFO @ 18:32:09] Energy consumed for all GPUs : 0.010688 kWh. Total GPU Power : 69.60518336939435 W\n[codecarbon INFO @ 18:32:09] Energy consumed for all CPUs : 0.006552 kWh. Total CPU Power : 42.5 W\n[codecarbon INFO @ 18:32:09] 0.018824 kWh of electricity used since the beginning.\n[codecarbon INFO @ 18:32:13] Energy consumed for RAM : 0.001798 kWh. RAM Power : 10.2771635055542 W\n[codecarbon INFO @ 18:32:13] Energy consumed for all GPUs : 0.011190 kWh. Total GPU Power : 69.58097876101269 W\n[codecarbon INFO @ 18:32:13] Energy consumed for all CPUs : 0.007437 kWh. Total CPU Power : 42.5 W\n[codecarbon INFO @ 18:32:13] 0.020425 kWh of electricity used since the beginning.\n[codecarbon INFO @ 18:32:24] Energy consumed for RAM : 0.001627 kWh. RAM Power : 10.2771635055542 W\n[codecarbon INFO @ 18:32:24] Energy consumed for all GPUs : 0.010979 kWh. Total GPU Power : 69.71948185398 W\n[codecarbon INFO @ 18:32:24] Energy consumed for all CPUs : 0.006729 kWh. Total CPU Power : 42.5 W\n[codecarbon INFO @ 18:32:24] 0.019335 kWh of electricity used since the beginning.\n[codecarbon INFO @ 18:32:28] Energy consumed for RAM : 0.001841 kWh. RAM Power : 10.2771635055542 W\n[codecarbon INFO @ 18:32:28] Energy consumed for all GPUs : 0.011480 kWh. Total GPU Power : 69.82120137611919 W\n[codecarbon INFO @ 18:32:28] Energy consumed for all CPUs : 0.007614 kWh. Total CPU Power : 42.5 W\n[codecarbon INFO @ 18:32:28] 0.020936 kWh of electricity used since the beginning.\n[codecarbon INFO @ 18:32:39] Energy consumed for RAM : 0.001669 kWh. RAM Power : 10.2771635055542 W\n[codecarbon INFO @ 18:32:39] Energy consumed for all GPUs : 0.011269 kWh. Total GPU Power : 69.63757054192493 W\n[codecarbon INFO @ 18:32:39] Energy consumed for all CPUs : 0.006906 kWh. Total CPU Power : 42.5 W\n[codecarbon INFO @ 18:32:39] 0.019845 kWh of electricity used since the beginning.\n[codecarbon INFO @ 18:32:43] Energy consumed for RAM : 0.001883 kWh. RAM Power : 10.2771635055542 W\n[codecarbon INFO @ 18:32:43] Energy consumed for all GPUs : 0.011770 kWh. Total GPU Power : 69.5695070912097 W\n[codecarbon INFO @ 18:32:43] Energy consumed for all CPUs : 0.007791 kWh. Total CPU Power : 42.5 W\n[codecarbon INFO @ 18:32:43] 0.021445 kWh of electricity used since the beginning.\n[codecarbon INFO @ 18:32:54] Energy consumed for RAM : 0.001712 kWh. RAM Power : 10.2771635055542 W\n[codecarbon INFO @ 18:32:54] Energy consumed for all GPUs : 0.011559 kWh. Total GPU Power : 69.5302950190674 W\n[codecarbon INFO @ 18:32:54] Energy consumed for all CPUs : 0.007083 kWh. Total CPU Power : 42.5 W\n[codecarbon INFO @ 18:32:54] 0.020354 kWh of electricity used since the beginning.\n[codecarbon INFO @ 18:32:58] Energy consumed for RAM : 0.001926 kWh. RAM Power : 10.2771635055542 W\n[codecarbon INFO @ 18:32:58] Energy consumed for all GPUs : 0.012060 kWh. Total GPU Power : 69.57639829899536 W\n[codecarbon INFO @ 18:32:58] Energy consumed for all CPUs : 0.007969 kWh. Total CPU Power : 42.5 W\n[codecarbon INFO @ 18:32:58] 0.021955 kWh of electricity used since the beginning.\n[codecarbon INFO @ 18:33:09] Energy consumed for RAM : 0.001755 kWh. RAM Power : 10.2771635055542 W\n[codecarbon INFO @ 18:33:09] Energy consumed for all GPUs : 0.011848 kWh. Total GPU Power : 69.58352970890739 W\n[codecarbon INFO @ 18:33:09] Energy consumed for all CPUs : 0.007260 kWh. Total CPU Power : 42.5 W\n[codecarbon INFO @ 18:33:09] 0.020864 kWh of electricity used since the beginning.\n[codecarbon INFO @ 18:33:13] Energy consumed for RAM : 0.001969 kWh. RAM Power : 10.2771635055542 W\n[codecarbon INFO @ 18:33:13] Energy consumed for all GPUs : 0.012350 kWh. Total GPU Power : 69.55472255577766 W\n[codecarbon INFO @ 18:33:13] Energy consumed for all CPUs : 0.008146 kWh. Total CPU Power : 42.5 W\n[codecarbon INFO @ 18:33:13] 0.022464 kWh of electricity used since the beginning.\n[codecarbon INFO @ 18:33:24] Energy consumed for RAM : 0.001798 kWh. RAM Power : 10.2771635055542 W\n[codecarbon INFO @ 18:33:24] Energy consumed for all GPUs : 0.012138 kWh. Total GPU Power : 69.55149506922136 W\n[codecarbon INFO @ 18:33:24] Energy consumed for all CPUs : 0.007437 kWh. Total CPU Power : 42.5 W\n[codecarbon INFO @ 18:33:24] 0.021373 kWh of electricity used since the beginning.\n[codecarbon INFO @ 18:33:28] Energy consumed for RAM : 0.002012 kWh. RAM Power : 10.2771635055542 W\n[codecarbon INFO @ 18:33:28] Energy consumed for all GPUs : 0.012638 kWh. Total GPU Power : 69.14564843996338 W\n[codecarbon INFO @ 18:33:28] Energy consumed for all CPUs : 0.008323 kWh. Total CPU Power : 42.5 W\n[codecarbon INFO @ 18:33:28] 0.022972 kWh of electricity used since the beginning.\n[codecarbon INFO @ 18:33:39] Energy consumed for RAM : 0.001841 kWh. RAM Power : 10.2771635055542 W\n[codecarbon INFO @ 18:33:39] Energy consumed for all GPUs : 0.012428 kWh. Total GPU Power : 69.68313336773696 W\n[codecarbon INFO @ 18:33:39] Energy consumed for all CPUs : 0.007614 kWh. Total CPU Power : 42.5 W\n[codecarbon INFO @ 18:33:39] 0.021884 kWh of electricity used since the beginning.\n[codecarbon INFO @ 18:33:43] Energy consumed for RAM : 0.002055 kWh. RAM Power : 10.2771635055542 W\n[codecarbon INFO @ 18:33:43] Energy consumed for all GPUs : 0.012928 kWh. Total GPU Power : 69.61729154748082 W\n[codecarbon INFO @ 18:33:43] Energy consumed for all CPUs : 0.008500 kWh. Total CPU Power : 42.5 W\n[codecarbon INFO @ 18:33:43] 0.023482 kWh of electricity used since the beginning.\n[codecarbon INFO @ 18:33:54] Energy consumed for RAM : 0.001883 kWh. RAM Power : 10.2771635055542 W\n[codecarbon INFO @ 18:33:54] Energy consumed for all GPUs : 0.012718 kWh. Total GPU Power : 69.5636515223475 W\n[codecarbon INFO @ 18:33:54] Energy consumed for all CPUs : 0.007792 kWh. Total CPU Power : 42.5 W\n[codecarbon INFO @ 18:33:54] 0.022393 kWh of electricity used since the beginning.\n[codecarbon INFO @ 18:33:58] Energy consumed for RAM : 0.002097 kWh. RAM Power : 10.2771635055542 W\n[codecarbon INFO @ 18:33:58] Energy consumed for all GPUs : 0.013218 kWh. Total GPU Power : 69.6311269605245 W\n[codecarbon INFO @ 18:33:58] Energy consumed for all CPUs : 0.008677 kWh. Total CPU Power : 42.5 W\n[codecarbon INFO @ 18:33:58] 0.023992 kWh of electricity used since the beginning.\n[codecarbon INFO @ 18:34:09] Energy consumed for RAM : 0.001926 kWh. RAM Power : 10.2771635055542 W\n[codecarbon INFO @ 18:34:09] Energy consumed for all GPUs : 0.013008 kWh. Total GPU Power : 69.63567696581752 W\n[codecarbon INFO @ 18:34:09] Energy consumed for all CPUs : 0.007969 kWh. Total CPU Power : 42.5 W\n[codecarbon INFO @ 18:34:09] 0.022903 kWh of electricity used since the beginning.\n[codecarbon INFO @ 18:34:13] Energy consumed for RAM : 0.002140 kWh. RAM Power : 10.2771635055542 W\n[codecarbon INFO @ 18:34:13] Energy consumed for all GPUs : 0.013507 kWh. Total GPU Power : 69.54115527242652 W\n[codecarbon INFO @ 18:34:13] Energy consumed for all CPUs : 0.008854 kWh. Total CPU Power : 42.5 W\n[codecarbon INFO @ 18:34:13] 0.024502 kWh of electricity used since the beginning.\n[codecarbon INFO @ 18:34:24] Energy consumed for RAM : 0.001969 kWh. RAM Power : 10.2771635055542 W\n[codecarbon INFO @ 18:34:24] Energy consumed for all GPUs : 0.013298 kWh. Total GPU Power : 69.59023675866274 W\n[codecarbon INFO @ 18:34:24] Energy consumed for all CPUs : 0.008146 kWh. Total CPU Power : 42.5 W\n[codecarbon INFO @ 18:34:24] 0.023413 kWh of electricity used since the beginning.\n[codecarbon INFO @ 18:34:28] Energy consumed for RAM : 0.002183 kWh. RAM Power : 10.2771635055542 W\n[codecarbon INFO @ 18:34:28] Energy consumed for all GPUs : 0.013797 kWh. Total GPU Power : 69.59538935026504 W\n[codecarbon INFO @ 18:34:28] Energy consumed for all CPUs : 0.009031 kWh. Total CPU Power : 42.5 W\n[codecarbon INFO @ 18:34:28] 0.025012 kWh of electricity used since the beginning.\n[codecarbon INFO @ 18:34:39] Energy consumed for RAM : 0.002012 kWh. RAM Power : 10.2771635055542 W\n[codecarbon INFO @ 18:34:39] Energy consumed for all GPUs : 0.013588 kWh. Total GPU Power : 69.71111960776038 W\n[codecarbon INFO @ 18:34:39] Energy consumed for all CPUs : 0.008323 kWh. Total CPU Power : 42.5 W\n[codecarbon INFO @ 18:34:39] 0.023923 kWh of electricity used since the beginning.\n[codecarbon INFO @ 18:34:43] Energy consumed for RAM : 0.002226 kWh. RAM Power : 10.2771635055542 W\n[codecarbon INFO @ 18:34:43] Energy consumed for all GPUs : 0.014088 kWh. Total GPU Power : 69.67576094510818 W\n[codecarbon INFO @ 18:34:43] Energy consumed for all CPUs : 0.009208 kWh. Total CPU Power : 42.5 W\n[codecarbon INFO @ 18:34:43] 0.025522 kWh of electricity used since the beginning.\n[codecarbon INFO @ 18:34:54] Energy consumed for RAM : 0.002055 kWh. RAM Power : 10.2771635055542 W\n[codecarbon INFO @ 18:34:54] Energy consumed for all GPUs : 0.013878 kWh. Total GPU Power : 69.51866908805694 W\n[codecarbon INFO @ 18:34:54] Energy consumed for all CPUs : 0.008500 kWh. Total CPU Power : 42.5 W\n[codecarbon INFO @ 18:34:54] 0.024432 kWh of electricity used since the beginning.\n[codecarbon INFO @ 18:34:58] Energy consumed for RAM : 0.002269 kWh. RAM Power : 10.2771635055542 W\n[codecarbon INFO @ 18:34:58] Energy consumed for all GPUs : 0.014377 kWh. Total GPU Power : 69.53746647978939 W\n[codecarbon INFO @ 18:34:58] Energy consumed for all CPUs : 0.009385 kWh. Total CPU Power : 42.5 W\n[codecarbon INFO @ 18:34:58] 0.026031 kWh of electricity used since the beginning.\n[codecarbon INFO @ 18:35:09] Energy consumed for RAM : 0.002097 kWh. RAM Power : 10.2771635055542 W\n[codecarbon INFO @ 18:35:09] Energy consumed for all GPUs : 0.014168 kWh. Total GPU Power : 69.58189405839198 W\n[codecarbon INFO @ 18:35:09] Energy consumed for all CPUs : 0.008677 kWh. Total CPU Power : 42.5 W\n[codecarbon INFO @ 18:35:09] 0.024942 kWh of electricity used since the beginning.\n[codecarbon INFO @ 18:35:13] Energy consumed for RAM : 0.002311 kWh. RAM Power : 10.2771635055542 W\n[codecarbon INFO @ 18:35:13] Energy consumed for all GPUs : 0.014667 kWh. Total GPU Power : 69.59162628122907 W\n[codecarbon INFO @ 18:35:13] Energy consumed for all CPUs : 0.009562 kWh. Total CPU Power : 42.5 W\n[codecarbon INFO @ 18:35:13] 0.026541 kWh of electricity used since the beginning.\n[codecarbon INFO @ 18:35:24] Energy consumed for RAM : 0.002140 kWh. RAM Power : 10.2771635055542 W\n[codecarbon INFO @ 18:35:24] Energy consumed for all GPUs : 0.014458 kWh. Total GPU Power : 69.58461042526373 W\n[codecarbon INFO @ 18:35:24] Energy consumed for all CPUs : 0.008854 kWh. Total CPU Power : 42.5 W\n[codecarbon INFO @ 18:35:24] 0.025452 kWh of electricity used since the beginning.\n[codecarbon INFO @ 18:35:28] Energy consumed for RAM : 0.002354 kWh. RAM Power : 10.2771635055542 W\n[codecarbon INFO @ 18:35:28] Energy consumed for all GPUs : 0.014957 kWh. Total GPU Power : 69.61494439878561 W\n[codecarbon INFO @ 18:35:28] Energy consumed for all CPUs : 0.009739 kWh. Total CPU Power : 42.5 W\n[codecarbon INFO @ 18:35:28] 0.027051 kWh of electricity used since the beginning.\n[codecarbon INFO @ 18:35:39] Energy consumed for RAM : 0.002183 kWh. RAM Power : 10.2771635055542 W\n[codecarbon INFO @ 18:35:39] Energy consumed for all GPUs : 0.014748 kWh. Total GPU Power : 69.63799989655027 W\n[codecarbon INFO @ 18:35:39] Energy consumed for all CPUs : 0.009031 kWh. Total CPU Power : 42.5 W\n[codecarbon INFO @ 18:35:39] 0.025962 kWh of electricity used since the beginning.\n[codecarbon INFO @ 18:35:43] Energy consumed for RAM : 0.002397 kWh. RAM Power : 10.2771635055542 W\n[codecarbon INFO @ 18:35:43] Energy consumed for all GPUs : 0.015247 kWh. Total GPU Power : 69.62005571851184 W\n[codecarbon INFO @ 18:35:43] Energy consumed for all CPUs : 0.009916 kWh. Total CPU Power : 42.5 W\n[codecarbon INFO @ 18:35:43] 0.027561 kWh of electricity used since the beginning.\n[codecarbon INFO @ 18:35:54] Energy consumed for RAM : 0.002226 kWh. RAM Power : 10.2771635055542 W\n[codecarbon INFO @ 18:35:54] Energy consumed for all GPUs : 0.015038 kWh. Total GPU Power : 69.61981521017789 W\n[codecarbon INFO @ 18:35:54] Energy consumed for all CPUs : 0.009208 kWh. Total CPU Power : 42.5 W\n[codecarbon INFO @ 18:35:54] 0.026472 kWh of electricity used since the beginning.\n[codecarbon INFO @ 18:35:58] Energy consumed for RAM : 0.002440 kWh. RAM Power : 10.2771635055542 W\n[codecarbon INFO @ 18:35:58] Energy consumed for all GPUs : 0.015537 kWh. Total GPU Power : 69.60195595853355 W\n[codecarbon INFO @ 18:35:58] Energy consumed for all CPUs : 0.010093 kWh. Total CPU Power : 42.5 W\n[codecarbon INFO @ 18:35:58] 0.028070 kWh of electricity used since the beginning.\n[codecarbon INFO @ 18:36:09] Energy consumed for RAM : 0.002269 kWh. RAM Power : 10.2771635055542 W\n[codecarbon INFO @ 18:36:09] Energy consumed for all GPUs : 0.015328 kWh. Total GPU Power : 69.59240937817162 W\n[codecarbon INFO @ 18:36:09] Energy consumed for all CPUs : 0.009385 kWh. Total CPU Power : 42.5 W\n[codecarbon INFO @ 18:36:09] 0.026981 kWh of electricity used since the beginning.\n[codecarbon INFO @ 18:36:13] Energy consumed for RAM : 0.002483 kWh. RAM Power : 10.2771635055542 W\n[codecarbon INFO @ 18:36:13] Energy consumed for all GPUs : 0.015827 kWh. Total GPU Power : 69.58687285008409 W\n[codecarbon INFO @ 18:36:13] Energy consumed for all CPUs : 0.010271 kWh. Total CPU Power : 42.5 W\n[codecarbon INFO @ 18:36:13] 0.028580 kWh of electricity used since the beginning.\n[codecarbon INFO @ 18:36:24] Energy consumed for RAM : 0.002312 kWh. RAM Power : 10.2771635055542 W\n[codecarbon INFO @ 18:36:24] Energy consumed for all GPUs : 0.015618 kWh. Total GPU Power : 69.60601816861598 W\n[codecarbon INFO @ 18:36:24] Energy consumed for all CPUs : 0.009562 kWh. Total CPU Power : 42.5 W\n[codecarbon INFO @ 18:36:24] 0.027491 kWh of electricity used since the beginning.\n[codecarbon INFO @ 18:36:28] Energy consumed for RAM : 0.002526 kWh. RAM Power : 10.2771635055542 W\n[codecarbon INFO @ 18:36:28] Energy consumed for all GPUs : 0.016117 kWh. Total GPU Power : 69.62214939327161 W\n[codecarbon INFO @ 18:36:28] Energy consumed for all CPUs : 0.010448 kWh. Total CPU Power : 42.5 W\n[codecarbon INFO @ 18:36:28] 0.029090 kWh of electricity used since the beginning.\n[codecarbon INFO @ 18:36:39] Energy consumed for RAM : 0.002354 kWh. RAM Power : 10.2771635055542 W\n[codecarbon INFO @ 18:36:39] Energy consumed for all GPUs : 0.015907 kWh. Total GPU Power : 69.59612078793201 W\n[codecarbon INFO @ 18:36:39] Energy consumed for all CPUs : 0.009739 kWh. Total CPU Power : 42.5 W\n[codecarbon INFO @ 18:36:39] 0.028001 kWh of electricity used since the beginning.\n[codecarbon INFO @ 18:36:43] Energy consumed for RAM : 0.002568 kWh. RAM Power : 10.2771635055542 W\n[codecarbon INFO @ 18:36:43] Energy consumed for all GPUs : 0.016407 kWh. Total GPU Power : 69.61082722103123 W\n[codecarbon INFO @ 18:36:43] Energy consumed for all CPUs : 0.010625 kWh. Total CPU Power : 42.5 W\n[codecarbon INFO @ 18:36:43] 0.029600 kWh of electricity used since the beginning.\n[codecarbon INFO @ 18:36:54] Energy consumed for RAM : 0.002397 kWh. RAM Power : 10.2771635055542 W\n[codecarbon INFO @ 18:36:54] Energy consumed for all GPUs : 0.016188 kWh. Total GPU Power : 67.41064713955373 W\n[codecarbon INFO @ 18:36:54] Energy consumed for all CPUs : 0.009916 kWh. Total CPU Power : 42.5 W\n[codecarbon INFO @ 18:36:54] 0.028502 kWh of electricity used since the beginning.\n[codecarbon INFO @ 18:36:58] Energy consumed for RAM : 0.002611 kWh. RAM Power : 10.2771635055542 W\n[codecarbon INFO @ 18:36:58] Energy consumed for all GPUs : 0.016688 kWh. Total GPU Power : 67.45825955080065 W\n[codecarbon INFO @ 18:36:58] Energy consumed for all CPUs : 0.010802 kWh. Total CPU Power : 42.5 W\n[codecarbon INFO @ 18:36:58] 0.030101 kWh of electricity used since the beginning.\n[codecarbon INFO @ 18:37:09] Energy consumed for RAM : 0.002440 kWh. RAM Power : 10.2771635055542 W\n[codecarbon INFO @ 18:37:09] Energy consumed for all GPUs : 0.016478 kWh. Total GPU Power : 69.56630615195596 W\n[codecarbon INFO @ 18:37:09] Energy consumed for all CPUs : 0.010094 kWh. Total CPU Power : 42.5 W\n[codecarbon INFO @ 18:37:09] 0.029011 kWh of electricity used since the beginning.\n[codecarbon INFO @ 18:37:13] Energy consumed for RAM : 0.002654 kWh. RAM Power : 10.2771635055542 W\n[codecarbon INFO @ 18:37:13] Energy consumed for all GPUs : 0.016977 kWh. Total GPU Power : 69.58415382667499 W\n[codecarbon INFO @ 18:37:13] Energy consumed for all CPUs : 0.010979 kWh. Total CPU Power : 42.5 W\n[codecarbon INFO @ 18:37:13] 0.030610 kWh of electricity used since the beginning.\n[codecarbon INFO @ 18:37:24] Energy consumed for RAM : 0.002483 kWh. RAM Power : 10.2771635055542 W\n[codecarbon INFO @ 18:37:24] Energy consumed for all GPUs : 0.016767 kWh. Total GPU Power : 69.50013235848974 W\n[codecarbon INFO @ 18:37:24] Energy consumed for all CPUs : 0.010271 kWh. Total CPU Power : 42.5 W\n[codecarbon INFO @ 18:37:24] 0.029521 kWh of electricity used since the beginning.\n/anaconda/envs/azureml_py38/lib/python3.8/site-packages/sklearn/metrics/_classification.py:1272: UndefinedMetricWarning: Precision is ill-defined and being set to 0.0 in samples with no predicted labels. Use `zero_division` parameter to control this behavior.\n  _warn_prf(average, modifier, msg_start, len(result))\n/anaconda/envs/azureml_py38/lib/python3.8/site-packages/sklearn/metrics/_classification.py:1272: UndefinedMetricWarning: Recall is ill-defined and being set to 0.0 in samples with no true labels. Use `zero_division` parameter to control this behavior.\n  _warn_prf(average, modifier, msg_start, len(result))\n/anaconda/envs/azureml_py38/lib/python3.8/site-packages/sklearn/metrics/_classification.py:1514: UndefinedMetricWarning: F-score is ill-defined and being set to 0.0 in samples with no true nor predicted labels. Use `zero_division` parameter to control this behavior.\n  _warn_prf(\n[codecarbon INFO @ 18:37:28] Energy consumed for RAM : 0.002697 kWh. RAM Power : 10.2771635055542 W\n[codecarbon INFO @ 18:37:28] Energy consumed for all GPUs : 0.017229 kWh. Total GPU Power : 60.48906810577454 W\n[codecarbon INFO @ 18:37:28] Energy consumed for all CPUs : 0.011156 kWh. Total CPU Power : 42.5 W\n[codecarbon INFO @ 18:37:28] 0.031082 kWh of electricity used since the beginning.\n[codecarbon INFO @ 18:37:39] Energy consumed for RAM : 0.002526 kWh. RAM Power : 10.2771635055542 W\n[codecarbon INFO @ 18:37:39] Energy consumed for all GPUs : 0.016964 kWh. Total GPU Power : 47.19561172545037 W\n[codecarbon INFO @ 18:37:39] Energy consumed for all CPUs : 0.010448 kWh. Total CPU Power : 42.5 W\n[codecarbon INFO @ 18:37:39] 0.029937 kWh of electricity used since the beginning.\n[codecarbon INFO @ 18:37:43] Energy consumed for RAM : 0.002739 kWh. RAM Power : 10.2771635055542 W\n[codecarbon INFO @ 18:37:43] Energy consumed for all GPUs : 0.017463 kWh. Total GPU Power : 56.18273850733014 W\n[codecarbon INFO @ 18:37:43] Energy consumed for all CPUs : 0.011333 kWh. Total CPU Power : 42.5 W\n[codecarbon INFO @ 18:37:43] 0.031536 kWh of electricity used since the beginning.\n[codecarbon INFO @ 18:37:54] Energy consumed for RAM : 0.002568 kWh. RAM Power : 10.2771635055542 W\n[codecarbon INFO @ 18:37:54] Energy consumed for all GPUs : 0.017254 kWh. Total GPU Power : 69.66791315163904 W\n[codecarbon INFO @ 18:37:54] Energy consumed for all CPUs : 0.010625 kWh. Total CPU Power : 42.5 W\n[codecarbon INFO @ 18:37:54] 0.030447 kWh of electricity used since the beginning.\n[codecarbon INFO @ 18:37:58] Energy consumed for RAM : 0.002782 kWh. RAM Power : 10.2771635055542 W\n[codecarbon INFO @ 18:37:58] Energy consumed for all GPUs : 0.017754 kWh. Total GPU Power : 69.71677500956936 W\n[codecarbon INFO @ 18:37:58] Energy consumed for all CPUs : 0.011510 kWh. Total CPU Power : 42.5 W\n[codecarbon INFO @ 18:37:58] 0.032046 kWh of electricity used since the beginning.\n[codecarbon INFO @ 18:38:09] Energy consumed for RAM : 0.002611 kWh. RAM Power : 10.2771635055542 W\n[codecarbon INFO @ 18:38:09] Energy consumed for all GPUs : 0.017544 kWh. Total GPU Power : 69.6116268219985 W\n[codecarbon INFO @ 18:38:09] Energy consumed for all CPUs : 0.010802 kWh. Total CPU Power : 42.5 W\n[codecarbon INFO @ 18:38:09] 0.030957 kWh of electricity used since the beginning.\n[codecarbon INFO @ 18:38:13] Energy consumed for RAM : 0.002825 kWh. RAM Power : 10.2771635055542 W\n[codecarbon INFO @ 18:38:13] Energy consumed for all GPUs : 0.018044 kWh. Total GPU Power : 69.61435319634602 W\n[codecarbon INFO @ 18:38:13] Energy consumed for all CPUs : 0.011687 kWh. Total CPU Power : 42.5 W\n[codecarbon INFO @ 18:38:13] 0.032556 kWh of electricity used since the beginning.\n[codecarbon INFO @ 18:38:24] Energy consumed for RAM : 0.002654 kWh. RAM Power : 10.2771635055542 W\n[codecarbon INFO @ 18:38:24] Energy consumed for all GPUs : 0.017834 kWh. Total GPU Power : 69.5595752614767 W\n[codecarbon INFO @ 18:38:24] Energy consumed for all CPUs : 0.010979 kWh. Total CPU Power : 42.5 W\n[codecarbon INFO @ 18:38:24] 0.031467 kWh of electricity used since the beginning.\n[codecarbon INFO @ 18:38:28] Energy consumed for RAM : 0.002868 kWh. RAM Power : 10.2771635055542 W\n[codecarbon INFO @ 18:38:28] Energy consumed for all GPUs : 0.018334 kWh. Total GPU Power : 69.62140737954901 W\n[codecarbon INFO @ 18:38:28] Energy consumed for all CPUs : 0.011864 kWh. Total CPU Power : 42.5 W\n[codecarbon INFO @ 18:38:28] 0.033066 kWh of electricity used since the beginning.\n[codecarbon INFO @ 18:38:39] Energy consumed for RAM : 0.002697 kWh. RAM Power : 10.2771635055542 W\n[codecarbon INFO @ 18:38:39] Energy consumed for all GPUs : 0.018124 kWh. Total GPU Power : 69.61408503608476 W\n[codecarbon INFO @ 18:38:39] Energy consumed for all CPUs : 0.011156 kWh. Total CPU Power : 42.5 W\n[codecarbon INFO @ 18:38:39] 0.031977 kWh of electricity used since the beginning.\n[codecarbon INFO @ 18:38:43] Energy consumed for RAM : 0.002911 kWh. RAM Power : 10.2771635055542 W\n[codecarbon INFO @ 18:38:43] Energy consumed for all GPUs : 0.018623 kWh. Total GPU Power : 69.56942607838296 W\n[codecarbon INFO @ 18:38:43] Energy consumed for all CPUs : 0.012041 kWh. Total CPU Power : 42.5 W\n[codecarbon INFO @ 18:38:43] 0.033575 kWh of electricity used since the beginning.\n[codecarbon INFO @ 18:38:54] Energy consumed for RAM : 0.002740 kWh. RAM Power : 10.2771635055542 W\n[codecarbon INFO @ 18:38:54] Energy consumed for all GPUs : 0.018414 kWh. Total GPU Power : 69.60222849846507 W\n[codecarbon INFO @ 18:38:54] Energy consumed for all CPUs : 0.011333 kWh. Total CPU Power : 42.5 W\n[codecarbon INFO @ 18:38:54] 0.032486 kWh of electricity used since the beginning.\n[codecarbon INFO @ 18:38:58] Energy consumed for RAM : 0.002954 kWh. RAM Power : 10.2771635055542 W\n[codecarbon INFO @ 18:38:58] Energy consumed for all GPUs : 0.018913 kWh. Total GPU Power : 69.5573592459785 W\n[codecarbon INFO @ 18:38:58] Energy consumed for all CPUs : 0.012218 kWh. Total CPU Power : 42.5 W\n[codecarbon INFO @ 18:38:58] 0.034085 kWh of electricity used since the beginning.\n[codecarbon INFO @ 18:39:09] Energy consumed for RAM : 0.002782 kWh. RAM Power : 10.2771635055542 W\n[codecarbon INFO @ 18:39:09] Energy consumed for all GPUs : 0.018704 kWh. Total GPU Power : 69.65921675557433 W\n[codecarbon INFO @ 18:39:09] Energy consumed for all CPUs : 0.011510 kWh. Total CPU Power : 42.5 W\n[codecarbon INFO @ 18:39:09] 0.032996 kWh of electricity used since the beginning.\n[codecarbon INFO @ 18:39:13] Energy consumed for RAM : 0.002996 kWh. RAM Power : 10.2771635055542 W\n[codecarbon INFO @ 18:39:13] Energy consumed for all GPUs : 0.019203 kWh. Total GPU Power : 69.65573401311997 W\n[codecarbon INFO @ 18:39:13] Energy consumed for all CPUs : 0.012396 kWh. Total CPU Power : 42.5 W\n[codecarbon INFO @ 18:39:13] 0.034595 kWh of electricity used since the beginning.\n[codecarbon INFO @ 18:39:24] Energy consumed for RAM : 0.002825 kWh. RAM Power : 10.2771635055542 W\n[codecarbon INFO @ 18:39:24] Energy consumed for all GPUs : 0.018994 kWh. Total GPU Power : 69.63247011503107 W\n[codecarbon INFO @ 18:39:24] Energy consumed for all CPUs : 0.011687 kWh. Total CPU Power : 42.5 W\n[codecarbon INFO @ 18:39:24] 0.033506 kWh of electricity used since the beginning.\n[codecarbon INFO @ 18:39:28] Energy consumed for RAM : 0.003039 kWh. RAM Power : 10.2771635055542 W\n[codecarbon INFO @ 18:39:28] Energy consumed for all GPUs : 0.019494 kWh. Total GPU Power : 69.64712200468027 W\n[codecarbon INFO @ 18:39:28] Energy consumed for all CPUs : 0.012573 kWh. Total CPU Power : 42.5 W\n[codecarbon INFO @ 18:39:28] 0.035105 kWh of electricity used since the beginning.\n[codecarbon INFO @ 18:39:39] Energy consumed for RAM : 0.002868 kWh. RAM Power : 10.2771635055542 W\n[codecarbon INFO @ 18:39:39] Energy consumed for all GPUs : 0.019284 kWh. Total GPU Power : 69.55871522199534 W\n[codecarbon INFO @ 18:39:39] Energy consumed for all CPUs : 0.011864 kWh. Total CPU Power : 42.5 W\n[codecarbon INFO @ 18:39:39] 0.034016 kWh of electricity used since the beginning.\n[codecarbon INFO @ 18:39:43] Energy consumed for RAM : 0.003082 kWh. RAM Power : 10.2771635055542 W\n[codecarbon INFO @ 18:39:43] Energy consumed for all GPUs : 0.019783 kWh. Total GPU Power : 69.57138490155562 W\n[codecarbon INFO @ 18:39:43] Energy consumed for all CPUs : 0.012750 kWh. Total CPU Power : 42.5 W\n[codecarbon INFO @ 18:39:43] 0.035615 kWh of electricity used since the beginning.\n[codecarbon INFO @ 18:39:54] Energy consumed for RAM : 0.002911 kWh. RAM Power : 10.2771635055542 W\n[codecarbon INFO @ 18:39:54] Energy consumed for all GPUs : 0.019574 kWh. Total GPU Power : 69.57875279829098 W\n[codecarbon INFO @ 18:39:54] Energy consumed for all CPUs : 0.012041 kWh. Total CPU Power : 42.5 W\n[codecarbon INFO @ 18:39:54] 0.034526 kWh of electricity used since the beginning.\n[codecarbon INFO @ 18:39:58] Energy consumed for RAM : 0.003125 kWh. RAM Power : 10.2771635055542 W\n[codecarbon INFO @ 18:39:58] Energy consumed for all GPUs : 0.020073 kWh. Total GPU Power : 69.64243208591162 W\n[codecarbon INFO @ 18:39:58] Energy consumed for all CPUs : 0.012927 kWh. Total CPU Power : 42.5 W\n[codecarbon INFO @ 18:39:58] 0.036125 kWh of electricity used since the beginning.\n[codecarbon INFO @ 18:40:09] Energy consumed for RAM : 0.002954 kWh. RAM Power : 10.2771635055542 W\n[codecarbon INFO @ 18:40:09] Energy consumed for all GPUs : 0.019864 kWh. Total GPU Power : 69.6032389106434 W\n[codecarbon INFO @ 18:40:09] Energy consumed for all CPUs : 0.012218 kWh. Total CPU Power : 42.5 W\n[codecarbon INFO @ 18:40:09] 0.035036 kWh of electricity used since the beginning.\n[codecarbon INFO @ 18:40:13] Energy consumed for RAM : 0.003168 kWh. RAM Power : 10.2771635055542 W\n[codecarbon INFO @ 18:40:13] Energy consumed for all GPUs : 0.020363 kWh. Total GPU Power : 69.61200166772568 W\n[codecarbon INFO @ 18:40:13] Energy consumed for all CPUs : 0.013104 kWh. Total CPU Power : 42.5 W\n[codecarbon INFO @ 18:40:13] 0.036635 kWh of electricity used since the beginning.\n[codecarbon INFO @ 18:40:24] Energy consumed for RAM : 0.002996 kWh. RAM Power : 10.2771635055542 W\n[codecarbon INFO @ 18:40:24] Energy consumed for all GPUs : 0.020154 kWh. Total GPU Power : 69.62183655147253 W\n[codecarbon INFO @ 18:40:24] Energy consumed for all CPUs : 0.012396 kWh. Total CPU Power : 42.5 W\n[codecarbon INFO @ 18:40:24] 0.035546 kWh of electricity used since the beginning.\n[codecarbon INFO @ 18:40:28] Energy consumed for RAM : 0.003210 kWh. RAM Power : 10.2771635055542 W\n[codecarbon INFO @ 18:40:28] Energy consumed for all GPUs : 0.020653 kWh. Total GPU Power : 69.61906096140585 W\n[codecarbon INFO @ 18:40:28] Energy consumed for all CPUs : 0.013281 kWh. Total CPU Power : 42.5 W\n[codecarbon INFO @ 18:40:28] 0.037144 kWh of electricity used since the beginning.\n[codecarbon INFO @ 18:40:39] Energy consumed for RAM : 0.003039 kWh. RAM Power : 10.2771635055542 W\n[codecarbon INFO @ 18:40:39] Energy consumed for all GPUs : 0.020444 kWh. Total GPU Power : 69.62124979816033 W\n[codecarbon INFO @ 18:40:39] Energy consumed for all CPUs : 0.012573 kWh. Total CPU Power : 42.5 W\n[codecarbon INFO @ 18:40:39] 0.036055 kWh of electricity used since the beginning.\n[codecarbon INFO @ 18:40:43] Energy consumed for RAM : 0.003253 kWh. RAM Power : 10.2771635055542 W\n[codecarbon INFO @ 18:40:43] Energy consumed for all GPUs : 0.020943 kWh. Total GPU Power : 69.62583938742117 W\n[codecarbon INFO @ 18:40:43] Energy consumed for all CPUs : 0.013458 kWh. Total CPU Power : 42.5 W\n[codecarbon INFO @ 18:40:43] 0.037654 kWh of electricity used since the beginning.\n[codecarbon INFO @ 18:40:54] Energy consumed for RAM : 0.003082 kWh. RAM Power : 10.2771635055542 W\n[codecarbon INFO @ 18:40:54] Energy consumed for all GPUs : 0.020733 kWh. Total GPU Power : 69.5997925474019 W\n[codecarbon INFO @ 18:40:54] Energy consumed for all CPUs : 0.012750 kWh. Total CPU Power : 42.5 W\n[codecarbon INFO @ 18:40:54] 0.036565 kWh of electricity used since the beginning.\n[codecarbon INFO @ 18:40:58] Energy consumed for RAM : 0.003296 kWh. RAM Power : 10.2771635055542 W\n[codecarbon INFO @ 18:40:58] Energy consumed for all GPUs : 0.021233 kWh. Total GPU Power : 69.62317420858251 W\n[codecarbon INFO @ 18:40:58] Energy consumed for all CPUs : 0.013635 kWh. Total CPU Power : 42.5 W\n[codecarbon INFO @ 18:40:58] 0.038164 kWh of electricity used since the beginning.\n[codecarbon INFO @ 18:41:09] Energy consumed for RAM : 0.003125 kWh. RAM Power : 10.2771635055542 W\n[codecarbon INFO @ 18:41:09] Energy consumed for all GPUs : 0.021023 kWh. Total GPU Power : 69.60473152425226 W\n[codecarbon INFO @ 18:41:09] Energy consumed for all CPUs : 0.012927 kWh. Total CPU Power : 42.5 W\n[codecarbon INFO @ 18:41:09] 0.037075 kWh of electricity used since the beginning.\n[codecarbon INFO @ 18:41:13] Energy consumed for RAM : 0.003339 kWh. RAM Power : 10.2771635055542 W\n[codecarbon INFO @ 18:41:13] Energy consumed for all GPUs : 0.021523 kWh. Total GPU Power : 69.6301705318088 W\n[codecarbon INFO @ 18:41:13] Energy consumed for all CPUs : 0.013812 kWh. Total CPU Power : 42.5 W\n[codecarbon INFO @ 18:41:13] 0.038674 kWh of electricity used since the beginning.\n[codecarbon INFO @ 18:41:24] Energy consumed for RAM : 0.003168 kWh. RAM Power : 10.2771635055542 W\n[codecarbon INFO @ 18:41:24] Energy consumed for all GPUs : 0.021312 kWh. Total GPU Power : 69.27361680699453 W\n[codecarbon INFO @ 18:41:24] Energy consumed for all CPUs : 0.013104 kWh. Total CPU Power : 42.5 W\n[codecarbon INFO @ 18:41:24] 0.037583 kWh of electricity used since the beginning.\n[codecarbon INFO @ 18:41:28] Energy consumed for RAM : 0.003382 kWh. RAM Power : 10.2771635055542 W\n[codecarbon INFO @ 18:41:28] Energy consumed for all GPUs : 0.021813 kWh. Total GPU Power : 69.70066513693786 W\n[codecarbon INFO @ 18:41:28] Energy consumed for all CPUs : 0.013989 kWh. Total CPU Power : 42.5 W\n[codecarbon INFO @ 18:41:28] 0.039184 kWh of electricity used since the beginning.\n[codecarbon INFO @ 18:41:39] Energy consumed for RAM : 0.003210 kWh. RAM Power : 10.2771635055542 W\n[codecarbon INFO @ 18:41:39] Energy consumed for all GPUs : 0.021602 kWh. Total GPU Power : 69.55927741185558 W\n[codecarbon INFO @ 18:41:39] Energy consumed for all CPUs : 0.013281 kWh. Total CPU Power : 42.5 W\n[codecarbon INFO @ 18:41:39] 0.038093 kWh of electricity used since the beginning.\n[codecarbon INFO @ 18:41:43] Energy consumed for RAM : 0.003424 kWh. RAM Power : 10.2771635055542 W\n[codecarbon INFO @ 18:41:43] Energy consumed for all GPUs : 0.022103 kWh. Total GPU Power : 69.56526470110155 W\n[codecarbon INFO @ 18:41:43] Energy consumed for all CPUs : 0.014166 kWh. Total CPU Power : 42.5 W\n[codecarbon INFO @ 18:41:43] 0.039694 kWh of electricity used since the beginning.\n[codecarbon INFO @ 18:41:54] Energy consumed for RAM : 0.003253 kWh. RAM Power : 10.2771635055542 W\n[codecarbon INFO @ 18:41:54] Energy consumed for all GPUs : 0.021892 kWh. Total GPU Power : 69.62305567576958 W\n[codecarbon INFO @ 18:41:54] Energy consumed for all CPUs : 0.013458 kWh. Total CPU Power : 42.5 W\n[codecarbon INFO @ 18:41:54] 0.038603 kWh of electricity used since the beginning.\n[codecarbon INFO @ 18:41:58] Energy consumed for RAM : 0.003467 kWh. RAM Power : 10.2771635055542 W\n[codecarbon INFO @ 18:41:58] Energy consumed for all GPUs : 0.022393 kWh. Total GPU Power : 69.60629509234272 W\n[codecarbon INFO @ 18:41:58] Energy consumed for all CPUs : 0.014343 kWh. Total CPU Power : 42.5 W\n[codecarbon INFO @ 18:41:58] 0.040204 kWh of electricity used since the beginning.\n[codecarbon INFO @ 18:42:09] Energy consumed for RAM : 0.003296 kWh. RAM Power : 10.2771635055542 W\n[codecarbon INFO @ 18:42:09] Energy consumed for all GPUs : 0.022182 kWh. Total GPU Power : 69.5871476639877 W\n[codecarbon INFO @ 18:42:09] Energy consumed for all CPUs : 0.013635 kWh. Total CPU Power : 42.5 W\n[codecarbon INFO @ 18:42:09] 0.039113 kWh of electricity used since the beginning.\n[codecarbon INFO @ 18:42:13] Energy consumed for RAM : 0.003510 kWh. RAM Power : 10.2771635055542 W\n[codecarbon INFO @ 18:42:13] Energy consumed for all GPUs : 0.022683 kWh. Total GPU Power : 69.57691238889149 W\n[codecarbon INFO @ 18:42:13] Energy consumed for all CPUs : 0.014520 kWh. Total CPU Power : 42.5 W\n[codecarbon INFO @ 18:42:13] 0.040713 kWh of electricity used since the beginning.\n[codecarbon INFO @ 18:42:24] Energy consumed for RAM : 0.003339 kWh. RAM Power : 10.2771635055542 W\n[codecarbon INFO @ 18:42:24] Energy consumed for all GPUs : 0.022471 kWh. Total GPU Power : 69.47763162350735 W\n[codecarbon INFO @ 18:42:24] Energy consumed for all CPUs : 0.013812 kWh. Total CPU Power : 42.5 W\n[codecarbon INFO @ 18:42:24] 0.039622 kWh of electricity used since the beginning.\n[codecarbon INFO @ 18:42:28] Energy consumed for RAM : 0.003553 kWh. RAM Power : 10.2771635055542 W\n[codecarbon INFO @ 18:42:28] Energy consumed for all GPUs : 0.022972 kWh. Total GPU Power : 69.47490653739477 W\n[codecarbon INFO @ 18:42:28] Energy consumed for all CPUs : 0.014698 kWh. Total CPU Power : 42.5 W\n[codecarbon INFO @ 18:42:28] 0.041223 kWh of electricity used since the beginning.\n[codecarbon INFO @ 18:42:39] Energy consumed for RAM : 0.003382 kWh. RAM Power : 10.2771635055542 W\n[codecarbon INFO @ 18:42:39] Energy consumed for all GPUs : 0.022761 kWh. Total GPU Power : 69.58447216110983 W\n[codecarbon INFO @ 18:42:39] Energy consumed for all CPUs : 0.013989 kWh. Total CPU Power : 42.5 W\n[codecarbon INFO @ 18:42:39] 0.040132 kWh of electricity used since the beginning.\n[codecarbon INFO @ 18:42:43] Energy consumed for RAM : 0.003596 kWh. RAM Power : 10.2771635055542 W\n[codecarbon INFO @ 18:42:43] Energy consumed for all GPUs : 0.023262 kWh. Total GPU Power : 69.62868521781175 W\n[codecarbon INFO @ 18:42:43] Energy consumed for all CPUs : 0.014875 kWh. Total CPU Power : 42.5 W\n[codecarbon INFO @ 18:42:43] 0.041732 kWh of electricity used since the beginning.\n[codecarbon INFO @ 18:42:54] Energy consumed for RAM : 0.003424 kWh. RAM Power : 10.2771635055542 W\n[codecarbon INFO @ 18:42:54] Energy consumed for all GPUs : 0.023051 kWh. Total GPU Power : 69.62285659304234 W\n[codecarbon INFO @ 18:42:54] Energy consumed for all CPUs : 0.014166 kWh. Total CPU Power : 42.5 W\n[codecarbon INFO @ 18:42:54] 0.040642 kWh of electricity used since the beginning.\n[codecarbon INFO @ 18:42:58] Energy consumed for RAM : 0.003638 kWh. RAM Power : 10.2771635055542 W\n[codecarbon INFO @ 18:42:58] Energy consumed for all GPUs : 0.023552 kWh. Total GPU Power : 69.6064690465733 W\n[codecarbon INFO @ 18:42:58] Energy consumed for all CPUs : 0.015052 kWh. Total CPU Power : 42.5 W\n[codecarbon INFO @ 18:42:58] 0.042242 kWh of electricity used since the beginning.\n[codecarbon INFO @ 18:43:09] Energy consumed for RAM : 0.003467 kWh. RAM Power : 10.2771635055542 W\n[codecarbon INFO @ 18:43:09] Energy consumed for all GPUs : 0.023341 kWh. Total GPU Power : 69.65058599020284 W\n[codecarbon INFO @ 18:43:09] Energy consumed for all CPUs : 0.014343 kWh. Total CPU Power : 42.5 W\n[codecarbon INFO @ 18:43:09] 0.041152 kWh of electricity used since the beginning.\n[codecarbon INFO @ 18:43:13] Energy consumed for RAM : 0.003681 kWh. RAM Power : 10.2771635055542 W\n[codecarbon INFO @ 18:43:13] Energy consumed for all GPUs : 0.023842 kWh. Total GPU Power : 69.60289519887513 W\n[codecarbon INFO @ 18:43:13] Energy consumed for all CPUs : 0.015229 kWh. Total CPU Power : 42.5 W\n[codecarbon INFO @ 18:43:13] 0.042752 kWh of electricity used since the beginning.\n[codecarbon INFO @ 18:43:24] Energy consumed for RAM : 0.003510 kWh. RAM Power : 10.2771635055542 W\n[codecarbon INFO @ 18:43:24] Energy consumed for all GPUs : 0.023631 kWh. Total GPU Power : 69.57539726780843 W\n[codecarbon INFO @ 18:43:24] Energy consumed for all CPUs : 0.014520 kWh. Total CPU Power : 42.5 W\n[codecarbon INFO @ 18:43:24] 0.041661 kWh of electricity used since the beginning.\n[codecarbon INFO @ 18:43:28] Energy consumed for RAM : 0.003724 kWh. RAM Power : 10.2771635055542 W\n[codecarbon INFO @ 18:43:28] Energy consumed for all GPUs : 0.024132 kWh. Total GPU Power : 69.65754300267889 W\n[codecarbon INFO @ 18:43:28] Energy consumed for all CPUs : 0.015406 kWh. Total CPU Power : 42.5 W\n[codecarbon INFO @ 18:43:28] 0.043262 kWh of electricity used since the beginning.\n[codecarbon INFO @ 18:43:39] Energy consumed for RAM : 0.003553 kWh. RAM Power : 10.2771635055542 W\n[codecarbon INFO @ 18:43:39] Energy consumed for all GPUs : 0.023921 kWh. Total GPU Power : 69.67319889385702 W\n[codecarbon INFO @ 18:43:39] Energy consumed for all CPUs : 0.014697 kWh. Total CPU Power : 42.5 W\n[codecarbon INFO @ 18:43:39] 0.042171 kWh of electricity used since the beginning.\n[codecarbon INFO @ 18:43:43] Energy consumed for RAM : 0.003767 kWh. RAM Power : 10.2771635055542 W\n[codecarbon INFO @ 18:43:43] Energy consumed for all GPUs : 0.024421 kWh. Total GPU Power : 69.20877087806106 W\n[codecarbon INFO @ 18:43:43] Energy consumed for all CPUs : 0.015583 kWh. Total CPU Power : 42.5 W\n[codecarbon INFO @ 18:43:43] 0.043770 kWh of electricity used since the beginning.\n[codecarbon INFO @ 18:43:54] Energy consumed for RAM : 0.003596 kWh. RAM Power : 10.2771635055542 W\n[codecarbon INFO @ 18:43:54] Energy consumed for all GPUs : 0.024211 kWh. Total GPU Power : 69.54594532584031 W\n[codecarbon INFO @ 18:43:54] Energy consumed for all CPUs : 0.014875 kWh. Total CPU Power : 42.5 W\n[codecarbon INFO @ 18:43:54] 0.042681 kWh of electricity used since the beginning.\n[codecarbon INFO @ 18:43:58] Energy consumed for RAM : 0.003810 kWh. RAM Power : 10.2771635055542 W\n[codecarbon INFO @ 18:43:58] Energy consumed for all GPUs : 0.024710 kWh. Total GPU Power : 69.49142970379027 W\n[codecarbon INFO @ 18:43:58] Energy consumed for all CPUs : 0.015760 kWh. Total CPU Power : 42.5 W\n[codecarbon INFO @ 18:43:58] 0.044280 kWh of electricity used since the beginning.\n[codecarbon INFO @ 18:44:09] Energy consumed for RAM : 0.003638 kWh. RAM Power : 10.2771635055542 W\n[codecarbon INFO @ 18:44:09] Energy consumed for all GPUs : 0.024500 kWh. Total GPU Power : 69.53238560485144 W\n[codecarbon INFO @ 18:44:09] Energy consumed for all CPUs : 0.015052 kWh. Total CPU Power : 42.5 W\n[codecarbon INFO @ 18:44:09] 0.043190 kWh of electricity used since the beginning.\n[codecarbon INFO @ 18:44:13] Energy consumed for RAM : 0.003852 kWh. RAM Power : 10.2771635055542 W\n[codecarbon INFO @ 18:44:13] Energy consumed for all GPUs : 0.024999 kWh. Total GPU Power : 69.46451191868296 W\n[codecarbon INFO @ 18:44:13] Energy consumed for all CPUs : 0.015937 kWh. Total CPU Power : 42.5 W\n[codecarbon INFO @ 18:44:13] 0.044789 kWh of electricity used since the beginning.\n[codecarbon INFO @ 18:44:24] Energy consumed for RAM : 0.003681 kWh. RAM Power : 10.2771635055542 W\n[codecarbon INFO @ 18:44:24] Energy consumed for all GPUs : 0.024790 kWh. Total GPU Power : 69.57638900913982 W\n[codecarbon INFO @ 18:44:24] Energy consumed for all CPUs : 0.015229 kWh. Total CPU Power : 42.5 W\n[codecarbon INFO @ 18:44:24] 0.043700 kWh of electricity used since the beginning.\n[codecarbon INFO @ 18:44:28] Energy consumed for RAM : 0.003895 kWh. RAM Power : 10.2771635055542 W\n[codecarbon INFO @ 18:44:28] Energy consumed for all GPUs : 0.025290 kWh. Total GPU Power : 69.64038323335676 W\n[codecarbon INFO @ 18:44:28] Energy consumed for all CPUs : 0.016114 kWh. Total CPU Power : 42.5 W\n[codecarbon INFO @ 18:44:28] 0.045299 kWh of electricity used since the beginning.\n[codecarbon INFO @ 18:44:39] Energy consumed for RAM : 0.003724 kWh. RAM Power : 10.2771635055542 W\n[codecarbon INFO @ 18:44:39] Energy consumed for all GPUs : 0.025080 kWh. Total GPU Power : 69.69805846062728 W\n[codecarbon INFO @ 18:44:39] Energy consumed for all CPUs : 0.015406 kWh. Total CPU Power : 42.5 W\n[codecarbon INFO @ 18:44:39] 0.044210 kWh of electricity used since the beginning.\n[codecarbon INFO @ 18:44:43] Energy consumed for RAM : 0.003938 kWh. RAM Power : 10.2771635055542 W\n[codecarbon INFO @ 18:44:43] Energy consumed for all GPUs : 0.025580 kWh. Total GPU Power : 69.64512453810367 W\n[codecarbon INFO @ 18:44:43] Energy consumed for all CPUs : 0.016291 kWh. Total CPU Power : 42.5 W\n[codecarbon INFO @ 18:44:43] 0.045809 kWh of electricity used since the beginning.\n[codecarbon INFO @ 18:44:54] Energy consumed for RAM : 0.003767 kWh. RAM Power : 10.2771635055542 W\n[codecarbon INFO @ 18:44:54] Energy consumed for all GPUs : 0.025370 kWh. Total GPU Power : 69.60005601729839 W\n[codecarbon INFO @ 18:44:54] Energy consumed for all CPUs : 0.015583 kWh. Total CPU Power : 42.5 W\n[codecarbon INFO @ 18:44:54] 0.044720 kWh of electricity used since the beginning.\n[codecarbon INFO @ 18:44:58] Energy consumed for RAM : 0.003981 kWh. RAM Power : 10.2771635055542 W\n[codecarbon INFO @ 18:44:58] Energy consumed for all GPUs : 0.025870 kWh. Total GPU Power : 69.61427654062362 W\n[codecarbon INFO @ 18:44:58] Energy consumed for all CPUs : 0.016468 kWh. Total CPU Power : 42.5 W\n[codecarbon INFO @ 18:44:58] 0.046319 kWh of electricity used since the beginning.\n[codecarbon INFO @ 18:45:09] Energy consumed for RAM : 0.003810 kWh. RAM Power : 10.2771635055542 W\n[codecarbon INFO @ 18:45:09] Energy consumed for all GPUs : 0.025660 kWh. Total GPU Power : 69.58123400124592 W\n[codecarbon INFO @ 18:45:09] Energy consumed for all CPUs : 0.015760 kWh. Total CPU Power : 42.5 W\n[codecarbon INFO @ 18:45:09] 0.045230 kWh of electricity used since the beginning.\n[codecarbon INFO @ 18:45:13] Energy consumed for RAM : 0.004024 kWh. RAM Power : 10.2771635055542 W\n[codecarbon INFO @ 18:45:13] Energy consumed for all GPUs : 0.026159 kWh. Total GPU Power : 69.5501043304918 W\n[codecarbon INFO @ 18:45:13] Energy consumed for all CPUs : 0.016645 kWh. Total CPU Power : 42.5 W\n[codecarbon INFO @ 18:45:13] 0.046828 kWh of electricity used since the beginning.\n[codecarbon INFO @ 18:45:24] Energy consumed for RAM : 0.003852 kWh. RAM Power : 10.2771635055542 W\n[codecarbon INFO @ 18:45:24] Energy consumed for all GPUs : 0.025950 kWh. Total GPU Power : 69.58311057059979 W\n[codecarbon INFO @ 18:45:24] Energy consumed for all CPUs : 0.015937 kWh. Total CPU Power : 42.5 W\n[codecarbon INFO @ 18:45:24] 0.045739 kWh of electricity used since the beginning.\n[codecarbon INFO @ 18:45:28] Energy consumed for RAM : 0.004066 kWh. RAM Power : 10.2771635055542 W\n[codecarbon INFO @ 18:45:28] Energy consumed for all GPUs : 0.026449 kWh. Total GPU Power : 69.61338256895367 W\n[codecarbon INFO @ 18:45:28] Energy consumed for all CPUs : 0.016822 kWh. Total CPU Power : 42.5 W\n[codecarbon INFO @ 18:45:28] 0.047338 kWh of electricity used since the beginning.\n[codecarbon INFO @ 18:45:39] Energy consumed for RAM : 0.003895 kWh. RAM Power : 10.2771635055542 W\n[codecarbon INFO @ 18:45:39] Energy consumed for all GPUs : 0.026240 kWh. Total GPU Power : 69.55804468741921 W\n[codecarbon INFO @ 18:45:39] Energy consumed for all CPUs : 0.016114 kWh. Total CPU Power : 42.5 W\n[codecarbon INFO @ 18:45:39] 0.046249 kWh of electricity used since the beginning.\n[codecarbon INFO @ 18:45:43] Energy consumed for RAM : 0.004109 kWh. RAM Power : 10.2771635055542 W\n[codecarbon INFO @ 18:45:43] Energy consumed for all GPUs : 0.026739 kWh. Total GPU Power : 69.53040434299993 W\n[codecarbon INFO @ 18:45:43] Energy consumed for all CPUs : 0.016999 kWh. Total CPU Power : 42.5 W\n[codecarbon INFO @ 18:45:43] 0.047848 kWh of electricity used since the beginning.\n[codecarbon INFO @ 18:45:54] Energy consumed for RAM : 0.003938 kWh. RAM Power : 10.2771635055542 W\n[codecarbon INFO @ 18:45:54] Energy consumed for all GPUs : 0.026529 kWh. Total GPU Power : 69.53413553529275 W\n[codecarbon INFO @ 18:45:54] Energy consumed for all CPUs : 0.016291 kWh. Total CPU Power : 42.5 W\n[codecarbon INFO @ 18:45:54] 0.046758 kWh of electricity used since the beginning.\n[codecarbon INFO @ 18:45:58] Energy consumed for RAM : 0.004152 kWh. RAM Power : 10.2771635055542 W\n[codecarbon INFO @ 18:45:58] Energy consumed for all GPUs : 0.027029 kWh. Total GPU Power : 69.573463627779 W\n[codecarbon INFO @ 18:45:58] Energy consumed for all CPUs : 0.017177 kWh. Total CPU Power : 42.5 W\n[codecarbon INFO @ 18:45:58] 0.048357 kWh of electricity used since the beginning.\n[codecarbon INFO @ 18:46:09] Energy consumed for RAM : 0.003981 kWh. RAM Power : 10.2771635055542 W\n[codecarbon INFO @ 18:46:09] Energy consumed for all GPUs : 0.026819 kWh. Total GPU Power : 69.68432913964068 W\n[codecarbon INFO @ 18:46:09] Energy consumed for all CPUs : 0.016468 kWh. Total CPU Power : 42.5 W\n[codecarbon INFO @ 18:46:09] 0.047268 kWh of electricity used since the beginning.\n[codecarbon INFO @ 18:46:13] Energy consumed for RAM : 0.004195 kWh. RAM Power : 10.2771635055542 W\n[codecarbon INFO @ 18:46:13] Energy consumed for all GPUs : 0.027319 kWh. Total GPU Power : 69.61279269294616 W\n[codecarbon INFO @ 18:46:13] Energy consumed for all CPUs : 0.017354 kWh. Total CPU Power : 42.5 W\n[codecarbon INFO @ 18:46:13] 0.048867 kWh of electricity used since the beginning.\n[codecarbon INFO @ 18:46:24] Energy consumed for RAM : 0.004024 kWh. RAM Power : 10.2771635055542 W\n[codecarbon INFO @ 18:46:24] Energy consumed for all GPUs : 0.027109 kWh. Total GPU Power : 69.57600469910356 W\n[codecarbon INFO @ 18:46:24] Energy consumed for all CPUs : 0.016645 kWh. Total CPU Power : 42.5 W\n[codecarbon INFO @ 18:46:24] 0.047778 kWh of electricity used since the beginning.\n[codecarbon INFO @ 18:46:28] Energy consumed for RAM : 0.004238 kWh. RAM Power : 10.2771635055542 W\n[codecarbon INFO @ 18:46:28] Energy consumed for all GPUs : 0.027609 kWh. Total GPU Power : 69.56429088038543 W\n[codecarbon INFO @ 18:46:28] Energy consumed for all CPUs : 0.017531 kWh. Total CPU Power : 42.5 W\n[codecarbon INFO @ 18:46:28] 0.049377 kWh of electricity used since the beginning.\n[codecarbon INFO @ 18:46:39] Energy consumed for RAM : 0.004066 kWh. RAM Power : 10.2771635055542 W\n[codecarbon INFO @ 18:46:39] Energy consumed for all GPUs : 0.027399 kWh. Total GPU Power : 69.60806551828544 W\n[codecarbon INFO @ 18:46:39] Energy consumed for all CPUs : 0.016822 kWh. Total CPU Power : 42.5 W\n[codecarbon INFO @ 18:46:39] 0.048288 kWh of electricity used since the beginning.\n[codecarbon INFO @ 18:46:43] Energy consumed for RAM : 0.004280 kWh. RAM Power : 10.2771635055542 W\n[codecarbon INFO @ 18:46:43] Energy consumed for all GPUs : 0.027898 kWh. Total GPU Power : 69.57681826541801 W\n[codecarbon INFO @ 18:46:43] Energy consumed for all CPUs : 0.017708 kWh. Total CPU Power : 42.5 W\n[codecarbon INFO @ 18:46:43] 0.049887 kWh of electricity used since the beginning.\n[codecarbon INFO @ 18:46:54] Energy consumed for RAM : 0.004109 kWh. RAM Power : 10.2771635055542 W\n[codecarbon INFO @ 18:46:54] Energy consumed for all GPUs : 0.027689 kWh. Total GPU Power : 69.61666864773892 W\n[codecarbon INFO @ 18:46:54] Energy consumed for all CPUs : 0.016999 kWh. Total CPU Power : 42.5 W\n[codecarbon INFO @ 18:46:54] 0.048797 kWh of electricity used since the beginning.\n[codecarbon INFO @ 18:46:58] Energy consumed for RAM : 0.004323 kWh. RAM Power : 10.2771635055542 W\n[codecarbon INFO @ 18:46:58] Energy consumed for all GPUs : 0.028188 kWh. Total GPU Power : 69.63075706385176 W\n[codecarbon INFO @ 18:46:58] Energy consumed for all CPUs : 0.017885 kWh. Total CPU Power : 42.5 W\n[codecarbon INFO @ 18:46:58] 0.050397 kWh of electricity used since the beginning.\n[codecarbon INFO @ 18:47:09] Energy consumed for RAM : 0.004152 kWh. RAM Power : 10.2771635055542 W\n[codecarbon INFO @ 18:47:09] Energy consumed for all GPUs : 0.027977 kWh. Total GPU Power : 69.17873351933515 W\n[codecarbon INFO @ 18:47:09] Energy consumed for all CPUs : 0.017177 kWh. Total CPU Power : 42.5 W\n[codecarbon INFO @ 18:47:09] 0.049306 kWh of electricity used since the beginning.\n[codecarbon INFO @ 18:47:13] Energy consumed for RAM : 0.004366 kWh. RAM Power : 10.2771635055542 W\n[codecarbon INFO @ 18:47:13] Energy consumed for all GPUs : 0.028478 kWh. Total GPU Power : 69.5936523729235 W\n[codecarbon INFO @ 18:47:13] Energy consumed for all CPUs : 0.018062 kWh. Total CPU Power : 42.5 W\n[codecarbon INFO @ 18:47:13] 0.050906 kWh of electricity used since the beginning.\n[codecarbon INFO @ 18:47:24] Energy consumed for RAM : 0.004195 kWh. RAM Power : 10.2771635055542 W\n[codecarbon INFO @ 18:47:24] Energy consumed for all GPUs : 0.028267 kWh. Total GPU Power : 69.62615196675773 W\n[codecarbon INFO @ 18:47:24] Energy consumed for all CPUs : 0.017354 kWh. Total CPU Power : 42.5 W\n[codecarbon INFO @ 18:47:24] 0.049815 kWh of electricity used since the beginning.\n[codecarbon INFO @ 18:47:28] Energy consumed for RAM : 0.004409 kWh. RAM Power : 10.2771635055542 W\n[codecarbon INFO @ 18:47:28] Energy consumed for all GPUs : 0.028768 kWh. Total GPU Power : 69.60052437058688 W\n[codecarbon INFO @ 18:47:28] Energy consumed for all CPUs : 0.018239 kWh. Total CPU Power : 42.5 W\n[codecarbon INFO @ 18:47:28] 0.051416 kWh of electricity used since the beginning.\n[codecarbon INFO @ 18:47:39] Energy consumed for RAM : 0.004238 kWh. RAM Power : 10.2771635055542 W\n[codecarbon INFO @ 18:47:39] Energy consumed for all GPUs : 0.028557 kWh. Total GPU Power : 69.52380704782689 W\n[codecarbon INFO @ 18:47:39] Energy consumed for all CPUs : 0.017531 kWh. Total CPU Power : 42.5 W\n[codecarbon INFO @ 18:47:39] 0.050325 kWh of electricity used since the beginning.\n[codecarbon INFO @ 18:47:43] Energy consumed for RAM : 0.004452 kWh. RAM Power : 10.2771635055542 W\n[codecarbon INFO @ 18:47:43] Energy consumed for all GPUs : 0.029058 kWh. Total GPU Power : 69.61362467410898 W\n[codecarbon INFO @ 18:47:43] Energy consumed for all CPUs : 0.018416 kWh. Total CPU Power : 42.5 W\n[codecarbon INFO @ 18:47:43] 0.051926 kWh of electricity used since the beginning.\n[codecarbon INFO @ 18:47:54] Energy consumed for RAM : 0.004280 kWh. RAM Power : 10.2771635055542 W\n[codecarbon INFO @ 18:47:54] Energy consumed for all GPUs : 0.028847 kWh. Total GPU Power : 69.6195618036517 W\n[codecarbon INFO @ 18:47:54] Energy consumed for all CPUs : 0.017708 kWh. Total CPU Power : 42.5 W\n[codecarbon INFO @ 18:47:54] 0.050835 kWh of electricity used since the beginning.\n[codecarbon INFO @ 18:47:58] Energy consumed for RAM : 0.004494 kWh. RAM Power : 10.2771635055542 W\n[codecarbon INFO @ 18:47:58] Energy consumed for all GPUs : 0.029348 kWh. Total GPU Power : 69.60880308586808 W\n[codecarbon INFO @ 18:47:58] Energy consumed for all CPUs : 0.018593 kWh. Total CPU Power : 42.5 W\n[codecarbon INFO @ 18:47:58] 0.052436 kWh of electricity used since the beginning.\n[codecarbon INFO @ 18:48:09] Energy consumed for RAM : 0.004323 kWh. RAM Power : 10.2771635055542 W\n[codecarbon INFO @ 18:48:09] Energy consumed for all GPUs : 0.029137 kWh. Total GPU Power : 69.74103605514543 W\n[codecarbon INFO @ 18:48:09] Energy consumed for all CPUs : 0.017885 kWh. Total CPU Power : 42.5 W\n[codecarbon INFO @ 18:48:09] 0.051345 kWh of electricity used since the beginning.\n[codecarbon INFO @ 18:48:13] Energy consumed for RAM : 0.004537 kWh. RAM Power : 10.2771635055542 W\n[codecarbon INFO @ 18:48:13] Energy consumed for all GPUs : 0.029638 kWh. Total GPU Power : 69.64365588332437 W\n[codecarbon INFO @ 18:48:13] Energy consumed for all CPUs : 0.018770 kWh. Total CPU Power : 42.5 W\n[codecarbon INFO @ 18:48:13] 0.052946 kWh of electricity used since the beginning.\n[codecarbon INFO @ 18:48:24] Energy consumed for RAM : 0.004366 kWh. RAM Power : 10.2771635055542 W\n[codecarbon INFO @ 18:48:24] Energy consumed for all GPUs : 0.029427 kWh. Total GPU Power : 69.53238499122877 W\n[codecarbon INFO @ 18:48:24] Energy consumed for all CPUs : 0.018062 kWh. Total CPU Power : 42.5 W\n[codecarbon INFO @ 18:48:24] 0.051855 kWh of electricity used since the beginning.\n[codecarbon INFO @ 18:48:28] Energy consumed for RAM : 0.004580 kWh. RAM Power : 10.2771635055542 W\n[codecarbon INFO @ 18:48:28] Energy consumed for all GPUs : 0.029928 kWh. Total GPU Power : 69.60597130095272 W\n[codecarbon INFO @ 18:48:28] Energy consumed for all CPUs : 0.018947 kWh. Total CPU Power : 42.5 W\n[codecarbon INFO @ 18:48:28] 0.053456 kWh of electricity used since the beginning.\n[codecarbon INFO @ 18:48:39] Energy consumed for RAM : 0.004409 kWh. RAM Power : 10.2771635055542 W\n[codecarbon INFO @ 18:48:39] Energy consumed for all GPUs : 0.029717 kWh. Total GPU Power : 69.60014397756271 W\n[codecarbon INFO @ 18:48:39] Energy consumed for all CPUs : 0.018239 kWh. Total CPU Power : 42.5 W\n[codecarbon INFO @ 18:48:39] 0.052365 kWh of electricity used since the beginning.\n[codecarbon INFO @ 18:48:43] Energy consumed for RAM : 0.004623 kWh. RAM Power : 10.2771635055542 W\n[codecarbon INFO @ 18:48:43] Energy consumed for all GPUs : 0.030218 kWh. Total GPU Power : 69.54582954408178 W\n[codecarbon INFO @ 18:48:43] Energy consumed for all CPUs : 0.019124 kWh. Total CPU Power : 42.5 W\n[codecarbon INFO @ 18:48:43] 0.053965 kWh of electricity used since the beginning.\n[codecarbon INFO @ 18:48:54] Energy consumed for RAM : 0.004452 kWh. RAM Power : 10.2771635055542 W\n[codecarbon INFO @ 18:48:54] Energy consumed for all GPUs : 0.030006 kWh. Total GPU Power : 69.50012821106003 W\n[codecarbon INFO @ 18:48:54] Energy consumed for all CPUs : 0.018416 kWh. Total CPU Power : 42.5 W\n[codecarbon INFO @ 18:48:54] 0.052874 kWh of electricity used since the beginning.\n[codecarbon INFO @ 18:48:58] Energy consumed for RAM : 0.004666 kWh. RAM Power : 10.2771635055542 W\n[codecarbon INFO @ 18:48:58] Energy consumed for all GPUs : 0.030508 kWh. Total GPU Power : 69.55956446813889 W\n[codecarbon INFO @ 18:48:58] Energy consumed for all CPUs : 0.019302 kWh. Total CPU Power : 42.5 W\n[codecarbon INFO @ 18:48:58] 0.054475 kWh of electricity used since the beginning.\n[codecarbon INFO @ 18:49:09] Energy consumed for RAM : 0.004495 kWh. RAM Power : 10.2771635055542 W\n[codecarbon INFO @ 18:49:09] Energy consumed for all GPUs : 0.030296 kWh. Total GPU Power : 69.61496549110011 W\n[codecarbon INFO @ 18:49:09] Energy consumed for all CPUs : 0.018593 kWh. Total CPU Power : 42.5 W\n[codecarbon INFO @ 18:49:09] 0.053384 kWh of electricity used since the beginning.\n[codecarbon INFO @ 18:49:13] Energy consumed for RAM : 0.004709 kWh. RAM Power : 10.2771635055542 W\n[codecarbon INFO @ 18:49:13] Energy consumed for all GPUs : 0.030798 kWh. Total GPU Power : 69.61792443357308 W\n[codecarbon INFO @ 18:49:13] Energy consumed for all CPUs : 0.019479 kWh. Total CPU Power : 42.5 W\n[codecarbon INFO @ 18:49:13] 0.054985 kWh of electricity used since the beginning.\n[codecarbon INFO @ 18:49:24] Energy consumed for RAM : 0.004537 kWh. RAM Power : 10.2771635055542 W\n[codecarbon INFO @ 18:49:24] Energy consumed for all GPUs : 0.030586 kWh. Total GPU Power : 69.60980475179664 W\n[codecarbon INFO @ 18:49:24] Energy consumed for all CPUs : 0.018770 kWh. Total CPU Power : 42.5 W\n[codecarbon INFO @ 18:49:24] 0.053894 kWh of electricity used since the beginning.\n[codecarbon INFO @ 18:49:28] Energy consumed for RAM : 0.004751 kWh. RAM Power : 10.2771635055542 W\n[codecarbon INFO @ 18:49:28] Energy consumed for all GPUs : 0.031086 kWh. Total GPU Power : 69.12431279257402 W\n[codecarbon INFO @ 18:49:28] Energy consumed for all CPUs : 0.019656 kWh. Total CPU Power : 42.5 W\n[codecarbon INFO @ 18:49:28] 0.055493 kWh of electricity used since the beginning.\n[codecarbon INFO @ 18:49:39] Energy consumed for RAM : 0.004580 kWh. RAM Power : 10.2771635055542 W\n[codecarbon INFO @ 18:49:39] Energy consumed for all GPUs : 0.030876 kWh. Total GPU Power : 69.57057070741124 W\n[codecarbon INFO @ 18:49:39] Energy consumed for all CPUs : 0.018948 kWh. Total CPU Power : 42.5 W\n[codecarbon INFO @ 18:49:39] 0.054403 kWh of electricity used since the beginning.\n[codecarbon INFO @ 18:49:43] Energy consumed for RAM : 0.004794 kWh. RAM Power : 10.2771635055542 W\n[codecarbon INFO @ 18:49:43] Energy consumed for all GPUs : 0.031375 kWh. Total GPU Power : 69.53086640151103 W\n[codecarbon INFO @ 18:49:43] Energy consumed for all CPUs : 0.019833 kWh. Total CPU Power : 42.5 W\n[codecarbon INFO @ 18:49:43] 0.056002 kWh of electricity used since the beginning.\n[codecarbon INFO @ 18:49:54] Energy consumed for RAM : 0.004623 kWh. RAM Power : 10.2771635055542 W\n[codecarbon INFO @ 18:49:54] Energy consumed for all GPUs : 0.031166 kWh. Total GPU Power : 69.57815887900456 W\n[codecarbon INFO @ 18:49:54] Energy consumed for all CPUs : 0.019125 kWh. Total CPU Power : 42.5 W\n[codecarbon INFO @ 18:49:54] 0.054913 kWh of electricity used since the beginning.\n[codecarbon INFO @ 18:49:58] Energy consumed for RAM : 0.004837 kWh. RAM Power : 10.2771635055542 W\n[codecarbon INFO @ 18:49:58] Energy consumed for all GPUs : 0.031665 kWh. Total GPU Power : 69.55058653915258 W\n[codecarbon INFO @ 18:49:58] Energy consumed for all CPUs : 0.020010 kWh. Total CPU Power : 42.5 W\n[codecarbon INFO @ 18:49:58] 0.056512 kWh of electricity used since the beginning.\n[codecarbon INFO @ 18:50:09] Energy consumed for RAM : 0.004666 kWh. RAM Power : 10.2771635055542 W\n[codecarbon INFO @ 18:50:09] Energy consumed for all GPUs : 0.031455 kWh. Total GPU Power : 69.55975648676045 W\n[codecarbon INFO @ 18:50:09] Energy consumed for all CPUs : 0.019302 kWh. Total CPU Power : 42.5 W\n[codecarbon INFO @ 18:50:09] 0.055423 kWh of electricity used since the beginning.\n[codecarbon INFO @ 18:50:13] Energy consumed for RAM : 0.004880 kWh. RAM Power : 10.2771635055542 W\n[codecarbon INFO @ 18:50:13] Energy consumed for all GPUs : 0.031955 kWh. Total GPU Power : 69.57437985538327 W\n[codecarbon INFO @ 18:50:13] Energy consumed for all CPUs : 0.020187 kWh. Total CPU Power : 42.5 W\n[codecarbon INFO @ 18:50:13] 0.057021 kWh of electricity used since the beginning.\n[codecarbon INFO @ 18:50:24] Energy consumed for RAM : 0.004709 kWh. RAM Power : 10.2771635055542 W\n[codecarbon INFO @ 18:50:24] Energy consumed for all GPUs : 0.031746 kWh. Total GPU Power : 69.64207000875062 W\n[codecarbon INFO @ 18:50:24] Energy consumed for all CPUs : 0.019479 kWh. Total CPU Power : 42.5 W\n[codecarbon INFO @ 18:50:24] 0.055933 kWh of electricity used since the beginning.\n[codecarbon INFO @ 18:50:28] Energy consumed for RAM : 0.004923 kWh. RAM Power : 10.2771635055542 W\n[codecarbon INFO @ 18:50:28] Energy consumed for all GPUs : 0.032245 kWh. Total GPU Power : 69.62909639889122 W\n[codecarbon INFO @ 18:50:28] Energy consumed for all CPUs : 0.020364 kWh. Total CPU Power : 42.5 W\n[codecarbon INFO @ 18:50:28] 0.057531 kWh of electricity used since the beginning.\n[codecarbon INFO @ 18:50:39] Energy consumed for RAM : 0.004751 kWh. RAM Power : 10.2771635055542 W\n[codecarbon INFO @ 18:50:39] Energy consumed for all GPUs : 0.032035 kWh. Total GPU Power : 69.53097306126244 W\n[codecarbon INFO @ 18:50:39] Energy consumed for all CPUs : 0.019656 kWh. Total CPU Power : 42.5 W\n[codecarbon INFO @ 18:50:39] 0.056442 kWh of electricity used since the beginning.\n[codecarbon INFO @ 18:50:43] Energy consumed for RAM : 0.004965 kWh. RAM Power : 10.2771635055542 W\n[codecarbon INFO @ 18:50:43] Energy consumed for all GPUs : 0.032534 kWh. Total GPU Power : 69.52942110867863 W\n[codecarbon INFO @ 18:50:43] Energy consumed for all CPUs : 0.020541 kWh. Total CPU Power : 42.5 W\n[codecarbon INFO @ 18:50:43] 0.058041 kWh of electricity used since the beginning.\n[codecarbon INFO @ 18:50:54] Energy consumed for RAM : 0.004794 kWh. RAM Power : 10.2771635055542 W\n[codecarbon INFO @ 18:50:54] Energy consumed for all GPUs : 0.032325 kWh. Total GPU Power : 69.48587637778797 W\n[codecarbon INFO @ 18:50:54] Energy consumed for all CPUs : 0.019833 kWh. Total CPU Power : 42.5 W\n[codecarbon INFO @ 18:50:54] 0.056952 kWh of electricity used since the beginning.\n[codecarbon INFO @ 18:50:58] Energy consumed for RAM : 0.005008 kWh. RAM Power : 10.2771635055542 W\n[codecarbon INFO @ 18:50:58] Energy consumed for all GPUs : 0.032824 kWh. Total GPU Power : 69.53821221347748 W\n[codecarbon INFO @ 18:50:58] Energy consumed for all CPUs : 0.020718 kWh. Total CPU Power : 42.5 W\n[codecarbon INFO @ 18:50:58] 0.058550 kWh of electricity used since the beginning.\n[codecarbon INFO @ 18:51:09] Energy consumed for RAM : 0.004837 kWh. RAM Power : 10.2771635055542 W\n[codecarbon INFO @ 18:51:09] Energy consumed for all GPUs : 0.032614 kWh. Total GPU Power : 69.55651460031164 W\n[codecarbon INFO @ 18:51:09] Energy consumed for all CPUs : 0.020010 kWh. Total CPU Power : 42.5 W\n[codecarbon INFO @ 18:51:09] 0.057461 kWh of electricity used since the beginning.\n[codecarbon INFO @ 18:51:13] Energy consumed for RAM : 0.005051 kWh. RAM Power : 10.2771635055542 W\n[codecarbon INFO @ 18:51:13] Energy consumed for all GPUs : 0.033114 kWh. Total GPU Power : 69.59941074818379 W\n[codecarbon INFO @ 18:51:13] Energy consumed for all CPUs : 0.020895 kWh. Total CPU Power : 42.5 W\n[codecarbon INFO @ 18:51:13] 0.059060 kWh of electricity used since the beginning.\n[codecarbon INFO @ 18:51:24] Energy consumed for RAM : 0.004880 kWh. RAM Power : 10.2771635055542 W\n[codecarbon INFO @ 18:51:24] Energy consumed for all GPUs : 0.032904 kWh. Total GPU Power : 69.61003085506901 W\n[codecarbon INFO @ 18:51:24] Energy consumed for all CPUs : 0.020187 kWh. Total CPU Power : 42.5 W\n[codecarbon INFO @ 18:51:24] 0.057971 kWh of electricity used since the beginning.\n[codecarbon INFO @ 18:51:28] Energy consumed for RAM : 0.005094 kWh. RAM Power : 10.2771635055542 W\n[codecarbon INFO @ 18:51:28] Energy consumed for all GPUs : 0.033404 kWh. Total GPU Power : 69.57249751442502 W\n[codecarbon INFO @ 18:51:28] Energy consumed for all CPUs : 0.021072 kWh. Total CPU Power : 42.5 W\n[codecarbon INFO @ 18:51:28] 0.059570 kWh of electricity used since the beginning.\n[codecarbon INFO @ 18:51:39] Energy consumed for RAM : 0.004923 kWh. RAM Power : 10.2771635055542 W\n[codecarbon INFO @ 18:51:39] Energy consumed for all GPUs : 0.033123 kWh. Total GPU Power : 52.46199356225685 W\n[codecarbon INFO @ 18:51:39] Energy consumed for all CPUs : 0.020364 kWh. Total CPU Power : 42.5 W\n[codecarbon INFO @ 18:51:39] 0.058409 kWh of electricity used since the beginning.\n[codecarbon INFO @ 18:51:43] Energy consumed for RAM : 0.005137 kWh. RAM Power : 10.2771635055542 W\n[codecarbon INFO @ 18:51:43] Energy consumed for all GPUs : 0.033579 kWh. Total GPU Power : 42.145266640981 W\n[codecarbon INFO @ 18:51:43] Energy consumed for all CPUs : 0.021249 kWh. Total CPU Power : 42.5 W\n[codecarbon INFO @ 18:51:43] 0.059965 kWh of electricity used since the beginning.\n[codecarbon INFO @ 18:51:54] Energy consumed for RAM : 0.004965 kWh. RAM Power : 10.2771635055542 W\n[codecarbon INFO @ 18:51:54] Energy consumed for all GPUs : 0.033243 kWh. Total GPU Power : 28.893123706801145 W\n[codecarbon INFO @ 18:51:54] Energy consumed for all CPUs : 0.020541 kWh. Total CPU Power : 42.5 W\n[codecarbon INFO @ 18:51:54] 0.058750 kWh of electricity used since the beginning.\n[codecarbon INFO @ 18:51:58] Energy consumed for RAM : 0.005179 kWh. RAM Power : 10.2771635055542 W\n[codecarbon INFO @ 18:51:58] Energy consumed for all GPUs : 0.033699 kWh. Total GPU Power : 28.73549581153287 W\n[codecarbon INFO @ 18:51:58] Energy consumed for all CPUs : 0.021426 kWh. Total CPU Power : 42.5 W\n[codecarbon INFO @ 18:51:58] 0.060305 kWh of electricity used since the beginning.\n[codecarbon INFO @ 18:52:09] Energy consumed for RAM : 0.005008 kWh. RAM Power : 10.2771635055542 W\n[codecarbon INFO @ 18:52:09] Energy consumed for all GPUs : 0.033361 kWh. Total GPU Power : 28.17105231157302 W\n[codecarbon INFO @ 18:52:09] Energy consumed for all CPUs : 0.020718 kWh. Total CPU Power : 42.5 W\n[codecarbon INFO @ 18:52:09] 0.059087 kWh of electricity used since the beginning.\n[codecarbon INFO @ 18:52:13] Energy consumed for RAM : 0.005222 kWh. RAM Power : 10.2771635055542 W\n[codecarbon INFO @ 18:52:13] Energy consumed for all GPUs : 0.033816 kWh. Total GPU Power : 28.071323363923334 W\n[codecarbon INFO @ 18:52:13] Energy consumed for all CPUs : 0.021603 kWh. Total CPU Power : 42.5 W\n[codecarbon INFO @ 18:52:13] 0.060642 kWh of electricity used since the beginning.\n[codecarbon INFO @ 18:52:24] Energy consumed for RAM : 0.005051 kWh. RAM Power : 10.2771635055542 W\n[codecarbon INFO @ 18:52:24] Energy consumed for all GPUs : 0.033476 kWh. Total GPU Power : 27.805409152326394 W\n[codecarbon INFO @ 18:52:24] Energy consumed for all CPUs : 0.020895 kWh. Total CPU Power : 42.5 W\n[codecarbon INFO @ 18:52:24] 0.059423 kWh of electricity used since the beginning.\n[codecarbon INFO @ 18:52:28] Energy consumed for RAM : 0.005265 kWh. RAM Power : 10.2771635055542 W\n[codecarbon INFO @ 18:52:28] Energy consumed for all GPUs : 0.033931 kWh. Total GPU Power : 27.745369943711115 W\n[codecarbon INFO @ 18:52:28] Energy consumed for all CPUs : 0.021781 kWh. Total CPU Power : 42.5 W\n[codecarbon INFO @ 18:52:28] 0.060977 kWh of electricity used since the beginning.\n[codecarbon INFO @ 18:52:39] Energy consumed for RAM : 0.005094 kWh. RAM Power : 10.2771635055542 W\n[codecarbon INFO @ 18:52:39] Energy consumed for all GPUs : 0.033592 kWh. Total GPU Power : 27.823419721569028 W\n[codecarbon INFO @ 18:52:39] Energy consumed for all CPUs : 0.021072 kWh. Total CPU Power : 42.5 W\n[codecarbon INFO @ 18:52:39] 0.059758 kWh of electricity used since the beginning.\n[codecarbon INFO @ 18:52:43] Energy consumed for RAM : 0.005308 kWh. RAM Power : 10.2771635055542 W\n[codecarbon INFO @ 18:52:43] Energy consumed for all GPUs : 0.034046 kWh. Total GPU Power : 27.578132592260882 W\n[codecarbon INFO @ 18:52:43] Energy consumed for all CPUs : 0.021958 kWh. Total CPU Power : 42.5 W\n[codecarbon INFO @ 18:52:43] 0.061312 kWh of electricity used since the beginning.\n[codecarbon INFO @ 18:52:54] Energy consumed for RAM : 0.005137 kWh. RAM Power : 10.2771635055542 W\n[codecarbon INFO @ 18:52:54] Energy consumed for all GPUs : 0.033706 kWh. Total GPU Power : 27.41752870753433 W\n[codecarbon INFO @ 18:52:54] Energy consumed for all CPUs : 0.021249 kWh. Total CPU Power : 42.5 W\n[codecarbon INFO @ 18:52:54] 0.060092 kWh of electricity used since the beginning.\n[codecarbon INFO @ 18:52:58] Energy consumed for RAM : 0.005351 kWh. RAM Power : 10.2771635055542 W\n[codecarbon INFO @ 18:52:58] Energy consumed for all GPUs : 0.034161 kWh. Total GPU Power : 27.55188817138884 W\n[codecarbon INFO @ 18:52:58] Energy consumed for all CPUs : 0.022135 kWh. Total CPU Power : 42.5 W\n[codecarbon INFO @ 18:52:58] 0.061646 kWh of electricity used since the beginning.\n[codecarbon INFO @ 18:53:09] Energy consumed for RAM : 0.005179 kWh. RAM Power : 10.2771635055542 W\n[codecarbon INFO @ 18:53:09] Energy consumed for all GPUs : 0.033821 kWh. Total GPU Power : 27.42416713716217 W\n[codecarbon INFO @ 18:53:09] Energy consumed for all CPUs : 0.021427 kWh. Total CPU Power : 42.5 W\n[codecarbon INFO @ 18:53:09] 0.060427 kWh of electricity used since the beginning.\n[codecarbon INFO @ 18:53:13] Energy consumed for RAM : 0.005393 kWh. RAM Power : 10.2771635055542 W\n[codecarbon INFO @ 18:53:13] Energy consumed for all GPUs : 0.034274 kWh. Total GPU Power : 27.20336650850095 W\n[codecarbon INFO @ 18:53:13] Energy consumed for all CPUs : 0.022312 kWh. Total CPU Power : 42.5 W\n[codecarbon INFO @ 18:53:13] 0.061980 kWh of electricity used since the beginning.\n[codecarbon INFO @ 18:53:24] Energy consumed for RAM : 0.005222 kWh. RAM Power : 10.2771635055542 W\n[codecarbon INFO @ 18:53:24] Energy consumed for all GPUs : 0.033934 kWh. Total GPU Power : 27.0943022370607 W\n[codecarbon INFO @ 18:53:24] Energy consumed for all CPUs : 0.021604 kWh. Total CPU Power : 42.5 W\n[codecarbon INFO @ 18:53:24] 0.060759 kWh of electricity used since the beginning.\n[codecarbon INFO @ 18:53:28] Energy consumed for RAM : 0.005436 kWh. RAM Power : 10.2771635055542 W\n[codecarbon INFO @ 18:53:28] Energy consumed for all GPUs : 0.034388 kWh. Total GPU Power : 27.232777249772045 W\n[codecarbon INFO @ 18:53:28] Energy consumed for all CPUs : 0.022489 kWh. Total CPU Power : 42.5 W\n[codecarbon INFO @ 18:53:28] 0.062313 kWh of electricity used since the beginning.\n[codecarbon INFO @ 18:53:39] Energy consumed for RAM : 0.005265 kWh. RAM Power : 10.2771635055542 W\n[codecarbon INFO @ 18:53:39] Energy consumed for all GPUs : 0.034116 kWh. Total GPU Power : 43.81384177982739 W\n[codecarbon INFO @ 18:53:39] Energy consumed for all CPUs : 0.021781 kWh. Total CPU Power : 42.5 W\n[codecarbon INFO @ 18:53:39] 0.061162 kWh of electricity used since the beginning.\n[codecarbon INFO @ 18:53:43] Energy consumed for RAM : 0.005479 kWh. RAM Power : 10.2771635055542 W\n[codecarbon INFO @ 18:53:43] Energy consumed for all GPUs : 0.034616 kWh. Total GPU Power : 54.73065116741783 W\n[codecarbon INFO @ 18:53:43] Energy consumed for all CPUs : 0.022666 kWh. Total CPU Power : 42.5 W\n[codecarbon INFO @ 18:53:43] 0.062761 kWh of electricity used since the beginning.\n[codecarbon INFO @ 18:53:54] Energy consumed for RAM : 0.005308 kWh. RAM Power : 10.2771635055542 W\n[codecarbon INFO @ 18:53:54] Energy consumed for all GPUs : 0.034406 kWh. Total GPU Power : 69.58854922640985 W\n[codecarbon INFO @ 18:53:54] Energy consumed for all CPUs : 0.021958 kWh. Total CPU Power : 42.5 W\n[codecarbon INFO @ 18:53:54] 0.061672 kWh of electricity used since the beginning.\n[codecarbon INFO @ 18:53:58] Energy consumed for RAM : 0.005522 kWh. RAM Power : 10.2771635055542 W\n[codecarbon INFO @ 18:53:58] Energy consumed for all GPUs : 0.034905 kWh. Total GPU Power : 69.5505750673557 W\n[codecarbon INFO @ 18:53:58] Energy consumed for all CPUs : 0.022843 kWh. Total CPU Power : 42.5 W\n[codecarbon INFO @ 18:53:58] 0.063270 kWh of electricity used since the beginning.\n/anaconda/envs/azureml_py38/lib/python3.8/site-packages/sklearn/metrics/_classification.py:1272: UndefinedMetricWarning: Precision is ill-defined and being set to 0.0 in samples with no predicted labels. Use `zero_division` parameter to control this behavior.\n  _warn_prf(average, modifier, msg_start, len(result))\n/anaconda/envs/azureml_py38/lib/python3.8/site-packages/sklearn/metrics/_classification.py:1272: UndefinedMetricWarning: Recall is ill-defined and being set to 0.0 in samples with no true labels. Use `zero_division` parameter to control this behavior.\n  _warn_prf(average, modifier, msg_start, len(result))\n/anaconda/envs/azureml_py38/lib/python3.8/site-packages/sklearn/metrics/_classification.py:1514: UndefinedMetricWarning: F-score is ill-defined and being set to 0.0 in samples with no true nor predicted labels. Use `zero_division` parameter to control this behavior.\n  _warn_prf(\n[codecarbon INFO @ 18:54:09] Energy consumed for RAM : 0.005351 kWh. RAM Power : 10.2771635055542 W\n[codecarbon INFO @ 18:54:09] Energy consumed for all GPUs : 0.034653 kWh. Total GPU Power : 59.386049524504585 W\n[codecarbon INFO @ 18:54:09] Energy consumed for all CPUs : 0.022135 kWh. Total CPU Power : 42.5 W\n[codecarbon INFO @ 18:54:09] 0.062139 kWh of electricity used since the beginning.\n[codecarbon INFO @ 18:54:13] Energy consumed for RAM : 0.005565 kWh. RAM Power : 10.2771635055542 W\n[codecarbon INFO @ 18:54:13] Energy consumed for all GPUs : 0.035109 kWh. Total GPU Power : 48.78514988059158 W\n[codecarbon INFO @ 18:54:13] Energy consumed for all CPUs : 0.023020 kWh. Total CPU Power : 42.5 W\n[codecarbon INFO @ 18:54:13] 0.063693 kWh of electricity used since the beginning.\n[codecarbon INFO @ 18:54:24] Energy consumed for RAM : 0.005393 kWh. RAM Power : 10.2771635055542 W\n[codecarbon INFO @ 18:54:24] Energy consumed for all GPUs : 0.034888 kWh. Total GPU Power : 56.34538546461331 W\n[codecarbon INFO @ 18:54:24] Energy consumed for all CPUs : 0.022312 kWh. Total CPU Power : 42.5 W\n[codecarbon INFO @ 18:54:24] 0.062593 kWh of electricity used since the beginning.\n[codecarbon INFO @ 18:54:28] Energy consumed for RAM : 0.005607 kWh. RAM Power : 10.2771635055542 W\n[codecarbon INFO @ 18:54:28] Energy consumed for all GPUs : 0.035387 kWh. Total GPU Power : 66.92705395593572 W\n[codecarbon INFO @ 18:54:28] Energy consumed for all CPUs : 0.023197 kWh. Total CPU Power : 42.5 W\n[codecarbon INFO @ 18:54:28] 0.064192 kWh of electricity used since the beginning.\n[codecarbon INFO @ 18:54:39] Energy consumed for RAM : 0.005436 kWh. RAM Power : 10.2771635055542 W\n[codecarbon INFO @ 18:54:39] Energy consumed for all GPUs : 0.035178 kWh. Total GPU Power : 69.49432440723822 W\n[codecarbon INFO @ 18:54:39] Energy consumed for all CPUs : 0.022489 kWh. Total CPU Power : 42.5 W\n[codecarbon INFO @ 18:54:39] 0.063103 kWh of electricity used since the beginning.\n[codecarbon INFO @ 18:54:43] Energy consumed for RAM : 0.005650 kWh. RAM Power : 10.2771635055542 W\n[codecarbon INFO @ 18:54:43] Energy consumed for all GPUs : 0.035677 kWh. Total GPU Power : 69.51571498254343 W\n[codecarbon INFO @ 18:54:43] Energy consumed for all CPUs : 0.023374 kWh. Total CPU Power : 42.5 W\n[codecarbon INFO @ 18:54:43] 0.064701 kWh of electricity used since the beginning.\n[codecarbon INFO @ 18:54:54] Energy consumed for RAM : 0.005479 kWh. RAM Power : 10.2771635055542 W\n[codecarbon INFO @ 18:54:54] Energy consumed for all GPUs : 0.035468 kWh. Total GPU Power : 69.62551561010024 W\n[codecarbon INFO @ 18:54:54] Energy consumed for all CPUs : 0.022666 kWh. Total CPU Power : 42.5 W\n[codecarbon INFO @ 18:54:54] 0.063613 kWh of electricity used since the beginning.\n[codecarbon INFO @ 18:54:58] Energy consumed for RAM : 0.005693 kWh. RAM Power : 10.2771635055542 W\n[codecarbon INFO @ 18:54:58] Energy consumed for all GPUs : 0.035967 kWh. Total GPU Power : 69.71324133829854 W\n[codecarbon INFO @ 18:54:58] Energy consumed for all CPUs : 0.023551 kWh. Total CPU Power : 42.5 W\n[codecarbon INFO @ 18:54:58] 0.065211 kWh of electricity used since the beginning.\n[codecarbon INFO @ 18:55:09] Energy consumed for RAM : 0.005522 kWh. RAM Power : 10.2771635055542 W\n[codecarbon INFO @ 18:55:09] Energy consumed for all GPUs : 0.035756 kWh. Total GPU Power : 69.14393233262341 W\n[codecarbon INFO @ 18:55:09] Energy consumed for all CPUs : 0.022843 kWh. Total CPU Power : 42.5 W\n[codecarbon INFO @ 18:55:09] 0.064121 kWh of electricity used since the beginning.\n[codecarbon INFO @ 18:55:13] Energy consumed for RAM : 0.005736 kWh. RAM Power : 10.2771635055542 W\n[codecarbon INFO @ 18:55:13] Energy consumed for all GPUs : 0.036257 kWh. Total GPU Power : 69.56175154335331 W\n[codecarbon INFO @ 18:55:13] Energy consumed for all CPUs : 0.023728 kWh. Total CPU Power : 42.5 W\n[codecarbon INFO @ 18:55:13] 0.065721 kWh of electricity used since the beginning.\n[codecarbon INFO @ 18:55:24] Energy consumed for RAM : 0.005565 kWh. RAM Power : 10.2771635055542 W\n[codecarbon INFO @ 18:55:24] Energy consumed for all GPUs : 0.036047 kWh. Total GPU Power : 69.98299090264508 W\n[codecarbon INFO @ 18:55:24] Energy consumed for all CPUs : 0.023020 kWh. Total CPU Power : 42.5 W\n[codecarbon INFO @ 18:55:24] 0.064632 kWh of electricity used since the beginning.\n[codecarbon INFO @ 18:55:28] Energy consumed for RAM : 0.005779 kWh. RAM Power : 10.2771635055542 W\n[codecarbon INFO @ 18:55:28] Energy consumed for all GPUs : 0.036547 kWh. Total GPU Power : 69.559793075782 W\n[codecarbon INFO @ 18:55:28] Energy consumed for all CPUs : 0.023906 kWh. Total CPU Power : 42.5 W\n[codecarbon INFO @ 18:55:28] 0.066231 kWh of electricity used since the beginning.\n[codecarbon INFO @ 18:55:39] Energy consumed for RAM : 0.005608 kWh. RAM Power : 10.2771635055542 W\n[codecarbon INFO @ 18:55:39] Energy consumed for all GPUs : 0.036338 kWh. Total GPU Power : 69.76060123058717 W\n[codecarbon INFO @ 18:55:39] Energy consumed for all CPUs : 0.023197 kWh. Total CPU Power : 42.5 W\n[codecarbon INFO @ 18:55:39] 0.065143 kWh of electricity used since the beginning.\n[codecarbon INFO @ 18:55:43] Energy consumed for RAM : 0.005821 kWh. RAM Power : 10.2771635055542 W\n[codecarbon INFO @ 18:55:43] Energy consumed for all GPUs : 0.036837 kWh. Total GPU Power : 69.74744375968484 W\n[codecarbon INFO @ 18:55:43] Energy consumed for all CPUs : 0.024083 kWh. Total CPU Power : 42.5 W\n[codecarbon INFO @ 18:55:43] 0.066741 kWh of electricity used since the beginning.\n[codecarbon INFO @ 18:55:54] Energy consumed for RAM : 0.005650 kWh. RAM Power : 10.2771635055542 W\n[codecarbon INFO @ 18:55:54] Energy consumed for all GPUs : 0.036626 kWh. Total GPU Power : 69.10147083304187 W\n[codecarbon INFO @ 18:55:54] Energy consumed for all CPUs : 0.023374 kWh. Total CPU Power : 42.5 W\n[codecarbon INFO @ 18:55:54] 0.065650 kWh of electricity used since the beginning.\n[codecarbon INFO @ 18:55:58] Energy consumed for RAM : 0.005864 kWh. RAM Power : 10.2771635055542 W\n[codecarbon INFO @ 18:55:58] Energy consumed for all GPUs : 0.037127 kWh. Total GPU Power : 69.56702037738938 W\n[codecarbon INFO @ 18:55:58] Energy consumed for all CPUs : 0.024260 kWh. Total CPU Power : 42.5 W\n[codecarbon INFO @ 18:55:58] 0.067251 kWh of electricity used since the beginning.\n[codecarbon INFO @ 18:56:09] Energy consumed for RAM : 0.005693 kWh. RAM Power : 10.2771635055542 W\n[codecarbon INFO @ 18:56:09] Energy consumed for all GPUs : 0.036915 kWh. Total GPU Power : 69.49433584742569 W\n[codecarbon INFO @ 18:56:09] Energy consumed for all CPUs : 0.023552 kWh. Total CPU Power : 42.5 W\n[codecarbon INFO @ 18:56:09] 0.066160 kWh of electricity used since the beginning.\n[codecarbon INFO @ 18:56:13] Energy consumed for RAM : 0.005907 kWh. RAM Power : 10.2771635055542 W\n[codecarbon INFO @ 18:56:13] Energy consumed for all GPUs : 0.037417 kWh. Total GPU Power : 69.55324087116318 W\n[codecarbon INFO @ 18:56:13] Energy consumed for all CPUs : 0.024437 kWh. Total CPU Power : 42.5 W\n[codecarbon INFO @ 18:56:13] 0.067760 kWh of electricity used since the beginning.\n[codecarbon INFO @ 18:56:24] Energy consumed for RAM : 0.005736 kWh. RAM Power : 10.2771635055542 W\n[codecarbon INFO @ 18:56:24] Energy consumed for all GPUs : 0.037205 kWh. Total GPU Power : 69.59399530642038 W\n[codecarbon INFO @ 18:56:24] Energy consumed for all CPUs : 0.023729 kWh. Total CPU Power : 42.5 W\n[codecarbon INFO @ 18:56:24] 0.066669 kWh of electricity used since the beginning.\n[codecarbon INFO @ 18:56:28] Energy consumed for RAM : 0.005950 kWh. RAM Power : 10.2771635055542 W\n[codecarbon INFO @ 18:56:28] Energy consumed for all GPUs : 0.037706 kWh. Total GPU Power : 69.57884505644931 W\n[codecarbon INFO @ 18:56:28] Energy consumed for all CPUs : 0.024614 kWh. Total CPU Power : 42.5 W\n[codecarbon INFO @ 18:56:28] 0.068270 kWh of electricity used since the beginning.\n[codecarbon INFO @ 18:56:39] Energy consumed for RAM : 0.005779 kWh. RAM Power : 10.2771635055542 W\n[codecarbon INFO @ 18:56:39] Energy consumed for all GPUs : 0.037495 kWh. Total GPU Power : 69.58248488498717 W\n[codecarbon INFO @ 18:56:39] Energy consumed for all CPUs : 0.023906 kWh. Total CPU Power : 42.5 W\n[codecarbon INFO @ 18:56:39] 0.067179 kWh of electricity used since the beginning.\n[codecarbon INFO @ 18:56:43] Energy consumed for RAM : 0.005993 kWh. RAM Power : 10.2771635055542 W\n[codecarbon INFO @ 18:56:43] Energy consumed for all GPUs : 0.037996 kWh. Total GPU Power : 69.67883863453487 W\n[codecarbon INFO @ 18:56:43] Energy consumed for all CPUs : 0.024791 kWh. Total CPU Power : 42.5 W\n[codecarbon INFO @ 18:56:43] 0.068780 kWh of electricity used since the beginning.\n[codecarbon INFO @ 18:56:54] Energy consumed for RAM : 0.005822 kWh. RAM Power : 10.2771635055542 W\n[codecarbon INFO @ 18:56:54] Energy consumed for all GPUs : 0.037785 kWh. Total GPU Power : 69.6050412499834 W\n[codecarbon INFO @ 18:56:54] Energy consumed for all CPUs : 0.024083 kWh. Total CPU Power : 42.5 W\n[codecarbon INFO @ 18:56:54] 0.067689 kWh of electricity used since the beginning.\n[codecarbon INFO @ 18:56:58] Energy consumed for RAM : 0.006035 kWh. RAM Power : 10.2771635055542 W\n[codecarbon INFO @ 18:56:58] Energy consumed for all GPUs : 0.038286 kWh. Total GPU Power : 69.57703419069786 W\n[codecarbon INFO @ 18:56:58] Energy consumed for all CPUs : 0.024968 kWh. Total CPU Power : 42.5 W\n[codecarbon INFO @ 18:56:58] 0.069290 kWh of electricity used since the beginning.\n[codecarbon INFO @ 18:57:09] Energy consumed for RAM : 0.005864 kWh. RAM Power : 10.2771635055542 W\n[codecarbon INFO @ 18:57:09] Energy consumed for all GPUs : 0.038075 kWh. Total GPU Power : 69.63356362214552 W\n[codecarbon INFO @ 18:57:09] Energy consumed for all CPUs : 0.024260 kWh. Total CPU Power : 42.5 W\n[codecarbon INFO @ 18:57:09] 0.068199 kWh of electricity used since the beginning.\n[codecarbon INFO @ 18:57:13] Energy consumed for RAM : 0.006078 kWh. RAM Power : 10.2771635055542 W\n[codecarbon INFO @ 18:57:13] Energy consumed for all GPUs : 0.038574 kWh. Total GPU Power : 69.06969308048554 W\n[codecarbon INFO @ 18:57:13] Energy consumed for all CPUs : 0.025145 kWh. Total CPU Power : 42.5 W\n[codecarbon INFO @ 18:57:13] 0.069797 kWh of electricity used since the beginning.\n[codecarbon INFO @ 18:57:24] Energy consumed for RAM : 0.005907 kWh. RAM Power : 10.2771635055542 W\n[codecarbon INFO @ 18:57:24] Energy consumed for all GPUs : 0.038365 kWh. Total GPU Power : 69.56948935481392 W\n[codecarbon INFO @ 18:57:24] Energy consumed for all CPUs : 0.024437 kWh. Total CPU Power : 42.5 W\n[codecarbon INFO @ 18:57:24] 0.068709 kWh of electricity used since the beginning.\n[codecarbon INFO @ 18:57:28] Energy consumed for RAM : 0.006121 kWh. RAM Power : 10.2771635055542 W\n[codecarbon INFO @ 18:57:28] Energy consumed for all GPUs : 0.038864 kWh. Total GPU Power : 69.62456535144396 W\n[codecarbon INFO @ 18:57:28] Energy consumed for all CPUs : 0.025322 kWh. Total CPU Power : 42.5 W\n[codecarbon INFO @ 18:57:28] 0.070307 kWh of electricity used since the beginning.\n[codecarbon INFO @ 18:57:39] Energy consumed for RAM : 0.005950 kWh. RAM Power : 10.2771635055542 W\n[codecarbon INFO @ 18:57:39] Energy consumed for all GPUs : 0.038654 kWh. Total GPU Power : 69.54999865974217 W\n[codecarbon INFO @ 18:57:39] Energy consumed for all CPUs : 0.024614 kWh. Total CPU Power : 42.5 W\n[codecarbon INFO @ 18:57:39] 0.069218 kWh of electricity used since the beginning.\n[codecarbon INFO @ 18:57:43] Energy consumed for RAM : 0.006164 kWh. RAM Power : 10.2771635055542 W\n[codecarbon INFO @ 18:57:43] Energy consumed for all GPUs : 0.039154 kWh. Total GPU Power : 69.5606054786354 W\n[codecarbon INFO @ 18:57:43] Energy consumed for all CPUs : 0.025499 kWh. Total CPU Power : 42.5 W\n[codecarbon INFO @ 18:57:43] 0.070817 kWh of electricity used since the beginning.\n[codecarbon INFO @ 18:57:54] Energy consumed for RAM : 0.005993 kWh. RAM Power : 10.2771635055542 W\n[codecarbon INFO @ 18:57:54] Energy consumed for all GPUs : 0.038944 kWh. Total GPU Power : 69.61078202707897 W\n[codecarbon INFO @ 18:57:54] Energy consumed for all CPUs : 0.024791 kWh. Total CPU Power : 42.5 W\n[codecarbon INFO @ 18:57:54] 0.069728 kWh of electricity used since the beginning.\n[codecarbon INFO @ 18:57:58] Energy consumed for RAM : 0.006207 kWh. RAM Power : 10.2771635055542 W\n[codecarbon INFO @ 18:57:58] Energy consumed for all GPUs : 0.039444 kWh. Total GPU Power : 69.63761993721968 W\n[codecarbon INFO @ 18:57:58] Energy consumed for all CPUs : 0.025676 kWh. Total CPU Power : 42.5 W\n[codecarbon INFO @ 18:57:58] 0.071327 kWh of electricity used since the beginning.\n[codecarbon INFO @ 18:58:09] Energy consumed for RAM : 0.006036 kWh. RAM Power : 10.2771635055542 W\n[codecarbon INFO @ 18:58:09] Energy consumed for all GPUs : 0.039234 kWh. Total GPU Power : 69.61669632364072 W\n[codecarbon INFO @ 18:58:09] Energy consumed for all CPUs : 0.024968 kWh. Total CPU Power : 42.5 W\n[codecarbon INFO @ 18:58:09] 0.070238 kWh of electricity used since the beginning.\n[codecarbon INFO @ 18:58:13] Energy consumed for RAM : 0.006249 kWh. RAM Power : 10.2771635055542 W\n[codecarbon INFO @ 18:58:13] Energy consumed for all GPUs : 0.039734 kWh. Total GPU Power : 69.55623979932982 W\n[codecarbon INFO @ 18:58:13] Energy consumed for all CPUs : 0.025853 kWh. Total CPU Power : 42.5 W\n[codecarbon INFO @ 18:58:13] 0.071836 kWh of electricity used since the beginning.\n[codecarbon INFO @ 18:58:24] Energy consumed for RAM : 0.006078 kWh. RAM Power : 10.2771635055542 W\n[codecarbon INFO @ 18:58:24] Energy consumed for all GPUs : 0.039524 kWh. Total GPU Power : 69.51565307208787 W\n[codecarbon INFO @ 18:58:24] Energy consumed for all CPUs : 0.025145 kWh. Total CPU Power : 42.5 W\n[codecarbon INFO @ 18:58:24] 0.070748 kWh of electricity used since the beginning.\n[codecarbon INFO @ 18:58:28] Energy consumed for RAM : 0.006292 kWh. RAM Power : 10.2771635055542 W\n[codecarbon INFO @ 18:58:28] Energy consumed for all GPUs : 0.040023 kWh. Total GPU Power : 69.52774031494008 W\n[codecarbon INFO @ 18:58:28] Energy consumed for all CPUs : 0.026030 kWh. Total CPU Power : 42.5 W\n[codecarbon INFO @ 18:58:28] 0.072346 kWh of electricity used since the beginning.\n[codecarbon INFO @ 18:58:39] Energy consumed for RAM : 0.006121 kWh. RAM Power : 10.2771635055542 W\n[codecarbon INFO @ 18:58:39] Energy consumed for all GPUs : 0.039814 kWh. Total GPU Power : 69.56019232357345 W\n[codecarbon INFO @ 18:58:39] Energy consumed for all CPUs : 0.025322 kWh. Total CPU Power : 42.5 W\n[codecarbon INFO @ 18:58:39] 0.071257 kWh of electricity used since the beginning.\n[codecarbon INFO @ 18:58:43] Energy consumed for RAM : 0.006335 kWh. RAM Power : 10.2771635055542 W\n[codecarbon INFO @ 18:58:43] Energy consumed for all GPUs : 0.040313 kWh. Total GPU Power : 69.60200880841624 W\n[codecarbon INFO @ 18:58:43] Energy consumed for all CPUs : 0.026207 kWh. Total CPU Power : 42.5 W\n[codecarbon INFO @ 18:58:43] 0.072856 kWh of electricity used since the beginning.\n[codecarbon INFO @ 18:58:54] Energy consumed for RAM : 0.006164 kWh. RAM Power : 10.2771635055542 W\n[codecarbon INFO @ 18:58:54] Energy consumed for all GPUs : 0.040103 kWh. Total GPU Power : 69.536139980725 W\n[codecarbon INFO @ 18:58:54] Energy consumed for all CPUs : 0.025499 kWh. Total CPU Power : 42.5 W\n[codecarbon INFO @ 18:58:54] 0.071767 kWh of electricity used since the beginning.\n[codecarbon INFO @ 18:58:58] Energy consumed for RAM : 0.006378 kWh. RAM Power : 10.2771635055542 W\n[codecarbon INFO @ 18:58:58] Energy consumed for all GPUs : 0.040603 kWh. Total GPU Power : 69.58574238012501 W\n[codecarbon INFO @ 18:58:58] Energy consumed for all CPUs : 0.026385 kWh. Total CPU Power : 42.5 W\n[codecarbon INFO @ 18:58:58] 0.073365 kWh of electricity used since the beginning.\n[codecarbon INFO @ 18:59:09] Energy consumed for RAM : 0.006207 kWh. RAM Power : 10.2771635055542 W\n[codecarbon INFO @ 18:59:09] Energy consumed for all GPUs : 0.040393 kWh. Total GPU Power : 69.58634827792369 W\n[codecarbon INFO @ 18:59:09] Energy consumed for all CPUs : 0.025676 kWh. Total CPU Power : 42.5 W\n[codecarbon INFO @ 18:59:09] 0.072276 kWh of electricity used since the beginning.\n[codecarbon INFO @ 18:59:13] Energy consumed for RAM : 0.006421 kWh. RAM Power : 10.2771635055542 W\n[codecarbon INFO @ 18:59:13] Energy consumed for all GPUs : 0.040893 kWh. Total GPU Power : 69.54976125694812 W\n[codecarbon INFO @ 18:59:13] Energy consumed for all CPUs : 0.026562 kWh. Total CPU Power : 42.5 W\n[codecarbon INFO @ 18:59:13] 0.073875 kWh of electricity used since the beginning.\n[codecarbon INFO @ 18:59:24] Energy consumed for RAM : 0.006250 kWh. RAM Power : 10.2771635055542 W\n[codecarbon INFO @ 18:59:24] Energy consumed for all GPUs : 0.040683 kWh. Total GPU Power : 69.64014509650012 W\n[codecarbon INFO @ 18:59:24] Energy consumed for all CPUs : 0.025853 kWh. Total CPU Power : 42.5 W\n[codecarbon INFO @ 18:59:24] 0.072786 kWh of electricity used since the beginning.\n[codecarbon INFO @ 18:59:28] Energy consumed for RAM : 0.006463 kWh. RAM Power : 10.2771635055542 W\n[codecarbon INFO @ 18:59:28] Energy consumed for all GPUs : 0.041183 kWh. Total GPU Power : 69.62236169567542 W\n[codecarbon INFO @ 18:59:28] Energy consumed for all CPUs : 0.026739 kWh. Total CPU Power : 42.5 W\n[codecarbon INFO @ 18:59:28] 0.074385 kWh of electricity used since the beginning.\n[codecarbon INFO @ 18:59:39] Energy consumed for RAM : 0.006292 kWh. RAM Power : 10.2771635055542 W\n[codecarbon INFO @ 18:59:39] Energy consumed for all GPUs : 0.040973 kWh. Total GPU Power : 69.62636778663352 W\n[codecarbon INFO @ 18:59:39] Energy consumed for all CPUs : 0.026031 kWh. Total CPU Power : 42.5 W\n[codecarbon INFO @ 18:59:39] 0.073296 kWh of electricity used since the beginning.\n[codecarbon INFO @ 18:59:43] Energy consumed for RAM : 0.006506 kWh. RAM Power : 10.2771635055542 W\n[codecarbon INFO @ 18:59:43] Energy consumed for all GPUs : 0.041473 kWh. Total GPU Power : 69.60068624085896 W\n[codecarbon INFO @ 18:59:43] Energy consumed for all CPUs : 0.026916 kWh. Total CPU Power : 42.5 W\n[codecarbon INFO @ 18:59:43] 0.074895 kWh of electricity used since the beginning.\n[codecarbon INFO @ 18:59:54] Energy consumed for RAM : 0.006335 kWh. RAM Power : 10.2771635055542 W\n[codecarbon INFO @ 18:59:54] Energy consumed for all GPUs : 0.041263 kWh. Total GPU Power : 69.57737790568093 W\n[codecarbon INFO @ 18:59:54] Energy consumed for all CPUs : 0.026208 kWh. Total CPU Power : 42.5 W\n[codecarbon INFO @ 18:59:54] 0.073806 kWh of electricity used since the beginning.\n[codecarbon INFO @ 18:59:58] Energy consumed for RAM : 0.006549 kWh. RAM Power : 10.2771635055542 W\n[codecarbon INFO @ 18:59:58] Energy consumed for all GPUs : 0.041762 kWh. Total GPU Power : 69.564681728114 W\n[codecarbon INFO @ 18:59:58] Energy consumed for all CPUs : 0.027093 kWh. Total CPU Power : 42.5 W\n[codecarbon INFO @ 18:59:58] 0.075404 kWh of electricity used since the beginning.\n[codecarbon INFO @ 19:00:09] Energy consumed for RAM : 0.006378 kWh. RAM Power : 10.2771635055542 W\n[codecarbon INFO @ 19:00:09] Energy consumed for all GPUs : 0.041553 kWh. Total GPU Power : 69.58079434718589 W\n[codecarbon INFO @ 19:00:09] Energy consumed for all CPUs : 0.026385 kWh. Total CPU Power : 42.5 W\n[codecarbon INFO @ 19:00:09] 0.074316 kWh of electricity used since the beginning.\n[codecarbon INFO @ 19:00:13] Energy consumed for RAM : 0.006592 kWh. RAM Power : 10.2771635055542 W\n[codecarbon INFO @ 19:00:13] Energy consumed for all GPUs : 0.042052 kWh. Total GPU Power : 69.59249740856606 W\n[codecarbon INFO @ 19:00:13] Energy consumed for all CPUs : 0.027270 kWh. Total CPU Power : 42.5 W\n[codecarbon INFO @ 19:00:13] 0.075914 kWh of electricity used since the beginning.\n[codecarbon INFO @ 19:00:24] Energy consumed for RAM : 0.006421 kWh. RAM Power : 10.2771635055542 W\n[codecarbon INFO @ 19:00:24] Energy consumed for all GPUs : 0.041843 kWh. Total GPU Power : 69.63555987736893 W\n[codecarbon INFO @ 19:00:24] Energy consumed for all CPUs : 0.026562 kWh. Total CPU Power : 42.5 W\n[codecarbon INFO @ 19:00:24] 0.074826 kWh of electricity used since the beginning.\n[codecarbon INFO @ 19:00:28] Energy consumed for RAM : 0.006635 kWh. RAM Power : 10.2771635055542 W\n[codecarbon INFO @ 19:00:28] Energy consumed for all GPUs : 0.042343 kWh. Total GPU Power : 69.65454161922992 W\n[codecarbon INFO @ 19:00:28] Energy consumed for all CPUs : 0.027447 kWh. Total CPU Power : 42.5 W\n[codecarbon INFO @ 19:00:28] 0.076424 kWh of electricity used since the beginning.\n[codecarbon INFO @ 19:00:39] Energy consumed for RAM : 0.006464 kWh. RAM Power : 10.2771635055542 W\n[codecarbon INFO @ 19:00:39] Energy consumed for all GPUs : 0.042133 kWh. Total GPU Power : 69.55528437454352 W\n[codecarbon INFO @ 19:00:39] Energy consumed for all CPUs : 0.026739 kWh. Total CPU Power : 42.5 W\n[codecarbon INFO @ 19:00:39] 0.075335 kWh of electricity used since the beginning.\n[codecarbon INFO @ 19:00:43] Energy consumed for RAM : 0.006677 kWh. RAM Power : 10.2771635055542 W\n[codecarbon INFO @ 19:00:43] Energy consumed for all GPUs : 0.042632 kWh. Total GPU Power : 69.53849086073632 W\n[codecarbon INFO @ 19:00:43] Energy consumed for all CPUs : 0.027624 kWh. Total CPU Power : 42.5 W\n[codecarbon INFO @ 19:00:43] 0.076934 kWh of electricity used since the beginning.\n[codecarbon INFO @ 19:00:54] Energy consumed for RAM : 0.006506 kWh. RAM Power : 10.2771635055542 W\n[codecarbon INFO @ 19:00:54] Energy consumed for all GPUs : 0.042423 kWh. Total GPU Power : 69.54937249578907 W\n[codecarbon INFO @ 19:00:54] Energy consumed for all CPUs : 0.026916 kWh. Total CPU Power : 42.5 W\n[codecarbon INFO @ 19:00:54] 0.075845 kWh of electricity used since the beginning.\n[codecarbon INFO @ 19:00:58] Energy consumed for RAM : 0.006720 kWh. RAM Power : 10.2771635055542 W\n[codecarbon INFO @ 19:00:58] Energy consumed for all GPUs : 0.042922 kWh. Total GPU Power : 69.55887406502899 W\n[codecarbon INFO @ 19:00:58] Energy consumed for all CPUs : 0.027801 kWh. Total CPU Power : 42.5 W\n[codecarbon INFO @ 19:00:58] 0.077443 kWh of electricity used since the beginning.\n[codecarbon INFO @ 19:01:09] Energy consumed for RAM : 0.006549 kWh. RAM Power : 10.2771635055542 W\n[codecarbon INFO @ 19:01:09] Energy consumed for all GPUs : 0.042712 kWh. Total GPU Power : 69.58697070318578 W\n[codecarbon INFO @ 19:01:09] Energy consumed for all CPUs : 0.027093 kWh. Total CPU Power : 42.5 W\n[codecarbon INFO @ 19:01:09] 0.076355 kWh of electricity used since the beginning.\n[codecarbon INFO @ 19:01:13] Energy consumed for RAM : 0.006763 kWh. RAM Power : 10.2771635055542 W\n[codecarbon INFO @ 19:01:13] Energy consumed for all GPUs : 0.043212 kWh. Total GPU Power : 69.59921231340743 W\n[codecarbon INFO @ 19:01:13] Energy consumed for all CPUs : 0.027978 kWh. Total CPU Power : 42.5 W\n[codecarbon INFO @ 19:01:13] 0.077953 kWh of electricity used since the beginning.\n[codecarbon INFO @ 19:01:24] Energy consumed for RAM : 0.006592 kWh. RAM Power : 10.2771635055542 W\n[codecarbon INFO @ 19:01:24] Energy consumed for all GPUs : 0.043002 kWh. Total GPU Power : 69.51712485097097 W\n[codecarbon INFO @ 19:01:24] Energy consumed for all CPUs : 0.027270 kWh. Total CPU Power : 42.5 W\n[codecarbon INFO @ 19:01:24] 0.076864 kWh of electricity used since the beginning.\n[codecarbon INFO @ 19:01:28] Energy consumed for RAM : 0.006806 kWh. RAM Power : 10.2771635055542 W\n[codecarbon INFO @ 19:01:28] Energy consumed for all GPUs : 0.043501 kWh. Total GPU Power : 69.53049722972426 W\n[codecarbon INFO @ 19:01:28] Energy consumed for all CPUs : 0.028155 kWh. Total CPU Power : 42.5 W\n[codecarbon INFO @ 19:01:28] 0.078463 kWh of electricity used since the beginning.\n[codecarbon INFO @ 19:01:39] Energy consumed for RAM : 0.006635 kWh. RAM Power : 10.2771635055542 W\n[codecarbon INFO @ 19:01:39] Energy consumed for all GPUs : 0.043292 kWh. Total GPU Power : 69.67369642490985 W\n[codecarbon INFO @ 19:01:39] Energy consumed for all CPUs : 0.027447 kWh. Total CPU Power : 42.5 W\n[codecarbon INFO @ 19:01:39] 0.077374 kWh of electricity used since the beginning.\n[codecarbon INFO @ 19:01:43] Energy consumed for RAM : 0.006849 kWh. RAM Power : 10.2771635055542 W\n[codecarbon INFO @ 19:01:43] Energy consumed for all GPUs : 0.043792 kWh. Total GPU Power : 69.72884364808323 W\n[codecarbon INFO @ 19:01:43] Energy consumed for all CPUs : 0.028332 kWh. Total CPU Power : 42.5 W\n[codecarbon INFO @ 19:01:43] 0.078973 kWh of electricity used since the beginning.\n[codecarbon INFO @ 19:01:54] Energy consumed for RAM : 0.006678 kWh. RAM Power : 10.2771635055542 W\n[codecarbon INFO @ 19:01:54] Energy consumed for all GPUs : 0.043582 kWh. Total GPU Power : 69.63832576530869 W\n[codecarbon INFO @ 19:01:54] Energy consumed for all CPUs : 0.027624 kWh. Total CPU Power : 42.5 W\n[codecarbon INFO @ 19:01:54] 0.077884 kWh of electricity used since the beginning.\n[codecarbon INFO @ 19:01:58] Energy consumed for RAM : 0.006892 kWh. RAM Power : 10.2771635055542 W\n[codecarbon INFO @ 19:01:58] Energy consumed for all GPUs : 0.044082 kWh. Total GPU Power : 69.54427958865476 W\n[codecarbon INFO @ 19:01:58] Energy consumed for all CPUs : 0.028509 kWh. Total CPU Power : 42.5 W\n[codecarbon INFO @ 19:01:58] 0.079483 kWh of electricity used since the beginning.\n[codecarbon INFO @ 19:02:09] Energy consumed for RAM : 0.006720 kWh. RAM Power : 10.2771635055542 W\n[codecarbon INFO @ 19:02:09] Energy consumed for all GPUs : 0.043872 kWh. Total GPU Power : 69.56524798673433 W\n[codecarbon INFO @ 19:02:09] Energy consumed for all CPUs : 0.027801 kWh. Total CPU Power : 42.5 W\n[codecarbon INFO @ 19:02:09] 0.078394 kWh of electricity used since the beginning.\n[codecarbon INFO @ 19:02:13] Energy consumed for RAM : 0.006934 kWh. RAM Power : 10.2771635055542 W\n[codecarbon INFO @ 19:02:13] Energy consumed for all GPUs : 0.044372 kWh. Total GPU Power : 69.62219277778826 W\n[codecarbon INFO @ 19:02:13] Energy consumed for all CPUs : 0.028686 kWh. Total CPU Power : 42.5 W\n[codecarbon INFO @ 19:02:13] 0.079992 kWh of electricity used since the beginning.\n[codecarbon INFO @ 19:02:24] Energy consumed for RAM : 0.006763 kWh. RAM Power : 10.2771635055542 W\n[codecarbon INFO @ 19:02:24] Energy consumed for all GPUs : 0.044162 kWh. Total GPU Power : 69.61251384315698 W\n[codecarbon INFO @ 19:02:24] Energy consumed for all CPUs : 0.027979 kWh. Total CPU Power : 42.5 W\n[codecarbon INFO @ 19:02:24] 0.078904 kWh of electricity used since the beginning.\n[codecarbon INFO @ 19:02:28] Energy consumed for RAM : 0.006977 kWh. RAM Power : 10.2771635055542 W\n[codecarbon INFO @ 19:02:28] Energy consumed for all GPUs : 0.044662 kWh. Total GPU Power : 69.57683465041202 W\n[codecarbon INFO @ 19:02:28] Energy consumed for all CPUs : 0.028864 kWh. Total CPU Power : 42.5 W\n[codecarbon INFO @ 19:02:28] 0.080502 kWh of electricity used since the beginning.\n[codecarbon INFO @ 19:02:39] Energy consumed for RAM : 0.006806 kWh. RAM Power : 10.2771635055542 W\n[codecarbon INFO @ 19:02:39] Energy consumed for all GPUs : 0.044452 kWh. Total GPU Power : 69.71029323567821 W\n[codecarbon INFO @ 19:02:39] Energy consumed for all CPUs : 0.028156 kWh. Total CPU Power : 42.5 W\n[codecarbon INFO @ 19:02:39] 0.079414 kWh of electricity used since the beginning.\n[codecarbon INFO @ 19:02:43] Energy consumed for RAM : 0.007020 kWh. RAM Power : 10.2771635055542 W\n[codecarbon INFO @ 19:02:43] Energy consumed for all GPUs : 0.044952 kWh. Total GPU Power : 69.69463089210556 W\n[codecarbon INFO @ 19:02:43] Energy consumed for all CPUs : 0.029041 kWh. Total CPU Power : 42.5 W\n[codecarbon INFO @ 19:02:43] 0.081012 kWh of electricity used since the beginning.\n[codecarbon INFO @ 19:02:54] Energy consumed for RAM : 0.006849 kWh. RAM Power : 10.2771635055542 W\n[codecarbon INFO @ 19:02:54] Energy consumed for all GPUs : 0.044740 kWh. Total GPU Power : 69.13373912890653 W\n[codecarbon INFO @ 19:02:54] Energy consumed for all CPUs : 0.028333 kWh. Total CPU Power : 42.5 W\n[codecarbon INFO @ 19:02:54] 0.079922 kWh of electricity used since the beginning.\n[codecarbon INFO @ 19:02:58] Energy consumed for RAM : 0.007063 kWh. RAM Power : 10.2771635055542 W\n[codecarbon INFO @ 19:02:58] Energy consumed for all GPUs : 0.045242 kWh. Total GPU Power : 69.57457116064501 W\n[codecarbon INFO @ 19:02:58] Energy consumed for all CPUs : 0.029218 kWh. Total CPU Power : 42.5 W\n[codecarbon INFO @ 19:02:58] 0.081522 kWh of electricity used since the beginning.\n[codecarbon INFO @ 19:03:09] Energy consumed for RAM : 0.006892 kWh. RAM Power : 10.2771635055542 W\n[codecarbon INFO @ 19:03:09] Energy consumed for all GPUs : 0.045030 kWh. Total GPU Power : 69.6170656042736 W\n[codecarbon INFO @ 19:03:09] Energy consumed for all CPUs : 0.028510 kWh. Total CPU Power : 42.5 W\n[codecarbon INFO @ 19:03:09] 0.080431 kWh of electricity used since the beginning.\n[codecarbon INFO @ 19:03:13] Energy consumed for RAM : 0.007106 kWh. RAM Power : 10.2771635055542 W\n[codecarbon INFO @ 19:03:13] Energy consumed for all GPUs : 0.045531 kWh. Total GPU Power : 69.5699420247074 W\n[codecarbon INFO @ 19:03:13] Energy consumed for all CPUs : 0.029395 kWh. Total CPU Power : 42.5 W\n[codecarbon INFO @ 19:03:13] 0.082032 kWh of electricity used since the beginning.\n[codecarbon INFO @ 19:03:24] Energy consumed for RAM : 0.006934 kWh. RAM Power : 10.2771635055542 W\n[codecarbon INFO @ 19:03:24] Energy consumed for all GPUs : 0.045320 kWh. Total GPU Power : 69.5213457124109 W\n[codecarbon INFO @ 19:03:24] Energy consumed for all CPUs : 0.028687 kWh. Total CPU Power : 42.5 W\n[codecarbon INFO @ 19:03:24] 0.080941 kWh of electricity used since the beginning.\n[codecarbon INFO @ 19:03:28] Energy consumed for RAM : 0.007148 kWh. RAM Power : 10.2771635055542 W\n[codecarbon INFO @ 19:03:28] Energy consumed for all GPUs : 0.045821 kWh. Total GPU Power : 69.5421189880842 W\n[codecarbon INFO @ 19:03:28] Energy consumed for all CPUs : 0.029572 kWh. Total CPU Power : 42.5 W\n[codecarbon INFO @ 19:03:28] 0.082541 kWh of electricity used since the beginning.\n[codecarbon INFO @ 19:03:39] Energy consumed for RAM : 0.006977 kWh. RAM Power : 10.2771635055542 W\n[codecarbon INFO @ 19:03:39] Energy consumed for all GPUs : 0.045609 kWh. Total GPU Power : 69.56379991102037 W\n[codecarbon INFO @ 19:03:39] Energy consumed for all CPUs : 0.028864 kWh. Total CPU Power : 42.5 W\n[codecarbon INFO @ 19:03:39] 0.081451 kWh of electricity used since the beginning.\n[codecarbon INFO @ 19:03:43] Energy consumed for RAM : 0.007191 kWh. RAM Power : 10.2771635055542 W\n[codecarbon INFO @ 19:03:43] Energy consumed for all GPUs : 0.046111 kWh. Total GPU Power : 69.6439508560904 W\n[codecarbon INFO @ 19:03:43] Energy consumed for all CPUs : 0.029749 kWh. Total CPU Power : 42.5 W\n[codecarbon INFO @ 19:03:43] 0.083051 kWh of electricity used since the beginning.\n[codecarbon INFO @ 19:03:54] Energy consumed for RAM : 0.007020 kWh. RAM Power : 10.2771635055542 W\n[codecarbon INFO @ 19:03:54] Energy consumed for all GPUs : 0.045900 kWh. Total GPU Power : 69.67051721855043 W\n[codecarbon INFO @ 19:03:54] Energy consumed for all CPUs : 0.029041 kWh. Total CPU Power : 42.5 W\n[codecarbon INFO @ 19:03:54] 0.081961 kWh of electricity used since the beginning.\n[codecarbon INFO @ 19:03:58] Energy consumed for RAM : 0.007234 kWh. RAM Power : 10.2771635055542 W\n[codecarbon INFO @ 19:03:58] Energy consumed for all GPUs : 0.046402 kWh. Total GPU Power : 69.70541642272859 W\n[codecarbon INFO @ 19:03:58] Energy consumed for all CPUs : 0.029926 kWh. Total CPU Power : 42.5 W\n[codecarbon INFO @ 19:03:58] 0.083562 kWh of electricity used since the beginning.\n[codecarbon INFO @ 19:04:09] Energy consumed for RAM : 0.007063 kWh. RAM Power : 10.2771635055542 W\n[codecarbon INFO @ 19:04:09] Energy consumed for all GPUs : 0.046190 kWh. Total GPU Power : 69.64306701705561 W\n[codecarbon INFO @ 19:04:09] Energy consumed for all CPUs : 0.029218 kWh. Total CPU Power : 42.5 W\n[codecarbon INFO @ 19:04:09] 0.082471 kWh of electricity used since the beginning.\n[codecarbon INFO @ 19:04:13] Energy consumed for RAM : 0.007277 kWh. RAM Power : 10.2771635055542 W\n[codecarbon INFO @ 19:04:13] Energy consumed for all GPUs : 0.046689 kWh. Total GPU Power : 69.12255574044019 W\n[codecarbon INFO @ 19:04:13] Energy consumed for all CPUs : 0.030103 kWh. Total CPU Power : 42.5 W\n[codecarbon INFO @ 19:04:13] 0.084069 kWh of electricity used since the beginning.\n[codecarbon INFO @ 19:04:24] Energy consumed for RAM : 0.007106 kWh. RAM Power : 10.2771635055542 W\n[codecarbon INFO @ 19:04:24] Energy consumed for all GPUs : 0.046480 kWh. Total GPU Power : 69.62291951136791 W\n[codecarbon INFO @ 19:04:24] Energy consumed for all CPUs : 0.029395 kWh. Total CPU Power : 42.5 W\n[codecarbon INFO @ 19:04:24] 0.082981 kWh of electricity used since the beginning.\n[codecarbon INFO @ 19:04:28] Energy consumed for RAM : 0.007320 kWh. RAM Power : 10.2771635055542 W\n[codecarbon INFO @ 19:04:28] Energy consumed for all GPUs : 0.046979 kWh. Total GPU Power : 69.64075238415438 W\n[codecarbon INFO @ 19:04:28] Energy consumed for all CPUs : 0.030280 kWh. Total CPU Power : 42.5 W\n[codecarbon INFO @ 19:04:28] 0.084579 kWh of electricity used since the beginning.\n[codecarbon INFO @ 19:04:39] Energy consumed for RAM : 0.007149 kWh. RAM Power : 10.2771635055542 W\n[codecarbon INFO @ 19:04:39] Energy consumed for all GPUs : 0.046770 kWh. Total GPU Power : 69.67808757724937 W\n[codecarbon INFO @ 19:04:39] Energy consumed for all CPUs : 0.029572 kWh. Total CPU Power : 42.5 W\n[codecarbon INFO @ 19:04:39] 0.083491 kWh of electricity used since the beginning.\n[codecarbon INFO @ 19:04:43] Energy consumed for RAM : 0.007362 kWh. RAM Power : 10.2771635055542 W\n[codecarbon INFO @ 19:04:43] Energy consumed for all GPUs : 0.047270 kWh. Total GPU Power : 69.629669629768 W\n[codecarbon INFO @ 19:04:43] Energy consumed for all CPUs : 0.030457 kWh. Total CPU Power : 42.5 W\n[codecarbon INFO @ 19:04:43] 0.085089 kWh of electricity used since the beginning.\n[codecarbon INFO @ 19:04:54] Energy consumed for RAM : 0.007191 kWh. RAM Power : 10.2771635055542 W\n[codecarbon INFO @ 19:04:54] Energy consumed for all GPUs : 0.047060 kWh. Total GPU Power : 69.60817534633962 W\n[codecarbon INFO @ 19:04:54] Energy consumed for all CPUs : 0.029749 kWh. Total CPU Power : 42.5 W\n[codecarbon INFO @ 19:04:54] 0.084000 kWh of electricity used since the beginning.\n[codecarbon INFO @ 19:04:58] Energy consumed for RAM : 0.007405 kWh. RAM Power : 10.2771635055542 W\n[codecarbon INFO @ 19:04:58] Energy consumed for all GPUs : 0.047560 kWh. Total GPU Power : 69.65081124272668 W\n[codecarbon INFO @ 19:04:58] Energy consumed for all CPUs : 0.030634 kWh. Total CPU Power : 42.5 W\n[codecarbon INFO @ 19:04:58] 0.085599 kWh of electricity used since the beginning.\n[codecarbon INFO @ 19:05:09] Energy consumed for RAM : 0.007234 kWh. RAM Power : 10.2771635055542 W\n[codecarbon INFO @ 19:05:09] Energy consumed for all GPUs : 0.047350 kWh. Total GPU Power : 69.68047324532846 W\n[codecarbon INFO @ 19:05:09] Energy consumed for all CPUs : 0.029926 kWh. Total CPU Power : 42.5 W\n[codecarbon INFO @ 19:05:09] 0.084511 kWh of electricity used since the beginning.\n[codecarbon INFO @ 19:05:13] Energy consumed for RAM : 0.007448 kWh. RAM Power : 10.2771635055542 W\n[codecarbon INFO @ 19:05:13] Energy consumed for all GPUs : 0.047850 kWh. Total GPU Power : 69.64985906944736 W\n[codecarbon INFO @ 19:05:13] Energy consumed for all CPUs : 0.030811 kWh. Total CPU Power : 42.5 W\n[codecarbon INFO @ 19:05:13] 0.086109 kWh of electricity used since the beginning.\n[codecarbon INFO @ 19:05:24] Energy consumed for RAM : 0.007277 kWh. RAM Power : 10.2771635055542 W\n[codecarbon INFO @ 19:05:24] Energy consumed for all GPUs : 0.047640 kWh. Total GPU Power : 69.62316470012325 W\n[codecarbon INFO @ 19:05:24] Energy consumed for all CPUs : 0.030103 kWh. Total CPU Power : 42.5 W\n[codecarbon INFO @ 19:05:24] 0.085020 kWh of electricity used since the beginning.\n[codecarbon INFO @ 19:05:28] Energy consumed for RAM : 0.007491 kWh. RAM Power : 10.2771635055542 W\n[codecarbon INFO @ 19:05:28] Energy consumed for all GPUs : 0.048139 kWh. Total GPU Power : 69.54143413758497 W\n[codecarbon INFO @ 19:05:28] Energy consumed for all CPUs : 0.030989 kWh. Total CPU Power : 42.5 W\n[codecarbon INFO @ 19:05:28] 0.086619 kWh of electricity used since the beginning.\n[codecarbon INFO @ 19:05:39] Energy consumed for RAM : 0.007320 kWh. RAM Power : 10.2771635055542 W\n[codecarbon INFO @ 19:05:39] Energy consumed for all GPUs : 0.047930 kWh. Total GPU Power : 69.60047019507623 W\n[codecarbon INFO @ 19:05:39] Energy consumed for all CPUs : 0.030280 kWh. Total CPU Power : 42.5 W\n[codecarbon INFO @ 19:05:39] 0.085530 kWh of electricity used since the beginning.\n[codecarbon INFO @ 19:05:43] Energy consumed for RAM : 0.007534 kWh. RAM Power : 10.2771635055542 W\n[codecarbon INFO @ 19:05:43] Energy consumed for all GPUs : 0.048429 kWh. Total GPU Power : 69.65687770644126 W\n[codecarbon INFO @ 19:05:43] Energy consumed for all CPUs : 0.031166 kWh. Total CPU Power : 42.5 W\n[codecarbon INFO @ 19:05:43] 0.087129 kWh of electricity used since the beginning.\n[codecarbon INFO @ 19:05:54] Energy consumed for RAM : 0.007363 kWh. RAM Power : 10.2771635055542 W\n[codecarbon INFO @ 19:05:54] Energy consumed for all GPUs : 0.048220 kWh. Total GPU Power : 69.56850288187371 W\n[codecarbon INFO @ 19:05:54] Energy consumed for all CPUs : 0.030458 kWh. Total CPU Power : 42.5 W\n[codecarbon INFO @ 19:05:54] 0.086040 kWh of electricity used since the beginning.\n[codecarbon INFO @ 19:05:58] Energy consumed for RAM : 0.007576 kWh. RAM Power : 10.2771635055542 W\n[codecarbon INFO @ 19:05:58] Energy consumed for all GPUs : 0.048719 kWh. Total GPU Power : 69.58354082426202 W\n[codecarbon INFO @ 19:05:58] Energy consumed for all CPUs : 0.031343 kWh. Total CPU Power : 42.5 W\n[codecarbon INFO @ 19:05:58] 0.087638 kWh of electricity used since the beginning.\n[codecarbon INFO @ 19:06:09] Energy consumed for RAM : 0.007405 kWh. RAM Power : 10.2771635055542 W\n[codecarbon INFO @ 19:06:09] Energy consumed for all GPUs : 0.048510 kWh. Total GPU Power : 69.66274951536444 W\n[codecarbon INFO @ 19:06:09] Energy consumed for all CPUs : 0.030635 kWh. Total CPU Power : 42.5 W\n[codecarbon INFO @ 19:06:09] 0.086550 kWh of electricity used since the beginning.\n[codecarbon INFO @ 19:06:13] Energy consumed for RAM : 0.007619 kWh. RAM Power : 10.2771635055542 W\n[codecarbon INFO @ 19:06:13] Energy consumed for all GPUs : 0.049009 kWh. Total GPU Power : 69.59603596339467 W\n[codecarbon INFO @ 19:06:13] Energy consumed for all CPUs : 0.031520 kWh. Total CPU Power : 42.5 W\n[codecarbon INFO @ 19:06:13] 0.088148 kWh of electricity used since the beginning.\n[codecarbon INFO @ 19:06:24] Energy consumed for RAM : 0.007448 kWh. RAM Power : 10.2771635055542 W\n[codecarbon INFO @ 19:06:24] Energy consumed for all GPUs : 0.048800 kWh. Total GPU Power : 69.55092869474984 W\n[codecarbon INFO @ 19:06:24] Energy consumed for all CPUs : 0.030812 kWh. Total CPU Power : 42.5 W\n[codecarbon INFO @ 19:06:24] 0.087059 kWh of electricity used since the beginning.\n[codecarbon INFO @ 19:06:28] Energy consumed for RAM : 0.007662 kWh. RAM Power : 10.2771635055542 W\n[codecarbon INFO @ 19:06:28] Energy consumed for all GPUs : 0.049299 kWh. Total GPU Power : 69.59772344400714 W\n[codecarbon INFO @ 19:06:28] Energy consumed for all CPUs : 0.031697 kWh. Total CPU Power : 42.5 W\n[codecarbon INFO @ 19:06:28] 0.088658 kWh of electricity used since the beginning.\n[codecarbon INFO @ 19:06:39] Energy consumed for RAM : 0.007491 kWh. RAM Power : 10.2771635055542 W\n[codecarbon INFO @ 19:06:39] Energy consumed for all GPUs : 0.049089 kWh. Total GPU Power : 69.52851549412091 W\n[codecarbon INFO @ 19:06:39] Energy consumed for all CPUs : 0.030989 kWh. Total CPU Power : 42.5 W\n[codecarbon INFO @ 19:06:39] 0.087569 kWh of electricity used since the beginning.\n[codecarbon INFO @ 19:06:43] Energy consumed for RAM : 0.007705 kWh. RAM Power : 10.2771635055542 W\n[codecarbon INFO @ 19:06:43] Energy consumed for all GPUs : 0.049589 kWh. Total GPU Power : 69.57340994811767 W\n[codecarbon INFO @ 19:06:43] Energy consumed for all CPUs : 0.031874 kWh. Total CPU Power : 42.5 W\n[codecarbon INFO @ 19:06:43] 0.089167 kWh of electricity used since the beginning.\n[codecarbon INFO @ 19:06:54] Energy consumed for RAM : 0.007534 kWh. RAM Power : 10.2771635055542 W\n[codecarbon INFO @ 19:06:54] Energy consumed for all GPUs : 0.049379 kWh. Total GPU Power : 69.68163588345767 W\n[codecarbon INFO @ 19:06:54] Energy consumed for all CPUs : 0.031166 kWh. Total CPU Power : 42.5 W\n[codecarbon INFO @ 19:06:54] 0.088079 kWh of electricity used since the beginning.\n[codecarbon INFO @ 19:06:58] Energy consumed for RAM : 0.007748 kWh. RAM Power : 10.2771635055542 W\n[codecarbon INFO @ 19:06:58] Energy consumed for all GPUs : 0.049879 kWh. Total GPU Power : 69.6626523317891 W\n[codecarbon INFO @ 19:06:58] Energy consumed for all CPUs : 0.032051 kWh. Total CPU Power : 42.5 W\n[codecarbon INFO @ 19:06:58] 0.089678 kWh of electricity used since the beginning.\n[codecarbon INFO @ 19:07:09] Energy consumed for RAM : 0.007577 kWh. RAM Power : 10.2771635055542 W\n[codecarbon INFO @ 19:07:09] Energy consumed for all GPUs : 0.049670 kWh. Total GPU Power : 69.65892059480828 W\n[codecarbon INFO @ 19:07:09] Energy consumed for all CPUs : 0.031343 kWh. Total CPU Power : 42.5 W\n[codecarbon INFO @ 19:07:09] 0.088589 kWh of electricity used since the beginning.\n[codecarbon INFO @ 19:07:13] Energy consumed for RAM : 0.007790 kWh. RAM Power : 10.2771635055542 W\n[codecarbon INFO @ 19:07:13] Energy consumed for all GPUs : 0.050169 kWh. Total GPU Power : 69.6939429738593 W\n[codecarbon INFO @ 19:07:13] Energy consumed for all CPUs : 0.032228 kWh. Total CPU Power : 42.5 W\n[codecarbon INFO @ 19:07:13] 0.090188 kWh of electricity used since the beginning.\n[codecarbon INFO @ 19:07:24] Energy consumed for RAM : 0.007619 kWh. RAM Power : 10.2771635055542 W\n[codecarbon INFO @ 19:07:24] Energy consumed for all GPUs : 0.049960 kWh. Total GPU Power : 69.67173475670135 W\n[codecarbon INFO @ 19:07:24] Energy consumed for all CPUs : 0.031520 kWh. Total CPU Power : 42.5 W\n[codecarbon INFO @ 19:07:24] 0.089099 kWh of electricity used since the beginning.\n[codecarbon INFO @ 19:07:28] Energy consumed for RAM : 0.007833 kWh. RAM Power : 10.2771635055542 W\n[codecarbon INFO @ 19:07:28] Energy consumed for all GPUs : 0.050459 kWh. Total GPU Power : 69.58794916609438 W\n[codecarbon INFO @ 19:07:28] Energy consumed for all CPUs : 0.032405 kWh. Total CPU Power : 42.5 W\n[codecarbon INFO @ 19:07:28] 0.090697 kWh of electricity used since the beginning.\n[codecarbon INFO @ 19:07:39] Energy consumed for RAM : 0.007662 kWh. RAM Power : 10.2771635055542 W\n[codecarbon INFO @ 19:07:39] Energy consumed for all GPUs : 0.050250 kWh. Total GPU Power : 69.60806859072223 W\n[codecarbon INFO @ 19:07:39] Energy consumed for all CPUs : 0.031697 kWh. Total CPU Power : 42.5 W\n[codecarbon INFO @ 19:07:39] 0.089609 kWh of electricity used since the beginning.\n[codecarbon INFO @ 19:07:43] Energy consumed for RAM : 0.007876 kWh. RAM Power : 10.2771635055542 W\n[codecarbon INFO @ 19:07:43] Energy consumed for all GPUs : 0.050749 kWh. Total GPU Power : 69.62597246249338 W\n[codecarbon INFO @ 19:07:43] Energy consumed for all CPUs : 0.032582 kWh. Total CPU Power : 42.5 W\n[codecarbon INFO @ 19:07:43] 0.091207 kWh of electricity used since the beginning.\n[codecarbon INFO @ 19:07:54] Energy consumed for RAM : 0.007705 kWh. RAM Power : 10.2771635055542 W\n[codecarbon INFO @ 19:07:54] Energy consumed for all GPUs : 0.050539 kWh. Total GPU Power : 69.55243543926916 W\n[codecarbon INFO @ 19:07:54] Energy consumed for all CPUs : 0.031874 kWh. Total CPU Power : 42.5 W\n[codecarbon INFO @ 19:07:54] 0.090119 kWh of electricity used since the beginning.\n[codecarbon INFO @ 19:07:58] Energy consumed for RAM : 0.007919 kWh. RAM Power : 10.2771635055542 W\n[codecarbon INFO @ 19:07:58] Energy consumed for all GPUs : 0.051039 kWh. Total GPU Power : 69.52536989189531 W\n[codecarbon INFO @ 19:07:58] Energy consumed for all CPUs : 0.032759 kWh. Total CPU Power : 42.5 W\n[codecarbon INFO @ 19:07:58] 0.091717 kWh of electricity used since the beginning.\n[codecarbon INFO @ 19:08:09] Energy consumed for RAM : 0.007748 kWh. RAM Power : 10.2771635055542 W\n[codecarbon INFO @ 19:08:09] Energy consumed for all GPUs : 0.050829 kWh. Total GPU Power : 69.5414120719369 W\n[codecarbon INFO @ 19:08:09] Energy consumed for all CPUs : 0.032051 kWh. Total CPU Power : 42.5 W\n[codecarbon INFO @ 19:08:09] 0.090628 kWh of electricity used since the beginning.\n[codecarbon INFO @ 19:08:13] Energy consumed for RAM : 0.007962 kWh. RAM Power : 10.2771635055542 W\n[codecarbon INFO @ 19:08:13] Energy consumed for all GPUs : 0.051318 kWh. Total GPU Power : 67.13635042395954 W\n[codecarbon INFO @ 19:08:13] Energy consumed for all CPUs : 0.032936 kWh. Total CPU Power : 42.5 W\n[codecarbon INFO @ 19:08:13] 0.092216 kWh of electricity used since the beginning.\n[codecarbon INFO @ 19:08:24] Energy consumed for RAM : 0.007791 kWh. RAM Power : 10.2771635055542 W\n[codecarbon INFO @ 19:08:24] Energy consumed for all GPUs : 0.050985 kWh. Total GPU Power : 37.46834368399056 W\n[codecarbon INFO @ 19:08:24] Energy consumed for all CPUs : 0.032228 kWh. Total CPU Power : 42.5 W\n[codecarbon INFO @ 19:08:24] 0.091004 kWh of electricity used since the beginning.\n[codecarbon INFO @ 19:08:28] Energy consumed for RAM : 0.008004 kWh. RAM Power : 10.2771635055542 W\n[codecarbon INFO @ 19:08:28] Energy consumed for all GPUs : 0.051441 kWh. Total GPU Power : 29.35163356721251 W\n[codecarbon INFO @ 19:08:28] Energy consumed for all CPUs : 0.033113 kWh. Total CPU Power : 42.5 W\n[codecarbon INFO @ 19:08:28] 0.092559 kWh of electricity used since the beginning.\n[codecarbon INFO @ 19:08:39] Energy consumed for RAM : 0.007833 kWh. RAM Power : 10.2771635055542 W\n[codecarbon INFO @ 19:08:39] Energy consumed for all GPUs : 0.051104 kWh. Total GPU Power : 28.47583519275787 W\n[codecarbon INFO @ 19:08:39] Energy consumed for all CPUs : 0.032405 kWh. Total CPU Power : 42.5 W\n[codecarbon INFO @ 19:08:39] 0.091343 kWh of electricity used since the beginning.\n[codecarbon INFO @ 19:08:43] Energy consumed for RAM : 0.008047 kWh. RAM Power : 10.2771635055542 W\n[codecarbon INFO @ 19:08:43] Energy consumed for all GPUs : 0.051560 kWh. Total GPU Power : 28.532258068369067 W\n[codecarbon INFO @ 19:08:43] Energy consumed for all CPUs : 0.033290 kWh. Total CPU Power : 42.5 W\n[codecarbon INFO @ 19:08:43] 0.092897 kWh of electricity used since the beginning.\n[codecarbon INFO @ 19:08:54] Energy consumed for RAM : 0.007876 kWh. RAM Power : 10.2771635055542 W\n[codecarbon INFO @ 19:08:54] Energy consumed for all GPUs : 0.051221 kWh. Total GPU Power : 28.030716628112 W\n[codecarbon INFO @ 19:08:54] Energy consumed for all CPUs : 0.032582 kWh. Total CPU Power : 42.5 W\n[codecarbon INFO @ 19:08:54] 0.091679 kWh of electricity used since the beginning.\n[codecarbon INFO @ 19:08:58] Energy consumed for RAM : 0.008090 kWh. RAM Power : 10.2771635055542 W\n[codecarbon INFO @ 19:08:58] Energy consumed for all GPUs : 0.051676 kWh. Total GPU Power : 27.93260892528879 W\n[codecarbon INFO @ 19:08:58] Energy consumed for all CPUs : 0.033467 kWh. Total CPU Power : 42.5 W\n[codecarbon INFO @ 19:08:58] 0.093233 kWh of electricity used since the beginning.\n[codecarbon INFO @ 19:09:09] Energy consumed for RAM : 0.007919 kWh. RAM Power : 10.2771635055542 W\n[codecarbon INFO @ 19:09:09] Energy consumed for all GPUs : 0.051337 kWh. Total GPU Power : 27.903668174799144 W\n[codecarbon INFO @ 19:09:09] Energy consumed for all CPUs : 0.032760 kWh. Total CPU Power : 42.5 W\n[codecarbon INFO @ 19:09:09] 0.092015 kWh of electricity used since the beginning.\n[codecarbon INFO @ 19:09:13] Energy consumed for RAM : 0.008133 kWh. RAM Power : 10.2771635055542 W\n[codecarbon INFO @ 19:09:13] Energy consumed for all GPUs : 0.051791 kWh. Total GPU Power : 27.678127039656736 W\n[codecarbon INFO @ 19:09:13] Energy consumed for all CPUs : 0.033645 kWh. Total CPU Power : 42.5 W\n[codecarbon INFO @ 19:09:13] 0.093569 kWh of electricity used since the beginning.\n[codecarbon INFO @ 19:09:24] Energy consumed for RAM : 0.007962 kWh. RAM Power : 10.2771635055542 W\n[codecarbon INFO @ 19:09:24] Energy consumed for all GPUs : 0.051452 kWh. Total GPU Power : 27.567103372861748 W\n[codecarbon INFO @ 19:09:24] Energy consumed for all CPUs : 0.032937 kWh. Total CPU Power : 42.5 W\n[codecarbon INFO @ 19:09:24] 0.092350 kWh of electricity used since the beginning.\n[codecarbon INFO @ 19:09:28] Energy consumed for RAM : 0.008176 kWh. RAM Power : 10.2771635055542 W\n[codecarbon INFO @ 19:09:28] Energy consumed for all GPUs : 0.051907 kWh. Total GPU Power : 27.70262628545436 W\n[codecarbon INFO @ 19:09:28] Energy consumed for all CPUs : 0.033822 kWh. Total CPU Power : 42.5 W\n[codecarbon INFO @ 19:09:28] 0.093904 kWh of electricity used since the beginning.\n[codecarbon INFO @ 19:09:39] Energy consumed for RAM : 0.008005 kWh. RAM Power : 10.2771635055542 W\n[codecarbon INFO @ 19:09:39] Energy consumed for all GPUs : 0.051566 kWh. Total GPU Power : 27.401686466241106 W\n[codecarbon INFO @ 19:09:39] Energy consumed for all CPUs : 0.033114 kWh. Total CPU Power : 42.5 W\n[codecarbon INFO @ 19:09:39] 0.092684 kWh of electricity used since the beginning.\n[codecarbon INFO @ 19:09:43] Energy consumed for RAM : 0.008218 kWh. RAM Power : 10.2771635055542 W\n[codecarbon INFO @ 19:09:43] Energy consumed for all GPUs : 0.052021 kWh. Total GPU Power : 27.349743184323227 W\n[codecarbon INFO @ 19:09:43] Energy consumed for all CPUs : 0.033999 kWh. Total CPU Power : 42.5 W\n[codecarbon INFO @ 19:09:43] 0.094238 kWh of electricity used since the beginning.\n[codecarbon INFO @ 19:09:54] Energy consumed for RAM : 0.008047 kWh. RAM Power : 10.2771635055542 W\n[codecarbon INFO @ 19:09:54] Energy consumed for all GPUs : 0.051680 kWh. Total GPU Power : 27.39596885767941 W\n[codecarbon INFO @ 19:09:54] Energy consumed for all CPUs : 0.033291 kWh. Total CPU Power : 42.5 W\n[codecarbon INFO @ 19:09:54] 0.093018 kWh of electricity used since the beginning.\n[codecarbon INFO @ 19:09:58] Energy consumed for RAM : 0.008261 kWh. RAM Power : 10.2771635055542 W\n[codecarbon INFO @ 19:09:58] Energy consumed for all GPUs : 0.052134 kWh. Total GPU Power : 27.195190113001082 W\n[codecarbon INFO @ 19:09:58] Energy consumed for all CPUs : 0.034176 kWh. Total CPU Power : 42.5 W\n[codecarbon INFO @ 19:09:58] 0.094571 kWh of electricity used since the beginning.\n[codecarbon INFO @ 19:10:09] Energy consumed for RAM : 0.008090 kWh. RAM Power : 10.2771635055542 W\n[codecarbon INFO @ 19:10:09] Energy consumed for all GPUs : 0.051793 kWh. Total GPU Power : 27.08855458568246 W\n[codecarbon INFO @ 19:10:09] Energy consumed for all CPUs : 0.033468 kWh. Total CPU Power : 42.5 W\n[codecarbon INFO @ 19:10:09] 0.093351 kWh of electricity used since the beginning.\n[codecarbon INFO @ 19:10:13] Energy consumed for RAM : 0.008304 kWh. RAM Power : 10.2771635055542 W\n[codecarbon INFO @ 19:10:13] Energy consumed for all GPUs : 0.052251 kWh. Total GPU Power : 28.031561825834416 W\n[codecarbon INFO @ 19:10:13] Energy consumed for all CPUs : 0.034353 kWh. Total CPU Power : 42.5 W\n[codecarbon INFO @ 19:10:13] 0.094908 kWh of electricity used since the beginning.\n[codecarbon INFO @ 19:10:24] Energy consumed for RAM : 0.008133 kWh. RAM Power : 10.2771635055542 W\n[codecarbon INFO @ 19:10:24] Energy consumed for all GPUs : 0.052041 kWh. Total GPU Power : 59.664572338539145 W\n[codecarbon INFO @ 19:10:24] Energy consumed for all CPUs : 0.033645 kWh. Total CPU Power : 42.5 W\n[codecarbon INFO @ 19:10:24] 0.093819 kWh of electricity used since the beginning.\n[codecarbon INFO @ 19:10:28] Energy consumed for RAM : 0.008347 kWh. RAM Power : 10.2771635055542 W\n[codecarbon INFO @ 19:10:28] Energy consumed for all GPUs : 0.052541 kWh. Total GPU Power : 69.6606512297596 W\n[codecarbon INFO @ 19:10:28] Energy consumed for all CPUs : 0.034530 kWh. Total CPU Power : 42.5 W\n[codecarbon INFO @ 19:10:28] 0.095418 kWh of electricity used since the beginning.\n[codecarbon INFO @ 19:10:39] Energy consumed for RAM : 0.008176 kWh. RAM Power : 10.2771635055542 W\n[codecarbon INFO @ 19:10:39] Energy consumed for all GPUs : 0.052332 kWh. Total GPU Power : 69.67261891796284 W\n[codecarbon INFO @ 19:10:39] Energy consumed for all CPUs : 0.033822 kWh. Total CPU Power : 42.5 W\n[codecarbon INFO @ 19:10:39] 0.094329 kWh of electricity used since the beginning.\n[codecarbon INFO @ 19:10:43] Energy consumed for RAM : 0.008390 kWh. RAM Power : 10.2771635055542 W\n[codecarbon INFO @ 19:10:43] Energy consumed for all GPUs : 0.052831 kWh. Total GPU Power : 69.77819859662586 W\n[codecarbon INFO @ 19:10:43] Energy consumed for all CPUs : 0.034707 kWh. Total CPU Power : 42.5 W\n[codecarbon INFO @ 19:10:43] 0.095928 kWh of electricity used since the beginning.\n/anaconda/envs/azureml_py38/lib/python3.8/site-packages/sklearn/metrics/_classification.py:1272: UndefinedMetricWarning: Precision is ill-defined and being set to 0.0 in samples with no predicted labels. Use `zero_division` parameter to control this behavior.\n  _warn_prf(average, modifier, msg_start, len(result))\n/anaconda/envs/azureml_py38/lib/python3.8/site-packages/sklearn/metrics/_classification.py:1272: UndefinedMetricWarning: Recall is ill-defined and being set to 0.0 in samples with no true labels. Use `zero_division` parameter to control this behavior.\n  _warn_prf(average, modifier, msg_start, len(result))\n/anaconda/envs/azureml_py38/lib/python3.8/site-packages/sklearn/metrics/_classification.py:1514: UndefinedMetricWarning: F-score is ill-defined and being set to 0.0 in samples with no true nor predicted labels. Use `zero_division` parameter to control this behavior.\n  _warn_prf(\n[codecarbon INFO @ 19:10:54] Energy consumed for RAM : 0.008219 kWh. RAM Power : 10.2771635055542 W\n[codecarbon INFO @ 19:10:54] Energy consumed for all GPUs : 0.052515 kWh. Total GPU Power : 44.06082521585087 W\n[codecarbon INFO @ 19:10:54] Energy consumed for all CPUs : 0.033999 kWh. Total CPU Power : 42.5 W\n[codecarbon INFO @ 19:10:54] 0.094733 kWh of electricity used since the beginning.\n[codecarbon INFO @ 19:10:58] Energy consumed for RAM : 0.008432 kWh. RAM Power : 10.2771635055542 W\n[codecarbon INFO @ 19:10:58] Energy consumed for all GPUs : 0.053016 kWh. Total GPU Power : 44.43058116167761 W\n[codecarbon INFO @ 19:10:58] Energy consumed for all CPUs : 0.034884 kWh. Total CPU Power : 42.5 W\n[codecarbon INFO @ 19:10:58] 0.096333 kWh of electricity used since the beginning.\n[codecarbon INFO @ 19:11:09] Energy consumed for RAM : 0.008261 kWh. RAM Power : 10.2771635055542 W\n[codecarbon INFO @ 19:11:09] Energy consumed for all GPUs : 0.052787 kWh. Total GPU Power : 65.14525665621714 W\n[codecarbon INFO @ 19:11:09] Energy consumed for all CPUs : 0.034176 kWh. Total CPU Power : 42.5 W\n[codecarbon INFO @ 19:11:09] 0.095224 kWh of electricity used since the beginning.\n[codecarbon INFO @ 19:11:13] Energy consumed for RAM : 0.008475 kWh. RAM Power : 10.2771635055542 W\n[codecarbon INFO @ 19:11:13] Energy consumed for all GPUs : 0.053286 kWh. Total GPU Power : 64.72864150152836 W\n[codecarbon INFO @ 19:11:13] Energy consumed for all CPUs : 0.035061 kWh. Total CPU Power : 42.5 W\n[codecarbon INFO @ 19:11:13] 0.096822 kWh of electricity used since the beginning.\n[codecarbon INFO @ 19:11:24] Energy consumed for RAM : 0.008304 kWh. RAM Power : 10.2771635055542 W\n[codecarbon INFO @ 19:11:24] Energy consumed for all GPUs : 0.053076 kWh. Total GPU Power : 69.5666558603908 W\n[codecarbon INFO @ 19:11:24] Energy consumed for all CPUs : 0.034353 kWh. Total CPU Power : 42.5 W\n[codecarbon INFO @ 19:11:24] 0.095734 kWh of electricity used since the beginning.\n[codecarbon INFO @ 19:11:28] Energy consumed for RAM : 0.008518 kWh. RAM Power : 10.2771635055542 W\n[codecarbon INFO @ 19:11:28] Energy consumed for all GPUs : 0.053576 kWh. Total GPU Power : 69.61054820519581 W\n[codecarbon INFO @ 19:11:28] Energy consumed for all CPUs : 0.035238 kWh. Total CPU Power : 42.5 W\n[codecarbon INFO @ 19:11:28] 0.097332 kWh of electricity used since the beginning.\n[codecarbon INFO @ 19:11:39] Energy consumed for RAM : 0.008347 kWh. RAM Power : 10.2771635055542 W\n[codecarbon INFO @ 19:11:39] Energy consumed for all GPUs : 0.053364 kWh. Total GPU Power : 69.14171055654462 W\n[codecarbon INFO @ 19:11:39] Energy consumed for all CPUs : 0.034530 kWh. Total CPU Power : 42.5 W\n[codecarbon INFO @ 19:11:39] 0.096242 kWh of electricity used since the beginning.\n[codecarbon INFO @ 19:11:43] Energy consumed for RAM : 0.008561 kWh. RAM Power : 10.2771635055542 W\n[codecarbon INFO @ 19:11:43] Energy consumed for all GPUs : 0.053866 kWh. Total GPU Power : 69.65939230808299 W\n[codecarbon INFO @ 19:11:43] Energy consumed for all CPUs : 0.035415 kWh. Total CPU Power : 42.5 W\n[codecarbon INFO @ 19:11:43] 0.097842 kWh of electricity used since the beginning.\n[codecarbon INFO @ 19:11:54] Energy consumed for RAM : 0.008390 kWh. RAM Power : 10.2771635055542 W\n[codecarbon INFO @ 19:11:54] Energy consumed for all GPUs : 0.053654 kWh. Total GPU Power : 69.58869765119078 W\n[codecarbon INFO @ 19:11:54] Energy consumed for all CPUs : 0.034707 kWh. Total CPU Power : 42.5 W\n[codecarbon INFO @ 19:11:54] 0.096751 kWh of electricity used since the beginning.\n[codecarbon INFO @ 19:11:58] Energy consumed for RAM : 0.008604 kWh. RAM Power : 10.2771635055542 W\n[codecarbon INFO @ 19:11:58] Energy consumed for all GPUs : 0.054155 kWh. Total GPU Power : 69.50248170264523 W\n[codecarbon INFO @ 19:11:58] Energy consumed for all CPUs : 0.035592 kWh. Total CPU Power : 42.5 W\n[codecarbon INFO @ 19:11:58] 0.098352 kWh of electricity used since the beginning.\n[codecarbon INFO @ 19:12:09] Energy consumed for RAM : 0.008433 kWh. RAM Power : 10.2771635055542 W\n[codecarbon INFO @ 19:12:09] Energy consumed for all GPUs : 0.053944 kWh. Total GPU Power : 69.59242427089004 W\n[codecarbon INFO @ 19:12:09] Energy consumed for all CPUs : 0.034884 kWh. Total CPU Power : 42.5 W\n[codecarbon INFO @ 19:12:09] 0.097261 kWh of electricity used since the beginning.\n[codecarbon INFO @ 19:12:13] Energy consumed for RAM : 0.008646 kWh. RAM Power : 10.2771635055542 W\n[codecarbon INFO @ 19:12:13] Energy consumed for all GPUs : 0.054445 kWh. Total GPU Power : 69.60950886535436 W\n[codecarbon INFO @ 19:12:13] Energy consumed for all CPUs : 0.035770 kWh. Total CPU Power : 42.5 W\n[codecarbon INFO @ 19:12:13] 0.098861 kWh of electricity used since the beginning.\n[codecarbon INFO @ 19:12:24] Energy consumed for RAM : 0.008476 kWh. RAM Power : 10.2771635055542 W\n[codecarbon INFO @ 19:12:24] Energy consumed for all GPUs : 0.054234 kWh. Total GPU Power : 69.58828965516 W\n[codecarbon INFO @ 19:12:24] Energy consumed for all CPUs : 0.035062 kWh. Total CPU Power : 42.5 W\n[codecarbon INFO @ 19:12:24] 0.097771 kWh of electricity used since the beginning.\n[codecarbon INFO @ 19:12:28] Energy consumed for RAM : 0.008689 kWh. RAM Power : 10.2771635055542 W\n[codecarbon INFO @ 19:12:28] Energy consumed for all GPUs : 0.054735 kWh. Total GPU Power : 69.59686092529047 W\n[codecarbon INFO @ 19:12:28] Energy consumed for all CPUs : 0.035947 kWh. Total CPU Power : 42.5 W\n[codecarbon INFO @ 19:12:28] 0.099371 kWh of electricity used since the beginning.\n[codecarbon INFO @ 19:12:39] Energy consumed for RAM : 0.008518 kWh. RAM Power : 10.2771635055542 W\n[codecarbon INFO @ 19:12:39] Energy consumed for all GPUs : 0.054524 kWh. Total GPU Power : 69.50177481270318 W\n[codecarbon INFO @ 19:12:39] Energy consumed for all CPUs : 0.035239 kWh. Total CPU Power : 42.5 W\n[codecarbon INFO @ 19:12:39] 0.098280 kWh of electricity used since the beginning.\n[codecarbon INFO @ 19:12:43] Energy consumed for RAM : 0.008732 kWh. RAM Power : 10.2771635055542 W\n[codecarbon INFO @ 19:12:43] Energy consumed for all GPUs : 0.055025 kWh. Total GPU Power : 69.63913598097471 W\n[codecarbon INFO @ 19:12:43] Energy consumed for all CPUs : 0.036124 kWh. Total CPU Power : 42.5 W\n[codecarbon INFO @ 19:12:43] 0.099881 kWh of electricity used since the beginning.\n[codecarbon INFO @ 19:12:54] Energy consumed for RAM : 0.008561 kWh. RAM Power : 10.2771635055542 W\n[codecarbon INFO @ 19:12:54] Energy consumed for all GPUs : 0.054814 kWh. Total GPU Power : 69.81003773344422 W\n[codecarbon INFO @ 19:12:54] Energy consumed for all CPUs : 0.035416 kWh. Total CPU Power : 42.5 W\n[codecarbon INFO @ 19:12:54] 0.098791 kWh of electricity used since the beginning.\n[codecarbon INFO @ 19:12:58] Energy consumed for RAM : 0.008775 kWh. RAM Power : 10.2771635055542 W\n[codecarbon INFO @ 19:12:58] Energy consumed for all GPUs : 0.055314 kWh. Total GPU Power : 69.26598154507653 W\n[codecarbon INFO @ 19:12:58] Energy consumed for all CPUs : 0.036301 kWh. Total CPU Power : 42.5 W\n[codecarbon INFO @ 19:12:58] 0.100389 kWh of electricity used since the beginning.\n[codecarbon INFO @ 19:13:09] Energy consumed for RAM : 0.008604 kWh. RAM Power : 10.2771635055542 W\n[codecarbon INFO @ 19:13:09] Energy consumed for all GPUs : 0.055104 kWh. Total GPU Power : 69.54531572664888 W\n[codecarbon INFO @ 19:13:09] Energy consumed for all CPUs : 0.035593 kWh. Total CPU Power : 42.5 W\n[codecarbon INFO @ 19:13:09] 0.099301 kWh of electricity used since the beginning.\n[codecarbon INFO @ 19:13:13] Energy consumed for RAM : 0.008818 kWh. RAM Power : 10.2771635055542 W\n[codecarbon INFO @ 19:13:13] Energy consumed for all GPUs : 0.055603 kWh. Total GPU Power : 69.58269436639986 W\n[codecarbon INFO @ 19:13:13] Energy consumed for all CPUs : 0.036478 kWh. Total CPU Power : 42.5 W\n[codecarbon INFO @ 19:13:13] 0.100899 kWh of electricity used since the beginning.\n[codecarbon INFO @ 19:13:24] Energy consumed for RAM : 0.008647 kWh. RAM Power : 10.2771635055542 W\n[codecarbon INFO @ 19:13:24] Energy consumed for all GPUs : 0.055394 kWh. Total GPU Power : 69.57358036089306 W\n[codecarbon INFO @ 19:13:24] Energy consumed for all CPUs : 0.035770 kWh. Total CPU Power : 42.5 W\n[codecarbon INFO @ 19:13:24] 0.099810 kWh of electricity used since the beginning.\n[codecarbon INFO @ 19:13:28] Energy consumed for RAM : 0.008860 kWh. RAM Power : 10.2771635055542 W\n[codecarbon INFO @ 19:13:28] Energy consumed for all GPUs : 0.055895 kWh. Total GPU Power : 70.02823815236364 W\n[codecarbon INFO @ 19:13:28] Energy consumed for all CPUs : 0.036655 kWh. Total CPU Power : 42.5 W\n[codecarbon INFO @ 19:13:28] 0.101411 kWh of electricity used since the beginning.\n[codecarbon INFO @ 19:13:39] Energy consumed for RAM : 0.008690 kWh. RAM Power : 10.2771635055542 W\n[codecarbon INFO @ 19:13:39] Energy consumed for all GPUs : 0.055684 kWh. Total GPU Power : 69.62503490524347 W\n[codecarbon INFO @ 19:13:39] Energy consumed for all CPUs : 0.035947 kWh. Total CPU Power : 42.5 W\n[codecarbon INFO @ 19:13:39] 0.100320 kWh of electricity used since the beginning.\n[codecarbon INFO @ 19:13:43] Energy consumed for RAM : 0.008903 kWh. RAM Power : 10.2771635055542 W\n[codecarbon INFO @ 19:13:43] Energy consumed for all GPUs : 0.056185 kWh. Total GPU Power : 69.62351922086646 W\n[codecarbon INFO @ 19:13:43] Energy consumed for all CPUs : 0.036832 kWh. Total CPU Power : 42.5 W\n[codecarbon INFO @ 19:13:43] 0.101920 kWh of electricity used since the beginning.\n[codecarbon INFO @ 19:13:54] Energy consumed for RAM : 0.008732 kWh. RAM Power : 10.2771635055542 W\n[codecarbon INFO @ 19:13:54] Energy consumed for all GPUs : 0.055974 kWh. Total GPU Power : 69.65456070824227 W\n[codecarbon INFO @ 19:13:54] Energy consumed for all CPUs : 0.036124 kWh. Total CPU Power : 42.5 W\n[codecarbon INFO @ 19:13:54] 0.100830 kWh of electricity used since the beginning.\n[codecarbon INFO @ 19:13:58] Energy consumed for RAM : 0.008946 kWh. RAM Power : 10.2771635055542 W\n[codecarbon INFO @ 19:13:58] Energy consumed for all GPUs : 0.056473 kWh. Total GPU Power : 69.170642753541 W\n[codecarbon INFO @ 19:13:58] Energy consumed for all CPUs : 0.037009 kWh. Total CPU Power : 42.5 W\n[codecarbon INFO @ 19:13:58] 0.102428 kWh of electricity used since the beginning.\n[codecarbon INFO @ 19:14:09] Energy consumed for RAM : 0.008775 kWh. RAM Power : 10.2771635055542 W\n[codecarbon INFO @ 19:14:09] Energy consumed for all GPUs : 0.056264 kWh. Total GPU Power : 69.69067028494305 W\n[codecarbon INFO @ 19:14:09] Energy consumed for all CPUs : 0.036301 kWh. Total CPU Power : 42.5 W\n[codecarbon INFO @ 19:14:09] 0.101341 kWh of electricity used since the beginning.\n[codecarbon INFO @ 19:14:13] Energy consumed for RAM : 0.008989 kWh. RAM Power : 10.2771635055542 W\n[codecarbon INFO @ 19:14:13] Energy consumed for all GPUs : 0.056764 kWh. Total GPU Power : 69.68424822054916 W\n[codecarbon INFO @ 19:14:13] Energy consumed for all CPUs : 0.037186 kWh. Total CPU Power : 42.5 W\n[codecarbon INFO @ 19:14:13] 0.102939 kWh of electricity used since the beginning.\n[codecarbon INFO @ 19:14:24] Energy consumed for RAM : 0.008818 kWh. RAM Power : 10.2771635055542 W\n[codecarbon INFO @ 19:14:24] Energy consumed for all GPUs : 0.056554 kWh. Total GPU Power : 69.55112679229124 W\n[codecarbon INFO @ 19:14:24] Energy consumed for all CPUs : 0.036478 kWh. Total CPU Power : 42.5 W\n[codecarbon INFO @ 19:14:24] 0.101850 kWh of electricity used since the beginning.\n[codecarbon INFO @ 19:14:28] Energy consumed for RAM : 0.009032 kWh. RAM Power : 10.2771635055542 W\n[codecarbon INFO @ 19:14:28] Energy consumed for all GPUs : 0.057054 kWh. Total GPU Power : 69.59500365823429 W\n[codecarbon INFO @ 19:14:28] Energy consumed for all CPUs : 0.037363 kWh. Total CPU Power : 42.5 W\n[codecarbon INFO @ 19:14:28] 0.103448 kWh of electricity used since the beginning.\n[codecarbon INFO @ 19:14:39] Energy consumed for RAM : 0.008861 kWh. RAM Power : 10.2771635055542 W\n[codecarbon INFO @ 19:14:39] Energy consumed for all GPUs : 0.056844 kWh. Total GPU Power : 69.63487847927722 W\n[codecarbon INFO @ 19:14:39] Energy consumed for all CPUs : 0.036655 kWh. Total CPU Power : 42.5 W\n[codecarbon INFO @ 19:14:39] 0.102360 kWh of electricity used since the beginning.\n[codecarbon INFO @ 19:14:43] Energy consumed for RAM : 0.009075 kWh. RAM Power : 10.2771635055542 W\n[codecarbon INFO @ 19:14:43] Energy consumed for all GPUs : 0.057344 kWh. Total GPU Power : 69.63127452673858 W\n[codecarbon INFO @ 19:14:43] Energy consumed for all CPUs : 0.037540 kWh. Total CPU Power : 42.5 W\n[codecarbon INFO @ 19:14:43] 0.103958 kWh of electricity used since the beginning.\n[codecarbon INFO @ 19:14:54] Energy consumed for RAM : 0.008904 kWh. RAM Power : 10.2771635055542 W\n[codecarbon INFO @ 19:14:54] Energy consumed for all GPUs : 0.057134 kWh. Total GPU Power : 69.58143966326269 W\n[codecarbon INFO @ 19:14:54] Energy consumed for all CPUs : 0.036832 kWh. Total CPU Power : 42.5 W\n[codecarbon INFO @ 19:14:54] 0.102870 kWh of electricity used since the beginning.\n[codecarbon INFO @ 19:14:58] Energy consumed for RAM : 0.009117 kWh. RAM Power : 10.2771635055542 W\n[codecarbon INFO @ 19:14:58] Energy consumed for all GPUs : 0.057635 kWh. Total GPU Power : 70.04759897793329 W\n[codecarbon INFO @ 19:14:58] Energy consumed for all CPUs : 0.037717 kWh. Total CPU Power : 42.5 W\n[codecarbon INFO @ 19:14:58] 0.104470 kWh of electricity used since the beginning.\n[codecarbon INFO @ 19:15:09] Energy consumed for RAM : 0.008946 kWh. RAM Power : 10.2771635055542 W\n[codecarbon INFO @ 19:15:09] Energy consumed for all GPUs : 0.057424 kWh. Total GPU Power : 69.63489529404994 W\n[codecarbon INFO @ 19:15:09] Energy consumed for all CPUs : 0.037009 kWh. Total CPU Power : 42.5 W\n[codecarbon INFO @ 19:15:09] 0.103379 kWh of electricity used since the beginning.\n[codecarbon INFO @ 19:15:13] Energy consumed for RAM : 0.009160 kWh. RAM Power : 10.2771635055542 W\n[codecarbon INFO @ 19:15:13] Energy consumed for all GPUs : 0.057923 kWh. Total GPU Power : 69.1751327362633 W\n[codecarbon INFO @ 19:15:13] Energy consumed for all CPUs : 0.037894 kWh. Total CPU Power : 42.5 W\n[codecarbon INFO @ 19:15:13] 0.104978 kWh of electricity used since the beginning.\n[codecarbon INFO @ 19:15:24] Energy consumed for RAM : 0.008989 kWh. RAM Power : 10.2771635055542 W\n[codecarbon INFO @ 19:15:24] Energy consumed for all GPUs : 0.057714 kWh. Total GPU Power : 69.63223680026056 W\n[codecarbon INFO @ 19:15:24] Energy consumed for all CPUs : 0.037186 kWh. Total CPU Power : 42.5 W\n[codecarbon INFO @ 19:15:24] 0.103889 kWh of electricity used since the beginning.\n[codecarbon INFO @ 19:15:28] Energy consumed for RAM : 0.009203 kWh. RAM Power : 10.2771635055542 W\n[codecarbon INFO @ 19:15:28] Energy consumed for all GPUs : 0.058213 kWh. Total GPU Power : 69.56128140620791 W\n[codecarbon INFO @ 19:15:28] Energy consumed for all CPUs : 0.038071 kWh. Total CPU Power : 42.5 W\n[codecarbon INFO @ 19:15:28] 0.105488 kWh of electricity used since the beginning.\n[codecarbon INFO @ 19:15:39] Energy consumed for RAM : 0.009032 kWh. RAM Power : 10.2771635055542 W\n[codecarbon INFO @ 19:15:39] Energy consumed for all GPUs : 0.058004 kWh. Total GPU Power : 69.60114283446428 W\n[codecarbon INFO @ 19:15:39] Energy consumed for all CPUs : 0.037364 kWh. Total CPU Power : 42.5 W\n[codecarbon INFO @ 19:15:39] 0.104399 kWh of electricity used since the beginning.\n[codecarbon INFO @ 19:15:43] Energy consumed for RAM : 0.009246 kWh. RAM Power : 10.2771635055542 W\n[codecarbon INFO @ 19:15:43] Energy consumed for all GPUs : 0.058503 kWh. Total GPU Power : 69.58419482420223 W\n[codecarbon INFO @ 19:15:43] Energy consumed for all CPUs : 0.038249 kWh. Total CPU Power : 42.5 W\n[codecarbon INFO @ 19:15:43] 0.105997 kWh of electricity used since the beginning.\n[codecarbon INFO @ 19:15:54] Energy consumed for RAM : 0.009075 kWh. RAM Power : 10.2771635055542 W\n[codecarbon INFO @ 19:15:54] Energy consumed for all GPUs : 0.058294 kWh. Total GPU Power : 69.65088617811477 W\n[codecarbon INFO @ 19:15:54] Energy consumed for all CPUs : 0.037541 kWh. Total CPU Power : 42.5 W\n[codecarbon INFO @ 19:15:54] 0.104909 kWh of electricity used since the beginning.\n[codecarbon INFO @ 19:15:58] Energy consumed for RAM : 0.009289 kWh. RAM Power : 10.2771635055542 W\n[codecarbon INFO @ 19:15:58] Energy consumed for all GPUs : 0.058793 kWh. Total GPU Power : 69.60374589496315 W\n[codecarbon INFO @ 19:15:58] Energy consumed for all CPUs : 0.038426 kWh. Total CPU Power : 42.5 W\n[codecarbon INFO @ 19:15:58] 0.106507 kWh of electricity used since the beginning.\n[codecarbon INFO @ 19:16:09] Energy consumed for RAM : 0.009118 kWh. RAM Power : 10.2771635055542 W\n[codecarbon INFO @ 19:16:09] Energy consumed for all GPUs : 0.058583 kWh. Total GPU Power : 69.58215084617065 W\n[codecarbon INFO @ 19:16:09] Energy consumed for all CPUs : 0.037718 kWh. Total CPU Power : 42.5 W\n[codecarbon INFO @ 19:16:09] 0.105419 kWh of electricity used since the beginning.\n[codecarbon INFO @ 19:16:13] Energy consumed for RAM : 0.009331 kWh. RAM Power : 10.2771635055542 W\n[codecarbon INFO @ 19:16:13] Energy consumed for all GPUs : 0.059083 kWh. Total GPU Power : 69.59434770347124 W\n[codecarbon INFO @ 19:16:13] Energy consumed for all CPUs : 0.038603 kWh. Total CPU Power : 42.5 W\n[codecarbon INFO @ 19:16:13] 0.107017 kWh of electricity used since the beginning.\n[codecarbon INFO @ 19:16:24] Energy consumed for RAM : 0.009160 kWh. RAM Power : 10.2771635055542 W\n[codecarbon INFO @ 19:16:24] Energy consumed for all GPUs : 0.058873 kWh. Total GPU Power : 69.61865955750591 W\n[codecarbon INFO @ 19:16:24] Energy consumed for all CPUs : 0.037895 kWh. Total CPU Power : 42.5 W\n[codecarbon INFO @ 19:16:24] 0.105929 kWh of electricity used since the beginning.\n[codecarbon INFO @ 19:16:28] Energy consumed for RAM : 0.009374 kWh. RAM Power : 10.2771635055542 W\n[codecarbon INFO @ 19:16:28] Energy consumed for all GPUs : 0.059373 kWh. Total GPU Power : 69.60085910885968 W\n[codecarbon INFO @ 19:16:28] Energy consumed for all CPUs : 0.038780 kWh. Total CPU Power : 42.5 W\n[codecarbon INFO @ 19:16:28] 0.107527 kWh of electricity used since the beginning.\n[codecarbon INFO @ 19:16:39] Energy consumed for RAM : 0.009203 kWh. RAM Power : 10.2771635055542 W\n[codecarbon INFO @ 19:16:39] Energy consumed for all GPUs : 0.059163 kWh. Total GPU Power : 69.53931310231118 W\n[codecarbon INFO @ 19:16:39] Energy consumed for all CPUs : 0.038072 kWh. Total CPU Power : 42.5 W\n[codecarbon INFO @ 19:16:39] 0.106438 kWh of electricity used since the beginning.\n[codecarbon INFO @ 19:16:43] Energy consumed for RAM : 0.009417 kWh. RAM Power : 10.2771635055542 W\n[codecarbon INFO @ 19:16:43] Energy consumed for all GPUs : 0.059663 kWh. Total GPU Power : 69.59158066439696 W\n[codecarbon INFO @ 19:16:43] Energy consumed for all CPUs : 0.038957 kWh. Total CPU Power : 42.5 W\n[codecarbon INFO @ 19:16:43] 0.108036 kWh of electricity used since the beginning.\n[codecarbon INFO @ 19:16:54] Energy consumed for RAM : 0.009246 kWh. RAM Power : 10.2771635055542 W\n[codecarbon INFO @ 19:16:54] Energy consumed for all GPUs : 0.059453 kWh. Total GPU Power : 69.52582017977734 W\n[codecarbon INFO @ 19:16:54] Energy consumed for all CPUs : 0.038249 kWh. Total CPU Power : 42.5 W\n[codecarbon INFO @ 19:16:54] 0.106948 kWh of electricity used since the beginning.\n[codecarbon INFO @ 19:16:58] Energy consumed for RAM : 0.009460 kWh. RAM Power : 10.2771635055542 W\n[codecarbon INFO @ 19:16:58] Energy consumed for all GPUs : 0.059952 kWh. Total GPU Power : 69.57045966826792 W\n[codecarbon INFO @ 19:16:58] Energy consumed for all CPUs : 0.039134 kWh. Total CPU Power : 42.5 W\n[codecarbon INFO @ 19:16:58] 0.108546 kWh of electricity used since the beginning.\n[codecarbon INFO @ 19:17:09] Energy consumed for RAM : 0.009289 kWh. RAM Power : 10.2771635055542 W\n[codecarbon INFO @ 19:17:09] Energy consumed for all GPUs : 0.059743 kWh. Total GPU Power : 69.62253059499263 W\n[codecarbon INFO @ 19:17:09] Energy consumed for all CPUs : 0.038426 kWh. Total CPU Power : 42.5 W\n[codecarbon INFO @ 19:17:09] 0.107457 kWh of electricity used since the beginning.\n[codecarbon INFO @ 19:17:13] Energy consumed for RAM : 0.009503 kWh. RAM Power : 10.2771635055542 W\n[codecarbon INFO @ 19:17:13] Energy consumed for all GPUs : 0.060242 kWh. Total GPU Power : 69.61046991084734 W\n[codecarbon INFO @ 19:17:13] Energy consumed for all CPUs : 0.039311 kWh. Total CPU Power : 42.5 W\n[codecarbon INFO @ 19:17:13] 0.109056 kWh of electricity used since the beginning.\n[codecarbon INFO @ 19:17:24] Energy consumed for RAM : 0.009332 kWh. RAM Power : 10.2771635055542 W\n[codecarbon INFO @ 19:17:24] Energy consumed for all GPUs : 0.060033 kWh. Total GPU Power : 69.55359863688307 W\n[codecarbon INFO @ 19:17:24] Energy consumed for all CPUs : 0.038603 kWh. Total CPU Power : 42.5 W\n[codecarbon INFO @ 19:17:24] 0.107967 kWh of electricity used since the beginning.\n[codecarbon INFO @ 19:17:28] Energy consumed for RAM : 0.009545 kWh. RAM Power : 10.2771635055542 W\n[codecarbon INFO @ 19:17:28] Energy consumed for all GPUs : 0.060532 kWh. Total GPU Power : 69.60665510877818 W\n[codecarbon INFO @ 19:17:28] Energy consumed for all CPUs : 0.039488 kWh. Total CPU Power : 42.5 W\n[codecarbon INFO @ 19:17:28] 0.109566 kWh of electricity used since the beginning.\n[codecarbon INFO @ 19:17:39] Energy consumed for RAM : 0.009374 kWh. RAM Power : 10.2771635055542 W\n[codecarbon INFO @ 19:17:39] Energy consumed for all GPUs : 0.060322 kWh. Total GPU Power : 69.62640470056479 W\n[codecarbon INFO @ 19:17:39] Energy consumed for all CPUs : 0.038780 kWh. Total CPU Power : 42.5 W\n[codecarbon INFO @ 19:17:39] 0.108477 kWh of electricity used since the beginning.\n[codecarbon INFO @ 19:17:43] Energy consumed for RAM : 0.009588 kWh. RAM Power : 10.2771635055542 W\n[codecarbon INFO @ 19:17:43] Energy consumed for all GPUs : 0.060822 kWh. Total GPU Power : 69.59229106465999 W\n[codecarbon INFO @ 19:17:43] Energy consumed for all CPUs : 0.039665 kWh. Total CPU Power : 42.5 W\n[codecarbon INFO @ 19:17:43] 0.110075 kWh of electricity used since the beginning.\n[codecarbon INFO @ 19:17:54] Energy consumed for RAM : 0.009417 kWh. RAM Power : 10.2771635055542 W\n[codecarbon INFO @ 19:17:54] Energy consumed for all GPUs : 0.060612 kWh. Total GPU Power : 69.58279669423732 W\n[codecarbon INFO @ 19:17:54] Energy consumed for all CPUs : 0.038957 kWh. Total CPU Power : 42.5 W\n[codecarbon INFO @ 19:17:54] 0.108987 kWh of electricity used since the beginning.\n[codecarbon INFO @ 19:17:58] Energy consumed for RAM : 0.009631 kWh. RAM Power : 10.2771635055542 W\n[codecarbon INFO @ 19:17:58] Energy consumed for all GPUs : 0.061112 kWh. Total GPU Power : 69.59168466625819 W\n[codecarbon INFO @ 19:17:58] Energy consumed for all CPUs : 0.039842 kWh. Total CPU Power : 42.5 W\n[codecarbon INFO @ 19:17:58] 0.110585 kWh of electricity used since the beginning.\n[codecarbon INFO @ 19:18:09] Energy consumed for RAM : 0.009460 kWh. RAM Power : 10.2771635055542 W\n[codecarbon INFO @ 19:18:09] Energy consumed for all GPUs : 0.060902 kWh. Total GPU Power : 69.5456278266605 W\n[codecarbon INFO @ 19:18:09] Energy consumed for all CPUs : 0.039134 kWh. Total CPU Power : 42.5 W\n[codecarbon INFO @ 19:18:09] 0.109496 kWh of electricity used since the beginning.\n[codecarbon INFO @ 19:18:13] Energy consumed for RAM : 0.009674 kWh. RAM Power : 10.2771635055542 W\n[codecarbon INFO @ 19:18:13] Energy consumed for all GPUs : 0.061402 kWh. Total GPU Power : 69.58387094771479 W\n[codecarbon INFO @ 19:18:13] Energy consumed for all CPUs : 0.040019 kWh. Total CPU Power : 42.5 W\n[codecarbon INFO @ 19:18:13] 0.111095 kWh of electricity used since the beginning.\n[codecarbon INFO @ 19:18:24] Energy consumed for RAM : 0.009503 kWh. RAM Power : 10.2771635055542 W\n[codecarbon INFO @ 19:18:24] Energy consumed for all GPUs : 0.061192 kWh. Total GPU Power : 69.59225549012461 W\n[codecarbon INFO @ 19:18:24] Energy consumed for all CPUs : 0.039311 kWh. Total CPU Power : 42.5 W\n[codecarbon INFO @ 19:18:24] 0.110006 kWh of electricity used since the beginning.\n[codecarbon INFO @ 19:18:28] Energy consumed for RAM : 0.009717 kWh. RAM Power : 10.2771635055542 W\n[codecarbon INFO @ 19:18:28] Energy consumed for all GPUs : 0.061691 kWh. Total GPU Power : 69.5057739111012 W\n[codecarbon INFO @ 19:18:28] Energy consumed for all CPUs : 0.040196 kWh. Total CPU Power : 42.5 W\n[codecarbon INFO @ 19:18:28] 0.111604 kWh of electricity used since the beginning.\n[codecarbon INFO @ 19:18:39] Energy consumed for RAM : 0.009546 kWh. RAM Power : 10.2771635055542 W\n[codecarbon INFO @ 19:18:39] Energy consumed for all GPUs : 0.061482 kWh. Total GPU Power : 69.68644496089274 W\n[codecarbon INFO @ 19:18:39] Energy consumed for all CPUs : 0.039488 kWh. Total CPU Power : 42.5 W\n[codecarbon INFO @ 19:18:39] 0.110516 kWh of electricity used since the beginning.\n[codecarbon INFO @ 19:18:43] Energy consumed for RAM : 0.009759 kWh. RAM Power : 10.2771635055542 W\n[codecarbon INFO @ 19:18:43] Energy consumed for all GPUs : 0.061981 kWh. Total GPU Power : 69.68596721796045 W\n[codecarbon INFO @ 19:18:43] Energy consumed for all CPUs : 0.040373 kWh. Total CPU Power : 42.5 W\n[codecarbon INFO @ 19:18:43] 0.112114 kWh of electricity used since the beginning.\n[codecarbon INFO @ 19:18:54] Energy consumed for RAM : 0.009588 kWh. RAM Power : 10.2771635055542 W\n[codecarbon INFO @ 19:18:54] Energy consumed for all GPUs : 0.061771 kWh. Total GPU Power : 69.39056973045523 W\n[codecarbon INFO @ 19:18:54] Energy consumed for all CPUs : 0.039665 kWh. Total CPU Power : 42.5 W\n[codecarbon INFO @ 19:18:54] 0.111025 kWh of electricity used since the beginning.\n[codecarbon INFO @ 19:18:58] Energy consumed for RAM : 0.009802 kWh. RAM Power : 10.2771635055542 W\n[codecarbon INFO @ 19:18:58] Energy consumed for all GPUs : 0.062271 kWh. Total GPU Power : 69.48039775556329 W\n[codecarbon INFO @ 19:18:58] Energy consumed for all CPUs : 0.040550 kWh. Total CPU Power : 42.5 W\n[codecarbon INFO @ 19:18:58] 0.112624 kWh of electricity used since the beginning.\n[codecarbon INFO @ 19:19:09] Energy consumed for RAM : 0.009631 kWh. RAM Power : 10.2771635055542 W\n[codecarbon INFO @ 19:19:09] Energy consumed for all GPUs : 0.062061 kWh. Total GPU Power : 69.64832257556799 W\n[codecarbon INFO @ 19:19:09] Energy consumed for all CPUs : 0.039843 kWh. Total CPU Power : 42.5 W\n[codecarbon INFO @ 19:19:09] 0.111535 kWh of electricity used since the beginning.\n[codecarbon INFO @ 19:19:13] Energy consumed for RAM : 0.009845 kWh. RAM Power : 10.2771635055542 W\n[codecarbon INFO @ 19:19:13] Energy consumed for all GPUs : 0.062561 kWh. Total GPU Power : 69.6108032203782 W\n[codecarbon INFO @ 19:19:13] Energy consumed for all CPUs : 0.040728 kWh. Total CPU Power : 42.5 W\n[codecarbon INFO @ 19:19:13] 0.113133 kWh of electricity used since the beginning.\n[codecarbon INFO @ 19:19:24] Energy consumed for RAM : 0.009674 kWh. RAM Power : 10.2771635055542 W\n[codecarbon INFO @ 19:19:24] Energy consumed for all GPUs : 0.062351 kWh. Total GPU Power : 69.47306391132591 W\n[codecarbon INFO @ 19:19:24] Energy consumed for all CPUs : 0.040020 kWh. Total CPU Power : 42.5 W\n[codecarbon INFO @ 19:19:24] 0.112044 kWh of electricity used since the beginning.\n[codecarbon INFO @ 19:19:28] Energy consumed for RAM : 0.009888 kWh. RAM Power : 10.2771635055542 W\n[codecarbon INFO @ 19:19:28] Energy consumed for all GPUs : 0.062850 kWh. Total GPU Power : 69.48264516470364 W\n[codecarbon INFO @ 19:19:28] Energy consumed for all CPUs : 0.040905 kWh. Total CPU Power : 42.5 W\n[codecarbon INFO @ 19:19:28] 0.113643 kWh of electricity used since the beginning.\n[codecarbon INFO @ 19:19:39] Energy consumed for RAM : 0.009717 kWh. RAM Power : 10.2771635055542 W\n[codecarbon INFO @ 19:19:39] Energy consumed for all GPUs : 0.062641 kWh. Total GPU Power : 69.75562471653141 W\n[codecarbon INFO @ 19:19:39] Energy consumed for all CPUs : 0.040197 kWh. Total CPU Power : 42.5 W\n[codecarbon INFO @ 19:19:39] 0.112555 kWh of electricity used since the beginning.\n[codecarbon INFO @ 19:19:43] Energy consumed for RAM : 0.009931 kWh. RAM Power : 10.2771635055542 W\n[codecarbon INFO @ 19:19:43] Energy consumed for all GPUs : 0.063141 kWh. Total GPU Power : 69.66968270105689 W\n[codecarbon INFO @ 19:19:43] Energy consumed for all CPUs : 0.041082 kWh. Total CPU Power : 42.5 W\n[codecarbon INFO @ 19:19:43] 0.114153 kWh of electricity used since the beginning.\n[codecarbon INFO @ 19:19:54] Energy consumed for RAM : 0.009760 kWh. RAM Power : 10.2771635055542 W\n[codecarbon INFO @ 19:19:54] Energy consumed for all GPUs : 0.062931 kWh. Total GPU Power : 69.55775358493206 W\n[codecarbon INFO @ 19:19:54] Energy consumed for all CPUs : 0.040374 kWh. Total CPU Power : 42.5 W\n[codecarbon INFO @ 19:19:54] 0.113064 kWh of electricity used since the beginning.\n[codecarbon INFO @ 19:19:58] Energy consumed for RAM : 0.009973 kWh. RAM Power : 10.2771635055542 W\n[codecarbon INFO @ 19:19:58] Energy consumed for all GPUs : 0.063430 kWh. Total GPU Power : 69.55811130786434 W\n[codecarbon INFO @ 19:19:58] Energy consumed for all CPUs : 0.041259 kWh. Total CPU Power : 42.5 W\n[codecarbon INFO @ 19:19:58] 0.114662 kWh of electricity used since the beginning.\n[codecarbon INFO @ 19:20:09] Energy consumed for RAM : 0.009802 kWh. RAM Power : 10.2771635055542 W\n[codecarbon INFO @ 19:20:09] Energy consumed for all GPUs : 0.063220 kWh. Total GPU Power : 69.4737246865129 W\n[codecarbon INFO @ 19:20:09] Energy consumed for all CPUs : 0.040551 kWh. Total CPU Power : 42.5 W\n[codecarbon INFO @ 19:20:09] 0.113574 kWh of electricity used since the beginning.\n[codecarbon INFO @ 19:20:13] Energy consumed for RAM : 0.010016 kWh. RAM Power : 10.2771635055542 W\n[codecarbon INFO @ 19:20:13] Energy consumed for all GPUs : 0.063720 kWh. Total GPU Power : 69.5008290468401 W\n[codecarbon INFO @ 19:20:13] Energy consumed for all CPUs : 0.041436 kWh. Total CPU Power : 42.5 W\n[codecarbon INFO @ 19:20:13] 0.115172 kWh of electricity used since the beginning.\n[codecarbon INFO @ 19:20:24] Energy consumed for RAM : 0.009845 kWh. RAM Power : 10.2771635055542 W\n[codecarbon INFO @ 19:20:24] Energy consumed for all GPUs : 0.063510 kWh. Total GPU Power : 69.62978182217671 W\n[codecarbon INFO @ 19:20:24] Energy consumed for all CPUs : 0.040728 kWh. Total CPU Power : 42.5 W\n[codecarbon INFO @ 19:20:24] 0.114084 kWh of electricity used since the beginning.\n[codecarbon INFO @ 19:20:28] Energy consumed for RAM : 0.010059 kWh. RAM Power : 10.2771635055542 W\n[codecarbon INFO @ 19:20:28] Energy consumed for all GPUs : 0.064010 kWh. Total GPU Power : 69.60436197250948 W\n[codecarbon INFO @ 19:20:28] Energy consumed for all CPUs : 0.041613 kWh. Total CPU Power : 42.5 W\n[codecarbon INFO @ 19:20:28] 0.115682 kWh of electricity used since the beginning.\n[codecarbon INFO @ 19:20:39] Energy consumed for RAM : 0.009888 kWh. RAM Power : 10.2771635055542 W\n[codecarbon INFO @ 19:20:39] Energy consumed for all GPUs : 0.063800 kWh. Total GPU Power : 69.55994488413269 W\n[codecarbon INFO @ 19:20:39] Energy consumed for all CPUs : 0.040905 kWh. Total CPU Power : 42.5 W\n[codecarbon INFO @ 19:20:39] 0.114593 kWh of electricity used since the beginning.\n[codecarbon INFO @ 19:20:43] Energy consumed for RAM : 0.010102 kWh. RAM Power : 10.2771635055542 W\n[codecarbon INFO @ 19:20:43] Energy consumed for all GPUs : 0.064300 kWh. Total GPU Power : 69.68010393658564 W\n[codecarbon INFO @ 19:20:43] Energy consumed for all CPUs : 0.041790 kWh. Total CPU Power : 42.5 W\n[codecarbon INFO @ 19:20:43] 0.116192 kWh of electricity used since the beginning.\n[codecarbon INFO @ 19:20:54] Energy consumed for RAM : 0.009931 kWh. RAM Power : 10.2771635055542 W\n[codecarbon INFO @ 19:20:54] Energy consumed for all GPUs : 0.064090 kWh. Total GPU Power : 69.69061802273995 W\n[codecarbon INFO @ 19:20:54] Energy consumed for all CPUs : 0.041082 kWh. Total CPU Power : 42.5 W\n[codecarbon INFO @ 19:20:54] 0.115103 kWh of electricity used since the beginning.\n[codecarbon INFO @ 19:20:58] Energy consumed for RAM : 0.010145 kWh. RAM Power : 10.2771635055542 W\n[codecarbon INFO @ 19:20:58] Energy consumed for all GPUs : 0.064590 kWh. Total GPU Power : 69.59983057945801 W\n[codecarbon INFO @ 19:20:58] Energy consumed for all CPUs : 0.041967 kWh. Total CPU Power : 42.5 W\n[codecarbon INFO @ 19:20:58] 0.116702 kWh of electricity used since the beginning.\n[codecarbon INFO @ 19:21:09] Energy consumed for RAM : 0.009974 kWh. RAM Power : 10.2771635055542 W\n[codecarbon INFO @ 19:21:09] Energy consumed for all GPUs : 0.064380 kWh. Total GPU Power : 69.61145987519495 W\n[codecarbon INFO @ 19:21:09] Energy consumed for all CPUs : 0.041259 kWh. Total CPU Power : 42.5 W\n[codecarbon INFO @ 19:21:09] 0.115613 kWh of electricity used since the beginning.\n[codecarbon INFO @ 19:21:13] Energy consumed for RAM : 0.010187 kWh. RAM Power : 10.2771635055542 W\n[codecarbon INFO @ 19:21:13] Energy consumed for all GPUs : 0.064880 kWh. Total GPU Power : 69.67155656590097 W\n[codecarbon INFO @ 19:21:13] Energy consumed for all CPUs : 0.042144 kWh. Total CPU Power : 42.5 W\n[codecarbon INFO @ 19:21:13] 0.117211 kWh of electricity used since the beginning.\n[codecarbon INFO @ 19:21:24] Energy consumed for RAM : 0.010016 kWh. RAM Power : 10.2771635055542 W\n[codecarbon INFO @ 19:21:24] Energy consumed for all GPUs : 0.064670 kWh. Total GPU Power : 69.61689098755606 W\n[codecarbon INFO @ 19:21:24] Energy consumed for all CPUs : 0.041436 kWh. Total CPU Power : 42.5 W\n[codecarbon INFO @ 19:21:24] 0.116123 kWh of electricity used since the beginning.\n[codecarbon INFO @ 19:21:28] Energy consumed for RAM : 0.010230 kWh. RAM Power : 10.2771635055542 W\n[codecarbon INFO @ 19:21:28] Energy consumed for all GPUs : 0.065170 kWh. Total GPU Power : 69.6091882254172 W\n[codecarbon INFO @ 19:21:28] Energy consumed for all CPUs : 0.042321 kWh. Total CPU Power : 42.5 W\n[codecarbon INFO @ 19:21:28] 0.117721 kWh of electricity used since the beginning.\n[codecarbon INFO @ 19:21:39] Energy consumed for RAM : 0.010059 kWh. RAM Power : 10.2771635055542 W\n[codecarbon INFO @ 19:21:39] Energy consumed for all GPUs : 0.064961 kWh. Total GPU Power : 69.63719038499899 W\n[codecarbon INFO @ 19:21:39] Energy consumed for all CPUs : 0.041613 kWh. Total CPU Power : 42.5 W\n[codecarbon INFO @ 19:21:39] 0.116633 kWh of electricity used since the beginning.\n[codecarbon INFO @ 19:21:43] Energy consumed for RAM : 0.010273 kWh. RAM Power : 10.2771635055542 W\n[codecarbon INFO @ 19:21:43] Energy consumed for all GPUs : 0.065460 kWh. Total GPU Power : 69.59821621424847 W\n[codecarbon INFO @ 19:21:43] Energy consumed for all CPUs : 0.042498 kWh. Total CPU Power : 42.5 W\n[codecarbon INFO @ 19:21:43] 0.118231 kWh of electricity used since the beginning.\n[codecarbon INFO @ 19:21:54] Energy consumed for RAM : 0.010102 kWh. RAM Power : 10.2771635055542 W\n[codecarbon INFO @ 19:21:54] Energy consumed for all GPUs : 0.065250 kWh. Total GPU Power : 69.6092713155603 W\n[codecarbon INFO @ 19:21:54] Energy consumed for all CPUs : 0.041790 kWh. Total CPU Power : 42.5 W\n[codecarbon INFO @ 19:21:54] 0.117143 kWh of electricity used since the beginning.\n[codecarbon INFO @ 19:21:58] Energy consumed for RAM : 0.010316 kWh. RAM Power : 10.2771635055542 W\n[codecarbon INFO @ 19:21:58] Energy consumed for all GPUs : 0.065750 kWh. Total GPU Power : 69.68340274362167 W\n[codecarbon INFO @ 19:21:58] Energy consumed for all CPUs : 0.042675 kWh. Total CPU Power : 42.5 W\n[codecarbon INFO @ 19:21:58] 0.118741 kWh of electricity used since the beginning.\n[codecarbon INFO @ 19:22:09] Energy consumed for RAM : 0.010145 kWh. RAM Power : 10.2771635055542 W\n[codecarbon INFO @ 19:22:09] Energy consumed for all GPUs : 0.065541 kWh. Total GPU Power : 69.65594966034939 W\n[codecarbon INFO @ 19:22:09] Energy consumed for all CPUs : 0.041967 kWh. Total CPU Power : 42.5 W\n[codecarbon INFO @ 19:22:09] 0.117653 kWh of electricity used since the beginning.\n[codecarbon INFO @ 19:22:13] Energy consumed for RAM : 0.010359 kWh. RAM Power : 10.2771635055542 W\n[codecarbon INFO @ 19:22:13] Energy consumed for all GPUs : 0.066040 kWh. Total GPU Power : 69.58348146791386 W\n[codecarbon INFO @ 19:22:13] Energy consumed for all CPUs : 0.042853 kWh. Total CPU Power : 42.5 W\n[codecarbon INFO @ 19:22:13] 0.119251 kWh of electricity used since the beginning.\n[codecarbon INFO @ 19:22:24] Energy consumed for RAM : 0.010188 kWh. RAM Power : 10.2771635055542 W\n[codecarbon INFO @ 19:22:24] Energy consumed for all GPUs : 0.065830 kWh. Total GPU Power : 69.57328714441012 W\n[codecarbon INFO @ 19:22:24] Energy consumed for all CPUs : 0.042145 kWh. Total CPU Power : 42.5 W\n[codecarbon INFO @ 19:22:24] 0.118163 kWh of electricity used since the beginning.\n[codecarbon INFO @ 19:22:28] Energy consumed for RAM : 0.010401 kWh. RAM Power : 10.2771635055542 W\n[codecarbon INFO @ 19:22:28] Energy consumed for all GPUs : 0.066330 kWh. Total GPU Power : 69.57480739485587 W\n[codecarbon INFO @ 19:22:28] Energy consumed for all CPUs : 0.043030 kWh. Total CPU Power : 42.5 W\n[codecarbon INFO @ 19:22:28] 0.119761 kWh of electricity used since the beginning.\n[codecarbon INFO @ 19:22:39] Energy consumed for RAM : 0.010231 kWh. RAM Power : 10.2771635055542 W\n[codecarbon INFO @ 19:22:39] Energy consumed for all GPUs : 0.066120 kWh. Total GPU Power : 69.59065799778598 W\n[codecarbon INFO @ 19:22:39] Energy consumed for all CPUs : 0.042322 kWh. Total CPU Power : 42.5 W\n[codecarbon INFO @ 19:22:39] 0.118672 kWh of electricity used since the beginning.\n[codecarbon INFO @ 19:22:43] Energy consumed for RAM : 0.010444 kWh. RAM Power : 10.2771635055542 W\n[codecarbon INFO @ 19:22:43] Energy consumed for all GPUs : 0.066620 kWh. Total GPU Power : 69.61566027032363 W\n[codecarbon INFO @ 19:22:43] Energy consumed for all CPUs : 0.043207 kWh. Total CPU Power : 42.5 W\n[codecarbon INFO @ 19:22:43] 0.120271 kWh of electricity used since the beginning.\n[codecarbon INFO @ 19:22:54] Energy consumed for RAM : 0.010273 kWh. RAM Power : 10.2771635055542 W\n[codecarbon INFO @ 19:22:54] Energy consumed for all GPUs : 0.066410 kWh. Total GPU Power : 69.57753301001787 W\n[codecarbon INFO @ 19:22:54] Energy consumed for all CPUs : 0.042499 kWh. Total CPU Power : 42.5 W\n[codecarbon INFO @ 19:22:54] 0.119182 kWh of electricity used since the beginning.\n[codecarbon INFO @ 19:22:58] Energy consumed for RAM : 0.010487 kWh. RAM Power : 10.2771635055542 W\n[codecarbon INFO @ 19:22:58] Energy consumed for all GPUs : 0.066909 kWh. Total GPU Power : 69.52594947335693 W\n[codecarbon INFO @ 19:22:58] Energy consumed for all CPUs : 0.043384 kWh. Total CPU Power : 42.5 W\n[codecarbon INFO @ 19:22:58] 0.120780 kWh of electricity used since the beginning.\n[codecarbon INFO @ 19:23:09] Energy consumed for RAM : 0.010316 kWh. RAM Power : 10.2771635055542 W\n[codecarbon INFO @ 19:23:09] Energy consumed for all GPUs : 0.066700 kWh. Total GPU Power : 69.68534072354508 W\n[codecarbon INFO @ 19:23:09] Energy consumed for all CPUs : 0.042676 kWh. Total CPU Power : 42.5 W\n[codecarbon INFO @ 19:23:09] 0.119692 kWh of electricity used since the beginning.\n[codecarbon INFO @ 19:23:13] Energy consumed for RAM : 0.010530 kWh. RAM Power : 10.2771635055542 W\n[codecarbon INFO @ 19:23:13] Energy consumed for all GPUs : 0.067199 kWh. Total GPU Power : 69.64197939655035 W\n[codecarbon INFO @ 19:23:13] Energy consumed for all CPUs : 0.043561 kWh. Total CPU Power : 42.5 W\n[codecarbon INFO @ 19:23:13] 0.121290 kWh of electricity used since the beginning.\n[codecarbon INFO @ 19:23:24] Energy consumed for RAM : 0.010359 kWh. RAM Power : 10.2771635055542 W\n[codecarbon INFO @ 19:23:24] Energy consumed for all GPUs : 0.066990 kWh. Total GPU Power : 69.54013838483995 W\n[codecarbon INFO @ 19:23:24] Energy consumed for all CPUs : 0.042853 kWh. Total CPU Power : 42.5 W\n[codecarbon INFO @ 19:23:24] 0.120202 kWh of electricity used since the beginning.\n[codecarbon INFO @ 19:23:28] Energy consumed for RAM : 0.010573 kWh. RAM Power : 10.2771635055542 W\n[codecarbon INFO @ 19:23:28] Energy consumed for all GPUs : 0.067489 kWh. Total GPU Power : 69.58840530956505 W\n[codecarbon INFO @ 19:23:28] Energy consumed for all CPUs : 0.043738 kWh. Total CPU Power : 42.5 W\n[codecarbon INFO @ 19:23:28] 0.121800 kWh of electricity used since the beginning.\n[codecarbon INFO @ 19:23:39] Energy consumed for RAM : 0.010402 kWh. RAM Power : 10.2771635055542 W\n[codecarbon INFO @ 19:23:39] Energy consumed for all GPUs : 0.067280 kWh. Total GPU Power : 69.60693986297254 W\n[codecarbon INFO @ 19:23:39] Energy consumed for all CPUs : 0.043030 kWh. Total CPU Power : 42.5 W\n[codecarbon INFO @ 19:23:39] 0.120712 kWh of electricity used since the beginning.\n[codecarbon INFO @ 19:23:43] Energy consumed for RAM : 0.010615 kWh. RAM Power : 10.2771635055542 W\n[codecarbon INFO @ 19:23:43] Energy consumed for all GPUs : 0.067779 kWh. Total GPU Power : 69.61966856956673 W\n[codecarbon INFO @ 19:23:43] Energy consumed for all CPUs : 0.043915 kWh. Total CPU Power : 42.5 W\n[codecarbon INFO @ 19:23:43] 0.122310 kWh of electricity used since the beginning.\n[codecarbon INFO @ 19:23:54] Energy consumed for RAM : 0.010445 kWh. RAM Power : 10.2771635055542 W\n[codecarbon INFO @ 19:23:54] Energy consumed for all GPUs : 0.067570 kWh. Total GPU Power : 69.57510887413744 W\n[codecarbon INFO @ 19:23:54] Energy consumed for all CPUs : 0.043207 kWh. Total CPU Power : 42.5 W\n[codecarbon INFO @ 19:23:54] 0.121221 kWh of electricity used since the beginning.\n[codecarbon INFO @ 19:23:58] Energy consumed for RAM : 0.010658 kWh. RAM Power : 10.2771635055542 W\n[codecarbon INFO @ 19:23:58] Energy consumed for all GPUs : 0.068069 kWh. Total GPU Power : 69.61813739466616 W\n[codecarbon INFO @ 19:23:58] Energy consumed for all CPUs : 0.044092 kWh. Total CPU Power : 42.5 W\n[codecarbon INFO @ 19:23:58] 0.122819 kWh of electricity used since the beginning.\n[codecarbon INFO @ 19:24:09] Energy consumed for RAM : 0.010487 kWh. RAM Power : 10.2771635055542 W\n[codecarbon INFO @ 19:24:09] Energy consumed for all GPUs : 0.067860 kWh. Total GPU Power : 69.73400876825382 W\n[codecarbon INFO @ 19:24:09] Energy consumed for all CPUs : 0.043384 kWh. Total CPU Power : 42.5 W\n[codecarbon INFO @ 19:24:09] 0.121732 kWh of electricity used since the beginning.\n[codecarbon INFO @ 19:24:13] Energy consumed for RAM : 0.010701 kWh. RAM Power : 10.2771635055542 W\n[codecarbon INFO @ 19:24:13] Energy consumed for all GPUs : 0.068360 kWh. Total GPU Power : 69.75912898017893 W\n[codecarbon INFO @ 19:24:13] Energy consumed for all CPUs : 0.044269 kWh. Total CPU Power : 42.5 W\n[codecarbon INFO @ 19:24:13] 0.123330 kWh of electricity used since the beginning.\n[codecarbon INFO @ 19:24:24] Energy consumed for RAM : 0.010530 kWh. RAM Power : 10.2771635055542 W\n[codecarbon INFO @ 19:24:24] Energy consumed for all GPUs : 0.068151 kWh. Total GPU Power : 69.6644019036401 W\n[codecarbon INFO @ 19:24:24] Energy consumed for all CPUs : 0.043561 kWh. Total CPU Power : 42.5 W\n[codecarbon INFO @ 19:24:24] 0.122242 kWh of electricity used since the beginning.\n[codecarbon INFO @ 19:24:28] Energy consumed for RAM : 0.010744 kWh. RAM Power : 10.2771635055542 W\n[codecarbon INFO @ 19:24:28] Energy consumed for all GPUs : 0.068650 kWh. Total GPU Power : 69.63398710069337 W\n[codecarbon INFO @ 19:24:28] Energy consumed for all CPUs : 0.044446 kWh. Total CPU Power : 42.5 W\n[codecarbon INFO @ 19:24:28] 0.123840 kWh of electricity used since the beginning.\n[codecarbon INFO @ 19:24:39] Energy consumed for RAM : 0.010573 kWh. RAM Power : 10.2771635055542 W\n[codecarbon INFO @ 19:24:39] Energy consumed for all GPUs : 0.068440 kWh. Total GPU Power : 69.51079323427678 W\n[codecarbon INFO @ 19:24:39] Energy consumed for all CPUs : 0.043738 kWh. Total CPU Power : 42.5 W\n[codecarbon INFO @ 19:24:39] 0.122751 kWh of electricity used since the beginning.\n[codecarbon INFO @ 19:24:43] Energy consumed for RAM : 0.010787 kWh. RAM Power : 10.2771635055542 W\n[codecarbon INFO @ 19:24:43] Energy consumed for all GPUs : 0.068939 kWh. Total GPU Power : 69.53950153877012 W\n[codecarbon INFO @ 19:24:43] Energy consumed for all CPUs : 0.044623 kWh. Total CPU Power : 42.5 W\n[codecarbon INFO @ 19:24:43] 0.124349 kWh of electricity used since the beginning.\n[codecarbon INFO @ 19:24:54] Energy consumed for RAM : 0.010616 kWh. RAM Power : 10.2771635055542 W\n[codecarbon INFO @ 19:24:54] Energy consumed for all GPUs : 0.068721 kWh. Total GPU Power : 67.33411191747419 W\n[codecarbon INFO @ 19:24:54] Energy consumed for all CPUs : 0.043915 kWh. Total CPU Power : 42.5 W\n[codecarbon INFO @ 19:24:54] 0.123252 kWh of electricity used since the beginning.\n[codecarbon INFO @ 19:24:58] Energy consumed for RAM : 0.010829 kWh. RAM Power : 10.2771635055542 W\n[codecarbon INFO @ 19:24:58] Energy consumed for all GPUs : 0.069179 kWh. Total GPU Power : 57.43305230194901 W\n[codecarbon INFO @ 19:24:58] Energy consumed for all CPUs : 0.044800 kWh. Total CPU Power : 42.5 W\n[codecarbon INFO @ 19:24:58] 0.124808 kWh of electricity used since the beginning.\n[codecarbon INFO @ 19:25:09] Energy consumed for RAM : 0.010659 kWh. RAM Power : 10.2771635055542 W\n[codecarbon INFO @ 19:25:09] Energy consumed for all GPUs : 0.068843 kWh. Total GPU Power : 29.41788830144043 W\n[codecarbon INFO @ 19:25:09] Energy consumed for all CPUs : 0.044092 kWh. Total CPU Power : 42.5 W\n[codecarbon INFO @ 19:25:09] 0.123594 kWh of electricity used since the beginning.\n[codecarbon INFO @ 19:25:13] Energy consumed for RAM : 0.010872 kWh. RAM Power : 10.2771635055542 W\n[codecarbon INFO @ 19:25:13] Energy consumed for all GPUs : 0.069299 kWh. Total GPU Power : 28.982049681519136 W\n[codecarbon INFO @ 19:25:13] Energy consumed for all CPUs : 0.044977 kWh. Total CPU Power : 42.5 W\n[codecarbon INFO @ 19:25:13] 0.125149 kWh of electricity used since the beginning.\n[codecarbon INFO @ 19:25:24] Energy consumed for RAM : 0.010701 kWh. RAM Power : 10.2771635055542 W\n[codecarbon INFO @ 19:25:24] Energy consumed for all GPUs : 0.068962 kWh. Total GPU Power : 28.552241201531782 W\n[codecarbon INFO @ 19:25:24] Energy consumed for all CPUs : 0.044269 kWh. Total CPU Power : 42.5 W\n[codecarbon INFO @ 19:25:24] 0.123933 kWh of electricity used since the beginning.\n[codecarbon INFO @ 19:25:28] Energy consumed for RAM : 0.010915 kWh. RAM Power : 10.2771635055542 W\n[codecarbon INFO @ 19:25:28] Energy consumed for all GPUs : 0.069417 kWh. Total GPU Power : 28.232986622525424 W\n[codecarbon INFO @ 19:25:28] Energy consumed for all CPUs : 0.045154 kWh. Total CPU Power : 42.5 W\n[codecarbon INFO @ 19:25:28] 0.125486 kWh of electricity used since the beginning.\n[codecarbon INFO @ 19:25:39] Energy consumed for RAM : 0.010744 kWh. RAM Power : 10.2771635055542 W\n[codecarbon INFO @ 19:25:39] Energy consumed for all GPUs : 0.069078 kWh. Total GPU Power : 27.938499450568624 W\n[codecarbon INFO @ 19:25:39] Energy consumed for all CPUs : 0.044446 kWh. Total CPU Power : 42.5 W\n[codecarbon INFO @ 19:25:39] 0.124269 kWh of electricity used since the beginning.\n[codecarbon INFO @ 19:25:43] Energy consumed for RAM : 0.010958 kWh. RAM Power : 10.2771635055542 W\n[codecarbon INFO @ 19:25:43] Energy consumed for all GPUs : 0.069534 kWh. Total GPU Power : 28.04067441786543 W\n[codecarbon INFO @ 19:25:43] Energy consumed for all CPUs : 0.045332 kWh. Total CPU Power : 42.5 W\n[codecarbon INFO @ 19:25:43] 0.125823 kWh of electricity used since the beginning.\n[codecarbon INFO @ 19:25:54] Energy consumed for RAM : 0.010787 kWh. RAM Power : 10.2771635055542 W\n[codecarbon INFO @ 19:25:54] Energy consumed for all GPUs : 0.069194 kWh. Total GPU Power : 27.701348142743903 W\n[codecarbon INFO @ 19:25:54] Energy consumed for all CPUs : 0.044624 kWh. Total CPU Power : 42.5 W\n[codecarbon INFO @ 19:25:54] 0.124604 kWh of electricity used since the beginning.\n[codecarbon INFO @ 19:25:58] Energy consumed for RAM : 0.011001 kWh. RAM Power : 10.2771635055542 W\n[codecarbon INFO @ 19:25:58] Energy consumed for all GPUs : 0.069649 kWh. Total GPU Power : 27.672687362012407 W\n[codecarbon INFO @ 19:25:58] Energy consumed for all CPUs : 0.045509 kWh. Total CPU Power : 42.5 W\n[codecarbon INFO @ 19:25:58] 0.126158 kWh of electricity used since the beginning.\n[codecarbon INFO @ 19:26:09] Energy consumed for RAM : 0.010830 kWh. RAM Power : 10.2771635055542 W\n[codecarbon INFO @ 19:26:09] Energy consumed for all GPUs : 0.069309 kWh. Total GPU Power : 27.71502129521051 W\n[codecarbon INFO @ 19:26:09] Energy consumed for all CPUs : 0.044801 kWh. Total CPU Power : 42.5 W\n[codecarbon INFO @ 19:26:09] 0.124940 kWh of electricity used since the beginning.\n[codecarbon INFO @ 19:26:13] Energy consumed for RAM : 0.011044 kWh. RAM Power : 10.2771635055542 W\n[codecarbon INFO @ 19:26:13] Energy consumed for all GPUs : 0.069763 kWh. Total GPU Power : 27.47729278807202 W\n[codecarbon INFO @ 19:26:13] Energy consumed for all CPUs : 0.045686 kWh. Total CPU Power : 42.5 W\n[codecarbon INFO @ 19:26:13] 0.126493 kWh of electricity used since the beginning.\n[codecarbon INFO @ 19:26:24] Energy consumed for RAM : 0.010873 kWh. RAM Power : 10.2771635055542 W\n[codecarbon INFO @ 19:26:24] Energy consumed for all GPUs : 0.069423 kWh. Total GPU Power : 27.343341267718724 W\n[codecarbon INFO @ 19:26:24] Energy consumed for all CPUs : 0.044978 kWh. Total CPU Power : 42.5 W\n[codecarbon INFO @ 19:26:24] 0.125274 kWh of electricity used since the beginning.\n[codecarbon INFO @ 19:26:28] Energy consumed for RAM : 0.011086 kWh. RAM Power : 10.2771635055542 W\n[codecarbon INFO @ 19:26:28] Energy consumed for all GPUs : 0.069878 kWh. Total GPU Power : 27.4899331586441 W\n[codecarbon INFO @ 19:26:28] Energy consumed for all CPUs : 0.045863 kWh. Total CPU Power : 42.5 W\n[codecarbon INFO @ 19:26:28] 0.126827 kWh of electricity used since the beginning.\n[codecarbon INFO @ 19:26:39] Energy consumed for RAM : 0.010915 kWh. RAM Power : 10.2771635055542 W\n[codecarbon INFO @ 19:26:39] Energy consumed for all GPUs : 0.069537 kWh. Total GPU Power : 27.19512728296518 W\n[codecarbon INFO @ 19:26:39] Energy consumed for all CPUs : 0.045155 kWh. Total CPU Power : 42.5 W\n[codecarbon INFO @ 19:26:39] 0.125607 kWh of electricity used since the beginning.\n[codecarbon INFO @ 19:26:43] Energy consumed for RAM : 0.011129 kWh. RAM Power : 10.2771635055542 W\n[codecarbon INFO @ 19:26:43] Energy consumed for all GPUs : 0.069991 kWh. Total GPU Power : 27.148982579528845 W\n[codecarbon INFO @ 19:26:43] Energy consumed for all CPUs : 0.046040 kWh. Total CPU Power : 42.5 W\n[codecarbon INFO @ 19:26:43] 0.127160 kWh of electricity used since the beginning.\n[codecarbon INFO @ 19:26:54] Energy consumed for RAM : 0.010958 kWh. RAM Power : 10.2771635055542 W\n[codecarbon INFO @ 19:26:54] Energy consumed for all GPUs : 0.069650 kWh. Total GPU Power : 27.25723605666995 W\n[codecarbon INFO @ 19:26:54] Energy consumed for all CPUs : 0.045332 kWh. Total CPU Power : 42.5 W\n[codecarbon INFO @ 19:26:54] 0.125940 kWh of electricity used since the beginning.\n[codecarbon INFO @ 19:26:58] Energy consumed for RAM : 0.011172 kWh. RAM Power : 10.2771635055542 W\n[codecarbon INFO @ 19:26:58] Energy consumed for all GPUs : 0.070149 kWh. Total GPU Power : 37.8685679179611 W\n[codecarbon INFO @ 19:26:58] Energy consumed for all CPUs : 0.046217 kWh. Total CPU Power : 42.5 W\n[codecarbon INFO @ 19:26:58] 0.127538 kWh of electricity used since the beginning.\n[codecarbon INFO @ 19:27:09] Energy consumed for RAM : 0.011001 kWh. RAM Power : 10.2771635055542 W\n[codecarbon INFO @ 19:27:09] Energy consumed for all GPUs : 0.069940 kWh. Total GPU Power : 69.49337981269538 W\n[codecarbon INFO @ 19:27:09] Energy consumed for all CPUs : 0.045509 kWh. Total CPU Power : 42.5 W\n[codecarbon INFO @ 19:27:09] 0.126450 kWh of electricity used since the beginning.\n[codecarbon INFO @ 19:27:13] Energy consumed for RAM : 0.011215 kWh. RAM Power : 10.2771635055542 W\n[codecarbon INFO @ 19:27:13] Energy consumed for all GPUs : 0.070439 kWh. Total GPU Power : 69.69345202197053 W\n[codecarbon INFO @ 19:27:13] Energy consumed for all CPUs : 0.046394 kWh. Total CPU Power : 42.5 W\n[codecarbon INFO @ 19:27:13] 0.128048 kWh of electricity used since the beginning.\n[codecarbon INFO @ 19:27:24] Energy consumed for RAM : 0.011044 kWh. RAM Power : 10.2771635055542 W\n[codecarbon INFO @ 19:27:24] Energy consumed for all GPUs : 0.070230 kWh. Total GPU Power : 69.61309471041442 W\n[codecarbon INFO @ 19:27:24] Energy consumed for all CPUs : 0.045686 kWh. Total CPU Power : 42.5 W\n[codecarbon INFO @ 19:27:24] 0.126960 kWh of electricity used since the beginning.\n/anaconda/envs/azureml_py38/lib/python3.8/site-packages/sklearn/metrics/_classification.py:1272: UndefinedMetricWarning: Precision is ill-defined and being set to 0.0 in samples with no predicted labels. Use `zero_division` parameter to control this behavior.\n  _warn_prf(average, modifier, msg_start, len(result))\n/anaconda/envs/azureml_py38/lib/python3.8/site-packages/sklearn/metrics/_classification.py:1272: UndefinedMetricWarning: Recall is ill-defined and being set to 0.0 in samples with no true labels. Use `zero_division` parameter to control this behavior.\n  _warn_prf(average, modifier, msg_start, len(result))\n/anaconda/envs/azureml_py38/lib/python3.8/site-packages/sklearn/metrics/_classification.py:1514: UndefinedMetricWarning: F-score is ill-defined and being set to 0.0 in samples with no true nor predicted labels. Use `zero_division` parameter to control this behavior.\n  _warn_prf(\n[codecarbon INFO @ 19:27:30] Energy consumed for RAM : 0.011262 kWh. RAM Power : 10.2771635055542 W\n[codecarbon INFO @ 19:27:30] Energy consumed for all GPUs : 0.070721 kWh. Total GPU Power : 61.24926965958605 W\n[codecarbon INFO @ 19:27:30] Energy consumed for all CPUs : 0.046590 kWh. Total CPU Power : 42.5 W\n[codecarbon INFO @ 19:27:30] 0.128573 kWh of electricity used since the beginning.\n[codecarbon INFO @ 19:27:39] Energy consumed for RAM : 0.011087 kWh. RAM Power : 10.2771635055542 W\n[codecarbon INFO @ 19:27:39] Energy consumed for all GPUs : 0.070416 kWh. Total GPU Power : 44.76952653961696 W\n[codecarbon INFO @ 19:27:39] Energy consumed for all CPUs : 0.045863 kWh. Total CPU Power : 42.5 W\n[codecarbon INFO @ 19:27:39] 0.127366 kWh of electricity used since the beginning.\n[codecarbon INFO @ 19:27:45] Energy consumed for RAM : 0.011305 kWh. RAM Power : 10.2771635055542 W\n[codecarbon INFO @ 19:27:45] Energy consumed for all GPUs : 0.070947 kWh. Total GPU Power : 54.17254311786785 W\n[codecarbon INFO @ 19:27:45] Energy consumed for all CPUs : 0.046767 kWh. Total CPU Power : 42.5 W\n[codecarbon INFO @ 19:27:45] 0.129018 kWh of electricity used since the beginning.\n[codecarbon INFO @ 19:27:54] Energy consumed for RAM : 0.011130 kWh. RAM Power : 10.2771635055542 W\n[codecarbon INFO @ 19:27:54] Energy consumed for all GPUs : 0.070706 kWh. Total GPU Power : 69.55383520601173 W\n[codecarbon INFO @ 19:27:54] Energy consumed for all CPUs : 0.046040 kWh. Total CPU Power : 42.5 W\n[codecarbon INFO @ 19:27:54] 0.127876 kWh of electricity used since the beginning.\n[codecarbon INFO @ 19:28:00] Energy consumed for RAM : 0.011348 kWh. RAM Power : 10.2771635055542 W\n[codecarbon INFO @ 19:28:00] Energy consumed for all GPUs : 0.071236 kWh. Total GPU Power : 69.5502770960449 W\n[codecarbon INFO @ 19:28:00] Energy consumed for all CPUs : 0.046944 kWh. Total CPU Power : 42.5 W\n[codecarbon INFO @ 19:28:00] 0.129528 kWh of electricity used since the beginning.\n[codecarbon INFO @ 19:28:09] Energy consumed for RAM : 0.011172 kWh. RAM Power : 10.2771635055542 W\n[codecarbon INFO @ 19:28:09] Energy consumed for all GPUs : 0.070995 kWh. Total GPU Power : 69.49932126374189 W\n[codecarbon INFO @ 19:28:09] Energy consumed for all CPUs : 0.046217 kWh. Total CPU Power : 42.5 W\n[codecarbon INFO @ 19:28:09] 0.128385 kWh of electricity used since the beginning.\n[codecarbon INFO @ 19:28:15] Energy consumed for RAM : 0.011390 kWh. RAM Power : 10.2771635055542 W\n[codecarbon INFO @ 19:28:15] Energy consumed for all GPUs : 0.071526 kWh. Total GPU Power : 69.57723419504632 W\n[codecarbon INFO @ 19:28:15] Energy consumed for all CPUs : 0.047121 kWh. Total CPU Power : 42.5 W\n[codecarbon INFO @ 19:28:15] 0.130038 kWh of electricity used since the beginning.\n[codecarbon INFO @ 19:28:24] Energy consumed for RAM : 0.011215 kWh. RAM Power : 10.2771635055542 W\n[codecarbon INFO @ 19:28:24] Energy consumed for all GPUs : 0.071285 kWh. Total GPU Power : 69.64770496800995 W\n[codecarbon INFO @ 19:28:24] Energy consumed for all CPUs : 0.046394 kWh. Total CPU Power : 42.5 W\n[codecarbon INFO @ 19:28:24] 0.128895 kWh of electricity used since the beginning.\n[codecarbon INFO @ 19:28:30] Energy consumed for RAM : 0.011433 kWh. RAM Power : 10.2771635055542 W\n[codecarbon INFO @ 19:28:30] Energy consumed for all GPUs : 0.071814 kWh. Total GPU Power : 69.18968713081843 W\n[codecarbon INFO @ 19:28:30] Energy consumed for all CPUs : 0.047298 kWh. Total CPU Power : 42.5 W\n[codecarbon INFO @ 19:28:30] 0.130546 kWh of electricity used since the beginning.\n[codecarbon INFO @ 19:28:39] Energy consumed for RAM : 0.011258 kWh. RAM Power : 10.2771635055542 W\n[codecarbon INFO @ 19:28:39] Energy consumed for all GPUs : 0.071574 kWh. Total GPU Power : 69.26983794179176 W\n[codecarbon INFO @ 19:28:39] Energy consumed for all CPUs : 0.046571 kWh. Total CPU Power : 42.5 W\n[codecarbon INFO @ 19:28:39] 0.129403 kWh of electricity used since the beginning.\n[codecarbon INFO @ 19:28:45] Energy consumed for RAM : 0.011476 kWh. RAM Power : 10.2771635055542 W\n[codecarbon INFO @ 19:28:45] Energy consumed for all GPUs : 0.072104 kWh. Total GPU Power : 69.64616280434943 W\n[codecarbon INFO @ 19:28:45] Energy consumed for all CPUs : 0.047475 kWh. Total CPU Power : 42.5 W\n[codecarbon INFO @ 19:28:45] 0.131056 kWh of electricity used since the beginning.\n[codecarbon INFO @ 19:28:54] Energy consumed for RAM : 0.011301 kWh. RAM Power : 10.2771635055542 W\n[codecarbon INFO @ 19:28:54] Energy consumed for all GPUs : 0.071863 kWh. Total GPU Power : 69.49429561075469 W\n[codecarbon INFO @ 19:28:54] Energy consumed for all CPUs : 0.046749 kWh. Total CPU Power : 42.5 W\n[codecarbon INFO @ 19:28:54] 0.129913 kWh of electricity used since the beginning.\n[codecarbon INFO @ 19:29:00] Energy consumed for RAM : 0.011519 kWh. RAM Power : 10.2771635055542 W\n[codecarbon INFO @ 19:29:00] Energy consumed for all GPUs : 0.072394 kWh. Total GPU Power : 69.54042335159555 W\n[codecarbon INFO @ 19:29:00] Energy consumed for all CPUs : 0.047652 kWh. Total CPU Power : 42.5 W\n[codecarbon INFO @ 19:29:00] 0.131565 kWh of electricity used since the beginning.\n[codecarbon INFO @ 19:29:09] Energy consumed for RAM : 0.011344 kWh. RAM Power : 10.2771635055542 W\n[codecarbon INFO @ 19:29:09] Energy consumed for all GPUs : 0.072153 kWh. Total GPU Power : 69.57135836273694 W\n[codecarbon INFO @ 19:29:09] Energy consumed for all CPUs : 0.046926 kWh. Total CPU Power : 42.5 W\n[codecarbon INFO @ 19:29:09] 0.130422 kWh of electricity used since the beginning.\n[codecarbon INFO @ 19:29:15] Energy consumed for RAM : 0.011562 kWh. RAM Power : 10.2771635055542 W\n[codecarbon INFO @ 19:29:15] Energy consumed for all GPUs : 0.072684 kWh. Total GPU Power : 69.54505578402632 W\n[codecarbon INFO @ 19:29:15] Energy consumed for all CPUs : 0.047829 kWh. Total CPU Power : 42.5 W\n[codecarbon INFO @ 19:29:15] 0.132075 kWh of electricity used since the beginning.\n[codecarbon INFO @ 19:29:24] Energy consumed for RAM : 0.011386 kWh. RAM Power : 10.2771635055542 W\n[codecarbon INFO @ 19:29:24] Energy consumed for all GPUs : 0.072443 kWh. Total GPU Power : 69.5620200607686 W\n[codecarbon INFO @ 19:29:24] Energy consumed for all CPUs : 0.047103 kWh. Total CPU Power : 42.5 W\n[codecarbon INFO @ 19:29:24] 0.130932 kWh of electricity used since the beginning.\n[codecarbon INFO @ 19:29:30] Energy consumed for RAM : 0.011604 kWh. RAM Power : 10.2771635055542 W\n[codecarbon INFO @ 19:29:30] Energy consumed for all GPUs : 0.072973 kWh. Total GPU Power : 69.49866018407276 W\n[codecarbon INFO @ 19:29:30] Energy consumed for all CPUs : 0.048006 kWh. Total CPU Power : 42.5 W\n[codecarbon INFO @ 19:29:30] 0.132584 kWh of electricity used since the beginning.\n[codecarbon INFO @ 19:29:39] Energy consumed for RAM : 0.011429 kWh. RAM Power : 10.2771635055542 W\n[codecarbon INFO @ 19:29:39] Energy consumed for all GPUs : 0.072733 kWh. Total GPU Power : 69.61197709274356 W\n[codecarbon INFO @ 19:29:39] Energy consumed for all CPUs : 0.047280 kWh. Total CPU Power : 42.5 W\n[codecarbon INFO @ 19:29:39] 0.131442 kWh of electricity used since the beginning.\n[codecarbon INFO @ 19:29:45] Energy consumed for RAM : 0.011647 kWh. RAM Power : 10.2771635055542 W\n[codecarbon INFO @ 19:29:45] Energy consumed for all GPUs : 0.073264 kWh. Total GPU Power : 69.70710113145347 W\n[codecarbon INFO @ 19:29:45] Energy consumed for all CPUs : 0.048183 kWh. Total CPU Power : 42.5 W\n[codecarbon INFO @ 19:29:45] 0.133094 kWh of electricity used since the beginning.\n[codecarbon INFO @ 19:29:54] Energy consumed for RAM : 0.011472 kWh. RAM Power : 10.2771635055542 W\n[codecarbon INFO @ 19:29:54] Energy consumed for all GPUs : 0.073023 kWh. Total GPU Power : 69.59757021452954 W\n[codecarbon INFO @ 19:29:54] Energy consumed for all CPUs : 0.047457 kWh. Total CPU Power : 42.5 W\n[codecarbon INFO @ 19:29:54] 0.131952 kWh of electricity used since the beginning.\n[codecarbon INFO @ 19:30:00] Energy consumed for RAM : 0.011690 kWh. RAM Power : 10.2771635055542 W\n[codecarbon INFO @ 19:30:00] Energy consumed for all GPUs : 0.073553 kWh. Total GPU Power : 69.54299720574132 W\n[codecarbon INFO @ 19:30:00] Energy consumed for all CPUs : 0.048361 kWh. Total CPU Power : 42.5 W\n[codecarbon INFO @ 19:30:00] 0.133604 kWh of electricity used since the beginning.\n[codecarbon INFO @ 19:30:09] Energy consumed for RAM : 0.011515 kWh. RAM Power : 10.2771635055542 W\n[codecarbon INFO @ 19:30:09] Energy consumed for all GPUs : 0.073313 kWh. Total GPU Power : 69.53583668569777 W\n[codecarbon INFO @ 19:30:09] Energy consumed for all CPUs : 0.047634 kWh. Total CPU Power : 42.5 W\n[codecarbon INFO @ 19:30:09] 0.132461 kWh of electricity used since the beginning.\n[codecarbon INFO @ 19:30:15] Energy consumed for RAM : 0.011733 kWh. RAM Power : 10.2771635055542 W\n[codecarbon INFO @ 19:30:15] Energy consumed for all GPUs : 0.073843 kWh. Total GPU Power : 69.59598426554774 W\n[codecarbon INFO @ 19:30:15] Energy consumed for all CPUs : 0.048538 kWh. Total CPU Power : 42.5 W\n[codecarbon INFO @ 19:30:15] 0.134114 kWh of electricity used since the beginning.\n[codecarbon INFO @ 19:30:24] Energy consumed for RAM : 0.011558 kWh. RAM Power : 10.2771635055542 W\n[codecarbon INFO @ 19:30:24] Energy consumed for all GPUs : 0.073603 kWh. Total GPU Power : 69.59976943045206 W\n[codecarbon INFO @ 19:30:24] Energy consumed for all CPUs : 0.047811 kWh. Total CPU Power : 42.5 W\n[codecarbon INFO @ 19:30:24] 0.132971 kWh of electricity used since the beginning.\n[codecarbon INFO @ 19:30:30] Energy consumed for RAM : 0.011776 kWh. RAM Power : 10.2771635055542 W\n[codecarbon INFO @ 19:30:30] Energy consumed for all GPUs : 0.074133 kWh. Total GPU Power : 69.59348217489705 W\n[codecarbon INFO @ 19:30:30] Energy consumed for all CPUs : 0.048715 kWh. Total CPU Power : 42.5 W\n[codecarbon INFO @ 19:30:30] 0.134624 kWh of electricity used since the beginning.\n[codecarbon INFO @ 19:30:39] Energy consumed for RAM : 0.011600 kWh. RAM Power : 10.2771635055542 W\n[codecarbon INFO @ 19:30:39] Energy consumed for all GPUs : 0.073894 kWh. Total GPU Power : 69.98188117971637 W\n[codecarbon INFO @ 19:30:39] Energy consumed for all CPUs : 0.047988 kWh. Total CPU Power : 42.5 W\n[codecarbon INFO @ 19:30:39] 0.133483 kWh of electricity used since the beginning.\n[codecarbon INFO @ 19:30:45] Energy consumed for RAM : 0.011818 kWh. RAM Power : 10.2771635055542 W\n[codecarbon INFO @ 19:30:45] Energy consumed for all GPUs : 0.074423 kWh. Total GPU Power : 69.56285916166394 W\n[codecarbon INFO @ 19:30:45] Energy consumed for all CPUs : 0.048892 kWh. Total CPU Power : 42.5 W\n[codecarbon INFO @ 19:30:45] 0.135133 kWh of electricity used since the beginning.\n[codecarbon INFO @ 19:30:54] Energy consumed for RAM : 0.011643 kWh. RAM Power : 10.2771635055542 W\n[codecarbon INFO @ 19:30:54] Energy consumed for all GPUs : 0.074182 kWh. Total GPU Power : 69.14096641924971 W\n[codecarbon INFO @ 19:30:54] Energy consumed for all CPUs : 0.048165 kWh. Total CPU Power : 42.5 W\n[codecarbon INFO @ 19:30:54] 0.133991 kWh of electricity used since the beginning.\n[codecarbon INFO @ 19:31:00] Energy consumed for RAM : 0.011861 kWh. RAM Power : 10.2771635055542 W\n[codecarbon INFO @ 19:31:00] Energy consumed for all GPUs : 0.074713 kWh. Total GPU Power : 69.66318377564272 W\n[codecarbon INFO @ 19:31:00] Energy consumed for all CPUs : 0.049069 kWh. Total CPU Power : 42.5 W\n[codecarbon INFO @ 19:31:00] 0.135643 kWh of electricity used since the beginning.\n[codecarbon INFO @ 19:31:09] Energy consumed for RAM : 0.011686 kWh. RAM Power : 10.2771635055542 W\n[codecarbon INFO @ 19:31:09] Energy consumed for all GPUs : 0.074472 kWh. Total GPU Power : 69.51172727349896 W\n[codecarbon INFO @ 19:31:09] Energy consumed for all CPUs : 0.048342 kWh. Total CPU Power : 42.5 W\n[codecarbon INFO @ 19:31:09] 0.134500 kWh of electricity used since the beginning.\n[codecarbon INFO @ 19:31:15] Energy consumed for RAM : 0.011904 kWh. RAM Power : 10.2771635055542 W\n[codecarbon INFO @ 19:31:15] Energy consumed for all GPUs : 0.075003 kWh. Total GPU Power : 69.54903568885477 W\n[codecarbon INFO @ 19:31:15] Energy consumed for all CPUs : 0.049246 kWh. Total CPU Power : 42.5 W\n[codecarbon INFO @ 19:31:15] 0.136153 kWh of electricity used since the beginning.\n[codecarbon INFO @ 19:31:24] Energy consumed for RAM : 0.011729 kWh. RAM Power : 10.2771635055542 W\n[codecarbon INFO @ 19:31:24] Energy consumed for all GPUs : 0.074762 kWh. Total GPU Power : 69.65635291894226 W\n[codecarbon INFO @ 19:31:24] Energy consumed for all CPUs : 0.048519 kWh. Total CPU Power : 42.5 W\n[codecarbon INFO @ 19:31:24] 0.135010 kWh of electricity used since the beginning.\n[codecarbon INFO @ 19:31:30] Energy consumed for RAM : 0.011947 kWh. RAM Power : 10.2771635055542 W\n[codecarbon INFO @ 19:31:30] Energy consumed for all GPUs : 0.075293 kWh. Total GPU Power : 69.62390957871935 W\n[codecarbon INFO @ 19:31:30] Energy consumed for all CPUs : 0.049423 kWh. Total CPU Power : 42.5 W\n[codecarbon INFO @ 19:31:30] 0.136663 kWh of electricity used since the beginning.\n[codecarbon INFO @ 19:31:39] Energy consumed for RAM : 0.011772 kWh. RAM Power : 10.2771635055542 W\n[codecarbon INFO @ 19:31:39] Energy consumed for all GPUs : 0.075052 kWh. Total GPU Power : 69.6674426167369 W\n[codecarbon INFO @ 19:31:39] Energy consumed for all CPUs : 0.048697 kWh. Total CPU Power : 42.5 W\n[codecarbon INFO @ 19:31:39] 0.135520 kWh of electricity used since the beginning.\n[codecarbon INFO @ 19:31:45] Energy consumed for RAM : 0.011990 kWh. RAM Power : 10.2771635055542 W\n[codecarbon INFO @ 19:31:45] Energy consumed for all GPUs : 0.075583 kWh. Total GPU Power : 69.61969453238657 W\n[codecarbon INFO @ 19:31:45] Energy consumed for all CPUs : 0.049600 kWh. Total CPU Power : 42.5 W\n[codecarbon INFO @ 19:31:45] 0.137172 kWh of electricity used since the beginning.\n[codecarbon INFO @ 19:31:54] Energy consumed for RAM : 0.011814 kWh. RAM Power : 10.2771635055542 W\n[codecarbon INFO @ 19:31:54] Energy consumed for all GPUs : 0.075342 kWh. Total GPU Power : 69.64092219056165 W\n[codecarbon INFO @ 19:31:54] Energy consumed for all CPUs : 0.048874 kWh. Total CPU Power : 42.5 W\n[codecarbon INFO @ 19:31:54] 0.136030 kWh of electricity used since the beginning.\n[codecarbon INFO @ 19:32:00] Energy consumed for RAM : 0.012033 kWh. RAM Power : 10.2771635055542 W\n[codecarbon INFO @ 19:32:00] Energy consumed for all GPUs : 0.075873 kWh. Total GPU Power : 69.61294234399651 W\n[codecarbon INFO @ 19:32:00] Energy consumed for all CPUs : 0.049777 kWh. Total CPU Power : 42.5 W\n[codecarbon INFO @ 19:32:00] 0.137682 kWh of electricity used since the beginning.\n[codecarbon INFO @ 19:32:09] Energy consumed for RAM : 0.011857 kWh. RAM Power : 10.2771635055542 W\n[codecarbon INFO @ 19:32:09] Energy consumed for all GPUs : 0.075632 kWh. Total GPU Power : 69.62956327697798 W\n[codecarbon INFO @ 19:32:09] Energy consumed for all CPUs : 0.049051 kWh. Total CPU Power : 42.5 W\n[codecarbon INFO @ 19:32:09] 0.136540 kWh of electricity used since the beginning.\n[codecarbon INFO @ 19:32:15] Energy consumed for RAM : 0.012075 kWh. RAM Power : 10.2771635055542 W\n[codecarbon INFO @ 19:32:15] Energy consumed for all GPUs : 0.076161 kWh. Total GPU Power : 69.16855360694422 W\n[codecarbon INFO @ 19:32:15] Energy consumed for all CPUs : 0.049954 kWh. Total CPU Power : 42.5 W\n[codecarbon INFO @ 19:32:15] 0.138190 kWh of electricity used since the beginning.\n[codecarbon INFO @ 19:32:24] Energy consumed for RAM : 0.011900 kWh. RAM Power : 10.2771635055542 W\n[codecarbon INFO @ 19:32:24] Energy consumed for all GPUs : 0.075920 kWh. Total GPU Power : 69.16645726586927 W\n[codecarbon INFO @ 19:32:24] Energy consumed for all CPUs : 0.049228 kWh. Total CPU Power : 42.5 W\n[codecarbon INFO @ 19:32:24] 0.137048 kWh of electricity used since the beginning.\n[codecarbon INFO @ 19:32:30] Energy consumed for RAM : 0.012118 kWh. RAM Power : 10.2771635055542 W\n[codecarbon INFO @ 19:32:30] Energy consumed for all GPUs : 0.076451 kWh. Total GPU Power : 69.71867228255802 W\n[codecarbon INFO @ 19:32:30] Energy consumed for all CPUs : 0.050131 kWh. Total CPU Power : 42.5 W\n[codecarbon INFO @ 19:32:30] 0.138701 kWh of electricity used since the beginning.\n[codecarbon INFO @ 19:32:39] Energy consumed for RAM : 0.011943 kWh. RAM Power : 10.2771635055542 W\n[codecarbon INFO @ 19:32:39] Energy consumed for all GPUs : 0.076210 kWh. Total GPU Power : 69.54817086775003 W\n[codecarbon INFO @ 19:32:39] Energy consumed for all CPUs : 0.049405 kWh. Total CPU Power : 42.5 W\n[codecarbon INFO @ 19:32:39] 0.137558 kWh of electricity used since the beginning.\n[codecarbon INFO @ 19:32:45] Energy consumed for RAM : 0.012161 kWh. RAM Power : 10.2771635055542 W\n[codecarbon INFO @ 19:32:45] Energy consumed for all GPUs : 0.076741 kWh. Total GPU Power : 69.55125733606741 W\n[codecarbon INFO @ 19:32:45] Energy consumed for all CPUs : 0.050308 kWh. Total CPU Power : 42.5 W\n[codecarbon INFO @ 19:32:45] 0.139210 kWh of electricity used since the beginning.\n[codecarbon INFO @ 19:32:54] Energy consumed for RAM : 0.011986 kWh. RAM Power : 10.2771635055542 W\n[codecarbon INFO @ 19:32:54] Energy consumed for all GPUs : 0.076500 kWh. Total GPU Power : 69.55509741253017 W\n[codecarbon INFO @ 19:32:54] Energy consumed for all CPUs : 0.049582 kWh. Total CPU Power : 42.5 W\n[codecarbon INFO @ 19:32:54] 0.138067 kWh of electricity used since the beginning.\n[codecarbon INFO @ 19:33:00] Energy consumed for RAM : 0.012204 kWh. RAM Power : 10.2771635055542 W\n[codecarbon INFO @ 19:33:00] Energy consumed for all GPUs : 0.077031 kWh. Total GPU Power : 69.62338191404173 W\n[codecarbon INFO @ 19:33:00] Energy consumed for all CPUs : 0.050485 kWh. Total CPU Power : 42.5 W\n[codecarbon INFO @ 19:33:00] 0.139720 kWh of electricity used since the beginning.\n[codecarbon INFO @ 19:33:09] Energy consumed for RAM : 0.012028 kWh. RAM Power : 10.2771635055542 W\n[codecarbon INFO @ 19:33:09] Energy consumed for all GPUs : 0.076790 kWh. Total GPU Power : 69.64432635858788 W\n[codecarbon INFO @ 19:33:09] Energy consumed for all CPUs : 0.049759 kWh. Total CPU Power : 42.5 W\n[codecarbon INFO @ 19:33:09] 0.138577 kWh of electricity used since the beginning.\n[codecarbon INFO @ 19:33:15] Energy consumed for RAM : 0.012247 kWh. RAM Power : 10.2771635055542 W\n[codecarbon INFO @ 19:33:15] Energy consumed for all GPUs : 0.077321 kWh. Total GPU Power : 69.66698743819819 W\n[codecarbon INFO @ 19:33:15] Energy consumed for all CPUs : 0.050662 kWh. Total CPU Power : 42.5 W\n[codecarbon INFO @ 19:33:15] 0.140230 kWh of electricity used since the beginning.\n[codecarbon INFO @ 19:33:24] Energy consumed for RAM : 0.012071 kWh. RAM Power : 10.2771635055542 W\n[codecarbon INFO @ 19:33:24] Energy consumed for all GPUs : 0.077080 kWh. Total GPU Power : 69.64002820955079 W\n[codecarbon INFO @ 19:33:24] Energy consumed for all CPUs : 0.049936 kWh. Total CPU Power : 42.5 W\n[codecarbon INFO @ 19:33:24] 0.139087 kWh of electricity used since the beginning.\n[codecarbon INFO @ 19:33:30] Energy consumed for RAM : 0.012289 kWh. RAM Power : 10.2771635055542 W\n[codecarbon INFO @ 19:33:30] Energy consumed for all GPUs : 0.077611 kWh. Total GPU Power : 69.62223366053169 W\n[codecarbon INFO @ 19:33:30] Energy consumed for all CPUs : 0.050840 kWh. Total CPU Power : 42.5 W\n[codecarbon INFO @ 19:33:30] 0.140740 kWh of electricity used since the beginning.\n[codecarbon INFO @ 19:33:39] Energy consumed for RAM : 0.012114 kWh. RAM Power : 10.2771635055542 W\n[codecarbon INFO @ 19:33:39] Energy consumed for all GPUs : 0.077370 kWh. Total GPU Power : 69.55748420046292 W\n[codecarbon INFO @ 19:33:39] Energy consumed for all CPUs : 0.050113 kWh. Total CPU Power : 42.5 W\n[codecarbon INFO @ 19:33:39] 0.139597 kWh of electricity used since the beginning.\n[codecarbon INFO @ 19:33:45] Energy consumed for RAM : 0.012332 kWh. RAM Power : 10.2771635055542 W\n[codecarbon INFO @ 19:33:45] Energy consumed for all GPUs : 0.077901 kWh. Total GPU Power : 69.56956031623218 W\n[codecarbon INFO @ 19:33:45] Energy consumed for all CPUs : 0.051017 kWh. Total CPU Power : 42.5 W\n[codecarbon INFO @ 19:33:45] 0.141249 kWh of electricity used since the beginning.\n[codecarbon INFO @ 19:33:54] Energy consumed for RAM : 0.012157 kWh. RAM Power : 10.2771635055542 W\n[codecarbon INFO @ 19:33:54] Energy consumed for all GPUs : 0.077660 kWh. Total GPU Power : 69.65586280999014 W\n[codecarbon INFO @ 19:33:54] Energy consumed for all CPUs : 0.050290 kWh. Total CPU Power : 42.5 W\n[codecarbon INFO @ 19:33:54] 0.140107 kWh of electricity used since the beginning.\n[codecarbon INFO @ 19:34:00] Energy consumed for RAM : 0.012375 kWh. RAM Power : 10.2771635055542 W\n[codecarbon INFO @ 19:34:00] Energy consumed for all GPUs : 0.078191 kWh. Total GPU Power : 69.5981601403425 W\n[codecarbon INFO @ 19:34:00] Energy consumed for all CPUs : 0.051194 kWh. Total CPU Power : 42.5 W\n[codecarbon INFO @ 19:34:00] 0.141759 kWh of electricity used since the beginning.\n[codecarbon INFO @ 19:34:09] Energy consumed for RAM : 0.012200 kWh. RAM Power : 10.2771635055542 W\n[codecarbon INFO @ 19:34:09] Energy consumed for all GPUs : 0.077946 kWh. Total GPU Power : 68.62655376353787 W\n[codecarbon INFO @ 19:34:09] Energy consumed for all CPUs : 0.050467 kWh. Total CPU Power : 42.5 W\n[codecarbon INFO @ 19:34:09] 0.140613 kWh of electricity used since the beginning.\n[codecarbon INFO @ 19:34:15] Energy consumed for RAM : 0.012418 kWh. RAM Power : 10.2771635055542 W\n[codecarbon INFO @ 19:34:15] Energy consumed for all GPUs : 0.078472 kWh. Total GPU Power : 67.62850411007796 W\n[codecarbon INFO @ 19:34:15] Energy consumed for all CPUs : 0.051371 kWh. Total CPU Power : 42.5 W\n[codecarbon INFO @ 19:34:15] 0.142261 kWh of electricity used since the beginning.\n[codecarbon INFO @ 19:34:24] Energy consumed for RAM : 0.012242 kWh. RAM Power : 10.2771635055542 W\n[codecarbon INFO @ 19:34:24] Energy consumed for all GPUs : 0.078232 kWh. Total GPU Power : 68.722896368703 W\n[codecarbon INFO @ 19:34:24] Energy consumed for all CPUs : 0.050644 kWh. Total CPU Power : 42.5 W\n[codecarbon INFO @ 19:34:24] 0.141119 kWh of electricity used since the beginning.\n[codecarbon INFO @ 19:34:30] Energy consumed for RAM : 0.012461 kWh. RAM Power : 10.2771635055542 W\n[codecarbon INFO @ 19:34:30] Energy consumed for all GPUs : 0.078762 kWh. Total GPU Power : 69.61298360316785 W\n[codecarbon INFO @ 19:34:30] Energy consumed for all CPUs : 0.051548 kWh. Total CPU Power : 42.5 W\n[codecarbon INFO @ 19:34:30] 0.142771 kWh of electricity used since the beginning.\n[codecarbon INFO @ 19:34:39] Energy consumed for RAM : 0.012285 kWh. RAM Power : 10.2771635055542 W\n[codecarbon INFO @ 19:34:39] Energy consumed for all GPUs : 0.078521 kWh. Total GPU Power : 69.55293335902255 W\n[codecarbon INFO @ 19:34:39] Energy consumed for all CPUs : 0.050821 kWh. Total CPU Power : 42.5 W\n[codecarbon INFO @ 19:34:39] 0.141628 kWh of electricity used since the beginning.\n[codecarbon INFO @ 19:34:45] Energy consumed for RAM : 0.012503 kWh. RAM Power : 10.2771635055542 W\n[codecarbon INFO @ 19:34:45] Energy consumed for all GPUs : 0.079052 kWh. Total GPU Power : 69.59186169672073 W\n[codecarbon INFO @ 19:34:45] Energy consumed for all CPUs : 0.051725 kWh. Total CPU Power : 42.5 W\n[codecarbon INFO @ 19:34:45] 0.143280 kWh of electricity used since the beginning.\n[codecarbon INFO @ 19:34:54] Energy consumed for RAM : 0.012328 kWh. RAM Power : 10.2771635055542 W\n[codecarbon INFO @ 19:34:54] Energy consumed for all GPUs : 0.078811 kWh. Total GPU Power : 69.47699161004294 W\n[codecarbon INFO @ 19:34:54] Energy consumed for all CPUs : 0.050999 kWh. Total CPU Power : 42.5 W\n[codecarbon INFO @ 19:34:54] 0.142137 kWh of electricity used since the beginning.\n[codecarbon INFO @ 19:35:00] Energy consumed for RAM : 0.012546 kWh. RAM Power : 10.2771635055542 W\n[codecarbon INFO @ 19:35:00] Energy consumed for all GPUs : 0.079342 kWh. Total GPU Power : 69.57998007623266 W\n[codecarbon INFO @ 19:35:00] Energy consumed for all CPUs : 0.051902 kWh. Total CPU Power : 42.5 W\n[codecarbon INFO @ 19:35:00] 0.143790 kWh of electricity used since the beginning.\n[codecarbon INFO @ 19:35:09] Energy consumed for RAM : 0.012371 kWh. RAM Power : 10.2771635055542 W\n[codecarbon INFO @ 19:35:09] Energy consumed for all GPUs : 0.079101 kWh. Total GPU Power : 69.57427518789116 W\n[codecarbon INFO @ 19:35:09] Energy consumed for all CPUs : 0.051176 kWh. Total CPU Power : 42.5 W\n[codecarbon INFO @ 19:35:09] 0.142647 kWh of electricity used since the beginning.\n[codecarbon INFO @ 19:35:15] Energy consumed for RAM : 0.012589 kWh. RAM Power : 10.2771635055542 W\n[codecarbon INFO @ 19:35:15] Energy consumed for all GPUs : 0.079630 kWh. Total GPU Power : 69.26359689591159 W\n[codecarbon INFO @ 19:35:15] Energy consumed for all CPUs : 0.052079 kWh. Total CPU Power : 42.5 W\n[codecarbon INFO @ 19:35:15] 0.144298 kWh of electricity used since the beginning.\n[codecarbon INFO @ 19:35:24] Energy consumed for RAM : 0.012414 kWh. RAM Power : 10.2771635055542 W\n[codecarbon INFO @ 19:35:24] Energy consumed for all GPUs : 0.079390 kWh. Total GPU Power : 69.39933292937216 W\n[codecarbon INFO @ 19:35:24] Energy consumed for all CPUs : 0.051353 kWh. Total CPU Power : 42.5 W\n[codecarbon INFO @ 19:35:24] 0.143156 kWh of electricity used since the beginning.\n[codecarbon INFO @ 19:35:30] Energy consumed for RAM : 0.012632 kWh. RAM Power : 10.2771635055542 W\n[codecarbon INFO @ 19:35:30] Energy consumed for all GPUs : 0.079921 kWh. Total GPU Power : 69.68739837909193 W\n[codecarbon INFO @ 19:35:30] Energy consumed for all CPUs : 0.052256 kWh. Total CPU Power : 42.5 W\n[codecarbon INFO @ 19:35:30] 0.144809 kWh of electricity used since the beginning.\n[codecarbon INFO @ 19:35:39] Energy consumed for RAM : 0.012456 kWh. RAM Power : 10.2771635055542 W\n[codecarbon INFO @ 19:35:39] Energy consumed for all GPUs : 0.079680 kWh. Total GPU Power : 69.61512598215022 W\n[codecarbon INFO @ 19:35:39] Energy consumed for all CPUs : 0.051530 kWh. Total CPU Power : 42.5 W\n[codecarbon INFO @ 19:35:39] 0.143666 kWh of electricity used since the beginning.\n[codecarbon INFO @ 19:35:45] Energy consumed for RAM : 0.012675 kWh. RAM Power : 10.2771635055542 W\n[codecarbon INFO @ 19:35:45] Energy consumed for all GPUs : 0.080210 kWh. Total GPU Power : 69.56737170027782 W\n[codecarbon INFO @ 19:35:45] Energy consumed for all CPUs : 0.052433 kWh. Total CPU Power : 42.5 W\n[codecarbon INFO @ 19:35:45] 0.145318 kWh of electricity used since the beginning.\n[codecarbon INFO @ 19:35:54] Energy consumed for RAM : 0.012499 kWh. RAM Power : 10.2771635055542 W\n[codecarbon INFO @ 19:35:54] Energy consumed for all GPUs : 0.079970 kWh. Total GPU Power : 69.59164808016574 W\n[codecarbon INFO @ 19:35:54] Energy consumed for all CPUs : 0.051707 kWh. Total CPU Power : 42.5 W\n[codecarbon INFO @ 19:35:54] 0.144176 kWh of electricity used since the beginning.\n[codecarbon INFO @ 19:36:00] Energy consumed for RAM : 0.012717 kWh. RAM Power : 10.2771635055542 W\n[codecarbon INFO @ 19:36:00] Energy consumed for all GPUs : 0.080500 kWh. Total GPU Power : 69.59825447963105 W\n[codecarbon INFO @ 19:36:00] Energy consumed for all CPUs : 0.052610 kWh. Total CPU Power : 42.5 W\n[codecarbon INFO @ 19:36:00] 0.145828 kWh of electricity used since the beginning.\n[codecarbon INFO @ 19:36:09] Energy consumed for RAM : 0.012542 kWh. RAM Power : 10.2771635055542 W\n[codecarbon INFO @ 19:36:09] Energy consumed for all GPUs : 0.080260 kWh. Total GPU Power : 69.61541565537469 W\n[codecarbon INFO @ 19:36:09] Energy consumed for all CPUs : 0.051884 kWh. Total CPU Power : 42.5 W\n[codecarbon INFO @ 19:36:09] 0.144686 kWh of electricity used since the beginning.\n[codecarbon INFO @ 19:36:15] Energy consumed for RAM : 0.012760 kWh. RAM Power : 10.2771635055542 W\n[codecarbon INFO @ 19:36:15] Energy consumed for all GPUs : 0.080790 kWh. Total GPU Power : 69.6061710776516 W\n[codecarbon INFO @ 19:36:15] Energy consumed for all CPUs : 0.052787 kWh. Total CPU Power : 42.5 W\n[codecarbon INFO @ 19:36:15] 0.146338 kWh of electricity used since the beginning.\n[codecarbon INFO @ 19:36:24] Energy consumed for RAM : 0.012585 kWh. RAM Power : 10.2771635055542 W\n[codecarbon INFO @ 19:36:24] Energy consumed for all GPUs : 0.080548 kWh. Total GPU Power : 69.205655073054 W\n[codecarbon INFO @ 19:36:24] Energy consumed for all CPUs : 0.052061 kWh. Total CPU Power : 42.5 W\n[codecarbon INFO @ 19:36:24] 0.145194 kWh of electricity used since the beginning.\n[codecarbon INFO @ 19:36:30] Energy consumed for RAM : 0.012803 kWh. RAM Power : 10.2771635055542 W\n[codecarbon INFO @ 19:36:30] Energy consumed for all GPUs : 0.081079 kWh. Total GPU Power : 69.34411641498438 W\n[codecarbon INFO @ 19:36:30] Energy consumed for all CPUs : 0.052964 kWh. Total CPU Power : 42.5 W\n[codecarbon INFO @ 19:36:30] 0.146846 kWh of electricity used since the beginning.\n[codecarbon INFO @ 19:36:39] Energy consumed for RAM : 0.012628 kWh. RAM Power : 10.2771635055542 W\n[codecarbon INFO @ 19:36:39] Energy consumed for all GPUs : 0.080838 kWh. Total GPU Power : 69.69761843425036 W\n[codecarbon INFO @ 19:36:39] Energy consumed for all CPUs : 0.052238 kWh. Total CPU Power : 42.5 W\n[codecarbon INFO @ 19:36:39] 0.145704 kWh of electricity used since the beginning.\n[codecarbon INFO @ 19:36:45] Energy consumed for RAM : 0.012846 kWh. RAM Power : 10.2771635055542 W\n[codecarbon INFO @ 19:36:45] Energy consumed for all GPUs : 0.081364 kWh. Total GPU Power : 68.47245624224048 W\n[codecarbon INFO @ 19:36:45] Energy consumed for all CPUs : 0.053142 kWh. Total CPU Power : 42.5 W\n[codecarbon INFO @ 19:36:45] 0.147352 kWh of electricity used since the beginning.\n[codecarbon INFO @ 19:36:54] Energy consumed for RAM : 0.012671 kWh. RAM Power : 10.2771635055542 W\n[codecarbon INFO @ 19:36:54] Energy consumed for all GPUs : 0.081123 kWh. Total GPU Power : 68.26539349366303 W\n[codecarbon INFO @ 19:36:54] Energy consumed for all CPUs : 0.052415 kWh. Total CPU Power : 42.5 W\n[codecarbon INFO @ 19:36:54] 0.146208 kWh of electricity used since the beginning.\n[codecarbon INFO @ 19:37:00] Energy consumed for RAM : 0.012889 kWh. RAM Power : 10.2771635055542 W\n[codecarbon INFO @ 19:37:00] Energy consumed for all GPUs : 0.081654 kWh. Total GPU Power : 69.49189576214064 W\n[codecarbon INFO @ 19:37:00] Energy consumed for all CPUs : 0.053319 kWh. Total CPU Power : 42.5 W\n[codecarbon INFO @ 19:37:00] 0.147861 kWh of electricity used since the beginning.\n[codecarbon INFO @ 19:37:09] Energy consumed for RAM : 0.012713 kWh. RAM Power : 10.2771635055542 W\n[codecarbon INFO @ 19:37:09] Energy consumed for all GPUs : 0.081413 kWh. Total GPU Power : 69.5907186864852 W\n[codecarbon INFO @ 19:37:09] Energy consumed for all CPUs : 0.052592 kWh. Total CPU Power : 42.5 W\n[codecarbon INFO @ 19:37:09] 0.146718 kWh of electricity used since the beginning.\n[codecarbon INFO @ 19:37:15] Energy consumed for RAM : 0.012931 kWh. RAM Power : 10.2771635055542 W\n[codecarbon INFO @ 19:37:15] Energy consumed for all GPUs : 0.081943 kWh. Total GPU Power : 69.53182875973314 W\n[codecarbon INFO @ 19:37:15] Energy consumed for all CPUs : 0.053496 kWh. Total CPU Power : 42.5 W\n[codecarbon INFO @ 19:37:15] 0.148370 kWh of electricity used since the beginning.\n[codecarbon INFO @ 19:37:24] Energy consumed for RAM : 0.012756 kWh. RAM Power : 10.2771635055542 W\n[codecarbon INFO @ 19:37:24] Energy consumed for all GPUs : 0.081702 kWh. Total GPU Power : 69.45291569648349 W\n[codecarbon INFO @ 19:37:24] Energy consumed for all CPUs : 0.052769 kWh. Total CPU Power : 42.5 W\n[codecarbon INFO @ 19:37:24] 0.147227 kWh of electricity used since the beginning.\n[codecarbon INFO @ 19:37:30] Energy consumed for RAM : 0.012974 kWh. RAM Power : 10.2771635055542 W\n[codecarbon INFO @ 19:37:30] Energy consumed for all GPUs : 0.082232 kWh. Total GPU Power : 69.34211285459769 W\n[codecarbon INFO @ 19:37:30] Energy consumed for all CPUs : 0.053673 kWh. Total CPU Power : 42.5 W\n[codecarbon INFO @ 19:37:30] 0.148880 kWh of electricity used since the beginning.\n[codecarbon INFO @ 19:37:39] Energy consumed for RAM : 0.012799 kWh. RAM Power : 10.2771635055542 W\n[codecarbon INFO @ 19:37:39] Energy consumed for all GPUs : 0.081971 kWh. Total GPU Power : 64.51654811724303 W\n[codecarbon INFO @ 19:37:39] Energy consumed for all CPUs : 0.052946 kWh. Total CPU Power : 42.5 W\n[codecarbon INFO @ 19:37:39] 0.147716 kWh of electricity used since the beginning.\n[codecarbon INFO @ 19:37:45] Energy consumed for RAM : 0.013017 kWh. RAM Power : 10.2771635055542 W\n[codecarbon INFO @ 19:37:45] Energy consumed for all GPUs : 0.082501 kWh. Total GPU Power : 64.57899285656478 W\n[codecarbon INFO @ 19:37:45] Energy consumed for all CPUs : 0.053850 kWh. Total CPU Power : 42.5 W\n[codecarbon INFO @ 19:37:45] 0.149368 kWh of electricity used since the beginning.\n[codecarbon INFO @ 19:37:54] Energy consumed for RAM : 0.012842 kWh. RAM Power : 10.2771635055542 W\n[codecarbon INFO @ 19:37:54] Energy consumed for all GPUs : 0.082258 kWh. Total GPU Power : 68.89063350602159 W\n[codecarbon INFO @ 19:37:54] Energy consumed for all CPUs : 0.053124 kWh. Total CPU Power : 42.5 W\n[codecarbon INFO @ 19:37:54] 0.148223 kWh of electricity used since the beginning.\n[codecarbon INFO @ 19:38:00] Energy consumed for RAM : 0.013060 kWh. RAM Power : 10.2771635055542 W\n[codecarbon INFO @ 19:38:00] Energy consumed for all GPUs : 0.082781 kWh. Total GPU Power : 67.12522186358972 W\n[codecarbon INFO @ 19:38:00] Energy consumed for all CPUs : 0.054027 kWh. Total CPU Power : 42.5 W\n[codecarbon INFO @ 19:38:00] 0.149868 kWh of electricity used since the beginning.\n[codecarbon INFO @ 19:38:09] Energy consumed for RAM : 0.012885 kWh. RAM Power : 10.2771635055542 W\n[codecarbon INFO @ 19:38:09] Energy consumed for all GPUs : 0.082540 kWh. Total GPU Power : 67.7861434309882 W\n[codecarbon INFO @ 19:38:09] Energy consumed for all CPUs : 0.053301 kWh. Total CPU Power : 42.5 W\n[codecarbon INFO @ 19:38:09] 0.148725 kWh of electricity used since the beginning.\n[codecarbon INFO @ 19:38:15] Energy consumed for RAM : 0.013103 kWh. RAM Power : 10.2771635055542 W\n[codecarbon INFO @ 19:38:15] Energy consumed for all GPUs : 0.083071 kWh. Total GPU Power : 69.5795756345512 W\n[codecarbon INFO @ 19:38:15] Energy consumed for all CPUs : 0.054204 kWh. Total CPU Power : 42.5 W\n[codecarbon INFO @ 19:38:15] 0.150378 kWh of electricity used since the beginning.\n[codecarbon INFO @ 19:38:24] Energy consumed for RAM : 0.012927 kWh. RAM Power : 10.2771635055542 W\n[codecarbon INFO @ 19:38:24] Energy consumed for all GPUs : 0.082830 kWh. Total GPU Power : 69.61694579899617 W\n[codecarbon INFO @ 19:38:24] Energy consumed for all CPUs : 0.053478 kWh. Total CPU Power : 42.5 W\n[codecarbon INFO @ 19:38:24] 0.149235 kWh of electricity used since the beginning.\n[codecarbon INFO @ 19:38:30] Energy consumed for RAM : 0.013145 kWh. RAM Power : 10.2771635055542 W\n[codecarbon INFO @ 19:38:30] Energy consumed for all GPUs : 0.083361 kWh. Total GPU Power : 69.64381358016261 W\n[codecarbon INFO @ 19:38:30] Energy consumed for all CPUs : 0.054381 kWh. Total CPU Power : 42.5 W\n[codecarbon INFO @ 19:38:30] 0.150887 kWh of electricity used since the beginning.\n[codecarbon INFO @ 19:38:39] Energy consumed for RAM : 0.012970 kWh. RAM Power : 10.2771635055542 W\n[codecarbon INFO @ 19:38:39] Energy consumed for all GPUs : 0.083115 kWh. Total GPU Power : 68.32704432677517 W\n[codecarbon INFO @ 19:38:39] Energy consumed for all CPUs : 0.053655 kWh. Total CPU Power : 42.5 W\n[codecarbon INFO @ 19:38:39] 0.149740 kWh of electricity used since the beginning.\n[codecarbon INFO @ 19:38:45] Energy consumed for RAM : 0.013188 kWh. RAM Power : 10.2771635055542 W\n[codecarbon INFO @ 19:38:45] Energy consumed for all GPUs : 0.083644 kWh. Total GPU Power : 68.06074974097815 W\n[codecarbon INFO @ 19:38:45] Energy consumed for all CPUs : 0.054558 kWh. Total CPU Power : 42.5 W\n[codecarbon INFO @ 19:38:45] 0.151391 kWh of electricity used since the beginning.\n[codecarbon INFO @ 19:38:54] Energy consumed for RAM : 0.013013 kWh. RAM Power : 10.2771635055542 W\n[codecarbon INFO @ 19:38:54] Energy consumed for all GPUs : 0.083399 kWh. Total GPU Power : 68.23843111154481 W\n[codecarbon INFO @ 19:38:54] Energy consumed for all CPUs : 0.053832 kWh. Total CPU Power : 42.5 W\n[codecarbon INFO @ 19:38:54] 0.150244 kWh of electricity used since the beginning.\n[codecarbon INFO @ 19:39:00] Energy consumed for RAM : 0.013231 kWh. RAM Power : 10.2771635055542 W\n[codecarbon INFO @ 19:39:00] Energy consumed for all GPUs : 0.083930 kWh. Total GPU Power : 68.57154976394656 W\n[codecarbon INFO @ 19:39:00] Energy consumed for all CPUs : 0.054735 kWh. Total CPU Power : 42.5 W\n[codecarbon INFO @ 19:39:00] 0.151896 kWh of electricity used since the beginning.\n[codecarbon INFO @ 19:39:09] Energy consumed for RAM : 0.013056 kWh. RAM Power : 10.2771635055542 W\n[codecarbon INFO @ 19:39:09] Energy consumed for all GPUs : 0.083689 kWh. Total GPU Power : 69.70264757516229 W\n[codecarbon INFO @ 19:39:09] Energy consumed for all CPUs : 0.054009 kWh. Total CPU Power : 42.5 W\n[codecarbon INFO @ 19:39:09] 0.150754 kWh of electricity used since the beginning.\n[codecarbon INFO @ 19:39:15] Energy consumed for RAM : 0.013274 kWh. RAM Power : 10.2771635055542 W\n[codecarbon INFO @ 19:39:15] Energy consumed for all GPUs : 0.084220 kWh. Total GPU Power : 69.75274187987401 W\n[codecarbon INFO @ 19:39:15] Energy consumed for all CPUs : 0.054912 kWh. Total CPU Power : 42.5 W\n[codecarbon INFO @ 19:39:15] 0.152407 kWh of electricity used since the beginning.\n[codecarbon INFO @ 19:39:24] Energy consumed for RAM : 0.013099 kWh. RAM Power : 10.2771635055542 W\n[codecarbon INFO @ 19:39:24] Energy consumed for all GPUs : 0.083980 kWh. Total GPU Power : 69.73136111660665 W\n[codecarbon INFO @ 19:39:24] Energy consumed for all CPUs : 0.054186 kWh. Total CPU Power : 42.5 W\n[codecarbon INFO @ 19:39:24] 0.151265 kWh of electricity used since the beginning.\n[codecarbon INFO @ 19:39:30] Energy consumed for RAM : 0.013317 kWh. RAM Power : 10.2771635055542 W\n[codecarbon INFO @ 19:39:30] Energy consumed for all GPUs : 0.084511 kWh. Total GPU Power : 69.6347836409818 W\n[codecarbon INFO @ 19:39:30] Energy consumed for all CPUs : 0.055090 kWh. Total CPU Power : 42.5 W\n[codecarbon INFO @ 19:39:30] 0.152917 kWh of electricity used since the beginning.\n[codecarbon INFO @ 19:39:39] Energy consumed for RAM : 0.013141 kWh. RAM Power : 10.2771635055542 W\n[codecarbon INFO @ 19:39:39] Energy consumed for all GPUs : 0.084270 kWh. Total GPU Power : 69.7228560681252 W\n[codecarbon INFO @ 19:39:39] Energy consumed for all CPUs : 0.054363 kWh. Total CPU Power : 42.5 W\n[codecarbon INFO @ 19:39:39] 0.151775 kWh of electricity used since the beginning.\n[codecarbon INFO @ 19:39:45] Energy consumed for RAM : 0.013359 kWh. RAM Power : 10.2771635055542 W\n[codecarbon INFO @ 19:39:45] Energy consumed for all GPUs : 0.084801 kWh. Total GPU Power : 69.7871949201741 W\n[codecarbon INFO @ 19:39:45] Energy consumed for all CPUs : 0.055267 kWh. Total CPU Power : 42.5 W\n[codecarbon INFO @ 19:39:45] 0.153427 kWh of electricity used since the beginning.\n[codecarbon INFO @ 19:39:54] Energy consumed for RAM : 0.013184 kWh. RAM Power : 10.2771635055542 W\n[codecarbon INFO @ 19:39:54] Energy consumed for all GPUs : 0.084561 kWh. Total GPU Power : 69.82363483727191 W\n[codecarbon INFO @ 19:39:54] Energy consumed for all CPUs : 0.054540 kWh. Total CPU Power : 42.5 W\n[codecarbon INFO @ 19:39:54] 0.152286 kWh of electricity used since the beginning.\n[codecarbon INFO @ 19:40:00] Energy consumed for RAM : 0.013402 kWh. RAM Power : 10.2771635055542 W\n[codecarbon INFO @ 19:40:00] Energy consumed for all GPUs : 0.085092 kWh. Total GPU Power : 69.869398608855 W\n[codecarbon INFO @ 19:40:00] Energy consumed for all CPUs : 0.055444 kWh. Total CPU Power : 42.5 W\n[codecarbon INFO @ 19:40:00] 0.153938 kWh of electricity used since the beginning.\n[codecarbon INFO @ 19:40:09] Energy consumed for RAM : 0.013227 kWh. RAM Power : 10.2771635055542 W\n[codecarbon INFO @ 19:40:09] Energy consumed for all GPUs : 0.084852 kWh. Total GPU Power : 69.77546143321523 W\n[codecarbon INFO @ 19:40:09] Energy consumed for all CPUs : 0.054717 kWh. Total CPU Power : 42.5 W\n[codecarbon INFO @ 19:40:09] 0.152796 kWh of electricity used since the beginning.\n[codecarbon INFO @ 19:40:15] Energy consumed for RAM : 0.013445 kWh. RAM Power : 10.2771635055542 W\n[codecarbon INFO @ 19:40:15] Energy consumed for all GPUs : 0.085383 kWh. Total GPU Power : 69.7091241159103 W\n[codecarbon INFO @ 19:40:15] Energy consumed for all CPUs : 0.055621 kWh. Total CPU Power : 42.5 W\n[codecarbon INFO @ 19:40:15] 0.154448 kWh of electricity used since the beginning.\n[codecarbon INFO @ 19:40:24] Energy consumed for RAM : 0.013270 kWh. RAM Power : 10.2771635055542 W\n[codecarbon INFO @ 19:40:24] Energy consumed for all GPUs : 0.085142 kWh. Total GPU Power : 69.71930859247028 W\n[codecarbon INFO @ 19:40:24] Energy consumed for all CPUs : 0.054895 kWh. Total CPU Power : 42.5 W\n[codecarbon INFO @ 19:40:24] 0.153307 kWh of electricity used since the beginning.\n[codecarbon INFO @ 19:40:30] Energy consumed for RAM : 0.013488 kWh. RAM Power : 10.2771635055542 W\n[codecarbon INFO @ 19:40:30] Energy consumed for all GPUs : 0.085673 kWh. Total GPU Power : 69.73538453868962 W\n[codecarbon INFO @ 19:40:30] Energy consumed for all CPUs : 0.055798 kWh. Total CPU Power : 42.5 W\n[codecarbon INFO @ 19:40:30] 0.154959 kWh of electricity used since the beginning.\n[codecarbon INFO @ 19:40:39] Energy consumed for RAM : 0.013313 kWh. RAM Power : 10.2771635055542 W\n[codecarbon INFO @ 19:40:39] Energy consumed for all GPUs : 0.085432 kWh. Total GPU Power : 69.67880210236403 W\n[codecarbon INFO @ 19:40:39] Energy consumed for all CPUs : 0.055072 kWh. Total CPU Power : 42.5 W\n[codecarbon INFO @ 19:40:39] 0.153817 kWh of electricity used since the beginning.\n[codecarbon INFO @ 19:40:45] Energy consumed for RAM : 0.013531 kWh. RAM Power : 10.2771635055542 W\n[codecarbon INFO @ 19:40:45] Energy consumed for all GPUs : 0.085963 kWh. Total GPU Power : 69.72246994388014 W\n[codecarbon INFO @ 19:40:45] Energy consumed for all CPUs : 0.055975 kWh. Total CPU Power : 42.5 W\n[codecarbon INFO @ 19:40:45] 0.155469 kWh of electricity used since the beginning.\n[codecarbon INFO @ 19:40:54] Energy consumed for RAM : 0.013355 kWh. RAM Power : 10.2771635055542 W\n[codecarbon INFO @ 19:40:54] Energy consumed for all GPUs : 0.085723 kWh. Total GPU Power : 69.74992031635078 W\n[codecarbon INFO @ 19:40:54] Energy consumed for all CPUs : 0.055249 kWh. Total CPU Power : 42.5 W\n[codecarbon INFO @ 19:40:54] 0.154327 kWh of electricity used since the beginning.\n[codecarbon INFO @ 19:41:00] Energy consumed for RAM : 0.013573 kWh. RAM Power : 10.2771635055542 W\n[codecarbon INFO @ 19:41:00] Energy consumed for all GPUs : 0.086254 kWh. Total GPU Power : 69.71152004465286 W\n[codecarbon INFO @ 19:41:00] Energy consumed for all CPUs : 0.056152 kWh. Total CPU Power : 42.5 W\n[codecarbon INFO @ 19:41:00] 0.155979 kWh of electricity used since the beginning.\n[codecarbon INFO @ 19:41:09] Energy consumed for RAM : 0.013398 kWh. RAM Power : 10.2771635055542 W\n[codecarbon INFO @ 19:41:09] Energy consumed for all GPUs : 0.086014 kWh. Total GPU Power : 69.73862242017616 W\n[codecarbon INFO @ 19:41:09] Energy consumed for all CPUs : 0.055426 kWh. Total CPU Power : 42.5 W\n[codecarbon INFO @ 19:41:09] 0.154838 kWh of electricity used since the beginning.\n[codecarbon INFO @ 19:41:15] Energy consumed for RAM : 0.013616 kWh. RAM Power : 10.2771635055542 W\n[codecarbon INFO @ 19:41:15] Energy consumed for all GPUs : 0.086544 kWh. Total GPU Power : 69.72499524826983 W\n[codecarbon INFO @ 19:41:15] Energy consumed for all CPUs : 0.056329 kWh. Total CPU Power : 42.5 W\n[codecarbon INFO @ 19:41:15] 0.156490 kWh of electricity used since the beginning.\n[codecarbon INFO @ 19:41:24] Energy consumed for RAM : 0.013441 kWh. RAM Power : 10.2771635055542 W\n[codecarbon INFO @ 19:41:24] Energy consumed for all GPUs : 0.086304 kWh. Total GPU Power : 69.75236143298778 W\n[codecarbon INFO @ 19:41:24] Energy consumed for all CPUs : 0.055603 kWh. Total CPU Power : 42.5 W\n[codecarbon INFO @ 19:41:24] 0.155348 kWh of electricity used since the beginning.\n[codecarbon INFO @ 19:41:30] Energy consumed for RAM : 0.013659 kWh. RAM Power : 10.2771635055542 W\n[codecarbon INFO @ 19:41:30] Energy consumed for all GPUs : 0.086835 kWh. Total GPU Power : 69.72520573166038 W\n[codecarbon INFO @ 19:41:30] Energy consumed for all CPUs : 0.056506 kWh. Total CPU Power : 42.5 W\n[codecarbon INFO @ 19:41:30] 0.157000 kWh of electricity used since the beginning.\n[codecarbon INFO @ 19:41:39] Energy consumed for RAM : 0.013484 kWh. RAM Power : 10.2771635055542 W\n[codecarbon INFO @ 19:41:39] Energy consumed for all GPUs : 0.086594 kWh. Total GPU Power : 69.70438998696144 W\n[codecarbon INFO @ 19:41:39] Energy consumed for all CPUs : 0.055780 kWh. Total CPU Power : 42.5 W\n[codecarbon INFO @ 19:41:39] 0.155858 kWh of electricity used since the beginning.\n[codecarbon INFO @ 19:41:45] Energy consumed for RAM : 0.013702 kWh. RAM Power : 10.2771635055542 W\n[codecarbon INFO @ 19:41:45] Energy consumed for all GPUs : 0.087125 kWh. Total GPU Power : 69.72323259138118 W\n[codecarbon INFO @ 19:41:45] Energy consumed for all CPUs : 0.056683 kWh. Total CPU Power : 42.5 W\n[codecarbon INFO @ 19:41:45] 0.157510 kWh of electricity used since the beginning.\n[codecarbon INFO @ 19:41:54] Energy consumed for RAM : 0.013527 kWh. RAM Power : 10.2771635055542 W\n[codecarbon INFO @ 19:41:54] Energy consumed for all GPUs : 0.086885 kWh. Total GPU Power : 69.71908770071288 W\n[codecarbon INFO @ 19:41:54] Energy consumed for all CPUs : 0.055957 kWh. Total CPU Power : 42.5 W\n[codecarbon INFO @ 19:41:54] 0.156369 kWh of electricity used since the beginning.\n[codecarbon INFO @ 19:42:00] Energy consumed for RAM : 0.013745 kWh. RAM Power : 10.2771635055542 W\n[codecarbon INFO @ 19:42:00] Energy consumed for all GPUs : 0.087416 kWh. Total GPU Power : 69.74824240768714 W\n[codecarbon INFO @ 19:42:00] Energy consumed for all CPUs : 0.056860 kWh. Total CPU Power : 42.5 W\n[codecarbon INFO @ 19:42:00] 0.158021 kWh of electricity used since the beginning.\n[codecarbon INFO @ 19:42:09] Energy consumed for RAM : 0.013570 kWh. RAM Power : 10.2771635055542 W\n[codecarbon INFO @ 19:42:09] Energy consumed for all GPUs : 0.087175 kWh. Total GPU Power : 69.7747627047622 W\n[codecarbon INFO @ 19:42:09] Energy consumed for all CPUs : 0.056134 kWh. Total CPU Power : 42.5 W\n[codecarbon INFO @ 19:42:09] 0.156879 kWh of electricity used since the beginning.\n[codecarbon INFO @ 19:42:15] Energy consumed for RAM : 0.013787 kWh. RAM Power : 10.2771635055542 W\n[codecarbon INFO @ 19:42:15] Energy consumed for all GPUs : 0.087706 kWh. Total GPU Power : 69.82428075394586 W\n[codecarbon INFO @ 19:42:15] Energy consumed for all CPUs : 0.057037 kWh. Total CPU Power : 42.5 W\n[codecarbon INFO @ 19:42:15] 0.158531 kWh of electricity used since the beginning.\n[codecarbon INFO @ 19:42:24] Energy consumed for RAM : 0.013612 kWh. RAM Power : 10.2771635055542 W\n[codecarbon INFO @ 19:42:25] Energy consumed for all GPUs : 0.087466 kWh. Total GPU Power : 69.71726133434176 W\n[codecarbon INFO @ 19:42:25] Energy consumed for all CPUs : 0.056311 kWh. Total CPU Power : 42.5 W\n[codecarbon INFO @ 19:42:25] 0.157390 kWh of electricity used since the beginning.\n[codecarbon INFO @ 19:42:30] Energy consumed for RAM : 0.013830 kWh. RAM Power : 10.2771635055542 W\n[codecarbon INFO @ 19:42:30] Energy consumed for all GPUs : 0.087997 kWh. Total GPU Power : 69.71101597716311 W\n[codecarbon INFO @ 19:42:30] Energy consumed for all CPUs : 0.057214 kWh. Total CPU Power : 42.5 W\n[codecarbon INFO @ 19:42:30] 0.159042 kWh of electricity used since the beginning.\n[codecarbon INFO @ 19:42:39] Energy consumed for RAM : 0.013655 kWh. RAM Power : 10.2771635055542 W\n[codecarbon INFO @ 19:42:40] Energy consumed for all GPUs : 0.087756 kWh. Total GPU Power : 69.76967372365162 W\n[codecarbon INFO @ 19:42:40] Energy consumed for all CPUs : 0.056488 kWh. Total CPU Power : 42.5 W\n[codecarbon INFO @ 19:42:40] 0.157900 kWh of electricity used since the beginning.\n[codecarbon INFO @ 19:42:45] Energy consumed for RAM : 0.013873 kWh. RAM Power : 10.2771635055542 W\n[codecarbon INFO @ 19:42:45] Energy consumed for all GPUs : 0.088287 kWh. Total GPU Power : 69.72336939800975 W\n[codecarbon INFO @ 19:42:45] Energy consumed for all CPUs : 0.057392 kWh. Total CPU Power : 42.5 W\n[codecarbon INFO @ 19:42:45] 0.159552 kWh of electricity used since the beginning.\n[codecarbon INFO @ 19:42:54] Energy consumed for RAM : 0.013698 kWh. RAM Power : 10.2771635055542 W\n[codecarbon INFO @ 19:42:55] Energy consumed for all GPUs : 0.088047 kWh. Total GPU Power : 69.75546345541939 W\n[codecarbon INFO @ 19:42:55] Energy consumed for all CPUs : 0.056665 kWh. Total CPU Power : 42.5 W\n[codecarbon INFO @ 19:42:55] 0.158410 kWh of electricity used since the beginning.\n[codecarbon INFO @ 19:43:00] Energy consumed for RAM : 0.013916 kWh. RAM Power : 10.2771635055542 W\n[codecarbon INFO @ 19:43:00] Energy consumed for all GPUs : 0.088578 kWh. Total GPU Power : 69.73115625698755 W\n[codecarbon INFO @ 19:43:00] Energy consumed for all CPUs : 0.057569 kWh. Total CPU Power : 42.5 W\n[codecarbon INFO @ 19:43:00] 0.160062 kWh of electricity used since the beginning.\n[codecarbon INFO @ 19:43:09] Energy consumed for RAM : 0.013741 kWh. RAM Power : 10.2771635055542 W\n[codecarbon INFO @ 19:43:10] Energy consumed for all GPUs : 0.088337 kWh. Total GPU Power : 69.76852992417182 W\n[codecarbon INFO @ 19:43:10] Energy consumed for all CPUs : 0.056842 kWh. Total CPU Power : 42.5 W\n[codecarbon INFO @ 19:43:10] 0.158921 kWh of electricity used since the beginning.\n[codecarbon INFO @ 19:43:15] Energy consumed for RAM : 0.013959 kWh. RAM Power : 10.2771635055542 W\n[codecarbon INFO @ 19:43:15] Energy consumed for all GPUs : 0.088869 kWh. Total GPU Power : 69.81417538335039 W\n[codecarbon INFO @ 19:43:15] Energy consumed for all CPUs : 0.057746 kWh. Total CPU Power : 42.5 W\n[codecarbon INFO @ 19:43:15] 0.160573 kWh of electricity used since the beginning.\n[codecarbon INFO @ 19:43:25] Energy consumed for RAM : 0.013784 kWh. RAM Power : 10.2771635055542 W\n[codecarbon INFO @ 19:43:25] Energy consumed for all GPUs : 0.088628 kWh. Total GPU Power : 69.75487917279061 W\n[codecarbon INFO @ 19:43:25] Energy consumed for all CPUs : 0.057020 kWh. Total CPU Power : 42.5 W\n[codecarbon INFO @ 19:43:25] 0.159431 kWh of electricity used since the beginning.\n[codecarbon INFO @ 19:43:30] Energy consumed for RAM : 0.014002 kWh. RAM Power : 10.2771635055542 W\n[codecarbon INFO @ 19:43:30] Energy consumed for all GPUs : 0.089159 kWh. Total GPU Power : 69.65021861679398 W\n[codecarbon INFO @ 19:43:30] Energy consumed for all CPUs : 0.057923 kWh. Total CPU Power : 42.5 W\n[codecarbon INFO @ 19:43:30] 0.161083 kWh of electricity used since the beginning.\n[codecarbon INFO @ 19:43:40] Energy consumed for RAM : 0.013826 kWh. RAM Power : 10.2771635055542 W\n[codecarbon INFO @ 19:43:40] Energy consumed for all GPUs : 0.088919 kWh. Total GPU Power : 69.72395553505042 W\n[codecarbon INFO @ 19:43:40] Energy consumed for all CPUs : 0.057197 kWh. Total CPU Power : 42.5 W\n[codecarbon INFO @ 19:43:40] 0.159942 kWh of electricity used since the beginning.\n[codecarbon INFO @ 19:43:45] Energy consumed for RAM : 0.014044 kWh. RAM Power : 10.2771635055542 W\n[codecarbon INFO @ 19:43:45] Energy consumed for all GPUs : 0.089450 kWh. Total GPU Power : 69.73850903957403 W\n[codecarbon INFO @ 19:43:45] Energy consumed for all CPUs : 0.058100 kWh. Total CPU Power : 42.5 W\n[codecarbon INFO @ 19:43:45] 0.161594 kWh of electricity used since the beginning.\n[codecarbon INFO @ 19:43:55] Energy consumed for RAM : 0.013869 kWh. RAM Power : 10.2771635055542 W\n[codecarbon INFO @ 19:43:55] Energy consumed for all GPUs : 0.089209 kWh. Total GPU Power : 69.75923004190022 W\n[codecarbon INFO @ 19:43:55] Energy consumed for all CPUs : 0.057374 kWh. Total CPU Power : 42.5 W\n[codecarbon INFO @ 19:43:55] 0.160452 kWh of electricity used since the beginning.\n[codecarbon INFO @ 19:44:00] Energy consumed for RAM : 0.014087 kWh. RAM Power : 10.2771635055542 W\n[codecarbon INFO @ 19:44:00] Energy consumed for all GPUs : 0.089740 kWh. Total GPU Power : 69.7274333513324 W\n[codecarbon INFO @ 19:44:00] Energy consumed for all CPUs : 0.058277 kWh. Total CPU Power : 42.5 W\n[codecarbon INFO @ 19:44:00] 0.162105 kWh of electricity used since the beginning.\n[codecarbon INFO @ 19:44:10] Energy consumed for RAM : 0.013912 kWh. RAM Power : 10.2771635055542 W\n[codecarbon INFO @ 19:44:10] Energy consumed for all GPUs : 0.089500 kWh. Total GPU Power : 69.74234931213799 W\n[codecarbon INFO @ 19:44:10] Energy consumed for all CPUs : 0.057551 kWh. Total CPU Power : 42.5 W\n[codecarbon INFO @ 19:44:10] 0.160962 kWh of electricity used since the beginning.\n[codecarbon INFO @ 19:44:15] Energy consumed for RAM : 0.014130 kWh. RAM Power : 10.2771635055542 W\n[codecarbon INFO @ 19:44:15] Energy consumed for all GPUs : 0.090031 kWh. Total GPU Power : 69.74176695203167 W\n[codecarbon INFO @ 19:44:15] Energy consumed for all CPUs : 0.058454 kWh. Total CPU Power : 42.5 W\n[codecarbon INFO @ 19:44:15] 0.162615 kWh of electricity used since the beginning.\n[codecarbon INFO @ 19:44:25] Energy consumed for RAM : 0.013955 kWh. RAM Power : 10.2771635055542 W\n[codecarbon INFO @ 19:44:25] Energy consumed for all GPUs : 0.089790 kWh. Total GPU Power : 69.81159564193713 W\n[codecarbon INFO @ 19:44:25] Energy consumed for all CPUs : 0.057728 kWh. Total CPU Power : 42.5 W\n[codecarbon INFO @ 19:44:25] 0.161473 kWh of electricity used since the beginning.\n[codecarbon INFO @ 19:44:30] Energy consumed for RAM : 0.014173 kWh. RAM Power : 10.2771635055542 W\n[codecarbon INFO @ 19:44:30] Energy consumed for all GPUs : 0.090321 kWh. Total GPU Power : 69.82901047054546 W\n[codecarbon INFO @ 19:44:30] Energy consumed for all CPUs : 0.058631 kWh. Total CPU Power : 42.5 W\n[codecarbon INFO @ 19:44:30] 0.163126 kWh of electricity used since the beginning.\n[codecarbon INFO @ 19:44:40] Energy consumed for RAM : 0.013998 kWh. RAM Power : 10.2771635055542 W\n[codecarbon INFO @ 19:44:40] Energy consumed for all GPUs : 0.090073 kWh. Total GPU Power : 67.96103121734156 W\n[codecarbon INFO @ 19:44:40] Energy consumed for all CPUs : 0.057905 kWh. Total CPU Power : 42.5 W\n[codecarbon INFO @ 19:44:40] 0.161976 kWh of electricity used since the beginning.\n[codecarbon INFO @ 19:44:45] Energy consumed for RAM : 0.014216 kWh. RAM Power : 10.2771635055542 W\n[codecarbon INFO @ 19:44:45] Energy consumed for all GPUs : 0.090592 kWh. Total GPU Power : 64.89385187290976 W\n[codecarbon INFO @ 19:44:45] Energy consumed for all CPUs : 0.058808 kWh. Total CPU Power : 42.5 W\n[codecarbon INFO @ 19:44:45] 0.163616 kWh of electricity used since the beginning.\n[codecarbon INFO @ 19:44:55] Energy consumed for RAM : 0.014040 kWh. RAM Power : 10.2771635055542 W\n[codecarbon INFO @ 19:44:55] Energy consumed for all GPUs : 0.090331 kWh. Total GPU Power : 61.919394120045865 W\n[codecarbon INFO @ 19:44:55] Energy consumed for all CPUs : 0.058082 kWh. Total CPU Power : 42.5 W\n[codecarbon INFO @ 19:44:55] 0.162454 kWh of electricity used since the beginning.\n[codecarbon INFO @ 19:45:00] Energy consumed for RAM : 0.014258 kWh. RAM Power : 10.2771635055542 W\n[codecarbon INFO @ 19:45:00] Energy consumed for all GPUs : 0.090851 kWh. Total GPU Power : 62.17131835553057 W\n[codecarbon INFO @ 19:45:00] Energy consumed for all CPUs : 0.058986 kWh. Total CPU Power : 42.5 W\n[codecarbon INFO @ 19:45:00] 0.164095 kWh of electricity used since the beginning.\n[codecarbon INFO @ 19:45:10] Energy consumed for RAM : 0.014083 kWh. RAM Power : 10.2771635055542 W\n[codecarbon INFO @ 19:45:10] Energy consumed for all GPUs : 0.090591 kWh. Total GPU Power : 62.321024971829914 W\n[codecarbon INFO @ 19:45:10] Energy consumed for all CPUs : 0.058259 kWh. Total CPU Power : 42.5 W\n[codecarbon INFO @ 19:45:10] 0.162933 kWh of electricity used since the beginning.\n[codecarbon INFO @ 19:45:15] Energy consumed for RAM : 0.014301 kWh. RAM Power : 10.2771635055542 W\n[codecarbon INFO @ 19:45:15] Energy consumed for all GPUs : 0.091110 kWh. Total GPU Power : 62.30586221144657 W\n[codecarbon INFO @ 19:45:15] Energy consumed for all CPUs : 0.059163 kWh. Total CPU Power : 42.5 W\n[codecarbon INFO @ 19:45:15] 0.164574 kWh of electricity used since the beginning.\n[codecarbon INFO @ 19:45:25] Energy consumed for RAM : 0.014126 kWh. RAM Power : 10.2771635055542 W\n[codecarbon INFO @ 19:45:25] Energy consumed for all GPUs : 0.090856 kWh. Total GPU Power : 63.554875042387785 W\n[codecarbon INFO @ 19:45:25] Energy consumed for all CPUs : 0.058436 kWh. Total CPU Power : 42.5 W\n[codecarbon INFO @ 19:45:25] 0.163418 kWh of electricity used since the beginning.\n[codecarbon INFO @ 19:45:30] Energy consumed for RAM : 0.014344 kWh. RAM Power : 10.2771635055542 W\n[codecarbon INFO @ 19:45:30] Energy consumed for all GPUs : 0.091387 kWh. Total GPU Power : 66.37542640765886 W\n[codecarbon INFO @ 19:45:30] Energy consumed for all CPUs : 0.059340 kWh. Total CPU Power : 42.5 W\n[codecarbon INFO @ 19:45:30] 0.165070 kWh of electricity used since the beginning.\n[codecarbon INFO @ 19:45:40] Energy consumed for RAM : 0.014169 kWh. RAM Power : 10.2771635055542 W\n[codecarbon INFO @ 19:45:40] Energy consumed for all GPUs : 0.091146 kWh. Total GPU Power : 69.75695550873044 W\n[codecarbon INFO @ 19:45:40] Energy consumed for all CPUs : 0.058613 kWh. Total CPU Power : 42.5 W\n[codecarbon INFO @ 19:45:40] 0.163928 kWh of electricity used since the beginning.\n[codecarbon INFO @ 19:45:45] Energy consumed for RAM : 0.014387 kWh. RAM Power : 10.2771635055542 W\n[codecarbon INFO @ 19:45:45] Energy consumed for all GPUs : 0.091677 kWh. Total GPU Power : 69.72730002535653 W\n[codecarbon INFO @ 19:45:45] Energy consumed for all CPUs : 0.059517 kWh. Total CPU Power : 42.5 W\n[codecarbon INFO @ 19:45:45] 0.165581 kWh of electricity used since the beginning.\n[codecarbon INFO @ 19:45:55] Energy consumed for RAM : 0.014212 kWh. RAM Power : 10.2771635055542 W\n[codecarbon INFO @ 19:45:55] Energy consumed for all GPUs : 0.091421 kWh. Total GPU Power : 65.95333112437507 W\n[codecarbon INFO @ 19:45:55] Energy consumed for all CPUs : 0.058790 kWh. Total CPU Power : 42.5 W\n[codecarbon INFO @ 19:45:55] 0.164423 kWh of electricity used since the beginning.\n[codecarbon INFO @ 19:46:00] Energy consumed for RAM : 0.014430 kWh. RAM Power : 10.2771635055542 W\n[codecarbon INFO @ 19:46:00] Energy consumed for all GPUs : 0.091941 kWh. Total GPU Power : 63.29998875959294 W\n[codecarbon INFO @ 19:46:00] Energy consumed for all CPUs : 0.059694 kWh. Total CPU Power : 42.5 W\n[codecarbon INFO @ 19:46:00] 0.166064 kWh of electricity used since the beginning.\n[codecarbon INFO @ 19:46:10] Energy consumed for RAM : 0.014254 kWh. RAM Power : 10.2771635055542 W\n[codecarbon INFO @ 19:46:10] Energy consumed for all GPUs : 0.091681 kWh. Total GPU Power : 62.31598856053763 W\n[codecarbon INFO @ 19:46:10] Energy consumed for all CPUs : 0.058968 kWh. Total CPU Power : 42.5 W\n[codecarbon INFO @ 19:46:10] 0.164903 kWh of electricity used since the beginning.\n[codecarbon INFO @ 19:46:15] Energy consumed for RAM : 0.014472 kWh. RAM Power : 10.2771635055542 W\n[codecarbon INFO @ 19:46:15] Energy consumed for all GPUs : 0.092199 kWh. Total GPU Power : 62.08012330376557 W\n[codecarbon INFO @ 19:46:15] Energy consumed for all CPUs : 0.059871 kWh. Total CPU Power : 42.5 W\n[codecarbon INFO @ 19:46:15] 0.166543 kWh of electricity used since the beginning.\n[codecarbon INFO @ 19:46:25] Energy consumed for RAM : 0.014297 kWh. RAM Power : 10.2771635055542 W\n[codecarbon INFO @ 19:46:25] Energy consumed for all GPUs : 0.091939 kWh. Total GPU Power : 62.10378457225174 W\n[codecarbon INFO @ 19:46:25] Energy consumed for all CPUs : 0.059145 kWh. Total CPU Power : 42.5 W\n[codecarbon INFO @ 19:46:25] 0.165381 kWh of electricity used since the beginning.\n[codecarbon INFO @ 19:46:30] Energy consumed for RAM : 0.014515 kWh. RAM Power : 10.2771635055542 W\n[codecarbon INFO @ 19:46:30] Energy consumed for all GPUs : 0.092460 kWh. Total GPU Power : 62.450902296464434 W\n[codecarbon INFO @ 19:46:30] Energy consumed for all CPUs : 0.060048 kWh. Total CPU Power : 42.5 W\n[codecarbon INFO @ 19:46:30] 0.167023 kWh of electricity used since the beginning.\n[codecarbon INFO @ 19:46:40] Energy consumed for RAM : 0.014340 kWh. RAM Power : 10.2771635055542 W\n[codecarbon INFO @ 19:46:40] Energy consumed for all GPUs : 0.092206 kWh. Total GPU Power : 64.16208550400383 W\n[codecarbon INFO @ 19:46:40] Energy consumed for all CPUs : 0.059322 kWh. Total CPU Power : 42.5 W\n[codecarbon INFO @ 19:46:40] 0.165868 kWh of electricity used since the beginning.\n[codecarbon INFO @ 19:46:45] Energy consumed for RAM : 0.014558 kWh. RAM Power : 10.2771635055542 W\n[codecarbon INFO @ 19:46:45] Energy consumed for all GPUs : 0.092737 kWh. Total GPU Power : 66.72176059430414 W\n[codecarbon INFO @ 19:46:45] Energy consumed for all CPUs : 0.060225 kWh. Total CPU Power : 42.5 W\n[codecarbon INFO @ 19:46:45] 0.167521 kWh of electricity used since the beginning.\n[codecarbon INFO @ 19:46:55] Energy consumed for RAM : 0.014383 kWh. RAM Power : 10.2771635055542 W\n[codecarbon INFO @ 19:46:55] Energy consumed for all GPUs : 0.092497 kWh. Total GPU Power : 69.66514926304922 W\n[codecarbon INFO @ 19:46:55] Energy consumed for all CPUs : 0.059499 kWh. Total CPU Power : 42.5 W\n[codecarbon INFO @ 19:46:55] 0.166378 kWh of electricity used since the beginning.\n[codecarbon INFO @ 19:47:00] Energy consumed for RAM : 0.014601 kWh. RAM Power : 10.2771635055542 W\n[codecarbon INFO @ 19:47:00] Energy consumed for all GPUs : 0.093027 kWh. Total GPU Power : 69.56414871001161 W\n[codecarbon INFO @ 19:47:00] Energy consumed for all CPUs : 0.060402 kWh. Total CPU Power : 42.5 W\n[codecarbon INFO @ 19:47:00] 0.168031 kWh of electricity used since the beginning.\n[codecarbon INFO @ 19:47:10] Energy consumed for RAM : 0.014426 kWh. RAM Power : 10.2771635055542 W\n[codecarbon INFO @ 19:47:10] Energy consumed for all GPUs : 0.092787 kWh. Total GPU Power : 69.65534053576194 W\n[codecarbon INFO @ 19:47:10] Energy consumed for all CPUs : 0.059676 kWh. Total CPU Power : 42.5 W\n[codecarbon INFO @ 19:47:10] 0.166888 kWh of electricity used since the beginning.\n[codecarbon INFO @ 19:47:15] Energy consumed for RAM : 0.014644 kWh. RAM Power : 10.2771635055542 W\n[codecarbon INFO @ 19:47:15] Energy consumed for all GPUs : 0.093318 kWh. Total GPU Power : 69.65872716075792 W\n[codecarbon INFO @ 19:47:15] Energy consumed for all CPUs : 0.060579 kWh. Total CPU Power : 42.5 W\n[codecarbon INFO @ 19:47:15] 0.168541 kWh of electricity used since the beginning.\n[codecarbon INFO @ 19:47:25] Energy consumed for RAM : 0.014468 kWh. RAM Power : 10.2771635055542 W\n[codecarbon INFO @ 19:47:25] Energy consumed for all GPUs : 0.093077 kWh. Total GPU Power : 69.76731760338629 W\n[codecarbon INFO @ 19:47:25] Energy consumed for all CPUs : 0.059853 kWh. Total CPU Power : 42.5 W\n[codecarbon INFO @ 19:47:25] 0.167399 kWh of electricity used since the beginning.\n[codecarbon INFO @ 19:47:30] Energy consumed for RAM : 0.014687 kWh. RAM Power : 10.2771635055542 W\n[codecarbon INFO @ 19:47:30] Energy consumed for all GPUs : 0.093608 kWh. Total GPU Power : 69.76221173021413 W\n[codecarbon INFO @ 19:47:30] Energy consumed for all CPUs : 0.060757 kWh. Total CPU Power : 42.5 W\n[codecarbon INFO @ 19:47:30] 0.169051 kWh of electricity used since the beginning.\n[codecarbon INFO @ 19:47:40] Energy consumed for RAM : 0.014511 kWh. RAM Power : 10.2771635055542 W\n[codecarbon INFO @ 19:47:40] Energy consumed for all GPUs : 0.093367 kWh. Total GPU Power : 69.64368142804538 W\n[codecarbon INFO @ 19:47:40] Energy consumed for all CPUs : 0.060030 kWh. Total CPU Power : 42.5 W\n[codecarbon INFO @ 19:47:40] 0.167909 kWh of electricity used since the beginning.\n[codecarbon INFO @ 19:47:45] Energy consumed for RAM : 0.014729 kWh. RAM Power : 10.2771635055542 W\n[codecarbon INFO @ 19:47:45] Energy consumed for all GPUs : 0.093898 kWh. Total GPU Power : 69.62679843085044 W\n[codecarbon INFO @ 19:47:45] Energy consumed for all CPUs : 0.060934 kWh. Total CPU Power : 42.5 W\n[codecarbon INFO @ 19:47:45] 0.169561 kWh of electricity used since the beginning.\n/anaconda/envs/azureml_py38/lib/python3.8/site-packages/sklearn/metrics/_classification.py:1272: UndefinedMetricWarning: Precision is ill-defined and being set to 0.0 in samples with no predicted labels. Use `zero_division` parameter to control this behavior.\n  _warn_prf(average, modifier, msg_start, len(result))\n/anaconda/envs/azureml_py38/lib/python3.8/site-packages/sklearn/metrics/_classification.py:1272: UndefinedMetricWarning: Recall is ill-defined and being set to 0.0 in samples with no true labels. Use `zero_division` parameter to control this behavior.\n  _warn_prf(average, modifier, msg_start, len(result))\n/anaconda/envs/azureml_py38/lib/python3.8/site-packages/sklearn/metrics/_classification.py:1514: UndefinedMetricWarning: F-score is ill-defined and being set to 0.0 in samples with no true nor predicted labels. Use `zero_division` parameter to control this behavior.\n  _warn_prf(\n[codecarbon INFO @ 19:47:55] Energy consumed for RAM : 0.014554 kWh. RAM Power : 10.2771635055542 W\n[codecarbon INFO @ 19:47:55] Energy consumed for all GPUs : 0.093642 kWh. Total GPU Power : 65.94074757452162 W\n[codecarbon INFO @ 19:47:55] Energy consumed for all CPUs : 0.060207 kWh. Total CPU Power : 42.5 W\n[codecarbon INFO @ 19:47:55] 0.168403 kWh of electricity used since the beginning.\n[codecarbon INFO @ 19:48:00] Energy consumed for RAM : 0.014772 kWh. RAM Power : 10.2771635055542 W\n[codecarbon INFO @ 19:48:00] Energy consumed for all GPUs : 0.094170 kWh. Total GPU Power : 65.21205179547621 W\n[codecarbon INFO @ 19:48:00] Energy consumed for all CPUs : 0.061111 kWh. Total CPU Power : 42.5 W\n[codecarbon INFO @ 19:48:00] 0.170053 kWh of electricity used since the beginning.\n[codecarbon INFO @ 19:48:10] Energy consumed for RAM : 0.014597 kWh. RAM Power : 10.2771635055542 W\n[codecarbon INFO @ 19:48:10] Energy consumed for all GPUs : 0.093930 kWh. Total GPU Power : 69.03258420518306 W\n[codecarbon INFO @ 19:48:10] Energy consumed for all CPUs : 0.060384 kWh. Total CPU Power : 42.5 W\n[codecarbon INFO @ 19:48:10] 0.168911 kWh of electricity used since the beginning.\n[codecarbon INFO @ 19:48:15] Energy consumed for RAM : 0.014815 kWh. RAM Power : 10.2771635055542 W\n[codecarbon INFO @ 19:48:15] Energy consumed for all GPUs : 0.094461 kWh. Total GPU Power : 69.76184982818025 W\n[codecarbon INFO @ 19:48:15] Energy consumed for all CPUs : 0.061288 kWh. Total CPU Power : 42.5 W\n[codecarbon INFO @ 19:48:15] 0.170563 kWh of electricity used since the beginning.\n[codecarbon INFO @ 19:48:25] Energy consumed for RAM : 0.014640 kWh. RAM Power : 10.2771635055542 W\n[codecarbon INFO @ 19:48:25] Energy consumed for all GPUs : 0.094220 kWh. Total GPU Power : 69.73158016591317 W\n[codecarbon INFO @ 19:48:25] Energy consumed for all CPUs : 0.060561 kWh. Total CPU Power : 42.5 W\n[codecarbon INFO @ 19:48:25] 0.169421 kWh of electricity used since the beginning.\n[codecarbon INFO @ 19:48:30] Energy consumed for RAM : 0.014858 kWh. RAM Power : 10.2771635055542 W\n[codecarbon INFO @ 19:48:30] Energy consumed for all GPUs : 0.094751 kWh. Total GPU Power : 69.6548558609266 W\n[codecarbon INFO @ 19:48:30] Energy consumed for all CPUs : 0.061465 kWh. Total CPU Power : 42.5 W\n[codecarbon INFO @ 19:48:30] 0.171074 kWh of electricity used since the beginning.\n[codecarbon INFO @ 19:48:40] Energy consumed for RAM : 0.014682 kWh. RAM Power : 10.2771635055542 W\n[codecarbon INFO @ 19:48:40] Energy consumed for all GPUs : 0.094511 kWh. Total GPU Power : 69.75189296544852 W\n[codecarbon INFO @ 19:48:40] Energy consumed for all CPUs : 0.060738 kWh. Total CPU Power : 42.5 W\n[codecarbon INFO @ 19:48:40] 0.169931 kWh of electricity used since the beginning.\n[codecarbon INFO @ 19:48:45] Energy consumed for RAM : 0.014901 kWh. RAM Power : 10.2771635055542 W\n[codecarbon INFO @ 19:48:45] Energy consumed for all GPUs : 0.095044 kWh. Total GPU Power : 70.24414007998163 W\n[codecarbon INFO @ 19:48:45] Energy consumed for all CPUs : 0.061642 kWh. Total CPU Power : 42.5 W\n[codecarbon INFO @ 19:48:45] 0.171586 kWh of electricity used since the beginning.\n[codecarbon INFO @ 19:48:55] Energy consumed for RAM : 0.014725 kWh. RAM Power : 10.2771635055542 W\n[codecarbon INFO @ 19:48:55] Energy consumed for all GPUs : 0.094801 kWh. Total GPU Power : 69.73712738531424 W\n[codecarbon INFO @ 19:48:55] Energy consumed for all CPUs : 0.060915 kWh. Total CPU Power : 42.5 W\n[codecarbon INFO @ 19:48:55] 0.170442 kWh of electricity used since the beginning.\n[codecarbon INFO @ 19:49:00] Energy consumed for RAM : 0.014943 kWh. RAM Power : 10.2771635055542 W\n[codecarbon INFO @ 19:49:00] Energy consumed for all GPUs : 0.095334 kWh. Total GPU Power : 69.78100041503899 W\n[codecarbon INFO @ 19:49:00] Energy consumed for all CPUs : 0.061819 kWh. Total CPU Power : 42.5 W\n[codecarbon INFO @ 19:49:00] 0.172097 kWh of electricity used since the beginning.\n[codecarbon INFO @ 19:49:10] Energy consumed for RAM : 0.014768 kWh. RAM Power : 10.2771635055542 W\n[codecarbon INFO @ 19:49:10] Energy consumed for all GPUs : 0.095092 kWh. Total GPU Power : 69.76573138380752 W\n[codecarbon INFO @ 19:49:10] Energy consumed for all CPUs : 0.061092 kWh. Total CPU Power : 42.5 W\n[codecarbon INFO @ 19:49:10] 0.170952 kWh of electricity used since the beginning.\n[codecarbon INFO @ 19:49:15] Energy consumed for RAM : 0.014986 kWh. RAM Power : 10.2771635055542 W\n[codecarbon INFO @ 19:49:15] Energy consumed for all GPUs : 0.095625 kWh. Total GPU Power : 69.71784136456905 W\n[codecarbon INFO @ 19:49:15] Energy consumed for all CPUs : 0.061996 kWh. Total CPU Power : 42.5 W\n[codecarbon INFO @ 19:49:15] 0.172607 kWh of electricity used since the beginning.\n[codecarbon INFO @ 19:49:25] Energy consumed for RAM : 0.014811 kWh. RAM Power : 10.2771635055542 W\n[codecarbon INFO @ 19:49:25] Energy consumed for all GPUs : 0.095382 kWh. Total GPU Power : 69.6820236558914 W\n[codecarbon INFO @ 19:49:25] Energy consumed for all CPUs : 0.061270 kWh. Total CPU Power : 42.5 W\n[codecarbon INFO @ 19:49:25] 0.171463 kWh of electricity used since the beginning.\n[codecarbon INFO @ 19:49:30] Energy consumed for RAM : 0.015029 kWh. RAM Power : 10.2771635055542 W\n[codecarbon INFO @ 19:49:30] Energy consumed for all GPUs : 0.095915 kWh. Total GPU Power : 69.72355136339958 W\n[codecarbon INFO @ 19:49:30] Energy consumed for all CPUs : 0.062173 kWh. Total CPU Power : 42.5 W\n[codecarbon INFO @ 19:49:30] 0.173117 kWh of electricity used since the beginning.\n[codecarbon INFO @ 19:49:40] Energy consumed for RAM : 0.014854 kWh. RAM Power : 10.2771635055542 W\n[codecarbon INFO @ 19:49:40] Energy consumed for all GPUs : 0.095673 kWh. Total GPU Power : 69.75463627710569 W\n[codecarbon INFO @ 19:49:40] Energy consumed for all CPUs : 0.061447 kWh. Total CPU Power : 42.5 W\n[codecarbon INFO @ 19:49:40] 0.171973 kWh of electricity used since the beginning.\n[codecarbon INFO @ 19:49:45] Energy consumed for RAM : 0.015072 kWh. RAM Power : 10.2771635055542 W\n[codecarbon INFO @ 19:49:45] Energy consumed for all GPUs : 0.096206 kWh. Total GPU Power : 69.73871999353878 W\n[codecarbon INFO @ 19:49:45] Energy consumed for all CPUs : 0.062350 kWh. Total CPU Power : 42.5 W\n[codecarbon INFO @ 19:49:45] 0.173628 kWh of electricity used since the beginning.\n[codecarbon INFO @ 19:49:55] Energy consumed for RAM : 0.014896 kWh. RAM Power : 10.2771635055542 W\n[codecarbon INFO @ 19:49:55] Energy consumed for all GPUs : 0.095963 kWh. Total GPU Power : 69.71650965734186 W\n[codecarbon INFO @ 19:49:55] Energy consumed for all CPUs : 0.061624 kWh. Total CPU Power : 42.5 W\n[codecarbon INFO @ 19:49:55] 0.172483 kWh of electricity used since the beginning.\n[codecarbon INFO @ 19:50:00] Energy consumed for RAM : 0.015115 kWh. RAM Power : 10.2771635055542 W\n[codecarbon INFO @ 19:50:00] Energy consumed for all GPUs : 0.096494 kWh. Total GPU Power : 69.27229144150152 W\n[codecarbon INFO @ 19:50:00] Energy consumed for all CPUs : 0.062527 kWh. Total CPU Power : 42.5 W\n[codecarbon INFO @ 19:50:00] 0.174136 kWh of electricity used since the beginning.\n[codecarbon INFO @ 19:50:10] Energy consumed for RAM : 0.014939 kWh. RAM Power : 10.2771635055542 W\n[codecarbon INFO @ 19:50:10] Energy consumed for all GPUs : 0.096254 kWh. Total GPU Power : 69.76601226820935 W\n[codecarbon INFO @ 19:50:10] Energy consumed for all CPUs : 0.061801 kWh. Total CPU Power : 42.5 W\n[codecarbon INFO @ 19:50:10] 0.172994 kWh of electricity used since the beginning.\n[codecarbon INFO @ 19:50:15] Energy consumed for RAM : 0.015157 kWh. RAM Power : 10.2771635055542 W\n[codecarbon INFO @ 19:50:15] Energy consumed for all GPUs : 0.096785 kWh. Total GPU Power : 69.74234559543964 W\n[codecarbon INFO @ 19:50:15] Energy consumed for all CPUs : 0.062705 kWh. Total CPU Power : 42.5 W\n[codecarbon INFO @ 19:50:15] 0.174647 kWh of electricity used since the beginning.\n[codecarbon INFO @ 19:50:25] Energy consumed for RAM : 0.014982 kWh. RAM Power : 10.2771635055542 W\n[codecarbon INFO @ 19:50:25] Energy consumed for all GPUs : 0.096544 kWh. Total GPU Power : 69.6546166522271 W\n[codecarbon INFO @ 19:50:25] Energy consumed for all CPUs : 0.061978 kWh. Total CPU Power : 42.5 W\n[codecarbon INFO @ 19:50:25] 0.173504 kWh of electricity used since the beginning.\n[codecarbon INFO @ 19:50:30] Energy consumed for RAM : 0.015200 kWh. RAM Power : 10.2771635055542 W\n[codecarbon INFO @ 19:50:30] Energy consumed for all GPUs : 0.097075 kWh. Total GPU Power : 69.70326504206491 W\n[codecarbon INFO @ 19:50:30] Energy consumed for all CPUs : 0.062882 kWh. Total CPU Power : 42.5 W\n[codecarbon INFO @ 19:50:30] 0.175157 kWh of electricity used since the beginning.\n[codecarbon INFO @ 19:50:40] Energy consumed for RAM : 0.015025 kWh. RAM Power : 10.2771635055542 W\n[codecarbon INFO @ 19:50:40] Energy consumed for all GPUs : 0.096835 kWh. Total GPU Power : 69.75247901263403 W\n[codecarbon INFO @ 19:50:40] Energy consumed for all CPUs : 0.062155 kWh. Total CPU Power : 42.5 W\n[codecarbon INFO @ 19:50:40] 0.174015 kWh of electricity used since the beginning.\n[codecarbon INFO @ 19:50:45] Energy consumed for RAM : 0.015243 kWh. RAM Power : 10.2771635055542 W\n[codecarbon INFO @ 19:50:45] Energy consumed for all GPUs : 0.097365 kWh. Total GPU Power : 69.7104232941898 W\n[codecarbon INFO @ 19:50:45] Energy consumed for all CPUs : 0.063059 kWh. Total CPU Power : 42.5 W\n[codecarbon INFO @ 19:50:45] 0.175667 kWh of electricity used since the beginning.\n[codecarbon INFO @ 19:50:55] Energy consumed for RAM : 0.015068 kWh. RAM Power : 10.2771635055542 W\n[codecarbon INFO @ 19:50:55] Energy consumed for all GPUs : 0.097125 kWh. Total GPU Power : 69.71361604478462 W\n[codecarbon INFO @ 19:50:55] Energy consumed for all CPUs : 0.062332 kWh. Total CPU Power : 42.5 W\n[codecarbon INFO @ 19:50:55] 0.174525 kWh of electricity used since the beginning.\n[codecarbon INFO @ 19:51:00] Energy consumed for RAM : 0.015286 kWh. RAM Power : 10.2771635055542 W\n[codecarbon INFO @ 19:51:00] Energy consumed for all GPUs : 0.097656 kWh. Total GPU Power : 69.70993245048003 W\n[codecarbon INFO @ 19:51:00] Energy consumed for all CPUs : 0.063236 kWh. Total CPU Power : 42.5 W\n[codecarbon INFO @ 19:51:00] 0.176178 kWh of electricity used since the beginning.\n[codecarbon INFO @ 19:51:10] Energy consumed for RAM : 0.015111 kWh. RAM Power : 10.2771635055542 W\n[codecarbon INFO @ 19:51:10] Energy consumed for all GPUs : 0.097416 kWh. Total GPU Power : 69.80978568522352 W\n[codecarbon INFO @ 19:51:10] Energy consumed for all CPUs : 0.062509 kWh. Total CPU Power : 42.5 W\n[codecarbon INFO @ 19:51:10] 0.175035 kWh of electricity used since the beginning.\n[codecarbon INFO @ 19:51:15] Energy consumed for RAM : 0.015329 kWh. RAM Power : 10.2771635055542 W\n[codecarbon INFO @ 19:51:15] Energy consumed for all GPUs : 0.097947 kWh. Total GPU Power : 69.85829774031535 W\n[codecarbon INFO @ 19:51:15] Energy consumed for all CPUs : 0.063413 kWh. Total CPU Power : 42.5 W\n[codecarbon INFO @ 19:51:15] 0.176688 kWh of electricity used since the beginning.\n[codecarbon INFO @ 19:51:25] Energy consumed for RAM : 0.015153 kWh. RAM Power : 10.2771635055542 W\n[codecarbon INFO @ 19:51:25] Energy consumed for all GPUs : 0.097706 kWh. Total GPU Power : 69.8103063121406 W\n[codecarbon INFO @ 19:51:25] Energy consumed for all CPUs : 0.062686 kWh. Total CPU Power : 42.5 W\n[codecarbon INFO @ 19:51:25] 0.175546 kWh of electricity used since the beginning.\n[codecarbon INFO @ 19:51:30] Energy consumed for RAM : 0.015371 kWh. RAM Power : 10.2771635055542 W\n[codecarbon INFO @ 19:51:30] Energy consumed for all GPUs : 0.098237 kWh. Total GPU Power : 69.74520034945402 W\n[codecarbon INFO @ 19:51:30] Energy consumed for all CPUs : 0.063590 kWh. Total CPU Power : 42.5 W\n[codecarbon INFO @ 19:51:30] 0.177199 kWh of electricity used since the beginning.\n[codecarbon INFO @ 19:51:40] Energy consumed for RAM : 0.015196 kWh. RAM Power : 10.2771635055542 W\n[codecarbon INFO @ 19:51:40] Energy consumed for all GPUs : 0.097997 kWh. Total GPU Power : 69.71343678510665 W\n[codecarbon INFO @ 19:51:40] Energy consumed for all CPUs : 0.062863 kWh. Total CPU Power : 42.5 W\n[codecarbon INFO @ 19:51:40] 0.176056 kWh of electricity used since the beginning.\n[codecarbon INFO @ 19:51:45] Energy consumed for RAM : 0.015414 kWh. RAM Power : 10.2771635055542 W\n[codecarbon INFO @ 19:51:45] Energy consumed for all GPUs : 0.098528 kWh. Total GPU Power : 69.66848336333273 W\n[codecarbon INFO @ 19:51:45] Energy consumed for all CPUs : 0.063767 kWh. Total CPU Power : 42.5 W\n[codecarbon INFO @ 19:51:45] 0.177709 kWh of electricity used since the beginning.\n[codecarbon INFO @ 19:51:55] Energy consumed for RAM : 0.015239 kWh. RAM Power : 10.2771635055542 W\n[codecarbon INFO @ 19:51:55] Energy consumed for all GPUs : 0.098287 kWh. Total GPU Power : 69.57138662712431 W\n[codecarbon INFO @ 19:51:55] Energy consumed for all CPUs : 0.063040 kWh. Total CPU Power : 42.5 W\n[codecarbon INFO @ 19:51:55] 0.176566 kWh of electricity used since the beginning.\n[codecarbon INFO @ 19:52:00] Energy consumed for RAM : 0.015457 kWh. RAM Power : 10.2771635055542 W\n[codecarbon INFO @ 19:52:00] Energy consumed for all GPUs : 0.098818 kWh. Total GPU Power : 69.65178077234118 W\n[codecarbon INFO @ 19:52:00] Energy consumed for all CPUs : 0.063944 kWh. Total CPU Power : 42.5 W\n[codecarbon INFO @ 19:52:00] 0.178219 kWh of electricity used since the beginning.\n[codecarbon INFO @ 19:52:10] Energy consumed for RAM : 0.015282 kWh. RAM Power : 10.2771635055542 W\n[codecarbon INFO @ 19:52:10] Energy consumed for all GPUs : 0.098577 kWh. Total GPU Power : 69.73419492022215 W\n[codecarbon INFO @ 19:52:10] Energy consumed for all CPUs : 0.063218 kWh. Total CPU Power : 42.5 W\n[codecarbon INFO @ 19:52:10] 0.177077 kWh of electricity used since the beginning.\n[codecarbon INFO @ 19:52:15] Energy consumed for RAM : 0.015500 kWh. RAM Power : 10.2771635055542 W\n[codecarbon INFO @ 19:52:15] Energy consumed for all GPUs : 0.099108 kWh. Total GPU Power : 69.76270312377873 W\n[codecarbon INFO @ 19:52:15] Energy consumed for all CPUs : 0.064121 kWh. Total CPU Power : 42.5 W\n[codecarbon INFO @ 19:52:15] 0.178729 kWh of electricity used since the beginning.\n[codecarbon INFO @ 19:52:25] Energy consumed for RAM : 0.015325 kWh. RAM Power : 10.2771635055542 W\n[codecarbon INFO @ 19:52:25] Energy consumed for all GPUs : 0.098868 kWh. Total GPU Power : 69.80162631610284 W\n[codecarbon INFO @ 19:52:25] Energy consumed for all CPUs : 0.063395 kWh. Total CPU Power : 42.5 W\n[codecarbon INFO @ 19:52:25] 0.177587 kWh of electricity used since the beginning.\n[codecarbon INFO @ 19:52:30] Energy consumed for RAM : 0.015543 kWh. RAM Power : 10.2771635055542 W\n[codecarbon INFO @ 19:52:30] Energy consumed for all GPUs : 0.099399 kWh. Total GPU Power : 69.73323991001415 W\n[codecarbon INFO @ 19:52:30] Energy consumed for all CPUs : 0.064298 kWh. Total CPU Power : 42.5 W\n[codecarbon INFO @ 19:52:30] 0.179240 kWh of electricity used since the beginning.\n[codecarbon INFO @ 19:52:40] Energy consumed for RAM : 0.015367 kWh. RAM Power : 10.2771635055542 W\n[codecarbon INFO @ 19:52:40] Energy consumed for all GPUs : 0.099158 kWh. Total GPU Power : 69.72012271176246 W\n[codecarbon INFO @ 19:52:40] Energy consumed for all CPUs : 0.063572 kWh. Total CPU Power : 42.5 W\n[codecarbon INFO @ 19:52:40] 0.178097 kWh of electricity used since the beginning.\n[codecarbon INFO @ 19:52:45] Energy consumed for RAM : 0.015585 kWh. RAM Power : 10.2771635055542 W\n[codecarbon INFO @ 19:52:45] Energy consumed for all GPUs : 0.099689 kWh. Total GPU Power : 69.74478106118853 W\n[codecarbon INFO @ 19:52:45] Energy consumed for all CPUs : 0.064475 kWh. Total CPU Power : 42.5 W\n[codecarbon INFO @ 19:52:45] 0.179750 kWh of electricity used since the beginning.\n[codecarbon INFO @ 19:52:55] Energy consumed for RAM : 0.015410 kWh. RAM Power : 10.2771635055542 W\n[codecarbon INFO @ 19:52:55] Energy consumed for all GPUs : 0.099449 kWh. Total GPU Power : 69.7426469154981 W\n[codecarbon INFO @ 19:52:55] Energy consumed for all CPUs : 0.063749 kWh. Total CPU Power : 42.5 W\n[codecarbon INFO @ 19:52:55] 0.178608 kWh of electricity used since the beginning.\n[codecarbon INFO @ 19:53:00] Energy consumed for RAM : 0.015628 kWh. RAM Power : 10.2771635055542 W\n[codecarbon INFO @ 19:53:00] Energy consumed for all GPUs : 0.099980 kWh. Total GPU Power : 69.73100971380723 W\n[codecarbon INFO @ 19:53:00] Energy consumed for all CPUs : 0.064652 kWh. Total CPU Power : 42.5 W\n[codecarbon INFO @ 19:53:00] 0.180260 kWh of electricity used since the beginning.\n[codecarbon INFO @ 19:53:10] Energy consumed for RAM : 0.015453 kWh. RAM Power : 10.2771635055542 W\n[codecarbon INFO @ 19:53:10] Energy consumed for all GPUs : 0.099739 kWh. Total GPU Power : 69.6826396509636 W\n[codecarbon INFO @ 19:53:10] Energy consumed for all CPUs : 0.063926 kWh. Total CPU Power : 42.5 W\n[codecarbon INFO @ 19:53:10] 0.179118 kWh of electricity used since the beginning.\n[codecarbon INFO @ 19:53:15] Energy consumed for RAM : 0.015671 kWh. RAM Power : 10.2771635055542 W\n[codecarbon INFO @ 19:53:15] Energy consumed for all GPUs : 0.100270 kWh. Total GPU Power : 69.71962542512605 W\n[codecarbon INFO @ 19:53:15] Energy consumed for all CPUs : 0.064830 kWh. Total CPU Power : 42.5 W\n[codecarbon INFO @ 19:53:15] 0.180771 kWh of electricity used since the beginning.\n[codecarbon INFO @ 19:53:25] Energy consumed for RAM : 0.015496 kWh. RAM Power : 10.2771635055542 W\n[codecarbon INFO @ 19:53:25] Energy consumed for all GPUs : 0.100030 kWh. Total GPU Power : 69.73712515119637 W\n[codecarbon INFO @ 19:53:25] Energy consumed for all CPUs : 0.064103 kWh. Total CPU Power : 42.5 W\n[codecarbon INFO @ 19:53:25] 0.179628 kWh of electricity used since the beginning.\n[codecarbon INFO @ 19:53:30] Energy consumed for RAM : 0.015714 kWh. RAM Power : 10.2771635055542 W\n[codecarbon INFO @ 19:53:30] Energy consumed for all GPUs : 0.100561 kWh. Total GPU Power : 69.79812906483934 W\n[codecarbon INFO @ 19:53:30] Energy consumed for all CPUs : 0.065007 kWh. Total CPU Power : 42.5 W\n[codecarbon INFO @ 19:53:30] 0.181281 kWh of electricity used since the beginning.\n[codecarbon INFO @ 19:53:40] Energy consumed for RAM : 0.015539 kWh. RAM Power : 10.2771635055542 W\n[codecarbon INFO @ 19:53:40] Energy consumed for all GPUs : 0.100320 kWh. Total GPU Power : 69.74728615522834 W\n[codecarbon INFO @ 19:53:40] Energy consumed for all CPUs : 0.064280 kWh. Total CPU Power : 42.5 W\n[codecarbon INFO @ 19:53:40] 0.180139 kWh of electricity used since the beginning.\n[codecarbon INFO @ 19:53:45] Energy consumed for RAM : 0.015757 kWh. RAM Power : 10.2771635055542 W\n[codecarbon INFO @ 19:53:45] Energy consumed for all GPUs : 0.100851 kWh. Total GPU Power : 69.69989309490676 W\n[codecarbon INFO @ 19:53:45] Energy consumed for all CPUs : 0.065184 kWh. Total CPU Power : 42.5 W\n[codecarbon INFO @ 19:53:45] 0.181792 kWh of electricity used since the beginning.\n[codecarbon INFO @ 19:53:55] Energy consumed for RAM : 0.015581 kWh. RAM Power : 10.2771635055542 W\n[codecarbon INFO @ 19:53:55] Energy consumed for all GPUs : 0.100611 kWh. Total GPU Power : 69.72627595410273 W\n[codecarbon INFO @ 19:53:55] Energy consumed for all CPUs : 0.064457 kWh. Total CPU Power : 42.5 W\n[codecarbon INFO @ 19:53:55] 0.180649 kWh of electricity used since the beginning.\n[codecarbon INFO @ 19:54:00] Energy consumed for RAM : 0.015800 kWh. RAM Power : 10.2771635055542 W\n[codecarbon INFO @ 19:54:00] Energy consumed for all GPUs : 0.101142 kWh. Total GPU Power : 69.70069684609277 W\n[codecarbon INFO @ 19:54:00] Energy consumed for all CPUs : 0.065361 kWh. Total CPU Power : 42.5 W\n[codecarbon INFO @ 19:54:00] 0.182302 kWh of electricity used since the beginning.\n[codecarbon INFO @ 19:54:10] Energy consumed for RAM : 0.015624 kWh. RAM Power : 10.2771635055542 W\n[codecarbon INFO @ 19:54:10] Energy consumed for all GPUs : 0.100901 kWh. Total GPU Power : 69.70282485366766 W\n[codecarbon INFO @ 19:54:10] Energy consumed for all CPUs : 0.064634 kWh. Total CPU Power : 42.5 W\n[codecarbon INFO @ 19:54:10] 0.181160 kWh of electricity used since the beginning.\n[codecarbon INFO @ 19:54:15] Energy consumed for RAM : 0.015842 kWh. RAM Power : 10.2771635055542 W\n[codecarbon INFO @ 19:54:15] Energy consumed for all GPUs : 0.101432 kWh. Total GPU Power : 69.72560275081938 W\n[codecarbon INFO @ 19:54:15] Energy consumed for all CPUs : 0.065538 kWh. Total CPU Power : 42.5 W\n[codecarbon INFO @ 19:54:15] 0.182812 kWh of electricity used since the beginning.\n[codecarbon INFO @ 19:54:25] Energy consumed for RAM : 0.015667 kWh. RAM Power : 10.2771635055542 W\n[codecarbon INFO @ 19:54:25] Energy consumed for all GPUs : 0.101192 kWh. Total GPU Power : 69.74841831249168 W\n[codecarbon INFO @ 19:54:25] Energy consumed for all CPUs : 0.064811 kWh. Total CPU Power : 42.5 W\n[codecarbon INFO @ 19:54:25] 0.181670 kWh of electricity used since the beginning.\n[codecarbon INFO @ 19:54:30] Energy consumed for RAM : 0.015885 kWh. RAM Power : 10.2771635055542 W\n[codecarbon INFO @ 19:54:30] Energy consumed for all GPUs : 0.101723 kWh. Total GPU Power : 69.78704870867855 W\n[codecarbon INFO @ 19:54:30] Energy consumed for all CPUs : 0.065715 kWh. Total CPU Power : 42.5 W\n[codecarbon INFO @ 19:54:30] 0.183323 kWh of electricity used since the beginning.\n[codecarbon INFO @ 19:54:40] Energy consumed for RAM : 0.015710 kWh. RAM Power : 10.2771635055542 W\n[codecarbon INFO @ 19:54:40] Energy consumed for all GPUs : 0.101482 kWh. Total GPU Power : 69.80042456571182 W\n[codecarbon INFO @ 19:54:40] Energy consumed for all CPUs : 0.064988 kWh. Total CPU Power : 42.5 W\n[codecarbon INFO @ 19:54:40] 0.182181 kWh of electricity used since the beginning.\n[codecarbon INFO @ 19:54:45] Energy consumed for RAM : 0.015928 kWh. RAM Power : 10.2771635055542 W\n[codecarbon INFO @ 19:54:45] Energy consumed for all GPUs : 0.102013 kWh. Total GPU Power : 69.70706684991791 W\n[codecarbon INFO @ 19:54:45] Energy consumed for all CPUs : 0.065892 kWh. Total CPU Power : 42.5 W\n[codecarbon INFO @ 19:54:45] 0.183834 kWh of electricity used since the beginning.\n[codecarbon INFO @ 19:54:55] Energy consumed for RAM : 0.015753 kWh. RAM Power : 10.2771635055542 W\n[codecarbon INFO @ 19:54:55] Energy consumed for all GPUs : 0.101773 kWh. Total GPU Power : 69.70064839948387 W\n[codecarbon INFO @ 19:54:55] Energy consumed for all CPUs : 0.065166 kWh. Total CPU Power : 42.5 W\n[codecarbon INFO @ 19:54:55] 0.182691 kWh of electricity used since the beginning.\n[codecarbon INFO @ 19:55:00] Energy consumed for RAM : 0.015971 kWh. RAM Power : 10.2771635055542 W\n[codecarbon INFO @ 19:55:00] Energy consumed for all GPUs : 0.102304 kWh. Total GPU Power : 69.73091301884331 W\n[codecarbon INFO @ 19:55:00] Energy consumed for all CPUs : 0.066069 kWh. Total CPU Power : 42.5 W\n[codecarbon INFO @ 19:55:00] 0.184344 kWh of electricity used since the beginning.\n[codecarbon INFO @ 19:55:10] Energy consumed for RAM : 0.015795 kWh. RAM Power : 10.2771635055542 W\n[codecarbon INFO @ 19:55:10] Energy consumed for all GPUs : 0.102063 kWh. Total GPU Power : 69.75951088471602 W\n[codecarbon INFO @ 19:55:10] Energy consumed for all CPUs : 0.065343 kWh. Total CPU Power : 42.5 W\n[codecarbon INFO @ 19:55:10] 0.183201 kWh of electricity used since the beginning.\n[codecarbon INFO @ 19:55:15] Energy consumed for RAM : 0.016014 kWh. RAM Power : 10.2771635055542 W\n[codecarbon INFO @ 19:55:15] Energy consumed for all GPUs : 0.102594 kWh. Total GPU Power : 69.73726765838313 W\n[codecarbon INFO @ 19:55:15] Energy consumed for all CPUs : 0.066246 kWh. Total CPU Power : 42.5 W\n[codecarbon INFO @ 19:55:15] 0.184854 kWh of electricity used since the beginning.\n[codecarbon INFO @ 19:55:25] Energy consumed for RAM : 0.015838 kWh. RAM Power : 10.2771635055542 W\n[codecarbon INFO @ 19:55:25] Energy consumed for all GPUs : 0.102351 kWh. Total GPU Power : 69.16999018491163 W\n[codecarbon INFO @ 19:55:25] Energy consumed for all CPUs : 0.065520 kWh. Total CPU Power : 42.5 W\n[codecarbon INFO @ 19:55:25] 0.183709 kWh of electricity used since the beginning.\n[codecarbon INFO @ 19:55:30] Energy consumed for RAM : 0.016056 kWh. RAM Power : 10.2771635055542 W\n[codecarbon INFO @ 19:55:30] Energy consumed for all GPUs : 0.102882 kWh. Total GPU Power : 69.07323075518524 W\n[codecarbon INFO @ 19:55:30] Energy consumed for all CPUs : 0.066423 kWh. Total CPU Power : 42.5 W\n[codecarbon INFO @ 19:55:30] 0.185362 kWh of electricity used since the beginning.\n[codecarbon INFO @ 19:55:40] Energy consumed for RAM : 0.015881 kWh. RAM Power : 10.2771635055542 W\n[codecarbon INFO @ 19:55:40] Energy consumed for all GPUs : 0.102641 kWh. Total GPU Power : 69.56947922583277 W\n[codecarbon INFO @ 19:55:40] Energy consumed for all CPUs : 0.065697 kWh. Total CPU Power : 42.5 W\n[codecarbon INFO @ 19:55:40] 0.184219 kWh of electricity used since the beginning.\n[codecarbon INFO @ 19:55:45] Energy consumed for RAM : 0.016099 kWh. RAM Power : 10.2771635055542 W\n[codecarbon INFO @ 19:55:45] Energy consumed for all GPUs : 0.103172 kWh. Total GPU Power : 69.70813536027104 W\n[codecarbon INFO @ 19:55:45] Energy consumed for all CPUs : 0.066600 kWh. Total CPU Power : 42.5 W\n[codecarbon INFO @ 19:55:45] 0.185872 kWh of electricity used since the beginning.\n[codecarbon INFO @ 19:55:55] Energy consumed for RAM : 0.015924 kWh. RAM Power : 10.2771635055542 W\n[codecarbon INFO @ 19:55:55] Energy consumed for all GPUs : 0.102931 kWh. Total GPU Power : 69.66253140883104 W\n[codecarbon INFO @ 19:55:55] Energy consumed for all CPUs : 0.065874 kWh. Total CPU Power : 42.5 W\n[codecarbon INFO @ 19:55:55] 0.184729 kWh of electricity used since the beginning.\n[codecarbon INFO @ 19:56:00] Energy consumed for RAM : 0.016142 kWh. RAM Power : 10.2771635055542 W\n[codecarbon INFO @ 19:56:00] Energy consumed for all GPUs : 0.103462 kWh. Total GPU Power : 69.5768353933533 W\n[codecarbon INFO @ 19:56:00] Energy consumed for all CPUs : 0.066778 kWh. Total CPU Power : 42.5 W\n[codecarbon INFO @ 19:56:00] 0.186382 kWh of electricity used since the beginning.\n[codecarbon INFO @ 19:56:10] Energy consumed for RAM : 0.015967 kWh. RAM Power : 10.2771635055542 W\n[codecarbon INFO @ 19:56:10] Energy consumed for all GPUs : 0.103221 kWh. Total GPU Power : 69.56701198766017 W\n[codecarbon INFO @ 19:56:10] Energy consumed for all CPUs : 0.066051 kWh. Total CPU Power : 42.5 W\n[codecarbon INFO @ 19:56:10] 0.185239 kWh of electricity used since the beginning.\n[codecarbon INFO @ 19:56:15] Energy consumed for RAM : 0.016185 kWh. RAM Power : 10.2771635055542 W\n[codecarbon INFO @ 19:56:15] Energy consumed for all GPUs : 0.103752 kWh. Total GPU Power : 69.57127508085243 W\n[codecarbon INFO @ 19:56:15] Energy consumed for all CPUs : 0.066955 kWh. Total CPU Power : 42.5 W\n[codecarbon INFO @ 19:56:15] 0.186891 kWh of electricity used since the beginning.\n[codecarbon INFO @ 19:56:25] Energy consumed for RAM : 0.016009 kWh. RAM Power : 10.2771635055542 W\n[codecarbon INFO @ 19:56:25] Energy consumed for all GPUs : 0.103511 kWh. Total GPU Power : 69.56884898018531 W\n[codecarbon INFO @ 19:56:25] Energy consumed for all CPUs : 0.066228 kWh. Total CPU Power : 42.5 W\n[codecarbon INFO @ 19:56:25] 0.185748 kWh of electricity used since the beginning.\n[codecarbon INFO @ 19:56:30] Energy consumed for RAM : 0.016228 kWh. RAM Power : 10.2771635055542 W\n[codecarbon INFO @ 19:56:30] Energy consumed for all GPUs : 0.104042 kWh. Total GPU Power : 69.55552898480877 W\n[codecarbon INFO @ 19:56:30] Energy consumed for all CPUs : 0.067132 kWh. Total CPU Power : 42.5 W\n[codecarbon INFO @ 19:56:30] 0.187401 kWh of electricity used since the beginning.\n[codecarbon INFO @ 19:56:40] Energy consumed for RAM : 0.016052 kWh. RAM Power : 10.2771635055542 W\n[codecarbon INFO @ 19:56:40] Energy consumed for all GPUs : 0.103801 kWh. Total GPU Power : 69.62078533327544 W\n[codecarbon INFO @ 19:56:40] Energy consumed for all CPUs : 0.066405 kWh. Total CPU Power : 42.5 W\n[codecarbon INFO @ 19:56:40] 0.186258 kWh of electricity used since the beginning.\n[codecarbon INFO @ 19:56:45] Energy consumed for RAM : 0.016270 kWh. RAM Power : 10.2771635055542 W\n[codecarbon INFO @ 19:56:45] Energy consumed for all GPUs : 0.104332 kWh. Total GPU Power : 69.67722966385963 W\n[codecarbon INFO @ 19:56:45] Energy consumed for all CPUs : 0.067309 kWh. Total CPU Power : 42.5 W\n[codecarbon INFO @ 19:56:45] 0.187911 kWh of electricity used since the beginning.\n[codecarbon INFO @ 19:56:55] Energy consumed for RAM : 0.016095 kWh. RAM Power : 10.2771635055542 W\n[codecarbon INFO @ 19:56:55] Energy consumed for all GPUs : 0.104091 kWh. Total GPU Power : 69.70751681837592 W\n[codecarbon INFO @ 19:56:55] Energy consumed for all CPUs : 0.066582 kWh. Total CPU Power : 42.5 W\n[codecarbon INFO @ 19:56:55] 0.186768 kWh of electricity used since the beginning.\n[codecarbon INFO @ 19:57:00] Energy consumed for RAM : 0.016313 kWh. RAM Power : 10.2771635055542 W\n[codecarbon INFO @ 19:57:00] Energy consumed for all GPUs : 0.104622 kWh. Total GPU Power : 69.67787370651445 W\n[codecarbon INFO @ 19:57:00] Energy consumed for all CPUs : 0.067486 kWh. Total CPU Power : 42.5 W\n[codecarbon INFO @ 19:57:00] 0.188421 kWh of electricity used since the beginning.\n[codecarbon INFO @ 19:57:10] Energy consumed for RAM : 0.016138 kWh. RAM Power : 10.2771635055542 W\n[codecarbon INFO @ 19:57:10] Energy consumed for all GPUs : 0.104381 kWh. Total GPU Power : 69.52689938586623 W\n[codecarbon INFO @ 19:57:10] Energy consumed for all CPUs : 0.066759 kWh. Total CPU Power : 42.5 W\n[codecarbon INFO @ 19:57:10] 0.187278 kWh of electricity used since the beginning.\n[codecarbon INFO @ 19:57:15] Energy consumed for RAM : 0.016356 kWh. RAM Power : 10.2771635055542 W\n[codecarbon INFO @ 19:57:15] Energy consumed for all GPUs : 0.104912 kWh. Total GPU Power : 69.55906870361765 W\n[codecarbon INFO @ 19:57:15] Energy consumed for all CPUs : 0.067663 kWh. Total CPU Power : 42.5 W\n[codecarbon INFO @ 19:57:15] 0.188931 kWh of electricity used since the beginning.\n[codecarbon INFO @ 19:57:25] Energy consumed for RAM : 0.016181 kWh. RAM Power : 10.2771635055542 W\n[codecarbon INFO @ 19:57:25] Energy consumed for all GPUs : 0.104671 kWh. Total GPU Power : 69.61623245902194 W\n[codecarbon INFO @ 19:57:25] Energy consumed for all CPUs : 0.066936 kWh. Total CPU Power : 42.5 W\n[codecarbon INFO @ 19:57:25] 0.187788 kWh of electricity used since the beginning.\n[codecarbon INFO @ 19:57:30] Energy consumed for RAM : 0.016399 kWh. RAM Power : 10.2771635055542 W\n[codecarbon INFO @ 19:57:30] Energy consumed for all GPUs : 0.105202 kWh. Total GPU Power : 69.65090379756003 W\n[codecarbon INFO @ 19:57:30] Energy consumed for all CPUs : 0.067840 kWh. Total CPU Power : 42.5 W\n[codecarbon INFO @ 19:57:30] 0.189441 kWh of electricity used since the beginning.\n[codecarbon INFO @ 19:57:40] Energy consumed for RAM : 0.016223 kWh. RAM Power : 10.2771635055542 W\n[codecarbon INFO @ 19:57:40] Energy consumed for all GPUs : 0.104961 kWh. Total GPU Power : 69.60356395562015 W\n[codecarbon INFO @ 19:57:40] Energy consumed for all CPUs : 0.067113 kWh. Total CPU Power : 42.5 W\n[codecarbon INFO @ 19:57:40] 0.188298 kWh of electricity used since the beginning.\n[codecarbon INFO @ 19:57:45] Energy consumed for RAM : 0.016442 kWh. RAM Power : 10.2771635055542 W\n[codecarbon INFO @ 19:57:45] Energy consumed for all GPUs : 0.105491 kWh. Total GPU Power : 69.52528683386375 W\n[codecarbon INFO @ 19:57:45] Energy consumed for all CPUs : 0.068017 kWh. Total CPU Power : 42.5 W\n[codecarbon INFO @ 19:57:45] 0.189950 kWh of electricity used since the beginning.\n[codecarbon INFO @ 19:57:55] Energy consumed for RAM : 0.016266 kWh. RAM Power : 10.2771635055542 W\n[codecarbon INFO @ 19:57:55] Energy consumed for all GPUs : 0.105251 kWh. Total GPU Power : 69.6078470670478 W\n[codecarbon INFO @ 19:57:55] Energy consumed for all CPUs : 0.067290 kWh. Total CPU Power : 42.5 W\n[codecarbon INFO @ 19:57:55] 0.188807 kWh of electricity used since the beginning.\n[codecarbon INFO @ 19:58:00] Energy consumed for RAM : 0.016484 kWh. RAM Power : 10.2771635055542 W\n[codecarbon INFO @ 19:58:00] Energy consumed for all GPUs : 0.105781 kWh. Total GPU Power : 69.5903925963885 W\n[codecarbon INFO @ 19:58:00] Energy consumed for all CPUs : 0.068194 kWh. Total CPU Power : 42.5 W\n[codecarbon INFO @ 19:58:00] 0.190460 kWh of electricity used since the beginning.\n[codecarbon INFO @ 19:58:10] Energy consumed for RAM : 0.016309 kWh. RAM Power : 10.2771635055542 W\n[codecarbon INFO @ 19:58:10] Energy consumed for all GPUs : 0.105540 kWh. Total GPU Power : 69.55633921394292 W\n[codecarbon INFO @ 19:58:10] Energy consumed for all CPUs : 0.067467 kWh. Total CPU Power : 42.5 W\n[codecarbon INFO @ 19:58:10] 0.189317 kWh of electricity used since the beginning.\n[codecarbon INFO @ 19:58:15] Energy consumed for RAM : 0.016527 kWh. RAM Power : 10.2771635055542 W\n[codecarbon INFO @ 19:58:15] Energy consumed for all GPUs : 0.106071 kWh. Total GPU Power : 69.5985435740032 W\n[codecarbon INFO @ 19:58:15] Energy consumed for all CPUs : 0.068371 kWh. Total CPU Power : 42.5 W\n[codecarbon INFO @ 19:58:15] 0.190970 kWh of electricity used since the beginning.\n[codecarbon INFO @ 19:58:25] Energy consumed for RAM : 0.016352 kWh. RAM Power : 10.2771635055542 W\n[codecarbon INFO @ 19:58:25] Energy consumed for all GPUs : 0.105830 kWh. Total GPU Power : 69.56975139720787 W\n[codecarbon INFO @ 19:58:25] Energy consumed for all CPUs : 0.067644 kWh. Total CPU Power : 42.5 W\n[codecarbon INFO @ 19:58:25] 0.189827 kWh of electricity used since the beginning.\n[codecarbon INFO @ 19:58:30] Energy consumed for RAM : 0.016570 kWh. RAM Power : 10.2771635055542 W\n[codecarbon INFO @ 19:58:30] Energy consumed for all GPUs : 0.106361 kWh. Total GPU Power : 69.58436375351042 W\n[codecarbon INFO @ 19:58:30] Energy consumed for all CPUs : 0.068548 kWh. Total CPU Power : 42.5 W\n[codecarbon INFO @ 19:58:30] 0.191479 kWh of electricity used since the beginning.\n[codecarbon INFO @ 19:58:40] Energy consumed for RAM : 0.016395 kWh. RAM Power : 10.2771635055542 W\n[codecarbon INFO @ 19:58:40] Energy consumed for all GPUs : 0.106120 kWh. Total GPU Power : 69.56417130560716 W\n[codecarbon INFO @ 19:58:40] Energy consumed for all CPUs : 0.067822 kWh. Total CPU Power : 42.5 W\n[codecarbon INFO @ 19:58:40] 0.190336 kWh of electricity used since the beginning.\n[codecarbon INFO @ 19:58:45] Energy consumed for RAM : 0.016613 kWh. RAM Power : 10.2771635055542 W\n[codecarbon INFO @ 19:58:45] Energy consumed for all GPUs : 0.106651 kWh. Total GPU Power : 69.56813626627338 W\n[codecarbon INFO @ 19:58:45] Energy consumed for all CPUs : 0.068725 kWh. Total CPU Power : 42.5 W\n[codecarbon INFO @ 19:58:45] 0.191989 kWh of electricity used since the beginning.\n[codecarbon INFO @ 19:58:55] Energy consumed for RAM : 0.016438 kWh. RAM Power : 10.2771635055542 W\n[codecarbon INFO @ 19:58:55] Energy consumed for all GPUs : 0.106410 kWh. Total GPU Power : 69.64098207216999 W\n[codecarbon INFO @ 19:58:55] Energy consumed for all CPUs : 0.067999 kWh. Total CPU Power : 42.5 W\n[codecarbon INFO @ 19:58:55] 0.190846 kWh of electricity used since the beginning.\n[codecarbon INFO @ 19:59:00] Energy consumed for RAM : 0.016656 kWh. RAM Power : 10.2771635055542 W\n[codecarbon INFO @ 19:59:00] Energy consumed for all GPUs : 0.106941 kWh. Total GPU Power : 69.64881748519551 W\n[codecarbon INFO @ 19:59:00] Energy consumed for all CPUs : 0.068903 kWh. Total CPU Power : 42.5 W\n[codecarbon INFO @ 19:59:00] 0.192499 kWh of electricity used since the beginning.\n[codecarbon INFO @ 19:59:10] Energy consumed for RAM : 0.016480 kWh. RAM Power : 10.2771635055542 W\n[codecarbon INFO @ 19:59:10] Energy consumed for all GPUs : 0.106700 kWh. Total GPU Power : 69.6362094933341 W\n[codecarbon INFO @ 19:59:10] Energy consumed for all CPUs : 0.068176 kWh. Total CPU Power : 42.5 W\n[codecarbon INFO @ 19:59:10] 0.191356 kWh of electricity used since the beginning.\n[codecarbon INFO @ 19:59:15] Energy consumed for RAM : 0.016698 kWh. RAM Power : 10.2771635055542 W\n[codecarbon INFO @ 19:59:15] Energy consumed for all GPUs : 0.107231 kWh. Total GPU Power : 69.59877180769952 W\n[codecarbon INFO @ 19:59:15] Energy consumed for all CPUs : 0.069080 kWh. Total CPU Power : 42.5 W\n[codecarbon INFO @ 19:59:15] 0.193009 kWh of electricity used since the beginning.\n[codecarbon INFO @ 19:59:25] Energy consumed for RAM : 0.016523 kWh. RAM Power : 10.2771635055542 W\n[codecarbon INFO @ 19:59:25] Energy consumed for all GPUs : 0.106990 kWh. Total GPU Power : 69.59741723945746 W\n[codecarbon INFO @ 19:59:25] Energy consumed for all CPUs : 0.068353 kWh. Total CPU Power : 42.5 W\n[codecarbon INFO @ 19:59:25] 0.191866 kWh of electricity used since the beginning.\n[codecarbon INFO @ 19:59:30] Energy consumed for RAM : 0.016741 kWh. RAM Power : 10.2771635055542 W\n[codecarbon INFO @ 19:59:30] Energy consumed for all GPUs : 0.107521 kWh. Total GPU Power : 69.65925952850635 W\n[codecarbon INFO @ 19:59:30] Energy consumed for all CPUs : 0.069257 kWh. Total CPU Power : 42.5 W\n[codecarbon INFO @ 19:59:30] 0.193519 kWh of electricity used since the beginning.\n[codecarbon INFO @ 19:59:40] Energy consumed for RAM : 0.016566 kWh. RAM Power : 10.2771635055542 W\n[codecarbon INFO @ 19:59:40] Energy consumed for all GPUs : 0.107280 kWh. Total GPU Power : 69.6425814570245 W\n[codecarbon INFO @ 19:59:40] Energy consumed for all CPUs : 0.068530 kWh. Total CPU Power : 42.5 W\n[codecarbon INFO @ 19:59:40] 0.192376 kWh of electricity used since the beginning.\n[codecarbon INFO @ 19:59:45] Energy consumed for RAM : 0.016784 kWh. RAM Power : 10.2771635055542 W\n[codecarbon INFO @ 19:59:45] Energy consumed for all GPUs : 0.107811 kWh. Total GPU Power : 69.58861278780418 W\n[codecarbon INFO @ 19:59:45] Energy consumed for all CPUs : 0.069434 kWh. Total CPU Power : 42.5 W\n[codecarbon INFO @ 19:59:45] 0.194029 kWh of electricity used since the beginning.\n[codecarbon INFO @ 19:59:55] Energy consumed for RAM : 0.016609 kWh. RAM Power : 10.2771635055542 W\n[codecarbon INFO @ 19:59:55] Energy consumed for all GPUs : 0.107570 kWh. Total GPU Power : 69.56137823886066 W\n[codecarbon INFO @ 19:59:55] Energy consumed for all CPUs : 0.068707 kWh. Total CPU Power : 42.5 W\n[codecarbon INFO @ 19:59:55] 0.192886 kWh of electricity used since the beginning.\n[codecarbon INFO @ 20:00:00] Energy consumed for RAM : 0.016827 kWh. RAM Power : 10.2771635055542 W\n[codecarbon INFO @ 20:00:00] Energy consumed for all GPUs : 0.108101 kWh. Total GPU Power : 69.641746060768 W\n[codecarbon INFO @ 20:00:00] Energy consumed for all CPUs : 0.069611 kWh. Total CPU Power : 42.5 W\n[codecarbon INFO @ 20:00:00] 0.194539 kWh of electricity used since the beginning.\n[codecarbon INFO @ 20:00:10] Energy consumed for RAM : 0.016652 kWh. RAM Power : 10.2771635055542 W\n[codecarbon INFO @ 20:00:10] Energy consumed for all GPUs : 0.107860 kWh. Total GPU Power : 69.60338087030962 W\n[codecarbon INFO @ 20:00:10] Energy consumed for all CPUs : 0.068884 kWh. Total CPU Power : 42.5 W\n[codecarbon INFO @ 20:00:10] 0.193396 kWh of electricity used since the beginning.\n[codecarbon INFO @ 20:00:15] Energy consumed for RAM : 0.016870 kWh. RAM Power : 10.2771635055542 W\n[codecarbon INFO @ 20:00:15] Energy consumed for all GPUs : 0.108391 kWh. Total GPU Power : 69.56970836409822 W\n[codecarbon INFO @ 20:00:15] Energy consumed for all CPUs : 0.069788 kWh. Total CPU Power : 42.5 W\n[codecarbon INFO @ 20:00:15] 0.195048 kWh of electricity used since the beginning.\n[codecarbon INFO @ 20:00:25] Energy consumed for RAM : 0.016694 kWh. RAM Power : 10.2771635055542 W\n[codecarbon INFO @ 20:00:25] Energy consumed for all GPUs : 0.108150 kWh. Total GPU Power : 69.55435756920198 W\n[codecarbon INFO @ 20:00:25] Energy consumed for all CPUs : 0.069061 kWh. Total CPU Power : 42.5 W\n[codecarbon INFO @ 20:00:25] 0.193905 kWh of electricity used since the beginning.\n[codecarbon INFO @ 20:00:30] Energy consumed for RAM : 0.016912 kWh. RAM Power : 10.2771635055542 W\n[codecarbon INFO @ 20:00:30] Energy consumed for all GPUs : 0.108680 kWh. Total GPU Power : 69.59920087024231 W\n[codecarbon INFO @ 20:00:30] Energy consumed for all CPUs : 0.069965 kWh. Total CPU Power : 42.5 W\n[codecarbon INFO @ 20:00:30] 0.195558 kWh of electricity used since the beginning.\n[codecarbon INFO @ 20:00:40] Energy consumed for RAM : 0.016737 kWh. RAM Power : 10.2771635055542 W\n[codecarbon INFO @ 20:00:40] Energy consumed for all GPUs : 0.108440 kWh. Total GPU Power : 69.63528902221319 W\n[codecarbon INFO @ 20:00:40] Energy consumed for all CPUs : 0.069238 kWh. Total CPU Power : 42.5 W\n[codecarbon INFO @ 20:00:40] 0.194415 kWh of electricity used since the beginning.\n[codecarbon INFO @ 20:00:45] Energy consumed for RAM : 0.016955 kWh. RAM Power : 10.2771635055542 W\n[codecarbon INFO @ 20:00:45] Energy consumed for all GPUs : 0.108970 kWh. Total GPU Power : 69.57679140479739 W\n[codecarbon INFO @ 20:00:45] Energy consumed for all CPUs : 0.070142 kWh. Total CPU Power : 42.5 W\n[codecarbon INFO @ 20:00:45] 0.196068 kWh of electricity used since the beginning.\n[codecarbon INFO @ 20:00:55] Energy consumed for RAM : 0.016780 kWh. RAM Power : 10.2771635055542 W\n[codecarbon INFO @ 20:00:55] Energy consumed for all GPUs : 0.108729 kWh. Total GPU Power : 69.55784636857197 W\n[codecarbon INFO @ 20:00:55] Energy consumed for all CPUs : 0.069415 kWh. Total CPU Power : 42.5 W\n[codecarbon INFO @ 20:00:55] 0.194925 kWh of electricity used since the beginning.\n[codecarbon INFO @ 20:01:00] Energy consumed for RAM : 0.016998 kWh. RAM Power : 10.2771635055542 W\n[codecarbon INFO @ 20:01:00] Energy consumed for all GPUs : 0.109260 kWh. Total GPU Power : 69.47636950230338 W\n[codecarbon INFO @ 20:01:00] Energy consumed for all CPUs : 0.070319 kWh. Total CPU Power : 42.5 W\n[codecarbon INFO @ 20:01:00] 0.196577 kWh of electricity used since the beginning.\n[codecarbon INFO @ 20:01:10] Energy consumed for RAM : 0.016823 kWh. RAM Power : 10.2771635055542 W\n[codecarbon INFO @ 20:01:10] Energy consumed for all GPUs : 0.109019 kWh. Total GPU Power : 69.56036149844236 W\n[codecarbon INFO @ 20:01:10] Energy consumed for all CPUs : 0.069592 kWh. Total CPU Power : 42.5 W\n[codecarbon INFO @ 20:01:10] 0.195434 kWh of electricity used since the beginning.\n[codecarbon INFO @ 20:01:15] Energy consumed for RAM : 0.017041 kWh. RAM Power : 10.2771635055542 W\n[codecarbon INFO @ 20:01:15] Energy consumed for all GPUs : 0.109550 kWh. Total GPU Power : 69.66961483950364 W\n[codecarbon INFO @ 20:01:15] Energy consumed for all CPUs : 0.070496 kWh. Total CPU Power : 42.5 W\n[codecarbon INFO @ 20:01:15] 0.197087 kWh of electricity used since the beginning.\n[codecarbon INFO @ 20:01:25] Energy consumed for RAM : 0.016866 kWh. RAM Power : 10.2771635055542 W\n[codecarbon INFO @ 20:01:25] Energy consumed for all GPUs : 0.109308 kWh. Total GPU Power : 69.20857980446202 W\n[codecarbon INFO @ 20:01:25] Energy consumed for all CPUs : 0.069769 kWh. Total CPU Power : 42.5 W\n[codecarbon INFO @ 20:01:25] 0.195942 kWh of electricity used since the beginning.\n[codecarbon INFO @ 20:01:30] Energy consumed for RAM : 0.017084 kWh. RAM Power : 10.2771635055542 W\n[codecarbon INFO @ 20:01:30] Energy consumed for all GPUs : 0.109840 kWh. Total GPU Power : 69.66509186344011 W\n[codecarbon INFO @ 20:01:30] Energy consumed for all CPUs : 0.070673 kWh. Total CPU Power : 42.5 W\n[codecarbon INFO @ 20:01:30] 0.197597 kWh of electricity used since the beginning.\n[codecarbon INFO @ 20:01:40] Energy consumed for RAM : 0.016908 kWh. RAM Power : 10.2771635055542 W\n[codecarbon INFO @ 20:01:40] Energy consumed for all GPUs : 0.109597 kWh. Total GPU Power : 69.5912377711896 W\n[codecarbon INFO @ 20:01:40] Energy consumed for all CPUs : 0.069946 kWh. Total CPU Power : 42.5 W\n[codecarbon INFO @ 20:01:40] 0.196452 kWh of electricity used since the beginning.\n[codecarbon INFO @ 20:01:45] Energy consumed for RAM : 0.017126 kWh. RAM Power : 10.2771635055542 W\n[codecarbon INFO @ 20:01:45] Energy consumed for all GPUs : 0.110130 kWh. Total GPU Power : 69.6141691021389 W\n[codecarbon INFO @ 20:01:45] Energy consumed for all CPUs : 0.070850 kWh. Total CPU Power : 42.5 W\n[codecarbon INFO @ 20:01:45] 0.198107 kWh of electricity used since the beginning.\n[codecarbon INFO @ 20:01:55] Energy consumed for RAM : 0.016951 kWh. RAM Power : 10.2771635055542 W\n[codecarbon INFO @ 20:01:55] Energy consumed for all GPUs : 0.109887 kWh. Total GPU Power : 69.57260954748557 W\n[codecarbon INFO @ 20:01:55] Energy consumed for all CPUs : 0.070124 kWh. Total CPU Power : 42.5 W\n[codecarbon INFO @ 20:01:55] 0.196962 kWh of electricity used since the beginning.\n[codecarbon INFO @ 20:02:00] Energy consumed for RAM : 0.017169 kWh. RAM Power : 10.2771635055542 W\n[codecarbon INFO @ 20:02:00] Energy consumed for all GPUs : 0.110420 kWh. Total GPU Power : 69.58121245787594 W\n[codecarbon INFO @ 20:02:00] Energy consumed for all CPUs : 0.071027 kWh. Total CPU Power : 42.5 W\n[codecarbon INFO @ 20:02:00] 0.198616 kWh of electricity used since the beginning.\n[codecarbon INFO @ 20:02:10] Energy consumed for RAM : 0.016994 kWh. RAM Power : 10.2771635055542 W\n[codecarbon INFO @ 20:02:10] Energy consumed for all GPUs : 0.110177 kWh. Total GPU Power : 69.56734186316761 W\n[codecarbon INFO @ 20:02:10] Energy consumed for all CPUs : 0.070301 kWh. Total CPU Power : 42.5 W\n[codecarbon INFO @ 20:02:10] 0.197472 kWh of electricity used since the beginning.\n[codecarbon INFO @ 20:02:15] Energy consumed for RAM : 0.017212 kWh. RAM Power : 10.2771635055542 W\n[codecarbon INFO @ 20:02:15] Energy consumed for all GPUs : 0.110710 kWh. Total GPU Power : 69.57489053980878 W\n[codecarbon INFO @ 20:02:15] Energy consumed for all CPUs : 0.071204 kWh. Total CPU Power : 42.5 W\n[codecarbon INFO @ 20:02:15] 0.199126 kWh of electricity used since the beginning.\n[codecarbon INFO @ 20:02:25] Energy consumed for RAM : 0.017037 kWh. RAM Power : 10.2771635055542 W\n[codecarbon INFO @ 20:02:25] Energy consumed for all GPUs : 0.110467 kWh. Total GPU Power : 69.71466998687758 W\n[codecarbon INFO @ 20:02:25] Energy consumed for all CPUs : 0.070478 kWh. Total CPU Power : 42.5 W\n[codecarbon INFO @ 20:02:25] 0.197982 kWh of electricity used since the beginning.\n[codecarbon INFO @ 20:02:30] Energy consumed for RAM : 0.017255 kWh. RAM Power : 10.2771635055542 W\n[codecarbon INFO @ 20:02:30] Energy consumed for all GPUs : 0.110998 kWh. Total GPU Power : 69.2892345115705 W\n[codecarbon INFO @ 20:02:30] Energy consumed for all CPUs : 0.071381 kWh. Total CPU Power : 42.5 W\n[codecarbon INFO @ 20:02:30] 0.199635 kWh of electricity used since the beginning.\n[codecarbon INFO @ 20:02:40] Energy consumed for RAM : 0.017080 kWh. RAM Power : 10.2771635055542 W\n[codecarbon INFO @ 20:02:40] Energy consumed for all GPUs : 0.110757 kWh. Total GPU Power : 69.6060530350832 W\n[codecarbon INFO @ 20:02:40] Energy consumed for all CPUs : 0.070655 kWh. Total CPU Power : 42.5 W\n[codecarbon INFO @ 20:02:40] 0.198492 kWh of electricity used since the beginning.\n[codecarbon INFO @ 20:02:45] Energy consumed for RAM : 0.017298 kWh. RAM Power : 10.2771635055542 W\n[codecarbon INFO @ 20:02:45] Energy consumed for all GPUs : 0.111288 kWh. Total GPU Power : 69.56402727106985 W\n[codecarbon INFO @ 20:02:45] Energy consumed for all CPUs : 0.071559 kWh. Total CPU Power : 42.5 W\n[codecarbon INFO @ 20:02:45] 0.200144 kWh of electricity used since the beginning.\n[codecarbon INFO @ 20:02:55] Energy consumed for RAM : 0.017122 kWh. RAM Power : 10.2771635055542 W\n[codecarbon INFO @ 20:02:55] Energy consumed for all GPUs : 0.111047 kWh. Total GPU Power : 69.5911210786284 W\n[codecarbon INFO @ 20:02:55] Energy consumed for all CPUs : 0.070832 kWh. Total CPU Power : 42.5 W\n[codecarbon INFO @ 20:02:55] 0.199001 kWh of electricity used since the beginning.\n[codecarbon INFO @ 20:03:00] Energy consumed for RAM : 0.017340 kWh. RAM Power : 10.2771635055542 W\n[codecarbon INFO @ 20:03:00] Energy consumed for all GPUs : 0.111578 kWh. Total GPU Power : 69.58627764380009 W\n[codecarbon INFO @ 20:03:00] Energy consumed for all CPUs : 0.071736 kWh. Total CPU Power : 42.5 W\n[codecarbon INFO @ 20:03:00] 0.200654 kWh of electricity used since the beginning.\n[codecarbon INFO @ 20:03:10] Energy consumed for RAM : 0.017165 kWh. RAM Power : 10.2771635055542 W\n[codecarbon INFO @ 20:03:10] Energy consumed for all GPUs : 0.111337 kWh. Total GPU Power : 69.56476411713997 W\n[codecarbon INFO @ 20:03:10] Energy consumed for all CPUs : 0.071009 kWh. Total CPU Power : 42.5 W\n[codecarbon INFO @ 20:03:10] 0.199511 kWh of electricity used since the beginning.\n[codecarbon INFO @ 20:03:15] Energy consumed for RAM : 0.017383 kWh. RAM Power : 10.2771635055542 W\n[codecarbon INFO @ 20:03:15] Energy consumed for all GPUs : 0.111870 kWh. Total GPU Power : 70.0434105459079 W\n[codecarbon INFO @ 20:03:15] Energy consumed for all CPUs : 0.071913 kWh. Total CPU Power : 42.5 W\n[codecarbon INFO @ 20:03:15] 0.201166 kWh of electricity used since the beginning.\n[codecarbon INFO @ 20:03:25] Energy consumed for RAM : 0.017208 kWh. RAM Power : 10.2771635055542 W\n[codecarbon INFO @ 20:03:25] Energy consumed for all GPUs : 0.111627 kWh. Total GPU Power : 69.60267962509842 W\n[codecarbon INFO @ 20:03:25] Energy consumed for all CPUs : 0.071186 kWh. Total CPU Power : 42.5 W\n[codecarbon INFO @ 20:03:25] 0.200021 kWh of electricity used since the beginning.\n[codecarbon INFO @ 20:03:30] Energy consumed for RAM : 0.017426 kWh. RAM Power : 10.2771635055542 W\n[codecarbon INFO @ 20:03:30] Energy consumed for all GPUs : 0.112158 kWh. Total GPU Power : 69.16483029997379 W\n[codecarbon INFO @ 20:03:30] Energy consumed for all CPUs : 0.072090 kWh. Total CPU Power : 42.5 W\n[codecarbon INFO @ 20:03:30] 0.201674 kWh of electricity used since the beginning.\n[codecarbon INFO @ 20:03:40] Energy consumed for RAM : 0.017251 kWh. RAM Power : 10.2771635055542 W\n[codecarbon INFO @ 20:03:40] Energy consumed for all GPUs : 0.111917 kWh. Total GPU Power : 69.66530134352107 W\n[codecarbon INFO @ 20:03:40] Energy consumed for all CPUs : 0.071363 kWh. Total CPU Power : 42.5 W\n[codecarbon INFO @ 20:03:40] 0.200531 kWh of electricity used since the beginning.\n[codecarbon INFO @ 20:03:45] Energy consumed for RAM : 0.017469 kWh. RAM Power : 10.2771635055542 W\n[codecarbon INFO @ 20:03:45] Energy consumed for all GPUs : 0.112448 kWh. Total GPU Power : 69.65537927867771 W\n[codecarbon INFO @ 20:03:45] Energy consumed for all CPUs : 0.072267 kWh. Total CPU Power : 42.5 W\n[codecarbon INFO @ 20:03:45] 0.202184 kWh of electricity used since the beginning.\n[codecarbon INFO @ 20:03:55] Energy consumed for RAM : 0.017294 kWh. RAM Power : 10.2771635055542 W\n[codecarbon INFO @ 20:03:55] Energy consumed for all GPUs : 0.112207 kWh. Total GPU Power : 69.62399688247253 W\n[codecarbon INFO @ 20:03:55] Energy consumed for all CPUs : 0.071540 kWh. Total CPU Power : 42.5 W\n[codecarbon INFO @ 20:03:55] 0.201041 kWh of electricity used since the beginning.\n[codecarbon INFO @ 20:04:00] Energy consumed for RAM : 0.017512 kWh. RAM Power : 10.2771635055542 W\n[codecarbon INFO @ 20:04:00] Energy consumed for all GPUs : 0.112738 kWh. Total GPU Power : 69.65423171976676 W\n[codecarbon INFO @ 20:04:00] Energy consumed for all CPUs : 0.072444 kWh. Total CPU Power : 42.5 W\n[codecarbon INFO @ 20:04:00] 0.202693 kWh of electricity used since the beginning.\n[codecarbon INFO @ 20:04:10] Energy consumed for RAM : 0.017336 kWh. RAM Power : 10.2771635055542 W\n[codecarbon INFO @ 20:04:10] Energy consumed for all GPUs : 0.112497 kWh. Total GPU Power : 69.62715273250605 W\n[codecarbon INFO @ 20:04:10] Energy consumed for all CPUs : 0.071717 kWh. Total CPU Power : 42.5 W\n[codecarbon INFO @ 20:04:10] 0.201551 kWh of electricity used since the beginning.\n[codecarbon INFO @ 20:04:15] Energy consumed for RAM : 0.017554 kWh. RAM Power : 10.2771635055542 W\n[codecarbon INFO @ 20:04:15] Energy consumed for all GPUs : 0.113028 kWh. Total GPU Power : 69.60493318280814 W\n[codecarbon INFO @ 20:04:15] Energy consumed for all CPUs : 0.072621 kWh. Total CPU Power : 42.5 W\n[codecarbon INFO @ 20:04:15] 0.203203 kWh of electricity used since the beginning.\n[codecarbon INFO @ 20:04:25] Energy consumed for RAM : 0.017379 kWh. RAM Power : 10.2771635055542 W\n[codecarbon INFO @ 20:04:25] Energy consumed for all GPUs : 0.112787 kWh. Total GPU Power : 69.56342866254835 W\n[codecarbon INFO @ 20:04:25] Energy consumed for all CPUs : 0.071894 kWh. Total CPU Power : 42.5 W\n[codecarbon INFO @ 20:04:25] 0.202060 kWh of electricity used since the beginning.\n[codecarbon INFO @ 20:04:30] Energy consumed for RAM : 0.017597 kWh. RAM Power : 10.2771635055542 W\n[codecarbon INFO @ 20:04:30] Energy consumed for all GPUs : 0.113318 kWh. Total GPU Power : 69.57423410341794 W\n[codecarbon INFO @ 20:04:30] Energy consumed for all CPUs : 0.072798 kWh. Total CPU Power : 42.5 W\n[codecarbon INFO @ 20:04:30] 0.203713 kWh of electricity used since the beginning.\n[codecarbon INFO @ 20:04:40] Energy consumed for RAM : 0.017422 kWh. RAM Power : 10.2771635055542 W\n[codecarbon INFO @ 20:04:40] Energy consumed for all GPUs : 0.113077 kWh. Total GPU Power : 69.71581306804453 W\n[codecarbon INFO @ 20:04:40] Energy consumed for all CPUs : 0.072071 kWh. Total CPU Power : 42.5 W\n[codecarbon INFO @ 20:04:40] 0.202570 kWh of electricity used since the beginning.\n[codecarbon INFO @ 20:04:45] Energy consumed for RAM : 0.017640 kWh. RAM Power : 10.2771635055542 W\n[codecarbon INFO @ 20:04:45] Energy consumed for all GPUs : 0.113608 kWh. Total GPU Power : 69.71455064581107 W\n[codecarbon INFO @ 20:04:45] Energy consumed for all CPUs : 0.072975 kWh. Total CPU Power : 42.5 W\n[codecarbon INFO @ 20:04:45] 0.204223 kWh of electricity used since the beginning.\n[codecarbon INFO @ 20:04:55] Energy consumed for RAM : 0.017465 kWh. RAM Power : 10.2771635055542 W\n[codecarbon INFO @ 20:04:55] Energy consumed for all GPUs : 0.113367 kWh. Total GPU Power : 69.5367201230799 W\n[codecarbon INFO @ 20:04:55] Energy consumed for all CPUs : 0.072248 kWh. Total CPU Power : 42.5 W\n[codecarbon INFO @ 20:04:55] 0.203080 kWh of electricity used since the beginning.\n[codecarbon INFO @ 20:05:00] Energy consumed for RAM : 0.017683 kWh. RAM Power : 10.2771635055542 W\n[codecarbon INFO @ 20:05:00] Energy consumed for all GPUs : 0.113898 kWh. Total GPU Power : 69.51897202164018 W\n[codecarbon INFO @ 20:05:00] Energy consumed for all CPUs : 0.073152 kWh. Total CPU Power : 42.5 W\n[codecarbon INFO @ 20:05:00] 0.204733 kWh of electricity used since the beginning.\n[codecarbon INFO @ 20:05:10] Energy consumed for RAM : 0.017508 kWh. RAM Power : 10.2771635055542 W\n[codecarbon INFO @ 20:05:10] Energy consumed for all GPUs : 0.113657 kWh. Total GPU Power : 69.60155247263374 W\n[codecarbon INFO @ 20:05:10] Energy consumed for all CPUs : 0.072425 kWh. Total CPU Power : 42.5 W\n[codecarbon INFO @ 20:05:10] 0.203590 kWh of electricity used since the beginning.\n[codecarbon INFO @ 20:05:15] Energy consumed for RAM : 0.017726 kWh. RAM Power : 10.2771635055542 W\n[codecarbon INFO @ 20:05:15] Energy consumed for all GPUs : 0.114187 kWh. Total GPU Power : 69.60093371675478 W\n[codecarbon INFO @ 20:05:15] Energy consumed for all CPUs : 0.073329 kWh. Total CPU Power : 42.5 W\n[codecarbon INFO @ 20:05:15] 0.205243 kWh of electricity used since the beginning.\n[codecarbon INFO @ 20:05:25] Energy consumed for RAM : 0.017550 kWh. RAM Power : 10.2771635055542 W\n[codecarbon INFO @ 20:05:25] Energy consumed for all GPUs : 0.113947 kWh. Total GPU Power : 69.62333201295087 W\n[codecarbon INFO @ 20:05:25] Energy consumed for all CPUs : 0.072603 kWh. Total CPU Power : 42.5 W\n[codecarbon INFO @ 20:05:25] 0.204100 kWh of electricity used since the beginning.\n[codecarbon INFO @ 20:05:30] Energy consumed for RAM : 0.017768 kWh. RAM Power : 10.2771635055542 W\n[codecarbon INFO @ 20:05:30] Energy consumed for all GPUs : 0.114477 kWh. Total GPU Power : 69.62482746023547 W\n[codecarbon INFO @ 20:05:30] Energy consumed for all CPUs : 0.073506 kWh. Total CPU Power : 42.5 W\n[codecarbon INFO @ 20:05:30] 0.205752 kWh of electricity used since the beginning.\n[codecarbon INFO @ 20:05:40] Energy consumed for RAM : 0.017593 kWh. RAM Power : 10.2771635055542 W\n[codecarbon INFO @ 20:05:40] Energy consumed for all GPUs : 0.114232 kWh. Total GPU Power : 68.58052655687254 W\n[codecarbon INFO @ 20:05:40] Energy consumed for all CPUs : 0.072780 kWh. Total CPU Power : 42.5 W\n[codecarbon INFO @ 20:05:40] 0.204605 kWh of electricity used since the beginning.\n[codecarbon INFO @ 20:05:45] Energy consumed for RAM : 0.017811 kWh. RAM Power : 10.2771635055542 W\n[codecarbon INFO @ 20:05:45] Energy consumed for all GPUs : 0.114760 kWh. Total GPU Power : 67.80577268016945 W\n[codecarbon INFO @ 20:05:45] Energy consumed for all CPUs : 0.073683 kWh. Total CPU Power : 42.5 W\n[codecarbon INFO @ 20:05:45] 0.206255 kWh of electricity used since the beginning.\n[codecarbon INFO @ 20:05:55] Energy consumed for RAM : 0.017636 kWh. RAM Power : 10.2771635055542 W\n[codecarbon INFO @ 20:05:55] Energy consumed for all GPUs : 0.114519 kWh. Total GPU Power : 68.93594497951054 W\n[codecarbon INFO @ 20:05:55] Energy consumed for all CPUs : 0.072957 kWh. Total CPU Power : 42.5 W\n[codecarbon INFO @ 20:05:55] 0.205112 kWh of electricity used since the beginning.\n[codecarbon INFO @ 20:06:00] Energy consumed for RAM : 0.017854 kWh. RAM Power : 10.2771635055542 W\n[codecarbon INFO @ 20:06:00] Energy consumed for all GPUs : 0.115050 kWh. Total GPU Power : 69.68797721142998 W\n[codecarbon INFO @ 20:06:00] Energy consumed for all CPUs : 0.073860 kWh. Total CPU Power : 42.5 W\n[codecarbon INFO @ 20:06:00] 0.206765 kWh of electricity used since the beginning.\n[codecarbon INFO @ 20:06:10] Energy consumed for RAM : 0.017679 kWh. RAM Power : 10.2771635055542 W\n[codecarbon INFO @ 20:06:10] Energy consumed for all GPUs : 0.114809 kWh. Total GPU Power : 69.60051935131135 W\n[codecarbon INFO @ 20:06:10] Energy consumed for all CPUs : 0.073134 kWh. Total CPU Power : 42.5 W\n[codecarbon INFO @ 20:06:10] 0.205622 kWh of electricity used since the beginning.\n/anaconda/envs/azureml_py38/lib/python3.8/site-packages/sklearn/metrics/_classification.py:1272: UndefinedMetricWarning: Precision is ill-defined and being set to 0.0 in samples with no predicted labels. Use `zero_division` parameter to control this behavior.\n  _warn_prf(average, modifier, msg_start, len(result))\n/anaconda/envs/azureml_py38/lib/python3.8/site-packages/sklearn/metrics/_classification.py:1272: UndefinedMetricWarning: Recall is ill-defined and being set to 0.0 in samples with no true labels. Use `zero_division` parameter to control this behavior.\n  _warn_prf(average, modifier, msg_start, len(result))\n/anaconda/envs/azureml_py38/lib/python3.8/site-packages/sklearn/metrics/_classification.py:1514: UndefinedMetricWarning: F-score is ill-defined and being set to 0.0 in samples with no true nor predicted labels. Use `zero_division` parameter to control this behavior.\n  _warn_prf(\n[codecarbon INFO @ 20:06:17] Energy consumed for RAM : 0.017902 kWh. RAM Power : 10.2771635055542 W\n[codecarbon INFO @ 20:06:17] Energy consumed for all GPUs : 0.115339 kWh. Total GPU Power : 62.062947085726755 W\n[codecarbon INFO @ 20:06:17] Energy consumed for all CPUs : 0.074059 kWh. Total CPU Power : 42.5 W\n[codecarbon INFO @ 20:06:17] 0.207300 kWh of electricity used since the beginning.\n[codecarbon INFO @ 20:06:25] Energy consumed for RAM : 0.017722 kWh. RAM Power : 10.2771635055542 W\n[codecarbon INFO @ 20:06:25] Energy consumed for all GPUs : 0.114996 kWh. Total GPU Power : 44.897506863894286 W\n[codecarbon INFO @ 20:06:25] Energy consumed for all CPUs : 0.073311 kWh. Total CPU Power : 42.5 W\n[codecarbon INFO @ 20:06:25] 0.206029 kWh of electricity used since the beginning.\n[codecarbon INFO @ 20:06:32] Energy consumed for RAM : 0.017945 kWh. RAM Power : 10.2771635055542 W\n[codecarbon INFO @ 20:06:32] Energy consumed for all GPUs : 0.115562 kWh. Total GPU Power : 53.47767381345753 W\n[codecarbon INFO @ 20:06:32] Energy consumed for all CPUs : 0.074236 kWh. Total CPU Power : 42.5 W\n[codecarbon INFO @ 20:06:32] 0.207743 kWh of electricity used since the beginning.\n[codecarbon INFO @ 20:06:40] Energy consumed for RAM : 0.017764 kWh. RAM Power : 10.2771635055542 W\n[codecarbon INFO @ 20:06:40] Energy consumed for all GPUs : 0.115286 kWh. Total GPU Power : 69.51342330723237 W\n[codecarbon INFO @ 20:06:40] Energy consumed for all CPUs : 0.073488 kWh. Total CPU Power : 42.5 W\n[codecarbon INFO @ 20:06:40] 0.206538 kWh of electricity used since the beginning.\n[codecarbon INFO @ 20:06:47] Energy consumed for RAM : 0.017988 kWh. RAM Power : 10.2771635055542 W\n[codecarbon INFO @ 20:06:47] Energy consumed for all GPUs : 0.115852 kWh. Total GPU Power : 69.58000744215107 W\n[codecarbon INFO @ 20:06:47] Energy consumed for all CPUs : 0.074413 kWh. Total CPU Power : 42.5 W\n[codecarbon INFO @ 20:06:47] 0.208252 kWh of electricity used since the beginning.\n[codecarbon INFO @ 20:06:55] Energy consumed for RAM : 0.017807 kWh. RAM Power : 10.2771635055542 W\n[codecarbon INFO @ 20:06:55] Energy consumed for all GPUs : 0.115576 kWh. Total GPU Power : 69.59522571012579 W\n[codecarbon INFO @ 20:06:55] Energy consumed for all CPUs : 0.073665 kWh. Total CPU Power : 42.5 W\n[codecarbon INFO @ 20:06:55] 0.207048 kWh of electricity used since the beginning.\n[codecarbon INFO @ 20:07:02] Energy consumed for RAM : 0.018030 kWh. RAM Power : 10.2771635055542 W\n[codecarbon INFO @ 20:07:02] Energy consumed for all GPUs : 0.116142 kWh. Total GPU Power : 69.63428697116687 W\n[codecarbon INFO @ 20:07:02] Energy consumed for all CPUs : 0.074590 kWh. Total CPU Power : 42.5 W\n[codecarbon INFO @ 20:07:02] 0.208762 kWh of electricity used since the beginning.\n[codecarbon INFO @ 20:07:10] Energy consumed for RAM : 0.017850 kWh. RAM Power : 10.2771635055542 W\n[codecarbon INFO @ 20:07:10] Energy consumed for all GPUs : 0.115866 kWh. Total GPU Power : 69.62682954245864 W\n[codecarbon INFO @ 20:07:10] Energy consumed for all CPUs : 0.073842 kWh. Total CPU Power : 42.5 W\n[codecarbon INFO @ 20:07:10] 0.207558 kWh of electricity used since the beginning.\n[codecarbon INFO @ 20:07:17] Energy consumed for RAM : 0.018073 kWh. RAM Power : 10.2771635055542 W\n[codecarbon INFO @ 20:07:17] Energy consumed for all GPUs : 0.116432 kWh. Total GPU Power : 69.5959020824792 W\n[codecarbon INFO @ 20:07:17] Energy consumed for all CPUs : 0.074767 kWh. Total CPU Power : 42.5 W\n[codecarbon INFO @ 20:07:17] 0.209272 kWh of electricity used since the beginning.\n[codecarbon INFO @ 20:07:25] Energy consumed for RAM : 0.017893 kWh. RAM Power : 10.2771635055542 W\n[codecarbon INFO @ 20:07:25] Energy consumed for all GPUs : 0.116156 kWh. Total GPU Power : 69.55924639832335 W\n[codecarbon INFO @ 20:07:25] Energy consumed for all CPUs : 0.074019 kWh. Total CPU Power : 42.5 W\n[codecarbon INFO @ 20:07:25] 0.208068 kWh of electricity used since the beginning.\n[codecarbon INFO @ 20:07:32] Energy consumed for RAM : 0.018116 kWh. RAM Power : 10.2771635055542 W\n[codecarbon INFO @ 20:07:32] Energy consumed for all GPUs : 0.116721 kWh. Total GPU Power : 69.4993513485141 W\n[codecarbon INFO @ 20:07:32] Energy consumed for all CPUs : 0.074944 kWh. Total CPU Power : 42.5 W\n[codecarbon INFO @ 20:07:32] 0.209781 kWh of electricity used since the beginning.\n[codecarbon INFO @ 20:07:40] Energy consumed for RAM : 0.017936 kWh. RAM Power : 10.2771635055542 W\n[codecarbon INFO @ 20:07:40] Energy consumed for all GPUs : 0.116446 kWh. Total GPU Power : 69.61921463253915 W\n[codecarbon INFO @ 20:07:40] Energy consumed for all CPUs : 0.074196 kWh. Total CPU Power : 42.5 W\n[codecarbon INFO @ 20:07:40] 0.208578 kWh of electricity used since the beginning.\n[codecarbon INFO @ 20:07:47] Energy consumed for RAM : 0.018159 kWh. RAM Power : 10.2771635055542 W\n[codecarbon INFO @ 20:07:47] Energy consumed for all GPUs : 0.117012 kWh. Total GPU Power : 69.67741415572944 W\n[codecarbon INFO @ 20:07:47] Energy consumed for all CPUs : 0.075121 kWh. Total CPU Power : 42.5 W\n[codecarbon INFO @ 20:07:47] 0.210292 kWh of electricity used since the beginning.\n[codecarbon INFO @ 20:07:55] Energy consumed for RAM : 0.017978 kWh. RAM Power : 10.2771635055542 W\n[codecarbon INFO @ 20:07:55] Energy consumed for all GPUs : 0.116736 kWh. Total GPU Power : 69.66246099191149 W\n[codecarbon INFO @ 20:07:55] Energy consumed for all CPUs : 0.074373 kWh. Total CPU Power : 42.5 W\n[codecarbon INFO @ 20:07:55] 0.209087 kWh of electricity used since the beginning.\n[codecarbon INFO @ 20:08:02] Energy consumed for RAM : 0.018202 kWh. RAM Power : 10.2771635055542 W\n[codecarbon INFO @ 20:08:02] Energy consumed for all GPUs : 0.117302 kWh. Total GPU Power : 69.66884724426642 W\n[codecarbon INFO @ 20:08:02] Energy consumed for all CPUs : 0.075298 kWh. Total CPU Power : 42.5 W\n[codecarbon INFO @ 20:08:02] 0.210802 kWh of electricity used since the beginning.\n[codecarbon INFO @ 20:08:10] Energy consumed for RAM : 0.018021 kWh. RAM Power : 10.2771635055542 W\n[codecarbon INFO @ 20:08:10] Energy consumed for all GPUs : 0.117026 kWh. Total GPU Power : 69.58907744844664 W\n[codecarbon INFO @ 20:08:10] Energy consumed for all CPUs : 0.074550 kWh. Total CPU Power : 42.5 W\n[codecarbon INFO @ 20:08:10] 0.209597 kWh of electricity used since the beginning.\n[codecarbon INFO @ 20:08:17] Energy consumed for RAM : 0.018244 kWh. RAM Power : 10.2771635055542 W\n[codecarbon INFO @ 20:08:17] Energy consumed for all GPUs : 0.117592 kWh. Total GPU Power : 69.57634174004777 W\n[codecarbon INFO @ 20:08:17] Energy consumed for all CPUs : 0.075475 kWh. Total CPU Power : 42.5 W\n[codecarbon INFO @ 20:08:17] 0.211311 kWh of electricity used since the beginning.\n[codecarbon INFO @ 20:08:25] Energy consumed for RAM : 0.018064 kWh. RAM Power : 10.2771635055542 W\n[codecarbon INFO @ 20:08:25] Energy consumed for all GPUs : 0.117316 kWh. Total GPU Power : 69.61681457835932 W\n[codecarbon INFO @ 20:08:25] Energy consumed for all CPUs : 0.074727 kWh. Total CPU Power : 42.5 W\n[codecarbon INFO @ 20:08:25] 0.210107 kWh of electricity used since the beginning.\n[codecarbon INFO @ 20:08:32] Energy consumed for RAM : 0.018287 kWh. RAM Power : 10.2771635055542 W\n[codecarbon INFO @ 20:08:32] Energy consumed for all GPUs : 0.117882 kWh. Total GPU Power : 69.61213175360272 W\n[codecarbon INFO @ 20:08:32] Energy consumed for all CPUs : 0.075652 kWh. Total CPU Power : 42.5 W\n[codecarbon INFO @ 20:08:32] 0.211821 kWh of electricity used since the beginning.\n[codecarbon INFO @ 20:08:40] Energy consumed for RAM : 0.018107 kWh. RAM Power : 10.2771635055542 W\n[codecarbon INFO @ 20:08:40] Energy consumed for all GPUs : 0.117605 kWh. Total GPU Power : 69.59156010367481 W\n[codecarbon INFO @ 20:08:40] Energy consumed for all CPUs : 0.074905 kWh. Total CPU Power : 42.5 W\n[codecarbon INFO @ 20:08:40] 0.210617 kWh of electricity used since the beginning.\n[codecarbon INFO @ 20:08:47] Energy consumed for RAM : 0.018330 kWh. RAM Power : 10.2771635055542 W\n[codecarbon INFO @ 20:08:47] Energy consumed for all GPUs : 0.118172 kWh. Total GPU Power : 69.61093996709985 W\n[codecarbon INFO @ 20:08:47] Energy consumed for all CPUs : 0.075829 kWh. Total CPU Power : 42.5 W\n[codecarbon INFO @ 20:08:47] 0.212331 kWh of electricity used since the beginning.\n[codecarbon INFO @ 20:08:55] Energy consumed for RAM : 0.018150 kWh. RAM Power : 10.2771635055542 W\n[codecarbon INFO @ 20:08:55] Energy consumed for all GPUs : 0.117895 kWh. Total GPU Power : 69.54655324182652 W\n[codecarbon INFO @ 20:08:55] Energy consumed for all CPUs : 0.075082 kWh. Total CPU Power : 42.5 W\n[codecarbon INFO @ 20:08:55] 0.211126 kWh of electricity used since the beginning.\n[codecarbon INFO @ 20:09:02] Energy consumed for RAM : 0.018373 kWh. RAM Power : 10.2771635055542 W\n[codecarbon INFO @ 20:09:02] Energy consumed for all GPUs : 0.118461 kWh. Total GPU Power : 69.60015460155601 W\n[codecarbon INFO @ 20:09:02] Energy consumed for all CPUs : 0.076006 kWh. Total CPU Power : 42.5 W\n[codecarbon INFO @ 20:09:02] 0.212841 kWh of electricity used since the beginning.\n[codecarbon INFO @ 20:09:10] Energy consumed for RAM : 0.018193 kWh. RAM Power : 10.2771635055542 W\n[codecarbon INFO @ 20:09:10] Energy consumed for all GPUs : 0.118185 kWh. Total GPU Power : 69.63656734270117 W\n[codecarbon INFO @ 20:09:10] Energy consumed for all CPUs : 0.075259 kWh. Total CPU Power : 42.5 W\n[codecarbon INFO @ 20:09:10] 0.211636 kWh of electricity used since the beginning.\n[codecarbon INFO @ 20:09:17] Energy consumed for RAM : 0.018416 kWh. RAM Power : 10.2771635055542 W\n[codecarbon INFO @ 20:09:17] Energy consumed for all GPUs : 0.118752 kWh. Total GPU Power : 69.63342938303089 W\n[codecarbon INFO @ 20:09:17] Energy consumed for all CPUs : 0.076184 kWh. Total CPU Power : 42.5 W\n[codecarbon INFO @ 20:09:17] 0.213351 kWh of electricity used since the beginning.\n[codecarbon INFO @ 20:09:25] Energy consumed for RAM : 0.018235 kWh. RAM Power : 10.2771635055542 W\n[codecarbon INFO @ 20:09:25] Energy consumed for all GPUs : 0.118476 kWh. Total GPU Power : 69.72981183184808 W\n[codecarbon INFO @ 20:09:25] Energy consumed for all CPUs : 0.075436 kWh. Total CPU Power : 42.5 W\n[codecarbon INFO @ 20:09:25] 0.212147 kWh of electricity used since the beginning.\n[codecarbon INFO @ 20:09:32] Energy consumed for RAM : 0.018458 kWh. RAM Power : 10.2771635055542 W\n[codecarbon INFO @ 20:09:32] Energy consumed for all GPUs : 0.119041 kWh. Total GPU Power : 69.57551352949525 W\n[codecarbon INFO @ 20:09:32] Energy consumed for all CPUs : 0.076361 kWh. Total CPU Power : 42.5 W\n[codecarbon INFO @ 20:09:32] 0.213860 kWh of electricity used since the beginning.\n[codecarbon INFO @ 20:09:40] Energy consumed for RAM : 0.018278 kWh. RAM Power : 10.2771635055542 W\n[codecarbon INFO @ 20:09:40] Energy consumed for all GPUs : 0.118765 kWh. Total GPU Power : 69.5741490984125 W\n[codecarbon INFO @ 20:09:40] Energy consumed for all CPUs : 0.075613 kWh. Total CPU Power : 42.5 W\n[codecarbon INFO @ 20:09:40] 0.212656 kWh of electricity used since the beginning.\n[codecarbon INFO @ 20:09:47] Energy consumed for RAM : 0.018501 kWh. RAM Power : 10.2771635055542 W\n[codecarbon INFO @ 20:09:47] Energy consumed for all GPUs : 0.119331 kWh. Total GPU Power : 69.5830350340535 W\n[codecarbon INFO @ 20:09:47] Energy consumed for all CPUs : 0.076538 kWh. Total CPU Power : 42.5 W\n[codecarbon INFO @ 20:09:47] 0.214370 kWh of electricity used since the beginning.\n[codecarbon INFO @ 20:09:55] Energy consumed for RAM : 0.018321 kWh. RAM Power : 10.2771635055542 W\n[codecarbon INFO @ 20:09:55] Energy consumed for all GPUs : 0.119055 kWh. Total GPU Power : 69.50967670630911 W\n[codecarbon INFO @ 20:09:55] Energy consumed for all CPUs : 0.075790 kWh. Total CPU Power : 42.5 W\n[codecarbon INFO @ 20:09:55] 0.213166 kWh of electricity used since the beginning.\n[codecarbon INFO @ 20:10:02] Energy consumed for RAM : 0.018544 kWh. RAM Power : 10.2771635055542 W\n[codecarbon INFO @ 20:10:02] Energy consumed for all GPUs : 0.119621 kWh. Total GPU Power : 69.5858738215421 W\n[codecarbon INFO @ 20:10:02] Energy consumed for all CPUs : 0.076715 kWh. Total CPU Power : 42.5 W\n[codecarbon INFO @ 20:10:02] 0.214880 kWh of electricity used since the beginning.\n[codecarbon INFO @ 20:10:10] Energy consumed for RAM : 0.018364 kWh. RAM Power : 10.2771635055542 W\n[codecarbon INFO @ 20:10:10] Energy consumed for all GPUs : 0.119343 kWh. Total GPU Power : 69.25654714283522 W\n[codecarbon INFO @ 20:10:10] Energy consumed for all CPUs : 0.075967 kWh. Total CPU Power : 42.5 W\n[codecarbon INFO @ 20:10:10] 0.213674 kWh of electricity used since the beginning.\n[codecarbon INFO @ 20:10:17] Energy consumed for RAM : 0.018587 kWh. RAM Power : 10.2771635055542 W\n[codecarbon INFO @ 20:10:17] Energy consumed for all GPUs : 0.119910 kWh. Total GPU Power : 69.2652692337293 W\n[codecarbon INFO @ 20:10:17] Energy consumed for all CPUs : 0.076892 kWh. Total CPU Power : 42.5 W\n[codecarbon INFO @ 20:10:17] 0.215388 kWh of electricity used since the beginning.\n[codecarbon INFO @ 20:10:25] Energy consumed for RAM : 0.018407 kWh. RAM Power : 10.2771635055542 W\n[codecarbon INFO @ 20:10:25] Energy consumed for all GPUs : 0.119633 kWh. Total GPU Power : 69.611969533908 W\n[codecarbon INFO @ 20:10:25] Energy consumed for all CPUs : 0.076144 kWh. Total CPU Power : 42.5 W\n[codecarbon INFO @ 20:10:25] 0.214184 kWh of electricity used since the beginning.\n[codecarbon INFO @ 20:10:32] Energy consumed for RAM : 0.018630 kWh. RAM Power : 10.2771635055542 W\n[codecarbon INFO @ 20:10:32] Energy consumed for all GPUs : 0.120199 kWh. Total GPU Power : 69.57042679331659 W\n[codecarbon INFO @ 20:10:32] Energy consumed for all CPUs : 0.077069 kWh. Total CPU Power : 42.5 W\n[codecarbon INFO @ 20:10:32] 0.215898 kWh of electricity used since the beginning.\n[codecarbon INFO @ 20:10:40] Energy consumed for RAM : 0.018449 kWh. RAM Power : 10.2771635055542 W\n[codecarbon INFO @ 20:10:40] Energy consumed for all GPUs : 0.119923 kWh. Total GPU Power : 69.58399984656035 W\n[codecarbon INFO @ 20:10:40] Energy consumed for all CPUs : 0.076321 kWh. Total CPU Power : 42.5 W\n[codecarbon INFO @ 20:10:40] 0.214694 kWh of electricity used since the beginning.\n[codecarbon INFO @ 20:10:47] Energy consumed for RAM : 0.018673 kWh. RAM Power : 10.2771635055542 W\n[codecarbon INFO @ 20:10:47] Energy consumed for all GPUs : 0.120489 kWh. Total GPU Power : 69.62227372479686 W\n[codecarbon INFO @ 20:10:47] Energy consumed for all CPUs : 0.077246 kWh. Total CPU Power : 42.5 W\n[codecarbon INFO @ 20:10:47] 0.216408 kWh of electricity used since the beginning.\n[codecarbon INFO @ 20:10:55] Energy consumed for RAM : 0.018492 kWh. RAM Power : 10.2771635055542 W\n[codecarbon INFO @ 20:10:55] Energy consumed for all GPUs : 0.120213 kWh. Total GPU Power : 69.60221022036497 W\n[codecarbon INFO @ 20:10:55] Energy consumed for all CPUs : 0.076498 kWh. Total CPU Power : 42.5 W\n[codecarbon INFO @ 20:10:55] 0.215204 kWh of electricity used since the beginning.\n[codecarbon INFO @ 20:11:02] Energy consumed for RAM : 0.018715 kWh. RAM Power : 10.2771635055542 W\n[codecarbon INFO @ 20:11:02] Energy consumed for all GPUs : 0.120779 kWh. Total GPU Power : 69.61342851343169 W\n[codecarbon INFO @ 20:11:02] Energy consumed for all CPUs : 0.077423 kWh. Total CPU Power : 42.5 W\n[codecarbon INFO @ 20:11:02] 0.216918 kWh of electricity used since the beginning.\n[codecarbon INFO @ 20:11:10] Energy consumed for RAM : 0.018535 kWh. RAM Power : 10.2771635055542 W\n[codecarbon INFO @ 20:11:10] Energy consumed for all GPUs : 0.120503 kWh. Total GPU Power : 69.57735010225402 W\n[codecarbon INFO @ 20:11:10] Energy consumed for all CPUs : 0.076675 kWh. Total CPU Power : 42.5 W\n[codecarbon INFO @ 20:11:10] 0.215713 kWh of electricity used since the beginning.\n[codecarbon INFO @ 20:11:17] Energy consumed for RAM : 0.018758 kWh. RAM Power : 10.2771635055542 W\n[codecarbon INFO @ 20:11:17] Energy consumed for all GPUs : 0.121069 kWh. Total GPU Power : 69.58006961512487 W\n[codecarbon INFO @ 20:11:17] Energy consumed for all CPUs : 0.077600 kWh. Total CPU Power : 42.5 W\n[codecarbon INFO @ 20:11:17] 0.217428 kWh of electricity used since the beginning.\n[codecarbon INFO @ 20:11:25] Energy consumed for RAM : 0.018578 kWh. RAM Power : 10.2771635055542 W\n[codecarbon INFO @ 20:11:25] Energy consumed for all GPUs : 0.120793 kWh. Total GPU Power : 69.69037805559866 W\n[codecarbon INFO @ 20:11:25] Energy consumed for all CPUs : 0.076852 kWh. Total CPU Power : 42.5 W\n[codecarbon INFO @ 20:11:25] 0.216223 kWh of electricity used since the beginning.\n[codecarbon INFO @ 20:11:32] Energy consumed for RAM : 0.018801 kWh. RAM Power : 10.2771635055542 W\n[codecarbon INFO @ 20:11:32] Energy consumed for all GPUs : 0.121359 kWh. Total GPU Power : 69.67240446358474 W\n[codecarbon INFO @ 20:11:32] Energy consumed for all CPUs : 0.077777 kWh. Total CPU Power : 42.5 W\n[codecarbon INFO @ 20:11:32] 0.217938 kWh of electricity used since the beginning.\n[codecarbon INFO @ 20:11:40] Energy consumed for RAM : 0.018621 kWh. RAM Power : 10.2771635055542 W\n[codecarbon INFO @ 20:11:40] Energy consumed for all GPUs : 0.121084 kWh. Total GPU Power : 69.75744037388935 W\n[codecarbon INFO @ 20:11:40] Energy consumed for all CPUs : 0.077029 kWh. Total CPU Power : 42.5 W\n[codecarbon INFO @ 20:11:40] 0.216733 kWh of electricity used since the beginning.\n[codecarbon INFO @ 20:11:47] Energy consumed for RAM : 0.018844 kWh. RAM Power : 10.2771635055542 W\n[codecarbon INFO @ 20:11:47] Energy consumed for all GPUs : 0.121649 kWh. Total GPU Power : 69.62400744494049 W\n[codecarbon INFO @ 20:11:47] Energy consumed for all CPUs : 0.077954 kWh. Total CPU Power : 42.5 W\n[codecarbon INFO @ 20:11:47] 0.218448 kWh of electricity used since the beginning.\n[codecarbon INFO @ 20:11:55] Energy consumed for RAM : 0.018663 kWh. RAM Power : 10.2771635055542 W\n[codecarbon INFO @ 20:11:55] Energy consumed for all GPUs : 0.121373 kWh. Total GPU Power : 69.57149027191365 W\n[codecarbon INFO @ 20:11:55] Energy consumed for all CPUs : 0.077206 kWh. Total CPU Power : 42.5 W\n[codecarbon INFO @ 20:11:55] 0.217243 kWh of electricity used since the beginning.\n[codecarbon INFO @ 20:12:02] Energy consumed for RAM : 0.018887 kWh. RAM Power : 10.2771635055542 W\n[codecarbon INFO @ 20:12:02] Energy consumed for all GPUs : 0.121939 kWh. Total GPU Power : 69.6134646559292 W\n[codecarbon INFO @ 20:12:02] Energy consumed for all CPUs : 0.078131 kWh. Total CPU Power : 42.5 W\n[codecarbon INFO @ 20:12:02] 0.218957 kWh of electricity used since the beginning.\n[codecarbon INFO @ 20:12:10] Energy consumed for RAM : 0.018706 kWh. RAM Power : 10.2771635055542 W\n[codecarbon INFO @ 20:12:10] Energy consumed for all GPUs : 0.121663 kWh. Total GPU Power : 69.64760704266588 W\n[codecarbon INFO @ 20:12:10] Energy consumed for all CPUs : 0.077384 kWh. Total CPU Power : 42.5 W\n[codecarbon INFO @ 20:12:10] 0.217753 kWh of electricity used since the beginning.\n[codecarbon INFO @ 20:12:17] Energy consumed for RAM : 0.018929 kWh. RAM Power : 10.2771635055542 W\n[codecarbon INFO @ 20:12:17] Energy consumed for all GPUs : 0.122230 kWh. Total GPU Power : 69.63716033219995 W\n[codecarbon INFO @ 20:12:17] Energy consumed for all CPUs : 0.078308 kWh. Total CPU Power : 42.5 W\n[codecarbon INFO @ 20:12:17] 0.219467 kWh of electricity used since the beginning.\n[codecarbon INFO @ 20:12:25] Energy consumed for RAM : 0.018749 kWh. RAM Power : 10.2771635055542 W\n[codecarbon INFO @ 20:12:25] Energy consumed for all GPUs : 0.121954 kWh. Total GPU Power : 69.66892335971193 W\n[codecarbon INFO @ 20:12:25] Energy consumed for all CPUs : 0.077561 kWh. Total CPU Power : 42.5 W\n[codecarbon INFO @ 20:12:25] 0.218263 kWh of electricity used since the beginning.\n[codecarbon INFO @ 20:12:32] Energy consumed for RAM : 0.018972 kWh. RAM Power : 10.2771635055542 W\n[codecarbon INFO @ 20:12:32] Energy consumed for all GPUs : 0.122518 kWh. Total GPU Power : 69.1444457727616 W\n[codecarbon INFO @ 20:12:32] Energy consumed for all CPUs : 0.078486 kWh. Total CPU Power : 42.5 W\n[codecarbon INFO @ 20:12:32] 0.219975 kWh of electricity used since the beginning.\n[codecarbon INFO @ 20:12:40] Energy consumed for RAM : 0.018792 kWh. RAM Power : 10.2771635055542 W\n[codecarbon INFO @ 20:12:40] Energy consumed for all GPUs : 0.122244 kWh. Total GPU Power : 69.60452062649897 W\n[codecarbon INFO @ 20:12:40] Energy consumed for all CPUs : 0.077738 kWh. Total CPU Power : 42.5 W\n[codecarbon INFO @ 20:12:40] 0.218773 kWh of electricity used since the beginning.\n[codecarbon INFO @ 20:12:47] Energy consumed for RAM : 0.019015 kWh. RAM Power : 10.2771635055542 W\n[codecarbon INFO @ 20:12:47] Energy consumed for all GPUs : 0.122808 kWh. Total GPU Power : 69.65883494708261 W\n[codecarbon INFO @ 20:12:47] Energy consumed for all CPUs : 0.078663 kWh. Total CPU Power : 42.5 W\n[codecarbon INFO @ 20:12:47] 0.220485 kWh of electricity used since the beginning.\n[codecarbon INFO @ 20:12:55] Energy consumed for RAM : 0.018835 kWh. RAM Power : 10.2771635055542 W\n[codecarbon INFO @ 20:12:55] Energy consumed for all GPUs : 0.122534 kWh. Total GPU Power : 69.6628709347053 W\n[codecarbon INFO @ 20:12:55] Energy consumed for all CPUs : 0.077915 kWh. Total CPU Power : 42.5 W\n[codecarbon INFO @ 20:12:55] 0.219283 kWh of electricity used since the beginning.\n[codecarbon INFO @ 20:13:02] Energy consumed for RAM : 0.019058 kWh. RAM Power : 10.2771635055542 W\n[codecarbon INFO @ 20:13:02] Energy consumed for all GPUs : 0.123097 kWh. Total GPU Power : 69.59256282000845 W\n[codecarbon INFO @ 20:13:02] Energy consumed for all CPUs : 0.078840 kWh. Total CPU Power : 42.5 W\n[codecarbon INFO @ 20:13:02] 0.220995 kWh of electricity used since the beginning.\n[codecarbon INFO @ 20:13:10] Energy consumed for RAM : 0.018877 kWh. RAM Power : 10.2771635055542 W\n[codecarbon INFO @ 20:13:10] Energy consumed for all GPUs : 0.122824 kWh. Total GPU Power : 69.59470618231572 W\n[codecarbon INFO @ 20:13:10] Energy consumed for all CPUs : 0.078092 kWh. Total CPU Power : 42.5 W\n[codecarbon INFO @ 20:13:10] 0.219793 kWh of electricity used since the beginning.\n[codecarbon INFO @ 20:13:17] Energy consumed for RAM : 0.019101 kWh. RAM Power : 10.2771635055542 W\n[codecarbon INFO @ 20:13:17] Energy consumed for all GPUs : 0.123387 kWh. Total GPU Power : 69.63397515849523 W\n[codecarbon INFO @ 20:13:17] Energy consumed for all CPUs : 0.079017 kWh. Total CPU Power : 42.5 W\n[codecarbon INFO @ 20:13:17] 0.221505 kWh of electricity used since the beginning.\n[codecarbon INFO @ 20:13:25] Energy consumed for RAM : 0.018920 kWh. RAM Power : 10.2771635055542 W\n[codecarbon INFO @ 20:13:25] Energy consumed for all GPUs : 0.123113 kWh. Total GPU Power : 69.55791181076405 W\n[codecarbon INFO @ 20:13:25] Energy consumed for all CPUs : 0.078269 kWh. Total CPU Power : 42.5 W\n[codecarbon INFO @ 20:13:25] 0.220302 kWh of electricity used since the beginning.\n[codecarbon INFO @ 20:13:32] Energy consumed for RAM : 0.019143 kWh. RAM Power : 10.2771635055542 W\n[codecarbon INFO @ 20:13:32] Energy consumed for all GPUs : 0.123677 kWh. Total GPU Power : 69.55330892644695 W\n[codecarbon INFO @ 20:13:32] Energy consumed for all CPUs : 0.079194 kWh. Total CPU Power : 42.5 W\n[codecarbon INFO @ 20:13:32] 0.222014 kWh of electricity used since the beginning.\n[codecarbon INFO @ 20:13:40] Energy consumed for RAM : 0.018963 kWh. RAM Power : 10.2771635055542 W\n[codecarbon INFO @ 20:13:40] Energy consumed for all GPUs : 0.123403 kWh. Total GPU Power : 69.58787899425397 W\n[codecarbon INFO @ 20:13:40] Energy consumed for all CPUs : 0.078446 kWh. Total CPU Power : 42.5 W\n[codecarbon INFO @ 20:13:40] 0.220812 kWh of electricity used since the beginning.\n[codecarbon INFO @ 20:13:47] Energy consumed for RAM : 0.019186 kWh. RAM Power : 10.2771635055542 W\n[codecarbon INFO @ 20:13:47] Energy consumed for all GPUs : 0.123967 kWh. Total GPU Power : 69.67188737744723 W\n[codecarbon INFO @ 20:13:47] Energy consumed for all CPUs : 0.079371 kWh. Total CPU Power : 42.5 W\n[codecarbon INFO @ 20:13:47] 0.222524 kWh of electricity used since the beginning.\n[codecarbon INFO @ 20:13:55] Energy consumed for RAM : 0.019006 kWh. RAM Power : 10.2771635055542 W\n[codecarbon INFO @ 20:13:55] Energy consumed for all GPUs : 0.123693 kWh. Total GPU Power : 69.68276685923621 W\n[codecarbon INFO @ 20:13:55] Energy consumed for all CPUs : 0.078623 kWh. Total CPU Power : 42.5 W\n[codecarbon INFO @ 20:13:55] 0.221322 kWh of electricity used since the beginning.\n[codecarbon INFO @ 20:14:02] Energy consumed for RAM : 0.019229 kWh. RAM Power : 10.2771635055542 W\n[codecarbon INFO @ 20:14:02] Energy consumed for all GPUs : 0.124257 kWh. Total GPU Power : 69.64234108657118 W\n[codecarbon INFO @ 20:14:02] Energy consumed for all CPUs : 0.079548 kWh. Total CPU Power : 42.5 W\n[codecarbon INFO @ 20:14:02] 0.223034 kWh of electricity used since the beginning.\n[codecarbon INFO @ 20:14:10] Energy consumed for RAM : 0.019049 kWh. RAM Power : 10.2771635055542 W\n[codecarbon INFO @ 20:14:10] Energy consumed for all GPUs : 0.123983 kWh. Total GPU Power : 69.59737200937289 W\n[codecarbon INFO @ 20:14:10] Energy consumed for all CPUs : 0.078800 kWh. Total CPU Power : 42.5 W\n[codecarbon INFO @ 20:14:10] 0.221832 kWh of electricity used since the beginning.\n[codecarbon INFO @ 20:14:17] Energy consumed for RAM : 0.019272 kWh. RAM Power : 10.2771635055542 W\n[codecarbon INFO @ 20:14:17] Energy consumed for all GPUs : 0.124547 kWh. Total GPU Power : 69.55591790955742 W\n[codecarbon INFO @ 20:14:17] Energy consumed for all CPUs : 0.079725 kWh. Total CPU Power : 42.5 W\n[codecarbon INFO @ 20:14:17] 0.223544 kWh of electricity used since the beginning.\n[codecarbon INFO @ 20:14:25] Energy consumed for RAM : 0.019091 kWh. RAM Power : 10.2771635055542 W\n[codecarbon INFO @ 20:14:25] Energy consumed for all GPUs : 0.124273 kWh. Total GPU Power : 69.55502672459941 W\n[codecarbon INFO @ 20:14:25] Energy consumed for all CPUs : 0.078977 kWh. Total CPU Power : 42.5 W\n[codecarbon INFO @ 20:14:25] 0.222342 kWh of electricity used since the beginning.\n[codecarbon INFO @ 20:14:32] Energy consumed for RAM : 0.019315 kWh. RAM Power : 10.2771635055542 W\n[codecarbon INFO @ 20:14:32] Energy consumed for all GPUs : 0.124837 kWh. Total GPU Power : 69.62568320695038 W\n[codecarbon INFO @ 20:14:32] Energy consumed for all CPUs : 0.079902 kWh. Total CPU Power : 42.5 W\n[codecarbon INFO @ 20:14:32] 0.224054 kWh of electricity used since the beginning.\n[codecarbon INFO @ 20:14:40] Energy consumed for RAM : 0.019134 kWh. RAM Power : 10.2771635055542 W\n[codecarbon INFO @ 20:14:40] Energy consumed for all GPUs : 0.124563 kWh. Total GPU Power : 69.62864596809594 W\n[codecarbon INFO @ 20:14:40] Energy consumed for all CPUs : 0.079154 kWh. Total CPU Power : 42.5 W\n[codecarbon INFO @ 20:14:40] 0.222851 kWh of electricity used since the beginning.\n[codecarbon INFO @ 20:14:47] Energy consumed for RAM : 0.019357 kWh. RAM Power : 10.2771635055542 W\n[codecarbon INFO @ 20:14:47] Energy consumed for all GPUs : 0.125127 kWh. Total GPU Power : 69.63895436394505 W\n[codecarbon INFO @ 20:14:47] Energy consumed for all CPUs : 0.080079 kWh. Total CPU Power : 42.5 W\n[codecarbon INFO @ 20:14:47] 0.224564 kWh of electricity used since the beginning.\n[codecarbon INFO @ 20:14:55] Energy consumed for RAM : 0.019177 kWh. RAM Power : 10.2771635055542 W\n[codecarbon INFO @ 20:14:55] Energy consumed for all GPUs : 0.124851 kWh. Total GPU Power : 69.14574890071732 W\n[codecarbon INFO @ 20:14:55] Energy consumed for all CPUs : 0.079331 kWh. Total CPU Power : 42.5 W\n[codecarbon INFO @ 20:14:55] 0.223359 kWh of electricity used since the beginning.\n[codecarbon INFO @ 20:15:02] Energy consumed for RAM : 0.019400 kWh. RAM Power : 10.2771635055542 W\n[codecarbon INFO @ 20:15:02] Energy consumed for all GPUs : 0.125417 kWh. Total GPU Power : 69.59753224544481 W\n[codecarbon INFO @ 20:15:02] Energy consumed for all CPUs : 0.080256 kWh. Total CPU Power : 42.5 W\n[codecarbon INFO @ 20:15:02] 0.225073 kWh of electricity used since the beginning.\n[codecarbon INFO @ 20:15:10] Energy consumed for RAM : 0.019220 kWh. RAM Power : 10.2771635055542 W\n[codecarbon INFO @ 20:15:10] Energy consumed for all GPUs : 0.125141 kWh. Total GPU Power : 69.55822178602203 W\n[codecarbon INFO @ 20:15:10] Energy consumed for all CPUs : 0.079508 kWh. Total CPU Power : 42.5 W\n[codecarbon INFO @ 20:15:10] 0.223869 kWh of electricity used since the beginning.\n[codecarbon INFO @ 20:15:17] Energy consumed for RAM : 0.019443 kWh. RAM Power : 10.2771635055542 W\n[codecarbon INFO @ 20:15:17] Energy consumed for all GPUs : 0.125707 kWh. Total GPU Power : 69.62444930041325 W\n[codecarbon INFO @ 20:15:17] Energy consumed for all CPUs : 0.080433 kWh. Total CPU Power : 42.5 W\n[codecarbon INFO @ 20:15:17] 0.225583 kWh of electricity used since the beginning.\n[codecarbon INFO @ 20:15:25] Energy consumed for RAM : 0.019263 kWh. RAM Power : 10.2771635055542 W\n[codecarbon INFO @ 20:15:25] Energy consumed for all GPUs : 0.125431 kWh. Total GPU Power : 69.59632726160244 W\n[codecarbon INFO @ 20:15:25] Energy consumed for all CPUs : 0.079685 kWh. Total CPU Power : 42.5 W\n[codecarbon INFO @ 20:15:25] 0.224379 kWh of electricity used since the beginning.\n[codecarbon INFO @ 20:15:32] Energy consumed for RAM : 0.019486 kWh. RAM Power : 10.2771635055542 W\n[codecarbon INFO @ 20:15:32] Energy consumed for all GPUs : 0.125997 kWh. Total GPU Power : 69.6533299818151 W\n[codecarbon INFO @ 20:15:32] Energy consumed for all CPUs : 0.080610 kWh. Total CPU Power : 42.5 W\n[codecarbon INFO @ 20:15:32] 0.226093 kWh of electricity used since the beginning.\n[codecarbon INFO @ 20:15:40] Energy consumed for RAM : 0.019305 kWh. RAM Power : 10.2771635055542 W\n[codecarbon INFO @ 20:15:40] Energy consumed for all GPUs : 0.125723 kWh. Total GPU Power : 70.04078805428074 W\n[codecarbon INFO @ 20:15:40] Energy consumed for all CPUs : 0.079863 kWh. Total CPU Power : 42.5 W\n[codecarbon INFO @ 20:15:40] 0.224891 kWh of electricity used since the beginning.\n[codecarbon INFO @ 20:15:47] Energy consumed for RAM : 0.019529 kWh. RAM Power : 10.2771635055542 W\n[codecarbon INFO @ 20:15:47] Energy consumed for all GPUs : 0.126287 kWh. Total GPU Power : 69.54846286633408 W\n[codecarbon INFO @ 20:15:47] Energy consumed for all CPUs : 0.080788 kWh. Total CPU Power : 42.5 W\n[codecarbon INFO @ 20:15:47] 0.226603 kWh of electricity used since the beginning.\n[codecarbon INFO @ 20:15:55] Energy consumed for RAM : 0.019348 kWh. RAM Power : 10.2771635055542 W\n[codecarbon INFO @ 20:15:55] Energy consumed for all GPUs : 0.126011 kWh. Total GPU Power : 69.13552423585445 W\n[codecarbon INFO @ 20:15:55] Energy consumed for all CPUs : 0.080040 kWh. Total CPU Power : 42.5 W\n[codecarbon INFO @ 20:15:55] 0.225398 kWh of electricity used since the beginning.\n[codecarbon INFO @ 20:16:02] Energy consumed for RAM : 0.019571 kWh. RAM Power : 10.2771635055542 W\n[codecarbon INFO @ 20:16:02] Energy consumed for all GPUs : 0.126577 kWh. Total GPU Power : 69.63951318148791 W\n[codecarbon INFO @ 20:16:02] Energy consumed for all CPUs : 0.080965 kWh. Total CPU Power : 42.5 W\n[codecarbon INFO @ 20:16:02] 0.227113 kWh of electricity used since the beginning.\n[codecarbon INFO @ 20:16:10] Energy consumed for RAM : 0.019391 kWh. RAM Power : 10.2771635055542 W\n[codecarbon INFO @ 20:16:10] Energy consumed for all GPUs : 0.126301 kWh. Total GPU Power : 69.7028972423242 W\n[codecarbon INFO @ 20:16:10] Energy consumed for all CPUs : 0.080217 kWh. Total CPU Power : 42.5 W\n[codecarbon INFO @ 20:16:10] 0.225909 kWh of electricity used since the beginning.\n[codecarbon INFO @ 20:16:17] Energy consumed for RAM : 0.019614 kWh. RAM Power : 10.2771635055542 W\n[codecarbon INFO @ 20:16:17] Energy consumed for all GPUs : 0.126867 kWh. Total GPU Power : 69.61830208225028 W\n[codecarbon INFO @ 20:16:17] Energy consumed for all CPUs : 0.081142 kWh. Total CPU Power : 42.5 W\n[codecarbon INFO @ 20:16:17] 0.227623 kWh of electricity used since the beginning.\n[codecarbon INFO @ 20:16:25] Energy consumed for RAM : 0.019434 kWh. RAM Power : 10.2771635055542 W\n[codecarbon INFO @ 20:16:25] Energy consumed for all GPUs : 0.126592 kWh. Total GPU Power : 69.94462794189712 W\n[codecarbon INFO @ 20:16:25] Energy consumed for all CPUs : 0.080394 kWh. Total CPU Power : 42.5 W\n[codecarbon INFO @ 20:16:25] 0.226420 kWh of electricity used since the beginning.\n[codecarbon INFO @ 20:16:32] Energy consumed for RAM : 0.019657 kWh. RAM Power : 10.2771635055542 W\n[codecarbon INFO @ 20:16:32] Energy consumed for all GPUs : 0.127157 kWh. Total GPU Power : 69.5961789730753 W\n[codecarbon INFO @ 20:16:32] Energy consumed for all CPUs : 0.081319 kWh. Total CPU Power : 42.5 W\n[codecarbon INFO @ 20:16:32] 0.228132 kWh of electricity used since the beginning.\n[codecarbon INFO @ 20:16:40] Energy consumed for RAM : 0.019477 kWh. RAM Power : 10.2771635055542 W\n[codecarbon INFO @ 20:16:40] Energy consumed for all GPUs : 0.126883 kWh. Total GPU Power : 69.67305183206675 W\n[codecarbon INFO @ 20:16:40] Energy consumed for all CPUs : 0.080571 kWh. Total CPU Power : 42.5 W\n[codecarbon INFO @ 20:16:40] 0.226930 kWh of electricity used since the beginning.\n[codecarbon INFO @ 20:16:47] Energy consumed for RAM : 0.019700 kWh. RAM Power : 10.2771635055542 W\n[codecarbon INFO @ 20:16:47] Energy consumed for all GPUs : 0.127447 kWh. Total GPU Power : 69.6632039481612 W\n[codecarbon INFO @ 20:16:47] Energy consumed for all CPUs : 0.081496 kWh. Total CPU Power : 42.5 W\n[codecarbon INFO @ 20:16:47] 0.228642 kWh of electricity used since the beginning.\n[codecarbon INFO @ 20:16:55] Energy consumed for RAM : 0.019519 kWh. RAM Power : 10.2771635055542 W\n[codecarbon INFO @ 20:16:55] Energy consumed for all GPUs : 0.127172 kWh. Total GPU Power : 69.59022801808466 W\n[codecarbon INFO @ 20:16:55] Energy consumed for all CPUs : 0.080748 kWh. Total CPU Power : 42.5 W\n[codecarbon INFO @ 20:16:55] 0.227440 kWh of electricity used since the beginning.\n[codecarbon INFO @ 20:17:02] Energy consumed for RAM : 0.019743 kWh. RAM Power : 10.2771635055542 W\n[codecarbon INFO @ 20:17:02] Energy consumed for all GPUs : 0.127737 kWh. Total GPU Power : 69.57006902890754 W\n[codecarbon INFO @ 20:17:02] Energy consumed for all CPUs : 0.081673 kWh. Total CPU Power : 42.5 W\n[codecarbon INFO @ 20:17:02] 0.229152 kWh of electricity used since the beginning.\n[codecarbon INFO @ 20:17:10] Energy consumed for RAM : 0.019562 kWh. RAM Power : 10.2771635055542 W\n[codecarbon INFO @ 20:17:10] Energy consumed for all GPUs : 0.127462 kWh. Total GPU Power : 69.57508414801177 W\n[codecarbon INFO @ 20:17:10] Energy consumed for all CPUs : 0.080925 kWh. Total CPU Power : 42.5 W\n[codecarbon INFO @ 20:17:10] 0.227950 kWh of electricity used since the beginning.\n[codecarbon INFO @ 20:17:17] Energy consumed for RAM : 0.019785 kWh. RAM Power : 10.2771635055542 W\n[codecarbon INFO @ 20:17:17] Energy consumed for all GPUs : 0.128026 kWh. Total GPU Power : 69.57390006369239 W\n[codecarbon INFO @ 20:17:17] Energy consumed for all CPUs : 0.081850 kWh. Total CPU Power : 42.5 W\n[codecarbon INFO @ 20:17:17] 0.229662 kWh of electricity used since the beginning.\n[codecarbon INFO @ 20:17:25] Energy consumed for RAM : 0.019605 kWh. RAM Power : 10.2771635055542 W\n[codecarbon INFO @ 20:17:25] Energy consumed for all GPUs : 0.127752 kWh. Total GPU Power : 69.63152064499968 W\n[codecarbon INFO @ 20:17:25] Energy consumed for all CPUs : 0.081102 kWh. Total CPU Power : 42.5 W\n[codecarbon INFO @ 20:17:25] 0.228460 kWh of electricity used since the beginning.\n[codecarbon INFO @ 20:17:32] Energy consumed for RAM : 0.019828 kWh. RAM Power : 10.2771635055542 W\n[codecarbon INFO @ 20:17:32] Energy consumed for all GPUs : 0.128316 kWh. Total GPU Power : 69.56801011442012 W\n[codecarbon INFO @ 20:17:32] Energy consumed for all CPUs : 0.082027 kWh. Total CPU Power : 42.5 W\n[codecarbon INFO @ 20:17:32] 0.230171 kWh of electricity used since the beginning.\n[codecarbon INFO @ 20:17:40] Energy consumed for RAM : 0.019648 kWh. RAM Power : 10.2771635055542 W\n[codecarbon INFO @ 20:17:40] Energy consumed for all GPUs : 0.128042 kWh. Total GPU Power : 69.6602913732169 W\n[codecarbon INFO @ 20:17:40] Energy consumed for all CPUs : 0.081279 kWh. Total CPU Power : 42.5 W\n[codecarbon INFO @ 20:17:40] 0.228970 kWh of electricity used since the beginning.\n[codecarbon INFO @ 20:17:47] Energy consumed for RAM : 0.019871 kWh. RAM Power : 10.2771635055542 W\n[codecarbon INFO @ 20:17:47] Energy consumed for all GPUs : 0.128606 kWh. Total GPU Power : 69.69139538448817 W\n[codecarbon INFO @ 20:17:47] Energy consumed for all CPUs : 0.082204 kWh. Total CPU Power : 42.5 W\n[codecarbon INFO @ 20:17:47] 0.230682 kWh of electricity used since the beginning.\n[codecarbon INFO @ 20:17:55] Energy consumed for RAM : 0.019691 kWh. RAM Power : 10.2771635055542 W\n[codecarbon INFO @ 20:17:55] Energy consumed for all GPUs : 0.128332 kWh. Total GPU Power : 69.54267291342744 W\n[codecarbon INFO @ 20:17:55] Energy consumed for all CPUs : 0.081456 kWh. Total CPU Power : 42.5 W\n[codecarbon INFO @ 20:17:55] 0.229479 kWh of electricity used since the beginning.\n[codecarbon INFO @ 20:18:02] Energy consumed for RAM : 0.019914 kWh. RAM Power : 10.2771635055542 W\n[codecarbon INFO @ 20:18:02] Energy consumed for all GPUs : 0.128896 kWh. Total GPU Power : 69.58976653095294 W\n[codecarbon INFO @ 20:18:02] Energy consumed for all CPUs : 0.082381 kWh. Total CPU Power : 42.5 W\n[codecarbon INFO @ 20:18:02] 0.231191 kWh of electricity used since the beginning.\n[codecarbon INFO @ 20:18:10] Energy consumed for RAM : 0.019733 kWh. RAM Power : 10.2771635055542 W\n[codecarbon INFO @ 20:18:10] Energy consumed for all GPUs : 0.128622 kWh. Total GPU Power : 69.55777050389096 W\n[codecarbon INFO @ 20:18:10] Energy consumed for all CPUs : 0.081633 kWh. Total CPU Power : 42.5 W\n[codecarbon INFO @ 20:18:10] 0.229989 kWh of electricity used since the beginning.\n[codecarbon INFO @ 20:18:17] Energy consumed for RAM : 0.019957 kWh. RAM Power : 10.2771635055542 W\n[codecarbon INFO @ 20:18:17] Energy consumed for all GPUs : 0.129186 kWh. Total GPU Power : 69.58083372766819 W\n[codecarbon INFO @ 20:18:17] Energy consumed for all CPUs : 0.082558 kWh. Total CPU Power : 42.5 W\n[codecarbon INFO @ 20:18:17] 0.231701 kWh of electricity used since the beginning.\n[codecarbon INFO @ 20:18:25] Energy consumed for RAM : 0.019776 kWh. RAM Power : 10.2771635055542 W\n[codecarbon INFO @ 20:18:25] Energy consumed for all GPUs : 0.128910 kWh. Total GPU Power : 69.234640866568 W\n[codecarbon INFO @ 20:18:25] Energy consumed for all CPUs : 0.081811 kWh. Total CPU Power : 42.5 W\n[codecarbon INFO @ 20:18:25] 0.230497 kWh of electricity used since the beginning.\n[codecarbon INFO @ 20:18:32] Energy consumed for RAM : 0.019999 kWh. RAM Power : 10.2771635055542 W\n[codecarbon INFO @ 20:18:32] Energy consumed for all GPUs : 0.129476 kWh. Total GPU Power : 69.61520205587581 W\n[codecarbon INFO @ 20:18:32] Energy consumed for all CPUs : 0.082735 kWh. Total CPU Power : 42.5 W\n[codecarbon INFO @ 20:18:32] 0.232211 kWh of electricity used since the beginning.\n[codecarbon INFO @ 20:18:40] Energy consumed for RAM : 0.019819 kWh. RAM Power : 10.2771635055542 W\n[codecarbon INFO @ 20:18:40] Energy consumed for all GPUs : 0.129202 kWh. Total GPU Power : 70.03087859393267 W\n[codecarbon INFO @ 20:18:40] Energy consumed for all CPUs : 0.081988 kWh. Total CPU Power : 42.5 W\n[codecarbon INFO @ 20:18:40] 0.231009 kWh of electricity used since the beginning.\n[codecarbon INFO @ 20:18:47] Energy consumed for RAM : 0.020042 kWh. RAM Power : 10.2771635055542 W\n[codecarbon INFO @ 20:18:47] Energy consumed for all GPUs : 0.129766 kWh. Total GPU Power : 69.53382870560601 W\n[codecarbon INFO @ 20:18:47] Energy consumed for all CPUs : 0.082913 kWh. Total CPU Power : 42.5 W\n[codecarbon INFO @ 20:18:47] 0.232721 kWh of electricity used since the beginning.\n[codecarbon INFO @ 20:18:55] Energy consumed for RAM : 0.019862 kWh. RAM Power : 10.2771635055542 W\n[codecarbon INFO @ 20:18:55] Energy consumed for all GPUs : 0.129492 kWh. Total GPU Power : 69.62591224447817 W\n[codecarbon INFO @ 20:18:55] Energy consumed for all CPUs : 0.082165 kWh. Total CPU Power : 42.5 W\n[codecarbon INFO @ 20:18:55] 0.231519 kWh of electricity used since the beginning.\n[codecarbon INFO @ 20:19:02] Energy consumed for RAM : 0.020085 kWh. RAM Power : 10.2771635055542 W\n[codecarbon INFO @ 20:19:02] Energy consumed for all GPUs : 0.130056 kWh. Total GPU Power : 69.6477856543034 W\n[codecarbon INFO @ 20:19:02] Energy consumed for all CPUs : 0.083090 kWh. Total CPU Power : 42.5 W\n[codecarbon INFO @ 20:19:02] 0.233231 kWh of electricity used since the beginning.\n[codecarbon INFO @ 20:19:10] Energy consumed for RAM : 0.019905 kWh. RAM Power : 10.2771635055542 W\n[codecarbon INFO @ 20:19:10] Energy consumed for all GPUs : 0.129782 kWh. Total GPU Power : 69.56055518068611 W\n[codecarbon INFO @ 20:19:10] Energy consumed for all CPUs : 0.082342 kWh. Total CPU Power : 42.5 W\n[codecarbon INFO @ 20:19:10] 0.232028 kWh of electricity used since the beginning.\n[codecarbon INFO @ 20:19:17] Energy consumed for RAM : 0.020128 kWh. RAM Power : 10.2771635055542 W\n[codecarbon INFO @ 20:19:17] Energy consumed for all GPUs : 0.130346 kWh. Total GPU Power : 69.55663393522559 W\n[codecarbon INFO @ 20:19:17] Energy consumed for all CPUs : 0.083267 kWh. Total CPU Power : 42.5 W\n[codecarbon INFO @ 20:19:17] 0.233740 kWh of electricity used since the beginning.\n[codecarbon INFO @ 20:19:25] Energy consumed for RAM : 0.019948 kWh. RAM Power : 10.2771635055542 W\n[codecarbon INFO @ 20:19:25] Energy consumed for all GPUs : 0.130070 kWh. Total GPU Power : 69.1684823379497 W\n[codecarbon INFO @ 20:19:25] Energy consumed for all CPUs : 0.082519 kWh. Total CPU Power : 42.5 W\n[codecarbon INFO @ 20:19:25] 0.232536 kWh of electricity used since the beginning.\n[codecarbon INFO @ 20:19:32] Energy consumed for RAM : 0.020171 kWh. RAM Power : 10.2771635055542 W\n[codecarbon INFO @ 20:19:32] Energy consumed for all GPUs : 0.130636 kWh. Total GPU Power : 69.58299858985795 W\n[codecarbon INFO @ 20:19:32] Energy consumed for all CPUs : 0.083444 kWh. Total CPU Power : 42.5 W\n[codecarbon INFO @ 20:19:32] 0.234250 kWh of electricity used since the beginning.\n[codecarbon INFO @ 20:19:40] Energy consumed for RAM : 0.019990 kWh. RAM Power : 10.2771635055542 W\n[codecarbon INFO @ 20:19:40] Energy consumed for all GPUs : 0.130360 kWh. Total GPU Power : 69.5667920392176 W\n[codecarbon INFO @ 20:19:40] Energy consumed for all CPUs : 0.082696 kWh. Total CPU Power : 42.5 W\n[codecarbon INFO @ 20:19:40] 0.233046 kWh of electricity used since the beginning.\n[codecarbon INFO @ 20:19:47] Energy consumed for RAM : 0.020213 kWh. RAM Power : 10.2771635055542 W\n[codecarbon INFO @ 20:19:47] Energy consumed for all GPUs : 0.130926 kWh. Total GPU Power : 69.57858220132097 W\n[codecarbon INFO @ 20:19:47] Energy consumed for all CPUs : 0.083621 kWh. Total CPU Power : 42.5 W\n[codecarbon INFO @ 20:19:47] 0.234760 kWh of electricity used since the beginning.\n[codecarbon INFO @ 20:19:55] Energy consumed for RAM : 0.020033 kWh. RAM Power : 10.2771635055542 W\n[codecarbon INFO @ 20:19:55] Energy consumed for all GPUs : 0.130650 kWh. Total GPU Power : 69.5981855250438 W\n[codecarbon INFO @ 20:19:55] Energy consumed for all CPUs : 0.082873 kWh. Total CPU Power : 42.5 W\n[codecarbon INFO @ 20:19:55] 0.233556 kWh of electricity used since the beginning.\n[codecarbon INFO @ 20:20:02] Energy consumed for RAM : 0.020256 kWh. RAM Power : 10.2771635055542 W\n[codecarbon INFO @ 20:20:02] Energy consumed for all GPUs : 0.131215 kWh. Total GPU Power : 69.59101717081397 W\n[codecarbon INFO @ 20:20:02] Energy consumed for all CPUs : 0.083798 kWh. Total CPU Power : 42.5 W\n[codecarbon INFO @ 20:20:02] 0.235270 kWh of electricity used since the beginning.\n[codecarbon INFO @ 20:20:10] Energy consumed for RAM : 0.020076 kWh. RAM Power : 10.2771635055542 W\n[codecarbon INFO @ 20:20:10] Energy consumed for all GPUs : 0.130939 kWh. Total GPU Power : 69.5772122283859 W\n[codecarbon INFO @ 20:20:10] Energy consumed for all CPUs : 0.083050 kWh. Total CPU Power : 42.5 W\n[codecarbon INFO @ 20:20:10] 0.234065 kWh of electricity used since the beginning.\n[codecarbon INFO @ 20:20:17] Energy consumed for RAM : 0.020299 kWh. RAM Power : 10.2771635055542 W\n[codecarbon INFO @ 20:20:17] Energy consumed for all GPUs : 0.131505 kWh. Total GPU Power : 69.62755721419762 W\n[codecarbon INFO @ 20:20:17] Energy consumed for all CPUs : 0.083975 kWh. Total CPU Power : 42.5 W\n[codecarbon INFO @ 20:20:17] 0.235780 kWh of electricity used since the beginning.\n[codecarbon INFO @ 20:20:25] Energy consumed for RAM : 0.020119 kWh. RAM Power : 10.2771635055542 W\n[codecarbon INFO @ 20:20:25] Energy consumed for all GPUs : 0.131198 kWh. Total GPU Power : 62.17492017184297 W\n[codecarbon INFO @ 20:20:25] Energy consumed for all CPUs : 0.083227 kWh. Total CPU Power : 42.5 W\n[codecarbon INFO @ 20:20:25] 0.234544 kWh of electricity used since the beginning.\n[codecarbon INFO @ 20:20:32] Energy consumed for RAM : 0.020342 kWh. RAM Power : 10.2771635055542 W\n[codecarbon INFO @ 20:20:32] Energy consumed for all GPUs : 0.131682 kWh. Total GPU Power : 42.3059665183132 W\n[codecarbon INFO @ 20:20:32] Energy consumed for all CPUs : 0.084152 kWh. Total CPU Power : 42.5 W\n[codecarbon INFO @ 20:20:32] 0.236176 kWh of electricity used since the beginning.\n[codecarbon INFO @ 20:20:40] Energy consumed for RAM : 0.020162 kWh. RAM Power : 10.2771635055542 W\n[codecarbon INFO @ 20:20:40] Energy consumed for all GPUs : 0.131318 kWh. Total GPU Power : 28.813954754962907 W\n[codecarbon INFO @ 20:20:40] Energy consumed for all CPUs : 0.083404 kWh. Total CPU Power : 42.5 W\n[codecarbon INFO @ 20:20:40] 0.234884 kWh of electricity used since the beginning.\n[codecarbon INFO @ 20:20:47] Energy consumed for RAM : 0.020385 kWh. RAM Power : 10.2771635055542 W\n[codecarbon INFO @ 20:20:47] Energy consumed for all GPUs : 0.131801 kWh. Total GPU Power : 28.679843976279216 W\n[codecarbon INFO @ 20:20:47] Energy consumed for all CPUs : 0.084329 kWh. Total CPU Power : 42.5 W\n[codecarbon INFO @ 20:20:47] 0.236515 kWh of electricity used since the beginning.\n[codecarbon INFO @ 20:20:55] Energy consumed for RAM : 0.020204 kWh. RAM Power : 10.2771635055542 W\n[codecarbon INFO @ 20:20:55] Energy consumed for all GPUs : 0.131437 kWh. Total GPU Power : 28.42279840476121 W\n[codecarbon INFO @ 20:20:55] Energy consumed for all CPUs : 0.083581 kWh. Total CPU Power : 42.5 W\n[codecarbon INFO @ 20:20:55] 0.235222 kWh of electricity used since the beginning.\n[codecarbon INFO @ 20:21:02] Energy consumed for RAM : 0.020427 kWh. RAM Power : 10.2771635055542 W\n[codecarbon INFO @ 20:21:02] Energy consumed for all GPUs : 0.131918 kWh. Total GPU Power : 28.036428226115692 W\n[codecarbon INFO @ 20:21:02] Energy consumed for all CPUs : 0.084506 kWh. Total CPU Power : 42.5 W\n[codecarbon INFO @ 20:21:02] 0.236852 kWh of electricity used since the beginning.\n[codecarbon INFO @ 20:21:10] Energy consumed for RAM : 0.020247 kWh. RAM Power : 10.2771635055542 W\n[codecarbon INFO @ 20:21:10] Energy consumed for all GPUs : 0.131553 kWh. Total GPU Power : 27.85255284772444 W\n[codecarbon INFO @ 20:21:10] Energy consumed for all CPUs : 0.083758 kWh. Total CPU Power : 42.5 W\n[codecarbon INFO @ 20:21:10] 0.235558 kWh of electricity used since the beginning.\n[codecarbon INFO @ 20:21:17] Energy consumed for RAM : 0.020470 kWh. RAM Power : 10.2771635055542 W\n[codecarbon INFO @ 20:21:17] Energy consumed for all GPUs : 0.132034 kWh. Total GPU Power : 27.746466492797786 W\n[codecarbon INFO @ 20:21:17] Energy consumed for all CPUs : 0.084683 kWh. Total CPU Power : 42.5 W\n[codecarbon INFO @ 20:21:17] 0.237187 kWh of electricity used since the beginning.\n[codecarbon INFO @ 20:21:25] Energy consumed for RAM : 0.020290 kWh. RAM Power : 10.2771635055542 W\n[codecarbon INFO @ 20:21:25] Energy consumed for all GPUs : 0.131668 kWh. Total GPU Power : 27.67286427057697 W\n[codecarbon INFO @ 20:21:25] Energy consumed for all CPUs : 0.083935 kWh. Total CPU Power : 42.5 W\n[codecarbon INFO @ 20:21:25] 0.235894 kWh of electricity used since the beginning.\n[codecarbon INFO @ 20:21:32] Energy consumed for RAM : 0.020513 kWh. RAM Power : 10.2771635055542 W\n[codecarbon INFO @ 20:21:32] Energy consumed for all GPUs : 0.132149 kWh. Total GPU Power : 27.768662352536232 W\n[codecarbon INFO @ 20:21:32] Energy consumed for all CPUs : 0.084860 kWh. Total CPU Power : 42.5 W\n[codecarbon INFO @ 20:21:32] 0.237523 kWh of electricity used since the beginning.\n[codecarbon INFO @ 20:21:40] Energy consumed for RAM : 0.020333 kWh. RAM Power : 10.2771635055542 W\n[codecarbon INFO @ 20:21:40] Energy consumed for all GPUs : 0.131783 kWh. Total GPU Power : 27.66951062073647 W\n[codecarbon INFO @ 20:21:40] Energy consumed for all CPUs : 0.084113 kWh. Total CPU Power : 42.5 W\n[codecarbon INFO @ 20:21:40] 0.236229 kWh of electricity used since the beginning.\n[codecarbon INFO @ 20:21:47] Energy consumed for RAM : 0.020556 kWh. RAM Power : 10.2771635055542 W\n[codecarbon INFO @ 20:21:47] Energy consumed for all GPUs : 0.132263 kWh. Total GPU Power : 27.383813246267113 W\n[codecarbon INFO @ 20:21:47] Energy consumed for all CPUs : 0.085038 kWh. Total CPU Power : 42.5 W\n[codecarbon INFO @ 20:21:47] 0.237857 kWh of electricity used since the beginning.\n[codecarbon INFO @ 20:21:55] Energy consumed for RAM : 0.020376 kWh. RAM Power : 10.2771635055542 W\n[codecarbon INFO @ 20:21:55] Energy consumed for all GPUs : 0.131897 kWh. Total GPU Power : 27.29558586027399 W\n[codecarbon INFO @ 20:21:55] Energy consumed for all CPUs : 0.084290 kWh. Total CPU Power : 42.5 W\n[codecarbon INFO @ 20:21:55] 0.236562 kWh of electricity used since the beginning.\n[codecarbon INFO @ 20:22:02] Energy consumed for RAM : 0.020599 kWh. RAM Power : 10.2771635055542 W\n[codecarbon INFO @ 20:22:02] Energy consumed for all GPUs : 0.132377 kWh. Total GPU Power : 27.21957105069222 W\n[codecarbon INFO @ 20:22:02] Energy consumed for all CPUs : 0.085215 kWh. Total CPU Power : 42.5 W\n[codecarbon INFO @ 20:22:02] 0.238190 kWh of electricity used since the beginning.\n[codecarbon INFO @ 20:22:10] Energy consumed for RAM : 0.020418 kWh. RAM Power : 10.2771635055542 W\n[codecarbon INFO @ 20:22:10] Energy consumed for all GPUs : 0.132010 kWh. Total GPU Power : 27.14506734295093 W\n[codecarbon INFO @ 20:22:10] Energy consumed for all CPUs : 0.084467 kWh. Total CPU Power : 42.5 W\n[codecarbon INFO @ 20:22:10] 0.236895 kWh of electricity used since the beginning.\n[codecarbon INFO @ 20:22:17] Energy consumed for RAM : 0.020642 kWh. RAM Power : 10.2771635055542 W\n[codecarbon INFO @ 20:22:17] Energy consumed for all GPUs : 0.132490 kWh. Total GPU Power : 27.26326123561155 W\n[codecarbon INFO @ 20:22:17] Energy consumed for all CPUs : 0.085392 kWh. Total CPU Power : 42.5 W\n[codecarbon INFO @ 20:22:17] 0.238523 kWh of electricity used since the beginning.\n[codecarbon INFO @ 20:22:25] Energy consumed for RAM : 0.020461 kWh. RAM Power : 10.2771635055542 W\n[codecarbon INFO @ 20:22:25] Energy consumed for all GPUs : 0.132150 kWh. Total GPU Power : 33.57196859963949 W\n[codecarbon INFO @ 20:22:25] Energy consumed for all CPUs : 0.084644 kWh. Total CPU Power : 42.5 W\n[codecarbon INFO @ 20:22:25] 0.237255 kWh of electricity used since the beginning.\n[codecarbon INFO @ 20:22:32] Energy consumed for RAM : 0.020684 kWh. RAM Power : 10.2771635055542 W\n[codecarbon INFO @ 20:22:32] Energy consumed for all GPUs : 0.132716 kWh. Total GPU Power : 54.2380562214387 W\n[codecarbon INFO @ 20:22:32] Energy consumed for all CPUs : 0.085569 kWh. Total CPU Power : 42.5 W\n[codecarbon INFO @ 20:22:32] 0.238969 kWh of electricity used since the beginning.\n[codecarbon INFO @ 20:22:40] Energy consumed for RAM : 0.020504 kWh. RAM Power : 10.2771635055542 W\n[codecarbon INFO @ 20:22:40] Energy consumed for all GPUs : 0.132442 kWh. Total GPU Power : 70.20641160364193 W\n[codecarbon INFO @ 20:22:40] Energy consumed for all CPUs : 0.084821 kWh. Total CPU Power : 42.5 W\n[codecarbon INFO @ 20:22:40] 0.237767 kWh of electricity used since the beginning.\n[codecarbon INFO @ 20:22:47] Energy consumed for RAM : 0.020727 kWh. RAM Power : 10.2771635055542 W\n[codecarbon INFO @ 20:22:47] Energy consumed for all GPUs : 0.133007 kWh. Total GPU Power : 69.73484186119285 W\n[codecarbon INFO @ 20:22:47] Energy consumed for all CPUs : 0.085746 kWh. Total CPU Power : 42.5 W\n[codecarbon INFO @ 20:22:47] 0.239480 kWh of electricity used since the beginning.\n/anaconda/envs/azureml_py38/lib/python3.8/site-packages/sklearn/metrics/_classification.py:1272: UndefinedMetricWarning: Precision is ill-defined and being set to 0.0 in samples with no predicted labels. Use `zero_division` parameter to control this behavior.\n  _warn_prf(average, modifier, msg_start, len(result))\n/anaconda/envs/azureml_py38/lib/python3.8/site-packages/sklearn/metrics/_classification.py:1272: UndefinedMetricWarning: Recall is ill-defined and being set to 0.0 in samples with no true labels. Use `zero_division` parameter to control this behavior.\n  _warn_prf(average, modifier, msg_start, len(result))\n/anaconda/envs/azureml_py38/lib/python3.8/site-packages/sklearn/metrics/_classification.py:1514: UndefinedMetricWarning: F-score is ill-defined and being set to 0.0 in samples with no true nor predicted labels. Use `zero_division` parameter to control this behavior.\n  _warn_prf(\n[codecarbon INFO @ 20:22:55] Energy consumed for RAM : 0.020547 kWh. RAM Power : 10.2771635055542 W\n[codecarbon INFO @ 20:22:55] Energy consumed for all GPUs : 0.132727 kWh. Total GPU Power : 68.4500582127751 W\n[codecarbon INFO @ 20:22:55] Energy consumed for all CPUs : 0.084998 kWh. Total CPU Power : 42.5 W\n[codecarbon INFO @ 20:22:55] 0.238272 kWh of electricity used since the beginning.\n[codecarbon INFO @ 20:23:02] Energy consumed for RAM : 0.020770 kWh. RAM Power : 10.2771635055542 W\n[codecarbon INFO @ 20:23:02] Energy consumed for all GPUs : 0.133212 kWh. Total GPU Power : 49.18403473805303 W\n[codecarbon INFO @ 20:23:02] Energy consumed for all CPUs : 0.085923 kWh. Total CPU Power : 42.5 W\n[codecarbon INFO @ 20:23:02] 0.239904 kWh of electricity used since the beginning.\n[codecarbon INFO @ 20:23:10] Energy consumed for RAM : 0.020590 kWh. RAM Power : 10.2771635055542 W\n[codecarbon INFO @ 20:23:10] Energy consumed for all GPUs : 0.132930 kWh. Total GPU Power : 48.722639013287704 W\n[codecarbon INFO @ 20:23:10] Energy consumed for all CPUs : 0.085175 kWh. Total CPU Power : 42.5 W\n[codecarbon INFO @ 20:23:10] 0.238695 kWh of electricity used since the beginning.\n[codecarbon INFO @ 20:23:17] Energy consumed for RAM : 0.020813 kWh. RAM Power : 10.2771635055542 W\n[codecarbon INFO @ 20:23:17] Energy consumed for all GPUs : 0.133496 kWh. Total GPU Power : 68.34372828994765 W\n[codecarbon INFO @ 20:23:17] Energy consumed for all CPUs : 0.086100 kWh. Total CPU Power : 42.5 W\n[codecarbon INFO @ 20:23:17] 0.240409 kWh of electricity used since the beginning.\n[codecarbon INFO @ 20:23:25] Energy consumed for RAM : 0.020632 kWh. RAM Power : 10.2771635055542 W\n[codecarbon INFO @ 20:23:25] Energy consumed for all GPUs : 0.133221 kWh. Total GPU Power : 69.64085428797783 W\n[codecarbon INFO @ 20:23:25] Energy consumed for all CPUs : 0.085352 kWh. Total CPU Power : 42.5 W\n[codecarbon INFO @ 20:23:25] 0.239205 kWh of electricity used since the beginning.\n[codecarbon INFO @ 20:23:32] Energy consumed for RAM : 0.020856 kWh. RAM Power : 10.2771635055542 W\n[codecarbon INFO @ 20:23:32] Energy consumed for all GPUs : 0.133786 kWh. Total GPU Power : 69.64643719578461 W\n[codecarbon INFO @ 20:23:32] Energy consumed for all CPUs : 0.086277 kWh. Total CPU Power : 42.5 W\n[codecarbon INFO @ 20:23:32] 0.240919 kWh of electricity used since the beginning.\n[codecarbon INFO @ 20:23:40] Energy consumed for RAM : 0.020675 kWh. RAM Power : 10.2771635055542 W\n[codecarbon INFO @ 20:23:40] Energy consumed for all GPUs : 0.133511 kWh. Total GPU Power : 69.65851821279229 W\n[codecarbon INFO @ 20:23:40] Energy consumed for all CPUs : 0.085529 kWh. Total CPU Power : 42.5 W\n[codecarbon INFO @ 20:23:40] 0.239715 kWh of electricity used since the beginning.\n[codecarbon INFO @ 20:23:47] Energy consumed for RAM : 0.020898 kWh. RAM Power : 10.2771635055542 W\n[codecarbon INFO @ 20:23:47] Energy consumed for all GPUs : 0.134077 kWh. Total GPU Power : 69.74549428821491 W\n[codecarbon INFO @ 20:23:47] Energy consumed for all CPUs : 0.086454 kWh. Total CPU Power : 42.5 W\n[codecarbon INFO @ 20:23:47] 0.241429 kWh of electricity used since the beginning.\n[codecarbon INFO @ 20:23:55] Energy consumed for RAM : 0.020718 kWh. RAM Power : 10.2771635055542 W\n[codecarbon INFO @ 20:23:55] Energy consumed for all GPUs : 0.133801 kWh. Total GPU Power : 69.63768696019119 W\n[codecarbon INFO @ 20:23:55] Energy consumed for all CPUs : 0.085706 kWh. Total CPU Power : 42.5 W\n[codecarbon INFO @ 20:23:55] 0.240225 kWh of electricity used since the beginning.\n[codecarbon INFO @ 20:24:02] Energy consumed for RAM : 0.020941 kWh. RAM Power : 10.2771635055542 W\n[codecarbon INFO @ 20:24:02] Energy consumed for all GPUs : 0.134367 kWh. Total GPU Power : 69.61601551543222 W\n[codecarbon INFO @ 20:24:02] Energy consumed for all CPUs : 0.086631 kWh. Total CPU Power : 42.5 W\n[codecarbon INFO @ 20:24:02] 0.241939 kWh of electricity used since the beginning.\n[codecarbon INFO @ 20:24:10] Energy consumed for RAM : 0.020761 kWh. RAM Power : 10.2771635055542 W\n[codecarbon INFO @ 20:24:10] Energy consumed for all GPUs : 0.134091 kWh. Total GPU Power : 69.59245455662897 W\n[codecarbon INFO @ 20:24:10] Energy consumed for all CPUs : 0.085883 kWh. Total CPU Power : 42.5 W\n[codecarbon INFO @ 20:24:10] 0.240735 kWh of electricity used since the beginning.\n[codecarbon INFO @ 20:24:17] Energy consumed for RAM : 0.020984 kWh. RAM Power : 10.2771635055542 W\n[codecarbon INFO @ 20:24:17] Energy consumed for all GPUs : 0.134657 kWh. Total GPU Power : 69.54898868365864 W\n[codecarbon INFO @ 20:24:17] Energy consumed for all CPUs : 0.086808 kWh. Total CPU Power : 42.5 W\n[codecarbon INFO @ 20:24:17] 0.242449 kWh of electricity used since the beginning.\n[codecarbon INFO @ 20:24:25] Energy consumed for RAM : 0.020804 kWh. RAM Power : 10.2771635055542 W\n[codecarbon INFO @ 20:24:25] Energy consumed for all GPUs : 0.134380 kWh. Total GPU Power : 69.55606775241951 W\n[codecarbon INFO @ 20:24:25] Energy consumed for all CPUs : 0.086060 kWh. Total CPU Power : 42.5 W\n[codecarbon INFO @ 20:24:25] 0.241245 kWh of electricity used since the beginning.\n[codecarbon INFO @ 20:24:32] Energy consumed for RAM : 0.021027 kWh. RAM Power : 10.2771635055542 W\n[codecarbon INFO @ 20:24:32] Energy consumed for all GPUs : 0.134947 kWh. Total GPU Power : 69.60133589281942 W\n[codecarbon INFO @ 20:24:32] Energy consumed for all CPUs : 0.086985 kWh. Total CPU Power : 42.5 W\n[codecarbon INFO @ 20:24:32] 0.242959 kWh of electricity used since the beginning.\n[codecarbon INFO @ 20:24:40] Energy consumed for RAM : 0.020846 kWh. RAM Power : 10.2771635055542 W\n[codecarbon INFO @ 20:24:40] Energy consumed for all GPUs : 0.134670 kWh. Total GPU Power : 69.59258943160272 W\n[codecarbon INFO @ 20:24:40] Energy consumed for all CPUs : 0.086237 kWh. Total CPU Power : 42.5 W\n[codecarbon INFO @ 20:24:40] 0.241754 kWh of electricity used since the beginning.\n[codecarbon INFO @ 20:24:47] Energy consumed for RAM : 0.021070 kWh. RAM Power : 10.2771635055542 W\n[codecarbon INFO @ 20:24:47] Energy consumed for all GPUs : 0.135236 kWh. Total GPU Power : 69.5657420790627 W\n[codecarbon INFO @ 20:24:47] Energy consumed for all CPUs : 0.087162 kWh. Total CPU Power : 42.5 W\n[codecarbon INFO @ 20:24:47] 0.243468 kWh of electricity used since the beginning.\n[codecarbon INFO @ 20:24:55] Energy consumed for RAM : 0.020889 kWh. RAM Power : 10.2771635055542 W\n[codecarbon INFO @ 20:24:55] Energy consumed for all GPUs : 0.134960 kWh. Total GPU Power : 69.62908669724061 W\n[codecarbon INFO @ 20:24:55] Energy consumed for all CPUs : 0.086415 kWh. Total CPU Power : 42.5 W\n[codecarbon INFO @ 20:24:55] 0.242264 kWh of electricity used since the beginning.\n[codecarbon INFO @ 20:25:02] Energy consumed for RAM : 0.021112 kWh. RAM Power : 10.2771635055542 W\n[codecarbon INFO @ 20:25:02] Energy consumed for all GPUs : 0.135526 kWh. Total GPU Power : 69.58780599740592 W\n[codecarbon INFO @ 20:25:02] Energy consumed for all CPUs : 0.087340 kWh. Total CPU Power : 42.5 W\n[codecarbon INFO @ 20:25:02] 0.243978 kWh of electricity used since the beginning.\n[codecarbon INFO @ 20:25:10] Energy consumed for RAM : 0.020932 kWh. RAM Power : 10.2771635055542 W\n[codecarbon INFO @ 20:25:10] Energy consumed for all GPUs : 0.135250 kWh. Total GPU Power : 69.55977032192459 W\n[codecarbon INFO @ 20:25:10] Energy consumed for all CPUs : 0.086592 kWh. Total CPU Power : 42.5 W\n[codecarbon INFO @ 20:25:10] 0.242774 kWh of electricity used since the beginning.\n[codecarbon INFO @ 20:25:17] Energy consumed for RAM : 0.021155 kWh. RAM Power : 10.2771635055542 W\n[codecarbon INFO @ 20:25:17] Energy consumed for all GPUs : 0.135816 kWh. Total GPU Power : 69.52835936076463 W\n[codecarbon INFO @ 20:25:17] Energy consumed for all CPUs : 0.087517 kWh. Total CPU Power : 42.5 W\n[codecarbon INFO @ 20:25:17] 0.244488 kWh of electricity used since the beginning.\n[codecarbon INFO @ 20:25:25] Energy consumed for RAM : 0.020975 kWh. RAM Power : 10.2771635055542 W\n[codecarbon INFO @ 20:25:25] Energy consumed for all GPUs : 0.135540 kWh. Total GPU Power : 69.6388470829629 W\n[codecarbon INFO @ 20:25:25] Energy consumed for all CPUs : 0.086769 kWh. Total CPU Power : 42.5 W\n[codecarbon INFO @ 20:25:25] 0.243283 kWh of electricity used since the beginning.\n[codecarbon INFO @ 20:25:32] Energy consumed for RAM : 0.021198 kWh. RAM Power : 10.2771635055542 W\n[codecarbon INFO @ 20:25:32] Energy consumed for all GPUs : 0.136106 kWh. Total GPU Power : 69.64523199426006 W\n[codecarbon INFO @ 20:25:32] Energy consumed for all CPUs : 0.087694 kWh. Total CPU Power : 42.5 W\n[codecarbon INFO @ 20:25:32] 0.244998 kWh of electricity used since the beginning.\n[codecarbon INFO @ 20:25:40] Energy consumed for RAM : 0.021018 kWh. RAM Power : 10.2771635055542 W\n[codecarbon INFO @ 20:25:40] Energy consumed for all GPUs : 0.135830 kWh. Total GPU Power : 69.63514873776408 W\n[codecarbon INFO @ 20:25:40] Energy consumed for all CPUs : 0.086946 kWh. Total CPU Power : 42.5 W\n[codecarbon INFO @ 20:25:40] 0.243793 kWh of electricity used since the beginning.\n[codecarbon INFO @ 20:25:47] Energy consumed for RAM : 0.021241 kWh. RAM Power : 10.2771635055542 W\n[codecarbon INFO @ 20:25:47] Energy consumed for all GPUs : 0.136396 kWh. Total GPU Power : 69.65218685847024 W\n[codecarbon INFO @ 20:25:47] Energy consumed for all CPUs : 0.087871 kWh. Total CPU Power : 42.5 W\n[codecarbon INFO @ 20:25:47] 0.245507 kWh of electricity used since the beginning.\n[codecarbon INFO @ 20:25:55] Energy consumed for RAM : 0.021060 kWh. RAM Power : 10.2771635055542 W\n[codecarbon INFO @ 20:25:55] Energy consumed for all GPUs : 0.136120 kWh. Total GPU Power : 69.59955626580991 W\n[codecarbon INFO @ 20:25:55] Energy consumed for all CPUs : 0.087123 kWh. Total CPU Power : 42.5 W\n[codecarbon INFO @ 20:25:55] 0.244303 kWh of electricity used since the beginning.\n[codecarbon INFO @ 20:26:02] Energy consumed for RAM : 0.021284 kWh. RAM Power : 10.2771635055542 W\n[codecarbon INFO @ 20:26:02] Energy consumed for all GPUs : 0.136686 kWh. Total GPU Power : 69.64223628788352 W\n[codecarbon INFO @ 20:26:02] Energy consumed for all CPUs : 0.088048 kWh. Total CPU Power : 42.5 W\n[codecarbon INFO @ 20:26:02] 0.246017 kWh of electricity used since the beginning.\n[codecarbon INFO @ 20:26:10] Energy consumed for RAM : 0.021103 kWh. RAM Power : 10.2771635055542 W\n[codecarbon INFO @ 20:26:10] Energy consumed for all GPUs : 0.136410 kWh. Total GPU Power : 69.67435396610858 W\n[codecarbon INFO @ 20:26:10] Energy consumed for all CPUs : 0.087300 kWh. Total CPU Power : 42.5 W\n[codecarbon INFO @ 20:26:10] 0.244813 kWh of electricity used since the beginning.\n[codecarbon INFO @ 20:26:17] Energy consumed for RAM : 0.021326 kWh. RAM Power : 10.2771635055542 W\n[codecarbon INFO @ 20:26:17] Energy consumed for all GPUs : 0.136976 kWh. Total GPU Power : 69.62585291999774 W\n[codecarbon INFO @ 20:26:17] Energy consumed for all CPUs : 0.088225 kWh. Total CPU Power : 42.5 W\n[codecarbon INFO @ 20:26:17] 0.246527 kWh of electricity used since the beginning.\n[codecarbon INFO @ 20:26:25] Energy consumed for RAM : 0.021146 kWh. RAM Power : 10.2771635055542 W\n[codecarbon INFO @ 20:26:25] Energy consumed for all GPUs : 0.136700 kWh. Total GPU Power : 69.56004763747758 W\n[codecarbon INFO @ 20:26:25] Energy consumed for all CPUs : 0.087477 kWh. Total CPU Power : 42.5 W\n[codecarbon INFO @ 20:26:25] 0.245323 kWh of electricity used since the beginning.\n[codecarbon INFO @ 20:26:32] Energy consumed for RAM : 0.021369 kWh. RAM Power : 10.2771635055542 W\n[codecarbon INFO @ 20:26:32] Energy consumed for all GPUs : 0.137266 kWh. Total GPU Power : 69.59005579556356 W\n[codecarbon INFO @ 20:26:32] Energy consumed for all CPUs : 0.088402 kWh. Total CPU Power : 42.5 W\n[codecarbon INFO @ 20:26:32] 0.247037 kWh of electricity used since the beginning.\n[codecarbon INFO @ 20:26:40] Energy consumed for RAM : 0.021189 kWh. RAM Power : 10.2771635055542 W\n[codecarbon INFO @ 20:26:40] Energy consumed for all GPUs : 0.136990 kWh. Total GPU Power : 69.60192088665494 W\n[codecarbon INFO @ 20:26:40] Energy consumed for all CPUs : 0.087654 kWh. Total CPU Power : 42.5 W\n[codecarbon INFO @ 20:26:40] 0.245833 kWh of electricity used since the beginning.\n[codecarbon INFO @ 20:26:47] Energy consumed for RAM : 0.021412 kWh. RAM Power : 10.2771635055542 W\n[codecarbon INFO @ 20:26:47] Energy consumed for all GPUs : 0.137555 kWh. Total GPU Power : 69.50970184853043 W\n[codecarbon INFO @ 20:26:47] Energy consumed for all CPUs : 0.088579 kWh. Total CPU Power : 42.5 W\n[codecarbon INFO @ 20:26:47] 0.247546 kWh of electricity used since the beginning.\n[codecarbon INFO @ 20:26:55] Energy consumed for RAM : 0.021232 kWh. RAM Power : 10.2771635055542 W\n[codecarbon INFO @ 20:26:55] Energy consumed for all GPUs : 0.137279 kWh. Total GPU Power : 69.48703370945694 W\n[codecarbon INFO @ 20:26:55] Energy consumed for all CPUs : 0.087831 kWh. Total CPU Power : 42.5 W\n[codecarbon INFO @ 20:26:55] 0.246342 kWh of electricity used since the beginning.\n[codecarbon INFO @ 20:27:02] Energy consumed for RAM : 0.021455 kWh. RAM Power : 10.2771635055542 W\n[codecarbon INFO @ 20:27:02] Energy consumed for all GPUs : 0.137845 kWh. Total GPU Power : 69.57088451741005 W\n[codecarbon INFO @ 20:27:02] Energy consumed for all CPUs : 0.088756 kWh. Total CPU Power : 42.5 W\n[codecarbon INFO @ 20:27:02] 0.248056 kWh of electricity used since the beginning.\n[codecarbon INFO @ 20:27:10] Energy consumed for RAM : 0.021274 kWh. RAM Power : 10.2771635055542 W\n[codecarbon INFO @ 20:27:10] Energy consumed for all GPUs : 0.137569 kWh. Total GPU Power : 69.58209425137963 W\n[codecarbon INFO @ 20:27:10] Energy consumed for all CPUs : 0.088008 kWh. Total CPU Power : 42.5 W\n[codecarbon INFO @ 20:27:10] 0.246852 kWh of electricity used since the beginning.\n[codecarbon INFO @ 20:27:17] Energy consumed for RAM : 0.021498 kWh. RAM Power : 10.2771635055542 W\n[codecarbon INFO @ 20:27:17] Energy consumed for all GPUs : 0.138135 kWh. Total GPU Power : 69.69153203815003 W\n[codecarbon INFO @ 20:27:17] Energy consumed for all CPUs : 0.088933 kWh. Total CPU Power : 42.5 W\n[codecarbon INFO @ 20:27:17] 0.248566 kWh of electricity used since the beginning.\n[codecarbon INFO @ 20:27:25] Energy consumed for RAM : 0.021317 kWh. RAM Power : 10.2771635055542 W\n[codecarbon INFO @ 20:27:25] Energy consumed for all GPUs : 0.137859 kWh. Total GPU Power : 69.7102635470474 W\n[codecarbon INFO @ 20:27:25] Energy consumed for all CPUs : 0.088185 kWh. Total CPU Power : 42.5 W\n[codecarbon INFO @ 20:27:25] 0.247362 kWh of electricity used since the beginning.\n[codecarbon INFO @ 20:27:32] Energy consumed for RAM : 0.021540 kWh. RAM Power : 10.2771635055542 W\n[codecarbon INFO @ 20:27:32] Energy consumed for all GPUs : 0.138425 kWh. Total GPU Power : 69.62034381971516 W\n[codecarbon INFO @ 20:27:32] Energy consumed for all CPUs : 0.089110 kWh. Total CPU Power : 42.5 W\n[codecarbon INFO @ 20:27:32] 0.249076 kWh of electricity used since the beginning.\n[codecarbon INFO @ 20:27:40] Energy consumed for RAM : 0.021360 kWh. RAM Power : 10.2771635055542 W\n[codecarbon INFO @ 20:27:40] Energy consumed for all GPUs : 0.138149 kWh. Total GPU Power : 69.54401470257703 W\n[codecarbon INFO @ 20:27:40] Energy consumed for all CPUs : 0.088362 kWh. Total CPU Power : 42.5 W\n[codecarbon INFO @ 20:27:40] 0.247871 kWh of electricity used since the beginning.\n[codecarbon INFO @ 20:27:47] Energy consumed for RAM : 0.021583 kWh. RAM Power : 10.2771635055542 W\n[codecarbon INFO @ 20:27:47] Energy consumed for all GPUs : 0.138714 kWh. Total GPU Power : 69.33619585298884 W\n[codecarbon INFO @ 20:27:47] Energy consumed for all CPUs : 0.089287 kWh. Total CPU Power : 42.5 W\n[codecarbon INFO @ 20:27:47] 0.249585 kWh of electricity used since the beginning.\n[codecarbon INFO @ 20:27:55] Energy consumed for RAM : 0.021403 kWh. RAM Power : 10.2771635055542 W\n[codecarbon INFO @ 20:27:55] Energy consumed for all GPUs : 0.138438 kWh. Total GPU Power : 69.4435250931035 W\n[codecarbon INFO @ 20:27:55] Energy consumed for all CPUs : 0.088539 kWh. Total CPU Power : 42.5 W\n[codecarbon INFO @ 20:27:55] 0.248381 kWh of electricity used since the beginning.\n[codecarbon INFO @ 20:28:02] Energy consumed for RAM : 0.021626 kWh. RAM Power : 10.2771635055542 W\n[codecarbon INFO @ 20:28:02] Energy consumed for all GPUs : 0.139004 kWh. Total GPU Power : 69.55288286149656 W\n[codecarbon INFO @ 20:28:02] Energy consumed for all CPUs : 0.089464 kWh. Total CPU Power : 42.5 W\n[codecarbon INFO @ 20:28:02] 0.250094 kWh of electricity used since the beginning.\n[codecarbon INFO @ 20:28:10] Energy consumed for RAM : 0.021446 kWh. RAM Power : 10.2771635055542 W\n[codecarbon INFO @ 20:28:10] Energy consumed for all GPUs : 0.138728 kWh. Total GPU Power : 69.60910506220466 W\n[codecarbon INFO @ 20:28:10] Energy consumed for all CPUs : 0.088716 kWh. Total CPU Power : 42.5 W\n[codecarbon INFO @ 20:28:10] 0.248890 kWh of electricity used since the beginning.\n[codecarbon INFO @ 20:28:17] Energy consumed for RAM : 0.021669 kWh. RAM Power : 10.2771635055542 W\n[codecarbon INFO @ 20:28:17] Energy consumed for all GPUs : 0.139294 kWh. Total GPU Power : 69.75906508591149 W\n[codecarbon INFO @ 20:28:17] Energy consumed for all CPUs : 0.089641 kWh. Total CPU Power : 42.5 W\n[codecarbon INFO @ 20:28:17] 0.250605 kWh of electricity used since the beginning.\n[codecarbon INFO @ 20:28:25] Energy consumed for RAM : 0.021489 kWh. RAM Power : 10.2771635055542 W\n[codecarbon INFO @ 20:28:25] Energy consumed for all GPUs : 0.139019 kWh. Total GPU Power : 69.70263931893028 W\n[codecarbon INFO @ 20:28:25] Energy consumed for all CPUs : 0.088894 kWh. Total CPU Power : 42.5 W\n[codecarbon INFO @ 20:28:25] 0.249401 kWh of electricity used since the beginning.\n[codecarbon INFO @ 20:28:32] Energy consumed for RAM : 0.021712 kWh. RAM Power : 10.2771635055542 W\n[codecarbon INFO @ 20:28:32] Energy consumed for all GPUs : 0.139585 kWh. Total GPU Power : 69.639283045285 W\n[codecarbon INFO @ 20:28:32] Energy consumed for all CPUs : 0.089819 kWh. Total CPU Power : 42.5 W\n[codecarbon INFO @ 20:28:32] 0.251115 kWh of electricity used since the beginning.\n[codecarbon INFO @ 20:28:40] Energy consumed for RAM : 0.021531 kWh. RAM Power : 10.2771635055542 W\n[codecarbon INFO @ 20:28:40] Energy consumed for all GPUs : 0.139309 kWh. Total GPU Power : 69.65841705886379 W\n[codecarbon INFO @ 20:28:40] Energy consumed for all CPUs : 0.089071 kWh. Total CPU Power : 42.5 W\n[codecarbon INFO @ 20:28:40] 0.249911 kWh of electricity used since the beginning.\n[codecarbon INFO @ 20:28:47] Energy consumed for RAM : 0.021754 kWh. RAM Power : 10.2771635055542 W\n[codecarbon INFO @ 20:28:47] Energy consumed for all GPUs : 0.139875 kWh. Total GPU Power : 69.66074065242402 W\n[codecarbon INFO @ 20:28:47] Energy consumed for all CPUs : 0.089996 kWh. Total CPU Power : 42.5 W\n[codecarbon INFO @ 20:28:47] 0.251625 kWh of electricity used since the beginning.\n[codecarbon INFO @ 20:28:55] Energy consumed for RAM : 0.021574 kWh. RAM Power : 10.2771635055542 W\n[codecarbon INFO @ 20:28:55] Energy consumed for all GPUs : 0.139599 kWh. Total GPU Power : 69.63528390684829 W\n[codecarbon INFO @ 20:28:55] Energy consumed for all CPUs : 0.089248 kWh. Total CPU Power : 42.5 W\n[codecarbon INFO @ 20:28:55] 0.250421 kWh of electricity used since the beginning.\n[codecarbon INFO @ 20:29:02] Energy consumed for RAM : 0.021797 kWh. RAM Power : 10.2771635055542 W\n[codecarbon INFO @ 20:29:02] Energy consumed for all GPUs : 0.140165 kWh. Total GPU Power : 69.60028869643999 W\n[codecarbon INFO @ 20:29:02] Energy consumed for all CPUs : 0.090173 kWh. Total CPU Power : 42.5 W\n[codecarbon INFO @ 20:29:02] 0.252135 kWh of electricity used since the beginning.\n[codecarbon INFO @ 20:29:10] Energy consumed for RAM : 0.021617 kWh. RAM Power : 10.2771635055542 W\n[codecarbon INFO @ 20:29:10] Energy consumed for all GPUs : 0.139889 kWh. Total GPU Power : 69.57801283500412 W\n[codecarbon INFO @ 20:29:10] Energy consumed for all CPUs : 0.089425 kWh. Total CPU Power : 42.5 W\n[codecarbon INFO @ 20:29:10] 0.250930 kWh of electricity used since the beginning.\n[codecarbon INFO @ 20:29:17] Energy consumed for RAM : 0.021840 kWh. RAM Power : 10.2771635055542 W\n[codecarbon INFO @ 20:29:17] Energy consumed for all GPUs : 0.140455 kWh. Total GPU Power : 69.58984714004859 W\n[codecarbon INFO @ 20:29:17] Energy consumed for all CPUs : 0.090350 kWh. Total CPU Power : 42.5 W\n[codecarbon INFO @ 20:29:17] 0.252644 kWh of electricity used since the beginning.\n[codecarbon INFO @ 20:29:25] Energy consumed for RAM : 0.021660 kWh. RAM Power : 10.2771635055542 W\n[codecarbon INFO @ 20:29:25] Energy consumed for all GPUs : 0.140179 kWh. Total GPU Power : 69.61664997589921 W\n[codecarbon INFO @ 20:29:25] Energy consumed for all CPUs : 0.089602 kWh. Total CPU Power : 42.5 W\n[codecarbon INFO @ 20:29:25] 0.251440 kWh of electricity used since the beginning.\n[codecarbon INFO @ 20:29:32] Energy consumed for RAM : 0.021883 kWh. RAM Power : 10.2771635055542 W\n[codecarbon INFO @ 20:29:32] Energy consumed for all GPUs : 0.140743 kWh. Total GPU Power : 69.1725585373367 W\n[codecarbon INFO @ 20:29:32] Energy consumed for all CPUs : 0.090527 kWh. Total CPU Power : 42.5 W\n[codecarbon INFO @ 20:29:32] 0.253152 kWh of electricity used since the beginning.\n[codecarbon INFO @ 20:29:40] Energy consumed for RAM : 0.021703 kWh. RAM Power : 10.2771635055542 W\n[codecarbon INFO @ 20:29:40] Energy consumed for all GPUs : 0.140469 kWh. Total GPU Power : 69.72682383161984 W\n[codecarbon INFO @ 20:29:40] Energy consumed for all CPUs : 0.089779 kWh. Total CPU Power : 42.5 W\n[codecarbon INFO @ 20:29:40] 0.251951 kWh of electricity used since the beginning.\n[codecarbon INFO @ 20:29:47] Energy consumed for RAM : 0.021926 kWh. RAM Power : 10.2771635055542 W\n[codecarbon INFO @ 20:29:47] Energy consumed for all GPUs : 0.141033 kWh. Total GPU Power : 69.63696410438567 W\n[codecarbon INFO @ 20:29:47] Energy consumed for all CPUs : 0.090704 kWh. Total CPU Power : 42.5 W\n[codecarbon INFO @ 20:29:47] 0.253662 kWh of electricity used since the beginning.\n[codecarbon INFO @ 20:29:55] Energy consumed for RAM : 0.021745 kWh. RAM Power : 10.2771635055542 W\n[codecarbon INFO @ 20:29:55] Energy consumed for all GPUs : 0.140759 kWh. Total GPU Power : 69.58474195600535 W\n[codecarbon INFO @ 20:29:55] Energy consumed for all CPUs : 0.089956 kWh. Total CPU Power : 42.5 W\n[codecarbon INFO @ 20:29:55] 0.252460 kWh of electricity used since the beginning.\n[codecarbon INFO @ 20:30:02] Energy consumed for RAM : 0.021968 kWh. RAM Power : 10.2771635055542 W\n[codecarbon INFO @ 20:30:02] Energy consumed for all GPUs : 0.141322 kWh. Total GPU Power : 69.53301102523078 W\n[codecarbon INFO @ 20:30:02] Energy consumed for all CPUs : 0.090881 kWh. Total CPU Power : 42.5 W\n[codecarbon INFO @ 20:30:02] 0.254172 kWh of electricity used since the beginning.\n[codecarbon INFO @ 20:30:10] Energy consumed for RAM : 0.021788 kWh. RAM Power : 10.2771635055542 W\n[codecarbon INFO @ 20:30:10] Energy consumed for all GPUs : 0.141048 kWh. Total GPU Power : 69.56431066718909 W\n[codecarbon INFO @ 20:30:10] Energy consumed for all CPUs : 0.090133 kWh. Total CPU Power : 42.5 W\n[codecarbon INFO @ 20:30:10] 0.252970 kWh of electricity used since the beginning.\n[codecarbon INFO @ 20:30:17] Energy consumed for RAM : 0.022011 kWh. RAM Power : 10.2771635055542 W\n[codecarbon INFO @ 20:30:17] Energy consumed for all GPUs : 0.141612 kWh. Total GPU Power : 69.6371089299109 W\n[codecarbon INFO @ 20:30:17] Energy consumed for all CPUs : 0.091058 kWh. Total CPU Power : 42.5 W\n[codecarbon INFO @ 20:30:17] 0.254682 kWh of electricity used since the beginning.\n[codecarbon INFO @ 20:30:25] Energy consumed for RAM : 0.021831 kWh. RAM Power : 10.2771635055542 W\n[codecarbon INFO @ 20:30:25] Energy consumed for all GPUs : 0.141338 kWh. Total GPU Power : 69.584020014732 W\n[codecarbon INFO @ 20:30:25] Energy consumed for all CPUs : 0.090310 kWh. Total CPU Power : 42.5 W\n[codecarbon INFO @ 20:30:25] 0.253479 kWh of electricity used since the beginning.\n[codecarbon INFO @ 20:30:32] Energy consumed for RAM : 0.022054 kWh. RAM Power : 10.2771635055542 W\n[codecarbon INFO @ 20:30:32] Energy consumed for all GPUs : 0.141903 kWh. Total GPU Power : 69.69063863002623 W\n[codecarbon INFO @ 20:30:32] Energy consumed for all CPUs : 0.091235 kWh. Total CPU Power : 42.5 W\n[codecarbon INFO @ 20:30:32] 0.255192 kWh of electricity used since the beginning.\n[codecarbon INFO @ 20:30:40] Energy consumed for RAM : 0.021874 kWh. RAM Power : 10.2771635055542 W\n[codecarbon INFO @ 20:30:40] Energy consumed for all GPUs : 0.141628 kWh. Total GPU Power : 69.66850729019606 W\n[codecarbon INFO @ 20:30:40] Energy consumed for all CPUs : 0.090487 kWh. Total CPU Power : 42.5 W\n[codecarbon INFO @ 20:30:40] 0.253990 kWh of electricity used since the beginning.\n[codecarbon INFO @ 20:30:47] Energy consumed for RAM : 0.022097 kWh. RAM Power : 10.2771635055542 W\n[codecarbon INFO @ 20:30:47] Energy consumed for all GPUs : 0.142192 kWh. Total GPU Power : 69.52002382199476 W\n[codecarbon INFO @ 20:30:47] Energy consumed for all CPUs : 0.091412 kWh. Total CPU Power : 42.5 W\n[codecarbon INFO @ 20:30:47] 0.255701 kWh of electricity used since the beginning.\n[codecarbon INFO @ 20:30:55] Energy consumed for RAM : 0.021917 kWh. RAM Power : 10.2771635055542 W\n[codecarbon INFO @ 20:30:55] Energy consumed for all GPUs : 0.141916 kWh. Total GPU Power : 69.09826940658834 W\n[codecarbon INFO @ 20:30:55] Energy consumed for all CPUs : 0.090664 kWh. Total CPU Power : 42.5 W\n[codecarbon INFO @ 20:30:55] 0.254497 kWh of electricity used since the beginning.\n[codecarbon INFO @ 20:31:02] Energy consumed for RAM : 0.022140 kWh. RAM Power : 10.2771635055542 W\n[codecarbon INFO @ 20:31:02] Energy consumed for all GPUs : 0.142482 kWh. Total GPU Power : 69.62408332910076 W\n[codecarbon INFO @ 20:31:02] Energy consumed for all CPUs : 0.091589 kWh. Total CPU Power : 42.5 W\n[codecarbon INFO @ 20:31:02] 0.256211 kWh of electricity used since the beginning.\n[codecarbon INFO @ 20:31:10] Energy consumed for RAM : 0.021959 kWh. RAM Power : 10.2771635055542 W\n[codecarbon INFO @ 20:31:10] Energy consumed for all GPUs : 0.142206 kWh. Total GPU Power : 69.61283641187974 W\n[codecarbon INFO @ 20:31:10] Energy consumed for all CPUs : 0.090841 kWh. Total CPU Power : 42.5 W\n[codecarbon INFO @ 20:31:10] 0.255007 kWh of electricity used since the beginning.\n[codecarbon INFO @ 20:31:17] Energy consumed for RAM : 0.022183 kWh. RAM Power : 10.2771635055542 W\n[codecarbon INFO @ 20:31:17] Energy consumed for all GPUs : 0.142772 kWh. Total GPU Power : 69.64121055343888 W\n[codecarbon INFO @ 20:31:17] Energy consumed for all CPUs : 0.091766 kWh. Total CPU Power : 42.5 W\n[codecarbon INFO @ 20:31:17] 0.256721 kWh of electricity used since the beginning.\n[codecarbon INFO @ 20:31:25] Energy consumed for RAM : 0.022002 kWh. RAM Power : 10.2771635055542 W\n[codecarbon INFO @ 20:31:25] Energy consumed for all GPUs : 0.142496 kWh. Total GPU Power : 69.63311839565769 W\n[codecarbon INFO @ 20:31:25] Energy consumed for all CPUs : 0.091018 kWh. Total CPU Power : 42.5 W\n[codecarbon INFO @ 20:31:25] 0.255517 kWh of electricity used since the beginning.\n[codecarbon INFO @ 20:31:32] Energy consumed for RAM : 0.022225 kWh. RAM Power : 10.2771635055542 W\n[codecarbon INFO @ 20:31:32] Energy consumed for all GPUs : 0.143062 kWh. Total GPU Power : 69.54125652297829 W\n[codecarbon INFO @ 20:31:32] Energy consumed for all CPUs : 0.091943 kWh. Total CPU Power : 42.5 W\n[codecarbon INFO @ 20:31:32] 0.257231 kWh of electricity used since the beginning.\n[codecarbon INFO @ 20:31:40] Energy consumed for RAM : 0.022045 kWh. RAM Power : 10.2771635055542 W\n[codecarbon INFO @ 20:31:40] Energy consumed for all GPUs : 0.142786 kWh. Total GPU Power : 69.6143189981019 W\n[codecarbon INFO @ 20:31:40] Energy consumed for all CPUs : 0.091196 kWh. Total CPU Power : 42.5 W\n[codecarbon INFO @ 20:31:40] 0.256027 kWh of electricity used since the beginning.\n[codecarbon INFO @ 20:31:47] Energy consumed for RAM : 0.022268 kWh. RAM Power : 10.2771635055542 W\n[codecarbon INFO @ 20:31:47] Energy consumed for all GPUs : 0.143352 kWh. Total GPU Power : 69.71807201222798 W\n[codecarbon INFO @ 20:31:47] Energy consumed for all CPUs : 0.092121 kWh. Total CPU Power : 42.5 W\n[codecarbon INFO @ 20:31:47] 0.257741 kWh of electricity used since the beginning.\n[codecarbon INFO @ 20:31:55] Energy consumed for RAM : 0.022088 kWh. RAM Power : 10.2771635055542 W\n[codecarbon INFO @ 20:31:55] Energy consumed for all GPUs : 0.143076 kWh. Total GPU Power : 69.69735612027496 W\n[codecarbon INFO @ 20:31:55] Energy consumed for all CPUs : 0.091373 kWh. Total CPU Power : 42.5 W\n[codecarbon INFO @ 20:31:55] 0.256537 kWh of electricity used since the beginning.\n[codecarbon INFO @ 20:32:02] Energy consumed for RAM : 0.022311 kWh. RAM Power : 10.2771635055542 W\n[codecarbon INFO @ 20:32:02] Energy consumed for all GPUs : 0.143642 kWh. Total GPU Power : 69.57709713809767 W\n[codecarbon INFO @ 20:32:02] Energy consumed for all CPUs : 0.092298 kWh. Total CPU Power : 42.5 W\n[codecarbon INFO @ 20:32:02] 0.258251 kWh of electricity used since the beginning.\n[codecarbon INFO @ 20:32:10] Energy consumed for RAM : 0.022131 kWh. RAM Power : 10.2771635055542 W\n[codecarbon INFO @ 20:32:10] Energy consumed for all GPUs : 0.143366 kWh. Total GPU Power : 69.58814842029287 W\n[codecarbon INFO @ 20:32:10] Energy consumed for all CPUs : 0.091550 kWh. Total CPU Power : 42.5 W\n[codecarbon INFO @ 20:32:10] 0.257046 kWh of electricity used since the beginning.\n[codecarbon INFO @ 20:32:17] Energy consumed for RAM : 0.022354 kWh. RAM Power : 10.2771635055542 W\n[codecarbon INFO @ 20:32:17] Energy consumed for all GPUs : 0.143932 kWh. Total GPU Power : 69.60849864209669 W\n[codecarbon INFO @ 20:32:17] Energy consumed for all CPUs : 0.092475 kWh. Total CPU Power : 42.5 W\n[codecarbon INFO @ 20:32:17] 0.258761 kWh of electricity used since the beginning.\n[codecarbon INFO @ 20:32:25] Energy consumed for RAM : 0.022173 kWh. RAM Power : 10.2771635055542 W\n[codecarbon INFO @ 20:32:25] Energy consumed for all GPUs : 0.143656 kWh. Total GPU Power : 69.57930664510047 W\n[codecarbon INFO @ 20:32:25] Energy consumed for all CPUs : 0.091727 kWh. Total CPU Power : 42.5 W\n[codecarbon INFO @ 20:32:25] 0.257556 kWh of electricity used since the beginning.\n[codecarbon INFO @ 20:32:32] Energy consumed for RAM : 0.022397 kWh. RAM Power : 10.2771635055542 W\n[codecarbon INFO @ 20:32:32] Energy consumed for all GPUs : 0.144222 kWh. Total GPU Power : 69.57879036911298 W\n[codecarbon INFO @ 20:32:32] Energy consumed for all CPUs : 0.092652 kWh. Total CPU Power : 42.5 W\n[codecarbon INFO @ 20:32:32] 0.259270 kWh of electricity used since the beginning.\n[codecarbon INFO @ 20:32:40] Energy consumed for RAM : 0.022216 kWh. RAM Power : 10.2771635055542 W\n[codecarbon INFO @ 20:32:40] Energy consumed for all GPUs : 0.143946 kWh. Total GPU Power : 69.6237361314639 W\n[codecarbon INFO @ 20:32:40] Energy consumed for all CPUs : 0.091904 kWh. Total CPU Power : 42.5 W\n[codecarbon INFO @ 20:32:40] 0.258066 kWh of electricity used since the beginning.\n[codecarbon INFO @ 20:32:47] Energy consumed for RAM : 0.022439 kWh. RAM Power : 10.2771635055542 W\n[codecarbon INFO @ 20:32:47] Energy consumed for all GPUs : 0.144512 kWh. Total GPU Power : 69.67352763727074 W\n[codecarbon INFO @ 20:32:47] Energy consumed for all CPUs : 0.092829 kWh. Total CPU Power : 42.5 W\n[codecarbon INFO @ 20:32:47] 0.259781 kWh of electricity used since the beginning.\n[codecarbon INFO @ 20:32:55] Energy consumed for RAM : 0.022259 kWh. RAM Power : 10.2771635055542 W\n[codecarbon INFO @ 20:32:55] Energy consumed for all GPUs : 0.144236 kWh. Total GPU Power : 69.6773988638832 W\n[codecarbon INFO @ 20:32:55] Energy consumed for all CPUs : 0.092081 kWh. Total CPU Power : 42.5 W\n[codecarbon INFO @ 20:32:55] 0.258576 kWh of electricity used since the beginning.\n[codecarbon INFO @ 20:33:02] Energy consumed for RAM : 0.022482 kWh. RAM Power : 10.2771635055542 W\n[codecarbon INFO @ 20:33:02] Energy consumed for all GPUs : 0.144802 kWh. Total GPU Power : 69.5680611172898 W\n[codecarbon INFO @ 20:33:02] Energy consumed for all CPUs : 0.093006 kWh. Total CPU Power : 42.5 W\n[codecarbon INFO @ 20:33:02] 0.260290 kWh of electricity used since the beginning.\n[codecarbon INFO @ 20:33:10] Energy consumed for RAM : 0.022302 kWh. RAM Power : 10.2771635055542 W\n[codecarbon INFO @ 20:33:10] Energy consumed for all GPUs : 0.144526 kWh. Total GPU Power : 69.55074587938769 W\n[codecarbon INFO @ 20:33:10] Energy consumed for all CPUs : 0.092258 kWh. Total CPU Power : 42.5 W\n[codecarbon INFO @ 20:33:10] 0.259086 kWh of electricity used since the beginning.\n[codecarbon INFO @ 20:33:17] Energy consumed for RAM : 0.022525 kWh. RAM Power : 10.2771635055542 W\n[codecarbon INFO @ 20:33:17] Energy consumed for all GPUs : 0.145092 kWh. Total GPU Power : 69.57444963919349 W\n[codecarbon INFO @ 20:33:17] Energy consumed for all CPUs : 0.093183 kWh. Total CPU Power : 42.5 W\n[codecarbon INFO @ 20:33:17] 0.260800 kWh of electricity used since the beginning.\n[codecarbon INFO @ 20:33:25] Energy consumed for RAM : 0.022345 kWh. RAM Power : 10.2771635055542 W\n[codecarbon INFO @ 20:33:25] Energy consumed for all GPUs : 0.144816 kWh. Total GPU Power : 69.5761657026738 W\n[codecarbon INFO @ 20:33:25] Energy consumed for all CPUs : 0.092435 kWh. Total CPU Power : 42.5 W\n[codecarbon INFO @ 20:33:25] 0.259596 kWh of electricity used since the beginning.\n[codecarbon INFO @ 20:33:32] Energy consumed for RAM : 0.022568 kWh. RAM Power : 10.2771635055542 W\n[codecarbon INFO @ 20:33:32] Energy consumed for all GPUs : 0.145382 kWh. Total GPU Power : 69.62451768270567 W\n[codecarbon INFO @ 20:33:32] Energy consumed for all CPUs : 0.093360 kWh. Total CPU Power : 42.5 W\n[codecarbon INFO @ 20:33:32] 0.261310 kWh of electricity used since the beginning.\n[codecarbon INFO @ 20:33:40] Energy consumed for RAM : 0.022387 kWh. RAM Power : 10.2771635055542 W\n[codecarbon INFO @ 20:33:40] Energy consumed for all GPUs : 0.145106 kWh. Total GPU Power : 69.64075827062474 W\n[codecarbon INFO @ 20:33:40] Energy consumed for all CPUs : 0.092612 kWh. Total CPU Power : 42.5 W\n[codecarbon INFO @ 20:33:40] 0.260106 kWh of electricity used since the beginning.\n[codecarbon INFO @ 20:33:47] Energy consumed for RAM : 0.022611 kWh. RAM Power : 10.2771635055542 W\n[codecarbon INFO @ 20:33:47] Energy consumed for all GPUs : 0.145672 kWh. Total GPU Power : 69.61165516054231 W\n[codecarbon INFO @ 20:33:47] Energy consumed for all CPUs : 0.093537 kWh. Total CPU Power : 42.5 W\n[codecarbon INFO @ 20:33:47] 0.261820 kWh of electricity used since the beginning.\n[codecarbon INFO @ 20:33:55] Energy consumed for RAM : 0.022431 kWh. RAM Power : 10.2771635055542 W\n[codecarbon INFO @ 20:33:55] Energy consumed for all GPUs : 0.145400 kWh. Total GPU Power : 69.75335861820815 W\n[codecarbon INFO @ 20:33:55] Energy consumed for all CPUs : 0.092791 kWh. Total CPU Power : 42.5 W\n[codecarbon INFO @ 20:33:55] 0.260621 kWh of electricity used since the beginning.\n[codecarbon INFO @ 20:34:02] Energy consumed for RAM : 0.022653 kWh. RAM Power : 10.2771635055542 W\n[codecarbon INFO @ 20:34:02] Energy consumed for all GPUs : 0.145962 kWh. Total GPU Power : 69.54877160429082 W\n[codecarbon INFO @ 20:34:02] Energy consumed for all CPUs : 0.093714 kWh. Total CPU Power : 42.5 W\n[codecarbon INFO @ 20:34:02] 0.262329 kWh of electricity used since the beginning.\n[codecarbon INFO @ 20:34:10] Energy consumed for RAM : 0.022473 kWh. RAM Power : 10.2771635055542 W\n[codecarbon INFO @ 20:34:10] Energy consumed for all GPUs : 0.145690 kWh. Total GPU Power : 69.64300789186649 W\n[codecarbon INFO @ 20:34:10] Energy consumed for all CPUs : 0.092968 kWh. Total CPU Power : 42.5 W\n[codecarbon INFO @ 20:34:10] 0.261131 kWh of electricity used since the beginning.\n[codecarbon INFO @ 20:34:17] Energy consumed for RAM : 0.022696 kWh. RAM Power : 10.2771635055542 W\n[codecarbon INFO @ 20:34:17] Energy consumed for all GPUs : 0.146252 kWh. Total GPU Power : 69.60954202335952 W\n[codecarbon INFO @ 20:34:17] Energy consumed for all CPUs : 0.093891 kWh. Total CPU Power : 42.5 W\n[codecarbon INFO @ 20:34:17] 0.262839 kWh of electricity used since the beginning.\n[codecarbon INFO @ 20:34:25] Energy consumed for RAM : 0.022516 kWh. RAM Power : 10.2771635055542 W\n[codecarbon INFO @ 20:34:25] Energy consumed for all GPUs : 0.145980 kWh. Total GPU Power : 69.62666368739953 W\n[codecarbon INFO @ 20:34:25] Energy consumed for all CPUs : 0.093145 kWh. Total CPU Power : 42.5 W\n[codecarbon INFO @ 20:34:25] 0.261641 kWh of electricity used since the beginning.\n[codecarbon INFO @ 20:34:32] Energy consumed for RAM : 0.022739 kWh. RAM Power : 10.2771635055542 W\n[codecarbon INFO @ 20:34:32] Energy consumed for all GPUs : 0.146542 kWh. Total GPU Power : 69.59985369869467 W\n[codecarbon INFO @ 20:34:32] Energy consumed for all CPUs : 0.094068 kWh. Total CPU Power : 42.5 W\n[codecarbon INFO @ 20:34:32] 0.263349 kWh of electricity used since the beginning.\n[codecarbon INFO @ 20:34:40] Energy consumed for RAM : 0.022559 kWh. RAM Power : 10.2771635055542 W\n[codecarbon INFO @ 20:34:40] Energy consumed for all GPUs : 0.146270 kWh. Total GPU Power : 69.61645556490986 W\n[codecarbon INFO @ 20:34:40] Energy consumed for all CPUs : 0.093322 kWh. Total CPU Power : 42.5 W\n[codecarbon INFO @ 20:34:40] 0.262151 kWh of electricity used since the beginning.\n[codecarbon INFO @ 20:34:47] Energy consumed for RAM : 0.022782 kWh. RAM Power : 10.2771635055542 W\n[codecarbon INFO @ 20:34:47] Energy consumed for all GPUs : 0.146832 kWh. Total GPU Power : 69.61062960501415 W\n[codecarbon INFO @ 20:34:47] Energy consumed for all CPUs : 0.094245 kWh. Total CPU Power : 42.5 W\n[codecarbon INFO @ 20:34:47] 0.263859 kWh of electricity used since the beginning.\n[codecarbon INFO @ 20:34:55] Energy consumed for RAM : 0.022602 kWh. RAM Power : 10.2771635055542 W\n[codecarbon INFO @ 20:34:55] Energy consumed for all GPUs : 0.146560 kWh. Total GPU Power : 69.61382277260498 W\n[codecarbon INFO @ 20:34:55] Energy consumed for all CPUs : 0.093499 kWh. Total CPU Power : 42.5 W\n[codecarbon INFO @ 20:34:55] 0.262661 kWh of electricity used since the beginning.\n[codecarbon INFO @ 20:35:02] Energy consumed for RAM : 0.022825 kWh. RAM Power : 10.2771635055542 W\n[codecarbon INFO @ 20:35:02] Energy consumed for all GPUs : 0.147122 kWh. Total GPU Power : 69.74366321227237 W\n[codecarbon INFO @ 20:35:02] Energy consumed for all CPUs : 0.094423 kWh. Total CPU Power : 42.5 W\n[codecarbon INFO @ 20:35:02] 0.264369 kWh of electricity used since the beginning.\n[codecarbon INFO @ 20:35:10] Energy consumed for RAM : 0.022645 kWh. RAM Power : 10.2771635055542 W\n[codecarbon INFO @ 20:35:10] Energy consumed for all GPUs : 0.146850 kWh. Total GPU Power : 69.68304570302509 W\n[codecarbon INFO @ 20:35:10] Energy consumed for all CPUs : 0.093676 kWh. Total CPU Power : 42.5 W\n[codecarbon INFO @ 20:35:10] 0.263171 kWh of electricity used since the beginning.\n[codecarbon INFO @ 20:35:17] Energy consumed for RAM : 0.022867 kWh. RAM Power : 10.2771635055542 W\n[codecarbon INFO @ 20:35:17] Energy consumed for all GPUs : 0.147412 kWh. Total GPU Power : 69.56628168282155 W\n[codecarbon INFO @ 20:35:17] Energy consumed for all CPUs : 0.094600 kWh. Total CPU Power : 42.5 W\n[codecarbon INFO @ 20:35:17] 0.264879 kWh of electricity used since the beginning.\n[codecarbon INFO @ 20:35:25] Energy consumed for RAM : 0.022687 kWh. RAM Power : 10.2771635055542 W\n[codecarbon INFO @ 20:35:25] Energy consumed for all GPUs : 0.147140 kWh. Total GPU Power : 69.57684609245652 W\n[codecarbon INFO @ 20:35:25] Energy consumed for all CPUs : 0.093853 kWh. Total CPU Power : 42.5 W\n[codecarbon INFO @ 20:35:25] 0.263681 kWh of electricity used since the beginning.\n[codecarbon INFO @ 20:35:32] Energy consumed for RAM : 0.022910 kWh. RAM Power : 10.2771635055542 W\n[codecarbon INFO @ 20:35:32] Energy consumed for all GPUs : 0.147702 kWh. Total GPU Power : 69.60617296323038 W\n[codecarbon INFO @ 20:35:32] Energy consumed for all CPUs : 0.094777 kWh. Total CPU Power : 42.5 W\n[codecarbon INFO @ 20:35:32] 0.265389 kWh of electricity used since the beginning.\n[codecarbon INFO @ 20:35:40] Energy consumed for RAM : 0.022730 kWh. RAM Power : 10.2771635055542 W\n[codecarbon INFO @ 20:35:40] Energy consumed for all GPUs : 0.147429 kWh. Total GPU Power : 69.56964490975943 W\n[codecarbon INFO @ 20:35:40] Energy consumed for all CPUs : 0.094031 kWh. Total CPU Power : 42.5 W\n[codecarbon INFO @ 20:35:40] 0.264190 kWh of electricity used since the beginning.\n[codecarbon INFO @ 20:35:47] Energy consumed for RAM : 0.022953 kWh. RAM Power : 10.2771635055542 W\n[codecarbon INFO @ 20:35:47] Energy consumed for all GPUs : 0.147992 kWh. Total GPU Power : 69.56805552314006 W\n[codecarbon INFO @ 20:35:47] Energy consumed for all CPUs : 0.094954 kWh. Total CPU Power : 42.5 W\n[codecarbon INFO @ 20:35:47] 0.265898 kWh of electricity used since the beginning.\n[codecarbon INFO @ 20:35:55] Energy consumed for RAM : 0.022773 kWh. RAM Power : 10.2771635055542 W\n[codecarbon INFO @ 20:35:55] Energy consumed for all GPUs : 0.147719 kWh. Total GPU Power : 69.59037367703478 W\n[codecarbon INFO @ 20:35:55] Energy consumed for all CPUs : 0.094208 kWh. Total CPU Power : 42.5 W\n[codecarbon INFO @ 20:35:55] 0.264700 kWh of electricity used since the beginning.\n[codecarbon INFO @ 20:36:02] Energy consumed for RAM : 0.022996 kWh. RAM Power : 10.2771635055542 W\n[codecarbon INFO @ 20:36:02] Energy consumed for all GPUs : 0.148281 kWh. Total GPU Power : 69.57615222446819 W\n[codecarbon INFO @ 20:36:02] Energy consumed for all CPUs : 0.095131 kWh. Total CPU Power : 42.5 W\n[codecarbon INFO @ 20:36:02] 0.266408 kWh of electricity used since the beginning.\n[codecarbon INFO @ 20:36:10] Energy consumed for RAM : 0.022816 kWh. RAM Power : 10.2771635055542 W\n[codecarbon INFO @ 20:36:10] Energy consumed for all GPUs : 0.148010 kWh. Total GPU Power : 69.66853389311451 W\n[codecarbon INFO @ 20:36:10] Energy consumed for all CPUs : 0.094385 kWh. Total CPU Power : 42.5 W\n[codecarbon INFO @ 20:36:10] 0.265210 kWh of electricity used since the beginning.\n[codecarbon INFO @ 20:36:17] Energy consumed for RAM : 0.023039 kWh. RAM Power : 10.2771635055542 W\n[codecarbon INFO @ 20:36:17] Energy consumed for all GPUs : 0.148572 kWh. Total GPU Power : 69.72787809394059 W\n[codecarbon INFO @ 20:36:17] Energy consumed for all CPUs : 0.095308 kWh. Total CPU Power : 42.5 W\n[codecarbon INFO @ 20:36:17] 0.266918 kWh of electricity used since the beginning.\n[codecarbon INFO @ 20:36:25] Energy consumed for RAM : 0.022859 kWh. RAM Power : 10.2771635055542 W\n[codecarbon INFO @ 20:36:25] Energy consumed for all GPUs : 0.148300 kWh. Total GPU Power : 69.62921100292036 W\n[codecarbon INFO @ 20:36:25] Energy consumed for all CPUs : 0.094562 kWh. Total CPU Power : 42.5 W\n[codecarbon INFO @ 20:36:25] 0.265720 kWh of electricity used since the beginning.\n[codecarbon INFO @ 20:36:32] Energy consumed for RAM : 0.023081 kWh. RAM Power : 10.2771635055542 W\n[codecarbon INFO @ 20:36:32] Energy consumed for all GPUs : 0.148862 kWh. Total GPU Power : 69.5975023699668 W\n[codecarbon INFO @ 20:36:32] Energy consumed for all CPUs : 0.095485 kWh. Total CPU Power : 42.5 W\n[codecarbon INFO @ 20:36:32] 0.267428 kWh of electricity used since the beginning.\n[codecarbon INFO @ 20:36:40] Energy consumed for RAM : 0.022901 kWh. RAM Power : 10.2771635055542 W\n[codecarbon INFO @ 20:36:40] Energy consumed for all GPUs : 0.148589 kWh. Total GPU Power : 69.57946710200261 W\n[codecarbon INFO @ 20:36:40] Energy consumed for all CPUs : 0.094739 kWh. Total CPU Power : 42.5 W\n[codecarbon INFO @ 20:36:40] 0.266230 kWh of electricity used since the beginning.\n[codecarbon INFO @ 20:36:47] Energy consumed for RAM : 0.023124 kWh. RAM Power : 10.2771635055542 W\n[codecarbon INFO @ 20:36:47] Energy consumed for all GPUs : 0.149152 kWh. Total GPU Power : 69.59869490798837 W\n[codecarbon INFO @ 20:36:47] Energy consumed for all CPUs : 0.095662 kWh. Total CPU Power : 42.5 W\n[codecarbon INFO @ 20:36:47] 0.267938 kWh of electricity used since the beginning.\n[codecarbon INFO @ 20:36:55] Energy consumed for RAM : 0.022944 kWh. RAM Power : 10.2771635055542 W\n[codecarbon INFO @ 20:36:55] Energy consumed for all GPUs : 0.148879 kWh. Total GPU Power : 69.56165807541424 W\n[codecarbon INFO @ 20:36:55] Energy consumed for all CPUs : 0.094916 kWh. Total CPU Power : 42.5 W\n[codecarbon INFO @ 20:36:55] 0.266739 kWh of electricity used since the beginning.\n[codecarbon INFO @ 20:37:02] Energy consumed for RAM : 0.023167 kWh. RAM Power : 10.2771635055542 W\n[codecarbon INFO @ 20:37:02] Energy consumed for all GPUs : 0.149425 kWh. Total GPU Power : 65.58075476842144 W\n[codecarbon INFO @ 20:37:02] Energy consumed for all CPUs : 0.095839 kWh. Total CPU Power : 42.5 W\n[codecarbon INFO @ 20:37:02] 0.268431 kWh of electricity used since the beginning.\n[codecarbon INFO @ 20:37:10] Energy consumed for RAM : 0.022987 kWh. RAM Power : 10.2771635055542 W\n[codecarbon INFO @ 20:37:10] Energy consumed for all GPUs : 0.149064 kWh. Total GPU Power : 44.32039034591788 W\n[codecarbon INFO @ 20:37:10] Energy consumed for all CPUs : 0.095093 kWh. Total CPU Power : 42.5 W\n[codecarbon INFO @ 20:37:10] 0.267144 kWh of electricity used since the beginning.\n[codecarbon INFO @ 20:37:17] Energy consumed for RAM : 0.023210 kWh. RAM Power : 10.2771635055542 W\n[codecarbon INFO @ 20:37:17] Energy consumed for all GPUs : 0.149546 kWh. Total GPU Power : 29.071898036204395 W\n[codecarbon INFO @ 20:37:17] Energy consumed for all CPUs : 0.096016 kWh. Total CPU Power : 42.5 W\n[codecarbon INFO @ 20:37:17] 0.268772 kWh of electricity used since the beginning.\n[codecarbon INFO @ 20:37:25] Energy consumed for RAM : 0.023030 kWh. RAM Power : 10.2771635055542 W\n[codecarbon INFO @ 20:37:25] Energy consumed for all GPUs : 0.149183 kWh. Total GPU Power : 28.524383063541457 W\n[codecarbon INFO @ 20:37:25] Energy consumed for all CPUs : 0.095270 kWh. Total CPU Power : 42.5 W\n[codecarbon INFO @ 20:37:25] 0.267483 kWh of electricity used since the beginning.\n[codecarbon INFO @ 20:37:32] Energy consumed for RAM : 0.023253 kWh. RAM Power : 10.2771635055542 W\n[codecarbon INFO @ 20:37:32] Energy consumed for all GPUs : 0.149664 kWh. Total GPU Power : 28.285028402907567 W\n[codecarbon INFO @ 20:37:32] Energy consumed for all CPUs : 0.096193 kWh. Total CPU Power : 42.5 W\n[codecarbon INFO @ 20:37:32] 0.269109 kWh of electricity used since the beginning.\n[codecarbon INFO @ 20:37:40] Energy consumed for RAM : 0.023073 kWh. RAM Power : 10.2771635055542 W\n[codecarbon INFO @ 20:37:40] Energy consumed for all GPUs : 0.149300 kWh. Total GPU Power : 28.065916164592988 W\n[codecarbon INFO @ 20:37:40] Energy consumed for all CPUs : 0.095447 kWh. Total CPU Power : 42.5 W\n[codecarbon INFO @ 20:37:40] 0.267819 kWh of electricity used since the beginning.\n[codecarbon INFO @ 20:37:47] Energy consumed for RAM : 0.023295 kWh. RAM Power : 10.2771635055542 W\n[codecarbon INFO @ 20:37:47] Energy consumed for all GPUs : 0.149780 kWh. Total GPU Power : 27.897374933216085 W\n[codecarbon INFO @ 20:37:47] Energy consumed for all CPUs : 0.096370 kWh. Total CPU Power : 42.5 W\n[codecarbon INFO @ 20:37:47] 0.269446 kWh of electricity used since the beginning.\n[codecarbon INFO @ 20:37:55] Energy consumed for RAM : 0.023116 kWh. RAM Power : 10.2771635055542 W\n[codecarbon INFO @ 20:37:55] Energy consumed for all GPUs : 0.149416 kWh. Total GPU Power : 27.960934990177215 W\n[codecarbon INFO @ 20:37:55] Energy consumed for all CPUs : 0.095624 kWh. Total CPU Power : 42.5 W\n[codecarbon INFO @ 20:37:55] 0.268156 kWh of electricity used since the beginning.\n[codecarbon INFO @ 20:38:02] Energy consumed for RAM : 0.023338 kWh. RAM Power : 10.2771635055542 W\n[codecarbon INFO @ 20:38:02] Energy consumed for all GPUs : 0.149896 kWh. Total GPU Power : 27.890833630243208 W\n[codecarbon INFO @ 20:38:02] Energy consumed for all CPUs : 0.096547 kWh. Total CPU Power : 42.5 W\n[codecarbon INFO @ 20:38:02] 0.269782 kWh of electricity used since the beginning.\n[codecarbon INFO @ 20:38:10] Energy consumed for RAM : 0.023158 kWh. RAM Power : 10.2771635055542 W\n[codecarbon INFO @ 20:38:10] Energy consumed for all GPUs : 0.149531 kWh. Total GPU Power : 27.599679358101252 W\n[codecarbon INFO @ 20:38:10] Energy consumed for all CPUs : 0.095801 kWh. Total CPU Power : 42.5 W\n[codecarbon INFO @ 20:38:10] 0.268491 kWh of electricity used since the beginning.\n[codecarbon INFO @ 20:38:17] Energy consumed for RAM : 0.023381 kWh. RAM Power : 10.2771635055542 W\n[codecarbon INFO @ 20:38:17] Energy consumed for all GPUs : 0.150010 kWh. Total GPU Power : 27.49319727450727 W\n[codecarbon INFO @ 20:38:17] Energy consumed for all CPUs : 0.096725 kWh. Total CPU Power : 42.5 W\n[codecarbon INFO @ 20:38:17] 0.270116 kWh of electricity used since the beginning.\n[codecarbon INFO @ 20:38:25] Energy consumed for RAM : 0.023201 kWh. RAM Power : 10.2771635055542 W\n[codecarbon INFO @ 20:38:25] Energy consumed for all GPUs : 0.149646 kWh. Total GPU Power : 27.573890071895107 W\n[codecarbon INFO @ 20:38:25] Energy consumed for all CPUs : 0.095978 kWh. Total CPU Power : 42.5 W\n[codecarbon INFO @ 20:38:25] 0.268825 kWh of electricity used since the beginning.\n[codecarbon INFO @ 20:38:32] Energy consumed for RAM : 0.023424 kWh. RAM Power : 10.2771635055542 W\n[codecarbon INFO @ 20:38:32] Energy consumed for all GPUs : 0.150124 kWh. Total GPU Power : 27.308695286918773 W\n[codecarbon INFO @ 20:38:32] Energy consumed for all CPUs : 0.096902 kWh. Total CPU Power : 42.5 W\n[codecarbon INFO @ 20:38:32] 0.270450 kWh of electricity used since the beginning.\n[codecarbon INFO @ 20:38:40] Energy consumed for RAM : 0.023244 kWh. RAM Power : 10.2771635055542 W\n[codecarbon INFO @ 20:38:40] Energy consumed for all GPUs : 0.149759 kWh. Total GPU Power : 27.21389611561095 W\n[codecarbon INFO @ 20:38:40] Energy consumed for all CPUs : 0.096155 kWh. Total CPU Power : 42.5 W\n[codecarbon INFO @ 20:38:40] 0.269159 kWh of electricity used since the beginning.\n[codecarbon INFO @ 20:38:47] Energy consumed for RAM : 0.023467 kWh. RAM Power : 10.2771635055542 W\n[codecarbon INFO @ 20:38:47] Energy consumed for all GPUs : 0.150238 kWh. Total GPU Power : 27.32499505082532 W\n[codecarbon INFO @ 20:38:47] Energy consumed for all CPUs : 0.097079 kWh. Total CPU Power : 42.5 W\n[codecarbon INFO @ 20:38:47] 0.270783 kWh of electricity used since the beginning.\n[codecarbon INFO @ 20:38:55] Energy consumed for RAM : 0.023287 kWh. RAM Power : 10.2771635055542 W\n[codecarbon INFO @ 20:38:55] Energy consumed for all GPUs : 0.149872 kWh. Total GPU Power : 27.064623990796353 W\n[codecarbon INFO @ 20:38:55] Energy consumed for all CPUs : 0.096333 kWh. Total CPU Power : 42.5 W\n[codecarbon INFO @ 20:38:55] 0.269491 kWh of electricity used since the beginning.\n[codecarbon INFO @ 20:39:02] Energy consumed for RAM : 0.023510 kWh. RAM Power : 10.2771635055542 W\n[codecarbon INFO @ 20:39:02] Energy consumed for all GPUs : 0.150358 kWh. Total GPU Power : 28.750244829431487 W\n[codecarbon INFO @ 20:39:02] Energy consumed for all CPUs : 0.097256 kWh. Total CPU Power : 42.5 W\n[codecarbon INFO @ 20:39:02] 0.271123 kWh of electricity used since the beginning.\n[codecarbon INFO @ 20:39:10] Energy consumed for RAM : 0.023330 kWh. RAM Power : 10.2771635055542 W\n[codecarbon INFO @ 20:39:10] Energy consumed for all GPUs : 0.150086 kWh. Total GPU Power : 51.302427323145324 W\n[codecarbon INFO @ 20:39:10] Energy consumed for all CPUs : 0.096510 kWh. Total CPU Power : 42.5 W\n[codecarbon INFO @ 20:39:10] 0.269925 kWh of electricity used since the beginning.\n[codecarbon INFO @ 20:39:17] Energy consumed for RAM : 0.023552 kWh. RAM Power : 10.2771635055542 W\n[codecarbon INFO @ 20:39:17] Energy consumed for all GPUs : 0.150648 kWh. Total GPU Power : 69.63440319201126 W\n[codecarbon INFO @ 20:39:17] Energy consumed for all CPUs : 0.097433 kWh. Total CPU Power : 42.5 W\n[codecarbon INFO @ 20:39:17] 0.271633 kWh of electricity used since the beginning.\n[codecarbon INFO @ 20:39:25] Energy consumed for RAM : 0.023372 kWh. RAM Power : 10.2771635055542 W\n[codecarbon INFO @ 20:39:25] Energy consumed for all GPUs : 0.150376 kWh. Total GPU Power : 69.63681678113784 W\n[codecarbon INFO @ 20:39:25] Energy consumed for all CPUs : 0.096687 kWh. Total CPU Power : 42.5 W\n[codecarbon INFO @ 20:39:25] 0.270435 kWh of electricity used since the beginning.\n[codecarbon INFO @ 20:39:32] Energy consumed for RAM : 0.023595 kWh. RAM Power : 10.2771635055542 W\n[codecarbon INFO @ 20:39:32] Energy consumed for all GPUs : 0.150938 kWh. Total GPU Power : 69.67798914494047 W\n[codecarbon INFO @ 20:39:32] Energy consumed for all CPUs : 0.097610 kWh. Total CPU Power : 42.5 W\n[codecarbon INFO @ 20:39:32] 0.272143 kWh of electricity used since the beginning.\n/anaconda/envs/azureml_py38/lib/python3.8/site-packages/sklearn/metrics/_classification.py:1272: UndefinedMetricWarning: Precision is ill-defined and being set to 0.0 in samples with no predicted labels. Use `zero_division` parameter to control this behavior.\n  _warn_prf(average, modifier, msg_start, len(result))\n/anaconda/envs/azureml_py38/lib/python3.8/site-packages/sklearn/metrics/_classification.py:1272: UndefinedMetricWarning: Recall is ill-defined and being set to 0.0 in samples with no true labels. Use `zero_division` parameter to control this behavior.\n  _warn_prf(average, modifier, msg_start, len(result))\n/anaconda/envs/azureml_py38/lib/python3.8/site-packages/sklearn/metrics/_classification.py:1514: UndefinedMetricWarning: F-score is ill-defined and being set to 0.0 in samples with no true nor predicted labels. Use `zero_division` parameter to control this behavior.\n  _warn_prf(\n[codecarbon INFO @ 20:39:40] Energy consumed for RAM : 0.023415 kWh. RAM Power : 10.2771635055542 W\n[codecarbon INFO @ 20:39:40] Energy consumed for all GPUs : 0.150594 kWh. Total GPU Power : 52.42381688909847 W\n[codecarbon INFO @ 20:39:40] Energy consumed for all CPUs : 0.096864 kWh. Total CPU Power : 42.5 W\n[codecarbon INFO @ 20:39:40] 0.270873 kWh of electricity used since the beginning.\n[codecarbon INFO @ 20:39:47] Energy consumed for RAM : 0.023638 kWh. RAM Power : 10.2771635055542 W\n[codecarbon INFO @ 20:39:47] Energy consumed for all GPUs : 0.151140 kWh. Total GPU Power : 48.40570266194381 W\n[codecarbon INFO @ 20:39:47] Energy consumed for all CPUs : 0.097787 kWh. Total CPU Power : 42.5 W\n[codecarbon INFO @ 20:39:47] 0.272565 kWh of electricity used since the beginning.\n[codecarbon INFO @ 20:39:55] Energy consumed for RAM : 0.023458 kWh. RAM Power : 10.2771635055542 W\n[codecarbon INFO @ 20:39:55] Energy consumed for all GPUs : 0.150868 kWh. Total GPU Power : 65.66554050680861 W\n[codecarbon INFO @ 20:39:55] Energy consumed for all CPUs : 0.097041 kWh. Total CPU Power : 42.5 W\n[codecarbon INFO @ 20:39:55] 0.271367 kWh of electricity used since the beginning.\n[codecarbon INFO @ 20:40:02] Energy consumed for RAM : 0.023681 kWh. RAM Power : 10.2771635055542 W\n[codecarbon INFO @ 20:40:02] Energy consumed for all GPUs : 0.151430 kWh. Total GPU Power : 69.58959594432422 W\n[codecarbon INFO @ 20:40:02] Energy consumed for all CPUs : 0.097964 kWh. Total CPU Power : 42.5 W\n[codecarbon INFO @ 20:40:02] 0.273075 kWh of electricity used since the beginning.\n[codecarbon INFO @ 20:40:10] Energy consumed for RAM : 0.023501 kWh. RAM Power : 10.2771635055542 W\n[codecarbon INFO @ 20:40:10] Energy consumed for all GPUs : 0.151157 kWh. Total GPU Power : 69.58805074215445 W\n[codecarbon INFO @ 20:40:10] Energy consumed for all CPUs : 0.097218 kWh. Total CPU Power : 42.5 W\n[codecarbon INFO @ 20:40:10] 0.271876 kWh of electricity used since the beginning.\n[codecarbon INFO @ 20:40:17] Energy consumed for RAM : 0.023724 kWh. RAM Power : 10.2771635055542 W\n[codecarbon INFO @ 20:40:17] Energy consumed for all GPUs : 0.151720 kWh. Total GPU Power : 69.58693084105376 W\n[codecarbon INFO @ 20:40:17] Energy consumed for all CPUs : 0.098141 kWh. Total CPU Power : 42.5 W\n[codecarbon INFO @ 20:40:17] 0.273584 kWh of electricity used since the beginning.\n[codecarbon INFO @ 20:40:25] Energy consumed for RAM : 0.023544 kWh. RAM Power : 10.2771635055542 W\n[codecarbon INFO @ 20:40:25] Energy consumed for all GPUs : 0.151447 kWh. Total GPU Power : 69.60420447245026 W\n[codecarbon INFO @ 20:40:25] Energy consumed for all CPUs : 0.097395 kWh. Total CPU Power : 42.5 W\n[codecarbon INFO @ 20:40:25] 0.272386 kWh of electricity used since the beginning.\n[codecarbon INFO @ 20:40:32] Energy consumed for RAM : 0.023766 kWh. RAM Power : 10.2771635055542 W\n[codecarbon INFO @ 20:40:32] Energy consumed for all GPUs : 0.152009 kWh. Total GPU Power : 69.57344878488927 W\n[codecarbon INFO @ 20:40:32] Energy consumed for all CPUs : 0.098318 kWh. Total CPU Power : 42.5 W\n[codecarbon INFO @ 20:40:32] 0.274094 kWh of electricity used since the beginning.\n[codecarbon INFO @ 20:40:40] Energy consumed for RAM : 0.023586 kWh. RAM Power : 10.2771635055542 W\n[codecarbon INFO @ 20:40:40] Energy consumed for all GPUs : 0.151737 kWh. Total GPU Power : 69.57281630782605 W\n[codecarbon INFO @ 20:40:40] Energy consumed for all CPUs : 0.097572 kWh. Total CPU Power : 42.5 W\n[codecarbon INFO @ 20:40:40] 0.272896 kWh of electricity used since the beginning.\n[codecarbon INFO @ 20:40:47] Energy consumed for RAM : 0.023809 kWh. RAM Power : 10.2771635055542 W\n[codecarbon INFO @ 20:40:47] Energy consumed for all GPUs : 0.152300 kWh. Total GPU Power : 69.7470621555622 W\n[codecarbon INFO @ 20:40:47] Energy consumed for all CPUs : 0.098495 kWh. Total CPU Power : 42.5 W\n[codecarbon INFO @ 20:40:47] 0.274604 kWh of electricity used since the beginning.\n[codecarbon INFO @ 20:40:55] Energy consumed for RAM : 0.023629 kWh. RAM Power : 10.2771635055542 W\n[codecarbon INFO @ 20:40:55] Energy consumed for all GPUs : 0.152026 kWh. Total GPU Power : 69.28225887707478 W\n[codecarbon INFO @ 20:40:55] Energy consumed for all CPUs : 0.097749 kWh. Total CPU Power : 42.5 W\n[codecarbon INFO @ 20:40:55] 0.273404 kWh of electricity used since the beginning.\n[codecarbon INFO @ 20:41:02] Energy consumed for RAM : 0.023852 kWh. RAM Power : 10.2771635055542 W\n[codecarbon INFO @ 20:41:02] Energy consumed for all GPUs : 0.152590 kWh. Total GPU Power : 69.58812199302608 W\n[codecarbon INFO @ 20:41:02] Energy consumed for all CPUs : 0.098672 kWh. Total CPU Power : 42.5 W\n[codecarbon INFO @ 20:41:02] 0.275114 kWh of electricity used since the beginning.\n[codecarbon INFO @ 20:41:10] Energy consumed for RAM : 0.023672 kWh. RAM Power : 10.2771635055542 W\n[codecarbon INFO @ 20:41:10] Energy consumed for all GPUs : 0.152316 kWh. Total GPU Power : 69.59435130204987 W\n[codecarbon INFO @ 20:41:10] Energy consumed for all CPUs : 0.097926 kWh. Total CPU Power : 42.5 W\n[codecarbon INFO @ 20:41:10] 0.273914 kWh of electricity used since the beginning.\n[codecarbon INFO @ 20:41:17] Energy consumed for RAM : 0.023895 kWh. RAM Power : 10.2771635055542 W\n[codecarbon INFO @ 20:41:17] Energy consumed for all GPUs : 0.152880 kWh. Total GPU Power : 69.63935805345604 W\n[codecarbon INFO @ 20:41:17] Energy consumed for all CPUs : 0.098849 kWh. Total CPU Power : 42.5 W\n[codecarbon INFO @ 20:41:17] 0.275624 kWh of electricity used since the beginning.\n[codecarbon INFO @ 20:41:25] Energy consumed for RAM : 0.023715 kWh. RAM Power : 10.2771635055542 W\n[codecarbon INFO @ 20:41:25] Energy consumed for all GPUs : 0.152608 kWh. Total GPU Power : 70.06306309531077 W\n[codecarbon INFO @ 20:41:25] Energy consumed for all CPUs : 0.098103 kWh. Total CPU Power : 42.5 W\n[codecarbon INFO @ 20:41:25] 0.274426 kWh of electricity used since the beginning.\n[codecarbon INFO @ 20:41:32] Energy consumed for RAM : 0.023938 kWh. RAM Power : 10.2771635055542 W\n[codecarbon INFO @ 20:41:32] Energy consumed for all GPUs : 0.153170 kWh. Total GPU Power : 69.67017943571663 W\n[codecarbon INFO @ 20:41:32] Energy consumed for all CPUs : 0.099027 kWh. Total CPU Power : 42.5 W\n[codecarbon INFO @ 20:41:32] 0.276134 kWh of electricity used since the beginning.\n[codecarbon INFO @ 20:41:40] Energy consumed for RAM : 0.023758 kWh. RAM Power : 10.2771635055542 W\n[codecarbon INFO @ 20:41:40] Energy consumed for all GPUs : 0.152898 kWh. Total GPU Power : 69.65413681642914 W\n[codecarbon INFO @ 20:41:40] Energy consumed for all CPUs : 0.098280 kWh. Total CPU Power : 42.5 W\n[codecarbon INFO @ 20:41:40] 0.274936 kWh of electricity used since the beginning.\n[codecarbon INFO @ 20:41:47] Energy consumed for RAM : 0.023980 kWh. RAM Power : 10.2771635055542 W\n[codecarbon INFO @ 20:41:47] Energy consumed for all GPUs : 0.153460 kWh. Total GPU Power : 69.6053238049837 W\n[codecarbon INFO @ 20:41:47] Energy consumed for all CPUs : 0.099204 kWh. Total CPU Power : 42.5 W\n[codecarbon INFO @ 20:41:47] 0.276644 kWh of electricity used since the beginning.\n[codecarbon INFO @ 20:41:55] Energy consumed for RAM : 0.023800 kWh. RAM Power : 10.2771635055542 W\n[codecarbon INFO @ 20:41:55] Energy consumed for all GPUs : 0.153186 kWh. Total GPU Power : 69.09005529886878 W\n[codecarbon INFO @ 20:41:55] Energy consumed for all CPUs : 0.098457 kWh. Total CPU Power : 42.5 W\n[codecarbon INFO @ 20:41:55] 0.275443 kWh of electricity used since the beginning.\n[codecarbon INFO @ 20:42:02] Energy consumed for RAM : 0.024023 kWh. RAM Power : 10.2771635055542 W\n[codecarbon INFO @ 20:42:02] Energy consumed for all GPUs : 0.153750 kWh. Total GPU Power : 69.63808814708197 W\n[codecarbon INFO @ 20:42:02] Energy consumed for all CPUs : 0.099381 kWh. Total CPU Power : 42.5 W\n[codecarbon INFO @ 20:42:02] 0.277154 kWh of electricity used since the beginning.\n[codecarbon INFO @ 20:42:10] Energy consumed for RAM : 0.023843 kWh. RAM Power : 10.2771635055542 W\n[codecarbon INFO @ 20:42:10] Energy consumed for all GPUs : 0.153476 kWh. Total GPU Power : 69.61959099143245 W\n[codecarbon INFO @ 20:42:10] Energy consumed for all CPUs : 0.098635 kWh. Total CPU Power : 42.5 W\n[codecarbon INFO @ 20:42:10] 0.275953 kWh of electricity used since the beginning.\n[codecarbon INFO @ 20:42:17] Energy consumed for RAM : 0.024066 kWh. RAM Power : 10.2771635055542 W\n[codecarbon INFO @ 20:42:17] Energy consumed for all GPUs : 0.154040 kWh. Total GPU Power : 69.5861623906088 W\n[codecarbon INFO @ 20:42:17] Energy consumed for all CPUs : 0.099558 kWh. Total CPU Power : 42.5 W\n[codecarbon INFO @ 20:42:17] 0.277663 kWh of electricity used since the beginning.\n[codecarbon INFO @ 20:42:25] Energy consumed for RAM : 0.023886 kWh. RAM Power : 10.2771635055542 W\n[codecarbon INFO @ 20:42:25] Energy consumed for all GPUs : 0.153765 kWh. Total GPU Power : 69.52211203640857 W\n[codecarbon INFO @ 20:42:25] Energy consumed for all CPUs : 0.098812 kWh. Total CPU Power : 42.5 W\n[codecarbon INFO @ 20:42:25] 0.276463 kWh of electricity used since the beginning.\n[codecarbon INFO @ 20:42:32] Energy consumed for RAM : 0.024109 kWh. RAM Power : 10.2771635055542 W\n[codecarbon INFO @ 20:42:32] Energy consumed for all GPUs : 0.154330 kWh. Total GPU Power : 69.61767789844178 W\n[codecarbon INFO @ 20:42:32] Energy consumed for all CPUs : 0.099735 kWh. Total CPU Power : 42.5 W\n[codecarbon INFO @ 20:42:32] 0.278173 kWh of electricity used since the beginning.\n[codecarbon INFO @ 20:42:40] Energy consumed for RAM : 0.023929 kWh. RAM Power : 10.2771635055542 W\n[codecarbon INFO @ 20:42:40] Energy consumed for all GPUs : 0.154057 kWh. Total GPU Power : 70.09802910776754 W\n[codecarbon INFO @ 20:42:40] Energy consumed for all CPUs : 0.098989 kWh. Total CPU Power : 42.5 W\n[codecarbon INFO @ 20:42:40] 0.276975 kWh of electricity used since the beginning.\n[codecarbon INFO @ 20:42:47] Energy consumed for RAM : 0.024152 kWh. RAM Power : 10.2771635055542 W\n[codecarbon INFO @ 20:42:47] Energy consumed for all GPUs : 0.154619 kWh. Total GPU Power : 69.5589750998771 W\n[codecarbon INFO @ 20:42:47] Energy consumed for all CPUs : 0.099912 kWh. Total CPU Power : 42.5 W\n[codecarbon INFO @ 20:42:47] 0.278683 kWh of electricity used since the beginning.\n[codecarbon INFO @ 20:42:55] Energy consumed for RAM : 0.023972 kWh. RAM Power : 10.2771635055542 W\n[codecarbon INFO @ 20:42:55] Energy consumed for all GPUs : 0.154345 kWh. Total GPU Power : 69.17444795118112 W\n[codecarbon INFO @ 20:42:55] Energy consumed for all CPUs : 0.099166 kWh. Total CPU Power : 42.5 W\n[codecarbon INFO @ 20:42:55] 0.277483 kWh of electricity used since the beginning.\n[codecarbon INFO @ 20:43:02] Energy consumed for RAM : 0.024194 kWh. RAM Power : 10.2771635055542 W\n[codecarbon INFO @ 20:43:02] Energy consumed for all GPUs : 0.154910 kWh. Total GPU Power : 69.68148645054667 W\n[codecarbon INFO @ 20:43:02] Energy consumed for all CPUs : 0.100089 kWh. Total CPU Power : 42.5 W\n[codecarbon INFO @ 20:43:02] 0.279193 kWh of electricity used since the beginning.\n[codecarbon INFO @ 20:43:10] Energy consumed for RAM : 0.024014 kWh. RAM Power : 10.2771635055542 W\n[codecarbon INFO @ 20:43:10] Energy consumed for all GPUs : 0.154635 kWh. Total GPU Power : 69.64979896272298 W\n[codecarbon INFO @ 20:43:10] Energy consumed for all CPUs : 0.099343 kWh. Total CPU Power : 42.5 W\n[codecarbon INFO @ 20:43:10] 0.277993 kWh of electricity used since the beginning.\n[codecarbon INFO @ 20:43:17] Energy consumed for RAM : 0.024237 kWh. RAM Power : 10.2771635055542 W\n[codecarbon INFO @ 20:43:17] Energy consumed for all GPUs : 0.155200 kWh. Total GPU Power : 69.66024693993674 W\n[codecarbon INFO @ 20:43:17] Energy consumed for all CPUs : 0.100266 kWh. Total CPU Power : 42.5 W\n[codecarbon INFO @ 20:43:17] 0.279703 kWh of electricity used since the beginning.\n[codecarbon INFO @ 20:43:25] Energy consumed for RAM : 0.024057 kWh. RAM Power : 10.2771635055542 W\n[codecarbon INFO @ 20:43:25] Energy consumed for all GPUs : 0.154925 kWh. Total GPU Power : 69.6121895537403 W\n[codecarbon INFO @ 20:43:25] Energy consumed for all CPUs : 0.099520 kWh. Total CPU Power : 42.5 W\n[codecarbon INFO @ 20:43:25] 0.278503 kWh of electricity used since the beginning.\n[codecarbon INFO @ 20:43:32] Energy consumed for RAM : 0.024280 kWh. RAM Power : 10.2771635055542 W\n[codecarbon INFO @ 20:43:32] Energy consumed for all GPUs : 0.155490 kWh. Total GPU Power : 69.58880398533417 W\n[codecarbon INFO @ 20:43:32] Energy consumed for all CPUs : 0.100443 kWh. Total CPU Power : 42.5 W\n[codecarbon INFO @ 20:43:32] 0.280213 kWh of electricity used since the beginning.\n[codecarbon INFO @ 20:43:40] Energy consumed for RAM : 0.024100 kWh. RAM Power : 10.2771635055542 W\n[codecarbon INFO @ 20:43:40] Energy consumed for all GPUs : 0.155215 kWh. Total GPU Power : 69.6509113768639 W\n[codecarbon INFO @ 20:43:40] Energy consumed for all CPUs : 0.099697 kWh. Total CPU Power : 42.5 W\n[codecarbon INFO @ 20:43:40] 0.279013 kWh of electricity used since the beginning.\n[codecarbon INFO @ 20:43:47] Energy consumed for RAM : 0.024323 kWh. RAM Power : 10.2771635055542 W\n[codecarbon INFO @ 20:43:47] Energy consumed for all GPUs : 0.155780 kWh. Total GPU Power : 69.6478969353876 W\n[codecarbon INFO @ 20:43:47] Energy consumed for all CPUs : 0.100620 kWh. Total CPU Power : 42.5 W\n[codecarbon INFO @ 20:43:47] 0.280723 kWh of electricity used since the beginning.\n[codecarbon INFO @ 20:43:55] Energy consumed for RAM : 0.024143 kWh. RAM Power : 10.2771635055542 W\n[codecarbon INFO @ 20:43:55] Energy consumed for all GPUs : 0.155505 kWh. Total GPU Power : 69.61483063804492 W\n[codecarbon INFO @ 20:43:55] Energy consumed for all CPUs : 0.099874 kWh. Total CPU Power : 42.5 W\n[codecarbon INFO @ 20:43:55] 0.279522 kWh of electricity used since the beginning.\n[codecarbon INFO @ 20:44:02] Energy consumed for RAM : 0.024366 kWh. RAM Power : 10.2771635055542 W\n[codecarbon INFO @ 20:44:02] Energy consumed for all GPUs : 0.156069 kWh. Total GPU Power : 69.56904892631655 W\n[codecarbon INFO @ 20:44:02] Energy consumed for all CPUs : 0.100797 kWh. Total CPU Power : 42.5 W\n[codecarbon INFO @ 20:44:02] 0.281232 kWh of electricity used since the beginning.\n[codecarbon INFO @ 20:44:10] Energy consumed for RAM : 0.024186 kWh. RAM Power : 10.2771635055542 W\n[codecarbon INFO @ 20:44:10] Energy consumed for all GPUs : 0.155795 kWh. Total GPU Power : 69.60286514005519 W\n[codecarbon INFO @ 20:44:10] Energy consumed for all CPUs : 0.100051 kWh. Total CPU Power : 42.5 W\n[codecarbon INFO @ 20:44:10] 0.280032 kWh of electricity used since the beginning.\n[codecarbon INFO @ 20:44:17] Energy consumed for RAM : 0.024408 kWh. RAM Power : 10.2771635055542 W\n[codecarbon INFO @ 20:44:17] Energy consumed for all GPUs : 0.156359 kWh. Total GPU Power : 69.55752954442525 W\n[codecarbon INFO @ 20:44:17] Energy consumed for all CPUs : 0.100974 kWh. Total CPU Power : 42.5 W\n[codecarbon INFO @ 20:44:17] 0.281742 kWh of electricity used since the beginning.\n[codecarbon INFO @ 20:44:25] Energy consumed for RAM : 0.024228 kWh. RAM Power : 10.2771635055542 W\n[codecarbon INFO @ 20:44:25] Energy consumed for all GPUs : 0.156085 kWh. Total GPU Power : 69.61715000364029 W\n[codecarbon INFO @ 20:44:25] Energy consumed for all CPUs : 0.100228 kWh. Total CPU Power : 42.5 W\n[codecarbon INFO @ 20:44:25] 0.280542 kWh of electricity used since the beginning.\n[codecarbon INFO @ 20:44:32] Energy consumed for RAM : 0.024451 kWh. RAM Power : 10.2771635055542 W\n[codecarbon INFO @ 20:44:32] Energy consumed for all GPUs : 0.156649 kWh. Total GPU Power : 69.58509777818179 W\n[codecarbon INFO @ 20:44:32] Energy consumed for all CPUs : 0.101151 kWh. Total CPU Power : 42.5 W\n[codecarbon INFO @ 20:44:32] 0.282252 kWh of electricity used since the beginning.\n[codecarbon INFO @ 20:44:40] Energy consumed for RAM : 0.024271 kWh. RAM Power : 10.2771635055542 W\n[codecarbon INFO @ 20:44:40] Energy consumed for all GPUs : 0.156375 kWh. Total GPU Power : 69.52845317536477 W\n[codecarbon INFO @ 20:44:40] Energy consumed for all CPUs : 0.100405 kWh. Total CPU Power : 42.5 W\n[codecarbon INFO @ 20:44:40] 0.281051 kWh of electricity used since the beginning.\n[codecarbon INFO @ 20:44:47] Energy consumed for RAM : 0.024494 kWh. RAM Power : 10.2771635055542 W\n[codecarbon INFO @ 20:44:47] Energy consumed for all GPUs : 0.156939 kWh. Total GPU Power : 69.55517874389194 W\n[codecarbon INFO @ 20:44:47] Energy consumed for all CPUs : 0.101328 kWh. Total CPU Power : 42.5 W\n[codecarbon INFO @ 20:44:47] 0.282761 kWh of electricity used since the beginning.\n[codecarbon INFO @ 20:44:55] Energy consumed for RAM : 0.024314 kWh. RAM Power : 10.2771635055542 W\n[codecarbon INFO @ 20:44:55] Energy consumed for all GPUs : 0.156664 kWh. Total GPU Power : 69.53630650598303 W\n[codecarbon INFO @ 20:44:55] Energy consumed for all CPUs : 0.100582 kWh. Total CPU Power : 42.5 W\n[codecarbon INFO @ 20:44:55] 0.281561 kWh of electricity used since the beginning.\n[codecarbon INFO @ 20:45:02] Energy consumed for RAM : 0.024537 kWh. RAM Power : 10.2771635055542 W\n[codecarbon INFO @ 20:45:02] Energy consumed for all GPUs : 0.157229 kWh. Total GPU Power : 69.58176413984656 W\n[codecarbon INFO @ 20:45:02] Energy consumed for all CPUs : 0.101506 kWh. Total CPU Power : 42.5 W\n[codecarbon INFO @ 20:45:02] 0.283271 kWh of electricity used since the beginning.\n[codecarbon INFO @ 20:45:10] Energy consumed for RAM : 0.024357 kWh. RAM Power : 10.2771635055542 W\n[codecarbon INFO @ 20:45:10] Energy consumed for all GPUs : 0.156954 kWh. Total GPU Power : 69.62518849771378 W\n[codecarbon INFO @ 20:45:10] Energy consumed for all CPUs : 0.100759 kWh. Total CPU Power : 42.5 W\n[codecarbon INFO @ 20:45:10] 0.282071 kWh of electricity used since the beginning.\n[codecarbon INFO @ 20:45:17] Energy consumed for RAM : 0.024580 kWh. RAM Power : 10.2771635055542 W\n[codecarbon INFO @ 20:45:17] Energy consumed for all GPUs : 0.157519 kWh. Total GPU Power : 69.66999623122675 W\n[codecarbon INFO @ 20:45:17] Energy consumed for all CPUs : 0.101683 kWh. Total CPU Power : 42.5 W\n[codecarbon INFO @ 20:45:17] 0.283781 kWh of electricity used since the beginning.\n[codecarbon INFO @ 20:45:25] Energy consumed for RAM : 0.024400 kWh. RAM Power : 10.2771635055542 W\n[codecarbon INFO @ 20:45:25] Energy consumed for all GPUs : 0.157244 kWh. Total GPU Power : 69.67914278439629 W\n[codecarbon INFO @ 20:45:25] Energy consumed for all CPUs : 0.100936 kWh. Total CPU Power : 42.5 W\n[codecarbon INFO @ 20:45:25] 0.282581 kWh of electricity used since the beginning.\n[codecarbon INFO @ 20:45:32] Energy consumed for RAM : 0.024622 kWh. RAM Power : 10.2771635055542 W\n[codecarbon INFO @ 20:45:32] Energy consumed for all GPUs : 0.157807 kWh. Total GPU Power : 69.08661158908708 W\n[codecarbon INFO @ 20:45:32] Energy consumed for all CPUs : 0.101860 kWh. Total CPU Power : 42.5 W\n[codecarbon INFO @ 20:45:32] 0.284289 kWh of electricity used since the beginning.\n[codecarbon INFO @ 20:45:40] Energy consumed for RAM : 0.024442 kWh. RAM Power : 10.2771635055542 W\n[codecarbon INFO @ 20:45:40] Energy consumed for all GPUs : 0.157534 kWh. Total GPU Power : 69.61646377759276 W\n[codecarbon INFO @ 20:45:40] Energy consumed for all CPUs : 0.101114 kWh. Total CPU Power : 42.5 W\n[codecarbon INFO @ 20:45:40] 0.283091 kWh of electricity used since the beginning.\n[codecarbon INFO @ 20:45:47] Energy consumed for RAM : 0.024665 kWh. RAM Power : 10.2771635055542 W\n[codecarbon INFO @ 20:45:47] Energy consumed for all GPUs : 0.158097 kWh. Total GPU Power : 69.62516030249222 W\n[codecarbon INFO @ 20:45:47] Energy consumed for all CPUs : 0.102037 kWh. Total CPU Power : 42.5 W\n[codecarbon INFO @ 20:45:47] 0.284799 kWh of electricity used since the beginning.\n[codecarbon INFO @ 20:45:55] Energy consumed for RAM : 0.024485 kWh. RAM Power : 10.2771635055542 W\n[codecarbon INFO @ 20:45:55] Energy consumed for all GPUs : 0.157824 kWh. Total GPU Power : 69.57249601669069 W\n[codecarbon INFO @ 20:45:55] Energy consumed for all CPUs : 0.101291 kWh. Total CPU Power : 42.5 W\n[codecarbon INFO @ 20:45:55] 0.283600 kWh of electricity used since the beginning.\n[codecarbon INFO @ 20:46:02] Energy consumed for RAM : 0.024708 kWh. RAM Power : 10.2771635055542 W\n[codecarbon INFO @ 20:46:02] Energy consumed for all GPUs : 0.158388 kWh. Total GPU Power : 70.05107692106978 W\n[codecarbon INFO @ 20:46:02] Energy consumed for all CPUs : 0.102214 kWh. Total CPU Power : 42.5 W\n[codecarbon INFO @ 20:46:02] 0.285310 kWh of electricity used since the beginning.\n[codecarbon INFO @ 20:46:10] Energy consumed for RAM : 0.024528 kWh. RAM Power : 10.2771635055542 W\n[codecarbon INFO @ 20:46:10] Energy consumed for all GPUs : 0.158114 kWh. Total GPU Power : 69.59366187624306 W\n[codecarbon INFO @ 20:46:10] Energy consumed for all CPUs : 0.101468 kWh. Total CPU Power : 42.5 W\n[codecarbon INFO @ 20:46:10] 0.284110 kWh of electricity used since the beginning.\n[codecarbon INFO @ 20:46:17] Energy consumed for RAM : 0.024751 kWh. RAM Power : 10.2771635055542 W\n[codecarbon INFO @ 20:46:17] Energy consumed for all GPUs : 0.158676 kWh. Total GPU Power : 69.13168065509112 W\n[codecarbon INFO @ 20:46:17] Energy consumed for all CPUs : 0.102391 kWh. Total CPU Power : 42.5 W\n[codecarbon INFO @ 20:46:17] 0.285818 kWh of electricity used since the beginning.\n[codecarbon INFO @ 20:46:25] Energy consumed for RAM : 0.024571 kWh. RAM Power : 10.2771635055542 W\n[codecarbon INFO @ 20:46:25] Energy consumed for all GPUs : 0.158404 kWh. Total GPU Power : 69.63441448280949 W\n[codecarbon INFO @ 20:46:25] Energy consumed for all CPUs : 0.101645 kWh. Total CPU Power : 42.5 W\n[codecarbon INFO @ 20:46:25] 0.284620 kWh of electricity used since the beginning.\n[codecarbon INFO @ 20:46:32] Energy consumed for RAM : 0.024794 kWh. RAM Power : 10.2771635055542 W\n[codecarbon INFO @ 20:46:32] Energy consumed for all GPUs : 0.158966 kWh. Total GPU Power : 69.55815489471993 W\n[codecarbon INFO @ 20:46:32] Energy consumed for all CPUs : 0.102568 kWh. Total CPU Power : 42.5 W\n[codecarbon INFO @ 20:46:32] 0.286328 kWh of electricity used since the beginning.\n[codecarbon INFO @ 20:46:40] Energy consumed for RAM : 0.024614 kWh. RAM Power : 10.2771635055542 W\n[codecarbon INFO @ 20:46:40] Energy consumed for all GPUs : 0.158694 kWh. Total GPU Power : 69.60886969244305 W\n[codecarbon INFO @ 20:46:40] Energy consumed for all CPUs : 0.101822 kWh. Total CPU Power : 42.5 W\n[codecarbon INFO @ 20:46:40] 0.285130 kWh of electricity used since the beginning.\n[codecarbon INFO @ 20:46:47] Energy consumed for RAM : 0.024836 kWh. RAM Power : 10.2771635055542 W\n[codecarbon INFO @ 20:46:47] Energy consumed for all GPUs : 0.159256 kWh. Total GPU Power : 69.59063665915272 W\n[codecarbon INFO @ 20:46:47] Energy consumed for all CPUs : 0.102745 kWh. Total CPU Power : 42.5 W\n[codecarbon INFO @ 20:46:47] 0.286837 kWh of electricity used since the beginning.\n[codecarbon INFO @ 20:46:55] Energy consumed for RAM : 0.024656 kWh. RAM Power : 10.2771635055542 W\n[codecarbon INFO @ 20:46:55] Energy consumed for all GPUs : 0.158984 kWh. Total GPU Power : 69.56431279912908 W\n[codecarbon INFO @ 20:46:55] Energy consumed for all CPUs : 0.101999 kWh. Total CPU Power : 42.5 W\n[codecarbon INFO @ 20:46:55] 0.285639 kWh of electricity used since the beginning.\n[codecarbon INFO @ 20:47:02] Energy consumed for RAM : 0.024879 kWh. RAM Power : 10.2771635055542 W\n[codecarbon INFO @ 20:47:02] Energy consumed for all GPUs : 0.159546 kWh. Total GPU Power : 69.60017496866081 W\n[codecarbon INFO @ 20:47:02] Energy consumed for all CPUs : 0.102922 kWh. Total CPU Power : 42.5 W\n[codecarbon INFO @ 20:47:02] 0.287347 kWh of electricity used since the beginning.\n[codecarbon INFO @ 20:47:10] Energy consumed for RAM : 0.024699 kWh. RAM Power : 10.2771635055542 W\n[codecarbon INFO @ 20:47:10] Energy consumed for all GPUs : 0.159274 kWh. Total GPU Power : 69.56656792966773 W\n[codecarbon INFO @ 20:47:10] Energy consumed for all CPUs : 0.102176 kWh. Total CPU Power : 42.5 W\n[codecarbon INFO @ 20:47:10] 0.286149 kWh of electricity used since the beginning.\n[codecarbon INFO @ 20:47:17] Energy consumed for RAM : 0.024922 kWh. RAM Power : 10.2771635055542 W\n[codecarbon INFO @ 20:47:17] Energy consumed for all GPUs : 0.159836 kWh. Total GPU Power : 69.56940800846778 W\n[codecarbon INFO @ 20:47:17] Energy consumed for all CPUs : 0.103099 kWh. Total CPU Power : 42.5 W\n[codecarbon INFO @ 20:47:17] 0.287857 kWh of electricity used since the beginning.\n[codecarbon INFO @ 20:47:25] Energy consumed for RAM : 0.024742 kWh. RAM Power : 10.2771635055542 W\n[codecarbon INFO @ 20:47:25] Energy consumed for all GPUs : 0.159563 kWh. Total GPU Power : 69.56535072284446 W\n[codecarbon INFO @ 20:47:25] Energy consumed for all CPUs : 0.102353 kWh. Total CPU Power : 42.5 W\n[codecarbon INFO @ 20:47:25] 0.286659 kWh of electricity used since the beginning.\n[codecarbon INFO @ 20:47:32] Energy consumed for RAM : 0.024965 kWh. RAM Power : 10.2771635055542 W\n[codecarbon INFO @ 20:47:32] Energy consumed for all GPUs : 0.160126 kWh. Total GPU Power : 69.63205798521767 W\n[codecarbon INFO @ 20:47:32] Energy consumed for all CPUs : 0.103276 kWh. Total CPU Power : 42.5 W\n[codecarbon INFO @ 20:47:32] 0.288367 kWh of electricity used since the beginning.\n[codecarbon INFO @ 20:47:40] Energy consumed for RAM : 0.024785 kWh. RAM Power : 10.2771635055542 W\n[codecarbon INFO @ 20:47:40] Energy consumed for all GPUs : 0.159853 kWh. Total GPU Power : 69.54225774912854 W\n[codecarbon INFO @ 20:47:40] Energy consumed for all CPUs : 0.102530 kWh. Total CPU Power : 42.5 W\n[codecarbon INFO @ 20:47:40] 0.287168 kWh of electricity used since the beginning.\n[codecarbon INFO @ 20:47:47] Energy consumed for RAM : 0.025008 kWh. RAM Power : 10.2771635055542 W\n[codecarbon INFO @ 20:47:47] Energy consumed for all GPUs : 0.160415 kWh. Total GPU Power : 69.4605945763204 W\n[codecarbon INFO @ 20:47:47] Energy consumed for all CPUs : 0.103453 kWh. Total CPU Power : 42.5 W\n[codecarbon INFO @ 20:47:47] 0.288876 kWh of electricity used since the beginning.\n[codecarbon INFO @ 20:47:55] Energy consumed for RAM : 0.024828 kWh. RAM Power : 10.2771635055542 W\n[codecarbon INFO @ 20:47:55] Energy consumed for all GPUs : 0.160143 kWh. Total GPU Power : 69.5314546293037 W\n[codecarbon INFO @ 20:47:55] Energy consumed for all CPUs : 0.102707 kWh. Total CPU Power : 42.5 W\n[codecarbon INFO @ 20:47:55] 0.287678 kWh of electricity used since the beginning.\n[codecarbon INFO @ 20:48:02] Energy consumed for RAM : 0.025050 kWh. RAM Power : 10.2771635055542 W\n[codecarbon INFO @ 20:48:02] Energy consumed for all GPUs : 0.160705 kWh. Total GPU Power : 69.55151059635126 W\n[codecarbon INFO @ 20:48:02] Energy consumed for all CPUs : 0.103630 kWh. Total CPU Power : 42.5 W\n[codecarbon INFO @ 20:48:02] 0.289386 kWh of electricity used since the beginning.\n[codecarbon INFO @ 20:48:10] Energy consumed for RAM : 0.024871 kWh. RAM Power : 10.2771635055542 W\n[codecarbon INFO @ 20:48:10] Energy consumed for all GPUs : 0.160432 kWh. Total GPU Power : 69.4611579946667 W\n[codecarbon INFO @ 20:48:10] Energy consumed for all CPUs : 0.102884 kWh. Total CPU Power : 42.5 W\n[codecarbon INFO @ 20:48:10] 0.288187 kWh of electricity used since the beginning.\n[codecarbon INFO @ 20:48:17] Energy consumed for RAM : 0.025093 kWh. RAM Power : 10.2771635055542 W\n[codecarbon INFO @ 20:48:17] Energy consumed for all GPUs : 0.160994 kWh. Total GPU Power : 69.52790847765364 W\n[codecarbon INFO @ 20:48:17] Energy consumed for all CPUs : 0.103808 kWh. Total CPU Power : 42.5 W\n[codecarbon INFO @ 20:48:17] 0.289895 kWh of electricity used since the beginning.\n[codecarbon INFO @ 20:48:25] Energy consumed for RAM : 0.024913 kWh. RAM Power : 10.2771635055542 W\n[codecarbon INFO @ 20:48:25] Energy consumed for all GPUs : 0.160722 kWh. Total GPU Power : 69.65201317248126 W\n[codecarbon INFO @ 20:48:25] Energy consumed for all CPUs : 0.103061 kWh. Total CPU Power : 42.5 W\n[codecarbon INFO @ 20:48:25] 0.288697 kWh of electricity used since the beginning.\n[codecarbon INFO @ 20:48:32] Energy consumed for RAM : 0.025136 kWh. RAM Power : 10.2771635055542 W\n[codecarbon INFO @ 20:48:32] Energy consumed for all GPUs : 0.161284 kWh. Total GPU Power : 69.65173925338974 W\n[codecarbon INFO @ 20:48:32] Energy consumed for all CPUs : 0.103985 kWh. Total CPU Power : 42.5 W\n[codecarbon INFO @ 20:48:32] 0.290405 kWh of electricity used since the beginning.\n[codecarbon INFO @ 20:48:40] Energy consumed for RAM : 0.024956 kWh. RAM Power : 10.2771635055542 W\n[codecarbon INFO @ 20:48:40] Energy consumed for all GPUs : 0.161012 kWh. Total GPU Power : 69.63953944851269 W\n[codecarbon INFO @ 20:48:40] Energy consumed for all CPUs : 0.103238 kWh. Total CPU Power : 42.5 W\n[codecarbon INFO @ 20:48:40] 0.289207 kWh of electricity used since the beginning.\n[codecarbon INFO @ 20:48:47] Energy consumed for RAM : 0.025179 kWh. RAM Power : 10.2771635055542 W\n[codecarbon INFO @ 20:48:47] Energy consumed for all GPUs : 0.161574 kWh. Total GPU Power : 69.61338561082658 W\n[codecarbon INFO @ 20:48:47] Energy consumed for all CPUs : 0.104162 kWh. Total CPU Power : 42.5 W\n[codecarbon INFO @ 20:48:47] 0.290915 kWh of electricity used since the beginning.\n[codecarbon INFO @ 20:48:55] Energy consumed for RAM : 0.024999 kWh. RAM Power : 10.2771635055542 W\n[codecarbon INFO @ 20:48:55] Energy consumed for all GPUs : 0.161302 kWh. Total GPU Power : 69.62429467982356 W\n[codecarbon INFO @ 20:48:55] Energy consumed for all CPUs : 0.103416 kWh. Total CPU Power : 42.5 W\n[codecarbon INFO @ 20:48:55] 0.289717 kWh of electricity used since the beginning.\n[codecarbon INFO @ 20:49:02] Energy consumed for RAM : 0.025222 kWh. RAM Power : 10.2771635055542 W\n[codecarbon INFO @ 20:49:02] Energy consumed for all GPUs : 0.161864 kWh. Total GPU Power : 69.586708689087 W\n[codecarbon INFO @ 20:49:02] Energy consumed for all CPUs : 0.104339 kWh. Total CPU Power : 42.5 W\n[codecarbon INFO @ 20:49:02] 0.291425 kWh of electricity used since the beginning.\n[codecarbon INFO @ 20:49:10] Energy consumed for RAM : 0.025042 kWh. RAM Power : 10.2771635055542 W\n[codecarbon INFO @ 20:49:10] Energy consumed for all GPUs : 0.161592 kWh. Total GPU Power : 69.53483497886326 W\n[codecarbon INFO @ 20:49:10] Energy consumed for all CPUs : 0.103593 kWh. Total CPU Power : 42.5 W\n[codecarbon INFO @ 20:49:10] 0.290226 kWh of electricity used since the beginning.\n[codecarbon INFO @ 20:49:17] Energy consumed for RAM : 0.025265 kWh. RAM Power : 10.2771635055542 W\n[codecarbon INFO @ 20:49:17] Energy consumed for all GPUs : 0.162154 kWh. Total GPU Power : 69.57774574889527 W\n[codecarbon INFO @ 20:49:17] Energy consumed for all CPUs : 0.104516 kWh. Total CPU Power : 42.5 W\n[codecarbon INFO @ 20:49:17] 0.291935 kWh of electricity used since the beginning.\n[codecarbon INFO @ 20:49:25] Energy consumed for RAM : 0.025085 kWh. RAM Power : 10.2771635055542 W\n[codecarbon INFO @ 20:49:25] Energy consumed for all GPUs : 0.161882 kWh. Total GPU Power : 69.6369607059083 W\n[codecarbon INFO @ 20:49:25] Energy consumed for all CPUs : 0.103770 kWh. Total CPU Power : 42.5 W\n[codecarbon INFO @ 20:49:25] 0.290736 kWh of electricity used since the beginning.\n[codecarbon INFO @ 20:49:32] Energy consumed for RAM : 0.025307 kWh. RAM Power : 10.2771635055542 W\n[codecarbon INFO @ 20:49:32] Energy consumed for all GPUs : 0.162444 kWh. Total GPU Power : 69.5749506998422 W\n[codecarbon INFO @ 20:49:32] Energy consumed for all CPUs : 0.104693 kWh. Total CPU Power : 42.5 W\n[codecarbon INFO @ 20:49:32] 0.292444 kWh of electricity used since the beginning.\n[codecarbon INFO @ 20:49:40] Energy consumed for RAM : 0.025127 kWh. RAM Power : 10.2771635055542 W\n[codecarbon INFO @ 20:49:40] Energy consumed for all GPUs : 0.162172 kWh. Total GPU Power : 69.64172578735315 W\n[codecarbon INFO @ 20:49:40] Energy consumed for all CPUs : 0.103947 kWh. Total CPU Power : 42.5 W\n[codecarbon INFO @ 20:49:40] 0.291246 kWh of electricity used since the beginning.\n[codecarbon INFO @ 20:49:47] Energy consumed for RAM : 0.025350 kWh. RAM Power : 10.2771635055542 W\n[codecarbon INFO @ 20:49:47] Energy consumed for all GPUs : 0.162734 kWh. Total GPU Power : 69.7028635880157 W\n[codecarbon INFO @ 20:49:47] Energy consumed for all CPUs : 0.104870 kWh. Total CPU Power : 42.5 W\n[codecarbon INFO @ 20:49:47] 0.292954 kWh of electricity used since the beginning.\n[codecarbon INFO @ 20:49:55] Energy consumed for RAM : 0.025170 kWh. RAM Power : 10.2771635055542 W\n[codecarbon INFO @ 20:49:55] Energy consumed for all GPUs : 0.162462 kWh. Total GPU Power : 69.65517804216415 W\n[codecarbon INFO @ 20:49:55] Energy consumed for all CPUs : 0.104124 kWh. Total CPU Power : 42.5 W\n[codecarbon INFO @ 20:49:55] 0.291756 kWh of electricity used since the beginning.\n[codecarbon INFO @ 20:50:02] Energy consumed for RAM : 0.025393 kWh. RAM Power : 10.2771635055542 W\n[codecarbon INFO @ 20:50:02] Energy consumed for all GPUs : 0.163024 kWh. Total GPU Power : 69.60527255206345 W\n[codecarbon INFO @ 20:50:02] Energy consumed for all CPUs : 0.105047 kWh. Total CPU Power : 42.5 W\n[codecarbon INFO @ 20:50:02] 0.293464 kWh of electricity used since the beginning.\n[codecarbon INFO @ 20:50:10] Energy consumed for RAM : 0.025213 kWh. RAM Power : 10.2771635055542 W\n[codecarbon INFO @ 20:50:10] Energy consumed for all GPUs : 0.162752 kWh. Total GPU Power : 69.65941437085338 W\n[codecarbon INFO @ 20:50:10] Energy consumed for all CPUs : 0.104301 kWh. Total CPU Power : 42.5 W\n[codecarbon INFO @ 20:50:10] 0.292266 kWh of electricity used since the beginning.\n[codecarbon INFO @ 20:50:17] Energy consumed for RAM : 0.025436 kWh. RAM Power : 10.2771635055542 W\n[codecarbon INFO @ 20:50:17] Energy consumed for all GPUs : 0.163314 kWh. Total GPU Power : 69.62153201455116 W\n[codecarbon INFO @ 20:50:17] Energy consumed for all CPUs : 0.105224 kWh. Total CPU Power : 42.5 W\n[codecarbon INFO @ 20:50:17] 0.293974 kWh of electricity used since the beginning.\n[codecarbon INFO @ 20:50:25] Energy consumed for RAM : 0.025256 kWh. RAM Power : 10.2771635055542 W\n[codecarbon INFO @ 20:50:25] Energy consumed for all GPUs : 0.163042 kWh. Total GPU Power : 69.56534869808861 W\n[codecarbon INFO @ 20:50:25] Energy consumed for all CPUs : 0.104478 kWh. Total CPU Power : 42.5 W\n[codecarbon INFO @ 20:50:25] 0.292776 kWh of electricity used since the beginning.\n[codecarbon INFO @ 20:50:32] Energy consumed for RAM : 0.025479 kWh. RAM Power : 10.2771635055542 W\n[codecarbon INFO @ 20:50:32] Energy consumed for all GPUs : 0.163604 kWh. Total GPU Power : 69.49298344919121 W\n[codecarbon INFO @ 20:50:32] Energy consumed for all CPUs : 0.105401 kWh. Total CPU Power : 42.5 W\n[codecarbon INFO @ 20:50:32] 0.294484 kWh of electricity used since the beginning.\n[codecarbon INFO @ 20:50:40] Energy consumed for RAM : 0.025299 kWh. RAM Power : 10.2771635055542 W\n[codecarbon INFO @ 20:50:40] Energy consumed for all GPUs : 0.163332 kWh. Total GPU Power : 69.66532026508088 W\n[codecarbon INFO @ 20:50:40] Energy consumed for all CPUs : 0.104655 kWh. Total CPU Power : 42.5 W\n[codecarbon INFO @ 20:50:40] 0.293286 kWh of electricity used since the beginning.\n[codecarbon INFO @ 20:50:47] Energy consumed for RAM : 0.025521 kWh. RAM Power : 10.2771635055542 W\n[codecarbon INFO @ 20:50:47] Energy consumed for all GPUs : 0.163894 kWh. Total GPU Power : 69.7023738257639 W\n[codecarbon INFO @ 20:50:47] Energy consumed for all CPUs : 0.105578 kWh. Total CPU Power : 42.5 W\n[codecarbon INFO @ 20:50:47] 0.294994 kWh of electricity used since the beginning.\n[codecarbon INFO @ 20:50:55] Energy consumed for RAM : 0.025341 kWh. RAM Power : 10.2771635055542 W\n[codecarbon INFO @ 20:50:55] Energy consumed for all GPUs : 0.163622 kWh. Total GPU Power : 69.64960361367994 W\n[codecarbon INFO @ 20:50:55] Energy consumed for all CPUs : 0.104832 kWh. Total CPU Power : 42.5 W\n[codecarbon INFO @ 20:50:55] 0.293796 kWh of electricity used since the beginning.\n[codecarbon INFO @ 20:51:02] Energy consumed for RAM : 0.025564 kWh. RAM Power : 10.2771635055542 W\n[codecarbon INFO @ 20:51:02] Energy consumed for all GPUs : 0.164184 kWh. Total GPU Power : 69.69736959561713 W\n[codecarbon INFO @ 20:51:02] Energy consumed for all CPUs : 0.105755 kWh. Total CPU Power : 42.5 W\n[codecarbon INFO @ 20:51:02] 0.295504 kWh of electricity used since the beginning.\n[codecarbon INFO @ 20:51:10] Energy consumed for RAM : 0.025384 kWh. RAM Power : 10.2771635055542 W\n[codecarbon INFO @ 20:51:10] Energy consumed for all GPUs : 0.163912 kWh. Total GPU Power : 69.61939700400383 W\n[codecarbon INFO @ 20:51:10] Energy consumed for all CPUs : 0.105009 kWh. Total CPU Power : 42.5 W\n[codecarbon INFO @ 20:51:10] 0.294306 kWh of electricity used since the beginning.\n[codecarbon INFO @ 20:51:17] Energy consumed for RAM : 0.025607 kWh. RAM Power : 10.2771635055542 W\n[codecarbon INFO @ 20:51:17] Energy consumed for all GPUs : 0.164475 kWh. Total GPU Power : 69.64906171069083 W\n[codecarbon INFO @ 20:51:17] Energy consumed for all CPUs : 0.105932 kWh. Total CPU Power : 42.5 W\n[codecarbon INFO @ 20:51:17] 0.296014 kWh of electricity used since the beginning.\n[codecarbon INFO @ 20:51:25] Energy consumed for RAM : 0.025427 kWh. RAM Power : 10.2771635055542 W\n[codecarbon INFO @ 20:51:25] Energy consumed for all GPUs : 0.164203 kWh. Total GPU Power : 69.63370056781704 W\n[codecarbon INFO @ 20:51:25] Energy consumed for all CPUs : 0.105186 kWh. Total CPU Power : 42.5 W\n[codecarbon INFO @ 20:51:25] 0.294816 kWh of electricity used since the beginning.\n[codecarbon INFO @ 20:51:32] Energy consumed for RAM : 0.025650 kWh. RAM Power : 10.2771635055542 W\n[codecarbon INFO @ 20:51:32] Energy consumed for all GPUs : 0.164765 kWh. Total GPU Power : 69.58821351403896 W\n[codecarbon INFO @ 20:51:32] Energy consumed for all CPUs : 0.106110 kWh. Total CPU Power : 42.5 W\n[codecarbon INFO @ 20:51:32] 0.296524 kWh of electricity used since the beginning.\n[codecarbon INFO @ 20:51:40] Energy consumed for RAM : 0.025470 kWh. RAM Power : 10.2771635055542 W\n[codecarbon INFO @ 20:51:40] Energy consumed for all GPUs : 0.164492 kWh. Total GPU Power : 69.57142758057216 W\n[codecarbon INFO @ 20:51:40] Energy consumed for all CPUs : 0.105363 kWh. Total CPU Power : 42.5 W\n[codecarbon INFO @ 20:51:40] 0.295325 kWh of electricity used since the beginning.\n[codecarbon INFO @ 20:51:47] Energy consumed for RAM : 0.025693 kWh. RAM Power : 10.2771635055542 W\n[codecarbon INFO @ 20:51:47] Energy consumed for all GPUs : 0.165054 kWh. Total GPU Power : 69.54378335386161 W\n[codecarbon INFO @ 20:51:47] Energy consumed for all CPUs : 0.106287 kWh. Total CPU Power : 42.5 W\n[codecarbon INFO @ 20:51:47] 0.297033 kWh of electricity used since the beginning.\n[codecarbon INFO @ 20:51:55] Energy consumed for RAM : 0.025513 kWh. RAM Power : 10.2771635055542 W\n[codecarbon INFO @ 20:51:55] Energy consumed for all GPUs : 0.164782 kWh. Total GPU Power : 69.62213023136701 W\n[codecarbon INFO @ 20:51:55] Energy consumed for all CPUs : 0.105540 kWh. Total CPU Power : 42.5 W\n[codecarbon INFO @ 20:51:55] 0.295835 kWh of electricity used since the beginning.\n[codecarbon INFO @ 20:52:02] Energy consumed for RAM : 0.025735 kWh. RAM Power : 10.2771635055542 W\n[codecarbon INFO @ 20:52:02] Energy consumed for all GPUs : 0.165345 kWh. Total GPU Power : 69.72420136293083 W\n[codecarbon INFO @ 20:52:02] Energy consumed for all CPUs : 0.106464 kWh. Total CPU Power : 42.5 W\n[codecarbon INFO @ 20:52:02] 0.297544 kWh of electricity used since the beginning.\n[codecarbon INFO @ 20:52:10] Energy consumed for RAM : 0.025555 kWh. RAM Power : 10.2771635055542 W\n[codecarbon INFO @ 20:52:10] Energy consumed for all GPUs : 0.165073 kWh. Total GPU Power : 69.74610014471077 W\n[codecarbon INFO @ 20:52:10] Energy consumed for all CPUs : 0.105718 kWh. Total CPU Power : 42.5 W\n[codecarbon INFO @ 20:52:10] 0.296346 kWh of electricity used since the beginning.\n[codecarbon INFO @ 20:52:17] Energy consumed for RAM : 0.025778 kWh. RAM Power : 10.2771635055542 W\n[codecarbon INFO @ 20:52:17] Energy consumed for all GPUs : 0.165635 kWh. Total GPU Power : 69.6062747876729 W\n[codecarbon INFO @ 20:52:17] Energy consumed for all CPUs : 0.106641 kWh. Total CPU Power : 42.5 W\n[codecarbon INFO @ 20:52:17] 0.298054 kWh of electricity used since the beginning.\n[codecarbon INFO @ 20:52:25] Energy consumed for RAM : 0.025598 kWh. RAM Power : 10.2771635055542 W\n[codecarbon INFO @ 20:52:25] Energy consumed for all GPUs : 0.165362 kWh. Total GPU Power : 69.53242733943082 W\n[codecarbon INFO @ 20:52:25] Energy consumed for all CPUs : 0.105895 kWh. Total CPU Power : 42.5 W\n[codecarbon INFO @ 20:52:25] 0.296855 kWh of electricity used since the beginning.\n[codecarbon INFO @ 20:52:32] Energy consumed for RAM : 0.025821 kWh. RAM Power : 10.2771635055542 W\n[codecarbon INFO @ 20:52:32] Energy consumed for all GPUs : 0.165924 kWh. Total GPU Power : 69.509128219195 W\n[codecarbon INFO @ 20:52:32] Energy consumed for all CPUs : 0.106818 kWh. Total CPU Power : 42.5 W\n[codecarbon INFO @ 20:52:32] 0.298563 kWh of electricity used since the beginning.\n[codecarbon INFO @ 20:52:40] Energy consumed for RAM : 0.025641 kWh. RAM Power : 10.2771635055542 W\n[codecarbon INFO @ 20:52:40] Energy consumed for all GPUs : 0.165652 kWh. Total GPU Power : 69.55082736592472 W\n[codecarbon INFO @ 20:52:40] Energy consumed for all CPUs : 0.106072 kWh. Total CPU Power : 42.5 W\n[codecarbon INFO @ 20:52:40] 0.297365 kWh of electricity used since the beginning.\n[codecarbon INFO @ 20:52:47] Energy consumed for RAM : 0.025864 kWh. RAM Power : 10.2771635055542 W\n[codecarbon INFO @ 20:52:47] Energy consumed for all GPUs : 0.166214 kWh. Total GPU Power : 69.56068758558371 W\n[codecarbon INFO @ 20:52:47] Energy consumed for all CPUs : 0.106995 kWh. Total CPU Power : 42.5 W\n[codecarbon INFO @ 20:52:47] 0.299073 kWh of electricity used since the beginning.\n[codecarbon INFO @ 20:52:55] Energy consumed for RAM : 0.025684 kWh. RAM Power : 10.2771635055542 W\n[codecarbon INFO @ 20:52:55] Energy consumed for all GPUs : 0.165942 kWh. Total GPU Power : 69.5639784181778 W\n[codecarbon INFO @ 20:52:55] Energy consumed for all CPUs : 0.106249 kWh. Total CPU Power : 42.5 W\n[codecarbon INFO @ 20:52:55] 0.297874 kWh of electricity used since the beginning.\n[codecarbon INFO @ 20:53:02] Energy consumed for RAM : 0.025907 kWh. RAM Power : 10.2771635055542 W\n[codecarbon INFO @ 20:53:02] Energy consumed for all GPUs : 0.166504 kWh. Total GPU Power : 69.61714919726866 W\n[codecarbon INFO @ 20:53:02] Energy consumed for all CPUs : 0.107172 kWh. Total CPU Power : 42.5 W\n[codecarbon INFO @ 20:53:02] 0.299583 kWh of electricity used since the beginning.\n[codecarbon INFO @ 20:53:10] Energy consumed for RAM : 0.025727 kWh. RAM Power : 10.2771635055542 W\n[codecarbon INFO @ 20:53:10] Energy consumed for all GPUs : 0.166232 kWh. Total GPU Power : 69.6606751273983 W\n[codecarbon INFO @ 20:53:10] Energy consumed for all CPUs : 0.106426 kWh. Total CPU Power : 42.5 W\n[codecarbon INFO @ 20:53:10] 0.298384 kWh of electricity used since the beginning.\n[codecarbon INFO @ 20:53:17] Energy consumed for RAM : 0.025949 kWh. RAM Power : 10.2771635055542 W\n[codecarbon INFO @ 20:53:17] Energy consumed for all GPUs : 0.166794 kWh. Total GPU Power : 69.62942046994999 W\n[codecarbon INFO @ 20:53:17] Energy consumed for all CPUs : 0.107349 kWh. Total CPU Power : 42.5 W\n[codecarbon INFO @ 20:53:17] 0.300092 kWh of electricity used since the beginning.\n[codecarbon INFO @ 20:53:25] Energy consumed for RAM : 0.025769 kWh. RAM Power : 10.2771635055542 W\n[codecarbon INFO @ 20:53:25] Energy consumed for all GPUs : 0.166522 kWh. Total GPU Power : 69.626078601294 W\n[codecarbon INFO @ 20:53:25] Energy consumed for all CPUs : 0.106603 kWh. Total CPU Power : 42.5 W\n[codecarbon INFO @ 20:53:25] 0.298894 kWh of electricity used since the beginning.\n[codecarbon INFO @ 20:53:32] Energy consumed for RAM : 0.025992 kWh. RAM Power : 10.2771635055542 W\n[codecarbon INFO @ 20:53:32] Energy consumed for all GPUs : 0.167084 kWh. Total GPU Power : 69.5712224753525 W\n[codecarbon INFO @ 20:53:32] Energy consumed for all CPUs : 0.107526 kWh. Total CPU Power : 42.5 W\n[codecarbon INFO @ 20:53:32] 0.300602 kWh of electricity used since the beginning.\n[codecarbon INFO @ 20:53:40] Energy consumed for RAM : 0.025812 kWh. RAM Power : 10.2771635055542 W\n[codecarbon INFO @ 20:53:40] Energy consumed for all GPUs : 0.166802 kWh. Total GPU Power : 67.27918806312228 W\n[codecarbon INFO @ 20:53:40] Energy consumed for all CPUs : 0.106780 kWh. Total CPU Power : 42.5 W\n[codecarbon INFO @ 20:53:40] 0.299394 kWh of electricity used since the beginning.\n[codecarbon INFO @ 20:53:47] Energy consumed for RAM : 0.026035 kWh. RAM Power : 10.2771635055542 W\n[codecarbon INFO @ 20:53:47] Energy consumed for all GPUs : 0.167287 kWh. Total GPU Power : 48.746814612770564 W\n[codecarbon INFO @ 20:53:47] Energy consumed for all CPUs : 0.107703 kWh. Total CPU Power : 42.5 W\n[codecarbon INFO @ 20:53:47] 0.301025 kWh of electricity used since the beginning.\n[codecarbon INFO @ 20:53:55] Energy consumed for RAM : 0.025855 kWh. RAM Power : 10.2771635055542 W\n[codecarbon INFO @ 20:53:55] Energy consumed for all GPUs : 0.166925 kWh. Total GPU Power : 29.40585817049175 W\n[codecarbon INFO @ 20:53:55] Energy consumed for all CPUs : 0.106957 kWh. Total CPU Power : 42.5 W\n[codecarbon INFO @ 20:53:55] 0.299737 kWh of electricity used since the beginning.\n[codecarbon INFO @ 20:54:02] Energy consumed for RAM : 0.026078 kWh. RAM Power : 10.2771635055542 W\n[codecarbon INFO @ 20:54:02] Energy consumed for all GPUs : 0.167406 kWh. Total GPU Power : 28.606472294158465 W\n[codecarbon INFO @ 20:54:02] Energy consumed for all CPUs : 0.107880 kWh. Total CPU Power : 42.5 W\n[codecarbon INFO @ 20:54:02] 0.301364 kWh of electricity used since the beginning.\n[codecarbon INFO @ 20:54:10] Energy consumed for RAM : 0.025898 kWh. RAM Power : 10.2771635055542 W\n[codecarbon INFO @ 20:54:10] Energy consumed for all GPUs : 0.167043 kWh. Total GPU Power : 28.517406977232223 W\n[codecarbon INFO @ 20:54:10] Energy consumed for all CPUs : 0.107134 kWh. Total CPU Power : 42.5 W\n[codecarbon INFO @ 20:54:10] 0.300075 kWh of electricity used since the beginning.\n[codecarbon INFO @ 20:54:17] Energy consumed for RAM : 0.026121 kWh. RAM Power : 10.2771635055542 W\n[codecarbon INFO @ 20:54:17] Energy consumed for all GPUs : 0.167524 kWh. Total GPU Power : 28.313391771410092 W\n[codecarbon INFO @ 20:54:17] Energy consumed for all CPUs : 0.108057 kWh. Total CPU Power : 42.5 W\n[codecarbon INFO @ 20:54:17] 0.301702 kWh of electricity used since the beginning.\n[codecarbon INFO @ 20:54:25] Energy consumed for RAM : 0.025941 kWh. RAM Power : 10.2771635055542 W\n[codecarbon INFO @ 20:54:25] Energy consumed for all GPUs : 0.167160 kWh. Total GPU Power : 27.934010358215026 W\n[codecarbon INFO @ 20:54:25] Energy consumed for all CPUs : 0.107311 kWh. Total CPU Power : 42.5 W\n[codecarbon INFO @ 20:54:25] 0.300412 kWh of electricity used since the beginning.\n[codecarbon INFO @ 20:54:32] Energy consumed for RAM : 0.026163 kWh. RAM Power : 10.2771635055542 W\n[codecarbon INFO @ 20:54:32] Energy consumed for all GPUs : 0.167640 kWh. Total GPU Power : 27.804152615005442 W\n[codecarbon INFO @ 20:54:32] Energy consumed for all CPUs : 0.108234 kWh. Total CPU Power : 42.5 W\n[codecarbon INFO @ 20:54:32] 0.302038 kWh of electricity used since the beginning.\n[codecarbon INFO @ 20:54:40] Energy consumed for RAM : 0.025983 kWh. RAM Power : 10.2771635055542 W\n[codecarbon INFO @ 20:54:40] Energy consumed for all GPUs : 0.167275 kWh. Total GPU Power : 27.71932102226814 W\n[codecarbon INFO @ 20:54:40] Energy consumed for all CPUs : 0.107488 kWh. Total CPU Power : 42.5 W\n[codecarbon INFO @ 20:54:40] 0.300747 kWh of electricity used since the beginning.\n[codecarbon INFO @ 20:54:47] Energy consumed for RAM : 0.026206 kWh. RAM Power : 10.2771635055542 W\n[codecarbon INFO @ 20:54:47] Energy consumed for all GPUs : 0.167755 kWh. Total GPU Power : 27.63438542212884 W\n[codecarbon INFO @ 20:54:47] Energy consumed for all CPUs : 0.108411 kWh. Total CPU Power : 42.5 W\n[codecarbon INFO @ 20:54:47] 0.302373 kWh of electricity used since the beginning.\n[codecarbon INFO @ 20:54:55] Energy consumed for RAM : 0.026026 kWh. RAM Power : 10.2771635055542 W\n[codecarbon INFO @ 20:54:55] Energy consumed for all GPUs : 0.167391 kWh. Total GPU Power : 27.704066778812717 W\n[codecarbon INFO @ 20:54:55] Energy consumed for all CPUs : 0.107665 kWh. Total CPU Power : 42.5 W\n[codecarbon INFO @ 20:54:55] 0.301082 kWh of electricity used since the beginning.\n[codecarbon INFO @ 20:55:02] Energy consumed for RAM : 0.026249 kWh. RAM Power : 10.2771635055542 W\n[codecarbon INFO @ 20:55:02] Energy consumed for all GPUs : 0.167870 kWh. Total GPU Power : 27.612300651712435 W\n[codecarbon INFO @ 20:55:02] Energy consumed for all CPUs : 0.108589 kWh. Total CPU Power : 42.5 W\n[codecarbon INFO @ 20:55:02] 0.302708 kWh of electricity used since the beginning.\n[codecarbon INFO @ 20:55:10] Energy consumed for RAM : 0.026069 kWh. RAM Power : 10.2771635055542 W\n[codecarbon INFO @ 20:55:10] Energy consumed for all GPUs : 0.167504 kWh. Total GPU Power : 27.328204799013424 W\n[codecarbon INFO @ 20:55:10] Energy consumed for all CPUs : 0.107842 kWh. Total CPU Power : 42.5 W\n[codecarbon INFO @ 20:55:10] 0.301416 kWh of electricity used since the beginning.\n[codecarbon INFO @ 20:55:17] Energy consumed for RAM : 0.026292 kWh. RAM Power : 10.2771635055542 W\n[codecarbon INFO @ 20:55:17] Energy consumed for all GPUs : 0.167983 kWh. Total GPU Power : 27.234039979239334 W\n[codecarbon INFO @ 20:55:17] Energy consumed for all CPUs : 0.108766 kWh. Total CPU Power : 42.5 W\n[codecarbon INFO @ 20:55:17] 0.303041 kWh of electricity used since the beginning.\n[codecarbon INFO @ 20:55:25] Energy consumed for RAM : 0.026112 kWh. RAM Power : 10.2771635055542 W\n[codecarbon INFO @ 20:55:25] Energy consumed for all GPUs : 0.167618 kWh. Total GPU Power : 27.159848013788707 W\n[codecarbon INFO @ 20:55:25] Energy consumed for all CPUs : 0.108019 kWh. Total CPU Power : 42.5 W\n[codecarbon INFO @ 20:55:25] 0.301749 kWh of electricity used since the beginning.\n[codecarbon INFO @ 20:55:32] Energy consumed for RAM : 0.026335 kWh. RAM Power : 10.2771635055542 W\n[codecarbon INFO @ 20:55:32] Energy consumed for all GPUs : 0.168096 kWh. Total GPU Power : 27.085799952504427 W\n[codecarbon INFO @ 20:55:32] Energy consumed for all CPUs : 0.108943 kWh. Total CPU Power : 42.5 W\n[codecarbon INFO @ 20:55:32] 0.303374 kWh of electricity used since the beginning.\n[codecarbon INFO @ 20:55:40] Energy consumed for RAM : 0.026155 kWh. RAM Power : 10.2771635055542 W\n[codecarbon INFO @ 20:55:40] Energy consumed for all GPUs : 0.167732 kWh. Total GPU Power : 27.541159042382564 W\n[codecarbon INFO @ 20:55:40] Energy consumed for all CPUs : 0.108197 kWh. Total CPU Power : 42.5 W\n[codecarbon INFO @ 20:55:40] 0.302084 kWh of electricity used since the beginning.\n[codecarbon INFO @ 20:55:47] Energy consumed for RAM : 0.026378 kWh. RAM Power : 10.2771635055542 W\n[codecarbon INFO @ 20:55:47] Energy consumed for all GPUs : 0.168295 kWh. Total GPU Power : 47.595550831274274 W\n[codecarbon INFO @ 20:55:47] Energy consumed for all CPUs : 0.109120 kWh. Total CPU Power : 42.5 W\n[codecarbon INFO @ 20:55:47] 0.303792 kWh of electricity used since the beginning.\n[codecarbon INFO @ 20:55:55] Energy consumed for RAM : 0.026197 kWh. RAM Power : 10.2771635055542 W\n[codecarbon INFO @ 20:55:55] Energy consumed for all GPUs : 0.168022 kWh. Total GPU Power : 69.64957347295233 W\n[codecarbon INFO @ 20:55:55] Energy consumed for all CPUs : 0.108374 kWh. Total CPU Power : 42.5 W\n[codecarbon INFO @ 20:55:55] 0.302594 kWh of electricity used since the beginning.\n[codecarbon INFO @ 20:56:02] Energy consumed for RAM : 0.026420 kWh. RAM Power : 10.2771635055542 W\n[codecarbon INFO @ 20:56:02] Energy consumed for all GPUs : 0.168584 kWh. Total GPU Power : 69.59091063697736 W\n[codecarbon INFO @ 20:56:02] Energy consumed for all CPUs : 0.109297 kWh. Total CPU Power : 42.5 W\n[codecarbon INFO @ 20:56:02] 0.304302 kWh of electricity used since the beginning.\n[codecarbon INFO @ 20:56:10] Energy consumed for RAM : 0.026240 kWh. RAM Power : 10.2771635055542 W\n[codecarbon INFO @ 20:56:10] Energy consumed for all GPUs : 0.168312 kWh. Total GPU Power : 69.54420761955738 W\n[codecarbon INFO @ 20:56:10] Energy consumed for all CPUs : 0.108551 kWh. Total CPU Power : 42.5 W\n[codecarbon INFO @ 20:56:10] 0.303103 kWh of electricity used since the beginning.\n/anaconda/envs/azureml_py38/lib/python3.8/site-packages/sklearn/metrics/_classification.py:1272: UndefinedMetricWarning: Precision is ill-defined and being set to 0.0 in samples with no predicted labels. Use `zero_division` parameter to control this behavior.\n  _warn_prf(average, modifier, msg_start, len(result))\n/anaconda/envs/azureml_py38/lib/python3.8/site-packages/sklearn/metrics/_classification.py:1272: UndefinedMetricWarning: Recall is ill-defined and being set to 0.0 in samples with no true labels. Use `zero_division` parameter to control this behavior.\n  _warn_prf(average, modifier, msg_start, len(result))\n/anaconda/envs/azureml_py38/lib/python3.8/site-packages/sklearn/metrics/_classification.py:1514: UndefinedMetricWarning: F-score is ill-defined and being set to 0.0 in samples with no true nor predicted labels. Use `zero_division` parameter to control this behavior.\n  _warn_prf(\n[codecarbon INFO @ 20:56:17] Energy consumed for RAM : 0.026463 kWh. RAM Power : 10.2771635055542 W\n[codecarbon INFO @ 20:56:17] Energy consumed for all GPUs : 0.168818 kWh. Total GPU Power : 56.0089938582397 W\n[codecarbon INFO @ 20:56:17] Energy consumed for all CPUs : 0.109474 kWh. Total CPU Power : 42.5 W\n[codecarbon INFO @ 20:56:17] 0.304755 kWh of electricity used since the beginning.\n[codecarbon INFO @ 20:56:25] Energy consumed for RAM : 0.026283 kWh. RAM Power : 10.2771635055542 W\n[codecarbon INFO @ 20:56:25] Energy consumed for all GPUs : 0.168515 kWh. Total GPU Power : 48.61838151052666 W\n[codecarbon INFO @ 20:56:25] Energy consumed for all CPUs : 0.108728 kWh. Total CPU Power : 42.5 W\n[codecarbon INFO @ 20:56:25] 0.303526 kWh of electricity used since the beginning.\n[codecarbon INFO @ 20:56:32] Energy consumed for RAM : 0.026506 kWh. RAM Power : 10.2771635055542 W\n[codecarbon INFO @ 20:56:32] Energy consumed for all GPUs : 0.169077 kWh. Total GPU Power : 62.253813821422895 W\n[codecarbon INFO @ 20:56:32] Energy consumed for all CPUs : 0.109651 kWh. Total CPU Power : 42.5 W\n[codecarbon INFO @ 20:56:32] 0.305234 kWh of electricity used since the beginning.\n[codecarbon INFO @ 20:56:40] Energy consumed for RAM : 0.026326 kWh. RAM Power : 10.2771635055542 W\n[codecarbon INFO @ 20:56:40] Energy consumed for all GPUs : 0.168805 kWh. Total GPU Power : 69.6300044837034 W\n[codecarbon INFO @ 20:56:40] Energy consumed for all CPUs : 0.108905 kWh. Total CPU Power : 42.5 W\n[codecarbon INFO @ 20:56:40] 0.304036 kWh of electricity used since the beginning.\n[codecarbon INFO @ 20:56:47] Energy consumed for RAM : 0.026549 kWh. RAM Power : 10.2771635055542 W\n[codecarbon INFO @ 20:56:47] Energy consumed for all GPUs : 0.169367 kWh. Total GPU Power : 69.60178391594131 W\n[codecarbon INFO @ 20:56:47] Energy consumed for all CPUs : 0.109828 kWh. Total CPU Power : 42.5 W\n[codecarbon INFO @ 20:56:47] 0.305744 kWh of electricity used since the beginning.\n[codecarbon INFO @ 20:56:55] Energy consumed for RAM : 0.026369 kWh. RAM Power : 10.2771635055542 W\n[codecarbon INFO @ 20:56:55] Energy consumed for all GPUs : 0.169095 kWh. Total GPU Power : 69.56275395777162 W\n[codecarbon INFO @ 20:56:55] Energy consumed for all CPUs : 0.109082 kWh. Total CPU Power : 42.5 W\n[codecarbon INFO @ 20:56:55] 0.304545 kWh of electricity used since the beginning.\n[codecarbon INFO @ 20:57:02] Energy consumed for RAM : 0.026592 kWh. RAM Power : 10.2771635055542 W\n[codecarbon INFO @ 20:57:02] Energy consumed for all GPUs : 0.169657 kWh. Total GPU Power : 69.57770390694539 W\n[codecarbon INFO @ 20:57:02] Energy consumed for all CPUs : 0.110005 kWh. Total CPU Power : 42.5 W\n[codecarbon INFO @ 20:57:02] 0.306254 kWh of electricity used since the beginning.\n[codecarbon INFO @ 20:57:10] Energy consumed for RAM : 0.026412 kWh. RAM Power : 10.2771635055542 W\n[codecarbon INFO @ 20:57:10] Energy consumed for all GPUs : 0.169385 kWh. Total GPU Power : 69.60399204673297 W\n[codecarbon INFO @ 20:57:10] Energy consumed for all CPUs : 0.109259 kWh. Total CPU Power : 42.5 W\n[codecarbon INFO @ 20:57:10] 0.305055 kWh of electricity used since the beginning.\n[codecarbon INFO @ 20:57:17] Energy consumed for RAM : 0.026634 kWh. RAM Power : 10.2771635055542 W\n[codecarbon INFO @ 20:57:17] Energy consumed for all GPUs : 0.169947 kWh. Total GPU Power : 69.6132029394988 W\n[codecarbon INFO @ 20:57:17] Energy consumed for all CPUs : 0.110182 kWh. Total CPU Power : 42.5 W\n[codecarbon INFO @ 20:57:17] 0.306763 kWh of electricity used since the beginning.\n[codecarbon INFO @ 20:57:25] Energy consumed for RAM : 0.026454 kWh. RAM Power : 10.2771635055542 W\n[codecarbon INFO @ 20:57:25] Energy consumed for all GPUs : 0.169675 kWh. Total GPU Power : 69.73001629778591 W\n[codecarbon INFO @ 20:57:25] Energy consumed for all CPUs : 0.109436 kWh. Total CPU Power : 42.5 W\n[codecarbon INFO @ 20:57:25] 0.305566 kWh of electricity used since the beginning.\n[codecarbon INFO @ 20:57:32] Energy consumed for RAM : 0.026677 kWh. RAM Power : 10.2771635055542 W\n[codecarbon INFO @ 20:57:32] Energy consumed for all GPUs : 0.170238 kWh. Total GPU Power : 69.82964232592427 W\n[codecarbon INFO @ 20:57:32] Energy consumed for all CPUs : 0.110359 kWh. Total CPU Power : 42.5 W\n[codecarbon INFO @ 20:57:32] 0.307274 kWh of electricity used since the beginning.\n[codecarbon INFO @ 20:57:40] Energy consumed for RAM : 0.026497 kWh. RAM Power : 10.2771635055542 W\n[codecarbon INFO @ 20:57:40] Energy consumed for all GPUs : 0.169964 kWh. Total GPU Power : 69.27820987514393 W\n[codecarbon INFO @ 20:57:40] Energy consumed for all CPUs : 0.109613 kWh. Total CPU Power : 42.5 W\n[codecarbon INFO @ 20:57:40] 0.306074 kWh of electricity used since the beginning.\n[codecarbon INFO @ 20:57:47] Energy consumed for RAM : 0.026720 kWh. RAM Power : 10.2771635055542 W\n[codecarbon INFO @ 20:57:47] Energy consumed for all GPUs : 0.170528 kWh. Total GPU Power : 69.6771364230055 W\n[codecarbon INFO @ 20:57:47] Energy consumed for all CPUs : 0.110536 kWh. Total CPU Power : 42.5 W\n[codecarbon INFO @ 20:57:47] 0.307784 kWh of electricity used since the beginning.\n[codecarbon INFO @ 20:57:55] Energy consumed for RAM : 0.026540 kWh. RAM Power : 10.2771635055542 W\n[codecarbon INFO @ 20:57:55] Energy consumed for all GPUs : 0.170254 kWh. Total GPU Power : 69.59494574702477 W\n[codecarbon INFO @ 20:57:55] Energy consumed for all CPUs : 0.109790 kWh. Total CPU Power : 42.5 W\n[codecarbon INFO @ 20:57:55] 0.306584 kWh of electricity used since the beginning.\n[codecarbon INFO @ 20:58:02] Energy consumed for RAM : 0.026763 kWh. RAM Power : 10.2771635055542 W\n[codecarbon INFO @ 20:58:02] Energy consumed for all GPUs : 0.170817 kWh. Total GPU Power : 69.52734885154516 W\n[codecarbon INFO @ 20:58:02] Energy consumed for all CPUs : 0.110714 kWh. Total CPU Power : 42.5 W\n[codecarbon INFO @ 20:58:02] 0.308294 kWh of electricity used since the beginning.\n[codecarbon INFO @ 20:58:10] Energy consumed for RAM : 0.026583 kWh. RAM Power : 10.2771635055542 W\n[codecarbon INFO @ 20:58:10] Energy consumed for all GPUs : 0.170543 kWh. Total GPU Power : 69.506516972904 W\n[codecarbon INFO @ 20:58:10] Energy consumed for all CPUs : 0.109967 kWh. Total CPU Power : 42.5 W\n[codecarbon INFO @ 20:58:10] 0.307093 kWh of electricity used since the beginning.\n[codecarbon INFO @ 20:58:17] Energy consumed for RAM : 0.026806 kWh. RAM Power : 10.2771635055542 W\n[codecarbon INFO @ 20:58:17] Energy consumed for all GPUs : 0.171107 kWh. Total GPU Power : 69.6246720238646 W\n[codecarbon INFO @ 20:58:17] Energy consumed for all CPUs : 0.110891 kWh. Total CPU Power : 42.5 W\n[codecarbon INFO @ 20:58:17] 0.308803 kWh of electricity used since the beginning.\n[codecarbon INFO @ 20:58:25] Energy consumed for RAM : 0.026626 kWh. RAM Power : 10.2771635055542 W\n[codecarbon INFO @ 20:58:25] Energy consumed for all GPUs : 0.170833 kWh. Total GPU Power : 69.58639133257098 W\n[codecarbon INFO @ 20:58:25] Energy consumed for all CPUs : 0.110144 kWh. Total CPU Power : 42.5 W\n[codecarbon INFO @ 20:58:25] 0.307603 kWh of electricity used since the beginning.\n[codecarbon INFO @ 20:58:32] Energy consumed for RAM : 0.026848 kWh. RAM Power : 10.2771635055542 W\n[codecarbon INFO @ 20:58:32] Energy consumed for all GPUs : 0.171397 kWh. Total GPU Power : 69.5663508054832 W\n[codecarbon INFO @ 20:58:32] Energy consumed for all CPUs : 0.111068 kWh. Total CPU Power : 42.5 W\n[codecarbon INFO @ 20:58:32] 0.309313 kWh of electricity used since the beginning.\n[codecarbon INFO @ 20:58:40] Energy consumed for RAM : 0.026668 kWh. RAM Power : 10.2771635055542 W\n[codecarbon INFO @ 20:58:40] Energy consumed for all GPUs : 0.171123 kWh. Total GPU Power : 69.64315159134739 W\n[codecarbon INFO @ 20:58:40] Energy consumed for all CPUs : 0.110322 kWh. Total CPU Power : 42.5 W\n[codecarbon INFO @ 20:58:40] 0.308113 kWh of electricity used since the beginning.\n[codecarbon INFO @ 20:58:47] Energy consumed for RAM : 0.026891 kWh. RAM Power : 10.2771635055542 W\n[codecarbon INFO @ 20:58:47] Energy consumed for all GPUs : 0.171687 kWh. Total GPU Power : 69.7192594779088 W\n[codecarbon INFO @ 20:58:47] Energy consumed for all CPUs : 0.111245 kWh. Total CPU Power : 42.5 W\n[codecarbon INFO @ 20:58:47] 0.309823 kWh of electricity used since the beginning.\n[codecarbon INFO @ 20:58:55] Energy consumed for RAM : 0.026711 kWh. RAM Power : 10.2771635055542 W\n[codecarbon INFO @ 20:58:55] Energy consumed for all GPUs : 0.171413 kWh. Total GPU Power : 69.66510029751527 W\n[codecarbon INFO @ 20:58:55] Energy consumed for all CPUs : 0.110499 kWh. Total CPU Power : 42.5 W\n[codecarbon INFO @ 20:58:55] 0.308623 kWh of electricity used since the beginning.\n[codecarbon INFO @ 20:59:02] Energy consumed for RAM : 0.026934 kWh. RAM Power : 10.2771635055542 W\n[codecarbon INFO @ 20:59:02] Energy consumed for all GPUs : 0.171977 kWh. Total GPU Power : 69.58180943293686 W\n[codecarbon INFO @ 20:59:02] Energy consumed for all CPUs : 0.111422 kWh. Total CPU Power : 42.5 W\n[codecarbon INFO @ 20:59:02] 0.310333 kWh of electricity used since the beginning.\n[codecarbon INFO @ 20:59:10] Energy consumed for RAM : 0.026754 kWh. RAM Power : 10.2771635055542 W\n[codecarbon INFO @ 20:59:10] Energy consumed for all GPUs : 0.171703 kWh. Total GPU Power : 69.55507986338148 W\n[codecarbon INFO @ 20:59:10] Energy consumed for all CPUs : 0.110676 kWh. Total CPU Power : 42.5 W\n[codecarbon INFO @ 20:59:10] 0.309133 kWh of electricity used since the beginning.\n[codecarbon INFO @ 20:59:17] Energy consumed for RAM : 0.026977 kWh. RAM Power : 10.2771635055542 W\n[codecarbon INFO @ 20:59:17] Energy consumed for all GPUs : 0.172267 kWh. Total GPU Power : 69.51863566311827 W\n[codecarbon INFO @ 20:59:17] Energy consumed for all CPUs : 0.111599 kWh. Total CPU Power : 42.5 W\n[codecarbon INFO @ 20:59:17] 0.310842 kWh of electricity used since the beginning.\n[codecarbon INFO @ 20:59:25] Energy consumed for RAM : 0.026797 kWh. RAM Power : 10.2771635055542 W\n[codecarbon INFO @ 20:59:25] Energy consumed for all GPUs : 0.171993 kWh. Total GPU Power : 69.57666569607831 W\n[codecarbon INFO @ 20:59:25] Energy consumed for all CPUs : 0.110853 kWh. Total CPU Power : 42.5 W\n[codecarbon INFO @ 20:59:25] 0.309642 kWh of electricity used since the beginning.\n[codecarbon INFO @ 20:59:32] Energy consumed for RAM : 0.027020 kWh. RAM Power : 10.2771635055542 W\n[codecarbon INFO @ 20:59:32] Energy consumed for all GPUs : 0.172556 kWh. Total GPU Power : 69.59022864078496 W\n[codecarbon INFO @ 20:59:32] Energy consumed for all CPUs : 0.111776 kWh. Total CPU Power : 42.5 W\n[codecarbon INFO @ 20:59:32] 0.311352 kWh of electricity used since the beginning.\n[codecarbon INFO @ 20:59:40] Energy consumed for RAM : 0.026840 kWh. RAM Power : 10.2771635055542 W\n[codecarbon INFO @ 20:59:40] Energy consumed for all GPUs : 0.172283 kWh. Total GPU Power : 69.58758721867163 W\n[codecarbon INFO @ 20:59:40] Energy consumed for all CPUs : 0.111030 kWh. Total CPU Power : 42.5 W\n[codecarbon INFO @ 20:59:40] 0.310152 kWh of electricity used since the beginning.\n[codecarbon INFO @ 20:59:47] Energy consumed for RAM : 0.027062 kWh. RAM Power : 10.2771635055542 W\n[codecarbon INFO @ 20:59:47] Energy consumed for all GPUs : 0.172846 kWh. Total GPU Power : 69.60874357101359 W\n[codecarbon INFO @ 20:59:47] Energy consumed for all CPUs : 0.111953 kWh. Total CPU Power : 42.5 W\n[codecarbon INFO @ 20:59:47] 0.311862 kWh of electricity used since the beginning.\n[codecarbon INFO @ 20:59:55] Energy consumed for RAM : 0.026882 kWh. RAM Power : 10.2771635055542 W\n[codecarbon INFO @ 20:59:55] Energy consumed for all GPUs : 0.172573 kWh. Total GPU Power : 69.68236538944491 W\n[codecarbon INFO @ 20:59:55] Energy consumed for all CPUs : 0.111207 kWh. Total CPU Power : 42.5 W\n[codecarbon INFO @ 20:59:55] 0.310662 kWh of electricity used since the beginning.\n[codecarbon INFO @ 21:00:02] Energy consumed for RAM : 0.027105 kWh. RAM Power : 10.2771635055542 W\n[codecarbon INFO @ 21:00:02] Energy consumed for all GPUs : 0.173135 kWh. Total GPU Power : 69.21378481608416 W\n[codecarbon INFO @ 21:00:02] Energy consumed for all CPUs : 0.112130 kWh. Total CPU Power : 42.5 W\n[codecarbon INFO @ 21:00:02] 0.312370 kWh of electricity used since the beginning.\n[codecarbon INFO @ 21:00:10] Energy consumed for RAM : 0.026925 kWh. RAM Power : 10.2771635055542 W\n[codecarbon INFO @ 21:00:10] Energy consumed for all GPUs : 0.172863 kWh. Total GPU Power : 69.52858523755896 W\n[codecarbon INFO @ 21:00:10] Energy consumed for all CPUs : 0.111384 kWh. Total CPU Power : 42.5 W\n[codecarbon INFO @ 21:00:10] 0.311172 kWh of electricity used since the beginning.\n[codecarbon INFO @ 21:00:17] Energy consumed for RAM : 0.027148 kWh. RAM Power : 10.2771635055542 W\n[codecarbon INFO @ 21:00:17] Energy consumed for all GPUs : 0.173425 kWh. Total GPU Power : 69.58712522893595 W\n[codecarbon INFO @ 21:00:17] Energy consumed for all CPUs : 0.112307 kWh. Total CPU Power : 42.5 W\n[codecarbon INFO @ 21:00:17] 0.312880 kWh of electricity used since the beginning.\n[codecarbon INFO @ 21:00:25] Energy consumed for RAM : 0.026968 kWh. RAM Power : 10.2771635055542 W\n[codecarbon INFO @ 21:00:25] Energy consumed for all GPUs : 0.173153 kWh. Total GPU Power : 69.62550352740081 W\n[codecarbon INFO @ 21:00:25] Energy consumed for all CPUs : 0.111561 kWh. Total CPU Power : 42.5 W\n[codecarbon INFO @ 21:00:25] 0.311682 kWh of electricity used since the beginning.\n[codecarbon INFO @ 21:00:32] Energy consumed for RAM : 0.027191 kWh. RAM Power : 10.2771635055542 W\n[codecarbon INFO @ 21:00:32] Energy consumed for all GPUs : 0.173714 kWh. Total GPU Power : 69.59736496320707 W\n[codecarbon INFO @ 21:00:32] Energy consumed for all CPUs : 0.112484 kWh. Total CPU Power : 42.5 W\n[codecarbon INFO @ 21:00:32] 0.313389 kWh of electricity used since the beginning.\n[codecarbon INFO @ 21:00:40] Energy consumed for RAM : 0.027011 kWh. RAM Power : 10.2771635055542 W\n[codecarbon INFO @ 21:00:40] Energy consumed for all GPUs : 0.173442 kWh. Total GPU Power : 69.55382950979087 W\n[codecarbon INFO @ 21:00:40] Energy consumed for all CPUs : 0.111738 kWh. Total CPU Power : 42.5 W\n[codecarbon INFO @ 21:00:40] 0.312191 kWh of electricity used since the beginning.\n[codecarbon INFO @ 21:00:47] Energy consumed for RAM : 0.027234 kWh. RAM Power : 10.2771635055542 W\n[codecarbon INFO @ 21:00:47] Energy consumed for all GPUs : 0.174006 kWh. Total GPU Power : 70.06505073750003 W\n[codecarbon INFO @ 21:00:47] Energy consumed for all CPUs : 0.112661 kWh. Total CPU Power : 42.5 W\n[codecarbon INFO @ 21:00:47] 0.313901 kWh of electricity used since the beginning.\n[codecarbon INFO @ 21:00:55] Energy consumed for RAM : 0.027054 kWh. RAM Power : 10.2771635055542 W\n[codecarbon INFO @ 21:00:55] Energy consumed for all GPUs : 0.173732 kWh. Total GPU Power : 69.66383209786635 W\n[codecarbon INFO @ 21:00:55] Energy consumed for all CPUs : 0.111915 kWh. Total CPU Power : 42.5 W\n[codecarbon INFO @ 21:00:55] 0.312701 kWh of electricity used since the beginning.\n[codecarbon INFO @ 21:01:02] Energy consumed for RAM : 0.027276 kWh. RAM Power : 10.2771635055542 W\n[codecarbon INFO @ 21:01:02] Energy consumed for all GPUs : 0.174295 kWh. Total GPU Power : 69.2542043657338 W\n[codecarbon INFO @ 21:01:02] Energy consumed for all CPUs : 0.112838 kWh. Total CPU Power : 42.5 W\n[codecarbon INFO @ 21:01:02] 0.314409 kWh of electricity used since the beginning.\n[codecarbon INFO @ 21:01:10] Energy consumed for RAM : 0.027096 kWh. RAM Power : 10.2771635055542 W\n[codecarbon INFO @ 21:01:10] Energy consumed for all GPUs : 0.174023 kWh. Total GPU Power : 69.71032648929315 W\n[codecarbon INFO @ 21:01:10] Energy consumed for all CPUs : 0.112092 kWh. Total CPU Power : 42.5 W\n[codecarbon INFO @ 21:01:10] 0.313212 kWh of electricity used since the beginning.\n[codecarbon INFO @ 21:01:17] Energy consumed for RAM : 0.027319 kWh. RAM Power : 10.2771635055542 W\n[codecarbon INFO @ 21:01:17] Energy consumed for all GPUs : 0.174585 kWh. Total GPU Power : 69.64381059738079 W\n[codecarbon INFO @ 21:01:17] Energy consumed for all CPUs : 0.113015 kWh. Total CPU Power : 42.5 W\n[codecarbon INFO @ 21:01:17] 0.314919 kWh of electricity used since the beginning.\n[codecarbon INFO @ 21:01:25] Energy consumed for RAM : 0.027139 kWh. RAM Power : 10.2771635055542 W\n[codecarbon INFO @ 21:01:25] Energy consumed for all GPUs : 0.174313 kWh. Total GPU Power : 69.6484418418973 W\n[codecarbon INFO @ 21:01:25] Energy consumed for all CPUs : 0.112269 kWh. Total CPU Power : 42.5 W\n[codecarbon INFO @ 21:01:25] 0.313721 kWh of electricity used since the beginning.\n[codecarbon INFO @ 21:01:32] Energy consumed for RAM : 0.027362 kWh. RAM Power : 10.2771635055542 W\n[codecarbon INFO @ 21:01:32] Energy consumed for all GPUs : 0.174875 kWh. Total GPU Power : 69.55343350408432 W\n[codecarbon INFO @ 21:01:32] Energy consumed for all CPUs : 0.113192 kWh. Total CPU Power : 42.5 W\n[codecarbon INFO @ 21:01:32] 0.315429 kWh of electricity used since the beginning.\n[codecarbon INFO @ 21:01:40] Energy consumed for RAM : 0.027182 kWh. RAM Power : 10.2771635055542 W\n[codecarbon INFO @ 21:01:40] Energy consumed for all GPUs : 0.174603 kWh. Total GPU Power : 69.57482919548644 W\n[codecarbon INFO @ 21:01:40] Energy consumed for all CPUs : 0.112446 kWh. Total CPU Power : 42.5 W\n[codecarbon INFO @ 21:01:40] 0.314231 kWh of electricity used since the beginning.\n[codecarbon INFO @ 21:01:47] Energy consumed for RAM : 0.027405 kWh. RAM Power : 10.2771635055542 W\n[codecarbon INFO @ 21:01:47] Energy consumed for all GPUs : 0.175164 kWh. Total GPU Power : 69.58089699964007 W\n[codecarbon INFO @ 21:01:47] Energy consumed for all CPUs : 0.113370 kWh. Total CPU Power : 42.5 W\n[codecarbon INFO @ 21:01:47] 0.315939 kWh of electricity used since the beginning.\n[codecarbon INFO @ 21:01:55] Energy consumed for RAM : 0.027225 kWh. RAM Power : 10.2771635055542 W\n[codecarbon INFO @ 21:01:55] Energy consumed for all GPUs : 0.174893 kWh. Total GPU Power : 69.59284329306688 W\n[codecarbon INFO @ 21:01:55] Energy consumed for all CPUs : 0.112624 kWh. Total CPU Power : 42.5 W\n[codecarbon INFO @ 21:01:55] 0.314741 kWh of electricity used since the beginning.\n[codecarbon INFO @ 21:02:02] Energy consumed for RAM : 0.027448 kWh. RAM Power : 10.2771635055542 W\n[codecarbon INFO @ 21:02:02] Energy consumed for all GPUs : 0.175454 kWh. Total GPU Power : 69.61408463391204 W\n[codecarbon INFO @ 21:02:02] Energy consumed for all CPUs : 0.113547 kWh. Total CPU Power : 42.5 W\n[codecarbon INFO @ 21:02:02] 0.316449 kWh of electricity used since the beginning.\n[codecarbon INFO @ 21:02:10] Energy consumed for RAM : 0.027268 kWh. RAM Power : 10.2771635055542 W\n[codecarbon INFO @ 21:02:10] Energy consumed for all GPUs : 0.175183 kWh. Total GPU Power : 69.61712683643604 W\n[codecarbon INFO @ 21:02:10] Energy consumed for all CPUs : 0.112801 kWh. Total CPU Power : 42.5 W\n[codecarbon INFO @ 21:02:10] 0.315251 kWh of electricity used since the beginning.\n[codecarbon INFO @ 21:02:17] Energy consumed for RAM : 0.027490 kWh. RAM Power : 10.2771635055542 W\n[codecarbon INFO @ 21:02:17] Energy consumed for all GPUs : 0.175744 kWh. Total GPU Power : 69.61861317481376 W\n[codecarbon INFO @ 21:02:17] Energy consumed for all CPUs : 0.113724 kWh. Total CPU Power : 42.5 W\n[codecarbon INFO @ 21:02:17] 0.316958 kWh of electricity used since the beginning.\n[codecarbon INFO @ 21:02:25] Energy consumed for RAM : 0.027310 kWh. RAM Power : 10.2771635055542 W\n[codecarbon INFO @ 21:02:25] Energy consumed for all GPUs : 0.175473 kWh. Total GPU Power : 69.61119866674093 W\n[codecarbon INFO @ 21:02:25] Energy consumed for all CPUs : 0.112978 kWh. Total CPU Power : 42.5 W\n[codecarbon INFO @ 21:02:25] 0.315761 kWh of electricity used since the beginning.\n[codecarbon INFO @ 21:02:32] Energy consumed for RAM : 0.027533 kWh. RAM Power : 10.2771635055542 W\n[codecarbon INFO @ 21:02:32] Energy consumed for all GPUs : 0.176034 kWh. Total GPU Power : 69.64749220294242 W\n[codecarbon INFO @ 21:02:32] Energy consumed for all CPUs : 0.113901 kWh. Total CPU Power : 42.5 W\n[codecarbon INFO @ 21:02:32] 0.317468 kWh of electricity used since the beginning.\n[codecarbon INFO @ 21:02:40] Energy consumed for RAM : 0.027353 kWh. RAM Power : 10.2771635055542 W\n[codecarbon INFO @ 21:02:40] Energy consumed for all GPUs : 0.175762 kWh. Total GPU Power : 69.56428104946131 W\n[codecarbon INFO @ 21:02:40] Energy consumed for all CPUs : 0.113155 kWh. Total CPU Power : 42.5 W\n[codecarbon INFO @ 21:02:40] 0.316270 kWh of electricity used since the beginning.\n[codecarbon INFO @ 21:02:47] Energy consumed for RAM : 0.027576 kWh. RAM Power : 10.2771635055542 W\n[codecarbon INFO @ 21:02:47] Energy consumed for all GPUs : 0.176324 kWh. Total GPU Power : 69.50348359036865 W\n[codecarbon INFO @ 21:02:47] Energy consumed for all CPUs : 0.114078 kWh. Total CPU Power : 42.5 W\n[codecarbon INFO @ 21:02:47] 0.317978 kWh of electricity used since the beginning.\n[codecarbon INFO @ 21:02:55] Energy consumed for RAM : 0.027396 kWh. RAM Power : 10.2771635055542 W\n[codecarbon INFO @ 21:02:55] Energy consumed for all GPUs : 0.176052 kWh. Total GPU Power : 69.53128571082792 W\n[codecarbon INFO @ 21:02:55] Energy consumed for all CPUs : 0.113332 kWh. Total CPU Power : 42.5 W\n[codecarbon INFO @ 21:02:55] 0.316780 kWh of electricity used since the beginning.\n[codecarbon INFO @ 21:03:02] Energy consumed for RAM : 0.027619 kWh. RAM Power : 10.2771635055542 W\n[codecarbon INFO @ 21:03:02] Energy consumed for all GPUs : 0.176614 kWh. Total GPU Power : 69.56900991043844 W\n[codecarbon INFO @ 21:03:02] Energy consumed for all CPUs : 0.114255 kWh. Total CPU Power : 42.5 W\n[codecarbon INFO @ 21:03:02] 0.318488 kWh of electricity used since the beginning.\n[codecarbon INFO @ 21:03:10] Energy consumed for RAM : 0.027439 kWh. RAM Power : 10.2771635055542 W\n[codecarbon INFO @ 21:03:10] Energy consumed for all GPUs : 0.176342 kWh. Total GPU Power : 69.51828344805241 W\n[codecarbon INFO @ 21:03:10] Energy consumed for all CPUs : 0.113509 kWh. Total CPU Power : 42.5 W\n[codecarbon INFO @ 21:03:10] 0.317289 kWh of electricity used since the beginning.\n[codecarbon INFO @ 21:03:17] Energy consumed for RAM : 0.027662 kWh. RAM Power : 10.2771635055542 W\n[codecarbon INFO @ 21:03:17] Energy consumed for all GPUs : 0.176904 kWh. Total GPU Power : 69.64351108320022 W\n[codecarbon INFO @ 21:03:17] Energy consumed for all CPUs : 0.114432 kWh. Total CPU Power : 42.5 W\n[codecarbon INFO @ 21:03:17] 0.318998 kWh of electricity used since the beginning.\n[codecarbon INFO @ 21:03:25] Energy consumed for RAM : 0.027482 kWh. RAM Power : 10.2771635055542 W\n[codecarbon INFO @ 21:03:25] Energy consumed for all GPUs : 0.176632 kWh. Total GPU Power : 69.65166296408506 W\n[codecarbon INFO @ 21:03:25] Energy consumed for all CPUs : 0.113686 kWh. Total CPU Power : 42.5 W\n[codecarbon INFO @ 21:03:25] 0.317799 kWh of electricity used since the beginning.\n[codecarbon INFO @ 21:03:32] Energy consumed for RAM : 0.027704 kWh. RAM Power : 10.2771635055542 W\n[codecarbon INFO @ 21:03:32] Energy consumed for all GPUs : 0.177194 kWh. Total GPU Power : 69.5668615310433 W\n[codecarbon INFO @ 21:03:32] Energy consumed for all CPUs : 0.114609 kWh. Total CPU Power : 42.5 W\n[codecarbon INFO @ 21:03:32] 0.319507 kWh of electricity used since the beginning.\n[codecarbon INFO @ 21:03:40] Energy consumed for RAM : 0.027524 kWh. RAM Power : 10.2771635055542 W\n[codecarbon INFO @ 21:03:40] Energy consumed for all GPUs : 0.176921 kWh. Total GPU Power : 69.5239337459674 W\n[codecarbon INFO @ 21:03:40] Energy consumed for all CPUs : 0.113863 kWh. Total CPU Power : 42.5 W\n[codecarbon INFO @ 21:03:40] 0.318309 kWh of electricity used since the beginning.\n[codecarbon INFO @ 21:03:47] Energy consumed for RAM : 0.027747 kWh. RAM Power : 10.2771635055542 W\n[codecarbon INFO @ 21:03:47] Energy consumed for all GPUs : 0.177483 kWh. Total GPU Power : 69.55448916500589 W\n[codecarbon INFO @ 21:03:47] Energy consumed for all CPUs : 0.114786 kWh. Total CPU Power : 42.5 W\n[codecarbon INFO @ 21:03:47] 0.320017 kWh of electricity used since the beginning.\n[codecarbon INFO @ 21:03:55] Energy consumed for RAM : 0.027567 kWh. RAM Power : 10.2771635055542 W\n[codecarbon INFO @ 21:03:55] Energy consumed for all GPUs : 0.177211 kWh. Total GPU Power : 69.67553312319814 W\n[codecarbon INFO @ 21:03:55] Energy consumed for all CPUs : 0.114040 kWh. Total CPU Power : 42.5 W\n[codecarbon INFO @ 21:03:55] 0.318819 kWh of electricity used since the beginning.\n[codecarbon INFO @ 21:04:02] Energy consumed for RAM : 0.027790 kWh. RAM Power : 10.2771635055542 W\n[codecarbon INFO @ 21:04:02] Energy consumed for all GPUs : 0.177773 kWh. Total GPU Power : 69.58461490671299 W\n[codecarbon INFO @ 21:04:02] Energy consumed for all CPUs : 0.114963 kWh. Total CPU Power : 42.5 W\n[codecarbon INFO @ 21:04:02] 0.320527 kWh of electricity used since the beginning.\n[codecarbon INFO @ 21:04:10] Energy consumed for RAM : 0.027610 kWh. RAM Power : 10.2771635055542 W\n[codecarbon INFO @ 21:04:10] Energy consumed for all GPUs : 0.177502 kWh. Total GPU Power : 69.64238385505362 W\n[codecarbon INFO @ 21:04:10] Energy consumed for all CPUs : 0.114217 kWh. Total CPU Power : 42.5 W\n[codecarbon INFO @ 21:04:10] 0.319329 kWh of electricity used since the beginning.\n[codecarbon INFO @ 21:04:17] Energy consumed for RAM : 0.027833 kWh. RAM Power : 10.2771635055542 W\n[codecarbon INFO @ 21:04:17] Energy consumed for all GPUs : 0.178063 kWh. Total GPU Power : 69.62025971638387 W\n[codecarbon INFO @ 21:04:17] Energy consumed for all CPUs : 0.115140 kWh. Total CPU Power : 42.5 W\n[codecarbon INFO @ 21:04:17] 0.321036 kWh of electricity used since the beginning.\n[codecarbon INFO @ 21:04:25] Energy consumed for RAM : 0.027653 kWh. RAM Power : 10.2771635055542 W\n[codecarbon INFO @ 21:04:25] Energy consumed for all GPUs : 0.177791 kWh. Total GPU Power : 69.60796327711193 W\n[codecarbon INFO @ 21:04:25] Energy consumed for all CPUs : 0.114394 kWh. Total CPU Power : 42.5 W\n[codecarbon INFO @ 21:04:25] 0.319839 kWh of electricity used since the beginning.\n[codecarbon INFO @ 21:04:32] Energy consumed for RAM : 0.027876 kWh. RAM Power : 10.2771635055542 W\n[codecarbon INFO @ 21:04:32] Energy consumed for all GPUs : 0.178353 kWh. Total GPU Power : 69.63660880541465 W\n[codecarbon INFO @ 21:04:32] Energy consumed for all CPUs : 0.115317 kWh. Total CPU Power : 42.5 W\n[codecarbon INFO @ 21:04:32] 0.321546 kWh of electricity used since the beginning.\n[codecarbon INFO @ 21:04:40] Energy consumed for RAM : 0.027696 kWh. RAM Power : 10.2771635055542 W\n[codecarbon INFO @ 21:04:40] Energy consumed for all GPUs : 0.178081 kWh. Total GPU Power : 69.58117753469433 W\n[codecarbon INFO @ 21:04:40] Energy consumed for all CPUs : 0.114571 kWh. Total CPU Power : 42.5 W\n[codecarbon INFO @ 21:04:40] 0.320348 kWh of electricity used since the beginning.\n[codecarbon INFO @ 21:04:47] Energy consumed for RAM : 0.027918 kWh. RAM Power : 10.2771635055542 W\n[codecarbon INFO @ 21:04:47] Energy consumed for all GPUs : 0.178644 kWh. Total GPU Power : 69.65933682972575 W\n[codecarbon INFO @ 21:04:47] Energy consumed for all CPUs : 0.115494 kWh. Total CPU Power : 42.5 W\n[codecarbon INFO @ 21:04:47] 0.322056 kWh of electricity used since the beginning.\n[codecarbon INFO @ 21:04:55] Energy consumed for RAM : 0.027739 kWh. RAM Power : 10.2771635055542 W\n[codecarbon INFO @ 21:04:55] Energy consumed for all GPUs : 0.178372 kWh. Total GPU Power : 69.66534747303854 W\n[codecarbon INFO @ 21:04:55] Energy consumed for all CPUs : 0.114748 kWh. Total CPU Power : 42.5 W\n[codecarbon INFO @ 21:04:55] 0.320858 kWh of electricity used since the beginning.\n[codecarbon INFO @ 21:05:02] Energy consumed for RAM : 0.027961 kWh. RAM Power : 10.2771635055542 W\n[codecarbon INFO @ 21:05:02] Energy consumed for all GPUs : 0.178933 kWh. Total GPU Power : 69.57219401812004 W\n[codecarbon INFO @ 21:05:02] Energy consumed for all CPUs : 0.115672 kWh. Total CPU Power : 42.5 W\n[codecarbon INFO @ 21:05:02] 0.322566 kWh of electricity used since the beginning.\n[codecarbon INFO @ 21:05:10] Energy consumed for RAM : 0.027781 kWh. RAM Power : 10.2771635055542 W\n[codecarbon INFO @ 21:05:10] Energy consumed for all GPUs : 0.178661 kWh. Total GPU Power : 69.53387796217925 W\n[codecarbon INFO @ 21:05:10] Energy consumed for all CPUs : 0.114925 kWh. Total CPU Power : 42.5 W\n[codecarbon INFO @ 21:05:10] 0.321368 kWh of electricity used since the beginning.\n[codecarbon INFO @ 21:05:17] Energy consumed for RAM : 0.028004 kWh. RAM Power : 10.2771635055542 W\n[codecarbon INFO @ 21:05:17] Energy consumed for all GPUs : 0.179223 kWh. Total GPU Power : 69.56303256358684 W\n[codecarbon INFO @ 21:05:17] Energy consumed for all CPUs : 0.115849 kWh. Total CPU Power : 42.5 W\n[codecarbon INFO @ 21:05:17] 0.323076 kWh of electricity used since the beginning.\n[codecarbon INFO @ 21:05:25] Energy consumed for RAM : 0.027824 kWh. RAM Power : 10.2771635055542 W\n[codecarbon INFO @ 21:05:25] Energy consumed for all GPUs : 0.178951 kWh. Total GPU Power : 69.59103335136015 W\n[codecarbon INFO @ 21:05:25] Energy consumed for all CPUs : 0.115103 kWh. Total CPU Power : 42.5 W\n[codecarbon INFO @ 21:05:25] 0.321878 kWh of electricity used since the beginning.\n[codecarbon INFO @ 21:05:32] Energy consumed for RAM : 0.028047 kWh. RAM Power : 10.2771635055542 W\n[codecarbon INFO @ 21:05:32] Energy consumed for all GPUs : 0.179514 kWh. Total GPU Power : 69.71685769512457 W\n[codecarbon INFO @ 21:05:32] Energy consumed for all CPUs : 0.116026 kWh. Total CPU Power : 42.5 W\n[codecarbon INFO @ 21:05:32] 0.323586 kWh of electricity used since the beginning.\n[codecarbon INFO @ 21:05:40] Energy consumed for RAM : 0.027867 kWh. RAM Power : 10.2771635055542 W\n[codecarbon INFO @ 21:05:40] Energy consumed for all GPUs : 0.179241 kWh. Total GPU Power : 69.69304342348393 W\n[codecarbon INFO @ 21:05:40] Energy consumed for all CPUs : 0.115280 kWh. Total CPU Power : 42.5 W\n[codecarbon INFO @ 21:05:40] 0.322388 kWh of electricity used since the beginning.\n[codecarbon INFO @ 21:05:47] Energy consumed for RAM : 0.028090 kWh. RAM Power : 10.2771635055542 W\n[codecarbon INFO @ 21:05:47] Energy consumed for all GPUs : 0.179803 kWh. Total GPU Power : 69.5578955655921 W\n[codecarbon INFO @ 21:05:47] Energy consumed for all CPUs : 0.116203 kWh. Total CPU Power : 42.5 W\n[codecarbon INFO @ 21:05:47] 0.324096 kWh of electricity used since the beginning.\n[codecarbon INFO @ 21:05:55] Energy consumed for RAM : 0.027910 kWh. RAM Power : 10.2771635055542 W\n[codecarbon INFO @ 21:05:55] Energy consumed for all GPUs : 0.179531 kWh. Total GPU Power : 69.6090290233227 W\n[codecarbon INFO @ 21:05:55] Energy consumed for all CPUs : 0.115457 kWh. Total CPU Power : 42.5 W\n[codecarbon INFO @ 21:05:55] 0.322898 kWh of electricity used since the beginning.\n[codecarbon INFO @ 21:06:02] Energy consumed for RAM : 0.028132 kWh. RAM Power : 10.2771635055542 W\n[codecarbon INFO @ 21:06:02] Energy consumed for all GPUs : 0.180093 kWh. Total GPU Power : 69.59247104755512 W\n[codecarbon INFO @ 21:06:02] Energy consumed for all CPUs : 0.116380 kWh. Total CPU Power : 42.5 W\n[codecarbon INFO @ 21:06:02] 0.324605 kWh of electricity used since the beginning.\n[codecarbon INFO @ 21:06:10] Energy consumed for RAM : 0.027953 kWh. RAM Power : 10.2771635055542 W\n[codecarbon INFO @ 21:06:10] Energy consumed for all GPUs : 0.179821 kWh. Total GPU Power : 69.64182896575275 W\n[codecarbon INFO @ 21:06:10] Energy consumed for all CPUs : 0.115634 kWh. Total CPU Power : 42.5 W\n[codecarbon INFO @ 21:06:10] 0.323408 kWh of electricity used since the beginning.\n[codecarbon INFO @ 21:06:17] Energy consumed for RAM : 0.028175 kWh. RAM Power : 10.2771635055542 W\n[codecarbon INFO @ 21:06:17] Energy consumed for all GPUs : 0.180383 kWh. Total GPU Power : 69.67508504029944 W\n[codecarbon INFO @ 21:06:17] Energy consumed for all CPUs : 0.116557 kWh. Total CPU Power : 42.5 W\n[codecarbon INFO @ 21:06:17] 0.325116 kWh of electricity used since the beginning.\n[codecarbon INFO @ 21:06:25] Energy consumed for RAM : 0.027995 kWh. RAM Power : 10.2771635055542 W\n[codecarbon INFO @ 21:06:25] Energy consumed for all GPUs : 0.180111 kWh. Total GPU Power : 69.62552456495673 W\n[codecarbon INFO @ 21:06:25] Energy consumed for all CPUs : 0.115811 kWh. Total CPU Power : 42.5 W\n[codecarbon INFO @ 21:06:25] 0.323918 kWh of electricity used since the beginning.\n[codecarbon INFO @ 21:06:32] Energy consumed for RAM : 0.028218 kWh. RAM Power : 10.2771635055542 W\n[codecarbon INFO @ 21:06:32] Energy consumed for all GPUs : 0.180673 kWh. Total GPU Power : 69.58594857254067 W\n[codecarbon INFO @ 21:06:32] Energy consumed for all CPUs : 0.116734 kWh. Total CPU Power : 42.5 W\n[codecarbon INFO @ 21:06:32] 0.325625 kWh of electricity used since the beginning.\n[codecarbon INFO @ 21:06:40] Energy consumed for RAM : 0.028038 kWh. RAM Power : 10.2771635055542 W\n[codecarbon INFO @ 21:06:40] Energy consumed for all GPUs : 0.180402 kWh. Total GPU Power : 69.69793537639818 W\n[codecarbon INFO @ 21:06:40] Energy consumed for all CPUs : 0.115988 kWh. Total CPU Power : 42.5 W\n[codecarbon INFO @ 21:06:40] 0.324428 kWh of electricity used since the beginning.\n[codecarbon INFO @ 21:06:47] Energy consumed for RAM : 0.028261 kWh. RAM Power : 10.2771635055542 W\n[codecarbon INFO @ 21:06:47] Energy consumed for all GPUs : 0.180964 kWh. Total GPU Power : 69.75796796263548 W\n[codecarbon INFO @ 21:06:47] Energy consumed for all CPUs : 0.116911 kWh. Total CPU Power : 42.5 W\n[codecarbon INFO @ 21:06:47] 0.326136 kWh of electricity used since the beginning.\n[codecarbon INFO @ 21:06:55] Energy consumed for RAM : 0.028081 kWh. RAM Power : 10.2771635055542 W\n[codecarbon INFO @ 21:06:55] Energy consumed for all GPUs : 0.180692 kWh. Total GPU Power : 69.65191571295634 W\n[codecarbon INFO @ 21:06:55] Energy consumed for all CPUs : 0.116165 kWh. Total CPU Power : 42.5 W\n[codecarbon INFO @ 21:06:55] 0.324938 kWh of electricity used since the beginning.\n[codecarbon INFO @ 21:07:02] Energy consumed for RAM : 0.028304 kWh. RAM Power : 10.2771635055542 W\n[codecarbon INFO @ 21:07:02] Energy consumed for all GPUs : 0.181254 kWh. Total GPU Power : 69.61206424366556 W\n[codecarbon INFO @ 21:07:02] Energy consumed for all CPUs : 0.117088 kWh. Total CPU Power : 42.5 W\n[codecarbon INFO @ 21:07:02] 0.326646 kWh of electricity used since the beginning.\n[codecarbon INFO @ 21:07:10] Energy consumed for RAM : 0.028124 kWh. RAM Power : 10.2771635055542 W\n[codecarbon INFO @ 21:07:10] Energy consumed for all GPUs : 0.180982 kWh. Total GPU Power : 69.56766308832589 W\n[codecarbon INFO @ 21:07:10] Energy consumed for all CPUs : 0.116342 kWh. Total CPU Power : 42.5 W\n[codecarbon INFO @ 21:07:10] 0.325447 kWh of electricity used since the beginning.\n[codecarbon INFO @ 21:07:17] Energy consumed for RAM : 0.028347 kWh. RAM Power : 10.2771635055542 W\n[codecarbon INFO @ 21:07:17] Energy consumed for all GPUs : 0.181544 kWh. Total GPU Power : 69.57720589827383 W\n[codecarbon INFO @ 21:07:17] Energy consumed for all CPUs : 0.117265 kWh. Total CPU Power : 42.5 W\n[codecarbon INFO @ 21:07:17] 0.327155 kWh of electricity used since the beginning.\n[codecarbon INFO @ 21:07:25] Energy consumed for RAM : 0.028167 kWh. RAM Power : 10.2771635055542 W\n[codecarbon INFO @ 21:07:25] Energy consumed for all GPUs : 0.181271 kWh. Total GPU Power : 69.58049315893182 W\n[codecarbon INFO @ 21:07:25] Energy consumed for all CPUs : 0.116519 kWh. Total CPU Power : 42.5 W\n[codecarbon INFO @ 21:07:25] 0.325957 kWh of electricity used since the beginning.\n[codecarbon INFO @ 21:07:32] Energy consumed for RAM : 0.028389 kWh. RAM Power : 10.2771635055542 W\n[codecarbon INFO @ 21:07:32] Energy consumed for all GPUs : 0.181833 kWh. Total GPU Power : 69.55306970425762 W\n[codecarbon INFO @ 21:07:32] Energy consumed for all CPUs : 0.117442 kWh. Total CPU Power : 42.5 W\n[codecarbon INFO @ 21:07:32] 0.327665 kWh of electricity used since the beginning.\n[codecarbon INFO @ 21:07:40] Energy consumed for RAM : 0.028209 kWh. RAM Power : 10.2771635055542 W\n[codecarbon INFO @ 21:07:40] Energy consumed for all GPUs : 0.181561 kWh. Total GPU Power : 69.62041975596779 W\n[codecarbon INFO @ 21:07:40] Energy consumed for all CPUs : 0.116696 kWh. Total CPU Power : 42.5 W\n[codecarbon INFO @ 21:07:40] 0.326467 kWh of electricity used since the beginning.\n[codecarbon INFO @ 21:07:47] Energy consumed for RAM : 0.028432 kWh. RAM Power : 10.2771635055542 W\n[codecarbon INFO @ 21:07:47] Energy consumed for all GPUs : 0.182124 kWh. Total GPU Power : 69.71504159966135 W\n[codecarbon INFO @ 21:07:47] Energy consumed for all CPUs : 0.117619 kWh. Total CPU Power : 42.5 W\n[codecarbon INFO @ 21:07:47] 0.328175 kWh of electricity used since the beginning.\n[codecarbon INFO @ 21:07:55] Energy consumed for RAM : 0.028252 kWh. RAM Power : 10.2771635055542 W\n[codecarbon INFO @ 21:07:55] Energy consumed for all GPUs : 0.181850 kWh. Total GPU Power : 69.2574123888805 W\n[codecarbon INFO @ 21:07:55] Energy consumed for all CPUs : 0.116873 kWh. Total CPU Power : 42.5 W\n[codecarbon INFO @ 21:07:55] 0.326975 kWh of electricity used since the beginning.\n[codecarbon INFO @ 21:08:02] Energy consumed for RAM : 0.028475 kWh. RAM Power : 10.2771635055542 W\n[codecarbon INFO @ 21:08:02] Energy consumed for all GPUs : 0.182414 kWh. Total GPU Power : 69.62921294578038 W\n[codecarbon INFO @ 21:08:02] Energy consumed for all CPUs : 0.117796 kWh. Total CPU Power : 42.5 W\n[codecarbon INFO @ 21:08:02] 0.328685 kWh of electricity used since the beginning.\n[codecarbon INFO @ 21:08:10] Energy consumed for RAM : 0.028295 kWh. RAM Power : 10.2771635055542 W\n[codecarbon INFO @ 21:08:10] Energy consumed for all GPUs : 0.182141 kWh. Total GPU Power : 69.996558470162 W\n[codecarbon INFO @ 21:08:10] Energy consumed for all CPUs : 0.117050 kWh. Total CPU Power : 42.5 W\n[codecarbon INFO @ 21:08:10] 0.327487 kWh of electricity used since the beginning.\n[codecarbon INFO @ 21:08:17] Energy consumed for RAM : 0.028518 kWh. RAM Power : 10.2771635055542 W\n[codecarbon INFO @ 21:08:17] Energy consumed for all GPUs : 0.182704 kWh. Total GPU Power : 69.53052243034844 W\n[codecarbon INFO @ 21:08:17] Energy consumed for all CPUs : 0.117974 kWh. Total CPU Power : 42.5 W\n[codecarbon INFO @ 21:08:17] 0.329195 kWh of electricity used since the beginning.\n[codecarbon INFO @ 21:08:25] Energy consumed for RAM : 0.028338 kWh. RAM Power : 10.2771635055542 W\n[codecarbon INFO @ 21:08:25] Energy consumed for all GPUs : 0.182431 kWh. Total GPU Power : 69.63137885747895 W\n[codecarbon INFO @ 21:08:25] Energy consumed for all CPUs : 0.117227 kWh. Total CPU Power : 42.5 W\n[codecarbon INFO @ 21:08:25] 0.327997 kWh of electricity used since the beginning.\n[codecarbon INFO @ 21:08:32] Energy consumed for RAM : 0.028561 kWh. RAM Power : 10.2771635055542 W\n[codecarbon INFO @ 21:08:32] Energy consumed for all GPUs : 0.182993 kWh. Total GPU Power : 69.61819169856221 W\n[codecarbon INFO @ 21:08:32] Energy consumed for all CPUs : 0.118151 kWh. Total CPU Power : 42.5 W\n[codecarbon INFO @ 21:08:32] 0.329705 kWh of electricity used since the beginning.\n[codecarbon INFO @ 21:08:40] Energy consumed for RAM : 0.028381 kWh. RAM Power : 10.2771635055542 W\n[codecarbon INFO @ 21:08:40] Energy consumed for all GPUs : 0.182721 kWh. Total GPU Power : 69.58758682340623 W\n[codecarbon INFO @ 21:08:40] Energy consumed for all CPUs : 0.117405 kWh. Total CPU Power : 42.5 W\n[codecarbon INFO @ 21:08:40] 0.328506 kWh of electricity used since the beginning.\n[codecarbon INFO @ 21:08:47] Energy consumed for RAM : 0.028603 kWh. RAM Power : 10.2771635055542 W\n[codecarbon INFO @ 21:08:47] Energy consumed for all GPUs : 0.183283 kWh. Total GPU Power : 69.53616259131468 W\n[codecarbon INFO @ 21:08:47] Energy consumed for all CPUs : 0.118328 kWh. Total CPU Power : 42.5 W\n[codecarbon INFO @ 21:08:47] 0.330214 kWh of electricity used since the beginning.\n[codecarbon INFO @ 21:08:55] Energy consumed for RAM : 0.028423 kWh. RAM Power : 10.2771635055542 W\n[codecarbon INFO @ 21:08:55] Energy consumed for all GPUs : 0.183009 kWh. Total GPU Power : 69.17622705035843 W\n[codecarbon INFO @ 21:08:55] Energy consumed for all CPUs : 0.117582 kWh. Total CPU Power : 42.5 W\n[codecarbon INFO @ 21:08:55] 0.329014 kWh of electricity used since the beginning.\n[codecarbon INFO @ 21:09:02] Energy consumed for RAM : 0.028646 kWh. RAM Power : 10.2771635055542 W\n[codecarbon INFO @ 21:09:02] Energy consumed for all GPUs : 0.183573 kWh. Total GPU Power : 69.65017284595375 W\n[codecarbon INFO @ 21:09:02] Energy consumed for all CPUs : 0.118505 kWh. Total CPU Power : 42.5 W\n[codecarbon INFO @ 21:09:02] 0.330724 kWh of electricity used since the beginning.\n[codecarbon INFO @ 21:09:10] Energy consumed for RAM : 0.028466 kWh. RAM Power : 10.2771635055542 W\n[codecarbon INFO @ 21:09:10] Energy consumed for all GPUs : 0.183299 kWh. Total GPU Power : 69.5443758417496 W\n[codecarbon INFO @ 21:09:10] Energy consumed for all CPUs : 0.117759 kWh. Total CPU Power : 42.5 W\n[codecarbon INFO @ 21:09:10] 0.329524 kWh of electricity used since the beginning.\n[codecarbon INFO @ 21:09:17] Energy consumed for RAM : 0.028689 kWh. RAM Power : 10.2771635055542 W\n[codecarbon INFO @ 21:09:17] Energy consumed for all GPUs : 0.183863 kWh. Total GPU Power : 69.64217096868528 W\n[codecarbon INFO @ 21:09:17] Energy consumed for all CPUs : 0.118682 kWh. Total CPU Power : 42.5 W\n[codecarbon INFO @ 21:09:17] 0.331234 kWh of electricity used since the beginning.\n[codecarbon INFO @ 21:09:25] Energy consumed for RAM : 0.028509 kWh. RAM Power : 10.2771635055542 W\n[codecarbon INFO @ 21:09:25] Energy consumed for all GPUs : 0.183589 kWh. Total GPU Power : 69.60734594416083 W\n[codecarbon INFO @ 21:09:25] Energy consumed for all CPUs : 0.117936 kWh. Total CPU Power : 42.5 W\n[codecarbon INFO @ 21:09:25] 0.330034 kWh of electricity used since the beginning.\n[codecarbon INFO @ 21:09:32] Energy consumed for RAM : 0.028732 kWh. RAM Power : 10.2771635055542 W\n[codecarbon INFO @ 21:09:32] Energy consumed for all GPUs : 0.184153 kWh. Total GPU Power : 69.51936096641131 W\n[codecarbon INFO @ 21:09:32] Energy consumed for all CPUs : 0.118859 kWh. Total CPU Power : 42.5 W\n[codecarbon INFO @ 21:09:32] 0.331743 kWh of electricity used since the beginning.\n[codecarbon INFO @ 21:09:40] Energy consumed for RAM : 0.028552 kWh. RAM Power : 10.2771635055542 W\n[codecarbon INFO @ 21:09:40] Energy consumed for all GPUs : 0.183879 kWh. Total GPU Power : 69.5362554029253 W\n[codecarbon INFO @ 21:09:40] Energy consumed for all CPUs : 0.118113 kWh. Total CPU Power : 42.5 W\n[codecarbon INFO @ 21:09:40] 0.330543 kWh of electricity used since the beginning.\n[codecarbon INFO @ 21:09:47] Energy consumed for RAM : 0.028775 kWh. RAM Power : 10.2771635055542 W\n[codecarbon INFO @ 21:09:47] Energy consumed for all GPUs : 0.184443 kWh. Total GPU Power : 69.58802966681114 W\n[codecarbon INFO @ 21:09:47] Energy consumed for all CPUs : 0.119036 kWh. Total CPU Power : 42.5 W\n[codecarbon INFO @ 21:09:47] 0.332253 kWh of electricity used since the beginning.\n[codecarbon INFO @ 21:09:55] Energy consumed for RAM : 0.028595 kWh. RAM Power : 10.2771635055542 W\n[codecarbon INFO @ 21:09:55] Energy consumed for all GPUs : 0.184168 kWh. Total GPU Power : 69.54957641203536 W\n[codecarbon INFO @ 21:09:55] Energy consumed for all CPUs : 0.118290 kWh. Total CPU Power : 42.5 W\n[codecarbon INFO @ 21:09:55] 0.331053 kWh of electricity used since the beginning.\n[codecarbon INFO @ 21:10:02] Energy consumed for RAM : 0.028817 kWh. RAM Power : 10.2771635055542 W\n[codecarbon INFO @ 21:10:02] Energy consumed for all GPUs : 0.184732 kWh. Total GPU Power : 69.56631866959121 W\n[codecarbon INFO @ 21:10:02] Energy consumed for all CPUs : 0.119213 kWh. Total CPU Power : 42.5 W\n[codecarbon INFO @ 21:10:02] 0.332763 kWh of electricity used since the beginning.\n[codecarbon INFO @ 21:10:10] Energy consumed for RAM : 0.028637 kWh. RAM Power : 10.2771635055542 W\n[codecarbon INFO @ 21:10:10] Energy consumed for all GPUs : 0.184458 kWh. Total GPU Power : 69.5194590751436 W\n[codecarbon INFO @ 21:10:10] Energy consumed for all CPUs : 0.118467 kWh. Total CPU Power : 42.5 W\n[codecarbon INFO @ 21:10:10] 0.331562 kWh of electricity used since the beginning.\n[codecarbon INFO @ 21:10:17] Energy consumed for RAM : 0.028860 kWh. RAM Power : 10.2771635055542 W\n[codecarbon INFO @ 21:10:17] Energy consumed for all GPUs : 0.185022 kWh. Total GPU Power : 69.5602122224323 W\n[codecarbon INFO @ 21:10:17] Energy consumed for all CPUs : 0.119390 kWh. Total CPU Power : 42.5 W\n[codecarbon INFO @ 21:10:17] 0.333272 kWh of electricity used since the beginning.\n[codecarbon INFO @ 21:10:25] Energy consumed for RAM : 0.028680 kWh. RAM Power : 10.2771635055542 W\n[codecarbon INFO @ 21:10:25] Energy consumed for all GPUs : 0.184666 kWh. Total GPU Power : 49.831912690035004 W\n[codecarbon INFO @ 21:10:25] Energy consumed for all CPUs : 0.118644 kWh. Total CPU Power : 42.5 W\n[codecarbon INFO @ 21:10:25] 0.331990 kWh of electricity used since the beginning.\n[codecarbon INFO @ 21:10:32] Energy consumed for RAM : 0.028903 kWh. RAM Power : 10.2771635055542 W\n[codecarbon INFO @ 21:10:32] Energy consumed for all GPUs : 0.185148 kWh. Total GPU Power : 30.207262858152394 W\n[codecarbon INFO @ 21:10:32] Energy consumed for all CPUs : 0.119567 kWh. Total CPU Power : 42.5 W\n[codecarbon INFO @ 21:10:32] 0.333618 kWh of electricity used since the beginning.\n[codecarbon INFO @ 21:10:40] Energy consumed for RAM : 0.028723 kWh. RAM Power : 10.2771635055542 W\n[codecarbon INFO @ 21:10:40] Energy consumed for all GPUs : 0.184785 kWh. Total GPU Power : 28.68774263199684 W\n[codecarbon INFO @ 21:10:40] Energy consumed for all CPUs : 0.118821 kWh. Total CPU Power : 42.5 W\n[codecarbon INFO @ 21:10:40] 0.332329 kWh of electricity used since the beginning.\n[codecarbon INFO @ 21:10:47] Energy consumed for RAM : 0.028946 kWh. RAM Power : 10.2771635055542 W\n[codecarbon INFO @ 21:10:47] Energy consumed for all GPUs : 0.185266 kWh. Total GPU Power : 28.418311991599477 W\n[codecarbon INFO @ 21:10:47] Energy consumed for all CPUs : 0.119744 kWh. Total CPU Power : 42.5 W\n[codecarbon INFO @ 21:10:47] 0.333956 kWh of electricity used since the beginning.\n[codecarbon INFO @ 21:10:55] Energy consumed for RAM : 0.028766 kWh. RAM Power : 10.2771635055542 W\n[codecarbon INFO @ 21:10:55] Energy consumed for all GPUs : 0.184903 kWh. Total GPU Power : 28.357331966478874 W\n[codecarbon INFO @ 21:10:55] Energy consumed for all CPUs : 0.118998 kWh. Total CPU Power : 42.5 W\n[codecarbon INFO @ 21:10:55] 0.332667 kWh of electricity used since the beginning.\n[codecarbon INFO @ 21:11:02] Energy consumed for RAM : 0.028989 kWh. RAM Power : 10.2771635055542 W\n[codecarbon INFO @ 21:11:02] Energy consumed for all GPUs : 0.185384 kWh. Total GPU Power : 28.166691188705087 W\n[codecarbon INFO @ 21:11:02] Energy consumed for all CPUs : 0.119921 kWh. Total CPU Power : 42.5 W\n[codecarbon INFO @ 21:11:02] 0.334293 kWh of electricity used since the beginning.\n[codecarbon INFO @ 21:11:10] Energy consumed for RAM : 0.028809 kWh. RAM Power : 10.2771635055542 W\n[codecarbon INFO @ 21:11:10] Energy consumed for all GPUs : 0.185019 kWh. Total GPU Power : 27.8337610838283 W\n[codecarbon INFO @ 21:11:10] Energy consumed for all CPUs : 0.119175 kWh. Total CPU Power : 42.5 W\n[codecarbon INFO @ 21:11:10] 0.333003 kWh of electricity used since the beginning.\n[codecarbon INFO @ 21:11:17] Energy consumed for RAM : 0.029031 kWh. RAM Power : 10.2771635055542 W\n[codecarbon INFO @ 21:11:17] Energy consumed for all GPUs : 0.185499 kWh. Total GPU Power : 27.76377468603138 W\n[codecarbon INFO @ 21:11:17] Energy consumed for all CPUs : 0.120098 kWh. Total CPU Power : 42.5 W\n[codecarbon INFO @ 21:11:17] 0.334629 kWh of electricity used since the beginning.\n[codecarbon INFO @ 21:11:25] Energy consumed for RAM : 0.028851 kWh. RAM Power : 10.2771635055542 W\n[codecarbon INFO @ 21:11:25] Energy consumed for all GPUs : 0.185135 kWh. Total GPU Power : 27.858888515359926 W\n[codecarbon INFO @ 21:11:25] Energy consumed for all CPUs : 0.119352 kWh. Total CPU Power : 42.5 W\n[codecarbon INFO @ 21:11:25] 0.333339 kWh of electricity used since the beginning.\n[codecarbon INFO @ 21:11:32] Energy consumed for RAM : 0.029074 kWh. RAM Power : 10.2771635055542 W\n[codecarbon INFO @ 21:11:32] Energy consumed for all GPUs : 0.185614 kWh. Total GPU Power : 27.57897895134064 W\n[codecarbon INFO @ 21:11:32] Energy consumed for all CPUs : 0.120275 kWh. Total CPU Power : 42.5 W\n[codecarbon INFO @ 21:11:32] 0.334964 kWh of electricity used since the beginning.\n[codecarbon INFO @ 21:11:40] Energy consumed for RAM : 0.028894 kWh. RAM Power : 10.2771635055542 W\n[codecarbon INFO @ 21:11:40] Energy consumed for all GPUs : 0.185250 kWh. Total GPU Power : 27.466699529825277 W\n[codecarbon INFO @ 21:11:40] Energy consumed for all CPUs : 0.119529 kWh. Total CPU Power : 42.5 W\n[codecarbon INFO @ 21:11:40] 0.333673 kWh of electricity used since the beginning.\n[codecarbon INFO @ 21:11:47] Energy consumed for RAM : 0.029117 kWh. RAM Power : 10.2771635055542 W\n[codecarbon INFO @ 21:11:47] Energy consumed for all GPUs : 0.185729 kWh. Total GPU Power : 27.55145034490683 W\n[codecarbon INFO @ 21:11:47] Energy consumed for all CPUs : 0.120453 kWh. Total CPU Power : 42.5 W\n[codecarbon INFO @ 21:11:47] 0.335298 kWh of electricity used since the beginning.\n[codecarbon INFO @ 21:11:55] Energy consumed for RAM : 0.028937 kWh. RAM Power : 10.2771635055542 W\n[codecarbon INFO @ 21:11:55] Energy consumed for all GPUs : 0.185363 kWh. Total GPU Power : 27.27927673130575 W\n[codecarbon INFO @ 21:11:55] Energy consumed for all CPUs : 0.119707 kWh. Total CPU Power : 42.5 W\n[codecarbon INFO @ 21:11:55] 0.334007 kWh of electricity used since the beginning.\n[codecarbon INFO @ 21:12:02] Energy consumed for RAM : 0.029160 kWh. RAM Power : 10.2771635055542 W\n[codecarbon INFO @ 21:12:02] Energy consumed for all GPUs : 0.185842 kWh. Total GPU Power : 27.203583895669098 W\n[codecarbon INFO @ 21:12:02] Energy consumed for all CPUs : 0.120630 kWh. Total CPU Power : 42.5 W\n[codecarbon INFO @ 21:12:02] 0.335632 kWh of electricity used since the beginning.\n[codecarbon INFO @ 21:12:10] Energy consumed for RAM : 0.028980 kWh. RAM Power : 10.2771635055542 W\n[codecarbon INFO @ 21:12:10] Energy consumed for all GPUs : 0.185477 kWh. Total GPU Power : 27.296890435764208 W\n[codecarbon INFO @ 21:12:10] Energy consumed for all CPUs : 0.119884 kWh. Total CPU Power : 42.5 W\n[codecarbon INFO @ 21:12:10] 0.334341 kWh of electricity used since the beginning.\n[codecarbon INFO @ 21:12:17] Energy consumed for RAM : 0.029203 kWh. RAM Power : 10.2771635055542 W\n[codecarbon INFO @ 21:12:17] Energy consumed for all GPUs : 0.185955 kWh. Total GPU Power : 27.02956684345221 W\n[codecarbon INFO @ 21:12:17] Energy consumed for all CPUs : 0.120807 kWh. Total CPU Power : 42.5 W\n[codecarbon INFO @ 21:12:17] 0.335964 kWh of electricity used since the beginning.\n[codecarbon INFO @ 21:12:25] Energy consumed for RAM : 0.029023 kWh. RAM Power : 10.2771635055542 W\n[codecarbon INFO @ 21:12:25] Energy consumed for all GPUs : 0.185668 kWh. Total GPU Power : 45.885183936796096 W\n[codecarbon INFO @ 21:12:25] Energy consumed for all CPUs : 0.120061 kWh. Total CPU Power : 42.5 W\n[codecarbon INFO @ 21:12:25] 0.334752 kWh of electricity used since the beginning.\n[codecarbon INFO @ 21:12:32] Energy consumed for RAM : 0.029245 kWh. RAM Power : 10.2771635055542 W\n[codecarbon INFO @ 21:12:32] Energy consumed for all GPUs : 0.186232 kWh. Total GPU Power : 66.64769814791362 W\n[codecarbon INFO @ 21:12:32] Energy consumed for all CPUs : 0.120984 kWh. Total CPU Power : 42.5 W\n[codecarbon INFO @ 21:12:32] 0.336462 kWh of electricity used since the beginning.\n[codecarbon INFO @ 21:12:40] Energy consumed for RAM : 0.029066 kWh. RAM Power : 10.2771635055542 W\n[codecarbon INFO @ 21:12:40] Energy consumed for all GPUs : 0.185960 kWh. Total GPU Power : 70.14213513660115 W\n[codecarbon INFO @ 21:12:40] Energy consumed for all CPUs : 0.120238 kWh. Total CPU Power : 42.5 W\n[codecarbon INFO @ 21:12:40] 0.335264 kWh of electricity used since the beginning.\n[codecarbon INFO @ 21:12:47] Energy consumed for RAM : 0.029288 kWh. RAM Power : 10.2771635055542 W\n[codecarbon INFO @ 21:12:47] Energy consumed for all GPUs : 0.186523 kWh. Total GPU Power : 69.65373819669189 W\n[codecarbon INFO @ 21:12:47] Energy consumed for all CPUs : 0.121161 kWh. Total CPU Power : 42.5 W\n[codecarbon INFO @ 21:12:47] 0.336972 kWh of electricity used since the beginning.\n/anaconda/envs/azureml_py38/lib/python3.8/site-packages/sklearn/metrics/_classification.py:1272: UndefinedMetricWarning: Precision is ill-defined and being set to 0.0 in samples with no predicted labels. Use `zero_division` parameter to control this behavior.\n  _warn_prf(average, modifier, msg_start, len(result))\n/anaconda/envs/azureml_py38/lib/python3.8/site-packages/sklearn/metrics/_classification.py:1272: UndefinedMetricWarning: Recall is ill-defined and being set to 0.0 in samples with no true labels. Use `zero_division` parameter to control this behavior.\n  _warn_prf(average, modifier, msg_start, len(result))\n/anaconda/envs/azureml_py38/lib/python3.8/site-packages/sklearn/metrics/_classification.py:1514: UndefinedMetricWarning: F-score is ill-defined and being set to 0.0 in samples with no true nor predicted labels. Use `zero_division` parameter to control this behavior.\n  _warn_prf(\n[codecarbon INFO @ 21:12:55] Energy consumed for RAM : 0.029108 kWh. RAM Power : 10.2771635055542 W\n[codecarbon INFO @ 21:12:55] Energy consumed for all GPUs : 0.186198 kWh. Total GPU Power : 56.98416805281015 W\n[codecarbon INFO @ 21:12:55] Energy consumed for all CPUs : 0.120415 kWh. Total CPU Power : 42.5 W\n[codecarbon INFO @ 21:12:55] 0.335721 kWh of electricity used since the beginning.\n[codecarbon INFO @ 21:13:00] Energy consumed for RAM : 0.029124 kWh. RAM Power : 10.2771635055542 W\n[codecarbon INFO @ 21:13:00] Energy consumed for all GPUs : 0.186240 kWh. Total GPU Power : 28.01069964635779 W\n[codecarbon INFO @ 21:13:00] Energy consumed for all CPUs : 0.120479 kWh. Total CPU Power : 42.5 W\n[codecarbon INFO @ 21:13:00] 0.335842 kWh of electricity used since the beginning.\n"
        },
        {
          "output_type": "execute_result",
          "execution_count": 12,
          "data": {
            "text/plain": "TrainOutput(global_step=7840, training_loss=0.11496771932864676, metrics={'train_runtime': 10206.8765, 'train_samples_per_second': 12.284, 'train_steps_per_second': 0.768, 'total_flos': 2.47416480907776e+16, 'train_loss': 0.11496771932864676, 'epoch': 10.0})"
          },
          "metadata": {}
        }
      ],
      "execution_count": null,
      "metadata": {
        "colab": {
          "base_uri": "https://localhost:8080/",
          "height": 1000
        },
        "id": "FxlFOlnzGbXr",
        "outputId": "651d54f8-bcec-49a8-8cf7-e89b6bec6c3a",
        "gather": {
          "logged": 1705785180718
        }
      }
    },
    {
      "cell_type": "code",
      "source": [
        "tracker.stop()"
      ],
      "outputs": [
        {
          "output_type": "stream",
          "name": "stderr",
          "text": "[codecarbon INFO @ 21:13:00] Energy consumed for RAM : 0.029327 kWh. RAM Power : 10.2771635055542 W\n[codecarbon INFO @ 21:13:00] Energy consumed for all GPUs : 0.186666 kWh. Total GPU Power : 38.48961348302786 W\n[codecarbon INFO @ 21:13:00] Energy consumed for all CPUs : 0.121320 kWh. Total CPU Power : 42.5 W\n[codecarbon INFO @ 21:13:00] 0.337313 kWh of electricity used since the beginning.\n"
        },
        {
          "output_type": "execute_result",
          "execution_count": 13,
          "data": {
            "text/plain": "0.12327996750145848"
          },
          "metadata": {}
        }
      ],
      "execution_count": null,
      "metadata": {
        "colab": {
          "base_uri": "https://localhost:8080/",
          "height": 146
        },
        "id": "smEdKq8z7J7n",
        "outputId": "07e2eccf-dffe-445e-a8a8-2debfda56c75",
        "gather": {
          "logged": 1705785182331
        }
      }
    },
    {
      "cell_type": "code",
      "source": [
        "multi_trainer.push_to_hub()"
      ],
      "outputs": [
        {
          "output_type": "display_data",
          "data": {
            "text/plain": "training_args.bin:   0%|          | 0.00/4.14k [00:00<?, ?B/s]",
            "application/vnd.jupyter.widget-view+json": {
              "version_major": 2,
              "version_minor": 0,
              "model_id": "0f7b5f5d92b9414c9ae8231f910ddab2"
            }
          },
          "metadata": {}
        },
        {
          "output_type": "display_data",
          "data": {
            "text/plain": "Upload 3 LFS files:   0%|          | 0/3 [00:00<?, ?it/s]",
            "application/vnd.jupyter.widget-view+json": {
              "version_major": 2,
              "version_minor": 0,
              "model_id": "8bb6422adb754815a1a79535d27caf4b"
            }
          },
          "metadata": {}
        },
        {
          "output_type": "display_data",
          "data": {
            "text/plain": "model.safetensors:   0%|          | 0.00/438M [00:00<?, ?B/s]",
            "application/vnd.jupyter.widget-view+json": {
              "version_major": 2,
              "version_minor": 0,
              "model_id": "51500c9c9cf9490a9e9b6d27a90876a2"
            }
          },
          "metadata": {}
        },
        {
          "output_type": "display_data",
          "data": {
            "text/plain": "events.out.tfevents.1705774974.prashant-t4-core4.4200.0:   0%|          | 0.00/14.2k [00:00<?, ?B/s]",
            "application/vnd.jupyter.widget-view+json": {
              "version_major": 2,
              "version_minor": 0,
              "model_id": "42214475e901407c9de14a68f367df45"
            }
          },
          "metadata": {}
        },
        {
          "output_type": "execute_result",
          "execution_count": 14,
          "data": {
            "text/plain": "'https://huggingface.co/ppsingh/ADAPMIT-multilabel-mpnet/tree/main/'"
          },
          "metadata": {}
        }
      ],
      "execution_count": null,
      "metadata": {
        "colab": {
          "base_uri": "https://localhost:8080/",
          "referenced_widgets": [
            "0f7b5f5d92b9414c9ae8231f910ddab2",
            "8bb6422adb754815a1a79535d27caf4b",
            "51500c9c9cf9490a9e9b6d27a90876a2",
            "42214475e901407c9de14a68f367df45"
          ]
        },
        "id": "0emuEBFP7SG5",
        "outputId": "f7f2d480-5e4d-45b4-9e1a-c71a9659a157",
        "gather": {
          "logged": 1705785209210
        }
      }
    },
    {
      "cell_type": "code",
      "source": [
        "log_results = multi_trainer.state.log_history\n",
        "print(log_results)\n",
        "\n",
        "import json\n",
        "with open(\"classifier_info/ADAPMIT_mpnet_logs.json\", \"w\") as fp:\n",
        "    json.dump(log_results , fp)"
      ],
      "outputs": [
        {
          "output_type": "stream",
          "name": "stdout",
          "text": "[{'loss': 0.3774, 'learning_rate': 3.818100795755968e-05, 'epoch': 1.0, 'step': 784}, {'eval_loss': 0.2777751386165619, 'eval_precision-micro': 0.8900634249471459, 'eval_precision-samples': 0.8488767869298843, 'eval_precision-weighted': 0.8899664327317055, 'eval_recall-micro': 0.9040801717967072, 'eval_recall-samples': 0.8451327433628318, 'eval_recall-weighted': 0.9040801717967072, 'eval_f1-micro': 0.8970170454545455, 'eval_f1-samples': 0.8432039936464716, 'eval_f1-weighted': 0.8968269579391615, 'eval_runtime': 33.6236, 'eval_samples_per_second': 43.69, 'eval_steps_per_second': 5.472, 'epoch': 1.0, 'step': 784}, {'loss': 0.2349, 'learning_rate': 3.393867374005305e-05, 'epoch': 2.0, 'step': 1568}, {'eval_loss': 0.2603946030139923, 'eval_precision-micro': 0.9081041968162084, 'eval_precision-samples': 0.84785568413887, 'eval_precision-weighted': 0.9131501128536955, 'eval_recall-micro': 0.898353614889048, 'eval_recall-samples': 0.8396868618107556, 'eval_recall-weighted': 0.898353614889048, 'eval_f1-micro': 0.9032025908600216, 'eval_f1-samples': 0.8404810528704334, 'eval_f1-weighted': 0.9021369703775614, 'eval_runtime': 32.2681, 'eval_samples_per_second': 45.525, 'eval_steps_per_second': 5.702, 'epoch': 2.0, 'step': 1568}, {'loss': 0.1714, 'learning_rate': 2.9696339522546418e-05, 'epoch': 3.0, 'step': 2352}, {'eval_loss': 0.23120540380477905, 'eval_precision-micro': 0.9175550817341862, 'eval_precision-samples': 0.8658951667801226, 'eval_precision-weighted': 0.9191025326063683, 'eval_recall-micro': 0.9241231209735147, 'eval_recall-samples': 0.8628318584070797, 'eval_recall-weighted': 0.9241231209735147, 'eval_f1-micro': 0.920827389443652, 'eval_f1-samples': 0.8606761969593828, 'eval_f1-weighted': 0.9205714496091261, 'eval_runtime': 32.2837, 'eval_samples_per_second': 45.503, 'eval_steps_per_second': 5.699, 'epoch': 3.0, 'step': 2352}, {'loss': 0.125, 'learning_rate': 2.5454005305039787e-05, 'epoch': 4.0, 'step': 3136}, {'eval_loss': 0.23438142240047455, 'eval_precision-micro': 0.9095337508698678, 'eval_precision-samples': 0.8703199455411845, 'eval_precision-weighted': 0.9095517171886013, 'eval_recall-micro': 0.9355762347888332, 'eval_recall-samples': 0.8733832539142273, 'eval_recall-weighted': 0.9355762347888332, 'eval_f1-micro': 0.9223712067748765, 'eval_f1-samples': 0.8672566371681416, 'eval_f1-weighted': 0.9223094273236057, 'eval_runtime': 32.2487, 'eval_samples_per_second': 45.552, 'eval_steps_per_second': 5.706, 'epoch': 4.0, 'step': 3136}, {'loss': 0.0877, 'learning_rate': 2.1211671087533157e-05, 'epoch': 5.0, 'step': 3920}, {'eval_loss': 0.2573809027671814, 'eval_precision-micro': 0.9219858156028369, 'eval_precision-samples': 0.8703199455411845, 'eval_precision-weighted': 0.9222628138858029, 'eval_recall-micro': 0.9305654974946314, 'eval_recall-samples': 0.8675970047651463, 'eval_recall-weighted': 0.9305654974946314, 'eval_f1-micro': 0.9262557890986819, 'eval_f1-samples': 0.865668255048786, 'eval_f1-weighted': 0.9261916202253734, 'eval_runtime': 72.0758, 'eval_samples_per_second': 20.381, 'eval_steps_per_second': 2.553, 'epoch': 5.0, 'step': 3920}, {'loss': 0.0592, 'learning_rate': 1.6969336870026526e-05, 'epoch': 6.0, 'step': 4704}, {'eval_loss': 0.30563485622406006, 'eval_precision-micro': 0.9187853107344632, 'eval_precision-samples': 0.8675970047651463, 'eval_precision-weighted': 0.9188453070432312, 'eval_recall-micro': 0.9312813171080888, 'eval_recall-samples': 0.8692988427501702, 'eval_recall-weighted': 0.9312813171080888, 'eval_f1-micro': 0.924991112691077, 'eval_f1-samples': 0.8640798729294306, 'eval_f1-weighted': 0.9250112415337534, 'eval_runtime': 33.463, 'eval_samples_per_second': 43.899, 'eval_steps_per_second': 5.499, 'epoch': 6.0, 'step': 4704}, {'loss': 0.0419, 'learning_rate': 1.2727002652519894e-05, 'epoch': 7.0, 'step': 5488}, {'eval_loss': 0.3164365291595459, 'eval_precision-micro': 0.9186128803963199, 'eval_precision-samples': 0.8584070796460177, 'eval_precision-weighted': 0.918637550718765, 'eval_recall-micro': 0.9291338582677166, 'eval_recall-samples': 0.8655547991831177, 'eval_recall-weighted': 0.9291338582677166, 'eval_f1-micro': 0.9238434163701068, 'eval_f1-samples': 0.8574994327206715, 'eval_f1-weighted': 0.9238328263695684, 'eval_runtime': 32.255, 'eval_samples_per_second': 45.543, 'eval_steps_per_second': 5.705, 'epoch': 7.0, 'step': 5488}, {'loss': 0.027, 'learning_rate': 8.484668435013263e-06, 'epoch': 8.0, 'step': 6272}, {'eval_loss': 0.35769742727279663, 'eval_precision-micro': 0.9111111111111111, 'eval_precision-samples': 0.8648740639891083, 'eval_precision-weighted': 0.9112864373471574, 'eval_recall-micro': 0.9391553328561203, 'eval_recall-samples': 0.8744043567052416, 'eval_recall-weighted': 0.9391553328561203, 'eval_f1-micro': 0.924920690870638, 'eval_f1-samples': 0.8649875198547765, 'eval_f1-weighted': 0.9249545383014717, 'eval_runtime': 32.305, 'eval_samples_per_second': 45.473, 'eval_steps_per_second': 5.696, 'epoch': 8.0, 'step': 6272}, {'loss': 0.0158, 'learning_rate': 4.2423342175066315e-06, 'epoch': 9.0, 'step': 7056}, {'eval_loss': 0.372124582529068, 'eval_precision-micro': 0.9034907597535934, 'eval_precision-samples': 0.8611300204220558, 'eval_precision-weighted': 0.9034988871446296, 'eval_recall-micro': 0.9448818897637795, 'eval_recall-samples': 0.8774676650782846, 'eval_recall-weighted': 0.9448818897637795, 'eval_f1-micro': 0.9237228831350595, 'eval_f1-samples': 0.8640798729294304, 'eval_f1-weighted': 0.9237266846562778, 'eval_runtime': 32.2708, 'eval_samples_per_second': 45.521, 'eval_steps_per_second': 5.702, 'epoch': 9.0, 'step': 7056}, {'loss': 0.0094, 'learning_rate': 0.0, 'epoch': 10.0, 'step': 7840}, {'eval_loss': 0.3839361369609833, 'eval_precision-micro': 0.9138888888888889, 'eval_precision-samples': 0.8679373723621511, 'eval_precision-weighted': 0.9138999604635037, 'eval_recall-micro': 0.9420186113099499, 'eval_recall-samples': 0.8761061946902655, 'eval_recall-weighted': 0.9420186113099499, 'eval_f1-micro': 0.9277405710257314, 'eval_f1-samples': 0.8679373723621511, 'eval_f1-weighted': 0.9277440928598991, 'eval_runtime': 32.2351, 'eval_samples_per_second': 45.571, 'eval_steps_per_second': 5.708, 'epoch': 10.0, 'step': 7840}, {'train_runtime': 10206.8765, 'train_samples_per_second': 12.284, 'train_steps_per_second': 0.768, 'total_flos': 2.47416480907776e+16, 'train_loss': 0.11496771932864676, 'epoch': 10.0, 'step': 7840}]\n"
        }
      ],
      "execution_count": null,
      "metadata": {
        "colab": {
          "base_uri": "https://localhost:8080/"
        },
        "id": "fTpPLjJ7-B9h",
        "outputId": "f6db1c15-b12d-4b3c-aa05-6c39b78220e1",
        "gather": {
          "logged": 1705785209316
        }
      }
    },
    {
      "cell_type": "markdown",
      "source": [
        "# Predict and Evaluate"
      ],
      "metadata": {
        "nteract": {
          "transient": {
            "deleting": false
          }
        },
        "id": "5dv5xnWIxrnz"
      }
    },
    {
      "cell_type": "markdown",
      "source": [
        "## Trainer"
      ],
      "metadata": {
        "nteract": {
          "transient": {
            "deleting": false
          }
        },
        "id": "6fW0eXE2xrnz"
      }
    },
    {
      "cell_type": "code",
      "source": [
        "predictions= multi_trainer.predict(val_tokenized)\n",
        "pred,labels,_ = predictions\n",
        "y_pred = torch.from_numpy(pred)\n",
        "y_true = torch.from_numpy(labels)\n",
        "y_prob = y_pred.sigmoid()\n",
        "thresh = 0.50\n",
        "y_pred = (y_prob>=thresh).bool()"
      ],
      "outputs": [
        {
          "output_type": "display_data",
          "data": {
            "text/plain": "<IPython.core.display.HTML object>",
            "text/html": ""
          },
          "metadata": {}
        },
        {
          "output_type": "stream",
          "name": "stderr",
          "text": "/anaconda/envs/azureml_py38/lib/python3.8/site-packages/sklearn/metrics/_classification.py:1272: UndefinedMetricWarning: Precision is ill-defined and being set to 0.0 in samples with no predicted labels. Use `zero_division` parameter to control this behavior.\n  _warn_prf(average, modifier, msg_start, len(result))\n/anaconda/envs/azureml_py38/lib/python3.8/site-packages/sklearn/metrics/_classification.py:1272: UndefinedMetricWarning: Recall is ill-defined and being set to 0.0 in samples with no true labels. Use `zero_division` parameter to control this behavior.\n  _warn_prf(average, modifier, msg_start, len(result))\n/anaconda/envs/azureml_py38/lib/python3.8/site-packages/sklearn/metrics/_classification.py:1514: UndefinedMetricWarning: F-score is ill-defined and being set to 0.0 in samples with no true nor predicted labels. Use `zero_division` parameter to control this behavior.\n  _warn_prf(\n"
        }
      ],
      "execution_count": null,
      "metadata": {
        "jupyter": {
          "source_hidden": false,
          "outputs_hidden": false
        },
        "nteract": {
          "transient": {
            "deleting": false
          }
        },
        "gather": {
          "logged": 1705785242012
        },
        "id": "pMFuEL-qxrnz",
        "outputId": "f1c8a5aa-a6d3-465b-8642-0be7f44d9fbd"
      }
    },
    {
      "cell_type": "code",
      "source": [
        "cm = skm.multilabel_confusion_matrix(y_true, y_pred)\n",
        "for i,label in enumerate(label_names):\n",
        "    print(label)\n",
        "    print(cm[i],'\\n')"
      ],
      "outputs": [
        {
          "output_type": "stream",
          "name": "stdout",
          "text": "AdaptationLabel\n[[801  57]\n [ 36 575]] \n\nMitigationLabel\n[[616  67]\n [ 45 741]] \n\n"
        }
      ],
      "execution_count": null,
      "metadata": {
        "jupyter": {
          "source_hidden": false,
          "outputs_hidden": false
        },
        "nteract": {
          "transient": {
            "deleting": false
          }
        },
        "gather": {
          "logged": 1705785242113
        },
        "id": "RVudQAL0xrn0",
        "outputId": "18b62cf0-d2a4-40d7-e820-c3b101c3b1eb"
      }
    },
    {
      "cell_type": "code",
      "source": [
        "report = skm.classification_report(y_true, y_pred, output_dict=True)\n",
        "df_report = pd.DataFrame(report).transpose()\n",
        "df_report = df_report.reset_index()\n",
        "mapping = {str(i):j for i,j in enumerate(label_names)}\n",
        "df_report['index'] = df_report['index'].map(mapping).fillna(df_report['index'])\n",
        "df_report.rename(columns = {'index':'label'}, inplace=True)\n",
        "df_report"
      ],
      "outputs": [
        {
          "output_type": "stream",
          "name": "stderr",
          "text": "/anaconda/envs/azureml_py38/lib/python3.8/site-packages/sklearn/metrics/_classification.py:1272: UndefinedMetricWarning: Precision and F-score are ill-defined and being set to 0.0 in samples with no predicted labels. Use `zero_division` parameter to control this behavior.\n  _warn_prf(average, modifier, msg_start, len(result))\n/anaconda/envs/azureml_py38/lib/python3.8/site-packages/sklearn/metrics/_classification.py:1272: UndefinedMetricWarning: Recall and F-score are ill-defined and being set to 0.0 in samples with no true labels. Use `zero_division` parameter to control this behavior.\n  _warn_prf(average, modifier, msg_start, len(result))\n"
        },
        {
          "output_type": "execute_result",
          "execution_count": 18,
          "data": {
            "text/plain": "             label  precision    recall  f1-score  support\n0  AdaptationLabel   0.909810  0.941080  0.925181    611.0\n1  MitigationLabel   0.917079  0.942748  0.929737    786.0\n2        micro avg   0.913889  0.942019  0.927741   1397.0\n3        macro avg   0.913445  0.941914  0.927459   1397.0\n4     weighted avg   0.913900  0.942019  0.927744   1397.0\n5      samples avg   0.867937  0.876106  0.867937   1397.0",
            "text/html": "<div>\n<style scoped>\n    .dataframe tbody tr th:only-of-type {\n        vertical-align: middle;\n    }\n\n    .dataframe tbody tr th {\n        vertical-align: top;\n    }\n\n    .dataframe thead th {\n        text-align: right;\n    }\n</style>\n<table border=\"1\" class=\"dataframe\">\n  <thead>\n    <tr style=\"text-align: right;\">\n      <th></th>\n      <th>label</th>\n      <th>precision</th>\n      <th>recall</th>\n      <th>f1-score</th>\n      <th>support</th>\n    </tr>\n  </thead>\n  <tbody>\n    <tr>\n      <th>0</th>\n      <td>AdaptationLabel</td>\n      <td>0.909810</td>\n      <td>0.941080</td>\n      <td>0.925181</td>\n      <td>611.0</td>\n    </tr>\n    <tr>\n      <th>1</th>\n      <td>MitigationLabel</td>\n      <td>0.917079</td>\n      <td>0.942748</td>\n      <td>0.929737</td>\n      <td>786.0</td>\n    </tr>\n    <tr>\n      <th>2</th>\n      <td>micro avg</td>\n      <td>0.913889</td>\n      <td>0.942019</td>\n      <td>0.927741</td>\n      <td>1397.0</td>\n    </tr>\n    <tr>\n      <th>3</th>\n      <td>macro avg</td>\n      <td>0.913445</td>\n      <td>0.941914</td>\n      <td>0.927459</td>\n      <td>1397.0</td>\n    </tr>\n    <tr>\n      <th>4</th>\n      <td>weighted avg</td>\n      <td>0.913900</td>\n      <td>0.942019</td>\n      <td>0.927744</td>\n      <td>1397.0</td>\n    </tr>\n    <tr>\n      <th>5</th>\n      <td>samples avg</td>\n      <td>0.867937</td>\n      <td>0.876106</td>\n      <td>0.867937</td>\n      <td>1397.0</td>\n    </tr>\n  </tbody>\n</table>\n</div>"
          },
          "metadata": {}
        }
      ],
      "execution_count": null,
      "metadata": {
        "jupyter": {
          "source_hidden": false,
          "outputs_hidden": false
        },
        "nteract": {
          "transient": {
            "deleting": false
          }
        },
        "gather": {
          "logged": 1705785242249
        },
        "id": "Qh34L1ILxrn0",
        "outputId": "58625857-0647-49d8-823d-cdc87e6c069e"
      }
    }
  ],
  "metadata": {
    "colab": {
      "provenance": [],
      "gpuType": "T4",
      "toc_visible": true,
      "include_colab_link": true
    },
    "accelerator": "GPU",
    "microsoft": {
      "ms_spell_check": {
        "ms_spell_check_language": "en"
      },
      "host": {
        "AzureML": {
          "notebookHasBeenCompleted": true
        }
      }
    },
    "widgets": {
      "application/vnd.jupyter.widget-state+json": {
        "752bc760da70471883180258a33bf1f7": {
          "model_module": "@jupyter-widgets/controls",
          "model_name": "ProgressStyleModel",
          "model_module_version": "1.5.0",
          "state": {
            "_view_module_version": "1.2.0",
            "_model_name": "ProgressStyleModel",
            "_model_module": "@jupyter-widgets/controls",
            "description_width": "",
            "_view_name": "StyleView",
            "_view_module": "@jupyter-widgets/base",
            "_view_count": null,
            "bar_color": null,
            "_model_module_version": "1.5.0"
          }
        },
        "57a42939202a4802b8540efd8cc7c21f": {
          "model_module": "@jupyter-widgets/base",
          "model_name": "LayoutModel",
          "model_module_version": "1.2.0",
          "state": {
            "_view_module_version": "1.2.0",
            "_model_name": "LayoutModel",
            "grid_row": null,
            "_model_module": "@jupyter-widgets/base",
            "overflow": null,
            "max_height": null,
            "display": null,
            "grid_auto_flow": null,
            "grid_template_rows": null,
            "align_self": null,
            "grid_auto_columns": null,
            "width": null,
            "grid_area": null,
            "align_items": null,
            "_view_name": "LayoutView",
            "left": null,
            "height": null,
            "_view_module": "@jupyter-widgets/base",
            "object_position": null,
            "justify_content": null,
            "bottom": null,
            "max_width": null,
            "border": null,
            "margin": null,
            "order": null,
            "grid_column": null,
            "grid_auto_rows": null,
            "padding": null,
            "grid_template_columns": null,
            "justify_items": null,
            "object_fit": null,
            "visibility": null,
            "_view_count": null,
            "flex_flow": null,
            "min_height": null,
            "top": null,
            "min_width": null,
            "flex": null,
            "_model_module_version": "1.2.0",
            "grid_template_areas": null,
            "overflow_x": null,
            "right": null,
            "overflow_y": null,
            "grid_gap": null,
            "align_content": null
          }
        },
        "73969a9bdeec45428323556adab1719d": {
          "model_module": "@jupyter-widgets/base",
          "model_name": "LayoutModel",
          "model_module_version": "1.2.0",
          "state": {
            "_view_module_version": "1.2.0",
            "_model_name": "LayoutModel",
            "grid_row": null,
            "_model_module": "@jupyter-widgets/base",
            "overflow": null,
            "max_height": null,
            "display": null,
            "grid_auto_flow": null,
            "grid_template_rows": null,
            "align_self": null,
            "grid_auto_columns": null,
            "width": null,
            "grid_area": null,
            "align_items": null,
            "_view_name": "LayoutView",
            "left": null,
            "height": null,
            "_view_module": "@jupyter-widgets/base",
            "object_position": null,
            "justify_content": null,
            "bottom": null,
            "max_width": null,
            "border": null,
            "margin": null,
            "order": null,
            "grid_column": null,
            "grid_auto_rows": null,
            "padding": null,
            "grid_template_columns": null,
            "justify_items": null,
            "object_fit": null,
            "visibility": null,
            "_view_count": null,
            "flex_flow": null,
            "min_height": null,
            "top": null,
            "min_width": null,
            "flex": null,
            "_model_module_version": "1.2.0",
            "grid_template_areas": null,
            "overflow_x": null,
            "right": null,
            "overflow_y": null,
            "grid_gap": null,
            "align_content": null
          }
        },
        "8508008c97fa49848455ff6ef4cf4097": {
          "model_module": "@jupyter-widgets/controls",
          "model_name": "DescriptionStyleModel",
          "model_module_version": "1.5.0",
          "state": {
            "_model_module": "@jupyter-widgets/controls",
            "_model_module_version": "1.5.0",
            "_model_name": "DescriptionStyleModel",
            "_view_count": null,
            "_view_module": "@jupyter-widgets/base",
            "_view_module_version": "1.2.0",
            "_view_name": "StyleView",
            "description_width": ""
          }
        },
        "01e84539b7f3437aac86603e53740d65": {
          "model_module": "@jupyter-widgets/controls",
          "model_name": "DescriptionStyleModel",
          "model_module_version": "1.5.0",
          "state": {
            "_model_module": "@jupyter-widgets/controls",
            "_model_module_version": "1.5.0",
            "_model_name": "DescriptionStyleModel",
            "_view_count": null,
            "_view_module": "@jupyter-widgets/base",
            "_view_module_version": "1.2.0",
            "_view_name": "StyleView",
            "description_width": ""
          }
        },
        "0b3077eb1a5b4400bcc79600c28a8f00": {
          "model_module": "@jupyter-widgets/controls",
          "model_name": "DescriptionStyleModel",
          "model_module_version": "1.5.0",
          "state": {
            "_model_module": "@jupyter-widgets/controls",
            "_model_module_version": "1.5.0",
            "_model_name": "DescriptionStyleModel",
            "_view_count": null,
            "_view_module": "@jupyter-widgets/base",
            "_view_module_version": "1.2.0",
            "_view_name": "StyleView",
            "description_width": ""
          }
        },
        "32600bcf8a0b4394bd72750361680960": {
          "model_module": "@jupyter-widgets/controls",
          "model_name": "DescriptionStyleModel",
          "model_module_version": "1.5.0",
          "state": {
            "_model_module": "@jupyter-widgets/controls",
            "_model_module_version": "1.5.0",
            "_model_name": "DescriptionStyleModel",
            "_view_count": null,
            "_view_module": "@jupyter-widgets/base",
            "_view_module_version": "1.2.0",
            "_view_name": "StyleView",
            "description_width": ""
          }
        },
        "fe1f3d68703a4d4e8289ca5df513281d": {
          "model_module": "@jupyter-widgets/controls",
          "model_name": "DescriptionStyleModel",
          "model_module_version": "1.5.0",
          "state": {
            "_model_module": "@jupyter-widgets/controls",
            "_model_module_version": "1.5.0",
            "_model_name": "DescriptionStyleModel",
            "_view_count": null,
            "_view_module": "@jupyter-widgets/base",
            "_view_module_version": "1.2.0",
            "_view_name": "StyleView",
            "description_width": ""
          }
        },
        "1ed6c7adaaf04ff6a385175e5fb1552e": {
          "model_module": "@jupyter-widgets/base",
          "model_name": "LayoutModel",
          "model_module_version": "1.2.0",
          "state": {
            "_view_module_version": "1.2.0",
            "_model_name": "LayoutModel",
            "grid_row": null,
            "_model_module": "@jupyter-widgets/base",
            "overflow": null,
            "max_height": null,
            "display": null,
            "grid_auto_flow": null,
            "grid_template_rows": null,
            "align_self": null,
            "grid_auto_columns": null,
            "width": null,
            "grid_area": null,
            "align_items": null,
            "_view_name": "LayoutView",
            "left": null,
            "height": null,
            "_view_module": "@jupyter-widgets/base",
            "object_position": null,
            "justify_content": null,
            "bottom": null,
            "max_width": null,
            "border": null,
            "margin": null,
            "order": null,
            "grid_column": null,
            "grid_auto_rows": null,
            "padding": null,
            "grid_template_columns": null,
            "justify_items": null,
            "object_fit": null,
            "visibility": null,
            "_view_count": null,
            "flex_flow": null,
            "min_height": null,
            "top": null,
            "min_width": null,
            "flex": null,
            "_model_module_version": "1.2.0",
            "grid_template_areas": null,
            "overflow_x": null,
            "right": null,
            "overflow_y": null,
            "grid_gap": null,
            "align_content": null
          }
        },
        "b800ea5836fa4262b74e9869fa1a1992": {
          "model_module": "@jupyter-widgets/base",
          "model_name": "LayoutModel",
          "model_module_version": "1.2.0",
          "state": {
            "_view_module_version": "1.2.0",
            "_model_name": "LayoutModel",
            "grid_row": null,
            "_model_module": "@jupyter-widgets/base",
            "overflow": null,
            "max_height": null,
            "display": null,
            "grid_auto_flow": null,
            "grid_template_rows": null,
            "align_self": null,
            "grid_auto_columns": null,
            "width": null,
            "grid_area": null,
            "align_items": null,
            "_view_name": "LayoutView",
            "left": null,
            "height": null,
            "_view_module": "@jupyter-widgets/base",
            "object_position": null,
            "justify_content": null,
            "bottom": null,
            "max_width": null,
            "border": null,
            "margin": null,
            "order": null,
            "grid_column": null,
            "grid_auto_rows": null,
            "padding": null,
            "grid_template_columns": null,
            "justify_items": null,
            "object_fit": null,
            "visibility": null,
            "_view_count": null,
            "flex_flow": null,
            "min_height": null,
            "top": null,
            "min_width": null,
            "flex": null,
            "_model_module_version": "1.2.0",
            "grid_template_areas": null,
            "overflow_x": null,
            "right": null,
            "overflow_y": null,
            "grid_gap": null,
            "align_content": null
          }
        },
        "87118e8cdd28412daaacd92100d30bec": {
          "model_module": "@jupyter-widgets/controls",
          "model_name": "HBoxModel",
          "model_module_version": "1.5.0",
          "state": {
            "_view_module_version": "1.5.0",
            "_model_name": "HBoxModel",
            "_model_module": "@jupyter-widgets/controls",
            "_view_name": "HBoxView",
            "_view_module": "@jupyter-widgets/controls",
            "_dom_classes": [],
            "layout": "IPY_MODEL_ae85376915d34e0fb1dbfc4eacc51766",
            "_view_count": null,
            "_model_module_version": "1.5.0",
            "box_style": "",
            "children": [
              "IPY_MODEL_03ad04f4bf554ac1901ecf86713ae23e",
              "IPY_MODEL_47ffbb3c130b4584bb2be484ffa978ed",
              "IPY_MODEL_f3983f65b9ec416b9b4910de7040eba5"
            ]
          }
        },
        "47f4073f798f428dae8d635146edbe6e": {
          "model_module": "@jupyter-widgets/controls",
          "model_name": "ButtonModel",
          "model_module_version": "1.5.0",
          "state": {
            "_view_module_version": "1.5.0",
            "_model_name": "ButtonModel",
            "_model_module": "@jupyter-widgets/controls",
            "tooltip": "",
            "button_style": "",
            "_view_name": "ButtonView",
            "_view_module": "@jupyter-widgets/controls",
            "_dom_classes": [],
            "layout": "IPY_MODEL_bb8d9843305b41d8a367c2f7d4c02bfd",
            "style": "IPY_MODEL_e10f368c353a4cab95bf834059d2ba0e",
            "_view_count": null,
            "icon": "",
            "_model_module_version": "1.5.0",
            "disabled": false,
            "description": "Login"
          }
        },
        "973507d7b3254f31a39e195affce9d16": {
          "model_module": "@jupyter-widgets/controls",
          "model_name": "ProgressStyleModel",
          "model_module_version": "1.5.0",
          "state": {
            "_view_module_version": "1.2.0",
            "_model_name": "ProgressStyleModel",
            "_model_module": "@jupyter-widgets/controls",
            "description_width": "",
            "_view_name": "StyleView",
            "_view_module": "@jupyter-widgets/base",
            "_view_count": null,
            "bar_color": null,
            "_model_module_version": "1.5.0"
          }
        },
        "3a9cfc1b0e2e447282a55680daee9e9b": {
          "model_module": "@jupyter-widgets/controls",
          "model_name": "ProgressStyleModel",
          "model_module_version": "1.5.0",
          "state": {
            "_view_module_version": "1.2.0",
            "_model_name": "ProgressStyleModel",
            "_model_module": "@jupyter-widgets/controls",
            "description_width": "",
            "_view_name": "StyleView",
            "_view_module": "@jupyter-widgets/base",
            "_view_count": null,
            "bar_color": null,
            "_model_module_version": "1.5.0"
          }
        },
        "400a364603c54b5e8e1f9757dca95ec7": {
          "model_module": "@jupyter-widgets/base",
          "model_name": "LayoutModel",
          "model_module_version": "1.2.0",
          "state": {
            "_view_module_version": "1.2.0",
            "_model_name": "LayoutModel",
            "grid_row": null,
            "_model_module": "@jupyter-widgets/base",
            "overflow": null,
            "max_height": null,
            "display": null,
            "grid_auto_flow": null,
            "grid_template_rows": null,
            "align_self": null,
            "grid_auto_columns": null,
            "width": null,
            "grid_area": null,
            "align_items": null,
            "_view_name": "LayoutView",
            "left": null,
            "height": null,
            "_view_module": "@jupyter-widgets/base",
            "object_position": null,
            "justify_content": null,
            "bottom": null,
            "max_width": null,
            "border": null,
            "margin": null,
            "order": null,
            "grid_column": null,
            "grid_auto_rows": null,
            "padding": null,
            "grid_template_columns": null,
            "justify_items": null,
            "object_fit": null,
            "visibility": null,
            "_view_count": null,
            "flex_flow": null,
            "min_height": null,
            "top": null,
            "min_width": null,
            "flex": null,
            "_model_module_version": "1.2.0",
            "grid_template_areas": null,
            "overflow_x": null,
            "right": null,
            "overflow_y": null,
            "grid_gap": null,
            "align_content": null
          }
        },
        "6420b51992644f59bdc147e228d7af99": {
          "model_module": "@jupyter-widgets/base",
          "model_name": "LayoutModel",
          "model_module_version": "1.2.0",
          "state": {
            "_view_module_version": "1.2.0",
            "_model_name": "LayoutModel",
            "grid_row": null,
            "_model_module": "@jupyter-widgets/base",
            "overflow": null,
            "max_height": null,
            "display": null,
            "grid_auto_flow": null,
            "grid_template_rows": null,
            "align_self": null,
            "grid_auto_columns": null,
            "width": null,
            "grid_area": null,
            "align_items": null,
            "_view_name": "LayoutView",
            "left": null,
            "height": null,
            "_view_module": "@jupyter-widgets/base",
            "object_position": null,
            "justify_content": null,
            "bottom": null,
            "max_width": null,
            "border": null,
            "margin": null,
            "order": null,
            "grid_column": null,
            "grid_auto_rows": null,
            "padding": null,
            "grid_template_columns": null,
            "justify_items": null,
            "object_fit": null,
            "visibility": null,
            "_view_count": null,
            "flex_flow": null,
            "min_height": null,
            "top": null,
            "min_width": null,
            "flex": null,
            "_model_module_version": "1.2.0",
            "grid_template_areas": null,
            "overflow_x": null,
            "right": null,
            "overflow_y": null,
            "grid_gap": null,
            "align_content": null
          }
        },
        "40909a17ca384b709203c142e72ace8e": {
          "model_module": "@jupyter-widgets/base",
          "model_name": "LayoutModel",
          "model_module_version": "1.2.0",
          "state": {
            "_view_module_version": "1.2.0",
            "_model_name": "LayoutModel",
            "grid_row": null,
            "_model_module": "@jupyter-widgets/base",
            "overflow": null,
            "max_height": null,
            "display": null,
            "grid_auto_flow": null,
            "grid_template_rows": null,
            "align_self": null,
            "grid_auto_columns": null,
            "width": null,
            "grid_area": null,
            "align_items": null,
            "_view_name": "LayoutView",
            "left": null,
            "height": null,
            "_view_module": "@jupyter-widgets/base",
            "object_position": null,
            "justify_content": null,
            "bottom": null,
            "max_width": null,
            "border": null,
            "margin": null,
            "order": null,
            "grid_column": null,
            "grid_auto_rows": null,
            "padding": null,
            "grid_template_columns": null,
            "justify_items": null,
            "object_fit": null,
            "visibility": null,
            "_view_count": null,
            "flex_flow": null,
            "min_height": null,
            "top": null,
            "min_width": null,
            "flex": null,
            "_model_module_version": "1.2.0",
            "grid_template_areas": null,
            "overflow_x": null,
            "right": null,
            "overflow_y": null,
            "grid_gap": null,
            "align_content": null
          }
        },
        "9b840f388f2f468c94aa5f6a0c0f49a0": {
          "model_module": "@jupyter-widgets/controls",
          "model_name": "HBoxModel",
          "model_module_version": "1.5.0",
          "state": {
            "_view_module_version": "1.5.0",
            "_model_name": "HBoxModel",
            "_model_module": "@jupyter-widgets/controls",
            "_view_name": "HBoxView",
            "_view_module": "@jupyter-widgets/controls",
            "_dom_classes": [],
            "layout": "IPY_MODEL_b800ea5836fa4262b74e9869fa1a1992",
            "_view_count": null,
            "_model_module_version": "1.5.0",
            "box_style": "",
            "children": [
              "IPY_MODEL_dfea763cddba4b7aaa83a45222b2396f",
              "IPY_MODEL_cc7a6341900d4cc8b3d39957cecfb991",
              "IPY_MODEL_e4cb2e538b8947d19cca21cc7060a45d"
            ]
          }
        },
        "bb8d9843305b41d8a367c2f7d4c02bfd": {
          "model_module": "@jupyter-widgets/base",
          "model_name": "LayoutModel",
          "model_module_version": "1.2.0",
          "state": {
            "_view_module_version": "1.2.0",
            "_model_name": "LayoutModel",
            "grid_row": null,
            "_model_module": "@jupyter-widgets/base",
            "overflow": null,
            "max_height": null,
            "display": null,
            "grid_auto_flow": null,
            "grid_template_rows": null,
            "align_self": null,
            "grid_auto_columns": null,
            "width": null,
            "grid_area": null,
            "align_items": null,
            "_view_name": "LayoutView",
            "left": null,
            "height": null,
            "_view_module": "@jupyter-widgets/base",
            "object_position": null,
            "justify_content": null,
            "bottom": null,
            "max_width": null,
            "border": null,
            "margin": null,
            "order": null,
            "grid_column": null,
            "grid_auto_rows": null,
            "padding": null,
            "grid_template_columns": null,
            "justify_items": null,
            "object_fit": null,
            "visibility": null,
            "_view_count": null,
            "flex_flow": null,
            "min_height": null,
            "top": null,
            "min_width": null,
            "flex": null,
            "_model_module_version": "1.2.0",
            "grid_template_areas": null,
            "overflow_x": null,
            "right": null,
            "overflow_y": null,
            "grid_gap": null,
            "align_content": null
          }
        },
        "d937720d9b18489cbf210f5a71bbff22": {
          "model_module": "@jupyter-widgets/controls",
          "model_name": "LabelModel",
          "model_module_version": "1.5.0",
          "state": {
            "_view_module_version": "1.5.0",
            "description_tooltip": null,
            "_model_name": "LabelModel",
            "_model_module": "@jupyter-widgets/controls",
            "_view_name": "LabelView",
            "_view_module": "@jupyter-widgets/controls",
            "_dom_classes": [],
            "layout": "IPY_MODEL_6420b51992644f59bdc147e228d7af99",
            "value": "Login successful",
            "style": "IPY_MODEL_c60e9a83954b4d3f968aca03ab8da320",
            "placeholder": "​",
            "_view_count": null,
            "_model_module_version": "1.5.0",
            "description": ""
          }
        },
        "1a7d666a65904e4f82cfe17b7fe2f505": {
          "model_module": "@jupyter-widgets/controls",
          "model_name": "DescriptionStyleModel",
          "model_module_version": "1.5.0",
          "state": {
            "_model_module": "@jupyter-widgets/controls",
            "_model_module_version": "1.5.0",
            "_model_name": "DescriptionStyleModel",
            "_view_count": null,
            "_view_module": "@jupyter-widgets/base",
            "_view_module_version": "1.2.0",
            "_view_name": "StyleView",
            "description_width": ""
          }
        },
        "6a43f5129f414386a65d648cba8af401": {
          "model_module": "@jupyter-widgets/controls",
          "model_name": "DescriptionStyleModel",
          "model_module_version": "1.5.0",
          "state": {
            "_model_module": "@jupyter-widgets/controls",
            "_model_module_version": "1.5.0",
            "_model_name": "DescriptionStyleModel",
            "_view_count": null,
            "_view_module": "@jupyter-widgets/base",
            "_view_module_version": "1.2.0",
            "_view_name": "StyleView",
            "description_width": ""
          }
        },
        "fc4fefc3353b421390113ca30dd0eb86": {
          "model_module": "@jupyter-widgets/controls",
          "model_name": "DescriptionStyleModel",
          "model_module_version": "1.5.0",
          "state": {
            "_model_module": "@jupyter-widgets/controls",
            "_model_module_version": "1.5.0",
            "_model_name": "DescriptionStyleModel",
            "_view_count": null,
            "_view_module": "@jupyter-widgets/base",
            "_view_module_version": "1.2.0",
            "_view_name": "StyleView",
            "description_width": ""
          }
        },
        "c9782ae25a1b40d8a1b97489ae859514": {
          "model_module": "@jupyter-widgets/controls",
          "model_name": "DescriptionStyleModel",
          "model_module_version": "1.5.0",
          "state": {
            "_model_module": "@jupyter-widgets/controls",
            "_model_module_version": "1.5.0",
            "_model_name": "DescriptionStyleModel",
            "_view_count": null,
            "_view_module": "@jupyter-widgets/base",
            "_view_module_version": "1.2.0",
            "_view_name": "StyleView",
            "description_width": ""
          }
        },
        "f360dc39bf7a4fb29f081f61e67c50b0": {
          "model_module": "@jupyter-widgets/base",
          "model_name": "LayoutModel",
          "model_module_version": "1.2.0",
          "state": {
            "_view_module_version": "1.2.0",
            "_model_name": "LayoutModel",
            "grid_row": null,
            "_model_module": "@jupyter-widgets/base",
            "overflow": null,
            "max_height": null,
            "display": null,
            "grid_auto_flow": null,
            "grid_template_rows": null,
            "align_self": null,
            "grid_auto_columns": null,
            "width": null,
            "grid_area": null,
            "align_items": null,
            "_view_name": "LayoutView",
            "left": null,
            "height": null,
            "_view_module": "@jupyter-widgets/base",
            "object_position": null,
            "justify_content": null,
            "bottom": null,
            "max_width": null,
            "border": null,
            "margin": null,
            "order": null,
            "grid_column": null,
            "grid_auto_rows": null,
            "padding": null,
            "grid_template_columns": null,
            "justify_items": null,
            "object_fit": null,
            "visibility": null,
            "_view_count": null,
            "flex_flow": null,
            "min_height": null,
            "top": null,
            "min_width": null,
            "flex": null,
            "_model_module_version": "1.2.0",
            "grid_template_areas": null,
            "overflow_x": null,
            "right": null,
            "overflow_y": null,
            "grid_gap": null,
            "align_content": null
          }
        },
        "11fb84c45d364abcaff3ca43b3bdc829": {
          "model_module": "@jupyter-widgets/base",
          "model_name": "LayoutModel",
          "model_module_version": "1.2.0",
          "state": {
            "_view_module_version": "1.2.0",
            "_model_name": "LayoutModel",
            "grid_row": null,
            "_model_module": "@jupyter-widgets/base",
            "overflow": null,
            "max_height": null,
            "display": null,
            "grid_auto_flow": null,
            "grid_template_rows": null,
            "align_self": null,
            "grid_auto_columns": null,
            "width": null,
            "grid_area": null,
            "align_items": null,
            "_view_name": "LayoutView",
            "left": null,
            "height": null,
            "_view_module": "@jupyter-widgets/base",
            "object_position": null,
            "justify_content": null,
            "bottom": null,
            "max_width": null,
            "border": null,
            "margin": null,
            "order": null,
            "grid_column": null,
            "grid_auto_rows": null,
            "padding": null,
            "grid_template_columns": null,
            "justify_items": null,
            "object_fit": null,
            "visibility": null,
            "_view_count": null,
            "flex_flow": null,
            "min_height": null,
            "top": null,
            "min_width": null,
            "flex": null,
            "_model_module_version": "1.2.0",
            "grid_template_areas": null,
            "overflow_x": null,
            "right": null,
            "overflow_y": null,
            "grid_gap": null,
            "align_content": null
          }
        },
        "9aced9baa2f44cf79c4b35d6b6880fc8": {
          "model_module": "@jupyter-widgets/controls",
          "model_name": "HTMLModel",
          "model_module_version": "1.5.0",
          "state": {
            "_view_module_version": "1.5.0",
            "description_tooltip": null,
            "_model_name": "HTMLModel",
            "_model_module": "@jupyter-widgets/controls",
            "_view_name": "HTMLView",
            "_view_module": "@jupyter-widgets/controls",
            "_dom_classes": [],
            "layout": "IPY_MODEL_689dc977208d439ebf44a80f8013dba5",
            "value": "\n<b>Pro Tip:</b> If you don't already have one, you can create a dedicated\n'notebooks' token with 'write' access, that you can then easily reuse for all\nnotebooks. </center>",
            "style": "IPY_MODEL_7cba08c01f3e435a946b27aa2268cc85",
            "placeholder": "​",
            "_view_count": null,
            "_model_module_version": "1.5.0",
            "description": ""
          }
        },
        "4529a6dbf15549899bbae8620a52f29d": {
          "model_module": "@jupyter-widgets/controls",
          "model_name": "DescriptionStyleModel",
          "model_module_version": "1.5.0",
          "state": {
            "_model_module": "@jupyter-widgets/controls",
            "_model_module_version": "1.5.0",
            "_model_name": "DescriptionStyleModel",
            "_view_count": null,
            "_view_module": "@jupyter-widgets/base",
            "_view_module_version": "1.2.0",
            "_view_name": "StyleView",
            "description_width": ""
          }
        },
        "6b38a5ca737f4ce690ddf4cb3509f530": {
          "model_module": "@jupyter-widgets/base",
          "model_name": "LayoutModel",
          "model_module_version": "1.2.0",
          "state": {
            "_view_module_version": "1.2.0",
            "_model_name": "LayoutModel",
            "grid_row": null,
            "_model_module": "@jupyter-widgets/base",
            "overflow": null,
            "max_height": null,
            "display": null,
            "grid_auto_flow": null,
            "grid_template_rows": null,
            "align_self": null,
            "grid_auto_columns": null,
            "width": null,
            "grid_area": null,
            "align_items": null,
            "_view_name": "LayoutView",
            "left": null,
            "height": null,
            "_view_module": "@jupyter-widgets/base",
            "object_position": null,
            "justify_content": null,
            "bottom": null,
            "max_width": null,
            "border": null,
            "margin": null,
            "order": null,
            "grid_column": null,
            "grid_auto_rows": null,
            "padding": null,
            "grid_template_columns": null,
            "justify_items": null,
            "object_fit": null,
            "visibility": null,
            "_view_count": null,
            "flex_flow": null,
            "min_height": null,
            "top": null,
            "min_width": null,
            "flex": null,
            "_model_module_version": "1.2.0",
            "grid_template_areas": null,
            "overflow_x": null,
            "right": null,
            "overflow_y": null,
            "grid_gap": null,
            "align_content": null
          }
        },
        "cc7a6341900d4cc8b3d39957cecfb991": {
          "model_module": "@jupyter-widgets/controls",
          "model_name": "FloatProgressModel",
          "model_module_version": "1.5.0",
          "state": {
            "_view_module_version": "1.5.0",
            "description_tooltip": null,
            "_model_name": "FloatProgressModel",
            "_model_module": "@jupyter-widgets/controls",
            "max": 1115,
            "bar_style": "success",
            "_view_name": "ProgressView",
            "_view_module": "@jupyter-widgets/controls",
            "_dom_classes": [],
            "layout": "IPY_MODEL_d0883effcab140cd80e445df482e3ec6",
            "orientation": "horizontal",
            "value": 1115,
            "style": "IPY_MODEL_3a9cfc1b0e2e447282a55680daee9e9b",
            "min": 0,
            "_view_count": null,
            "_model_module_version": "1.5.0",
            "description": ""
          }
        },
        "03ad04f4bf554ac1901ecf86713ae23e": {
          "model_module": "@jupyter-widgets/controls",
          "model_name": "HTMLModel",
          "model_module_version": "1.5.0",
          "state": {
            "_view_module_version": "1.5.0",
            "description_tooltip": null,
            "_model_name": "HTMLModel",
            "_model_module": "@jupyter-widgets/controls",
            "_view_name": "HTMLView",
            "_view_module": "@jupyter-widgets/controls",
            "_dom_classes": [],
            "layout": "IPY_MODEL_40909a17ca384b709203c142e72ace8e",
            "value": "Map: 100%",
            "style": "IPY_MODEL_6a43f5129f414386a65d648cba8af401",
            "placeholder": "​",
            "_view_count": null,
            "_model_module_version": "1.5.0",
            "description": ""
          }
        },
        "74b5eb92ff274983a7fcf6032a64c440": {
          "model_module": "@jupyter-widgets/base",
          "model_name": "LayoutModel",
          "model_module_version": "1.2.0",
          "state": {
            "_view_module_version": "1.2.0",
            "_model_name": "LayoutModel",
            "grid_row": null,
            "_model_module": "@jupyter-widgets/base",
            "overflow": null,
            "max_height": null,
            "display": null,
            "grid_auto_flow": null,
            "grid_template_rows": null,
            "align_self": null,
            "grid_auto_columns": null,
            "width": null,
            "grid_area": null,
            "align_items": null,
            "_view_name": "LayoutView",
            "left": null,
            "height": null,
            "_view_module": "@jupyter-widgets/base",
            "object_position": null,
            "justify_content": null,
            "bottom": null,
            "max_width": null,
            "border": null,
            "margin": null,
            "order": null,
            "grid_column": null,
            "grid_auto_rows": null,
            "padding": null,
            "grid_template_columns": null,
            "justify_items": null,
            "object_fit": null,
            "visibility": null,
            "_view_count": null,
            "flex_flow": null,
            "min_height": null,
            "top": null,
            "min_width": null,
            "flex": null,
            "_model_module_version": "1.2.0",
            "grid_template_areas": null,
            "overflow_x": null,
            "right": null,
            "overflow_y": null,
            "grid_gap": null,
            "align_content": null
          }
        },
        "6d566461ab2b4bd3b79945928d6bf873": {
          "model_module": "@jupyter-widgets/controls",
          "model_name": "HTMLModel",
          "model_module_version": "1.5.0",
          "state": {
            "_view_module_version": "1.5.0",
            "description_tooltip": null,
            "_model_name": "HTMLModel",
            "_model_module": "@jupyter-widgets/controls",
            "_view_name": "HTMLView",
            "_view_module": "@jupyter-widgets/controls",
            "_dom_classes": [],
            "layout": "IPY_MODEL_bbc725bf803c4672a8892908ef546a55",
            "value": "<center> <img\nsrc=https://huggingface.co/front/assets/huggingface_logo-noborder.svg\nalt='Hugging Face'> <br> Copy a token from <a\nhref=\"https://huggingface.co/settings/tokens\" target=\"_blank\">your Hugging Face\ntokens page</a> and paste it below. <br> Immediately click login after copying\nyour token or it might be stored in plain text in this notebook file. </center>",
            "style": "IPY_MODEL_1a7d666a65904e4f82cfe17b7fe2f505",
            "placeholder": "​",
            "_view_count": null,
            "_model_module_version": "1.5.0",
            "description": ""
          }
        },
        "eaaa3ff565b34e989146c30b4206aa4a": {
          "model_module": "@jupyter-widgets/controls",
          "model_name": "CheckboxModel",
          "model_module_version": "1.5.0",
          "state": {
            "_view_module_version": "1.5.0",
            "description_tooltip": null,
            "_model_name": "CheckboxModel",
            "_model_module": "@jupyter-widgets/controls",
            "_view_name": "CheckboxView",
            "_view_module": "@jupyter-widgets/controls",
            "_dom_classes": [],
            "layout": "IPY_MODEL_400a364603c54b5e8e1f9757dca95ec7",
            "indent": true,
            "value": true,
            "style": "IPY_MODEL_fc4fefc3353b421390113ca30dd0eb86",
            "_view_count": null,
            "_model_module_version": "1.5.0",
            "disabled": false,
            "description": "Add token as git credential?"
          }
        },
        "cce68002e6574a9baaffba13b634e21f": {
          "model_module": "@jupyter-widgets/controls",
          "model_name": "LabelModel",
          "model_module_version": "1.5.0",
          "state": {
            "_view_module_version": "1.5.0",
            "description_tooltip": null,
            "_model_name": "LabelModel",
            "_model_module": "@jupyter-widgets/controls",
            "_view_name": "LabelView",
            "_view_module": "@jupyter-widgets/controls",
            "_dom_classes": [],
            "layout": "IPY_MODEL_fdeea74a06934cccb3862eaf7939044b",
            "value": "Your token has been saved in your configured git credential helpers (store).",
            "style": "IPY_MODEL_4529a6dbf15549899bbae8620a52f29d",
            "placeholder": "​",
            "_view_count": null,
            "_model_module_version": "1.5.0",
            "description": ""
          }
        },
        "e10f368c353a4cab95bf834059d2ba0e": {
          "model_module": "@jupyter-widgets/controls",
          "model_name": "ButtonStyleModel",
          "model_module_version": "1.5.0",
          "state": {
            "_view_module_version": "1.2.0",
            "_model_name": "ButtonStyleModel",
            "_model_module": "@jupyter-widgets/controls",
            "_view_name": "StyleView",
            "_view_module": "@jupyter-widgets/base",
            "font_weight": "",
            "_view_count": null,
            "button_color": null,
            "_model_module_version": "1.5.0"
          }
        },
        "aef58a45582d4a1490aa0998ed0cc707": {
          "model_module": "@jupyter-widgets/base",
          "model_name": "LayoutModel",
          "model_module_version": "1.2.0",
          "state": {
            "_view_module_version": "1.2.0",
            "_model_name": "LayoutModel",
            "grid_row": null,
            "_model_module": "@jupyter-widgets/base",
            "overflow": null,
            "max_height": null,
            "display": null,
            "grid_auto_flow": null,
            "grid_template_rows": null,
            "align_self": null,
            "grid_auto_columns": null,
            "width": null,
            "grid_area": null,
            "align_items": null,
            "_view_name": "LayoutView",
            "left": null,
            "height": null,
            "_view_module": "@jupyter-widgets/base",
            "object_position": null,
            "justify_content": null,
            "bottom": null,
            "max_width": null,
            "border": null,
            "margin": null,
            "order": null,
            "grid_column": null,
            "grid_auto_rows": null,
            "padding": null,
            "grid_template_columns": null,
            "justify_items": null,
            "object_fit": null,
            "visibility": null,
            "_view_count": null,
            "flex_flow": null,
            "min_height": null,
            "top": null,
            "min_width": null,
            "flex": null,
            "_model_module_version": "1.2.0",
            "grid_template_areas": null,
            "overflow_x": null,
            "right": null,
            "overflow_y": null,
            "grid_gap": null,
            "align_content": null
          }
        },
        "aceac2336c7c4d478557fa3f8bd3931f": {
          "model_module": "@jupyter-widgets/base",
          "model_name": "LayoutModel",
          "model_module_version": "1.2.0",
          "state": {
            "_view_module_version": "1.2.0",
            "_model_name": "LayoutModel",
            "grid_row": null,
            "_model_module": "@jupyter-widgets/base",
            "overflow": null,
            "max_height": null,
            "display": null,
            "grid_auto_flow": null,
            "grid_template_rows": null,
            "align_self": null,
            "grid_auto_columns": null,
            "width": null,
            "grid_area": null,
            "align_items": null,
            "_view_name": "LayoutView",
            "left": null,
            "height": null,
            "_view_module": "@jupyter-widgets/base",
            "object_position": null,
            "justify_content": null,
            "bottom": null,
            "max_width": null,
            "border": null,
            "margin": null,
            "order": null,
            "grid_column": null,
            "grid_auto_rows": null,
            "padding": null,
            "grid_template_columns": null,
            "justify_items": null,
            "object_fit": null,
            "visibility": null,
            "_view_count": null,
            "flex_flow": null,
            "min_height": null,
            "top": null,
            "min_width": null,
            "flex": null,
            "_model_module_version": "1.2.0",
            "grid_template_areas": null,
            "overflow_x": null,
            "right": null,
            "overflow_y": null,
            "grid_gap": null,
            "align_content": null
          }
        },
        "d0883effcab140cd80e445df482e3ec6": {
          "model_module": "@jupyter-widgets/base",
          "model_name": "LayoutModel",
          "model_module_version": "1.2.0",
          "state": {
            "_view_module_version": "1.2.0",
            "_model_name": "LayoutModel",
            "grid_row": null,
            "_model_module": "@jupyter-widgets/base",
            "overflow": null,
            "max_height": null,
            "display": null,
            "grid_auto_flow": null,
            "grid_template_rows": null,
            "align_self": null,
            "grid_auto_columns": null,
            "width": null,
            "grid_area": null,
            "align_items": null,
            "_view_name": "LayoutView",
            "left": null,
            "height": null,
            "_view_module": "@jupyter-widgets/base",
            "object_position": null,
            "justify_content": null,
            "bottom": null,
            "max_width": null,
            "border": null,
            "margin": null,
            "order": null,
            "grid_column": null,
            "grid_auto_rows": null,
            "padding": null,
            "grid_template_columns": null,
            "justify_items": null,
            "object_fit": null,
            "visibility": null,
            "_view_count": null,
            "flex_flow": null,
            "min_height": null,
            "top": null,
            "min_width": null,
            "flex": null,
            "_model_module_version": "1.2.0",
            "grid_template_areas": null,
            "overflow_x": null,
            "right": null,
            "overflow_y": null,
            "grid_gap": null,
            "align_content": null
          }
        },
        "50045a301a3d4f779ad628eadc407047": {
          "model_module": "@jupyter-widgets/controls",
          "model_name": "LabelModel",
          "model_module_version": "1.5.0",
          "state": {
            "_view_module_version": "1.5.0",
            "description_tooltip": null,
            "_model_name": "LabelModel",
            "_model_module": "@jupyter-widgets/controls",
            "_view_name": "LabelView",
            "_view_module": "@jupyter-widgets/controls",
            "_dom_classes": [],
            "layout": "IPY_MODEL_74b5eb92ff274983a7fcf6032a64c440",
            "value": "Your token has been saved to /root/.cache/huggingface/token",
            "style": "IPY_MODEL_c9782ae25a1b40d8a1b97489ae859514",
            "placeholder": "​",
            "_view_count": null,
            "_model_module_version": "1.5.0",
            "description": ""
          }
        },
        "f6b51939bf7c45b69c0c49a85e5247e4": {
          "model_module": "@jupyter-widgets/controls",
          "model_name": "ProgressStyleModel",
          "model_module_version": "1.5.0",
          "state": {
            "_view_module_version": "1.2.0",
            "_model_name": "ProgressStyleModel",
            "_model_module": "@jupyter-widgets/controls",
            "description_width": "",
            "_view_name": "StyleView",
            "_view_module": "@jupyter-widgets/base",
            "_view_count": null,
            "bar_color": null,
            "_model_module_version": "1.5.0"
          }
        },
        "be5f27bd291048389a6a0a2aac3139d0": {
          "model_module": "@jupyter-widgets/controls",
          "model_name": "DescriptionStyleModel",
          "model_module_version": "1.5.0",
          "state": {
            "_model_module": "@jupyter-widgets/controls",
            "_model_module_version": "1.5.0",
            "_model_name": "DescriptionStyleModel",
            "_view_count": null,
            "_view_module": "@jupyter-widgets/base",
            "_view_module_version": "1.2.0",
            "_view_name": "StyleView",
            "description_width": ""
          }
        },
        "f3983f65b9ec416b9b4910de7040eba5": {
          "model_module": "@jupyter-widgets/controls",
          "model_name": "HTMLModel",
          "model_module_version": "1.5.0",
          "state": {
            "_view_module_version": "1.5.0",
            "description_tooltip": null,
            "_model_name": "HTMLModel",
            "_model_module": "@jupyter-widgets/controls",
            "_view_name": "HTMLView",
            "_view_module": "@jupyter-widgets/controls",
            "_dom_classes": [],
            "layout": "IPY_MODEL_11fb84c45d364abcaff3ca43b3bdc829",
            "value": " 10037/10037 [00:12&lt;00:00, 1019.36 examples/s]",
            "style": "IPY_MODEL_be5f27bd291048389a6a0a2aac3139d0",
            "placeholder": "​",
            "_view_count": null,
            "_model_module_version": "1.5.0",
            "description": ""
          }
        },
        "7f599423e2ad42b39cb4decaaf869f91": {
          "model_module": "@jupyter-widgets/controls",
          "model_name": "FloatProgressModel",
          "model_module_version": "1.5.0",
          "state": {
            "_view_module_version": "1.5.0",
            "description_tooltip": null,
            "_model_name": "FloatProgressModel",
            "_model_module": "@jupyter-widgets/controls",
            "max": 1115,
            "bar_style": "success",
            "_view_name": "ProgressView",
            "_view_module": "@jupyter-widgets/controls",
            "_dom_classes": [],
            "layout": "IPY_MODEL_6b38a5ca737f4ce690ddf4cb3509f530",
            "orientation": "horizontal",
            "value": 1115,
            "style": "IPY_MODEL_973507d7b3254f31a39e195affce9d16",
            "min": 0,
            "_view_count": null,
            "_model_module_version": "1.5.0",
            "description": ""
          }
        },
        "fdeea74a06934cccb3862eaf7939044b": {
          "model_module": "@jupyter-widgets/base",
          "model_name": "LayoutModel",
          "model_module_version": "1.2.0",
          "state": {
            "_view_module_version": "1.2.0",
            "_model_name": "LayoutModel",
            "grid_row": null,
            "_model_module": "@jupyter-widgets/base",
            "overflow": null,
            "max_height": null,
            "display": null,
            "grid_auto_flow": null,
            "grid_template_rows": null,
            "align_self": null,
            "grid_auto_columns": null,
            "width": null,
            "grid_area": null,
            "align_items": null,
            "_view_name": "LayoutView",
            "left": null,
            "height": null,
            "_view_module": "@jupyter-widgets/base",
            "object_position": null,
            "justify_content": null,
            "bottom": null,
            "max_width": null,
            "border": null,
            "margin": null,
            "order": null,
            "grid_column": null,
            "grid_auto_rows": null,
            "padding": null,
            "grid_template_columns": null,
            "justify_items": null,
            "object_fit": null,
            "visibility": null,
            "_view_count": null,
            "flex_flow": null,
            "min_height": null,
            "top": null,
            "min_width": null,
            "flex": null,
            "_model_module_version": "1.2.0",
            "grid_template_areas": null,
            "overflow_x": null,
            "right": null,
            "overflow_y": null,
            "grid_gap": null,
            "align_content": null
          }
        },
        "da23e7ccd548401cb84f76017fc75d59": {
          "model_module": "@jupyter-widgets/base",
          "model_name": "LayoutModel",
          "model_module_version": "1.2.0",
          "state": {
            "_view_module_version": "1.2.0",
            "_model_name": "LayoutModel",
            "grid_row": null,
            "_model_module": "@jupyter-widgets/base",
            "overflow": null,
            "max_height": null,
            "display": null,
            "grid_auto_flow": null,
            "grid_template_rows": null,
            "align_self": null,
            "grid_auto_columns": null,
            "width": null,
            "grid_area": null,
            "align_items": null,
            "_view_name": "LayoutView",
            "left": null,
            "height": null,
            "_view_module": "@jupyter-widgets/base",
            "object_position": null,
            "justify_content": null,
            "bottom": null,
            "max_width": null,
            "border": null,
            "margin": null,
            "order": null,
            "grid_column": null,
            "grid_auto_rows": null,
            "padding": null,
            "grid_template_columns": null,
            "justify_items": null,
            "object_fit": null,
            "visibility": null,
            "_view_count": null,
            "flex_flow": null,
            "min_height": null,
            "top": null,
            "min_width": null,
            "flex": null,
            "_model_module_version": "1.2.0",
            "grid_template_areas": null,
            "overflow_x": null,
            "right": null,
            "overflow_y": null,
            "grid_gap": null,
            "align_content": null
          }
        },
        "bbc725bf803c4672a8892908ef546a55": {
          "model_module": "@jupyter-widgets/base",
          "model_name": "LayoutModel",
          "model_module_version": "1.2.0",
          "state": {
            "_view_module_version": "1.2.0",
            "_model_name": "LayoutModel",
            "grid_row": null,
            "_model_module": "@jupyter-widgets/base",
            "overflow": null,
            "max_height": null,
            "display": null,
            "grid_auto_flow": null,
            "grid_template_rows": null,
            "align_self": null,
            "grid_auto_columns": null,
            "width": null,
            "grid_area": null,
            "align_items": null,
            "_view_name": "LayoutView",
            "left": null,
            "height": null,
            "_view_module": "@jupyter-widgets/base",
            "object_position": null,
            "justify_content": null,
            "bottom": null,
            "max_width": null,
            "border": null,
            "margin": null,
            "order": null,
            "grid_column": null,
            "grid_auto_rows": null,
            "padding": null,
            "grid_template_columns": null,
            "justify_items": null,
            "object_fit": null,
            "visibility": null,
            "_view_count": null,
            "flex_flow": null,
            "min_height": null,
            "top": null,
            "min_width": null,
            "flex": null,
            "_model_module_version": "1.2.0",
            "grid_template_areas": null,
            "overflow_x": null,
            "right": null,
            "overflow_y": null,
            "grid_gap": null,
            "align_content": null
          }
        },
        "4c227138ef5e4033b1f9d80b5af249c5": {
          "model_module": "@jupyter-widgets/base",
          "model_name": "LayoutModel",
          "model_module_version": "1.2.0",
          "state": {
            "_view_module_version": "1.2.0",
            "_model_name": "LayoutModel",
            "grid_row": null,
            "_model_module": "@jupyter-widgets/base",
            "overflow": null,
            "max_height": null,
            "display": null,
            "grid_auto_flow": null,
            "grid_template_rows": null,
            "align_self": null,
            "grid_auto_columns": null,
            "width": null,
            "grid_area": null,
            "align_items": null,
            "_view_name": "LayoutView",
            "left": null,
            "height": null,
            "_view_module": "@jupyter-widgets/base",
            "object_position": null,
            "justify_content": null,
            "bottom": null,
            "max_width": null,
            "border": null,
            "margin": null,
            "order": null,
            "grid_column": null,
            "grid_auto_rows": null,
            "padding": null,
            "grid_template_columns": null,
            "justify_items": null,
            "object_fit": null,
            "visibility": null,
            "_view_count": null,
            "flex_flow": null,
            "min_height": null,
            "top": null,
            "min_width": null,
            "flex": null,
            "_model_module_version": "1.2.0",
            "grid_template_areas": null,
            "overflow_x": null,
            "right": null,
            "overflow_y": null,
            "grid_gap": null,
            "align_content": null
          }
        },
        "bdac5ea8599a463ea9759cbce8a10366": {
          "model_module": "@jupyter-widgets/controls",
          "model_name": "HBoxModel",
          "model_module_version": "1.5.0",
          "state": {
            "_view_module_version": "1.5.0",
            "_model_name": "HBoxModel",
            "_model_module": "@jupyter-widgets/controls",
            "_view_name": "HBoxView",
            "_view_module": "@jupyter-widgets/controls",
            "_dom_classes": [],
            "layout": "IPY_MODEL_2b7a9a6a51554da19bc7084a83d7ba8c",
            "_view_count": null,
            "_model_module_version": "1.5.0",
            "box_style": "",
            "children": [
              "IPY_MODEL_648761016a5647bcbc08e39db68456ab",
              "IPY_MODEL_9fe0e197d2a648d9b3b727b5a39e3361",
              "IPY_MODEL_7e479b2bb1ff45e092670c7d3057c69f"
            ]
          }
        },
        "f2a2b0f60a164ddaa6d0de59dc60361c": {
          "model_module": "@jupyter-widgets/base",
          "model_name": "LayoutModel",
          "model_module_version": "1.2.0",
          "state": {
            "_view_module_version": "1.2.0",
            "_model_name": "LayoutModel",
            "grid_row": null,
            "_model_module": "@jupyter-widgets/base",
            "overflow": null,
            "max_height": null,
            "display": null,
            "grid_auto_flow": null,
            "grid_template_rows": null,
            "align_self": null,
            "grid_auto_columns": null,
            "width": null,
            "grid_area": null,
            "align_items": null,
            "_view_name": "LayoutView",
            "left": null,
            "height": null,
            "_view_module": "@jupyter-widgets/base",
            "object_position": null,
            "justify_content": null,
            "bottom": null,
            "max_width": null,
            "border": null,
            "margin": null,
            "order": null,
            "grid_column": null,
            "grid_auto_rows": null,
            "padding": null,
            "grid_template_columns": null,
            "justify_items": null,
            "object_fit": null,
            "visibility": null,
            "_view_count": null,
            "flex_flow": null,
            "min_height": null,
            "top": null,
            "min_width": null,
            "flex": null,
            "_model_module_version": "1.2.0",
            "grid_template_areas": null,
            "overflow_x": null,
            "right": null,
            "overflow_y": null,
            "grid_gap": null,
            "align_content": null
          }
        },
        "2b7a9a6a51554da19bc7084a83d7ba8c": {
          "model_module": "@jupyter-widgets/base",
          "model_name": "LayoutModel",
          "model_module_version": "1.2.0",
          "state": {
            "_view_module_version": "1.2.0",
            "_model_name": "LayoutModel",
            "grid_row": null,
            "_model_module": "@jupyter-widgets/base",
            "overflow": null,
            "max_height": null,
            "display": null,
            "grid_auto_flow": null,
            "grid_template_rows": null,
            "align_self": null,
            "grid_auto_columns": null,
            "width": null,
            "grid_area": null,
            "align_items": null,
            "_view_name": "LayoutView",
            "left": null,
            "height": null,
            "_view_module": "@jupyter-widgets/base",
            "object_position": null,
            "justify_content": null,
            "bottom": null,
            "max_width": null,
            "border": null,
            "margin": null,
            "order": null,
            "grid_column": null,
            "grid_auto_rows": null,
            "padding": null,
            "grid_template_columns": null,
            "justify_items": null,
            "object_fit": null,
            "visibility": null,
            "_view_count": null,
            "flex_flow": null,
            "min_height": null,
            "top": null,
            "min_width": null,
            "flex": null,
            "_model_module_version": "1.2.0",
            "grid_template_areas": null,
            "overflow_x": null,
            "right": null,
            "overflow_y": null,
            "grid_gap": null,
            "align_content": null
          }
        },
        "41a20f5b947b43c3948b019b3e46a1fb": {
          "model_module": "@jupyter-widgets/base",
          "model_name": "LayoutModel",
          "model_module_version": "1.2.0",
          "state": {
            "_view_module_version": "1.2.0",
            "_model_name": "LayoutModel",
            "grid_row": null,
            "_model_module": "@jupyter-widgets/base",
            "overflow": null,
            "max_height": null,
            "display": null,
            "grid_auto_flow": null,
            "grid_template_rows": null,
            "align_self": null,
            "grid_auto_columns": null,
            "width": null,
            "grid_area": null,
            "align_items": null,
            "_view_name": "LayoutView",
            "left": null,
            "height": null,
            "_view_module": "@jupyter-widgets/base",
            "object_position": null,
            "justify_content": null,
            "bottom": null,
            "max_width": null,
            "border": null,
            "margin": null,
            "order": null,
            "grid_column": null,
            "grid_auto_rows": null,
            "padding": null,
            "grid_template_columns": null,
            "justify_items": null,
            "object_fit": null,
            "visibility": null,
            "_view_count": null,
            "flex_flow": null,
            "min_height": null,
            "top": null,
            "min_width": null,
            "flex": null,
            "_model_module_version": "1.2.0",
            "grid_template_areas": null,
            "overflow_x": null,
            "right": null,
            "overflow_y": null,
            "grid_gap": null,
            "align_content": null
          }
        },
        "dfea763cddba4b7aaa83a45222b2396f": {
          "model_module": "@jupyter-widgets/controls",
          "model_name": "HTMLModel",
          "model_module_version": "1.5.0",
          "state": {
            "_view_module_version": "1.5.0",
            "description_tooltip": null,
            "_model_name": "HTMLModel",
            "_model_module": "@jupyter-widgets/controls",
            "_view_name": "HTMLView",
            "_view_module": "@jupyter-widgets/controls",
            "_dom_classes": [],
            "layout": "IPY_MODEL_4c227138ef5e4033b1f9d80b5af249c5",
            "value": "Map: 100%",
            "style": "IPY_MODEL_8508008c97fa49848455ff6ef4cf4097",
            "placeholder": "​",
            "_view_count": null,
            "_model_module_version": "1.5.0",
            "description": ""
          }
        },
        "9fe0e197d2a648d9b3b727b5a39e3361": {
          "model_module": "@jupyter-widgets/controls",
          "model_name": "FloatProgressModel",
          "model_module_version": "1.5.0",
          "state": {
            "_view_module_version": "1.5.0",
            "description_tooltip": null,
            "_model_name": "FloatProgressModel",
            "_model_module": "@jupyter-widgets/controls",
            "max": 10037,
            "bar_style": "success",
            "_view_name": "ProgressView",
            "_view_module": "@jupyter-widgets/controls",
            "_dom_classes": [],
            "layout": "IPY_MODEL_da23e7ccd548401cb84f76017fc75d59",
            "orientation": "horizontal",
            "value": 10037,
            "style": "IPY_MODEL_f6b51939bf7c45b69c0c49a85e5247e4",
            "min": 0,
            "_view_count": null,
            "_model_module_version": "1.5.0",
            "description": ""
          }
        },
        "a7dcda5371504cb18e1feaf846803759": {
          "model_module": "@jupyter-widgets/controls",
          "model_name": "LabelModel",
          "model_module_version": "1.5.0",
          "state": {
            "_view_module_version": "1.5.0",
            "description_tooltip": null,
            "_model_name": "LabelModel",
            "_model_module": "@jupyter-widgets/controls",
            "_view_name": "LabelView",
            "_view_module": "@jupyter-widgets/controls",
            "_dom_classes": [],
            "layout": "IPY_MODEL_73969a9bdeec45428323556adab1719d",
            "value": "Token is valid (permission: write).",
            "style": "IPY_MODEL_01e84539b7f3437aac86603e53740d65",
            "placeholder": "​",
            "_view_count": null,
            "_model_module_version": "1.5.0",
            "description": ""
          }
        },
        "110d2e93238848a3aeedc46778f29af9": {
          "model_module": "@jupyter-widgets/base",
          "model_name": "LayoutModel",
          "model_module_version": "1.2.0",
          "state": {
            "_view_module_version": "1.2.0",
            "_model_name": "LayoutModel",
            "grid_row": null,
            "_model_module": "@jupyter-widgets/base",
            "overflow": null,
            "max_height": null,
            "display": "flex",
            "grid_auto_flow": null,
            "grid_template_rows": null,
            "align_self": null,
            "grid_auto_columns": null,
            "width": "50%",
            "grid_area": null,
            "align_items": "center",
            "_view_name": "LayoutView",
            "left": null,
            "height": null,
            "_view_module": "@jupyter-widgets/base",
            "object_position": null,
            "justify_content": null,
            "bottom": null,
            "max_width": null,
            "border": null,
            "margin": null,
            "order": null,
            "grid_column": null,
            "grid_auto_rows": null,
            "padding": null,
            "grid_template_columns": null,
            "justify_items": null,
            "object_fit": null,
            "visibility": null,
            "_view_count": null,
            "flex_flow": "column",
            "min_height": null,
            "top": null,
            "min_width": null,
            "flex": null,
            "_model_module_version": "1.2.0",
            "grid_template_areas": null,
            "overflow_x": null,
            "right": null,
            "overflow_y": null,
            "grid_gap": null,
            "align_content": null
          }
        },
        "814b3bb52be24ce5b8de74a51db0b9e5": {
          "model_module": "@jupyter-widgets/controls",
          "model_name": "HTMLModel",
          "model_module_version": "1.5.0",
          "state": {
            "_view_module_version": "1.5.0",
            "description_tooltip": null,
            "_model_name": "HTMLModel",
            "_model_module": "@jupyter-widgets/controls",
            "_view_name": "HTMLView",
            "_view_module": "@jupyter-widgets/controls",
            "_dom_classes": [],
            "layout": "IPY_MODEL_1ed6c7adaaf04ff6a385175e5fb1552e",
            "value": " 1115/1115 [00:00&lt;00:00, 1391.73 examples/s]",
            "style": "IPY_MODEL_8616ed90f86f47a4996b92ea26519c95",
            "placeholder": "​",
            "_view_count": null,
            "_model_module_version": "1.5.0",
            "description": ""
          }
        },
        "689dc977208d439ebf44a80f8013dba5": {
          "model_module": "@jupyter-widgets/base",
          "model_name": "LayoutModel",
          "model_module_version": "1.2.0",
          "state": {
            "_view_module_version": "1.2.0",
            "_model_name": "LayoutModel",
            "grid_row": null,
            "_model_module": "@jupyter-widgets/base",
            "overflow": null,
            "max_height": null,
            "display": null,
            "grid_auto_flow": null,
            "grid_template_rows": null,
            "align_self": null,
            "grid_auto_columns": null,
            "width": null,
            "grid_area": null,
            "align_items": null,
            "_view_name": "LayoutView",
            "left": null,
            "height": null,
            "_view_module": "@jupyter-widgets/base",
            "object_position": null,
            "justify_content": null,
            "bottom": null,
            "max_width": null,
            "border": null,
            "margin": null,
            "order": null,
            "grid_column": null,
            "grid_auto_rows": null,
            "padding": null,
            "grid_template_columns": null,
            "justify_items": null,
            "object_fit": null,
            "visibility": null,
            "_view_count": null,
            "flex_flow": null,
            "min_height": null,
            "top": null,
            "min_width": null,
            "flex": null,
            "_model_module_version": "1.2.0",
            "grid_template_areas": null,
            "overflow_x": null,
            "right": null,
            "overflow_y": null,
            "grid_gap": null,
            "align_content": null
          }
        },
        "e4cb2e538b8947d19cca21cc7060a45d": {
          "model_module": "@jupyter-widgets/controls",
          "model_name": "HTMLModel",
          "model_module_version": "1.5.0",
          "state": {
            "_view_module_version": "1.5.0",
            "description_tooltip": null,
            "_model_name": "HTMLModel",
            "_model_module": "@jupyter-widgets/controls",
            "_view_name": "HTMLView",
            "_view_module": "@jupyter-widgets/controls",
            "_dom_classes": [],
            "layout": "IPY_MODEL_41a20f5b947b43c3948b019b3e46a1fb",
            "value": " 1115/1115 [00:01&lt;00:00, 990.48 examples/s]",
            "style": "IPY_MODEL_0b3077eb1a5b4400bcc79600c28a8f00",
            "placeholder": "​",
            "_view_count": null,
            "_model_module_version": "1.5.0",
            "description": ""
          }
        },
        "8c63fc82a67f476bb6e4130c71ec8e07": {
          "model_module": "@jupyter-widgets/controls",
          "model_name": "HTMLModel",
          "model_module_version": "1.5.0",
          "state": {
            "_view_module_version": "1.5.0",
            "description_tooltip": null,
            "_model_name": "HTMLModel",
            "_model_module": "@jupyter-widgets/controls",
            "_view_name": "HTMLView",
            "_view_module": "@jupyter-widgets/controls",
            "_dom_classes": [],
            "layout": "IPY_MODEL_aef58a45582d4a1490aa0998ed0cc707",
            "value": "Map: 100%",
            "style": "IPY_MODEL_a74811fea4584e9780cd18b2b354ebcc",
            "placeholder": "​",
            "_view_count": null,
            "_model_module_version": "1.5.0",
            "description": ""
          }
        },
        "b1655d946dea4ea59db93f0d2c9fd8b6": {
          "model_module": "@jupyter-widgets/controls",
          "model_name": "PasswordModel",
          "model_module_version": "1.5.0",
          "state": {
            "_view_module_version": "1.5.0",
            "description_tooltip": null,
            "_model_name": "PasswordModel",
            "_model_module": "@jupyter-widgets/controls",
            "_view_name": "PasswordView",
            "_view_module": "@jupyter-widgets/controls",
            "_dom_classes": [],
            "layout": "IPY_MODEL_eb31d3d6fe404fbeab36f0d86dd7d176",
            "value": "",
            "style": "IPY_MODEL_af57957175c84e90bdde778984c0af4f",
            "placeholder": "​",
            "_view_count": null,
            "continuous_update": true,
            "_model_module_version": "1.5.0",
            "disabled": false,
            "description": "Token:"
          }
        },
        "ae85376915d34e0fb1dbfc4eacc51766": {
          "model_module": "@jupyter-widgets/base",
          "model_name": "LayoutModel",
          "model_module_version": "1.2.0",
          "state": {
            "_view_module_version": "1.2.0",
            "_model_name": "LayoutModel",
            "grid_row": null,
            "_model_module": "@jupyter-widgets/base",
            "overflow": null,
            "max_height": null,
            "display": null,
            "grid_auto_flow": null,
            "grid_template_rows": null,
            "align_self": null,
            "grid_auto_columns": null,
            "width": null,
            "grid_area": null,
            "align_items": null,
            "_view_name": "LayoutView",
            "left": null,
            "height": null,
            "_view_module": "@jupyter-widgets/base",
            "object_position": null,
            "justify_content": null,
            "bottom": null,
            "max_width": null,
            "border": null,
            "margin": null,
            "order": null,
            "grid_column": null,
            "grid_auto_rows": null,
            "padding": null,
            "grid_template_columns": null,
            "justify_items": null,
            "object_fit": null,
            "visibility": null,
            "_view_count": null,
            "flex_flow": null,
            "min_height": null,
            "top": null,
            "min_width": null,
            "flex": null,
            "_model_module_version": "1.2.0",
            "grid_template_areas": null,
            "overflow_x": null,
            "right": null,
            "overflow_y": null,
            "grid_gap": null,
            "align_content": null
          }
        },
        "47ffbb3c130b4584bb2be484ffa978ed": {
          "model_module": "@jupyter-widgets/controls",
          "model_name": "FloatProgressModel",
          "model_module_version": "1.5.0",
          "state": {
            "_view_module_version": "1.5.0",
            "description_tooltip": null,
            "_model_name": "FloatProgressModel",
            "_model_module": "@jupyter-widgets/controls",
            "max": 10037,
            "bar_style": "success",
            "_view_name": "ProgressView",
            "_view_module": "@jupyter-widgets/controls",
            "_dom_classes": [],
            "layout": "IPY_MODEL_f2a2b0f60a164ddaa6d0de59dc60361c",
            "orientation": "horizontal",
            "value": 10037,
            "style": "IPY_MODEL_752bc760da70471883180258a33bf1f7",
            "min": 0,
            "_view_count": null,
            "_model_module_version": "1.5.0",
            "description": ""
          }
        },
        "8616ed90f86f47a4996b92ea26519c95": {
          "model_module": "@jupyter-widgets/controls",
          "model_name": "DescriptionStyleModel",
          "model_module_version": "1.5.0",
          "state": {
            "_model_module": "@jupyter-widgets/controls",
            "_model_module_version": "1.5.0",
            "_model_name": "DescriptionStyleModel",
            "_view_count": null,
            "_view_module": "@jupyter-widgets/base",
            "_view_module_version": "1.2.0",
            "_view_name": "StyleView",
            "description_width": ""
          }
        },
        "2a40670ec2cc412ca4429cc1585a1861": {
          "model_module": "@jupyter-widgets/controls",
          "model_name": "HBoxModel",
          "model_module_version": "1.5.0",
          "state": {
            "_view_module_version": "1.5.0",
            "_model_name": "HBoxModel",
            "_model_module": "@jupyter-widgets/controls",
            "_view_name": "HBoxView",
            "_view_module": "@jupyter-widgets/controls",
            "_dom_classes": [],
            "layout": "IPY_MODEL_f360dc39bf7a4fb29f081f61e67c50b0",
            "_view_count": null,
            "_model_module_version": "1.5.0",
            "box_style": "",
            "children": [
              "IPY_MODEL_8c63fc82a67f476bb6e4130c71ec8e07",
              "IPY_MODEL_7f599423e2ad42b39cb4decaaf869f91",
              "IPY_MODEL_814b3bb52be24ce5b8de74a51db0b9e5"
            ]
          }
        },
        "eb31d3d6fe404fbeab36f0d86dd7d176": {
          "model_module": "@jupyter-widgets/base",
          "model_name": "LayoutModel",
          "model_module_version": "1.2.0",
          "state": {
            "_view_module_version": "1.2.0",
            "_model_name": "LayoutModel",
            "grid_row": null,
            "_model_module": "@jupyter-widgets/base",
            "overflow": null,
            "max_height": null,
            "display": null,
            "grid_auto_flow": null,
            "grid_template_rows": null,
            "align_self": null,
            "grid_auto_columns": null,
            "width": null,
            "grid_area": null,
            "align_items": null,
            "_view_name": "LayoutView",
            "left": null,
            "height": null,
            "_view_module": "@jupyter-widgets/base",
            "object_position": null,
            "justify_content": null,
            "bottom": null,
            "max_width": null,
            "border": null,
            "margin": null,
            "order": null,
            "grid_column": null,
            "grid_auto_rows": null,
            "padding": null,
            "grid_template_columns": null,
            "justify_items": null,
            "object_fit": null,
            "visibility": null,
            "_view_count": null,
            "flex_flow": null,
            "min_height": null,
            "top": null,
            "min_width": null,
            "flex": null,
            "_model_module_version": "1.2.0",
            "grid_template_areas": null,
            "overflow_x": null,
            "right": null,
            "overflow_y": null,
            "grid_gap": null,
            "align_content": null
          }
        },
        "a74811fea4584e9780cd18b2b354ebcc": {
          "model_module": "@jupyter-widgets/controls",
          "model_name": "DescriptionStyleModel",
          "model_module_version": "1.5.0",
          "state": {
            "_model_module": "@jupyter-widgets/controls",
            "_model_module_version": "1.5.0",
            "_model_name": "DescriptionStyleModel",
            "_view_count": null,
            "_view_module": "@jupyter-widgets/base",
            "_view_module_version": "1.2.0",
            "_view_name": "StyleView",
            "description_width": ""
          }
        },
        "f9308117bd0f463199286ab1815a01b0": {
          "model_module": "@jupyter-widgets/controls",
          "model_name": "VBoxModel",
          "model_module_version": "1.5.0",
          "state": {
            "_view_module_version": "1.5.0",
            "_model_name": "VBoxModel",
            "_model_module": "@jupyter-widgets/controls",
            "_view_name": "VBoxView",
            "_view_module": "@jupyter-widgets/controls",
            "_dom_classes": [],
            "layout": "IPY_MODEL_110d2e93238848a3aeedc46778f29af9",
            "_view_count": null,
            "_model_module_version": "1.5.0",
            "box_style": "",
            "children": [
              "IPY_MODEL_a7dcda5371504cb18e1feaf846803759",
              "IPY_MODEL_cce68002e6574a9baaffba13b634e21f",
              "IPY_MODEL_50045a301a3d4f779ad628eadc407047",
              "IPY_MODEL_d937720d9b18489cbf210f5a71bbff22"
            ]
          }
        },
        "c60e9a83954b4d3f968aca03ab8da320": {
          "model_module": "@jupyter-widgets/controls",
          "model_name": "DescriptionStyleModel",
          "model_module_version": "1.5.0",
          "state": {
            "_model_module": "@jupyter-widgets/controls",
            "_model_module_version": "1.5.0",
            "_model_name": "DescriptionStyleModel",
            "_view_count": null,
            "_view_module": "@jupyter-widgets/base",
            "_view_module_version": "1.2.0",
            "_view_name": "StyleView",
            "description_width": ""
          }
        },
        "dfd8671a498e4dcbaef9d730624a5119": {
          "model_module": "@jupyter-widgets/controls",
          "model_name": "DescriptionStyleModel",
          "model_module_version": "1.5.0",
          "state": {
            "_model_module": "@jupyter-widgets/controls",
            "_model_module_version": "1.5.0",
            "_model_name": "DescriptionStyleModel",
            "_view_count": null,
            "_view_module": "@jupyter-widgets/base",
            "_view_module_version": "1.2.0",
            "_view_name": "StyleView",
            "description_width": ""
          }
        },
        "af57957175c84e90bdde778984c0af4f": {
          "model_module": "@jupyter-widgets/controls",
          "model_name": "DescriptionStyleModel",
          "model_module_version": "1.5.0",
          "state": {
            "_model_module": "@jupyter-widgets/controls",
            "_model_module_version": "1.5.0",
            "_model_name": "DescriptionStyleModel",
            "_view_count": null,
            "_view_module": "@jupyter-widgets/base",
            "_view_module_version": "1.2.0",
            "_view_name": "StyleView",
            "description_width": ""
          }
        },
        "7cba08c01f3e435a946b27aa2268cc85": {
          "model_module": "@jupyter-widgets/controls",
          "model_name": "DescriptionStyleModel",
          "model_module_version": "1.5.0",
          "state": {
            "_model_module": "@jupyter-widgets/controls",
            "_model_module_version": "1.5.0",
            "_model_name": "DescriptionStyleModel",
            "_view_count": null,
            "_view_module": "@jupyter-widgets/base",
            "_view_module_version": "1.2.0",
            "_view_name": "StyleView",
            "description_width": ""
          }
        },
        "648761016a5647bcbc08e39db68456ab": {
          "model_module": "@jupyter-widgets/controls",
          "model_name": "HTMLModel",
          "model_module_version": "1.5.0",
          "state": {
            "_view_module_version": "1.5.0",
            "description_tooltip": null,
            "_model_name": "HTMLModel",
            "_model_module": "@jupyter-widgets/controls",
            "_view_name": "HTMLView",
            "_view_module": "@jupyter-widgets/controls",
            "_dom_classes": [],
            "layout": "IPY_MODEL_5bef77c2aa0e4980a278510cc675e3a0",
            "value": "Map: 100%",
            "style": "IPY_MODEL_32600bcf8a0b4394bd72750361680960",
            "placeholder": "​",
            "_view_count": null,
            "_model_module_version": "1.5.0",
            "description": ""
          }
        },
        "5bef77c2aa0e4980a278510cc675e3a0": {
          "model_module": "@jupyter-widgets/base",
          "model_name": "LayoutModel",
          "model_module_version": "1.2.0",
          "state": {
            "_view_module_version": "1.2.0",
            "_model_name": "LayoutModel",
            "grid_row": null,
            "_model_module": "@jupyter-widgets/base",
            "overflow": null,
            "max_height": null,
            "display": null,
            "grid_auto_flow": null,
            "grid_template_rows": null,
            "align_self": null,
            "grid_auto_columns": null,
            "width": null,
            "grid_area": null,
            "align_items": null,
            "_view_name": "LayoutView",
            "left": null,
            "height": null,
            "_view_module": "@jupyter-widgets/base",
            "object_position": null,
            "justify_content": null,
            "bottom": null,
            "max_width": null,
            "border": null,
            "margin": null,
            "order": null,
            "grid_column": null,
            "grid_auto_rows": null,
            "padding": null,
            "grid_template_columns": null,
            "justify_items": null,
            "object_fit": null,
            "visibility": null,
            "_view_count": null,
            "flex_flow": null,
            "min_height": null,
            "top": null,
            "min_width": null,
            "flex": null,
            "_model_module_version": "1.2.0",
            "grid_template_areas": null,
            "overflow_x": null,
            "right": null,
            "overflow_y": null,
            "grid_gap": null,
            "align_content": null
          }
        },
        "e2ecc0c7e9314643b3365a7b0ce2592b": {
          "model_module": "@jupyter-widgets/controls",
          "model_name": "LabelModel",
          "model_module_version": "1.5.0",
          "state": {
            "_view_module_version": "1.5.0",
            "description_tooltip": null,
            "_model_name": "LabelModel",
            "_model_module": "@jupyter-widgets/controls",
            "_view_name": "LabelView",
            "_view_module": "@jupyter-widgets/controls",
            "_dom_classes": [],
            "layout": "IPY_MODEL_57a42939202a4802b8540efd8cc7c21f",
            "value": "Connecting...",
            "style": "IPY_MODEL_dfd8671a498e4dcbaef9d730624a5119",
            "placeholder": "​",
            "_view_count": null,
            "_model_module_version": "1.5.0",
            "description": ""
          }
        },
        "7e479b2bb1ff45e092670c7d3057c69f": {
          "model_module": "@jupyter-widgets/controls",
          "model_name": "HTMLModel",
          "model_module_version": "1.5.0",
          "state": {
            "_view_module_version": "1.5.0",
            "description_tooltip": null,
            "_model_name": "HTMLModel",
            "_model_module": "@jupyter-widgets/controls",
            "_view_name": "HTMLView",
            "_view_module": "@jupyter-widgets/controls",
            "_dom_classes": [],
            "layout": "IPY_MODEL_aceac2336c7c4d478557fa3f8bd3931f",
            "value": " 10037/10037 [00:06&lt;00:00, 1515.99 examples/s]",
            "style": "IPY_MODEL_fe1f3d68703a4d4e8289ca5df513281d",
            "placeholder": "​",
            "_view_count": null,
            "_model_module_version": "1.5.0",
            "description": ""
          }
        }
      }
    },
    "kernel_info": {
      "name": "python38-azureml"
    },
    "language_info": {
      "name": "python",
      "version": "3.8.5",
      "mimetype": "text/x-python",
      "codemirror_mode": {
        "name": "ipython",
        "version": 3
      },
      "pygments_lexer": "ipython3",
      "nbconvert_exporter": "python",
      "file_extension": ".py"
    },
    "kernelspec": {
      "name": "python38-azureml",
      "language": "python",
      "display_name": "Python 3.8 - AzureML"
    },
    "nteract": {
      "version": "nteract-front-end@1.0.0"
    }
  },
  "nbformat": 4,
  "nbformat_minor": 0
}