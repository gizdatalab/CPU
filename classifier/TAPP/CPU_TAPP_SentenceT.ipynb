{
  "cells": [
    {
      "cell_type": "markdown",
      "metadata": {
        "id": "view-in-github",
        "colab_type": "text"
      },
      "source": [
        "<a href=\"https://colab.research.google.com/github/gizdatalab/CPU/blob/main/classifier/TAPP/CPU_TAPP_SentenceT.ipynb\" target=\"_parent\"><img src=\"https://colab.research.google.com/assets/colab-badge.svg\" alt=\"Open In Colab\"/></a>"
      ]
    },
    {
      "cell_type": "code",
      "source": [
        "%%capture\n",
        "! pip install datasets transformers sentencepiece huggingface_hub\n",
        "! apt install git-lfs\n",
        "! pip install sentence-transformers\n",
        "! pip install optuna\n",
        "! pip install evaluate\n",
        "! pip install accelerate -U\n",
        "! pip install codecarbon"
      ],
      "outputs": [],
      "execution_count": null,
      "metadata": {
        "id": "M-ytBHREuwyC"
      }
    },
    {
      "cell_type": "code",
      "source": [
        "from huggingface_hub import notebook_login\n",
        "notebook_login()"
      ],
      "outputs": [
        {
          "output_type": "display_data",
          "data": {
            "text/plain": "VBox(children=(HTML(value='<center> <img\\nsrc=https://huggingface.co/front/assets/huggingface_logo-noborder.sv…",
            "application/vnd.jupyter.widget-view+json": {
              "version_major": 2,
              "version_minor": 0,
              "model_id": "c9e4f4693b7e468fa07a9112b3343735"
            }
          },
          "metadata": {}
        },
        {
          "output_type": "stream",
          "name": "stderr",
          "text": "[codecarbon INFO @ 15:43:11] Energy consumed for RAM : 0.000137 kWh. RAM Power : 10.2771635055542 W\n[codecarbon INFO @ 15:43:11] Energy consumed for all GPUs : 0.000123 kWh. Total GPU Power : 9.28099058829887 W\n[codecarbon INFO @ 15:43:11] Energy consumed for all CPUs : 0.000565 kWh. Total CPU Power : 42.5 W\n[codecarbon INFO @ 15:43:11] 0.000825 kWh of electricity used since the beginning.\n[codecarbon INFO @ 15:43:56] Energy consumed for RAM : 0.000265 kWh. RAM Power : 10.2771635055542 W\n[codecarbon INFO @ 15:43:56] Energy consumed for all GPUs : 0.000414 kWh. Total GPU Power : 25.441500917784857 W\n[codecarbon INFO @ 15:43:56] Energy consumed for all CPUs : 0.001096 kWh. Total CPU Power : 42.5 W\n[codecarbon INFO @ 15:43:56] 0.001776 kWh of electricity used since the beginning.\n"
        }
      ],
      "execution_count": null,
      "metadata": {
        "colab": {
          "base_uri": "https://localhost:8080/",
          "height": 145,
          "referenced_widgets": [
            "f9308117bd0f463199286ab1815a01b0",
            "6d566461ab2b4bd3b79945928d6bf873",
            "b1655d946dea4ea59db93f0d2c9fd8b6",
            "eaaa3ff565b34e989146c30b4206aa4a",
            "47f4073f798f428dae8d635146edbe6e",
            "9aced9baa2f44cf79c4b35d6b6880fc8",
            "110d2e93238848a3aeedc46778f29af9",
            "bbc725bf803c4672a8892908ef546a55",
            "1a7d666a65904e4f82cfe17b7fe2f505",
            "eb31d3d6fe404fbeab36f0d86dd7d176",
            "af57957175c84e90bdde778984c0af4f",
            "400a364603c54b5e8e1f9757dca95ec7",
            "fc4fefc3353b421390113ca30dd0eb86",
            "bb8d9843305b41d8a367c2f7d4c02bfd",
            "e10f368c353a4cab95bf834059d2ba0e",
            "689dc977208d439ebf44a80f8013dba5",
            "7cba08c01f3e435a946b27aa2268cc85",
            "e2ecc0c7e9314643b3365a7b0ce2592b",
            "57a42939202a4802b8540efd8cc7c21f",
            "dfd8671a498e4dcbaef9d730624a5119",
            "a7dcda5371504cb18e1feaf846803759",
            "cce68002e6574a9baaffba13b634e21f",
            "50045a301a3d4f779ad628eadc407047",
            "d937720d9b18489cbf210f5a71bbff22",
            "73969a9bdeec45428323556adab1719d",
            "01e84539b7f3437aac86603e53740d65",
            "fdeea74a06934cccb3862eaf7939044b",
            "4529a6dbf15549899bbae8620a52f29d",
            "74b5eb92ff274983a7fcf6032a64c440",
            "c9782ae25a1b40d8a1b97489ae859514",
            "6420b51992644f59bdc147e228d7af99",
            "c60e9a83954b4d3f968aca03ab8da320",
            "c9e4f4693b7e468fa07a9112b3343735"
          ]
        },
        "id": "s503WWbVu3u4",
        "outputId": "e63564ea-b888-4078-b827-ee1f44a399df",
        "gather": {
          "logged": 1705592500583
        }
      }
    },
    {
      "cell_type": "code",
      "source": [
        "from codecarbon import EmissionsTracker\n",
        "\n",
        "tracker = EmissionsTracker()\n",
        "tracker.start()"
      ],
      "outputs": [
        {
          "output_type": "stream",
          "name": "stderr",
          "text": "[codecarbon INFO @ 15:42:21] [setup] RAM Tracking...\n[codecarbon INFO @ 15:42:21] [setup] GPU Tracking...\n[codecarbon INFO @ 15:42:21] Tracking Nvidia GPU via pynvml\n[codecarbon INFO @ 15:42:21] [setup] CPU Tracking...\n[codecarbon WARNING @ 15:42:21] No CPU tracking mode found. Falling back on CPU constant mode.\n[codecarbon WARNING @ 15:42:22] We saw that you have a AMD EPYC 7V12 64-Core Processor but we don't know it. Please contact us.\n[codecarbon INFO @ 15:42:22] CPU Model on constant consumption mode: AMD EPYC 7V12 64-Core Processor\n[codecarbon INFO @ 15:42:23] >>> Tracker's metadata:\n[codecarbon INFO @ 15:42:23]   Platform system: Linux-5.15.0-1040-azure-x86_64-with-glibc2.10\n[codecarbon INFO @ 15:42:23]   Python version: 3.8.5\n[codecarbon INFO @ 15:42:23]   CodeCarbon version: 2.3.2\n[codecarbon INFO @ 15:42:23]   Available RAM : 27.406 GB\n[codecarbon INFO @ 15:42:23]   CPU count: 4\n[codecarbon INFO @ 15:42:23]   CPU model: AMD EPYC 7V12 64-Core Processor\n[codecarbon INFO @ 15:42:23]   GPU count: 1\n[codecarbon INFO @ 15:42:23]   GPU model: 1 x Tesla T4\n[codecarbon WARNING @ 15:42:23] Cloud provider 'azure' do not publish electricity carbon intensity. Using country value instead.\n"
        }
      ],
      "execution_count": null,
      "metadata": {
        "jupyter": {
          "source_hidden": false,
          "outputs_hidden": false
        },
        "nteract": {
          "transient": {
            "deleting": false
          }
        },
        "gather": {
          "logged": 1705592542656
        },
        "id": "-2gi7ugFx8q9",
        "outputId": "d26cd0d6-90bf-4dfd-dd2b-f16cd7f5316d"
      }
    },
    {
      "cell_type": "code",
      "source": [
        "from datasets import load_dataset\n",
        "import datasets\n",
        "import numpy as np\n",
        "import pandas as pd\n",
        "import evaluate\n",
        "import torch\n",
        "import os\n",
        "import sklearn.metrics as skm\n",
        "from transformers import (AutoTokenizer, AutoConfig, AutoModelForSequenceClassification,\n",
        "                          PreTrainedModel, BertModel, BertForSequenceClassification,\n",
        "                          RobertaForSequenceClassification,\n",
        "                          TrainingArguments, Trainer, TrainerCallback)\n",
        "from torch import cuda\n",
        "device = 'cuda' if cuda.is_available() else 'cpu'"
      ],
      "outputs": [
        {
          "output_type": "stream",
          "name": "stderr",
          "text": "2024-01-18 15:42:35.666539: I tensorflow/core/platform/cpu_feature_guard.cc:193] This TensorFlow binary is optimized with oneAPI Deep Neural Network Library (oneDNN) to use the following CPU instructions in performance-critical operations:  AVX2 FMA\nTo enable them in other operations, rebuild TensorFlow with the appropriate compiler flags.\n2024-01-18 15:42:38.954607: W tensorflow/compiler/xla/stream_executor/platform/default/dso_loader.cc:64] Could not load dynamic library 'libcudart.so.11.0'; dlerror: libcudart.so.11.0: cannot open shared object file: No such file or directory\n2024-01-18 15:42:38.954632: I tensorflow/compiler/xla/stream_executor/cuda/cudart_stub.cc:29] Ignore above cudart dlerror if you do not have a GPU set up on your machine.\n[codecarbon INFO @ 15:42:41] Energy consumed for RAM : 0.000051 kWh. RAM Power : 10.2771635055542 W\n[codecarbon INFO @ 15:42:41] Energy consumed for all GPUs : 0.000046 kWh. Total GPU Power : 9.318893677871012 W\n[codecarbon INFO @ 15:42:41] Energy consumed for all CPUs : 0.000211 kWh. Total CPU Power : 42.5 W\n[codecarbon INFO @ 15:42:41] 0.000308 kWh of electricity used since the beginning.\n2024-01-18 15:42:44.943483: W tensorflow/compiler/xla/stream_executor/platform/default/dso_loader.cc:64] Could not load dynamic library 'libnvinfer.so.7'; dlerror: libnvinfer.so.7: cannot open shared object file: No such file or directory\n2024-01-18 15:42:44.943579: W tensorflow/compiler/xla/stream_executor/platform/default/dso_loader.cc:64] Could not load dynamic library 'libnvinfer_plugin.so.7'; dlerror: libnvinfer_plugin.so.7: cannot open shared object file: No such file or directory\n2024-01-18 15:42:44.943586: W tensorflow/compiler/tf2tensorrt/utils/py_utils.cc:38] TF-TRT Warning: Cannot dlopen some TensorRT libraries. If you would like to use Nvidia GPU with TensorRT, please make sure the missing libraries mentioned above are installed properly.\n"
        }
      ],
      "execution_count": null,
      "metadata": {
        "id": "DPP0N2zbQ01m",
        "gather": {
          "logged": 1705592573050
        },
        "outputId": "55ed3967-8f30-46af-c040-a8bd4c3ac0f9"
      }
    },
    {
      "cell_type": "markdown",
      "source": [
        "# Manual Inputs\n"
      ],
      "metadata": {
        "id": "gb5_UfVBVA0u"
      }
    },
    {
      "cell_type": "code",
      "source": [
        "###### Define Path to data ############################\n",
        "repo_id = \"GIZ/policy_classification\"\n",
        "filename=\"policy_classification.json\"\n",
        "\n",
        "\n",
        "### Define labels ##################\n",
        "label_names= ['TargetLabel','ActionLabel','PlansLabel','PolicyLabel']\n",
        "\n",
        "\n",
        "#######  Define Model params ######################\n",
        "\n",
        "# define the model checkpoint\n",
        "model_checkpoint = \"sentence-transformers/all-mpnet-base-v2\"\n",
        "\n",
        "# define the problem type\n",
        "problem_type=\"multi_label_classification\"\n",
        "\n",
        "\n",
        "######## Training Arguments ##################\n",
        "output_dir = \"TAPP-multilabel-mpnet\"\n",
        "\n",
        "# logging and evaluation\n",
        "evaluation_strategy = \"epoch\"\n",
        "logging_strategy=\"epoch\"\n",
        "logging_steps = 1\n",
        "eval_steps = 1\n",
        "\n",
        "# Important params\n",
        "learning_rate=5.86e-5   #4.04e-5\n",
        "batch_size = 8\n",
        "num_train_epochs= 10\n",
        "weight_decay=0.05\n",
        "warmup_steps = 100\n",
        "gradient_accumulation_steps = 2"
      ],
      "outputs": [
        {
          "output_type": "stream",
          "name": "stderr",
          "text": "[codecarbon INFO @ 15:42:56] Energy consumed for RAM : 0.000094 kWh. RAM Power : 10.2771635055542 W\n[codecarbon INFO @ 15:42:56] Energy consumed for all GPUs : 0.000085 kWh. Total GPU Power : 9.205770481200863 W\n[codecarbon INFO @ 15:42:56] Energy consumed for all CPUs : 0.000388 kWh. Total CPU Power : 42.5 W\n[codecarbon INFO @ 15:42:56] 0.000567 kWh of electricity used since the beginning.\n"
        }
      ],
      "execution_count": null,
      "metadata": {
        "id": "l0m9rLEIVTSS",
        "gather": {
          "logged": 1705592573250
        },
        "outputId": "ea6bb49f-2506-4a36-b0bd-2411908ff93d"
      }
    },
    {
      "cell_type": "markdown",
      "source": [
        "# Automated"
      ],
      "metadata": {
        "id": "LcM5ntTcWgJr"
      }
    },
    {
      "cell_type": "markdown",
      "source": [
        "## Dataset"
      ],
      "metadata": {
        "id": "v1V8eE5Lz32w"
      }
    },
    {
      "cell_type": "code",
      "source": [
        "# Load Dataset from Hugging Face\n",
        "# Load Dataset from Hugging Face\n",
        "try:\n",
        "    dataset = load_dataset(repo_id, data_files=filename,\n",
        "                             use_auth_token=True )\n",
        "    data = pd.DataFrame(dataset['train'])\n",
        "except:\n",
        "    from huggingface_hub import hf_hub_download\n",
        "    hf_hub_download(repo_id, filename=filename,\n",
        "                    repo_type=\"dataset\",use_auth_token=True,\n",
        "    local_dir= 'data/')\n",
        "    data = pd.read_json('data/policy_classification.json')\n",
        "\n",
        "# the dataset already contains train_test split flag we use\n",
        "# it to create train-test split.\n",
        "\n",
        "train_df = data[data.split== 'Train'].reset_index(drop=True)\n",
        "test_df = data[data.split=='Test'].reset_index(drop=True)\n",
        "\n",
        "# Sort the labels and create plaecholders for id2label and label2id\n",
        "label_names.sort()\n",
        "\n",
        "num_labels = len(label_names)\n",
        "id2label = {idx:label for idx, label in enumerate(label_names)}\n",
        "label2id = {label:idx for idx, label in enumerate(label_names)}\n",
        "print(id2label)"
      ],
      "outputs": [
        {
          "output_type": "stream",
          "name": "stderr",
          "text": "Using custom data configuration GIZ--policy_classification-cdc4b717b1bd720b\n"
        },
        {
          "output_type": "stream",
          "name": "stdout",
          "text": "Downloading and preparing dataset json/GIZ--policy_classification to /home/azureuser/.cache/huggingface/datasets/GIZ___json/GIZ--policy_classification-cdc4b717b1bd720b/0.0.0/da492aad5680612e4028e7f6ddc04b1dfcec4b64db470ed7cc5f2bb265b9b6b5...\n"
        },
        {
          "output_type": "display_data",
          "data": {
            "text/plain": "Downloading data files:   0%|          | 0/1 [00:00<?, ?it/s]",
            "application/vnd.jupyter.widget-view+json": {
              "version_major": 2,
              "version_minor": 0,
              "model_id": "6158c2545ff84355b02f0c5ae071a8d1"
            }
          },
          "metadata": {}
        },
        {
          "output_type": "display_data",
          "data": {
            "text/plain": "Extracting data files:   0%|          | 0/1 [00:00<?, ?it/s]",
            "application/vnd.jupyter.widget-view+json": {
              "version_major": 2,
              "version_minor": 0,
              "model_id": "0a7253a9ef67418e84984594749ec2dd"
            }
          },
          "metadata": {}
        },
        {
          "output_type": "display_data",
          "data": {
            "text/plain": "0 tables [00:00, ? tables/s]",
            "application/vnd.jupyter.widget-view+json": {
              "version_major": 2,
              "version_minor": 0,
              "model_id": "abd32967751443e5a47a461e7539968e"
            }
          },
          "metadata": {}
        },
        {
          "output_type": "stream",
          "name": "stderr",
          "text": "Failed to read file '/home/azureuser/.cache/huggingface/datasets/downloads/dee24a3afc63cd87c4a0a9517165e43822030f22df905fa089a2628e8d786ca4' with error <class 'pyarrow.lib.ArrowInvalid'>: JSON parse error: Column() changed from object to array in row 0\n"
        },
        {
          "output_type": "stream",
          "name": "stdout",
          "text": "{0: 'ActionLabel', 1: 'PlansLabel', 2: 'PolicyLabel', 3: 'TargetLabel'}\n"
        }
      ],
      "execution_count": null,
      "metadata": {
        "colab": {
          "base_uri": "https://localhost:8080/",
          "referenced_widgets": [
            "6158c2545ff84355b02f0c5ae071a8d1",
            "0a7253a9ef67418e84984594749ec2dd",
            "abd32967751443e5a47a461e7539968e"
          ]
        },
        "id": "jn3cI207wlLN",
        "outputId": "14c21a88-828a-4a67-8cb9-b952f9696c1d",
        "gather": {
          "logged": 1705592588609
        }
      }
    },
    {
      "cell_type": "code",
      "source": [
        "def prepare_multilabel_df(df, cols):\n",
        "    \"\"\"\n",
        "    Takes the dataframe and list of columns which need to combined into\n",
        "    One-hot-encoded labels.\n",
        "\n",
        "    \"\"\"\n",
        "    df.dropna(subset = cols, inplace=True)\n",
        "    df = df.reset_index(drop=True)\n",
        "    df['labels'] = df.apply(lambda x: [int(x[label]) for label in cols],axis=1)\n",
        "    # we have multilingual dataset ('en', 'fr','es'), in case of non-english the\n",
        "    # translated Context is udner the column 'TranslatedContext'. We impute these\n",
        "    # back into 'context' to work with only English dataset.\n",
        "    df['Context'] = df.apply(lambda x: x['Context'] if x['Language'] == 'en'\n",
        "                                    else x['TranslatedContext'][0],axis=1)\n",
        "    df.rename(columns = {'Context':'text'}, inplace=True)\n",
        "\n",
        "    df = df[['text','labels']+cols]\n",
        "    return df\n",
        "\n",
        "# creating multilabel dataset\n",
        "train_df = prepare_multilabel_df(train_df, label_names)\n",
        "test_df = prepare_multilabel_df(test_df, label_names)\n",
        "\n",
        "print('\\n','Classes Representation in Training Dataset:',len(train_df))\n",
        "for i,label in enumerate(label_names):\n",
        "    print(i,\".\",label, \":\", sum( [x[i] for x in list(train_df['labels'])]))\n",
        "\n",
        "print('\\n','Classes Representation in Test Dataset:',len(test_df))\n",
        "for i,label in enumerate(label_names):\n",
        "    print(i,\".\",label, \":\", sum( [x[i] for x in list(test_df['labels'])]))"
      ],
      "outputs": [
        {
          "output_type": "stream",
          "name": "stdout",
          "text": "\n Classes Representation in Training Dataset: 10031\n0 . ActionLabel : 5416\n1 . PlansLabel : 2140\n2 . PolicyLabel : 1396\n3 . TargetLabel : 2911\n\n Classes Representation in Test Dataset: 1121\n0 . ActionLabel : 600\n1 . PlansLabel : 237\n2 . PolicyLabel : 152\n3 . TargetLabel : 322\n"
        }
      ],
      "execution_count": null,
      "metadata": {
        "colab": {
          "base_uri": "https://localhost:8080/"
        },
        "id": "wlUoEAIe0Npm",
        "outputId": "5c9dd87a-e15b-4218-c0d1-92464e7d6df0",
        "gather": {
          "logged": 1705592590232
        }
      }
    },
    {
      "cell_type": "code",
      "source": [
        "for i,label in enumerate(label_names):\n",
        "    # df_train[sector] = df_train.apply(lambda x: x['sector_label'][i], axis =1)\n",
        "    print(i,\".\",label, \":\", sum(train_df[label]))\n",
        "\n",
        "# these are weights which can be used in building weighted loss if class is imbalanced\n",
        "positive_weights = {}\n",
        "negative_weights = {}\n",
        "for label in label_names:\n",
        "    positive_weights[label] = train_df.shape[0]/(2*np.count_nonzero(train_df[label]==True))\n",
        "    negative_weights[label] = train_df.shape[0]/(2*np.count_nonzero(train_df[label]==False))\n",
        "print(\"Positive Weights\",'\\n',positive_weights)\n",
        "print(\"Negative Weights\",'\\n',negative_weights)\n",
        "\n",
        "# as we dont want to miss anything (high recall) we use positive weights calculated above.\n",
        "pos_weights = list(positive_weights.values())\n",
        "\n",
        "# If using GPU we need to place all required data on else there will be error\n",
        "posweights = torch.FloatTensor(pos_weights).to(device)"
      ],
      "outputs": [
        {
          "output_type": "stream",
          "name": "stdout",
          "text": "0 . ActionLabel : 5416.0\n1 . PlansLabel : 2140.0\n2 . PolicyLabel : 1396.0\n3 . TargetLabel : 2911.0\nPositive Weights \n {'ActionLabel': 0.9260524372230429, 'PlansLabel': 2.3436915887850467, 'PolicyLabel': 3.5927650429799427, 'TargetLabel': 1.7229474407420131}\nNegative Weights \n {'ActionLabel': 1.0867822318526543, 'PlansLabel': 0.6355975161576479, 'PolicyLabel': 0.580833815865663, 'TargetLabel': 0.7044241573033708}\n"
        },
        {
          "output_type": "stream",
          "name": "stderr",
          "text": "[codecarbon INFO @ 15:43:26] Energy consumed for RAM : 0.000179 kWh. RAM Power : 10.2771635055542 W\n[codecarbon INFO @ 15:43:26] Energy consumed for all GPUs : 0.000203 kWh. Total GPU Power : 19.134646946579277 W\n[codecarbon INFO @ 15:43:26] Energy consumed for all CPUs : 0.000742 kWh. Total CPU Power : 42.5 W\n[codecarbon INFO @ 15:43:26] 0.001125 kWh of electricity used since the beginning.\n"
        }
      ],
      "execution_count": null,
      "metadata": {
        "colab": {
          "base_uri": "https://localhost:8080/"
        },
        "id": "nejnhaF1Bd1f",
        "outputId": "50c84304-365e-4daa-e0ee-66ee38cbaea5",
        "gather": {
          "logged": 1705592606381
        }
      }
    },
    {
      "cell_type": "markdown",
      "source": [
        "`pos_weight > 1 will increase the recall while pos_weight < 1 will increase the precision.`"
      ],
      "metadata": {
        "id": "sOZoUQzLDYJj"
      }
    },
    {
      "cell_type": "markdown",
      "source": [
        "## Model"
      ],
      "metadata": {
        "id": "4JFQlLoae4y_"
      }
    },
    {
      "cell_type": "code",
      "source": [
        "# problem_type, is not needed in tokenizer but keeping it for conformity\n",
        "# https://huggingface.co/docs/transformers/main_classes/configuration?highlight=multi_label_classification#transformers.PretrainedConfig\n",
        "tokenizer = AutoTokenizer.from_pretrained(model_checkpoint,problem_type=problem_type)\n",
        "\n",
        "# Set the model config and assign it and device to model\n",
        "config = AutoConfig.from_pretrained(model_checkpoint, num_labels=num_labels, id2label=id2label, label2id=label2id, problem_type=problem_type)\n",
        "model = AutoModelForSequenceClassification.from_pretrained(model_checkpoint,config=config).to(device)"
      ],
      "outputs": [
        {
          "output_type": "stream",
          "name": "stderr",
          "text": "Some weights of MPNetForSequenceClassification were not initialized from the model checkpoint at sentence-transformers/all-mpnet-base-v2 and are newly initialized: ['classifier.dense.weight', 'classifier.out_proj.bias', 'classifier.dense.bias', 'classifier.out_proj.weight']\nYou should probably TRAIN this model on a down-stream task to be able to use it for predictions and inference.\n"
        }
      ],
      "execution_count": null,
      "metadata": {
        "colab": {
          "base_uri": "https://localhost:8080/"
        },
        "id": "ALiTo_R9QhP_",
        "outputId": "dade27df-d8a9-43d5-fccd-e34fda3ea3a0",
        "gather": {
          "logged": 1705592614573
        }
      }
    },
    {
      "cell_type": "code",
      "source": [
        "# we need datasets format to work with\n",
        "train_ds = datasets.Dataset.from_pandas(train_df[['text','labels']])\n",
        "test_ds =  datasets.Dataset.from_pandas(test_df[['text','labels']])\n",
        "train_ds = train_ds.shuffle(seed=7)\n",
        "test_ds = test_ds.shuffle(seed=7)\n",
        "\n",
        "\n",
        "# Need to tokenize the data using the tokenizer of the model\n",
        "def tokenize_and_encode(examples):\n",
        "    return tokenizer(examples[\"text\"], padding=\"max_length\", truncation=True,\n",
        "                        max_length=384)\n",
        "\n",
        "cols = train_ds.column_names\n",
        "cols.remove(\"labels\")\n",
        "print('Training data:',train_ds.num_rows)\n",
        "print('Validation data:',test_ds.num_rows)\n",
        "\n",
        "train_tokenized = train_ds.map(tokenize_and_encode, batched=True, remove_columns= cols)\n",
        "val_tokenized = test_ds.map(tokenize_and_encode, batched=True, remove_columns= cols)\n",
        "\n",
        "# need this to avoid error due to type mismatch\n",
        "# https://discuss.pytorch.org/t/multi-label-binary-classification-result-type-float-cant-be-cast-to-the-desired-output-type-long/117915/3\n",
        "train_tokenized.set_format(\"torch\")\n",
        "train_tokenized = (train_tokenized\n",
        "          .map(lambda x : {\"float_labels\": x[\"labels\"].to(torch.float)}, remove_columns=[\"labels\"])\n",
        "          .rename_column(\"float_labels\", \"labels\"))\n",
        "\n",
        "val_tokenized.set_format(\"torch\")\n",
        "val_tokenized = (val_tokenized\n",
        "          .map(lambda x : {\"float_labels\": x[\"labels\"].to(torch.float)}, remove_columns=[\"labels\"])\n",
        "          .rename_column(\"float_labels\", \"labels\"))"
      ],
      "outputs": [
        {
          "output_type": "stream",
          "name": "stderr",
          "text": "Parameter 'function'=<function tokenize_and_encode at 0x7fa600575820> of the transform datasets.arrow_dataset.Dataset._map_single couldn't be hashed properly, a random hash was used instead. Make sure your transforms and parameters are serializable with pickle or dill for the dataset fingerprinting and caching to work. If you reuse this transform, the caching mechanism will consider it to be different from the previous calls and recompute everything. This warning is only showed once. Subsequent hashing failures won't be showed.\n"
        },
        {
          "output_type": "stream",
          "name": "stdout",
          "text": "Training data: 10031\nValidation data: 1121\n"
        },
        {
          "output_type": "display_data",
          "data": {
            "text/plain": "  0%|          | 0/11 [00:00<?, ?ba/s]",
            "application/vnd.jupyter.widget-view+json": {
              "version_major": 2,
              "version_minor": 0,
              "model_id": "94cb2ce62f94453690a5555c257c233b"
            }
          },
          "metadata": {}
        },
        {
          "output_type": "display_data",
          "data": {
            "text/plain": "  0%|          | 0/2 [00:00<?, ?ba/s]",
            "application/vnd.jupyter.widget-view+json": {
              "version_major": 2,
              "version_minor": 0,
              "model_id": "f65bbb982e7f414ebbefdfb8368f8149"
            }
          },
          "metadata": {}
        },
        {
          "output_type": "display_data",
          "data": {
            "text/plain": "  0%|          | 0/10031 [00:00<?, ?ex/s]",
            "application/vnd.jupyter.widget-view+json": {
              "version_major": 2,
              "version_minor": 0,
              "model_id": "ee20fa4942e048db8806b2eccadfe9d7"
            }
          },
          "metadata": {}
        },
        {
          "output_type": "stream",
          "name": "stderr",
          "text": "[codecarbon INFO @ 15:43:41] Energy consumed for RAM : 0.000222 kWh. RAM Power : 10.2771635055542 W\n[codecarbon INFO @ 15:43:41] Energy consumed for all GPUs : 0.000308 kWh. Total GPU Power : 25.318178707063595 W\n[codecarbon INFO @ 15:43:41] Energy consumed for all CPUs : 0.000919 kWh. Total CPU Power : 42.5 W\n[codecarbon INFO @ 15:43:41] 0.001450 kWh of electricity used since the beginning.\n"
        },
        {
          "output_type": "display_data",
          "data": {
            "text/plain": "  0%|          | 0/1121 [00:00<?, ?ex/s]",
            "application/vnd.jupyter.widget-view+json": {
              "version_major": 2,
              "version_minor": 0,
              "model_id": "2ddd90c7511d43199c24c79f727f251a"
            }
          },
          "metadata": {}
        }
      ],
      "execution_count": null,
      "metadata": {
        "colab": {
          "base_uri": "https://localhost:8080/",
          "referenced_widgets": [
            "87118e8cdd28412daaacd92100d30bec",
            "03ad04f4bf554ac1901ecf86713ae23e",
            "47ffbb3c130b4584bb2be484ffa978ed",
            "f3983f65b9ec416b9b4910de7040eba5",
            "ae85376915d34e0fb1dbfc4eacc51766",
            "40909a17ca384b709203c142e72ace8e",
            "6a43f5129f414386a65d648cba8af401",
            "f2a2b0f60a164ddaa6d0de59dc60361c",
            "752bc760da70471883180258a33bf1f7",
            "11fb84c45d364abcaff3ca43b3bdc829",
            "be5f27bd291048389a6a0a2aac3139d0",
            "9b840f388f2f468c94aa5f6a0c0f49a0",
            "dfea763cddba4b7aaa83a45222b2396f",
            "cc7a6341900d4cc8b3d39957cecfb991",
            "e4cb2e538b8947d19cca21cc7060a45d",
            "b800ea5836fa4262b74e9869fa1a1992",
            "4c227138ef5e4033b1f9d80b5af249c5",
            "8508008c97fa49848455ff6ef4cf4097",
            "d0883effcab140cd80e445df482e3ec6",
            "3a9cfc1b0e2e447282a55680daee9e9b",
            "41a20f5b947b43c3948b019b3e46a1fb",
            "0b3077eb1a5b4400bcc79600c28a8f00",
            "bdac5ea8599a463ea9759cbce8a10366",
            "648761016a5647bcbc08e39db68456ab",
            "9fe0e197d2a648d9b3b727b5a39e3361",
            "7e479b2bb1ff45e092670c7d3057c69f",
            "2b7a9a6a51554da19bc7084a83d7ba8c",
            "5bef77c2aa0e4980a278510cc675e3a0",
            "32600bcf8a0b4394bd72750361680960",
            "da23e7ccd548401cb84f76017fc75d59",
            "f6b51939bf7c45b69c0c49a85e5247e4",
            "aceac2336c7c4d478557fa3f8bd3931f",
            "fe1f3d68703a4d4e8289ca5df513281d",
            "2a40670ec2cc412ca4429cc1585a1861",
            "8c63fc82a67f476bb6e4130c71ec8e07",
            "7f599423e2ad42b39cb4decaaf869f91",
            "814b3bb52be24ce5b8de74a51db0b9e5",
            "f360dc39bf7a4fb29f081f61e67c50b0",
            "aef58a45582d4a1490aa0998ed0cc707",
            "a74811fea4584e9780cd18b2b354ebcc",
            "6b38a5ca737f4ce690ddf4cb3509f530",
            "973507d7b3254f31a39e195affce9d16",
            "1ed6c7adaaf04ff6a385175e5fb1552e",
            "8616ed90f86f47a4996b92ea26519c95",
            "94cb2ce62f94453690a5555c257c233b",
            "f65bbb982e7f414ebbefdfb8368f8149",
            "ee20fa4942e048db8806b2eccadfe9d7",
            "2ddd90c7511d43199c24c79f727f251a"
          ]
        },
        "id": "ftiFRaCrVlsc",
        "outputId": "124dbc1f-6460-490a-858c-1135c825c3e9",
        "gather": {
          "logged": 1705592624334
        }
      }
    },
    {
      "cell_type": "markdown",
      "source": [
        "## Metrics"
      ],
      "metadata": {
        "id": "1tJ9O4_EQutV"
      }
    },
    {
      "cell_type": "code",
      "source": [
        "multilabel_f1_metric = evaluate.load(\"f1\", \"multilabel\")\n",
        "multilabel_recall_metric = evaluate.load(\"recall\",\"multilabel\")\n",
        "multilabel_precision_metric = evaluate.load(\"precision\",\"multilabel\")\n",
        "\n",
        "def get_scores(y_pred, y_test, thresh=0.5, sigmoid=True):\n",
        "    \"\"\"\n",
        "    Takes the Predictions and Truth Values, and return multilabel metrics\n",
        "    aggregated on multiple strategies['micro', 'sample', 'weighted']\n",
        "\n",
        "    \"\"\"\n",
        "    # we get raw function value, therefore we apply sigmoid to get to the\n",
        "    # probabilities\n",
        "    if problem_type == \"multi_label_classification\":\n",
        "        y_pred = torch.from_numpy(y_pred)\n",
        "        y_test = torch.from_numpy(y_test)\n",
        "        if sigmoid:\n",
        "          y_pred = y_pred.sigmoid()\n",
        "          y_pred = (y_pred > thresh)\n",
        "\n",
        "        return {\n",
        "            \"precision-micro\": multilabel_precision_metric.compute(predictions=y_pred, references=y_test, average=\"micro\")[\"precision\"],\n",
        "            \"precision-samples\": multilabel_precision_metric.compute(predictions=y_pred, references=y_test, average=\"samples\")[\"precision\"],\n",
        "            \"precision-weighted\": multilabel_precision_metric.compute(predictions=y_pred, references=y_test, average=\"weighted\")[\"precision\"],\n",
        "            \"recall-micro\": multilabel_recall_metric.compute(predictions=y_pred, references=y_test, average=\"micro\")[\"recall\"],\n",
        "            \"recall-samples\": multilabel_recall_metric.compute(predictions=y_pred, references=y_test, average=\"samples\")[\"recall\"],\n",
        "            \"recall-weighted\": multilabel_recall_metric.compute(predictions=y_pred, references=y_test, average=\"weighted\")[\"recall\"],\n",
        "            \"f1-micro\": multilabel_f1_metric.compute(predictions=y_pred, references=y_test, average=\"micro\")[\"f1\"],\n",
        "            \"f1-samples\": multilabel_f1_metric.compute(predictions=y_pred, references=y_test, average=\"samples\")[\"f1\"],\n",
        "            \"f1-weighted\": multilabel_f1_metric.compute(predictions=y_pred, references=y_test, average=\"weighted\")[\"f1\"],\n",
        "            }\n",
        "    else:\n",
        "        y_pred = torch.from_numpy(y_pred).argmax(dim=1)\n",
        "        y_test = torch.from_numpy(y_test)\n",
        "\n",
        "        report = skm.classification_report(y_test, y_pred, output_dict=True)\n",
        "        df_report = pd.DataFrame(report).transpose()\n",
        "        return {\"Precision_macro\": df_report.loc['macro avg']['precision'],\n",
        "                \"Precision_weighted\": df_report.loc['weighted avg']['precision'],\n",
        "                \"Recall_macro\": df_report.loc['macro avg']['recall'],\n",
        "                \"Recall_weighted\": df_report.loc['weighted avg']['recall'],\n",
        "                \"F1-Score\": df_report.loc['macro avg']['f1-score'],\n",
        "                \"Accuracy\": skm.accuracy_score(y_test, y_pred)}\n",
        "\n",
        "\n",
        "def compute_metrics(eval_pred):\n",
        "    predictions, labels = eval_pred\n",
        "    return get_scores(predictions, labels)"
      ],
      "outputs": [],
      "execution_count": null,
      "metadata": {
        "id": "pTLd0UNlQwsE",
        "gather": {
          "logged": 1705592626404
        }
      }
    },
    {
      "cell_type": "markdown",
      "source": [
        "## Training arguments"
      ],
      "metadata": {
        "id": "62dBGn_wkj-V"
      }
    },
    {
      "cell_type": "code",
      "source": [
        "args = TrainingArguments(\n",
        "    output_dir,\n",
        "    logging_strategy=logging_strategy,\n",
        "    evaluation_strategy = evaluation_strategy,\n",
        "    save_strategy = \"epoch\",\n",
        "    logging_steps = logging_steps,\n",
        "    eval_steps= eval_steps,\n",
        "    learning_rate=learning_rate,\n",
        "    per_device_train_batch_size=batch_size,\n",
        "    per_device_eval_batch_size=batch_size,\n",
        "    num_train_epochs=num_train_epochs,\n",
        "    weight_decay=weight_decay,\n",
        "    lr_scheduler_type = \"linear\",\n",
        "    gradient_accumulation_steps = gradient_accumulation_steps,\n",
        "    warmup_steps = warmup_steps,\n",
        ")"
      ],
      "outputs": [],
      "execution_count": null,
      "metadata": {
        "id": "kTAGBdvekp6N",
        "gather": {
          "logged": 1705592626625
        }
      }
    },
    {
      "cell_type": "markdown",
      "source": [
        "## Custom Trainer"
      ],
      "metadata": {
        "id": "bUV61ejhFGXD"
      }
    },
    {
      "cell_type": "code",
      "source": [
        "# for class weights we need to use Custom Multi-Label Trainer\n",
        "# In multi-label problem we will be using Binary Cross Entropy loss with\n",
        "# sigmoid layer on top rather than softmax.\n",
        "class MultilabelTrainer(Trainer):\n",
        "    def compute_loss(self, model, inputs, return_outputs=False):\n",
        "        labels = inputs.pop(\"labels\")\n",
        "        outputs = model(**inputs)\n",
        "        logits = outputs.logits\n",
        "        loss_fct = torch.nn.BCEWithLogitsLoss(pos_weight=posweights)\n",
        "        loss = loss_fct(logits.view(-1, self.model.config.num_labels),\n",
        "                        labels.float().view(-1, self.model.config.num_labels))\n",
        "        return (loss, outputs) if return_outputs else loss\n"
      ],
      "outputs": [],
      "execution_count": null,
      "metadata": {
        "id": "GkjcoTIWFJcz",
        "gather": {
          "logged": 1705592626767
        }
      }
    },
    {
      "cell_type": "markdown",
      "source": [
        "# Training"
      ],
      "metadata": {
        "id": "yJZ0XsOAmMyu"
      }
    },
    {
      "cell_type": "code",
      "source": [
        "multi_trainer =  MultilabelTrainer(\n",
        "    model,\n",
        "    args,\n",
        "    train_dataset=train_tokenized,\n",
        "    eval_dataset=val_tokenized,\n",
        "    compute_metrics=compute_metrics,\n",
        "    tokenizer=tokenizer)\n"
      ],
      "outputs": [
        {
          "output_type": "stream",
          "name": "stderr",
          "text": "[codecarbon INFO @ 15:43:48] [setup] RAM Tracking...\n[codecarbon INFO @ 15:43:48] [setup] GPU Tracking...\n[codecarbon INFO @ 15:43:48] Tracking Nvidia GPU via pynvml\n[codecarbon INFO @ 15:43:48] [setup] CPU Tracking...\n[codecarbon WARNING @ 15:43:48] No CPU tracking mode found. Falling back on CPU constant mode.\nhuggingface/tokenizers: The current process just got forked, after parallelism has already been used. Disabling parallelism to avoid deadlocks...\nTo disable this warning, you can either:\n\t- Avoid using `tokenizers` before the fork if possible\n\t- Explicitly set the environment variable TOKENIZERS_PARALLELISM=(true | false)\n[codecarbon WARNING @ 15:43:49] We saw that you have a AMD EPYC 7V12 64-Core Processor but we don't know it. Please contact us.\n[codecarbon INFO @ 15:43:49] CPU Model on constant consumption mode: AMD EPYC 7V12 64-Core Processor\n[codecarbon INFO @ 15:43:49] >>> Tracker's metadata:\n[codecarbon INFO @ 15:43:49]   Platform system: Linux-5.15.0-1040-azure-x86_64-with-glibc2.10\n[codecarbon INFO @ 15:43:49]   Python version: 3.8.5\n[codecarbon INFO @ 15:43:49]   CodeCarbon version: 2.3.2\n[codecarbon INFO @ 15:43:49]   Available RAM : 27.406 GB\n[codecarbon INFO @ 15:43:49]   CPU count: 4\n[codecarbon INFO @ 15:43:49]   CPU model: AMD EPYC 7V12 64-Core Processor\n[codecarbon INFO @ 15:43:49]   GPU count: 1\n[codecarbon INFO @ 15:43:49]   GPU model: 1 x Tesla T4\n[codecarbon WARNING @ 15:43:49] Cloud provider 'azure' do not publish electricity carbon intensity. Using country value instead.\n"
        }
      ],
      "execution_count": null,
      "metadata": {
        "id": "0Wcz21O_GVGE",
        "gather": {
          "logged": 1705592629223
        },
        "outputId": "32795c46-4f95-48fd-aa3b-f91c89f2422c"
      }
    },
    {
      "cell_type": "code",
      "source": [
        "multi_trainer.train()"
      ],
      "outputs": [
        {
          "output_type": "stream",
          "name": "stderr",
          "text": "huggingface/tokenizers: The current process just got forked, after parallelism has already been used. Disabling parallelism to avoid deadlocks...\nTo disable this warning, you can either:\n\t- Avoid using `tokenizers` before the fork if possible\n\t- Explicitly set the environment variable TOKENIZERS_PARALLELISM=(true | false)\nhuggingface/tokenizers: The current process just got forked, after parallelism has already been used. Disabling parallelism to avoid deadlocks...\nTo disable this warning, you can either:\n\t- Avoid using `tokenizers` before the fork if possible\n\t- Explicitly set the environment variable TOKENIZERS_PARALLELISM=(true | false)\nhuggingface/tokenizers: The current process just got forked, after parallelism has already been used. Disabling parallelism to avoid deadlocks...\nTo disable this warning, you can either:\n\t- Avoid using `tokenizers` before the fork if possible\n\t- Explicitly set the environment variable TOKENIZERS_PARALLELISM=(true | false)\nYou're using a MPNetTokenizerFast tokenizer. Please note that with a fast tokenizer, using the `__call__` method is faster than using a method to encode the text followed by a call to the `pad` method to get a padded encoding.\n"
        },
        {
          "output_type": "display_data",
          "data": {
            "text/plain": "<IPython.core.display.HTML object>",
            "text/html": "\n    <div>\n      \n      <progress value='6270' max='6270' style='width:300px; height:20px; vertical-align: middle;'></progress>\n      [6270/6270 2:26:19, Epoch 10/10]\n    </div>\n    <table border=\"1\" class=\"dataframe\">\n  <thead>\n <tr style=\"text-align: left;\">\n      <th>Epoch</th>\n      <th>Training Loss</th>\n      <th>Validation Loss</th>\n      <th>Precision-micro</th>\n      <th>Precision-samples</th>\n      <th>Precision-weighted</th>\n      <th>Recall-micro</th>\n      <th>Recall-samples</th>\n      <th>Recall-weighted</th>\n      <th>F1-micro</th>\n      <th>F1-samples</th>\n      <th>F1-weighted</th>\n    </tr>\n  </thead>\n  <tbody>\n    <tr>\n      <td>1</td>\n      <td>0.614100</td>\n      <td>0.540921</td>\n      <td>0.663230</td>\n      <td>0.706809</td>\n      <td>0.674004</td>\n      <td>0.736079</td>\n      <td>0.730746</td>\n      <td>0.736079</td>\n      <td>0.697758</td>\n      <td>0.695710</td>\n      <td>0.700565</td>\n    </tr>\n    <tr>\n      <td>2</td>\n      <td>0.466100</td>\n      <td>0.495837</td>\n      <td>0.720812</td>\n      <td>0.722272</td>\n      <td>0.738981</td>\n      <td>0.758200</td>\n      <td>0.738329</td>\n      <td>0.758200</td>\n      <td>0.739033</td>\n      <td>0.710599</td>\n      <td>0.744857</td>\n    </tr>\n    <tr>\n      <td>3</td>\n      <td>0.353700</td>\n      <td>0.475146</td>\n      <td>0.720721</td>\n      <td>0.729111</td>\n      <td>0.743453</td>\n      <td>0.793288</td>\n      <td>0.767916</td>\n      <td>0.793288</td>\n      <td>0.755265</td>\n      <td>0.729311</td>\n      <td>0.760340</td>\n    </tr>\n    <tr>\n      <td>4</td>\n      <td>0.261800</td>\n      <td>0.509546</td>\n      <td>0.764368</td>\n      <td>0.761374</td>\n      <td>0.763067</td>\n      <td>0.811594</td>\n      <td>0.785905</td>\n      <td>0.811594</td>\n      <td>0.787273</td>\n      <td>0.757402</td>\n      <td>0.786438</td>\n    </tr>\n    <tr>\n      <td>5</td>\n      <td>0.199000</td>\n      <td>0.549419</td>\n      <td>0.784810</td>\n      <td>0.765016</td>\n      <td>0.782308</td>\n      <td>0.803966</td>\n      <td>0.777059</td>\n      <td>0.803966</td>\n      <td>0.794273</td>\n      <td>0.755907</td>\n      <td>0.792700</td>\n    </tr>\n    <tr>\n      <td>6</td>\n      <td>0.138100</td>\n      <td>0.569170</td>\n      <td>0.773392</td>\n      <td>0.760184</td>\n      <td>0.786142</td>\n      <td>0.807018</td>\n      <td>0.775647</td>\n      <td>0.807018</td>\n      <td>0.789847</td>\n      <td>0.753133</td>\n      <td>0.794258</td>\n    </tr>\n    <tr>\n      <td>7</td>\n      <td>0.091900</td>\n      <td>0.572991</td>\n      <td>0.785000</td>\n      <td>0.773788</td>\n      <td>0.787222</td>\n      <td>0.838291</td>\n      <td>0.801293</td>\n      <td>0.838291</td>\n      <td>0.810771</td>\n      <td>0.772648</td>\n      <td>0.811782</td>\n    </tr>\n    <tr>\n      <td>8</td>\n      <td>0.057800</td>\n      <td>0.616804</td>\n      <td>0.785509</td>\n      <td>0.765239</td>\n      <td>0.792221</td>\n      <td>0.835240</td>\n      <td>0.793562</td>\n      <td>0.835240</td>\n      <td>0.809612</td>\n      <td>0.765549</td>\n      <td>0.811931</td>\n    </tr>\n    <tr>\n      <td>9</td>\n      <td>0.033600</td>\n      <td>0.667385</td>\n      <td>0.780181</td>\n      <td>0.772822</td>\n      <td>0.783248</td>\n      <td>0.852784</td>\n      <td>0.811106</td>\n      <td>0.852784</td>\n      <td>0.814869</td>\n      <td>0.775434</td>\n      <td>0.816082</td>\n    </tr>\n    <tr>\n      <td>10</td>\n      <td>0.020900</td>\n      <td>0.683927</td>\n      <td>0.800580</td>\n      <td>0.782263</td>\n      <td>0.801992</td>\n      <td>0.842105</td>\n      <td>0.804044</td>\n      <td>0.842105</td>\n      <td>0.820818</td>\n      <td>0.778455</td>\n      <td>0.821414</td>\n    </tr>\n  </tbody>\n</table><p>"
          },
          "metadata": {}
        },
        {
          "output_type": "stream",
          "name": "stderr",
          "text": "[codecarbon INFO @ 15:44:11] Energy consumed for RAM : 0.000308 kWh. RAM Power : 10.2771635055542 W\n[codecarbon INFO @ 15:44:11] Energy consumed for all GPUs : 0.000559 kWh. Total GPU Power : 34.64140622178813 W\n[codecarbon INFO @ 15:44:11] Energy consumed for all CPUs : 0.001274 kWh. Total CPU Power : 42.5 W\n[codecarbon INFO @ 15:44:11] 0.002140 kWh of electricity used since the beginning.\n[codecarbon INFO @ 15:44:20] Energy consumed for RAM : 0.000043 kWh. RAM Power : 10.2771635055542 W\n[codecarbon INFO @ 15:44:20] Energy consumed for all GPUs : 0.000255 kWh. Total GPU Power : 61.093521450198004 W\n[codecarbon INFO @ 15:44:20] Energy consumed for all CPUs : 0.000177 kWh. Total CPU Power : 42.5 W\n[codecarbon INFO @ 15:44:20] 0.000475 kWh of electricity used since the beginning.\n[codecarbon INFO @ 15:44:26] Energy consumed for RAM : 0.000351 kWh. RAM Power : 10.2771635055542 W\n[codecarbon INFO @ 15:44:26] Energy consumed for all GPUs : 0.000845 kWh. Total GPU Power : 68.7435847208257 W\n[codecarbon INFO @ 15:44:26] Energy consumed for all CPUs : 0.001451 kWh. Total CPU Power : 42.5 W\n[codecarbon INFO @ 15:44:26] 0.002646 kWh of electricity used since the beginning.\n[codecarbon INFO @ 15:44:35] Energy consumed for RAM : 0.000086 kWh. RAM Power : 10.2771635055542 W\n[codecarbon INFO @ 15:44:35] Energy consumed for all GPUs : 0.000540 kWh. Total GPU Power : 68.65183572189618 W\n[codecarbon INFO @ 15:44:35] Energy consumed for all CPUs : 0.000354 kWh. Total CPU Power : 42.5 W\n[codecarbon INFO @ 15:44:35] 0.000980 kWh of electricity used since the beginning.\n[codecarbon INFO @ 15:44:41] Energy consumed for RAM : 0.000393 kWh. RAM Power : 10.2771635055542 W\n[codecarbon INFO @ 15:44:41] Energy consumed for all GPUs : 0.001134 kWh. Total GPU Power : 69.46273044684389 W\n[codecarbon INFO @ 15:44:41] Energy consumed for all CPUs : 0.001628 kWh. Total CPU Power : 42.5 W\n[codecarbon INFO @ 15:44:41] 0.003155 kWh of electricity used since the beginning.\n[codecarbon INFO @ 15:44:50] Energy consumed for RAM : 0.000128 kWh. RAM Power : 10.2771635055542 W\n[codecarbon INFO @ 15:44:50] Energy consumed for all GPUs : 0.000830 kWh. Total GPU Power : 69.47252302425741 W\n[codecarbon INFO @ 15:44:50] Energy consumed for all CPUs : 0.000531 kWh. Total CPU Power : 42.5 W\n[codecarbon INFO @ 15:44:50] 0.001490 kWh of electricity used since the beginning.\n[codecarbon INFO @ 15:44:56] Energy consumed for RAM : 0.000436 kWh. RAM Power : 10.2771635055542 W\n[codecarbon INFO @ 15:44:56] Energy consumed for all GPUs : 0.001424 kWh. Total GPU Power : 69.57264589411564 W\n[codecarbon INFO @ 15:44:56] Energy consumed for all CPUs : 0.001805 kWh. Total CPU Power : 42.5 W\n[codecarbon INFO @ 15:44:56] 0.003665 kWh of electricity used since the beginning.\n[codecarbon INFO @ 15:45:05] Energy consumed for RAM : 0.000171 kWh. RAM Power : 10.2771635055542 W\n[codecarbon INFO @ 15:45:05] Energy consumed for all GPUs : 0.001119 kWh. Total GPU Power : 69.47395542387929 W\n[codecarbon INFO @ 15:45:05] Energy consumed for all CPUs : 0.000708 kWh. Total CPU Power : 42.5 W\n[codecarbon INFO @ 15:45:05] 0.001999 kWh of electricity used since the beginning.\n[codecarbon INFO @ 15:45:11] Energy consumed for RAM : 0.000479 kWh. RAM Power : 10.2771635055542 W\n[codecarbon INFO @ 15:45:11] Energy consumed for all GPUs : 0.001714 kWh. Total GPU Power : 69.5088761809458 W\n[codecarbon INFO @ 15:45:11] Energy consumed for all CPUs : 0.001982 kWh. Total CPU Power : 42.5 W\n[codecarbon INFO @ 15:45:11] 0.004174 kWh of electricity used since the beginning.\n[codecarbon INFO @ 15:45:20] Energy consumed for RAM : 0.000214 kWh. RAM Power : 10.2771635055542 W\n[codecarbon INFO @ 15:45:20] Energy consumed for all GPUs : 0.001409 kWh. Total GPU Power : 69.48213128661494 W\n[codecarbon INFO @ 15:45:20] Energy consumed for all CPUs : 0.000885 kWh. Total CPU Power : 42.5 W\n[codecarbon INFO @ 15:45:20] 0.002508 kWh of electricity used since the beginning.\n[codecarbon INFO @ 15:45:26] Energy consumed for RAM : 0.000522 kWh. RAM Power : 10.2771635055542 W\n[codecarbon INFO @ 15:45:26] Energy consumed for all GPUs : 0.002003 kWh. Total GPU Power : 69.52738281561565 W\n[codecarbon INFO @ 15:45:26] Energy consumed for all CPUs : 0.002159 kWh. Total CPU Power : 42.5 W\n[codecarbon INFO @ 15:45:26] 0.004684 kWh of electricity used since the beginning.\n[codecarbon INFO @ 15:45:35] Energy consumed for RAM : 0.000257 kWh. RAM Power : 10.2771635055542 W\n[codecarbon INFO @ 15:45:35] Energy consumed for all GPUs : 0.001697 kWh. Total GPU Power : 69.20587982418348 W\n[codecarbon INFO @ 15:45:35] Energy consumed for all CPUs : 0.001063 kWh. Total CPU Power : 42.5 W\n[codecarbon INFO @ 15:45:35] 0.003016 kWh of electricity used since the beginning.\n[codecarbon INFO @ 15:45:41] Energy consumed for RAM : 0.000565 kWh. RAM Power : 10.2771635055542 W\n[codecarbon INFO @ 15:45:41] Energy consumed for all GPUs : 0.002293 kWh. Total GPU Power : 69.55832995993664 W\n[codecarbon INFO @ 15:45:41] Energy consumed for all CPUs : 0.002336 kWh. Total CPU Power : 42.5 W\n[codecarbon INFO @ 15:45:41] 0.005194 kWh of electricity used since the beginning.\n[codecarbon INFO @ 15:45:50] Energy consumed for RAM : 0.000300 kWh. RAM Power : 10.2771635055542 W\n[codecarbon INFO @ 15:45:50] Energy consumed for all GPUs : 0.001987 kWh. Total GPU Power : 69.68011181215245 W\n[codecarbon INFO @ 15:45:50] Energy consumed for all CPUs : 0.001240 kWh. Total CPU Power : 42.5 W\n[codecarbon INFO @ 15:45:50] 0.003527 kWh of electricity used since the beginning.\n[codecarbon INFO @ 15:45:56] Energy consumed for RAM : 0.000607 kWh. RAM Power : 10.2771635055542 W\n[codecarbon INFO @ 15:45:56] Energy consumed for all GPUs : 0.002583 kWh. Total GPU Power : 69.68975288493431 W\n[codecarbon INFO @ 15:45:56] Energy consumed for all CPUs : 0.002513 kWh. Total CPU Power : 42.5 W\n[codecarbon INFO @ 15:45:56] 0.005704 kWh of electricity used since the beginning.\n[codecarbon INFO @ 15:46:05] Energy consumed for RAM : 0.000342 kWh. RAM Power : 10.2771635055542 W\n[codecarbon INFO @ 15:46:05] Energy consumed for all GPUs : 0.002277 kWh. Total GPU Power : 69.53635183084172 W\n[codecarbon INFO @ 15:46:05] Energy consumed for all CPUs : 0.001417 kWh. Total CPU Power : 42.5 W\n[codecarbon INFO @ 15:46:05] 0.004036 kWh of electricity used since the beginning.\n[codecarbon INFO @ 15:46:11] Energy consumed for RAM : 0.000650 kWh. RAM Power : 10.2771635055542 W\n[codecarbon INFO @ 15:46:11] Energy consumed for all GPUs : 0.002873 kWh. Total GPU Power : 69.46916989693909 W\n[codecarbon INFO @ 15:46:11] Energy consumed for all CPUs : 0.002690 kWh. Total CPU Power : 42.5 W\n[codecarbon INFO @ 15:46:11] 0.006213 kWh of electricity used since the beginning.\n[codecarbon INFO @ 15:46:20] Energy consumed for RAM : 0.000385 kWh. RAM Power : 10.2771635055542 W\n[codecarbon INFO @ 15:46:20] Energy consumed for all GPUs : 0.002566 kWh. Total GPU Power : 69.50919274640954 W\n[codecarbon INFO @ 15:46:20] Energy consumed for all CPUs : 0.001594 kWh. Total CPU Power : 42.5 W\n[codecarbon INFO @ 15:46:20] 0.004545 kWh of electricity used since the beginning.\n[codecarbon INFO @ 15:46:26] Energy consumed for RAM : 0.000693 kWh. RAM Power : 10.2771635055542 W\n[codecarbon INFO @ 15:46:26] Energy consumed for all GPUs : 0.003163 kWh. Total GPU Power : 69.58923737611293 W\n[codecarbon INFO @ 15:46:26] Energy consumed for all CPUs : 0.002867 kWh. Total CPU Power : 42.5 W\n[codecarbon INFO @ 15:46:26] 0.006723 kWh of electricity used since the beginning.\n[codecarbon INFO @ 15:46:35] Energy consumed for RAM : 0.000428 kWh. RAM Power : 10.2771635055542 W\n[codecarbon INFO @ 15:46:35] Energy consumed for all GPUs : 0.002856 kWh. Total GPU Power : 69.5942616252074 W\n[codecarbon INFO @ 15:46:35] Energy consumed for all CPUs : 0.001771 kWh. Total CPU Power : 42.5 W\n[codecarbon INFO @ 15:46:35] 0.005055 kWh of electricity used since the beginning.\n[codecarbon INFO @ 15:46:41] Energy consumed for RAM : 0.000736 kWh. RAM Power : 10.2771635055542 W\n[codecarbon INFO @ 15:46:41] Energy consumed for all GPUs : 0.003450 kWh. Total GPU Power : 69.08761533566488 W\n[codecarbon INFO @ 15:46:41] Energy consumed for all CPUs : 0.003044 kWh. Total CPU Power : 42.5 W\n[codecarbon INFO @ 15:46:41] 0.007231 kWh of electricity used since the beginning.\n[codecarbon INFO @ 15:46:50] Energy consumed for RAM : 0.000471 kWh. RAM Power : 10.2771635055542 W\n[codecarbon INFO @ 15:46:50] Energy consumed for all GPUs : 0.003146 kWh. Total GPU Power : 69.58687525824978 W\n[codecarbon INFO @ 15:46:50] Energy consumed for all CPUs : 0.001948 kWh. Total CPU Power : 42.5 W\n[codecarbon INFO @ 15:46:50] 0.005565 kWh of electricity used since the beginning.\n[codecarbon INFO @ 15:46:56] Energy consumed for RAM : 0.000779 kWh. RAM Power : 10.2771635055542 W\n[codecarbon INFO @ 15:46:56] Energy consumed for all GPUs : 0.003740 kWh. Total GPU Power : 69.63895851364214 W\n[codecarbon INFO @ 15:46:56] Energy consumed for all CPUs : 0.003221 kWh. Total CPU Power : 42.5 W\n[codecarbon INFO @ 15:46:56] 0.007740 kWh of electricity used since the beginning.\n[codecarbon INFO @ 15:47:05] Energy consumed for RAM : 0.000514 kWh. RAM Power : 10.2771635055542 W\n[codecarbon INFO @ 15:47:05] Energy consumed for all GPUs : 0.003436 kWh. Total GPU Power : 69.55871547755325 W\n[codecarbon INFO @ 15:47:05] Energy consumed for all CPUs : 0.002125 kWh. Total CPU Power : 42.5 W\n[codecarbon INFO @ 15:47:05] 0.006075 kWh of electricity used since the beginning.\n[codecarbon INFO @ 15:47:11] Energy consumed for RAM : 0.000822 kWh. RAM Power : 10.2771635055542 W\n[codecarbon INFO @ 15:47:11] Energy consumed for all GPUs : 0.004030 kWh. Total GPU Power : 69.60634430343266 W\n[codecarbon INFO @ 15:47:11] Energy consumed for all CPUs : 0.003398 kWh. Total CPU Power : 42.5 W\n[codecarbon INFO @ 15:47:11] 0.008250 kWh of electricity used since the beginning.\n[codecarbon INFO @ 15:47:20] Energy consumed for RAM : 0.000557 kWh. RAM Power : 10.2771635055542 W\n[codecarbon INFO @ 15:47:20] Energy consumed for all GPUs : 0.003726 kWh. Total GPU Power : 69.61643718823201 W\n[codecarbon INFO @ 15:47:20] Energy consumed for all CPUs : 0.002302 kWh. Total CPU Power : 42.5 W\n[codecarbon INFO @ 15:47:20] 0.006585 kWh of electricity used since the beginning.\n[codecarbon INFO @ 15:47:26] Energy consumed for RAM : 0.000864 kWh. RAM Power : 10.2771635055542 W\n[codecarbon INFO @ 15:47:26] Energy consumed for all GPUs : 0.004320 kWh. Total GPU Power : 69.61783932534041 W\n[codecarbon INFO @ 15:47:26] Energy consumed for all CPUs : 0.003575 kWh. Total CPU Power : 42.5 W\n[codecarbon INFO @ 15:47:26] 0.008760 kWh of electricity used since the beginning.\n[codecarbon INFO @ 15:47:35] Energy consumed for RAM : 0.000599 kWh. RAM Power : 10.2771635055542 W\n[codecarbon INFO @ 15:47:35] Energy consumed for all GPUs : 0.004016 kWh. Total GPU Power : 69.62671341512554 W\n[codecarbon INFO @ 15:47:35] Energy consumed for all CPUs : 0.002479 kWh. Total CPU Power : 42.5 W\n[codecarbon INFO @ 15:47:35] 0.007094 kWh of electricity used since the beginning.\n[codecarbon INFO @ 15:47:41] Energy consumed for RAM : 0.000907 kWh. RAM Power : 10.2771635055542 W\n[codecarbon INFO @ 15:47:41] Energy consumed for all GPUs : 0.004610 kWh. Total GPU Power : 69.59287001712258 W\n[codecarbon INFO @ 15:47:41] Energy consumed for all CPUs : 0.003753 kWh. Total CPU Power : 42.5 W\n[codecarbon INFO @ 15:47:41] 0.009270 kWh of electricity used since the beginning.\n[codecarbon INFO @ 15:47:50] Energy consumed for RAM : 0.000642 kWh. RAM Power : 10.2771635055542 W\n[codecarbon INFO @ 15:47:50] Energy consumed for all GPUs : 0.004306 kWh. Total GPU Power : 69.62975456033536 W\n[codecarbon INFO @ 15:47:50] Energy consumed for all CPUs : 0.002656 kWh. Total CPU Power : 42.5 W\n[codecarbon INFO @ 15:47:50] 0.007604 kWh of electricity used since the beginning.\n[codecarbon INFO @ 15:47:56] Energy consumed for RAM : 0.000950 kWh. RAM Power : 10.2771635055542 W\n[codecarbon INFO @ 15:47:56] Energy consumed for all GPUs : 0.004900 kWh. Total GPU Power : 69.65914961384588 W\n[codecarbon INFO @ 15:47:56] Energy consumed for all CPUs : 0.003930 kWh. Total CPU Power : 42.5 W\n[codecarbon INFO @ 15:47:56] 0.009780 kWh of electricity used since the beginning.\n[codecarbon INFO @ 15:48:05] Energy consumed for RAM : 0.000685 kWh. RAM Power : 10.2771635055542 W\n[codecarbon INFO @ 15:48:05] Energy consumed for all GPUs : 0.004594 kWh. Total GPU Power : 69.17651936970925 W\n[codecarbon INFO @ 15:48:05] Energy consumed for all CPUs : 0.002833 kWh. Total CPU Power : 42.5 W\n[codecarbon INFO @ 15:48:05] 0.008112 kWh of electricity used since the beginning.\n[codecarbon INFO @ 15:48:11] Energy consumed for RAM : 0.000993 kWh. RAM Power : 10.2771635055542 W\n[codecarbon INFO @ 15:48:11] Energy consumed for all GPUs : 0.005190 kWh. Total GPU Power : 69.55941335592499 W\n[codecarbon INFO @ 15:48:11] Energy consumed for all CPUs : 0.004107 kWh. Total CPU Power : 42.5 W\n[codecarbon INFO @ 15:48:11] 0.010290 kWh of electricity used since the beginning.\n[codecarbon INFO @ 15:48:20] Energy consumed for RAM : 0.000728 kWh. RAM Power : 10.2771635055542 W\n[codecarbon INFO @ 15:48:20] Energy consumed for all GPUs : 0.004884 kWh. Total GPU Power : 69.6035246320721 W\n[codecarbon INFO @ 15:48:20] Energy consumed for all CPUs : 0.003010 kWh. Total CPU Power : 42.5 W\n[codecarbon INFO @ 15:48:20] 0.008622 kWh of electricity used since the beginning.\n[codecarbon INFO @ 15:48:26] Energy consumed for RAM : 0.001036 kWh. RAM Power : 10.2771635055542 W\n[codecarbon INFO @ 15:48:26] Energy consumed for all GPUs : 0.005480 kWh. Total GPU Power : 69.53252187288014 W\n[codecarbon INFO @ 15:48:26] Energy consumed for all CPUs : 0.004284 kWh. Total CPU Power : 42.5 W\n[codecarbon INFO @ 15:48:26] 0.010799 kWh of electricity used since the beginning.\n[codecarbon INFO @ 15:48:35] Energy consumed for RAM : 0.000771 kWh. RAM Power : 10.2771635055542 W\n[codecarbon INFO @ 15:48:35] Energy consumed for all GPUs : 0.005174 kWh. Total GPU Power : 69.6265395085831 W\n[codecarbon INFO @ 15:48:35] Energy consumed for all CPUs : 0.003187 kWh. Total CPU Power : 42.5 W\n[codecarbon INFO @ 15:48:35] 0.009132 kWh of electricity used since the beginning.\n[codecarbon INFO @ 15:48:41] Energy consumed for RAM : 0.001078 kWh. RAM Power : 10.2771635055542 W\n[codecarbon INFO @ 15:48:41] Energy consumed for all GPUs : 0.005770 kWh. Total GPU Power : 69.7620665951364 W\n[codecarbon INFO @ 15:48:41] Energy consumed for all CPUs : 0.004461 kWh. Total CPU Power : 42.5 W\n[codecarbon INFO @ 15:48:41] 0.011309 kWh of electricity used since the beginning.\n[codecarbon INFO @ 15:48:50] Energy consumed for RAM : 0.000813 kWh. RAM Power : 10.2771635055542 W\n[codecarbon INFO @ 15:48:50] Energy consumed for all GPUs : 0.005464 kWh. Total GPU Power : 69.67410431302507 W\n[codecarbon INFO @ 15:48:50] Energy consumed for all CPUs : 0.003365 kWh. Total CPU Power : 42.5 W\n[codecarbon INFO @ 15:48:50] 0.009642 kWh of electricity used since the beginning.\n[codecarbon INFO @ 15:48:56] Energy consumed for RAM : 0.001121 kWh. RAM Power : 10.2771635055542 W\n[codecarbon INFO @ 15:48:56] Energy consumed for all GPUs : 0.006059 kWh. Total GPU Power : 69.42058130111467 W\n[codecarbon INFO @ 15:48:56] Energy consumed for all CPUs : 0.004638 kWh. Total CPU Power : 42.5 W\n[codecarbon INFO @ 15:48:56] 0.011818 kWh of electricity used since the beginning.\n[codecarbon INFO @ 15:49:05] Energy consumed for RAM : 0.000856 kWh. RAM Power : 10.2771635055542 W\n[codecarbon INFO @ 15:49:05] Energy consumed for all GPUs : 0.005753 kWh. Total GPU Power : 69.38600495523816 W\n[codecarbon INFO @ 15:49:05] Energy consumed for all CPUs : 0.003542 kWh. Total CPU Power : 42.5 W\n[codecarbon INFO @ 15:49:05] 0.010151 kWh of electricity used since the beginning.\n[codecarbon INFO @ 15:49:11] Energy consumed for RAM : 0.001164 kWh. RAM Power : 10.2771635055542 W\n[codecarbon INFO @ 15:49:11] Energy consumed for all GPUs : 0.006347 kWh. Total GPU Power : 69.11803832478317 W\n[codecarbon INFO @ 15:49:11] Energy consumed for all CPUs : 0.004815 kWh. Total CPU Power : 42.5 W\n[codecarbon INFO @ 15:49:11] 0.012326 kWh of electricity used since the beginning.\n[codecarbon INFO @ 15:49:20] Energy consumed for RAM : 0.000899 kWh. RAM Power : 10.2771635055542 W\n[codecarbon INFO @ 15:49:20] Energy consumed for all GPUs : 0.006043 kWh. Total GPU Power : 69.61676854602925 W\n[codecarbon INFO @ 15:49:20] Energy consumed for all CPUs : 0.003719 kWh. Total CPU Power : 42.5 W\n[codecarbon INFO @ 15:49:20] 0.010661 kWh of electricity used since the beginning.\n[codecarbon INFO @ 15:49:26] Energy consumed for RAM : 0.001207 kWh. RAM Power : 10.2771635055542 W\n[codecarbon INFO @ 15:49:26] Energy consumed for all GPUs : 0.006637 kWh. Total GPU Power : 69.59070768672771 W\n[codecarbon INFO @ 15:49:26] Energy consumed for all CPUs : 0.004992 kWh. Total CPU Power : 42.5 W\n[codecarbon INFO @ 15:49:26] 0.012836 kWh of electricity used since the beginning.\n[codecarbon INFO @ 15:49:35] Energy consumed for RAM : 0.000942 kWh. RAM Power : 10.2771635055542 W\n[codecarbon INFO @ 15:49:35] Energy consumed for all GPUs : 0.006333 kWh. Total GPU Power : 69.60233590635214 W\n[codecarbon INFO @ 15:49:35] Energy consumed for all CPUs : 0.003896 kWh. Total CPU Power : 42.5 W\n[codecarbon INFO @ 15:49:35] 0.011171 kWh of electricity used since the beginning.\n[codecarbon INFO @ 15:49:41] Energy consumed for RAM : 0.001250 kWh. RAM Power : 10.2771635055542 W\n[codecarbon INFO @ 15:49:41] Energy consumed for all GPUs : 0.006927 kWh. Total GPU Power : 69.64659261453515 W\n[codecarbon INFO @ 15:49:41] Energy consumed for all CPUs : 0.005169 kWh. Total CPU Power : 42.5 W\n[codecarbon INFO @ 15:49:41] 0.013346 kWh of electricity used since the beginning.\n[codecarbon INFO @ 15:49:50] Energy consumed for RAM : 0.000985 kWh. RAM Power : 10.2771635055542 W\n[codecarbon INFO @ 15:49:50] Energy consumed for all GPUs : 0.006623 kWh. Total GPU Power : 69.63158279655713 W\n[codecarbon INFO @ 15:49:50] Energy consumed for all CPUs : 0.004073 kWh. Total CPU Power : 42.5 W\n[codecarbon INFO @ 15:49:50] 0.011681 kWh of electricity used since the beginning.\n[codecarbon INFO @ 15:49:56] Energy consumed for RAM : 0.001292 kWh. RAM Power : 10.2771635055542 W\n[codecarbon INFO @ 15:49:56] Energy consumed for all GPUs : 0.007217 kWh. Total GPU Power : 69.6376403841228 W\n[codecarbon INFO @ 15:49:56] Energy consumed for all CPUs : 0.005346 kWh. Total CPU Power : 42.5 W\n[codecarbon INFO @ 15:49:56] 0.013856 kWh of electricity used since the beginning.\n[codecarbon INFO @ 15:50:05] Energy consumed for RAM : 0.001027 kWh. RAM Power : 10.2771635055542 W\n[codecarbon INFO @ 15:50:05] Energy consumed for all GPUs : 0.006914 kWh. Total GPU Power : 69.72949480863359 W\n[codecarbon INFO @ 15:50:05] Energy consumed for all CPUs : 0.004250 kWh. Total CPU Power : 42.5 W\n[codecarbon INFO @ 15:50:05] 0.012191 kWh of electricity used since the beginning.\n[codecarbon INFO @ 15:50:11] Energy consumed for RAM : 0.001335 kWh. RAM Power : 10.2771635055542 W\n[codecarbon INFO @ 15:50:11] Energy consumed for all GPUs : 0.007508 kWh. Total GPU Power : 69.68593007359806 W\n[codecarbon INFO @ 15:50:11] Energy consumed for all CPUs : 0.005523 kWh. Total CPU Power : 42.5 W\n[codecarbon INFO @ 15:50:11] 0.014366 kWh of electricity used since the beginning.\n[codecarbon INFO @ 15:50:20] Energy consumed for RAM : 0.001070 kWh. RAM Power : 10.2771635055542 W\n[codecarbon INFO @ 15:50:20] Energy consumed for all GPUs : 0.007204 kWh. Total GPU Power : 69.63483782458711 W\n[codecarbon INFO @ 15:50:20] Energy consumed for all CPUs : 0.004427 kWh. Total CPU Power : 42.5 W\n[codecarbon INFO @ 15:50:20] 0.012701 kWh of electricity used since the beginning.\n[codecarbon INFO @ 15:50:26] Energy consumed for RAM : 0.001378 kWh. RAM Power : 10.2771635055542 W\n[codecarbon INFO @ 15:50:26] Energy consumed for all GPUs : 0.007798 kWh. Total GPU Power : 69.57371171433527 W\n[codecarbon INFO @ 15:50:26] Energy consumed for all CPUs : 0.005700 kWh. Total CPU Power : 42.5 W\n[codecarbon INFO @ 15:50:26] 0.014876 kWh of electricity used since the beginning.\n[codecarbon INFO @ 15:50:35] Energy consumed for RAM : 0.001113 kWh. RAM Power : 10.2771635055542 W\n[codecarbon INFO @ 15:50:35] Energy consumed for all GPUs : 0.007493 kWh. Total GPU Power : 69.53553393663314 W\n[codecarbon INFO @ 15:50:35] Energy consumed for all CPUs : 0.004604 kWh. Total CPU Power : 42.5 W\n[codecarbon INFO @ 15:50:35] 0.013210 kWh of electricity used since the beginning.\n[codecarbon INFO @ 15:50:41] Energy consumed for RAM : 0.001421 kWh. RAM Power : 10.2771635055542 W\n[codecarbon INFO @ 15:50:41] Energy consumed for all GPUs : 0.008088 kWh. Total GPU Power : 69.63638790876163 W\n[codecarbon INFO @ 15:50:41] Energy consumed for all CPUs : 0.005877 kWh. Total CPU Power : 42.5 W\n[codecarbon INFO @ 15:50:41] 0.015386 kWh of electricity used since the beginning.\n[codecarbon INFO @ 15:50:50] Energy consumed for RAM : 0.001156 kWh. RAM Power : 10.2771635055542 W\n[codecarbon INFO @ 15:50:50] Energy consumed for all GPUs : 0.007783 kWh. Total GPU Power : 69.67553008231408 W\n[codecarbon INFO @ 15:50:50] Energy consumed for all CPUs : 0.004781 kWh. Total CPU Power : 42.5 W\n[codecarbon INFO @ 15:50:50] 0.013720 kWh of electricity used since the beginning.\n[codecarbon INFO @ 15:50:56] Energy consumed for RAM : 0.001464 kWh. RAM Power : 10.2771635055542 W\n[codecarbon INFO @ 15:50:56] Energy consumed for all GPUs : 0.008378 kWh. Total GPU Power : 69.64817511935237 W\n[codecarbon INFO @ 15:50:56] Energy consumed for all CPUs : 0.006054 kWh. Total CPU Power : 42.5 W\n[codecarbon INFO @ 15:50:56] 0.015896 kWh of electricity used since the beginning.\n[codecarbon INFO @ 15:51:05] Energy consumed for RAM : 0.001199 kWh. RAM Power : 10.2771635055542 W\n[codecarbon INFO @ 15:51:05] Energy consumed for all GPUs : 0.008074 kWh. Total GPU Power : 69.69844552890355 W\n[codecarbon INFO @ 15:51:05] Energy consumed for all CPUs : 0.004958 kWh. Total CPU Power : 42.5 W\n[codecarbon INFO @ 15:51:05] 0.014231 kWh of electricity used since the beginning.\n[codecarbon INFO @ 15:51:11] Energy consumed for RAM : 0.001506 kWh. RAM Power : 10.2771635055542 W\n[codecarbon INFO @ 15:51:11] Energy consumed for all GPUs : 0.008668 kWh. Total GPU Power : 69.64364178099416 W\n[codecarbon INFO @ 15:51:11] Energy consumed for all CPUs : 0.006232 kWh. Total CPU Power : 42.5 W\n[codecarbon INFO @ 15:51:11] 0.016406 kWh of electricity used since the beginning.\n[codecarbon INFO @ 15:51:20] Energy consumed for RAM : 0.001241 kWh. RAM Power : 10.2771635055542 W\n[codecarbon INFO @ 15:51:20] Energy consumed for all GPUs : 0.008364 kWh. Total GPU Power : 69.60596076408979 W\n[codecarbon INFO @ 15:51:20] Energy consumed for all CPUs : 0.005135 kWh. Total CPU Power : 42.5 W\n[codecarbon INFO @ 15:51:20] 0.014740 kWh of electricity used since the beginning.\n[codecarbon INFO @ 15:51:26] Energy consumed for RAM : 0.001549 kWh. RAM Power : 10.2771635055542 W\n[codecarbon INFO @ 15:51:26] Energy consumed for all GPUs : 0.008958 kWh. Total GPU Power : 69.56659116398971 W\n[codecarbon INFO @ 15:51:26] Energy consumed for all CPUs : 0.006409 kWh. Total CPU Power : 42.5 W\n[codecarbon INFO @ 15:51:26] 0.016916 kWh of electricity used since the beginning.\n[codecarbon INFO @ 15:51:35] Energy consumed for RAM : 0.001284 kWh. RAM Power : 10.2771635055542 W\n[codecarbon INFO @ 15:51:35] Energy consumed for all GPUs : 0.008653 kWh. Total GPU Power : 69.55825020838802 W\n[codecarbon INFO @ 15:51:35] Energy consumed for all CPUs : 0.005312 kWh. Total CPU Power : 42.5 W\n[codecarbon INFO @ 15:51:35] 0.015250 kWh of electricity used since the beginning.\n[codecarbon INFO @ 15:51:41] Energy consumed for RAM : 0.001592 kWh. RAM Power : 10.2771635055542 W\n[codecarbon INFO @ 15:51:41] Energy consumed for all GPUs : 0.009248 kWh. Total GPU Power : 69.66148589025751 W\n[codecarbon INFO @ 15:51:41] Energy consumed for all CPUs : 0.006586 kWh. Total CPU Power : 42.5 W\n[codecarbon INFO @ 15:51:41] 0.017425 kWh of electricity used since the beginning.\n[codecarbon INFO @ 15:51:50] Energy consumed for RAM : 0.001327 kWh. RAM Power : 10.2771635055542 W\n[codecarbon INFO @ 15:51:50] Energy consumed for all GPUs : 0.008942 kWh. Total GPU Power : 69.16335254504372 W\n[codecarbon INFO @ 15:51:50] Energy consumed for all CPUs : 0.005489 kWh. Total CPU Power : 42.5 W\n[codecarbon INFO @ 15:51:50] 0.015758 kWh of electricity used since the beginning.\n[codecarbon INFO @ 15:51:56] Energy consumed for RAM : 0.001635 kWh. RAM Power : 10.2771635055542 W\n[codecarbon INFO @ 15:51:56] Energy consumed for all GPUs : 0.009538 kWh. Total GPU Power : 69.595523021832 W\n[codecarbon INFO @ 15:51:56] Energy consumed for all CPUs : 0.006763 kWh. Total CPU Power : 42.5 W\n[codecarbon INFO @ 15:51:56] 0.017935 kWh of electricity used since the beginning.\n[codecarbon INFO @ 15:52:05] Energy consumed for RAM : 0.001370 kWh. RAM Power : 10.2771635055542 W\n[codecarbon INFO @ 15:52:05] Energy consumed for all GPUs : 0.009231 kWh. Total GPU Power : 69.57432691653393 W\n[codecarbon INFO @ 15:52:05] Energy consumed for all CPUs : 0.005667 kWh. Total CPU Power : 42.5 W\n[codecarbon INFO @ 15:52:05] 0.016268 kWh of electricity used since the beginning.\n[codecarbon INFO @ 15:52:11] Energy consumed for RAM : 0.001678 kWh. RAM Power : 10.2771635055542 W\n[codecarbon INFO @ 15:52:11] Energy consumed for all GPUs : 0.009828 kWh. Total GPU Power : 69.59310397535039 W\n[codecarbon INFO @ 15:52:11] Energy consumed for all CPUs : 0.006940 kWh. Total CPU Power : 42.5 W\n[codecarbon INFO @ 15:52:11] 0.018445 kWh of electricity used since the beginning.\n[codecarbon INFO @ 15:52:20] Energy consumed for RAM : 0.001413 kWh. RAM Power : 10.2771635055542 W\n[codecarbon INFO @ 15:52:20] Energy consumed for all GPUs : 0.009522 kWh. Total GPU Power : 69.73145825493756 W\n[codecarbon INFO @ 15:52:20] Energy consumed for all CPUs : 0.005844 kWh. Total CPU Power : 42.5 W\n[codecarbon INFO @ 15:52:20] 0.016778 kWh of electricity used since the beginning.\n[codecarbon INFO @ 15:52:26] Energy consumed for RAM : 0.001720 kWh. RAM Power : 10.2771635055542 W\n[codecarbon INFO @ 15:52:26] Energy consumed for all GPUs : 0.010118 kWh. Total GPU Power : 69.72860393446956 W\n[codecarbon INFO @ 15:52:26] Energy consumed for all CPUs : 0.007117 kWh. Total CPU Power : 42.5 W\n[codecarbon INFO @ 15:52:26] 0.018955 kWh of electricity used since the beginning.\n[codecarbon INFO @ 15:52:35] Energy consumed for RAM : 0.001455 kWh. RAM Power : 10.2771635055542 W\n[codecarbon INFO @ 15:52:35] Energy consumed for all GPUs : 0.009811 kWh. Total GPU Power : 69.55423395439834 W\n[codecarbon INFO @ 15:52:35] Energy consumed for all CPUs : 0.006021 kWh. Total CPU Power : 42.5 W\n[codecarbon INFO @ 15:52:35] 0.017288 kWh of electricity used since the beginning.\n[codecarbon INFO @ 15:52:41] Energy consumed for RAM : 0.001763 kWh. RAM Power : 10.2771635055542 W\n[codecarbon INFO @ 15:52:41] Energy consumed for all GPUs : 0.010408 kWh. Total GPU Power : 69.55810320419174 W\n[codecarbon INFO @ 15:52:41] Energy consumed for all CPUs : 0.007294 kWh. Total CPU Power : 42.5 W\n[codecarbon INFO @ 15:52:41] 0.019465 kWh of electricity used since the beginning.\n[codecarbon INFO @ 15:52:50] Energy consumed for RAM : 0.001498 kWh. RAM Power : 10.2771635055542 W\n[codecarbon INFO @ 15:52:50] Energy consumed for all GPUs : 0.010102 kWh. Total GPU Power : 69.63818959050997 W\n[codecarbon INFO @ 15:52:50] Energy consumed for all CPUs : 0.006198 kWh. Total CPU Power : 42.5 W\n[codecarbon INFO @ 15:52:50] 0.017797 kWh of electricity used since the beginning.\n[codecarbon INFO @ 15:52:56] Energy consumed for RAM : 0.001806 kWh. RAM Power : 10.2771635055542 W\n[codecarbon INFO @ 15:52:56] Energy consumed for all GPUs : 0.010698 kWh. Total GPU Power : 69.63125967647709 W\n[codecarbon INFO @ 15:52:56] Energy consumed for all CPUs : 0.007471 kWh. Total CPU Power : 42.5 W\n[codecarbon INFO @ 15:52:56] 0.019975 kWh of electricity used since the beginning.\n[codecarbon INFO @ 15:53:05] Energy consumed for RAM : 0.001541 kWh. RAM Power : 10.2771635055542 W\n[codecarbon INFO @ 15:53:05] Energy consumed for all GPUs : 0.010391 kWh. Total GPU Power : 69.59883664957822 W\n[codecarbon INFO @ 15:53:05] Energy consumed for all CPUs : 0.006375 kWh. Total CPU Power : 42.5 W\n[codecarbon INFO @ 15:53:05] 0.018307 kWh of electricity used since the beginning.\n[codecarbon INFO @ 15:53:11] Energy consumed for RAM : 0.001849 kWh. RAM Power : 10.2771635055542 W\n[codecarbon INFO @ 15:53:11] Energy consumed for all GPUs : 0.010988 kWh. Total GPU Power : 69.60963480301645 W\n[codecarbon INFO @ 15:53:11] Energy consumed for all CPUs : 0.007648 kWh. Total CPU Power : 42.5 W\n[codecarbon INFO @ 15:53:11] 0.020485 kWh of electricity used since the beginning.\n[codecarbon INFO @ 15:53:20] Energy consumed for RAM : 0.001584 kWh. RAM Power : 10.2771635055542 W\n[codecarbon INFO @ 15:53:20] Energy consumed for all GPUs : 0.010682 kWh. Total GPU Power : 69.64475491608059 W\n[codecarbon INFO @ 15:53:20] Energy consumed for all CPUs : 0.006552 kWh. Total CPU Power : 42.5 W\n[codecarbon INFO @ 15:53:20] 0.018817 kWh of electricity used since the beginning.\n[codecarbon INFO @ 15:53:26] Energy consumed for RAM : 0.001892 kWh. RAM Power : 10.2771635055542 W\n[codecarbon INFO @ 15:53:26] Energy consumed for all GPUs : 0.011276 kWh. Total GPU Power : 69.17614527691681 W\n[codecarbon INFO @ 15:53:26] Energy consumed for all CPUs : 0.007825 kWh. Total CPU Power : 42.5 W\n[codecarbon INFO @ 15:53:26] 0.020993 kWh of electricity used since the beginning.\n[codecarbon INFO @ 15:53:35] Energy consumed for RAM : 0.001627 kWh. RAM Power : 10.2771635055542 W\n[codecarbon INFO @ 15:53:35] Energy consumed for all GPUs : 0.010972 kWh. Total GPU Power : 69.67294570094202 W\n[codecarbon INFO @ 15:53:35] Energy consumed for all CPUs : 0.006729 kWh. Total CPU Power : 42.5 W\n[codecarbon INFO @ 15:53:35] 0.019327 kWh of electricity used since the beginning.\n[codecarbon INFO @ 15:53:41] Energy consumed for RAM : 0.001934 kWh. RAM Power : 10.2771635055542 W\n[codecarbon INFO @ 15:53:41] Energy consumed for all GPUs : 0.011566 kWh. Total GPU Power : 69.61890220546266 W\n[codecarbon INFO @ 15:53:41] Energy consumed for all CPUs : 0.008002 kWh. Total CPU Power : 42.5 W\n[codecarbon INFO @ 15:53:41] 0.021503 kWh of electricity used since the beginning.\n[codecarbon INFO @ 15:53:50] Energy consumed for RAM : 0.001669 kWh. RAM Power : 10.2771635055542 W\n[codecarbon INFO @ 15:53:50] Energy consumed for all GPUs : 0.011262 kWh. Total GPU Power : 69.61658270624686 W\n[codecarbon INFO @ 15:53:50] Energy consumed for all CPUs : 0.006906 kWh. Total CPU Power : 42.5 W\n[codecarbon INFO @ 15:53:50] 0.019837 kWh of electricity used since the beginning.\n[codecarbon INFO @ 15:53:56] Energy consumed for RAM : 0.001977 kWh. RAM Power : 10.2771635055542 W\n[codecarbon INFO @ 15:53:56] Energy consumed for all GPUs : 0.011856 kWh. Total GPU Power : 69.66862603635968 W\n[codecarbon INFO @ 15:53:56] Energy consumed for all CPUs : 0.008179 kWh. Total CPU Power : 42.5 W\n[codecarbon INFO @ 15:53:56] 0.022013 kWh of electricity used since the beginning.\n[codecarbon INFO @ 15:54:05] Energy consumed for RAM : 0.001712 kWh. RAM Power : 10.2771635055542 W\n[codecarbon INFO @ 15:54:05] Energy consumed for all GPUs : 0.011552 kWh. Total GPU Power : 69.64003609008026 W\n[codecarbon INFO @ 15:54:05] Energy consumed for all CPUs : 0.007083 kWh. Total CPU Power : 42.5 W\n[codecarbon INFO @ 15:54:05] 0.020347 kWh of electricity used since the beginning.\n[codecarbon INFO @ 15:54:11] Energy consumed for RAM : 0.002020 kWh. RAM Power : 10.2771635055542 W\n[codecarbon INFO @ 15:54:11] Energy consumed for all GPUs : 0.012146 kWh. Total GPU Power : 69.60555442681246 W\n[codecarbon INFO @ 15:54:11] Energy consumed for all CPUs : 0.008356 kWh. Total CPU Power : 42.5 W\n[codecarbon INFO @ 15:54:11] 0.022523 kWh of electricity used since the beginning.\n[codecarbon INFO @ 15:54:20] Energy consumed for RAM : 0.001755 kWh. RAM Power : 10.2771635055542 W\n[codecarbon INFO @ 15:54:20] Energy consumed for all GPUs : 0.011842 kWh. Total GPU Power : 69.63742384376884 W\n[codecarbon INFO @ 15:54:20] Energy consumed for all CPUs : 0.007260 kWh. Total CPU Power : 42.5 W\n[codecarbon INFO @ 15:54:20] 0.020857 kWh of electricity used since the beginning.\n[codecarbon INFO @ 15:54:26] Energy consumed for RAM : 0.002063 kWh. RAM Power : 10.2771635055542 W\n[codecarbon INFO @ 15:54:26] Energy consumed for all GPUs : 0.012436 kWh. Total GPU Power : 69.58388070482248 W\n[codecarbon INFO @ 15:54:26] Energy consumed for all CPUs : 0.008534 kWh. Total CPU Power : 42.5 W\n[codecarbon INFO @ 15:54:26] 0.023032 kWh of electricity used since the beginning.\n[codecarbon INFO @ 15:54:35] Energy consumed for RAM : 0.001798 kWh. RAM Power : 10.2771635055542 W\n[codecarbon INFO @ 15:54:35] Energy consumed for all GPUs : 0.012132 kWh. Total GPU Power : 69.6376362885761 W\n[codecarbon INFO @ 15:54:35] Energy consumed for all CPUs : 0.007437 kWh. Total CPU Power : 42.5 W\n[codecarbon INFO @ 15:54:35] 0.021367 kWh of electricity used since the beginning.\n[codecarbon INFO @ 15:54:41] Energy consumed for RAM : 0.002106 kWh. RAM Power : 10.2771635055542 W\n[codecarbon INFO @ 15:54:41] Energy consumed for all GPUs : 0.012726 kWh. Total GPU Power : 69.72495730119465 W\n[codecarbon INFO @ 15:54:41] Energy consumed for all CPUs : 0.008711 kWh. Total CPU Power : 42.5 W\n[codecarbon INFO @ 15:54:41] 0.023543 kWh of electricity used since the beginning.\n[codecarbon INFO @ 15:54:50] Energy consumed for RAM : 0.001841 kWh. RAM Power : 10.2771635055542 W\n[codecarbon INFO @ 15:54:50] Energy consumed for all GPUs : 0.012422 kWh. Total GPU Power : 69.63354729753755 W\n[codecarbon INFO @ 15:54:50] Energy consumed for all CPUs : 0.007614 kWh. Total CPU Power : 42.5 W\n[codecarbon INFO @ 15:54:50] 0.021877 kWh of electricity used since the beginning.\n[codecarbon INFO @ 15:54:56] Energy consumed for RAM : 0.002148 kWh. RAM Power : 10.2771635055542 W\n[codecarbon INFO @ 15:54:56] Energy consumed for all GPUs : 0.013016 kWh. Total GPU Power : 69.57020716249713 W\n[codecarbon INFO @ 15:54:56] Energy consumed for all CPUs : 0.008888 kWh. Total CPU Power : 42.5 W\n[codecarbon INFO @ 15:54:56] 0.024052 kWh of electricity used since the beginning.\n[codecarbon INFO @ 15:55:05] Energy consumed for RAM : 0.001883 kWh. RAM Power : 10.2771635055542 W\n[codecarbon INFO @ 15:55:05] Energy consumed for all GPUs : 0.012711 kWh. Total GPU Power : 69.49201020366662 W\n[codecarbon INFO @ 15:55:05] Energy consumed for all CPUs : 0.007791 kWh. Total CPU Power : 42.5 W\n[codecarbon INFO @ 15:55:05] 0.022386 kWh of electricity used since the beginning.\n[codecarbon INFO @ 15:55:11] Energy consumed for RAM : 0.002191 kWh. RAM Power : 10.2771635055542 W\n[codecarbon INFO @ 15:55:11] Energy consumed for all GPUs : 0.013306 kWh. Total GPU Power : 69.52593113142333 W\n[codecarbon INFO @ 15:55:11] Energy consumed for all CPUs : 0.009065 kWh. Total CPU Power : 42.5 W\n[codecarbon INFO @ 15:55:11] 0.024562 kWh of electricity used since the beginning.\n[codecarbon INFO @ 15:55:20] Energy consumed for RAM : 0.001926 kWh. RAM Power : 10.2771635055542 W\n[codecarbon INFO @ 15:55:20] Energy consumed for all GPUs : 0.012999 kWh. Total GPU Power : 69.13007303548295 W\n[codecarbon INFO @ 15:55:20] Energy consumed for all CPUs : 0.007968 kWh. Total CPU Power : 42.5 W\n[codecarbon INFO @ 15:55:20] 0.022894 kWh of electricity used since the beginning.\n[codecarbon INFO @ 15:55:26] Energy consumed for RAM : 0.002234 kWh. RAM Power : 10.2771635055542 W\n[codecarbon INFO @ 15:55:26] Energy consumed for all GPUs : 0.013595 kWh. Total GPU Power : 69.54063672688586 W\n[codecarbon INFO @ 15:55:26] Energy consumed for all CPUs : 0.009242 kWh. Total CPU Power : 42.5 W\n[codecarbon INFO @ 15:55:26] 0.025071 kWh of electricity used since the beginning.\n[codecarbon INFO @ 15:55:35] Energy consumed for RAM : 0.001969 kWh. RAM Power : 10.2771635055542 W\n[codecarbon INFO @ 15:55:35] Energy consumed for all GPUs : 0.013289 kWh. Total GPU Power : 69.62786685584771 W\n[codecarbon INFO @ 15:55:35] Energy consumed for all CPUs : 0.008146 kWh. Total CPU Power : 42.5 W\n[codecarbon INFO @ 15:55:35] 0.023404 kWh of electricity used since the beginning.\n[codecarbon INFO @ 15:55:41] Energy consumed for RAM : 0.002277 kWh. RAM Power : 10.2771635055542 W\n[codecarbon INFO @ 15:55:41] Energy consumed for all GPUs : 0.013886 kWh. Total GPU Power : 69.70063307237027 W\n[codecarbon INFO @ 15:55:41] Energy consumed for all CPUs : 0.009419 kWh. Total CPU Power : 42.5 W\n[codecarbon INFO @ 15:55:41] 0.025581 kWh of electricity used since the beginning.\n[codecarbon INFO @ 15:55:50] Energy consumed for RAM : 0.002012 kWh. RAM Power : 10.2771635055542 W\n[codecarbon INFO @ 15:55:50] Energy consumed for all GPUs : 0.013570 kWh. Total GPU Power : 67.34357135887069 W\n[codecarbon INFO @ 15:55:50] Energy consumed for all CPUs : 0.008323 kWh. Total CPU Power : 42.5 W\n[codecarbon INFO @ 15:55:50] 0.023904 kWh of electricity used since the beginning.\n[codecarbon INFO @ 15:55:56] Energy consumed for RAM : 0.002320 kWh. RAM Power : 10.2771635055542 W\n[codecarbon INFO @ 15:55:56] Energy consumed for all GPUs : 0.014101 kWh. Total GPU Power : 51.624132312038896 W\n[codecarbon INFO @ 15:55:56] Energy consumed for all CPUs : 0.009596 kWh. Total CPU Power : 42.5 W\n[codecarbon INFO @ 15:55:56] 0.026016 kWh of electricity used since the beginning.\n[codecarbon INFO @ 15:56:05] Energy consumed for RAM : 0.002055 kWh. RAM Power : 10.2771635055542 W\n[codecarbon INFO @ 15:56:05] Energy consumed for all GPUs : 0.013696 kWh. Total GPU Power : 30.41167422993688 W\n[codecarbon INFO @ 15:56:05] Energy consumed for all CPUs : 0.008500 kWh. Total CPU Power : 42.5 W\n[codecarbon INFO @ 15:56:05] 0.024251 kWh of electricity used since the beginning.\n[codecarbon INFO @ 15:56:11] Energy consumed for RAM : 0.002362 kWh. RAM Power : 10.2771635055542 W\n[codecarbon INFO @ 15:56:11] Energy consumed for all GPUs : 0.014224 kWh. Total GPU Power : 29.68296078821205 W\n[codecarbon INFO @ 15:56:11] Energy consumed for all CPUs : 0.009773 kWh. Total CPU Power : 42.5 W\n[codecarbon INFO @ 15:56:11] 0.026360 kWh of electricity used since the beginning.\n[codecarbon INFO @ 15:56:20] Energy consumed for RAM : 0.002097 kWh. RAM Power : 10.2771635055542 W\n[codecarbon INFO @ 15:56:20] Energy consumed for all GPUs : 0.013818 kWh. Total GPU Power : 29.098985912379465 W\n[codecarbon INFO @ 15:56:20] Energy consumed for all CPUs : 0.008677 kWh. Total CPU Power : 42.5 W\n[codecarbon INFO @ 15:56:20] 0.024592 kWh of electricity used since the beginning.\n[codecarbon INFO @ 15:56:26] Energy consumed for RAM : 0.002405 kWh. RAM Power : 10.2771635055542 W\n[codecarbon INFO @ 15:56:26] Energy consumed for all GPUs : 0.014345 kWh. Total GPU Power : 28.887242845488156 W\n[codecarbon INFO @ 15:56:26] Energy consumed for all CPUs : 0.009950 kWh. Total CPU Power : 42.5 W\n[codecarbon INFO @ 15:56:26] 0.026700 kWh of electricity used since the beginning.\n[codecarbon INFO @ 15:56:35] Energy consumed for RAM : 0.002140 kWh. RAM Power : 10.2771635055542 W\n[codecarbon INFO @ 15:56:35] Energy consumed for all GPUs : 0.013937 kWh. Total GPU Power : 28.617936795162873 W\n[codecarbon INFO @ 15:56:35] Energy consumed for all CPUs : 0.008854 kWh. Total CPU Power : 42.5 W\n[codecarbon INFO @ 15:56:35] 0.024931 kWh of electricity used since the beginning.\n[codecarbon INFO @ 15:56:41] Energy consumed for RAM : 0.002448 kWh. RAM Power : 10.2771635055542 W\n[codecarbon INFO @ 15:56:41] Energy consumed for all GPUs : 0.014463 kWh. Total GPU Power : 28.456892683474184 W\n[codecarbon INFO @ 15:56:41] Energy consumed for all CPUs : 0.010127 kWh. Total CPU Power : 42.5 W\n[codecarbon INFO @ 15:56:41] 0.027038 kWh of electricity used since the beginning.\n[codecarbon INFO @ 15:56:50] Energy consumed for RAM : 0.002183 kWh. RAM Power : 10.2771635055542 W\n[codecarbon INFO @ 15:56:50] Energy consumed for all GPUs : 0.014055 kWh. Total GPU Power : 28.436678939668397 W\n[codecarbon INFO @ 15:56:50] Energy consumed for all CPUs : 0.009031 kWh. Total CPU Power : 42.5 W\n[codecarbon INFO @ 15:56:50] 0.025269 kWh of electricity used since the beginning.\n[codecarbon INFO @ 15:56:56] Energy consumed for RAM : 0.002491 kWh. RAM Power : 10.2771635055542 W\n[codecarbon INFO @ 15:56:56] Energy consumed for all GPUs : 0.014581 kWh. Total GPU Power : 28.297169108062718 W\n[codecarbon INFO @ 15:56:56] Energy consumed for all CPUs : 0.010304 kWh. Total CPU Power : 42.5 W\n[codecarbon INFO @ 15:56:56] 0.027376 kWh of electricity used since the beginning.\n[codecarbon INFO @ 15:57:05] Energy consumed for RAM : 0.002226 kWh. RAM Power : 10.2771635055542 W\n[codecarbon INFO @ 15:57:05] Energy consumed for all GPUs : 0.014172 kWh. Total GPU Power : 27.983631605437125 W\n[codecarbon INFO @ 15:57:05] Energy consumed for all CPUs : 0.009208 kWh. Total CPU Power : 42.5 W\n[codecarbon INFO @ 15:57:05] 0.025606 kWh of electricity used since the beginning.\n[codecarbon INFO @ 15:57:11] Energy consumed for RAM : 0.002534 kWh. RAM Power : 10.2771635055542 W\n[codecarbon INFO @ 15:57:11] Energy consumed for all GPUs : 0.014697 kWh. Total GPU Power : 27.927420878365 W\n[codecarbon INFO @ 15:57:11] Energy consumed for all CPUs : 0.010481 kWh. Total CPU Power : 42.5 W\n[codecarbon INFO @ 15:57:11] 0.027712 kWh of electricity used since the beginning.\n[codecarbon INFO @ 15:57:20] Energy consumed for RAM : 0.002269 kWh. RAM Power : 10.2771635055542 W\n[codecarbon INFO @ 15:57:20] Energy consumed for all GPUs : 0.014288 kWh. Total GPU Power : 27.80260590055225 W\n[codecarbon INFO @ 15:57:20] Energy consumed for all CPUs : 0.009385 kWh. Total CPU Power : 42.5 W\n[codecarbon INFO @ 15:57:20] 0.025941 kWh of electricity used since the beginning.\n[codecarbon INFO @ 15:57:26] Energy consumed for RAM : 0.002577 kWh. RAM Power : 10.2771635055542 W\n[codecarbon INFO @ 15:57:26] Energy consumed for all GPUs : 0.014813 kWh. Total GPU Power : 27.71063872991084 W\n[codecarbon INFO @ 15:57:26] Energy consumed for all CPUs : 0.010658 kWh. Total CPU Power : 42.5 W\n[codecarbon INFO @ 15:57:26] 0.028048 kWh of electricity used since the beginning.\n[codecarbon INFO @ 15:57:35] Energy consumed for RAM : 0.002311 kWh. RAM Power : 10.2771635055542 W\n[codecarbon INFO @ 15:57:35] Energy consumed for all GPUs : 0.014403 kWh. Total GPU Power : 27.765584639481286 W\n[codecarbon INFO @ 15:57:35] Energy consumed for all CPUs : 0.009562 kWh. Total CPU Power : 42.5 W\n[codecarbon INFO @ 15:57:35] 0.026277 kWh of electricity used since the beginning.\n[codecarbon INFO @ 15:57:41] Energy consumed for RAM : 0.002619 kWh. RAM Power : 10.2771635055542 W\n[codecarbon INFO @ 15:57:41] Energy consumed for all GPUs : 0.014928 kWh. Total GPU Power : 27.676747965470103 W\n[codecarbon INFO @ 15:57:41] Energy consumed for all CPUs : 0.010836 kWh. Total CPU Power : 42.5 W\n[codecarbon INFO @ 15:57:41] 0.028383 kWh of electricity used since the beginning.\n[codecarbon INFO @ 15:57:50] Energy consumed for RAM : 0.002354 kWh. RAM Power : 10.2771635055542 W\n[codecarbon INFO @ 15:57:50] Energy consumed for all GPUs : 0.014518 kWh. Total GPU Power : 27.467973908878417 W\n[codecarbon INFO @ 15:57:50] Energy consumed for all CPUs : 0.009739 kWh. Total CPU Power : 42.5 W\n[codecarbon INFO @ 15:57:50] 0.026611 kWh of electricity used since the beginning.\n[codecarbon INFO @ 15:57:56] Energy consumed for RAM : 0.002662 kWh. RAM Power : 10.2771635055542 W\n[codecarbon INFO @ 15:57:56] Energy consumed for all GPUs : 0.015114 kWh. Total GPU Power : 44.589699506303674 W\n[codecarbon INFO @ 15:57:56] Energy consumed for all CPUs : 0.011013 kWh. Total CPU Power : 42.5 W\n[codecarbon INFO @ 15:57:56] 0.028789 kWh of electricity used since the beginning.\n[codecarbon INFO @ 15:58:05] Energy consumed for RAM : 0.002397 kWh. RAM Power : 10.2771635055542 W\n[codecarbon INFO @ 15:58:05] Energy consumed for all GPUs : 0.014808 kWh. Total GPU Power : 69.55078086716087 W\n[codecarbon INFO @ 15:58:05] Energy consumed for all CPUs : 0.009916 kWh. Total CPU Power : 42.5 W\n[codecarbon INFO @ 15:58:05] 0.027121 kWh of electricity used since the beginning.\n[codecarbon INFO @ 15:58:11] Energy consumed for RAM : 0.002705 kWh. RAM Power : 10.2771635055542 W\n[codecarbon INFO @ 15:58:11] Energy consumed for all GPUs : 0.015404 kWh. Total GPU Power : 69.6523198464855 W\n[codecarbon INFO @ 15:58:11] Energy consumed for all CPUs : 0.011190 kWh. Total CPU Power : 42.5 W\n[codecarbon INFO @ 15:58:11] 0.029299 kWh of electricity used since the beginning.\n/anaconda/envs/azureml_py38/lib/python3.8/site-packages/sklearn/metrics/_classification.py:1272: UndefinedMetricWarning: Precision is ill-defined and being set to 0.0 in samples with no predicted labels. Use `zero_division` parameter to control this behavior.\n  _warn_prf(average, modifier, msg_start, len(result))\n/anaconda/envs/azureml_py38/lib/python3.8/site-packages/sklearn/metrics/_classification.py:1272: UndefinedMetricWarning: Recall is ill-defined and being set to 0.0 in samples with no true labels. Use `zero_division` parameter to control this behavior.\n  _warn_prf(average, modifier, msg_start, len(result))\n/anaconda/envs/azureml_py38/lib/python3.8/site-packages/sklearn/metrics/_classification.py:1514: UndefinedMetricWarning: F-score is ill-defined and being set to 0.0 in samples with no true nor predicted labels. Use `zero_division` parameter to control this behavior.\n  _warn_prf(\n[codecarbon INFO @ 15:58:20] Energy consumed for RAM : 0.002440 kWh. RAM Power : 10.2771635055542 W\n[codecarbon INFO @ 15:58:20] Energy consumed for all GPUs : 0.015050 kWh. Total GPU Power : 58.27863052489288 W\n[codecarbon INFO @ 15:58:20] Energy consumed for all CPUs : 0.010093 kWh. Total CPU Power : 42.5 W\n[codecarbon INFO @ 15:58:20] 0.027584 kWh of electricity used since the beginning.\n[codecarbon INFO @ 15:58:26] Energy consumed for RAM : 0.002748 kWh. RAM Power : 10.2771635055542 W\n[codecarbon INFO @ 15:58:26] Energy consumed for all GPUs : 0.015600 kWh. Total GPU Power : 47.108405208660514 W\n[codecarbon INFO @ 15:58:26] Energy consumed for all CPUs : 0.011367 kWh. Total CPU Power : 42.5 W\n[codecarbon INFO @ 15:58:26] 0.029715 kWh of electricity used since the beginning.\n[codecarbon INFO @ 15:58:35] Energy consumed for RAM : 0.002483 kWh. RAM Power : 10.2771635055542 W\n[codecarbon INFO @ 15:58:35] Energy consumed for all GPUs : 0.015283 kWh. Total GPU Power : 55.826754588187036 W\n[codecarbon INFO @ 15:58:35] Energy consumed for all CPUs : 0.010270 kWh. Total CPU Power : 42.5 W\n[codecarbon INFO @ 15:58:35] 0.028036 kWh of electricity used since the beginning.\n[codecarbon INFO @ 15:58:41] Energy consumed for RAM : 0.002791 kWh. RAM Power : 10.2771635055542 W\n[codecarbon INFO @ 15:58:41] Energy consumed for all GPUs : 0.015872 kWh. Total GPU Power : 65.31707213297159 W\n[codecarbon INFO @ 15:58:41] Energy consumed for all CPUs : 0.011544 kWh. Total CPU Power : 42.5 W\n[codecarbon INFO @ 15:58:41] 0.030207 kWh of electricity used since the beginning.\n[codecarbon INFO @ 15:58:50] Energy consumed for RAM : 0.002526 kWh. RAM Power : 10.2771635055542 W\n[codecarbon INFO @ 15:58:50] Energy consumed for all GPUs : 0.015566 kWh. Total GPU Power : 67.97812398918924 W\n[codecarbon INFO @ 15:58:50] Energy consumed for all CPUs : 0.010448 kWh. Total CPU Power : 42.5 W\n[codecarbon INFO @ 15:58:50] 0.028539 kWh of electricity used since the beginning.\n[codecarbon INFO @ 15:58:56] Energy consumed for RAM : 0.002833 kWh. RAM Power : 10.2771635055542 W\n[codecarbon INFO @ 15:58:56] Energy consumed for all GPUs : 0.016162 kWh. Total GPU Power : 69.65765354290785 W\n[codecarbon INFO @ 15:58:56] Energy consumed for all CPUs : 0.011721 kWh. Total CPU Power : 42.5 W\n[codecarbon INFO @ 15:58:56] 0.030717 kWh of electricity used since the beginning.\n[codecarbon INFO @ 15:59:05] Energy consumed for RAM : 0.002568 kWh. RAM Power : 10.2771635055542 W\n[codecarbon INFO @ 15:59:05] Energy consumed for all GPUs : 0.015856 kWh. Total GPU Power : 69.65105271365131 W\n[codecarbon INFO @ 15:59:05] Energy consumed for all CPUs : 0.010625 kWh. Total CPU Power : 42.5 W\n[codecarbon INFO @ 15:59:05] 0.029049 kWh of electricity used since the beginning.\n[codecarbon INFO @ 15:59:11] Energy consumed for RAM : 0.002876 kWh. RAM Power : 10.2771635055542 W\n[codecarbon INFO @ 15:59:11] Energy consumed for all GPUs : 0.016450 kWh. Total GPU Power : 69.1497858946922 W\n[codecarbon INFO @ 15:59:11] Energy consumed for all CPUs : 0.011898 kWh. Total CPU Power : 42.5 W\n[codecarbon INFO @ 15:59:11] 0.031225 kWh of electricity used since the beginning.\n[codecarbon INFO @ 15:59:20] Energy consumed for RAM : 0.002611 kWh. RAM Power : 10.2771635055542 W\n[codecarbon INFO @ 15:59:20] Energy consumed for all GPUs : 0.016146 kWh. Total GPU Power : 69.54689387485152 W\n[codecarbon INFO @ 15:59:20] Energy consumed for all CPUs : 0.010802 kWh. Total CPU Power : 42.5 W\n[codecarbon INFO @ 15:59:20] 0.029559 kWh of electricity used since the beginning.\n[codecarbon INFO @ 15:59:26] Energy consumed for RAM : 0.002919 kWh. RAM Power : 10.2771635055542 W\n[codecarbon INFO @ 15:59:26] Energy consumed for all GPUs : 0.016740 kWh. Total GPU Power : 69.58488890236494 W\n[codecarbon INFO @ 15:59:26] Energy consumed for all CPUs : 0.012075 kWh. Total CPU Power : 42.5 W\n[codecarbon INFO @ 15:59:26] 0.031734 kWh of electricity used since the beginning.\n[codecarbon INFO @ 15:59:35] Energy consumed for RAM : 0.002654 kWh. RAM Power : 10.2771635055542 W\n[codecarbon INFO @ 15:59:35] Energy consumed for all GPUs : 0.016436 kWh. Total GPU Power : 69.52437461719529 W\n[codecarbon INFO @ 15:59:35] Energy consumed for all CPUs : 0.010979 kWh. Total CPU Power : 42.5 W\n[codecarbon INFO @ 15:59:35] 0.030068 kWh of electricity used since the beginning.\n[codecarbon INFO @ 15:59:41] Energy consumed for RAM : 0.002962 kWh. RAM Power : 10.2771635055542 W\n[codecarbon INFO @ 15:59:41] Energy consumed for all GPUs : 0.017030 kWh. Total GPU Power : 69.61605592173491 W\n[codecarbon INFO @ 15:59:41] Energy consumed for all CPUs : 0.012252 kWh. Total CPU Power : 42.5 W\n[codecarbon INFO @ 15:59:41] 0.032244 kWh of electricity used since the beginning.\n[codecarbon INFO @ 15:59:50] Energy consumed for RAM : 0.002697 kWh. RAM Power : 10.2771635055542 W\n[codecarbon INFO @ 15:59:50] Energy consumed for all GPUs : 0.016726 kWh. Total GPU Power : 69.72144029434003 W\n[codecarbon INFO @ 15:59:50] Energy consumed for all CPUs : 0.011156 kWh. Total CPU Power : 42.5 W\n[codecarbon INFO @ 15:59:50] 0.030578 kWh of electricity used since the beginning.\n[codecarbon INFO @ 15:59:56] Energy consumed for RAM : 0.003005 kWh. RAM Power : 10.2771635055542 W\n[codecarbon INFO @ 15:59:56] Energy consumed for all GPUs : 0.017320 kWh. Total GPU Power : 69.59505232617066 W\n[codecarbon INFO @ 15:59:56] Energy consumed for all CPUs : 0.012429 kWh. Total CPU Power : 42.5 W\n[codecarbon INFO @ 15:59:56] 0.032754 kWh of electricity used since the beginning.\n[codecarbon INFO @ 16:00:05] Energy consumed for RAM : 0.002740 kWh. RAM Power : 10.2771635055542 W\n[codecarbon INFO @ 16:00:05] Energy consumed for all GPUs : 0.017016 kWh. Total GPU Power : 69.58904155243789 W\n[codecarbon INFO @ 16:00:05] Energy consumed for all CPUs : 0.011333 kWh. Total CPU Power : 42.5 W\n[codecarbon INFO @ 16:00:05] 0.031088 kWh of electricity used since the beginning.\n[codecarbon INFO @ 16:00:11] Energy consumed for RAM : 0.003047 kWh. RAM Power : 10.2771635055542 W\n[codecarbon INFO @ 16:00:11] Energy consumed for all GPUs : 0.017610 kWh. Total GPU Power : 69.60082307662252 W\n[codecarbon INFO @ 16:00:11] Energy consumed for all CPUs : 0.012606 kWh. Total CPU Power : 42.5 W\n[codecarbon INFO @ 16:00:11] 0.033263 kWh of electricity used since the beginning.\n[codecarbon INFO @ 16:00:20] Energy consumed for RAM : 0.002782 kWh. RAM Power : 10.2771635055542 W\n[codecarbon INFO @ 16:00:20] Energy consumed for all GPUs : 0.017306 kWh. Total GPU Power : 69.59877719147059 W\n[codecarbon INFO @ 16:00:20] Energy consumed for all CPUs : 0.011510 kWh. Total CPU Power : 42.5 W\n[codecarbon INFO @ 16:00:20] 0.031598 kWh of electricity used since the beginning.\n[codecarbon INFO @ 16:00:26] Energy consumed for RAM : 0.003090 kWh. RAM Power : 10.2771635055542 W\n[codecarbon INFO @ 16:00:26] Energy consumed for all GPUs : 0.017900 kWh. Total GPU Power : 69.64970432547597 W\n[codecarbon INFO @ 16:00:26] Energy consumed for all CPUs : 0.012783 kWh. Total CPU Power : 42.5 W\n[codecarbon INFO @ 16:00:26] 0.033773 kWh of electricity used since the beginning.\n[codecarbon INFO @ 16:00:35] Energy consumed for RAM : 0.002825 kWh. RAM Power : 10.2771635055542 W\n[codecarbon INFO @ 16:00:35] Energy consumed for all GPUs : 0.017596 kWh. Total GPU Power : 69.63367300754041 W\n[codecarbon INFO @ 16:00:35] Energy consumed for all CPUs : 0.011687 kWh. Total CPU Power : 42.5 W\n[codecarbon INFO @ 16:00:35] 0.032108 kWh of electricity used since the beginning.\n[codecarbon INFO @ 16:00:41] Energy consumed for RAM : 0.003133 kWh. RAM Power : 10.2771635055542 W\n[codecarbon INFO @ 16:00:41] Energy consumed for all GPUs : 0.018190 kWh. Total GPU Power : 69.56765430580752 W\n[codecarbon INFO @ 16:00:41] Energy consumed for all CPUs : 0.012960 kWh. Total CPU Power : 42.5 W\n[codecarbon INFO @ 16:00:41] 0.034283 kWh of electricity used since the beginning.\n[codecarbon INFO @ 16:00:50] Energy consumed for RAM : 0.002868 kWh. RAM Power : 10.2771635055542 W\n[codecarbon INFO @ 16:00:50] Energy consumed for all GPUs : 0.017883 kWh. Total GPU Power : 69.08886521916479 W\n[codecarbon INFO @ 16:00:50] Energy consumed for all CPUs : 0.011864 kWh. Total CPU Power : 42.5 W\n[codecarbon INFO @ 16:00:50] 0.032616 kWh of electricity used since the beginning.\n[codecarbon INFO @ 16:00:56] Energy consumed for RAM : 0.003176 kWh. RAM Power : 10.2771635055542 W\n[codecarbon INFO @ 16:00:56] Energy consumed for all GPUs : 0.018480 kWh. Total GPU Power : 69.63669124348445 W\n[codecarbon INFO @ 16:00:56] Energy consumed for all CPUs : 0.013137 kWh. Total CPU Power : 42.5 W\n[codecarbon INFO @ 16:00:56] 0.034793 kWh of electricity used since the beginning.\n[codecarbon INFO @ 16:01:05] Energy consumed for RAM : 0.002911 kWh. RAM Power : 10.2771635055542 W\n[codecarbon INFO @ 16:01:05] Energy consumed for all GPUs : 0.018173 kWh. Total GPU Power : 69.60291718595555 W\n[codecarbon INFO @ 16:01:05] Energy consumed for all CPUs : 0.012041 kWh. Total CPU Power : 42.5 W\n[codecarbon INFO @ 16:01:05] 0.033125 kWh of electricity used since the beginning.\n[codecarbon INFO @ 16:01:11] Energy consumed for RAM : 0.003219 kWh. RAM Power : 10.2771635055542 W\n[codecarbon INFO @ 16:01:11] Energy consumed for all GPUs : 0.018770 kWh. Total GPU Power : 69.57966223046695 W\n[codecarbon INFO @ 16:01:11] Energy consumed for all CPUs : 0.013315 kWh. Total CPU Power : 42.5 W\n[codecarbon INFO @ 16:01:11] 0.035303 kWh of electricity used since the beginning.\n[codecarbon INFO @ 16:01:20] Energy consumed for RAM : 0.002954 kWh. RAM Power : 10.2771635055542 W\n[codecarbon INFO @ 16:01:20] Energy consumed for all GPUs : 0.018464 kWh. Total GPU Power : 69.70977219706276 W\n[codecarbon INFO @ 16:01:20] Energy consumed for all CPUs : 0.012218 kWh. Total CPU Power : 42.5 W\n[codecarbon INFO @ 16:01:20] 0.033636 kWh of electricity used since the beginning.\n[codecarbon INFO @ 16:01:26] Energy consumed for RAM : 0.003261 kWh. RAM Power : 10.2771635055542 W\n[codecarbon INFO @ 16:01:26] Energy consumed for all GPUs : 0.019060 kWh. Total GPU Power : 69.8005817954946 W\n[codecarbon INFO @ 16:01:26] Energy consumed for all CPUs : 0.013492 kWh. Total CPU Power : 42.5 W\n[codecarbon INFO @ 16:01:26] 0.035813 kWh of electricity used since the beginning.\n[codecarbon INFO @ 16:01:35] Energy consumed for RAM : 0.002996 kWh. RAM Power : 10.2771635055542 W\n[codecarbon INFO @ 16:01:35] Energy consumed for all GPUs : 0.018754 kWh. Total GPU Power : 69.71564876805844 W\n[codecarbon INFO @ 16:01:35] Energy consumed for all CPUs : 0.012395 kWh. Total CPU Power : 42.5 W\n[codecarbon INFO @ 16:01:35] 0.034146 kWh of electricity used since the beginning.\n[codecarbon INFO @ 16:01:41] Energy consumed for RAM : 0.003304 kWh. RAM Power : 10.2771635055542 W\n[codecarbon INFO @ 16:01:41] Energy consumed for all GPUs : 0.019348 kWh. Total GPU Power : 69.15434511316921 W\n[codecarbon INFO @ 16:01:41] Energy consumed for all CPUs : 0.013669 kWh. Total CPU Power : 42.5 W\n[codecarbon INFO @ 16:01:41] 0.036321 kWh of electricity used since the beginning.\n[codecarbon INFO @ 16:01:50] Energy consumed for RAM : 0.003039 kWh. RAM Power : 10.2771635055542 W\n[codecarbon INFO @ 16:01:50] Energy consumed for all GPUs : 0.019045 kWh. Total GPU Power : 69.71407036180548 W\n[codecarbon INFO @ 16:01:50] Energy consumed for all CPUs : 0.012572 kWh. Total CPU Power : 42.5 W\n[codecarbon INFO @ 16:01:50] 0.034656 kWh of electricity used since the beginning.\n[codecarbon INFO @ 16:01:56] Energy consumed for RAM : 0.003347 kWh. RAM Power : 10.2771635055542 W\n[codecarbon INFO @ 16:01:56] Energy consumed for all GPUs : 0.019639 kWh. Total GPU Power : 69.79153097160018 W\n[codecarbon INFO @ 16:01:56] Energy consumed for all CPUs : 0.013846 kWh. Total CPU Power : 42.5 W\n[codecarbon INFO @ 16:01:56] 0.036832 kWh of electricity used since the beginning.\n[codecarbon INFO @ 16:02:05] Energy consumed for RAM : 0.003082 kWh. RAM Power : 10.2771635055542 W\n[codecarbon INFO @ 16:02:05] Energy consumed for all GPUs : 0.019335 kWh. Total GPU Power : 69.65537558689196 W\n[codecarbon INFO @ 16:02:05] Energy consumed for all CPUs : 0.012749 kWh. Total CPU Power : 42.5 W\n[codecarbon INFO @ 16:02:05] 0.035166 kWh of electricity used since the beginning.\n[codecarbon INFO @ 16:02:11] Energy consumed for RAM : 0.003390 kWh. RAM Power : 10.2771635055542 W\n[codecarbon INFO @ 16:02:11] Energy consumed for all GPUs : 0.019929 kWh. Total GPU Power : 69.66877263958466 W\n[codecarbon INFO @ 16:02:11] Energy consumed for all CPUs : 0.014023 kWh. Total CPU Power : 42.5 W\n[codecarbon INFO @ 16:02:11] 0.037342 kWh of electricity used since the beginning.\n[codecarbon INFO @ 16:02:20] Energy consumed for RAM : 0.003125 kWh. RAM Power : 10.2771635055542 W\n[codecarbon INFO @ 16:02:20] Energy consumed for all GPUs : 0.019625 kWh. Total GPU Power : 69.6509795131291 W\n[codecarbon INFO @ 16:02:20] Energy consumed for all CPUs : 0.012927 kWh. Total CPU Power : 42.5 W\n[codecarbon INFO @ 16:02:20] 0.035676 kWh of electricity used since the beginning.\n[codecarbon INFO @ 16:02:26] Energy consumed for RAM : 0.003433 kWh. RAM Power : 10.2771635055542 W\n[codecarbon INFO @ 16:02:26] Energy consumed for all GPUs : 0.020219 kWh. Total GPU Power : 69.60309237933811 W\n[codecarbon INFO @ 16:02:26] Energy consumed for all CPUs : 0.014200 kWh. Total CPU Power : 42.5 W\n[codecarbon INFO @ 16:02:26] 0.037852 kWh of electricity used since the beginning.\n[codecarbon INFO @ 16:02:35] Energy consumed for RAM : 0.003168 kWh. RAM Power : 10.2771635055542 W\n[codecarbon INFO @ 16:02:35] Energy consumed for all GPUs : 0.019915 kWh. Total GPU Power : 69.6214137780926 W\n[codecarbon INFO @ 16:02:35] Energy consumed for all CPUs : 0.013104 kWh. Total CPU Power : 42.5 W\n[codecarbon INFO @ 16:02:35] 0.036186 kWh of electricity used since the beginning.\n[codecarbon INFO @ 16:02:41] Energy consumed for RAM : 0.003475 kWh. RAM Power : 10.2771635055542 W\n[codecarbon INFO @ 16:02:41] Energy consumed for all GPUs : 0.020509 kWh. Total GPU Power : 69.61075347000572 W\n[codecarbon INFO @ 16:02:41] Energy consumed for all CPUs : 0.014377 kWh. Total CPU Power : 42.5 W\n[codecarbon INFO @ 16:02:41] 0.038361 kWh of electricity used since the beginning.\n[codecarbon INFO @ 16:02:50] Energy consumed for RAM : 0.003210 kWh. RAM Power : 10.2771635055542 W\n[codecarbon INFO @ 16:02:50] Energy consumed for all GPUs : 0.020205 kWh. Total GPU Power : 69.59734637705881 W\n[codecarbon INFO @ 16:02:50] Energy consumed for all CPUs : 0.013281 kWh. Total CPU Power : 42.5 W\n[codecarbon INFO @ 16:02:50] 0.036696 kWh of electricity used since the beginning.\n[codecarbon INFO @ 16:02:56] Energy consumed for RAM : 0.003518 kWh. RAM Power : 10.2771635055542 W\n[codecarbon INFO @ 16:02:56] Energy consumed for all GPUs : 0.020799 kWh. Total GPU Power : 69.66627546329411 W\n[codecarbon INFO @ 16:02:56] Energy consumed for all CPUs : 0.014554 kWh. Total CPU Power : 42.5 W\n[codecarbon INFO @ 16:02:56] 0.038871 kWh of electricity used since the beginning.\n[codecarbon INFO @ 16:03:05] Energy consumed for RAM : 0.003253 kWh. RAM Power : 10.2771635055542 W\n[codecarbon INFO @ 16:03:05] Energy consumed for all GPUs : 0.020495 kWh. Total GPU Power : 69.65040954301378 W\n[codecarbon INFO @ 16:03:05] Energy consumed for all CPUs : 0.013458 kWh. Total CPU Power : 42.5 W\n[codecarbon INFO @ 16:03:05] 0.037206 kWh of electricity used since the beginning.\n[codecarbon INFO @ 16:03:11] Energy consumed for RAM : 0.003561 kWh. RAM Power : 10.2771635055542 W\n[codecarbon INFO @ 16:03:11] Energy consumed for all GPUs : 0.021089 kWh. Total GPU Power : 69.63700214535537 W\n[codecarbon INFO @ 16:03:11] Energy consumed for all CPUs : 0.014731 kWh. Total CPU Power : 42.5 W\n[codecarbon INFO @ 16:03:11] 0.039381 kWh of electricity used since the beginning.\n[codecarbon INFO @ 16:03:20] Energy consumed for RAM : 0.003296 kWh. RAM Power : 10.2771635055542 W\n[codecarbon INFO @ 16:03:20] Energy consumed for all GPUs : 0.020785 kWh. Total GPU Power : 69.67583078440384 W\n[codecarbon INFO @ 16:03:20] Energy consumed for all CPUs : 0.013635 kWh. Total CPU Power : 42.5 W\n[codecarbon INFO @ 16:03:20] 0.037716 kWh of electricity used since the beginning.\n[codecarbon INFO @ 16:03:26] Energy consumed for RAM : 0.003604 kWh. RAM Power : 10.2771635055542 W\n[codecarbon INFO @ 16:03:26] Energy consumed for all GPUs : 0.021379 kWh. Total GPU Power : 69.6465556764049 W\n[codecarbon INFO @ 16:03:26] Energy consumed for all CPUs : 0.014908 kWh. Total CPU Power : 42.5 W\n[codecarbon INFO @ 16:03:26] 0.039891 kWh of electricity used since the beginning.\n[codecarbon INFO @ 16:03:35] Energy consumed for RAM : 0.003339 kWh. RAM Power : 10.2771635055542 W\n[codecarbon INFO @ 16:03:35] Energy consumed for all GPUs : 0.021075 kWh. Total GPU Power : 69.67988618220298 W\n[codecarbon INFO @ 16:03:35] Energy consumed for all CPUs : 0.013812 kWh. Total CPU Power : 42.5 W\n[codecarbon INFO @ 16:03:35] 0.038226 kWh of electricity used since the beginning.\n[codecarbon INFO @ 16:03:41] Energy consumed for RAM : 0.003647 kWh. RAM Power : 10.2771635055542 W\n[codecarbon INFO @ 16:03:41] Energy consumed for all GPUs : 0.021670 kWh. Total GPU Power : 69.70430306474682 W\n[codecarbon INFO @ 16:03:41] Energy consumed for all CPUs : 0.015085 kWh. Total CPU Power : 42.5 W\n[codecarbon INFO @ 16:03:41] 0.040402 kWh of electricity used since the beginning.\n[codecarbon INFO @ 16:03:50] Energy consumed for RAM : 0.003382 kWh. RAM Power : 10.2771635055542 W\n[codecarbon INFO @ 16:03:50] Energy consumed for all GPUs : 0.021361 kWh. Total GPU Power : 68.53151379365563 W\n[codecarbon INFO @ 16:03:50] Energy consumed for all CPUs : 0.013989 kWh. Total CPU Power : 42.5 W\n[codecarbon INFO @ 16:03:50] 0.038732 kWh of electricity used since the beginning.\n[codecarbon INFO @ 16:03:56] Energy consumed for RAM : 0.003689 kWh. RAM Power : 10.2771635055542 W\n[codecarbon INFO @ 16:03:56] Energy consumed for all GPUs : 0.021955 kWh. Total GPU Power : 68.55827070687806 W\n[codecarbon INFO @ 16:03:56] Energy consumed for all CPUs : 0.015262 kWh. Total CPU Power : 42.5 W\n[codecarbon INFO @ 16:03:56] 0.040907 kWh of electricity used since the beginning.\n[codecarbon INFO @ 16:04:05] Energy consumed for RAM : 0.003424 kWh. RAM Power : 10.2771635055542 W\n[codecarbon INFO @ 16:04:05] Energy consumed for all GPUs : 0.021651 kWh. Total GPU Power : 69.61221811342973 W\n[codecarbon INFO @ 16:04:05] Energy consumed for all CPUs : 0.014166 kWh. Total CPU Power : 42.5 W\n[codecarbon INFO @ 16:04:05] 0.039241 kWh of electricity used since the beginning.\n[codecarbon INFO @ 16:04:11] Energy consumed for RAM : 0.003732 kWh. RAM Power : 10.2771635055542 W\n[codecarbon INFO @ 16:04:11] Energy consumed for all GPUs : 0.022245 kWh. Total GPU Power : 69.56587150325397 W\n[codecarbon INFO @ 16:04:11] Energy consumed for all CPUs : 0.015439 kWh. Total CPU Power : 42.5 W\n[codecarbon INFO @ 16:04:11] 0.041416 kWh of electricity used since the beginning.\n[codecarbon INFO @ 16:04:20] Energy consumed for RAM : 0.003467 kWh. RAM Power : 10.2771635055542 W\n[codecarbon INFO @ 16:04:20] Energy consumed for all GPUs : 0.021941 kWh. Total GPU Power : 69.64160507048041 W\n[codecarbon INFO @ 16:04:20] Energy consumed for all CPUs : 0.014343 kWh. Total CPU Power : 42.5 W\n[codecarbon INFO @ 16:04:20] 0.039751 kWh of electricity used since the beginning.\n[codecarbon INFO @ 16:04:26] Energy consumed for RAM : 0.003775 kWh. RAM Power : 10.2771635055542 W\n[codecarbon INFO @ 16:04:26] Energy consumed for all GPUs : 0.022535 kWh. Total GPU Power : 69.72216660371271 W\n[codecarbon INFO @ 16:04:26] Energy consumed for all CPUs : 0.015617 kWh. Total CPU Power : 42.5 W\n[codecarbon INFO @ 16:04:26] 0.041927 kWh of electricity used since the beginning.\n[codecarbon INFO @ 16:04:35] Energy consumed for RAM : 0.003510 kWh. RAM Power : 10.2771635055542 W\n[codecarbon INFO @ 16:04:35] Energy consumed for all GPUs : 0.022229 kWh. Total GPU Power : 69.23004580631459 W\n[codecarbon INFO @ 16:04:35] Energy consumed for all CPUs : 0.014520 kWh. Total CPU Power : 42.5 W\n[codecarbon INFO @ 16:04:35] 0.040260 kWh of electricity used since the beginning.\n[codecarbon INFO @ 16:04:41] Energy consumed for RAM : 0.003818 kWh. RAM Power : 10.2771635055542 W\n[codecarbon INFO @ 16:04:41] Energy consumed for all GPUs : 0.022826 kWh. Total GPU Power : 69.70605181377462 W\n[codecarbon INFO @ 16:04:41] Energy consumed for all CPUs : 0.015794 kWh. Total CPU Power : 42.5 W\n[codecarbon INFO @ 16:04:41] 0.042437 kWh of electricity used since the beginning.\n[codecarbon INFO @ 16:04:50] Energy consumed for RAM : 0.003553 kWh. RAM Power : 10.2771635055542 W\n[codecarbon INFO @ 16:04:50] Energy consumed for all GPUs : 0.022519 kWh. Total GPU Power : 69.66083542986418 W\n[codecarbon INFO @ 16:04:50] Energy consumed for all CPUs : 0.014697 kWh. Total CPU Power : 42.5 W\n[codecarbon INFO @ 16:04:50] 0.040770 kWh of electricity used since the beginning.\n[codecarbon INFO @ 16:04:56] Energy consumed for RAM : 0.003861 kWh. RAM Power : 10.2771635055542 W\n[codecarbon INFO @ 16:04:56] Energy consumed for all GPUs : 0.023114 kWh. Total GPU Power : 69.35606949032837 W\n[codecarbon INFO @ 16:04:56] Energy consumed for all CPUs : 0.015971 kWh. Total CPU Power : 42.5 W\n[codecarbon INFO @ 16:04:56] 0.042946 kWh of electricity used since the beginning.\n[codecarbon INFO @ 16:05:05] Energy consumed for RAM : 0.003596 kWh. RAM Power : 10.2771635055542 W\n[codecarbon INFO @ 16:05:05] Energy consumed for all GPUs : 0.022806 kWh. Total GPU Power : 68.7617976236556 W\n[codecarbon INFO @ 16:05:05] Energy consumed for all CPUs : 0.014874 kWh. Total CPU Power : 42.5 W\n[codecarbon INFO @ 16:05:05] 0.041276 kWh of electricity used since the beginning.\n[codecarbon INFO @ 16:05:11] Energy consumed for RAM : 0.003903 kWh. RAM Power : 10.2771635055542 W\n[codecarbon INFO @ 16:05:11] Energy consumed for all GPUs : 0.023402 kWh. Total GPU Power : 69.02400723541275 W\n[codecarbon INFO @ 16:05:11] Energy consumed for all CPUs : 0.016148 kWh. Total CPU Power : 42.5 W\n[codecarbon INFO @ 16:05:11] 0.043453 kWh of electricity used since the beginning.\n[codecarbon INFO @ 16:05:20] Energy consumed for RAM : 0.003638 kWh. RAM Power : 10.2771635055542 W\n[codecarbon INFO @ 16:05:20] Energy consumed for all GPUs : 0.023096 kWh. Total GPU Power : 69.6266382646627 W\n[codecarbon INFO @ 16:05:20] Energy consumed for all CPUs : 0.015052 kWh. Total CPU Power : 42.5 W\n[codecarbon INFO @ 16:05:20] 0.041786 kWh of electricity used since the beginning.\n[codecarbon INFO @ 16:05:26] Energy consumed for RAM : 0.003946 kWh. RAM Power : 10.2771635055542 W\n[codecarbon INFO @ 16:05:26] Energy consumed for all GPUs : 0.023692 kWh. Total GPU Power : 69.53816406967158 W\n[codecarbon INFO @ 16:05:26] Energy consumed for all CPUs : 0.016325 kWh. Total CPU Power : 42.5 W\n[codecarbon INFO @ 16:05:26] 0.043963 kWh of electricity used since the beginning.\n[codecarbon INFO @ 16:05:35] Energy consumed for RAM : 0.003681 kWh. RAM Power : 10.2771635055542 W\n[codecarbon INFO @ 16:05:35] Energy consumed for all GPUs : 0.023385 kWh. Total GPU Power : 69.55537486208351 W\n[codecarbon INFO @ 16:05:35] Energy consumed for all CPUs : 0.015229 kWh. Total CPU Power : 42.5 W\n[codecarbon INFO @ 16:05:35] 0.042295 kWh of electricity used since the beginning.\n[codecarbon INFO @ 16:05:41] Energy consumed for RAM : 0.003989 kWh. RAM Power : 10.2771635055542 W\n[codecarbon INFO @ 16:05:41] Energy consumed for all GPUs : 0.023982 kWh. Total GPU Power : 69.61893490841015 W\n[codecarbon INFO @ 16:05:41] Energy consumed for all CPUs : 0.016502 kWh. Total CPU Power : 42.5 W\n[codecarbon INFO @ 16:05:41] 0.044473 kWh of electricity used since the beginning.\n[codecarbon INFO @ 16:05:50] Energy consumed for RAM : 0.003724 kWh. RAM Power : 10.2771635055542 W\n[codecarbon INFO @ 16:05:50] Energy consumed for all GPUs : 0.023676 kWh. Total GPU Power : 69.63487094985992 W\n[codecarbon INFO @ 16:05:50] Energy consumed for all CPUs : 0.015406 kWh. Total CPU Power : 42.5 W\n[codecarbon INFO @ 16:05:50] 0.042805 kWh of electricity used since the beginning.\n[codecarbon INFO @ 16:05:56] Energy consumed for RAM : 0.004032 kWh. RAM Power : 10.2771635055542 W\n[codecarbon INFO @ 16:05:56] Energy consumed for all GPUs : 0.024270 kWh. Total GPU Power : 69.25369187067233 W\n[codecarbon INFO @ 16:05:56] Energy consumed for all CPUs : 0.016679 kWh. Total CPU Power : 42.5 W\n[codecarbon INFO @ 16:05:56] 0.044981 kWh of electricity used since the beginning.\n[codecarbon INFO @ 16:06:05] Energy consumed for RAM : 0.003767 kWh. RAM Power : 10.2771635055542 W\n[codecarbon INFO @ 16:06:05] Energy consumed for all GPUs : 0.023966 kWh. Total GPU Power : 69.65248377875275 W\n[codecarbon INFO @ 16:06:05] Energy consumed for all CPUs : 0.015583 kWh. Total CPU Power : 42.5 W\n[codecarbon INFO @ 16:06:05] 0.043315 kWh of electricity used since the beginning.\n[codecarbon INFO @ 16:06:11] Energy consumed for RAM : 0.004075 kWh. RAM Power : 10.2771635055542 W\n[codecarbon INFO @ 16:06:11] Energy consumed for all GPUs : 0.024560 kWh. Total GPU Power : 69.60544694731298 W\n[codecarbon INFO @ 16:06:11] Energy consumed for all CPUs : 0.016856 kWh. Total CPU Power : 42.5 W\n[codecarbon INFO @ 16:06:11] 0.045491 kWh of electricity used since the beginning.\n[codecarbon INFO @ 16:06:20] Energy consumed for RAM : 0.003810 kWh. RAM Power : 10.2771635055542 W\n[codecarbon INFO @ 16:06:20] Energy consumed for all GPUs : 0.024256 kWh. Total GPU Power : 69.61207149460053 W\n[codecarbon INFO @ 16:06:20] Energy consumed for all CPUs : 0.015760 kWh. Total CPU Power : 42.5 W\n[codecarbon INFO @ 16:06:20] 0.043825 kWh of electricity used since the beginning.\n[codecarbon INFO @ 16:06:26] Energy consumed for RAM : 0.004117 kWh. RAM Power : 10.2771635055542 W\n[codecarbon INFO @ 16:06:26] Energy consumed for all GPUs : 0.024850 kWh. Total GPU Power : 69.53789356328268 W\n[codecarbon INFO @ 16:06:26] Energy consumed for all CPUs : 0.017033 kWh. Total CPU Power : 42.5 W\n[codecarbon INFO @ 16:06:26] 0.046000 kWh of electricity used since the beginning.\n[codecarbon INFO @ 16:06:35] Energy consumed for RAM : 0.003852 kWh. RAM Power : 10.2771635055542 W\n[codecarbon INFO @ 16:06:35] Energy consumed for all GPUs : 0.024545 kWh. Total GPU Power : 69.46078852582436 W\n[codecarbon INFO @ 16:06:35] Energy consumed for all CPUs : 0.015937 kWh. Total CPU Power : 42.5 W\n[codecarbon INFO @ 16:06:35] 0.044334 kWh of electricity used since the beginning.\n[codecarbon INFO @ 16:06:41] Energy consumed for RAM : 0.004160 kWh. RAM Power : 10.2771635055542 W\n[codecarbon INFO @ 16:06:41] Energy consumed for all GPUs : 0.025139 kWh. Total GPU Power : 69.5064130656643 W\n[codecarbon INFO @ 16:06:41] Energy consumed for all CPUs : 0.017210 kWh. Total CPU Power : 42.5 W\n[codecarbon INFO @ 16:06:41] 0.046510 kWh of electricity used since the beginning.\n[codecarbon INFO @ 16:06:50] Energy consumed for RAM : 0.003895 kWh. RAM Power : 10.2771635055542 W\n[codecarbon INFO @ 16:06:50] Energy consumed for all GPUs : 0.024835 kWh. Total GPU Power : 69.66670817914824 W\n[codecarbon INFO @ 16:06:50] Energy consumed for all CPUs : 0.016114 kWh. Total CPU Power : 42.5 W\n[codecarbon INFO @ 16:06:50] 0.044844 kWh of electricity used since the beginning.\n[codecarbon INFO @ 16:06:56] Energy consumed for RAM : 0.004203 kWh. RAM Power : 10.2771635055542 W\n[codecarbon INFO @ 16:06:56] Energy consumed for all GPUs : 0.025430 kWh. Total GPU Power : 69.69412640082247 W\n[codecarbon INFO @ 16:06:56] Energy consumed for all CPUs : 0.017387 kWh. Total CPU Power : 42.5 W\n[codecarbon INFO @ 16:06:56] 0.047020 kWh of electricity used since the beginning.\n[codecarbon INFO @ 16:07:05] Energy consumed for RAM : 0.003938 kWh. RAM Power : 10.2771635055542 W\n[codecarbon INFO @ 16:07:05] Energy consumed for all GPUs : 0.025125 kWh. Total GPU Power : 69.72111267044077 W\n[codecarbon INFO @ 16:07:05] Energy consumed for all CPUs : 0.016291 kWh. Total CPU Power : 42.5 W\n[codecarbon INFO @ 16:07:05] 0.045355 kWh of electricity used since the beginning.\n[codecarbon INFO @ 16:07:11] Energy consumed for RAM : 0.004246 kWh. RAM Power : 10.2771635055542 W\n[codecarbon INFO @ 16:07:11] Energy consumed for all GPUs : 0.025720 kWh. Total GPU Power : 69.6639936192191 W\n[codecarbon INFO @ 16:07:11] Energy consumed for all CPUs : 0.017564 kWh. Total CPU Power : 42.5 W\n[codecarbon INFO @ 16:07:11] 0.047530 kWh of electricity used since the beginning.\n[codecarbon INFO @ 16:07:20] Energy consumed for RAM : 0.003981 kWh. RAM Power : 10.2771635055542 W\n[codecarbon INFO @ 16:07:20] Energy consumed for all GPUs : 0.025415 kWh. Total GPU Power : 69.59023702408862 W\n[codecarbon INFO @ 16:07:20] Energy consumed for all CPUs : 0.016468 kWh. Total CPU Power : 42.5 W\n[codecarbon INFO @ 16:07:20] 0.045864 kWh of electricity used since the beginning.\n[codecarbon INFO @ 16:07:26] Energy consumed for RAM : 0.004289 kWh. RAM Power : 10.2771635055542 W\n[codecarbon INFO @ 16:07:26] Energy consumed for all GPUs : 0.026009 kWh. Total GPU Power : 69.55784356733105 W\n[codecarbon INFO @ 16:07:26] Energy consumed for all CPUs : 0.017741 kWh. Total CPU Power : 42.5 W\n[codecarbon INFO @ 16:07:26] 0.048040 kWh of electricity used since the beginning.\n[codecarbon INFO @ 16:07:35] Energy consumed for RAM : 0.004024 kWh. RAM Power : 10.2771635055542 W\n[codecarbon INFO @ 16:07:35] Energy consumed for all GPUs : 0.025705 kWh. Total GPU Power : 69.57974731300334 W\n[codecarbon INFO @ 16:07:35] Energy consumed for all CPUs : 0.016645 kWh. Total CPU Power : 42.5 W\n[codecarbon INFO @ 16:07:35] 0.046374 kWh of electricity used since the beginning.\n[codecarbon INFO @ 16:07:41] Energy consumed for RAM : 0.004331 kWh. RAM Power : 10.2771635055542 W\n[codecarbon INFO @ 16:07:41] Energy consumed for all GPUs : 0.026299 kWh. Total GPU Power : 69.59498049396583 W\n[codecarbon INFO @ 16:07:41] Energy consumed for all CPUs : 0.017918 kWh. Total CPU Power : 42.5 W\n[codecarbon INFO @ 16:07:41] 0.048549 kWh of electricity used since the beginning.\n[codecarbon INFO @ 16:07:50] Energy consumed for RAM : 0.004066 kWh. RAM Power : 10.2771635055542 W\n[codecarbon INFO @ 16:07:50] Energy consumed for all GPUs : 0.025995 kWh. Total GPU Power : 69.53035369247169 W\n[codecarbon INFO @ 16:07:50] Energy consumed for all CPUs : 0.016822 kWh. Total CPU Power : 42.5 W\n[codecarbon INFO @ 16:07:50] 0.046884 kWh of electricity used since the beginning.\n[codecarbon INFO @ 16:07:56] Energy consumed for RAM : 0.004374 kWh. RAM Power : 10.2771635055542 W\n[codecarbon INFO @ 16:07:56] Energy consumed for all GPUs : 0.026589 kWh. Total GPU Power : 69.62883536487908 W\n[codecarbon INFO @ 16:07:56] Energy consumed for all CPUs : 0.018096 kWh. Total CPU Power : 42.5 W\n[codecarbon INFO @ 16:07:56] 0.049059 kWh of electricity used since the beginning.\n[codecarbon INFO @ 16:08:05] Energy consumed for RAM : 0.004109 kWh. RAM Power : 10.2771635055542 W\n[codecarbon INFO @ 16:08:05] Energy consumed for all GPUs : 0.026283 kWh. Total GPU Power : 69.25592278364493 W\n[codecarbon INFO @ 16:08:05] Energy consumed for all CPUs : 0.016999 kWh. Total CPU Power : 42.5 W\n[codecarbon INFO @ 16:08:05] 0.047392 kWh of electricity used since the beginning.\n[codecarbon INFO @ 16:08:11] Energy consumed for RAM : 0.004417 kWh. RAM Power : 10.2771635055542 W\n[codecarbon INFO @ 16:08:11] Energy consumed for all GPUs : 0.026880 kWh. Total GPU Power : 69.73816449346772 W\n[codecarbon INFO @ 16:08:11] Energy consumed for all CPUs : 0.018273 kWh. Total CPU Power : 42.5 W\n[codecarbon INFO @ 16:08:11] 0.049569 kWh of electricity used since the beginning.\n[codecarbon INFO @ 16:08:20] Energy consumed for RAM : 0.004152 kWh. RAM Power : 10.2771635055542 W\n[codecarbon INFO @ 16:08:20] Energy consumed for all GPUs : 0.026573 kWh. Total GPU Power : 69.62343943169185 W\n[codecarbon INFO @ 16:08:20] Energy consumed for all CPUs : 0.017176 kWh. Total CPU Power : 42.5 W\n[codecarbon INFO @ 16:08:20] 0.047902 kWh of electricity used since the beginning.\n[codecarbon INFO @ 16:08:26] Energy consumed for RAM : 0.004460 kWh. RAM Power : 10.2771635055542 W\n[codecarbon INFO @ 16:08:26] Energy consumed for all GPUs : 0.027169 kWh. Total GPU Power : 69.55470861110767 W\n[codecarbon INFO @ 16:08:26] Energy consumed for all CPUs : 0.018450 kWh. Total CPU Power : 42.5 W\n[codecarbon INFO @ 16:08:26] 0.050079 kWh of electricity used since the beginning.\n[codecarbon INFO @ 16:08:35] Energy consumed for RAM : 0.004195 kWh. RAM Power : 10.2771635055542 W\n[codecarbon INFO @ 16:08:35] Energy consumed for all GPUs : 0.026863 kWh. Total GPU Power : 69.6442029075783 W\n[codecarbon INFO @ 16:08:35] Energy consumed for all CPUs : 0.017353 kWh. Total CPU Power : 42.5 W\n[codecarbon INFO @ 16:08:35] 0.048412 kWh of electricity used since the beginning.\n[codecarbon INFO @ 16:08:41] Energy consumed for RAM : 0.004503 kWh. RAM Power : 10.2771635055542 W\n[codecarbon INFO @ 16:08:41] Energy consumed for all GPUs : 0.027459 kWh. Total GPU Power : 69.61430227876089 W\n[codecarbon INFO @ 16:08:41] Energy consumed for all CPUs : 0.018627 kWh. Total CPU Power : 42.5 W\n[codecarbon INFO @ 16:08:41] 0.050589 kWh of electricity used since the beginning.\n[codecarbon INFO @ 16:08:50] Energy consumed for RAM : 0.004238 kWh. RAM Power : 10.2771635055542 W\n[codecarbon INFO @ 16:08:50] Energy consumed for all GPUs : 0.027153 kWh. Total GPU Power : 69.61436420220159 W\n[codecarbon INFO @ 16:08:50] Energy consumed for all CPUs : 0.017531 kWh. Total CPU Power : 42.5 W\n[codecarbon INFO @ 16:08:50] 0.048921 kWh of electricity used since the beginning.\n[codecarbon INFO @ 16:08:56] Energy consumed for RAM : 0.004545 kWh. RAM Power : 10.2771635055542 W\n[codecarbon INFO @ 16:08:56] Energy consumed for all GPUs : 0.027750 kWh. Total GPU Power : 69.65474720764591 W\n[codecarbon INFO @ 16:08:56] Energy consumed for all CPUs : 0.018804 kWh. Total CPU Power : 42.5 W\n[codecarbon INFO @ 16:08:56] 0.051099 kWh of electricity used since the beginning.\n[codecarbon INFO @ 16:09:05] Energy consumed for RAM : 0.004281 kWh. RAM Power : 10.2771635055542 W\n[codecarbon INFO @ 16:09:05] Energy consumed for all GPUs : 0.027443 kWh. Total GPU Power : 69.61606257004962 W\n[codecarbon INFO @ 16:09:05] Energy consumed for all CPUs : 0.017708 kWh. Total CPU Power : 42.5 W\n[codecarbon INFO @ 16:09:05] 0.049431 kWh of electricity used since the beginning.\n[codecarbon INFO @ 16:09:11] Energy consumed for RAM : 0.004588 kWh. RAM Power : 10.2771635055542 W\n[codecarbon INFO @ 16:09:11] Energy consumed for all GPUs : 0.028040 kWh. Total GPU Power : 69.62864306355824 W\n[codecarbon INFO @ 16:09:11] Energy consumed for all CPUs : 0.018981 kWh. Total CPU Power : 42.5 W\n[codecarbon INFO @ 16:09:11] 0.051609 kWh of electricity used since the beginning.\n[codecarbon INFO @ 16:09:20] Energy consumed for RAM : 0.004323 kWh. RAM Power : 10.2771635055542 W\n[codecarbon INFO @ 16:09:20] Energy consumed for all GPUs : 0.027734 kWh. Total GPU Power : 69.69405941130695 W\n[codecarbon INFO @ 16:09:20] Energy consumed for all CPUs : 0.017885 kWh. Total CPU Power : 42.5 W\n[codecarbon INFO @ 16:09:20] 0.049942 kWh of electricity used since the beginning.\n[codecarbon INFO @ 16:09:26] Energy consumed for RAM : 0.004631 kWh. RAM Power : 10.2771635055542 W\n[codecarbon INFO @ 16:09:26] Energy consumed for all GPUs : 0.028328 kWh. Total GPU Power : 69.17222983894858 W\n[codecarbon INFO @ 16:09:26] Energy consumed for all CPUs : 0.019158 kWh. Total CPU Power : 42.5 W\n[codecarbon INFO @ 16:09:26] 0.052117 kWh of electricity used since the beginning.\n[codecarbon INFO @ 16:09:35] Energy consumed for RAM : 0.004366 kWh. RAM Power : 10.2771635055542 W\n[codecarbon INFO @ 16:09:35] Energy consumed for all GPUs : 0.028024 kWh. Total GPU Power : 69.61408779247955 W\n[codecarbon INFO @ 16:09:35] Energy consumed for all CPUs : 0.018062 kWh. Total CPU Power : 42.5 W\n[codecarbon INFO @ 16:09:35] 0.050452 kWh of electricity used since the beginning.\n[codecarbon INFO @ 16:09:41] Energy consumed for RAM : 0.004674 kWh. RAM Power : 10.2771635055542 W\n[codecarbon INFO @ 16:09:41] Energy consumed for all GPUs : 0.028619 kWh. Total GPU Power : 69.97116683774463 W\n[codecarbon INFO @ 16:09:41] Energy consumed for all CPUs : 0.019335 kWh. Total CPU Power : 42.5 W\n[codecarbon INFO @ 16:09:41] 0.052629 kWh of electricity used since the beginning.\n[codecarbon INFO @ 16:09:50] Energy consumed for RAM : 0.004409 kWh. RAM Power : 10.2771635055542 W\n[codecarbon INFO @ 16:09:50] Energy consumed for all GPUs : 0.028313 kWh. Total GPU Power : 69.61372905531684 W\n[codecarbon INFO @ 16:09:50] Energy consumed for all CPUs : 0.018239 kWh. Total CPU Power : 42.5 W\n[codecarbon INFO @ 16:09:50] 0.050961 kWh of electricity used since the beginning.\n[codecarbon INFO @ 16:09:56] Energy consumed for RAM : 0.004717 kWh. RAM Power : 10.2771635055542 W\n[codecarbon INFO @ 16:09:56] Energy consumed for all GPUs : 0.028910 kWh. Total GPU Power : 69.6698958031663 W\n[codecarbon INFO @ 16:09:56] Energy consumed for all CPUs : 0.019512 kWh. Total CPU Power : 42.5 W\n[codecarbon INFO @ 16:09:56] 0.053139 kWh of electricity used since the beginning.\n[codecarbon INFO @ 16:10:05] Energy consumed for RAM : 0.004452 kWh. RAM Power : 10.2771635055542 W\n[codecarbon INFO @ 16:10:05] Energy consumed for all GPUs : 0.028603 kWh. Total GPU Power : 69.58921082758101 W\n[codecarbon INFO @ 16:10:05] Energy consumed for all CPUs : 0.018416 kWh. Total CPU Power : 42.5 W\n[codecarbon INFO @ 16:10:05] 0.051471 kWh of electricity used since the beginning.\n[codecarbon INFO @ 16:10:11] Energy consumed for RAM : 0.004760 kWh. RAM Power : 10.2771635055542 W\n[codecarbon INFO @ 16:10:11] Energy consumed for all GPUs : 0.029199 kWh. Total GPU Power : 69.57866109346604 W\n[codecarbon INFO @ 16:10:11] Energy consumed for all CPUs : 0.019689 kWh. Total CPU Power : 42.5 W\n[codecarbon INFO @ 16:10:11] 0.053648 kWh of electricity used since the beginning.\n[codecarbon INFO @ 16:10:20] Energy consumed for RAM : 0.004495 kWh. RAM Power : 10.2771635055542 W\n[codecarbon INFO @ 16:10:20] Energy consumed for all GPUs : 0.028831 kWh. Total GPU Power : 54.717315550798105 W\n[codecarbon INFO @ 16:10:20] Energy consumed for all CPUs : 0.018593 kWh. Total CPU Power : 42.5 W\n[codecarbon INFO @ 16:10:20] 0.051919 kWh of electricity used since the beginning.\n[codecarbon INFO @ 16:10:26] Energy consumed for RAM : 0.004802 kWh. RAM Power : 10.2771635055542 W\n[codecarbon INFO @ 16:10:26] Energy consumed for all GPUs : 0.029360 kWh. Total GPU Power : 38.472952022623865 W\n[codecarbon INFO @ 16:10:26] Energy consumed for all CPUs : 0.019866 kWh. Total CPU Power : 42.5 W\n[codecarbon INFO @ 16:10:26] 0.054028 kWh of electricity used since the beginning.\n[codecarbon INFO @ 16:10:35] Energy consumed for RAM : 0.004537 kWh. RAM Power : 10.2771635055542 W\n[codecarbon INFO @ 16:10:35] Energy consumed for all GPUs : 0.028954 kWh. Total GPU Power : 29.432689531694596 W\n[codecarbon INFO @ 16:10:35] Energy consumed for all CPUs : 0.018770 kWh. Total CPU Power : 42.5 W\n[codecarbon INFO @ 16:10:35] 0.052261 kWh of electricity used since the beginning.\n[codecarbon INFO @ 16:10:41] Energy consumed for RAM : 0.004845 kWh. RAM Power : 10.2771635055542 W\n[codecarbon INFO @ 16:10:41] Energy consumed for all GPUs : 0.029481 kWh. Total GPU Power : 29.1502049060342 W\n[codecarbon INFO @ 16:10:41] Energy consumed for all CPUs : 0.020044 kWh. Total CPU Power : 42.5 W\n[codecarbon INFO @ 16:10:41] 0.054370 kWh of electricity used since the beginning.\n[codecarbon INFO @ 16:10:50] Energy consumed for RAM : 0.004580 kWh. RAM Power : 10.2771635055542 W\n[codecarbon INFO @ 16:10:50] Energy consumed for all GPUs : 0.029074 kWh. Total GPU Power : 28.828580365541292 W\n[codecarbon INFO @ 16:10:50] Energy consumed for all CPUs : 0.018947 kWh. Total CPU Power : 42.5 W\n[codecarbon INFO @ 16:10:50] 0.052601 kWh of electricity used since the beginning.\n[codecarbon INFO @ 16:10:56] Energy consumed for RAM : 0.004888 kWh. RAM Power : 10.2771635055542 W\n[codecarbon INFO @ 16:10:56] Energy consumed for all GPUs : 0.029600 kWh. Total GPU Power : 28.63846823658087 W\n[codecarbon INFO @ 16:10:56] Energy consumed for all CPUs : 0.020221 kWh. Total CPU Power : 42.5 W\n[codecarbon INFO @ 16:10:56] 0.054709 kWh of electricity used since the beginning.\n[codecarbon INFO @ 16:11:05] Energy consumed for RAM : 0.004623 kWh. RAM Power : 10.2771635055542 W\n[codecarbon INFO @ 16:11:05] Energy consumed for all GPUs : 0.029193 kWh. Total GPU Power : 28.575214838484747 W\n[codecarbon INFO @ 16:11:05] Energy consumed for all CPUs : 0.019124 kWh. Total CPU Power : 42.5 W\n[codecarbon INFO @ 16:11:05] 0.052940 kWh of electricity used since the beginning.\n[codecarbon INFO @ 16:11:11] Energy consumed for RAM : 0.004931 kWh. RAM Power : 10.2771635055542 W\n[codecarbon INFO @ 16:11:11] Energy consumed for all GPUs : 0.029719 kWh. Total GPU Power : 28.435545817298983 W\n[codecarbon INFO @ 16:11:11] Energy consumed for all CPUs : 0.020398 kWh. Total CPU Power : 42.5 W\n[codecarbon INFO @ 16:11:11] 0.055047 kWh of electricity used since the beginning.\n[codecarbon INFO @ 16:11:20] Energy consumed for RAM : 0.004666 kWh. RAM Power : 10.2771635055542 W\n[codecarbon INFO @ 16:11:20] Energy consumed for all GPUs : 0.029310 kWh. Total GPU Power : 28.062724786896496 W\n[codecarbon INFO @ 16:11:20] Energy consumed for all CPUs : 0.019301 kWh. Total CPU Power : 42.5 W\n[codecarbon INFO @ 16:11:20] 0.053277 kWh of electricity used since the beginning.\n[codecarbon INFO @ 16:11:26] Energy consumed for RAM : 0.004974 kWh. RAM Power : 10.2771635055542 W\n[codecarbon INFO @ 16:11:26] Energy consumed for all GPUs : 0.029835 kWh. Total GPU Power : 27.98591057709052 W\n[codecarbon INFO @ 16:11:26] Energy consumed for all CPUs : 0.020575 kWh. Total CPU Power : 42.5 W\n[codecarbon INFO @ 16:11:26] 0.055384 kWh of electricity used since the beginning.\n[codecarbon INFO @ 16:11:35] Energy consumed for RAM : 0.004709 kWh. RAM Power : 10.2771635055542 W\n[codecarbon INFO @ 16:11:35] Energy consumed for all GPUs : 0.029426 kWh. Total GPU Power : 27.91968307932267 W\n[codecarbon INFO @ 16:11:35] Energy consumed for all CPUs : 0.019478 kWh. Total CPU Power : 42.5 W\n[codecarbon INFO @ 16:11:35] 0.053613 kWh of electricity used since the beginning.\n[codecarbon INFO @ 16:11:41] Energy consumed for RAM : 0.005016 kWh. RAM Power : 10.2771635055542 W\n[codecarbon INFO @ 16:11:41] Energy consumed for all GPUs : 0.029951 kWh. Total GPU Power : 27.841905331314205 W\n[codecarbon INFO @ 16:11:41] Energy consumed for all CPUs : 0.020752 kWh. Total CPU Power : 42.5 W\n[codecarbon INFO @ 16:11:41] 0.055720 kWh of electricity used since the beginning.\n[codecarbon INFO @ 16:11:50] Energy consumed for RAM : 0.004751 kWh. RAM Power : 10.2771635055542 W\n[codecarbon INFO @ 16:11:50] Energy consumed for all GPUs : 0.029542 kWh. Total GPU Power : 27.89201615280591 W\n[codecarbon INFO @ 16:11:50] Energy consumed for all CPUs : 0.019655 kWh. Total CPU Power : 42.5 W\n[codecarbon INFO @ 16:11:50] 0.053949 kWh of electricity used since the beginning.\n[codecarbon INFO @ 16:11:56] Energy consumed for RAM : 0.005059 kWh. RAM Power : 10.2771635055542 W\n[codecarbon INFO @ 16:11:56] Energy consumed for all GPUs : 0.030067 kWh. Total GPU Power : 27.808269251094494 W\n[codecarbon INFO @ 16:11:56] Energy consumed for all CPUs : 0.020929 kWh. Total CPU Power : 42.5 W\n[codecarbon INFO @ 16:11:56] 0.056055 kWh of electricity used since the beginning.\n[codecarbon INFO @ 16:12:05] Energy consumed for RAM : 0.004794 kWh. RAM Power : 10.2771635055542 W\n[codecarbon INFO @ 16:12:05] Energy consumed for all GPUs : 0.029657 kWh. Total GPU Power : 27.495437045519516 W\n[codecarbon INFO @ 16:12:05] Energy consumed for all CPUs : 0.019833 kWh. Total CPU Power : 42.5 W\n[codecarbon INFO @ 16:12:05] 0.054284 kWh of electricity used since the beginning.\n[codecarbon INFO @ 16:12:11] Energy consumed for RAM : 0.005102 kWh. RAM Power : 10.2771635055542 W\n[codecarbon INFO @ 16:12:11] Energy consumed for all GPUs : 0.030181 kWh. Total GPU Power : 27.412077307731213 W\n[codecarbon INFO @ 16:12:11] Energy consumed for all CPUs : 0.021106 kWh. Total CPU Power : 42.5 W\n[codecarbon INFO @ 16:12:11] 0.056389 kWh of electricity used since the beginning.\n[codecarbon INFO @ 16:12:20] Energy consumed for RAM : 0.004837 kWh. RAM Power : 10.2771635055542 W\n[codecarbon INFO @ 16:12:20] Energy consumed for all GPUs : 0.029833 kWh. Total GPU Power : 42.35519509587167 W\n[codecarbon INFO @ 16:12:20] Energy consumed for all CPUs : 0.020010 kWh. Total CPU Power : 42.5 W\n[codecarbon INFO @ 16:12:20] 0.054680 kWh of electricity used since the beginning.\n[codecarbon INFO @ 16:12:26] Energy consumed for RAM : 0.005145 kWh. RAM Power : 10.2771635055542 W\n[codecarbon INFO @ 16:12:26] Energy consumed for all GPUs : 0.030430 kWh. Total GPU Power : 59.58637127177915 W\n[codecarbon INFO @ 16:12:26] Energy consumed for all CPUs : 0.021283 kWh. Total CPU Power : 42.5 W\n[codecarbon INFO @ 16:12:26] 0.056858 kWh of electricity used since the beginning.\n[codecarbon INFO @ 16:12:35] Energy consumed for RAM : 0.004880 kWh. RAM Power : 10.2771635055542 W\n[codecarbon INFO @ 16:12:35] Energy consumed for all GPUs : 0.030124 kWh. Total GPU Power : 69.72311555598527 W\n[codecarbon INFO @ 16:12:35] Energy consumed for all CPUs : 0.020187 kWh. Total CPU Power : 42.5 W\n[codecarbon INFO @ 16:12:35] 0.055190 kWh of electricity used since the beginning.\n/anaconda/envs/azureml_py38/lib/python3.8/site-packages/sklearn/metrics/_classification.py:1272: UndefinedMetricWarning: Precision is ill-defined and being set to 0.0 in samples with no predicted labels. Use `zero_division` parameter to control this behavior.\n  _warn_prf(average, modifier, msg_start, len(result))\n/anaconda/envs/azureml_py38/lib/python3.8/site-packages/sklearn/metrics/_classification.py:1272: UndefinedMetricWarning: Recall is ill-defined and being set to 0.0 in samples with no true labels. Use `zero_division` parameter to control this behavior.\n  _warn_prf(average, modifier, msg_start, len(result))\n/anaconda/envs/azureml_py38/lib/python3.8/site-packages/sklearn/metrics/_classification.py:1514: UndefinedMetricWarning: F-score is ill-defined and being set to 0.0 in samples with no true nor predicted labels. Use `zero_division` parameter to control this behavior.\n  _warn_prf(\n[codecarbon INFO @ 16:12:41] Energy consumed for RAM : 0.005188 kWh. RAM Power : 10.2771635055542 W\n[codecarbon INFO @ 16:12:41] Energy consumed for all GPUs : 0.030711 kWh. Total GPU Power : 67.57239497482612 W\n[codecarbon INFO @ 16:12:41] Energy consumed for all CPUs : 0.021460 kWh. Total CPU Power : 42.5 W\n[codecarbon INFO @ 16:12:41] 0.057359 kWh of electricity used since the beginning.\n[codecarbon INFO @ 16:12:50] Energy consumed for RAM : 0.004923 kWh. RAM Power : 10.2771635055542 W\n[codecarbon INFO @ 16:12:50] Energy consumed for all GPUs : 0.030316 kWh. Total GPU Power : 46.09541507918205 W\n[codecarbon INFO @ 16:12:50] Energy consumed for all CPUs : 0.020364 kWh. Total CPU Power : 42.5 W\n[codecarbon INFO @ 16:12:50] 0.055602 kWh of electricity used since the beginning.\n[codecarbon INFO @ 16:12:56] Energy consumed for RAM : 0.005230 kWh. RAM Power : 10.2771635055542 W\n[codecarbon INFO @ 16:12:56] Energy consumed for all GPUs : 0.030868 kWh. Total GPU Power : 37.72015060185381 W\n[codecarbon INFO @ 16:12:56] Energy consumed for all CPUs : 0.021637 kWh. Total CPU Power : 42.5 W\n[codecarbon INFO @ 16:12:56] 0.057736 kWh of electricity used since the beginning.\n[codecarbon INFO @ 16:13:05] Energy consumed for RAM : 0.004965 kWh. RAM Power : 10.2771635055542 W\n[codecarbon INFO @ 16:13:05] Energy consumed for all GPUs : 0.030562 kWh. Total GPU Power : 59.18860402690689 W\n[codecarbon INFO @ 16:13:05] Energy consumed for all CPUs : 0.020541 kWh. Total CPU Power : 42.5 W\n[codecarbon INFO @ 16:13:05] 0.056069 kWh of electricity used since the beginning.\n[codecarbon INFO @ 16:13:11] Energy consumed for RAM : 0.005273 kWh. RAM Power : 10.2771635055542 W\n[codecarbon INFO @ 16:13:11] Energy consumed for all GPUs : 0.031159 kWh. Total GPU Power : 69.73026165480753 W\n[codecarbon INFO @ 16:13:11] Energy consumed for all CPUs : 0.021814 kWh. Total CPU Power : 42.5 W\n[codecarbon INFO @ 16:13:11] 0.058246 kWh of electricity used since the beginning.\n[codecarbon INFO @ 16:13:20] Energy consumed for RAM : 0.005008 kWh. RAM Power : 10.2771635055542 W\n[codecarbon INFO @ 16:13:20] Energy consumed for all GPUs : 0.030852 kWh. Total GPU Power : 69.63896658341997 W\n[codecarbon INFO @ 16:13:20] Energy consumed for all CPUs : 0.020718 kWh. Total CPU Power : 42.5 W\n[codecarbon INFO @ 16:13:20] 0.056578 kWh of electricity used since the beginning.\n[codecarbon INFO @ 16:13:26] Energy consumed for RAM : 0.005316 kWh. RAM Power : 10.2771635055542 W\n[codecarbon INFO @ 16:13:26] Energy consumed for all GPUs : 0.031446 kWh. Total GPU Power : 69.06285146157288 W\n[codecarbon INFO @ 16:13:26] Energy consumed for all CPUs : 0.021991 kWh. Total CPU Power : 42.5 W\n[codecarbon INFO @ 16:13:26] 0.058754 kWh of electricity used since the beginning.\n[codecarbon INFO @ 16:13:35] Energy consumed for RAM : 0.005051 kWh. RAM Power : 10.2771635055542 W\n[codecarbon INFO @ 16:13:35] Energy consumed for all GPUs : 0.031142 kWh. Total GPU Power : 69.61861115582317 W\n[codecarbon INFO @ 16:13:35] Energy consumed for all CPUs : 0.020895 kWh. Total CPU Power : 42.5 W\n[codecarbon INFO @ 16:13:35] 0.057088 kWh of electricity used since the beginning.\n[codecarbon INFO @ 16:13:41] Energy consumed for RAM : 0.005359 kWh. RAM Power : 10.2771635055542 W\n[codecarbon INFO @ 16:13:41] Energy consumed for all GPUs : 0.031737 kWh. Total GPU Power : 69.7413008028878 W\n[codecarbon INFO @ 16:13:41] Energy consumed for all CPUs : 0.022168 kWh. Total CPU Power : 42.5 W\n[codecarbon INFO @ 16:13:41] 0.059264 kWh of electricity used since the beginning.\n[codecarbon INFO @ 16:13:50] Energy consumed for RAM : 0.005094 kWh. RAM Power : 10.2771635055542 W\n[codecarbon INFO @ 16:13:50] Energy consumed for all GPUs : 0.031433 kWh. Total GPU Power : 69.71876507349062 W\n[codecarbon INFO @ 16:13:50] Energy consumed for all CPUs : 0.021072 kWh. Total CPU Power : 42.5 W\n[codecarbon INFO @ 16:13:50] 0.057599 kWh of electricity used since the beginning.\n[codecarbon INFO @ 16:13:56] Energy consumed for RAM : 0.005402 kWh. RAM Power : 10.2771635055542 W\n[codecarbon INFO @ 16:13:56] Energy consumed for all GPUs : 0.032027 kWh. Total GPU Power : 69.68063843647978 W\n[codecarbon INFO @ 16:13:56] Energy consumed for all CPUs : 0.022345 kWh. Total CPU Power : 42.5 W\n[codecarbon INFO @ 16:13:56] 0.059774 kWh of electricity used since the beginning.\n[codecarbon INFO @ 16:14:05] Energy consumed for RAM : 0.005137 kWh. RAM Power : 10.2771635055542 W\n[codecarbon INFO @ 16:14:05] Energy consumed for all GPUs : 0.031723 kWh. Total GPU Power : 69.60964048582795 W\n[codecarbon INFO @ 16:14:05] Energy consumed for all CPUs : 0.021249 kWh. Total CPU Power : 42.5 W\n[codecarbon INFO @ 16:14:05] 0.058108 kWh of electricity used since the beginning.\n[codecarbon INFO @ 16:14:11] Energy consumed for RAM : 0.005444 kWh. RAM Power : 10.2771635055542 W\n[codecarbon INFO @ 16:14:11] Energy consumed for all GPUs : 0.032317 kWh. Total GPU Power : 69.63874680193264 W\n[codecarbon INFO @ 16:14:11] Energy consumed for all CPUs : 0.022523 kWh. Total CPU Power : 42.5 W\n[codecarbon INFO @ 16:14:11] 0.060284 kWh of electricity used since the beginning.\n[codecarbon INFO @ 16:14:20] Energy consumed for RAM : 0.005179 kWh. RAM Power : 10.2771635055542 W\n[codecarbon INFO @ 16:14:20] Energy consumed for all GPUs : 0.032013 kWh. Total GPU Power : 69.64594226021984 W\n[codecarbon INFO @ 16:14:20] Energy consumed for all CPUs : 0.021426 kWh. Total CPU Power : 42.5 W\n[codecarbon INFO @ 16:14:20] 0.058618 kWh of electricity used since the beginning.\n[codecarbon INFO @ 16:14:26] Energy consumed for RAM : 0.005487 kWh. RAM Power : 10.2771635055542 W\n[codecarbon INFO @ 16:14:26] Energy consumed for all GPUs : 0.032607 kWh. Total GPU Power : 69.5554769425934 W\n[codecarbon INFO @ 16:14:26] Energy consumed for all CPUs : 0.022700 kWh. Total CPU Power : 42.5 W\n[codecarbon INFO @ 16:14:26] 0.060794 kWh of electricity used since the beginning.\n[codecarbon INFO @ 16:14:35] Energy consumed for RAM : 0.005222 kWh. RAM Power : 10.2771635055542 W\n[codecarbon INFO @ 16:14:35] Energy consumed for all GPUs : 0.032302 kWh. Total GPU Power : 69.52373274781681 W\n[codecarbon INFO @ 16:14:35] Energy consumed for all CPUs : 0.021603 kWh. Total CPU Power : 42.5 W\n[codecarbon INFO @ 16:14:35] 0.059128 kWh of electricity used since the beginning.\n[codecarbon INFO @ 16:14:41] Energy consumed for RAM : 0.005530 kWh. RAM Power : 10.2771635055542 W\n[codecarbon INFO @ 16:14:41] Energy consumed for all GPUs : 0.032897 kWh. Total GPU Power : 69.67061131556486 W\n[codecarbon INFO @ 16:14:41] Energy consumed for all CPUs : 0.022877 kWh. Total CPU Power : 42.5 W\n[codecarbon INFO @ 16:14:41] 0.061304 kWh of electricity used since the beginning.\n[codecarbon INFO @ 16:14:50] Energy consumed for RAM : 0.005265 kWh. RAM Power : 10.2771635055542 W\n[codecarbon INFO @ 16:14:50] Energy consumed for all GPUs : 0.032591 kWh. Total GPU Power : 69.25486323786322 W\n[codecarbon INFO @ 16:14:50] Energy consumed for all CPUs : 0.021780 kWh. Total CPU Power : 42.5 W\n[codecarbon INFO @ 16:14:50] 0.059636 kWh of electricity used since the beginning.\n[codecarbon INFO @ 16:14:56] Energy consumed for RAM : 0.005573 kWh. RAM Power : 10.2771635055542 W\n[codecarbon INFO @ 16:14:56] Energy consumed for all GPUs : 0.033187 kWh. Total GPU Power : 69.63662800661217 W\n[codecarbon INFO @ 16:14:56] Energy consumed for all CPUs : 0.023054 kWh. Total CPU Power : 42.5 W\n[codecarbon INFO @ 16:14:56] 0.061814 kWh of electricity used since the beginning.\n[codecarbon INFO @ 16:15:05] Energy consumed for RAM : 0.005308 kWh. RAM Power : 10.2771635055542 W\n[codecarbon INFO @ 16:15:05] Energy consumed for all GPUs : 0.032881 kWh. Total GPU Power : 69.54691592709851 W\n[codecarbon INFO @ 16:15:05] Energy consumed for all CPUs : 0.021957 kWh. Total CPU Power : 42.5 W\n[codecarbon INFO @ 16:15:05] 0.060146 kWh of electricity used since the beginning.\n[codecarbon INFO @ 16:15:11] Energy consumed for RAM : 0.005616 kWh. RAM Power : 10.2771635055542 W\n[codecarbon INFO @ 16:15:11] Energy consumed for all GPUs : 0.033477 kWh. Total GPU Power : 69.60269016300352 W\n[codecarbon INFO @ 16:15:11] Energy consumed for all CPUs : 0.023231 kWh. Total CPU Power : 42.5 W\n[codecarbon INFO @ 16:15:11] 0.062323 kWh of electricity used since the beginning.\n[codecarbon INFO @ 16:15:20] Energy consumed for RAM : 0.005351 kWh. RAM Power : 10.2771635055542 W\n[codecarbon INFO @ 16:15:20] Energy consumed for all GPUs : 0.033171 kWh. Total GPU Power : 69.60534766574811 W\n[codecarbon INFO @ 16:15:20] Energy consumed for all CPUs : 0.022135 kWh. Total CPU Power : 42.5 W\n[codecarbon INFO @ 16:15:20] 0.060656 kWh of electricity used since the beginning.\n[codecarbon INFO @ 16:15:26] Energy consumed for RAM : 0.005658 kWh. RAM Power : 10.2771635055542 W\n[codecarbon INFO @ 16:15:26] Energy consumed for all GPUs : 0.033767 kWh. Total GPU Power : 69.574646050439 W\n[codecarbon INFO @ 16:15:26] Energy consumed for all CPUs : 0.023408 kWh. Total CPU Power : 42.5 W\n[codecarbon INFO @ 16:15:26] 0.062833 kWh of electricity used since the beginning.\n[codecarbon INFO @ 16:15:35] Energy consumed for RAM : 0.005393 kWh. RAM Power : 10.2771635055542 W\n[codecarbon INFO @ 16:15:35] Energy consumed for all GPUs : 0.033460 kWh. Total GPU Power : 69.58395117193348 W\n[codecarbon INFO @ 16:15:35] Energy consumed for all CPUs : 0.022312 kWh. Total CPU Power : 42.5 W\n[codecarbon INFO @ 16:15:35] 0.061165 kWh of electricity used since the beginning.\n[codecarbon INFO @ 16:15:41] Energy consumed for RAM : 0.005701 kWh. RAM Power : 10.2771635055542 W\n[codecarbon INFO @ 16:15:41] Energy consumed for all GPUs : 0.034056 kWh. Total GPU Power : 69.56536124471565 W\n[codecarbon INFO @ 16:15:41] Energy consumed for all CPUs : 0.023585 kWh. Total CPU Power : 42.5 W\n[codecarbon INFO @ 16:15:41] 0.063343 kWh of electricity used since the beginning.\n[codecarbon INFO @ 16:15:50] Energy consumed for RAM : 0.005436 kWh. RAM Power : 10.2771635055542 W\n[codecarbon INFO @ 16:15:50] Energy consumed for all GPUs : 0.033750 kWh. Total GPU Power : 69.62133996104876 W\n[codecarbon INFO @ 16:15:50] Energy consumed for all CPUs : 0.022489 kWh. Total CPU Power : 42.5 W\n[codecarbon INFO @ 16:15:50] 0.061675 kWh of electricity used since the beginning.\n[codecarbon INFO @ 16:15:56] Energy consumed for RAM : 0.005744 kWh. RAM Power : 10.2771635055542 W\n[codecarbon INFO @ 16:15:56] Energy consumed for all GPUs : 0.034346 kWh. Total GPU Power : 69.6247945594969 W\n[codecarbon INFO @ 16:15:56] Energy consumed for all CPUs : 0.023762 kWh. Total CPU Power : 42.5 W\n[codecarbon INFO @ 16:15:56] 0.063853 kWh of electricity used since the beginning.\n[codecarbon INFO @ 16:16:05] Energy consumed for RAM : 0.005479 kWh. RAM Power : 10.2771635055542 W\n[codecarbon INFO @ 16:16:05] Energy consumed for all GPUs : 0.034040 kWh. Total GPU Power : 69.5889423808879 W\n[codecarbon INFO @ 16:16:05] Energy consumed for all CPUs : 0.022666 kWh. Total CPU Power : 42.5 W\n[codecarbon INFO @ 16:16:05] 0.062185 kWh of electricity used since the beginning.\n[codecarbon INFO @ 16:16:11] Energy consumed for RAM : 0.005787 kWh. RAM Power : 10.2771635055542 W\n[codecarbon INFO @ 16:16:11] Energy consumed for all GPUs : 0.034635 kWh. Total GPU Power : 69.17957367718634 W\n[codecarbon INFO @ 16:16:11] Energy consumed for all CPUs : 0.023939 kWh. Total CPU Power : 42.5 W\n[codecarbon INFO @ 16:16:11] 0.064361 kWh of electricity used since the beginning.\n[codecarbon INFO @ 16:16:20] Energy consumed for RAM : 0.005522 kWh. RAM Power : 10.2771635055542 W\n[codecarbon INFO @ 16:16:20] Energy consumed for all GPUs : 0.034330 kWh. Total GPU Power : 69.63411030236927 W\n[codecarbon INFO @ 16:16:20] Energy consumed for all CPUs : 0.022843 kWh. Total CPU Power : 42.5 W\n[codecarbon INFO @ 16:16:20] 0.062695 kWh of electricity used since the beginning.\n[codecarbon INFO @ 16:16:26] Energy consumed for RAM : 0.005830 kWh. RAM Power : 10.2771635055542 W\n[codecarbon INFO @ 16:16:26] Energy consumed for all GPUs : 0.034925 kWh. Total GPU Power : 69.6801727473616 W\n[codecarbon INFO @ 16:16:26] Energy consumed for all CPUs : 0.024116 kWh. Total CPU Power : 42.5 W\n[codecarbon INFO @ 16:16:26] 0.064871 kWh of electricity used since the beginning.\n[codecarbon INFO @ 16:16:35] Energy consumed for RAM : 0.005565 kWh. RAM Power : 10.2771635055542 W\n[codecarbon INFO @ 16:16:35] Energy consumed for all GPUs : 0.034620 kWh. Total GPU Power : 69.64713246217114 W\n[codecarbon INFO @ 16:16:35] Energy consumed for all CPUs : 0.023020 kWh. Total CPU Power : 42.5 W\n[codecarbon INFO @ 16:16:35] 0.063205 kWh of electricity used since the beginning.\n[codecarbon INFO @ 16:16:41] Energy consumed for RAM : 0.005872 kWh. RAM Power : 10.2771635055542 W\n[codecarbon INFO @ 16:16:41] Energy consumed for all GPUs : 0.035215 kWh. Total GPU Power : 69.64121309026514 W\n[codecarbon INFO @ 16:16:41] Energy consumed for all CPUs : 0.024293 kWh. Total CPU Power : 42.5 W\n[codecarbon INFO @ 16:16:41] 0.065381 kWh of electricity used since the beginning.\n[codecarbon INFO @ 16:16:50] Energy consumed for RAM : 0.005608 kWh. RAM Power : 10.2771635055542 W\n[codecarbon INFO @ 16:16:50] Energy consumed for all GPUs : 0.034911 kWh. Total GPU Power : 69.63361800525803 W\n[codecarbon INFO @ 16:16:50] Energy consumed for all CPUs : 0.023197 kWh. Total CPU Power : 42.5 W\n[codecarbon INFO @ 16:16:50] 0.063715 kWh of electricity used since the beginning.\n[codecarbon INFO @ 16:16:56] Energy consumed for RAM : 0.005915 kWh. RAM Power : 10.2771635055542 W\n[codecarbon INFO @ 16:16:56] Energy consumed for all GPUs : 0.035505 kWh. Total GPU Power : 69.57252638724783 W\n[codecarbon INFO @ 16:16:56] Energy consumed for all CPUs : 0.024470 kWh. Total CPU Power : 42.5 W\n[codecarbon INFO @ 16:16:56] 0.065890 kWh of electricity used since the beginning.\n[codecarbon INFO @ 16:17:05] Energy consumed for RAM : 0.005650 kWh. RAM Power : 10.2771635055542 W\n[codecarbon INFO @ 16:17:05] Energy consumed for all GPUs : 0.035201 kWh. Total GPU Power : 69.67050709417849 W\n[codecarbon INFO @ 16:17:05] Energy consumed for all CPUs : 0.023374 kWh. Total CPU Power : 42.5 W\n[codecarbon INFO @ 16:17:05] 0.064225 kWh of electricity used since the beginning.\n[codecarbon INFO @ 16:17:11] Energy consumed for RAM : 0.005958 kWh. RAM Power : 10.2771635055542 W\n[codecarbon INFO @ 16:17:11] Energy consumed for all GPUs : 0.035795 kWh. Total GPU Power : 69.74255415872199 W\n[codecarbon INFO @ 16:17:11] Energy consumed for all CPUs : 0.024647 kWh. Total CPU Power : 42.5 W\n[codecarbon INFO @ 16:17:11] 0.066401 kWh of electricity used since the beginning.\n[codecarbon INFO @ 16:17:20] Energy consumed for RAM : 0.005693 kWh. RAM Power : 10.2771635055542 W\n[codecarbon INFO @ 16:17:20] Energy consumed for all GPUs : 0.035491 kWh. Total GPU Power : 69.61608074201555 W\n[codecarbon INFO @ 16:17:20] Energy consumed for all CPUs : 0.023551 kWh. Total CPU Power : 42.5 W\n[codecarbon INFO @ 16:17:20] 0.064735 kWh of electricity used since the beginning.\n[codecarbon INFO @ 16:17:26] Energy consumed for RAM : 0.006001 kWh. RAM Power : 10.2771635055542 W\n[codecarbon INFO @ 16:17:26] Energy consumed for all GPUs : 0.036085 kWh. Total GPU Power : 69.58708600890753 W\n[codecarbon INFO @ 16:17:26] Energy consumed for all CPUs : 0.024825 kWh. Total CPU Power : 42.5 W\n[codecarbon INFO @ 16:17:26] 0.066910 kWh of electricity used since the beginning.\n[codecarbon INFO @ 16:17:35] Energy consumed for RAM : 0.005736 kWh. RAM Power : 10.2771635055542 W\n[codecarbon INFO @ 16:17:35] Energy consumed for all GPUs : 0.035781 kWh. Total GPU Power : 69.61144151947974 W\n[codecarbon INFO @ 16:17:35] Energy consumed for all CPUs : 0.023728 kWh. Total CPU Power : 42.5 W\n[codecarbon INFO @ 16:17:35] 0.065245 kWh of electricity used since the beginning.\n[codecarbon INFO @ 16:17:41] Energy consumed for RAM : 0.006044 kWh. RAM Power : 10.2771635055542 W\n[codecarbon INFO @ 16:17:41] Energy consumed for all GPUs : 0.036375 kWh. Total GPU Power : 69.61609993287797 W\n[codecarbon INFO @ 16:17:41] Energy consumed for all CPUs : 0.025002 kWh. Total CPU Power : 42.5 W\n[codecarbon INFO @ 16:17:41] 0.067420 kWh of electricity used since the beginning.\n[codecarbon INFO @ 16:17:50] Energy consumed for RAM : 0.005779 kWh. RAM Power : 10.2771635055542 W\n[codecarbon INFO @ 16:17:50] Energy consumed for all GPUs : 0.036071 kWh. Total GPU Power : 69.68250557752133 W\n[codecarbon INFO @ 16:17:50] Energy consumed for all CPUs : 0.023905 kWh. Total CPU Power : 42.5 W\n[codecarbon INFO @ 16:17:50] 0.065755 kWh of electricity used since the beginning.\n[codecarbon INFO @ 16:17:56] Energy consumed for RAM : 0.006086 kWh. RAM Power : 10.2771635055542 W\n[codecarbon INFO @ 16:17:56] Energy consumed for all GPUs : 0.036665 kWh. Total GPU Power : 69.6048262602766 W\n[codecarbon INFO @ 16:17:56] Energy consumed for all CPUs : 0.025179 kWh. Total CPU Power : 42.5 W\n[codecarbon INFO @ 16:17:56] 0.067930 kWh of electricity used since the beginning.\n[codecarbon INFO @ 16:18:05] Energy consumed for RAM : 0.005822 kWh. RAM Power : 10.2771635055542 W\n[codecarbon INFO @ 16:18:05] Energy consumed for all GPUs : 0.036361 kWh. Total GPU Power : 69.56539960887446 W\n[codecarbon INFO @ 16:18:05] Energy consumed for all CPUs : 0.024082 kWh. Total CPU Power : 42.5 W\n[codecarbon INFO @ 16:18:05] 0.066265 kWh of electricity used since the beginning.\n[codecarbon INFO @ 16:18:11] Energy consumed for RAM : 0.006129 kWh. RAM Power : 10.2771635055542 W\n[codecarbon INFO @ 16:18:11] Energy consumed for all GPUs : 0.036955 kWh. Total GPU Power : 69.64958740112507 W\n[codecarbon INFO @ 16:18:11] Energy consumed for all CPUs : 0.025356 kWh. Total CPU Power : 42.5 W\n[codecarbon INFO @ 16:18:11] 0.068440 kWh of electricity used since the beginning.\n[codecarbon INFO @ 16:18:20] Energy consumed for RAM : 0.005864 kWh. RAM Power : 10.2771635055542 W\n[codecarbon INFO @ 16:18:20] Energy consumed for all GPUs : 0.036651 kWh. Total GPU Power : 69.69987225971182 W\n[codecarbon INFO @ 16:18:20] Energy consumed for all CPUs : 0.024259 kWh. Total CPU Power : 42.5 W\n[codecarbon INFO @ 16:18:20] 0.066775 kWh of electricity used since the beginning.\n[codecarbon INFO @ 16:18:26] Energy consumed for RAM : 0.006172 kWh. RAM Power : 10.2771635055542 W\n[codecarbon INFO @ 16:18:26] Energy consumed for all GPUs : 0.037245 kWh. Total GPU Power : 69.65437430267771 W\n[codecarbon INFO @ 16:18:26] Energy consumed for all CPUs : 0.025533 kWh. Total CPU Power : 42.5 W\n[codecarbon INFO @ 16:18:26] 0.068950 kWh of electricity used since the beginning.\n[codecarbon INFO @ 16:18:35] Energy consumed for RAM : 0.005907 kWh. RAM Power : 10.2771635055542 W\n[codecarbon INFO @ 16:18:35] Energy consumed for all GPUs : 0.036939 kWh. Total GPU Power : 69.18719770484046 W\n[codecarbon INFO @ 16:18:35] Energy consumed for all CPUs : 0.024436 kWh. Total CPU Power : 42.5 W\n[codecarbon INFO @ 16:18:35] 0.067283 kWh of electricity used since the beginning.\n[codecarbon INFO @ 16:18:41] Energy consumed for RAM : 0.006215 kWh. RAM Power : 10.2771635055542 W\n[codecarbon INFO @ 16:18:41] Energy consumed for all GPUs : 0.037535 kWh. Total GPU Power : 69.65292742653818 W\n[codecarbon INFO @ 16:18:41] Energy consumed for all CPUs : 0.025710 kWh. Total CPU Power : 42.5 W\n[codecarbon INFO @ 16:18:41] 0.069460 kWh of electricity used since the beginning.\n[codecarbon INFO @ 16:18:50] Energy consumed for RAM : 0.005950 kWh. RAM Power : 10.2771635055542 W\n[codecarbon INFO @ 16:18:50] Energy consumed for all GPUs : 0.037229 kWh. Total GPU Power : 69.67288143076118 W\n[codecarbon INFO @ 16:18:50] Energy consumed for all CPUs : 0.024614 kWh. Total CPU Power : 42.5 W\n[codecarbon INFO @ 16:18:50] 0.067793 kWh of electricity used since the beginning.\n[codecarbon INFO @ 16:18:56] Energy consumed for RAM : 0.006258 kWh. RAM Power : 10.2771635055542 W\n[codecarbon INFO @ 16:18:56] Energy consumed for all GPUs : 0.037825 kWh. Total GPU Power : 69.58360666155168 W\n[codecarbon INFO @ 16:18:56] Energy consumed for all CPUs : 0.025887 kWh. Total CPU Power : 42.5 W\n[codecarbon INFO @ 16:18:56] 0.069970 kWh of electricity used since the beginning.\n[codecarbon INFO @ 16:19:05] Energy consumed for RAM : 0.005993 kWh. RAM Power : 10.2771635055542 W\n[codecarbon INFO @ 16:19:05] Energy consumed for all GPUs : 0.037519 kWh. Total GPU Power : 69.5649634215772 W\n[codecarbon INFO @ 16:19:05] Energy consumed for all CPUs : 0.024791 kWh. Total CPU Power : 42.5 W\n[codecarbon INFO @ 16:19:05] 0.068302 kWh of electricity used since the beginning.\n[codecarbon INFO @ 16:19:11] Energy consumed for RAM : 0.006301 kWh. RAM Power : 10.2771635055542 W\n[codecarbon INFO @ 16:19:11] Energy consumed for all GPUs : 0.038115 kWh. Total GPU Power : 69.68436649233946 W\n[codecarbon INFO @ 16:19:11] Energy consumed for all CPUs : 0.026064 kWh. Total CPU Power : 42.5 W\n[codecarbon INFO @ 16:19:11] 0.070480 kWh of electricity used since the beginning.\n[codecarbon INFO @ 16:19:20] Energy consumed for RAM : 0.006036 kWh. RAM Power : 10.2771635055542 W\n[codecarbon INFO @ 16:19:20] Energy consumed for all GPUs : 0.037809 kWh. Total GPU Power : 69.65535284310282 W\n[codecarbon INFO @ 16:19:20] Energy consumed for all CPUs : 0.024968 kWh. Total CPU Power : 42.5 W\n[codecarbon INFO @ 16:19:20] 0.068812 kWh of electricity used since the beginning.\n[codecarbon INFO @ 16:19:26] Energy consumed for RAM : 0.006343 kWh. RAM Power : 10.2771635055542 W\n[codecarbon INFO @ 16:19:26] Energy consumed for all GPUs : 0.038406 kWh. Total GPU Power : 69.67074582864535 W\n[codecarbon INFO @ 16:19:26] Energy consumed for all CPUs : 0.026241 kWh. Total CPU Power : 42.5 W\n[codecarbon INFO @ 16:19:26] 0.070990 kWh of electricity used since the beginning.\n[codecarbon INFO @ 16:19:35] Energy consumed for RAM : 0.006078 kWh. RAM Power : 10.2771635055542 W\n[codecarbon INFO @ 16:19:35] Energy consumed for all GPUs : 0.038099 kWh. Total GPU Power : 69.67037946728955 W\n[codecarbon INFO @ 16:19:35] Energy consumed for all CPUs : 0.025145 kWh. Total CPU Power : 42.5 W\n[codecarbon INFO @ 16:19:35] 0.069322 kWh of electricity used since the beginning.\n[codecarbon INFO @ 16:19:41] Energy consumed for RAM : 0.006386 kWh. RAM Power : 10.2771635055542 W\n[codecarbon INFO @ 16:19:41] Energy consumed for all GPUs : 0.038695 kWh. Total GPU Power : 69.57830489355524 W\n[codecarbon INFO @ 16:19:41] Energy consumed for all CPUs : 0.026418 kWh. Total CPU Power : 42.5 W\n[codecarbon INFO @ 16:19:41] 0.071500 kWh of electricity used since the beginning.\n[codecarbon INFO @ 16:19:50] Energy consumed for RAM : 0.006121 kWh. RAM Power : 10.2771635055542 W\n[codecarbon INFO @ 16:19:50] Energy consumed for all GPUs : 0.038389 kWh. Total GPU Power : 69.59350990954555 W\n[codecarbon INFO @ 16:19:50] Energy consumed for all CPUs : 0.025322 kWh. Total CPU Power : 42.5 W\n[codecarbon INFO @ 16:19:50] 0.069832 kWh of electricity used since the beginning.\n[codecarbon INFO @ 16:19:56] Energy consumed for RAM : 0.006429 kWh. RAM Power : 10.2771635055542 W\n[codecarbon INFO @ 16:19:56] Energy consumed for all GPUs : 0.038985 kWh. Total GPU Power : 69.57306758578815 W\n[codecarbon INFO @ 16:19:56] Energy consumed for all CPUs : 0.026595 kWh. Total CPU Power : 42.5 W\n[codecarbon INFO @ 16:19:56] 0.072009 kWh of electricity used since the beginning.\n[codecarbon INFO @ 16:20:05] Energy consumed for RAM : 0.006164 kWh. RAM Power : 10.2771635055542 W\n[codecarbon INFO @ 16:20:05] Energy consumed for all GPUs : 0.038679 kWh. Total GPU Power : 69.64653461585519 W\n[codecarbon INFO @ 16:20:05] Energy consumed for all CPUs : 0.025499 kWh. Total CPU Power : 42.5 W\n[codecarbon INFO @ 16:20:05] 0.070342 kWh of electricity used since the beginning.\n[codecarbon INFO @ 16:20:11] Energy consumed for RAM : 0.006472 kWh. RAM Power : 10.2771635055542 W\n[codecarbon INFO @ 16:20:11] Energy consumed for all GPUs : 0.039275 kWh. Total GPU Power : 69.64121045324708 W\n[codecarbon INFO @ 16:20:11] Energy consumed for all CPUs : 0.026772 kWh. Total CPU Power : 42.5 W\n[codecarbon INFO @ 16:20:11] 0.072519 kWh of electricity used since the beginning.\n[codecarbon INFO @ 16:20:20] Energy consumed for RAM : 0.006207 kWh. RAM Power : 10.2771635055542 W\n[codecarbon INFO @ 16:20:20] Energy consumed for all GPUs : 0.038969 kWh. Total GPU Power : 69.56077607827281 W\n[codecarbon INFO @ 16:20:20] Energy consumed for all CPUs : 0.025676 kWh. Total CPU Power : 42.5 W\n[codecarbon INFO @ 16:20:20] 0.070852 kWh of electricity used since the beginning.\n[codecarbon INFO @ 16:20:26] Energy consumed for RAM : 0.006515 kWh. RAM Power : 10.2771635055542 W\n[codecarbon INFO @ 16:20:26] Energy consumed for all GPUs : 0.039566 kWh. Total GPU Power : 69.71328169029722 W\n[codecarbon INFO @ 16:20:26] Energy consumed for all CPUs : 0.026949 kWh. Total CPU Power : 42.5 W\n[codecarbon INFO @ 16:20:26] 0.073030 kWh of electricity used since the beginning.\n[codecarbon INFO @ 16:20:35] Energy consumed for RAM : 0.006250 kWh. RAM Power : 10.2771635055542 W\n[codecarbon INFO @ 16:20:35] Energy consumed for all GPUs : 0.039260 kWh. Total GPU Power : 69.73193436636136 W\n[codecarbon INFO @ 16:20:35] Energy consumed for all CPUs : 0.025853 kWh. Total CPU Power : 42.5 W\n[codecarbon INFO @ 16:20:35] 0.071362 kWh of electricity used since the beginning.\n[codecarbon INFO @ 16:20:41] Energy consumed for RAM : 0.006557 kWh. RAM Power : 10.2771635055542 W\n[codecarbon INFO @ 16:20:41] Energy consumed for all GPUs : 0.039854 kWh. Total GPU Power : 69.14400479691137 W\n[codecarbon INFO @ 16:20:41] Energy consumed for all CPUs : 0.027127 kWh. Total CPU Power : 42.5 W\n[codecarbon INFO @ 16:20:41] 0.073538 kWh of electricity used since the beginning.\n[codecarbon INFO @ 16:20:50] Energy consumed for RAM : 0.006292 kWh. RAM Power : 10.2771635055542 W\n[codecarbon INFO @ 16:20:50] Energy consumed for all GPUs : 0.039550 kWh. Total GPU Power : 69.61954462403965 W\n[codecarbon INFO @ 16:20:50] Energy consumed for all CPUs : 0.026030 kWh. Total CPU Power : 42.5 W\n[codecarbon INFO @ 16:20:50] 0.071872 kWh of electricity used since the beginning.\n[codecarbon INFO @ 16:20:56] Energy consumed for RAM : 0.006600 kWh. RAM Power : 10.2771635055542 W\n[codecarbon INFO @ 16:20:56] Energy consumed for all GPUs : 0.040144 kWh. Total GPU Power : 69.57705387473449 W\n[codecarbon INFO @ 16:20:56] Energy consumed for all CPUs : 0.027304 kWh. Total CPU Power : 42.5 W\n[codecarbon INFO @ 16:20:56] 0.074047 kWh of electricity used since the beginning.\n[codecarbon INFO @ 16:21:05] Energy consumed for RAM : 0.006335 kWh. RAM Power : 10.2771635055542 W\n[codecarbon INFO @ 16:21:05] Energy consumed for all GPUs : 0.039839 kWh. Total GPU Power : 69.57280959000946 W\n[codecarbon INFO @ 16:21:05] Energy consumed for all CPUs : 0.026207 kWh. Total CPU Power : 42.5 W\n[codecarbon INFO @ 16:21:05] 0.072382 kWh of electricity used since the beginning.\n[codecarbon INFO @ 16:21:11] Energy consumed for RAM : 0.006643 kWh. RAM Power : 10.2771635055542 W\n[codecarbon INFO @ 16:21:11] Energy consumed for all GPUs : 0.040433 kWh. Total GPU Power : 69.52991292042712 W\n[codecarbon INFO @ 16:21:11] Energy consumed for all CPUs : 0.027481 kWh. Total CPU Power : 42.5 W\n[codecarbon INFO @ 16:21:11] 0.074557 kWh of electricity used since the beginning.\n[codecarbon INFO @ 16:21:20] Energy consumed for RAM : 0.006378 kWh. RAM Power : 10.2771635055542 W\n[codecarbon INFO @ 16:21:20] Energy consumed for all GPUs : 0.040129 kWh. Total GPU Power : 69.56345080767109 W\n[codecarbon INFO @ 16:21:20] Energy consumed for all CPUs : 0.026384 kWh. Total CPU Power : 42.5 W\n[codecarbon INFO @ 16:21:20] 0.072891 kWh of electricity used since the beginning.\n[codecarbon INFO @ 16:21:26] Energy consumed for RAM : 0.006686 kWh. RAM Power : 10.2771635055542 W\n[codecarbon INFO @ 16:21:26] Energy consumed for all GPUs : 0.040724 kWh. Total GPU Power : 69.7093969325491 W\n[codecarbon INFO @ 16:21:26] Energy consumed for all CPUs : 0.027658 kWh. Total CPU Power : 42.5 W\n[codecarbon INFO @ 16:21:26] 0.075067 kWh of electricity used since the beginning.\n[codecarbon INFO @ 16:21:35] Energy consumed for RAM : 0.006421 kWh. RAM Power : 10.2771635055542 W\n[codecarbon INFO @ 16:21:35] Energy consumed for all GPUs : 0.040420 kWh. Total GPU Power : 69.74336767152259 W\n[codecarbon INFO @ 16:21:35] Energy consumed for all CPUs : 0.026561 kWh. Total CPU Power : 42.5 W\n[codecarbon INFO @ 16:21:35] 0.073402 kWh of electricity used since the beginning.\n[codecarbon INFO @ 16:21:41] Energy consumed for RAM : 0.006729 kWh. RAM Power : 10.2771635055542 W\n[codecarbon INFO @ 16:21:41] Energy consumed for all GPUs : 0.041014 kWh. Total GPU Power : 69.76801491268714 W\n[codecarbon INFO @ 16:21:41] Energy consumed for all CPUs : 0.027835 kWh. Total CPU Power : 42.5 W\n[codecarbon INFO @ 16:21:41] 0.075578 kWh of electricity used since the beginning.\n[codecarbon INFO @ 16:21:50] Energy consumed for RAM : 0.006464 kWh. RAM Power : 10.2771635055542 W\n[codecarbon INFO @ 16:21:50] Energy consumed for all GPUs : 0.040710 kWh. Total GPU Power : 69.65144518180524 W\n[codecarbon INFO @ 16:21:50] Energy consumed for all CPUs : 0.026738 kWh. Total CPU Power : 42.5 W\n[codecarbon INFO @ 16:21:50] 0.073912 kWh of electricity used since the beginning.\n[codecarbon INFO @ 16:21:56] Energy consumed for RAM : 0.006771 kWh. RAM Power : 10.2771635055542 W\n[codecarbon INFO @ 16:21:56] Energy consumed for all GPUs : 0.041304 kWh. Total GPU Power : 69.52395192974393 W\n[codecarbon INFO @ 16:21:56] Energy consumed for all CPUs : 0.028012 kWh. Total CPU Power : 42.5 W\n[codecarbon INFO @ 16:21:56] 0.076087 kWh of electricity used since the beginning.\n[codecarbon INFO @ 16:22:05] Energy consumed for RAM : 0.006506 kWh. RAM Power : 10.2771635055542 W\n[codecarbon INFO @ 16:22:05] Energy consumed for all GPUs : 0.041000 kWh. Total GPU Power : 69.57765350185083 W\n[codecarbon INFO @ 16:22:05] Energy consumed for all CPUs : 0.026916 kWh. Total CPU Power : 42.5 W\n[codecarbon INFO @ 16:22:05] 0.074422 kWh of electricity used since the beginning.\n[codecarbon INFO @ 16:22:11] Energy consumed for RAM : 0.006814 kWh. RAM Power : 10.2771635055542 W\n[codecarbon INFO @ 16:22:11] Energy consumed for all GPUs : 0.041594 kWh. Total GPU Power : 69.61843159154992 W\n[codecarbon INFO @ 16:22:11] Energy consumed for all CPUs : 0.028189 kWh. Total CPU Power : 42.5 W\n[codecarbon INFO @ 16:22:11] 0.076597 kWh of electricity used since the beginning.\n[codecarbon INFO @ 16:22:20] Energy consumed for RAM : 0.006549 kWh. RAM Power : 10.2771635055542 W\n[codecarbon INFO @ 16:22:20] Energy consumed for all GPUs : 0.041289 kWh. Total GPU Power : 69.5155878964215 W\n[codecarbon INFO @ 16:22:20] Energy consumed for all CPUs : 0.027093 kWh. Total CPU Power : 42.5 W\n[codecarbon INFO @ 16:22:20] 0.074931 kWh of electricity used since the beginning.\n[codecarbon INFO @ 16:22:26] Energy consumed for RAM : 0.006857 kWh. RAM Power : 10.2771635055542 W\n[codecarbon INFO @ 16:22:26] Energy consumed for all GPUs : 0.041884 kWh. Total GPU Power : 69.63051846365335 W\n[codecarbon INFO @ 16:22:26] Energy consumed for all CPUs : 0.028366 kWh. Total CPU Power : 42.5 W\n[codecarbon INFO @ 16:22:26] 0.077107 kWh of electricity used since the beginning.\n[codecarbon INFO @ 16:22:35] Energy consumed for RAM : 0.006592 kWh. RAM Power : 10.2771635055542 W\n[codecarbon INFO @ 16:22:35] Energy consumed for all GPUs : 0.041580 kWh. Total GPU Power : 69.75131086874505 W\n[codecarbon INFO @ 16:22:35] Energy consumed for all CPUs : 0.027270 kWh. Total CPU Power : 42.5 W\n[codecarbon INFO @ 16:22:35] 0.075441 kWh of electricity used since the beginning.\n[codecarbon INFO @ 16:22:41] Energy consumed for RAM : 0.006900 kWh. RAM Power : 10.2771635055542 W\n[codecarbon INFO @ 16:22:41] Energy consumed for all GPUs : 0.042174 kWh. Total GPU Power : 69.67616222430247 W\n[codecarbon INFO @ 16:22:41] Energy consumed for all CPUs : 0.028543 kWh. Total CPU Power : 42.5 W\n[codecarbon INFO @ 16:22:41] 0.077617 kWh of electricity used since the beginning.\n[codecarbon INFO @ 16:22:50] Energy consumed for RAM : 0.006635 kWh. RAM Power : 10.2771635055542 W\n[codecarbon INFO @ 16:22:50] Energy consumed for all GPUs : 0.041868 kWh. Total GPU Power : 69.20020620135247 W\n[codecarbon INFO @ 16:22:50] Energy consumed for all CPUs : 0.027447 kWh. Total CPU Power : 42.5 W\n[codecarbon INFO @ 16:22:50] 0.075949 kWh of electricity used since the beginning.\n[codecarbon INFO @ 16:22:56] Energy consumed for RAM : 0.006943 kWh. RAM Power : 10.2771635055542 W\n[codecarbon INFO @ 16:22:56] Energy consumed for all GPUs : 0.042464 kWh. Total GPU Power : 69.62124116823244 W\n[codecarbon INFO @ 16:22:56] Energy consumed for all CPUs : 0.028720 kWh. Total CPU Power : 42.5 W\n[codecarbon INFO @ 16:22:56] 0.078127 kWh of electricity used since the beginning.\n[codecarbon INFO @ 16:23:05] Energy consumed for RAM : 0.006678 kWh. RAM Power : 10.2771635055542 W\n[codecarbon INFO @ 16:23:05] Energy consumed for all GPUs : 0.042158 kWh. Total GPU Power : 69.62594593788833 W\n[codecarbon INFO @ 16:23:05] Energy consumed for all CPUs : 0.027624 kWh. Total CPU Power : 42.5 W\n[codecarbon INFO @ 16:23:05] 0.076459 kWh of electricity used since the beginning.\n[codecarbon INFO @ 16:23:11] Energy consumed for RAM : 0.006985 kWh. RAM Power : 10.2771635055542 W\n[codecarbon INFO @ 16:23:11] Energy consumed for all GPUs : 0.042754 kWh. Total GPU Power : 69.57015623378999 W\n[codecarbon INFO @ 16:23:11] Energy consumed for all CPUs : 0.028897 kWh. Total CPU Power : 42.5 W\n[codecarbon INFO @ 16:23:11] 0.078637 kWh of electricity used since the beginning.\n[codecarbon INFO @ 16:23:20] Energy consumed for RAM : 0.006720 kWh. RAM Power : 10.2771635055542 W\n[codecarbon INFO @ 16:23:20] Energy consumed for all GPUs : 0.042448 kWh. Total GPU Power : 69.60673134574253 W\n[codecarbon INFO @ 16:23:20] Energy consumed for all CPUs : 0.027801 kWh. Total CPU Power : 42.5 W\n[codecarbon INFO @ 16:23:20] 0.076969 kWh of electricity used since the beginning.\n[codecarbon INFO @ 16:23:26] Energy consumed for RAM : 0.007028 kWh. RAM Power : 10.2771635055542 W\n[codecarbon INFO @ 16:23:26] Energy consumed for all GPUs : 0.043044 kWh. Total GPU Power : 69.63663920951026 W\n[codecarbon INFO @ 16:23:26] Energy consumed for all CPUs : 0.029074 kWh. Total CPU Power : 42.5 W\n[codecarbon INFO @ 16:23:26] 0.079146 kWh of electricity used since the beginning.\n[codecarbon INFO @ 16:23:35] Energy consumed for RAM : 0.006763 kWh. RAM Power : 10.2771635055542 W\n[codecarbon INFO @ 16:23:35] Energy consumed for all GPUs : 0.042738 kWh. Total GPU Power : 69.60959341097403 W\n[codecarbon INFO @ 16:23:35] Energy consumed for all CPUs : 0.027978 kWh. Total CPU Power : 42.5 W\n[codecarbon INFO @ 16:23:35] 0.077479 kWh of electricity used since the beginning.\n[codecarbon INFO @ 16:23:41] Energy consumed for RAM : 0.007071 kWh. RAM Power : 10.2771635055542 W\n[codecarbon INFO @ 16:23:41] Energy consumed for all GPUs : 0.043334 kWh. Total GPU Power : 69.6185289515752 W\n[codecarbon INFO @ 16:23:41] Energy consumed for all CPUs : 0.029251 kWh. Total CPU Power : 42.5 W\n[codecarbon INFO @ 16:23:41] 0.079656 kWh of electricity used since the beginning.\n[codecarbon INFO @ 16:23:50] Energy consumed for RAM : 0.006806 kWh. RAM Power : 10.2771635055542 W\n[codecarbon INFO @ 16:23:50] Energy consumed for all GPUs : 0.043028 kWh. Total GPU Power : 69.68178788840652 W\n[codecarbon INFO @ 16:23:50] Energy consumed for all CPUs : 0.028155 kWh. Total CPU Power : 42.5 W\n[codecarbon INFO @ 16:23:50] 0.077989 kWh of electricity used since the beginning.\n[codecarbon INFO @ 16:23:56] Energy consumed for RAM : 0.007114 kWh. RAM Power : 10.2771635055542 W\n[codecarbon INFO @ 16:23:56] Energy consumed for all GPUs : 0.043622 kWh. Total GPU Power : 69.2238303209198 W\n[codecarbon INFO @ 16:23:56] Energy consumed for all CPUs : 0.029428 kWh. Total CPU Power : 42.5 W\n[codecarbon INFO @ 16:23:56] 0.080165 kWh of electricity used since the beginning.\n[codecarbon INFO @ 16:24:05] Energy consumed for RAM : 0.006849 kWh. RAM Power : 10.2771635055542 W\n[codecarbon INFO @ 16:24:05] Energy consumed for all GPUs : 0.043318 kWh. Total GPU Power : 69.60978670161302 W\n[codecarbon INFO @ 16:24:05] Energy consumed for all CPUs : 0.028332 kWh. Total CPU Power : 42.5 W\n[codecarbon INFO @ 16:24:05] 0.078499 kWh of electricity used since the beginning.\n[codecarbon INFO @ 16:24:11] Energy consumed for RAM : 0.007157 kWh. RAM Power : 10.2771635055542 W\n[codecarbon INFO @ 16:24:11] Energy consumed for all GPUs : 0.043912 kWh. Total GPU Power : 69.55900364460292 W\n[codecarbon INFO @ 16:24:11] Energy consumed for all CPUs : 0.029606 kWh. Total CPU Power : 42.5 W\n[codecarbon INFO @ 16:24:11] 0.080674 kWh of electricity used since the beginning.\n[codecarbon INFO @ 16:24:20] Energy consumed for RAM : 0.006892 kWh. RAM Power : 10.2771635055542 W\n[codecarbon INFO @ 16:24:20] Energy consumed for all GPUs : 0.043608 kWh. Total GPU Power : 69.57326357069023 W\n[codecarbon INFO @ 16:24:20] Energy consumed for all CPUs : 0.028509 kWh. Total CPU Power : 42.5 W\n[codecarbon INFO @ 16:24:20] 0.079009 kWh of electricity used since the beginning.\n[codecarbon INFO @ 16:24:26] Energy consumed for RAM : 0.007199 kWh. RAM Power : 10.2771635055542 W\n[codecarbon INFO @ 16:24:26] Energy consumed for all GPUs : 0.044202 kWh. Total GPU Power : 69.61029834013162 W\n[codecarbon INFO @ 16:24:26] Energy consumed for all CPUs : 0.029783 kWh. Total CPU Power : 42.5 W\n[codecarbon INFO @ 16:24:26] 0.081184 kWh of electricity used since the beginning.\n[codecarbon INFO @ 16:24:35] Energy consumed for RAM : 0.006934 kWh. RAM Power : 10.2771635055542 W\n[codecarbon INFO @ 16:24:35] Energy consumed for all GPUs : 0.043898 kWh. Total GPU Power : 69.62674201429705 W\n[codecarbon INFO @ 16:24:35] Energy consumed for all CPUs : 0.028686 kWh. Total CPU Power : 42.5 W\n[codecarbon INFO @ 16:24:35] 0.079518 kWh of electricity used since the beginning.\n[codecarbon INFO @ 16:24:41] Energy consumed for RAM : 0.007242 kWh. RAM Power : 10.2771635055542 W\n[codecarbon INFO @ 16:24:41] Energy consumed for all GPUs : 0.044487 kWh. Total GPU Power : 68.5084578230471 W\n[codecarbon INFO @ 16:24:41] Energy consumed for all CPUs : 0.029960 kWh. Total CPU Power : 42.5 W\n[codecarbon INFO @ 16:24:41] 0.081689 kWh of electricity used since the beginning.\n[codecarbon INFO @ 16:24:50] Energy consumed for RAM : 0.006977 kWh. RAM Power : 10.2771635055542 W\n[codecarbon INFO @ 16:24:50] Energy consumed for all GPUs : 0.044088 kWh. Total GPU Power : 45.626248202717036 W\n[codecarbon INFO @ 16:24:50] Energy consumed for all CPUs : 0.028863 kWh. Total CPU Power : 42.5 W\n[codecarbon INFO @ 16:24:50] 0.079928 kWh of electricity used since the beginning.\n[codecarbon INFO @ 16:24:56] Energy consumed for RAM : 0.007285 kWh. RAM Power : 10.2771635055542 W\n[codecarbon INFO @ 16:24:56] Energy consumed for all GPUs : 0.044616 kWh. Total GPU Power : 30.888162329112603 W\n[codecarbon INFO @ 16:24:56] Energy consumed for all CPUs : 0.030137 kWh. Total CPU Power : 42.5 W\n[codecarbon INFO @ 16:24:56] 0.082038 kWh of electricity used since the beginning.\n[codecarbon INFO @ 16:25:05] Energy consumed for RAM : 0.007020 kWh. RAM Power : 10.2771635055542 W\n[codecarbon INFO @ 16:25:05] Energy consumed for all GPUs : 0.044210 kWh. Total GPU Power : 29.3865035915236 W\n[codecarbon INFO @ 16:25:05] Energy consumed for all CPUs : 0.029040 kWh. Total CPU Power : 42.5 W\n[codecarbon INFO @ 16:25:05] 0.080271 kWh of electricity used since the beginning.\n[codecarbon INFO @ 16:25:11] Energy consumed for RAM : 0.007328 kWh. RAM Power : 10.2771635055542 W\n[codecarbon INFO @ 16:25:11] Energy consumed for all GPUs : 0.044737 kWh. Total GPU Power : 29.13447628900037 W\n[codecarbon INFO @ 16:25:11] Energy consumed for all CPUs : 0.030314 kWh. Total CPU Power : 42.5 W\n[codecarbon INFO @ 16:25:11] 0.082379 kWh of electricity used since the beginning.\n[codecarbon INFO @ 16:25:20] Energy consumed for RAM : 0.007063 kWh. RAM Power : 10.2771635055542 W\n[codecarbon INFO @ 16:25:20] Energy consumed for all GPUs : 0.044330 kWh. Total GPU Power : 28.815974427765102 W\n[codecarbon INFO @ 16:25:20] Energy consumed for all CPUs : 0.029218 kWh. Total CPU Power : 42.5 W\n[codecarbon INFO @ 16:25:20] 0.080611 kWh of electricity used since the beginning.\n[codecarbon INFO @ 16:25:26] Energy consumed for RAM : 0.007371 kWh. RAM Power : 10.2771635055542 W\n[codecarbon INFO @ 16:25:26] Energy consumed for all GPUs : 0.044857 kWh. Total GPU Power : 28.630949178375534 W\n[codecarbon INFO @ 16:25:26] Energy consumed for all CPUs : 0.030491 kWh. Total CPU Power : 42.5 W\n[codecarbon INFO @ 16:25:26] 0.082718 kWh of electricity used since the beginning.\n[codecarbon INFO @ 16:25:35] Energy consumed for RAM : 0.007106 kWh. RAM Power : 10.2771635055542 W\n[codecarbon INFO @ 16:25:35] Energy consumed for all GPUs : 0.044449 kWh. Total GPU Power : 28.571979257841026 W\n[codecarbon INFO @ 16:25:35] Energy consumed for all CPUs : 0.029395 kWh. Total CPU Power : 42.5 W\n[codecarbon INFO @ 16:25:35] 0.080950 kWh of electricity used since the beginning.\n[codecarbon INFO @ 16:25:41] Energy consumed for RAM : 0.007413 kWh. RAM Power : 10.2771635055542 W\n[codecarbon INFO @ 16:25:41] Energy consumed for all GPUs : 0.044975 kWh. Total GPU Power : 28.433611179646125 W\n[codecarbon INFO @ 16:25:41] Energy consumed for all CPUs : 0.030668 kWh. Total CPU Power : 42.5 W\n[codecarbon INFO @ 16:25:41] 0.083057 kWh of electricity used since the beginning.\n[codecarbon INFO @ 16:25:50] Energy consumed for RAM : 0.007148 kWh. RAM Power : 10.2771635055542 W\n[codecarbon INFO @ 16:25:50] Energy consumed for all GPUs : 0.044566 kWh. Total GPU Power : 28.079784184555653 W\n[codecarbon INFO @ 16:25:50] Energy consumed for all CPUs : 0.029572 kWh. Total CPU Power : 42.5 W\n[codecarbon INFO @ 16:25:50] 0.081286 kWh of electricity used since the beginning.\n[codecarbon INFO @ 16:25:56] Energy consumed for RAM : 0.007456 kWh. RAM Power : 10.2771635055542 W\n[codecarbon INFO @ 16:25:56] Energy consumed for all GPUs : 0.045092 kWh. Total GPU Power : 28.021706537343707 W\n[codecarbon INFO @ 16:25:56] Energy consumed for all CPUs : 0.030845 kWh. Total CPU Power : 42.5 W\n[codecarbon INFO @ 16:25:56] 0.083393 kWh of electricity used since the beginning.\n[codecarbon INFO @ 16:26:05] Energy consumed for RAM : 0.007191 kWh. RAM Power : 10.2771635055542 W\n[codecarbon INFO @ 16:26:05] Energy consumed for all GPUs : 0.044683 kWh. Total GPU Power : 28.111087269293666 W\n[codecarbon INFO @ 16:26:05] Energy consumed for all CPUs : 0.029749 kWh. Total CPU Power : 42.5 W\n[codecarbon INFO @ 16:26:05] 0.081623 kWh of electricity used since the beginning.\n[codecarbon INFO @ 16:26:11] Energy consumed for RAM : 0.007499 kWh. RAM Power : 10.2771635055542 W\n[codecarbon INFO @ 16:26:11] Energy consumed for all GPUs : 0.045209 kWh. Total GPU Power : 28.013419074146125 W\n[codecarbon INFO @ 16:26:11] Energy consumed for all CPUs : 0.031022 kWh. Total CPU Power : 42.5 W\n[codecarbon INFO @ 16:26:11] 0.083730 kWh of electricity used since the beginning.\n[codecarbon INFO @ 16:26:20] Energy consumed for RAM : 0.007234 kWh. RAM Power : 10.2771635055542 W\n[codecarbon INFO @ 16:26:20] Energy consumed for all GPUs : 0.044799 kWh. Total GPU Power : 27.691562976782933 W\n[codecarbon INFO @ 16:26:20] Energy consumed for all CPUs : 0.029926 kWh. Total CPU Power : 42.5 W\n[codecarbon INFO @ 16:26:20] 0.081959 kWh of electricity used since the beginning.\n[codecarbon INFO @ 16:26:26] Energy consumed for RAM : 0.007542 kWh. RAM Power : 10.2771635055542 W\n[codecarbon INFO @ 16:26:26] Energy consumed for all GPUs : 0.045324 kWh. Total GPU Power : 27.609209852419603 W\n[codecarbon INFO @ 16:26:26] Energy consumed for all CPUs : 0.031199 kWh. Total CPU Power : 42.5 W\n[codecarbon INFO @ 16:26:26] 0.084065 kWh of electricity used since the beginning.\n[codecarbon INFO @ 16:26:35] Energy consumed for RAM : 0.007277 kWh. RAM Power : 10.2771635055542 W\n[codecarbon INFO @ 16:26:35] Energy consumed for all GPUs : 0.044913 kWh. Total GPU Power : 27.50455072350691 W\n[codecarbon INFO @ 16:26:35] Energy consumed for all CPUs : 0.030103 kWh. Total CPU Power : 42.5 W\n[codecarbon INFO @ 16:26:35] 0.082293 kWh of electricity used since the beginning.\n[codecarbon INFO @ 16:26:41] Energy consumed for RAM : 0.007585 kWh. RAM Power : 10.2771635055542 W\n[codecarbon INFO @ 16:26:41] Energy consumed for all GPUs : 0.045438 kWh. Total GPU Power : 27.435672253311168 W\n[codecarbon INFO @ 16:26:41] Energy consumed for all CPUs : 0.031376 kWh. Total CPU Power : 42.5 W\n[codecarbon INFO @ 16:26:41] 0.084399 kWh of electricity used since the beginning.\n[codecarbon INFO @ 16:26:50] Energy consumed for RAM : 0.007320 kWh. RAM Power : 10.2771635055542 W\n[codecarbon INFO @ 16:26:50] Energy consumed for all GPUs : 0.045130 kWh. Total GPU Power : 52.12229073339856 W\n[codecarbon INFO @ 16:26:50] Energy consumed for all CPUs : 0.030280 kWh. Total CPU Power : 42.5 W\n[codecarbon INFO @ 16:26:50] 0.082730 kWh of electricity used since the beginning.\n[codecarbon INFO @ 16:26:56] Energy consumed for RAM : 0.007628 kWh. RAM Power : 10.2771635055542 W\n[codecarbon INFO @ 16:26:56] Energy consumed for all GPUs : 0.045725 kWh. Total GPU Power : 68.87035027885123 W\n[codecarbon INFO @ 16:26:56] Energy consumed for all CPUs : 0.031553 kWh. Total CPU Power : 42.5 W\n[codecarbon INFO @ 16:26:56] 0.084906 kWh of electricity used since the beginning.\n[codecarbon INFO @ 16:27:05] Energy consumed for RAM : 0.007363 kWh. RAM Power : 10.2771635055542 W\n[codecarbon INFO @ 16:27:05] Energy consumed for all GPUs : 0.045421 kWh. Total GPU Power : 69.64834773836562 W\n[codecarbon INFO @ 16:27:05] Energy consumed for all CPUs : 0.030457 kWh. Total CPU Power : 42.5 W\n[codecarbon INFO @ 16:27:05] 0.083240 kWh of electricity used since the beginning.\n/anaconda/envs/azureml_py38/lib/python3.8/site-packages/sklearn/metrics/_classification.py:1272: UndefinedMetricWarning: Precision is ill-defined and being set to 0.0 in samples with no predicted labels. Use `zero_division` parameter to control this behavior.\n  _warn_prf(average, modifier, msg_start, len(result))\n/anaconda/envs/azureml_py38/lib/python3.8/site-packages/sklearn/metrics/_classification.py:1272: UndefinedMetricWarning: Recall is ill-defined and being set to 0.0 in samples with no true labels. Use `zero_division` parameter to control this behavior.\n  _warn_prf(average, modifier, msg_start, len(result))\n/anaconda/envs/azureml_py38/lib/python3.8/site-packages/sklearn/metrics/_classification.py:1514: UndefinedMetricWarning: F-score is ill-defined and being set to 0.0 in samples with no true nor predicted labels. Use `zero_division` parameter to control this behavior.\n  _warn_prf(\n[codecarbon INFO @ 16:27:11] Energy consumed for RAM : 0.007670 kWh. RAM Power : 10.2771635055542 W\n[codecarbon INFO @ 16:27:11] Energy consumed for all GPUs : 0.045971 kWh. Total GPU Power : 59.07248683972703 W\n[codecarbon INFO @ 16:27:11] Energy consumed for all CPUs : 0.031730 kWh. Total CPU Power : 42.5 W\n[codecarbon INFO @ 16:27:11] 0.085372 kWh of electricity used since the beginning.\n[codecarbon INFO @ 16:27:20] Energy consumed for RAM : 0.007405 kWh. RAM Power : 10.2771635055542 W\n[codecarbon INFO @ 16:27:20] Energy consumed for all GPUs : 0.045603 kWh. Total GPU Power : 43.6908377992092 W\n[codecarbon INFO @ 16:27:20] Energy consumed for all CPUs : 0.030634 kWh. Total CPU Power : 42.5 W\n[codecarbon INFO @ 16:27:20] 0.083642 kWh of electricity used since the beginning.\n[codecarbon INFO @ 16:27:26] Energy consumed for RAM : 0.007713 kWh. RAM Power : 10.2771635055542 W\n[codecarbon INFO @ 16:27:26] Energy consumed for all GPUs : 0.046189 kWh. Total GPU Power : 52.33631410151511 W\n[codecarbon INFO @ 16:27:26] Energy consumed for all CPUs : 0.031908 kWh. Total CPU Power : 42.5 W\n[codecarbon INFO @ 16:27:26] 0.085809 kWh of electricity used since the beginning.\n[codecarbon INFO @ 16:27:35] Energy consumed for RAM : 0.007448 kWh. RAM Power : 10.2771635055542 W\n[codecarbon INFO @ 16:27:35] Energy consumed for all GPUs : 0.045884 kWh. Total GPU Power : 67.66353807589532 W\n[codecarbon INFO @ 16:27:35] Energy consumed for all CPUs : 0.030811 kWh. Total CPU Power : 42.5 W\n[codecarbon INFO @ 16:27:35] 0.084144 kWh of electricity used since the beginning.\n[codecarbon INFO @ 16:27:41] Energy consumed for RAM : 0.007756 kWh. RAM Power : 10.2771635055542 W\n[codecarbon INFO @ 16:27:41] Energy consumed for all GPUs : 0.046479 kWh. Total GPU Power : 69.65113690717197 W\n[codecarbon INFO @ 16:27:41] Energy consumed for all CPUs : 0.032085 kWh. Total CPU Power : 42.5 W\n[codecarbon INFO @ 16:27:41] 0.086320 kWh of electricity used since the beginning.\n[codecarbon INFO @ 16:27:50] Energy consumed for RAM : 0.007491 kWh. RAM Power : 10.2771635055542 W\n[codecarbon INFO @ 16:27:50] Energy consumed for all GPUs : 0.046174 kWh. Total GPU Power : 69.65321359106683 W\n[codecarbon INFO @ 16:27:50] Energy consumed for all CPUs : 0.030988 kWh. Total CPU Power : 42.5 W\n[codecarbon INFO @ 16:27:50] 0.084654 kWh of electricity used since the beginning.\n[codecarbon INFO @ 16:27:56] Energy consumed for RAM : 0.007799 kWh. RAM Power : 10.2771635055542 W\n[codecarbon INFO @ 16:27:56] Energy consumed for all GPUs : 0.046769 kWh. Total GPU Power : 69.54607759804829 W\n[codecarbon INFO @ 16:27:56] Energy consumed for all CPUs : 0.032262 kWh. Total CPU Power : 42.5 W\n[codecarbon INFO @ 16:27:56] 0.086829 kWh of electricity used since the beginning.\n[codecarbon INFO @ 16:28:05] Energy consumed for RAM : 0.007534 kWh. RAM Power : 10.2771635055542 W\n[codecarbon INFO @ 16:28:05] Energy consumed for all GPUs : 0.046464 kWh. Total GPU Power : 69.56064744504023 W\n[codecarbon INFO @ 16:28:05] Energy consumed for all CPUs : 0.031165 kWh. Total CPU Power : 42.5 W\n[codecarbon INFO @ 16:28:05] 0.085163 kWh of electricity used since the beginning.\n[codecarbon INFO @ 16:28:11] Energy consumed for RAM : 0.007842 kWh. RAM Power : 10.2771635055542 W\n[codecarbon INFO @ 16:28:11] Energy consumed for all GPUs : 0.047058 kWh. Total GPU Power : 69.60143228053307 W\n[codecarbon INFO @ 16:28:11] Energy consumed for all CPUs : 0.032439 kWh. Total CPU Power : 42.5 W\n[codecarbon INFO @ 16:28:11] 0.087339 kWh of electricity used since the beginning.\n[codecarbon INFO @ 16:28:20] Energy consumed for RAM : 0.007577 kWh. RAM Power : 10.2771635055542 W\n[codecarbon INFO @ 16:28:20] Energy consumed for all GPUs : 0.046754 kWh. Total GPU Power : 69.6703601779201 W\n[codecarbon INFO @ 16:28:20] Energy consumed for all CPUs : 0.031342 kWh. Total CPU Power : 42.5 W\n[codecarbon INFO @ 16:28:20] 0.085673 kWh of electricity used since the beginning.\n[codecarbon INFO @ 16:28:26] Energy consumed for RAM : 0.007884 kWh. RAM Power : 10.2771635055542 W\n[codecarbon INFO @ 16:28:26] Energy consumed for all GPUs : 0.047348 kWh. Total GPU Power : 69.58570314972079 W\n[codecarbon INFO @ 16:28:26] Energy consumed for all CPUs : 0.032616 kWh. Total CPU Power : 42.5 W\n[codecarbon INFO @ 16:28:26] 0.087848 kWh of electricity used since the beginning.\n[codecarbon INFO @ 16:28:35] Energy consumed for RAM : 0.007619 kWh. RAM Power : 10.2771635055542 W\n[codecarbon INFO @ 16:28:35] Energy consumed for all GPUs : 0.047044 kWh. Total GPU Power : 69.49742681104406 W\n[codecarbon INFO @ 16:28:35] Energy consumed for all CPUs : 0.031520 kWh. Total CPU Power : 42.5 W\n[codecarbon INFO @ 16:28:35] 0.086183 kWh of electricity used since the beginning.\n[codecarbon INFO @ 16:28:41] Energy consumed for RAM : 0.007927 kWh. RAM Power : 10.2771635055542 W\n[codecarbon INFO @ 16:28:41] Energy consumed for all GPUs : 0.047638 kWh. Total GPU Power : 69.60712596048131 W\n[codecarbon INFO @ 16:28:41] Energy consumed for all CPUs : 0.032793 kWh. Total CPU Power : 42.5 W\n[codecarbon INFO @ 16:28:41] 0.088358 kWh of electricity used since the beginning.\n[codecarbon INFO @ 16:28:50] Energy consumed for RAM : 0.007662 kWh. RAM Power : 10.2771635055542 W\n[codecarbon INFO @ 16:28:50] Energy consumed for all GPUs : 0.047334 kWh. Total GPU Power : 69.62584168818543 W\n[codecarbon INFO @ 16:28:50] Energy consumed for all CPUs : 0.031697 kWh. Total CPU Power : 42.5 W\n[codecarbon INFO @ 16:28:50] 0.086693 kWh of electricity used since the beginning.\n[codecarbon INFO @ 16:28:56] Energy consumed for RAM : 0.007970 kWh. RAM Power : 10.2771635055542 W\n[codecarbon INFO @ 16:28:56] Energy consumed for all GPUs : 0.047924 kWh. Total GPU Power : 68.64021259456104 W\n[codecarbon INFO @ 16:28:56] Energy consumed for all CPUs : 0.032970 kWh. Total CPU Power : 42.5 W\n[codecarbon INFO @ 16:28:56] 0.088864 kWh of electricity used since the beginning.\n[codecarbon INFO @ 16:29:05] Energy consumed for RAM : 0.007705 kWh. RAM Power : 10.2771635055542 W\n[codecarbon INFO @ 16:29:05] Energy consumed for all GPUs : 0.047618 kWh. Total GPU Power : 68.33206918393363 W\n[codecarbon INFO @ 16:29:05] Energy consumed for all CPUs : 0.031874 kWh. Total CPU Power : 42.5 W\n[codecarbon INFO @ 16:29:05] 0.087197 kWh of electricity used since the beginning.\n[codecarbon INFO @ 16:29:11] Energy consumed for RAM : 0.008013 kWh. RAM Power : 10.2771635055542 W\n[codecarbon INFO @ 16:29:11] Energy consumed for all GPUs : 0.048212 kWh. Total GPU Power : 69.18824180934715 W\n[codecarbon INFO @ 16:29:11] Energy consumed for all CPUs : 0.033147 kWh. Total CPU Power : 42.5 W\n[codecarbon INFO @ 16:29:11] 0.089372 kWh of electricity used since the beginning.\n[codecarbon INFO @ 16:29:20] Energy consumed for RAM : 0.007748 kWh. RAM Power : 10.2771635055542 W\n[codecarbon INFO @ 16:29:20] Energy consumed for all GPUs : 0.047906 kWh. Total GPU Power : 69.10779522844953 W\n[codecarbon INFO @ 16:29:20] Energy consumed for all CPUs : 0.032051 kWh. Total CPU Power : 42.5 W\n[codecarbon INFO @ 16:29:20] 0.087705 kWh of electricity used since the beginning.\n[codecarbon INFO @ 16:29:26] Energy consumed for RAM : 0.008056 kWh. RAM Power : 10.2771635055542 W\n[codecarbon INFO @ 16:29:26] Energy consumed for all GPUs : 0.048502 kWh. Total GPU Power : 69.56550629464482 W\n[codecarbon INFO @ 16:29:26] Energy consumed for all CPUs : 0.033324 kWh. Total CPU Power : 42.5 W\n[codecarbon INFO @ 16:29:26] 0.089882 kWh of electricity used since the beginning.\n[codecarbon INFO @ 16:29:35] Energy consumed for RAM : 0.007791 kWh. RAM Power : 10.2771635055542 W\n[codecarbon INFO @ 16:29:35] Energy consumed for all GPUs : 0.048196 kWh. Total GPU Power : 69.6130381335457 W\n[codecarbon INFO @ 16:29:35] Energy consumed for all CPUs : 0.032228 kWh. Total CPU Power : 42.5 W\n[codecarbon INFO @ 16:29:35] 0.088215 kWh of electricity used since the beginning.\n[codecarbon INFO @ 16:29:41] Energy consumed for RAM : 0.008098 kWh. RAM Power : 10.2771635055542 W\n[codecarbon INFO @ 16:29:41] Energy consumed for all GPUs : 0.048793 kWh. Total GPU Power : 69.7011771744712 W\n[codecarbon INFO @ 16:29:41] Energy consumed for all CPUs : 0.033501 kWh. Total CPU Power : 42.5 W\n[codecarbon INFO @ 16:29:41] 0.090392 kWh of electricity used since the beginning.\n[codecarbon INFO @ 16:29:50] Energy consumed for RAM : 0.007833 kWh. RAM Power : 10.2771635055542 W\n[codecarbon INFO @ 16:29:50] Energy consumed for all GPUs : 0.048486 kWh. Total GPU Power : 69.66101568251034 W\n[codecarbon INFO @ 16:29:50] Energy consumed for all CPUs : 0.032405 kWh. Total CPU Power : 42.5 W\n[codecarbon INFO @ 16:29:50] 0.088725 kWh of electricity used since the beginning.\n[codecarbon INFO @ 16:29:56] Energy consumed for RAM : 0.008141 kWh. RAM Power : 10.2771635055542 W\n[codecarbon INFO @ 16:29:56] Energy consumed for all GPUs : 0.049083 kWh. Total GPU Power : 69.65402305881202 W\n[codecarbon INFO @ 16:29:56] Energy consumed for all CPUs : 0.033678 kWh. Total CPU Power : 42.5 W\n[codecarbon INFO @ 16:29:56] 0.090902 kWh of electricity used since the beginning.\n[codecarbon INFO @ 16:30:05] Energy consumed for RAM : 0.007876 kWh. RAM Power : 10.2771635055542 W\n[codecarbon INFO @ 16:30:05] Energy consumed for all GPUs : 0.048776 kWh. Total GPU Power : 69.61597553311577 W\n[codecarbon INFO @ 16:30:05] Energy consumed for all CPUs : 0.032582 kWh. Total CPU Power : 42.5 W\n[codecarbon INFO @ 16:30:05] 0.089234 kWh of electricity used since the beginning.\n[codecarbon INFO @ 16:30:11] Energy consumed for RAM : 0.008184 kWh. RAM Power : 10.2771635055542 W\n[codecarbon INFO @ 16:30:11] Energy consumed for all GPUs : 0.049373 kWh. Total GPU Power : 69.60539946359458 W\n[codecarbon INFO @ 16:30:11] Energy consumed for all CPUs : 0.033855 kWh. Total CPU Power : 42.5 W\n[codecarbon INFO @ 16:30:11] 0.091412 kWh of electricity used since the beginning.\n[codecarbon INFO @ 16:30:20] Energy consumed for RAM : 0.007919 kWh. RAM Power : 10.2771635055542 W\n[codecarbon INFO @ 16:30:20] Energy consumed for all GPUs : 0.049066 kWh. Total GPU Power : 69.61650445911141 W\n[codecarbon INFO @ 16:30:20] Energy consumed for all CPUs : 0.032759 kWh. Total CPU Power : 42.5 W\n[codecarbon INFO @ 16:30:20] 0.089744 kWh of electricity used since the beginning.\n[codecarbon INFO @ 16:30:26] Energy consumed for RAM : 0.008227 kWh. RAM Power : 10.2771635055542 W\n[codecarbon INFO @ 16:30:26] Energy consumed for all GPUs : 0.049663 kWh. Total GPU Power : 69.61482244598245 W\n[codecarbon INFO @ 16:30:26] Energy consumed for all CPUs : 0.034032 kWh. Total CPU Power : 42.5 W\n[codecarbon INFO @ 16:30:26] 0.091922 kWh of electricity used since the beginning.\n[codecarbon INFO @ 16:30:35] Energy consumed for RAM : 0.007962 kWh. RAM Power : 10.2771635055542 W\n[codecarbon INFO @ 16:30:35] Energy consumed for all GPUs : 0.049357 kWh. Total GPU Power : 69.68920606924452 W\n[codecarbon INFO @ 16:30:35] Energy consumed for all CPUs : 0.032936 kWh. Total CPU Power : 42.5 W\n[codecarbon INFO @ 16:30:35] 0.090255 kWh of electricity used since the beginning.\n[codecarbon INFO @ 16:30:41] Energy consumed for RAM : 0.008270 kWh. RAM Power : 10.2771635055542 W\n[codecarbon INFO @ 16:30:41] Energy consumed for all GPUs : 0.049948 kWh. Total GPU Power : 68.50909667327802 W\n[codecarbon INFO @ 16:30:41] Energy consumed for all CPUs : 0.034210 kWh. Total CPU Power : 42.5 W\n[codecarbon INFO @ 16:30:41] 0.092427 kWh of electricity used since the beginning.\n[codecarbon INFO @ 16:30:50] Energy consumed for RAM : 0.008005 kWh. RAM Power : 10.2771635055542 W\n[codecarbon INFO @ 16:30:50] Energy consumed for all GPUs : 0.049644 kWh. Total GPU Power : 68.86638059837192 W\n[codecarbon INFO @ 16:30:50] Energy consumed for all CPUs : 0.033113 kWh. Total CPU Power : 42.5 W\n[codecarbon INFO @ 16:30:50] 0.090761 kWh of electricity used since the beginning.\n[codecarbon INFO @ 16:30:56] Energy consumed for RAM : 0.008312 kWh. RAM Power : 10.2771635055542 W\n[codecarbon INFO @ 16:30:56] Energy consumed for all GPUs : 0.050238 kWh. Total GPU Power : 69.52688964450627 W\n[codecarbon INFO @ 16:30:56] Energy consumed for all CPUs : 0.034387 kWh. Total CPU Power : 42.5 W\n[codecarbon INFO @ 16:30:56] 0.092937 kWh of electricity used since the beginning.\n[codecarbon INFO @ 16:31:05] Energy consumed for RAM : 0.008047 kWh. RAM Power : 10.2771635055542 W\n[codecarbon INFO @ 16:31:05] Energy consumed for all GPUs : 0.049929 kWh. Total GPU Power : 68.60329776937441 W\n[codecarbon INFO @ 16:31:05] Energy consumed for all CPUs : 0.033290 kWh. Total CPU Power : 42.5 W\n[codecarbon INFO @ 16:31:05] 0.091267 kWh of electricity used since the beginning.\n[codecarbon INFO @ 16:31:11] Energy consumed for RAM : 0.008355 kWh. RAM Power : 10.2771635055542 W\n[codecarbon INFO @ 16:31:11] Energy consumed for all GPUs : 0.050524 kWh. Total GPU Power : 68.63922893314941 W\n[codecarbon INFO @ 16:31:11] Energy consumed for all CPUs : 0.034564 kWh. Total CPU Power : 42.5 W\n[codecarbon INFO @ 16:31:11] 0.093443 kWh of electricity used since the beginning.\n[codecarbon INFO @ 16:31:20] Energy consumed for RAM : 0.008090 kWh. RAM Power : 10.2771635055542 W\n[codecarbon INFO @ 16:31:20] Energy consumed for all GPUs : 0.050220 kWh. Total GPU Power : 69.70819346995386 W\n[codecarbon INFO @ 16:31:20] Energy consumed for all CPUs : 0.033467 kWh. Total CPU Power : 42.5 W\n[codecarbon INFO @ 16:31:20] 0.091777 kWh of electricity used since the beginning.\n[codecarbon INFO @ 16:31:26] Energy consumed for RAM : 0.008398 kWh. RAM Power : 10.2771635055542 W\n[codecarbon INFO @ 16:31:26] Energy consumed for all GPUs : 0.050814 kWh. Total GPU Power : 69.73893504746827 W\n[codecarbon INFO @ 16:31:26] Energy consumed for all CPUs : 0.034741 kWh. Total CPU Power : 42.5 W\n[codecarbon INFO @ 16:31:26] 0.093953 kWh of electricity used since the beginning.\n[codecarbon INFO @ 16:31:35] Energy consumed for RAM : 0.008133 kWh. RAM Power : 10.2771635055542 W\n[codecarbon INFO @ 16:31:35] Energy consumed for all GPUs : 0.050510 kWh. Total GPU Power : 69.76794005609005 W\n[codecarbon INFO @ 16:31:35] Energy consumed for all CPUs : 0.033644 kWh. Total CPU Power : 42.5 W\n[codecarbon INFO @ 16:31:35] 0.092288 kWh of electricity used since the beginning.\n[codecarbon INFO @ 16:31:41] Energy consumed for RAM : 0.008441 kWh. RAM Power : 10.2771635055542 W\n[codecarbon INFO @ 16:31:41] Energy consumed for all GPUs : 0.051105 kWh. Total GPU Power : 69.77575514725544 W\n[codecarbon INFO @ 16:31:41] Energy consumed for all CPUs : 0.034918 kWh. Total CPU Power : 42.5 W\n[codecarbon INFO @ 16:31:41] 0.094464 kWh of electricity used since the beginning.\n[codecarbon INFO @ 16:31:50] Energy consumed for RAM : 0.008176 kWh. RAM Power : 10.2771635055542 W\n[codecarbon INFO @ 16:31:50] Energy consumed for all GPUs : 0.050801 kWh. Total GPU Power : 69.75777592300636 W\n[codecarbon INFO @ 16:31:50] Energy consumed for all CPUs : 0.033821 kWh. Total CPU Power : 42.5 W\n[codecarbon INFO @ 16:31:50] 0.092798 kWh of electricity used since the beginning.\n[codecarbon INFO @ 16:31:56] Energy consumed for RAM : 0.008484 kWh. RAM Power : 10.2771635055542 W\n[codecarbon INFO @ 16:31:56] Energy consumed for all GPUs : 0.051395 kWh. Total GPU Power : 69.81897455312998 W\n[codecarbon INFO @ 16:31:56] Energy consumed for all CPUs : 0.035095 kWh. Total CPU Power : 42.5 W\n[codecarbon INFO @ 16:31:56] 0.094974 kWh of electricity used since the beginning.\n[codecarbon INFO @ 16:32:05] Energy consumed for RAM : 0.008219 kWh. RAM Power : 10.2771635055542 W\n[codecarbon INFO @ 16:32:05] Energy consumed for all GPUs : 0.051091 kWh. Total GPU Power : 69.6284115584225 W\n[codecarbon INFO @ 16:32:05] Energy consumed for all CPUs : 0.033999 kWh. Total CPU Power : 42.5 W\n[codecarbon INFO @ 16:32:05] 0.093308 kWh of electricity used since the beginning.\n[codecarbon INFO @ 16:32:11] Energy consumed for RAM : 0.008526 kWh. RAM Power : 10.2771635055542 W\n[codecarbon INFO @ 16:32:11] Energy consumed for all GPUs : 0.051686 kWh. Total GPU Power : 69.76319527681503 W\n[codecarbon INFO @ 16:32:11] Energy consumed for all CPUs : 0.035272 kWh. Total CPU Power : 42.5 W\n[codecarbon INFO @ 16:32:11] 0.095484 kWh of electricity used since the beginning.\n[codecarbon INFO @ 16:32:20] Energy consumed for RAM : 0.008261 kWh. RAM Power : 10.2771635055542 W\n[codecarbon INFO @ 16:32:20] Energy consumed for all GPUs : 0.051382 kWh. Total GPU Power : 69.81267814143436 W\n[codecarbon INFO @ 16:32:20] Energy consumed for all CPUs : 0.034176 kWh. Total CPU Power : 42.5 W\n[codecarbon INFO @ 16:32:20] 0.093819 kWh of electricity used since the beginning.\n[codecarbon INFO @ 16:32:26] Energy consumed for RAM : 0.008569 kWh. RAM Power : 10.2771635055542 W\n[codecarbon INFO @ 16:32:26] Energy consumed for all GPUs : 0.051976 kWh. Total GPU Power : 69.76780698773035 W\n[codecarbon INFO @ 16:32:26] Energy consumed for all CPUs : 0.035449 kWh. Total CPU Power : 42.5 W\n[codecarbon INFO @ 16:32:26] 0.095995 kWh of electricity used since the beginning.\n[codecarbon INFO @ 16:32:35] Energy consumed for RAM : 0.008304 kWh. RAM Power : 10.2771635055542 W\n[codecarbon INFO @ 16:32:35] Energy consumed for all GPUs : 0.051672 kWh. Total GPU Power : 69.71347991504886 W\n[codecarbon INFO @ 16:32:35] Energy consumed for all CPUs : 0.034353 kWh. Total CPU Power : 42.5 W\n[codecarbon INFO @ 16:32:35] 0.094329 kWh of electricity used since the beginning.\n[codecarbon INFO @ 16:32:41] Energy consumed for RAM : 0.008612 kWh. RAM Power : 10.2771635055542 W\n[codecarbon INFO @ 16:32:41] Energy consumed for all GPUs : 0.052268 kWh. Total GPU Power : 70.1368976934928 W\n[codecarbon INFO @ 16:32:41] Energy consumed for all CPUs : 0.035626 kWh. Total CPU Power : 42.5 W\n[codecarbon INFO @ 16:32:41] 0.096507 kWh of electricity used since the beginning.\n[codecarbon INFO @ 16:32:50] Energy consumed for RAM : 0.008347 kWh. RAM Power : 10.2771635055542 W\n[codecarbon INFO @ 16:32:50] Energy consumed for all GPUs : 0.051963 kWh. Total GPU Power : 69.79099990357781 W\n[codecarbon INFO @ 16:32:50] Energy consumed for all CPUs : 0.034530 kWh. Total CPU Power : 42.5 W\n[codecarbon INFO @ 16:32:50] 0.094840 kWh of electricity used since the beginning.\n[codecarbon INFO @ 16:32:56] Energy consumed for RAM : 0.008655 kWh. RAM Power : 10.2771635055542 W\n[codecarbon INFO @ 16:32:56] Energy consumed for all GPUs : 0.052559 kWh. Total GPU Power : 69.73498325478505 W\n[codecarbon INFO @ 16:32:56] Energy consumed for all CPUs : 0.035804 kWh. Total CPU Power : 42.5 W\n[codecarbon INFO @ 16:32:56] 0.097017 kWh of electricity used since the beginning.\n[codecarbon INFO @ 16:33:05] Energy consumed for RAM : 0.008390 kWh. RAM Power : 10.2771635055542 W\n[codecarbon INFO @ 16:33:05] Energy consumed for all GPUs : 0.052253 kWh. Total GPU Power : 69.69134896492045 W\n[codecarbon INFO @ 16:33:05] Energy consumed for all CPUs : 0.034707 kWh. Total CPU Power : 42.5 W\n[codecarbon INFO @ 16:33:05] 0.095350 kWh of electricity used since the beginning.\n[codecarbon INFO @ 16:33:11] Energy consumed for RAM : 0.008698 kWh. RAM Power : 10.2771635055542 W\n[codecarbon INFO @ 16:33:11] Energy consumed for all GPUs : 0.052849 kWh. Total GPU Power : 69.74590261344893 W\n[codecarbon INFO @ 16:33:11] Energy consumed for all CPUs : 0.035981 kWh. Total CPU Power : 42.5 W\n[codecarbon INFO @ 16:33:11] 0.097528 kWh of electricity used since the beginning.\n[codecarbon INFO @ 16:33:20] Energy consumed for RAM : 0.008433 kWh. RAM Power : 10.2771635055542 W\n[codecarbon INFO @ 16:33:20] Energy consumed for all GPUs : 0.052543 kWh. Total GPU Power : 69.67613137327642 W\n[codecarbon INFO @ 16:33:20] Energy consumed for all CPUs : 0.034884 kWh. Total CPU Power : 42.5 W\n[codecarbon INFO @ 16:33:20] 0.095860 kWh of electricity used since the beginning.\n[codecarbon INFO @ 16:33:26] Energy consumed for RAM : 0.008740 kWh. RAM Power : 10.2771635055542 W\n[codecarbon INFO @ 16:33:26] Energy consumed for all GPUs : 0.053140 kWh. Total GPU Power : 69.58820342052209 W\n[codecarbon INFO @ 16:33:26] Energy consumed for all CPUs : 0.036158 kWh. Total CPU Power : 42.5 W\n[codecarbon INFO @ 16:33:26] 0.098038 kWh of electricity used since the beginning.\n[codecarbon INFO @ 16:33:35] Energy consumed for RAM : 0.008475 kWh. RAM Power : 10.2771635055542 W\n[codecarbon INFO @ 16:33:35] Energy consumed for all GPUs : 0.052834 kWh. Total GPU Power : 69.76244552759911 W\n[codecarbon INFO @ 16:33:35] Energy consumed for all CPUs : 0.035061 kWh. Total CPU Power : 42.5 W\n[codecarbon INFO @ 16:33:35] 0.096370 kWh of electricity used since the beginning.\n[codecarbon INFO @ 16:33:41] Energy consumed for RAM : 0.008783 kWh. RAM Power : 10.2771635055542 W\n[codecarbon INFO @ 16:33:41] Energy consumed for all GPUs : 0.053430 kWh. Total GPU Power : 69.80128261395572 W\n[codecarbon INFO @ 16:33:41] Energy consumed for all CPUs : 0.036335 kWh. Total CPU Power : 42.5 W\n[codecarbon INFO @ 16:33:41] 0.098548 kWh of electricity used since the beginning.\n[codecarbon INFO @ 16:33:50] Energy consumed for RAM : 0.008518 kWh. RAM Power : 10.2771635055542 W\n[codecarbon INFO @ 16:33:50] Energy consumed for all GPUs : 0.053124 kWh. Total GPU Power : 69.74995740235235 W\n[codecarbon INFO @ 16:33:50] Energy consumed for all CPUs : 0.035238 kWh. Total CPU Power : 42.5 W\n[codecarbon INFO @ 16:33:50] 0.096881 kWh of electricity used since the beginning.\n[codecarbon INFO @ 16:33:56] Energy consumed for RAM : 0.008826 kWh. RAM Power : 10.2771635055542 W\n[codecarbon INFO @ 16:33:56] Energy consumed for all GPUs : 0.053721 kWh. Total GPU Power : 69.72346518258969 W\n[codecarbon INFO @ 16:33:56] Energy consumed for all CPUs : 0.036512 kWh. Total CPU Power : 42.5 W\n[codecarbon INFO @ 16:33:56] 0.099059 kWh of electricity used since the beginning.\n[codecarbon INFO @ 16:34:05] Energy consumed for RAM : 0.008561 kWh. RAM Power : 10.2771635055542 W\n[codecarbon INFO @ 16:34:05] Energy consumed for all GPUs : 0.053415 kWh. Total GPU Power : 69.81561539149888 W\n[codecarbon INFO @ 16:34:05] Energy consumed for all CPUs : 0.035415 kWh. Total CPU Power : 42.5 W\n[codecarbon INFO @ 16:34:05] 0.097391 kWh of electricity used since the beginning.\n[codecarbon INFO @ 16:34:11] Energy consumed for RAM : 0.008869 kWh. RAM Power : 10.2771635055542 W\n[codecarbon INFO @ 16:34:11] Energy consumed for all GPUs : 0.054012 kWh. Total GPU Power : 69.76872081694091 W\n[codecarbon INFO @ 16:34:11] Energy consumed for all CPUs : 0.036689 kWh. Total CPU Power : 42.5 W\n[codecarbon INFO @ 16:34:11] 0.099570 kWh of electricity used since the beginning.\n[codecarbon INFO @ 16:34:20] Energy consumed for RAM : 0.008604 kWh. RAM Power : 10.2771635055542 W\n[codecarbon INFO @ 16:34:20] Energy consumed for all GPUs : 0.053706 kWh. Total GPU Power : 69.80607712420779 W\n[codecarbon INFO @ 16:34:20] Energy consumed for all CPUs : 0.035592 kWh. Total CPU Power : 42.5 W\n[codecarbon INFO @ 16:34:20] 0.097902 kWh of electricity used since the beginning.\n[codecarbon INFO @ 16:34:26] Energy consumed for RAM : 0.008912 kWh. RAM Power : 10.2771635055542 W\n[codecarbon INFO @ 16:34:26] Energy consumed for all GPUs : 0.054302 kWh. Total GPU Power : 69.77099168910284 W\n[codecarbon INFO @ 16:34:26] Energy consumed for all CPUs : 0.036866 kWh. Total CPU Power : 42.5 W\n[codecarbon INFO @ 16:34:26] 0.100080 kWh of electricity used since the beginning.\n[codecarbon INFO @ 16:34:35] Energy consumed for RAM : 0.008647 kWh. RAM Power : 10.2771635055542 W\n[codecarbon INFO @ 16:34:35] Energy consumed for all GPUs : 0.053996 kWh. Total GPU Power : 69.74367694925964 W\n[codecarbon INFO @ 16:34:35] Energy consumed for all CPUs : 0.035769 kWh. Total CPU Power : 42.5 W\n[codecarbon INFO @ 16:34:35] 0.098412 kWh of electricity used since the beginning.\n[codecarbon INFO @ 16:34:41] Energy consumed for RAM : 0.008955 kWh. RAM Power : 10.2771635055542 W\n[codecarbon INFO @ 16:34:41] Energy consumed for all GPUs : 0.054593 kWh. Total GPU Power : 69.69297255764812 W\n[codecarbon INFO @ 16:34:41] Energy consumed for all CPUs : 0.037043 kWh. Total CPU Power : 42.5 W\n[codecarbon INFO @ 16:34:41] 0.100590 kWh of electricity used since the beginning.\n[codecarbon INFO @ 16:34:50] Energy consumed for RAM : 0.008689 kWh. RAM Power : 10.2771635055542 W\n[codecarbon INFO @ 16:34:50] Energy consumed for all GPUs : 0.054287 kWh. Total GPU Power : 69.66319560354705 W\n[codecarbon INFO @ 16:34:50] Energy consumed for all CPUs : 0.035947 kWh. Total CPU Power : 42.5 W\n[codecarbon INFO @ 16:34:50] 0.098923 kWh of electricity used since the beginning.\n[codecarbon INFO @ 16:34:56] Energy consumed for RAM : 0.008997 kWh. RAM Power : 10.2771635055542 W\n[codecarbon INFO @ 16:34:56] Energy consumed for all GPUs : 0.054883 kWh. Total GPU Power : 69.7133163505098 W\n[codecarbon INFO @ 16:34:56] Energy consumed for all CPUs : 0.037220 kWh. Total CPU Power : 42.5 W\n[codecarbon INFO @ 16:34:56] 0.101101 kWh of electricity used since the beginning.\n[codecarbon INFO @ 16:35:05] Energy consumed for RAM : 0.008732 kWh. RAM Power : 10.2771635055542 W\n[codecarbon INFO @ 16:35:05] Energy consumed for all GPUs : 0.054577 kWh. Total GPU Power : 69.76477693406332 W\n[codecarbon INFO @ 16:35:05] Energy consumed for all CPUs : 0.036124 kWh. Total CPU Power : 42.5 W\n[codecarbon INFO @ 16:35:05] 0.099433 kWh of electricity used since the beginning.\n[codecarbon INFO @ 16:35:11] Energy consumed for RAM : 0.009040 kWh. RAM Power : 10.2771635055542 W\n[codecarbon INFO @ 16:35:11] Energy consumed for all GPUs : 0.055173 kWh. Total GPU Power : 69.67754167355498 W\n[codecarbon INFO @ 16:35:11] Energy consumed for all CPUs : 0.037398 kWh. Total CPU Power : 42.5 W\n[codecarbon INFO @ 16:35:11] 0.101611 kWh of electricity used since the beginning.\n[codecarbon INFO @ 16:35:20] Energy consumed for RAM : 0.008775 kWh. RAM Power : 10.2771635055542 W\n[codecarbon INFO @ 16:35:20] Energy consumed for all GPUs : 0.054867 kWh. Total GPU Power : 69.69123087755406 W\n[codecarbon INFO @ 16:35:20] Energy consumed for all CPUs : 0.036301 kWh. Total CPU Power : 42.5 W\n[codecarbon INFO @ 16:35:20] 0.099943 kWh of electricity used since the beginning.\n[codecarbon INFO @ 16:35:26] Energy consumed for RAM : 0.009083 kWh. RAM Power : 10.2771635055542 W\n[codecarbon INFO @ 16:35:26] Energy consumed for all GPUs : 0.055464 kWh. Total GPU Power : 69.67572055793264 W\n[codecarbon INFO @ 16:35:26] Energy consumed for all CPUs : 0.037575 kWh. Total CPU Power : 42.5 W\n[codecarbon INFO @ 16:35:26] 0.102121 kWh of electricity used since the beginning.\n[codecarbon INFO @ 16:35:35] Energy consumed for RAM : 0.008818 kWh. RAM Power : 10.2771635055542 W\n[codecarbon INFO @ 16:35:35] Energy consumed for all GPUs : 0.055158 kWh. Total GPU Power : 69.6919170662063 W\n[codecarbon INFO @ 16:35:35] Energy consumed for all CPUs : 0.036478 kWh. Total CPU Power : 42.5 W\n[codecarbon INFO @ 16:35:35] 0.100453 kWh of electricity used since the beginning.\n[codecarbon INFO @ 16:35:41] Energy consumed for RAM : 0.009126 kWh. RAM Power : 10.2771635055542 W\n[codecarbon INFO @ 16:35:41] Energy consumed for all GPUs : 0.055754 kWh. Total GPU Power : 69.68548891505682 W\n[codecarbon INFO @ 16:35:41] Energy consumed for all CPUs : 0.037752 kWh. Total CPU Power : 42.5 W\n[codecarbon INFO @ 16:35:41] 0.102632 kWh of electricity used since the beginning.\n[codecarbon INFO @ 16:35:50] Energy consumed for RAM : 0.008861 kWh. RAM Power : 10.2771635055542 W\n[codecarbon INFO @ 16:35:50] Energy consumed for all GPUs : 0.055448 kWh. Total GPU Power : 69.67726798819137 W\n[codecarbon INFO @ 16:35:50] Energy consumed for all CPUs : 0.036655 kWh. Total CPU Power : 42.5 W\n[codecarbon INFO @ 16:35:50] 0.100963 kWh of electricity used since the beginning.\n[codecarbon INFO @ 16:35:56] Energy consumed for RAM : 0.009169 kWh. RAM Power : 10.2771635055542 W\n[codecarbon INFO @ 16:35:56] Energy consumed for all GPUs : 0.056044 kWh. Total GPU Power : 69.66169947977492 W\n[codecarbon INFO @ 16:35:56] Energy consumed for all CPUs : 0.037929 kWh. Total CPU Power : 42.5 W\n[codecarbon INFO @ 16:35:56] 0.103142 kWh of electricity used since the beginning.\n[codecarbon INFO @ 16:36:05] Energy consumed for RAM : 0.008903 kWh. RAM Power : 10.2771635055542 W\n[codecarbon INFO @ 16:36:05] Energy consumed for all GPUs : 0.055738 kWh. Total GPU Power : 69.75559369422618 W\n[codecarbon INFO @ 16:36:05] Energy consumed for all CPUs : 0.036832 kWh. Total CPU Power : 42.5 W\n[codecarbon INFO @ 16:36:05] 0.101474 kWh of electricity used since the beginning.\n[codecarbon INFO @ 16:36:11] Energy consumed for RAM : 0.009211 kWh. RAM Power : 10.2771635055542 W\n[codecarbon INFO @ 16:36:11] Energy consumed for all GPUs : 0.056335 kWh. Total GPU Power : 69.80645938321494 W\n[codecarbon INFO @ 16:36:11] Energy consumed for all CPUs : 0.038106 kWh. Total CPU Power : 42.5 W\n[codecarbon INFO @ 16:36:11] 0.103652 kWh of electricity used since the beginning.\n[codecarbon INFO @ 16:36:20] Energy consumed for RAM : 0.008946 kWh. RAM Power : 10.2771635055542 W\n[codecarbon INFO @ 16:36:20] Energy consumed for all GPUs : 0.056029 kWh. Total GPU Power : 69.81700386300649 W\n[codecarbon INFO @ 16:36:20] Energy consumed for all CPUs : 0.037009 kWh. Total CPU Power : 42.5 W\n[codecarbon INFO @ 16:36:20] 0.101984 kWh of electricity used since the beginning.\n[codecarbon INFO @ 16:36:26] Energy consumed for RAM : 0.009254 kWh. RAM Power : 10.2771635055542 W\n[codecarbon INFO @ 16:36:26] Energy consumed for all GPUs : 0.056626 kWh. Total GPU Power : 69.73680136369187 W\n[codecarbon INFO @ 16:36:26] Energy consumed for all CPUs : 0.038283 kWh. Total CPU Power : 42.5 W\n[codecarbon INFO @ 16:36:26] 0.104163 kWh of electricity used since the beginning.\n[codecarbon INFO @ 16:36:35] Energy consumed for RAM : 0.008989 kWh. RAM Power : 10.2771635055542 W\n[codecarbon INFO @ 16:36:35] Energy consumed for all GPUs : 0.056319 kWh. Total GPU Power : 69.63577027858507 W\n[codecarbon INFO @ 16:36:35] Energy consumed for all CPUs : 0.037186 kWh. Total CPU Power : 42.5 W\n[codecarbon INFO @ 16:36:35] 0.102495 kWh of electricity used since the beginning.\n[codecarbon INFO @ 16:36:41] Energy consumed for RAM : 0.009297 kWh. RAM Power : 10.2771635055542 W\n[codecarbon INFO @ 16:36:41] Energy consumed for all GPUs : 0.056916 kWh. Total GPU Power : 69.6988099498464 W\n[codecarbon INFO @ 16:36:41] Energy consumed for all CPUs : 0.038460 kWh. Total CPU Power : 42.5 W\n[codecarbon INFO @ 16:36:41] 0.104673 kWh of electricity used since the beginning.\n[codecarbon INFO @ 16:36:50] Energy consumed for RAM : 0.009032 kWh. RAM Power : 10.2771635055542 W\n[codecarbon INFO @ 16:36:50] Energy consumed for all GPUs : 0.056610 kWh. Total GPU Power : 69.75639899677111 W\n[codecarbon INFO @ 16:36:50] Energy consumed for all CPUs : 0.037363 kWh. Total CPU Power : 42.5 W\n[codecarbon INFO @ 16:36:50] 0.103005 kWh of electricity used since the beginning.\n[codecarbon INFO @ 16:36:56] Energy consumed for RAM : 0.009340 kWh. RAM Power : 10.2771635055542 W\n[codecarbon INFO @ 16:36:56] Energy consumed for all GPUs : 0.057206 kWh. Total GPU Power : 69.64876273732413 W\n[codecarbon INFO @ 16:36:56] Energy consumed for all CPUs : 0.038638 kWh. Total CPU Power : 42.5 W\n[codecarbon INFO @ 16:36:56] 0.105184 kWh of electricity used since the beginning.\n[codecarbon INFO @ 16:37:05] Energy consumed for RAM : 0.009075 kWh. RAM Power : 10.2771635055542 W\n[codecarbon INFO @ 16:37:05] Energy consumed for all GPUs : 0.056900 kWh. Total GPU Power : 69.64944032510664 W\n[codecarbon INFO @ 16:37:05] Energy consumed for all CPUs : 0.037540 kWh. Total CPU Power : 42.5 W\n[codecarbon INFO @ 16:37:05] 0.103515 kWh of electricity used since the beginning.\n[codecarbon INFO @ 16:37:11] Energy consumed for RAM : 0.009383 kWh. RAM Power : 10.2771635055542 W\n[codecarbon INFO @ 16:37:11] Energy consumed for all GPUs : 0.057497 kWh. Total GPU Power : 69.75649827603452 W\n[codecarbon INFO @ 16:37:11] Energy consumed for all CPUs : 0.038814 kWh. Total CPU Power : 42.5 W\n[codecarbon INFO @ 16:37:11] 0.105694 kWh of electricity used since the beginning.\n[codecarbon INFO @ 16:37:20] Energy consumed for RAM : 0.009117 kWh. RAM Power : 10.2771635055542 W\n[codecarbon INFO @ 16:37:20] Energy consumed for all GPUs : 0.057191 kWh. Total GPU Power : 69.83114045856122 W\n[codecarbon INFO @ 16:37:20] Energy consumed for all CPUs : 0.037717 kWh. Total CPU Power : 42.5 W\n[codecarbon INFO @ 16:37:20] 0.104026 kWh of electricity used since the beginning.\n[codecarbon INFO @ 16:37:26] Energy consumed for RAM : 0.009425 kWh. RAM Power : 10.2771635055542 W\n[codecarbon INFO @ 16:37:26] Energy consumed for all GPUs : 0.057787 kWh. Total GPU Power : 69.83175520687367 W\n[codecarbon INFO @ 16:37:26] Energy consumed for all CPUs : 0.038992 kWh. Total CPU Power : 42.5 W\n[codecarbon INFO @ 16:37:26] 0.106204 kWh of electricity used since the beginning.\n[codecarbon INFO @ 16:37:35] Energy consumed for RAM : 0.009160 kWh. RAM Power : 10.2771635055542 W\n[codecarbon INFO @ 16:37:35] Energy consumed for all GPUs : 0.057482 kWh. Total GPU Power : 69.7654677951495 W\n[codecarbon INFO @ 16:37:35] Energy consumed for all CPUs : 0.037894 kWh. Total CPU Power : 42.5 W\n[codecarbon INFO @ 16:37:35] 0.104536 kWh of electricity used since the beginning.\n[codecarbon INFO @ 16:37:41] Energy consumed for RAM : 0.009468 kWh. RAM Power : 10.2771635055542 W\n[codecarbon INFO @ 16:37:41] Energy consumed for all GPUs : 0.058078 kWh. Total GPU Power : 69.70573072813256 W\n[codecarbon INFO @ 16:37:41] Energy consumed for all CPUs : 0.039169 kWh. Total CPU Power : 42.5 W\n[codecarbon INFO @ 16:37:41] 0.106715 kWh of electricity used since the beginning.\n[codecarbon INFO @ 16:37:50] Energy consumed for RAM : 0.009203 kWh. RAM Power : 10.2771635055542 W\n[codecarbon INFO @ 16:37:50] Energy consumed for all GPUs : 0.057772 kWh. Total GPU Power : 69.72850091330955 W\n[codecarbon INFO @ 16:37:50] Energy consumed for all CPUs : 0.038071 kWh. Total CPU Power : 42.5 W\n[codecarbon INFO @ 16:37:50] 0.105046 kWh of electricity used since the beginning.\n[codecarbon INFO @ 16:37:56] Energy consumed for RAM : 0.009511 kWh. RAM Power : 10.2771635055542 W\n[codecarbon INFO @ 16:37:56] Energy consumed for all GPUs : 0.058368 kWh. Total GPU Power : 69.68063473224849 W\n[codecarbon INFO @ 16:37:56] Energy consumed for all CPUs : 0.039346 kWh. Total CPU Power : 42.5 W\n[codecarbon INFO @ 16:37:56] 0.107225 kWh of electricity used since the beginning.\n[codecarbon INFO @ 16:38:05] Energy consumed for RAM : 0.009246 kWh. RAM Power : 10.2771635055542 W\n[codecarbon INFO @ 16:38:05] Energy consumed for all GPUs : 0.058062 kWh. Total GPU Power : 69.75767577853482 W\n[codecarbon INFO @ 16:38:05] Energy consumed for all CPUs : 0.038249 kWh. Total CPU Power : 42.5 W\n[codecarbon INFO @ 16:38:05] 0.105557 kWh of electricity used since the beginning.\n[codecarbon INFO @ 16:38:11] Energy consumed for RAM : 0.009554 kWh. RAM Power : 10.2771635055542 W\n[codecarbon INFO @ 16:38:11] Energy consumed for all GPUs : 0.058659 kWh. Total GPU Power : 69.75260969199039 W\n[codecarbon INFO @ 16:38:11] Energy consumed for all CPUs : 0.039523 kWh. Total CPU Power : 42.5 W\n[codecarbon INFO @ 16:38:11] 0.107735 kWh of electricity used since the beginning.\n[codecarbon INFO @ 16:38:20] Energy consumed for RAM : 0.009289 kWh. RAM Power : 10.2771635055542 W\n[codecarbon INFO @ 16:38:20] Energy consumed for all GPUs : 0.058352 kWh. Total GPU Power : 69.6120251316043 W\n[codecarbon INFO @ 16:38:20] Energy consumed for all CPUs : 0.038426 kWh. Total CPU Power : 42.5 W\n[codecarbon INFO @ 16:38:20] 0.106066 kWh of electricity used since the beginning.\n[codecarbon INFO @ 16:38:26] Energy consumed for RAM : 0.009597 kWh. RAM Power : 10.2771635055542 W\n[codecarbon INFO @ 16:38:26] Energy consumed for all GPUs : 0.058948 kWh. Total GPU Power : 69.60202651342077 W\n[codecarbon INFO @ 16:38:26] Energy consumed for all CPUs : 0.039700 kWh. Total CPU Power : 42.5 W\n[codecarbon INFO @ 16:38:26] 0.108245 kWh of electricity used since the beginning.\n[codecarbon INFO @ 16:38:35] Energy consumed for RAM : 0.009331 kWh. RAM Power : 10.2771635055542 W\n[codecarbon INFO @ 16:38:35] Energy consumed for all GPUs : 0.058642 kWh. Total GPU Power : 69.64008189266808 W\n[codecarbon INFO @ 16:38:35] Energy consumed for all CPUs : 0.038603 kWh. Total CPU Power : 42.5 W\n[codecarbon INFO @ 16:38:35] 0.106576 kWh of electricity used since the beginning.\n[codecarbon INFO @ 16:38:41] Energy consumed for RAM : 0.009639 kWh. RAM Power : 10.2771635055542 W\n[codecarbon INFO @ 16:38:41] Energy consumed for all GPUs : 0.059239 kWh. Total GPU Power : 69.6284126988959 W\n[codecarbon INFO @ 16:38:41] Energy consumed for all CPUs : 0.039877 kWh. Total CPU Power : 42.5 W\n[codecarbon INFO @ 16:38:41] 0.108755 kWh of electricity used since the beginning.\n[codecarbon INFO @ 16:38:50] Energy consumed for RAM : 0.009374 kWh. RAM Power : 10.2771635055542 W\n[codecarbon INFO @ 16:38:50] Energy consumed for all GPUs : 0.058932 kWh. Total GPU Power : 69.54835961141684 W\n[codecarbon INFO @ 16:38:50] Energy consumed for all CPUs : 0.038780 kWh. Total CPU Power : 42.5 W\n[codecarbon INFO @ 16:38:50] 0.107086 kWh of electricity used since the beginning.\n[codecarbon INFO @ 16:38:56] Energy consumed for RAM : 0.009682 kWh. RAM Power : 10.2771635055542 W\n[codecarbon INFO @ 16:38:56] Energy consumed for all GPUs : 0.059528 kWh. Total GPU Power : 69.57516560086758 W\n[codecarbon INFO @ 16:38:56] Energy consumed for all CPUs : 0.040054 kWh. Total CPU Power : 42.5 W\n[codecarbon INFO @ 16:38:56] 0.109265 kWh of electricity used since the beginning.\n[codecarbon INFO @ 16:39:05] Energy consumed for RAM : 0.009417 kWh. RAM Power : 10.2771635055542 W\n[codecarbon INFO @ 16:39:05] Energy consumed for all GPUs : 0.059222 kWh. Total GPU Power : 69.61748198744779 W\n[codecarbon INFO @ 16:39:05] Energy consumed for all CPUs : 0.038957 kWh. Total CPU Power : 42.5 W\n[codecarbon INFO @ 16:39:05] 0.107596 kWh of electricity used since the beginning.\n[codecarbon INFO @ 16:39:11] Energy consumed for RAM : 0.009725 kWh. RAM Power : 10.2771635055542 W\n[codecarbon INFO @ 16:39:11] Energy consumed for all GPUs : 0.059818 kWh. Total GPU Power : 69.52578312323229 W\n[codecarbon INFO @ 16:39:11] Energy consumed for all CPUs : 0.040231 kWh. Total CPU Power : 42.5 W\n[codecarbon INFO @ 16:39:11] 0.109774 kWh of electricity used since the beginning.\n[codecarbon INFO @ 16:39:20] Energy consumed for RAM : 0.009460 kWh. RAM Power : 10.2771635055542 W\n[codecarbon INFO @ 16:39:20] Energy consumed for all GPUs : 0.059512 kWh. Total GPU Power : 69.56364564378727 W\n[codecarbon INFO @ 16:39:20] Energy consumed for all CPUs : 0.039134 kWh. Total CPU Power : 42.5 W\n[codecarbon INFO @ 16:39:20] 0.108105 kWh of electricity used since the beginning.\n[codecarbon INFO @ 16:39:26] Energy consumed for RAM : 0.009768 kWh. RAM Power : 10.2771635055542 W\n[codecarbon INFO @ 16:39:26] Energy consumed for all GPUs : 0.060108 kWh. Total GPU Power : 69.60496415229233 W\n[codecarbon INFO @ 16:39:26] Energy consumed for all CPUs : 0.040408 kWh. Total CPU Power : 42.5 W\n[codecarbon INFO @ 16:39:26] 0.110284 kWh of electricity used since the beginning.\n[codecarbon INFO @ 16:39:35] Energy consumed for RAM : 0.009503 kWh. RAM Power : 10.2771635055542 W\n[codecarbon INFO @ 16:39:35] Energy consumed for all GPUs : 0.059802 kWh. Total GPU Power : 69.68216543592062 W\n[codecarbon INFO @ 16:39:35] Energy consumed for all CPUs : 0.039311 kWh. Total CPU Power : 42.5 W\n[codecarbon INFO @ 16:39:35] 0.108616 kWh of electricity used since the beginning.\n[codecarbon INFO @ 16:39:41] Energy consumed for RAM : 0.009811 kWh. RAM Power : 10.2771635055542 W\n[codecarbon INFO @ 16:39:41] Energy consumed for all GPUs : 0.060398 kWh. Total GPU Power : 69.68509159980195 W\n[codecarbon INFO @ 16:39:41] Energy consumed for all CPUs : 0.040585 kWh. Total CPU Power : 42.5 W\n[codecarbon INFO @ 16:39:41] 0.110794 kWh of electricity used since the beginning.\n[codecarbon INFO @ 16:39:50] Energy consumed for RAM : 0.009545 kWh. RAM Power : 10.2771635055542 W\n[codecarbon INFO @ 16:39:50] Energy consumed for all GPUs : 0.060092 kWh. Total GPU Power : 69.58634828414682 W\n[codecarbon INFO @ 16:39:50] Energy consumed for all CPUs : 0.039488 kWh. Total CPU Power : 42.5 W\n[codecarbon INFO @ 16:39:50] 0.109125 kWh of electricity used since the beginning.\n[codecarbon INFO @ 16:39:56] Energy consumed for RAM : 0.009853 kWh. RAM Power : 10.2771635055542 W\n[codecarbon INFO @ 16:39:56] Energy consumed for all GPUs : 0.060688 kWh. Total GPU Power : 69.61386227534874 W\n[codecarbon INFO @ 16:39:56] Energy consumed for all CPUs : 0.040762 kWh. Total CPU Power : 42.5 W\n[codecarbon INFO @ 16:39:56] 0.111304 kWh of electricity used since the beginning.\n[codecarbon INFO @ 16:40:05] Energy consumed for RAM : 0.009588 kWh. RAM Power : 10.2771635055542 W\n[codecarbon INFO @ 16:40:05] Energy consumed for all GPUs : 0.060382 kWh. Total GPU Power : 69.58413450328564 W\n[codecarbon INFO @ 16:40:05] Energy consumed for all CPUs : 0.039665 kWh. Total CPU Power : 42.5 W\n[codecarbon INFO @ 16:40:05] 0.109635 kWh of electricity used since the beginning.\n[codecarbon INFO @ 16:40:11] Energy consumed for RAM : 0.009896 kWh. RAM Power : 10.2771635055542 W\n[codecarbon INFO @ 16:40:11] Energy consumed for all GPUs : 0.060978 kWh. Total GPU Power : 69.60546129621257 W\n[codecarbon INFO @ 16:40:11] Energy consumed for all CPUs : 0.040939 kWh. Total CPU Power : 42.5 W\n[codecarbon INFO @ 16:40:11] 0.111814 kWh of electricity used since the beginning.\n[codecarbon INFO @ 16:40:20] Energy consumed for RAM : 0.009631 kWh. RAM Power : 10.2771635055542 W\n[codecarbon INFO @ 16:40:20] Energy consumed for all GPUs : 0.060678 kWh. Total GPU Power : 71.1339659190626 W\n[codecarbon INFO @ 16:40:20] Energy consumed for all CPUs : 0.039848 kWh. Total CPU Power : 42.5 W\n[codecarbon INFO @ 16:40:20] 0.110158 kWh of electricity used since the beginning.\n[codecarbon INFO @ 16:40:26] Energy consumed for RAM : 0.009939 kWh. RAM Power : 10.2771635055542 W\n[codecarbon INFO @ 16:40:26] Energy consumed for all GPUs : 0.061254 kWh. Total GPU Power : 66.2503599864185 W\n[codecarbon INFO @ 16:40:26] Energy consumed for all CPUs : 0.041116 kWh. Total CPU Power : 42.5 W\n[codecarbon INFO @ 16:40:26] 0.112310 kWh of electricity used since the beginning.\n[codecarbon INFO @ 16:40:35] Energy consumed for RAM : 0.009673 kWh. RAM Power : 10.2771635055542 W\n[codecarbon INFO @ 16:40:35] Energy consumed for all GPUs : 0.060947 kWh. Total GPU Power : 66.81932202782437 W\n[codecarbon INFO @ 16:40:35] Energy consumed for all CPUs : 0.040020 kWh. Total CPU Power : 42.5 W\n[codecarbon INFO @ 16:40:35] 0.110640 kWh of electricity used since the beginning.\n[codecarbon INFO @ 16:40:41] Energy consumed for RAM : 0.009982 kWh. RAM Power : 10.2771635055542 W\n[codecarbon INFO @ 16:40:41] Energy consumed for all GPUs : 0.061543 kWh. Total GPU Power : 69.32219904651723 W\n[codecarbon INFO @ 16:40:41] Energy consumed for all CPUs : 0.041294 kWh. Total CPU Power : 42.5 W\n[codecarbon INFO @ 16:40:41] 0.112818 kWh of electricity used since the beginning.\n[codecarbon INFO @ 16:40:50] Energy consumed for RAM : 0.009715 kWh. RAM Power : 10.2771635055542 W\n[codecarbon INFO @ 16:40:50] Energy consumed for all GPUs : 0.061237 kWh. Total GPU Power : 69.8104419943544 W\n[codecarbon INFO @ 16:40:50] Energy consumed for all CPUs : 0.040197 kWh. Total CPU Power : 42.5 W\n[codecarbon INFO @ 16:40:50] 0.111148 kWh of electricity used since the beginning.\n[codecarbon INFO @ 16:40:56] Energy consumed for RAM : 0.010025 kWh. RAM Power : 10.2771635055542 W\n[codecarbon INFO @ 16:40:56] Energy consumed for all GPUs : 0.061833 kWh. Total GPU Power : 69.63399731240042 W\n[codecarbon INFO @ 16:40:56] Energy consumed for all CPUs : 0.041471 kWh. Total CPU Power : 42.5 W\n[codecarbon INFO @ 16:40:56] 0.113328 kWh of electricity used since the beginning.\n[codecarbon INFO @ 16:41:05] Energy consumed for RAM : 0.009758 kWh. RAM Power : 10.2771635055542 W\n[codecarbon INFO @ 16:41:05] Energy consumed for all GPUs : 0.061527 kWh. Total GPU Power : 69.57149587995993 W\n[codecarbon INFO @ 16:41:05] Energy consumed for all CPUs : 0.040374 kWh. Total CPU Power : 42.5 W\n[codecarbon INFO @ 16:41:05] 0.111658 kWh of electricity used since the beginning.\n[codecarbon INFO @ 16:41:11] Energy consumed for RAM : 0.010068 kWh. RAM Power : 10.2771635055542 W\n[codecarbon INFO @ 16:41:11] Energy consumed for all GPUs : 0.062123 kWh. Total GPU Power : 69.65121227607472 W\n[codecarbon INFO @ 16:41:11] Energy consumed for all CPUs : 0.041648 kWh. Total CPU Power : 42.5 W\n[codecarbon INFO @ 16:41:11] 0.113838 kWh of electricity used since the beginning.\n[codecarbon INFO @ 16:41:20] Energy consumed for RAM : 0.009801 kWh. RAM Power : 10.2771635055542 W\n[codecarbon INFO @ 16:41:20] Energy consumed for all GPUs : 0.061817 kWh. Total GPU Power : 69.66529918647393 W\n[codecarbon INFO @ 16:41:20] Energy consumed for all CPUs : 0.040551 kWh. Total CPU Power : 42.5 W\n[codecarbon INFO @ 16:41:20] 0.112168 kWh of electricity used since the beginning.\n[codecarbon INFO @ 16:41:26] Energy consumed for RAM : 0.010110 kWh. RAM Power : 10.2771635055542 W\n[codecarbon INFO @ 16:41:26] Energy consumed for all GPUs : 0.062413 kWh. Total GPU Power : 69.61714631686604 W\n[codecarbon INFO @ 16:41:26] Energy consumed for all CPUs : 0.041825 kWh. Total CPU Power : 42.5 W\n[codecarbon INFO @ 16:41:26] 0.114348 kWh of electricity used since the beginning.\n[codecarbon INFO @ 16:41:35] Energy consumed for RAM : 0.009844 kWh. RAM Power : 10.2771635055542 W\n[codecarbon INFO @ 16:41:35] Energy consumed for all GPUs : 0.062106 kWh. Total GPU Power : 69.57012282517688 W\n[codecarbon INFO @ 16:41:35] Energy consumed for all CPUs : 0.040728 kWh. Total CPU Power : 42.5 W\n[codecarbon INFO @ 16:41:35] 0.112678 kWh of electricity used since the beginning.\n[codecarbon INFO @ 16:41:41] Energy consumed for RAM : 0.010153 kWh. RAM Power : 10.2771635055542 W\n[codecarbon INFO @ 16:41:41] Energy consumed for all GPUs : 0.062703 kWh. Total GPU Power : 69.54114547889854 W\n[codecarbon INFO @ 16:41:41] Energy consumed for all CPUs : 0.042002 kWh. Total CPU Power : 42.5 W\n[codecarbon INFO @ 16:41:41] 0.114858 kWh of electricity used since the beginning.\n[codecarbon INFO @ 16:41:50] Energy consumed for RAM : 0.009886 kWh. RAM Power : 10.2771635055542 W\n[codecarbon INFO @ 16:41:50] Energy consumed for all GPUs : 0.062397 kWh. Total GPU Power : 69.69049067987771 W\n[codecarbon INFO @ 16:41:50] Energy consumed for all CPUs : 0.040905 kWh. Total CPU Power : 42.5 W\n[codecarbon INFO @ 16:41:50] 0.113188 kWh of electricity used since the beginning.\n[codecarbon INFO @ 16:41:56] Energy consumed for RAM : 0.010196 kWh. RAM Power : 10.2771635055542 W\n[codecarbon INFO @ 16:41:56] Energy consumed for all GPUs : 0.062991 kWh. Total GPU Power : 69.20113804285121 W\n[codecarbon INFO @ 16:41:56] Energy consumed for all CPUs : 0.042179 kWh. Total CPU Power : 42.5 W\n[codecarbon INFO @ 16:41:56] 0.115366 kWh of electricity used since the beginning.\n[codecarbon INFO @ 16:42:05] Energy consumed for RAM : 0.009929 kWh. RAM Power : 10.2771635055542 W\n[codecarbon INFO @ 16:42:05] Energy consumed for all GPUs : 0.062686 kWh. Total GPU Power : 69.5341855381806 W\n[codecarbon INFO @ 16:42:05] Energy consumed for all CPUs : 0.041082 kWh. Total CPU Power : 42.5 W\n[codecarbon INFO @ 16:42:05] 0.113698 kWh of electricity used since the beginning.\n[codecarbon INFO @ 16:42:11] Energy consumed for RAM : 0.010239 kWh. RAM Power : 10.2771635055542 W\n[codecarbon INFO @ 16:42:11] Energy consumed for all GPUs : 0.063283 kWh. Total GPU Power : 70.01982125653853 W\n[codecarbon INFO @ 16:42:11] Energy consumed for all CPUs : 0.042356 kWh. Total CPU Power : 42.5 W\n[codecarbon INFO @ 16:42:11] 0.115877 kWh of electricity used since the beginning.\n[codecarbon INFO @ 16:42:20] Energy consumed for RAM : 0.009972 kWh. RAM Power : 10.2771635055542 W\n[codecarbon INFO @ 16:42:20] Energy consumed for all GPUs : 0.062976 kWh. Total GPU Power : 69.58528496017512 W\n[codecarbon INFO @ 16:42:20] Energy consumed for all CPUs : 0.041259 kWh. Total CPU Power : 42.5 W\n[codecarbon INFO @ 16:42:20] 0.114207 kWh of electricity used since the beginning.\n[codecarbon INFO @ 16:42:26] Energy consumed for RAM : 0.010282 kWh. RAM Power : 10.2771635055542 W\n[codecarbon INFO @ 16:42:26] Energy consumed for all GPUs : 0.063573 kWh. Total GPU Power : 69.61306495745508 W\n[codecarbon INFO @ 16:42:26] Energy consumed for all CPUs : 0.042533 kWh. Total CPU Power : 42.5 W\n[codecarbon INFO @ 16:42:26] 0.116387 kWh of electricity used since the beginning.\n[codecarbon INFO @ 16:42:35] Energy consumed for RAM : 0.010015 kWh. RAM Power : 10.2771635055542 W\n[codecarbon INFO @ 16:42:35] Energy consumed for all GPUs : 0.063266 kWh. Total GPU Power : 69.65962457910153 W\n[codecarbon INFO @ 16:42:35] Energy consumed for all CPUs : 0.041436 kWh. Total CPU Power : 42.5 W\n[codecarbon INFO @ 16:42:35] 0.114717 kWh of electricity used since the beginning.\n[codecarbon INFO @ 16:42:41] Energy consumed for RAM : 0.010324 kWh. RAM Power : 10.2771635055542 W\n[codecarbon INFO @ 16:42:41] Energy consumed for all GPUs : 0.063861 kWh. Total GPU Power : 69.24274857578735 W\n[codecarbon INFO @ 16:42:41] Energy consumed for all CPUs : 0.042710 kWh. Total CPU Power : 42.5 W\n[codecarbon INFO @ 16:42:41] 0.116895 kWh of electricity used since the beginning.\n[codecarbon INFO @ 16:42:50] Energy consumed for RAM : 0.010058 kWh. RAM Power : 10.2771635055542 W\n[codecarbon INFO @ 16:42:50] Energy consumed for all GPUs : 0.063557 kWh. Total GPU Power : 69.67288519691242 W\n[codecarbon INFO @ 16:42:50] Energy consumed for all CPUs : 0.041613 kWh. Total CPU Power : 42.5 W\n[codecarbon INFO @ 16:42:50] 0.115227 kWh of electricity used since the beginning.\n[codecarbon INFO @ 16:42:56] Energy consumed for RAM : 0.010367 kWh. RAM Power : 10.2771635055542 W\n[codecarbon INFO @ 16:42:56] Energy consumed for all GPUs : 0.064151 kWh. Total GPU Power : 69.66386496445433 W\n[codecarbon INFO @ 16:42:56] Energy consumed for all CPUs : 0.042887 kWh. Total CPU Power : 42.5 W\n[codecarbon INFO @ 16:42:56] 0.117405 kWh of electricity used since the beginning.\n[codecarbon INFO @ 16:43:05] Energy consumed for RAM : 0.010100 kWh. RAM Power : 10.2771635055542 W\n[codecarbon INFO @ 16:43:05] Energy consumed for all GPUs : 0.063845 kWh. Total GPU Power : 69.22415976671343 W\n[codecarbon INFO @ 16:43:05] Energy consumed for all CPUs : 0.041790 kWh. Total CPU Power : 42.5 W\n[codecarbon INFO @ 16:43:05] 0.115736 kWh of electricity used since the beginning.\n[codecarbon INFO @ 16:43:11] Energy consumed for RAM : 0.010410 kWh. RAM Power : 10.2771635055542 W\n[codecarbon INFO @ 16:43:11] Energy consumed for all GPUs : 0.064441 kWh. Total GPU Power : 69.58001168144476 W\n[codecarbon INFO @ 16:43:11] Energy consumed for all CPUs : 0.043064 kWh. Total CPU Power : 42.5 W\n[codecarbon INFO @ 16:43:11] 0.117915 kWh of electricity used since the beginning.\n[codecarbon INFO @ 16:43:20] Energy consumed for RAM : 0.010143 kWh. RAM Power : 10.2771635055542 W\n[codecarbon INFO @ 16:43:20] Energy consumed for all GPUs : 0.064043 kWh. Total GPU Power : 47.479027798136435 W\n[codecarbon INFO @ 16:43:20] Energy consumed for all CPUs : 0.041967 kWh. Total CPU Power : 42.5 W\n[codecarbon INFO @ 16:43:20] 0.116153 kWh of electricity used since the beginning.\n[codecarbon INFO @ 16:43:26] Energy consumed for RAM : 0.010453 kWh. RAM Power : 10.2771635055542 W\n[codecarbon INFO @ 16:43:26] Energy consumed for all GPUs : 0.064572 kWh. Total GPU Power : 31.449348157294715 W\n[codecarbon INFO @ 16:43:26] Energy consumed for all CPUs : 0.043241 kWh. Total CPU Power : 42.5 W\n[codecarbon INFO @ 16:43:26] 0.118266 kWh of electricity used since the beginning.\n[codecarbon INFO @ 16:43:35] Energy consumed for RAM : 0.010186 kWh. RAM Power : 10.2771635055542 W\n[codecarbon INFO @ 16:43:35] Energy consumed for all GPUs : 0.064166 kWh. Total GPU Power : 29.58596094568317 W\n[codecarbon INFO @ 16:43:35] Energy consumed for all CPUs : 0.042144 kWh. Total CPU Power : 42.5 W\n[codecarbon INFO @ 16:43:35] 0.116496 kWh of electricity used since the beginning.\n[codecarbon INFO @ 16:43:41] Energy consumed for RAM : 0.010496 kWh. RAM Power : 10.2771635055542 W\n[codecarbon INFO @ 16:43:41] Energy consumed for all GPUs : 0.064693 kWh. Total GPU Power : 29.132965832990568 W\n[codecarbon INFO @ 16:43:41] Energy consumed for all CPUs : 0.043418 kWh. Total CPU Power : 42.5 W\n[codecarbon INFO @ 16:43:41] 0.118607 kWh of electricity used since the beginning.\n[codecarbon INFO @ 16:43:50] Energy consumed for RAM : 0.010229 kWh. RAM Power : 10.2771635055542 W\n[codecarbon INFO @ 16:43:50] Energy consumed for all GPUs : 0.064286 kWh. Total GPU Power : 28.80973655348761 W\n[codecarbon INFO @ 16:43:50] Energy consumed for all CPUs : 0.042321 kWh. Total CPU Power : 42.5 W\n[codecarbon INFO @ 16:43:50] 0.116836 kWh of electricity used since the beginning.\n[codecarbon INFO @ 16:43:56] Energy consumed for RAM : 0.010538 kWh. RAM Power : 10.2771635055542 W\n[codecarbon INFO @ 16:43:56] Energy consumed for all GPUs : 0.064812 kWh. Total GPU Power : 28.621295994740215 W\n[codecarbon INFO @ 16:43:56] Energy consumed for all CPUs : 0.043595 kWh. Total CPU Power : 42.5 W\n[codecarbon INFO @ 16:43:56] 0.118946 kWh of electricity used since the beginning.\n[codecarbon INFO @ 16:44:05] Energy consumed for RAM : 0.010272 kWh. RAM Power : 10.2771635055542 W\n[codecarbon INFO @ 16:44:05] Energy consumed for all GPUs : 0.064404 kWh. Total GPU Power : 28.383366959574563 W\n[codecarbon INFO @ 16:44:05] Energy consumed for all CPUs : 0.042499 kWh. Total CPU Power : 42.5 W\n[codecarbon INFO @ 16:44:05] 0.117174 kWh of electricity used since the beginning.\n[codecarbon INFO @ 16:44:11] Energy consumed for RAM : 0.010581 kWh. RAM Power : 10.2771635055542 W\n[codecarbon INFO @ 16:44:11] Energy consumed for all GPUs : 0.064931 kWh. Total GPU Power : 28.44205387854993 W\n[codecarbon INFO @ 16:44:11] Energy consumed for all CPUs : 0.043773 kWh. Total CPU Power : 42.5 W\n[codecarbon INFO @ 16:44:11] 0.119285 kWh of electricity used since the beginning.\n[codecarbon INFO @ 16:44:20] Energy consumed for RAM : 0.010314 kWh. RAM Power : 10.2771635055542 W\n[codecarbon INFO @ 16:44:20] Energy consumed for all GPUs : 0.064522 kWh. Total GPU Power : 28.28298827863308 W\n[codecarbon INFO @ 16:44:20] Energy consumed for all CPUs : 0.042676 kWh. Total CPU Power : 42.5 W\n[codecarbon INFO @ 16:44:20] 0.117512 kWh of electricity used since the beginning.\n[codecarbon INFO @ 16:44:26] Energy consumed for RAM : 0.010624 kWh. RAM Power : 10.2771635055542 W\n[codecarbon INFO @ 16:44:26] Energy consumed for all GPUs : 0.065048 kWh. Total GPU Power : 28.032824185194205 W\n[codecarbon INFO @ 16:44:26] Energy consumed for all CPUs : 0.043950 kWh. Total CPU Power : 42.5 W\n[codecarbon INFO @ 16:44:26] 0.119621 kWh of electricity used since the beginning.\n[codecarbon INFO @ 16:44:35] Energy consumed for RAM : 0.010357 kWh. RAM Power : 10.2771635055542 W\n[codecarbon INFO @ 16:44:35] Energy consumed for all GPUs : 0.064638 kWh. Total GPU Power : 27.930798225671893 W\n[codecarbon INFO @ 16:44:35] Energy consumed for all CPUs : 0.042853 kWh. Total CPU Power : 42.5 W\n[codecarbon INFO @ 16:44:35] 0.117848 kWh of electricity used since the beginning.\n[codecarbon INFO @ 16:44:41] Energy consumed for RAM : 0.010667 kWh. RAM Power : 10.2771635055542 W\n[codecarbon INFO @ 16:44:41] Energy consumed for all GPUs : 0.065164 kWh. Total GPU Power : 28.022403744943155 W\n[codecarbon INFO @ 16:44:41] Energy consumed for all CPUs : 0.044127 kWh. Total CPU Power : 42.5 W\n[codecarbon INFO @ 16:44:41] 0.119958 kWh of electricity used since the beginning.\n[codecarbon INFO @ 16:44:50] Energy consumed for RAM : 0.010400 kWh. RAM Power : 10.2771635055542 W\n[codecarbon INFO @ 16:44:50] Energy consumed for all GPUs : 0.064754 kWh. Total GPU Power : 27.697013784702563 W\n[codecarbon INFO @ 16:44:50] Energy consumed for all CPUs : 0.043030 kWh. Total CPU Power : 42.5 W\n[codecarbon INFO @ 16:44:50] 0.118184 kWh of electricity used since the beginning.\n[codecarbon INFO @ 16:44:56] Energy consumed for RAM : 0.010710 kWh. RAM Power : 10.2771635055542 W\n[codecarbon INFO @ 16:44:56] Energy consumed for all GPUs : 0.065279 kWh. Total GPU Power : 27.596886280238273 W\n[codecarbon INFO @ 16:44:56] Energy consumed for all CPUs : 0.044304 kWh. Total CPU Power : 42.5 W\n[codecarbon INFO @ 16:44:56] 0.120293 kWh of electricity used since the beginning.\n[codecarbon INFO @ 16:45:05] Energy consumed for RAM : 0.010443 kWh. RAM Power : 10.2771635055542 W\n[codecarbon INFO @ 16:45:05] Energy consumed for all GPUs : 0.064869 kWh. Total GPU Power : 27.651242522713947 W\n[codecarbon INFO @ 16:45:05] Energy consumed for all CPUs : 0.043207 kWh. Total CPU Power : 42.5 W\n[codecarbon INFO @ 16:45:05] 0.118519 kWh of electricity used since the beginning.\n[codecarbon INFO @ 16:45:11] Energy consumed for RAM : 0.010752 kWh. RAM Power : 10.2771635055542 W\n[codecarbon INFO @ 16:45:11] Energy consumed for all GPUs : 0.065393 kWh. Total GPU Power : 27.378998456506377 W\n[codecarbon INFO @ 16:45:11] Energy consumed for all CPUs : 0.044481 kWh. Total CPU Power : 42.5 W\n[codecarbon INFO @ 16:45:11] 0.120627 kWh of electricity used since the beginning.\n[codecarbon INFO @ 16:45:20] Energy consumed for RAM : 0.010486 kWh. RAM Power : 10.2771635055542 W\n[codecarbon INFO @ 16:45:20] Energy consumed for all GPUs : 0.065072 kWh. Total GPU Power : 48.726769608096085 W\n[codecarbon INFO @ 16:45:20] Energy consumed for all CPUs : 0.043384 kWh. Total CPU Power : 42.5 W\n[codecarbon INFO @ 16:45:20] 0.118941 kWh of electricity used since the beginning.\n[codecarbon INFO @ 16:45:26] Energy consumed for RAM : 0.010795 kWh. RAM Power : 10.2771635055542 W\n[codecarbon INFO @ 16:45:26] Energy consumed for all GPUs : 0.065668 kWh. Total GPU Power : 65.93895285463934 W\n[codecarbon INFO @ 16:45:26] Energy consumed for all CPUs : 0.044658 kWh. Total CPU Power : 42.5 W\n[codecarbon INFO @ 16:45:26] 0.121121 kWh of electricity used since the beginning.\n[codecarbon INFO @ 16:45:35] Energy consumed for RAM : 0.010528 kWh. RAM Power : 10.2771635055542 W\n[codecarbon INFO @ 16:45:35] Energy consumed for all GPUs : 0.065362 kWh. Total GPU Power : 69.63472132730737 W\n[codecarbon INFO @ 16:45:35] Energy consumed for all CPUs : 0.043561 kWh. Total CPU Power : 42.5 W\n[codecarbon INFO @ 16:45:35] 0.119451 kWh of electricity used since the beginning.\n/anaconda/envs/azureml_py38/lib/python3.8/site-packages/sklearn/metrics/_classification.py:1272: UndefinedMetricWarning: Precision is ill-defined and being set to 0.0 in samples with no predicted labels. Use `zero_division` parameter to control this behavior.\n  _warn_prf(average, modifier, msg_start, len(result))\n/anaconda/envs/azureml_py38/lib/python3.8/site-packages/sklearn/metrics/_classification.py:1272: UndefinedMetricWarning: Recall is ill-defined and being set to 0.0 in samples with no true labels. Use `zero_division` parameter to control this behavior.\n  _warn_prf(average, modifier, msg_start, len(result))\n/anaconda/envs/azureml_py38/lib/python3.8/site-packages/sklearn/metrics/_classification.py:1514: UndefinedMetricWarning: F-score is ill-defined and being set to 0.0 in samples with no true nor predicted labels. Use `zero_division` parameter to control this behavior.\n  _warn_prf(\n[codecarbon INFO @ 16:45:41] Energy consumed for RAM : 0.010839 kWh. RAM Power : 10.2771635055542 W\n[codecarbon INFO @ 16:45:41] Energy consumed for all GPUs : 0.065927 kWh. Total GPU Power : 61.36269684751873 W\n[codecarbon INFO @ 16:45:41] Energy consumed for all CPUs : 0.044837 kWh. Total CPU Power : 42.5 W\n[codecarbon INFO @ 16:45:41] 0.121602 kWh of electricity used since the beginning.\n[codecarbon INFO @ 16:45:50] Energy consumed for RAM : 0.010571 kWh. RAM Power : 10.2771635055542 W\n[codecarbon INFO @ 16:45:50] Energy consumed for all GPUs : 0.065547 kWh. Total GPU Power : 44.4643458149244 W\n[codecarbon INFO @ 16:45:50] Energy consumed for all CPUs : 0.043738 kWh. Total CPU Power : 42.5 W\n[codecarbon INFO @ 16:45:50] 0.119857 kWh of electricity used since the beginning.\n[codecarbon INFO @ 16:45:56] Energy consumed for RAM : 0.010881 kWh. RAM Power : 10.2771635055542 W\n[codecarbon INFO @ 16:45:56] Energy consumed for all GPUs : 0.066145 kWh. Total GPU Power : 52.46914604021461 W\n[codecarbon INFO @ 16:45:56] Energy consumed for all CPUs : 0.045014 kWh. Total CPU Power : 42.5 W\n[codecarbon INFO @ 16:45:56] 0.122041 kWh of electricity used since the beginning.\n[codecarbon INFO @ 16:46:05] Energy consumed for RAM : 0.010614 kWh. RAM Power : 10.2771635055542 W\n[codecarbon INFO @ 16:46:05] Energy consumed for all GPUs : 0.065837 kWh. Total GPU Power : 69.50478513444851 W\n[codecarbon INFO @ 16:46:05] Energy consumed for all CPUs : 0.043915 kWh. Total CPU Power : 42.5 W\n[codecarbon INFO @ 16:46:05] 0.120366 kWh of electricity used since the beginning.\n[codecarbon INFO @ 16:46:11] Energy consumed for RAM : 0.010924 kWh. RAM Power : 10.2771635055542 W\n[codecarbon INFO @ 16:46:11] Energy consumed for all GPUs : 0.066435 kWh. Total GPU Power : 69.52290362475142 W\n[codecarbon INFO @ 16:46:11] Energy consumed for all CPUs : 0.045191 kWh. Total CPU Power : 42.5 W\n[codecarbon INFO @ 16:46:11] 0.122550 kWh of electricity used since the beginning.\n[codecarbon INFO @ 16:46:20] Energy consumed for RAM : 0.010657 kWh. RAM Power : 10.2771635055542 W\n[codecarbon INFO @ 16:46:20] Energy consumed for all GPUs : 0.066125 kWh. Total GPU Power : 69.11579470258823 W\n[codecarbon INFO @ 16:46:20] Energy consumed for all CPUs : 0.044092 kWh. Total CPU Power : 42.5 W\n[codecarbon INFO @ 16:46:20] 0.120874 kWh of electricity used since the beginning.\n[codecarbon INFO @ 16:46:26] Energy consumed for RAM : 0.010967 kWh. RAM Power : 10.2771635055542 W\n[codecarbon INFO @ 16:46:26] Energy consumed for all GPUs : 0.066725 kWh. Total GPU Power : 69.61767415986132 W\n[codecarbon INFO @ 16:46:26] Energy consumed for all CPUs : 0.045368 kWh. Total CPU Power : 42.5 W\n[codecarbon INFO @ 16:46:26] 0.123060 kWh of electricity used since the beginning.\n[codecarbon INFO @ 16:46:35] Energy consumed for RAM : 0.010700 kWh. RAM Power : 10.2771635055542 W\n[codecarbon INFO @ 16:46:35] Energy consumed for all GPUs : 0.066415 kWh. Total GPU Power : 69.6071146801647 W\n[codecarbon INFO @ 16:46:35] Energy consumed for all CPUs : 0.044269 kWh. Total CPU Power : 42.5 W\n[codecarbon INFO @ 16:46:35] 0.121384 kWh of electricity used since the beginning.\n[codecarbon INFO @ 16:46:41] Energy consumed for RAM : 0.011010 kWh. RAM Power : 10.2771635055542 W\n[codecarbon INFO @ 16:46:41] Energy consumed for all GPUs : 0.067015 kWh. Total GPU Power : 69.58623380709638 W\n[codecarbon INFO @ 16:46:41] Energy consumed for all CPUs : 0.045545 kWh. Total CPU Power : 42.5 W\n[codecarbon INFO @ 16:46:41] 0.123570 kWh of electricity used since the beginning.\n[codecarbon INFO @ 16:46:50] Energy consumed for RAM : 0.010742 kWh. RAM Power : 10.2771635055542 W\n[codecarbon INFO @ 16:46:50] Energy consumed for all GPUs : 0.066704 kWh. Total GPU Power : 69.5640926513548 W\n[codecarbon INFO @ 16:46:50] Energy consumed for all CPUs : 0.044446 kWh. Total CPU Power : 42.5 W\n[codecarbon INFO @ 16:46:50] 0.121893 kWh of electricity used since the beginning.\n[codecarbon INFO @ 16:46:56] Energy consumed for RAM : 0.011053 kWh. RAM Power : 10.2771635055542 W\n[codecarbon INFO @ 16:46:56] Energy consumed for all GPUs : 0.067305 kWh. Total GPU Power : 69.62629989246865 W\n[codecarbon INFO @ 16:46:56] Energy consumed for all CPUs : 0.045722 kWh. Total CPU Power : 42.5 W\n[codecarbon INFO @ 16:46:56] 0.124080 kWh of electricity used since the beginning.\n[codecarbon INFO @ 16:47:05] Energy consumed for RAM : 0.010785 kWh. RAM Power : 10.2771635055542 W\n[codecarbon INFO @ 16:47:05] Energy consumed for all GPUs : 0.066995 kWh. Total GPU Power : 69.75755245222409 W\n[codecarbon INFO @ 16:47:05] Energy consumed for all CPUs : 0.044623 kWh. Total CPU Power : 42.5 W\n[codecarbon INFO @ 16:47:05] 0.122404 kWh of electricity used since the beginning.\n[codecarbon INFO @ 16:47:11] Energy consumed for RAM : 0.011095 kWh. RAM Power : 10.2771635055542 W\n[codecarbon INFO @ 16:47:11] Energy consumed for all GPUs : 0.067595 kWh. Total GPU Power : 69.62452900547504 W\n[codecarbon INFO @ 16:47:11] Energy consumed for all CPUs : 0.045900 kWh. Total CPU Power : 42.5 W\n[codecarbon INFO @ 16:47:11] 0.124590 kWh of electricity used since the beginning.\n[codecarbon INFO @ 16:47:20] Energy consumed for RAM : 0.010828 kWh. RAM Power : 10.2771635055542 W\n[codecarbon INFO @ 16:47:20] Energy consumed for all GPUs : 0.067285 kWh. Total GPU Power : 69.60115784253505 W\n[codecarbon INFO @ 16:47:20] Energy consumed for all CPUs : 0.044801 kWh. Total CPU Power : 42.5 W\n[codecarbon INFO @ 16:47:20] 0.122913 kWh of electricity used since the beginning.\n[codecarbon INFO @ 16:47:26] Energy consumed for RAM : 0.011138 kWh. RAM Power : 10.2771635055542 W\n[codecarbon INFO @ 16:47:26] Energy consumed for all GPUs : 0.067885 kWh. Total GPU Power : 69.71399987824213 W\n[codecarbon INFO @ 16:47:26] Energy consumed for all CPUs : 0.046077 kWh. Total CPU Power : 42.5 W\n[codecarbon INFO @ 16:47:26] 0.125100 kWh of electricity used since the beginning.\n[codecarbon INFO @ 16:47:35] Energy consumed for RAM : 0.010871 kWh. RAM Power : 10.2771635055542 W\n[codecarbon INFO @ 16:47:35] Energy consumed for all GPUs : 0.067575 kWh. Total GPU Power : 69.65642102091273 W\n[codecarbon INFO @ 16:47:35] Energy consumed for all CPUs : 0.044978 kWh. Total CPU Power : 42.5 W\n[codecarbon INFO @ 16:47:35] 0.123424 kWh of electricity used since the beginning.\n[codecarbon INFO @ 16:47:41] Energy consumed for RAM : 0.011181 kWh. RAM Power : 10.2771635055542 W\n[codecarbon INFO @ 16:47:41] Energy consumed for all GPUs : 0.068173 kWh. Total GPU Power : 69.09529632916676 W\n[codecarbon INFO @ 16:47:41] Energy consumed for all CPUs : 0.046254 kWh. Total CPU Power : 42.5 W\n[codecarbon INFO @ 16:47:41] 0.125608 kWh of electricity used since the beginning.\n[codecarbon INFO @ 16:47:50] Energy consumed for RAM : 0.010914 kWh. RAM Power : 10.2771635055542 W\n[codecarbon INFO @ 16:47:50] Energy consumed for all GPUs : 0.067865 kWh. Total GPU Power : 69.6109857159559 W\n[codecarbon INFO @ 16:47:50] Energy consumed for all CPUs : 0.045155 kWh. Total CPU Power : 42.5 W\n[codecarbon INFO @ 16:47:50] 0.123933 kWh of electricity used since the beginning.\n[codecarbon INFO @ 16:47:56] Energy consumed for RAM : 0.011224 kWh. RAM Power : 10.2771635055542 W\n[codecarbon INFO @ 16:47:56] Energy consumed for all GPUs : 0.068463 kWh. Total GPU Power : 69.5279593244798 W\n[codecarbon INFO @ 16:47:56] Energy consumed for all CPUs : 0.046431 kWh. Total CPU Power : 42.5 W\n[codecarbon INFO @ 16:47:56] 0.126117 kWh of electricity used since the beginning.\n[codecarbon INFO @ 16:48:05] Energy consumed for RAM : 0.010956 kWh. RAM Power : 10.2771635055542 W\n[codecarbon INFO @ 16:48:05] Energy consumed for all GPUs : 0.068155 kWh. Total GPU Power : 69.58340809109926 W\n[codecarbon INFO @ 16:48:05] Energy consumed for all CPUs : 0.045332 kWh. Total CPU Power : 42.5 W\n[codecarbon INFO @ 16:48:05] 0.124443 kWh of electricity used since the beginning.\n[codecarbon INFO @ 16:48:11] Energy consumed for RAM : 0.011267 kWh. RAM Power : 10.2771635055542 W\n[codecarbon INFO @ 16:48:11] Energy consumed for all GPUs : 0.068753 kWh. Total GPU Power : 69.70674155743146 W\n[codecarbon INFO @ 16:48:11] Energy consumed for all CPUs : 0.046608 kWh. Total CPU Power : 42.5 W\n[codecarbon INFO @ 16:48:11] 0.126627 kWh of electricity used since the beginning.\n[codecarbon INFO @ 16:48:20] Energy consumed for RAM : 0.010999 kWh. RAM Power : 10.2771635055542 W\n[codecarbon INFO @ 16:48:20] Energy consumed for all GPUs : 0.068445 kWh. Total GPU Power : 69.63003861873501 W\n[codecarbon INFO @ 16:48:20] Energy consumed for all CPUs : 0.045509 kWh. Total CPU Power : 42.5 W\n[codecarbon INFO @ 16:48:20] 0.124953 kWh of electricity used since the beginning.\n[codecarbon INFO @ 16:48:26] Energy consumed for RAM : 0.011309 kWh. RAM Power : 10.2771635055542 W\n[codecarbon INFO @ 16:48:26] Energy consumed for all GPUs : 0.069043 kWh. Total GPU Power : 69.62235109219665 W\n[codecarbon INFO @ 16:48:26] Energy consumed for all CPUs : 0.046785 kWh. Total CPU Power : 42.5 W\n[codecarbon INFO @ 16:48:26] 0.127137 kWh of electricity used since the beginning.\n[codecarbon INFO @ 16:48:35] Energy consumed for RAM : 0.011042 kWh. RAM Power : 10.2771635055542 W\n[codecarbon INFO @ 16:48:35] Energy consumed for all GPUs : 0.068735 kWh. Total GPU Power : 69.77178687649732 W\n[codecarbon INFO @ 16:48:35] Energy consumed for all CPUs : 0.045686 kWh. Total CPU Power : 42.5 W\n[codecarbon INFO @ 16:48:35] 0.125463 kWh of electricity used since the beginning.\n[codecarbon INFO @ 16:48:41] Energy consumed for RAM : 0.011352 kWh. RAM Power : 10.2771635055542 W\n[codecarbon INFO @ 16:48:41] Energy consumed for all GPUs : 0.069334 kWh. Total GPU Power : 69.77077251591234 W\n[codecarbon INFO @ 16:48:41] Energy consumed for all CPUs : 0.046962 kWh. Total CPU Power : 42.5 W\n[codecarbon INFO @ 16:48:41] 0.127648 kWh of electricity used since the beginning.\n[codecarbon INFO @ 16:48:50] Energy consumed for RAM : 0.011085 kWh. RAM Power : 10.2771635055542 W\n[codecarbon INFO @ 16:48:50] Energy consumed for all GPUs : 0.069024 kWh. Total GPU Power : 69.2204380974148 W\n[codecarbon INFO @ 16:48:50] Energy consumed for all CPUs : 0.045863 kWh. Total CPU Power : 42.5 W\n[codecarbon INFO @ 16:48:50] 0.125972 kWh of electricity used since the beginning.\n[codecarbon INFO @ 16:48:56] Energy consumed for RAM : 0.011395 kWh. RAM Power : 10.2771635055542 W\n[codecarbon INFO @ 16:48:56] Energy consumed for all GPUs : 0.069624 kWh. Total GPU Power : 69.60753092114832 W\n[codecarbon INFO @ 16:48:56] Energy consumed for all CPUs : 0.047139 kWh. Total CPU Power : 42.5 W\n[codecarbon INFO @ 16:48:56] 0.128158 kWh of electricity used since the beginning.\n[codecarbon INFO @ 16:49:05] Energy consumed for RAM : 0.011128 kWh. RAM Power : 10.2771635055542 W\n[codecarbon INFO @ 16:49:05] Energy consumed for all GPUs : 0.069314 kWh. Total GPU Power : 69.62548724030412 W\n[codecarbon INFO @ 16:49:05] Energy consumed for all CPUs : 0.046040 kWh. Total CPU Power : 42.5 W\n[codecarbon INFO @ 16:49:05] 0.126481 kWh of electricity used since the beginning.\n[codecarbon INFO @ 16:49:11] Energy consumed for RAM : 0.011438 kWh. RAM Power : 10.2771635055542 W\n[codecarbon INFO @ 16:49:11] Energy consumed for all GPUs : 0.069914 kWh. Total GPU Power : 69.57935437113949 W\n[codecarbon INFO @ 16:49:11] Energy consumed for all CPUs : 0.047316 kWh. Total CPU Power : 42.5 W\n[codecarbon INFO @ 16:49:11] 0.128667 kWh of electricity used since the beginning.\n[codecarbon INFO @ 16:49:20] Energy consumed for RAM : 0.011170 kWh. RAM Power : 10.2771635055542 W\n[codecarbon INFO @ 16:49:20] Energy consumed for all GPUs : 0.069603 kWh. Total GPU Power : 69.61171342494498 W\n[codecarbon INFO @ 16:49:20] Energy consumed for all CPUs : 0.046217 kWh. Total CPU Power : 42.5 W\n[codecarbon INFO @ 16:49:20] 0.126991 kWh of electricity used since the beginning.\n[codecarbon INFO @ 16:49:26] Energy consumed for RAM : 0.011481 kWh. RAM Power : 10.2771635055542 W\n[codecarbon INFO @ 16:49:26] Energy consumed for all GPUs : 0.070204 kWh. Total GPU Power : 69.65462361411944 W\n[codecarbon INFO @ 16:49:26] Energy consumed for all CPUs : 0.047493 kWh. Total CPU Power : 42.5 W\n[codecarbon INFO @ 16:49:26] 0.129178 kWh of electricity used since the beginning.\n[codecarbon INFO @ 16:49:35] Energy consumed for RAM : 0.011213 kWh. RAM Power : 10.2771635055542 W\n[codecarbon INFO @ 16:49:35] Energy consumed for all GPUs : 0.069893 kWh. Total GPU Power : 69.59289882697489 W\n[codecarbon INFO @ 16:49:35] Energy consumed for all CPUs : 0.046394 kWh. Total CPU Power : 42.5 W\n[codecarbon INFO @ 16:49:35] 0.127501 kWh of electricity used since the beginning.\n[codecarbon INFO @ 16:49:41] Energy consumed for RAM : 0.011523 kWh. RAM Power : 10.2771635055542 W\n[codecarbon INFO @ 16:49:41] Energy consumed for all GPUs : 0.070494 kWh. Total GPU Power : 69.70623580205528 W\n[codecarbon INFO @ 16:49:41] Energy consumed for all CPUs : 0.047670 kWh. Total CPU Power : 42.5 W\n[codecarbon INFO @ 16:49:41] 0.129688 kWh of electricity used since the beginning.\n[codecarbon INFO @ 16:49:50] Energy consumed for RAM : 0.011256 kWh. RAM Power : 10.2771635055542 W\n[codecarbon INFO @ 16:49:50] Energy consumed for all GPUs : 0.070184 kWh. Total GPU Power : 69.7445171653284 W\n[codecarbon INFO @ 16:49:50] Energy consumed for all CPUs : 0.046571 kWh. Total CPU Power : 42.5 W\n[codecarbon INFO @ 16:49:50] 0.128011 kWh of electricity used since the beginning.\n[codecarbon INFO @ 16:49:56] Energy consumed for RAM : 0.011566 kWh. RAM Power : 10.2771635055542 W\n[codecarbon INFO @ 16:49:56] Energy consumed for all GPUs : 0.070784 kWh. Total GPU Power : 69.59859105057797 W\n[codecarbon INFO @ 16:49:56] Energy consumed for all CPUs : 0.047847 kWh. Total CPU Power : 42.5 W\n[codecarbon INFO @ 16:49:56] 0.130198 kWh of electricity used since the beginning.\n[codecarbon INFO @ 16:50:05] Energy consumed for RAM : 0.011299 kWh. RAM Power : 10.2771635055542 W\n[codecarbon INFO @ 16:50:05] Energy consumed for all GPUs : 0.070474 kWh. Total GPU Power : 69.62391876023338 W\n[codecarbon INFO @ 16:50:05] Energy consumed for all CPUs : 0.046748 kWh. Total CPU Power : 42.5 W\n[codecarbon INFO @ 16:50:05] 0.128521 kWh of electricity used since the beginning.\n[codecarbon INFO @ 16:50:11] Energy consumed for RAM : 0.011609 kWh. RAM Power : 10.2771635055542 W\n[codecarbon INFO @ 16:50:11] Energy consumed for all GPUs : 0.071074 kWh. Total GPU Power : 69.63211001602569 W\n[codecarbon INFO @ 16:50:11] Energy consumed for all CPUs : 0.048024 kWh. Total CPU Power : 42.5 W\n[codecarbon INFO @ 16:50:11] 0.130707 kWh of electricity used since the beginning.\n[codecarbon INFO @ 16:50:20] Energy consumed for RAM : 0.011342 kWh. RAM Power : 10.2771635055542 W\n[codecarbon INFO @ 16:50:20] Energy consumed for all GPUs : 0.070764 kWh. Total GPU Power : 69.69333090354276 W\n[codecarbon INFO @ 16:50:20] Energy consumed for all CPUs : 0.046925 kWh. Total CPU Power : 42.5 W\n[codecarbon INFO @ 16:50:20] 0.129031 kWh of electricity used since the beginning.\n[codecarbon INFO @ 16:50:26] Energy consumed for RAM : 0.011652 kWh. RAM Power : 10.2771635055542 W\n[codecarbon INFO @ 16:50:26] Energy consumed for all GPUs : 0.071364 kWh. Total GPU Power : 69.64023122355927 W\n[codecarbon INFO @ 16:50:26] Energy consumed for all CPUs : 0.048202 kWh. Total CPU Power : 42.5 W\n[codecarbon INFO @ 16:50:26] 0.131217 kWh of electricity used since the beginning.\n[codecarbon INFO @ 16:50:35] Energy consumed for RAM : 0.011384 kWh. RAM Power : 10.2771635055542 W\n[codecarbon INFO @ 16:50:35] Energy consumed for all GPUs : 0.071054 kWh. Total GPU Power : 69.53631846190508 W\n[codecarbon INFO @ 16:50:35] Energy consumed for all CPUs : 0.047102 kWh. Total CPU Power : 42.5 W\n[codecarbon INFO @ 16:50:35] 0.129541 kWh of electricity used since the beginning.\n[codecarbon INFO @ 16:50:41] Energy consumed for RAM : 0.011695 kWh. RAM Power : 10.2771635055542 W\n[codecarbon INFO @ 16:50:41] Energy consumed for all GPUs : 0.071654 kWh. Total GPU Power : 69.62900749963453 W\n[codecarbon INFO @ 16:50:41] Energy consumed for all CPUs : 0.048379 kWh. Total CPU Power : 42.5 W\n[codecarbon INFO @ 16:50:41] 0.131727 kWh of electricity used since the beginning.\n[codecarbon INFO @ 16:50:50] Energy consumed for RAM : 0.011427 kWh. RAM Power : 10.2771635055542 W\n[codecarbon INFO @ 16:50:50] Energy consumed for all GPUs : 0.071344 kWh. Total GPU Power : 69.641021638422 W\n[codecarbon INFO @ 16:50:50] Energy consumed for all CPUs : 0.047280 kWh. Total CPU Power : 42.5 W\n[codecarbon INFO @ 16:50:50] 0.130051 kWh of electricity used since the beginning.\n[codecarbon INFO @ 16:50:56] Energy consumed for RAM : 0.011737 kWh. RAM Power : 10.2771635055542 W\n[codecarbon INFO @ 16:50:56] Energy consumed for all GPUs : 0.071944 kWh. Total GPU Power : 69.72157343864386 W\n[codecarbon INFO @ 16:50:56] Energy consumed for all CPUs : 0.048556 kWh. Total CPU Power : 42.5 W\n[codecarbon INFO @ 16:50:56] 0.132237 kWh of electricity used since the beginning.\n[codecarbon INFO @ 16:51:05] Energy consumed for RAM : 0.011470 kWh. RAM Power : 10.2771635055542 W\n[codecarbon INFO @ 16:51:05] Energy consumed for all GPUs : 0.071634 kWh. Total GPU Power : 69.63656632506981 W\n[codecarbon INFO @ 16:51:05] Energy consumed for all CPUs : 0.047457 kWh. Total CPU Power : 42.5 W\n[codecarbon INFO @ 16:51:05] 0.130561 kWh of electricity used since the beginning.\n[codecarbon INFO @ 16:51:11] Energy consumed for RAM : 0.011780 kWh. RAM Power : 10.2771635055542 W\n[codecarbon INFO @ 16:51:11] Energy consumed for all GPUs : 0.072234 kWh. Total GPU Power : 69.49984403351084 W\n[codecarbon INFO @ 16:51:11] Energy consumed for all CPUs : 0.048733 kWh. Total CPU Power : 42.5 W\n[codecarbon INFO @ 16:51:11] 0.132747 kWh of electricity used since the beginning.\n[codecarbon INFO @ 16:51:20] Energy consumed for RAM : 0.011513 kWh. RAM Power : 10.2771635055542 W\n[codecarbon INFO @ 16:51:20] Energy consumed for all GPUs : 0.071924 kWh. Total GPU Power : 69.53370438712162 W\n[codecarbon INFO @ 16:51:20] Energy consumed for all CPUs : 0.047634 kWh. Total CPU Power : 42.5 W\n[codecarbon INFO @ 16:51:20] 0.131070 kWh of electricity used since the beginning.\n[codecarbon INFO @ 16:51:26] Energy consumed for RAM : 0.011823 kWh. RAM Power : 10.2771635055542 W\n[codecarbon INFO @ 16:51:26] Energy consumed for all GPUs : 0.072524 kWh. Total GPU Power : 69.55242451315772 W\n[codecarbon INFO @ 16:51:26] Energy consumed for all CPUs : 0.048910 kWh. Total CPU Power : 42.5 W\n[codecarbon INFO @ 16:51:26] 0.133256 kWh of electricity used since the beginning.\n[codecarbon INFO @ 16:51:35] Energy consumed for RAM : 0.011556 kWh. RAM Power : 10.2771635055542 W\n[codecarbon INFO @ 16:51:35] Energy consumed for all GPUs : 0.072214 kWh. Total GPU Power : 69.63542706894414 W\n[codecarbon INFO @ 16:51:35] Energy consumed for all CPUs : 0.047811 kWh. Total CPU Power : 42.5 W\n[codecarbon INFO @ 16:51:35] 0.131580 kWh of electricity used since the beginning.\n[codecarbon INFO @ 16:51:41] Energy consumed for RAM : 0.011866 kWh. RAM Power : 10.2771635055542 W\n[codecarbon INFO @ 16:51:41] Energy consumed for all GPUs : 0.072814 kWh. Total GPU Power : 69.66041860242453 W\n[codecarbon INFO @ 16:51:41] Energy consumed for all CPUs : 0.049087 kWh. Total CPU Power : 42.5 W\n[codecarbon INFO @ 16:51:41] 0.133766 kWh of electricity used since the beginning.\n[codecarbon INFO @ 16:51:50] Energy consumed for RAM : 0.011598 kWh. RAM Power : 10.2771635055542 W\n[codecarbon INFO @ 16:51:50] Energy consumed for all GPUs : 0.072504 kWh. Total GPU Power : 69.64832330573348 W\n[codecarbon INFO @ 16:51:50] Energy consumed for all CPUs : 0.047988 kWh. Total CPU Power : 42.5 W\n[codecarbon INFO @ 16:51:50] 0.132090 kWh of electricity used since the beginning.\n[codecarbon INFO @ 16:51:56] Energy consumed for RAM : 0.011909 kWh. RAM Power : 10.2771635055542 W\n[codecarbon INFO @ 16:51:56] Energy consumed for all GPUs : 0.073104 kWh. Total GPU Power : 69.67546385461195 W\n[codecarbon INFO @ 16:51:56] Energy consumed for all CPUs : 0.049264 kWh. Total CPU Power : 42.5 W\n[codecarbon INFO @ 16:51:56] 0.134277 kWh of electricity used since the beginning.\n[codecarbon INFO @ 16:52:05] Energy consumed for RAM : 0.011641 kWh. RAM Power : 10.2771635055542 W\n[codecarbon INFO @ 16:52:05] Energy consumed for all GPUs : 0.072794 kWh. Total GPU Power : 69.70770070225159 W\n[codecarbon INFO @ 16:52:05] Energy consumed for all CPUs : 0.048165 kWh. Total CPU Power : 42.5 W\n[codecarbon INFO @ 16:52:05] 0.132600 kWh of electricity used since the beginning.\n[codecarbon INFO @ 16:52:11] Energy consumed for RAM : 0.011951 kWh. RAM Power : 10.2771635055542 W\n[codecarbon INFO @ 16:52:11] Energy consumed for all GPUs : 0.073394 kWh. Total GPU Power : 69.62646496252046 W\n[codecarbon INFO @ 16:52:11] Energy consumed for all CPUs : 0.049441 kWh. Total CPU Power : 42.5 W\n[codecarbon INFO @ 16:52:11] 0.134787 kWh of electricity used since the beginning.\n[codecarbon INFO @ 16:52:20] Energy consumed for RAM : 0.011684 kWh. RAM Power : 10.2771635055542 W\n[codecarbon INFO @ 16:52:20] Energy consumed for all GPUs : 0.073084 kWh. Total GPU Power : 69.58933059569434 W\n[codecarbon INFO @ 16:52:20] Energy consumed for all CPUs : 0.048342 kWh. Total CPU Power : 42.5 W\n[codecarbon INFO @ 16:52:20] 0.133110 kWh of electricity used since the beginning.\n[codecarbon INFO @ 16:52:26] Energy consumed for RAM : 0.011994 kWh. RAM Power : 10.2771635055542 W\n[codecarbon INFO @ 16:52:26] Energy consumed for all GPUs : 0.073684 kWh. Total GPU Power : 69.5766746908034 W\n[codecarbon INFO @ 16:52:26] Energy consumed for all CPUs : 0.049618 kWh. Total CPU Power : 42.5 W\n[codecarbon INFO @ 16:52:26] 0.135296 kWh of electricity used since the beginning.\n[codecarbon INFO @ 16:52:35] Energy consumed for RAM : 0.011727 kWh. RAM Power : 10.2771635055542 W\n[codecarbon INFO @ 16:52:35] Energy consumed for all GPUs : 0.073374 kWh. Total GPU Power : 69.56973908452417 W\n[codecarbon INFO @ 16:52:35] Energy consumed for all CPUs : 0.048519 kWh. Total CPU Power : 42.5 W\n[codecarbon INFO @ 16:52:35] 0.133620 kWh of electricity used since the beginning.\n[codecarbon INFO @ 16:52:41] Energy consumed for RAM : 0.012037 kWh. RAM Power : 10.2771635055542 W\n[codecarbon INFO @ 16:52:41] Energy consumed for all GPUs : 0.073974 kWh. Total GPU Power : 69.56706876323192 W\n[codecarbon INFO @ 16:52:41] Energy consumed for all CPUs : 0.049795 kWh. Total CPU Power : 42.5 W\n[codecarbon INFO @ 16:52:41] 0.135806 kWh of electricity used since the beginning.\n[codecarbon INFO @ 16:52:50] Energy consumed for RAM : 0.011770 kWh. RAM Power : 10.2771635055542 W\n[codecarbon INFO @ 16:52:50] Energy consumed for all GPUs : 0.073664 kWh. Total GPU Power : 69.61402578871208 W\n[codecarbon INFO @ 16:52:50] Energy consumed for all CPUs : 0.048696 kWh. Total CPU Power : 42.5 W\n[codecarbon INFO @ 16:52:50] 0.134130 kWh of electricity used since the beginning.\n[codecarbon INFO @ 16:52:56] Energy consumed for RAM : 0.012080 kWh. RAM Power : 10.2771635055542 W\n[codecarbon INFO @ 16:52:56] Energy consumed for all GPUs : 0.074264 kWh. Total GPU Power : 69.63364711152163 W\n[codecarbon INFO @ 16:52:56] Energy consumed for all CPUs : 0.049972 kWh. Total CPU Power : 42.5 W\n[codecarbon INFO @ 16:52:56] 0.136316 kWh of electricity used since the beginning.\n[codecarbon INFO @ 16:53:05] Energy consumed for RAM : 0.011813 kWh. RAM Power : 10.2771635055542 W\n[codecarbon INFO @ 16:53:05] Energy consumed for all GPUs : 0.073954 kWh. Total GPU Power : 69.6653995239562 W\n[codecarbon INFO @ 16:53:05] Energy consumed for all CPUs : 0.048873 kWh. Total CPU Power : 42.5 W\n[codecarbon INFO @ 16:53:05] 0.134640 kWh of electricity used since the beginning.\n[codecarbon INFO @ 16:53:11] Energy consumed for RAM : 0.012123 kWh. RAM Power : 10.2771635055542 W\n[codecarbon INFO @ 16:53:11] Energy consumed for all GPUs : 0.074552 kWh. Total GPU Power : 69.23466385076861 W\n[codecarbon INFO @ 16:53:11] Energy consumed for all CPUs : 0.050149 kWh. Total CPU Power : 42.5 W\n[codecarbon INFO @ 16:53:11] 0.136824 kWh of electricity used since the beginning.\n[codecarbon INFO @ 16:53:20] Energy consumed for RAM : 0.011855 kWh. RAM Power : 10.2771635055542 W\n[codecarbon INFO @ 16:53:20] Energy consumed for all GPUs : 0.074244 kWh. Total GPU Power : 69.64903628623215 W\n[codecarbon INFO @ 16:53:20] Energy consumed for all CPUs : 0.049050 kWh. Total CPU Power : 42.5 W\n[codecarbon INFO @ 16:53:20] 0.135149 kWh of electricity used since the beginning.\n[codecarbon INFO @ 16:53:26] Energy consumed for RAM : 0.012166 kWh. RAM Power : 10.2771635055542 W\n[codecarbon INFO @ 16:53:26] Energy consumed for all GPUs : 0.074842 kWh. Total GPU Power : 69.5703217202068 W\n[codecarbon INFO @ 16:53:26] Energy consumed for all CPUs : 0.050326 kWh. Total CPU Power : 42.5 W\n[codecarbon INFO @ 16:53:26] 0.137334 kWh of electricity used since the beginning.\n[codecarbon INFO @ 16:53:35] Energy consumed for RAM : 0.011898 kWh. RAM Power : 10.2771635055542 W\n[codecarbon INFO @ 16:53:35] Energy consumed for all GPUs : 0.074534 kWh. Total GPU Power : 69.58752863294018 W\n[codecarbon INFO @ 16:53:35] Energy consumed for all CPUs : 0.049227 kWh. Total CPU Power : 42.5 W\n[codecarbon INFO @ 16:53:35] 0.135659 kWh of electricity used since the beginning.\n[codecarbon INFO @ 16:53:41] Energy consumed for RAM : 0.012208 kWh. RAM Power : 10.2771635055542 W\n[codecarbon INFO @ 16:53:41] Energy consumed for all GPUs : 0.075132 kWh. Total GPU Power : 69.53727313916909 W\n[codecarbon INFO @ 16:53:41] Energy consumed for all CPUs : 0.050503 kWh. Total CPU Power : 42.5 W\n[codecarbon INFO @ 16:53:41] 0.137843 kWh of electricity used since the beginning.\n[codecarbon INFO @ 16:53:50] Energy consumed for RAM : 0.011941 kWh. RAM Power : 10.2771635055542 W\n[codecarbon INFO @ 16:53:50] Energy consumed for all GPUs : 0.074824 kWh. Total GPU Power : 69.58982996330889 W\n[codecarbon INFO @ 16:53:50] Energy consumed for all CPUs : 0.049404 kWh. Total CPU Power : 42.5 W\n[codecarbon INFO @ 16:53:50] 0.136169 kWh of electricity used since the beginning.\n[codecarbon INFO @ 16:53:56] Energy consumed for RAM : 0.012251 kWh. RAM Power : 10.2771635055542 W\n[codecarbon INFO @ 16:53:56] Energy consumed for all GPUs : 0.075422 kWh. Total GPU Power : 69.60825839955328 W\n[codecarbon INFO @ 16:53:56] Energy consumed for all CPUs : 0.050681 kWh. Total CPU Power : 42.5 W\n[codecarbon INFO @ 16:53:56] 0.138353 kWh of electricity used since the beginning.\n[codecarbon INFO @ 16:54:05] Energy consumed for RAM : 0.011984 kWh. RAM Power : 10.2771635055542 W\n[codecarbon INFO @ 16:54:05] Energy consumed for all GPUs : 0.075114 kWh. Total GPU Power : 69.63772049227039 W\n[codecarbon INFO @ 16:54:05] Energy consumed for all CPUs : 0.049581 kWh. Total CPU Power : 42.5 W\n[codecarbon INFO @ 16:54:05] 0.136679 kWh of electricity used since the beginning.\n[codecarbon INFO @ 16:54:11] Energy consumed for RAM : 0.012294 kWh. RAM Power : 10.2771635055542 W\n[codecarbon INFO @ 16:54:11] Energy consumed for all GPUs : 0.075712 kWh. Total GPU Power : 69.68153823427384 W\n[codecarbon INFO @ 16:54:11] Energy consumed for all CPUs : 0.050858 kWh. Total CPU Power : 42.5 W\n[codecarbon INFO @ 16:54:11] 0.138863 kWh of electricity used since the beginning.\n[codecarbon INFO @ 16:54:20] Energy consumed for RAM : 0.012027 kWh. RAM Power : 10.2771635055542 W\n[codecarbon INFO @ 16:54:20] Energy consumed for all GPUs : 0.075402 kWh. Total GPU Power : 69.19942682568164 W\n[codecarbon INFO @ 16:54:20] Energy consumed for all CPUs : 0.049759 kWh. Total CPU Power : 42.5 W\n[codecarbon INFO @ 16:54:20] 0.137187 kWh of electricity used since the beginning.\n[codecarbon INFO @ 16:54:26] Energy consumed for RAM : 0.012337 kWh. RAM Power : 10.2771635055542 W\n[codecarbon INFO @ 16:54:26] Energy consumed for all GPUs : 0.076002 kWh. Total GPU Power : 69.63053653116157 W\n[codecarbon INFO @ 16:54:26] Energy consumed for all CPUs : 0.051035 kWh. Total CPU Power : 42.5 W\n[codecarbon INFO @ 16:54:26] 0.139373 kWh of electricity used since the beginning.\n[codecarbon INFO @ 16:54:35] Energy consumed for RAM : 0.012069 kWh. RAM Power : 10.2771635055542 W\n[codecarbon INFO @ 16:54:35] Energy consumed for all GPUs : 0.075692 kWh. Total GPU Power : 69.6134672360795 W\n[codecarbon INFO @ 16:54:35] Energy consumed for all CPUs : 0.049936 kWh. Total CPU Power : 42.5 W\n[codecarbon INFO @ 16:54:35] 0.137697 kWh of electricity used since the beginning.\n[codecarbon INFO @ 16:54:41] Energy consumed for RAM : 0.012380 kWh. RAM Power : 10.2771635055542 W\n[codecarbon INFO @ 16:54:41] Energy consumed for all GPUs : 0.076292 kWh. Total GPU Power : 69.65003090043732 W\n[codecarbon INFO @ 16:54:41] Energy consumed for all CPUs : 0.051212 kWh. Total CPU Power : 42.5 W\n[codecarbon INFO @ 16:54:41] 0.139883 kWh of electricity used since the beginning.\n[codecarbon INFO @ 16:54:50] Energy consumed for RAM : 0.012112 kWh. RAM Power : 10.2771635055542 W\n[codecarbon INFO @ 16:54:50] Energy consumed for all GPUs : 0.075982 kWh. Total GPU Power : 69.58038961172258 W\n[codecarbon INFO @ 16:54:50] Energy consumed for all CPUs : 0.050113 kWh. Total CPU Power : 42.5 W\n[codecarbon INFO @ 16:54:50] 0.138207 kWh of electricity used since the beginning.\n[codecarbon INFO @ 16:54:56] Energy consumed for RAM : 0.012422 kWh. RAM Power : 10.2771635055542 W\n[codecarbon INFO @ 16:54:56] Energy consumed for all GPUs : 0.076581 kWh. Total GPU Power : 69.50180753610975 W\n[codecarbon INFO @ 16:54:56] Energy consumed for all CPUs : 0.051389 kWh. Total CPU Power : 42.5 W\n[codecarbon INFO @ 16:54:56] 0.140393 kWh of electricity used since the beginning.\n[codecarbon INFO @ 16:55:05] Energy consumed for RAM : 0.012155 kWh. RAM Power : 10.2771635055542 W\n[codecarbon INFO @ 16:55:05] Energy consumed for all GPUs : 0.076271 kWh. Total GPU Power : 69.55828571316704 W\n[codecarbon INFO @ 16:55:05] Energy consumed for all CPUs : 0.050290 kWh. Total CPU Power : 42.5 W\n[codecarbon INFO @ 16:55:05] 0.138716 kWh of electricity used since the beginning.\n[codecarbon INFO @ 16:55:11] Energy consumed for RAM : 0.012465 kWh. RAM Power : 10.2771635055542 W\n[codecarbon INFO @ 16:55:11] Energy consumed for all GPUs : 0.076871 kWh. Total GPU Power : 69.57671054828417 W\n[codecarbon INFO @ 16:55:11] Energy consumed for all CPUs : 0.051566 kWh. Total CPU Power : 42.5 W\n[codecarbon INFO @ 16:55:11] 0.140902 kWh of electricity used since the beginning.\n[codecarbon INFO @ 16:55:20] Energy consumed for RAM : 0.012198 kWh. RAM Power : 10.2771635055542 W\n[codecarbon INFO @ 16:55:20] Energy consumed for all GPUs : 0.076562 kWh. Total GPU Power : 69.68160138330713 W\n[codecarbon INFO @ 16:55:20] Energy consumed for all CPUs : 0.050467 kWh. Total CPU Power : 42.5 W\n[codecarbon INFO @ 16:55:20] 0.139226 kWh of electricity used since the beginning.\n[codecarbon INFO @ 16:55:26] Energy consumed for RAM : 0.012508 kWh. RAM Power : 10.2771635055542 W\n[codecarbon INFO @ 16:55:26] Energy consumed for all GPUs : 0.077162 kWh. Total GPU Power : 69.76332629015002 W\n[codecarbon INFO @ 16:55:26] Energy consumed for all CPUs : 0.051743 kWh. Total CPU Power : 42.5 W\n[codecarbon INFO @ 16:55:26] 0.141413 kWh of electricity used since the beginning.\n[codecarbon INFO @ 16:55:35] Energy consumed for RAM : 0.012241 kWh. RAM Power : 10.2771635055542 W\n[codecarbon INFO @ 16:55:35] Energy consumed for all GPUs : 0.076851 kWh. Total GPU Power : 69.56617070997503 W\n[codecarbon INFO @ 16:55:35] Energy consumed for all CPUs : 0.050644 kWh. Total CPU Power : 42.5 W\n[codecarbon INFO @ 16:55:35] 0.139736 kWh of electricity used since the beginning.\n[codecarbon INFO @ 16:55:41] Energy consumed for RAM : 0.012551 kWh. RAM Power : 10.2771635055542 W\n[codecarbon INFO @ 16:55:41] Energy consumed for all GPUs : 0.077452 kWh. Total GPU Power : 69.55867421645239 W\n[codecarbon INFO @ 16:55:41] Energy consumed for all CPUs : 0.051920 kWh. Total CPU Power : 42.5 W\n[codecarbon INFO @ 16:55:41] 0.141922 kWh of electricity used since the beginning.\n[codecarbon INFO @ 16:55:50] Energy consumed for RAM : 0.012283 kWh. RAM Power : 10.2771635055542 W\n[codecarbon INFO @ 16:55:50] Energy consumed for all GPUs : 0.077141 kWh. Total GPU Power : 69.50081339335756 W\n[codecarbon INFO @ 16:55:50] Energy consumed for all CPUs : 0.050821 kWh. Total CPU Power : 42.5 W\n[codecarbon INFO @ 16:55:50] 0.140245 kWh of electricity used since the beginning.\n[codecarbon INFO @ 16:55:56] Energy consumed for RAM : 0.012594 kWh. RAM Power : 10.2771635055542 W\n[codecarbon INFO @ 16:55:56] Energy consumed for all GPUs : 0.077741 kWh. Total GPU Power : 69.52847418143992 W\n[codecarbon INFO @ 16:55:56] Energy consumed for all CPUs : 0.052097 kWh. Total CPU Power : 42.5 W\n[codecarbon INFO @ 16:55:56] 0.142432 kWh of electricity used since the beginning.\n[codecarbon INFO @ 16:56:05] Energy consumed for RAM : 0.012326 kWh. RAM Power : 10.2771635055542 W\n[codecarbon INFO @ 16:56:05] Energy consumed for all GPUs : 0.077431 kWh. Total GPU Power : 69.66127881657428 W\n[codecarbon INFO @ 16:56:05] Energy consumed for all CPUs : 0.050998 kWh. Total CPU Power : 42.5 W\n[codecarbon INFO @ 16:56:05] 0.140755 kWh of electricity used since the beginning.\n[codecarbon INFO @ 16:56:11] Energy consumed for RAM : 0.012636 kWh. RAM Power : 10.2771635055542 W\n[codecarbon INFO @ 16:56:11] Energy consumed for all GPUs : 0.078031 kWh. Total GPU Power : 69.59873815194752 W\n[codecarbon INFO @ 16:56:11] Energy consumed for all CPUs : 0.052274 kWh. Total CPU Power : 42.5 W\n[codecarbon INFO @ 16:56:11] 0.142942 kWh of electricity used since the beginning.\n[codecarbon INFO @ 16:56:20] Energy consumed for RAM : 0.012369 kWh. RAM Power : 10.2771635055542 W\n[codecarbon INFO @ 16:56:20] Energy consumed for all GPUs : 0.077721 kWh. Total GPU Power : 69.629173531333 W\n[codecarbon INFO @ 16:56:20] Energy consumed for all CPUs : 0.051175 kWh. Total CPU Power : 42.5 W\n[codecarbon INFO @ 16:56:20] 0.141265 kWh of electricity used since the beginning.\n[codecarbon INFO @ 16:56:26] Energy consumed for RAM : 0.012679 kWh. RAM Power : 10.2771635055542 W\n[codecarbon INFO @ 16:56:26] Energy consumed for all GPUs : 0.078321 kWh. Total GPU Power : 69.65227973344213 W\n[codecarbon INFO @ 16:56:26] Energy consumed for all CPUs : 0.052451 kWh. Total CPU Power : 42.5 W\n[codecarbon INFO @ 16:56:26] 0.143452 kWh of electricity used since the beginning.\n[codecarbon INFO @ 16:56:35] Energy consumed for RAM : 0.012412 kWh. RAM Power : 10.2771635055542 W\n[codecarbon INFO @ 16:56:35] Energy consumed for all GPUs : 0.078012 kWh. Total GPU Power : 69.72733608723776 W\n[codecarbon INFO @ 16:56:35] Energy consumed for all CPUs : 0.051352 kWh. Total CPU Power : 42.5 W\n[codecarbon INFO @ 16:56:35] 0.141776 kWh of electricity used since the beginning.\n[codecarbon INFO @ 16:56:41] Energy consumed for RAM : 0.012722 kWh. RAM Power : 10.2771635055542 W\n[codecarbon INFO @ 16:56:41] Energy consumed for all GPUs : 0.078612 kWh. Total GPU Power : 69.67901909558441 W\n[codecarbon INFO @ 16:56:41] Energy consumed for all CPUs : 0.052628 kWh. Total CPU Power : 42.5 W\n[codecarbon INFO @ 16:56:41] 0.143962 kWh of electricity used since the beginning.\n[codecarbon INFO @ 16:56:50] Energy consumed for RAM : 0.012455 kWh. RAM Power : 10.2771635055542 W\n[codecarbon INFO @ 16:56:50] Energy consumed for all GPUs : 0.078301 kWh. Total GPU Power : 69.54565870124499 W\n[codecarbon INFO @ 16:56:50] Energy consumed for all CPUs : 0.051529 kWh. Total CPU Power : 42.5 W\n[codecarbon INFO @ 16:56:50] 0.142285 kWh of electricity used since the beginning.\n[codecarbon INFO @ 16:56:56] Energy consumed for RAM : 0.012765 kWh. RAM Power : 10.2771635055542 W\n[codecarbon INFO @ 16:56:56] Energy consumed for all GPUs : 0.078901 kWh. Total GPU Power : 69.60328900005875 W\n[codecarbon INFO @ 16:56:56] Energy consumed for all CPUs : 0.052805 kWh. Total CPU Power : 42.5 W\n[codecarbon INFO @ 16:56:56] 0.144472 kWh of electricity used since the beginning.\n[codecarbon INFO @ 16:57:05] Energy consumed for RAM : 0.012497 kWh. RAM Power : 10.2771635055542 W\n[codecarbon INFO @ 16:57:05] Energy consumed for all GPUs : 0.078591 kWh. Total GPU Power : 69.61449688632722 W\n[codecarbon INFO @ 16:57:05] Energy consumed for all CPUs : 0.051706 kWh. Total CPU Power : 42.5 W\n[codecarbon INFO @ 16:57:05] 0.142795 kWh of electricity used since the beginning.\n[codecarbon INFO @ 16:57:11] Energy consumed for RAM : 0.012808 kWh. RAM Power : 10.2771635055542 W\n[codecarbon INFO @ 16:57:11] Energy consumed for all GPUs : 0.079191 kWh. Total GPU Power : 69.57224362656228 W\n[codecarbon INFO @ 16:57:11] Energy consumed for all CPUs : 0.052983 kWh. Total CPU Power : 42.5 W\n[codecarbon INFO @ 16:57:11] 0.144981 kWh of electricity used since the beginning.\n[codecarbon INFO @ 16:57:20] Energy consumed for RAM : 0.012540 kWh. RAM Power : 10.2771635055542 W\n[codecarbon INFO @ 16:57:20] Energy consumed for all GPUs : 0.078881 kWh. Total GPU Power : 69.65692580625795 W\n[codecarbon INFO @ 16:57:20] Energy consumed for all CPUs : 0.051883 kWh. Total CPU Power : 42.5 W\n[codecarbon INFO @ 16:57:20] 0.143305 kWh of electricity used since the beginning.\n[codecarbon INFO @ 16:57:26] Energy consumed for RAM : 0.012850 kWh. RAM Power : 10.2771635055542 W\n[codecarbon INFO @ 16:57:26] Energy consumed for all GPUs : 0.079481 kWh. Total GPU Power : 69.63587737649095 W\n[codecarbon INFO @ 16:57:26] Energy consumed for all CPUs : 0.053160 kWh. Total CPU Power : 42.5 W\n[codecarbon INFO @ 16:57:26] 0.145491 kWh of electricity used since the beginning.\n[codecarbon INFO @ 16:57:35] Energy consumed for RAM : 0.012583 kWh. RAM Power : 10.2771635055542 W\n[codecarbon INFO @ 16:57:35] Energy consumed for all GPUs : 0.079172 kWh. Total GPU Power : 69.68157305733943 W\n[codecarbon INFO @ 16:57:35] Energy consumed for all CPUs : 0.052060 kWh. Total CPU Power : 42.5 W\n[codecarbon INFO @ 16:57:35] 0.143815 kWh of electricity used since the beginning.\n[codecarbon INFO @ 16:57:41] Energy consumed for RAM : 0.012893 kWh. RAM Power : 10.2771635055542 W\n[codecarbon INFO @ 16:57:41] Energy consumed for all GPUs : 0.079722 kWh. Total GPU Power : 57.83529414176728 W\n[codecarbon INFO @ 16:57:41] Energy consumed for all CPUs : 0.053337 kWh. Total CPU Power : 42.5 W\n[codecarbon INFO @ 16:57:41] 0.145952 kWh of electricity used since the beginning.\n[codecarbon INFO @ 16:57:50] Energy consumed for RAM : 0.012626 kWh. RAM Power : 10.2771635055542 W\n[codecarbon INFO @ 16:57:50] Energy consumed for all GPUs : 0.079316 kWh. Total GPU Power : 34.60296990084405 W\n[codecarbon INFO @ 16:57:50] Energy consumed for all CPUs : 0.052238 kWh. Total CPU Power : 42.5 W\n[codecarbon INFO @ 16:57:50] 0.144179 kWh of electricity used since the beginning.\n[codecarbon INFO @ 16:57:56] Energy consumed for RAM : 0.012936 kWh. RAM Power : 10.2771635055542 W\n[codecarbon INFO @ 16:57:56] Energy consumed for all GPUs : 0.079845 kWh. Total GPU Power : 29.53095226610598 W\n[codecarbon INFO @ 16:57:56] Energy consumed for all CPUs : 0.053514 kWh. Total CPU Power : 42.5 W\n[codecarbon INFO @ 16:57:56] 0.146295 kWh of electricity used since the beginning.\n[codecarbon INFO @ 16:58:05] Energy consumed for RAM : 0.012669 kWh. RAM Power : 10.2771635055542 W\n[codecarbon INFO @ 16:58:05] Energy consumed for all GPUs : 0.079437 kWh. Total GPU Power : 29.152285435971763 W\n[codecarbon INFO @ 16:58:05] Energy consumed for all CPUs : 0.052415 kWh. Total CPU Power : 42.5 W\n[codecarbon INFO @ 16:58:05] 0.144520 kWh of electricity used since the beginning.\n[codecarbon INFO @ 16:58:11] Energy consumed for RAM : 0.012979 kWh. RAM Power : 10.2771635055542 W\n[codecarbon INFO @ 16:58:11] Energy consumed for all GPUs : 0.079966 kWh. Total GPU Power : 29.113602793305695 W\n[codecarbon INFO @ 16:58:11] Energy consumed for all CPUs : 0.053691 kWh. Total CPU Power : 42.5 W\n[codecarbon INFO @ 16:58:11] 0.146636 kWh of electricity used since the beginning.\n[codecarbon INFO @ 16:58:20] Energy consumed for RAM : 0.012711 kWh. RAM Power : 10.2771635055542 W\n[codecarbon INFO @ 16:58:20] Energy consumed for all GPUs : 0.079557 kWh. Total GPU Power : 28.843930493954083 W\n[codecarbon INFO @ 16:58:20] Energy consumed for all CPUs : 0.052592 kWh. Total CPU Power : 42.5 W\n[codecarbon INFO @ 16:58:20] 0.144860 kWh of electricity used since the beginning.\n[codecarbon INFO @ 16:58:26] Energy consumed for RAM : 0.013022 kWh. RAM Power : 10.2771635055542 W\n[codecarbon INFO @ 16:58:26] Energy consumed for all GPUs : 0.080085 kWh. Total GPU Power : 28.489126935214333 W\n[codecarbon INFO @ 16:58:26] Energy consumed for all CPUs : 0.053868 kWh. Total CPU Power : 42.5 W\n[codecarbon INFO @ 16:58:26] 0.146975 kWh of electricity used since the beginning.\n[codecarbon INFO @ 16:58:35] Energy consumed for RAM : 0.012754 kWh. RAM Power : 10.2771635055542 W\n[codecarbon INFO @ 16:58:35] Energy consumed for all GPUs : 0.079675 kWh. Total GPU Power : 28.283613445380563 W\n[codecarbon INFO @ 16:58:35] Energy consumed for all CPUs : 0.052769 kWh. Total CPU Power : 42.5 W\n[codecarbon INFO @ 16:58:35] 0.145198 kWh of electricity used since the beginning.\n[codecarbon INFO @ 16:58:41] Energy consumed for RAM : 0.013064 kWh. RAM Power : 10.2771635055542 W\n[codecarbon INFO @ 16:58:41] Energy consumed for all GPUs : 0.080202 kWh. Total GPU Power : 28.169352646580265 W\n[codecarbon INFO @ 16:58:41] Energy consumed for all CPUs : 0.054045 kWh. Total CPU Power : 42.5 W\n[codecarbon INFO @ 16:58:41] 0.147312 kWh of electricity used since the beginning.\n[codecarbon INFO @ 16:58:50] Energy consumed for RAM : 0.012797 kWh. RAM Power : 10.2771635055542 W\n[codecarbon INFO @ 16:58:50] Energy consumed for all GPUs : 0.079792 kWh. Total GPU Power : 28.087021013047394 W\n[codecarbon INFO @ 16:58:50] Energy consumed for all CPUs : 0.052946 kWh. Total CPU Power : 42.5 W\n[codecarbon INFO @ 16:58:50] 0.145535 kWh of electricity used since the beginning.\n[codecarbon INFO @ 16:58:56] Energy consumed for RAM : 0.013107 kWh. RAM Power : 10.2771635055542 W\n[codecarbon INFO @ 16:58:56] Energy consumed for all GPUs : 0.080320 kWh. Total GPU Power : 28.20405553522219 W\n[codecarbon INFO @ 16:58:56] Energy consumed for all CPUs : 0.054222 kWh. Total CPU Power : 42.5 W\n[codecarbon INFO @ 16:58:56] 0.147649 kWh of electricity used since the beginning.\n[codecarbon INFO @ 16:59:05] Energy consumed for RAM : 0.012840 kWh. RAM Power : 10.2771635055542 W\n[codecarbon INFO @ 16:59:05] Energy consumed for all GPUs : 0.079909 kWh. Total GPU Power : 28.07053577072537 W\n[codecarbon INFO @ 16:59:05] Energy consumed for all CPUs : 0.053123 kWh. Total CPU Power : 42.5 W\n[codecarbon INFO @ 16:59:05] 0.145872 kWh of electricity used since the beginning.\n[codecarbon INFO @ 16:59:11] Energy consumed for RAM : 0.013150 kWh. RAM Power : 10.2771635055542 W\n[codecarbon INFO @ 16:59:11] Energy consumed for all GPUs : 0.080436 kWh. Total GPU Power : 27.78927977197359 W\n[codecarbon INFO @ 16:59:11] Energy consumed for all CPUs : 0.054399 kWh. Total CPU Power : 42.5 W\n[codecarbon INFO @ 16:59:11] 0.147985 kWh of electricity used since the beginning.\n[codecarbon INFO @ 16:59:20] Energy consumed for RAM : 0.012883 kWh. RAM Power : 10.2771635055542 W\n[codecarbon INFO @ 16:59:20] Energy consumed for all GPUs : 0.080024 kWh. Total GPU Power : 27.653111533210165 W\n[codecarbon INFO @ 16:59:20] Energy consumed for all CPUs : 0.053300 kWh. Total CPU Power : 42.5 W\n[codecarbon INFO @ 16:59:20] 0.146207 kWh of electricity used since the beginning.\n[codecarbon INFO @ 16:59:26] Energy consumed for RAM : 0.013193 kWh. RAM Power : 10.2771635055542 W\n[codecarbon INFO @ 16:59:26] Energy consumed for all GPUs : 0.080551 kWh. Total GPU Power : 27.566479774710732 W\n[codecarbon INFO @ 16:59:26] Energy consumed for all CPUs : 0.054576 kWh. Total CPU Power : 42.5 W\n[codecarbon INFO @ 16:59:26] 0.148320 kWh of electricity used since the beginning.\n[codecarbon INFO @ 16:59:35] Energy consumed for RAM : 0.012925 kWh. RAM Power : 10.2771635055542 W\n[codecarbon INFO @ 16:59:35] Energy consumed for all GPUs : 0.080139 kWh. Total GPU Power : 27.443034391445664 W\n[codecarbon INFO @ 16:59:35] Energy consumed for all CPUs : 0.053477 kWh. Total CPU Power : 42.5 W\n[codecarbon INFO @ 16:59:35] 0.146541 kWh of electricity used since the beginning.\n[codecarbon INFO @ 16:59:41] Energy consumed for RAM : 0.013236 kWh. RAM Power : 10.2771635055542 W\n[codecarbon INFO @ 16:59:41] Energy consumed for all GPUs : 0.080709 kWh. Total GPU Power : 38.02481432670729 W\n[codecarbon INFO @ 16:59:41] Energy consumed for all CPUs : 0.054753 kWh. Total CPU Power : 42.5 W\n[codecarbon INFO @ 16:59:41] 0.148698 kWh of electricity used since the beginning.\n[codecarbon INFO @ 16:59:50] Energy consumed for RAM : 0.012968 kWh. RAM Power : 10.2771635055542 W\n[codecarbon INFO @ 16:59:50] Energy consumed for all GPUs : 0.080401 kWh. Total GPU Power : 63.04760013370527 W\n[codecarbon INFO @ 16:59:50] Energy consumed for all CPUs : 0.053654 kWh. Total CPU Power : 42.5 W\n[codecarbon INFO @ 16:59:50] 0.147024 kWh of electricity used since the beginning.\n[codecarbon INFO @ 16:59:56] Energy consumed for RAM : 0.013278 kWh. RAM Power : 10.2771635055542 W\n[codecarbon INFO @ 16:59:56] Energy consumed for all GPUs : 0.080999 kWh. Total GPU Power : 69.73600699047866 W\n[codecarbon INFO @ 16:59:56] Energy consumed for all CPUs : 0.054930 kWh. Total CPU Power : 42.5 W\n[codecarbon INFO @ 16:59:56] 0.149208 kWh of electricity used since the beginning.\n/anaconda/envs/azureml_py38/lib/python3.8/site-packages/sklearn/metrics/_classification.py:1272: UndefinedMetricWarning: Precision is ill-defined and being set to 0.0 in samples with no predicted labels. Use `zero_division` parameter to control this behavior.\n  _warn_prf(average, modifier, msg_start, len(result))\n/anaconda/envs/azureml_py38/lib/python3.8/site-packages/sklearn/metrics/_classification.py:1272: UndefinedMetricWarning: Recall is ill-defined and being set to 0.0 in samples with no true labels. Use `zero_division` parameter to control this behavior.\n  _warn_prf(average, modifier, msg_start, len(result))\n/anaconda/envs/azureml_py38/lib/python3.8/site-packages/sklearn/metrics/_classification.py:1514: UndefinedMetricWarning: F-score is ill-defined and being set to 0.0 in samples with no true nor predicted labels. Use `zero_division` parameter to control this behavior.\n  _warn_prf(\n[codecarbon INFO @ 17:00:06] Energy consumed for RAM : 0.013014 kWh. RAM Power : 10.2771635055542 W\n[codecarbon INFO @ 17:00:06] Energy consumed for all GPUs : 0.080676 kWh. Total GPU Power : 61.804652441250916 W\n[codecarbon INFO @ 17:00:06] Energy consumed for all CPUs : 0.053843 kWh. Total CPU Power : 42.5 W\n[codecarbon INFO @ 17:00:06] 0.147534 kWh of electricity used since the beginning.\n[codecarbon INFO @ 17:00:11] Energy consumed for RAM : 0.013321 kWh. RAM Power : 10.2771635055542 W\n[codecarbon INFO @ 17:00:11] Energy consumed for all GPUs : 0.081196 kWh. Total GPU Power : 47.22527620495043 W\n[codecarbon INFO @ 17:00:11] Energy consumed for all CPUs : 0.055107 kWh. Total CPU Power : 42.5 W\n[codecarbon INFO @ 17:00:11] 0.149625 kWh of electricity used since the beginning.\n[codecarbon INFO @ 17:00:21] Energy consumed for RAM : 0.013057 kWh. RAM Power : 10.2771635055542 W\n[codecarbon INFO @ 17:00:21] Energy consumed for all GPUs : 0.080905 kWh. Total GPU Power : 54.78298574848997 W\n[codecarbon INFO @ 17:00:21] Energy consumed for all CPUs : 0.054021 kWh. Total CPU Power : 42.5 W\n[codecarbon INFO @ 17:00:21] 0.147982 kWh of electricity used since the beginning.\n[codecarbon INFO @ 17:00:26] Energy consumed for RAM : 0.013364 kWh. RAM Power : 10.2771635055542 W\n[codecarbon INFO @ 17:00:26] Energy consumed for all GPUs : 0.081483 kWh. Total GPU Power : 68.9725171352234 W\n[codecarbon INFO @ 17:00:26] Energy consumed for all CPUs : 0.055285 kWh. Total CPU Power : 42.5 W\n[codecarbon INFO @ 17:00:26] 0.150132 kWh of electricity used since the beginning.\n[codecarbon INFO @ 17:00:36] Energy consumed for RAM : 0.013100 kWh. RAM Power : 10.2771635055542 W\n[codecarbon INFO @ 17:00:36] Energy consumed for all GPUs : 0.081194 kWh. Total GPU Power : 69.59052504290044 W\n[codecarbon INFO @ 17:00:36] Energy consumed for all CPUs : 0.054198 kWh. Total CPU Power : 42.5 W\n[codecarbon INFO @ 17:00:36] 0.148492 kWh of electricity used since the beginning.\n[codecarbon INFO @ 17:00:41] Energy consumed for RAM : 0.013407 kWh. RAM Power : 10.2771635055542 W\n[codecarbon INFO @ 17:00:41] Energy consumed for all GPUs : 0.081773 kWh. Total GPU Power : 69.50468103928367 W\n[codecarbon INFO @ 17:00:41] Energy consumed for all CPUs : 0.055462 kWh. Total CPU Power : 42.5 W\n[codecarbon INFO @ 17:00:41] 0.150641 kWh of electricity used since the beginning.\n[codecarbon INFO @ 17:00:51] Energy consumed for RAM : 0.013142 kWh. RAM Power : 10.2771635055542 W\n[codecarbon INFO @ 17:00:51] Energy consumed for all GPUs : 0.081484 kWh. Total GPU Power : 69.5867197258722 W\n[codecarbon INFO @ 17:00:51] Energy consumed for all CPUs : 0.054375 kWh. Total CPU Power : 42.5 W\n[codecarbon INFO @ 17:00:51] 0.149002 kWh of electricity used since the beginning.\n[codecarbon INFO @ 17:00:56] Energy consumed for RAM : 0.013450 kWh. RAM Power : 10.2771635055542 W\n[codecarbon INFO @ 17:00:56] Energy consumed for all GPUs : 0.082063 kWh. Total GPU Power : 69.68024952251334 W\n[codecarbon INFO @ 17:00:56] Energy consumed for all CPUs : 0.055639 kWh. Total CPU Power : 42.5 W\n[codecarbon INFO @ 17:00:56] 0.151151 kWh of electricity used since the beginning.\n[codecarbon INFO @ 17:01:06] Energy consumed for RAM : 0.013185 kWh. RAM Power : 10.2771635055542 W\n[codecarbon INFO @ 17:01:06] Energy consumed for all GPUs : 0.081772 kWh. Total GPU Power : 69.17660072692115 W\n[codecarbon INFO @ 17:01:06] Energy consumed for all CPUs : 0.054552 kWh. Total CPU Power : 42.5 W\n[codecarbon INFO @ 17:01:06] 0.149510 kWh of electricity used since the beginning.\n[codecarbon INFO @ 17:01:11] Energy consumed for RAM : 0.013492 kWh. RAM Power : 10.2771635055542 W\n[codecarbon INFO @ 17:01:11] Energy consumed for all GPUs : 0.082353 kWh. Total GPU Power : 69.55820853270994 W\n[codecarbon INFO @ 17:01:11] Energy consumed for all CPUs : 0.055816 kWh. Total CPU Power : 42.5 W\n[codecarbon INFO @ 17:01:11] 0.151661 kWh of electricity used since the beginning.\n[codecarbon INFO @ 17:01:21] Energy consumed for RAM : 0.013228 kWh. RAM Power : 10.2771635055542 W\n[codecarbon INFO @ 17:01:21] Energy consumed for all GPUs : 0.082062 kWh. Total GPU Power : 69.58371776052597 W\n[codecarbon INFO @ 17:01:21] Energy consumed for all CPUs : 0.054729 kWh. Total CPU Power : 42.5 W\n[codecarbon INFO @ 17:01:21] 0.150019 kWh of electricity used since the beginning.\n[codecarbon INFO @ 17:01:26] Energy consumed for RAM : 0.013535 kWh. RAM Power : 10.2771635055542 W\n[codecarbon INFO @ 17:01:26] Energy consumed for all GPUs : 0.082643 kWh. Total GPU Power : 69.60222243102348 W\n[codecarbon INFO @ 17:01:26] Energy consumed for all CPUs : 0.055993 kWh. Total CPU Power : 42.5 W\n[codecarbon INFO @ 17:01:26] 0.152171 kWh of electricity used since the beginning.\n[codecarbon INFO @ 17:01:36] Energy consumed for RAM : 0.013271 kWh. RAM Power : 10.2771635055542 W\n[codecarbon INFO @ 17:01:36] Energy consumed for all GPUs : 0.082352 kWh. Total GPU Power : 69.57541290559415 W\n[codecarbon INFO @ 17:01:36] Energy consumed for all CPUs : 0.054906 kWh. Total CPU Power : 42.5 W\n[codecarbon INFO @ 17:01:36] 0.150529 kWh of electricity used since the beginning.\n[codecarbon INFO @ 17:01:41] Energy consumed for RAM : 0.013578 kWh. RAM Power : 10.2771635055542 W\n[codecarbon INFO @ 17:01:41] Energy consumed for all GPUs : 0.082932 kWh. Total GPU Power : 69.5008620349326 W\n[codecarbon INFO @ 17:01:41] Energy consumed for all CPUs : 0.056170 kWh. Total CPU Power : 42.5 W\n[codecarbon INFO @ 17:01:41] 0.152680 kWh of electricity used since the beginning.\n[codecarbon INFO @ 17:01:51] Energy consumed for RAM : 0.013314 kWh. RAM Power : 10.2771635055542 W\n[codecarbon INFO @ 17:01:51] Energy consumed for all GPUs : 0.082642 kWh. Total GPU Power : 69.56129841295433 W\n[codecarbon INFO @ 17:01:51] Energy consumed for all CPUs : 0.055083 kWh. Total CPU Power : 42.5 W\n[codecarbon INFO @ 17:01:51] 0.151038 kWh of electricity used since the beginning.\n[codecarbon INFO @ 17:01:56] Energy consumed for RAM : 0.013621 kWh. RAM Power : 10.2771635055542 W\n[codecarbon INFO @ 17:01:56] Energy consumed for all GPUs : 0.083223 kWh. Total GPU Power : 69.68577737378871 W\n[codecarbon INFO @ 17:01:56] Energy consumed for all CPUs : 0.056347 kWh. Total CPU Power : 42.5 W\n[codecarbon INFO @ 17:01:56] 0.153190 kWh of electricity used since the beginning.\n[codecarbon INFO @ 17:02:06] Energy consumed for RAM : 0.013356 kWh. RAM Power : 10.2771635055542 W\n[codecarbon INFO @ 17:02:06] Energy consumed for all GPUs : 0.082932 kWh. Total GPU Power : 69.73517244341282 W\n[codecarbon INFO @ 17:02:06] Energy consumed for all CPUs : 0.055260 kWh. Total CPU Power : 42.5 W\n[codecarbon INFO @ 17:02:06] 0.151549 kWh of electricity used since the beginning.\n[codecarbon INFO @ 17:02:11] Energy consumed for RAM : 0.013664 kWh. RAM Power : 10.2771635055542 W\n[codecarbon INFO @ 17:02:11] Energy consumed for all GPUs : 0.083511 kWh. Total GPU Power : 69.17399075945188 W\n[codecarbon INFO @ 17:02:11] Energy consumed for all CPUs : 0.056524 kWh. Total CPU Power : 42.5 W\n[codecarbon INFO @ 17:02:11] 0.153699 kWh of electricity used since the beginning.\n[codecarbon INFO @ 17:02:21] Energy consumed for RAM : 0.013399 kWh. RAM Power : 10.2771635055542 W\n[codecarbon INFO @ 17:02:21] Energy consumed for all GPUs : 0.083222 kWh. Total GPU Power : 69.52274782221603 W\n[codecarbon INFO @ 17:02:21] Energy consumed for all CPUs : 0.055437 kWh. Total CPU Power : 42.5 W\n[codecarbon INFO @ 17:02:21] 0.152058 kWh of electricity used since the beginning.\n[codecarbon INFO @ 17:02:26] Energy consumed for RAM : 0.013707 kWh. RAM Power : 10.2771635055542 W\n[codecarbon INFO @ 17:02:26] Energy consumed for all GPUs : 0.083800 kWh. Total GPU Power : 69.49939541479986 W\n[codecarbon INFO @ 17:02:26] Energy consumed for all CPUs : 0.056701 kWh. Total CPU Power : 42.5 W\n[codecarbon INFO @ 17:02:26] 0.154208 kWh of electricity used since the beginning.\n[codecarbon INFO @ 17:02:36] Energy consumed for RAM : 0.013442 kWh. RAM Power : 10.2771635055542 W\n[codecarbon INFO @ 17:02:36] Energy consumed for all GPUs : 0.083511 kWh. Total GPU Power : 69.4961926806179 W\n[codecarbon INFO @ 17:02:36] Energy consumed for all CPUs : 0.055614 kWh. Total CPU Power : 42.5 W\n[codecarbon INFO @ 17:02:36] 0.152568 kWh of electricity used since the beginning.\n[codecarbon INFO @ 17:02:41] Energy consumed for RAM : 0.013749 kWh. RAM Power : 10.2771635055542 W\n[codecarbon INFO @ 17:02:41] Energy consumed for all GPUs : 0.084090 kWh. Total GPU Power : 69.58151282144695 W\n[codecarbon INFO @ 17:02:41] Energy consumed for all CPUs : 0.056878 kWh. Total CPU Power : 42.5 W\n[codecarbon INFO @ 17:02:41] 0.154718 kWh of electricity used since the beginning.\n[codecarbon INFO @ 17:02:51] Energy consumed for RAM : 0.013485 kWh. RAM Power : 10.2771635055542 W\n[codecarbon INFO @ 17:02:51] Energy consumed for all GPUs : 0.083801 kWh. Total GPU Power : 69.6210021240921 W\n[codecarbon INFO @ 17:02:51] Energy consumed for all CPUs : 0.055791 kWh. Total CPU Power : 42.5 W\n[codecarbon INFO @ 17:02:51] 0.153078 kWh of electricity used since the beginning.\n[codecarbon INFO @ 17:02:56] Energy consumed for RAM : 0.013792 kWh. RAM Power : 10.2771635055542 W\n[codecarbon INFO @ 17:02:56] Energy consumed for all GPUs : 0.084380 kWh. Total GPU Power : 69.63524564958853 W\n[codecarbon INFO @ 17:02:56] Energy consumed for all CPUs : 0.057055 kWh. Total CPU Power : 42.5 W\n[codecarbon INFO @ 17:02:56] 0.155228 kWh of electricity used since the beginning.\n[codecarbon INFO @ 17:03:06] Energy consumed for RAM : 0.013528 kWh. RAM Power : 10.2771635055542 W\n[codecarbon INFO @ 17:03:06] Energy consumed for all GPUs : 0.084092 kWh. Total GPU Power : 69.67845217226915 W\n[codecarbon INFO @ 17:03:06] Energy consumed for all CPUs : 0.055968 kWh. Total CPU Power : 42.5 W\n[codecarbon INFO @ 17:03:06] 0.153588 kWh of electricity used since the beginning.\n[codecarbon INFO @ 17:03:11] Energy consumed for RAM : 0.013835 kWh. RAM Power : 10.2771635055542 W\n[codecarbon INFO @ 17:03:11] Energy consumed for all GPUs : 0.084670 kWh. Total GPU Power : 69.64163465058024 W\n[codecarbon INFO @ 17:03:11] Energy consumed for all CPUs : 0.057232 kWh. Total CPU Power : 42.5 W\n[codecarbon INFO @ 17:03:11] 0.155738 kWh of electricity used since the beginning.\n[codecarbon INFO @ 17:03:21] Energy consumed for RAM : 0.013571 kWh. RAM Power : 10.2771635055542 W\n[codecarbon INFO @ 17:03:21] Energy consumed for all GPUs : 0.084382 kWh. Total GPU Power : 69.6481120241497 W\n[codecarbon INFO @ 17:03:21] Energy consumed for all CPUs : 0.056145 kWh. Total CPU Power : 42.5 W\n[codecarbon INFO @ 17:03:21] 0.154098 kWh of electricity used since the beginning.\n[codecarbon INFO @ 17:03:26] Energy consumed for RAM : 0.013878 kWh. RAM Power : 10.2771635055542 W\n[codecarbon INFO @ 17:03:26] Energy consumed for all GPUs : 0.084960 kWh. Total GPU Power : 69.57099588026831 W\n[codecarbon INFO @ 17:03:26] Energy consumed for all CPUs : 0.057409 kWh. Total CPU Power : 42.5 W\n[codecarbon INFO @ 17:03:26] 0.156247 kWh of electricity used since the beginning.\n[codecarbon INFO @ 17:03:36] Energy consumed for RAM : 0.013613 kWh. RAM Power : 10.2771635055542 W\n[codecarbon INFO @ 17:03:36] Energy consumed for all GPUs : 0.084672 kWh. Total GPU Power : 69.58432275304101 W\n[codecarbon INFO @ 17:03:36] Energy consumed for all CPUs : 0.056323 kWh. Total CPU Power : 42.5 W\n[codecarbon INFO @ 17:03:36] 0.154608 kWh of electricity used since the beginning.\n[codecarbon INFO @ 17:03:41] Energy consumed for RAM : 0.013921 kWh. RAM Power : 10.2771635055542 W\n[codecarbon INFO @ 17:03:41] Energy consumed for all GPUs : 0.085250 kWh. Total GPU Power : 69.6419669303091 W\n[codecarbon INFO @ 17:03:41] Energy consumed for all CPUs : 0.057586 kWh. Total CPU Power : 42.5 W\n[codecarbon INFO @ 17:03:41] 0.156757 kWh of electricity used since the beginning.\n[codecarbon INFO @ 17:03:51] Energy consumed for RAM : 0.013656 kWh. RAM Power : 10.2771635055542 W\n[codecarbon INFO @ 17:03:51] Energy consumed for all GPUs : 0.084961 kWh. Total GPU Power : 69.55800173629967 W\n[codecarbon INFO @ 17:03:51] Energy consumed for all CPUs : 0.056500 kWh. Total CPU Power : 42.5 W\n[codecarbon INFO @ 17:03:51] 0.155117 kWh of electricity used since the beginning.\n[codecarbon INFO @ 17:03:56] Energy consumed for RAM : 0.013963 kWh. RAM Power : 10.2771635055542 W\n[codecarbon INFO @ 17:03:56] Energy consumed for all GPUs : 0.085540 kWh. Total GPU Power : 69.56656489480164 W\n[codecarbon INFO @ 17:03:56] Energy consumed for all CPUs : 0.057764 kWh. Total CPU Power : 42.5 W\n[codecarbon INFO @ 17:03:56] 0.157267 kWh of electricity used since the beginning.\n[codecarbon INFO @ 17:04:06] Energy consumed for RAM : 0.013699 kWh. RAM Power : 10.2771635055542 W\n[codecarbon INFO @ 17:04:06] Energy consumed for all GPUs : 0.085251 kWh. Total GPU Power : 69.60410762776287 W\n[codecarbon INFO @ 17:04:06] Energy consumed for all CPUs : 0.056677 kWh. Total CPU Power : 42.5 W\n[codecarbon INFO @ 17:04:06] 0.155627 kWh of electricity used since the beginning.\n[codecarbon INFO @ 17:04:11] Energy consumed for RAM : 0.014006 kWh. RAM Power : 10.2771635055542 W\n[codecarbon INFO @ 17:04:11] Energy consumed for all GPUs : 0.085830 kWh. Total GPU Power : 69.63318303089169 W\n[codecarbon INFO @ 17:04:11] Energy consumed for all CPUs : 0.057941 kWh. Total CPU Power : 42.5 W\n[codecarbon INFO @ 17:04:11] 0.157777 kWh of electricity used since the beginning.\n[codecarbon INFO @ 17:04:21] Energy consumed for RAM : 0.013742 kWh. RAM Power : 10.2771635055542 W\n[codecarbon INFO @ 17:04:21] Energy consumed for all GPUs : 0.085539 kWh. Total GPU Power : 69.18184816581325 W\n[codecarbon INFO @ 17:04:21] Energy consumed for all CPUs : 0.056854 kWh. Total CPU Power : 42.5 W\n[codecarbon INFO @ 17:04:21] 0.156135 kWh of electricity used since the beginning.\n[codecarbon INFO @ 17:04:26] Energy consumed for RAM : 0.014049 kWh. RAM Power : 10.2771635055542 W\n[codecarbon INFO @ 17:04:26] Energy consumed for all GPUs : 0.086120 kWh. Total GPU Power : 69.641569878318 W\n[codecarbon INFO @ 17:04:26] Energy consumed for all CPUs : 0.058118 kWh. Total CPU Power : 42.5 W\n[codecarbon INFO @ 17:04:26] 0.158287 kWh of electricity used since the beginning.\n[codecarbon INFO @ 17:04:36] Energy consumed for RAM : 0.013785 kWh. RAM Power : 10.2771635055542 W\n[codecarbon INFO @ 17:04:36] Energy consumed for all GPUs : 0.085830 kWh. Total GPU Power : 69.67809127182417 W\n[codecarbon INFO @ 17:04:36] Energy consumed for all CPUs : 0.057031 kWh. Total CPU Power : 42.5 W\n[codecarbon INFO @ 17:04:36] 0.156645 kWh of electricity used since the beginning.\n[codecarbon INFO @ 17:04:41] Energy consumed for RAM : 0.014092 kWh. RAM Power : 10.2771635055542 W\n[codecarbon INFO @ 17:04:41] Energy consumed for all GPUs : 0.086410 kWh. Total GPU Power : 69.59221528936784 W\n[codecarbon INFO @ 17:04:41] Energy consumed for all CPUs : 0.058295 kWh. Total CPU Power : 42.5 W\n[codecarbon INFO @ 17:04:41] 0.158797 kWh of electricity used since the beginning.\n[codecarbon INFO @ 17:04:51] Energy consumed for RAM : 0.013827 kWh. RAM Power : 10.2771635055542 W\n[codecarbon INFO @ 17:04:51] Energy consumed for all GPUs : 0.086120 kWh. Total GPU Power : 69.61812945574827 W\n[codecarbon INFO @ 17:04:51] Energy consumed for all CPUs : 0.057208 kWh. Total CPU Power : 42.5 W\n[codecarbon INFO @ 17:04:51] 0.157155 kWh of electricity used since the beginning.\n[codecarbon INFO @ 17:04:56] Energy consumed for RAM : 0.014135 kWh. RAM Power : 10.2771635055542 W\n[codecarbon INFO @ 17:04:56] Energy consumed for all GPUs : 0.086700 kWh. Total GPU Power : 69.71297893502921 W\n[codecarbon INFO @ 17:04:56] Energy consumed for all CPUs : 0.058472 kWh. Total CPU Power : 42.5 W\n[codecarbon INFO @ 17:04:56] 0.159307 kWh of electricity used since the beginning.\n[codecarbon INFO @ 17:05:06] Energy consumed for RAM : 0.013870 kWh. RAM Power : 10.2771635055542 W\n[codecarbon INFO @ 17:05:06] Energy consumed for all GPUs : 0.086410 kWh. Total GPU Power : 69.55898720110237 W\n[codecarbon INFO @ 17:05:06] Energy consumed for all CPUs : 0.057385 kWh. Total CPU Power : 42.5 W\n[codecarbon INFO @ 17:05:06] 0.157665 kWh of electricity used since the beginning.\n[codecarbon INFO @ 17:05:11] Energy consumed for RAM : 0.014177 kWh. RAM Power : 10.2771635055542 W\n[codecarbon INFO @ 17:05:11] Energy consumed for all GPUs : 0.086990 kWh. Total GPU Power : 69.58800257828187 W\n[codecarbon INFO @ 17:05:11] Energy consumed for all CPUs : 0.058649 kWh. Total CPU Power : 42.5 W\n[codecarbon INFO @ 17:05:11] 0.159816 kWh of electricity used since the beginning.\n[codecarbon INFO @ 17:05:21] Energy consumed for RAM : 0.013913 kWh. RAM Power : 10.2771635055542 W\n[codecarbon INFO @ 17:05:21] Energy consumed for all GPUs : 0.086699 kWh. Total GPU Power : 69.59245546232445 W\n[codecarbon INFO @ 17:05:21] Energy consumed for all CPUs : 0.057562 kWh. Total CPU Power : 42.5 W\n[codecarbon INFO @ 17:05:21] 0.158175 kWh of electricity used since the beginning.\n[codecarbon INFO @ 17:05:26] Energy consumed for RAM : 0.014220 kWh. RAM Power : 10.2771635055542 W\n[codecarbon INFO @ 17:05:26] Energy consumed for all GPUs : 0.087280 kWh. Total GPU Power : 69.61441065356823 W\n[codecarbon INFO @ 17:05:26] Energy consumed for all CPUs : 0.058826 kWh. Total CPU Power : 42.5 W\n[codecarbon INFO @ 17:05:26] 0.160326 kWh of electricity used since the beginning.\n[codecarbon INFO @ 17:05:36] Energy consumed for RAM : 0.013956 kWh. RAM Power : 10.2771635055542 W\n[codecarbon INFO @ 17:05:36] Energy consumed for all GPUs : 0.086990 kWh. Total GPU Power : 69.64462494678159 W\n[codecarbon INFO @ 17:05:36] Energy consumed for all CPUs : 0.057739 kWh. Total CPU Power : 42.5 W\n[codecarbon INFO @ 17:05:36] 0.158684 kWh of electricity used since the beginning.\n[codecarbon INFO @ 17:05:41] Energy consumed for RAM : 0.014263 kWh. RAM Power : 10.2771635055542 W\n[codecarbon INFO @ 17:05:41] Energy consumed for all GPUs : 0.087570 kWh. Total GPU Power : 69.61129942807143 W\n[codecarbon INFO @ 17:05:41] Energy consumed for all CPUs : 0.059003 kWh. Total CPU Power : 42.5 W\n[codecarbon INFO @ 17:05:41] 0.160836 kWh of electricity used since the beginning.\n[codecarbon INFO @ 17:05:51] Energy consumed for RAM : 0.013999 kWh. RAM Power : 10.2771635055542 W\n[codecarbon INFO @ 17:05:51] Energy consumed for all GPUs : 0.087280 kWh. Total GPU Power : 69.61616964378577 W\n[codecarbon INFO @ 17:05:51] Energy consumed for all CPUs : 0.057916 kWh. Total CPU Power : 42.5 W\n[codecarbon INFO @ 17:05:51] 0.159194 kWh of electricity used since the beginning.\n[codecarbon INFO @ 17:05:56] Energy consumed for RAM : 0.014306 kWh. RAM Power : 10.2771635055542 W\n[codecarbon INFO @ 17:05:56] Energy consumed for all GPUs : 0.087858 kWh. Total GPU Power : 69.1769528584022 W\n[codecarbon INFO @ 17:05:56] Energy consumed for all CPUs : 0.059180 kWh. Total CPU Power : 42.5 W\n[codecarbon INFO @ 17:05:56] 0.161344 kWh of electricity used since the beginning.\n[codecarbon INFO @ 17:06:06] Energy consumed for RAM : 0.014041 kWh. RAM Power : 10.2771635055542 W\n[codecarbon INFO @ 17:06:06] Energy consumed for all GPUs : 0.087569 kWh. Total GPU Power : 69.5906993821539 W\n[codecarbon INFO @ 17:06:06] Energy consumed for all CPUs : 0.058093 kWh. Total CPU Power : 42.5 W\n[codecarbon INFO @ 17:06:06] 0.159704 kWh of electricity used since the beginning.\n[codecarbon INFO @ 17:06:11] Energy consumed for RAM : 0.014349 kWh. RAM Power : 10.2771635055542 W\n[codecarbon INFO @ 17:06:11] Energy consumed for all GPUs : 0.088148 kWh. Total GPU Power : 69.54000304331323 W\n[codecarbon INFO @ 17:06:11] Energy consumed for all CPUs : 0.059357 kWh. Total CPU Power : 42.5 W\n[codecarbon INFO @ 17:06:11] 0.161854 kWh of electricity used since the beginning.\n[codecarbon INFO @ 17:06:21] Energy consumed for RAM : 0.014084 kWh. RAM Power : 10.2771635055542 W\n[codecarbon INFO @ 17:06:21] Energy consumed for all GPUs : 0.087859 kWh. Total GPU Power : 69.52748352227069 W\n[codecarbon INFO @ 17:06:21] Energy consumed for all CPUs : 0.058270 kWh. Total CPU Power : 42.5 W\n[codecarbon INFO @ 17:06:21] 0.160214 kWh of electricity used since the beginning.\n[codecarbon INFO @ 17:06:26] Energy consumed for RAM : 0.014391 kWh. RAM Power : 10.2771635055542 W\n[codecarbon INFO @ 17:06:26] Energy consumed for all GPUs : 0.088437 kWh. Total GPU Power : 69.54300294939793 W\n[codecarbon INFO @ 17:06:26] Energy consumed for all CPUs : 0.059534 kWh. Total CPU Power : 42.5 W\n[codecarbon INFO @ 17:06:26] 0.162363 kWh of electricity used since the beginning.\n[codecarbon INFO @ 17:06:36] Energy consumed for RAM : 0.014127 kWh. RAM Power : 10.2771635055542 W\n[codecarbon INFO @ 17:06:36] Energy consumed for all GPUs : 0.088149 kWh. Total GPU Power : 69.56391472209943 W\n[codecarbon INFO @ 17:06:36] Energy consumed for all CPUs : 0.058447 kWh. Total CPU Power : 42.5 W\n[codecarbon INFO @ 17:06:36] 0.160723 kWh of electricity used since the beginning.\n[codecarbon INFO @ 17:06:41] Energy consumed for RAM : 0.014434 kWh. RAM Power : 10.2771635055542 W\n[codecarbon INFO @ 17:06:41] Energy consumed for all GPUs : 0.088727 kWh. Total GPU Power : 69.66471976219717 W\n[codecarbon INFO @ 17:06:41] Energy consumed for all CPUs : 0.059711 kWh. Total CPU Power : 42.5 W\n[codecarbon INFO @ 17:06:41] 0.162873 kWh of electricity used since the beginning.\n[codecarbon INFO @ 17:06:51] Energy consumed for RAM : 0.014170 kWh. RAM Power : 10.2771635055542 W\n[codecarbon INFO @ 17:06:51] Energy consumed for all GPUs : 0.088439 kWh. Total GPU Power : 69.5637917821702 W\n[codecarbon INFO @ 17:06:51] Energy consumed for all CPUs : 0.058625 kWh. Total CPU Power : 42.5 W\n[codecarbon INFO @ 17:06:51] 0.161233 kWh of electricity used since the beginning.\n[codecarbon INFO @ 17:06:56] Energy consumed for RAM : 0.014477 kWh. RAM Power : 10.2771635055542 W\n[codecarbon INFO @ 17:06:56] Energy consumed for all GPUs : 0.089017 kWh. Total GPU Power : 69.53951319153099 W\n[codecarbon INFO @ 17:06:56] Energy consumed for all CPUs : 0.059888 kWh. Total CPU Power : 42.5 W\n[codecarbon INFO @ 17:06:56] 0.163383 kWh of electricity used since the beginning.\n[codecarbon INFO @ 17:07:06] Energy consumed for RAM : 0.014213 kWh. RAM Power : 10.2771635055542 W\n[codecarbon INFO @ 17:07:06] Energy consumed for all GPUs : 0.088728 kWh. Total GPU Power : 69.60572997991939 W\n[codecarbon INFO @ 17:07:06] Energy consumed for all CPUs : 0.058802 kWh. Total CPU Power : 42.5 W\n[codecarbon INFO @ 17:07:06] 0.161743 kWh of electricity used since the beginning.\n[codecarbon INFO @ 17:07:11] Energy consumed for RAM : 0.014520 kWh. RAM Power : 10.2771635055542 W\n[codecarbon INFO @ 17:07:11] Energy consumed for all GPUs : 0.089307 kWh. Total GPU Power : 69.57830710503977 W\n[codecarbon INFO @ 17:07:11] Energy consumed for all CPUs : 0.060066 kWh. Total CPU Power : 42.5 W\n[codecarbon INFO @ 17:07:11] 0.163892 kWh of electricity used since the beginning.\n[codecarbon INFO @ 17:07:21] Energy consumed for RAM : 0.014255 kWh. RAM Power : 10.2771635055542 W\n[codecarbon INFO @ 17:07:21] Energy consumed for all GPUs : 0.089018 kWh. Total GPU Power : 69.6457969487553 W\n[codecarbon INFO @ 17:07:21] Energy consumed for all CPUs : 0.058979 kWh. Total CPU Power : 42.5 W\n[codecarbon INFO @ 17:07:21] 0.162252 kWh of electricity used since the beginning.\n[codecarbon INFO @ 17:07:26] Energy consumed for RAM : 0.014563 kWh. RAM Power : 10.2771635055542 W\n[codecarbon INFO @ 17:07:26] Energy consumed for all GPUs : 0.089597 kWh. Total GPU Power : 69.56798540843432 W\n[codecarbon INFO @ 17:07:26] Energy consumed for all CPUs : 0.060243 kWh. Total CPU Power : 42.5 W\n[codecarbon INFO @ 17:07:26] 0.164402 kWh of electricity used since the beginning.\n[codecarbon INFO @ 17:07:36] Energy consumed for RAM : 0.014298 kWh. RAM Power : 10.2771635055542 W\n[codecarbon INFO @ 17:07:36] Energy consumed for all GPUs : 0.089309 kWh. Total GPU Power : 69.65003648438196 W\n[codecarbon INFO @ 17:07:36] Energy consumed for all CPUs : 0.059156 kWh. Total CPU Power : 42.5 W\n[codecarbon INFO @ 17:07:36] 0.162762 kWh of electricity used since the beginning.\n[codecarbon INFO @ 17:07:41] Energy consumed for RAM : 0.014605 kWh. RAM Power : 10.2771635055542 W\n[codecarbon INFO @ 17:07:41] Energy consumed for all GPUs : 0.089887 kWh. Total GPU Power : 69.66637438788702 W\n[codecarbon INFO @ 17:07:41] Energy consumed for all CPUs : 0.060420 kWh. Total CPU Power : 42.5 W\n[codecarbon INFO @ 17:07:41] 0.164912 kWh of electricity used since the beginning.\n[codecarbon INFO @ 17:07:51] Energy consumed for RAM : 0.014341 kWh. RAM Power : 10.2771635055542 W\n[codecarbon INFO @ 17:07:51] Energy consumed for all GPUs : 0.089598 kWh. Total GPU Power : 69.59480158631833 W\n[codecarbon INFO @ 17:07:51] Energy consumed for all CPUs : 0.059333 kWh. Total CPU Power : 42.5 W\n[codecarbon INFO @ 17:07:51] 0.163272 kWh of electricity used since the beginning.\n[codecarbon INFO @ 17:07:56] Energy consumed for RAM : 0.014648 kWh. RAM Power : 10.2771635055542 W\n[codecarbon INFO @ 17:07:56] Energy consumed for all GPUs : 0.090177 kWh. Total GPU Power : 69.76202643766382 W\n[codecarbon INFO @ 17:07:56] Energy consumed for all CPUs : 0.060597 kWh. Total CPU Power : 42.5 W\n[codecarbon INFO @ 17:07:56] 0.165422 kWh of electricity used since the beginning.\n[codecarbon INFO @ 17:08:06] Energy consumed for RAM : 0.014384 kWh. RAM Power : 10.2771635055542 W\n[codecarbon INFO @ 17:08:06] Energy consumed for all GPUs : 0.089887 kWh. Total GPU Power : 69.25301651703906 W\n[codecarbon INFO @ 17:08:06] Energy consumed for all CPUs : 0.059510 kWh. Total CPU Power : 42.5 W\n[codecarbon INFO @ 17:08:06] 0.163780 kWh of electricity used since the beginning.\n[codecarbon INFO @ 17:08:11] Energy consumed for RAM : 0.014691 kWh. RAM Power : 10.2771635055542 W\n[codecarbon INFO @ 17:08:11] Energy consumed for all GPUs : 0.090467 kWh. Total GPU Power : 69.61564241276764 W\n[codecarbon INFO @ 17:08:11] Energy consumed for all CPUs : 0.060774 kWh. Total CPU Power : 42.5 W\n[codecarbon INFO @ 17:08:11] 0.165932 kWh of electricity used since the beginning.\n[codecarbon INFO @ 17:08:21] Energy consumed for RAM : 0.014427 kWh. RAM Power : 10.2771635055542 W\n[codecarbon INFO @ 17:08:21] Energy consumed for all GPUs : 0.090176 kWh. Total GPU Power : 69.50607344589471 W\n[codecarbon INFO @ 17:08:21] Energy consumed for all CPUs : 0.059687 kWh. Total CPU Power : 42.5 W\n[codecarbon INFO @ 17:08:21] 0.164290 kWh of electricity used since the beginning.\n[codecarbon INFO @ 17:08:26] Energy consumed for RAM : 0.014734 kWh. RAM Power : 10.2771635055542 W\n[codecarbon INFO @ 17:08:26] Energy consumed for all GPUs : 0.090757 kWh. Total GPU Power : 69.50790215848923 W\n[codecarbon INFO @ 17:08:26] Energy consumed for all CPUs : 0.060951 kWh. Total CPU Power : 42.5 W\n[codecarbon INFO @ 17:08:26] 0.166442 kWh of electricity used since the beginning.\n[codecarbon INFO @ 17:08:36] Energy consumed for RAM : 0.014469 kWh. RAM Power : 10.2771635055542 W\n[codecarbon INFO @ 17:08:36] Energy consumed for all GPUs : 0.090466 kWh. Total GPU Power : 69.55003896099186 W\n[codecarbon INFO @ 17:08:36] Energy consumed for all CPUs : 0.059864 kWh. Total CPU Power : 42.5 W\n[codecarbon INFO @ 17:08:36] 0.164799 kWh of electricity used since the beginning.\n[codecarbon INFO @ 17:08:41] Energy consumed for RAM : 0.014777 kWh. RAM Power : 10.2771635055542 W\n[codecarbon INFO @ 17:08:41] Energy consumed for all GPUs : 0.091046 kWh. Total GPU Power : 69.50282755158062 W\n[codecarbon INFO @ 17:08:41] Energy consumed for all CPUs : 0.061128 kWh. Total CPU Power : 42.5 W\n[codecarbon INFO @ 17:08:41] 0.166951 kWh of electricity used since the beginning.\n[codecarbon INFO @ 17:08:51] Energy consumed for RAM : 0.014512 kWh. RAM Power : 10.2771635055542 W\n[codecarbon INFO @ 17:08:51] Energy consumed for all GPUs : 0.090756 kWh. Total GPU Power : 69.66207545707748 W\n[codecarbon INFO @ 17:08:51] Energy consumed for all CPUs : 0.060041 kWh. Total CPU Power : 42.5 W\n[codecarbon INFO @ 17:08:51] 0.165309 kWh of electricity used since the beginning.\n[codecarbon INFO @ 17:08:56] Energy consumed for RAM : 0.014819 kWh. RAM Power : 10.2771635055542 W\n[codecarbon INFO @ 17:08:56] Energy consumed for all GPUs : 0.091337 kWh. Total GPU Power : 69.6514083741985 W\n[codecarbon INFO @ 17:08:56] Energy consumed for all CPUs : 0.061305 kWh. Total CPU Power : 42.5 W\n[codecarbon INFO @ 17:08:56] 0.167461 kWh of electricity used since the beginning.\n[codecarbon INFO @ 17:09:06] Energy consumed for RAM : 0.014555 kWh. RAM Power : 10.2771635055542 W\n[codecarbon INFO @ 17:09:06] Energy consumed for all GPUs : 0.091046 kWh. Total GPU Power : 69.6560339553961 W\n[codecarbon INFO @ 17:09:06] Energy consumed for all CPUs : 0.060218 kWh. Total CPU Power : 42.5 W\n[codecarbon INFO @ 17:09:06] 0.165819 kWh of electricity used since the beginning.\n[codecarbon INFO @ 17:09:11] Energy consumed for RAM : 0.014862 kWh. RAM Power : 10.2771635055542 W\n[codecarbon INFO @ 17:09:11] Energy consumed for all GPUs : 0.091626 kWh. Total GPU Power : 69.61102551743085 W\n[codecarbon INFO @ 17:09:11] Energy consumed for all CPUs : 0.061482 kWh. Total CPU Power : 42.5 W\n[codecarbon INFO @ 17:09:11] 0.167971 kWh of electricity used since the beginning.\n[codecarbon INFO @ 17:09:21] Energy consumed for RAM : 0.014598 kWh. RAM Power : 10.2771635055542 W\n[codecarbon INFO @ 17:09:21] Energy consumed for all GPUs : 0.091335 kWh. Total GPU Power : 69.45191943284834 W\n[codecarbon INFO @ 17:09:21] Energy consumed for all CPUs : 0.060395 kWh. Total CPU Power : 42.5 W\n[codecarbon INFO @ 17:09:21] 0.166329 kWh of electricity used since the beginning.\n[codecarbon INFO @ 17:09:26] Energy consumed for RAM : 0.014905 kWh. RAM Power : 10.2771635055542 W\n[codecarbon INFO @ 17:09:26] Energy consumed for all GPUs : 0.091916 kWh. Total GPU Power : 69.52850510376418 W\n[codecarbon INFO @ 17:09:26] Energy consumed for all CPUs : 0.061659 kWh. Total CPU Power : 42.5 W\n[codecarbon INFO @ 17:09:26] 0.168480 kWh of electricity used since the beginning.\n[codecarbon INFO @ 17:09:36] Energy consumed for RAM : 0.014641 kWh. RAM Power : 10.2771635055542 W\n[codecarbon INFO @ 17:09:36] Energy consumed for all GPUs : 0.091626 kWh. Total GPU Power : 69.66329699405853 W\n[codecarbon INFO @ 17:09:36] Energy consumed for all CPUs : 0.060572 kWh. Total CPU Power : 42.5 W\n[codecarbon INFO @ 17:09:36] 0.166839 kWh of electricity used since the beginning.\n[codecarbon INFO @ 17:09:41] Energy consumed for RAM : 0.014948 kWh. RAM Power : 10.2771635055542 W\n[codecarbon INFO @ 17:09:41] Energy consumed for all GPUs : 0.092206 kWh. Total GPU Power : 69.66031123135618 W\n[codecarbon INFO @ 17:09:41] Energy consumed for all CPUs : 0.061836 kWh. Total CPU Power : 42.5 W\n[codecarbon INFO @ 17:09:41] 0.168990 kWh of electricity used since the beginning.\n[codecarbon INFO @ 17:09:51] Energy consumed for RAM : 0.014683 kWh. RAM Power : 10.2771635055542 W\n[codecarbon INFO @ 17:09:51] Energy consumed for all GPUs : 0.091916 kWh. Total GPU Power : 69.63009541986379 W\n[codecarbon INFO @ 17:09:51] Energy consumed for all CPUs : 0.060749 kWh. Total CPU Power : 42.5 W\n[codecarbon INFO @ 17:09:51] 0.167349 kWh of electricity used since the beginning.\n[codecarbon INFO @ 17:09:56] Energy consumed for RAM : 0.014991 kWh. RAM Power : 10.2771635055542 W\n[codecarbon INFO @ 17:09:56] Energy consumed for all GPUs : 0.092494 kWh. Total GPU Power : 69.14709916974897 W\n[codecarbon INFO @ 17:09:56] Energy consumed for all CPUs : 0.062013 kWh. Total CPU Power : 42.5 W\n[codecarbon INFO @ 17:09:56] 0.169498 kWh of electricity used since the beginning.\n[codecarbon INFO @ 17:10:06] Energy consumed for RAM : 0.014726 kWh. RAM Power : 10.2771635055542 W\n[codecarbon INFO @ 17:10:06] Energy consumed for all GPUs : 0.092206 kWh. Total GPU Power : 69.66552902443746 W\n[codecarbon INFO @ 17:10:06] Energy consumed for all CPUs : 0.060927 kWh. Total CPU Power : 42.5 W\n[codecarbon INFO @ 17:10:06] 0.167859 kWh of electricity used since the beginning.\n[codecarbon INFO @ 17:10:11] Energy consumed for RAM : 0.015033 kWh. RAM Power : 10.2771635055542 W\n[codecarbon INFO @ 17:10:11] Energy consumed for all GPUs : 0.092784 kWh. Total GPU Power : 69.60031920559044 W\n[codecarbon INFO @ 17:10:11] Energy consumed for all CPUs : 0.062190 kWh. Total CPU Power : 42.5 W\n[codecarbon INFO @ 17:10:11] 0.170008 kWh of electricity used since the beginning.\n[codecarbon INFO @ 17:10:21] Energy consumed for RAM : 0.014769 kWh. RAM Power : 10.2771635055542 W\n[codecarbon INFO @ 17:10:21] Energy consumed for all GPUs : 0.092496 kWh. Total GPU Power : 69.55795952190759 W\n[codecarbon INFO @ 17:10:21] Energy consumed for all CPUs : 0.061104 kWh. Total CPU Power : 42.5 W\n[codecarbon INFO @ 17:10:21] 0.168368 kWh of electricity used since the beginning.\n[codecarbon INFO @ 17:10:26] Energy consumed for RAM : 0.015076 kWh. RAM Power : 10.2771635055542 W\n[codecarbon INFO @ 17:10:26] Energy consumed for all GPUs : 0.093074 kWh. Total GPU Power : 69.66023510045056 W\n[codecarbon INFO @ 17:10:26] Energy consumed for all CPUs : 0.062367 kWh. Total CPU Power : 42.5 W\n[codecarbon INFO @ 17:10:26] 0.170518 kWh of electricity used since the beginning.\n[codecarbon INFO @ 17:10:36] Energy consumed for RAM : 0.014812 kWh. RAM Power : 10.2771635055542 W\n[codecarbon INFO @ 17:10:36] Energy consumed for all GPUs : 0.092786 kWh. Total GPU Power : 69.64727259270613 W\n[codecarbon INFO @ 17:10:36] Energy consumed for all CPUs : 0.061281 kWh. Total CPU Power : 42.5 W\n[codecarbon INFO @ 17:10:36] 0.168878 kWh of electricity used since the beginning.\n[codecarbon INFO @ 17:10:41] Energy consumed for RAM : 0.015119 kWh. RAM Power : 10.2771635055542 W\n[codecarbon INFO @ 17:10:41] Energy consumed for all GPUs : 0.093364 kWh. Total GPU Power : 69.63825115575169 W\n[codecarbon INFO @ 17:10:41] Energy consumed for all CPUs : 0.062545 kWh. Total CPU Power : 42.5 W\n[codecarbon INFO @ 17:10:41] 0.171028 kWh of electricity used since the beginning.\n[codecarbon INFO @ 17:10:51] Energy consumed for RAM : 0.014855 kWh. RAM Power : 10.2771635055542 W\n[codecarbon INFO @ 17:10:51] Energy consumed for all GPUs : 0.093076 kWh. Total GPU Power : 69.635041343552 W\n[codecarbon INFO @ 17:10:51] Energy consumed for all CPUs : 0.061458 kWh. Total CPU Power : 42.5 W\n[codecarbon INFO @ 17:10:51] 0.169388 kWh of electricity used since the beginning.\n[codecarbon INFO @ 17:10:56] Energy consumed for RAM : 0.015162 kWh. RAM Power : 10.2771635055542 W\n[codecarbon INFO @ 17:10:56] Energy consumed for all GPUs : 0.093654 kWh. Total GPU Power : 69.61288508167465 W\n[codecarbon INFO @ 17:10:56] Energy consumed for all CPUs : 0.062722 kWh. Total CPU Power : 42.5 W\n[codecarbon INFO @ 17:10:56] 0.171538 kWh of electricity used since the beginning.\n[codecarbon INFO @ 17:11:06] Energy consumed for RAM : 0.014897 kWh. RAM Power : 10.2771635055542 W\n[codecarbon INFO @ 17:11:06] Energy consumed for all GPUs : 0.093366 kWh. Total GPU Power : 69.68799228762552 W\n[codecarbon INFO @ 17:11:06] Energy consumed for all CPUs : 0.061635 kWh. Total CPU Power : 42.5 W\n[codecarbon INFO @ 17:11:06] 0.169898 kWh of electricity used since the beginning.\n[codecarbon INFO @ 17:11:11] Energy consumed for RAM : 0.015205 kWh. RAM Power : 10.2771635055542 W\n[codecarbon INFO @ 17:11:11] Energy consumed for all GPUs : 0.093944 kWh. Total GPU Power : 69.66181857166299 W\n[codecarbon INFO @ 17:11:11] Energy consumed for all CPUs : 0.062899 kWh. Total CPU Power : 42.5 W\n[codecarbon INFO @ 17:11:11] 0.172048 kWh of electricity used since the beginning.\n[codecarbon INFO @ 17:11:21] Energy consumed for RAM : 0.014940 kWh. RAM Power : 10.2771635055542 W\n[codecarbon INFO @ 17:11:21] Energy consumed for all GPUs : 0.093656 kWh. Total GPU Power : 69.60851709007684 W\n[codecarbon INFO @ 17:11:21] Energy consumed for all CPUs : 0.061812 kWh. Total CPU Power : 42.5 W\n[codecarbon INFO @ 17:11:21] 0.170408 kWh of electricity used since the beginning.\n[codecarbon INFO @ 17:11:26] Energy consumed for RAM : 0.015247 kWh. RAM Power : 10.2771635055542 W\n[codecarbon INFO @ 17:11:26] Energy consumed for all GPUs : 0.094234 kWh. Total GPU Power : 69.58680322981549 W\n[codecarbon INFO @ 17:11:26] Energy consumed for all CPUs : 0.063076 kWh. Total CPU Power : 42.5 W\n[codecarbon INFO @ 17:11:26] 0.172557 kWh of electricity used since the beginning.\n[codecarbon INFO @ 17:11:36] Energy consumed for RAM : 0.014983 kWh. RAM Power : 10.2771635055542 W\n[codecarbon INFO @ 17:11:36] Energy consumed for all GPUs : 0.093946 kWh. Total GPU Power : 69.56908293238878 W\n[codecarbon INFO @ 17:11:36] Energy consumed for all CPUs : 0.061989 kWh. Total CPU Power : 42.5 W\n[codecarbon INFO @ 17:11:36] 0.170918 kWh of electricity used since the beginning.\n[codecarbon INFO @ 17:11:41] Energy consumed for RAM : 0.015290 kWh. RAM Power : 10.2771635055542 W\n[codecarbon INFO @ 17:11:41] Energy consumed for all GPUs : 0.094524 kWh. Total GPU Power : 69.62704583946386 W\n[codecarbon INFO @ 17:11:41] Energy consumed for all CPUs : 0.063253 kWh. Total CPU Power : 42.5 W\n[codecarbon INFO @ 17:11:41] 0.173067 kWh of electricity used since the beginning.\n[codecarbon INFO @ 17:11:51] Energy consumed for RAM : 0.015026 kWh. RAM Power : 10.2771635055542 W\n[codecarbon INFO @ 17:11:51] Energy consumed for all GPUs : 0.094236 kWh. Total GPU Power : 69.63201043280029 W\n[codecarbon INFO @ 17:11:51] Energy consumed for all CPUs : 0.062166 kWh. Total CPU Power : 42.5 W\n[codecarbon INFO @ 17:11:51] 0.171427 kWh of electricity used since the beginning.\n[codecarbon INFO @ 17:11:56] Energy consumed for RAM : 0.015333 kWh. RAM Power : 10.2771635055542 W\n[codecarbon INFO @ 17:11:56] Energy consumed for all GPUs : 0.094814 kWh. Total GPU Power : 69.57581767121071 W\n[codecarbon INFO @ 17:11:56] Energy consumed for all CPUs : 0.063430 kWh. Total CPU Power : 42.5 W\n[codecarbon INFO @ 17:11:56] 0.173577 kWh of electricity used since the beginning.\n[codecarbon INFO @ 17:12:06] Energy consumed for RAM : 0.015069 kWh. RAM Power : 10.2771635055542 W\n[codecarbon INFO @ 17:12:06] Energy consumed for all GPUs : 0.094476 kWh. Total GPU Power : 57.585781711661284 W\n[codecarbon INFO @ 17:12:06] Energy consumed for all CPUs : 0.062343 kWh. Total CPU Power : 42.5 W\n[codecarbon INFO @ 17:12:06] 0.171887 kWh of electricity used since the beginning.\n[codecarbon INFO @ 17:12:11] Energy consumed for RAM : 0.015376 kWh. RAM Power : 10.2771635055542 W\n[codecarbon INFO @ 17:12:11] Energy consumed for all GPUs : 0.094998 kWh. Total GPU Power : 44.019289829762016 W\n[codecarbon INFO @ 17:12:11] Energy consumed for all CPUs : 0.063607 kWh. Total CPU Power : 42.5 W\n[codecarbon INFO @ 17:12:11] 0.173980 kWh of electricity used since the beginning.\n[codecarbon INFO @ 17:12:21] Energy consumed for RAM : 0.015111 kWh. RAM Power : 10.2771635055542 W\n[codecarbon INFO @ 17:12:21] Energy consumed for all GPUs : 0.094599 kWh. Total GPU Power : 29.56128416533823 W\n[codecarbon INFO @ 17:12:21] Energy consumed for all CPUs : 0.062520 kWh. Total CPU Power : 42.5 W\n[codecarbon INFO @ 17:12:21] 0.172230 kWh of electricity used since the beginning.\n[codecarbon INFO @ 17:12:26] Energy consumed for RAM : 0.015419 kWh. RAM Power : 10.2771635055542 W\n[codecarbon INFO @ 17:12:26] Energy consumed for all GPUs : 0.095120 kWh. Total GPU Power : 29.308633147703063 W\n[codecarbon INFO @ 17:12:26] Energy consumed for all CPUs : 0.063784 kWh. Total CPU Power : 42.5 W\n[codecarbon INFO @ 17:12:26] 0.174322 kWh of electricity used since the beginning.\n[codecarbon INFO @ 17:12:36] Energy consumed for RAM : 0.015154 kWh. RAM Power : 10.2771635055542 W\n[codecarbon INFO @ 17:12:36] Energy consumed for all GPUs : 0.094720 kWh. Total GPU Power : 29.128483484745882 W\n[codecarbon INFO @ 17:12:36] Energy consumed for all CPUs : 0.062697 kWh. Total CPU Power : 42.5 W\n[codecarbon INFO @ 17:12:36] 0.172572 kWh of electricity used since the beginning.\n[codecarbon INFO @ 17:12:41] Energy consumed for RAM : 0.015461 kWh. RAM Power : 10.2771635055542 W\n[codecarbon INFO @ 17:12:41] Energy consumed for all GPUs : 0.095240 kWh. Total GPU Power : 28.94996054417219 W\n[codecarbon INFO @ 17:12:41] Energy consumed for all CPUs : 0.063961 kWh. Total CPU Power : 42.5 W\n[codecarbon INFO @ 17:12:41] 0.174663 kWh of electricity used since the beginning.\n[codecarbon INFO @ 17:12:51] Energy consumed for RAM : 0.015197 kWh. RAM Power : 10.2771635055542 W\n[codecarbon INFO @ 17:12:51] Energy consumed for all GPUs : 0.094839 kWh. Total GPU Power : 28.46633034689333 W\n[codecarbon INFO @ 17:12:51] Energy consumed for all CPUs : 0.062874 kWh. Total CPU Power : 42.5 W\n[codecarbon INFO @ 17:12:51] 0.172910 kWh of electricity used since the beginning.\n[codecarbon INFO @ 17:12:56] Energy consumed for RAM : 0.015504 kWh. RAM Power : 10.2771635055542 W\n[codecarbon INFO @ 17:12:56] Energy consumed for all GPUs : 0.095358 kWh. Total GPU Power : 28.347644071047803 W\n[codecarbon INFO @ 17:12:56] Energy consumed for all CPUs : 0.064138 kWh. Total CPU Power : 42.5 W\n[codecarbon INFO @ 17:12:56] 0.175001 kWh of electricity used since the beginning.\n[codecarbon INFO @ 17:13:06] Energy consumed for RAM : 0.015240 kWh. RAM Power : 10.2771635055542 W\n[codecarbon INFO @ 17:13:06] Energy consumed for all GPUs : 0.094956 kWh. Total GPU Power : 28.175321633158486 W\n[codecarbon INFO @ 17:13:06] Energy consumed for all CPUs : 0.063051 kWh. Total CPU Power : 42.5 W\n[codecarbon INFO @ 17:13:06] 0.173247 kWh of electricity used since the beginning.\n[codecarbon INFO @ 17:13:11] Energy consumed for RAM : 0.015547 kWh. RAM Power : 10.2771635055542 W\n[codecarbon INFO @ 17:13:11] Energy consumed for all GPUs : 0.095475 kWh. Total GPU Power : 28.11585728386819 W\n[codecarbon INFO @ 17:13:11] Energy consumed for all CPUs : 0.064315 kWh. Total CPU Power : 42.5 W\n[codecarbon INFO @ 17:13:11] 0.175338 kWh of electricity used since the beginning.\n[codecarbon INFO @ 17:13:21] Energy consumed for RAM : 0.015283 kWh. RAM Power : 10.2771635055542 W\n[codecarbon INFO @ 17:13:21] Energy consumed for all GPUs : 0.095073 kWh. Total GPU Power : 28.1783158405428 W\n[codecarbon INFO @ 17:13:21] Energy consumed for all CPUs : 0.063228 kWh. Total CPU Power : 42.5 W\n[codecarbon INFO @ 17:13:21] 0.173585 kWh of electricity used since the beginning.\n[codecarbon INFO @ 17:13:26] Energy consumed for RAM : 0.015590 kWh. RAM Power : 10.2771635055542 W\n[codecarbon INFO @ 17:13:26] Energy consumed for all GPUs : 0.095592 kWh. Total GPU Power : 28.09117544229023 W\n[codecarbon INFO @ 17:13:26] Energy consumed for all CPUs : 0.064492 kWh. Total CPU Power : 42.5 W\n[codecarbon INFO @ 17:13:26] 0.175675 kWh of electricity used since the beginning.\n[codecarbon INFO @ 17:13:36] Energy consumed for RAM : 0.015325 kWh. RAM Power : 10.2771635055542 W\n[codecarbon INFO @ 17:13:36] Energy consumed for all GPUs : 0.095189 kWh. Total GPU Power : 27.739877695804864 W\n[codecarbon INFO @ 17:13:36] Energy consumed for all CPUs : 0.063406 kWh. Total CPU Power : 42.5 W\n[codecarbon INFO @ 17:13:36] 0.173920 kWh of electricity used since the beginning.\n[codecarbon INFO @ 17:13:41] Energy consumed for RAM : 0.015633 kWh. RAM Power : 10.2771635055542 W\n[codecarbon INFO @ 17:13:41] Energy consumed for all GPUs : 0.095708 kWh. Total GPU Power : 27.667186741411967 W\n[codecarbon INFO @ 17:13:41] Energy consumed for all CPUs : 0.064669 kWh. Total CPU Power : 42.5 W\n[codecarbon INFO @ 17:13:41] 0.176010 kWh of electricity used since the beginning.\n[codecarbon INFO @ 17:13:51] Energy consumed for RAM : 0.015368 kWh. RAM Power : 10.2771635055542 W\n[codecarbon INFO @ 17:13:51] Energy consumed for all GPUs : 0.095304 kWh. Total GPU Power : 27.733417677620803 W\n[codecarbon INFO @ 17:13:51] Energy consumed for all CPUs : 0.063583 kWh. Total CPU Power : 42.5 W\n[codecarbon INFO @ 17:13:51] 0.174255 kWh of electricity used since the beginning.\n[codecarbon INFO @ 17:13:56] Energy consumed for RAM : 0.015676 kWh. RAM Power : 10.2771635055542 W\n[codecarbon INFO @ 17:13:56] Energy consumed for all GPUs : 0.095822 kWh. Total GPU Power : 27.472369027555796 W\n[codecarbon INFO @ 17:13:56] Energy consumed for all CPUs : 0.064846 kWh. Total CPU Power : 42.5 W\n[codecarbon INFO @ 17:13:56] 0.176344 kWh of electricity used since the beginning.\n[codecarbon INFO @ 17:14:06] Energy consumed for RAM : 0.015411 kWh. RAM Power : 10.2771635055542 W\n[codecarbon INFO @ 17:14:06] Energy consumed for all GPUs : 0.095466 kWh. Total GPU Power : 38.76204945762045 W\n[codecarbon INFO @ 17:14:06] Energy consumed for all CPUs : 0.063760 kWh. Total CPU Power : 42.5 W\n[codecarbon INFO @ 17:14:06] 0.174637 kWh of electricity used since the beginning.\n[codecarbon INFO @ 17:14:11] Energy consumed for RAM : 0.015718 kWh. RAM Power : 10.2771635055542 W\n[codecarbon INFO @ 17:14:11] Energy consumed for all GPUs : 0.096044 kWh. Total GPU Power : 53.26622615622751 W\n[codecarbon INFO @ 17:14:11] Energy consumed for all CPUs : 0.065024 kWh. Total CPU Power : 42.5 W\n[codecarbon INFO @ 17:14:11] 0.176786 kWh of electricity used since the beginning.\n[codecarbon INFO @ 17:14:21] Energy consumed for RAM : 0.015454 kWh. RAM Power : 10.2771635055542 W\n[codecarbon INFO @ 17:14:21] Energy consumed for all GPUs : 0.095755 kWh. Total GPU Power : 69.36265942239851 W\n[codecarbon INFO @ 17:14:21] Energy consumed for all CPUs : 0.063937 kWh. Total CPU Power : 42.5 W\n[codecarbon INFO @ 17:14:21] 0.175146 kWh of electricity used since the beginning.\n[codecarbon INFO @ 17:14:26] Energy consumed for RAM : 0.015761 kWh. RAM Power : 10.2771635055542 W\n[codecarbon INFO @ 17:14:26] Energy consumed for all GPUs : 0.096333 kWh. Total GPU Power : 69.4186102654431 W\n[codecarbon INFO @ 17:14:26] Energy consumed for all CPUs : 0.065201 kWh. Total CPU Power : 42.5 W\n[codecarbon INFO @ 17:14:26] 0.177295 kWh of electricity used since the beginning.\n/anaconda/envs/azureml_py38/lib/python3.8/site-packages/sklearn/metrics/_classification.py:1272: UndefinedMetricWarning: Precision is ill-defined and being set to 0.0 in samples with no predicted labels. Use `zero_division` parameter to control this behavior.\n  _warn_prf(average, modifier, msg_start, len(result))\n/anaconda/envs/azureml_py38/lib/python3.8/site-packages/sklearn/metrics/_classification.py:1272: UndefinedMetricWarning: Recall is ill-defined and being set to 0.0 in samples with no true labels. Use `zero_division` parameter to control this behavior.\n  _warn_prf(average, modifier, msg_start, len(result))\n/anaconda/envs/azureml_py38/lib/python3.8/site-packages/sklearn/metrics/_classification.py:1514: UndefinedMetricWarning: F-score is ill-defined and being set to 0.0 in samples with no true nor predicted labels. Use `zero_division` parameter to control this behavior.\n  _warn_prf(\n[codecarbon INFO @ 17:14:36] Energy consumed for RAM : 0.015497 kWh. RAM Power : 10.2771635055542 W\n[codecarbon INFO @ 17:14:36] Energy consumed for all GPUs : 0.095956 kWh. Total GPU Power : 48.33912688901608 W\n[codecarbon INFO @ 17:14:36] Energy consumed for all CPUs : 0.064114 kWh. Total CPU Power : 42.5 W\n[codecarbon INFO @ 17:14:36] 0.175567 kWh of electricity used since the beginning.\n[codecarbon INFO @ 17:14:41] Energy consumed for RAM : 0.015804 kWh. RAM Power : 10.2771635055542 W\n[codecarbon INFO @ 17:14:41] Energy consumed for all GPUs : 0.096521 kWh. Total GPU Power : 45.06607895695246 W\n[codecarbon INFO @ 17:14:41] Energy consumed for all CPUs : 0.065378 kWh. Total CPU Power : 42.5 W\n[codecarbon INFO @ 17:14:41] 0.177702 kWh of electricity used since the beginning.\n[codecarbon INFO @ 17:14:51] Energy consumed for RAM : 0.015540 kWh. RAM Power : 10.2771635055542 W\n[codecarbon INFO @ 17:14:51] Energy consumed for all GPUs : 0.096230 kWh. Total GPU Power : 65.70545754271458 W\n[codecarbon INFO @ 17:14:51] Energy consumed for all CPUs : 0.064291 kWh. Total CPU Power : 42.5 W\n[codecarbon INFO @ 17:14:51] 0.176060 kWh of electricity used since the beginning.\n[codecarbon INFO @ 17:14:56] Energy consumed for RAM : 0.015847 kWh. RAM Power : 10.2771635055542 W\n[codecarbon INFO @ 17:14:56] Energy consumed for all GPUs : 0.096810 kWh. Total GPU Power : 69.50733322347628 W\n[codecarbon INFO @ 17:14:56] Energy consumed for all CPUs : 0.065555 kWh. Total CPU Power : 42.5 W\n[codecarbon INFO @ 17:14:56] 0.178212 kWh of electricity used since the beginning.\n[codecarbon INFO @ 17:15:06] Energy consumed for RAM : 0.015582 kWh. RAM Power : 10.2771635055542 W\n[codecarbon INFO @ 17:15:06] Energy consumed for all GPUs : 0.096520 kWh. Total GPU Power : 69.52068438397386 W\n[codecarbon INFO @ 17:15:06] Energy consumed for all CPUs : 0.064468 kWh. Total CPU Power : 42.5 W\n[codecarbon INFO @ 17:15:06] 0.176570 kWh of electricity used since the beginning.\n[codecarbon INFO @ 17:15:11] Energy consumed for RAM : 0.015890 kWh. RAM Power : 10.2771635055542 W\n[codecarbon INFO @ 17:15:11] Energy consumed for all GPUs : 0.097100 kWh. Total GPU Power : 69.52276267767273 W\n[codecarbon INFO @ 17:15:11] Energy consumed for all CPUs : 0.065732 kWh. Total CPU Power : 42.5 W\n[codecarbon INFO @ 17:15:11] 0.178721 kWh of electricity used since the beginning.\n[codecarbon INFO @ 17:15:21] Energy consumed for RAM : 0.015625 kWh. RAM Power : 10.2771635055542 W\n[codecarbon INFO @ 17:15:21] Energy consumed for all GPUs : 0.096809 kWh. Total GPU Power : 69.58036826906692 W\n[codecarbon INFO @ 17:15:21] Energy consumed for all CPUs : 0.064645 kWh. Total CPU Power : 42.5 W\n[codecarbon INFO @ 17:15:21] 0.177079 kWh of electricity used since the beginning.\n[codecarbon INFO @ 17:15:26] Energy consumed for RAM : 0.015932 kWh. RAM Power : 10.2771635055542 W\n[codecarbon INFO @ 17:15:26] Energy consumed for all GPUs : 0.097390 kWh. Total GPU Power : 69.64229521813947 W\n[codecarbon INFO @ 17:15:26] Energy consumed for all CPUs : 0.065909 kWh. Total CPU Power : 42.5 W\n[codecarbon INFO @ 17:15:26] 0.179231 kWh of electricity used since the beginning.\n[codecarbon INFO @ 17:15:36] Energy consumed for RAM : 0.015668 kWh. RAM Power : 10.2771635055542 W\n[codecarbon INFO @ 17:15:36] Energy consumed for all GPUs : 0.097100 kWh. Total GPU Power : 69.79954786007175 W\n[codecarbon INFO @ 17:15:36] Energy consumed for all CPUs : 0.064822 kWh. Total CPU Power : 42.5 W\n[codecarbon INFO @ 17:15:36] 0.177590 kWh of electricity used since the beginning.\n[codecarbon INFO @ 17:15:41] Energy consumed for RAM : 0.015975 kWh. RAM Power : 10.2771635055542 W\n[codecarbon INFO @ 17:15:41] Energy consumed for all GPUs : 0.097680 kWh. Total GPU Power : 69.75730972624743 W\n[codecarbon INFO @ 17:15:41] Energy consumed for all CPUs : 0.066086 kWh. Total CPU Power : 42.5 W\n[codecarbon INFO @ 17:15:41] 0.179742 kWh of electricity used since the beginning.\n[codecarbon INFO @ 17:15:51] Energy consumed for RAM : 0.015711 kWh. RAM Power : 10.2771635055542 W\n[codecarbon INFO @ 17:15:51] Energy consumed for all GPUs : 0.097391 kWh. Total GPU Power : 69.72646714608345 W\n[codecarbon INFO @ 17:15:51] Energy consumed for all CPUs : 0.064999 kWh. Total CPU Power : 42.5 W\n[codecarbon INFO @ 17:15:51] 0.178101 kWh of electricity used since the beginning.\n[codecarbon INFO @ 17:15:56] Energy consumed for RAM : 0.016018 kWh. RAM Power : 10.2771635055542 W\n[codecarbon INFO @ 17:15:56] Energy consumed for all GPUs : 0.097969 kWh. Total GPU Power : 69.2330862881151 W\n[codecarbon INFO @ 17:15:56] Energy consumed for all CPUs : 0.066263 kWh. Total CPU Power : 42.5 W\n[codecarbon INFO @ 17:15:56] 0.180250 kWh of electricity used since the beginning.\n[codecarbon INFO @ 17:16:06] Energy consumed for RAM : 0.015754 kWh. RAM Power : 10.2771635055542 W\n[codecarbon INFO @ 17:16:06] Energy consumed for all GPUs : 0.097680 kWh. Total GPU Power : 69.46102508191231 W\n[codecarbon INFO @ 17:16:06] Energy consumed for all CPUs : 0.065176 kWh. Total CPU Power : 42.5 W\n[codecarbon INFO @ 17:16:06] 0.178610 kWh of electricity used since the beginning.\n[codecarbon INFO @ 17:16:11] Energy consumed for RAM : 0.016061 kWh. RAM Power : 10.2771635055542 W\n[codecarbon INFO @ 17:16:11] Energy consumed for all GPUs : 0.098258 kWh. Total GPU Power : 69.53430700718334 W\n[codecarbon INFO @ 17:16:11] Energy consumed for all CPUs : 0.066440 kWh. Total CPU Power : 42.5 W\n[codecarbon INFO @ 17:16:11] 0.180759 kWh of electricity used since the beginning.\n[codecarbon INFO @ 17:16:21] Energy consumed for RAM : 0.015796 kWh. RAM Power : 10.2771635055542 W\n[codecarbon INFO @ 17:16:21] Energy consumed for all GPUs : 0.097969 kWh. Total GPU Power : 69.53381316226469 W\n[codecarbon INFO @ 17:16:21] Energy consumed for all CPUs : 0.065353 kWh. Total CPU Power : 42.5 W\n[codecarbon INFO @ 17:16:21] 0.179119 kWh of electricity used since the beginning.\n[codecarbon INFO @ 17:16:26] Energy consumed for RAM : 0.016104 kWh. RAM Power : 10.2771635055542 W\n[codecarbon INFO @ 17:16:26] Energy consumed for all GPUs : 0.098548 kWh. Total GPU Power : 69.45626252921262 W\n[codecarbon INFO @ 17:16:26] Energy consumed for all CPUs : 0.066617 kWh. Total CPU Power : 42.5 W\n[codecarbon INFO @ 17:16:26] 0.181268 kWh of electricity used since the beginning.\n[codecarbon INFO @ 17:16:36] Energy consumed for RAM : 0.015839 kWh. RAM Power : 10.2771635055542 W\n[codecarbon INFO @ 17:16:36] Energy consumed for all GPUs : 0.098259 kWh. Total GPU Power : 69.53763182317476 W\n[codecarbon INFO @ 17:16:36] Energy consumed for all CPUs : 0.065530 kWh. Total CPU Power : 42.5 W\n[codecarbon INFO @ 17:16:36] 0.179629 kWh of electricity used since the beginning.\n[codecarbon INFO @ 17:16:41] Energy consumed for RAM : 0.016146 kWh. RAM Power : 10.2771635055542 W\n[codecarbon INFO @ 17:16:41] Energy consumed for all GPUs : 0.098838 kWh. Total GPU Power : 69.68055851453394 W\n[codecarbon INFO @ 17:16:41] Energy consumed for all CPUs : 0.066794 kWh. Total CPU Power : 42.5 W\n[codecarbon INFO @ 17:16:41] 0.181779 kWh of electricity used since the beginning.\n[codecarbon INFO @ 17:16:51] Energy consumed for RAM : 0.015882 kWh. RAM Power : 10.2771635055542 W\n[codecarbon INFO @ 17:16:51] Energy consumed for all GPUs : 0.098549 kWh. Total GPU Power : 69.70782222746735 W\n[codecarbon INFO @ 17:16:51] Energy consumed for all CPUs : 0.065708 kWh. Total CPU Power : 42.5 W\n[codecarbon INFO @ 17:16:51] 0.180139 kWh of electricity used since the beginning.\n[codecarbon INFO @ 17:16:56] Energy consumed for RAM : 0.016189 kWh. RAM Power : 10.2771635055542 W\n[codecarbon INFO @ 17:16:56] Energy consumed for all GPUs : 0.099128 kWh. Total GPU Power : 69.66104896847197 W\n[codecarbon INFO @ 17:16:56] Energy consumed for all CPUs : 0.066971 kWh. Total CPU Power : 42.5 W\n[codecarbon INFO @ 17:16:56] 0.182289 kWh of electricity used since the beginning.\n[codecarbon INFO @ 17:17:06] Energy consumed for RAM : 0.015925 kWh. RAM Power : 10.2771635055542 W\n[codecarbon INFO @ 17:17:06] Energy consumed for all GPUs : 0.098839 kWh. Total GPU Power : 69.57248378770487 W\n[codecarbon INFO @ 17:17:06] Energy consumed for all CPUs : 0.065885 kWh. Total CPU Power : 42.5 W\n[codecarbon INFO @ 17:17:06] 0.180649 kWh of electricity used since the beginning.\n[codecarbon INFO @ 17:17:11] Energy consumed for RAM : 0.016232 kWh. RAM Power : 10.2771635055542 W\n[codecarbon INFO @ 17:17:11] Energy consumed for all GPUs : 0.099418 kWh. Total GPU Power : 69.60315323051375 W\n[codecarbon INFO @ 17:17:11] Energy consumed for all CPUs : 0.067148 kWh. Total CPU Power : 42.5 W\n[codecarbon INFO @ 17:17:11] 0.182798 kWh of electricity used since the beginning.\n[codecarbon INFO @ 17:17:21] Energy consumed for RAM : 0.015968 kWh. RAM Power : 10.2771635055542 W\n[codecarbon INFO @ 17:17:21] Energy consumed for all GPUs : 0.099129 kWh. Total GPU Power : 69.57024565166935 W\n[codecarbon INFO @ 17:17:21] Energy consumed for all CPUs : 0.066062 kWh. Total CPU Power : 42.5 W\n[codecarbon INFO @ 17:17:21] 0.181158 kWh of electricity used since the beginning.\n[codecarbon INFO @ 17:17:26] Energy consumed for RAM : 0.016275 kWh. RAM Power : 10.2771635055542 W\n[codecarbon INFO @ 17:17:26] Energy consumed for all GPUs : 0.099708 kWh. Total GPU Power : 69.54505091005413 W\n[codecarbon INFO @ 17:17:26] Energy consumed for all CPUs : 0.067326 kWh. Total CPU Power : 42.5 W\n[codecarbon INFO @ 17:17:26] 0.183308 kWh of electricity used since the beginning.\n[codecarbon INFO @ 17:17:36] Energy consumed for RAM : 0.016010 kWh. RAM Power : 10.2771635055542 W\n[codecarbon INFO @ 17:17:36] Energy consumed for all GPUs : 0.099419 kWh. Total GPU Power : 69.60301846951626 W\n[codecarbon INFO @ 17:17:36] Energy consumed for all CPUs : 0.066239 kWh. Total CPU Power : 42.5 W\n[codecarbon INFO @ 17:17:36] 0.181668 kWh of electricity used since the beginning.\n[codecarbon INFO @ 17:17:41] Energy consumed for RAM : 0.016318 kWh. RAM Power : 10.2771635055542 W\n[codecarbon INFO @ 17:17:41] Energy consumed for all GPUs : 0.099998 kWh. Total GPU Power : 69.6452500320979 W\n[codecarbon INFO @ 17:17:41] Energy consumed for all CPUs : 0.067503 kWh. Total CPU Power : 42.5 W\n[codecarbon INFO @ 17:17:41] 0.183818 kWh of electricity used since the beginning.\n[codecarbon INFO @ 17:17:51] Energy consumed for RAM : 0.016053 kWh. RAM Power : 10.2771635055542 W\n[codecarbon INFO @ 17:17:51] Energy consumed for all GPUs : 0.099707 kWh. Total GPU Power : 69.24925057568532 W\n[codecarbon INFO @ 17:17:51] Energy consumed for all CPUs : 0.066416 kWh. Total CPU Power : 42.5 W\n[codecarbon INFO @ 17:17:51] 0.182177 kWh of electricity used since the beginning.\n[codecarbon INFO @ 17:17:56] Energy consumed for RAM : 0.016360 kWh. RAM Power : 10.2771635055542 W\n[codecarbon INFO @ 17:17:56] Energy consumed for all GPUs : 0.100288 kWh. Total GPU Power : 69.75972093015125 W\n[codecarbon INFO @ 17:17:56] Energy consumed for all CPUs : 0.067680 kWh. Total CPU Power : 42.5 W\n[codecarbon INFO @ 17:17:56] 0.184328 kWh of electricity used since the beginning.\n[codecarbon INFO @ 17:18:06] Energy consumed for RAM : 0.016096 kWh. RAM Power : 10.2771635055542 W\n[codecarbon INFO @ 17:18:06] Energy consumed for all GPUs : 0.099998 kWh. Total GPU Power : 69.65401246245763 W\n[codecarbon INFO @ 17:18:06] Energy consumed for all CPUs : 0.066593 kWh. Total CPU Power : 42.5 W\n[codecarbon INFO @ 17:18:06] 0.182686 kWh of electricity used since the beginning.\n[codecarbon INFO @ 17:18:11] Energy consumed for RAM : 0.016403 kWh. RAM Power : 10.2771635055542 W\n[codecarbon INFO @ 17:18:11] Energy consumed for all GPUs : 0.100578 kWh. Total GPU Power : 69.53321146784873 W\n[codecarbon INFO @ 17:18:11] Energy consumed for all CPUs : 0.067857 kWh. Total CPU Power : 42.5 W\n[codecarbon INFO @ 17:18:11] 0.184838 kWh of electricity used since the beginning.\n[codecarbon INFO @ 17:18:21] Energy consumed for RAM : 0.016139 kWh. RAM Power : 10.2771635055542 W\n[codecarbon INFO @ 17:18:21] Energy consumed for all GPUs : 0.100287 kWh. Total GPU Power : 69.5301739300629 W\n[codecarbon INFO @ 17:18:21] Energy consumed for all CPUs : 0.066770 kWh. Total CPU Power : 42.5 W\n[codecarbon INFO @ 17:18:21] 0.183196 kWh of electricity used since the beginning.\n[codecarbon INFO @ 17:18:26] Energy consumed for RAM : 0.016446 kWh. RAM Power : 10.2771635055542 W\n[codecarbon INFO @ 17:18:26] Energy consumed for all GPUs : 0.100868 kWh. Total GPU Power : 69.58039257642952 W\n[codecarbon INFO @ 17:18:26] Energy consumed for all CPUs : 0.068034 kWh. Total CPU Power : 42.5 W\n[codecarbon INFO @ 17:18:26] 0.185348 kWh of electricity used since the beginning.\n[codecarbon INFO @ 17:18:36] Energy consumed for RAM : 0.016182 kWh. RAM Power : 10.2771635055542 W\n[codecarbon INFO @ 17:18:36] Energy consumed for all GPUs : 0.100577 kWh. Total GPU Power : 69.60901102695853 W\n[codecarbon INFO @ 17:18:36] Energy consumed for all CPUs : 0.066947 kWh. Total CPU Power : 42.5 W\n[codecarbon INFO @ 17:18:36] 0.183706 kWh of electricity used since the beginning.\n[codecarbon INFO @ 17:18:41] Energy consumed for RAM : 0.016489 kWh. RAM Power : 10.2771635055542 W\n[codecarbon INFO @ 17:18:41] Energy consumed for all GPUs : 0.101158 kWh. Total GPU Power : 69.57920052430458 W\n[codecarbon INFO @ 17:18:41] Energy consumed for all CPUs : 0.068211 kWh. Total CPU Power : 42.5 W\n[codecarbon INFO @ 17:18:41] 0.185857 kWh of electricity used since the beginning.\n[codecarbon INFO @ 17:18:51] Energy consumed for RAM : 0.016224 kWh. RAM Power : 10.2771635055542 W\n[codecarbon INFO @ 17:18:51] Energy consumed for all GPUs : 0.100867 kWh. Total GPU Power : 69.68862282097324 W\n[codecarbon INFO @ 17:18:51] Energy consumed for all CPUs : 0.067124 kWh. Total CPU Power : 42.5 W\n[codecarbon INFO @ 17:18:51] 0.184216 kWh of electricity used since the beginning.\n[codecarbon INFO @ 17:18:56] Energy consumed for RAM : 0.016532 kWh. RAM Power : 10.2771635055542 W\n[codecarbon INFO @ 17:18:56] Energy consumed for all GPUs : 0.101448 kWh. Total GPU Power : 69.68384919215649 W\n[codecarbon INFO @ 17:18:56] Energy consumed for all CPUs : 0.068388 kWh. Total CPU Power : 42.5 W\n[codecarbon INFO @ 17:18:56] 0.186367 kWh of electricity used since the beginning.\n[codecarbon INFO @ 17:19:06] Energy consumed for RAM : 0.016267 kWh. RAM Power : 10.2771635055542 W\n[codecarbon INFO @ 17:19:06] Energy consumed for all GPUs : 0.101158 kWh. Total GPU Power : 69.68441700501246 W\n[codecarbon INFO @ 17:19:06] Energy consumed for all CPUs : 0.067301 kWh. Total CPU Power : 42.5 W\n[codecarbon INFO @ 17:19:06] 0.184726 kWh of electricity used since the beginning.\n[codecarbon INFO @ 17:19:11] Energy consumed for RAM : 0.016574 kWh. RAM Power : 10.2771635055542 W\n[codecarbon INFO @ 17:19:11] Energy consumed for all GPUs : 0.101738 kWh. Total GPU Power : 69.65324223322054 W\n[codecarbon INFO @ 17:19:11] Energy consumed for all CPUs : 0.068565 kWh. Total CPU Power : 42.5 W\n[codecarbon INFO @ 17:19:11] 0.186877 kWh of electricity used since the beginning.\n[codecarbon INFO @ 17:19:21] Energy consumed for RAM : 0.016310 kWh. RAM Power : 10.2771635055542 W\n[codecarbon INFO @ 17:19:21] Energy consumed for all GPUs : 0.101447 kWh. Total GPU Power : 69.52704514195828 W\n[codecarbon INFO @ 17:19:21] Energy consumed for all CPUs : 0.067478 kWh. Total CPU Power : 42.5 W\n[codecarbon INFO @ 17:19:21] 0.185236 kWh of electricity used since the beginning.\n[codecarbon INFO @ 17:19:26] Energy consumed for RAM : 0.016617 kWh. RAM Power : 10.2771635055542 W\n[codecarbon INFO @ 17:19:26] Energy consumed for all GPUs : 0.102028 kWh. Total GPU Power : 69.60983799297466 W\n[codecarbon INFO @ 17:19:26] Energy consumed for all CPUs : 0.068742 kWh. Total CPU Power : 42.5 W\n[codecarbon INFO @ 17:19:26] 0.187387 kWh of electricity used since the beginning.\n[codecarbon INFO @ 17:19:36] Energy consumed for RAM : 0.016353 kWh. RAM Power : 10.2771635055542 W\n[codecarbon INFO @ 17:19:36] Energy consumed for all GPUs : 0.101737 kWh. Total GPU Power : 69.63477823681372 W\n[codecarbon INFO @ 17:19:36] Energy consumed for all CPUs : 0.067655 kWh. Total CPU Power : 42.5 W\n[codecarbon INFO @ 17:19:36] 0.185745 kWh of electricity used since the beginning.\n[codecarbon INFO @ 17:19:41] Energy consumed for RAM : 0.016660 kWh. RAM Power : 10.2771635055542 W\n[codecarbon INFO @ 17:19:41] Energy consumed for all GPUs : 0.102318 kWh. Total GPU Power : 69.67132400010371 W\n[codecarbon INFO @ 17:19:41] Energy consumed for all CPUs : 0.068919 kWh. Total CPU Power : 42.5 W\n[codecarbon INFO @ 17:19:41] 0.187897 kWh of electricity used since the beginning.\n[codecarbon INFO @ 17:19:51] Energy consumed for RAM : 0.016396 kWh. RAM Power : 10.2771635055542 W\n[codecarbon INFO @ 17:19:51] Energy consumed for all GPUs : 0.102027 kWh. Total GPU Power : 69.64240366773488 W\n[codecarbon INFO @ 17:19:51] Energy consumed for all CPUs : 0.067832 kWh. Total CPU Power : 42.5 W\n[codecarbon INFO @ 17:19:51] 0.186255 kWh of electricity used since the beginning.\n[codecarbon INFO @ 17:19:56] Energy consumed for RAM : 0.016703 kWh. RAM Power : 10.2771635055542 W\n[codecarbon INFO @ 17:19:56] Energy consumed for all GPUs : 0.102608 kWh. Total GPU Power : 69.60305310679738 W\n[codecarbon INFO @ 17:19:56] Energy consumed for all CPUs : 0.069096 kWh. Total CPU Power : 42.5 W\n[codecarbon INFO @ 17:19:56] 0.188407 kWh of electricity used since the beginning.\n[codecarbon INFO @ 17:20:06] Energy consumed for RAM : 0.016438 kWh. RAM Power : 10.2771635055542 W\n[codecarbon INFO @ 17:20:06] Energy consumed for all GPUs : 0.102318 kWh. Total GPU Power : 69.63604954503194 W\n[codecarbon INFO @ 17:20:06] Energy consumed for all CPUs : 0.068009 kWh. Total CPU Power : 42.5 W\n[codecarbon INFO @ 17:20:06] 0.186765 kWh of electricity used since the beginning.\n[codecarbon INFO @ 17:20:11] Energy consumed for RAM : 0.016746 kWh. RAM Power : 10.2771635055542 W\n[codecarbon INFO @ 17:20:11] Energy consumed for all GPUs : 0.102896 kWh. Total GPU Power : 69.1344990905741 W\n[codecarbon INFO @ 17:20:11] Energy consumed for all CPUs : 0.069273 kWh. Total CPU Power : 42.5 W\n[codecarbon INFO @ 17:20:11] 0.188915 kWh of electricity used since the beginning.\n[codecarbon INFO @ 17:20:21] Energy consumed for RAM : 0.016481 kWh. RAM Power : 10.2771635055542 W\n[codecarbon INFO @ 17:20:21] Energy consumed for all GPUs : 0.102607 kWh. Total GPU Power : 69.53287289337491 W\n[codecarbon INFO @ 17:20:21] Energy consumed for all CPUs : 0.068187 kWh. Total CPU Power : 42.5 W\n[codecarbon INFO @ 17:20:21] 0.187275 kWh of electricity used since the beginning.\n[codecarbon INFO @ 17:20:26] Energy consumed for RAM : 0.016788 kWh. RAM Power : 10.2771635055542 W\n[codecarbon INFO @ 17:20:26] Energy consumed for all GPUs : 0.103186 kWh. Total GPU Power : 69.5241044735591 W\n[codecarbon INFO @ 17:20:26] Energy consumed for all CPUs : 0.069450 kWh. Total CPU Power : 42.5 W\n[codecarbon INFO @ 17:20:26] 0.189424 kWh of electricity used since the beginning.\n[codecarbon INFO @ 17:20:36] Energy consumed for RAM : 0.016524 kWh. RAM Power : 10.2771635055542 W\n[codecarbon INFO @ 17:20:36] Energy consumed for all GPUs : 0.102897 kWh. Total GPU Power : 69.56004879537655 W\n[codecarbon INFO @ 17:20:36] Energy consumed for all CPUs : 0.068364 kWh. Total CPU Power : 42.5 W\n[codecarbon INFO @ 17:20:36] 0.187785 kWh of electricity used since the beginning.\n[codecarbon INFO @ 17:20:41] Energy consumed for RAM : 0.016831 kWh. RAM Power : 10.2771635055542 W\n[codecarbon INFO @ 17:20:41] Energy consumed for all GPUs : 0.103475 kWh. Total GPU Power : 69.60146354408094 W\n[codecarbon INFO @ 17:20:41] Energy consumed for all CPUs : 0.069628 kWh. Total CPU Power : 42.5 W\n[codecarbon INFO @ 17:20:41] 0.189934 kWh of electricity used since the beginning.\n[codecarbon INFO @ 17:20:51] Energy consumed for RAM : 0.016567 kWh. RAM Power : 10.2771635055542 W\n[codecarbon INFO @ 17:20:51] Energy consumed for all GPUs : 0.103187 kWh. Total GPU Power : 69.57200628278206 W\n[codecarbon INFO @ 17:20:51] Energy consumed for all CPUs : 0.068541 kWh. Total CPU Power : 42.5 W\n[codecarbon INFO @ 17:20:51] 0.188294 kWh of electricity used since the beginning.\n[codecarbon INFO @ 17:20:56] Energy consumed for RAM : 0.016874 kWh. RAM Power : 10.2771635055542 W\n[codecarbon INFO @ 17:20:56] Energy consumed for all GPUs : 0.103765 kWh. Total GPU Power : 69.58076386089225 W\n[codecarbon INFO @ 17:20:56] Energy consumed for all CPUs : 0.069805 kWh. Total CPU Power : 42.5 W\n[codecarbon INFO @ 17:20:56] 0.190444 kWh of electricity used since the beginning.\n[codecarbon INFO @ 17:21:06] Energy consumed for RAM : 0.016610 kWh. RAM Power : 10.2771635055542 W\n[codecarbon INFO @ 17:21:06] Energy consumed for all GPUs : 0.103477 kWh. Total GPU Power : 69.63831035495323 W\n[codecarbon INFO @ 17:21:06] Energy consumed for all CPUs : 0.068718 kWh. Total CPU Power : 42.5 W\n[codecarbon INFO @ 17:21:06] 0.188804 kWh of electricity used since the beginning.\n[codecarbon INFO @ 17:21:11] Energy consumed for RAM : 0.016917 kWh. RAM Power : 10.2771635055542 W\n[codecarbon INFO @ 17:21:11] Energy consumed for all GPUs : 0.104056 kWh. Total GPU Power : 69.67626222482713 W\n[codecarbon INFO @ 17:21:11] Energy consumed for all CPUs : 0.069982 kWh. Total CPU Power : 42.5 W\n[codecarbon INFO @ 17:21:11] 0.190954 kWh of electricity used since the beginning.\n[codecarbon INFO @ 17:21:21] Energy consumed for RAM : 0.016652 kWh. RAM Power : 10.2771635055542 W\n[codecarbon INFO @ 17:21:21] Energy consumed for all GPUs : 0.103767 kWh. Total GPU Power : 69.64238358857286 W\n[codecarbon INFO @ 17:21:21] Energy consumed for all CPUs : 0.068895 kWh. Total CPU Power : 42.5 W\n[codecarbon INFO @ 17:21:21] 0.189314 kWh of electricity used since the beginning.\n[codecarbon INFO @ 17:21:26] Energy consumed for RAM : 0.016960 kWh. RAM Power : 10.2771635055542 W\n[codecarbon INFO @ 17:21:26] Energy consumed for all GPUs : 0.104345 kWh. Total GPU Power : 69.57240141681011 W\n[codecarbon INFO @ 17:21:26] Energy consumed for all CPUs : 0.070159 kWh. Total CPU Power : 42.5 W\n[codecarbon INFO @ 17:21:26] 0.191464 kWh of electricity used since the beginning.\n[codecarbon INFO @ 17:21:36] Energy consumed for RAM : 0.016695 kWh. RAM Power : 10.2771635055542 W\n[codecarbon INFO @ 17:21:36] Energy consumed for all GPUs : 0.104056 kWh. Total GPU Power : 69.51337308509682 W\n[codecarbon INFO @ 17:21:36] Energy consumed for all CPUs : 0.069072 kWh. Total CPU Power : 42.5 W\n[codecarbon INFO @ 17:21:36] 0.189824 kWh of electricity used since the beginning.\n[codecarbon INFO @ 17:21:41] Energy consumed for RAM : 0.017002 kWh. RAM Power : 10.2771635055542 W\n[codecarbon INFO @ 17:21:41] Energy consumed for all GPUs : 0.104635 kWh. Total GPU Power : 69.54084703975107 W\n[codecarbon INFO @ 17:21:41] Energy consumed for all CPUs : 0.070336 kWh. Total CPU Power : 42.5 W\n[codecarbon INFO @ 17:21:41] 0.191973 kWh of electricity used since the beginning.\n[codecarbon INFO @ 17:21:51] Energy consumed for RAM : 0.016738 kWh. RAM Power : 10.2771635055542 W\n[codecarbon INFO @ 17:21:51] Energy consumed for all GPUs : 0.104346 kWh. Total GPU Power : 69.64372338641512 W\n[codecarbon INFO @ 17:21:51] Energy consumed for all CPUs : 0.069249 kWh. Total CPU Power : 42.5 W\n[codecarbon INFO @ 17:21:51] 0.190334 kWh of electricity used since the beginning.\n[codecarbon INFO @ 17:21:56] Energy consumed for RAM : 0.017045 kWh. RAM Power : 10.2771635055542 W\n[codecarbon INFO @ 17:21:56] Energy consumed for all GPUs : 0.104925 kWh. Total GPU Power : 69.61557732454764 W\n[codecarbon INFO @ 17:21:56] Energy consumed for all CPUs : 0.070513 kWh. Total CPU Power : 42.5 W\n[codecarbon INFO @ 17:21:56] 0.192483 kWh of electricity used since the beginning.\n[codecarbon INFO @ 17:22:06] Energy consumed for RAM : 0.016781 kWh. RAM Power : 10.2771635055542 W\n[codecarbon INFO @ 17:22:06] Energy consumed for all GPUs : 0.104636 kWh. Total GPU Power : 69.54640456154931 W\n[codecarbon INFO @ 17:22:06] Energy consumed for all CPUs : 0.069426 kWh. Total CPU Power : 42.5 W\n[codecarbon INFO @ 17:22:06] 0.190843 kWh of electricity used since the beginning.\n[codecarbon INFO @ 17:22:11] Energy consumed for RAM : 0.017088 kWh. RAM Power : 10.2771635055542 W\n[codecarbon INFO @ 17:22:11] Energy consumed for all GPUs : 0.105215 kWh. Total GPU Power : 69.60356449129681 W\n[codecarbon INFO @ 17:22:11] Energy consumed for all CPUs : 0.070690 kWh. Total CPU Power : 42.5 W\n[codecarbon INFO @ 17:22:11] 0.192993 kWh of electricity used since the beginning.\n[codecarbon INFO @ 17:22:21] Energy consumed for RAM : 0.016824 kWh. RAM Power : 10.2771635055542 W\n[codecarbon INFO @ 17:22:21] Energy consumed for all GPUs : 0.104925 kWh. Total GPU Power : 69.2264853716443 W\n[codecarbon INFO @ 17:22:21] Energy consumed for all CPUs : 0.069603 kWh. Total CPU Power : 42.5 W\n[codecarbon INFO @ 17:22:21] 0.191351 kWh of electricity used since the beginning.\n[codecarbon INFO @ 17:22:26] Energy consumed for RAM : 0.017131 kWh. RAM Power : 10.2771635055542 W\n[codecarbon INFO @ 17:22:26] Energy consumed for all GPUs : 0.105505 kWh. Total GPU Power : 69.68440121382406 W\n[codecarbon INFO @ 17:22:26] Energy consumed for all CPUs : 0.070867 kWh. Total CPU Power : 42.5 W\n[codecarbon INFO @ 17:22:26] 0.193503 kWh of electricity used since the beginning.\n[codecarbon INFO @ 17:22:36] Energy consumed for RAM : 0.016866 kWh. RAM Power : 10.2771635055542 W\n[codecarbon INFO @ 17:22:36] Energy consumed for all GPUs : 0.105214 kWh. Total GPU Power : 69.5606398688011 W\n[codecarbon INFO @ 17:22:36] Energy consumed for all CPUs : 0.069780 kWh. Total CPU Power : 42.5 W\n[codecarbon INFO @ 17:22:36] 0.191861 kWh of electricity used since the beginning.\n[codecarbon INFO @ 17:22:41] Energy consumed for RAM : 0.017174 kWh. RAM Power : 10.2771635055542 W\n[codecarbon INFO @ 17:22:41] Energy consumed for all GPUs : 0.105795 kWh. Total GPU Power : 69.56596862421952 W\n[codecarbon INFO @ 17:22:41] Energy consumed for all CPUs : 0.071044 kWh. Total CPU Power : 42.5 W\n[codecarbon INFO @ 17:22:41] 0.194013 kWh of electricity used since the beginning.\n[codecarbon INFO @ 17:22:51] Energy consumed for RAM : 0.016909 kWh. RAM Power : 10.2771635055542 W\n[codecarbon INFO @ 17:22:51] Energy consumed for all GPUs : 0.105504 kWh. Total GPU Power : 69.53431271022988 W\n[codecarbon INFO @ 17:22:51] Energy consumed for all CPUs : 0.069957 kWh. Total CPU Power : 42.5 W\n[codecarbon INFO @ 17:22:51] 0.192370 kWh of electricity used since the beginning.\n[codecarbon INFO @ 17:22:56] Energy consumed for RAM : 0.017216 kWh. RAM Power : 10.2771635055542 W\n[codecarbon INFO @ 17:22:56] Energy consumed for all GPUs : 0.106085 kWh. Total GPU Power : 69.63434094911224 W\n[codecarbon INFO @ 17:22:56] Energy consumed for all CPUs : 0.071221 kWh. Total CPU Power : 42.5 W\n[codecarbon INFO @ 17:22:56] 0.194522 kWh of electricity used since the beginning.\n[codecarbon INFO @ 17:23:06] Energy consumed for RAM : 0.016952 kWh. RAM Power : 10.2771635055542 W\n[codecarbon INFO @ 17:23:06] Energy consumed for all GPUs : 0.105794 kWh. Total GPU Power : 69.71471575469808 W\n[codecarbon INFO @ 17:23:06] Energy consumed for all CPUs : 0.070134 kWh. Total CPU Power : 42.5 W\n[codecarbon INFO @ 17:23:06] 0.192881 kWh of electricity used since the beginning.\n[codecarbon INFO @ 17:23:11] Energy consumed for RAM : 0.017259 kWh. RAM Power : 10.2771635055542 W\n[codecarbon INFO @ 17:23:11] Energy consumed for all GPUs : 0.106375 kWh. Total GPU Power : 69.59217997290355 W\n[codecarbon INFO @ 17:23:11] Energy consumed for all CPUs : 0.071398 kWh. Total CPU Power : 42.5 W\n[codecarbon INFO @ 17:23:11] 0.195032 kWh of electricity used since the beginning.\n[codecarbon INFO @ 17:23:21] Energy consumed for RAM : 0.016995 kWh. RAM Power : 10.2771635055542 W\n[codecarbon INFO @ 17:23:21] Energy consumed for all GPUs : 0.106084 kWh. Total GPU Power : 69.59086839028726 W\n[codecarbon INFO @ 17:23:21] Energy consumed for all CPUs : 0.070311 kWh. Total CPU Power : 42.5 W\n[codecarbon INFO @ 17:23:21] 0.193390 kWh of electricity used since the beginning.\n[codecarbon INFO @ 17:23:26] Energy consumed for RAM : 0.017302 kWh. RAM Power : 10.2771635055542 W\n[codecarbon INFO @ 17:23:26] Energy consumed for all GPUs : 0.106665 kWh. Total GPU Power : 69.61769919189372 W\n[codecarbon INFO @ 17:23:26] Energy consumed for all CPUs : 0.071575 kWh. Total CPU Power : 42.5 W\n[codecarbon INFO @ 17:23:26] 0.195542 kWh of electricity used since the beginning.\n[codecarbon INFO @ 17:23:36] Energy consumed for RAM : 0.017038 kWh. RAM Power : 10.2771635055542 W\n[codecarbon INFO @ 17:23:36] Energy consumed for all GPUs : 0.106374 kWh. Total GPU Power : 69.65726866136367 W\n[codecarbon INFO @ 17:23:36] Energy consumed for all CPUs : 0.070489 kWh. Total CPU Power : 42.5 W\n[codecarbon INFO @ 17:23:36] 0.193901 kWh of electricity used since the beginning.\n[codecarbon INFO @ 17:23:41] Energy consumed for RAM : 0.017345 kWh. RAM Power : 10.2771635055542 W\n[codecarbon INFO @ 17:23:41] Energy consumed for all GPUs : 0.106954 kWh. Total GPU Power : 69.56730585989246 W\n[codecarbon INFO @ 17:23:41] Energy consumed for all CPUs : 0.071752 kWh. Total CPU Power : 42.5 W\n[codecarbon INFO @ 17:23:41] 0.196052 kWh of electricity used since the beginning.\n[codecarbon INFO @ 17:23:51] Energy consumed for RAM : 0.017081 kWh. RAM Power : 10.2771635055542 W\n[codecarbon INFO @ 17:23:51] Energy consumed for all GPUs : 0.106664 kWh. Total GPU Power : 69.48260896640318 W\n[codecarbon INFO @ 17:23:51] Energy consumed for all CPUs : 0.070666 kWh. Total CPU Power : 42.5 W\n[codecarbon INFO @ 17:23:51] 0.194410 kWh of electricity used since the beginning.\n[codecarbon INFO @ 17:23:56] Energy consumed for RAM : 0.017388 kWh. RAM Power : 10.2771635055542 W\n[codecarbon INFO @ 17:23:56] Energy consumed for all GPUs : 0.107242 kWh. Total GPU Power : 69.10732999408944 W\n[codecarbon INFO @ 17:23:56] Energy consumed for all CPUs : 0.071929 kWh. Total CPU Power : 42.5 W\n[codecarbon INFO @ 17:23:56] 0.196559 kWh of electricity used since the beginning.\n[codecarbon INFO @ 17:24:06] Energy consumed for RAM : 0.017123 kWh. RAM Power : 10.2771635055542 W\n[codecarbon INFO @ 17:24:06] Energy consumed for all GPUs : 0.106954 kWh. Total GPU Power : 69.57564160200972 W\n[codecarbon INFO @ 17:24:06] Energy consumed for all CPUs : 0.070843 kWh. Total CPU Power : 42.5 W\n[codecarbon INFO @ 17:24:06] 0.194920 kWh of electricity used since the beginning.\n[codecarbon INFO @ 17:24:11] Energy consumed for RAM : 0.017430 kWh. RAM Power : 10.2771635055542 W\n[codecarbon INFO @ 17:24:11] Energy consumed for all GPUs : 0.107532 kWh. Total GPU Power : 69.60836231659493 W\n[codecarbon INFO @ 17:24:11] Energy consumed for all CPUs : 0.072107 kWh. Total CPU Power : 42.5 W\n[codecarbon INFO @ 17:24:11] 0.197069 kWh of electricity used since the beginning.\n[codecarbon INFO @ 17:24:21] Energy consumed for RAM : 0.017166 kWh. RAM Power : 10.2771635055542 W\n[codecarbon INFO @ 17:24:21] Energy consumed for all GPUs : 0.107243 kWh. Total GPU Power : 69.57444860147139 W\n[codecarbon INFO @ 17:24:21] Energy consumed for all CPUs : 0.071020 kWh. Total CPU Power : 42.5 W\n[codecarbon INFO @ 17:24:21] 0.195429 kWh of electricity used since the beginning.\n[codecarbon INFO @ 17:24:26] Energy consumed for RAM : 0.017473 kWh. RAM Power : 10.2771635055542 W\n[codecarbon INFO @ 17:24:26] Energy consumed for all GPUs : 0.107822 kWh. Total GPU Power : 69.56604529571261 W\n[codecarbon INFO @ 17:24:26] Energy consumed for all CPUs : 0.072284 kWh. Total CPU Power : 42.5 W\n[codecarbon INFO @ 17:24:26] 0.197579 kWh of electricity used since the beginning.\n[codecarbon INFO @ 17:24:36] Energy consumed for RAM : 0.017209 kWh. RAM Power : 10.2771635055542 W\n[codecarbon INFO @ 17:24:36] Energy consumed for all GPUs : 0.107534 kWh. Total GPU Power : 69.72982979827277 W\n[codecarbon INFO @ 17:24:36] Energy consumed for all CPUs : 0.071197 kWh. Total CPU Power : 42.5 W\n[codecarbon INFO @ 17:24:36] 0.195940 kWh of electricity used since the beginning.\n[codecarbon INFO @ 17:24:41] Energy consumed for RAM : 0.017516 kWh. RAM Power : 10.2771635055542 W\n[codecarbon INFO @ 17:24:41] Energy consumed for all GPUs : 0.108113 kWh. Total GPU Power : 69.79208123586488 W\n[codecarbon INFO @ 17:24:41] Energy consumed for all CPUs : 0.072461 kWh. Total CPU Power : 42.5 W\n[codecarbon INFO @ 17:24:41] 0.198089 kWh of electricity used since the beginning.\n[codecarbon INFO @ 17:24:51] Energy consumed for RAM : 0.017252 kWh. RAM Power : 10.2771635055542 W\n[codecarbon INFO @ 17:24:51] Energy consumed for all GPUs : 0.107824 kWh. Total GPU Power : 69.64705113626788 W\n[codecarbon INFO @ 17:24:51] Energy consumed for all CPUs : 0.071374 kWh. Total CPU Power : 42.5 W\n[codecarbon INFO @ 17:24:51] 0.196450 kWh of electricity used since the beginning.\n[codecarbon INFO @ 17:24:56] Energy consumed for RAM : 0.017559 kWh. RAM Power : 10.2771635055542 W\n[codecarbon INFO @ 17:24:56] Energy consumed for all GPUs : 0.108402 kWh. Total GPU Power : 69.58137466191408 W\n[codecarbon INFO @ 17:24:56] Energy consumed for all CPUs : 0.072638 kWh. Total CPU Power : 42.5 W\n[codecarbon INFO @ 17:24:56] 0.198599 kWh of electricity used since the beginning.\n[codecarbon INFO @ 17:25:06] Energy consumed for RAM : 0.017295 kWh. RAM Power : 10.2771635055542 W\n[codecarbon INFO @ 17:25:06] Energy consumed for all GPUs : 0.108114 kWh. Total GPU Power : 69.57171144950584 W\n[codecarbon INFO @ 17:25:06] Energy consumed for all CPUs : 0.071551 kWh. Total CPU Power : 42.5 W\n[codecarbon INFO @ 17:25:06] 0.196959 kWh of electricity used since the beginning.\n[codecarbon INFO @ 17:25:11] Energy consumed for RAM : 0.017602 kWh. RAM Power : 10.2771635055542 W\n[codecarbon INFO @ 17:25:11] Energy consumed for all GPUs : 0.108692 kWh. Total GPU Power : 69.54304296338329 W\n[codecarbon INFO @ 17:25:11] Energy consumed for all CPUs : 0.072815 kWh. Total CPU Power : 42.5 W\n[codecarbon INFO @ 17:25:11] 0.199109 kWh of electricity used since the beginning.\n[codecarbon INFO @ 17:25:21] Energy consumed for RAM : 0.017337 kWh. RAM Power : 10.2771635055542 W\n[codecarbon INFO @ 17:25:21] Energy consumed for all GPUs : 0.108404 kWh. Total GPU Power : 69.63595156366141 W\n[codecarbon INFO @ 17:25:21] Energy consumed for all CPUs : 0.071728 kWh. Total CPU Power : 42.5 W\n[codecarbon INFO @ 17:25:21] 0.197469 kWh of electricity used since the beginning.\n[codecarbon INFO @ 17:25:26] Energy consumed for RAM : 0.017644 kWh. RAM Power : 10.2771635055542 W\n[codecarbon INFO @ 17:25:26] Energy consumed for all GPUs : 0.108982 kWh. Total GPU Power : 69.63055659393078 W\n[codecarbon INFO @ 17:25:26] Energy consumed for all CPUs : 0.072992 kWh. Total CPU Power : 42.5 W\n[codecarbon INFO @ 17:25:26] 0.199618 kWh of electricity used since the beginning.\n[codecarbon INFO @ 17:25:36] Energy consumed for RAM : 0.017380 kWh. RAM Power : 10.2771635055542 W\n[codecarbon INFO @ 17:25:36] Energy consumed for all GPUs : 0.108694 kWh. Total GPU Power : 69.6099545142394 W\n[codecarbon INFO @ 17:25:36] Energy consumed for all CPUs : 0.071905 kWh. Total CPU Power : 42.5 W\n[codecarbon INFO @ 17:25:36] 0.197979 kWh of electricity used since the beginning.\n[codecarbon INFO @ 17:25:41] Energy consumed for RAM : 0.017687 kWh. RAM Power : 10.2771635055542 W\n[codecarbon INFO @ 17:25:41] Energy consumed for all GPUs : 0.109272 kWh. Total GPU Power : 69.66674995870325 W\n[codecarbon INFO @ 17:25:41] Energy consumed for all CPUs : 0.073169 kWh. Total CPU Power : 42.5 W\n[codecarbon INFO @ 17:25:41] 0.200129 kWh of electricity used since the beginning.\n[codecarbon INFO @ 17:25:51] Energy consumed for RAM : 0.017423 kWh. RAM Power : 10.2771635055542 W\n[codecarbon INFO @ 17:25:51] Energy consumed for all GPUs : 0.108982 kWh. Total GPU Power : 69.21063220746832 W\n[codecarbon INFO @ 17:25:51] Energy consumed for all CPUs : 0.072082 kWh. Total CPU Power : 42.5 W\n[codecarbon INFO @ 17:25:51] 0.198487 kWh of electricity used since the beginning.\n[codecarbon INFO @ 17:25:56] Energy consumed for RAM : 0.017730 kWh. RAM Power : 10.2771635055542 W\n[codecarbon INFO @ 17:25:56] Energy consumed for all GPUs : 0.109562 kWh. Total GPU Power : 69.6431200473673 W\n[codecarbon INFO @ 17:25:56] Energy consumed for all CPUs : 0.073346 kWh. Total CPU Power : 42.5 W\n[codecarbon INFO @ 17:25:56] 0.200639 kWh of electricity used since the beginning.\n[codecarbon INFO @ 17:26:06] Energy consumed for RAM : 0.017466 kWh. RAM Power : 10.2771635055542 W\n[codecarbon INFO @ 17:26:06] Energy consumed for all GPUs : 0.109272 kWh. Total GPU Power : 69.54832057178858 W\n[codecarbon INFO @ 17:26:06] Energy consumed for all CPUs : 0.072259 kWh. Total CPU Power : 42.5 W\n[codecarbon INFO @ 17:26:06] 0.198997 kWh of electricity used since the beginning.\n[codecarbon INFO @ 17:26:11] Energy consumed for RAM : 0.017773 kWh. RAM Power : 10.2771635055542 W\n[codecarbon INFO @ 17:26:11] Energy consumed for all GPUs : 0.109852 kWh. Total GPU Power : 69.63206853998295 W\n[codecarbon INFO @ 17:26:11] Energy consumed for all CPUs : 0.073523 kWh. Total CPU Power : 42.5 W\n[codecarbon INFO @ 17:26:11] 0.201148 kWh of electricity used since the beginning.\n[codecarbon INFO @ 17:26:21] Energy consumed for RAM : 0.017509 kWh. RAM Power : 10.2771635055542 W\n[codecarbon INFO @ 17:26:21] Energy consumed for all GPUs : 0.109562 kWh. Total GPU Power : 69.63517608356761 W\n[codecarbon INFO @ 17:26:21] Energy consumed for all CPUs : 0.072436 kWh. Total CPU Power : 42.5 W\n[codecarbon INFO @ 17:26:21] 0.199507 kWh of electricity used since the beginning.\n[codecarbon INFO @ 17:26:26] Energy consumed for RAM : 0.017816 kWh. RAM Power : 10.2771635055542 W\n[codecarbon INFO @ 17:26:26] Energy consumed for all GPUs : 0.110142 kWh. Total GPU Power : 69.60478427441102 W\n[codecarbon INFO @ 17:26:26] Energy consumed for all CPUs : 0.073700 kWh. Total CPU Power : 42.5 W\n[codecarbon INFO @ 17:26:26] 0.201658 kWh of electricity used since the beginning.\n[codecarbon INFO @ 17:26:36] Energy consumed for RAM : 0.017551 kWh. RAM Power : 10.2771635055542 W\n[codecarbon INFO @ 17:26:36] Energy consumed for all GPUs : 0.109779 kWh. Total GPU Power : 52.04793559458913 W\n[codecarbon INFO @ 17:26:36] Energy consumed for all CPUs : 0.072613 kWh. Total CPU Power : 42.5 W\n[codecarbon INFO @ 17:26:36] 0.199943 kWh of electricity used since the beginning.\n[codecarbon INFO @ 17:26:41] Energy consumed for RAM : 0.017858 kWh. RAM Power : 10.2771635055542 W\n[codecarbon INFO @ 17:26:41] Energy consumed for all GPUs : 0.110300 kWh. Total GPU Power : 37.92908507020527 W\n[codecarbon INFO @ 17:26:41] Energy consumed for all CPUs : 0.073877 kWh. Total CPU Power : 42.5 W\n[codecarbon INFO @ 17:26:41] 0.202036 kWh of electricity used since the beginning.\n[codecarbon INFO @ 17:26:51] Energy consumed for RAM : 0.017594 kWh. RAM Power : 10.2771635055542 W\n[codecarbon INFO @ 17:26:51] Energy consumed for all GPUs : 0.109901 kWh. Total GPU Power : 29.42059238278056 W\n[codecarbon INFO @ 17:26:51] Energy consumed for all CPUs : 0.072790 kWh. Total CPU Power : 42.5 W\n[codecarbon INFO @ 17:26:51] 0.200286 kWh of electricity used since the beginning.\n[codecarbon INFO @ 17:26:56] Energy consumed for RAM : 0.017901 kWh. RAM Power : 10.2771635055542 W\n[codecarbon INFO @ 17:26:56] Energy consumed for all GPUs : 0.110422 kWh. Total GPU Power : 29.201691653049032 W\n[codecarbon INFO @ 17:26:56] Energy consumed for all CPUs : 0.074054 kWh. Total CPU Power : 42.5 W\n[codecarbon INFO @ 17:26:56] 0.202378 kWh of electricity used since the beginning.\n[codecarbon INFO @ 17:27:06] Energy consumed for RAM : 0.017637 kWh. RAM Power : 10.2771635055542 W\n[codecarbon INFO @ 17:27:06] Energy consumed for all GPUs : 0.110022 kWh. Total GPU Power : 29.018344072800083 W\n[codecarbon INFO @ 17:27:06] Energy consumed for all CPUs : 0.072968 kWh. Total CPU Power : 42.5 W\n[codecarbon INFO @ 17:27:06] 0.200627 kWh of electricity used since the beginning.\n[codecarbon INFO @ 17:27:11] Energy consumed for RAM : 0.017944 kWh. RAM Power : 10.2771635055542 W\n[codecarbon INFO @ 17:27:11] Energy consumed for all GPUs : 0.110542 kWh. Total GPU Power : 28.838358872211703 W\n[codecarbon INFO @ 17:27:11] Energy consumed for all CPUs : 0.074231 kWh. Total CPU Power : 42.5 W\n[codecarbon INFO @ 17:27:11] 0.202718 kWh of electricity used since the beginning.\n[codecarbon INFO @ 17:27:21] Energy consumed for RAM : 0.017680 kWh. RAM Power : 10.2771635055542 W\n[codecarbon INFO @ 17:27:21] Energy consumed for all GPUs : 0.110140 kWh. Total GPU Power : 28.383981465577683 W\n[codecarbon INFO @ 17:27:21] Energy consumed for all CPUs : 0.073145 kWh. Total CPU Power : 42.5 W\n[codecarbon INFO @ 17:27:21] 0.200965 kWh of electricity used since the beginning.\n[codecarbon INFO @ 17:27:26] Energy consumed for RAM : 0.017987 kWh. RAM Power : 10.2771635055542 W\n[codecarbon INFO @ 17:27:26] Energy consumed for all GPUs : 0.110660 kWh. Total GPU Power : 28.26332373389196 W\n[codecarbon INFO @ 17:27:26] Energy consumed for all CPUs : 0.074409 kWh. Total CPU Power : 42.5 W\n[codecarbon INFO @ 17:27:26] 0.203055 kWh of electricity used since the beginning.\n[codecarbon INFO @ 17:27:36] Energy consumed for RAM : 0.017723 kWh. RAM Power : 10.2771635055542 W\n[codecarbon INFO @ 17:27:36] Energy consumed for all GPUs : 0.110258 kWh. Total GPU Power : 28.14778986823849 W\n[codecarbon INFO @ 17:27:36] Energy consumed for all CPUs : 0.073322 kWh. Total CPU Power : 42.5 W\n[codecarbon INFO @ 17:27:36] 0.201302 kWh of electricity used since the beginning.\n[codecarbon INFO @ 17:27:41] Energy consumed for RAM : 0.018030 kWh. RAM Power : 10.2771635055542 W\n[codecarbon INFO @ 17:27:41] Energy consumed for all GPUs : 0.110777 kWh. Total GPU Power : 28.09121177431214 W\n[codecarbon INFO @ 17:27:41] Energy consumed for all CPUs : 0.074586 kWh. Total CPU Power : 42.5 W\n[codecarbon INFO @ 17:27:41] 0.203392 kWh of electricity used since the beginning.\n[codecarbon INFO @ 17:27:51] Energy consumed for RAM : 0.017765 kWh. RAM Power : 10.2771635055542 W\n[codecarbon INFO @ 17:27:51] Energy consumed for all GPUs : 0.110375 kWh. Total GPU Power : 28.119193669499797 W\n[codecarbon INFO @ 17:27:51] Energy consumed for all CPUs : 0.073499 kWh. Total CPU Power : 42.5 W\n[codecarbon INFO @ 17:27:51] 0.201639 kWh of electricity used since the beginning.\n[codecarbon INFO @ 17:27:56] Energy consumed for RAM : 0.018073 kWh. RAM Power : 10.2771635055542 W\n[codecarbon INFO @ 17:27:56] Energy consumed for all GPUs : 0.110894 kWh. Total GPU Power : 28.036219995922036 W\n[codecarbon INFO @ 17:27:56] Energy consumed for all CPUs : 0.074763 kWh. Total CPU Power : 42.5 W\n[codecarbon INFO @ 17:27:56] 0.203729 kWh of electricity used since the beginning.\n[codecarbon INFO @ 17:28:06] Energy consumed for RAM : 0.017808 kWh. RAM Power : 10.2771635055542 W\n[codecarbon INFO @ 17:28:06] Energy consumed for all GPUs : 0.110490 kWh. Total GPU Power : 27.701777779587122 W\n[codecarbon INFO @ 17:28:06] Energy consumed for all CPUs : 0.073676 kWh. Total CPU Power : 42.5 W\n[codecarbon INFO @ 17:28:06] 0.201974 kWh of electricity used since the beginning.\n[codecarbon INFO @ 17:28:11] Energy consumed for RAM : 0.018115 kWh. RAM Power : 10.2771635055542 W\n[codecarbon INFO @ 17:28:11] Energy consumed for all GPUs : 0.111009 kWh. Total GPU Power : 27.63508012146033 W\n[codecarbon INFO @ 17:28:11] Energy consumed for all CPUs : 0.074940 kWh. Total CPU Power : 42.5 W\n[codecarbon INFO @ 17:28:11] 0.204064 kWh of electricity used since the beginning.\n[codecarbon INFO @ 17:28:21] Energy consumed for RAM : 0.017851 kWh. RAM Power : 10.2771635055542 W\n[codecarbon INFO @ 17:28:21] Energy consumed for all GPUs : 0.110605 kWh. Total GPU Power : 27.68886313549633 W\n[codecarbon INFO @ 17:28:21] Energy consumed for all CPUs : 0.073853 kWh. Total CPU Power : 42.5 W\n[codecarbon INFO @ 17:28:21] 0.202309 kWh of electricity used since the beginning.\n[codecarbon INFO @ 17:28:26] Energy consumed for RAM : 0.018158 kWh. RAM Power : 10.2771635055542 W\n[codecarbon INFO @ 17:28:26] Energy consumed for all GPUs : 0.111123 kWh. Total GPU Power : 27.430169332338924 W\n[codecarbon INFO @ 17:28:26] Energy consumed for all CPUs : 0.075117 kWh. Total CPU Power : 42.5 W\n[codecarbon INFO @ 17:28:26] 0.204398 kWh of electricity used since the beginning.\n[codecarbon INFO @ 17:28:36] Energy consumed for RAM : 0.017894 kWh. RAM Power : 10.2771635055542 W\n[codecarbon INFO @ 17:28:36] Energy consumed for all GPUs : 0.110792 kWh. Total GPU Power : 44.87899097281067 W\n[codecarbon INFO @ 17:28:36] Energy consumed for all CPUs : 0.074030 kWh. Total CPU Power : 42.5 W\n[codecarbon INFO @ 17:28:36] 0.202716 kWh of electricity used since the beginning.\n[codecarbon INFO @ 17:28:41] Energy consumed for RAM : 0.018201 kWh. RAM Power : 10.2771635055542 W\n[codecarbon INFO @ 17:28:41] Energy consumed for all GPUs : 0.111373 kWh. Total GPU Power : 59.961652049813196 W\n[codecarbon INFO @ 17:28:41] Energy consumed for all CPUs : 0.075294 kWh. Total CPU Power : 42.5 W\n[codecarbon INFO @ 17:28:41] 0.204868 kWh of electricity used since the beginning.\n[codecarbon INFO @ 17:28:51] Energy consumed for RAM : 0.017937 kWh. RAM Power : 10.2771635055542 W\n[codecarbon INFO @ 17:28:51] Energy consumed for all GPUs : 0.111083 kWh. Total GPU Power : 69.90692017246569 W\n[codecarbon INFO @ 17:28:51] Energy consumed for all CPUs : 0.074207 kWh. Total CPU Power : 42.5 W\n[codecarbon INFO @ 17:28:51] 0.203227 kWh of electricity used since the beginning.\n/anaconda/envs/azureml_py38/lib/python3.8/site-packages/sklearn/metrics/_classification.py:1272: UndefinedMetricWarning: Precision is ill-defined and being set to 0.0 in samples with no predicted labels. Use `zero_division` parameter to control this behavior.\n  _warn_prf(average, modifier, msg_start, len(result))\n/anaconda/envs/azureml_py38/lib/python3.8/site-packages/sklearn/metrics/_classification.py:1272: UndefinedMetricWarning: Recall is ill-defined and being set to 0.0 in samples with no true labels. Use `zero_division` parameter to control this behavior.\n  _warn_prf(average, modifier, msg_start, len(result))\n/anaconda/envs/azureml_py38/lib/python3.8/site-packages/sklearn/metrics/_classification.py:1514: UndefinedMetricWarning: F-score is ill-defined and being set to 0.0 in samples with no true nor predicted labels. Use `zero_division` parameter to control this behavior.\n  _warn_prf(\n[codecarbon INFO @ 17:28:56] Energy consumed for RAM : 0.018244 kWh. RAM Power : 10.2771635055542 W\n[codecarbon INFO @ 17:28:56] Energy consumed for all GPUs : 0.111655 kWh. Total GPU Power : 67.69366509780659 W\n[codecarbon INFO @ 17:28:56] Energy consumed for all CPUs : 0.075471 kWh. Total CPU Power : 42.5 W\n[codecarbon INFO @ 17:28:56] 0.205369 kWh of electricity used since the beginning.\n[codecarbon INFO @ 17:29:06] Energy consumed for RAM : 0.017979 kWh. RAM Power : 10.2771635055542 W\n[codecarbon INFO @ 17:29:06] Energy consumed for all GPUs : 0.111271 kWh. Total GPU Power : 44.903701351080166 W\n[codecarbon INFO @ 17:29:06] Energy consumed for all CPUs : 0.074384 kWh. Total CPU Power : 42.5 W\n[codecarbon INFO @ 17:29:06] 0.203634 kWh of electricity used since the beginning.\n[codecarbon INFO @ 17:29:11] Energy consumed for RAM : 0.018287 kWh. RAM Power : 10.2771635055542 W\n[codecarbon INFO @ 17:29:11] Energy consumed for all GPUs : 0.111851 kWh. Total GPU Power : 47.14787670728622 W\n[codecarbon INFO @ 17:29:11] Energy consumed for all CPUs : 0.075648 kWh. Total CPU Power : 42.5 W\n[codecarbon INFO @ 17:29:11] 0.205786 kWh of electricity used since the beginning.\n[codecarbon INFO @ 17:29:21] Energy consumed for RAM : 0.018022 kWh. RAM Power : 10.2771635055542 W\n[codecarbon INFO @ 17:29:21] Energy consumed for all GPUs : 0.111561 kWh. Total GPU Power : 69.61793020772926 W\n[codecarbon INFO @ 17:29:21] Energy consumed for all CPUs : 0.074561 kWh. Total CPU Power : 42.5 W\n[codecarbon INFO @ 17:29:21] 0.204144 kWh of electricity used since the beginning.\n[codecarbon INFO @ 17:29:26] Energy consumed for RAM : 0.018329 kWh. RAM Power : 10.2771635055542 W\n[codecarbon INFO @ 17:29:26] Energy consumed for all GPUs : 0.112141 kWh. Total GPU Power : 69.5119461697007 W\n[codecarbon INFO @ 17:29:26] Energy consumed for all CPUs : 0.075825 kWh. Total CPU Power : 42.5 W\n[codecarbon INFO @ 17:29:26] 0.206295 kWh of electricity used since the beginning.\n[codecarbon INFO @ 17:29:36] Energy consumed for RAM : 0.018065 kWh. RAM Power : 10.2771635055542 W\n[codecarbon INFO @ 17:29:36] Energy consumed for all GPUs : 0.111850 kWh. Total GPU Power : 69.47531514153764 W\n[codecarbon INFO @ 17:29:36] Energy consumed for all CPUs : 0.074738 kWh. Total CPU Power : 42.5 W\n[codecarbon INFO @ 17:29:36] 0.204653 kWh of electricity used since the beginning.\n[codecarbon INFO @ 17:29:41] Energy consumed for RAM : 0.018372 kWh. RAM Power : 10.2771635055542 W\n[codecarbon INFO @ 17:29:41] Energy consumed for all GPUs : 0.112430 kWh. Total GPU Power : 69.5268855903903 W\n[codecarbon INFO @ 17:29:41] Energy consumed for all CPUs : 0.076002 kWh. Total CPU Power : 42.5 W\n[codecarbon INFO @ 17:29:41] 0.206805 kWh of electricity used since the beginning.\n[codecarbon INFO @ 17:29:51] Energy consumed for RAM : 0.018108 kWh. RAM Power : 10.2771635055542 W\n[codecarbon INFO @ 17:29:51] Energy consumed for all GPUs : 0.112140 kWh. Total GPU Power : 69.56838054823551 W\n[codecarbon INFO @ 17:29:51] Energy consumed for all CPUs : 0.074915 kWh. Total CPU Power : 42.5 W\n[codecarbon INFO @ 17:29:51] 0.205163 kWh of electricity used since the beginning.\n[codecarbon INFO @ 17:29:56] Energy consumed for RAM : 0.018415 kWh. RAM Power : 10.2771635055542 W\n[codecarbon INFO @ 17:29:56] Energy consumed for all GPUs : 0.112720 kWh. Total GPU Power : 69.51420792499692 W\n[codecarbon INFO @ 17:29:56] Energy consumed for all CPUs : 0.076179 kWh. Total CPU Power : 42.5 W\n[codecarbon INFO @ 17:29:56] 0.207314 kWh of electricity used since the beginning.\n[codecarbon INFO @ 17:30:06] Energy consumed for RAM : 0.018151 kWh. RAM Power : 10.2771635055542 W\n[codecarbon INFO @ 17:30:06] Energy consumed for all GPUs : 0.112430 kWh. Total GPU Power : 69.61121551939675 W\n[codecarbon INFO @ 17:30:06] Energy consumed for all CPUs : 0.075093 kWh. Total CPU Power : 42.5 W\n[codecarbon INFO @ 17:30:06] 0.205673 kWh of electricity used since the beginning.\n[codecarbon INFO @ 17:30:11] Energy consumed for RAM : 0.018458 kWh. RAM Power : 10.2771635055542 W\n[codecarbon INFO @ 17:30:11] Energy consumed for all GPUs : 0.113008 kWh. Total GPU Power : 69.28952191963631 W\n[codecarbon INFO @ 17:30:11] Energy consumed for all CPUs : 0.076356 kWh. Total CPU Power : 42.5 W\n[codecarbon INFO @ 17:30:11] 0.207823 kWh of electricity used since the beginning.\n[codecarbon INFO @ 17:30:21] Energy consumed for RAM : 0.018193 kWh. RAM Power : 10.2771635055542 W\n[codecarbon INFO @ 17:30:21] Energy consumed for all GPUs : 0.112720 kWh. Total GPU Power : 69.72134895188022 W\n[codecarbon INFO @ 17:30:21] Energy consumed for all CPUs : 0.075270 kWh. Total CPU Power : 42.5 W\n[codecarbon INFO @ 17:30:21] 0.206183 kWh of electricity used since the beginning.\n[codecarbon INFO @ 17:30:26] Energy consumed for RAM : 0.018501 kWh. RAM Power : 10.2771635055542 W\n[codecarbon INFO @ 17:30:26] Energy consumed for all GPUs : 0.113298 kWh. Total GPU Power : 69.60876549384732 W\n[codecarbon INFO @ 17:30:26] Energy consumed for all CPUs : 0.076533 kWh. Total CPU Power : 42.5 W\n[codecarbon INFO @ 17:30:26] 0.208332 kWh of electricity used since the beginning.\n[codecarbon INFO @ 17:30:36] Energy consumed for RAM : 0.018236 kWh. RAM Power : 10.2771635055542 W\n[codecarbon INFO @ 17:30:36] Energy consumed for all GPUs : 0.113010 kWh. Total GPU Power : 69.55453820091026 W\n[codecarbon INFO @ 17:30:36] Energy consumed for all CPUs : 0.075447 kWh. Total CPU Power : 42.5 W\n[codecarbon INFO @ 17:30:36] 0.206693 kWh of electricity used since the beginning.\n[codecarbon INFO @ 17:30:41] Energy consumed for RAM : 0.018543 kWh. RAM Power : 10.2771635055542 W\n[codecarbon INFO @ 17:30:41] Energy consumed for all GPUs : 0.113588 kWh. Total GPU Power : 69.5926340591681 W\n[codecarbon INFO @ 17:30:41] Energy consumed for all CPUs : 0.076711 kWh. Total CPU Power : 42.5 W\n[codecarbon INFO @ 17:30:41] 0.208842 kWh of electricity used since the beginning.\n[codecarbon INFO @ 17:30:51] Energy consumed for RAM : 0.018279 kWh. RAM Power : 10.2771635055542 W\n[codecarbon INFO @ 17:30:51] Energy consumed for all GPUs : 0.113300 kWh. Total GPU Power : 69.5728384790494 W\n[codecarbon INFO @ 17:30:51] Energy consumed for all CPUs : 0.075624 kWh. Total CPU Power : 42.5 W\n[codecarbon INFO @ 17:30:51] 0.207202 kWh of electricity used since the beginning.\n[codecarbon INFO @ 17:30:56] Energy consumed for RAM : 0.018586 kWh. RAM Power : 10.2771635055542 W\n[codecarbon INFO @ 17:30:56] Energy consumed for all GPUs : 0.113878 kWh. Total GPU Power : 69.5801312240379 W\n[codecarbon INFO @ 17:30:56] Energy consumed for all CPUs : 0.076888 kWh. Total CPU Power : 42.5 W\n[codecarbon INFO @ 17:30:56] 0.209352 kWh of electricity used since the beginning.\n[codecarbon INFO @ 17:31:06] Energy consumed for RAM : 0.018322 kWh. RAM Power : 10.2771635055542 W\n[codecarbon INFO @ 17:31:06] Energy consumed for all GPUs : 0.113590 kWh. Total GPU Power : 69.62582173635596 W\n[codecarbon INFO @ 17:31:06] Energy consumed for all CPUs : 0.075801 kWh. Total CPU Power : 42.5 W\n[codecarbon INFO @ 17:31:06] 0.207712 kWh of electricity used since the beginning.\n[codecarbon INFO @ 17:31:11] Energy consumed for RAM : 0.018629 kWh. RAM Power : 10.2771635055542 W\n[codecarbon INFO @ 17:31:11] Energy consumed for all GPUs : 0.114168 kWh. Total GPU Power : 69.63644277551778 W\n[codecarbon INFO @ 17:31:11] Energy consumed for all CPUs : 0.077065 kWh. Total CPU Power : 42.5 W\n[codecarbon INFO @ 17:31:11] 0.209862 kWh of electricity used since the beginning.\n[codecarbon INFO @ 17:31:21] Energy consumed for RAM : 0.018365 kWh. RAM Power : 10.2771635055542 W\n[codecarbon INFO @ 17:31:21] Energy consumed for all GPUs : 0.113880 kWh. Total GPU Power : 69.70867861127476 W\n[codecarbon INFO @ 17:31:21] Energy consumed for all CPUs : 0.075978 kWh. Total CPU Power : 42.5 W\n[codecarbon INFO @ 17:31:21] 0.208222 kWh of electricity used since the beginning.\n[codecarbon INFO @ 17:31:26] Energy consumed for RAM : 0.018672 kWh. RAM Power : 10.2771635055542 W\n[codecarbon INFO @ 17:31:26] Energy consumed for all GPUs : 0.114459 kWh. Total GPU Power : 69.7141329440285 W\n[codecarbon INFO @ 17:31:26] Energy consumed for all CPUs : 0.077242 kWh. Total CPU Power : 42.5 W\n[codecarbon INFO @ 17:31:26] 0.210372 kWh of electricity used since the beginning.\n[codecarbon INFO @ 17:31:36] Energy consumed for RAM : 0.018407 kWh. RAM Power : 10.2771635055542 W\n[codecarbon INFO @ 17:31:36] Energy consumed for all GPUs : 0.114168 kWh. Total GPU Power : 69.15189291705484 W\n[codecarbon INFO @ 17:31:36] Energy consumed for all CPUs : 0.076155 kWh. Total CPU Power : 42.5 W\n[codecarbon INFO @ 17:31:36] 0.208730 kWh of electricity used since the beginning.\n[codecarbon INFO @ 17:31:41] Energy consumed for RAM : 0.018715 kWh. RAM Power : 10.2771635055542 W\n[codecarbon INFO @ 17:31:41] Energy consumed for all GPUs : 0.114748 kWh. Total GPU Power : 69.59556596023586 W\n[codecarbon INFO @ 17:31:41] Energy consumed for all CPUs : 0.077419 kWh. Total CPU Power : 42.5 W\n[codecarbon INFO @ 17:31:41] 0.210882 kWh of electricity used since the beginning.\n[codecarbon INFO @ 17:31:51] Energy consumed for RAM : 0.018450 kWh. RAM Power : 10.2771635055542 W\n[codecarbon INFO @ 17:31:51] Energy consumed for all GPUs : 0.114458 kWh. Total GPU Power : 69.59649012385032 W\n[codecarbon INFO @ 17:31:51] Energy consumed for all CPUs : 0.076332 kWh. Total CPU Power : 42.5 W\n[codecarbon INFO @ 17:31:51] 0.209240 kWh of electricity used since the beginning.\n[codecarbon INFO @ 17:31:56] Energy consumed for RAM : 0.018757 kWh. RAM Power : 10.2771635055542 W\n[codecarbon INFO @ 17:31:56] Energy consumed for all GPUs : 0.115038 kWh. Total GPU Power : 69.53623615514563 W\n[codecarbon INFO @ 17:31:56] Energy consumed for all CPUs : 0.077596 kWh. Total CPU Power : 42.5 W\n[codecarbon INFO @ 17:31:56] 0.211391 kWh of electricity used since the beginning.\n[codecarbon INFO @ 17:32:06] Energy consumed for RAM : 0.018493 kWh. RAM Power : 10.2771635055542 W\n[codecarbon INFO @ 17:32:06] Energy consumed for all GPUs : 0.114748 kWh. Total GPU Power : 69.55335740359482 W\n[codecarbon INFO @ 17:32:06] Energy consumed for all CPUs : 0.076509 kWh. Total CPU Power : 42.5 W\n[codecarbon INFO @ 17:32:06] 0.209750 kWh of electricity used since the beginning.\n[codecarbon INFO @ 17:32:11] Energy consumed for RAM : 0.018800 kWh. RAM Power : 10.2771635055542 W\n[codecarbon INFO @ 17:32:11] Energy consumed for all GPUs : 0.115328 kWh. Total GPU Power : 69.61760510393977 W\n[codecarbon INFO @ 17:32:11] Energy consumed for all CPUs : 0.077773 kWh. Total CPU Power : 42.5 W\n[codecarbon INFO @ 17:32:11] 0.211901 kWh of electricity used since the beginning.\n[codecarbon INFO @ 17:32:21] Energy consumed for RAM : 0.018536 kWh. RAM Power : 10.2771635055542 W\n[codecarbon INFO @ 17:32:21] Energy consumed for all GPUs : 0.115037 kWh. Total GPU Power : 69.5804192133353 W\n[codecarbon INFO @ 17:32:21] Energy consumed for all CPUs : 0.076686 kWh. Total CPU Power : 42.5 W\n[codecarbon INFO @ 17:32:21] 0.210260 kWh of electricity used since the beginning.\n[codecarbon INFO @ 17:32:26] Energy consumed for RAM : 0.018843 kWh. RAM Power : 10.2771635055542 W\n[codecarbon INFO @ 17:32:26] Energy consumed for all GPUs : 0.115618 kWh. Total GPU Power : 69.63122953111039 W\n[codecarbon INFO @ 17:32:26] Energy consumed for all CPUs : 0.077950 kWh. Total CPU Power : 42.5 W\n[codecarbon INFO @ 17:32:26] 0.212411 kWh of electricity used since the beginning.\n[codecarbon INFO @ 17:32:36] Energy consumed for RAM : 0.018579 kWh. RAM Power : 10.2771635055542 W\n[codecarbon INFO @ 17:32:36] Energy consumed for all GPUs : 0.115327 kWh. Total GPU Power : 69.63038365225238 W\n[codecarbon INFO @ 17:32:36] Energy consumed for all CPUs : 0.076863 kWh. Total CPU Power : 42.5 W\n[codecarbon INFO @ 17:32:36] 0.210769 kWh of electricity used since the beginning.\n[codecarbon INFO @ 17:32:41] Energy consumed for RAM : 0.018886 kWh. RAM Power : 10.2771635055542 W\n[codecarbon INFO @ 17:32:41] Energy consumed for all GPUs : 0.115908 kWh. Total GPU Power : 69.5607532447587 W\n[codecarbon INFO @ 17:32:41] Energy consumed for all CPUs : 0.078127 kWh. Total CPU Power : 42.5 W\n[codecarbon INFO @ 17:32:41] 0.212921 kWh of electricity used since the beginning.\n[codecarbon INFO @ 17:32:51] Energy consumed for RAM : 0.018621 kWh. RAM Power : 10.2771635055542 W\n[codecarbon INFO @ 17:32:51] Energy consumed for all GPUs : 0.115617 kWh. Total GPU Power : 69.52096597702801 W\n[codecarbon INFO @ 17:32:51] Energy consumed for all CPUs : 0.077040 kWh. Total CPU Power : 42.5 W\n[codecarbon INFO @ 17:32:51] 0.211279 kWh of electricity used since the beginning.\n[codecarbon INFO @ 17:32:56] Energy consumed for RAM : 0.018929 kWh. RAM Power : 10.2771635055542 W\n[codecarbon INFO @ 17:32:56] Energy consumed for all GPUs : 0.116197 kWh. Total GPU Power : 69.49985842950242 W\n[codecarbon INFO @ 17:32:56] Energy consumed for all CPUs : 0.078304 kWh. Total CPU Power : 42.5 W\n[codecarbon INFO @ 17:32:56] 0.213430 kWh of electricity used since the beginning.\n[codecarbon INFO @ 17:33:06] Energy consumed for RAM : 0.018664 kWh. RAM Power : 10.2771635055542 W\n[codecarbon INFO @ 17:33:06] Energy consumed for all GPUs : 0.115906 kWh. Total GPU Power : 69.50084186463565 W\n[codecarbon INFO @ 17:33:06] Energy consumed for all CPUs : 0.077217 kWh. Total CPU Power : 42.5 W\n[codecarbon INFO @ 17:33:06] 0.211788 kWh of electricity used since the beginning.\n[codecarbon INFO @ 17:33:11] Energy consumed for RAM : 0.018971 kWh. RAM Power : 10.2771635055542 W\n[codecarbon INFO @ 17:33:11] Energy consumed for all GPUs : 0.116485 kWh. Total GPU Power : 69.05722905483395 W\n[codecarbon INFO @ 17:33:11] Energy consumed for all CPUs : 0.078481 kWh. Total CPU Power : 42.5 W\n[codecarbon INFO @ 17:33:11] 0.213937 kWh of electricity used since the beginning.\n[codecarbon INFO @ 17:33:21] Energy consumed for RAM : 0.018707 kWh. RAM Power : 10.2771635055542 W\n[codecarbon INFO @ 17:33:21] Energy consumed for all GPUs : 0.116196 kWh. Total GPU Power : 69.57686255200906 W\n[codecarbon INFO @ 17:33:21] Energy consumed for all CPUs : 0.077395 kWh. Total CPU Power : 42.5 W\n[codecarbon INFO @ 17:33:21] 0.212298 kWh of electricity used since the beginning.\n[codecarbon INFO @ 17:33:26] Energy consumed for RAM : 0.019014 kWh. RAM Power : 10.2771635055542 W\n[codecarbon INFO @ 17:33:26] Energy consumed for all GPUs : 0.116777 kWh. Total GPU Power : 70.07227219306735 W\n[codecarbon INFO @ 17:33:26] Energy consumed for all CPUs : 0.078658 kWh. Total CPU Power : 42.5 W\n[codecarbon INFO @ 17:33:26] 0.214449 kWh of electricity used since the beginning.\n[codecarbon INFO @ 17:33:36] Energy consumed for RAM : 0.018750 kWh. RAM Power : 10.2771635055542 W\n[codecarbon INFO @ 17:33:36] Energy consumed for all GPUs : 0.116486 kWh. Total GPU Power : 69.59765407647157 W\n[codecarbon INFO @ 17:33:36] Energy consumed for all CPUs : 0.077572 kWh. Total CPU Power : 42.5 W\n[codecarbon INFO @ 17:33:36] 0.212808 kWh of electricity used since the beginning.\n[codecarbon INFO @ 17:33:41] Energy consumed for RAM : 0.019057 kWh. RAM Power : 10.2771635055542 W\n[codecarbon INFO @ 17:33:41] Energy consumed for all GPUs : 0.117065 kWh. Total GPU Power : 69.16516647174818 W\n[codecarbon INFO @ 17:33:41] Energy consumed for all CPUs : 0.078835 kWh. Total CPU Power : 42.5 W\n[codecarbon INFO @ 17:33:41] 0.214957 kWh of electricity used since the beginning.\n[codecarbon INFO @ 17:33:51] Energy consumed for RAM : 0.018793 kWh. RAM Power : 10.2771635055542 W\n[codecarbon INFO @ 17:33:51] Energy consumed for all GPUs : 0.116776 kWh. Total GPU Power : 69.48598610993218 W\n[codecarbon INFO @ 17:33:51] Energy consumed for all CPUs : 0.077749 kWh. Total CPU Power : 42.5 W\n[codecarbon INFO @ 17:33:51] 0.213317 kWh of electricity used since the beginning.\n[codecarbon INFO @ 17:33:56] Energy consumed for RAM : 0.019100 kWh. RAM Power : 10.2771635055542 W\n[codecarbon INFO @ 17:33:56] Energy consumed for all GPUs : 0.117354 kWh. Total GPU Power : 69.46037643468223 W\n[codecarbon INFO @ 17:33:56] Energy consumed for all CPUs : 0.079013 kWh. Total CPU Power : 42.5 W\n[codecarbon INFO @ 17:33:56] 0.215466 kWh of electricity used since the beginning.\n[codecarbon INFO @ 17:34:06] Energy consumed for RAM : 0.018836 kWh. RAM Power : 10.2771635055542 W\n[codecarbon INFO @ 17:34:06] Energy consumed for all GPUs : 0.117065 kWh. Total GPU Power : 69.5324956513039 W\n[codecarbon INFO @ 17:34:06] Energy consumed for all CPUs : 0.077926 kWh. Total CPU Power : 42.5 W\n[codecarbon INFO @ 17:34:06] 0.213827 kWh of electricity used since the beginning.\n[codecarbon INFO @ 17:34:11] Energy consumed for RAM : 0.019143 kWh. RAM Power : 10.2771635055542 W\n[codecarbon INFO @ 17:34:11] Energy consumed for all GPUs : 0.117644 kWh. Total GPU Power : 69.59843350894772 W\n[codecarbon INFO @ 17:34:11] Energy consumed for all CPUs : 0.079190 kWh. Total CPU Power : 42.5 W\n[codecarbon INFO @ 17:34:11] 0.215976 kWh of electricity used since the beginning.\n[codecarbon INFO @ 17:34:21] Energy consumed for RAM : 0.018878 kWh. RAM Power : 10.2771635055542 W\n[codecarbon INFO @ 17:34:21] Energy consumed for all GPUs : 0.117355 kWh. Total GPU Power : 69.55782269308386 W\n[codecarbon INFO @ 17:34:21] Energy consumed for all CPUs : 0.078103 kWh. Total CPU Power : 42.5 W\n[codecarbon INFO @ 17:34:21] 0.214336 kWh of electricity used since the beginning.\n[codecarbon INFO @ 17:34:26] Energy consumed for RAM : 0.019185 kWh. RAM Power : 10.2771635055542 W\n[codecarbon INFO @ 17:34:26] Energy consumed for all GPUs : 0.117934 kWh. Total GPU Power : 69.58771071860939 W\n[codecarbon INFO @ 17:34:26] Energy consumed for all CPUs : 0.079367 kWh. Total CPU Power : 42.5 W\n[codecarbon INFO @ 17:34:26] 0.216486 kWh of electricity used since the beginning.\n[codecarbon INFO @ 17:34:36] Energy consumed for RAM : 0.018921 kWh. RAM Power : 10.2771635055542 W\n[codecarbon INFO @ 17:34:36] Energy consumed for all GPUs : 0.117645 kWh. Total GPU Power : 69.64544705650769 W\n[codecarbon INFO @ 17:34:36] Energy consumed for all CPUs : 0.078280 kWh. Total CPU Power : 42.5 W\n[codecarbon INFO @ 17:34:36] 0.214846 kWh of electricity used since the beginning.\n[codecarbon INFO @ 17:34:41] Energy consumed for RAM : 0.019228 kWh. RAM Power : 10.2771635055542 W\n[codecarbon INFO @ 17:34:41] Energy consumed for all GPUs : 0.118224 kWh. Total GPU Power : 69.60563359391206 W\n[codecarbon INFO @ 17:34:41] Energy consumed for all CPUs : 0.079544 kWh. Total CPU Power : 42.5 W\n[codecarbon INFO @ 17:34:41] 0.216996 kWh of electricity used since the beginning.\n[codecarbon INFO @ 17:34:51] Energy consumed for RAM : 0.018964 kWh. RAM Power : 10.2771635055542 W\n[codecarbon INFO @ 17:34:51] Energy consumed for all GPUs : 0.117936 kWh. Total GPU Power : 69.72420315546937 W\n[codecarbon INFO @ 17:34:51] Energy consumed for all CPUs : 0.078457 kWh. Total CPU Power : 42.5 W\n[codecarbon INFO @ 17:34:51] 0.215357 kWh of electricity used since the beginning.\n[codecarbon INFO @ 17:34:56] Energy consumed for RAM : 0.019271 kWh. RAM Power : 10.2771635055542 W\n[codecarbon INFO @ 17:34:56] Energy consumed for all GPUs : 0.118514 kWh. Total GPU Power : 69.61983398940164 W\n[codecarbon INFO @ 17:34:56] Energy consumed for all CPUs : 0.079721 kWh. Total CPU Power : 42.5 W\n[codecarbon INFO @ 17:34:56] 0.217506 kWh of electricity used since the beginning.\n[codecarbon INFO @ 17:35:06] Energy consumed for RAM : 0.019007 kWh. RAM Power : 10.2771635055542 W\n[codecarbon INFO @ 17:35:06] Energy consumed for all GPUs : 0.118225 kWh. Total GPU Power : 69.55557618433396 W\n[codecarbon INFO @ 17:35:06] Energy consumed for all CPUs : 0.078634 kWh. Total CPU Power : 42.5 W\n[codecarbon INFO @ 17:35:06] 0.215866 kWh of electricity used since the beginning.\n[codecarbon INFO @ 17:35:11] Energy consumed for RAM : 0.019314 kWh. RAM Power : 10.2771635055542 W\n[codecarbon INFO @ 17:35:11] Energy consumed for all GPUs : 0.118804 kWh. Total GPU Power : 69.62745166019741 W\n[codecarbon INFO @ 17:35:11] Energy consumed for all CPUs : 0.079898 kWh. Total CPU Power : 42.5 W\n[codecarbon INFO @ 17:35:11] 0.218016 kWh of electricity used since the beginning.\n[codecarbon INFO @ 17:35:21] Energy consumed for RAM : 0.019050 kWh. RAM Power : 10.2771635055542 W\n[codecarbon INFO @ 17:35:21] Energy consumed for all GPUs : 0.118515 kWh. Total GPU Power : 69.55256450883729 W\n[codecarbon INFO @ 17:35:21] Energy consumed for all CPUs : 0.078811 kWh. Total CPU Power : 42.5 W\n[codecarbon INFO @ 17:35:21] 0.216376 kWh of electricity used since the beginning.\n[codecarbon INFO @ 17:35:26] Energy consumed for RAM : 0.019357 kWh. RAM Power : 10.2771635055542 W\n[codecarbon INFO @ 17:35:26] Energy consumed for all GPUs : 0.119094 kWh. Total GPU Power : 69.54437235598958 W\n[codecarbon INFO @ 17:35:26] Energy consumed for all CPUs : 0.080075 kWh. Total CPU Power : 42.5 W\n[codecarbon INFO @ 17:35:26] 0.218525 kWh of electricity used since the beginning.\n[codecarbon INFO @ 17:35:36] Energy consumed for RAM : 0.019092 kWh. RAM Power : 10.2771635055542 W\n[codecarbon INFO @ 17:35:36] Energy consumed for all GPUs : 0.118805 kWh. Total GPU Power : 69.51394092302871 W\n[codecarbon INFO @ 17:35:36] Energy consumed for all CPUs : 0.078988 kWh. Total CPU Power : 42.5 W\n[codecarbon INFO @ 17:35:36] 0.216885 kWh of electricity used since the beginning.\n[codecarbon INFO @ 17:35:41] Energy consumed for RAM : 0.019399 kWh. RAM Power : 10.2771635055542 W\n[codecarbon INFO @ 17:35:41] Energy consumed for all GPUs : 0.119383 kWh. Total GPU Power : 69.52194808678264 W\n[codecarbon INFO @ 17:35:41] Energy consumed for all CPUs : 0.080252 kWh. Total CPU Power : 42.5 W\n[codecarbon INFO @ 17:35:41] 0.219035 kWh of electricity used since the beginning.\n[codecarbon INFO @ 17:35:51] Energy consumed for RAM : 0.019135 kWh. RAM Power : 10.2771635055542 W\n[codecarbon INFO @ 17:35:51] Energy consumed for all GPUs : 0.119095 kWh. Total GPU Power : 69.63097832485286 W\n[codecarbon INFO @ 17:35:51] Energy consumed for all CPUs : 0.079165 kWh. Total CPU Power : 42.5 W\n[codecarbon INFO @ 17:35:51] 0.217395 kWh of electricity used since the beginning.\n[codecarbon INFO @ 17:35:56] Energy consumed for RAM : 0.019442 kWh. RAM Power : 10.2771635055542 W\n[codecarbon INFO @ 17:35:56] Energy consumed for all GPUs : 0.119673 kWh. Total GPU Power : 69.715579276468 W\n[codecarbon INFO @ 17:35:56] Energy consumed for all CPUs : 0.080429 kWh. Total CPU Power : 42.5 W\n[codecarbon INFO @ 17:35:56] 0.219545 kWh of electricity used since the beginning.\n[codecarbon INFO @ 17:36:06] Energy consumed for RAM : 0.019178 kWh. RAM Power : 10.2771635055542 W\n[codecarbon INFO @ 17:36:06] Energy consumed for all GPUs : 0.119383 kWh. Total GPU Power : 69.1942698741022 W\n[codecarbon INFO @ 17:36:06] Energy consumed for all CPUs : 0.079342 kWh. Total CPU Power : 42.5 W\n[codecarbon INFO @ 17:36:06] 0.217903 kWh of electricity used since the beginning.\n[codecarbon INFO @ 17:36:11] Energy consumed for RAM : 0.019485 kWh. RAM Power : 10.2771635055542 W\n[codecarbon INFO @ 17:36:11] Energy consumed for all GPUs : 0.119963 kWh. Total GPU Power : 69.58783813612642 W\n[codecarbon INFO @ 17:36:11] Energy consumed for all CPUs : 0.080606 kWh. Total CPU Power : 42.5 W\n[codecarbon INFO @ 17:36:11] 0.220055 kWh of electricity used since the beginning.\n[codecarbon INFO @ 17:36:21] Energy consumed for RAM : 0.019221 kWh. RAM Power : 10.2771635055542 W\n[codecarbon INFO @ 17:36:21] Energy consumed for all GPUs : 0.119672 kWh. Total GPU Power : 69.51232661520727 W\n[codecarbon INFO @ 17:36:21] Energy consumed for all CPUs : 0.079519 kWh. Total CPU Power : 42.5 W\n[codecarbon INFO @ 17:36:21] 0.218413 kWh of electricity used since the beginning.\n[codecarbon INFO @ 17:36:26] Energy consumed for RAM : 0.019528 kWh. RAM Power : 10.2771635055542 W\n[codecarbon INFO @ 17:36:26] Energy consumed for all GPUs : 0.120253 kWh. Total GPU Power : 69.47953446384662 W\n[codecarbon INFO @ 17:36:26] Energy consumed for all CPUs : 0.080783 kWh. Total CPU Power : 42.5 W\n[codecarbon INFO @ 17:36:26] 0.220564 kWh of electricity used since the beginning.\n[codecarbon INFO @ 17:36:36] Energy consumed for RAM : 0.019264 kWh. RAM Power : 10.2771635055542 W\n[codecarbon INFO @ 17:36:36] Energy consumed for all GPUs : 0.119962 kWh. Total GPU Power : 69.66360667594661 W\n[codecarbon INFO @ 17:36:36] Energy consumed for all CPUs : 0.079697 kWh. Total CPU Power : 42.5 W\n[codecarbon INFO @ 17:36:36] 0.218923 kWh of electricity used since the beginning.\n[codecarbon INFO @ 17:36:41] Energy consumed for RAM : 0.019571 kWh. RAM Power : 10.2771635055542 W\n[codecarbon INFO @ 17:36:41] Energy consumed for all GPUs : 0.120543 kWh. Total GPU Power : 69.60402846291346 W\n[codecarbon INFO @ 17:36:41] Energy consumed for all CPUs : 0.080960 kWh. Total CPU Power : 42.5 W\n[codecarbon INFO @ 17:36:41] 0.221074 kWh of electricity used since the beginning.\n[codecarbon INFO @ 17:36:51] Energy consumed for RAM : 0.019306 kWh. RAM Power : 10.2771635055542 W\n[codecarbon INFO @ 17:36:51] Energy consumed for all GPUs : 0.120252 kWh. Total GPU Power : 69.5968712035346 W\n[codecarbon INFO @ 17:36:51] Energy consumed for all CPUs : 0.079874 kWh. Total CPU Power : 42.5 W\n[codecarbon INFO @ 17:36:51] 0.219432 kWh of electricity used since the beginning.\n[codecarbon INFO @ 17:36:56] Energy consumed for RAM : 0.019613 kWh. RAM Power : 10.2771635055542 W\n[codecarbon INFO @ 17:36:56] Energy consumed for all GPUs : 0.120833 kWh. Total GPU Power : 69.70177411963249 W\n[codecarbon INFO @ 17:36:56] Energy consumed for all CPUs : 0.081137 kWh. Total CPU Power : 42.5 W\n[codecarbon INFO @ 17:36:56] 0.221584 kWh of electricity used since the beginning.\n[codecarbon INFO @ 17:37:06] Energy consumed for RAM : 0.019349 kWh. RAM Power : 10.2771635055542 W\n[codecarbon INFO @ 17:37:06] Energy consumed for all GPUs : 0.120543 kWh. Total GPU Power : 69.713409686064 W\n[codecarbon INFO @ 17:37:06] Energy consumed for all CPUs : 0.080051 kWh. Total CPU Power : 42.5 W\n[codecarbon INFO @ 17:37:06] 0.219943 kWh of electricity used since the beginning.\n[codecarbon INFO @ 17:37:11] Energy consumed for RAM : 0.019656 kWh. RAM Power : 10.2771635055542 W\n[codecarbon INFO @ 17:37:11] Energy consumed for all GPUs : 0.121123 kWh. Total GPU Power : 69.71169468882839 W\n[codecarbon INFO @ 17:37:11] Energy consumed for all CPUs : 0.081315 kWh. Total CPU Power : 42.5 W\n[codecarbon INFO @ 17:37:11] 0.222094 kWh of electricity used since the beginning.\n[codecarbon INFO @ 17:37:21] Energy consumed for RAM : 0.019392 kWh. RAM Power : 10.2771635055542 W\n[codecarbon INFO @ 17:37:21] Energy consumed for all GPUs : 0.120833 kWh. Total GPU Power : 69.56220886902355 W\n[codecarbon INFO @ 17:37:21] Energy consumed for all CPUs : 0.080228 kWh. Total CPU Power : 42.5 W\n[codecarbon INFO @ 17:37:21] 0.220452 kWh of electricity used since the beginning.\n[codecarbon INFO @ 17:37:26] Energy consumed for RAM : 0.019699 kWh. RAM Power : 10.2771635055542 W\n[codecarbon INFO @ 17:37:26] Energy consumed for all GPUs : 0.121411 kWh. Total GPU Power : 69.14990231917179 W\n[codecarbon INFO @ 17:37:26] Energy consumed for all CPUs : 0.081492 kWh. Total CPU Power : 42.5 W\n[codecarbon INFO @ 17:37:26] 0.222602 kWh of electricity used since the beginning.\n[codecarbon INFO @ 17:37:36] Energy consumed for RAM : 0.019435 kWh. RAM Power : 10.2771635055542 W\n[codecarbon INFO @ 17:37:36] Energy consumed for all GPUs : 0.121123 kWh. Total GPU Power : 69.59767892541417 W\n[codecarbon INFO @ 17:37:36] Energy consumed for all CPUs : 0.080405 kWh. Total CPU Power : 42.5 W\n[codecarbon INFO @ 17:37:36] 0.220962 kWh of electricity used since the beginning.\n[codecarbon INFO @ 17:37:41] Energy consumed for RAM : 0.019742 kWh. RAM Power : 10.2771635055542 W\n[codecarbon INFO @ 17:37:41] Energy consumed for all GPUs : 0.121701 kWh. Total GPU Power : 69.55081609557067 W\n[codecarbon INFO @ 17:37:41] Energy consumed for all CPUs : 0.081669 kWh. Total CPU Power : 42.5 W\n[codecarbon INFO @ 17:37:41] 0.223111 kWh of electricity used since the beginning.\n[codecarbon INFO @ 17:37:51] Energy consumed for RAM : 0.019478 kWh. RAM Power : 10.2771635055542 W\n[codecarbon INFO @ 17:37:51] Energy consumed for all GPUs : 0.121412 kWh. Total GPU Power : 69.56479058967032 W\n[codecarbon INFO @ 17:37:51] Energy consumed for all CPUs : 0.080582 kWh. Total CPU Power : 42.5 W\n[codecarbon INFO @ 17:37:51] 0.221472 kWh of electricity used since the beginning.\n[codecarbon INFO @ 17:37:56] Energy consumed for RAM : 0.019785 kWh. RAM Power : 10.2771635055542 W\n[codecarbon INFO @ 17:37:56] Energy consumed for all GPUs : 0.121991 kWh. Total GPU Power : 69.59857211385783 W\n[codecarbon INFO @ 17:37:56] Energy consumed for all CPUs : 0.081846 kWh. Total CPU Power : 42.5 W\n[codecarbon INFO @ 17:37:56] 0.223621 kWh of electricity used since the beginning.\n[codecarbon INFO @ 17:38:06] Energy consumed for RAM : 0.019520 kWh. RAM Power : 10.2771635055542 W\n[codecarbon INFO @ 17:38:06] Energy consumed for all GPUs : 0.121703 kWh. Total GPU Power : 69.66613127336791 W\n[codecarbon INFO @ 17:38:06] Energy consumed for all CPUs : 0.080759 kWh. Total CPU Power : 42.5 W\n[codecarbon INFO @ 17:38:06] 0.221982 kWh of electricity used since the beginning.\n[codecarbon INFO @ 17:38:11] Energy consumed for RAM : 0.019827 kWh. RAM Power : 10.2771635055542 W\n[codecarbon INFO @ 17:38:11] Energy consumed for all GPUs : 0.122281 kWh. Total GPU Power : 69.67875639122418 W\n[codecarbon INFO @ 17:38:11] Energy consumed for all CPUs : 0.082023 kWh. Total CPU Power : 42.5 W\n[codecarbon INFO @ 17:38:11] 0.224131 kWh of electricity used since the beginning.\n[codecarbon INFO @ 17:38:21] Energy consumed for RAM : 0.019563 kWh. RAM Power : 10.2771635055542 W\n[codecarbon INFO @ 17:38:21] Energy consumed for all GPUs : 0.121993 kWh. Total GPU Power : 69.63435917279665 W\n[codecarbon INFO @ 17:38:21] Energy consumed for all CPUs : 0.080936 kWh. Total CPU Power : 42.5 W\n[codecarbon INFO @ 17:38:21] 0.222492 kWh of electricity used since the beginning.\n[codecarbon INFO @ 17:38:26] Energy consumed for RAM : 0.019870 kWh. RAM Power : 10.2771635055542 W\n[codecarbon INFO @ 17:38:26] Energy consumed for all GPUs : 0.122571 kWh. Total GPU Power : 69.56904471147932 W\n[codecarbon INFO @ 17:38:26] Energy consumed for all CPUs : 0.082200 kWh. Total CPU Power : 42.5 W\n[codecarbon INFO @ 17:38:26] 0.224641 kWh of electricity used since the beginning.\n[codecarbon INFO @ 17:38:36] Energy consumed for RAM : 0.019606 kWh. RAM Power : 10.2771635055542 W\n[codecarbon INFO @ 17:38:36] Energy consumed for all GPUs : 0.122282 kWh. Total GPU Power : 69.52247038737059 W\n[codecarbon INFO @ 17:38:36] Energy consumed for all CPUs : 0.081113 kWh. Total CPU Power : 42.5 W\n[codecarbon INFO @ 17:38:36] 0.223001 kWh of electricity used since the beginning.\n[codecarbon INFO @ 17:38:41] Energy consumed for RAM : 0.019913 kWh. RAM Power : 10.2771635055542 W\n[codecarbon INFO @ 17:38:41] Energy consumed for all GPUs : 0.122861 kWh. Total GPU Power : 69.54282056884489 W\n[codecarbon INFO @ 17:38:41] Energy consumed for all CPUs : 0.082377 kWh. Total CPU Power : 42.5 W\n[codecarbon INFO @ 17:38:41] 0.225151 kWh of electricity used since the beginning.\n[codecarbon INFO @ 17:38:51] Energy consumed for RAM : 0.019649 kWh. RAM Power : 10.2771635055542 W\n[codecarbon INFO @ 17:38:51] Energy consumed for all GPUs : 0.122572 kWh. Total GPU Power : 69.56389214916429 W\n[codecarbon INFO @ 17:38:51] Energy consumed for all CPUs : 0.081290 kWh. Total CPU Power : 42.5 W\n[codecarbon INFO @ 17:38:51] 0.223511 kWh of electricity used since the beginning.\n[codecarbon INFO @ 17:38:56] Energy consumed for RAM : 0.019956 kWh. RAM Power : 10.2771635055542 W\n[codecarbon INFO @ 17:38:56] Energy consumed for all GPUs : 0.123151 kWh. Total GPU Power : 69.62037916593383 W\n[codecarbon INFO @ 17:38:56] Energy consumed for all CPUs : 0.082554 kWh. Total CPU Power : 42.5 W\n[codecarbon INFO @ 17:38:56] 0.225660 kWh of electricity used since the beginning.\n[codecarbon INFO @ 17:39:06] Energy consumed for RAM : 0.019692 kWh. RAM Power : 10.2771635055542 W\n[codecarbon INFO @ 17:39:06] Energy consumed for all GPUs : 0.122862 kWh. Total GPU Power : 69.57881798173082 W\n[codecarbon INFO @ 17:39:06] Energy consumed for all CPUs : 0.081467 kWh. Total CPU Power : 42.5 W\n[codecarbon INFO @ 17:39:06] 0.224021 kWh of electricity used since the beginning.\n[codecarbon INFO @ 17:39:11] Energy consumed for RAM : 0.019999 kWh. RAM Power : 10.2771635055542 W\n[codecarbon INFO @ 17:39:11] Energy consumed for all GPUs : 0.123441 kWh. Total GPU Power : 69.63281518798858 W\n[codecarbon INFO @ 17:39:11] Energy consumed for all CPUs : 0.082731 kWh. Total CPU Power : 42.5 W\n[codecarbon INFO @ 17:39:11] 0.226170 kWh of electricity used since the beginning.\n[codecarbon INFO @ 17:39:21] Energy consumed for RAM : 0.019734 kWh. RAM Power : 10.2771635055542 W\n[codecarbon INFO @ 17:39:21] Energy consumed for all GPUs : 0.123152 kWh. Total GPU Power : 69.70899609939731 W\n[codecarbon INFO @ 17:39:21] Energy consumed for all CPUs : 0.081644 kWh. Total CPU Power : 42.5 W\n[codecarbon INFO @ 17:39:21] 0.224531 kWh of electricity used since the beginning.\n[codecarbon INFO @ 17:39:26] Energy consumed for RAM : 0.020041 kWh. RAM Power : 10.2771635055542 W\n[codecarbon INFO @ 17:39:26] Energy consumed for all GPUs : 0.123730 kWh. Total GPU Power : 69.59102019249771 W\n[codecarbon INFO @ 17:39:26] Energy consumed for all CPUs : 0.082908 kWh. Total CPU Power : 42.5 W\n[codecarbon INFO @ 17:39:26] 0.226680 kWh of electricity used since the beginning.\n[codecarbon INFO @ 17:39:36] Energy consumed for RAM : 0.019777 kWh. RAM Power : 10.2771635055542 W\n[codecarbon INFO @ 17:39:36] Energy consumed for all GPUs : 0.123442 kWh. Total GPU Power : 69.5541038779423 W\n[codecarbon INFO @ 17:39:36] Energy consumed for all CPUs : 0.081821 kWh. Total CPU Power : 42.5 W\n[codecarbon INFO @ 17:39:36] 0.225041 kWh of electricity used since the beginning.\n[codecarbon INFO @ 17:39:41] Energy consumed for RAM : 0.020084 kWh. RAM Power : 10.2771635055542 W\n[codecarbon INFO @ 17:39:41] Energy consumed for all GPUs : 0.124020 kWh. Total GPU Power : 69.55768090113703 W\n[codecarbon INFO @ 17:39:41] Energy consumed for all CPUs : 0.083085 kWh. Total CPU Power : 42.5 W\n[codecarbon INFO @ 17:39:41] 0.227190 kWh of electricity used since the beginning.\n[codecarbon INFO @ 17:39:51] Energy consumed for RAM : 0.019820 kWh. RAM Power : 10.2771635055542 W\n[codecarbon INFO @ 17:39:51] Energy consumed for all GPUs : 0.123732 kWh. Total GPU Power : 69.55826004623765 W\n[codecarbon INFO @ 17:39:51] Energy consumed for all CPUs : 0.081999 kWh. Total CPU Power : 42.5 W\n[codecarbon INFO @ 17:39:51] 0.225550 kWh of electricity used since the beginning.\n[codecarbon INFO @ 17:39:56] Energy consumed for RAM : 0.020127 kWh. RAM Power : 10.2771635055542 W\n[codecarbon INFO @ 17:39:56] Energy consumed for all GPUs : 0.124310 kWh. Total GPU Power : 69.53348190614062 W\n[codecarbon INFO @ 17:39:56] Energy consumed for all CPUs : 0.083262 kWh. Total CPU Power : 42.5 W\n[codecarbon INFO @ 17:39:56] 0.227699 kWh of electricity used since the beginning.\n[codecarbon INFO @ 17:40:06] Energy consumed for RAM : 0.019863 kWh. RAM Power : 10.2771635055542 W\n[codecarbon INFO @ 17:40:06] Energy consumed for all GPUs : 0.124021 kWh. Total GPU Power : 69.53350661587012 W\n[codecarbon INFO @ 17:40:06] Energy consumed for all CPUs : 0.082176 kWh. Total CPU Power : 42.5 W\n[codecarbon INFO @ 17:40:06] 0.226060 kWh of electricity used since the beginning.\n[codecarbon INFO @ 17:40:11] Energy consumed for RAM : 0.020170 kWh. RAM Power : 10.2771635055542 W\n[codecarbon INFO @ 17:40:11] Energy consumed for all GPUs : 0.124600 kWh. Total GPU Power : 69.60793498299108 W\n[codecarbon INFO @ 17:40:11] Energy consumed for all CPUs : 0.083439 kWh. Total CPU Power : 42.5 W\n[codecarbon INFO @ 17:40:11] 0.228209 kWh of electricity used since the beginning.\n[codecarbon INFO @ 17:40:21] Energy consumed for RAM : 0.019906 kWh. RAM Power : 10.2771635055542 W\n[codecarbon INFO @ 17:40:21] Energy consumed for all GPUs : 0.124311 kWh. Total GPU Power : 69.63331100944006 W\n[codecarbon INFO @ 17:40:21] Energy consumed for all CPUs : 0.082353 kWh. Total CPU Power : 42.5 W\n[codecarbon INFO @ 17:40:21] 0.226570 kWh of electricity used since the beginning.\n[codecarbon INFO @ 17:40:26] Energy consumed for RAM : 0.020213 kWh. RAM Power : 10.2771635055542 W\n[codecarbon INFO @ 17:40:26] Energy consumed for all GPUs : 0.124890 kWh. Total GPU Power : 69.70074069862382 W\n[codecarbon INFO @ 17:40:26] Energy consumed for all CPUs : 0.083616 kWh. Total CPU Power : 42.5 W\n[codecarbon INFO @ 17:40:26] 0.228719 kWh of electricity used since the beginning.\n[codecarbon INFO @ 17:40:36] Energy consumed for RAM : 0.019948 kWh. RAM Power : 10.2771635055542 W\n[codecarbon INFO @ 17:40:36] Energy consumed for all GPUs : 0.124599 kWh. Total GPU Power : 69.16813823912356 W\n[codecarbon INFO @ 17:40:36] Energy consumed for all CPUs : 0.082530 kWh. Total CPU Power : 42.5 W\n[codecarbon INFO @ 17:40:36] 0.227078 kWh of electricity used since the beginning.\n[codecarbon INFO @ 17:40:41] Energy consumed for RAM : 0.020255 kWh. RAM Power : 10.2771635055542 W\n[codecarbon INFO @ 17:40:41] Energy consumed for all GPUs : 0.125180 kWh. Total GPU Power : 69.5920468755024 W\n[codecarbon INFO @ 17:40:41] Energy consumed for all CPUs : 0.083794 kWh. Total CPU Power : 42.5 W\n[codecarbon INFO @ 17:40:41] 0.229229 kWh of electricity used since the beginning.\n[codecarbon INFO @ 17:40:51] Energy consumed for RAM : 0.019991 kWh. RAM Power : 10.2771635055542 W\n[codecarbon INFO @ 17:40:51] Energy consumed for all GPUs : 0.124889 kWh. Total GPU Power : 69.57682124682722 W\n[codecarbon INFO @ 17:40:51] Energy consumed for all CPUs : 0.082707 kWh. Total CPU Power : 42.5 W\n[codecarbon INFO @ 17:40:51] 0.227587 kWh of electricity used since the beginning.\n[codecarbon INFO @ 17:40:56] Energy consumed for RAM : 0.020298 kWh. RAM Power : 10.2771635055542 W\n[codecarbon INFO @ 17:40:56] Energy consumed for all GPUs : 0.125469 kWh. Total GPU Power : 69.51533397220084 W\n[codecarbon INFO @ 17:40:56] Energy consumed for all CPUs : 0.083971 kWh. Total CPU Power : 42.5 W\n[codecarbon INFO @ 17:40:56] 0.229738 kWh of electricity used since the beginning.\n[codecarbon INFO @ 17:41:06] Energy consumed for RAM : 0.020034 kWh. RAM Power : 10.2771635055542 W\n[codecarbon INFO @ 17:41:06] Energy consumed for all GPUs : 0.125081 kWh. Total GPU Power : 46.0062974629659 W\n[codecarbon INFO @ 17:41:06] Energy consumed for all CPUs : 0.082884 kWh. Total CPU Power : 42.5 W\n[codecarbon INFO @ 17:41:06] 0.227999 kWh of electricity used since the beginning.\n[codecarbon INFO @ 17:41:11] Energy consumed for RAM : 0.020341 kWh. RAM Power : 10.2771635055542 W\n[codecarbon INFO @ 17:41:11] Energy consumed for all GPUs : 0.125602 kWh. Total GPU Power : 31.87375100587514 W\n[codecarbon INFO @ 17:41:11] Energy consumed for all CPUs : 0.084148 kWh. Total CPU Power : 42.5 W\n[codecarbon INFO @ 17:41:11] 0.230091 kWh of electricity used since the beginning.\n[codecarbon INFO @ 17:41:21] Energy consumed for RAM : 0.020077 kWh. RAM Power : 10.2771635055542 W\n[codecarbon INFO @ 17:41:21] Energy consumed for all GPUs : 0.125204 kWh. Total GPU Power : 29.584107205241022 W\n[codecarbon INFO @ 17:41:21] Energy consumed for all CPUs : 0.083061 kWh. Total CPU Power : 42.5 W\n[codecarbon INFO @ 17:41:21] 0.228342 kWh of electricity used since the beginning.\n[codecarbon INFO @ 17:41:26] Energy consumed for RAM : 0.020384 kWh. RAM Power : 10.2771635055542 W\n[codecarbon INFO @ 17:41:26] Energy consumed for all GPUs : 0.125724 kWh. Total GPU Power : 29.17070845175791 W\n[codecarbon INFO @ 17:41:26] Energy consumed for all CPUs : 0.084325 kWh. Total CPU Power : 42.5 W\n[codecarbon INFO @ 17:41:26] 0.230432 kWh of electricity used since the beginning.\n[codecarbon INFO @ 17:41:36] Energy consumed for RAM : 0.020120 kWh. RAM Power : 10.2771635055542 W\n[codecarbon INFO @ 17:41:36] Energy consumed for all GPUs : 0.125324 kWh. Total GPU Power : 28.80451291408961 W\n[codecarbon INFO @ 17:41:36] Energy consumed for all CPUs : 0.083238 kWh. Total CPU Power : 42.5 W\n[codecarbon INFO @ 17:41:36] 0.228682 kWh of electricity used since the beginning.\n[codecarbon INFO @ 17:41:41] Energy consumed for RAM : 0.020427 kWh. RAM Power : 10.2771635055542 W\n[codecarbon INFO @ 17:41:41] Energy consumed for all GPUs : 0.125844 kWh. Total GPU Power : 28.8220671078861 W\n[codecarbon INFO @ 17:41:41] Energy consumed for all CPUs : 0.084502 kWh. Total CPU Power : 42.5 W\n[codecarbon INFO @ 17:41:41] 0.230772 kWh of electricity used since the beginning.\n[codecarbon INFO @ 17:41:51] Energy consumed for RAM : 0.020162 kWh. RAM Power : 10.2771635055542 W\n[codecarbon INFO @ 17:41:51] Energy consumed for all GPUs : 0.125442 kWh. Total GPU Power : 28.367895689804175 W\n[codecarbon INFO @ 17:41:51] Energy consumed for all CPUs : 0.083415 kWh. Total CPU Power : 42.5 W\n[codecarbon INFO @ 17:41:51] 0.229020 kWh of electricity used since the beginning.\n[codecarbon INFO @ 17:41:56] Energy consumed for RAM : 0.020470 kWh. RAM Power : 10.2771635055542 W\n[codecarbon INFO @ 17:41:56] Energy consumed for all GPUs : 0.125962 kWh. Total GPU Power : 28.284800428815732 W\n[codecarbon INFO @ 17:41:56] Energy consumed for all CPUs : 0.084679 kWh. Total CPU Power : 42.5 W\n[codecarbon INFO @ 17:41:56] 0.231110 kWh of electricity used since the beginning.\n[codecarbon INFO @ 17:42:06] Energy consumed for RAM : 0.020205 kWh. RAM Power : 10.2771635055542 W\n[codecarbon INFO @ 17:42:06] Energy consumed for all GPUs : 0.125560 kWh. Total GPU Power : 28.345102045030302 W\n[codecarbon INFO @ 17:42:06] Energy consumed for all CPUs : 0.083592 kWh. Total CPU Power : 42.5 W\n[codecarbon INFO @ 17:42:06] 0.229358 kWh of electricity used since the beginning.\n[codecarbon INFO @ 17:42:11] Energy consumed for RAM : 0.020512 kWh. RAM Power : 10.2771635055542 W\n[codecarbon INFO @ 17:42:11] Energy consumed for all GPUs : 0.126079 kWh. Total GPU Power : 28.07552008812683 W\n[codecarbon INFO @ 17:42:11] Energy consumed for all CPUs : 0.084856 kWh. Total CPU Power : 42.5 W\n[codecarbon INFO @ 17:42:11] 0.231447 kWh of electricity used since the beginning.\n[codecarbon INFO @ 17:42:21] Energy consumed for RAM : 0.020248 kWh. RAM Power : 10.2771635055542 W\n[codecarbon INFO @ 17:42:21] Energy consumed for all GPUs : 0.125676 kWh. Total GPU Power : 27.910673319734528 W\n[codecarbon INFO @ 17:42:21] Energy consumed for all CPUs : 0.083769 kWh. Total CPU Power : 42.5 W\n[codecarbon INFO @ 17:42:21] 0.229694 kWh of electricity used since the beginning.\n[codecarbon INFO @ 17:42:26] Energy consumed for RAM : 0.020555 kWh. RAM Power : 10.2771635055542 W\n[codecarbon INFO @ 17:42:26] Energy consumed for all GPUs : 0.126195 kWh. Total GPU Power : 28.011063179103207 W\n[codecarbon INFO @ 17:42:26] Energy consumed for all CPUs : 0.085033 kWh. Total CPU Power : 42.5 W\n[codecarbon INFO @ 17:42:26] 0.231784 kWh of electricity used since the beginning.\n[codecarbon INFO @ 17:42:36] Energy consumed for RAM : 0.020291 kWh. RAM Power : 10.2771635055542 W\n[codecarbon INFO @ 17:42:36] Energy consumed for all GPUs : 0.125792 kWh. Total GPU Power : 27.67505826136018 W\n[codecarbon INFO @ 17:42:36] Energy consumed for all CPUs : 0.083946 kWh. Total CPU Power : 42.5 W\n[codecarbon INFO @ 17:42:36] 0.230029 kWh of electricity used since the beginning.\n[codecarbon INFO @ 17:42:41] Energy consumed for RAM : 0.020598 kWh. RAM Power : 10.2771635055542 W\n[codecarbon INFO @ 17:42:41] Energy consumed for all GPUs : 0.126310 kWh. Total GPU Power : 27.600829257224905 W\n[codecarbon INFO @ 17:42:41] Energy consumed for all CPUs : 0.085210 kWh. Total CPU Power : 42.5 W\n[codecarbon INFO @ 17:42:41] 0.232118 kWh of electricity used since the beginning.\n[codecarbon INFO @ 17:42:51] Energy consumed for RAM : 0.020334 kWh. RAM Power : 10.2771635055542 W\n[codecarbon INFO @ 17:42:51] Energy consumed for all GPUs : 0.125907 kWh. Total GPU Power : 27.644141124400722 W\n[codecarbon INFO @ 17:42:51] Energy consumed for all CPUs : 0.084123 kWh. Total CPU Power : 42.5 W\n[codecarbon INFO @ 17:42:51] 0.230364 kWh of electricity used since the beginning.\n[codecarbon INFO @ 17:42:56] Energy consumed for RAM : 0.020641 kWh. RAM Power : 10.2771635055542 W\n[codecarbon INFO @ 17:42:56] Energy consumed for all GPUs : 0.126425 kWh. Total GPU Power : 27.578337859410546 W\n[codecarbon INFO @ 17:42:56] Energy consumed for all CPUs : 0.085387 kWh. Total CPU Power : 42.5 W\n[codecarbon INFO @ 17:42:56] 0.232453 kWh of electricity used since the beginning.\n[codecarbon INFO @ 17:43:06] Energy consumed for RAM : 0.020377 kWh. RAM Power : 10.2771635055542 W\n[codecarbon INFO @ 17:43:06] Energy consumed for all GPUs : 0.126118 kWh. Total GPU Power : 50.80798901801076 W\n[codecarbon INFO @ 17:43:06] Energy consumed for all CPUs : 0.084301 kWh. Total CPU Power : 42.5 W\n[codecarbon INFO @ 17:43:06] 0.230796 kWh of electricity used since the beginning.\n[codecarbon INFO @ 17:43:11] Energy consumed for RAM : 0.020684 kWh. RAM Power : 10.2771635055542 W\n[codecarbon INFO @ 17:43:11] Energy consumed for all GPUs : 0.126698 kWh. Total GPU Power : 65.5740011179051 W\n[codecarbon INFO @ 17:43:11] Energy consumed for all CPUs : 0.085564 kWh. Total CPU Power : 42.5 W\n[codecarbon INFO @ 17:43:11] 0.232946 kWh of electricity used since the beginning.\n[codecarbon INFO @ 17:43:21] Energy consumed for RAM : 0.020419 kWh. RAM Power : 10.2771635055542 W\n[codecarbon INFO @ 17:43:21] Energy consumed for all GPUs : 0.126407 kWh. Total GPU Power : 69.30670309547152 W\n[codecarbon INFO @ 17:43:21] Energy consumed for all CPUs : 0.084478 kWh. Total CPU Power : 42.5 W\n[codecarbon INFO @ 17:43:21] 0.231304 kWh of electricity used since the beginning.\n/anaconda/envs/azureml_py38/lib/python3.8/site-packages/sklearn/metrics/_classification.py:1272: UndefinedMetricWarning: Precision is ill-defined and being set to 0.0 in samples with no predicted labels. Use `zero_division` parameter to control this behavior.\n  _warn_prf(average, modifier, msg_start, len(result))\n/anaconda/envs/azureml_py38/lib/python3.8/site-packages/sklearn/metrics/_classification.py:1272: UndefinedMetricWarning: Recall is ill-defined and being set to 0.0 in samples with no true labels. Use `zero_division` parameter to control this behavior.\n  _warn_prf(average, modifier, msg_start, len(result))\n/anaconda/envs/azureml_py38/lib/python3.8/site-packages/sklearn/metrics/_classification.py:1514: UndefinedMetricWarning: F-score is ill-defined and being set to 0.0 in samples with no true nor predicted labels. Use `zero_division` parameter to control this behavior.\n  _warn_prf(\n[codecarbon INFO @ 17:43:27] Energy consumed for RAM : 0.020728 kWh. RAM Power : 10.2771635055542 W\n[codecarbon INFO @ 17:43:27] Energy consumed for all GPUs : 0.126965 kWh. Total GPU Power : 61.93033276200746 W\n[codecarbon INFO @ 17:43:27] Energy consumed for all CPUs : 0.085748 kWh. Total CPU Power : 42.5 W\n[codecarbon INFO @ 17:43:27] 0.233441 kWh of electricity used since the beginning.\n[codecarbon INFO @ 17:43:36] Energy consumed for RAM : 0.020462 kWh. RAM Power : 10.2771635055542 W\n[codecarbon INFO @ 17:43:36] Energy consumed for all GPUs : 0.126603 kWh. Total GPU Power : 46.97646845480723 W\n[codecarbon INFO @ 17:43:36] Energy consumed for all CPUs : 0.084655 kWh. Total CPU Power : 42.5 W\n[codecarbon INFO @ 17:43:36] 0.231720 kWh of electricity used since the beginning.\n[codecarbon INFO @ 17:43:42] Energy consumed for RAM : 0.020771 kWh. RAM Power : 10.2771635055542 W\n[codecarbon INFO @ 17:43:42] Energy consumed for all GPUs : 0.127175 kWh. Total GPU Power : 50.32662373457342 W\n[codecarbon INFO @ 17:43:42] Energy consumed for all CPUs : 0.085925 kWh. Total CPU Power : 42.5 W\n[codecarbon INFO @ 17:43:42] 0.233870 kWh of electricity used since the beginning.\n[codecarbon INFO @ 17:43:51] Energy consumed for RAM : 0.020505 kWh. RAM Power : 10.2771635055542 W\n[codecarbon INFO @ 17:43:51] Energy consumed for all GPUs : 0.126872 kWh. Total GPU Power : 64.71972154586972 W\n[codecarbon INFO @ 17:43:51] Energy consumed for all CPUs : 0.084832 kWh. Total CPU Power : 42.5 W\n[codecarbon INFO @ 17:43:51] 0.232209 kWh of electricity used since the beginning.\n[codecarbon INFO @ 17:43:57] Energy consumed for RAM : 0.020814 kWh. RAM Power : 10.2771635055542 W\n[codecarbon INFO @ 17:43:57] Energy consumed for all GPUs : 0.127463 kWh. Total GPU Power : 69.04195890861152 W\n[codecarbon INFO @ 17:43:57] Energy consumed for all CPUs : 0.086102 kWh. Total CPU Power : 42.5 W\n[codecarbon INFO @ 17:43:57] 0.234378 kWh of electricity used since the beginning.\n[codecarbon INFO @ 17:44:06] Energy consumed for RAM : 0.020548 kWh. RAM Power : 10.2771635055542 W\n[codecarbon INFO @ 17:44:06] Energy consumed for all GPUs : 0.127162 kWh. Total GPU Power : 69.51669570578458 W\n[codecarbon INFO @ 17:44:06] Energy consumed for all CPUs : 0.085009 kWh. Total CPU Power : 42.5 W\n[codecarbon INFO @ 17:44:06] 0.232719 kWh of electricity used since the beginning.\n[codecarbon INFO @ 17:44:12] Energy consumed for RAM : 0.020856 kWh. RAM Power : 10.2771635055542 W\n[codecarbon INFO @ 17:44:12] Energy consumed for all GPUs : 0.127752 kWh. Total GPU Power : 69.54979656421881 W\n[codecarbon INFO @ 17:44:12] Energy consumed for all CPUs : 0.086279 kWh. Total CPU Power : 42.5 W\n[codecarbon INFO @ 17:44:12] 0.234887 kWh of electricity used since the beginning.\n[codecarbon INFO @ 17:44:21] Energy consumed for RAM : 0.020591 kWh. RAM Power : 10.2771635055542 W\n[codecarbon INFO @ 17:44:21] Energy consumed for all GPUs : 0.127451 kWh. Total GPU Power : 69.48801220548894 W\n[codecarbon INFO @ 17:44:21] Energy consumed for all CPUs : 0.085186 kWh. Total CPU Power : 42.5 W\n[codecarbon INFO @ 17:44:21] 0.233228 kWh of electricity used since the beginning.\n[codecarbon INFO @ 17:44:27] Energy consumed for RAM : 0.020899 kWh. RAM Power : 10.2771635055542 W\n[codecarbon INFO @ 17:44:27] Energy consumed for all GPUs : 0.128042 kWh. Total GPU Power : 69.5386862468999 W\n[codecarbon INFO @ 17:44:27] Energy consumed for all CPUs : 0.086456 kWh. Total CPU Power : 42.5 W\n[codecarbon INFO @ 17:44:27] 0.235397 kWh of electricity used since the beginning.\n[codecarbon INFO @ 17:44:36] Energy consumed for RAM : 0.020633 kWh. RAM Power : 10.2771635055542 W\n[codecarbon INFO @ 17:44:36] Energy consumed for all GPUs : 0.127741 kWh. Total GPU Power : 69.60870109356011 W\n[codecarbon INFO @ 17:44:36] Energy consumed for all CPUs : 0.085363 kWh. Total CPU Power : 42.5 W\n[codecarbon INFO @ 17:44:36] 0.233738 kWh of electricity used since the beginning.\n[codecarbon INFO @ 17:44:42] Energy consumed for RAM : 0.020942 kWh. RAM Power : 10.2771635055542 W\n[codecarbon INFO @ 17:44:42] Energy consumed for all GPUs : 0.128332 kWh. Total GPU Power : 69.66200919029535 W\n[codecarbon INFO @ 17:44:42] Energy consumed for all CPUs : 0.086633 kWh. Total CPU Power : 42.5 W\n[codecarbon INFO @ 17:44:42] 0.235907 kWh of electricity used since the beginning.\n[codecarbon INFO @ 17:44:51] Energy consumed for RAM : 0.020676 kWh. RAM Power : 10.2771635055542 W\n[codecarbon INFO @ 17:44:51] Energy consumed for all GPUs : 0.128032 kWh. Total GPU Power : 69.68319393889237 W\n[codecarbon INFO @ 17:44:51] Energy consumed for all CPUs : 0.085540 kWh. Total CPU Power : 42.5 W\n[codecarbon INFO @ 17:44:51] 0.234248 kWh of electricity used since the beginning.\n[codecarbon INFO @ 17:44:57] Energy consumed for RAM : 0.020985 kWh. RAM Power : 10.2771635055542 W\n[codecarbon INFO @ 17:44:57] Energy consumed for all GPUs : 0.128620 kWh. Total GPU Power : 69.16352437864724 W\n[codecarbon INFO @ 17:44:57] Energy consumed for all CPUs : 0.086810 kWh. Total CPU Power : 42.5 W\n[codecarbon INFO @ 17:44:57] 0.236415 kWh of electricity used since the beginning.\n[codecarbon INFO @ 17:45:06] Energy consumed for RAM : 0.020719 kWh. RAM Power : 10.2771635055542 W\n[codecarbon INFO @ 17:45:06] Energy consumed for all GPUs : 0.128321 kWh. Total GPU Power : 69.54013991807152 W\n[codecarbon INFO @ 17:45:06] Energy consumed for all CPUs : 0.085717 kWh. Total CPU Power : 42.5 W\n[codecarbon INFO @ 17:45:06] 0.234758 kWh of electricity used since the beginning.\n[codecarbon INFO @ 17:45:12] Energy consumed for RAM : 0.021028 kWh. RAM Power : 10.2771635055542 W\n[codecarbon INFO @ 17:45:12] Energy consumed for all GPUs : 0.128910 kWh. Total GPU Power : 69.4684760963983 W\n[codecarbon INFO @ 17:45:12] Energy consumed for all CPUs : 0.086987 kWh. Total CPU Power : 42.5 W\n[codecarbon INFO @ 17:45:12] 0.236924 kWh of electricity used since the beginning.\n[codecarbon INFO @ 17:45:21] Energy consumed for RAM : 0.020762 kWh. RAM Power : 10.2771635055542 W\n[codecarbon INFO @ 17:45:21] Energy consumed for all GPUs : 0.128611 kWh. Total GPU Power : 69.5504392045201 W\n[codecarbon INFO @ 17:45:21] Energy consumed for all CPUs : 0.085894 kWh. Total CPU Power : 42.5 W\n[codecarbon INFO @ 17:45:21] 0.235267 kWh of electricity used since the beginning.\n[codecarbon INFO @ 17:45:27] Energy consumed for RAM : 0.021070 kWh. RAM Power : 10.2771635055542 W\n[codecarbon INFO @ 17:45:27] Energy consumed for all GPUs : 0.129200 kWh. Total GPU Power : 69.62502353146203 W\n[codecarbon INFO @ 17:45:27] Energy consumed for all CPUs : 0.087164 kWh. Total CPU Power : 42.5 W\n[codecarbon INFO @ 17:45:27] 0.237434 kWh of electricity used since the beginning.\n[codecarbon INFO @ 17:45:36] Energy consumed for RAM : 0.020805 kWh. RAM Power : 10.2771635055542 W\n[codecarbon INFO @ 17:45:36] Energy consumed for all GPUs : 0.128901 kWh. Total GPU Power : 69.60349406422485 W\n[codecarbon INFO @ 17:45:36] Energy consumed for all CPUs : 0.086071 kWh. Total CPU Power : 42.5 W\n[codecarbon INFO @ 17:45:36] 0.235777 kWh of electricity used since the beginning.\n[codecarbon INFO @ 17:45:42] Energy consumed for RAM : 0.021113 kWh. RAM Power : 10.2771635055542 W\n[codecarbon INFO @ 17:45:42] Energy consumed for all GPUs : 0.129489 kWh. Total GPU Power : 69.59355659737538 W\n[codecarbon INFO @ 17:45:42] Energy consumed for all CPUs : 0.087341 kWh. Total CPU Power : 42.5 W\n[codecarbon INFO @ 17:45:42] 0.237944 kWh of electricity used since the beginning.\n[codecarbon INFO @ 17:45:51] Energy consumed for RAM : 0.020847 kWh. RAM Power : 10.2771635055542 W\n[codecarbon INFO @ 17:45:51] Energy consumed for all GPUs : 0.129191 kWh. Total GPU Power : 69.64066053150626 W\n[codecarbon INFO @ 17:45:51] Energy consumed for all CPUs : 0.086248 kWh. Total CPU Power : 42.5 W\n[codecarbon INFO @ 17:45:51] 0.236287 kWh of electricity used since the beginning.\n[codecarbon INFO @ 17:45:57] Energy consumed for RAM : 0.021156 kWh. RAM Power : 10.2771635055542 W\n[codecarbon INFO @ 17:45:57] Energy consumed for all GPUs : 0.129780 kWh. Total GPU Power : 69.68082919259291 W\n[codecarbon INFO @ 17:45:57] Energy consumed for all CPUs : 0.087518 kWh. Total CPU Power : 42.5 W\n[codecarbon INFO @ 17:45:57] 0.238454 kWh of electricity used since the beginning.\n[codecarbon INFO @ 17:46:06] Energy consumed for RAM : 0.020890 kWh. RAM Power : 10.2771635055542 W\n[codecarbon INFO @ 17:46:06] Energy consumed for all GPUs : 0.129481 kWh. Total GPU Power : 69.66308650721675 W\n[codecarbon INFO @ 17:46:06] Energy consumed for all CPUs : 0.086426 kWh. Total CPU Power : 42.5 W\n[codecarbon INFO @ 17:46:06] 0.236797 kWh of electricity used since the beginning.\n[codecarbon INFO @ 17:46:12] Energy consumed for RAM : 0.021199 kWh. RAM Power : 10.2771635055542 W\n[codecarbon INFO @ 17:46:12] Energy consumed for all GPUs : 0.130069 kWh. Total GPU Power : 69.56189650958936 W\n[codecarbon INFO @ 17:46:12] Energy consumed for all CPUs : 0.087695 kWh. Total CPU Power : 42.5 W\n[codecarbon INFO @ 17:46:12] 0.238963 kWh of electricity used since the beginning.\n[codecarbon INFO @ 17:46:21] Energy consumed for RAM : 0.020933 kWh. RAM Power : 10.2771635055542 W\n[codecarbon INFO @ 17:46:21] Energy consumed for all GPUs : 0.129769 kWh. Total GPU Power : 69.13419144498748 W\n[codecarbon INFO @ 17:46:21] Energy consumed for all CPUs : 0.086602 kWh. Total CPU Power : 42.5 W\n[codecarbon INFO @ 17:46:21] 0.237305 kWh of electricity used since the beginning.\n[codecarbon INFO @ 17:46:27] Energy consumed for RAM : 0.021242 kWh. RAM Power : 10.2771635055542 W\n[codecarbon INFO @ 17:46:27] Energy consumed for all GPUs : 0.130359 kWh. Total GPU Power : 69.65023728857796 W\n[codecarbon INFO @ 17:46:27] Energy consumed for all CPUs : 0.087873 kWh. Total CPU Power : 42.5 W\n[codecarbon INFO @ 17:46:27] 0.239474 kWh of electricity used since the beginning.\n[codecarbon INFO @ 17:46:36] Energy consumed for RAM : 0.020976 kWh. RAM Power : 10.2771635055542 W\n[codecarbon INFO @ 17:46:36] Energy consumed for all GPUs : 0.130059 kWh. Total GPU Power : 69.6675993053731 W\n[codecarbon INFO @ 17:46:36] Energy consumed for all CPUs : 0.086780 kWh. Total CPU Power : 42.5 W\n[codecarbon INFO @ 17:46:36] 0.237815 kWh of electricity used since the beginning.\n[codecarbon INFO @ 17:46:42] Energy consumed for RAM : 0.021284 kWh. RAM Power : 10.2771635055542 W\n[codecarbon INFO @ 17:46:42] Energy consumed for all GPUs : 0.130650 kWh. Total GPU Power : 69.6550968493603 W\n[codecarbon INFO @ 17:46:42] Energy consumed for all CPUs : 0.088050 kWh. Total CPU Power : 42.5 W\n[codecarbon INFO @ 17:46:42] 0.239984 kWh of electricity used since the beginning.\n[codecarbon INFO @ 17:46:51] Energy consumed for RAM : 0.021019 kWh. RAM Power : 10.2771635055542 W\n[codecarbon INFO @ 17:46:51] Energy consumed for all GPUs : 0.130349 kWh. Total GPU Power : 69.65277067453425 W\n[codecarbon INFO @ 17:46:51] Energy consumed for all CPUs : 0.086957 kWh. Total CPU Power : 42.5 W\n[codecarbon INFO @ 17:46:51] 0.238325 kWh of electricity used since the beginning.\n[codecarbon INFO @ 17:46:57] Energy consumed for RAM : 0.021327 kWh. RAM Power : 10.2771635055542 W\n[codecarbon INFO @ 17:46:57] Energy consumed for all GPUs : 0.130940 kWh. Total GPU Power : 69.63106406827252 W\n[codecarbon INFO @ 17:46:57] Energy consumed for all CPUs : 0.088227 kWh. Total CPU Power : 42.5 W\n[codecarbon INFO @ 17:46:57] 0.240493 kWh of electricity used since the beginning.\n[codecarbon INFO @ 17:47:06] Energy consumed for RAM : 0.021061 kWh. RAM Power : 10.2771635055542 W\n[codecarbon INFO @ 17:47:06] Energy consumed for all GPUs : 0.130639 kWh. Total GPU Power : 69.68111855074464 W\n[codecarbon INFO @ 17:47:06] Energy consumed for all CPUs : 0.087134 kWh. Total CPU Power : 42.5 W\n[codecarbon INFO @ 17:47:06] 0.238835 kWh of electricity used since the beginning.\n[codecarbon INFO @ 17:47:12] Energy consumed for RAM : 0.021370 kWh. RAM Power : 10.2771635055542 W\n[codecarbon INFO @ 17:47:12] Energy consumed for all GPUs : 0.131230 kWh. Total GPU Power : 69.63938686165879 W\n[codecarbon INFO @ 17:47:12] Energy consumed for all CPUs : 0.088404 kWh. Total CPU Power : 42.5 W\n[codecarbon INFO @ 17:47:12] 0.241003 kWh of electricity used since the beginning.\n[codecarbon INFO @ 17:47:21] Energy consumed for RAM : 0.021104 kWh. RAM Power : 10.2771635055542 W\n[codecarbon INFO @ 17:47:21] Energy consumed for all GPUs : 0.130929 kWh. Total GPU Power : 69.57134987500434 W\n[codecarbon INFO @ 17:47:21] Energy consumed for all CPUs : 0.087311 kWh. Total CPU Power : 42.5 W\n[codecarbon INFO @ 17:47:21] 0.239344 kWh of electricity used since the beginning.\n[codecarbon INFO @ 17:47:27] Energy consumed for RAM : 0.021413 kWh. RAM Power : 10.2771635055542 W\n[codecarbon INFO @ 17:47:27] Energy consumed for all GPUs : 0.131520 kWh. Total GPU Power : 69.57285970121184 W\n[codecarbon INFO @ 17:47:27] Energy consumed for all CPUs : 0.088581 kWh. Total CPU Power : 42.5 W\n[codecarbon INFO @ 17:47:27] 0.241513 kWh of electricity used since the beginning.\n[codecarbon INFO @ 17:47:36] Energy consumed for RAM : 0.021147 kWh. RAM Power : 10.2771635055542 W\n[codecarbon INFO @ 17:47:36] Energy consumed for all GPUs : 0.131219 kWh. Total GPU Power : 69.56007050555158 W\n[codecarbon INFO @ 17:47:36] Energy consumed for all CPUs : 0.087488 kWh. Total CPU Power : 42.5 W\n[codecarbon INFO @ 17:47:36] 0.239854 kWh of electricity used since the beginning.\n[codecarbon INFO @ 17:47:42] Energy consumed for RAM : 0.021456 kWh. RAM Power : 10.2771635055542 W\n[codecarbon INFO @ 17:47:42] Energy consumed for all GPUs : 0.131810 kWh. Total GPU Power : 69.66586030036801 W\n[codecarbon INFO @ 17:47:42] Energy consumed for all CPUs : 0.088758 kWh. Total CPU Power : 42.5 W\n[codecarbon INFO @ 17:47:42] 0.242023 kWh of electricity used since the beginning.\n[codecarbon INFO @ 17:47:51] Energy consumed for RAM : 0.021190 kWh. RAM Power : 10.2771635055542 W\n[codecarbon INFO @ 17:47:51] Energy consumed for all GPUs : 0.131509 kWh. Total GPU Power : 69.63710768481515 W\n[codecarbon INFO @ 17:47:51] Energy consumed for all CPUs : 0.087665 kWh. Total CPU Power : 42.5 W\n[codecarbon INFO @ 17:47:51] 0.240364 kWh of electricity used since the beginning.\n[codecarbon INFO @ 17:47:57] Energy consumed for RAM : 0.021498 kWh. RAM Power : 10.2771635055542 W\n[codecarbon INFO @ 17:47:57] Energy consumed for all GPUs : 0.132099 kWh. Total GPU Power : 69.55967406520656 W\n[codecarbon INFO @ 17:47:57] Energy consumed for all CPUs : 0.088935 kWh. Total CPU Power : 42.5 W\n[codecarbon INFO @ 17:47:57] 0.242533 kWh of electricity used since the beginning.\n[codecarbon INFO @ 17:48:06] Energy consumed for RAM : 0.021233 kWh. RAM Power : 10.2771635055542 W\n[codecarbon INFO @ 17:48:06] Energy consumed for all GPUs : 0.131799 kWh. Total GPU Power : 69.6416192111105 W\n[codecarbon INFO @ 17:48:06] Energy consumed for all CPUs : 0.087842 kWh. Total CPU Power : 42.5 W\n[codecarbon INFO @ 17:48:06] 0.240874 kWh of electricity used since the beginning.\n[codecarbon INFO @ 17:48:12] Energy consumed for RAM : 0.021541 kWh. RAM Power : 10.2771635055542 W\n[codecarbon INFO @ 17:48:12] Energy consumed for all GPUs : 0.132390 kWh. Total GPU Power : 69.6347084076559 W\n[codecarbon INFO @ 17:48:12] Energy consumed for all CPUs : 0.089112 kWh. Total CPU Power : 42.5 W\n[codecarbon INFO @ 17:48:12] 0.243043 kWh of electricity used since the beginning.\n[codecarbon INFO @ 17:48:21] Energy consumed for RAM : 0.021275 kWh. RAM Power : 10.2771635055542 W\n[codecarbon INFO @ 17:48:21] Energy consumed for all GPUs : 0.132089 kWh. Total GPU Power : 69.67446402997452 W\n[codecarbon INFO @ 17:48:21] Energy consumed for all CPUs : 0.088019 kWh. Total CPU Power : 42.5 W\n[codecarbon INFO @ 17:48:21] 0.241384 kWh of electricity used since the beginning.\n[codecarbon INFO @ 17:48:27] Energy consumed for RAM : 0.021584 kWh. RAM Power : 10.2771635055542 W\n[codecarbon INFO @ 17:48:27] Energy consumed for all GPUs : 0.132680 kWh. Total GPU Power : 69.64541532295074 W\n[codecarbon INFO @ 17:48:27] Energy consumed for all CPUs : 0.089289 kWh. Total CPU Power : 42.5 W\n[codecarbon INFO @ 17:48:27] 0.243553 kWh of electricity used since the beginning.\n[codecarbon INFO @ 17:48:36] Energy consumed for RAM : 0.021318 kWh. RAM Power : 10.2771635055542 W\n[codecarbon INFO @ 17:48:36] Energy consumed for all GPUs : 0.132379 kWh. Total GPU Power : 69.58466947947164 W\n[codecarbon INFO @ 17:48:36] Energy consumed for all CPUs : 0.088196 kWh. Total CPU Power : 42.5 W\n[codecarbon INFO @ 17:48:36] 0.241894 kWh of electricity used since the beginning.\n[codecarbon INFO @ 17:48:42] Energy consumed for RAM : 0.021627 kWh. RAM Power : 10.2771635055542 W\n[codecarbon INFO @ 17:48:42] Energy consumed for all GPUs : 0.132969 kWh. Total GPU Power : 69.60436775223907 W\n[codecarbon INFO @ 17:48:42] Energy consumed for all CPUs : 0.089466 kWh. Total CPU Power : 42.5 W\n[codecarbon INFO @ 17:48:42] 0.244062 kWh of electricity used since the beginning.\n[codecarbon INFO @ 17:48:51] Energy consumed for RAM : 0.021361 kWh. RAM Power : 10.2771635055542 W\n[codecarbon INFO @ 17:48:51] Energy consumed for all GPUs : 0.132669 kWh. Total GPU Power : 69.53604556403297 W\n[codecarbon INFO @ 17:48:51] Energy consumed for all CPUs : 0.088373 kWh. Total CPU Power : 42.5 W\n[codecarbon INFO @ 17:48:51] 0.242403 kWh of electricity used since the beginning.\n[codecarbon INFO @ 17:48:57] Energy consumed for RAM : 0.021670 kWh. RAM Power : 10.2771635055542 W\n[codecarbon INFO @ 17:48:57] Energy consumed for all GPUs : 0.133259 kWh. Total GPU Power : 69.65073104316218 W\n[codecarbon INFO @ 17:48:57] Energy consumed for all CPUs : 0.089643 kWh. Total CPU Power : 42.5 W\n[codecarbon INFO @ 17:48:57] 0.244572 kWh of electricity used since the beginning.\n[codecarbon INFO @ 17:49:06] Energy consumed for RAM : 0.021404 kWh. RAM Power : 10.2771635055542 W\n[codecarbon INFO @ 17:49:06] Energy consumed for all GPUs : 0.132959 kWh. Total GPU Power : 69.65862877694286 W\n[codecarbon INFO @ 17:49:06] Energy consumed for all CPUs : 0.088550 kWh. Total CPU Power : 42.5 W\n[codecarbon INFO @ 17:49:06] 0.242913 kWh of electricity used since the beginning.\n[codecarbon INFO @ 17:49:12] Energy consumed for RAM : 0.021712 kWh. RAM Power : 10.2771635055542 W\n[codecarbon INFO @ 17:49:12] Energy consumed for all GPUs : 0.133549 kWh. Total GPU Power : 69.60226020054887 W\n[codecarbon INFO @ 17:49:12] Energy consumed for all CPUs : 0.089820 kWh. Total CPU Power : 42.5 W\n[codecarbon INFO @ 17:49:12] 0.245082 kWh of electricity used since the beginning.\n[codecarbon INFO @ 17:49:21] Energy consumed for RAM : 0.021447 kWh. RAM Power : 10.2771635055542 W\n[codecarbon INFO @ 17:49:21] Energy consumed for all GPUs : 0.133249 kWh. Total GPU Power : 69.68565948047895 W\n[codecarbon INFO @ 17:49:21] Energy consumed for all CPUs : 0.088727 kWh. Total CPU Power : 42.5 W\n[codecarbon INFO @ 17:49:21] 0.243423 kWh of electricity used since the beginning.\n[codecarbon INFO @ 17:49:27] Energy consumed for RAM : 0.021755 kWh. RAM Power : 10.2771635055542 W\n[codecarbon INFO @ 17:49:27] Energy consumed for all GPUs : 0.133838 kWh. Total GPU Power : 69.21113480710628 W\n[codecarbon INFO @ 17:49:27] Energy consumed for all CPUs : 0.089997 kWh. Total CPU Power : 42.5 W\n[codecarbon INFO @ 17:49:27] 0.245590 kWh of electricity used since the beginning.\n[codecarbon INFO @ 17:49:36] Energy consumed for RAM : 0.021489 kWh. RAM Power : 10.2771635055542 W\n[codecarbon INFO @ 17:49:36] Energy consumed for all GPUs : 0.133539 kWh. Total GPU Power : 69.61870034371199 W\n[codecarbon INFO @ 17:49:36] Energy consumed for all CPUs : 0.088904 kWh. Total CPU Power : 42.5 W\n[codecarbon INFO @ 17:49:36] 0.243933 kWh of electricity used since the beginning.\n[codecarbon INFO @ 17:49:42] Energy consumed for RAM : 0.021798 kWh. RAM Power : 10.2771635055542 W\n[codecarbon INFO @ 17:49:42] Energy consumed for all GPUs : 0.134127 kWh. Total GPU Power : 69.54229779306536 W\n[codecarbon INFO @ 17:49:42] Energy consumed for all CPUs : 0.090174 kWh. Total CPU Power : 42.5 W\n[codecarbon INFO @ 17:49:42] 0.246100 kWh of electricity used since the beginning.\n[codecarbon INFO @ 17:49:51] Energy consumed for RAM : 0.021532 kWh. RAM Power : 10.2771635055542 W\n[codecarbon INFO @ 17:49:51] Energy consumed for all GPUs : 0.133829 kWh. Total GPU Power : 69.55569964331937 W\n[codecarbon INFO @ 17:49:51] Energy consumed for all CPUs : 0.089082 kWh. Total CPU Power : 42.5 W\n[codecarbon INFO @ 17:49:51] 0.244443 kWh of electricity used since the beginning.\n[codecarbon INFO @ 17:49:57] Energy consumed for RAM : 0.021841 kWh. RAM Power : 10.2771635055542 W\n[codecarbon INFO @ 17:49:57] Energy consumed for all GPUs : 0.134417 kWh. Total GPU Power : 69.58315512009555 W\n[codecarbon INFO @ 17:49:57] Energy consumed for all CPUs : 0.090352 kWh. Total CPU Power : 42.5 W\n[codecarbon INFO @ 17:49:57] 0.246610 kWh of electricity used since the beginning.\n[codecarbon INFO @ 17:50:06] Energy consumed for RAM : 0.021575 kWh. RAM Power : 10.2771635055542 W\n[codecarbon INFO @ 17:50:06] Energy consumed for all GPUs : 0.134119 kWh. Total GPU Power : 69.59890534698434 W\n[codecarbon INFO @ 17:50:06] Energy consumed for all CPUs : 0.089259 kWh. Total CPU Power : 42.5 W\n[codecarbon INFO @ 17:50:06] 0.244952 kWh of electricity used since the beginning.\n[codecarbon INFO @ 17:50:12] Energy consumed for RAM : 0.021884 kWh. RAM Power : 10.2771635055542 W\n[codecarbon INFO @ 17:50:12] Energy consumed for all GPUs : 0.134707 kWh. Total GPU Power : 69.60910673922413 W\n[codecarbon INFO @ 17:50:12] Energy consumed for all CPUs : 0.090529 kWh. Total CPU Power : 42.5 W\n[codecarbon INFO @ 17:50:12] 0.247120 kWh of electricity used since the beginning.\n[codecarbon INFO @ 17:50:21] Energy consumed for RAM : 0.021618 kWh. RAM Power : 10.2771635055542 W\n[codecarbon INFO @ 17:50:21] Energy consumed for all GPUs : 0.134409 kWh. Total GPU Power : 69.70526492896582 W\n[codecarbon INFO @ 17:50:21] Energy consumed for all CPUs : 0.089436 kWh. Total CPU Power : 42.5 W\n[codecarbon INFO @ 17:50:21] 0.245463 kWh of electricity used since the beginning.\n[codecarbon INFO @ 17:50:27] Energy consumed for RAM : 0.021926 kWh. RAM Power : 10.2771635055542 W\n[codecarbon INFO @ 17:50:27] Energy consumed for all GPUs : 0.134997 kWh. Total GPU Power : 69.69989381742828 W\n[codecarbon INFO @ 17:50:27] Energy consumed for all CPUs : 0.090706 kWh. Total CPU Power : 42.5 W\n[codecarbon INFO @ 17:50:27] 0.247630 kWh of electricity used since the beginning.\n[codecarbon INFO @ 17:50:36] Energy consumed for RAM : 0.021661 kWh. RAM Power : 10.2771635055542 W\n[codecarbon INFO @ 17:50:36] Energy consumed for all GPUs : 0.134699 kWh. Total GPU Power : 69.69868379124433 W\n[codecarbon INFO @ 17:50:36] Energy consumed for all CPUs : 0.089613 kWh. Total CPU Power : 42.5 W\n[codecarbon INFO @ 17:50:36] 0.245973 kWh of electricity used since the beginning.\n[codecarbon INFO @ 17:50:42] Energy consumed for RAM : 0.021969 kWh. RAM Power : 10.2771635055542 W\n[codecarbon INFO @ 17:50:42] Energy consumed for all GPUs : 0.135288 kWh. Total GPU Power : 69.64499802941549 W\n[codecarbon INFO @ 17:50:42] Energy consumed for all CPUs : 0.090883 kWh. Total CPU Power : 42.5 W\n[codecarbon INFO @ 17:50:42] 0.248140 kWh of electricity used since the beginning.\n[codecarbon INFO @ 17:50:51] Energy consumed for RAM : 0.021703 kWh. RAM Power : 10.2771635055542 W\n[codecarbon INFO @ 17:50:51] Energy consumed for all GPUs : 0.134989 kWh. Total GPU Power : 69.57225359012563 W\n[codecarbon INFO @ 17:50:51] Energy consumed for all CPUs : 0.089790 kWh. Total CPU Power : 42.5 W\n[codecarbon INFO @ 17:50:51] 0.246482 kWh of electricity used since the beginning.\n[codecarbon INFO @ 17:50:57] Energy consumed for RAM : 0.022012 kWh. RAM Power : 10.2771635055542 W\n[codecarbon INFO @ 17:50:57] Energy consumed for all GPUs : 0.135577 kWh. Total GPU Power : 69.57799916441155 W\n[codecarbon INFO @ 17:50:57] Energy consumed for all CPUs : 0.091060 kWh. Total CPU Power : 42.5 W\n[codecarbon INFO @ 17:50:57] 0.248649 kWh of electricity used since the beginning.\n[codecarbon INFO @ 17:51:06] Energy consumed for RAM : 0.021746 kWh. RAM Power : 10.2771635055542 W\n[codecarbon INFO @ 17:51:06] Energy consumed for all GPUs : 0.135279 kWh. Total GPU Power : 69.55546524885777 W\n[codecarbon INFO @ 17:51:06] Energy consumed for all CPUs : 0.089967 kWh. Total CPU Power : 42.5 W\n[codecarbon INFO @ 17:51:06] 0.246992 kWh of electricity used since the beginning.\n[codecarbon INFO @ 17:51:12] Energy consumed for RAM : 0.022055 kWh. RAM Power : 10.2771635055542 W\n[codecarbon INFO @ 17:51:12] Energy consumed for all GPUs : 0.135867 kWh. Total GPU Power : 69.55095544740588 W\n[codecarbon INFO @ 17:51:12] Energy consumed for all CPUs : 0.091237 kWh. Total CPU Power : 42.5 W\n[codecarbon INFO @ 17:51:12] 0.249159 kWh of electricity used since the beginning.\n[codecarbon INFO @ 17:51:21] Energy consumed for RAM : 0.021789 kWh. RAM Power : 10.2771635055542 W\n[codecarbon INFO @ 17:51:21] Energy consumed for all GPUs : 0.135569 kWh. Total GPU Power : 69.53717778402537 W\n[codecarbon INFO @ 17:51:21] Energy consumed for all CPUs : 0.090144 kWh. Total CPU Power : 42.5 W\n[codecarbon INFO @ 17:51:21] 0.247502 kWh of electricity used since the beginning.\n[codecarbon INFO @ 17:51:27] Energy consumed for RAM : 0.022098 kWh. RAM Power : 10.2771635055542 W\n[codecarbon INFO @ 17:51:27] Energy consumed for all GPUs : 0.136157 kWh. Total GPU Power : 69.52617470094411 W\n[codecarbon INFO @ 17:51:27] Energy consumed for all CPUs : 0.091414 kWh. Total CPU Power : 42.5 W\n[codecarbon INFO @ 17:51:27] 0.249669 kWh of electricity used since the beginning.\n[codecarbon INFO @ 17:51:36] Energy consumed for RAM : 0.021832 kWh. RAM Power : 10.2771635055542 W\n[codecarbon INFO @ 17:51:36] Energy consumed for all GPUs : 0.135857 kWh. Total GPU Power : 69.32057444655862 W\n[codecarbon INFO @ 17:51:36] Energy consumed for all CPUs : 0.090321 kWh. Total CPU Power : 42.5 W\n[codecarbon INFO @ 17:51:36] 0.248010 kWh of electricity used since the beginning.\n[codecarbon INFO @ 17:51:42] Energy consumed for RAM : 0.022140 kWh. RAM Power : 10.2771635055542 W\n[codecarbon INFO @ 17:51:42] Energy consumed for all GPUs : 0.136448 kWh. Total GPU Power : 69.77584138744159 W\n[codecarbon INFO @ 17:51:42] Energy consumed for all CPUs : 0.091591 kWh. Total CPU Power : 42.5 W\n[codecarbon INFO @ 17:51:42] 0.250179 kWh of electricity used since the beginning.\n[codecarbon INFO @ 17:51:51] Energy consumed for RAM : 0.021875 kWh. RAM Power : 10.2771635055542 W\n[codecarbon INFO @ 17:51:51] Energy consumed for all GPUs : 0.136147 kWh. Total GPU Power : 69.63121411626923 W\n[codecarbon INFO @ 17:51:51] Energy consumed for all CPUs : 0.090498 kWh. Total CPU Power : 42.5 W\n[codecarbon INFO @ 17:51:51] 0.248520 kWh of electricity used since the beginning.\n[codecarbon INFO @ 17:51:57] Energy consumed for RAM : 0.022183 kWh. RAM Power : 10.2771635055542 W\n[codecarbon INFO @ 17:51:57] Energy consumed for all GPUs : 0.136738 kWh. Total GPU Power : 69.61705035895132 W\n[codecarbon INFO @ 17:51:57] Energy consumed for all CPUs : 0.091768 kWh. Total CPU Power : 42.5 W\n[codecarbon INFO @ 17:51:57] 0.250689 kWh of electricity used since the beginning.\n[codecarbon INFO @ 17:52:06] Energy consumed for RAM : 0.021917 kWh. RAM Power : 10.2771635055542 W\n[codecarbon INFO @ 17:52:06] Energy consumed for all GPUs : 0.136437 kWh. Total GPU Power : 69.62481497489644 W\n[codecarbon INFO @ 17:52:06] Energy consumed for all CPUs : 0.090675 kWh. Total CPU Power : 42.5 W\n[codecarbon INFO @ 17:52:06] 0.249030 kWh of electricity used since the beginning.\n[codecarbon INFO @ 17:52:12] Energy consumed for RAM : 0.022226 kWh. RAM Power : 10.2771635055542 W\n[codecarbon INFO @ 17:52:12] Energy consumed for all GPUs : 0.137028 kWh. Total GPU Power : 69.59402356340784 W\n[codecarbon INFO @ 17:52:12] Energy consumed for all CPUs : 0.091945 kWh. Total CPU Power : 42.5 W\n[codecarbon INFO @ 17:52:12] 0.251199 kWh of electricity used since the beginning.\n[codecarbon INFO @ 17:52:21] Energy consumed for RAM : 0.021960 kWh. RAM Power : 10.2771635055542 W\n[codecarbon INFO @ 17:52:21] Energy consumed for all GPUs : 0.136727 kWh. Total GPU Power : 69.61048958670922 W\n[codecarbon INFO @ 17:52:21] Energy consumed for all CPUs : 0.090852 kWh. Total CPU Power : 42.5 W\n[codecarbon INFO @ 17:52:21] 0.249540 kWh of electricity used since the beginning.\n[codecarbon INFO @ 17:52:27] Energy consumed for RAM : 0.022269 kWh. RAM Power : 10.2771635055542 W\n[codecarbon INFO @ 17:52:27] Energy consumed for all GPUs : 0.137318 kWh. Total GPU Power : 69.6063685052522 W\n[codecarbon INFO @ 17:52:27] Energy consumed for all CPUs : 0.092122 kWh. Total CPU Power : 42.5 W\n[codecarbon INFO @ 17:52:27] 0.251709 kWh of electricity used since the beginning.\n[codecarbon INFO @ 17:52:36] Energy consumed for RAM : 0.022003 kWh. RAM Power : 10.2771635055542 W\n[codecarbon INFO @ 17:52:36] Energy consumed for all GPUs : 0.137017 kWh. Total GPU Power : 69.58138568078657 W\n[codecarbon INFO @ 17:52:36] Energy consumed for all CPUs : 0.091029 kWh. Total CPU Power : 42.5 W\n[codecarbon INFO @ 17:52:36] 0.250050 kWh of electricity used since the beginning.\n[codecarbon INFO @ 17:52:42] Energy consumed for RAM : 0.022312 kWh. RAM Power : 10.2771635055542 W\n[codecarbon INFO @ 17:52:42] Energy consumed for all GPUs : 0.137607 kWh. Total GPU Power : 69.59030555661012 W\n[codecarbon INFO @ 17:52:42] Energy consumed for all CPUs : 0.092300 kWh. Total CPU Power : 42.5 W\n[codecarbon INFO @ 17:52:42] 0.252219 kWh of electricity used since the beginning.\n[codecarbon INFO @ 17:52:51] Energy consumed for RAM : 0.022046 kWh. RAM Power : 10.2771635055542 W\n[codecarbon INFO @ 17:52:51] Energy consumed for all GPUs : 0.137307 kWh. Total GPU Power : 69.69433380298145 W\n[codecarbon INFO @ 17:52:51] Energy consumed for all CPUs : 0.091206 kWh. Total CPU Power : 42.5 W\n[codecarbon INFO @ 17:52:51] 0.250560 kWh of electricity used since the beginning.\n[codecarbon INFO @ 17:52:57] Energy consumed for RAM : 0.022355 kWh. RAM Power : 10.2771635055542 W\n[codecarbon INFO @ 17:52:57] Energy consumed for all GPUs : 0.137898 kWh. Total GPU Power : 69.67765159723717 W\n[codecarbon INFO @ 17:52:57] Energy consumed for all CPUs : 0.092477 kWh. Total CPU Power : 42.5 W\n[codecarbon INFO @ 17:52:57] 0.252729 kWh of electricity used since the beginning.\n[codecarbon INFO @ 17:53:06] Energy consumed for RAM : 0.022089 kWh. RAM Power : 10.2771635055542 W\n[codecarbon INFO @ 17:53:06] Energy consumed for all GPUs : 0.137597 kWh. Total GPU Power : 69.61554009792299 W\n[codecarbon INFO @ 17:53:06] Energy consumed for all CPUs : 0.091383 kWh. Total CPU Power : 42.5 W\n[codecarbon INFO @ 17:53:06] 0.251069 kWh of electricity used since the beginning.\n[codecarbon INFO @ 17:53:12] Energy consumed for RAM : 0.022397 kWh. RAM Power : 10.2771635055542 W\n[codecarbon INFO @ 17:53:12] Energy consumed for all GPUs : 0.138188 kWh. Total GPU Power : 69.60394933717099 W\n[codecarbon INFO @ 17:53:12] Energy consumed for all CPUs : 0.092654 kWh. Total CPU Power : 42.5 W\n[codecarbon INFO @ 17:53:12] 0.253239 kWh of electricity used since the beginning.\n[codecarbon INFO @ 17:53:21] Energy consumed for RAM : 0.022131 kWh. RAM Power : 10.2771635055542 W\n[codecarbon INFO @ 17:53:21] Energy consumed for all GPUs : 0.137887 kWh. Total GPU Power : 69.602162670371 W\n[codecarbon INFO @ 17:53:21] Energy consumed for all CPUs : 0.091561 kWh. Total CPU Power : 42.5 W\n[codecarbon INFO @ 17:53:21] 0.251579 kWh of electricity used since the beginning.\n[codecarbon INFO @ 17:53:27] Energy consumed for RAM : 0.022440 kWh. RAM Power : 10.2771635055542 W\n[codecarbon INFO @ 17:53:27] Energy consumed for all GPUs : 0.138478 kWh. Total GPU Power : 69.59750221685142 W\n[codecarbon INFO @ 17:53:27] Energy consumed for all CPUs : 0.092831 kWh. Total CPU Power : 42.5 W\n[codecarbon INFO @ 17:53:27] 0.253748 kWh of electricity used since the beginning.\n[codecarbon INFO @ 17:53:36] Energy consumed for RAM : 0.022174 kWh. RAM Power : 10.2771635055542 W\n[codecarbon INFO @ 17:53:36] Energy consumed for all GPUs : 0.138177 kWh. Total GPU Power : 69.56049005034969 W\n[codecarbon INFO @ 17:53:36] Energy consumed for all CPUs : 0.091738 kWh. Total CPU Power : 42.5 W\n[codecarbon INFO @ 17:53:36] 0.252089 kWh of electricity used since the beginning.\n[codecarbon INFO @ 17:53:42] Energy consumed for RAM : 0.022483 kWh. RAM Power : 10.2771635055542 W\n[codecarbon INFO @ 17:53:42] Energy consumed for all GPUs : 0.138767 kWh. Total GPU Power : 69.55584680498822 W\n[codecarbon INFO @ 17:53:42] Energy consumed for all CPUs : 0.093008 kWh. Total CPU Power : 42.5 W\n[codecarbon INFO @ 17:53:42] 0.254258 kWh of electricity used since the beginning.\n[codecarbon INFO @ 17:53:51] Energy consumed for RAM : 0.022217 kWh. RAM Power : 10.2771635055542 W\n[codecarbon INFO @ 17:53:51] Energy consumed for all GPUs : 0.138467 kWh. Total GPU Power : 69.70642857222404 W\n[codecarbon INFO @ 17:53:51] Energy consumed for all CPUs : 0.091915 kWh. Total CPU Power : 42.5 W\n[codecarbon INFO @ 17:53:51] 0.252599 kWh of electricity used since the beginning.\n[codecarbon INFO @ 17:53:57] Energy consumed for RAM : 0.022526 kWh. RAM Power : 10.2771635055542 W\n[codecarbon INFO @ 17:53:57] Energy consumed for all GPUs : 0.139056 kWh. Total GPU Power : 69.2738052728072 W\n[codecarbon INFO @ 17:53:57] Energy consumed for all CPUs : 0.093185 kWh. Total CPU Power : 42.5 W\n[codecarbon INFO @ 17:53:57] 0.254767 kWh of electricity used since the beginning.\n[codecarbon INFO @ 17:54:06] Energy consumed for RAM : 0.022260 kWh. RAM Power : 10.2771635055542 W\n[codecarbon INFO @ 17:54:06] Energy consumed for all GPUs : 0.138757 kWh. Total GPU Power : 69.6650697359853 W\n[codecarbon INFO @ 17:54:06] Energy consumed for all CPUs : 0.092092 kWh. Total CPU Power : 42.5 W\n[codecarbon INFO @ 17:54:06] 0.253109 kWh of electricity used since the beginning.\n[codecarbon INFO @ 17:54:12] Energy consumed for RAM : 0.022569 kWh. RAM Power : 10.2771635055542 W\n[codecarbon INFO @ 17:54:12] Energy consumed for all GPUs : 0.139346 kWh. Total GPU Power : 69.63623320404163 W\n[codecarbon INFO @ 17:54:12] Energy consumed for all CPUs : 0.093362 kWh. Total CPU Power : 42.5 W\n[codecarbon INFO @ 17:54:12] 0.255276 kWh of electricity used since the beginning.\n[codecarbon INFO @ 17:54:21] Energy consumed for RAM : 0.022303 kWh. RAM Power : 10.2771635055542 W\n[codecarbon INFO @ 17:54:21] Energy consumed for all GPUs : 0.139047 kWh. Total GPU Power : 69.60139812390162 W\n[codecarbon INFO @ 17:54:21] Energy consumed for all CPUs : 0.092269 kWh. Total CPU Power : 42.5 W\n[codecarbon INFO @ 17:54:21] 0.253619 kWh of electricity used since the beginning.\n[codecarbon INFO @ 17:54:27] Energy consumed for RAM : 0.022611 kWh. RAM Power : 10.2771635055542 W\n[codecarbon INFO @ 17:54:27] Energy consumed for all GPUs : 0.139636 kWh. Total GPU Power : 69.64912982944243 W\n[codecarbon INFO @ 17:54:27] Energy consumed for all CPUs : 0.093539 kWh. Total CPU Power : 42.5 W\n[codecarbon INFO @ 17:54:27] 0.255786 kWh of electricity used since the beginning.\n[codecarbon INFO @ 17:54:36] Energy consumed for RAM : 0.022345 kWh. RAM Power : 10.2771635055542 W\n[codecarbon INFO @ 17:54:36] Energy consumed for all GPUs : 0.139337 kWh. Total GPU Power : 69.66247260915182 W\n[codecarbon INFO @ 17:54:36] Energy consumed for all CPUs : 0.092446 kWh. Total CPU Power : 42.5 W\n[codecarbon INFO @ 17:54:36] 0.254129 kWh of electricity used since the beginning.\n[codecarbon INFO @ 17:54:42] Energy consumed for RAM : 0.022654 kWh. RAM Power : 10.2771635055542 W\n[codecarbon INFO @ 17:54:42] Energy consumed for all GPUs : 0.139926 kWh. Total GPU Power : 69.59967418265448 W\n[codecarbon INFO @ 17:54:42] Energy consumed for all CPUs : 0.093716 kWh. Total CPU Power : 42.5 W\n[codecarbon INFO @ 17:54:42] 0.256296 kWh of electricity used since the beginning.\n[codecarbon INFO @ 17:54:51] Energy consumed for RAM : 0.022388 kWh. RAM Power : 10.2771635055542 W\n[codecarbon INFO @ 17:54:51] Energy consumed for all GPUs : 0.139627 kWh. Total GPU Power : 69.6175866013997 W\n[codecarbon INFO @ 17:54:51] Energy consumed for all CPUs : 0.092623 kWh. Total CPU Power : 42.5 W\n[codecarbon INFO @ 17:54:51] 0.254639 kWh of electricity used since the beginning.\n[codecarbon INFO @ 17:54:57] Energy consumed for RAM : 0.022697 kWh. RAM Power : 10.2771635055542 W\n[codecarbon INFO @ 17:54:57] Energy consumed for all GPUs : 0.140216 kWh. Total GPU Power : 69.68075909351562 W\n[codecarbon INFO @ 17:54:57] Energy consumed for all CPUs : 0.093893 kWh. Total CPU Power : 42.5 W\n[codecarbon INFO @ 17:54:57] 0.256806 kWh of electricity used since the beginning.\n[codecarbon INFO @ 17:55:06] Energy consumed for RAM : 0.022431 kWh. RAM Power : 10.2771635055542 W\n[codecarbon INFO @ 17:55:06] Energy consumed for all GPUs : 0.139918 kWh. Total GPU Power : 69.67875760437728 W\n[codecarbon INFO @ 17:55:06] Energy consumed for all CPUs : 0.092800 kWh. Total CPU Power : 42.5 W\n[codecarbon INFO @ 17:55:06] 0.255149 kWh of electricity used since the beginning.\n[codecarbon INFO @ 17:55:12] Energy consumed for RAM : 0.022740 kWh. RAM Power : 10.2771635055542 W\n[codecarbon INFO @ 17:55:12] Energy consumed for all GPUs : 0.140506 kWh. Total GPU Power : 69.6167641314808 W\n[codecarbon INFO @ 17:55:12] Energy consumed for all CPUs : 0.094070 kWh. Total CPU Power : 42.5 W\n[codecarbon INFO @ 17:55:12] 0.257316 kWh of electricity used since the beginning.\n[codecarbon INFO @ 17:55:21] Energy consumed for RAM : 0.022474 kWh. RAM Power : 10.2771635055542 W\n[codecarbon INFO @ 17:55:21] Energy consumed for all GPUs : 0.140208 kWh. Total GPU Power : 69.7589518880145 W\n[codecarbon INFO @ 17:55:21] Energy consumed for all CPUs : 0.092977 kWh. Total CPU Power : 42.5 W\n[codecarbon INFO @ 17:55:21] 0.255659 kWh of electricity used since the beginning.\n[codecarbon INFO @ 17:55:27] Energy consumed for RAM : 0.022783 kWh. RAM Power : 10.2771635055542 W\n[codecarbon INFO @ 17:55:27] Energy consumed for all GPUs : 0.140786 kWh. Total GPU Power : 67.21404021041344 W\n[codecarbon INFO @ 17:55:27] Energy consumed for all CPUs : 0.094247 kWh. Total CPU Power : 42.5 W\n[codecarbon INFO @ 17:55:27] 0.257816 kWh of electricity used since the beginning.\n[codecarbon INFO @ 17:55:36] Energy consumed for RAM : 0.022517 kWh. RAM Power : 10.2771635055542 W\n[codecarbon INFO @ 17:55:36] Energy consumed for all GPUs : 0.140488 kWh. Total GPU Power : 67.16204093922677 W\n[codecarbon INFO @ 17:55:36] Energy consumed for all CPUs : 0.093154 kWh. Total CPU Power : 42.5 W\n[codecarbon INFO @ 17:55:36] 0.256159 kWh of electricity used since the beginning.\n[codecarbon INFO @ 17:55:42] Energy consumed for RAM : 0.022825 kWh. RAM Power : 10.2771635055542 W\n[codecarbon INFO @ 17:55:42] Energy consumed for all GPUs : 0.141076 kWh. Total GPU Power : 69.64504953644598 W\n[codecarbon INFO @ 17:55:42] Energy consumed for all CPUs : 0.094424 kWh. Total CPU Power : 42.5 W\n[codecarbon INFO @ 17:55:42] 0.258326 kWh of electricity used since the beginning.\n[codecarbon INFO @ 17:55:51] Energy consumed for RAM : 0.022559 kWh. RAM Power : 10.2771635055542 W\n[codecarbon INFO @ 17:55:51] Energy consumed for all GPUs : 0.140778 kWh. Total GPU Power : 69.67713147527833 W\n[codecarbon INFO @ 17:55:51] Energy consumed for all CPUs : 0.093331 kWh. Total CPU Power : 42.5 W\n[codecarbon INFO @ 17:55:51] 0.256669 kWh of electricity used since the beginning.\n/anaconda/envs/azureml_py38/lib/python3.8/site-packages/sklearn/metrics/_classification.py:1272: UndefinedMetricWarning: Precision is ill-defined and being set to 0.0 in samples with no predicted labels. Use `zero_division` parameter to control this behavior.\n  _warn_prf(average, modifier, msg_start, len(result))\n/anaconda/envs/azureml_py38/lib/python3.8/site-packages/sklearn/metrics/_classification.py:1272: UndefinedMetricWarning: Recall is ill-defined and being set to 0.0 in samples with no true labels. Use `zero_division` parameter to control this behavior.\n  _warn_prf(average, modifier, msg_start, len(result))\n/anaconda/envs/azureml_py38/lib/python3.8/site-packages/sklearn/metrics/_classification.py:1514: UndefinedMetricWarning: F-score is ill-defined and being set to 0.0 in samples with no true nor predicted labels. Use `zero_division` parameter to control this behavior.\n  _warn_prf(\n[codecarbon INFO @ 17:55:57] Energy consumed for RAM : 0.022868 kWh. RAM Power : 10.2771635055542 W\n[codecarbon INFO @ 17:55:57] Energy consumed for all GPUs : 0.141321 kWh. Total GPU Power : 58.88861033432054 W\n[codecarbon INFO @ 17:55:57] Energy consumed for all CPUs : 0.094601 kWh. Total CPU Power : 42.5 W\n[codecarbon INFO @ 17:55:57] 0.258791 kWh of electricity used since the beginning.\n[codecarbon INFO @ 17:56:06] Energy consumed for RAM : 0.022602 kWh. RAM Power : 10.2771635055542 W\n[codecarbon INFO @ 17:56:06] Energy consumed for all GPUs : 0.140986 kWh. Total GPU Power : 49.95995278287311 W\n[codecarbon INFO @ 17:56:06] Energy consumed for all CPUs : 0.093508 kWh. Total CPU Power : 42.5 W\n[codecarbon INFO @ 17:56:06] 0.257097 kWh of electricity used since the beginning.\n[codecarbon INFO @ 17:56:12] Energy consumed for RAM : 0.022911 kWh. RAM Power : 10.2771635055542 W\n[codecarbon INFO @ 17:56:12] Energy consumed for all GPUs : 0.141574 kWh. Total GPU Power : 60.7607107039227 W\n[codecarbon INFO @ 17:56:12] Energy consumed for all CPUs : 0.094779 kWh. Total CPU Power : 42.5 W\n[codecarbon INFO @ 17:56:12] 0.259264 kWh of electricity used since the beginning.\n[codecarbon INFO @ 17:56:21] Energy consumed for RAM : 0.022645 kWh. RAM Power : 10.2771635055542 W\n[codecarbon INFO @ 17:56:21] Energy consumed for all GPUs : 0.141274 kWh. Total GPU Power : 69.17645322557479 W\n[codecarbon INFO @ 17:56:21] Energy consumed for all CPUs : 0.093685 kWh. Total CPU Power : 42.5 W\n[codecarbon INFO @ 17:56:21] 0.257605 kWh of electricity used since the beginning.\n[codecarbon INFO @ 17:56:27] Energy consumed for RAM : 0.022954 kWh. RAM Power : 10.2771635055542 W\n[codecarbon INFO @ 17:56:27] Energy consumed for all GPUs : 0.141864 kWh. Total GPU Power : 69.61246672666435 W\n[codecarbon INFO @ 17:56:27] Energy consumed for all CPUs : 0.094956 kWh. Total CPU Power : 42.5 W\n[codecarbon INFO @ 17:56:27] 0.259774 kWh of electricity used since the beginning.\n[codecarbon INFO @ 17:56:36] Energy consumed for RAM : 0.022688 kWh. RAM Power : 10.2771635055542 W\n[codecarbon INFO @ 17:56:36] Energy consumed for all GPUs : 0.141564 kWh. Total GPU Power : 69.55380736131781 W\n[codecarbon INFO @ 17:56:36] Energy consumed for all CPUs : 0.093863 kWh. Total CPU Power : 42.5 W\n[codecarbon INFO @ 17:56:36] 0.258114 kWh of electricity used since the beginning.\n[codecarbon INFO @ 17:56:42] Energy consumed for RAM : 0.022997 kWh. RAM Power : 10.2771635055542 W\n[codecarbon INFO @ 17:56:42] Energy consumed for all GPUs : 0.142154 kWh. Total GPU Power : 69.48212856805193 W\n[codecarbon INFO @ 17:56:42] Energy consumed for all CPUs : 0.095133 kWh. Total CPU Power : 42.5 W\n[codecarbon INFO @ 17:56:42] 0.260283 kWh of electricity used since the beginning.\n[codecarbon INFO @ 17:56:51] Energy consumed for RAM : 0.022731 kWh. RAM Power : 10.2771635055542 W\n[codecarbon INFO @ 17:56:51] Energy consumed for all GPUs : 0.141854 kWh. Total GPU Power : 69.55538983626717 W\n[codecarbon INFO @ 17:56:51] Energy consumed for all CPUs : 0.094040 kWh. Total CPU Power : 42.5 W\n[codecarbon INFO @ 17:56:51] 0.258624 kWh of electricity used since the beginning.\n[codecarbon INFO @ 17:56:57] Energy consumed for RAM : 0.023039 kWh. RAM Power : 10.2771635055542 W\n[codecarbon INFO @ 17:56:57] Energy consumed for all GPUs : 0.142443 kWh. Total GPU Power : 69.52208697073414 W\n[codecarbon INFO @ 17:56:57] Energy consumed for all CPUs : 0.095310 kWh. Total CPU Power : 42.5 W\n[codecarbon INFO @ 17:56:57] 0.260793 kWh of electricity used since the beginning.\n[codecarbon INFO @ 17:57:06] Energy consumed for RAM : 0.022773 kWh. RAM Power : 10.2771635055542 W\n[codecarbon INFO @ 17:57:06] Energy consumed for all GPUs : 0.142143 kWh. Total GPU Power : 69.52270888201701 W\n[codecarbon INFO @ 17:57:06] Energy consumed for all CPUs : 0.094217 kWh. Total CPU Power : 42.5 W\n[codecarbon INFO @ 17:57:06] 0.259133 kWh of electricity used since the beginning.\n[codecarbon INFO @ 17:57:12] Energy consumed for RAM : 0.023082 kWh. RAM Power : 10.2771635055542 W\n[codecarbon INFO @ 17:57:12] Energy consumed for all GPUs : 0.142734 kWh. Total GPU Power : 69.72139506117867 W\n[codecarbon INFO @ 17:57:12] Energy consumed for all CPUs : 0.095487 kWh. Total CPU Power : 42.5 W\n[codecarbon INFO @ 17:57:12] 0.261303 kWh of electricity used since the beginning.\n[codecarbon INFO @ 17:57:21] Energy consumed for RAM : 0.022816 kWh. RAM Power : 10.2771635055542 W\n[codecarbon INFO @ 17:57:21] Energy consumed for all GPUs : 0.142434 kWh. Total GPU Power : 69.81606237654502 W\n[codecarbon INFO @ 17:57:21] Energy consumed for all CPUs : 0.094394 kWh. Total CPU Power : 42.5 W\n[codecarbon INFO @ 17:57:21] 0.259644 kWh of electricity used since the beginning.\n[codecarbon INFO @ 17:57:27] Energy consumed for RAM : 0.023125 kWh. RAM Power : 10.2771635055542 W\n[codecarbon INFO @ 17:57:27] Energy consumed for all GPUs : 0.143024 kWh. Total GPU Power : 69.70265141824017 W\n[codecarbon INFO @ 17:57:27] Energy consumed for all CPUs : 0.095664 kWh. Total CPU Power : 42.5 W\n[codecarbon INFO @ 17:57:27] 0.261813 kWh of electricity used since the beginning.\n[codecarbon INFO @ 17:57:36] Energy consumed for RAM : 0.022859 kWh. RAM Power : 10.2771635055542 W\n[codecarbon INFO @ 17:57:36] Energy consumed for all GPUs : 0.142724 kWh. Total GPU Power : 69.6417170431347 W\n[codecarbon INFO @ 17:57:36] Energy consumed for all CPUs : 0.094571 kWh. Total CPU Power : 42.5 W\n[codecarbon INFO @ 17:57:36] 0.260154 kWh of electricity used since the beginning.\n[codecarbon INFO @ 17:57:42] Energy consumed for RAM : 0.023168 kWh. RAM Power : 10.2771635055542 W\n[codecarbon INFO @ 17:57:42] Energy consumed for all GPUs : 0.143314 kWh. Total GPU Power : 69.62828099919734 W\n[codecarbon INFO @ 17:57:42] Energy consumed for all CPUs : 0.095841 kWh. Total CPU Power : 42.5 W\n[codecarbon INFO @ 17:57:42] 0.262323 kWh of electricity used since the beginning.\n[codecarbon INFO @ 17:57:51] Energy consumed for RAM : 0.022902 kWh. RAM Power : 10.2771635055542 W\n[codecarbon INFO @ 17:57:51] Energy consumed for all GPUs : 0.143014 kWh. Total GPU Power : 69.5954794964258 W\n[codecarbon INFO @ 17:57:51] Energy consumed for all CPUs : 0.094748 kWh. Total CPU Power : 42.5 W\n[codecarbon INFO @ 17:57:51] 0.260664 kWh of electricity used since the beginning.\n[codecarbon INFO @ 17:57:57] Energy consumed for RAM : 0.023211 kWh. RAM Power : 10.2771635055542 W\n[codecarbon INFO @ 17:57:57] Energy consumed for all GPUs : 0.143604 kWh. Total GPU Power : 69.55733745935876 W\n[codecarbon INFO @ 17:57:57] Energy consumed for all CPUs : 0.096018 kWh. Total CPU Power : 42.5 W\n[codecarbon INFO @ 17:57:57] 0.262833 kWh of electricity used since the beginning.\n[codecarbon INFO @ 17:58:06] Energy consumed for RAM : 0.022945 kWh. RAM Power : 10.2771635055542 W\n[codecarbon INFO @ 17:58:06] Energy consumed for all GPUs : 0.143303 kWh. Total GPU Power : 69.52773524877563 W\n[codecarbon INFO @ 17:58:06] Energy consumed for all CPUs : 0.094925 kWh. Total CPU Power : 42.5 W\n[codecarbon INFO @ 17:58:06] 0.261173 kWh of electricity used since the beginning.\n[codecarbon INFO @ 17:58:12] Energy consumed for RAM : 0.023253 kWh. RAM Power : 10.2771635055542 W\n[codecarbon INFO @ 17:58:12] Energy consumed for all GPUs : 0.143894 kWh. Total GPU Power : 69.56127384172707 W\n[codecarbon INFO @ 17:58:12] Energy consumed for all CPUs : 0.096195 kWh. Total CPU Power : 42.5 W\n[codecarbon INFO @ 17:58:12] 0.263342 kWh of electricity used since the beginning.\n[codecarbon INFO @ 17:58:21] Energy consumed for RAM : 0.022987 kWh. RAM Power : 10.2771635055542 W\n[codecarbon INFO @ 17:58:21] Energy consumed for all GPUs : 0.143594 kWh. Total GPU Power : 69.7139715362175 W\n[codecarbon INFO @ 17:58:21] Energy consumed for all CPUs : 0.095102 kWh. Total CPU Power : 42.5 W\n[codecarbon INFO @ 17:58:21] 0.261683 kWh of electricity used since the beginning.\n[codecarbon INFO @ 17:58:27] Energy consumed for RAM : 0.023296 kWh. RAM Power : 10.2771635055542 W\n[codecarbon INFO @ 17:58:27] Energy consumed for all GPUs : 0.144184 kWh. Total GPU Power : 69.73724237941538 W\n[codecarbon INFO @ 17:58:27] Energy consumed for all CPUs : 0.096372 kWh. Total CPU Power : 42.5 W\n[codecarbon INFO @ 17:58:27] 0.263853 kWh of electricity used since the beginning.\n[codecarbon INFO @ 17:58:36] Energy consumed for RAM : 0.023030 kWh. RAM Power : 10.2771635055542 W\n[codecarbon INFO @ 17:58:36] Energy consumed for all GPUs : 0.143884 kWh. Total GPU Power : 69.63992009422127 W\n[codecarbon INFO @ 17:58:36] Energy consumed for all CPUs : 0.095279 kWh. Total CPU Power : 42.5 W\n[codecarbon INFO @ 17:58:36] 0.262193 kWh of electricity used since the beginning.\n[codecarbon INFO @ 17:58:42] Energy consumed for RAM : 0.023339 kWh. RAM Power : 10.2771635055542 W\n[codecarbon INFO @ 17:58:42] Energy consumed for all GPUs : 0.144472 kWh. Total GPU Power : 69.1236511185175 W\n[codecarbon INFO @ 17:58:42] Energy consumed for all CPUs : 0.096549 kWh. Total CPU Power : 42.5 W\n[codecarbon INFO @ 17:58:42] 0.264360 kWh of electricity used since the beginning.\n[codecarbon INFO @ 17:58:51] Energy consumed for RAM : 0.023073 kWh. RAM Power : 10.2771635055542 W\n[codecarbon INFO @ 17:58:51] Energy consumed for all GPUs : 0.144174 kWh. Total GPU Power : 69.56858365460191 W\n[codecarbon INFO @ 17:58:51] Energy consumed for all CPUs : 0.095456 kWh. Total CPU Power : 42.5 W\n[codecarbon INFO @ 17:58:51] 0.262703 kWh of electricity used since the beginning.\n[codecarbon INFO @ 17:58:57] Energy consumed for RAM : 0.023382 kWh. RAM Power : 10.2771635055542 W\n[codecarbon INFO @ 17:58:57] Energy consumed for all GPUs : 0.144764 kWh. Total GPU Power : 70.02510320366173 W\n[codecarbon INFO @ 17:58:57] Energy consumed for all CPUs : 0.096726 kWh. Total CPU Power : 42.5 W\n[codecarbon INFO @ 17:58:57] 0.264872 kWh of electricity used since the beginning.\n[codecarbon INFO @ 17:59:06] Energy consumed for RAM : 0.023116 kWh. RAM Power : 10.2771635055542 W\n[codecarbon INFO @ 17:59:06] Energy consumed for all GPUs : 0.144463 kWh. Total GPU Power : 69.59007652984981 W\n[codecarbon INFO @ 17:59:06] Energy consumed for all CPUs : 0.095633 kWh. Total CPU Power : 42.5 W\n[codecarbon INFO @ 17:59:06] 0.263213 kWh of electricity used since the beginning.\n[codecarbon INFO @ 17:59:12] Energy consumed for RAM : 0.023425 kWh. RAM Power : 10.2771635055542 W\n[codecarbon INFO @ 17:59:12] Energy consumed for all GPUs : 0.145054 kWh. Total GPU Power : 69.59143882834675 W\n[codecarbon INFO @ 17:59:12] Energy consumed for all CPUs : 0.096903 kWh. Total CPU Power : 42.5 W\n[codecarbon INFO @ 17:59:12] 0.265382 kWh of electricity used since the beginning.\n[codecarbon INFO @ 17:59:21] Energy consumed for RAM : 0.023159 kWh. RAM Power : 10.2771635055542 W\n[codecarbon INFO @ 17:59:21] Energy consumed for all GPUs : 0.144753 kWh. Total GPU Power : 69.59058015390906 W\n[codecarbon INFO @ 17:59:21] Energy consumed for all CPUs : 0.095810 kWh. Total CPU Power : 42.5 W\n[codecarbon INFO @ 17:59:21] 0.263722 kWh of electricity used since the beginning.\n[codecarbon INFO @ 17:59:27] Energy consumed for RAM : 0.023467 kWh. RAM Power : 10.2771635055542 W\n[codecarbon INFO @ 17:59:27] Energy consumed for all GPUs : 0.145342 kWh. Total GPU Power : 69.17141814388428 W\n[codecarbon INFO @ 17:59:27] Energy consumed for all CPUs : 0.097081 kWh. Total CPU Power : 42.5 W\n[codecarbon INFO @ 17:59:27] 0.265890 kWh of electricity used since the beginning.\n[codecarbon INFO @ 17:59:36] Energy consumed for RAM : 0.023202 kWh. RAM Power : 10.2771635055542 W\n[codecarbon INFO @ 17:59:36] Energy consumed for all GPUs : 0.145044 kWh. Total GPU Power : 69.73287504160265 W\n[codecarbon INFO @ 17:59:36] Energy consumed for all CPUs : 0.095987 kWh. Total CPU Power : 42.5 W\n[codecarbon INFO @ 17:59:36] 0.264233 kWh of electricity used since the beginning.\n[codecarbon INFO @ 17:59:42] Energy consumed for RAM : 0.023510 kWh. RAM Power : 10.2771635055542 W\n[codecarbon INFO @ 17:59:42] Energy consumed for all GPUs : 0.145632 kWh. Total GPU Power : 69.61159330549545 W\n[codecarbon INFO @ 17:59:42] Energy consumed for all CPUs : 0.097258 kWh. Total CPU Power : 42.5 W\n[codecarbon INFO @ 17:59:42] 0.266400 kWh of electricity used since the beginning.\n[codecarbon INFO @ 17:59:51] Energy consumed for RAM : 0.023244 kWh. RAM Power : 10.2771635055542 W\n[codecarbon INFO @ 17:59:51] Energy consumed for all GPUs : 0.145334 kWh. Total GPU Power : 69.59854360959474 W\n[codecarbon INFO @ 17:59:51] Energy consumed for all CPUs : 0.096164 kWh. Total CPU Power : 42.5 W\n[codecarbon INFO @ 17:59:51] 0.264742 kWh of electricity used since the beginning.\n[codecarbon INFO @ 17:59:57] Energy consumed for RAM : 0.023553 kWh. RAM Power : 10.2771635055542 W\n[codecarbon INFO @ 17:59:57] Energy consumed for all GPUs : 0.145922 kWh. Total GPU Power : 69.65804364636642 W\n[codecarbon INFO @ 17:59:57] Energy consumed for all CPUs : 0.097435 kWh. Total CPU Power : 42.5 W\n[codecarbon INFO @ 17:59:57] 0.266910 kWh of electricity used since the beginning.\n[codecarbon INFO @ 18:00:06] Energy consumed for RAM : 0.023287 kWh. RAM Power : 10.2771635055542 W\n[codecarbon INFO @ 18:00:06] Energy consumed for all GPUs : 0.145624 kWh. Total GPU Power : 69.60791270950754 W\n[codecarbon INFO @ 18:00:06] Energy consumed for all CPUs : 0.096342 kWh. Total CPU Power : 42.5 W\n[codecarbon INFO @ 18:00:06] 0.265252 kWh of electricity used since the beginning.\n[codecarbon INFO @ 18:00:12] Energy consumed for RAM : 0.023596 kWh. RAM Power : 10.2771635055542 W\n[codecarbon INFO @ 18:00:12] Energy consumed for all GPUs : 0.146212 kWh. Total GPU Power : 69.60377978583132 W\n[codecarbon INFO @ 18:00:12] Energy consumed for all CPUs : 0.097612 kWh. Total CPU Power : 42.5 W\n[codecarbon INFO @ 18:00:12] 0.267420 kWh of electricity used since the beginning.\n[codecarbon INFO @ 18:00:21] Energy consumed for RAM : 0.023330 kWh. RAM Power : 10.2771635055542 W\n[codecarbon INFO @ 18:00:21] Energy consumed for all GPUs : 0.145914 kWh. Total GPU Power : 69.61081854717226 W\n[codecarbon INFO @ 18:00:21] Energy consumed for all CPUs : 0.096519 kWh. Total CPU Power : 42.5 W\n[codecarbon INFO @ 18:00:21] 0.265762 kWh of electricity used since the beginning.\n[codecarbon INFO @ 18:00:27] Energy consumed for RAM : 0.023639 kWh. RAM Power : 10.2771635055542 W\n[codecarbon INFO @ 18:00:27] Energy consumed for all GPUs : 0.146502 kWh. Total GPU Power : 69.59773586366914 W\n[codecarbon INFO @ 18:00:27] Energy consumed for all CPUs : 0.097789 kWh. Total CPU Power : 42.5 W\n[codecarbon INFO @ 18:00:27] 0.267929 kWh of electricity used since the beginning.\n[codecarbon INFO @ 18:00:36] Energy consumed for RAM : 0.023373 kWh. RAM Power : 10.2771635055542 W\n[codecarbon INFO @ 18:00:36] Energy consumed for all GPUs : 0.146204 kWh. Total GPU Power : 69.666485170349 W\n[codecarbon INFO @ 18:00:36] Energy consumed for all CPUs : 0.096696 kWh. Total CPU Power : 42.5 W\n[codecarbon INFO @ 18:00:36] 0.266272 kWh of electricity used since the beginning.\n[codecarbon INFO @ 18:00:42] Energy consumed for RAM : 0.023681 kWh. RAM Power : 10.2771635055542 W\n[codecarbon INFO @ 18:00:42] Energy consumed for all GPUs : 0.146792 kWh. Total GPU Power : 69.68560690985747 W\n[codecarbon INFO @ 18:00:42] Energy consumed for all CPUs : 0.097966 kWh. Total CPU Power : 42.5 W\n[codecarbon INFO @ 18:00:42] 0.268440 kWh of electricity used since the beginning.\n[codecarbon INFO @ 18:00:51] Energy consumed for RAM : 0.023416 kWh. RAM Power : 10.2771635055542 W\n[codecarbon INFO @ 18:00:51] Energy consumed for all GPUs : 0.146492 kWh. Total GPU Power : 69.15624125140086 W\n[codecarbon INFO @ 18:00:51] Energy consumed for all CPUs : 0.096873 kWh. Total CPU Power : 42.5 W\n[codecarbon INFO @ 18:00:51] 0.266780 kWh of electricity used since the beginning.\n[codecarbon INFO @ 18:00:57] Energy consumed for RAM : 0.023724 kWh. RAM Power : 10.2771635055542 W\n[codecarbon INFO @ 18:00:57] Energy consumed for all GPUs : 0.147082 kWh. Total GPU Power : 69.6431094076162 W\n[codecarbon INFO @ 18:00:57] Energy consumed for all CPUs : 0.098143 kWh. Total CPU Power : 42.5 W\n[codecarbon INFO @ 18:00:57] 0.268949 kWh of electricity used since the beginning.\n[codecarbon INFO @ 18:01:06] Energy consumed for RAM : 0.023458 kWh. RAM Power : 10.2771635055542 W\n[codecarbon INFO @ 18:01:06] Energy consumed for all GPUs : 0.146782 kWh. Total GPU Power : 69.63886152662057 W\n[codecarbon INFO @ 18:01:06] Energy consumed for all CPUs : 0.097050 kWh. Total CPU Power : 42.5 W\n[codecarbon INFO @ 18:01:06] 0.267290 kWh of electricity used since the beginning.\n[codecarbon INFO @ 18:01:12] Energy consumed for RAM : 0.023767 kWh. RAM Power : 10.2771635055542 W\n[codecarbon INFO @ 18:01:12] Energy consumed for all GPUs : 0.147372 kWh. Total GPU Power : 69.56744622388392 W\n[codecarbon INFO @ 18:01:12] Energy consumed for all CPUs : 0.098320 kWh. Total CPU Power : 42.5 W\n[codecarbon INFO @ 18:01:12] 0.269459 kWh of electricity used since the beginning.\n[codecarbon INFO @ 18:01:21] Energy consumed for RAM : 0.023501 kWh. RAM Power : 10.2771635055542 W\n[codecarbon INFO @ 18:01:21] Energy consumed for all GPUs : 0.147072 kWh. Total GPU Power : 69.61504572878114 W\n[codecarbon INFO @ 18:01:21] Energy consumed for all CPUs : 0.097227 kWh. Total CPU Power : 42.5 W\n[codecarbon INFO @ 18:01:21] 0.267800 kWh of electricity used since the beginning.\n[codecarbon INFO @ 18:01:27] Energy consumed for RAM : 0.023810 kWh. RAM Power : 10.2771635055542 W\n[codecarbon INFO @ 18:01:27] Energy consumed for all GPUs : 0.147662 kWh. Total GPU Power : 69.6219568247781 W\n[codecarbon INFO @ 18:01:27] Energy consumed for all CPUs : 0.098497 kWh. Total CPU Power : 42.5 W\n[codecarbon INFO @ 18:01:27] 0.269969 kWh of electricity used since the beginning.\n[codecarbon INFO @ 18:01:36] Energy consumed for RAM : 0.023544 kWh. RAM Power : 10.2771635055542 W\n[codecarbon INFO @ 18:01:36] Energy consumed for all GPUs : 0.147362 kWh. Total GPU Power : 69.6295187699523 W\n[codecarbon INFO @ 18:01:36] Energy consumed for all CPUs : 0.097404 kWh. Total CPU Power : 42.5 W\n[codecarbon INFO @ 18:01:36] 0.268310 kWh of electricity used since the beginning.\n[codecarbon INFO @ 18:01:42] Energy consumed for RAM : 0.023853 kWh. RAM Power : 10.2771635055542 W\n[codecarbon INFO @ 18:01:42] Energy consumed for all GPUs : 0.147952 kWh. Total GPU Power : 69.64037446756382 W\n[codecarbon INFO @ 18:01:42] Energy consumed for all CPUs : 0.098674 kWh. Total CPU Power : 42.5 W\n[codecarbon INFO @ 18:01:42] 0.270479 kWh of electricity used since the beginning.\n[codecarbon INFO @ 18:01:51] Energy consumed for RAM : 0.023587 kWh. RAM Power : 10.2771635055542 W\n[codecarbon INFO @ 18:01:51] Energy consumed for all GPUs : 0.147652 kWh. Total GPU Power : 69.66577509372942 W\n[codecarbon INFO @ 18:01:51] Energy consumed for all CPUs : 0.097581 kWh. Total CPU Power : 42.5 W\n[codecarbon INFO @ 18:01:51] 0.268820 kWh of electricity used since the beginning.\n[codecarbon INFO @ 18:01:57] Energy consumed for RAM : 0.023896 kWh. RAM Power : 10.2771635055542 W\n[codecarbon INFO @ 18:01:57] Energy consumed for all GPUs : 0.148242 kWh. Total GPU Power : 69.63349971883302 W\n[codecarbon INFO @ 18:01:57] Energy consumed for all CPUs : 0.098851 kWh. Total CPU Power : 42.5 W\n[codecarbon INFO @ 18:01:57] 0.270989 kWh of electricity used since the beginning.\n[codecarbon INFO @ 18:02:06] Energy consumed for RAM : 0.023630 kWh. RAM Power : 10.2771635055542 W\n[codecarbon INFO @ 18:02:06] Energy consumed for all GPUs : 0.147942 kWh. Total GPU Power : 69.58094702594632 W\n[codecarbon INFO @ 18:02:06] Energy consumed for all CPUs : 0.097758 kWh. Total CPU Power : 42.5 W\n[codecarbon INFO @ 18:02:06] 0.269329 kWh of electricity used since the beginning.\n[codecarbon INFO @ 18:02:12] Energy consumed for RAM : 0.023938 kWh. RAM Power : 10.2771635055542 W\n[codecarbon INFO @ 18:02:12] Energy consumed for all GPUs : 0.148532 kWh. Total GPU Power : 69.63515806198336 W\n[codecarbon INFO @ 18:02:12] Energy consumed for all CPUs : 0.099028 kWh. Total CPU Power : 42.5 W\n[codecarbon INFO @ 18:02:12] 0.271499 kWh of electricity used since the beginning.\n[codecarbon INFO @ 18:02:21] Energy consumed for RAM : 0.023672 kWh. RAM Power : 10.2771635055542 W\n[codecarbon INFO @ 18:02:21] Energy consumed for all GPUs : 0.148232 kWh. Total GPU Power : 69.66597538030067 W\n[codecarbon INFO @ 18:02:21] Energy consumed for all CPUs : 0.097935 kWh. Total CPU Power : 42.5 W\n[codecarbon INFO @ 18:02:21] 0.269839 kWh of electricity used since the beginning.\n[codecarbon INFO @ 18:02:27] Energy consumed for RAM : 0.023981 kWh. RAM Power : 10.2771635055542 W\n[codecarbon INFO @ 18:02:27] Energy consumed for all GPUs : 0.148822 kWh. Total GPU Power : 69.60874319921129 W\n[codecarbon INFO @ 18:02:27] Energy consumed for all CPUs : 0.099205 kWh. Total CPU Power : 42.5 W\n[codecarbon INFO @ 18:02:27] 0.272009 kWh of electricity used since the beginning.\n[codecarbon INFO @ 18:02:36] Energy consumed for RAM : 0.023715 kWh. RAM Power : 10.2771635055542 W\n[codecarbon INFO @ 18:02:36] Energy consumed for all GPUs : 0.148522 kWh. Total GPU Power : 69.62073979038442 W\n[codecarbon INFO @ 18:02:36] Energy consumed for all CPUs : 0.098112 kWh. Total CPU Power : 42.5 W\n[codecarbon INFO @ 18:02:36] 0.270349 kWh of electricity used since the beginning.\n[codecarbon INFO @ 18:02:42] Energy consumed for RAM : 0.024024 kWh. RAM Power : 10.2771635055542 W\n[codecarbon INFO @ 18:02:42] Energy consumed for all GPUs : 0.149112 kWh. Total GPU Power : 69.64116888446118 W\n[codecarbon INFO @ 18:02:42] Energy consumed for all CPUs : 0.099382 kWh. Total CPU Power : 42.5 W\n[codecarbon INFO @ 18:02:42] 0.272519 kWh of electricity used since the beginning.\n[codecarbon INFO @ 18:02:51] Energy consumed for RAM : 0.023758 kWh. RAM Power : 10.2771635055542 W\n[codecarbon INFO @ 18:02:51] Energy consumed for all GPUs : 0.148812 kWh. Total GPU Power : 69.66472326191467 W\n[codecarbon INFO @ 18:02:51] Energy consumed for all CPUs : 0.098289 kWh. Total CPU Power : 42.5 W\n[codecarbon INFO @ 18:02:51] 0.270859 kWh of electricity used since the beginning.\n[codecarbon INFO @ 18:02:57] Energy consumed for RAM : 0.024067 kWh. RAM Power : 10.2771635055542 W\n[codecarbon INFO @ 18:02:57] Energy consumed for all GPUs : 0.149403 kWh. Total GPU Power : 69.67953147533844 W\n[codecarbon INFO @ 18:02:57] Energy consumed for all CPUs : 0.099560 kWh. Total CPU Power : 42.5 W\n[codecarbon INFO @ 18:02:57] 0.273029 kWh of electricity used since the beginning.\n[codecarbon INFO @ 18:03:06] Energy consumed for RAM : 0.023801 kWh. RAM Power : 10.2771635055542 W\n[codecarbon INFO @ 18:03:06] Energy consumed for all GPUs : 0.149102 kWh. Total GPU Power : 69.59650930167352 W\n[codecarbon INFO @ 18:03:06] Energy consumed for all CPUs : 0.098466 kWh. Total CPU Power : 42.5 W\n[codecarbon INFO @ 18:03:06] 0.271369 kWh of electricity used since the beginning.\n[codecarbon INFO @ 18:03:12] Energy consumed for RAM : 0.024110 kWh. RAM Power : 10.2771635055542 W\n[codecarbon INFO @ 18:03:12] Energy consumed for all GPUs : 0.149692 kWh. Total GPU Power : 69.51527814179528 W\n[codecarbon INFO @ 18:03:12] Energy consumed for all CPUs : 0.099737 kWh. Total CPU Power : 42.5 W\n[codecarbon INFO @ 18:03:12] 0.273538 kWh of electricity used since the beginning.\n[codecarbon INFO @ 18:03:21] Energy consumed for RAM : 0.023844 kWh. RAM Power : 10.2771635055542 W\n[codecarbon INFO @ 18:03:21] Energy consumed for all GPUs : 0.149392 kWh. Total GPU Power : 69.5449897139104 W\n[codecarbon INFO @ 18:03:21] Energy consumed for all CPUs : 0.098644 kWh. Total CPU Power : 42.5 W\n[codecarbon INFO @ 18:03:21] 0.271879 kWh of electricity used since the beginning.\n[codecarbon INFO @ 18:03:27] Energy consumed for RAM : 0.024152 kWh. RAM Power : 10.2771635055542 W\n[codecarbon INFO @ 18:03:27] Energy consumed for all GPUs : 0.149982 kWh. Total GPU Power : 69.63206332497553 W\n[codecarbon INFO @ 18:03:27] Energy consumed for all CPUs : 0.099914 kWh. Total CPU Power : 42.5 W\n[codecarbon INFO @ 18:03:27] 0.274048 kWh of electricity used since the beginning.\n[codecarbon INFO @ 18:03:36] Energy consumed for RAM : 0.023886 kWh. RAM Power : 10.2771635055542 W\n[codecarbon INFO @ 18:03:36] Energy consumed for all GPUs : 0.149682 kWh. Total GPU Power : 69.64401859281705 W\n[codecarbon INFO @ 18:03:36] Energy consumed for all CPUs : 0.098821 kWh. Total CPU Power : 42.5 W\n[codecarbon INFO @ 18:03:36] 0.272389 kWh of electricity used since the beginning.\n[codecarbon INFO @ 18:03:42] Energy consumed for RAM : 0.024195 kWh. RAM Power : 10.2771635055542 W\n[codecarbon INFO @ 18:03:42] Energy consumed for all GPUs : 0.150272 kWh. Total GPU Power : 69.65258287956114 W\n[codecarbon INFO @ 18:03:42] Energy consumed for all CPUs : 0.100091 kWh. Total CPU Power : 42.5 W\n[codecarbon INFO @ 18:03:42] 0.274558 kWh of electricity used since the beginning.\n[codecarbon INFO @ 18:03:51] Energy consumed for RAM : 0.023929 kWh. RAM Power : 10.2771635055542 W\n[codecarbon INFO @ 18:03:51] Energy consumed for all GPUs : 0.149972 kWh. Total GPU Power : 69.67117417384026 W\n[codecarbon INFO @ 18:03:51] Energy consumed for all CPUs : 0.098998 kWh. Total CPU Power : 42.5 W\n[codecarbon INFO @ 18:03:51] 0.272899 kWh of electricity used since the beginning.\n[codecarbon INFO @ 18:03:57] Energy consumed for RAM : 0.024238 kWh. RAM Power : 10.2771635055542 W\n[codecarbon INFO @ 18:03:57] Energy consumed for all GPUs : 0.150562 kWh. Total GPU Power : 69.66257344722739 W\n[codecarbon INFO @ 18:03:57] Energy consumed for all CPUs : 0.100268 kWh. Total CPU Power : 42.5 W\n[codecarbon INFO @ 18:03:57] 0.275068 kWh of electricity used since the beginning.\n[codecarbon INFO @ 18:04:06] Energy consumed for RAM : 0.023972 kWh. RAM Power : 10.2771635055542 W\n[codecarbon INFO @ 18:04:06] Energy consumed for all GPUs : 0.150262 kWh. Total GPU Power : 69.71676708015045 W\n[codecarbon INFO @ 18:04:06] Energy consumed for all CPUs : 0.099175 kWh. Total CPU Power : 42.5 W\n[codecarbon INFO @ 18:04:06] 0.273409 kWh of electricity used since the beginning.\n[codecarbon INFO @ 18:04:12] Energy consumed for RAM : 0.024281 kWh. RAM Power : 10.2771635055542 W\n[codecarbon INFO @ 18:04:12] Energy consumed for all GPUs : 0.150850 kWh. Total GPU Power : 69.1773087906159 W\n[codecarbon INFO @ 18:04:12] Energy consumed for all CPUs : 0.100445 kWh. Total CPU Power : 42.5 W\n[codecarbon INFO @ 18:04:12] 0.275576 kWh of electricity used since the beginning.\n[codecarbon INFO @ 18:04:21] Energy consumed for RAM : 0.024015 kWh. RAM Power : 10.2771635055542 W\n[codecarbon INFO @ 18:04:21] Energy consumed for all GPUs : 0.150552 kWh. Total GPU Power : 69.5575003481922 W\n[codecarbon INFO @ 18:04:21] Energy consumed for all CPUs : 0.099352 kWh. Total CPU Power : 42.5 W\n[codecarbon INFO @ 18:04:21] 0.273919 kWh of electricity used since the beginning.\n[codecarbon INFO @ 18:04:27] Energy consumed for RAM : 0.024324 kWh. RAM Power : 10.2771635055542 W\n[codecarbon INFO @ 18:04:27] Energy consumed for all GPUs : 0.151141 kWh. Total GPU Power : 69.62359538086405 W\n[codecarbon INFO @ 18:04:27] Energy consumed for all CPUs : 0.100622 kWh. Total CPU Power : 42.5 W\n[codecarbon INFO @ 18:04:27] 0.276086 kWh of electricity used since the beginning.\n[codecarbon INFO @ 18:04:36] Energy consumed for RAM : 0.024058 kWh. RAM Power : 10.2771635055542 W\n[codecarbon INFO @ 18:04:36] Energy consumed for all GPUs : 0.150842 kWh. Total GPU Power : 69.67400462530466 W\n[codecarbon INFO @ 18:04:36] Energy consumed for all CPUs : 0.099529 kWh. Total CPU Power : 42.5 W\n[codecarbon INFO @ 18:04:36] 0.274429 kWh of electricity used since the beginning.\n[codecarbon INFO @ 18:04:42] Energy consumed for RAM : 0.024366 kWh. RAM Power : 10.2771635055542 W\n[codecarbon INFO @ 18:04:42] Energy consumed for all GPUs : 0.151430 kWh. Total GPU Power : 69.6103262730537 W\n[codecarbon INFO @ 18:04:42] Energy consumed for all CPUs : 0.100799 kWh. Total CPU Power : 42.5 W\n[codecarbon INFO @ 18:04:42] 0.276596 kWh of electricity used since the beginning.\n[codecarbon INFO @ 18:04:51] Energy consumed for RAM : 0.024100 kWh. RAM Power : 10.2771635055542 W\n[codecarbon INFO @ 18:04:51] Energy consumed for all GPUs : 0.151132 kWh. Total GPU Power : 69.58554461301624 W\n[codecarbon INFO @ 18:04:51] Energy consumed for all CPUs : 0.099706 kWh. Total CPU Power : 42.5 W\n[codecarbon INFO @ 18:04:51] 0.274939 kWh of electricity used since the beginning.\n[codecarbon INFO @ 18:04:57] Energy consumed for RAM : 0.024409 kWh. RAM Power : 10.2771635055542 W\n[codecarbon INFO @ 18:04:57] Energy consumed for all GPUs : 0.151720 kWh. Total GPU Power : 69.6042393497777 W\n[codecarbon INFO @ 18:04:57] Energy consumed for all CPUs : 0.100976 kWh. Total CPU Power : 42.5 W\n[codecarbon INFO @ 18:04:57] 0.277106 kWh of electricity used since the beginning.\n[codecarbon INFO @ 18:05:06] Energy consumed for RAM : 0.024143 kWh. RAM Power : 10.2771635055542 W\n[codecarbon INFO @ 18:05:06] Energy consumed for all GPUs : 0.151422 kWh. Total GPU Power : 69.6687954311289 W\n[codecarbon INFO @ 18:05:06] Energy consumed for all CPUs : 0.099883 kWh. Total CPU Power : 42.5 W\n[codecarbon INFO @ 18:05:06] 0.275449 kWh of electricity used since the beginning.\n[codecarbon INFO @ 18:05:12] Energy consumed for RAM : 0.024452 kWh. RAM Power : 10.2771635055542 W\n[codecarbon INFO @ 18:05:12] Energy consumed for all GPUs : 0.152011 kWh. Total GPU Power : 69.7309628308906 W\n[codecarbon INFO @ 18:05:12] Energy consumed for all CPUs : 0.101153 kWh. Total CPU Power : 42.5 W\n[codecarbon INFO @ 18:05:12] 0.277616 kWh of electricity used since the beginning.\n[codecarbon INFO @ 18:05:21] Energy consumed for RAM : 0.024186 kWh. RAM Power : 10.2771635055542 W\n[codecarbon INFO @ 18:05:21] Energy consumed for all GPUs : 0.151712 kWh. Total GPU Power : 69.59180916137952 W\n[codecarbon INFO @ 18:05:21] Energy consumed for all CPUs : 0.100060 kWh. Total CPU Power : 42.5 W\n[codecarbon INFO @ 18:05:21] 0.275958 kWh of electricity used since the beginning.\n[codecarbon INFO @ 18:05:27] Energy consumed for RAM : 0.024495 kWh. RAM Power : 10.2771635055542 W\n[codecarbon INFO @ 18:05:27] Energy consumed for all GPUs : 0.152301 kWh. Total GPU Power : 69.53978253659628 W\n[codecarbon INFO @ 18:05:27] Energy consumed for all CPUs : 0.101330 kWh. Total CPU Power : 42.5 W\n[codecarbon INFO @ 18:05:27] 0.278126 kWh of electricity used since the beginning.\n[codecarbon INFO @ 18:05:36] Energy consumed for RAM : 0.024229 kWh. RAM Power : 10.2771635055542 W\n[codecarbon INFO @ 18:05:36] Energy consumed for all GPUs : 0.152002 kWh. Total GPU Power : 69.60337838251834 W\n[codecarbon INFO @ 18:05:36] Energy consumed for all CPUs : 0.100237 kWh. Total CPU Power : 42.5 W\n[codecarbon INFO @ 18:05:36] 0.276468 kWh of electricity used since the beginning.\n[codecarbon INFO @ 18:05:42] Energy consumed for RAM : 0.024538 kWh. RAM Power : 10.2771635055542 W\n[codecarbon INFO @ 18:05:42] Energy consumed for all GPUs : 0.152591 kWh. Total GPU Power : 69.61743689738546 W\n[codecarbon INFO @ 18:05:42] Energy consumed for all CPUs : 0.101507 kWh. Total CPU Power : 42.5 W\n[codecarbon INFO @ 18:05:42] 0.278636 kWh of electricity used since the beginning.\n[codecarbon INFO @ 18:05:51] Energy consumed for RAM : 0.024272 kWh. RAM Power : 10.2771635055542 W\n[codecarbon INFO @ 18:05:51] Energy consumed for all GPUs : 0.152292 kWh. Total GPU Power : 69.63579920235111 W\n[codecarbon INFO @ 18:05:51] Energy consumed for all CPUs : 0.100414 kWh. Total CPU Power : 42.5 W\n[codecarbon INFO @ 18:05:51] 0.276978 kWh of electricity used since the beginning.\n[codecarbon INFO @ 18:05:57] Energy consumed for RAM : 0.024580 kWh. RAM Power : 10.2771635055542 W\n[codecarbon INFO @ 18:05:57] Energy consumed for all GPUs : 0.152881 kWh. Total GPU Power : 69.7503289301838 W\n[codecarbon INFO @ 18:05:57] Energy consumed for all CPUs : 0.101684 kWh. Total CPU Power : 42.5 W\n[codecarbon INFO @ 18:05:57] 0.279146 kWh of electricity used since the beginning.\n[codecarbon INFO @ 18:06:06] Energy consumed for RAM : 0.024314 kWh. RAM Power : 10.2771635055542 W\n[codecarbon INFO @ 18:06:06] Energy consumed for all GPUs : 0.152581 kWh. Total GPU Power : 69.24131653029862 W\n[codecarbon INFO @ 18:06:06] Energy consumed for all CPUs : 0.100591 kWh. Total CPU Power : 42.5 W\n[codecarbon INFO @ 18:06:06] 0.277487 kWh of electricity used since the beginning.\n[codecarbon INFO @ 18:06:12] Energy consumed for RAM : 0.024623 kWh. RAM Power : 10.2771635055542 W\n[codecarbon INFO @ 18:06:12] Energy consumed for all GPUs : 0.153171 kWh. Total GPU Power : 69.63725783229155 W\n[codecarbon INFO @ 18:06:12] Energy consumed for all CPUs : 0.101862 kWh. Total CPU Power : 42.5 W\n[codecarbon INFO @ 18:06:12] 0.279656 kWh of electricity used since the beginning.\n[codecarbon INFO @ 18:06:21] Energy consumed for RAM : 0.024357 kWh. RAM Power : 10.2771635055542 W\n[codecarbon INFO @ 18:06:21] Energy consumed for all GPUs : 0.152871 kWh. Total GPU Power : 69.72714689369542 W\n[codecarbon INFO @ 18:06:21] Energy consumed for all CPUs : 0.100768 kWh. Total CPU Power : 42.5 W\n[codecarbon INFO @ 18:06:21] 0.277997 kWh of electricity used since the beginning.\n[codecarbon INFO @ 18:06:27] Energy consumed for RAM : 0.024666 kWh. RAM Power : 10.2771635055542 W\n[codecarbon INFO @ 18:06:27] Energy consumed for all GPUs : 0.153461 kWh. Total GPU Power : 69.68709470900005 W\n[codecarbon INFO @ 18:06:27] Energy consumed for all CPUs : 0.102039 kWh. Total CPU Power : 42.5 W\n[codecarbon INFO @ 18:06:27] 0.280166 kWh of electricity used since the beginning.\n[codecarbon INFO @ 18:06:36] Energy consumed for RAM : 0.024400 kWh. RAM Power : 10.2771635055542 W\n[codecarbon INFO @ 18:06:36] Energy consumed for all GPUs : 0.153161 kWh. Total GPU Power : 69.55901992790159 W\n[codecarbon INFO @ 18:06:36] Energy consumed for all CPUs : 0.100946 kWh. Total CPU Power : 42.5 W\n[codecarbon INFO @ 18:06:36] 0.278506 kWh of electricity used since the beginning.\n[codecarbon INFO @ 18:06:42] Energy consumed for RAM : 0.024709 kWh. RAM Power : 10.2771635055542 W\n[codecarbon INFO @ 18:06:42] Energy consumed for all GPUs : 0.153751 kWh. Total GPU Power : 69.56639884552486 W\n[codecarbon INFO @ 18:06:42] Energy consumed for all CPUs : 0.102216 kWh. Total CPU Power : 42.5 W\n[codecarbon INFO @ 18:06:42] 0.280676 kWh of electricity used since the beginning.\n[codecarbon INFO @ 18:06:51] Energy consumed for RAM : 0.024443 kWh. RAM Power : 10.2771635055542 W\n[codecarbon INFO @ 18:06:51] Energy consumed for all GPUs : 0.153451 kWh. Total GPU Power : 69.52576059560825 W\n[codecarbon INFO @ 18:06:51] Energy consumed for all CPUs : 0.101123 kWh. Total CPU Power : 42.5 W\n[codecarbon INFO @ 18:06:51] 0.279016 kWh of electricity used since the beginning.\n[codecarbon INFO @ 18:06:57] Energy consumed for RAM : 0.024752 kWh. RAM Power : 10.2771635055542 W\n[codecarbon INFO @ 18:06:57] Energy consumed for all GPUs : 0.154041 kWh. Total GPU Power : 69.53988175354529 W\n[codecarbon INFO @ 18:06:57] Energy consumed for all CPUs : 0.102393 kWh. Total CPU Power : 42.5 W\n[codecarbon INFO @ 18:06:57] 0.281185 kWh of electricity used since the beginning.\n[codecarbon INFO @ 18:07:06] Energy consumed for RAM : 0.024486 kWh. RAM Power : 10.2771635055542 W\n[codecarbon INFO @ 18:07:06] Energy consumed for all GPUs : 0.153740 kWh. Total GPU Power : 69.5847498135881 W\n[codecarbon INFO @ 18:07:06] Energy consumed for all CPUs : 0.101300 kWh. Total CPU Power : 42.5 W\n[codecarbon INFO @ 18:07:06] 0.279526 kWh of electricity used since the beginning.\n[codecarbon INFO @ 18:07:12] Energy consumed for RAM : 0.024794 kWh. RAM Power : 10.2771635055542 W\n[codecarbon INFO @ 18:07:12] Energy consumed for all GPUs : 0.154331 kWh. Total GPU Power : 69.62648403676276 W\n[codecarbon INFO @ 18:07:12] Energy consumed for all CPUs : 0.102570 kWh. Total CPU Power : 42.5 W\n[codecarbon INFO @ 18:07:12] 0.281695 kWh of electricity used since the beginning.\n[codecarbon INFO @ 18:07:21] Energy consumed for RAM : 0.024528 kWh. RAM Power : 10.2771635055542 W\n[codecarbon INFO @ 18:07:21] Energy consumed for all GPUs : 0.154030 kWh. Total GPU Power : 69.63568161585518 W\n[codecarbon INFO @ 18:07:21] Energy consumed for all CPUs : 0.101477 kWh. Total CPU Power : 42.5 W\n[codecarbon INFO @ 18:07:21] 0.280036 kWh of electricity used since the beginning.\n[codecarbon INFO @ 18:07:27] Energy consumed for RAM : 0.024837 kWh. RAM Power : 10.2771635055542 W\n[codecarbon INFO @ 18:07:27] Energy consumed for all GPUs : 0.154621 kWh. Total GPU Power : 69.66475356066847 W\n[codecarbon INFO @ 18:07:27] Energy consumed for all CPUs : 0.102747 kWh. Total CPU Power : 42.5 W\n[codecarbon INFO @ 18:07:27] 0.282205 kWh of electricity used since the beginning.\n[codecarbon INFO @ 18:07:36] Energy consumed for RAM : 0.024571 kWh. RAM Power : 10.2771635055542 W\n[codecarbon INFO @ 18:07:36] Energy consumed for all GPUs : 0.154321 kWh. Total GPU Power : 69.71651371028238 W\n[codecarbon INFO @ 18:07:36] Energy consumed for all CPUs : 0.101654 kWh. Total CPU Power : 42.5 W\n[codecarbon INFO @ 18:07:36] 0.280546 kWh of electricity used since the beginning.\n[codecarbon INFO @ 18:07:42] Energy consumed for RAM : 0.024880 kWh. RAM Power : 10.2771635055542 W\n[codecarbon INFO @ 18:07:42] Energy consumed for all GPUs : 0.154911 kWh. Total GPU Power : 69.65028255520308 W\n[codecarbon INFO @ 18:07:42] Energy consumed for all CPUs : 0.102924 kWh. Total CPU Power : 42.5 W\n[codecarbon INFO @ 18:07:42] 0.282715 kWh of electricity used since the beginning.\n[codecarbon INFO @ 18:07:51] Energy consumed for RAM : 0.024614 kWh. RAM Power : 10.2771635055542 W\n[codecarbon INFO @ 18:07:51] Energy consumed for all GPUs : 0.154611 kWh. Total GPU Power : 69.66585303914216 W\n[codecarbon INFO @ 18:07:51] Energy consumed for all CPUs : 0.101831 kWh. Total CPU Power : 42.5 W\n[codecarbon INFO @ 18:07:51] 0.281056 kWh of electricity used since the beginning.\n[codecarbon INFO @ 18:07:57] Energy consumed for RAM : 0.024923 kWh. RAM Power : 10.2771635055542 W\n[codecarbon INFO @ 18:07:57] Energy consumed for all GPUs : 0.155158 kWh. Total GPU Power : 59.32991675385412 W\n[codecarbon INFO @ 18:07:57] Energy consumed for all CPUs : 0.103101 kWh. Total CPU Power : 42.5 W\n[codecarbon INFO @ 18:07:57] 0.283182 kWh of electricity used since the beginning.\n[codecarbon INFO @ 18:08:06] Energy consumed for RAM : 0.024657 kWh. RAM Power : 10.2771635055542 W\n[codecarbon INFO @ 18:08:06] Energy consumed for all GPUs : 0.154756 kWh. Total GPU Power : 34.89650452168073 W\n[codecarbon INFO @ 18:08:06] Energy consumed for all CPUs : 0.102008 kWh. Total CPU Power : 42.5 W\n[codecarbon INFO @ 18:08:06] 0.281421 kWh of electricity used since the beginning.\n[codecarbon INFO @ 18:08:12] Energy consumed for RAM : 0.024966 kWh. RAM Power : 10.2771635055542 W\n[codecarbon INFO @ 18:08:12] Energy consumed for all GPUs : 0.155282 kWh. Total GPU Power : 29.788943206472947 W\n[codecarbon INFO @ 18:08:12] Energy consumed for all CPUs : 0.103278 kWh. Total CPU Power : 42.5 W\n[codecarbon INFO @ 18:08:12] 0.283526 kWh of electricity used since the beginning.\n[codecarbon INFO @ 18:08:21] Energy consumed for RAM : 0.024700 kWh. RAM Power : 10.2771635055542 W\n[codecarbon INFO @ 18:08:21] Energy consumed for all GPUs : 0.154878 kWh. Total GPU Power : 29.356874128767817 W\n[codecarbon INFO @ 18:08:21] Energy consumed for all CPUs : 0.102185 kWh. Total CPU Power : 42.5 W\n[codecarbon INFO @ 18:08:21] 0.281763 kWh of electricity used since the beginning.\n[codecarbon INFO @ 18:08:27] Energy consumed for RAM : 0.025008 kWh. RAM Power : 10.2771635055542 W\n[codecarbon INFO @ 18:08:27] Energy consumed for all GPUs : 0.155403 kWh. Total GPU Power : 28.946154958817026 W\n[codecarbon INFO @ 18:08:27] Energy consumed for all CPUs : 0.103455 kWh. Total CPU Power : 42.5 W\n[codecarbon INFO @ 18:08:27] 0.283867 kWh of electricity used since the beginning.\n[codecarbon INFO @ 18:08:36] Energy consumed for RAM : 0.024742 kWh. RAM Power : 10.2771635055542 W\n[codecarbon INFO @ 18:08:36] Energy consumed for all GPUs : 0.154998 kWh. Total GPU Power : 28.65326013354422 W\n[codecarbon INFO @ 18:08:36] Energy consumed for all CPUs : 0.102362 kWh. Total CPU Power : 42.5 W\n[codecarbon INFO @ 18:08:36] 0.282102 kWh of electricity used since the beginning.\n[codecarbon INFO @ 18:08:42] Energy consumed for RAM : 0.025051 kWh. RAM Power : 10.2771635055542 W\n[codecarbon INFO @ 18:08:42] Energy consumed for all GPUs : 0.155522 kWh. Total GPU Power : 28.493341404484212 W\n[codecarbon INFO @ 18:08:42] Energy consumed for all CPUs : 0.103632 kWh. Total CPU Power : 42.5 W\n[codecarbon INFO @ 18:08:42] 0.284205 kWh of electricity used since the beginning.\n[codecarbon INFO @ 18:08:51] Energy consumed for RAM : 0.024785 kWh. RAM Power : 10.2771635055542 W\n[codecarbon INFO @ 18:08:51] Energy consumed for all GPUs : 0.155116 kWh. Total GPU Power : 28.306236587487547 W\n[codecarbon INFO @ 18:08:51] Energy consumed for all CPUs : 0.102539 kWh. Total CPU Power : 42.5 W\n[codecarbon INFO @ 18:08:51] 0.282440 kWh of electricity used since the beginning.\n[codecarbon INFO @ 18:08:57] Energy consumed for RAM : 0.025094 kWh. RAM Power : 10.2771635055542 W\n[codecarbon INFO @ 18:08:57] Energy consumed for all GPUs : 0.155640 kWh. Total GPU Power : 28.43021727541678 W\n[codecarbon INFO @ 18:08:57] Energy consumed for all CPUs : 0.103809 kWh. Total CPU Power : 42.5 W\n[codecarbon INFO @ 18:08:57] 0.284544 kWh of electricity used since the beginning.\n[codecarbon INFO @ 18:09:06] Energy consumed for RAM : 0.024828 kWh. RAM Power : 10.2771635055542 W\n[codecarbon INFO @ 18:09:06] Energy consumed for all GPUs : 0.155234 kWh. Total GPU Power : 28.305372709486843 W\n[codecarbon INFO @ 18:09:06] Energy consumed for all CPUs : 0.102716 kWh. Total CPU Power : 42.5 W\n[codecarbon INFO @ 18:09:06] 0.282778 kWh of electricity used since the beginning.\n[codecarbon INFO @ 18:09:12] Energy consumed for RAM : 0.025137 kWh. RAM Power : 10.2771635055542 W\n[codecarbon INFO @ 18:09:12] Energy consumed for all GPUs : 0.155757 kWh. Total GPU Power : 28.029682256195088 W\n[codecarbon INFO @ 18:09:12] Energy consumed for all CPUs : 0.103986 kWh. Total CPU Power : 42.5 W\n[codecarbon INFO @ 18:09:12] 0.284880 kWh of electricity used since the beginning.\n[codecarbon INFO @ 18:09:21] Energy consumed for RAM : 0.024871 kWh. RAM Power : 10.2771635055542 W\n[codecarbon INFO @ 18:09:21] Energy consumed for all GPUs : 0.155350 kWh. Total GPU Power : 27.88866325720384 W\n[codecarbon INFO @ 18:09:21] Energy consumed for all CPUs : 0.102893 kWh. Total CPU Power : 42.5 W\n[codecarbon INFO @ 18:09:21] 0.283114 kWh of electricity used since the beginning.\n[codecarbon INFO @ 18:09:27] Energy consumed for RAM : 0.025180 kWh. RAM Power : 10.2771635055542 W\n[codecarbon INFO @ 18:09:27] Energy consumed for all GPUs : 0.155873 kWh. Total GPU Power : 27.789566654680055 W\n[codecarbon INFO @ 18:09:27] Energy consumed for all CPUs : 0.104164 kWh. Total CPU Power : 42.5 W\n[codecarbon INFO @ 18:09:27] 0.285216 kWh of electricity used since the beginning.\n[codecarbon INFO @ 18:09:36] Energy consumed for RAM : 0.024914 kWh. RAM Power : 10.2771635055542 W\n[codecarbon INFO @ 18:09:36] Energy consumed for all GPUs : 0.155466 kWh. Total GPU Power : 27.832092720717803 W\n[codecarbon INFO @ 18:09:36] Energy consumed for all CPUs : 0.103070 kWh. Total CPU Power : 42.5 W\n[codecarbon INFO @ 18:09:36] 0.283450 kWh of electricity used since the beginning.\n[codecarbon INFO @ 18:09:42] Energy consumed for RAM : 0.025223 kWh. RAM Power : 10.2771635055542 W\n[codecarbon INFO @ 18:09:42] Energy consumed for all GPUs : 0.155988 kWh. Total GPU Power : 27.750211084741363 W\n[codecarbon INFO @ 18:09:42] Energy consumed for all CPUs : 0.104341 kWh. Total CPU Power : 42.5 W\n[codecarbon INFO @ 18:09:42] 0.285551 kWh of electricity used since the beginning.\n[codecarbon INFO @ 18:09:51] Energy consumed for RAM : 0.024957 kWh. RAM Power : 10.2771635055542 W\n[codecarbon INFO @ 18:09:51] Energy consumed for all GPUs : 0.155580 kWh. Total GPU Power : 27.439423826937627 W\n[codecarbon INFO @ 18:09:51] Energy consumed for all CPUs : 0.103247 kWh. Total CPU Power : 42.5 W\n[codecarbon INFO @ 18:09:51] 0.283784 kWh of electricity used since the beginning.\n[codecarbon INFO @ 18:09:57] Energy consumed for RAM : 0.025265 kWh. RAM Power : 10.2771635055542 W\n[codecarbon INFO @ 18:09:57] Energy consumed for all GPUs : 0.156144 kWh. Total GPU Power : 37.48454002513948 W\n[codecarbon INFO @ 18:09:57] Energy consumed for all CPUs : 0.104518 kWh. Total CPU Power : 42.5 W\n[codecarbon INFO @ 18:09:57] 0.285927 kWh of electricity used since the beginning.\n[codecarbon INFO @ 18:10:06] Energy consumed for RAM : 0.024999 kWh. RAM Power : 10.2771635055542 W\n[codecarbon INFO @ 18:10:06] Energy consumed for all GPUs : 0.155844 kWh. Total GPU Power : 63.398707000149756 W\n[codecarbon INFO @ 18:10:06] Energy consumed for all CPUs : 0.103425 kWh. Total CPU Power : 42.5 W\n[codecarbon INFO @ 18:10:06] 0.284268 kWh of electricity used since the beginning.\n[codecarbon INFO @ 18:10:12] Energy consumed for RAM : 0.025308 kWh. RAM Power : 10.2771635055542 W\n[codecarbon INFO @ 18:10:12] Energy consumed for all GPUs : 0.156434 kWh. Total GPU Power : 69.58663910225017 W\n[codecarbon INFO @ 18:10:12] Energy consumed for all CPUs : 0.104695 kWh. Total CPU Power : 42.5 W\n[codecarbon INFO @ 18:10:12] 0.286437 kWh of electricity used since the beginning.\n/anaconda/envs/azureml_py38/lib/python3.8/site-packages/sklearn/metrics/_classification.py:1272: UndefinedMetricWarning: Precision is ill-defined and being set to 0.0 in samples with no predicted labels. Use `zero_division` parameter to control this behavior.\n  _warn_prf(average, modifier, msg_start, len(result))\n/anaconda/envs/azureml_py38/lib/python3.8/site-packages/sklearn/metrics/_classification.py:1272: UndefinedMetricWarning: Recall is ill-defined and being set to 0.0 in samples with no true labels. Use `zero_division` parameter to control this behavior.\n  _warn_prf(average, modifier, msg_start, len(result))\n/anaconda/envs/azureml_py38/lib/python3.8/site-packages/sklearn/metrics/_classification.py:1514: UndefinedMetricWarning: F-score is ill-defined and being set to 0.0 in samples with no true nor predicted labels. Use `zero_division` parameter to control this behavior.\n  _warn_prf(\n[codecarbon INFO @ 18:10:22] Energy consumed for RAM : 0.025044 kWh. RAM Power : 10.2771635055542 W\n[codecarbon INFO @ 18:10:22] Energy consumed for all GPUs : 0.156118 kWh. Total GPU Power : 62.43097277819916 W\n[codecarbon INFO @ 18:10:22] Energy consumed for all CPUs : 0.103611 kWh. Total CPU Power : 42.5 W\n[codecarbon INFO @ 18:10:22] 0.284773 kWh of electricity used since the beginning.\n[codecarbon INFO @ 18:10:27] Energy consumed for RAM : 0.025351 kWh. RAM Power : 10.2771635055542 W\n[codecarbon INFO @ 18:10:27] Energy consumed for all GPUs : 0.156636 kWh. Total GPU Power : 48.40402313043653 W\n[codecarbon INFO @ 18:10:27] Energy consumed for all CPUs : 0.104872 kWh. Total CPU Power : 42.5 W\n[codecarbon INFO @ 18:10:27] 0.286859 kWh of electricity used since the beginning.\n[codecarbon INFO @ 18:10:28] Energy consumed for RAM : 0.025063 kWh. RAM Power : 10.2771635055542 W\n[codecarbon INFO @ 18:10:28] Energy consumed for all GPUs : 0.156169 kWh. Total GPU Power : 28.502628560097083 W\n[codecarbon INFO @ 18:10:28] Energy consumed for all CPUs : 0.103687 kWh. Total CPU Power : 42.5 W\n[codecarbon INFO @ 18:10:28] 0.284919 kWh of electricity used since the beginning.\n"
        },
        {
          "output_type": "execute_result",
          "execution_count": 15,
          "data": {
            "text/plain": "TrainOutput(global_step=6270, training_loss=0.22370102698342842, metrics={'train_runtime': 8784.3655, 'train_samples_per_second': 11.419, 'train_steps_per_second': 0.714, 'total_flos': 1.979485792607232e+16, 'train_loss': 0.22370102698342842, 'epoch': 10.0})"
          },
          "metadata": {}
        }
      ],
      "execution_count": null,
      "metadata": {
        "colab": {
          "base_uri": "https://localhost:8080/",
          "height": 1000
        },
        "id": "FxlFOlnzGbXr",
        "outputId": "651d54f8-bcec-49a8-8cf7-e89b6bec6c3a",
        "gather": {
          "logged": 1705601428244
        }
      }
    },
    {
      "cell_type": "code",
      "source": [
        "tracker.stop()"
      ],
      "outputs": [
        {
          "output_type": "stream",
          "name": "stderr",
          "text": "[codecarbon INFO @ 18:20:36] Energy consumed for RAM : 0.027090 kWh. RAM Power : 10.2771635055542 W\n[codecarbon INFO @ 18:20:36] Energy consumed for all GPUs : 0.161137 kWh. Total GPU Power : 26.36140900402067 W\n[codecarbon INFO @ 18:20:36] Energy consumed for all CPUs : 0.112066 kWh. Total CPU Power : 42.5 W\n[codecarbon INFO @ 18:20:36] 0.300293 kWh of electricity used since the beginning.\n"
        },
        {
          "output_type": "execute_result",
          "execution_count": 16,
          "data": {
            "text/plain": "0.10975005264866937"
          },
          "metadata": {}
        }
      ],
      "execution_count": null,
      "metadata": {
        "colab": {
          "base_uri": "https://localhost:8080/",
          "height": 146
        },
        "id": "smEdKq8z7J7n",
        "outputId": "07e2eccf-dffe-445e-a8a8-2debfda56c75",
        "gather": {
          "logged": 1705602036053
        }
      }
    },
    {
      "cell_type": "code",
      "source": [
        "multi_trainer.push_to_hub()"
      ],
      "outputs": [
        {
          "output_type": "display_data",
          "data": {
            "text/plain": "events.out.tfevents.1705592645.prashant-t4-core4.4285.0:   0%|          | 0.00/14.2k [00:00<?, ?B/s]",
            "application/vnd.jupyter.widget-view+json": {
              "version_major": 2,
              "version_minor": 0,
              "model_id": "6fc4554617224871bdebfcdc1f7f2580"
            }
          },
          "metadata": {}
        },
        {
          "output_type": "display_data",
          "data": {
            "text/plain": "training_args.bin:   0%|          | 0.00/4.14k [00:00<?, ?B/s]",
            "application/vnd.jupyter.widget-view+json": {
              "version_major": 2,
              "version_minor": 0,
              "model_id": "a901890baf2341cd91c7ab490fdc662a"
            }
          },
          "metadata": {}
        },
        {
          "output_type": "display_data",
          "data": {
            "text/plain": "Upload 3 LFS files:   0%|          | 0/3 [00:00<?, ?it/s]",
            "application/vnd.jupyter.widget-view+json": {
              "version_major": 2,
              "version_minor": 0,
              "model_id": "4ba2eac2c2534c9bbad224ff5efabf27"
            }
          },
          "metadata": {}
        },
        {
          "output_type": "display_data",
          "data": {
            "text/plain": "model.safetensors:   0%|          | 0.00/438M [00:00<?, ?B/s]",
            "application/vnd.jupyter.widget-view+json": {
              "version_major": 2,
              "version_minor": 0,
              "model_id": "9a093bf566f04fd783f7c00f02324919"
            }
          },
          "metadata": {}
        },
        {
          "output_type": "execute_result",
          "execution_count": 17,
          "data": {
            "text/plain": "'https://huggingface.co/ppsingh/TAPP-multilabel-mpnet/tree/main/'"
          },
          "metadata": {}
        }
      ],
      "execution_count": null,
      "metadata": {
        "colab": {
          "base_uri": "https://localhost:8080/",
          "referenced_widgets": [
            "6fc4554617224871bdebfcdc1f7f2580",
            "a901890baf2341cd91c7ab490fdc662a",
            "4ba2eac2c2534c9bbad224ff5efabf27",
            "9a093bf566f04fd783f7c00f02324919"
          ]
        },
        "id": "0emuEBFP7SG5",
        "outputId": "f7f2d480-5e4d-45b4-9e1a-c71a9659a157",
        "gather": {
          "logged": 1705602077836
        }
      }
    },
    {
      "cell_type": "code",
      "source": [
        "log_results = multi_trainer.state.log_history\n",
        "print(log_results)\n",
        "\n",
        "import json\n",
        "with open(\"classifier_info/TAPP_mpnet_logs.json\", \"w\") as fp:\n",
        "    json.dump(log_results , fp)"
      ],
      "outputs": [
        {
          "output_type": "stream",
          "name": "stdout",
          "text": "[{'loss': 0.6141, 'learning_rate': 5.35947811993517e-05, 'epoch': 1.0, 'step': 627}, {'eval_loss': 0.5409209132194519, 'eval_precision-micro': 0.6632302405498282, 'eval_precision-samples': 0.7068093963722866, 'eval_precision-weighted': 0.6740037952411381, 'eval_recall-micro': 0.7360793287566743, 'eval_recall-samples': 0.7307463574189711, 'eval_recall-weighted': 0.7360793287566743, 'eval_f1-micro': 0.697758496023138, 'eval_f1-samples': 0.6957096130155899, 'eval_f1-weighted': 0.7005652103037378, 'eval_runtime': 25.8953, 'eval_samples_per_second': 43.29, 'eval_steps_per_second': 5.445, 'epoch': 1.0, 'step': 627}, {'loss': 0.4661, 'learning_rate': 4.763980551053484e-05, 'epoch': 2.0, 'step': 1254}, {'eval_loss': 0.4958369731903076, 'eval_precision-micro': 0.7208121827411168, 'eval_precision-samples': 0.7222717811477847, 'eval_precision-weighted': 0.7389811255891985, 'eval_recall-micro': 0.7581998474446987, 'eval_recall-samples': 0.7383288730300328, 'eval_recall-weighted': 0.7581998474446987, 'eval_f1-micro': 0.7390334572490707, 'eval_f1-samples': 0.7105985302238647, 'eval_f1-weighted': 0.7448565950468737, 'eval_runtime': 25.8643, 'eval_samples_per_second': 43.342, 'eval_steps_per_second': 5.452, 'epoch': 2.0, 'step': 1254}, {'loss': 0.3537, 'learning_rate': 4.168482982171799e-05, 'epoch': 3.0, 'step': 1881}, {'eval_loss': 0.4751459062099457, 'eval_precision-micro': 0.7207207207207207, 'eval_precision-samples': 0.7291109128754087, 'eval_precision-weighted': 0.7434530200392282, 'eval_recall-micro': 0.7932875667429443, 'eval_recall-samples': 0.7679155515908415, 'eval_recall-weighted': 0.7932875667429443, 'eval_f1-micro': 0.7552650689905591, 'eval_f1-samples': 0.7293105645469606, 'eval_f1-weighted': 0.7603396832301125, 'eval_runtime': 25.8809, 'eval_samples_per_second': 43.314, 'eval_steps_per_second': 5.448, 'epoch': 3.0, 'step': 1881}, {'loss': 0.2618, 'learning_rate': 3.5729854132901135e-05, 'epoch': 4.0, 'step': 2508}, {'eval_loss': 0.5095458626747131, 'eval_precision-micro': 0.764367816091954, 'eval_precision-samples': 0.7613737734165923, 'eval_precision-weighted': 0.7630670095035214, 'eval_recall-micro': 0.8115942028985508, 'eval_recall-samples': 0.7859054415700267, 'eval_recall-weighted': 0.8115942028985508, 'eval_f1-micro': 0.7872733999260082, 'eval_f1-samples': 0.7574019795250839, 'eval_f1-weighted': 0.7864381627656597, 'eval_runtime': 25.817, 'eval_samples_per_second': 43.421, 'eval_steps_per_second': 5.462, 'epoch': 4.0, 'step': 2508}, {'loss': 0.199, 'learning_rate': 2.977487844408428e-05, 'epoch': 5.0, 'step': 3135}, {'eval_loss': 0.549418568611145, 'eval_precision-micro': 0.7848101265822784, 'eval_precision-samples': 0.7650163544454356, 'eval_precision-weighted': 0.7823084584646848, 'eval_recall-micro': 0.8039664378337147, 'eval_recall-samples': 0.7770591733571216, 'eval_recall-weighted': 0.8039664378337147, 'eval_f1-micro': 0.7942727957799547, 'eval_f1-samples': 0.7559067159423983, 'eval_f1-weighted': 0.7926997977533576, 'eval_runtime': 25.8676, 'eval_samples_per_second': 43.336, 'eval_steps_per_second': 5.451, 'epoch': 5.0, 'step': 3135}, {'loss': 0.1381, 'learning_rate': 2.381990275526742e-05, 'epoch': 6.0, 'step': 3762}, {'eval_loss': 0.5691704154014587, 'eval_precision-micro': 0.7733918128654971, 'eval_precision-samples': 0.7601843592030925, 'eval_precision-weighted': 0.7861421163684743, 'eval_recall-micro': 0.8070175438596491, 'eval_recall-samples': 0.7756467439785906, 'eval_recall-weighted': 0.8070175438596491, 'eval_f1-micro': 0.7898469578200821, 'eval_f1-samples': 0.7531328320802005, 'eval_f1-weighted': 0.7942581011792987, 'eval_runtime': 26.4739, 'eval_samples_per_second': 42.344, 'eval_steps_per_second': 5.326, 'epoch': 6.0, 'step': 3762}, {'loss': 0.0919, 'learning_rate': 1.7864927066450568e-05, 'epoch': 7.0, 'step': 4389}, {'eval_loss': 0.5729908347129822, 'eval_precision-micro': 0.785, 'eval_precision-samples': 0.7737882842699971, 'eval_precision-weighted': 0.7872223592731143, 'eval_recall-micro': 0.8382913806254767, 'eval_recall-samples': 0.8012934879571811, 'eval_recall-weighted': 0.8382913806254767, 'eval_f1-micro': 0.8107709332349686, 'eval_f1-samples': 0.7726477209974089, 'eval_f1-weighted': 0.8117821330305359, 'eval_runtime': 26.2929, 'eval_samples_per_second': 42.635, 'eval_steps_per_second': 5.363, 'epoch': 7.0, 'step': 4389}, {'loss': 0.0578, 'learning_rate': 1.190995137763371e-05, 'epoch': 8.0, 'step': 5016}, {'eval_loss': 0.6168037056922913, 'eval_precision-micro': 0.7855093256814921, 'eval_precision-samples': 0.7652393696104669, 'eval_precision-weighted': 0.7922207221740769, 'eval_recall-micro': 0.8352402745995423, 'eval_recall-samples': 0.793562295569432, 'eval_recall-weighted': 0.8352402745995423, 'eval_f1-micro': 0.8096118299445472, 'eval_f1-samples': 0.7655494668875579, 'eval_f1-weighted': 0.8119311640779729, 'eval_runtime': 26.4376, 'eval_samples_per_second': 42.402, 'eval_steps_per_second': 5.333, 'epoch': 8.0, 'step': 5016}, {'loss': 0.0336, 'learning_rate': 5.954975688816855e-06, 'epoch': 9.0, 'step': 5643}, {'eval_loss': 0.6673852205276489, 'eval_precision-micro': 0.7801814375436148, 'eval_precision-samples': 0.7728218852215283, 'eval_precision-weighted': 0.7832476140477485, 'eval_recall-micro': 0.8527841342486652, 'eval_recall-samples': 0.8111061552185549, 'eval_recall-weighted': 0.8527841342486652, 'eval_f1-micro': 0.814868804664723, 'eval_f1-samples': 0.7754343485833227, 'eval_f1-weighted': 0.8160822040357681, 'eval_runtime': 27.0709, 'eval_samples_per_second': 41.41, 'eval_steps_per_second': 5.209, 'epoch': 9.0, 'step': 5643}, {'loss': 0.0209, 'learning_rate': 0.0, 'epoch': 10.0, 'step': 6270}, {'eval_loss': 0.6839269399642944, 'eval_precision-micro': 0.8005801305293692, 'eval_precision-samples': 0.7822628605411835, 'eval_precision-weighted': 0.801991673875082, 'eval_recall-micro': 0.8421052631578947, 'eval_recall-samples': 0.8040440083258995, 'eval_recall-weighted': 0.8421052631578947, 'eval_f1-micro': 0.8208178438661711, 'eval_f1-samples': 0.7784546111040312, 'eval_f1-weighted': 0.8214138899522789, 'eval_runtime': 25.8807, 'eval_samples_per_second': 43.314, 'eval_steps_per_second': 5.448, 'epoch': 10.0, 'step': 6270}, {'train_runtime': 8784.3655, 'train_samples_per_second': 11.419, 'train_steps_per_second': 0.714, 'total_flos': 1.979485792607232e+16, 'train_loss': 0.22370102698342842, 'epoch': 10.0, 'step': 6270}]\n"
        }
      ],
      "execution_count": null,
      "metadata": {
        "colab": {
          "base_uri": "https://localhost:8080/"
        },
        "id": "fTpPLjJ7-B9h",
        "outputId": "f6db1c15-b12d-4b3c-aa05-6c39b78220e1",
        "gather": {
          "logged": 1705602085082
        }
      }
    },
    {
      "cell_type": "markdown",
      "source": [
        "# Predict and Evaluate"
      ],
      "metadata": {
        "nteract": {
          "transient": {
            "deleting": false
          }
        },
        "id": "3qH7hz13x8rD"
      }
    },
    {
      "cell_type": "markdown",
      "source": [
        "## Trainer"
      ],
      "metadata": {
        "nteract": {
          "transient": {
            "deleting": false
          }
        },
        "id": "-7eFHuigx8rD"
      }
    },
    {
      "cell_type": "code",
      "source": [
        "predictions= multi_trainer.predict(val_tokenized)\n",
        "pred,labels,_ = predictions\n",
        "y_pred = torch.from_numpy(pred)\n",
        "y_true = torch.from_numpy(labels)\n",
        "y_prob = y_pred.sigmoid()\n",
        "thresh = 0.50\n",
        "y_pred = (y_prob>=thresh).bool()"
      ],
      "outputs": [
        {
          "output_type": "display_data",
          "data": {
            "text/plain": "<IPython.core.display.HTML object>",
            "text/html": ""
          },
          "metadata": {}
        },
        {
          "output_type": "stream",
          "name": "stderr",
          "text": "/anaconda/envs/azureml_py38/lib/python3.8/site-packages/sklearn/metrics/_classification.py:1272: UndefinedMetricWarning: Precision is ill-defined and being set to 0.0 in samples with no predicted labels. Use `zero_division` parameter to control this behavior.\n  _warn_prf(average, modifier, msg_start, len(result))\n/anaconda/envs/azureml_py38/lib/python3.8/site-packages/sklearn/metrics/_classification.py:1272: UndefinedMetricWarning: Recall is ill-defined and being set to 0.0 in samples with no true labels. Use `zero_division` parameter to control this behavior.\n  _warn_prf(average, modifier, msg_start, len(result))\n/anaconda/envs/azureml_py38/lib/python3.8/site-packages/sklearn/metrics/_classification.py:1514: UndefinedMetricWarning: F-score is ill-defined and being set to 0.0 in samples with no true nor predicted labels. Use `zero_division` parameter to control this behavior.\n  _warn_prf(\n"
        }
      ],
      "execution_count": null,
      "metadata": {
        "jupyter": {
          "source_hidden": false,
          "outputs_hidden": false
        },
        "nteract": {
          "transient": {
            "deleting": false
          }
        },
        "gather": {
          "logged": 1705602153535
        },
        "id": "YI9_m1bbx8rD",
        "outputId": "5822f5bb-0b6a-4351-9d87-12119e2053e2"
      }
    },
    {
      "cell_type": "code",
      "source": [
        "cm = skm.multilabel_confusion_matrix(y_true, y_pred)\n",
        "for i,label in enumerate(label_names):\n",
        "    print(label)\n",
        "    print(cm[i],'\\n')"
      ],
      "outputs": [
        {
          "output_type": "stream",
          "name": "stdout",
          "text": "ActionLabel\n[[431  90]\n [ 77 523]] \n\nPlansLabel\n[[795  89]\n [ 70 167]] \n\nPolicyLabel\n[[928  41]\n [ 28 124]] \n\nTargetLabel\n[[744  55]\n [ 32 290]] \n\n"
        }
      ],
      "execution_count": null,
      "metadata": {
        "jupyter": {
          "source_hidden": false,
          "outputs_hidden": false
        },
        "nteract": {
          "transient": {
            "deleting": false
          }
        },
        "gather": {
          "logged": 1705602157920
        },
        "id": "TwRyolqqx8rE",
        "outputId": "262237ba-b769-42af-8f64-c85fe271e65c"
      }
    },
    {
      "cell_type": "code",
      "source": [
        "report = skm.classification_report(y_true, y_pred, output_dict=True)\n",
        "df_report = pd.DataFrame(report).transpose()\n",
        "df_report = df_report.reset_index()\n",
        "mapping = {str(i):j for i,j in enumerate(label_names)}\n",
        "df_report['index'] = df_report['index'].map(mapping).fillna(df_report['index'])\n",
        "df_report.rename(columns = {'index':'label'}, inplace=True)\n",
        "df_report"
      ],
      "outputs": [
        {
          "output_type": "stream",
          "name": "stderr",
          "text": "/anaconda/envs/azureml_py38/lib/python3.8/site-packages/sklearn/metrics/_classification.py:1272: UndefinedMetricWarning: Precision and F-score are ill-defined and being set to 0.0 in samples with no predicted labels. Use `zero_division` parameter to control this behavior.\n  _warn_prf(average, modifier, msg_start, len(result))\n/anaconda/envs/azureml_py38/lib/python3.8/site-packages/sklearn/metrics/_classification.py:1272: UndefinedMetricWarning: Recall and F-score are ill-defined and being set to 0.0 in samples with no true labels. Use `zero_division` parameter to control this behavior.\n  _warn_prf(average, modifier, msg_start, len(result))\n"
        },
        {
          "output_type": "execute_result",
          "execution_count": 21,
          "data": {
            "text/plain": "          label  precision    recall  f1-score  support\n0   ActionLabel   0.853181  0.871667  0.862325    600.0\n1    PlansLabel   0.652344  0.704641  0.677485    237.0\n2   PolicyLabel   0.751515  0.815789  0.782334    152.0\n3   TargetLabel   0.840580  0.900621  0.869565    322.0\n4     micro avg   0.800580  0.842105  0.820818   1311.0\n5     macro avg   0.774405  0.823180  0.797927   1311.0\n6  weighted avg   0.801992  0.842105  0.821414   1311.0\n7   samples avg   0.782263  0.804044  0.778455   1311.0",
            "text/html": "<div>\n<style scoped>\n    .dataframe tbody tr th:only-of-type {\n        vertical-align: middle;\n    }\n\n    .dataframe tbody tr th {\n        vertical-align: top;\n    }\n\n    .dataframe thead th {\n        text-align: right;\n    }\n</style>\n<table border=\"1\" class=\"dataframe\">\n  <thead>\n    <tr style=\"text-align: right;\">\n      <th></th>\n      <th>label</th>\n      <th>precision</th>\n      <th>recall</th>\n      <th>f1-score</th>\n      <th>support</th>\n    </tr>\n  </thead>\n  <tbody>\n    <tr>\n      <th>0</th>\n      <td>ActionLabel</td>\n      <td>0.853181</td>\n      <td>0.871667</td>\n      <td>0.862325</td>\n      <td>600.0</td>\n    </tr>\n    <tr>\n      <th>1</th>\n      <td>PlansLabel</td>\n      <td>0.652344</td>\n      <td>0.704641</td>\n      <td>0.677485</td>\n      <td>237.0</td>\n    </tr>\n    <tr>\n      <th>2</th>\n      <td>PolicyLabel</td>\n      <td>0.751515</td>\n      <td>0.815789</td>\n      <td>0.782334</td>\n      <td>152.0</td>\n    </tr>\n    <tr>\n      <th>3</th>\n      <td>TargetLabel</td>\n      <td>0.840580</td>\n      <td>0.900621</td>\n      <td>0.869565</td>\n      <td>322.0</td>\n    </tr>\n    <tr>\n      <th>4</th>\n      <td>micro avg</td>\n      <td>0.800580</td>\n      <td>0.842105</td>\n      <td>0.820818</td>\n      <td>1311.0</td>\n    </tr>\n    <tr>\n      <th>5</th>\n      <td>macro avg</td>\n      <td>0.774405</td>\n      <td>0.823180</td>\n      <td>0.797927</td>\n      <td>1311.0</td>\n    </tr>\n    <tr>\n      <th>6</th>\n      <td>weighted avg</td>\n      <td>0.801992</td>\n      <td>0.842105</td>\n      <td>0.821414</td>\n      <td>1311.0</td>\n    </tr>\n    <tr>\n      <th>7</th>\n      <td>samples avg</td>\n      <td>0.782263</td>\n      <td>0.804044</td>\n      <td>0.778455</td>\n      <td>1311.0</td>\n    </tr>\n  </tbody>\n</table>\n</div>"
          },
          "metadata": {}
        }
      ],
      "execution_count": null,
      "metadata": {
        "jupyter": {
          "source_hidden": false,
          "outputs_hidden": false
        },
        "nteract": {
          "transient": {
            "deleting": false
          }
        },
        "gather": {
          "logged": 1705602173874
        },
        "id": "CbtdUeITx8rE",
        "outputId": "2cab66a1-0f1a-4cf6-c4af-bd1ce79d6aa0"
      }
    }
  ],
  "metadata": {
    "colab": {
      "provenance": [],
      "gpuType": "T4",
      "toc_visible": true,
      "include_colab_link": true
    },
    "accelerator": "GPU",
    "microsoft": {
      "ms_spell_check": {
        "ms_spell_check_language": "en"
      },
      "host": {
        "AzureML": {
          "notebookHasBeenCompleted": true
        }
      }
    },
    "widgets": {
      "application/vnd.jupyter.widget-state+json": {
        "752bc760da70471883180258a33bf1f7": {
          "model_module": "@jupyter-widgets/controls",
          "model_name": "ProgressStyleModel",
          "model_module_version": "1.5.0",
          "state": {
            "_view_module_version": "1.2.0",
            "_model_name": "ProgressStyleModel",
            "_model_module": "@jupyter-widgets/controls",
            "description_width": "",
            "_view_name": "StyleView",
            "_view_module": "@jupyter-widgets/base",
            "_view_count": null,
            "bar_color": null,
            "_model_module_version": "1.5.0"
          }
        },
        "57a42939202a4802b8540efd8cc7c21f": {
          "model_module": "@jupyter-widgets/base",
          "model_name": "LayoutModel",
          "model_module_version": "1.2.0",
          "state": {
            "_view_module_version": "1.2.0",
            "_model_name": "LayoutModel",
            "grid_row": null,
            "_model_module": "@jupyter-widgets/base",
            "overflow": null,
            "max_height": null,
            "display": null,
            "grid_auto_flow": null,
            "grid_template_rows": null,
            "align_self": null,
            "grid_auto_columns": null,
            "width": null,
            "grid_area": null,
            "align_items": null,
            "_view_name": "LayoutView",
            "left": null,
            "height": null,
            "_view_module": "@jupyter-widgets/base",
            "object_position": null,
            "justify_content": null,
            "bottom": null,
            "max_width": null,
            "border": null,
            "margin": null,
            "order": null,
            "grid_column": null,
            "grid_auto_rows": null,
            "padding": null,
            "grid_template_columns": null,
            "justify_items": null,
            "object_fit": null,
            "visibility": null,
            "_view_count": null,
            "flex_flow": null,
            "min_height": null,
            "top": null,
            "min_width": null,
            "flex": null,
            "_model_module_version": "1.2.0",
            "grid_template_areas": null,
            "overflow_x": null,
            "right": null,
            "overflow_y": null,
            "grid_gap": null,
            "align_content": null
          }
        },
        "73969a9bdeec45428323556adab1719d": {
          "model_module": "@jupyter-widgets/base",
          "model_name": "LayoutModel",
          "model_module_version": "1.2.0",
          "state": {
            "_view_module_version": "1.2.0",
            "_model_name": "LayoutModel",
            "grid_row": null,
            "_model_module": "@jupyter-widgets/base",
            "overflow": null,
            "max_height": null,
            "display": null,
            "grid_auto_flow": null,
            "grid_template_rows": null,
            "align_self": null,
            "grid_auto_columns": null,
            "width": null,
            "grid_area": null,
            "align_items": null,
            "_view_name": "LayoutView",
            "left": null,
            "height": null,
            "_view_module": "@jupyter-widgets/base",
            "object_position": null,
            "justify_content": null,
            "bottom": null,
            "max_width": null,
            "border": null,
            "margin": null,
            "order": null,
            "grid_column": null,
            "grid_auto_rows": null,
            "padding": null,
            "grid_template_columns": null,
            "justify_items": null,
            "object_fit": null,
            "visibility": null,
            "_view_count": null,
            "flex_flow": null,
            "min_height": null,
            "top": null,
            "min_width": null,
            "flex": null,
            "_model_module_version": "1.2.0",
            "grid_template_areas": null,
            "overflow_x": null,
            "right": null,
            "overflow_y": null,
            "grid_gap": null,
            "align_content": null
          }
        },
        "8508008c97fa49848455ff6ef4cf4097": {
          "model_module": "@jupyter-widgets/controls",
          "model_name": "DescriptionStyleModel",
          "model_module_version": "1.5.0",
          "state": {
            "_model_module": "@jupyter-widgets/controls",
            "_model_module_version": "1.5.0",
            "_model_name": "DescriptionStyleModel",
            "_view_count": null,
            "_view_module": "@jupyter-widgets/base",
            "_view_module_version": "1.2.0",
            "_view_name": "StyleView",
            "description_width": ""
          }
        },
        "01e84539b7f3437aac86603e53740d65": {
          "model_module": "@jupyter-widgets/controls",
          "model_name": "DescriptionStyleModel",
          "model_module_version": "1.5.0",
          "state": {
            "_model_module": "@jupyter-widgets/controls",
            "_model_module_version": "1.5.0",
            "_model_name": "DescriptionStyleModel",
            "_view_count": null,
            "_view_module": "@jupyter-widgets/base",
            "_view_module_version": "1.2.0",
            "_view_name": "StyleView",
            "description_width": ""
          }
        },
        "0b3077eb1a5b4400bcc79600c28a8f00": {
          "model_module": "@jupyter-widgets/controls",
          "model_name": "DescriptionStyleModel",
          "model_module_version": "1.5.0",
          "state": {
            "_model_module": "@jupyter-widgets/controls",
            "_model_module_version": "1.5.0",
            "_model_name": "DescriptionStyleModel",
            "_view_count": null,
            "_view_module": "@jupyter-widgets/base",
            "_view_module_version": "1.2.0",
            "_view_name": "StyleView",
            "description_width": ""
          }
        },
        "32600bcf8a0b4394bd72750361680960": {
          "model_module": "@jupyter-widgets/controls",
          "model_name": "DescriptionStyleModel",
          "model_module_version": "1.5.0",
          "state": {
            "_model_module": "@jupyter-widgets/controls",
            "_model_module_version": "1.5.0",
            "_model_name": "DescriptionStyleModel",
            "_view_count": null,
            "_view_module": "@jupyter-widgets/base",
            "_view_module_version": "1.2.0",
            "_view_name": "StyleView",
            "description_width": ""
          }
        },
        "fe1f3d68703a4d4e8289ca5df513281d": {
          "model_module": "@jupyter-widgets/controls",
          "model_name": "DescriptionStyleModel",
          "model_module_version": "1.5.0",
          "state": {
            "_model_module": "@jupyter-widgets/controls",
            "_model_module_version": "1.5.0",
            "_model_name": "DescriptionStyleModel",
            "_view_count": null,
            "_view_module": "@jupyter-widgets/base",
            "_view_module_version": "1.2.0",
            "_view_name": "StyleView",
            "description_width": ""
          }
        },
        "1ed6c7adaaf04ff6a385175e5fb1552e": {
          "model_module": "@jupyter-widgets/base",
          "model_name": "LayoutModel",
          "model_module_version": "1.2.0",
          "state": {
            "_view_module_version": "1.2.0",
            "_model_name": "LayoutModel",
            "grid_row": null,
            "_model_module": "@jupyter-widgets/base",
            "overflow": null,
            "max_height": null,
            "display": null,
            "grid_auto_flow": null,
            "grid_template_rows": null,
            "align_self": null,
            "grid_auto_columns": null,
            "width": null,
            "grid_area": null,
            "align_items": null,
            "_view_name": "LayoutView",
            "left": null,
            "height": null,
            "_view_module": "@jupyter-widgets/base",
            "object_position": null,
            "justify_content": null,
            "bottom": null,
            "max_width": null,
            "border": null,
            "margin": null,
            "order": null,
            "grid_column": null,
            "grid_auto_rows": null,
            "padding": null,
            "grid_template_columns": null,
            "justify_items": null,
            "object_fit": null,
            "visibility": null,
            "_view_count": null,
            "flex_flow": null,
            "min_height": null,
            "top": null,
            "min_width": null,
            "flex": null,
            "_model_module_version": "1.2.0",
            "grid_template_areas": null,
            "overflow_x": null,
            "right": null,
            "overflow_y": null,
            "grid_gap": null,
            "align_content": null
          }
        },
        "b800ea5836fa4262b74e9869fa1a1992": {
          "model_module": "@jupyter-widgets/base",
          "model_name": "LayoutModel",
          "model_module_version": "1.2.0",
          "state": {
            "_view_module_version": "1.2.0",
            "_model_name": "LayoutModel",
            "grid_row": null,
            "_model_module": "@jupyter-widgets/base",
            "overflow": null,
            "max_height": null,
            "display": null,
            "grid_auto_flow": null,
            "grid_template_rows": null,
            "align_self": null,
            "grid_auto_columns": null,
            "width": null,
            "grid_area": null,
            "align_items": null,
            "_view_name": "LayoutView",
            "left": null,
            "height": null,
            "_view_module": "@jupyter-widgets/base",
            "object_position": null,
            "justify_content": null,
            "bottom": null,
            "max_width": null,
            "border": null,
            "margin": null,
            "order": null,
            "grid_column": null,
            "grid_auto_rows": null,
            "padding": null,
            "grid_template_columns": null,
            "justify_items": null,
            "object_fit": null,
            "visibility": null,
            "_view_count": null,
            "flex_flow": null,
            "min_height": null,
            "top": null,
            "min_width": null,
            "flex": null,
            "_model_module_version": "1.2.0",
            "grid_template_areas": null,
            "overflow_x": null,
            "right": null,
            "overflow_y": null,
            "grid_gap": null,
            "align_content": null
          }
        },
        "87118e8cdd28412daaacd92100d30bec": {
          "model_module": "@jupyter-widgets/controls",
          "model_name": "HBoxModel",
          "model_module_version": "1.5.0",
          "state": {
            "_view_module_version": "1.5.0",
            "_model_name": "HBoxModel",
            "_model_module": "@jupyter-widgets/controls",
            "_view_name": "HBoxView",
            "_view_module": "@jupyter-widgets/controls",
            "_dom_classes": [],
            "layout": "IPY_MODEL_ae85376915d34e0fb1dbfc4eacc51766",
            "_view_count": null,
            "_model_module_version": "1.5.0",
            "box_style": "",
            "children": [
              "IPY_MODEL_03ad04f4bf554ac1901ecf86713ae23e",
              "IPY_MODEL_47ffbb3c130b4584bb2be484ffa978ed",
              "IPY_MODEL_f3983f65b9ec416b9b4910de7040eba5"
            ]
          }
        },
        "47f4073f798f428dae8d635146edbe6e": {
          "model_module": "@jupyter-widgets/controls",
          "model_name": "ButtonModel",
          "model_module_version": "1.5.0",
          "state": {
            "_view_module_version": "1.5.0",
            "_model_name": "ButtonModel",
            "_model_module": "@jupyter-widgets/controls",
            "tooltip": "",
            "button_style": "",
            "_view_name": "ButtonView",
            "_view_module": "@jupyter-widgets/controls",
            "_dom_classes": [],
            "layout": "IPY_MODEL_bb8d9843305b41d8a367c2f7d4c02bfd",
            "style": "IPY_MODEL_e10f368c353a4cab95bf834059d2ba0e",
            "_view_count": null,
            "icon": "",
            "_model_module_version": "1.5.0",
            "disabled": false,
            "description": "Login"
          }
        },
        "973507d7b3254f31a39e195affce9d16": {
          "model_module": "@jupyter-widgets/controls",
          "model_name": "ProgressStyleModel",
          "model_module_version": "1.5.0",
          "state": {
            "_view_module_version": "1.2.0",
            "_model_name": "ProgressStyleModel",
            "_model_module": "@jupyter-widgets/controls",
            "description_width": "",
            "_view_name": "StyleView",
            "_view_module": "@jupyter-widgets/base",
            "_view_count": null,
            "bar_color": null,
            "_model_module_version": "1.5.0"
          }
        },
        "3a9cfc1b0e2e447282a55680daee9e9b": {
          "model_module": "@jupyter-widgets/controls",
          "model_name": "ProgressStyleModel",
          "model_module_version": "1.5.0",
          "state": {
            "_view_module_version": "1.2.0",
            "_model_name": "ProgressStyleModel",
            "_model_module": "@jupyter-widgets/controls",
            "description_width": "",
            "_view_name": "StyleView",
            "_view_module": "@jupyter-widgets/base",
            "_view_count": null,
            "bar_color": null,
            "_model_module_version": "1.5.0"
          }
        },
        "400a364603c54b5e8e1f9757dca95ec7": {
          "model_module": "@jupyter-widgets/base",
          "model_name": "LayoutModel",
          "model_module_version": "1.2.0",
          "state": {
            "_view_module_version": "1.2.0",
            "_model_name": "LayoutModel",
            "grid_row": null,
            "_model_module": "@jupyter-widgets/base",
            "overflow": null,
            "max_height": null,
            "display": null,
            "grid_auto_flow": null,
            "grid_template_rows": null,
            "align_self": null,
            "grid_auto_columns": null,
            "width": null,
            "grid_area": null,
            "align_items": null,
            "_view_name": "LayoutView",
            "left": null,
            "height": null,
            "_view_module": "@jupyter-widgets/base",
            "object_position": null,
            "justify_content": null,
            "bottom": null,
            "max_width": null,
            "border": null,
            "margin": null,
            "order": null,
            "grid_column": null,
            "grid_auto_rows": null,
            "padding": null,
            "grid_template_columns": null,
            "justify_items": null,
            "object_fit": null,
            "visibility": null,
            "_view_count": null,
            "flex_flow": null,
            "min_height": null,
            "top": null,
            "min_width": null,
            "flex": null,
            "_model_module_version": "1.2.0",
            "grid_template_areas": null,
            "overflow_x": null,
            "right": null,
            "overflow_y": null,
            "grid_gap": null,
            "align_content": null
          }
        },
        "6420b51992644f59bdc147e228d7af99": {
          "model_module": "@jupyter-widgets/base",
          "model_name": "LayoutModel",
          "model_module_version": "1.2.0",
          "state": {
            "_view_module_version": "1.2.0",
            "_model_name": "LayoutModel",
            "grid_row": null,
            "_model_module": "@jupyter-widgets/base",
            "overflow": null,
            "max_height": null,
            "display": null,
            "grid_auto_flow": null,
            "grid_template_rows": null,
            "align_self": null,
            "grid_auto_columns": null,
            "width": null,
            "grid_area": null,
            "align_items": null,
            "_view_name": "LayoutView",
            "left": null,
            "height": null,
            "_view_module": "@jupyter-widgets/base",
            "object_position": null,
            "justify_content": null,
            "bottom": null,
            "max_width": null,
            "border": null,
            "margin": null,
            "order": null,
            "grid_column": null,
            "grid_auto_rows": null,
            "padding": null,
            "grid_template_columns": null,
            "justify_items": null,
            "object_fit": null,
            "visibility": null,
            "_view_count": null,
            "flex_flow": null,
            "min_height": null,
            "top": null,
            "min_width": null,
            "flex": null,
            "_model_module_version": "1.2.0",
            "grid_template_areas": null,
            "overflow_x": null,
            "right": null,
            "overflow_y": null,
            "grid_gap": null,
            "align_content": null
          }
        },
        "40909a17ca384b709203c142e72ace8e": {
          "model_module": "@jupyter-widgets/base",
          "model_name": "LayoutModel",
          "model_module_version": "1.2.0",
          "state": {
            "_view_module_version": "1.2.0",
            "_model_name": "LayoutModel",
            "grid_row": null,
            "_model_module": "@jupyter-widgets/base",
            "overflow": null,
            "max_height": null,
            "display": null,
            "grid_auto_flow": null,
            "grid_template_rows": null,
            "align_self": null,
            "grid_auto_columns": null,
            "width": null,
            "grid_area": null,
            "align_items": null,
            "_view_name": "LayoutView",
            "left": null,
            "height": null,
            "_view_module": "@jupyter-widgets/base",
            "object_position": null,
            "justify_content": null,
            "bottom": null,
            "max_width": null,
            "border": null,
            "margin": null,
            "order": null,
            "grid_column": null,
            "grid_auto_rows": null,
            "padding": null,
            "grid_template_columns": null,
            "justify_items": null,
            "object_fit": null,
            "visibility": null,
            "_view_count": null,
            "flex_flow": null,
            "min_height": null,
            "top": null,
            "min_width": null,
            "flex": null,
            "_model_module_version": "1.2.0",
            "grid_template_areas": null,
            "overflow_x": null,
            "right": null,
            "overflow_y": null,
            "grid_gap": null,
            "align_content": null
          }
        },
        "9b840f388f2f468c94aa5f6a0c0f49a0": {
          "model_module": "@jupyter-widgets/controls",
          "model_name": "HBoxModel",
          "model_module_version": "1.5.0",
          "state": {
            "_view_module_version": "1.5.0",
            "_model_name": "HBoxModel",
            "_model_module": "@jupyter-widgets/controls",
            "_view_name": "HBoxView",
            "_view_module": "@jupyter-widgets/controls",
            "_dom_classes": [],
            "layout": "IPY_MODEL_b800ea5836fa4262b74e9869fa1a1992",
            "_view_count": null,
            "_model_module_version": "1.5.0",
            "box_style": "",
            "children": [
              "IPY_MODEL_dfea763cddba4b7aaa83a45222b2396f",
              "IPY_MODEL_cc7a6341900d4cc8b3d39957cecfb991",
              "IPY_MODEL_e4cb2e538b8947d19cca21cc7060a45d"
            ]
          }
        },
        "bb8d9843305b41d8a367c2f7d4c02bfd": {
          "model_module": "@jupyter-widgets/base",
          "model_name": "LayoutModel",
          "model_module_version": "1.2.0",
          "state": {
            "_view_module_version": "1.2.0",
            "_model_name": "LayoutModel",
            "grid_row": null,
            "_model_module": "@jupyter-widgets/base",
            "overflow": null,
            "max_height": null,
            "display": null,
            "grid_auto_flow": null,
            "grid_template_rows": null,
            "align_self": null,
            "grid_auto_columns": null,
            "width": null,
            "grid_area": null,
            "align_items": null,
            "_view_name": "LayoutView",
            "left": null,
            "height": null,
            "_view_module": "@jupyter-widgets/base",
            "object_position": null,
            "justify_content": null,
            "bottom": null,
            "max_width": null,
            "border": null,
            "margin": null,
            "order": null,
            "grid_column": null,
            "grid_auto_rows": null,
            "padding": null,
            "grid_template_columns": null,
            "justify_items": null,
            "object_fit": null,
            "visibility": null,
            "_view_count": null,
            "flex_flow": null,
            "min_height": null,
            "top": null,
            "min_width": null,
            "flex": null,
            "_model_module_version": "1.2.0",
            "grid_template_areas": null,
            "overflow_x": null,
            "right": null,
            "overflow_y": null,
            "grid_gap": null,
            "align_content": null
          }
        },
        "d937720d9b18489cbf210f5a71bbff22": {
          "model_module": "@jupyter-widgets/controls",
          "model_name": "LabelModel",
          "model_module_version": "1.5.0",
          "state": {
            "_view_module_version": "1.5.0",
            "description_tooltip": null,
            "_model_name": "LabelModel",
            "_model_module": "@jupyter-widgets/controls",
            "_view_name": "LabelView",
            "_view_module": "@jupyter-widgets/controls",
            "_dom_classes": [],
            "layout": "IPY_MODEL_6420b51992644f59bdc147e228d7af99",
            "value": "Login successful",
            "style": "IPY_MODEL_c60e9a83954b4d3f968aca03ab8da320",
            "placeholder": "​",
            "_view_count": null,
            "_model_module_version": "1.5.0",
            "description": ""
          }
        },
        "1a7d666a65904e4f82cfe17b7fe2f505": {
          "model_module": "@jupyter-widgets/controls",
          "model_name": "DescriptionStyleModel",
          "model_module_version": "1.5.0",
          "state": {
            "_model_module": "@jupyter-widgets/controls",
            "_model_module_version": "1.5.0",
            "_model_name": "DescriptionStyleModel",
            "_view_count": null,
            "_view_module": "@jupyter-widgets/base",
            "_view_module_version": "1.2.0",
            "_view_name": "StyleView",
            "description_width": ""
          }
        },
        "6a43f5129f414386a65d648cba8af401": {
          "model_module": "@jupyter-widgets/controls",
          "model_name": "DescriptionStyleModel",
          "model_module_version": "1.5.0",
          "state": {
            "_model_module": "@jupyter-widgets/controls",
            "_model_module_version": "1.5.0",
            "_model_name": "DescriptionStyleModel",
            "_view_count": null,
            "_view_module": "@jupyter-widgets/base",
            "_view_module_version": "1.2.0",
            "_view_name": "StyleView",
            "description_width": ""
          }
        },
        "fc4fefc3353b421390113ca30dd0eb86": {
          "model_module": "@jupyter-widgets/controls",
          "model_name": "DescriptionStyleModel",
          "model_module_version": "1.5.0",
          "state": {
            "_model_module": "@jupyter-widgets/controls",
            "_model_module_version": "1.5.0",
            "_model_name": "DescriptionStyleModel",
            "_view_count": null,
            "_view_module": "@jupyter-widgets/base",
            "_view_module_version": "1.2.0",
            "_view_name": "StyleView",
            "description_width": ""
          }
        },
        "c9782ae25a1b40d8a1b97489ae859514": {
          "model_module": "@jupyter-widgets/controls",
          "model_name": "DescriptionStyleModel",
          "model_module_version": "1.5.0",
          "state": {
            "_model_module": "@jupyter-widgets/controls",
            "_model_module_version": "1.5.0",
            "_model_name": "DescriptionStyleModel",
            "_view_count": null,
            "_view_module": "@jupyter-widgets/base",
            "_view_module_version": "1.2.0",
            "_view_name": "StyleView",
            "description_width": ""
          }
        },
        "f360dc39bf7a4fb29f081f61e67c50b0": {
          "model_module": "@jupyter-widgets/base",
          "model_name": "LayoutModel",
          "model_module_version": "1.2.0",
          "state": {
            "_view_module_version": "1.2.0",
            "_model_name": "LayoutModel",
            "grid_row": null,
            "_model_module": "@jupyter-widgets/base",
            "overflow": null,
            "max_height": null,
            "display": null,
            "grid_auto_flow": null,
            "grid_template_rows": null,
            "align_self": null,
            "grid_auto_columns": null,
            "width": null,
            "grid_area": null,
            "align_items": null,
            "_view_name": "LayoutView",
            "left": null,
            "height": null,
            "_view_module": "@jupyter-widgets/base",
            "object_position": null,
            "justify_content": null,
            "bottom": null,
            "max_width": null,
            "border": null,
            "margin": null,
            "order": null,
            "grid_column": null,
            "grid_auto_rows": null,
            "padding": null,
            "grid_template_columns": null,
            "justify_items": null,
            "object_fit": null,
            "visibility": null,
            "_view_count": null,
            "flex_flow": null,
            "min_height": null,
            "top": null,
            "min_width": null,
            "flex": null,
            "_model_module_version": "1.2.0",
            "grid_template_areas": null,
            "overflow_x": null,
            "right": null,
            "overflow_y": null,
            "grid_gap": null,
            "align_content": null
          }
        },
        "11fb84c45d364abcaff3ca43b3bdc829": {
          "model_module": "@jupyter-widgets/base",
          "model_name": "LayoutModel",
          "model_module_version": "1.2.0",
          "state": {
            "_view_module_version": "1.2.0",
            "_model_name": "LayoutModel",
            "grid_row": null,
            "_model_module": "@jupyter-widgets/base",
            "overflow": null,
            "max_height": null,
            "display": null,
            "grid_auto_flow": null,
            "grid_template_rows": null,
            "align_self": null,
            "grid_auto_columns": null,
            "width": null,
            "grid_area": null,
            "align_items": null,
            "_view_name": "LayoutView",
            "left": null,
            "height": null,
            "_view_module": "@jupyter-widgets/base",
            "object_position": null,
            "justify_content": null,
            "bottom": null,
            "max_width": null,
            "border": null,
            "margin": null,
            "order": null,
            "grid_column": null,
            "grid_auto_rows": null,
            "padding": null,
            "grid_template_columns": null,
            "justify_items": null,
            "object_fit": null,
            "visibility": null,
            "_view_count": null,
            "flex_flow": null,
            "min_height": null,
            "top": null,
            "min_width": null,
            "flex": null,
            "_model_module_version": "1.2.0",
            "grid_template_areas": null,
            "overflow_x": null,
            "right": null,
            "overflow_y": null,
            "grid_gap": null,
            "align_content": null
          }
        },
        "9aced9baa2f44cf79c4b35d6b6880fc8": {
          "model_module": "@jupyter-widgets/controls",
          "model_name": "HTMLModel",
          "model_module_version": "1.5.0",
          "state": {
            "_view_module_version": "1.5.0",
            "description_tooltip": null,
            "_model_name": "HTMLModel",
            "_model_module": "@jupyter-widgets/controls",
            "_view_name": "HTMLView",
            "_view_module": "@jupyter-widgets/controls",
            "_dom_classes": [],
            "layout": "IPY_MODEL_689dc977208d439ebf44a80f8013dba5",
            "value": "\n<b>Pro Tip:</b> If you don't already have one, you can create a dedicated\n'notebooks' token with 'write' access, that you can then easily reuse for all\nnotebooks. </center>",
            "style": "IPY_MODEL_7cba08c01f3e435a946b27aa2268cc85",
            "placeholder": "​",
            "_view_count": null,
            "_model_module_version": "1.5.0",
            "description": ""
          }
        },
        "4529a6dbf15549899bbae8620a52f29d": {
          "model_module": "@jupyter-widgets/controls",
          "model_name": "DescriptionStyleModel",
          "model_module_version": "1.5.0",
          "state": {
            "_model_module": "@jupyter-widgets/controls",
            "_model_module_version": "1.5.0",
            "_model_name": "DescriptionStyleModel",
            "_view_count": null,
            "_view_module": "@jupyter-widgets/base",
            "_view_module_version": "1.2.0",
            "_view_name": "StyleView",
            "description_width": ""
          }
        },
        "6b38a5ca737f4ce690ddf4cb3509f530": {
          "model_module": "@jupyter-widgets/base",
          "model_name": "LayoutModel",
          "model_module_version": "1.2.0",
          "state": {
            "_view_module_version": "1.2.0",
            "_model_name": "LayoutModel",
            "grid_row": null,
            "_model_module": "@jupyter-widgets/base",
            "overflow": null,
            "max_height": null,
            "display": null,
            "grid_auto_flow": null,
            "grid_template_rows": null,
            "align_self": null,
            "grid_auto_columns": null,
            "width": null,
            "grid_area": null,
            "align_items": null,
            "_view_name": "LayoutView",
            "left": null,
            "height": null,
            "_view_module": "@jupyter-widgets/base",
            "object_position": null,
            "justify_content": null,
            "bottom": null,
            "max_width": null,
            "border": null,
            "margin": null,
            "order": null,
            "grid_column": null,
            "grid_auto_rows": null,
            "padding": null,
            "grid_template_columns": null,
            "justify_items": null,
            "object_fit": null,
            "visibility": null,
            "_view_count": null,
            "flex_flow": null,
            "min_height": null,
            "top": null,
            "min_width": null,
            "flex": null,
            "_model_module_version": "1.2.0",
            "grid_template_areas": null,
            "overflow_x": null,
            "right": null,
            "overflow_y": null,
            "grid_gap": null,
            "align_content": null
          }
        },
        "cc7a6341900d4cc8b3d39957cecfb991": {
          "model_module": "@jupyter-widgets/controls",
          "model_name": "FloatProgressModel",
          "model_module_version": "1.5.0",
          "state": {
            "_view_module_version": "1.5.0",
            "description_tooltip": null,
            "_model_name": "FloatProgressModel",
            "_model_module": "@jupyter-widgets/controls",
            "max": 1115,
            "bar_style": "success",
            "_view_name": "ProgressView",
            "_view_module": "@jupyter-widgets/controls",
            "_dom_classes": [],
            "layout": "IPY_MODEL_d0883effcab140cd80e445df482e3ec6",
            "orientation": "horizontal",
            "value": 1115,
            "style": "IPY_MODEL_3a9cfc1b0e2e447282a55680daee9e9b",
            "min": 0,
            "_view_count": null,
            "_model_module_version": "1.5.0",
            "description": ""
          }
        },
        "03ad04f4bf554ac1901ecf86713ae23e": {
          "model_module": "@jupyter-widgets/controls",
          "model_name": "HTMLModel",
          "model_module_version": "1.5.0",
          "state": {
            "_view_module_version": "1.5.0",
            "description_tooltip": null,
            "_model_name": "HTMLModel",
            "_model_module": "@jupyter-widgets/controls",
            "_view_name": "HTMLView",
            "_view_module": "@jupyter-widgets/controls",
            "_dom_classes": [],
            "layout": "IPY_MODEL_40909a17ca384b709203c142e72ace8e",
            "value": "Map: 100%",
            "style": "IPY_MODEL_6a43f5129f414386a65d648cba8af401",
            "placeholder": "​",
            "_view_count": null,
            "_model_module_version": "1.5.0",
            "description": ""
          }
        },
        "74b5eb92ff274983a7fcf6032a64c440": {
          "model_module": "@jupyter-widgets/base",
          "model_name": "LayoutModel",
          "model_module_version": "1.2.0",
          "state": {
            "_view_module_version": "1.2.0",
            "_model_name": "LayoutModel",
            "grid_row": null,
            "_model_module": "@jupyter-widgets/base",
            "overflow": null,
            "max_height": null,
            "display": null,
            "grid_auto_flow": null,
            "grid_template_rows": null,
            "align_self": null,
            "grid_auto_columns": null,
            "width": null,
            "grid_area": null,
            "align_items": null,
            "_view_name": "LayoutView",
            "left": null,
            "height": null,
            "_view_module": "@jupyter-widgets/base",
            "object_position": null,
            "justify_content": null,
            "bottom": null,
            "max_width": null,
            "border": null,
            "margin": null,
            "order": null,
            "grid_column": null,
            "grid_auto_rows": null,
            "padding": null,
            "grid_template_columns": null,
            "justify_items": null,
            "object_fit": null,
            "visibility": null,
            "_view_count": null,
            "flex_flow": null,
            "min_height": null,
            "top": null,
            "min_width": null,
            "flex": null,
            "_model_module_version": "1.2.0",
            "grid_template_areas": null,
            "overflow_x": null,
            "right": null,
            "overflow_y": null,
            "grid_gap": null,
            "align_content": null
          }
        },
        "6d566461ab2b4bd3b79945928d6bf873": {
          "model_module": "@jupyter-widgets/controls",
          "model_name": "HTMLModel",
          "model_module_version": "1.5.0",
          "state": {
            "_view_module_version": "1.5.0",
            "description_tooltip": null,
            "_model_name": "HTMLModel",
            "_model_module": "@jupyter-widgets/controls",
            "_view_name": "HTMLView",
            "_view_module": "@jupyter-widgets/controls",
            "_dom_classes": [],
            "layout": "IPY_MODEL_bbc725bf803c4672a8892908ef546a55",
            "value": "<center> <img\nsrc=https://huggingface.co/front/assets/huggingface_logo-noborder.svg\nalt='Hugging Face'> <br> Copy a token from <a\nhref=\"https://huggingface.co/settings/tokens\" target=\"_blank\">your Hugging Face\ntokens page</a> and paste it below. <br> Immediately click login after copying\nyour token or it might be stored in plain text in this notebook file. </center>",
            "style": "IPY_MODEL_1a7d666a65904e4f82cfe17b7fe2f505",
            "placeholder": "​",
            "_view_count": null,
            "_model_module_version": "1.5.0",
            "description": ""
          }
        },
        "eaaa3ff565b34e989146c30b4206aa4a": {
          "model_module": "@jupyter-widgets/controls",
          "model_name": "CheckboxModel",
          "model_module_version": "1.5.0",
          "state": {
            "_view_module_version": "1.5.0",
            "description_tooltip": null,
            "_model_name": "CheckboxModel",
            "_model_module": "@jupyter-widgets/controls",
            "_view_name": "CheckboxView",
            "_view_module": "@jupyter-widgets/controls",
            "_dom_classes": [],
            "layout": "IPY_MODEL_400a364603c54b5e8e1f9757dca95ec7",
            "indent": true,
            "value": true,
            "style": "IPY_MODEL_fc4fefc3353b421390113ca30dd0eb86",
            "_view_count": null,
            "_model_module_version": "1.5.0",
            "disabled": false,
            "description": "Add token as git credential?"
          }
        },
        "cce68002e6574a9baaffba13b634e21f": {
          "model_module": "@jupyter-widgets/controls",
          "model_name": "LabelModel",
          "model_module_version": "1.5.0",
          "state": {
            "_view_module_version": "1.5.0",
            "description_tooltip": null,
            "_model_name": "LabelModel",
            "_model_module": "@jupyter-widgets/controls",
            "_view_name": "LabelView",
            "_view_module": "@jupyter-widgets/controls",
            "_dom_classes": [],
            "layout": "IPY_MODEL_fdeea74a06934cccb3862eaf7939044b",
            "value": "Your token has been saved in your configured git credential helpers (store).",
            "style": "IPY_MODEL_4529a6dbf15549899bbae8620a52f29d",
            "placeholder": "​",
            "_view_count": null,
            "_model_module_version": "1.5.0",
            "description": ""
          }
        },
        "e10f368c353a4cab95bf834059d2ba0e": {
          "model_module": "@jupyter-widgets/controls",
          "model_name": "ButtonStyleModel",
          "model_module_version": "1.5.0",
          "state": {
            "_view_module_version": "1.2.0",
            "_model_name": "ButtonStyleModel",
            "_model_module": "@jupyter-widgets/controls",
            "_view_name": "StyleView",
            "_view_module": "@jupyter-widgets/base",
            "font_weight": "",
            "_view_count": null,
            "button_color": null,
            "_model_module_version": "1.5.0"
          }
        },
        "aef58a45582d4a1490aa0998ed0cc707": {
          "model_module": "@jupyter-widgets/base",
          "model_name": "LayoutModel",
          "model_module_version": "1.2.0",
          "state": {
            "_view_module_version": "1.2.0",
            "_model_name": "LayoutModel",
            "grid_row": null,
            "_model_module": "@jupyter-widgets/base",
            "overflow": null,
            "max_height": null,
            "display": null,
            "grid_auto_flow": null,
            "grid_template_rows": null,
            "align_self": null,
            "grid_auto_columns": null,
            "width": null,
            "grid_area": null,
            "align_items": null,
            "_view_name": "LayoutView",
            "left": null,
            "height": null,
            "_view_module": "@jupyter-widgets/base",
            "object_position": null,
            "justify_content": null,
            "bottom": null,
            "max_width": null,
            "border": null,
            "margin": null,
            "order": null,
            "grid_column": null,
            "grid_auto_rows": null,
            "padding": null,
            "grid_template_columns": null,
            "justify_items": null,
            "object_fit": null,
            "visibility": null,
            "_view_count": null,
            "flex_flow": null,
            "min_height": null,
            "top": null,
            "min_width": null,
            "flex": null,
            "_model_module_version": "1.2.0",
            "grid_template_areas": null,
            "overflow_x": null,
            "right": null,
            "overflow_y": null,
            "grid_gap": null,
            "align_content": null
          }
        },
        "aceac2336c7c4d478557fa3f8bd3931f": {
          "model_module": "@jupyter-widgets/base",
          "model_name": "LayoutModel",
          "model_module_version": "1.2.0",
          "state": {
            "_view_module_version": "1.2.0",
            "_model_name": "LayoutModel",
            "grid_row": null,
            "_model_module": "@jupyter-widgets/base",
            "overflow": null,
            "max_height": null,
            "display": null,
            "grid_auto_flow": null,
            "grid_template_rows": null,
            "align_self": null,
            "grid_auto_columns": null,
            "width": null,
            "grid_area": null,
            "align_items": null,
            "_view_name": "LayoutView",
            "left": null,
            "height": null,
            "_view_module": "@jupyter-widgets/base",
            "object_position": null,
            "justify_content": null,
            "bottom": null,
            "max_width": null,
            "border": null,
            "margin": null,
            "order": null,
            "grid_column": null,
            "grid_auto_rows": null,
            "padding": null,
            "grid_template_columns": null,
            "justify_items": null,
            "object_fit": null,
            "visibility": null,
            "_view_count": null,
            "flex_flow": null,
            "min_height": null,
            "top": null,
            "min_width": null,
            "flex": null,
            "_model_module_version": "1.2.0",
            "grid_template_areas": null,
            "overflow_x": null,
            "right": null,
            "overflow_y": null,
            "grid_gap": null,
            "align_content": null
          }
        },
        "d0883effcab140cd80e445df482e3ec6": {
          "model_module": "@jupyter-widgets/base",
          "model_name": "LayoutModel",
          "model_module_version": "1.2.0",
          "state": {
            "_view_module_version": "1.2.0",
            "_model_name": "LayoutModel",
            "grid_row": null,
            "_model_module": "@jupyter-widgets/base",
            "overflow": null,
            "max_height": null,
            "display": null,
            "grid_auto_flow": null,
            "grid_template_rows": null,
            "align_self": null,
            "grid_auto_columns": null,
            "width": null,
            "grid_area": null,
            "align_items": null,
            "_view_name": "LayoutView",
            "left": null,
            "height": null,
            "_view_module": "@jupyter-widgets/base",
            "object_position": null,
            "justify_content": null,
            "bottom": null,
            "max_width": null,
            "border": null,
            "margin": null,
            "order": null,
            "grid_column": null,
            "grid_auto_rows": null,
            "padding": null,
            "grid_template_columns": null,
            "justify_items": null,
            "object_fit": null,
            "visibility": null,
            "_view_count": null,
            "flex_flow": null,
            "min_height": null,
            "top": null,
            "min_width": null,
            "flex": null,
            "_model_module_version": "1.2.0",
            "grid_template_areas": null,
            "overflow_x": null,
            "right": null,
            "overflow_y": null,
            "grid_gap": null,
            "align_content": null
          }
        },
        "50045a301a3d4f779ad628eadc407047": {
          "model_module": "@jupyter-widgets/controls",
          "model_name": "LabelModel",
          "model_module_version": "1.5.0",
          "state": {
            "_view_module_version": "1.5.0",
            "description_tooltip": null,
            "_model_name": "LabelModel",
            "_model_module": "@jupyter-widgets/controls",
            "_view_name": "LabelView",
            "_view_module": "@jupyter-widgets/controls",
            "_dom_classes": [],
            "layout": "IPY_MODEL_74b5eb92ff274983a7fcf6032a64c440",
            "value": "Your token has been saved to /root/.cache/huggingface/token",
            "style": "IPY_MODEL_c9782ae25a1b40d8a1b97489ae859514",
            "placeholder": "​",
            "_view_count": null,
            "_model_module_version": "1.5.0",
            "description": ""
          }
        },
        "f6b51939bf7c45b69c0c49a85e5247e4": {
          "model_module": "@jupyter-widgets/controls",
          "model_name": "ProgressStyleModel",
          "model_module_version": "1.5.0",
          "state": {
            "_view_module_version": "1.2.0",
            "_model_name": "ProgressStyleModel",
            "_model_module": "@jupyter-widgets/controls",
            "description_width": "",
            "_view_name": "StyleView",
            "_view_module": "@jupyter-widgets/base",
            "_view_count": null,
            "bar_color": null,
            "_model_module_version": "1.5.0"
          }
        },
        "be5f27bd291048389a6a0a2aac3139d0": {
          "model_module": "@jupyter-widgets/controls",
          "model_name": "DescriptionStyleModel",
          "model_module_version": "1.5.0",
          "state": {
            "_model_module": "@jupyter-widgets/controls",
            "_model_module_version": "1.5.0",
            "_model_name": "DescriptionStyleModel",
            "_view_count": null,
            "_view_module": "@jupyter-widgets/base",
            "_view_module_version": "1.2.0",
            "_view_name": "StyleView",
            "description_width": ""
          }
        },
        "f3983f65b9ec416b9b4910de7040eba5": {
          "model_module": "@jupyter-widgets/controls",
          "model_name": "HTMLModel",
          "model_module_version": "1.5.0",
          "state": {
            "_view_module_version": "1.5.0",
            "description_tooltip": null,
            "_model_name": "HTMLModel",
            "_model_module": "@jupyter-widgets/controls",
            "_view_name": "HTMLView",
            "_view_module": "@jupyter-widgets/controls",
            "_dom_classes": [],
            "layout": "IPY_MODEL_11fb84c45d364abcaff3ca43b3bdc829",
            "value": " 10037/10037 [00:12&lt;00:00, 1019.36 examples/s]",
            "style": "IPY_MODEL_be5f27bd291048389a6a0a2aac3139d0",
            "placeholder": "​",
            "_view_count": null,
            "_model_module_version": "1.5.0",
            "description": ""
          }
        },
        "7f599423e2ad42b39cb4decaaf869f91": {
          "model_module": "@jupyter-widgets/controls",
          "model_name": "FloatProgressModel",
          "model_module_version": "1.5.0",
          "state": {
            "_view_module_version": "1.5.0",
            "description_tooltip": null,
            "_model_name": "FloatProgressModel",
            "_model_module": "@jupyter-widgets/controls",
            "max": 1115,
            "bar_style": "success",
            "_view_name": "ProgressView",
            "_view_module": "@jupyter-widgets/controls",
            "_dom_classes": [],
            "layout": "IPY_MODEL_6b38a5ca737f4ce690ddf4cb3509f530",
            "orientation": "horizontal",
            "value": 1115,
            "style": "IPY_MODEL_973507d7b3254f31a39e195affce9d16",
            "min": 0,
            "_view_count": null,
            "_model_module_version": "1.5.0",
            "description": ""
          }
        },
        "fdeea74a06934cccb3862eaf7939044b": {
          "model_module": "@jupyter-widgets/base",
          "model_name": "LayoutModel",
          "model_module_version": "1.2.0",
          "state": {
            "_view_module_version": "1.2.0",
            "_model_name": "LayoutModel",
            "grid_row": null,
            "_model_module": "@jupyter-widgets/base",
            "overflow": null,
            "max_height": null,
            "display": null,
            "grid_auto_flow": null,
            "grid_template_rows": null,
            "align_self": null,
            "grid_auto_columns": null,
            "width": null,
            "grid_area": null,
            "align_items": null,
            "_view_name": "LayoutView",
            "left": null,
            "height": null,
            "_view_module": "@jupyter-widgets/base",
            "object_position": null,
            "justify_content": null,
            "bottom": null,
            "max_width": null,
            "border": null,
            "margin": null,
            "order": null,
            "grid_column": null,
            "grid_auto_rows": null,
            "padding": null,
            "grid_template_columns": null,
            "justify_items": null,
            "object_fit": null,
            "visibility": null,
            "_view_count": null,
            "flex_flow": null,
            "min_height": null,
            "top": null,
            "min_width": null,
            "flex": null,
            "_model_module_version": "1.2.0",
            "grid_template_areas": null,
            "overflow_x": null,
            "right": null,
            "overflow_y": null,
            "grid_gap": null,
            "align_content": null
          }
        },
        "da23e7ccd548401cb84f76017fc75d59": {
          "model_module": "@jupyter-widgets/base",
          "model_name": "LayoutModel",
          "model_module_version": "1.2.0",
          "state": {
            "_view_module_version": "1.2.0",
            "_model_name": "LayoutModel",
            "grid_row": null,
            "_model_module": "@jupyter-widgets/base",
            "overflow": null,
            "max_height": null,
            "display": null,
            "grid_auto_flow": null,
            "grid_template_rows": null,
            "align_self": null,
            "grid_auto_columns": null,
            "width": null,
            "grid_area": null,
            "align_items": null,
            "_view_name": "LayoutView",
            "left": null,
            "height": null,
            "_view_module": "@jupyter-widgets/base",
            "object_position": null,
            "justify_content": null,
            "bottom": null,
            "max_width": null,
            "border": null,
            "margin": null,
            "order": null,
            "grid_column": null,
            "grid_auto_rows": null,
            "padding": null,
            "grid_template_columns": null,
            "justify_items": null,
            "object_fit": null,
            "visibility": null,
            "_view_count": null,
            "flex_flow": null,
            "min_height": null,
            "top": null,
            "min_width": null,
            "flex": null,
            "_model_module_version": "1.2.0",
            "grid_template_areas": null,
            "overflow_x": null,
            "right": null,
            "overflow_y": null,
            "grid_gap": null,
            "align_content": null
          }
        },
        "bbc725bf803c4672a8892908ef546a55": {
          "model_module": "@jupyter-widgets/base",
          "model_name": "LayoutModel",
          "model_module_version": "1.2.0",
          "state": {
            "_view_module_version": "1.2.0",
            "_model_name": "LayoutModel",
            "grid_row": null,
            "_model_module": "@jupyter-widgets/base",
            "overflow": null,
            "max_height": null,
            "display": null,
            "grid_auto_flow": null,
            "grid_template_rows": null,
            "align_self": null,
            "grid_auto_columns": null,
            "width": null,
            "grid_area": null,
            "align_items": null,
            "_view_name": "LayoutView",
            "left": null,
            "height": null,
            "_view_module": "@jupyter-widgets/base",
            "object_position": null,
            "justify_content": null,
            "bottom": null,
            "max_width": null,
            "border": null,
            "margin": null,
            "order": null,
            "grid_column": null,
            "grid_auto_rows": null,
            "padding": null,
            "grid_template_columns": null,
            "justify_items": null,
            "object_fit": null,
            "visibility": null,
            "_view_count": null,
            "flex_flow": null,
            "min_height": null,
            "top": null,
            "min_width": null,
            "flex": null,
            "_model_module_version": "1.2.0",
            "grid_template_areas": null,
            "overflow_x": null,
            "right": null,
            "overflow_y": null,
            "grid_gap": null,
            "align_content": null
          }
        },
        "4c227138ef5e4033b1f9d80b5af249c5": {
          "model_module": "@jupyter-widgets/base",
          "model_name": "LayoutModel",
          "model_module_version": "1.2.0",
          "state": {
            "_view_module_version": "1.2.0",
            "_model_name": "LayoutModel",
            "grid_row": null,
            "_model_module": "@jupyter-widgets/base",
            "overflow": null,
            "max_height": null,
            "display": null,
            "grid_auto_flow": null,
            "grid_template_rows": null,
            "align_self": null,
            "grid_auto_columns": null,
            "width": null,
            "grid_area": null,
            "align_items": null,
            "_view_name": "LayoutView",
            "left": null,
            "height": null,
            "_view_module": "@jupyter-widgets/base",
            "object_position": null,
            "justify_content": null,
            "bottom": null,
            "max_width": null,
            "border": null,
            "margin": null,
            "order": null,
            "grid_column": null,
            "grid_auto_rows": null,
            "padding": null,
            "grid_template_columns": null,
            "justify_items": null,
            "object_fit": null,
            "visibility": null,
            "_view_count": null,
            "flex_flow": null,
            "min_height": null,
            "top": null,
            "min_width": null,
            "flex": null,
            "_model_module_version": "1.2.0",
            "grid_template_areas": null,
            "overflow_x": null,
            "right": null,
            "overflow_y": null,
            "grid_gap": null,
            "align_content": null
          }
        },
        "bdac5ea8599a463ea9759cbce8a10366": {
          "model_module": "@jupyter-widgets/controls",
          "model_name": "HBoxModel",
          "model_module_version": "1.5.0",
          "state": {
            "_view_module_version": "1.5.0",
            "_model_name": "HBoxModel",
            "_model_module": "@jupyter-widgets/controls",
            "_view_name": "HBoxView",
            "_view_module": "@jupyter-widgets/controls",
            "_dom_classes": [],
            "layout": "IPY_MODEL_2b7a9a6a51554da19bc7084a83d7ba8c",
            "_view_count": null,
            "_model_module_version": "1.5.0",
            "box_style": "",
            "children": [
              "IPY_MODEL_648761016a5647bcbc08e39db68456ab",
              "IPY_MODEL_9fe0e197d2a648d9b3b727b5a39e3361",
              "IPY_MODEL_7e479b2bb1ff45e092670c7d3057c69f"
            ]
          }
        },
        "f2a2b0f60a164ddaa6d0de59dc60361c": {
          "model_module": "@jupyter-widgets/base",
          "model_name": "LayoutModel",
          "model_module_version": "1.2.0",
          "state": {
            "_view_module_version": "1.2.0",
            "_model_name": "LayoutModel",
            "grid_row": null,
            "_model_module": "@jupyter-widgets/base",
            "overflow": null,
            "max_height": null,
            "display": null,
            "grid_auto_flow": null,
            "grid_template_rows": null,
            "align_self": null,
            "grid_auto_columns": null,
            "width": null,
            "grid_area": null,
            "align_items": null,
            "_view_name": "LayoutView",
            "left": null,
            "height": null,
            "_view_module": "@jupyter-widgets/base",
            "object_position": null,
            "justify_content": null,
            "bottom": null,
            "max_width": null,
            "border": null,
            "margin": null,
            "order": null,
            "grid_column": null,
            "grid_auto_rows": null,
            "padding": null,
            "grid_template_columns": null,
            "justify_items": null,
            "object_fit": null,
            "visibility": null,
            "_view_count": null,
            "flex_flow": null,
            "min_height": null,
            "top": null,
            "min_width": null,
            "flex": null,
            "_model_module_version": "1.2.0",
            "grid_template_areas": null,
            "overflow_x": null,
            "right": null,
            "overflow_y": null,
            "grid_gap": null,
            "align_content": null
          }
        },
        "2b7a9a6a51554da19bc7084a83d7ba8c": {
          "model_module": "@jupyter-widgets/base",
          "model_name": "LayoutModel",
          "model_module_version": "1.2.0",
          "state": {
            "_view_module_version": "1.2.0",
            "_model_name": "LayoutModel",
            "grid_row": null,
            "_model_module": "@jupyter-widgets/base",
            "overflow": null,
            "max_height": null,
            "display": null,
            "grid_auto_flow": null,
            "grid_template_rows": null,
            "align_self": null,
            "grid_auto_columns": null,
            "width": null,
            "grid_area": null,
            "align_items": null,
            "_view_name": "LayoutView",
            "left": null,
            "height": null,
            "_view_module": "@jupyter-widgets/base",
            "object_position": null,
            "justify_content": null,
            "bottom": null,
            "max_width": null,
            "border": null,
            "margin": null,
            "order": null,
            "grid_column": null,
            "grid_auto_rows": null,
            "padding": null,
            "grid_template_columns": null,
            "justify_items": null,
            "object_fit": null,
            "visibility": null,
            "_view_count": null,
            "flex_flow": null,
            "min_height": null,
            "top": null,
            "min_width": null,
            "flex": null,
            "_model_module_version": "1.2.0",
            "grid_template_areas": null,
            "overflow_x": null,
            "right": null,
            "overflow_y": null,
            "grid_gap": null,
            "align_content": null
          }
        },
        "41a20f5b947b43c3948b019b3e46a1fb": {
          "model_module": "@jupyter-widgets/base",
          "model_name": "LayoutModel",
          "model_module_version": "1.2.0",
          "state": {
            "_view_module_version": "1.2.0",
            "_model_name": "LayoutModel",
            "grid_row": null,
            "_model_module": "@jupyter-widgets/base",
            "overflow": null,
            "max_height": null,
            "display": null,
            "grid_auto_flow": null,
            "grid_template_rows": null,
            "align_self": null,
            "grid_auto_columns": null,
            "width": null,
            "grid_area": null,
            "align_items": null,
            "_view_name": "LayoutView",
            "left": null,
            "height": null,
            "_view_module": "@jupyter-widgets/base",
            "object_position": null,
            "justify_content": null,
            "bottom": null,
            "max_width": null,
            "border": null,
            "margin": null,
            "order": null,
            "grid_column": null,
            "grid_auto_rows": null,
            "padding": null,
            "grid_template_columns": null,
            "justify_items": null,
            "object_fit": null,
            "visibility": null,
            "_view_count": null,
            "flex_flow": null,
            "min_height": null,
            "top": null,
            "min_width": null,
            "flex": null,
            "_model_module_version": "1.2.0",
            "grid_template_areas": null,
            "overflow_x": null,
            "right": null,
            "overflow_y": null,
            "grid_gap": null,
            "align_content": null
          }
        },
        "dfea763cddba4b7aaa83a45222b2396f": {
          "model_module": "@jupyter-widgets/controls",
          "model_name": "HTMLModel",
          "model_module_version": "1.5.0",
          "state": {
            "_view_module_version": "1.5.0",
            "description_tooltip": null,
            "_model_name": "HTMLModel",
            "_model_module": "@jupyter-widgets/controls",
            "_view_name": "HTMLView",
            "_view_module": "@jupyter-widgets/controls",
            "_dom_classes": [],
            "layout": "IPY_MODEL_4c227138ef5e4033b1f9d80b5af249c5",
            "value": "Map: 100%",
            "style": "IPY_MODEL_8508008c97fa49848455ff6ef4cf4097",
            "placeholder": "​",
            "_view_count": null,
            "_model_module_version": "1.5.0",
            "description": ""
          }
        },
        "9fe0e197d2a648d9b3b727b5a39e3361": {
          "model_module": "@jupyter-widgets/controls",
          "model_name": "FloatProgressModel",
          "model_module_version": "1.5.0",
          "state": {
            "_view_module_version": "1.5.0",
            "description_tooltip": null,
            "_model_name": "FloatProgressModel",
            "_model_module": "@jupyter-widgets/controls",
            "max": 10037,
            "bar_style": "success",
            "_view_name": "ProgressView",
            "_view_module": "@jupyter-widgets/controls",
            "_dom_classes": [],
            "layout": "IPY_MODEL_da23e7ccd548401cb84f76017fc75d59",
            "orientation": "horizontal",
            "value": 10037,
            "style": "IPY_MODEL_f6b51939bf7c45b69c0c49a85e5247e4",
            "min": 0,
            "_view_count": null,
            "_model_module_version": "1.5.0",
            "description": ""
          }
        },
        "a7dcda5371504cb18e1feaf846803759": {
          "model_module": "@jupyter-widgets/controls",
          "model_name": "LabelModel",
          "model_module_version": "1.5.0",
          "state": {
            "_view_module_version": "1.5.0",
            "description_tooltip": null,
            "_model_name": "LabelModel",
            "_model_module": "@jupyter-widgets/controls",
            "_view_name": "LabelView",
            "_view_module": "@jupyter-widgets/controls",
            "_dom_classes": [],
            "layout": "IPY_MODEL_73969a9bdeec45428323556adab1719d",
            "value": "Token is valid (permission: write).",
            "style": "IPY_MODEL_01e84539b7f3437aac86603e53740d65",
            "placeholder": "​",
            "_view_count": null,
            "_model_module_version": "1.5.0",
            "description": ""
          }
        },
        "110d2e93238848a3aeedc46778f29af9": {
          "model_module": "@jupyter-widgets/base",
          "model_name": "LayoutModel",
          "model_module_version": "1.2.0",
          "state": {
            "_view_module_version": "1.2.0",
            "_model_name": "LayoutModel",
            "grid_row": null,
            "_model_module": "@jupyter-widgets/base",
            "overflow": null,
            "max_height": null,
            "display": "flex",
            "grid_auto_flow": null,
            "grid_template_rows": null,
            "align_self": null,
            "grid_auto_columns": null,
            "width": "50%",
            "grid_area": null,
            "align_items": "center",
            "_view_name": "LayoutView",
            "left": null,
            "height": null,
            "_view_module": "@jupyter-widgets/base",
            "object_position": null,
            "justify_content": null,
            "bottom": null,
            "max_width": null,
            "border": null,
            "margin": null,
            "order": null,
            "grid_column": null,
            "grid_auto_rows": null,
            "padding": null,
            "grid_template_columns": null,
            "justify_items": null,
            "object_fit": null,
            "visibility": null,
            "_view_count": null,
            "flex_flow": "column",
            "min_height": null,
            "top": null,
            "min_width": null,
            "flex": null,
            "_model_module_version": "1.2.0",
            "grid_template_areas": null,
            "overflow_x": null,
            "right": null,
            "overflow_y": null,
            "grid_gap": null,
            "align_content": null
          }
        },
        "814b3bb52be24ce5b8de74a51db0b9e5": {
          "model_module": "@jupyter-widgets/controls",
          "model_name": "HTMLModel",
          "model_module_version": "1.5.0",
          "state": {
            "_view_module_version": "1.5.0",
            "description_tooltip": null,
            "_model_name": "HTMLModel",
            "_model_module": "@jupyter-widgets/controls",
            "_view_name": "HTMLView",
            "_view_module": "@jupyter-widgets/controls",
            "_dom_classes": [],
            "layout": "IPY_MODEL_1ed6c7adaaf04ff6a385175e5fb1552e",
            "value": " 1115/1115 [00:00&lt;00:00, 1391.73 examples/s]",
            "style": "IPY_MODEL_8616ed90f86f47a4996b92ea26519c95",
            "placeholder": "​",
            "_view_count": null,
            "_model_module_version": "1.5.0",
            "description": ""
          }
        },
        "689dc977208d439ebf44a80f8013dba5": {
          "model_module": "@jupyter-widgets/base",
          "model_name": "LayoutModel",
          "model_module_version": "1.2.0",
          "state": {
            "_view_module_version": "1.2.0",
            "_model_name": "LayoutModel",
            "grid_row": null,
            "_model_module": "@jupyter-widgets/base",
            "overflow": null,
            "max_height": null,
            "display": null,
            "grid_auto_flow": null,
            "grid_template_rows": null,
            "align_self": null,
            "grid_auto_columns": null,
            "width": null,
            "grid_area": null,
            "align_items": null,
            "_view_name": "LayoutView",
            "left": null,
            "height": null,
            "_view_module": "@jupyter-widgets/base",
            "object_position": null,
            "justify_content": null,
            "bottom": null,
            "max_width": null,
            "border": null,
            "margin": null,
            "order": null,
            "grid_column": null,
            "grid_auto_rows": null,
            "padding": null,
            "grid_template_columns": null,
            "justify_items": null,
            "object_fit": null,
            "visibility": null,
            "_view_count": null,
            "flex_flow": null,
            "min_height": null,
            "top": null,
            "min_width": null,
            "flex": null,
            "_model_module_version": "1.2.0",
            "grid_template_areas": null,
            "overflow_x": null,
            "right": null,
            "overflow_y": null,
            "grid_gap": null,
            "align_content": null
          }
        },
        "e4cb2e538b8947d19cca21cc7060a45d": {
          "model_module": "@jupyter-widgets/controls",
          "model_name": "HTMLModel",
          "model_module_version": "1.5.0",
          "state": {
            "_view_module_version": "1.5.0",
            "description_tooltip": null,
            "_model_name": "HTMLModel",
            "_model_module": "@jupyter-widgets/controls",
            "_view_name": "HTMLView",
            "_view_module": "@jupyter-widgets/controls",
            "_dom_classes": [],
            "layout": "IPY_MODEL_41a20f5b947b43c3948b019b3e46a1fb",
            "value": " 1115/1115 [00:01&lt;00:00, 990.48 examples/s]",
            "style": "IPY_MODEL_0b3077eb1a5b4400bcc79600c28a8f00",
            "placeholder": "​",
            "_view_count": null,
            "_model_module_version": "1.5.0",
            "description": ""
          }
        },
        "8c63fc82a67f476bb6e4130c71ec8e07": {
          "model_module": "@jupyter-widgets/controls",
          "model_name": "HTMLModel",
          "model_module_version": "1.5.0",
          "state": {
            "_view_module_version": "1.5.0",
            "description_tooltip": null,
            "_model_name": "HTMLModel",
            "_model_module": "@jupyter-widgets/controls",
            "_view_name": "HTMLView",
            "_view_module": "@jupyter-widgets/controls",
            "_dom_classes": [],
            "layout": "IPY_MODEL_aef58a45582d4a1490aa0998ed0cc707",
            "value": "Map: 100%",
            "style": "IPY_MODEL_a74811fea4584e9780cd18b2b354ebcc",
            "placeholder": "​",
            "_view_count": null,
            "_model_module_version": "1.5.0",
            "description": ""
          }
        },
        "b1655d946dea4ea59db93f0d2c9fd8b6": {
          "model_module": "@jupyter-widgets/controls",
          "model_name": "PasswordModel",
          "model_module_version": "1.5.0",
          "state": {
            "_view_module_version": "1.5.0",
            "description_tooltip": null,
            "_model_name": "PasswordModel",
            "_model_module": "@jupyter-widgets/controls",
            "_view_name": "PasswordView",
            "_view_module": "@jupyter-widgets/controls",
            "_dom_classes": [],
            "layout": "IPY_MODEL_eb31d3d6fe404fbeab36f0d86dd7d176",
            "value": "",
            "style": "IPY_MODEL_af57957175c84e90bdde778984c0af4f",
            "placeholder": "​",
            "_view_count": null,
            "continuous_update": true,
            "_model_module_version": "1.5.0",
            "disabled": false,
            "description": "Token:"
          }
        },
        "ae85376915d34e0fb1dbfc4eacc51766": {
          "model_module": "@jupyter-widgets/base",
          "model_name": "LayoutModel",
          "model_module_version": "1.2.0",
          "state": {
            "_view_module_version": "1.2.0",
            "_model_name": "LayoutModel",
            "grid_row": null,
            "_model_module": "@jupyter-widgets/base",
            "overflow": null,
            "max_height": null,
            "display": null,
            "grid_auto_flow": null,
            "grid_template_rows": null,
            "align_self": null,
            "grid_auto_columns": null,
            "width": null,
            "grid_area": null,
            "align_items": null,
            "_view_name": "LayoutView",
            "left": null,
            "height": null,
            "_view_module": "@jupyter-widgets/base",
            "object_position": null,
            "justify_content": null,
            "bottom": null,
            "max_width": null,
            "border": null,
            "margin": null,
            "order": null,
            "grid_column": null,
            "grid_auto_rows": null,
            "padding": null,
            "grid_template_columns": null,
            "justify_items": null,
            "object_fit": null,
            "visibility": null,
            "_view_count": null,
            "flex_flow": null,
            "min_height": null,
            "top": null,
            "min_width": null,
            "flex": null,
            "_model_module_version": "1.2.0",
            "grid_template_areas": null,
            "overflow_x": null,
            "right": null,
            "overflow_y": null,
            "grid_gap": null,
            "align_content": null
          }
        },
        "47ffbb3c130b4584bb2be484ffa978ed": {
          "model_module": "@jupyter-widgets/controls",
          "model_name": "FloatProgressModel",
          "model_module_version": "1.5.0",
          "state": {
            "_view_module_version": "1.5.0",
            "description_tooltip": null,
            "_model_name": "FloatProgressModel",
            "_model_module": "@jupyter-widgets/controls",
            "max": 10037,
            "bar_style": "success",
            "_view_name": "ProgressView",
            "_view_module": "@jupyter-widgets/controls",
            "_dom_classes": [],
            "layout": "IPY_MODEL_f2a2b0f60a164ddaa6d0de59dc60361c",
            "orientation": "horizontal",
            "value": 10037,
            "style": "IPY_MODEL_752bc760da70471883180258a33bf1f7",
            "min": 0,
            "_view_count": null,
            "_model_module_version": "1.5.0",
            "description": ""
          }
        },
        "8616ed90f86f47a4996b92ea26519c95": {
          "model_module": "@jupyter-widgets/controls",
          "model_name": "DescriptionStyleModel",
          "model_module_version": "1.5.0",
          "state": {
            "_model_module": "@jupyter-widgets/controls",
            "_model_module_version": "1.5.0",
            "_model_name": "DescriptionStyleModel",
            "_view_count": null,
            "_view_module": "@jupyter-widgets/base",
            "_view_module_version": "1.2.0",
            "_view_name": "StyleView",
            "description_width": ""
          }
        },
        "2a40670ec2cc412ca4429cc1585a1861": {
          "model_module": "@jupyter-widgets/controls",
          "model_name": "HBoxModel",
          "model_module_version": "1.5.0",
          "state": {
            "_view_module_version": "1.5.0",
            "_model_name": "HBoxModel",
            "_model_module": "@jupyter-widgets/controls",
            "_view_name": "HBoxView",
            "_view_module": "@jupyter-widgets/controls",
            "_dom_classes": [],
            "layout": "IPY_MODEL_f360dc39bf7a4fb29f081f61e67c50b0",
            "_view_count": null,
            "_model_module_version": "1.5.0",
            "box_style": "",
            "children": [
              "IPY_MODEL_8c63fc82a67f476bb6e4130c71ec8e07",
              "IPY_MODEL_7f599423e2ad42b39cb4decaaf869f91",
              "IPY_MODEL_814b3bb52be24ce5b8de74a51db0b9e5"
            ]
          }
        },
        "eb31d3d6fe404fbeab36f0d86dd7d176": {
          "model_module": "@jupyter-widgets/base",
          "model_name": "LayoutModel",
          "model_module_version": "1.2.0",
          "state": {
            "_view_module_version": "1.2.0",
            "_model_name": "LayoutModel",
            "grid_row": null,
            "_model_module": "@jupyter-widgets/base",
            "overflow": null,
            "max_height": null,
            "display": null,
            "grid_auto_flow": null,
            "grid_template_rows": null,
            "align_self": null,
            "grid_auto_columns": null,
            "width": null,
            "grid_area": null,
            "align_items": null,
            "_view_name": "LayoutView",
            "left": null,
            "height": null,
            "_view_module": "@jupyter-widgets/base",
            "object_position": null,
            "justify_content": null,
            "bottom": null,
            "max_width": null,
            "border": null,
            "margin": null,
            "order": null,
            "grid_column": null,
            "grid_auto_rows": null,
            "padding": null,
            "grid_template_columns": null,
            "justify_items": null,
            "object_fit": null,
            "visibility": null,
            "_view_count": null,
            "flex_flow": null,
            "min_height": null,
            "top": null,
            "min_width": null,
            "flex": null,
            "_model_module_version": "1.2.0",
            "grid_template_areas": null,
            "overflow_x": null,
            "right": null,
            "overflow_y": null,
            "grid_gap": null,
            "align_content": null
          }
        },
        "a74811fea4584e9780cd18b2b354ebcc": {
          "model_module": "@jupyter-widgets/controls",
          "model_name": "DescriptionStyleModel",
          "model_module_version": "1.5.0",
          "state": {
            "_model_module": "@jupyter-widgets/controls",
            "_model_module_version": "1.5.0",
            "_model_name": "DescriptionStyleModel",
            "_view_count": null,
            "_view_module": "@jupyter-widgets/base",
            "_view_module_version": "1.2.0",
            "_view_name": "StyleView",
            "description_width": ""
          }
        },
        "f9308117bd0f463199286ab1815a01b0": {
          "model_module": "@jupyter-widgets/controls",
          "model_name": "VBoxModel",
          "model_module_version": "1.5.0",
          "state": {
            "_view_module_version": "1.5.0",
            "_model_name": "VBoxModel",
            "_model_module": "@jupyter-widgets/controls",
            "_view_name": "VBoxView",
            "_view_module": "@jupyter-widgets/controls",
            "_dom_classes": [],
            "layout": "IPY_MODEL_110d2e93238848a3aeedc46778f29af9",
            "_view_count": null,
            "_model_module_version": "1.5.0",
            "box_style": "",
            "children": [
              "IPY_MODEL_a7dcda5371504cb18e1feaf846803759",
              "IPY_MODEL_cce68002e6574a9baaffba13b634e21f",
              "IPY_MODEL_50045a301a3d4f779ad628eadc407047",
              "IPY_MODEL_d937720d9b18489cbf210f5a71bbff22"
            ]
          }
        },
        "c60e9a83954b4d3f968aca03ab8da320": {
          "model_module": "@jupyter-widgets/controls",
          "model_name": "DescriptionStyleModel",
          "model_module_version": "1.5.0",
          "state": {
            "_model_module": "@jupyter-widgets/controls",
            "_model_module_version": "1.5.0",
            "_model_name": "DescriptionStyleModel",
            "_view_count": null,
            "_view_module": "@jupyter-widgets/base",
            "_view_module_version": "1.2.0",
            "_view_name": "StyleView",
            "description_width": ""
          }
        },
        "dfd8671a498e4dcbaef9d730624a5119": {
          "model_module": "@jupyter-widgets/controls",
          "model_name": "DescriptionStyleModel",
          "model_module_version": "1.5.0",
          "state": {
            "_model_module": "@jupyter-widgets/controls",
            "_model_module_version": "1.5.0",
            "_model_name": "DescriptionStyleModel",
            "_view_count": null,
            "_view_module": "@jupyter-widgets/base",
            "_view_module_version": "1.2.0",
            "_view_name": "StyleView",
            "description_width": ""
          }
        },
        "af57957175c84e90bdde778984c0af4f": {
          "model_module": "@jupyter-widgets/controls",
          "model_name": "DescriptionStyleModel",
          "model_module_version": "1.5.0",
          "state": {
            "_model_module": "@jupyter-widgets/controls",
            "_model_module_version": "1.5.0",
            "_model_name": "DescriptionStyleModel",
            "_view_count": null,
            "_view_module": "@jupyter-widgets/base",
            "_view_module_version": "1.2.0",
            "_view_name": "StyleView",
            "description_width": ""
          }
        },
        "7cba08c01f3e435a946b27aa2268cc85": {
          "model_module": "@jupyter-widgets/controls",
          "model_name": "DescriptionStyleModel",
          "model_module_version": "1.5.0",
          "state": {
            "_model_module": "@jupyter-widgets/controls",
            "_model_module_version": "1.5.0",
            "_model_name": "DescriptionStyleModel",
            "_view_count": null,
            "_view_module": "@jupyter-widgets/base",
            "_view_module_version": "1.2.0",
            "_view_name": "StyleView",
            "description_width": ""
          }
        },
        "648761016a5647bcbc08e39db68456ab": {
          "model_module": "@jupyter-widgets/controls",
          "model_name": "HTMLModel",
          "model_module_version": "1.5.0",
          "state": {
            "_view_module_version": "1.5.0",
            "description_tooltip": null,
            "_model_name": "HTMLModel",
            "_model_module": "@jupyter-widgets/controls",
            "_view_name": "HTMLView",
            "_view_module": "@jupyter-widgets/controls",
            "_dom_classes": [],
            "layout": "IPY_MODEL_5bef77c2aa0e4980a278510cc675e3a0",
            "value": "Map: 100%",
            "style": "IPY_MODEL_32600bcf8a0b4394bd72750361680960",
            "placeholder": "​",
            "_view_count": null,
            "_model_module_version": "1.5.0",
            "description": ""
          }
        },
        "5bef77c2aa0e4980a278510cc675e3a0": {
          "model_module": "@jupyter-widgets/base",
          "model_name": "LayoutModel",
          "model_module_version": "1.2.0",
          "state": {
            "_view_module_version": "1.2.0",
            "_model_name": "LayoutModel",
            "grid_row": null,
            "_model_module": "@jupyter-widgets/base",
            "overflow": null,
            "max_height": null,
            "display": null,
            "grid_auto_flow": null,
            "grid_template_rows": null,
            "align_self": null,
            "grid_auto_columns": null,
            "width": null,
            "grid_area": null,
            "align_items": null,
            "_view_name": "LayoutView",
            "left": null,
            "height": null,
            "_view_module": "@jupyter-widgets/base",
            "object_position": null,
            "justify_content": null,
            "bottom": null,
            "max_width": null,
            "border": null,
            "margin": null,
            "order": null,
            "grid_column": null,
            "grid_auto_rows": null,
            "padding": null,
            "grid_template_columns": null,
            "justify_items": null,
            "object_fit": null,
            "visibility": null,
            "_view_count": null,
            "flex_flow": null,
            "min_height": null,
            "top": null,
            "min_width": null,
            "flex": null,
            "_model_module_version": "1.2.0",
            "grid_template_areas": null,
            "overflow_x": null,
            "right": null,
            "overflow_y": null,
            "grid_gap": null,
            "align_content": null
          }
        },
        "e2ecc0c7e9314643b3365a7b0ce2592b": {
          "model_module": "@jupyter-widgets/controls",
          "model_name": "LabelModel",
          "model_module_version": "1.5.0",
          "state": {
            "_view_module_version": "1.5.0",
            "description_tooltip": null,
            "_model_name": "LabelModel",
            "_model_module": "@jupyter-widgets/controls",
            "_view_name": "LabelView",
            "_view_module": "@jupyter-widgets/controls",
            "_dom_classes": [],
            "layout": "IPY_MODEL_57a42939202a4802b8540efd8cc7c21f",
            "value": "Connecting...",
            "style": "IPY_MODEL_dfd8671a498e4dcbaef9d730624a5119",
            "placeholder": "​",
            "_view_count": null,
            "_model_module_version": "1.5.0",
            "description": ""
          }
        },
        "7e479b2bb1ff45e092670c7d3057c69f": {
          "model_module": "@jupyter-widgets/controls",
          "model_name": "HTMLModel",
          "model_module_version": "1.5.0",
          "state": {
            "_view_module_version": "1.5.0",
            "description_tooltip": null,
            "_model_name": "HTMLModel",
            "_model_module": "@jupyter-widgets/controls",
            "_view_name": "HTMLView",
            "_view_module": "@jupyter-widgets/controls",
            "_dom_classes": [],
            "layout": "IPY_MODEL_aceac2336c7c4d478557fa3f8bd3931f",
            "value": " 10037/10037 [00:06&lt;00:00, 1515.99 examples/s]",
            "style": "IPY_MODEL_fe1f3d68703a4d4e8289ca5df513281d",
            "placeholder": "​",
            "_view_count": null,
            "_model_module_version": "1.5.0",
            "description": ""
          }
        }
      }
    },
    "kernel_info": {
      "name": "python38-azureml"
    },
    "language_info": {
      "name": "python",
      "version": "3.8.5",
      "mimetype": "text/x-python",
      "codemirror_mode": {
        "name": "ipython",
        "version": 3
      },
      "pygments_lexer": "ipython3",
      "nbconvert_exporter": "python",
      "file_extension": ".py"
    },
    "kernelspec": {
      "name": "python38-azureml",
      "language": "python",
      "display_name": "Python 3.8 - AzureML"
    },
    "nteract": {
      "version": "nteract-front-end@1.0.0"
    }
  },
  "nbformat": 4,
  "nbformat_minor": 0
}