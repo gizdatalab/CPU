{
  "nbformat": 4,
  "nbformat_minor": 0,
  "metadata": {
    "colab": {
      "provenance": [],
      "toc_visible": true,
      "mount_file_id": "1hFvowo5A0fEl2DxlgJqVdXcQUdGdOpas",
      "authorship_tag": "ABX9TyOB2m/FnyP7DsZFUGFPnj8q",
      "include_colab_link": true
    },
    "kernelspec": {
      "name": "python3",
      "display_name": "Python 3"
    },
    "language_info": {
      "name": "python"
    },
    "widgets": {
      "application/vnd.jupyter.widget-state+json": {
        "318fb6082cdf4aee83d4b4f87116e3a8": {
          "model_module": "@jupyter-widgets/controls",
          "model_name": "VBoxModel",
          "model_module_version": "1.5.0",
          "state": {
            "_dom_classes": [],
            "_model_module": "@jupyter-widgets/controls",
            "_model_module_version": "1.5.0",
            "_model_name": "VBoxModel",
            "_view_count": null,
            "_view_module": "@jupyter-widgets/controls",
            "_view_module_version": "1.5.0",
            "_view_name": "VBoxView",
            "box_style": "",
            "children": [
              "IPY_MODEL_d9aa18bf8422434cb85b8afe28cce186",
              "IPY_MODEL_709b8e84f976424fb6fb14517e90efaa",
              "IPY_MODEL_42070e81d8254e5fb92a58646586648e",
              "IPY_MODEL_b2fe1c587b6242ac99b6535697c6108a"
            ],
            "layout": "IPY_MODEL_652e3bd61e0245839ea8df62f2f80993"
          }
        },
        "74ed4e61d45244caac453694236b653f": {
          "model_module": "@jupyter-widgets/controls",
          "model_name": "HTMLModel",
          "model_module_version": "1.5.0",
          "state": {
            "_dom_classes": [],
            "_model_module": "@jupyter-widgets/controls",
            "_model_module_version": "1.5.0",
            "_model_name": "HTMLModel",
            "_view_count": null,
            "_view_module": "@jupyter-widgets/controls",
            "_view_module_version": "1.5.0",
            "_view_name": "HTMLView",
            "description": "",
            "description_tooltip": null,
            "layout": "IPY_MODEL_50507d3313374cd29834d9dde67490fa",
            "placeholder": "​",
            "style": "IPY_MODEL_8de77405da604ed99f14d9cdf8b9ef9f",
            "value": "<center> <img\nsrc=https://huggingface.co/front/assets/huggingface_logo-noborder.svg\nalt='Hugging Face'> <br> Copy a token from <a\nhref=\"https://huggingface.co/settings/tokens\" target=\"_blank\">your Hugging Face\ntokens page</a> and paste it below. <br> Immediately click login after copying\nyour token or it might be stored in plain text in this notebook file. </center>"
          }
        },
        "39adefd6be9140fd9c683b8c22e8a628": {
          "model_module": "@jupyter-widgets/controls",
          "model_name": "PasswordModel",
          "model_module_version": "1.5.0",
          "state": {
            "_dom_classes": [],
            "_model_module": "@jupyter-widgets/controls",
            "_model_module_version": "1.5.0",
            "_model_name": "PasswordModel",
            "_view_count": null,
            "_view_module": "@jupyter-widgets/controls",
            "_view_module_version": "1.5.0",
            "_view_name": "PasswordView",
            "continuous_update": true,
            "description": "Token:",
            "description_tooltip": null,
            "disabled": false,
            "layout": "IPY_MODEL_25b67a1387f34df9beb2aaa8916290e1",
            "placeholder": "​",
            "style": "IPY_MODEL_2f26ea15c2e4434aa07ef5d64317915e",
            "value": ""
          }
        },
        "070da1dea3e84af29e4546f19c1d812a": {
          "model_module": "@jupyter-widgets/controls",
          "model_name": "CheckboxModel",
          "model_module_version": "1.5.0",
          "state": {
            "_dom_classes": [],
            "_model_module": "@jupyter-widgets/controls",
            "_model_module_version": "1.5.0",
            "_model_name": "CheckboxModel",
            "_view_count": null,
            "_view_module": "@jupyter-widgets/controls",
            "_view_module_version": "1.5.0",
            "_view_name": "CheckboxView",
            "description": "Add token as git credential?",
            "description_tooltip": null,
            "disabled": false,
            "indent": true,
            "layout": "IPY_MODEL_8dd4fc79ee584d70b88d2efbf75f8f79",
            "style": "IPY_MODEL_67c105ed8d8944d4a3f05297250f5e98",
            "value": true
          }
        },
        "a2e431a58ee043b1a74267a98918d0e1": {
          "model_module": "@jupyter-widgets/controls",
          "model_name": "ButtonModel",
          "model_module_version": "1.5.0",
          "state": {
            "_dom_classes": [],
            "_model_module": "@jupyter-widgets/controls",
            "_model_module_version": "1.5.0",
            "_model_name": "ButtonModel",
            "_view_count": null,
            "_view_module": "@jupyter-widgets/controls",
            "_view_module_version": "1.5.0",
            "_view_name": "ButtonView",
            "button_style": "",
            "description": "Login",
            "disabled": false,
            "icon": "",
            "layout": "IPY_MODEL_37f0eba288134c02b266624cfa607ea4",
            "style": "IPY_MODEL_6573a81a9d2340fd917a45a2a352e50c",
            "tooltip": ""
          }
        },
        "1d0e40d7a7aa4948b17c6e1d8d89f71e": {
          "model_module": "@jupyter-widgets/controls",
          "model_name": "HTMLModel",
          "model_module_version": "1.5.0",
          "state": {
            "_dom_classes": [],
            "_model_module": "@jupyter-widgets/controls",
            "_model_module_version": "1.5.0",
            "_model_name": "HTMLModel",
            "_view_count": null,
            "_view_module": "@jupyter-widgets/controls",
            "_view_module_version": "1.5.0",
            "_view_name": "HTMLView",
            "description": "",
            "description_tooltip": null,
            "layout": "IPY_MODEL_07ade1c795f448219768c3f7994366e0",
            "placeholder": "​",
            "style": "IPY_MODEL_2f403f8e8c50493db2201db6d24cd433",
            "value": "\n<b>Pro Tip:</b> If you don't already have one, you can create a dedicated\n'notebooks' token with 'write' access, that you can then easily reuse for all\nnotebooks. </center>"
          }
        },
        "652e3bd61e0245839ea8df62f2f80993": {
          "model_module": "@jupyter-widgets/base",
          "model_name": "LayoutModel",
          "model_module_version": "1.2.0",
          "state": {
            "_model_module": "@jupyter-widgets/base",
            "_model_module_version": "1.2.0",
            "_model_name": "LayoutModel",
            "_view_count": null,
            "_view_module": "@jupyter-widgets/base",
            "_view_module_version": "1.2.0",
            "_view_name": "LayoutView",
            "align_content": null,
            "align_items": "center",
            "align_self": null,
            "border": null,
            "bottom": null,
            "display": "flex",
            "flex": null,
            "flex_flow": "column",
            "grid_area": null,
            "grid_auto_columns": null,
            "grid_auto_flow": null,
            "grid_auto_rows": null,
            "grid_column": null,
            "grid_gap": null,
            "grid_row": null,
            "grid_template_areas": null,
            "grid_template_columns": null,
            "grid_template_rows": null,
            "height": null,
            "justify_content": null,
            "justify_items": null,
            "left": null,
            "margin": null,
            "max_height": null,
            "max_width": null,
            "min_height": null,
            "min_width": null,
            "object_fit": null,
            "object_position": null,
            "order": null,
            "overflow": null,
            "overflow_x": null,
            "overflow_y": null,
            "padding": null,
            "right": null,
            "top": null,
            "visibility": null,
            "width": "50%"
          }
        },
        "50507d3313374cd29834d9dde67490fa": {
          "model_module": "@jupyter-widgets/base",
          "model_name": "LayoutModel",
          "model_module_version": "1.2.0",
          "state": {
            "_model_module": "@jupyter-widgets/base",
            "_model_module_version": "1.2.0",
            "_model_name": "LayoutModel",
            "_view_count": null,
            "_view_module": "@jupyter-widgets/base",
            "_view_module_version": "1.2.0",
            "_view_name": "LayoutView",
            "align_content": null,
            "align_items": null,
            "align_self": null,
            "border": null,
            "bottom": null,
            "display": null,
            "flex": null,
            "flex_flow": null,
            "grid_area": null,
            "grid_auto_columns": null,
            "grid_auto_flow": null,
            "grid_auto_rows": null,
            "grid_column": null,
            "grid_gap": null,
            "grid_row": null,
            "grid_template_areas": null,
            "grid_template_columns": null,
            "grid_template_rows": null,
            "height": null,
            "justify_content": null,
            "justify_items": null,
            "left": null,
            "margin": null,
            "max_height": null,
            "max_width": null,
            "min_height": null,
            "min_width": null,
            "object_fit": null,
            "object_position": null,
            "order": null,
            "overflow": null,
            "overflow_x": null,
            "overflow_y": null,
            "padding": null,
            "right": null,
            "top": null,
            "visibility": null,
            "width": null
          }
        },
        "8de77405da604ed99f14d9cdf8b9ef9f": {
          "model_module": "@jupyter-widgets/controls",
          "model_name": "DescriptionStyleModel",
          "model_module_version": "1.5.0",
          "state": {
            "_model_module": "@jupyter-widgets/controls",
            "_model_module_version": "1.5.0",
            "_model_name": "DescriptionStyleModel",
            "_view_count": null,
            "_view_module": "@jupyter-widgets/base",
            "_view_module_version": "1.2.0",
            "_view_name": "StyleView",
            "description_width": ""
          }
        },
        "25b67a1387f34df9beb2aaa8916290e1": {
          "model_module": "@jupyter-widgets/base",
          "model_name": "LayoutModel",
          "model_module_version": "1.2.0",
          "state": {
            "_model_module": "@jupyter-widgets/base",
            "_model_module_version": "1.2.0",
            "_model_name": "LayoutModel",
            "_view_count": null,
            "_view_module": "@jupyter-widgets/base",
            "_view_module_version": "1.2.0",
            "_view_name": "LayoutView",
            "align_content": null,
            "align_items": null,
            "align_self": null,
            "border": null,
            "bottom": null,
            "display": null,
            "flex": null,
            "flex_flow": null,
            "grid_area": null,
            "grid_auto_columns": null,
            "grid_auto_flow": null,
            "grid_auto_rows": null,
            "grid_column": null,
            "grid_gap": null,
            "grid_row": null,
            "grid_template_areas": null,
            "grid_template_columns": null,
            "grid_template_rows": null,
            "height": null,
            "justify_content": null,
            "justify_items": null,
            "left": null,
            "margin": null,
            "max_height": null,
            "max_width": null,
            "min_height": null,
            "min_width": null,
            "object_fit": null,
            "object_position": null,
            "order": null,
            "overflow": null,
            "overflow_x": null,
            "overflow_y": null,
            "padding": null,
            "right": null,
            "top": null,
            "visibility": null,
            "width": null
          }
        },
        "2f26ea15c2e4434aa07ef5d64317915e": {
          "model_module": "@jupyter-widgets/controls",
          "model_name": "DescriptionStyleModel",
          "model_module_version": "1.5.0",
          "state": {
            "_model_module": "@jupyter-widgets/controls",
            "_model_module_version": "1.5.0",
            "_model_name": "DescriptionStyleModel",
            "_view_count": null,
            "_view_module": "@jupyter-widgets/base",
            "_view_module_version": "1.2.0",
            "_view_name": "StyleView",
            "description_width": ""
          }
        },
        "8dd4fc79ee584d70b88d2efbf75f8f79": {
          "model_module": "@jupyter-widgets/base",
          "model_name": "LayoutModel",
          "model_module_version": "1.2.0",
          "state": {
            "_model_module": "@jupyter-widgets/base",
            "_model_module_version": "1.2.0",
            "_model_name": "LayoutModel",
            "_view_count": null,
            "_view_module": "@jupyter-widgets/base",
            "_view_module_version": "1.2.0",
            "_view_name": "LayoutView",
            "align_content": null,
            "align_items": null,
            "align_self": null,
            "border": null,
            "bottom": null,
            "display": null,
            "flex": null,
            "flex_flow": null,
            "grid_area": null,
            "grid_auto_columns": null,
            "grid_auto_flow": null,
            "grid_auto_rows": null,
            "grid_column": null,
            "grid_gap": null,
            "grid_row": null,
            "grid_template_areas": null,
            "grid_template_columns": null,
            "grid_template_rows": null,
            "height": null,
            "justify_content": null,
            "justify_items": null,
            "left": null,
            "margin": null,
            "max_height": null,
            "max_width": null,
            "min_height": null,
            "min_width": null,
            "object_fit": null,
            "object_position": null,
            "order": null,
            "overflow": null,
            "overflow_x": null,
            "overflow_y": null,
            "padding": null,
            "right": null,
            "top": null,
            "visibility": null,
            "width": null
          }
        },
        "67c105ed8d8944d4a3f05297250f5e98": {
          "model_module": "@jupyter-widgets/controls",
          "model_name": "DescriptionStyleModel",
          "model_module_version": "1.5.0",
          "state": {
            "_model_module": "@jupyter-widgets/controls",
            "_model_module_version": "1.5.0",
            "_model_name": "DescriptionStyleModel",
            "_view_count": null,
            "_view_module": "@jupyter-widgets/base",
            "_view_module_version": "1.2.0",
            "_view_name": "StyleView",
            "description_width": ""
          }
        },
        "37f0eba288134c02b266624cfa607ea4": {
          "model_module": "@jupyter-widgets/base",
          "model_name": "LayoutModel",
          "model_module_version": "1.2.0",
          "state": {
            "_model_module": "@jupyter-widgets/base",
            "_model_module_version": "1.2.0",
            "_model_name": "LayoutModel",
            "_view_count": null,
            "_view_module": "@jupyter-widgets/base",
            "_view_module_version": "1.2.0",
            "_view_name": "LayoutView",
            "align_content": null,
            "align_items": null,
            "align_self": null,
            "border": null,
            "bottom": null,
            "display": null,
            "flex": null,
            "flex_flow": null,
            "grid_area": null,
            "grid_auto_columns": null,
            "grid_auto_flow": null,
            "grid_auto_rows": null,
            "grid_column": null,
            "grid_gap": null,
            "grid_row": null,
            "grid_template_areas": null,
            "grid_template_columns": null,
            "grid_template_rows": null,
            "height": null,
            "justify_content": null,
            "justify_items": null,
            "left": null,
            "margin": null,
            "max_height": null,
            "max_width": null,
            "min_height": null,
            "min_width": null,
            "object_fit": null,
            "object_position": null,
            "order": null,
            "overflow": null,
            "overflow_x": null,
            "overflow_y": null,
            "padding": null,
            "right": null,
            "top": null,
            "visibility": null,
            "width": null
          }
        },
        "6573a81a9d2340fd917a45a2a352e50c": {
          "model_module": "@jupyter-widgets/controls",
          "model_name": "ButtonStyleModel",
          "model_module_version": "1.5.0",
          "state": {
            "_model_module": "@jupyter-widgets/controls",
            "_model_module_version": "1.5.0",
            "_model_name": "ButtonStyleModel",
            "_view_count": null,
            "_view_module": "@jupyter-widgets/base",
            "_view_module_version": "1.2.0",
            "_view_name": "StyleView",
            "button_color": null,
            "font_weight": ""
          }
        },
        "07ade1c795f448219768c3f7994366e0": {
          "model_module": "@jupyter-widgets/base",
          "model_name": "LayoutModel",
          "model_module_version": "1.2.0",
          "state": {
            "_model_module": "@jupyter-widgets/base",
            "_model_module_version": "1.2.0",
            "_model_name": "LayoutModel",
            "_view_count": null,
            "_view_module": "@jupyter-widgets/base",
            "_view_module_version": "1.2.0",
            "_view_name": "LayoutView",
            "align_content": null,
            "align_items": null,
            "align_self": null,
            "border": null,
            "bottom": null,
            "display": null,
            "flex": null,
            "flex_flow": null,
            "grid_area": null,
            "grid_auto_columns": null,
            "grid_auto_flow": null,
            "grid_auto_rows": null,
            "grid_column": null,
            "grid_gap": null,
            "grid_row": null,
            "grid_template_areas": null,
            "grid_template_columns": null,
            "grid_template_rows": null,
            "height": null,
            "justify_content": null,
            "justify_items": null,
            "left": null,
            "margin": null,
            "max_height": null,
            "max_width": null,
            "min_height": null,
            "min_width": null,
            "object_fit": null,
            "object_position": null,
            "order": null,
            "overflow": null,
            "overflow_x": null,
            "overflow_y": null,
            "padding": null,
            "right": null,
            "top": null,
            "visibility": null,
            "width": null
          }
        },
        "2f403f8e8c50493db2201db6d24cd433": {
          "model_module": "@jupyter-widgets/controls",
          "model_name": "DescriptionStyleModel",
          "model_module_version": "1.5.0",
          "state": {
            "_model_module": "@jupyter-widgets/controls",
            "_model_module_version": "1.5.0",
            "_model_name": "DescriptionStyleModel",
            "_view_count": null,
            "_view_module": "@jupyter-widgets/base",
            "_view_module_version": "1.2.0",
            "_view_name": "StyleView",
            "description_width": ""
          }
        },
        "71f3e9a40e3f425caed06fce25f3ff54": {
          "model_module": "@jupyter-widgets/controls",
          "model_name": "LabelModel",
          "model_module_version": "1.5.0",
          "state": {
            "_dom_classes": [],
            "_model_module": "@jupyter-widgets/controls",
            "_model_module_version": "1.5.0",
            "_model_name": "LabelModel",
            "_view_count": null,
            "_view_module": "@jupyter-widgets/controls",
            "_view_module_version": "1.5.0",
            "_view_name": "LabelView",
            "description": "",
            "description_tooltip": null,
            "layout": "IPY_MODEL_d4bc69cf417f4b8f99664924ddbce233",
            "placeholder": "​",
            "style": "IPY_MODEL_4f0c8834b6f8494d9cb6028c144e0b2d",
            "value": "Connecting..."
          }
        },
        "d4bc69cf417f4b8f99664924ddbce233": {
          "model_module": "@jupyter-widgets/base",
          "model_name": "LayoutModel",
          "model_module_version": "1.2.0",
          "state": {
            "_model_module": "@jupyter-widgets/base",
            "_model_module_version": "1.2.0",
            "_model_name": "LayoutModel",
            "_view_count": null,
            "_view_module": "@jupyter-widgets/base",
            "_view_module_version": "1.2.0",
            "_view_name": "LayoutView",
            "align_content": null,
            "align_items": null,
            "align_self": null,
            "border": null,
            "bottom": null,
            "display": null,
            "flex": null,
            "flex_flow": null,
            "grid_area": null,
            "grid_auto_columns": null,
            "grid_auto_flow": null,
            "grid_auto_rows": null,
            "grid_column": null,
            "grid_gap": null,
            "grid_row": null,
            "grid_template_areas": null,
            "grid_template_columns": null,
            "grid_template_rows": null,
            "height": null,
            "justify_content": null,
            "justify_items": null,
            "left": null,
            "margin": null,
            "max_height": null,
            "max_width": null,
            "min_height": null,
            "min_width": null,
            "object_fit": null,
            "object_position": null,
            "order": null,
            "overflow": null,
            "overflow_x": null,
            "overflow_y": null,
            "padding": null,
            "right": null,
            "top": null,
            "visibility": null,
            "width": null
          }
        },
        "4f0c8834b6f8494d9cb6028c144e0b2d": {
          "model_module": "@jupyter-widgets/controls",
          "model_name": "DescriptionStyleModel",
          "model_module_version": "1.5.0",
          "state": {
            "_model_module": "@jupyter-widgets/controls",
            "_model_module_version": "1.5.0",
            "_model_name": "DescriptionStyleModel",
            "_view_count": null,
            "_view_module": "@jupyter-widgets/base",
            "_view_module_version": "1.2.0",
            "_view_name": "StyleView",
            "description_width": ""
          }
        },
        "d9aa18bf8422434cb85b8afe28cce186": {
          "model_module": "@jupyter-widgets/controls",
          "model_name": "LabelModel",
          "model_module_version": "1.5.0",
          "state": {
            "_dom_classes": [],
            "_model_module": "@jupyter-widgets/controls",
            "_model_module_version": "1.5.0",
            "_model_name": "LabelModel",
            "_view_count": null,
            "_view_module": "@jupyter-widgets/controls",
            "_view_module_version": "1.5.0",
            "_view_name": "LabelView",
            "description": "",
            "description_tooltip": null,
            "layout": "IPY_MODEL_848756f02ea7424cb963fd97f2b377d4",
            "placeholder": "​",
            "style": "IPY_MODEL_5dc8329c8c28481d971a31014ff4359e",
            "value": "Token is valid (permission: write)."
          }
        },
        "709b8e84f976424fb6fb14517e90efaa": {
          "model_module": "@jupyter-widgets/controls",
          "model_name": "LabelModel",
          "model_module_version": "1.5.0",
          "state": {
            "_dom_classes": [],
            "_model_module": "@jupyter-widgets/controls",
            "_model_module_version": "1.5.0",
            "_model_name": "LabelModel",
            "_view_count": null,
            "_view_module": "@jupyter-widgets/controls",
            "_view_module_version": "1.5.0",
            "_view_name": "LabelView",
            "description": "",
            "description_tooltip": null,
            "layout": "IPY_MODEL_d60034c560b447eabe9d97c845f72394",
            "placeholder": "​",
            "style": "IPY_MODEL_b0513cb839a34e44a2744307bee96d79",
            "value": "Your token has been saved in your configured git credential helpers (store)."
          }
        },
        "42070e81d8254e5fb92a58646586648e": {
          "model_module": "@jupyter-widgets/controls",
          "model_name": "LabelModel",
          "model_module_version": "1.5.0",
          "state": {
            "_dom_classes": [],
            "_model_module": "@jupyter-widgets/controls",
            "_model_module_version": "1.5.0",
            "_model_name": "LabelModel",
            "_view_count": null,
            "_view_module": "@jupyter-widgets/controls",
            "_view_module_version": "1.5.0",
            "_view_name": "LabelView",
            "description": "",
            "description_tooltip": null,
            "layout": "IPY_MODEL_5604975bf7ed4cee93a7186e10b6fe6f",
            "placeholder": "​",
            "style": "IPY_MODEL_99332721e88b406fa36b3d7cc61bb936",
            "value": "Your token has been saved to /root/.cache/huggingface/token"
          }
        },
        "b2fe1c587b6242ac99b6535697c6108a": {
          "model_module": "@jupyter-widgets/controls",
          "model_name": "LabelModel",
          "model_module_version": "1.5.0",
          "state": {
            "_dom_classes": [],
            "_model_module": "@jupyter-widgets/controls",
            "_model_module_version": "1.5.0",
            "_model_name": "LabelModel",
            "_view_count": null,
            "_view_module": "@jupyter-widgets/controls",
            "_view_module_version": "1.5.0",
            "_view_name": "LabelView",
            "description": "",
            "description_tooltip": null,
            "layout": "IPY_MODEL_aa32192950f44d389ab6bb4cfda7214c",
            "placeholder": "​",
            "style": "IPY_MODEL_1e52bb50a3d7464197ed99ad8b4f5e5c",
            "value": "Login successful"
          }
        },
        "848756f02ea7424cb963fd97f2b377d4": {
          "model_module": "@jupyter-widgets/base",
          "model_name": "LayoutModel",
          "model_module_version": "1.2.0",
          "state": {
            "_model_module": "@jupyter-widgets/base",
            "_model_module_version": "1.2.0",
            "_model_name": "LayoutModel",
            "_view_count": null,
            "_view_module": "@jupyter-widgets/base",
            "_view_module_version": "1.2.0",
            "_view_name": "LayoutView",
            "align_content": null,
            "align_items": null,
            "align_self": null,
            "border": null,
            "bottom": null,
            "display": null,
            "flex": null,
            "flex_flow": null,
            "grid_area": null,
            "grid_auto_columns": null,
            "grid_auto_flow": null,
            "grid_auto_rows": null,
            "grid_column": null,
            "grid_gap": null,
            "grid_row": null,
            "grid_template_areas": null,
            "grid_template_columns": null,
            "grid_template_rows": null,
            "height": null,
            "justify_content": null,
            "justify_items": null,
            "left": null,
            "margin": null,
            "max_height": null,
            "max_width": null,
            "min_height": null,
            "min_width": null,
            "object_fit": null,
            "object_position": null,
            "order": null,
            "overflow": null,
            "overflow_x": null,
            "overflow_y": null,
            "padding": null,
            "right": null,
            "top": null,
            "visibility": null,
            "width": null
          }
        },
        "5dc8329c8c28481d971a31014ff4359e": {
          "model_module": "@jupyter-widgets/controls",
          "model_name": "DescriptionStyleModel",
          "model_module_version": "1.5.0",
          "state": {
            "_model_module": "@jupyter-widgets/controls",
            "_model_module_version": "1.5.0",
            "_model_name": "DescriptionStyleModel",
            "_view_count": null,
            "_view_module": "@jupyter-widgets/base",
            "_view_module_version": "1.2.0",
            "_view_name": "StyleView",
            "description_width": ""
          }
        },
        "d60034c560b447eabe9d97c845f72394": {
          "model_module": "@jupyter-widgets/base",
          "model_name": "LayoutModel",
          "model_module_version": "1.2.0",
          "state": {
            "_model_module": "@jupyter-widgets/base",
            "_model_module_version": "1.2.0",
            "_model_name": "LayoutModel",
            "_view_count": null,
            "_view_module": "@jupyter-widgets/base",
            "_view_module_version": "1.2.0",
            "_view_name": "LayoutView",
            "align_content": null,
            "align_items": null,
            "align_self": null,
            "border": null,
            "bottom": null,
            "display": null,
            "flex": null,
            "flex_flow": null,
            "grid_area": null,
            "grid_auto_columns": null,
            "grid_auto_flow": null,
            "grid_auto_rows": null,
            "grid_column": null,
            "grid_gap": null,
            "grid_row": null,
            "grid_template_areas": null,
            "grid_template_columns": null,
            "grid_template_rows": null,
            "height": null,
            "justify_content": null,
            "justify_items": null,
            "left": null,
            "margin": null,
            "max_height": null,
            "max_width": null,
            "min_height": null,
            "min_width": null,
            "object_fit": null,
            "object_position": null,
            "order": null,
            "overflow": null,
            "overflow_x": null,
            "overflow_y": null,
            "padding": null,
            "right": null,
            "top": null,
            "visibility": null,
            "width": null
          }
        },
        "b0513cb839a34e44a2744307bee96d79": {
          "model_module": "@jupyter-widgets/controls",
          "model_name": "DescriptionStyleModel",
          "model_module_version": "1.5.0",
          "state": {
            "_model_module": "@jupyter-widgets/controls",
            "_model_module_version": "1.5.0",
            "_model_name": "DescriptionStyleModel",
            "_view_count": null,
            "_view_module": "@jupyter-widgets/base",
            "_view_module_version": "1.2.0",
            "_view_name": "StyleView",
            "description_width": ""
          }
        },
        "5604975bf7ed4cee93a7186e10b6fe6f": {
          "model_module": "@jupyter-widgets/base",
          "model_name": "LayoutModel",
          "model_module_version": "1.2.0",
          "state": {
            "_model_module": "@jupyter-widgets/base",
            "_model_module_version": "1.2.0",
            "_model_name": "LayoutModel",
            "_view_count": null,
            "_view_module": "@jupyter-widgets/base",
            "_view_module_version": "1.2.0",
            "_view_name": "LayoutView",
            "align_content": null,
            "align_items": null,
            "align_self": null,
            "border": null,
            "bottom": null,
            "display": null,
            "flex": null,
            "flex_flow": null,
            "grid_area": null,
            "grid_auto_columns": null,
            "grid_auto_flow": null,
            "grid_auto_rows": null,
            "grid_column": null,
            "grid_gap": null,
            "grid_row": null,
            "grid_template_areas": null,
            "grid_template_columns": null,
            "grid_template_rows": null,
            "height": null,
            "justify_content": null,
            "justify_items": null,
            "left": null,
            "margin": null,
            "max_height": null,
            "max_width": null,
            "min_height": null,
            "min_width": null,
            "object_fit": null,
            "object_position": null,
            "order": null,
            "overflow": null,
            "overflow_x": null,
            "overflow_y": null,
            "padding": null,
            "right": null,
            "top": null,
            "visibility": null,
            "width": null
          }
        },
        "99332721e88b406fa36b3d7cc61bb936": {
          "model_module": "@jupyter-widgets/controls",
          "model_name": "DescriptionStyleModel",
          "model_module_version": "1.5.0",
          "state": {
            "_model_module": "@jupyter-widgets/controls",
            "_model_module_version": "1.5.0",
            "_model_name": "DescriptionStyleModel",
            "_view_count": null,
            "_view_module": "@jupyter-widgets/base",
            "_view_module_version": "1.2.0",
            "_view_name": "StyleView",
            "description_width": ""
          }
        },
        "aa32192950f44d389ab6bb4cfda7214c": {
          "model_module": "@jupyter-widgets/base",
          "model_name": "LayoutModel",
          "model_module_version": "1.2.0",
          "state": {
            "_model_module": "@jupyter-widgets/base",
            "_model_module_version": "1.2.0",
            "_model_name": "LayoutModel",
            "_view_count": null,
            "_view_module": "@jupyter-widgets/base",
            "_view_module_version": "1.2.0",
            "_view_name": "LayoutView",
            "align_content": null,
            "align_items": null,
            "align_self": null,
            "border": null,
            "bottom": null,
            "display": null,
            "flex": null,
            "flex_flow": null,
            "grid_area": null,
            "grid_auto_columns": null,
            "grid_auto_flow": null,
            "grid_auto_rows": null,
            "grid_column": null,
            "grid_gap": null,
            "grid_row": null,
            "grid_template_areas": null,
            "grid_template_columns": null,
            "grid_template_rows": null,
            "height": null,
            "justify_content": null,
            "justify_items": null,
            "left": null,
            "margin": null,
            "max_height": null,
            "max_width": null,
            "min_height": null,
            "min_width": null,
            "object_fit": null,
            "object_position": null,
            "order": null,
            "overflow": null,
            "overflow_x": null,
            "overflow_y": null,
            "padding": null,
            "right": null,
            "top": null,
            "visibility": null,
            "width": null
          }
        },
        "1e52bb50a3d7464197ed99ad8b4f5e5c": {
          "model_module": "@jupyter-widgets/controls",
          "model_name": "DescriptionStyleModel",
          "model_module_version": "1.5.0",
          "state": {
            "_model_module": "@jupyter-widgets/controls",
            "_model_module_version": "1.5.0",
            "_model_name": "DescriptionStyleModel",
            "_view_count": null,
            "_view_module": "@jupyter-widgets/base",
            "_view_module_version": "1.2.0",
            "_view_name": "StyleView",
            "description_width": ""
          }
        }
      }
    }
  },
  "cells": [
    {
      "cell_type": "markdown",
      "metadata": {
        "id": "view-in-github",
        "colab_type": "text"
      },
      "source": [
        "<a href=\"https://colab.research.google.com/github/gizdatalab/CPU/blob/main/dataset/Step6/CWIKI_Dataset_Stats.ipynb\" target=\"_parent\"><img src=\"https://colab.research.google.com/assets/colab-badge.svg\" alt=\"Open In Colab\"/></a>"
      ]
    },
    {
      "cell_type": "markdown",
      "source": [
        "In this notebook we will update the, Published dataset for Subtargets: NetzeroLabel, GHGLabel, NonGHGLabel with Annotated datasets. Finally we will look at statistics of data at Classifiers(classifiers are developed in multilabel framework with some hierarchy)"
      ],
      "metadata": {
        "id": "31cNsOWb9wly"
      }
    },
    {
      "cell_type": "code",
      "source": [
        "! pip install datasets huggingface_hub"
      ],
      "metadata": {
        "id": "On3SfOYs_aRe"
      },
      "execution_count": null,
      "outputs": []
    },
    {
      "cell_type": "code",
      "source": [
        "from huggingface_hub import notebook_login\n",
        "notebook_login()"
      ],
      "metadata": {
        "colab": {
          "base_uri": "https://localhost:8080/",
          "height": 145,
          "referenced_widgets": [
            "318fb6082cdf4aee83d4b4f87116e3a8",
            "74ed4e61d45244caac453694236b653f",
            "39adefd6be9140fd9c683b8c22e8a628",
            "070da1dea3e84af29e4546f19c1d812a",
            "a2e431a58ee043b1a74267a98918d0e1",
            "1d0e40d7a7aa4948b17c6e1d8d89f71e",
            "652e3bd61e0245839ea8df62f2f80993",
            "50507d3313374cd29834d9dde67490fa",
            "8de77405da604ed99f14d9cdf8b9ef9f",
            "25b67a1387f34df9beb2aaa8916290e1",
            "2f26ea15c2e4434aa07ef5d64317915e",
            "8dd4fc79ee584d70b88d2efbf75f8f79",
            "67c105ed8d8944d4a3f05297250f5e98",
            "37f0eba288134c02b266624cfa607ea4",
            "6573a81a9d2340fd917a45a2a352e50c",
            "07ade1c795f448219768c3f7994366e0",
            "2f403f8e8c50493db2201db6d24cd433",
            "71f3e9a40e3f425caed06fce25f3ff54",
            "d4bc69cf417f4b8f99664924ddbce233",
            "4f0c8834b6f8494d9cb6028c144e0b2d",
            "d9aa18bf8422434cb85b8afe28cce186",
            "709b8e84f976424fb6fb14517e90efaa",
            "42070e81d8254e5fb92a58646586648e",
            "b2fe1c587b6242ac99b6535697c6108a",
            "848756f02ea7424cb963fd97f2b377d4",
            "5dc8329c8c28481d971a31014ff4359e",
            "d60034c560b447eabe9d97c845f72394",
            "b0513cb839a34e44a2744307bee96d79",
            "5604975bf7ed4cee93a7186e10b6fe6f",
            "99332721e88b406fa36b3d7cc61bb936",
            "aa32192950f44d389ab6bb4cfda7214c",
            "1e52bb50a3d7464197ed99ad8b4f5e5c"
          ]
        },
        "id": "LLxtctJD_eQT",
        "outputId": "928dc551-ec61-4e37-d133-21daa5cd47e4"
      },
      "execution_count": null,
      "outputs": [
        {
          "output_type": "display_data",
          "data": {
            "text/plain": [
              "VBox(children=(HTML(value='<center> <img\\nsrc=https://huggingface.co/front/assets/huggingface_logo-noborder.sv…"
            ],
            "application/vnd.jupyter.widget-view+json": {
              "version_major": 2,
              "version_minor": 0,
              "model_id": "318fb6082cdf4aee83d4b4f87116e3a8"
            }
          },
          "metadata": {}
        }
      ]
    },
    {
      "cell_type": "code",
      "source": [
        "from datasets import load_dataset\n",
        "import datasets\n",
        "import numpy as np\n",
        "import pandas as pd"
      ],
      "metadata": {
        "id": "3lcv6TSY_wfG"
      },
      "execution_count": null,
      "outputs": []
    },
    {
      "cell_type": "markdown",
      "source": [
        "# Load and Update Data"
      ],
      "metadata": {
        "id": "TpqDeboJdf-J"
      }
    },
    {
      "cell_type": "code",
      "source": [
        "# repo_id = \"GIZ/policy_classification\"\n",
        "# data_files={\"train\": \"policy_classification_train.json\",\n",
        "#                                            \"test\": \"policy_classification_test.json\"}\n",
        "# dataset = load_dataset(repo_id, data_files=data_files,\n",
        "#                                           token=True)"
      ],
      "metadata": {
        "id": "_UC06HGY9vk0"
      },
      "execution_count": null,
      "outputs": []
    },
    {
      "cell_type": "code",
      "source": [
        "import json\n",
        "path_to_folder = '/content/drive/MyDrive/Colab Notebooks/CPU/dataset/Step5/output/'\n",
        "data = pd.read_json(path_to_folder + 'policy_classification.json')"
      ],
      "metadata": {
        "id": "58cY3HGJmiZ8"
      },
      "execution_count": null,
      "outputs": []
    },
    {
      "cell_type": "code",
      "source": [
        "# method to get the count of each Label Category, revealing how many\n",
        "# True, False and None category we have\n",
        "def boolvalidate(data, col):\n",
        "    print('Total count', len(data))\n",
        "    print('{} count'.format(col), sum(data[col] == True),\n",
        "          'Non {} count'.format(col), sum(data[col]==False))\n",
        "    print('Missig values', sum(data[col].isna()))\n",
        "\n",
        "def check_bool_unique(df):\n",
        "    # sometimes when saving the dataframe as json, since Label can have True, False\n",
        "    # and None, the boolean values get imputed with True >> 1.0 and False >> 0.0\n",
        "    label_col = list(df.columns)\n",
        "    label_col = list(filter(lambda x: 'Label' in x, label_col))\n",
        "    label_col = list(set(label_col) - {'SectorLabel','SubSectorLabel'})\n",
        "    for label in label_col:\n",
        "        print(label,df[label].unique())"
      ],
      "metadata": {
        "id": "Fjr9EHnWBtTV"
      },
      "execution_count": null,
      "outputs": []
    },
    {
      "cell_type": "code",
      "source": [
        "def prepare_multilabel_df(df, cols):\n",
        "    \"\"\"\n",
        "    Takes the dataframe and list of columns which need to combined into\n",
        "    One-hot-encoded labels.\n",
        "\n",
        "    \"\"\"\n",
        "    df = df.copy()\n",
        "    df.dropna(subset = cols, inplace=True)\n",
        "    df = df.reset_index(drop=True)\n",
        "    df['labels'] = df.apply(lambda x: [int(x[label]) for label in cols],axis=1)\n",
        "    # we have multilingual dataset ('en', 'fr','es'), in case of non-english the\n",
        "    # translated Context is udner the column 'TranslatedContext'. We impute these\n",
        "    # back into 'context' to work with only English dataset.\n",
        "    df['Context'] = df.apply(lambda x: x['Context'] if x['Language'] == 'en'\n",
        "                                    else x['TranslatedContext'][0],axis=1)\n",
        "    df.rename(columns = {'Context':'text'}, inplace=True)\n",
        "\n",
        "    df = df[['text','labels']+cols]\n",
        "    return df"
      ],
      "metadata": {
        "id": "gCAKumZtE3ZA"
      },
      "execution_count": null,
      "outputs": []
    },
    {
      "cell_type": "code",
      "source": [
        "check_bool_unique(data)"
      ],
      "metadata": {
        "colab": {
          "base_uri": "https://localhost:8080/"
        },
        "id": "n2US7rqIXYy6",
        "outputId": "34ff5768-4995-4eef-a320-0f50f378624e"
      },
      "execution_count": null,
      "outputs": [
        {
          "output_type": "stream",
          "name": "stdout",
          "text": [
            "GHGLabel [nan  0.  1.]\n",
            "NetzeroLabel [nan  0.  1.]\n",
            "ConditionalLabel [ True False]\n",
            "MitigationLabel [ True False]\n",
            "PolicyLabel [ 0.  1. nan]\n",
            "UnconditionalLabel [False  True]\n",
            "PlansLabel [ 1.  0. nan]\n",
            "ActionLabel [ 0.  1. nan]\n",
            "AdaptationLabel [False  True]\n",
            "NonGHGLabel [nan  0.  1.]\n",
            "TargetLabel [ 1.  0. nan]\n"
          ]
        }
      ]
    },
    {
      "cell_type": "markdown",
      "source": [
        "## Update << Annotated Data"
      ],
      "metadata": {
        "id": "f0dm7w8OLKd7"
      }
    },
    {
      "cell_type": "code",
      "source": [
        "import json\n",
        "path_to_folder = '/content/drive/MyDrive/Colab Notebooks/CPU/Annotation/'\n",
        "annotated_data = pd.read_json(path_to_folder + 'subtarget_annotated.json')\n",
        "# getting annotation based on status, setting up dictionary with key as text,\n",
        "# and annotation as values\n",
        "annotated_data['annotation'] = annotated_data.apply(lambda x:x['annotation']\n",
        "                                 if x['status'] == 'Validated' else None,axis=1)\n",
        "annotated_data['split'] = annotated_data.metadata.apply(lambda x:x['split'])\n",
        "annotated_data = annotated_data[['text','annotation', 'split']]\n",
        "text_label_dict = dict(zip(annotated_data['text'],annotated_data['annotation']))"
      ],
      "metadata": {
        "id": "0hyisApgLJPu"
      },
      "execution_count": null,
      "outputs": []
    },
    {
      "cell_type": "code",
      "source": [
        "label_names= ['GHGLabel','NetzeroLabel','NonGHGLabel']\n",
        "label_names.sort()\n",
        "\n",
        "# separating out dataframe which is annotated and part which doesnt need update\n",
        "# from annotated data\n",
        "sub_target_indexes = list(data.dropna(subset = label_names)\\\n",
        "                          .query(\"TargetLabel == True\").index.values)\n",
        "# dataframe which will be updated with subtarget annotation\n",
        "sub_target_df = data[data.index.isin(sub_target_indexes)]\n",
        "# dataframe which remains unaffected from annotations\n",
        "df = data.drop(sub_target_df.index)"
      ],
      "metadata": {
        "id": "bwTujwBuLlqh"
      },
      "execution_count": null,
      "outputs": []
    },
    {
      "cell_type": "code",
      "source": [
        "sub_target_df = sub_target_df.reset_index(drop=True)\n",
        "# annotation are done using only English Context (Union[Context, TranslatedContext])\n",
        "sub_target_df['text'] = sub_target_df.apply(lambda x: x['Context']\n",
        "                            if x['Language']=='en' else x['TranslatedContext'][0],axis=1)\n",
        "sub_target_df['subtargets'] = sub_target_df.apply(lambda x: text_label_dict[x['text']],axis=1)\n",
        "\n",
        "# updating the sub target labels\n",
        "label_names= ['GHGLabel','NetzeroLabel','NonGHGLabel']\n",
        "label_names.sort()\n",
        "for label in label_names:\n",
        "  sub_target_df[label] = sub_target_df.subtargets.apply(lambda x: None if x is None else\n",
        "                                             (True if label in x else False))"
      ],
      "metadata": {
        "id": "nYF2X5ojLaXv"
      },
      "execution_count": null,
      "outputs": []
    },
    {
      "cell_type": "code",
      "source": [
        "# metrics are same as in Annotation tool\n",
        "boolvalidate(sub_target_df,'NetzeroLabel')\n",
        "boolvalidate(sub_target_df,'GHGLabel')\n",
        "boolvalidate(sub_target_df,'NonGHGLabel')"
      ],
      "metadata": {
        "colab": {
          "base_uri": "https://localhost:8080/"
        },
        "id": "o3oQveprMr30",
        "outputId": "3f5b5198-b5d3-4fc5-bb11-196b7bb9a112"
      },
      "execution_count": null,
      "outputs": [
        {
          "output_type": "stream",
          "name": "stdout",
          "text": [
            "Total count 844\n",
            "NetzeroLabel count 133 Non NetzeroLabel count 696\n",
            "Missig values 15\n",
            "Total count 844\n",
            "GHGLabel count 500 Non GHGLabel count 329\n",
            "Missig values 15\n",
            "Total count 844\n",
            "NonGHGLabel count 298 Non NonGHGLabel count 531\n",
            "Missig values 15\n"
          ]
        }
      ]
    },
    {
      "cell_type": "code",
      "source": [
        "# updating labels in remaining dataframe\n",
        "df = df.reset_index(drop=True)\n",
        "for label in label_names:\n",
        "  df[label] = None\n",
        "sub_target_df.drop(columns = ['text','subtargets'],inplace=True)\n",
        "data = pd.concat([df,sub_target_df],ignore_index=True)"
      ],
      "metadata": {
        "id": "6Vhuqw0tKSN7"
      },
      "execution_count": null,
      "outputs": []
    },
    {
      "cell_type": "code",
      "source": [
        "train_df = data[data.split == 'Train'].reset_index(drop=True)\n",
        "test_df = data[data.split == 'Test'].reset_index(drop=True)"
      ],
      "metadata": {
        "id": "iXqbQ6N_AOf1"
      },
      "execution_count": null,
      "outputs": []
    },
    {
      "cell_type": "markdown",
      "source": [
        "# Update the test dataset"
      ],
      "metadata": {
        "id": "_RAsWewhlXAn"
      }
    },
    {
      "cell_type": "code",
      "source": [
        "train_df['Document'] = train_df['Document'].apply(lambda x:list(set(x)))\n",
        "test_df['Document'] = test_df['Document'].apply(lambda x:list(set(x)))"
      ],
      "metadata": {
        "id": "w1W-lpktsXI9"
      },
      "execution_count": null,
      "outputs": []
    },
    {
      "cell_type": "code",
      "source": [
        "from difflib import SequenceMatcher\n",
        "def find_matchpercentage(string1,alpha3, document, df):\n",
        "    temp =  df[df.Alpha3 == alpha3].reset_index(drop=True)\n",
        "    temp = temp[temp.Document.astype(str).str.contains(document)].reset_index(drop=True)\n",
        "    list_ = list(temp.Context)\n",
        "    placeholder = []\n",
        "    for string2 in list_:\n",
        "      placeholder.append(SequenceMatcher(None,string1,string2).ratio())\n",
        "    return max(placeholder)"
      ],
      "metadata": {
        "id": "nWsNHeQrqkln"
      },
      "execution_count": null,
      "outputs": []
    },
    {
      "cell_type": "code",
      "source": [
        "test_df['check'] = test_df.apply(lambda x: find_matchpercentage(x['Context'],\n",
        "                                                                x['Alpha3'],\n",
        "                                                                x['Document'][0],\n",
        "                                                                train_df),axis=1)"
      ],
      "metadata": {
        "id": "tLWg29BkyDrW"
      },
      "execution_count": null,
      "outputs": []
    },
    {
      "cell_type": "code",
      "source": [
        "import matplotlib.pyplot as plt\n",
        "\n",
        "fig, ax = plt.subplots(1,1, figsize = (10,6))\n",
        "counts, bins, patches = ax.hist(test_df.check, facecolor='yellow',edgecolor='gray')"
      ],
      "metadata": {
        "colab": {
          "base_uri": "https://localhost:8080/",
          "height": 522
        },
        "id": "V9yfJZG80EGE",
        "outputId": "26a444f6-0a7f-49d1-f92c-e2c0ac13248b"
      },
      "execution_count": null,
      "outputs": [
        {
          "output_type": "display_data",
          "data": {
            "text/plain": [
              "<Figure size 1000x600 with 1 Axes>"
            ],
            "image/png": "[encoded data removed]"
          },
          "metadata": {}
        }
      ]
    },
    {
      "cell_type": "code",
      "source": [
        "test_df = test_df[test_df.check < 0.66]\n",
        "test_df.drop(columns = ['check'],inplace=True)\n",
        "test_df =test_df.reset_index(drop=True)"
      ],
      "metadata": {
        "id": "3CxcU0fGoIyj"
      },
      "execution_count": null,
      "outputs": []
    },
    {
      "cell_type": "markdown",
      "source": [
        "# TAPP Information"
      ],
      "metadata": {
        "id": "4ZzAFTo2GwHW"
      }
    },
    {
      "cell_type": "code",
      "source": [
        "print(\"The TAPP Labels Information in Training Data \\n\")\n",
        "boolvalidate(train_df,'TargetLabel')\n",
        "boolvalidate(train_df,'ActionLabel')\n",
        "boolvalidate(train_df,'PolicyLabel')\n",
        "boolvalidate(train_df,'PlansLabel')"
      ],
      "metadata": {
        "colab": {
          "base_uri": "https://localhost:8080/"
        },
        "id": "y8eJEfmjG_LD",
        "outputId": "e33f6a15-1022-4b91-b6ae-06574421e357"
      },
      "execution_count": null,
      "outputs": [
        {
          "output_type": "stream",
          "name": "stdout",
          "text": [
            "The TAPP Labels Information in Training Data \n",
            "\n",
            "Total count 12538\n",
            "TargetLabel count 3611 Non TargetLabel count 8886\n",
            "Missig values 41\n",
            "Total count 12538\n",
            "ActionLabel count 5426 Non ActionLabel count 4669\n",
            "Missig values 2443\n",
            "Total count 12538\n",
            "PolicyLabel count 1399 Non PolicyLabel count 8695\n",
            "Missig values 2444\n",
            "Total count 12538\n",
            "PlansLabel count 2151 Non PlansLabel count 7972\n",
            "Missig values 2415\n"
          ]
        }
      ]
    },
    {
      "cell_type": "code",
      "source": [
        "label_names= ['TargetLabel','ActionLabel','PlansLabel','PolicyLabel']\n",
        "tapp_train = prepare_multilabel_df(train_df, label_names)\n",
        "print('\\n','Classes Representation in TAPP Training Dataset:',len(tapp_train))\n",
        "for i,label in enumerate(label_names):\n",
        "    print(i,\".\",label, \":\", sum( [x[i] for x in list(tapp_train['labels'])]))"
      ],
      "metadata": {
        "colab": {
          "base_uri": "https://localhost:8080/"
        },
        "id": "Fvm08S3bE9ku",
        "outputId": "b21758a8-ab07-4e8a-bb35-f15ce167eea9"
      },
      "execution_count": null,
      "outputs": [
        {
          "output_type": "stream",
          "name": "stdout",
          "text": [
            "\n",
            " Classes Representation in TAPP Training Dataset: 10031\n",
            "0 . TargetLabel : 2911\n",
            "1 . ActionLabel : 5416\n",
            "2 . PlansLabel : 2140\n",
            "3 . PolicyLabel : 1396\n"
          ]
        }
      ]
    },
    {
      "cell_type": "code",
      "source": [
        "print(\"The TAPP Labels Information in Test Data \\n\")\n",
        "boolvalidate(test_df,'TargetLabel')\n",
        "boolvalidate(test_df,'ActionLabel')\n",
        "boolvalidate(test_df,'PolicyLabel')\n",
        "boolvalidate(test_df,'PlansLabel')"
      ],
      "metadata": {
        "colab": {
          "base_uri": "https://localhost:8080/"
        },
        "id": "4UE1epZUUNUz",
        "outputId": "ecc38277-cc98-4156-d48d-9db6d95057bf"
      },
      "execution_count": null,
      "outputs": [
        {
          "output_type": "stream",
          "name": "stdout",
          "text": [
            "The TAPP Labels Information in Test Data \n",
            "\n",
            "Total count 1190\n",
            "TargetLabel count 335 Non TargetLabel count 853\n",
            "Missig values 2\n",
            "Total count 1190\n",
            "ActionLabel count 513 Non ActionLabel count 421\n",
            "Missig values 256\n",
            "Total count 1190\n",
            "PolicyLabel count 125 Non PolicyLabel count 811\n",
            "Missig values 254\n",
            "Total count 1190\n",
            "PlansLabel count 200 Non PlansLabel count 736\n",
            "Missig values 254\n"
          ]
        }
      ]
    },
    {
      "cell_type": "code",
      "source": [
        "label_names= ['TargetLabel','ActionLabel','PlansLabel','PolicyLabel']\n",
        "tapp_test = prepare_multilabel_df(test_df, label_names)\n",
        "print('\\n','Classes Representation in TAPP Test Dataset:',len(tapp_test))\n",
        "for i,label in enumerate(label_names):\n",
        "    print(i,\".\",label, \":\", sum( [x[i] for x in list(tapp_test['labels'])]))"
      ],
      "metadata": {
        "colab": {
          "base_uri": "https://localhost:8080/"
        },
        "id": "mAxvMcIeV-LY",
        "outputId": "422c4d73-2325-4f8c-80c7-26e45ee17ee1"
      },
      "execution_count": null,
      "outputs": [
        {
          "output_type": "stream",
          "name": "stdout",
          "text": [
            "\n",
            " Classes Representation in TAPP Test Dataset: 932\n",
            "0 . TargetLabel : 256\n",
            "1 . ActionLabel : 513\n",
            "2 . PlansLabel : 198\n",
            "3 . PolicyLabel : 122\n"
          ]
        }
      ]
    },
    {
      "cell_type": "markdown",
      "source": [
        "# AdapMit Information"
      ],
      "metadata": {
        "id": "D1I3Axf7XTOi"
      }
    },
    {
      "cell_type": "code",
      "source": [
        "print(\"The ADAPMIT Labels Information in Training Data \\n\")\n",
        "boolvalidate(train_df,'AdaptationLabel')\n",
        "boolvalidate(train_df,'MitigationLabel')"
      ],
      "metadata": {
        "colab": {
          "base_uri": "https://localhost:8080/"
        },
        "id": "k0-_KDKHXvm8",
        "outputId": "b7bfb987-a094-44a9-9fed-b4ff0676bf64"
      },
      "execution_count": null,
      "outputs": [
        {
          "output_type": "stream",
          "name": "stdout",
          "text": [
            "The ADAPMIT Labels Information in Training Data \n",
            "\n",
            "Total count 12538\n",
            "AdaptationLabel count 5439 Non AdaptationLabel count 7099\n",
            "Missig values 0\n",
            "Total count 12538\n",
            "MitigationLabel count 6659 Non MitigationLabel count 5879\n",
            "Missig values 0\n"
          ]
        }
      ]
    },
    {
      "cell_type": "code",
      "source": [
        "label_names= ['AdaptationLabel','MitigationLabel']\n",
        "adapmit_train = prepare_multilabel_df(train_df, label_names)\n",
        "print('\\n','Classes Representation in ADAPMIT Training Dataset:',len(adapmit_train))\n",
        "for i,label in enumerate(label_names):\n",
        "    print(i,\".\",label, \":\", sum( [x[i] for x in list(adapmit_train['labels'])]))"
      ],
      "metadata": {
        "colab": {
          "base_uri": "https://localhost:8080/"
        },
        "id": "mQSLbu7YYTRL",
        "outputId": "e70f8f5c-a976-457b-dc14-526627562881"
      },
      "execution_count": null,
      "outputs": [
        {
          "output_type": "stream",
          "name": "stdout",
          "text": [
            "\n",
            " Classes Representation in ADAPMIT Training Dataset: 12538\n",
            "0 . AdaptationLabel : 5439\n",
            "1 . MitigationLabel : 6659\n"
          ]
        }
      ]
    },
    {
      "cell_type": "code",
      "source": [
        "print(\"The ADAPMIT Labels Information in Test Data \\n\")\n",
        "boolvalidate(test_df,'AdaptationLabel')\n",
        "boolvalidate(test_df,'MitigationLabel')"
      ],
      "metadata": {
        "colab": {
          "base_uri": "https://localhost:8080/"
        },
        "id": "Uf47SBi4Zn5y",
        "outputId": "660b24c7-a014-44e9-c13c-015093e2b885"
      },
      "execution_count": null,
      "outputs": [
        {
          "output_type": "stream",
          "name": "stdout",
          "text": [
            "The ADAPMIT Labels Information in Test Data \n",
            "\n",
            "Total count 1190\n",
            "AdaptationLabel count 533 Non AdaptationLabel count 657\n",
            "Missig values 0\n",
            "Total count 1190\n",
            "MitigationLabel count 604 Non MitigationLabel count 586\n",
            "Missig values 0\n"
          ]
        }
      ]
    },
    {
      "cell_type": "code",
      "source": [
        "label_names= ['AdaptationLabel','MitigationLabel']\n",
        "adapmit_test = prepare_multilabel_df(test_df, label_names)\n",
        "print('\\n','Classes Representation in ADAPMIT Training Dataset:',len(adapmit_test))\n",
        "for i,label in enumerate(label_names):\n",
        "    print(i,\".\",label, \":\", sum( [x[i] for x in list(adapmit_test['labels'])]))"
      ],
      "metadata": {
        "colab": {
          "base_uri": "https://localhost:8080/"
        },
        "id": "PciEHccKaCSE",
        "outputId": "2ed2fd25-ac58-4a31-a2da-7a0dc9e1a4c0"
      },
      "execution_count": null,
      "outputs": [
        {
          "output_type": "stream",
          "name": "stdout",
          "text": [
            "\n",
            " Classes Representation in ADAPMIT Training Dataset: 1190\n",
            "0 . AdaptationLabel : 533\n",
            "1 . MitigationLabel : 604\n"
          ]
        }
      ]
    },
    {
      "cell_type": "markdown",
      "source": [
        "# Conditionality Information"
      ],
      "metadata": {
        "id": "xuhWajUwayG8"
      }
    },
    {
      "cell_type": "code",
      "source": [
        "print(\"The Conditional Labels Information in Training Data \\n\")\n",
        "boolvalidate(train_df,'ConditionalLabel')\n",
        "boolvalidate(train_df,'UnconditionalLabel')"
      ],
      "metadata": {
        "colab": {
          "base_uri": "https://localhost:8080/"
        },
        "id": "-Ue7wNuka7j1",
        "outputId": "f88825a9-5ef2-4cb4-d635-b7e67c31f35c"
      },
      "execution_count": null,
      "outputs": [
        {
          "output_type": "stream",
          "name": "stdout",
          "text": [
            "The Conditional Labels Information in Training Data \n",
            "\n",
            "Total count 12538\n",
            "ConditionalLabel count 1986 Non ConditionalLabel count 10552\n",
            "Missig values 0\n",
            "Total count 12538\n",
            "UnconditionalLabel count 1312 Non UnconditionalLabel count 11226\n",
            "Missig values 0\n"
          ]
        }
      ]
    },
    {
      "cell_type": "code",
      "source": [
        "print(\"The Conditional Labels Information in Test Data \\n\")\n",
        "boolvalidate(test_df,'ConditionalLabel')\n",
        "boolvalidate(test_df,'UnconditionalLabel')"
      ],
      "metadata": {
        "colab": {
          "base_uri": "https://localhost:8080/"
        },
        "id": "oaWkvFtCbhin",
        "outputId": "ffb62606-bc22-4248-d26c-2fbfaf4a2402"
      },
      "execution_count": null,
      "outputs": [
        {
          "output_type": "stream",
          "name": "stdout",
          "text": [
            "The Conditional Labels Information in Test Data \n",
            "\n",
            "Total count 1190\n",
            "ConditionalLabel count 192 Non ConditionalLabel count 998\n",
            "Missig values 0\n",
            "Total count 1190\n",
            "UnconditionalLabel count 136 Non UnconditionalLabel count 1054\n",
            "Missig values 0\n"
          ]
        }
      ]
    },
    {
      "cell_type": "code",
      "source": [
        "# # given the high imbalance in positive and negative examples, we downsample the\n",
        "# # negative examples\n",
        "data = train_df.copy()\n",
        "data['check'] = data.apply(lambda x: True if (x['UnconditionalLabel'] == True)\n",
        "                          or (x['ConditionalLabel'] == True) else False,axis=1)\n",
        "temp = data[data.check==True].reset_index(drop=True)\n",
        "print(len(temp))\n",
        "temp2 = data[data.check ==False].reset_index(drop=True).sample(frac= 0.3, random_state=42)\n",
        "print(len(temp2))\n",
        "df = pd.concat([temp,temp2], ignore_index=True)\n",
        "# conditional_train = df[df.split== 'Train'].reset_index(drop=True)\n",
        "# conditional_test = df[df.split=='Test'].reset_index(drop=True)"
      ],
      "metadata": {
        "colab": {
          "base_uri": "https://localhost:8080/"
        },
        "id": "oi0heLOis_WC",
        "outputId": "d7bca670-7454-4716-d103-f5d42f039275"
      },
      "execution_count": null,
      "outputs": [
        {
          "output_type": "stream",
          "name": "stdout",
          "text": [
            "3056\n",
            "2845\n"
          ]
        }
      ]
    },
    {
      "cell_type": "code",
      "source": [
        "label_names= ['ConditionalLabel','UnconditionalLabel']\n",
        "conditional_train = prepare_multilabel_df(df, label_names)\n",
        "print('\\n','Classes Representation in Conditionality Training Dataset:',len(conditional_train))\n",
        "for i,label in enumerate(label_names):\n",
        "    print(i,\".\",label, \":\", sum( [x[i] for x in list(conditional_train['labels'])]))"
      ],
      "metadata": {
        "colab": {
          "base_uri": "https://localhost:8080/"
        },
        "id": "G5bG7pfZdBcY",
        "outputId": "8012d04e-df2b-48ab-d20e-aaa0be237a54"
      },
      "execution_count": null,
      "outputs": [
        {
          "output_type": "stream",
          "name": "stdout",
          "text": [
            "\n",
            " Classes Representation in Conditionality Training Dataset: 5901\n",
            "0 . ConditionalLabel : 1986\n",
            "1 . UnconditionalLabel : 1312\n"
          ]
        }
      ]
    },
    {
      "cell_type": "markdown",
      "source": [
        "# Subtarget Information"
      ],
      "metadata": {
        "id": "HzaWF7Vh85NZ"
      }
    },
    {
      "cell_type": "code",
      "source": [
        "print(\"The Subtarget Labels Information in Training Data \\n\")\n",
        "boolvalidate(train_df,'NetzeroLabel')\n",
        "boolvalidate(train_df,'GHGLabel')\n",
        "boolvalidate(train_df,'NonGHGLabel')"
      ],
      "metadata": {
        "colab": {
          "base_uri": "https://localhost:8080/"
        },
        "id": "o8wWr3R2OIEC",
        "outputId": "8d7988fb-c3c7-4785-cde8-964582814126"
      },
      "execution_count": null,
      "outputs": [
        {
          "output_type": "stream",
          "name": "stdout",
          "text": [
            "The Subtarget Labels Information in Training Data \n",
            "\n",
            "Total count 12538\n",
            "NetzeroLabel count 120 Non NetzeroLabel count 608\n",
            "Missig values 11810\n",
            "Total count 12538\n",
            "GHGLabel count 440 Non GHGLabel count 288\n",
            "Missig values 11810\n",
            "Total count 12538\n",
            "NonGHGLabel count 259 Non NonGHGLabel count 469\n",
            "Missig values 11810\n"
          ]
        }
      ]
    },
    {
      "cell_type": "code",
      "source": [
        "print(\"The Subtarget Labels Information in Test Data \\n\")\n",
        "boolvalidate(test_df,'NetzeroLabel')\n",
        "boolvalidate(test_df,'GHGLabel')\n",
        "boolvalidate(test_df,'NonGHGLabel')"
      ],
      "metadata": {
        "colab": {
          "base_uri": "https://localhost:8080/"
        },
        "id": "tZa4b_pTOrJ_",
        "outputId": "ccfd8cfb-b55e-47e6-e558-02b8f463539a"
      },
      "execution_count": null,
      "outputs": [
        {
          "output_type": "stream",
          "name": "stdout",
          "text": [
            "The Subtarget Labels Information in Test Data \n",
            "\n",
            "Total count 1190\n",
            "NetzeroLabel count 11 Non NetzeroLabel count 69\n",
            "Missig values 1110\n",
            "Total count 1190\n",
            "GHGLabel count 49 Non GHGLabel count 31\n",
            "Missig values 1110\n",
            "Total count 1190\n",
            "NonGHGLabel count 30 Non NonGHGLabel count 50\n",
            "Missig values 1110\n"
          ]
        }
      ]
    },
    {
      "cell_type": "code",
      "source": [
        "label_names= ['NetzeroLabel','GHGLabel','NonGHGLabel']\n",
        "sub_train = prepare_multilabel_df(train_df, label_names)\n",
        "print('\\n','Classes Representation in Sub-Targets Training Dataset:',len(sub_train))\n",
        "for i,label in enumerate(label_names):\n",
        "    print(i,\".\",label, \":\", sum( [x[i] for x in list(sub_train['labels'])]))"
      ],
      "metadata": {
        "colab": {
          "base_uri": "https://localhost:8080/"
        },
        "id": "yJ4IT8QZPUfm",
        "outputId": "cd2d5e20-dce8-4216-96c0-32bac089273c"
      },
      "execution_count": null,
      "outputs": [
        {
          "output_type": "stream",
          "name": "stdout",
          "text": [
            "\n",
            " Classes Representation in Sub-Targets Training Dataset: 728\n",
            "0 . NetzeroLabel : 120\n",
            "1 . GHGLabel : 440\n",
            "2 . NonGHGLabel : 259\n"
          ]
        }
      ]
    },
    {
      "cell_type": "code",
      "source": [
        "sub_test = prepare_multilabel_df(test_df, label_names)\n",
        "print('\\n','Classes Representation in Sub-Targets Test Dataset:',len(sub_test))\n",
        "for i,label in enumerate(label_names):\n",
        "    print(i,\".\",label, \":\", sum( [x[i] for x in list(sub_test['labels'])]))"
      ],
      "metadata": {
        "colab": {
          "base_uri": "https://localhost:8080/"
        },
        "id": "TFlv0U29PyJZ",
        "outputId": "34b0aec4-1217-45c4-e6b5-005ecdd88f4b"
      },
      "execution_count": null,
      "outputs": [
        {
          "output_type": "stream",
          "name": "stdout",
          "text": [
            "\n",
            " Classes Representation in Sub-Targets Test Dataset: 80\n",
            "0 . NetzeroLabel : 11\n",
            "1 . GHGLabel : 49\n",
            "2 . NonGHGLabel : 30\n"
          ]
        }
      ]
    },
    {
      "cell_type": "markdown",
      "source": [
        "# Sector Information"
      ],
      "metadata": {
        "id": "AmqGOSxadTsE"
      }
    },
    {
      "cell_type": "code",
      "source": [
        "# sector data is not True/False, but a multilabel setting where if sector is\n",
        "# included is part of List\n",
        "sector_train_df = train_df.dropna(subset = ['SectorLabel']).reset_index(drop=True)\n",
        "sector_test_df = test_df.dropna(subset = ['SectorLabel']).reset_index(drop=True)\n",
        "sector_list = [val  for list_ in list(sector_train_df.SectorLabel) for val in list_]\n",
        "sector_list = list(set(sector_list))\n",
        "\n",
        "for sector in sector_list:\n",
        "    sector_train_df[sector] = sector_train_df.SectorLabel.apply(lambda x: True\n",
        "                                                      if sector in x else False)\n",
        "    sector_test_df[sector] = sector_test_df.SectorLabel.apply(lambda x: True\n",
        "                                                      if sector in x else False)\n",
        "\n",
        "# sector_train_df = sector_data[sector_data.split== 'Train'].reset_index(drop=True)\n",
        "# sector_test_df = sector_data[sector_data.split=='Test'].reset_index(drop=True)\n",
        "\n",
        "# creating multilabel dataset\n",
        "label_names=sector_list\n",
        "label_names.sort()\n",
        "sector_train_df = prepare_multilabel_df(sector_train_df, label_names)\n",
        "sector_test_df = prepare_multilabel_df(sector_test_df, label_names)"
      ],
      "metadata": {
        "id": "wb_S73jRdSbx"
      },
      "execution_count": null,
      "outputs": []
    },
    {
      "cell_type": "code",
      "source": [
        "print('\\n','Classes Representation in Training Dataset:',len(sector_train_df))\n",
        "for i,label in enumerate(label_names):\n",
        "    print(i,\".\",label, \":\", sum( [x[i] for x in list(sector_train_df['labels'])]))"
      ],
      "metadata": {
        "colab": {
          "base_uri": "https://localhost:8080/"
        },
        "id": "fSpehSzBE2VW",
        "outputId": "8e465270-be4d-4de5-9068-fe4b82246bd3"
      },
      "execution_count": null,
      "outputs": [
        {
          "output_type": "stream",
          "name": "stdout",
          "text": [
            "\n",
            " Classes Representation in Training Dataset: 10123\n",
            "0 . Agriculture : 2235\n",
            "1 . Buildings : 169\n",
            "2 . Coastal Zone : 698\n",
            "3 . Cross-Cutting Area : 1853\n",
            "4 . Disaster Risk Management (DRM) : 814\n",
            "5 . Economy-wide : 873\n",
            "6 . Education : 180\n",
            "7 . Energy : 2847\n",
            "8 . Environment : 905\n",
            "9 . Health : 662\n",
            "10 . Industries : 419\n",
            "11 . LULUCF/Forestry : 1861\n",
            "12 . Social Development : 507\n",
            "13 . Tourism : 192\n",
            "14 . Transport : 1173\n",
            "15 . Urban : 558\n",
            "16 . Waste : 714\n",
            "17 . Water : 1207\n"
          ]
        }
      ]
    },
    {
      "cell_type": "code",
      "source": [
        "print('\\n','Classes Representation in Test Dataset:',len(sector_test_df))\n",
        "for i,label in enumerate(label_names):\n",
        "    print(i,\".\",label, \":\", sum( [x[i] for x in list(sector_test_df['labels'])]))"
      ],
      "metadata": {
        "colab": {
          "base_uri": "https://localhost:8080/"
        },
        "id": "23myFAQBE8bR",
        "outputId": "6348c471-24ba-4865-b0cb-80894bd68da2"
      },
      "execution_count": null,
      "outputs": [
        {
          "output_type": "stream",
          "name": "stdout",
          "text": [
            "\n",
            " Classes Representation in Test Dataset: 936\n",
            "0 . Agriculture : 200\n",
            "1 . Buildings : 18\n",
            "2 . Coastal Zone : 71\n",
            "3 . Cross-Cutting Area : 180\n",
            "4 . Disaster Risk Management (DRM) : 85\n",
            "5 . Economy-wide : 85\n",
            "6 . Education : 23\n",
            "7 . Energy : 254\n",
            "8 . Environment : 91\n",
            "9 . Health : 68\n",
            "10 . Industries : 41\n",
            "11 . LULUCF/Forestry : 193\n",
            "12 . Social Development : 56\n",
            "13 . Tourism : 28\n",
            "14 . Transport : 107\n",
            "15 . Urban : 51\n",
            "16 . Waste : 59\n",
            "17 . Water : 106\n"
          ]
        }
      ]
    },
    {
      "cell_type": "markdown",
      "source": [
        "# Push changes to Dataset"
      ],
      "metadata": {
        "id": "hPCO-usbQqfn"
      }
    },
    {
      "cell_type": "code",
      "source": [
        "print(\"Size of Training data\", (len(train_df)))\n",
        "print(\"Size of Test data\", (len(test_df)))\n",
        "data = pd.concat([train_df, test_df], ignore_index = True)\n",
        "print(\"total size of data\", len(data))"
      ],
      "metadata": {
        "colab": {
          "base_uri": "https://localhost:8080/"
        },
        "id": "JB4cJqdYWi5c",
        "outputId": "17cd9856-d71c-467f-d426-d36c44248160"
      },
      "execution_count": null,
      "outputs": [
        {
          "output_type": "stream",
          "name": "stdout",
          "text": [
            "Size of Training data 12538\n",
            "Size of Test data 1190\n",
            "total size of data 13728\n"
          ]
        }
      ]
    },
    {
      "cell_type": "code",
      "source": [
        "# # save the to be published dataset\n",
        "import json\n",
        "jsonfile = data.to_json(orient=\"records\")\n",
        "parsed = json.loads(jsonfile)\n",
        "path_to_step6 = \"/content/drive/MyDrive/Colab Notebooks/CPU/dataset/Step6/\"\n",
        "with open(path_to_step6+ 'output/policy_classification.json', 'w') as file:\n",
        "    json.dump(parsed, file, indent=4)\n",
        "\n",
        "data.to_csv(path_to_step6 + 'output/policy_classification.csv')"
      ],
      "metadata": {
        "id": "crz4H7xjQpZK"
      },
      "execution_count": null,
      "outputs": []
    },
    {
      "cell_type": "code",
      "source": [
        "train_df.drop(columns = ['split'],inplace=True)\n",
        "test_df.drop(columns = ['split'],inplace=True)"
      ],
      "metadata": {
        "id": "g3A5hWP6YvJ-"
      },
      "execution_count": null,
      "outputs": []
    },
    {
      "cell_type": "code",
      "source": [
        "# # save the to be published dataset\n",
        "import json\n",
        "jsonfile = train_df.to_json(orient=\"records\")\n",
        "parsed = json.loads(jsonfile)\n",
        "path_to_step6 = \"/content/drive/MyDrive/Colab Notebooks/CPU/dataset/Step6/\"\n",
        "with open(path_to_step6+ 'output/policy_classification_train.json', 'w') as file:\n",
        "    json.dump(parsed, file, indent=4)\n",
        "\n",
        "\n",
        "jsonfile = test_df.to_json(orient=\"records\")\n",
        "parsed = json.loads(jsonfile)\n",
        "path_to_step6 = \"/content/drive/MyDrive/Colab Notebooks/CPU/dataset/Step6/\"\n",
        "with open(path_to_step6+ 'output/policy_classification_test.json', 'w') as file:\n",
        "    json.dump(parsed, file, indent=4)\n"
      ],
      "metadata": {
        "id": "C9dxfdHa6SXz"
      },
      "execution_count": null,
      "outputs": []
    }
  ]
}